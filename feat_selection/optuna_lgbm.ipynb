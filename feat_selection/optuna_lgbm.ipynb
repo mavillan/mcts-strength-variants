{
 "cells": [
  {
   "cell_type": "code",
   "execution_count": null,
   "id": "ec0de1ef",
   "metadata": {
    "execution": {
     "iopub.execute_input": "2024-09-28T16:04:18.614886Z",
     "iopub.status.busy": "2024-09-28T16:04:18.614417Z",
     "iopub.status.idle": "2024-09-28T16:04:20.615889Z",
     "shell.execute_reply": "2024-09-28T16:04:20.615481Z"
    },
    "papermill": {
     "duration": 2.008861,
     "end_time": "2024-09-28T16:04:20.617243",
     "exception": false,
     "start_time": "2024-09-28T16:04:18.608382",
     "status": "completed"
    },
    "tags": []
   },
   "outputs": [],
   "source": [
    "import numpy as np\n",
    "import pandas as pd\n",
    "import matplotlib.pyplot as plt\n",
    "from pathlib import Path\n",
    "\n",
    "import lightgbm as lgb\n",
    "from sklearn.model_selection import GroupKFold\n",
    "\n",
    "print(\"Lightgbm version:\", lgb.__version__)\n",
    "\n",
    "import optuna\n",
    "from optuna.visualization import (\n",
    "    plot_edf\n",
    "    , plot_optimization_history\n",
    "    , plot_parallel_coordinate\n",
    "    , plot_param_importances\n",
    "    , plot_slice\n",
    ")\n",
    "\n",
    "print(\"Optuna version:\", optuna.__version__)\n",
    "\n",
    "# local modules\n",
    "import sys\n",
    "sys.path.append(\"../src\")\n",
    "from preproc import process_train_data, process_test_data"
   ]
  },
  {
   "cell_type": "markdown",
   "id": "5b24d8a2",
   "metadata": {
    "papermill": {
     "duration": 0.001015,
     "end_time": "2024-09-28T16:04:20.619996",
     "exception": false,
     "start_time": "2024-09-28T16:04:20.618981",
     "status": "completed"
    },
    "tags": []
   },
   "source": [
    "***\n",
    "### load and preprocess data"
   ]
  },
  {
   "cell_type": "code",
   "execution_count": null,
   "id": "7c89cd9d",
   "metadata": {
    "execution": {
     "iopub.execute_input": "2024-09-28T16:04:20.622626Z",
     "iopub.status.busy": "2024-09-28T16:04:20.622407Z",
     "iopub.status.idle": "2024-09-28T16:04:26.979221Z",
     "shell.execute_reply": "2024-09-28T16:04:26.978970Z"
    },
    "papermill": {
     "duration": 6.359162,
     "end_time": "2024-09-28T16:04:26.980076",
     "exception": false,
     "start_time": "2024-09-28T16:04:20.620914",
     "status": "completed"
    },
    "tags": []
   },
   "outputs": [],
   "source": [
    "# define some paths\n",
    "path_raw = Path(\"../data/raw\")\n",
    "path_processed = Path(\"../data/processed\")\n",
    "path_results = Path(\"../data/results\")\n",
    "\n",
    "# load data\n",
    "df_train = pd.read_csv(path_raw / \"train.csv\")\n",
    "df_test = pd.read_csv(path_raw / \"test.csv\")\n",
    "\n",
    "df_train"
   ]
  },
  {
   "cell_type": "code",
   "execution_count": null,
   "id": "09260e31",
   "metadata": {
    "execution": {
     "iopub.execute_input": "2024-09-28T16:04:26.983331Z",
     "iopub.status.busy": "2024-09-28T16:04:26.983213Z",
     "iopub.status.idle": "2024-09-28T16:04:29.602463Z",
     "shell.execute_reply": "2024-09-28T16:04:29.602165Z"
    },
    "papermill": {
     "duration": 2.621724,
     "end_time": "2024-09-28T16:04:29.603422",
     "exception": false,
     "start_time": "2024-09-28T16:04:26.981698",
     "status": "completed"
    },
    "tags": []
   },
   "outputs": [],
   "source": [
    "# Call the function\n",
    "df_train, numerical_cols, categorical_cols, encoder, scaler = process_train_data(\n",
    "    df_train,\n",
    "    scale=False\n",
    ")\n",
    "\n",
    "# Print the results\n",
    "print(\"Numerical Columns:\", len(numerical_cols))\n",
    "print(\"Categorical Columns:\", len(categorical_cols))"
   ]
  },
  {
   "cell_type": "markdown",
   "id": "585a47da",
   "metadata": {
    "papermill": {
     "duration": 0.001529,
     "end_time": "2024-09-28T16:04:31.215374",
     "exception": false,
     "start_time": "2024-09-28T16:04:31.213845",
     "status": "completed"
    },
    "tags": []
   },
   "source": [
    "***\n",
    "### optimization\n",
    "\n"
   ]
  },
  {
   "cell_type": "code",
   "execution_count": 4,
   "id": "8ddbd0c4",
   "metadata": {},
   "outputs": [],
   "source": [
    "# Define the number of folds for cross-validation\n",
    "num_folds = 5\n",
    "\n",
    "# Shuffle the train dataset\n",
    "df_train = df_train.sample(frac=1, random_state=2112).reset_index(drop=True)\n",
    "\n",
    "# Define the column for stratified or group k-fold\n",
    "groups_col = 'GameRulesetName'\n",
    "gkf = GroupKFold(n_splits=num_folds)\n",
    "split_list = list(gkf.split(df_train, groups=df_train[groups_col]))"
   ]
  },
  {
   "cell_type": "code",
   "execution_count": 5,
   "id": "152941ef",
   "metadata": {
    "execution": {
     "iopub.execute_input": "2024-09-28T16:04:31.218863Z",
     "iopub.status.busy": "2024-09-28T16:04:31.218731Z",
     "iopub.status.idle": "2024-09-28T16:37:09.743302Z",
     "shell.execute_reply": "2024-09-28T16:37:09.742956Z"
    },
    "papermill": {
     "duration": 1958.527376,
     "end_time": "2024-09-28T16:37:09.744195",
     "exception": false,
     "start_time": "2024-09-28T16:04:31.216819",
     "status": "completed"
    },
    "tags": []
   },
   "outputs": [],
   "source": [
    "def train_and_score(numerical_cols, categorical_cols):\n",
    "\n",
    "    # Define the parameters\n",
    "    params = {\n",
    "        'objective': \"regression\",\n",
    "        'metric': 'rmse',\n",
    "        'boosting_type': 'gbdt',\n",
    "        'num_leaves': 31,\n",
    "        'max_depth': 10,\n",
    "        'learning_rate': 0.1,\n",
    "        'reg_alpha': 1e-1,\n",
    "        'reg_lambda': 1e-1,\n",
    "        'feature_fraction': 0.8,\n",
    "        'verbose': -1,\n",
    "        'seed': 2112,\n",
    "    }\n",
    "\n",
    "    target = 'utility_agent1'\n",
    "    oof_scores = []\n",
    "\n",
    "    # Perform cross-validation\n",
    "    for _, (train_index, val_index) in enumerate(split_list, 1):\n",
    "        # Split the data\n",
    "        X_train, X_val = df_train.iloc[train_index], df_train.iloc[val_index]\n",
    "        y_train, y_val = X_train[target], X_val[target]\n",
    "        \n",
    "        # Create LightGBM datasets\n",
    "        train_data = lgb.Dataset(\n",
    "            data=X_train[numerical_cols + categorical_cols],\n",
    "            label=y_train,\n",
    "            categorical_feature=categorical_cols,\n",
    "            free_raw_data=True\n",
    "        )\n",
    "        val_data = lgb.Dataset(\n",
    "            data=X_val[numerical_cols + categorical_cols],\n",
    "            label=y_val,\n",
    "            categorical_feature=categorical_cols,\n",
    "            free_raw_data=True\n",
    "        )\n",
    "\n",
    "        # Train the model\n",
    "        model = lgb.train(\n",
    "            params,\n",
    "            train_data,\n",
    "            num_boost_round=1000,\n",
    "            valid_sets=[val_data],\n",
    "        )\n",
    "\n",
    "        # predict on validation set\n",
    "        y_pred = model.predict(X_val[numerical_cols + categorical_cols])\n",
    "        y_pred = np.clip(y_pred, -1, 1)\n",
    "        \n",
    "        # Compute RMSE on scaled values\n",
    "        rmse = np.sqrt(np.mean((y_pred - y_val) ** 2))\n",
    "        oof_scores.append(rmse)\n",
    "\n",
    "    return np.mean(oof_scores)\n"
   ]
  },
  {
   "cell_type": "code",
   "execution_count": 6,
   "id": "b39cc955",
   "metadata": {},
   "outputs": [],
   "source": [
    "def objective(trial):\n",
    "    # Feature selection\n",
    "    selected_numerical = [col for col in numerical_cols if trial.suggest_int(f'use_{col}', 0, 1) == 1]\n",
    "    selected_categorical = [col for col in categorical_cols if trial.suggest_int(f'use_{col}', 0, 1) == 1]\n",
    "        \n",
    "    # Call the train_and_score function with selected features\n",
    "    score = train_and_score(selected_numerical, selected_categorical)\n",
    "    \n",
    "    return score"
   ]
  },
  {
   "cell_type": "code",
   "execution_count": null,
   "id": "34a288b0",
   "metadata": {},
   "outputs": [],
   "source": [
    "do_optimize = True\n",
    "timeout = 3600 * 13\n",
    "\n",
    "study = optuna.create_study(\n",
    "    study_name=\"optuna_lgbm\",\n",
    "    direction='minimize',\n",
    "    storage='sqlite:///optuna_lgbm.db',\n",
    "    load_if_exists=True,\n",
    ")\n",
    "\n",
    "if do_optimize:\n",
    "\n",
    "    # manually enqueueing a trial with all features\n",
    "    trial_params = {f'use_{col}': 1 for col in numerical_cols + categorical_cols}\n",
    "    study.enqueue_trial(trial_params)\n",
    "\n",
    "    study.optimize(\n",
    "        objective, \n",
    "        n_trials=100000, \n",
    "        timeout=timeout,\n",
    "        n_jobs=1, \n",
    "        gc_after_trial=True,\n",
    "    ) "
   ]
  },
  {
   "cell_type": "code",
   "execution_count": null,
   "id": "dbd79020",
   "metadata": {},
   "outputs": [],
   "source": [
    "study.trials_dataframe().sort_values(\"value\", ascending=False).head(20)"
   ]
  },
  {
   "cell_type": "markdown",
   "id": "53d61265",
   "metadata": {
    "papermill": {
     "duration": 0.009315,
     "end_time": "2024-09-28T16:37:09.917683",
     "exception": false,
     "start_time": "2024-09-28T16:37:09.908368",
     "status": "completed"
    },
    "tags": []
   },
   "source": [
    "***"
   ]
  }
 ],
 "metadata": {
  "kernelspec": {
   "display_name": "mcts-strength-variants-kSTIVMm8-py3.10",
   "language": "python",
   "name": "python3"
  },
  "language_info": {
   "codemirror_mode": {
    "name": "ipython",
    "version": 3
   },
   "file_extension": ".py",
   "mimetype": "text/x-python",
   "name": "python",
   "nbconvert_exporter": "python",
   "pygments_lexer": "ipython3",
   "version": "3.10.13"
  },
  "papermill": {
   "default_parameters": {},
   "duration": 1972.608458,
   "end_time": "2024-09-28T16:37:10.248961",
   "environment_variables": {},
   "exception": null,
   "input_path": "train/lightgbm.ipynb",
   "output_path": "train/outputs/lightgbm.ipynb",
   "parameters": {},
   "start_time": "2024-09-28T16:04:17.640503",
   "version": "2.6.0"
  }
 },
 "nbformat": 4,
 "nbformat_minor": 5
}
