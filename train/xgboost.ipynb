{
 "cells": [
  {
   "cell_type": "code",
   "execution_count": 1,
   "id": "5bc9957d",
   "metadata": {
    "execution": {
     "iopub.execute_input": "2024-11-22T23:09:17.254433Z",
     "iopub.status.busy": "2024-11-22T23:09:17.254127Z",
     "iopub.status.idle": "2024-11-22T23:09:17.924615Z",
     "shell.execute_reply": "2024-11-22T23:09:17.924304Z"
    },
    "papermill": {
     "duration": 0.681176,
     "end_time": "2024-11-22T23:09:17.925404",
     "exception": false,
     "start_time": "2024-11-22T23:09:17.244228",
     "status": "completed"
    },
    "tags": []
   },
   "outputs": [
    {
     "name": "stdout",
     "output_type": "stream",
     "text": [
      "xgb.__version__: 2.1.1\n"
     ]
    }
   ],
   "source": [
    "import numpy as np\n",
    "import pandas as pd\n",
    "import matplotlib.pyplot as plt\n",
    "from pathlib import Path\n",
    "import json\n",
    "import pickle\n",
    "\n",
    "import xgboost as xgb\n",
    "print(\"xgb.__version__:\", xgb.__version__)\n",
    "\n",
    "# local modules\n",
    "import sys\n",
    "sys.path.append(\"../src\")\n",
    "from preproc import process_train_data, process_test_data"
   ]
  },
  {
   "cell_type": "markdown",
   "id": "7e3cdb68",
   "metadata": {
    "papermill": {
     "duration": 0.001508,
     "end_time": "2024-11-22T23:09:17.929371",
     "exception": false,
     "start_time": "2024-11-22T23:09:17.927863",
     "status": "completed"
    },
    "tags": []
   },
   "source": [
    "***\n",
    "### load and preprocess data"
   ]
  },
  {
   "cell_type": "code",
   "execution_count": 2,
   "id": "adf69315",
   "metadata": {
    "execution": {
     "iopub.execute_input": "2024-11-22T23:09:17.932833Z",
     "iopub.status.busy": "2024-11-22T23:09:17.932686Z",
     "iopub.status.idle": "2024-11-22T23:09:24.612086Z",
     "shell.execute_reply": "2024-11-22T23:09:24.611762Z"
    },
    "papermill": {
     "duration": 6.682012,
     "end_time": "2024-11-22T23:09:24.612857",
     "exception": false,
     "start_time": "2024-11-22T23:09:17.930845",
     "status": "completed"
    },
    "tags": []
   },
   "outputs": [
    {
     "data": {
      "text/html": [
       "<div>\n",
       "<style scoped>\n",
       "    .dataframe tbody tr th:only-of-type {\n",
       "        vertical-align: middle;\n",
       "    }\n",
       "\n",
       "    .dataframe tbody tr th {\n",
       "        vertical-align: top;\n",
       "    }\n",
       "\n",
       "    .dataframe thead th {\n",
       "        text-align: right;\n",
       "    }\n",
       "</style>\n",
       "<table border=\"1\" class=\"dataframe\">\n",
       "  <thead>\n",
       "    <tr style=\"text-align: right;\">\n",
       "      <th></th>\n",
       "      <th>Id</th>\n",
       "      <th>GameRulesetName</th>\n",
       "      <th>agent1</th>\n",
       "      <th>agent2</th>\n",
       "      <th>Properties</th>\n",
       "      <th>Format</th>\n",
       "      <th>Time</th>\n",
       "      <th>Discrete</th>\n",
       "      <th>Realtime</th>\n",
       "      <th>Turns</th>\n",
       "      <th>...</th>\n",
       "      <th>DoLudeme</th>\n",
       "      <th>Trigger</th>\n",
       "      <th>PlayoutsPerSecond</th>\n",
       "      <th>MovesPerSecond</th>\n",
       "      <th>EnglishRules</th>\n",
       "      <th>LudRules</th>\n",
       "      <th>num_wins_agent1</th>\n",
       "      <th>num_draws_agent1</th>\n",
       "      <th>num_losses_agent1</th>\n",
       "      <th>utility_agent1</th>\n",
       "    </tr>\n",
       "  </thead>\n",
       "  <tbody>\n",
       "    <tr>\n",
       "      <th>0</th>\n",
       "      <td>0</td>\n",
       "      <td>00Y</td>\n",
       "      <td>MCTS-ProgressiveHistory-0.1-MAST-false</td>\n",
       "      <td>MCTS-ProgressiveHistory-0.6-Random200-false</td>\n",
       "      <td>1</td>\n",
       "      <td>1</td>\n",
       "      <td>1</td>\n",
       "      <td>1</td>\n",
       "      <td>0</td>\n",
       "      <td>1</td>\n",
       "      <td>...</td>\n",
       "      <td>0</td>\n",
       "      <td>1</td>\n",
       "      <td>298.07</td>\n",
       "      <td>18877.17</td>\n",
       "      <td>Goal: Connect all three edge colors with a sin...</td>\n",
       "      <td>(game \"00'Y'\" (players 2) (equipment { (board ...</td>\n",
       "      <td>4</td>\n",
       "      <td>0</td>\n",
       "      <td>11</td>\n",
       "      <td>-0.466667</td>\n",
       "    </tr>\n",
       "    <tr>\n",
       "      <th>1</th>\n",
       "      <td>1</td>\n",
       "      <td>00Y</td>\n",
       "      <td>MCTS-ProgressiveHistory-0.1-MAST-false</td>\n",
       "      <td>MCTS-UCB1GRAVE-0.6-NST-true</td>\n",
       "      <td>1</td>\n",
       "      <td>1</td>\n",
       "      <td>1</td>\n",
       "      <td>1</td>\n",
       "      <td>0</td>\n",
       "      <td>1</td>\n",
       "      <td>...</td>\n",
       "      <td>0</td>\n",
       "      <td>1</td>\n",
       "      <td>298.07</td>\n",
       "      <td>18877.17</td>\n",
       "      <td>Goal: Connect all three edge colors with a sin...</td>\n",
       "      <td>(game \"00'Y'\" (players 2) (equipment { (board ...</td>\n",
       "      <td>5</td>\n",
       "      <td>0</td>\n",
       "      <td>10</td>\n",
       "      <td>-0.333333</td>\n",
       "    </tr>\n",
       "    <tr>\n",
       "      <th>2</th>\n",
       "      <td>2</td>\n",
       "      <td>00Y</td>\n",
       "      <td>MCTS-ProgressiveHistory-0.1-MAST-true</td>\n",
       "      <td>MCTS-UCB1-0.1-NST-false</td>\n",
       "      <td>1</td>\n",
       "      <td>1</td>\n",
       "      <td>1</td>\n",
       "      <td>1</td>\n",
       "      <td>0</td>\n",
       "      <td>1</td>\n",
       "      <td>...</td>\n",
       "      <td>0</td>\n",
       "      <td>1</td>\n",
       "      <td>298.07</td>\n",
       "      <td>18877.17</td>\n",
       "      <td>Goal: Connect all three edge colors with a sin...</td>\n",
       "      <td>(game \"00'Y'\" (players 2) (equipment { (board ...</td>\n",
       "      <td>7</td>\n",
       "      <td>0</td>\n",
       "      <td>8</td>\n",
       "      <td>-0.066667</td>\n",
       "    </tr>\n",
       "    <tr>\n",
       "      <th>3</th>\n",
       "      <td>3</td>\n",
       "      <td>00Y</td>\n",
       "      <td>MCTS-ProgressiveHistory-0.1-MAST-true</td>\n",
       "      <td>MCTS-UCB1-0.6-NST-false</td>\n",
       "      <td>1</td>\n",
       "      <td>1</td>\n",
       "      <td>1</td>\n",
       "      <td>1</td>\n",
       "      <td>0</td>\n",
       "      <td>1</td>\n",
       "      <td>...</td>\n",
       "      <td>0</td>\n",
       "      <td>1</td>\n",
       "      <td>298.07</td>\n",
       "      <td>18877.17</td>\n",
       "      <td>Goal: Connect all three edge colors with a sin...</td>\n",
       "      <td>(game \"00'Y'\" (players 2) (equipment { (board ...</td>\n",
       "      <td>5</td>\n",
       "      <td>0</td>\n",
       "      <td>10</td>\n",
       "      <td>-0.333333</td>\n",
       "    </tr>\n",
       "    <tr>\n",
       "      <th>4</th>\n",
       "      <td>4</td>\n",
       "      <td>00Y</td>\n",
       "      <td>MCTS-ProgressiveHistory-0.1-MAST-true</td>\n",
       "      <td>MCTS-UCB1GRAVE-1.41421356237-NST-false</td>\n",
       "      <td>1</td>\n",
       "      <td>1</td>\n",
       "      <td>1</td>\n",
       "      <td>1</td>\n",
       "      <td>0</td>\n",
       "      <td>1</td>\n",
       "      <td>...</td>\n",
       "      <td>0</td>\n",
       "      <td>1</td>\n",
       "      <td>298.07</td>\n",
       "      <td>18877.17</td>\n",
       "      <td>Goal: Connect all three edge colors with a sin...</td>\n",
       "      <td>(game \"00'Y'\" (players 2) (equipment { (board ...</td>\n",
       "      <td>5</td>\n",
       "      <td>0</td>\n",
       "      <td>10</td>\n",
       "      <td>-0.333333</td>\n",
       "    </tr>\n",
       "    <tr>\n",
       "      <th>...</th>\n",
       "      <td>...</td>\n",
       "      <td>...</td>\n",
       "      <td>...</td>\n",
       "      <td>...</td>\n",
       "      <td>...</td>\n",
       "      <td>...</td>\n",
       "      <td>...</td>\n",
       "      <td>...</td>\n",
       "      <td>...</td>\n",
       "      <td>...</td>\n",
       "      <td>...</td>\n",
       "      <td>...</td>\n",
       "      <td>...</td>\n",
       "      <td>...</td>\n",
       "      <td>...</td>\n",
       "      <td>...</td>\n",
       "      <td>...</td>\n",
       "      <td>...</td>\n",
       "      <td>...</td>\n",
       "      <td>...</td>\n",
       "      <td>...</td>\n",
       "    </tr>\n",
       "    <tr>\n",
       "      <th>233229</th>\n",
       "      <td>233229</td>\n",
       "      <td>Zuz_Mel_7x7</td>\n",
       "      <td>MCTS-UCB1Tuned-1.41421356237-NST-false</td>\n",
       "      <td>MCTS-ProgressiveHistory-1.41421356237-Random20...</td>\n",
       "      <td>1</td>\n",
       "      <td>1</td>\n",
       "      <td>1</td>\n",
       "      <td>1</td>\n",
       "      <td>0</td>\n",
       "      <td>1</td>\n",
       "      <td>...</td>\n",
       "      <td>0</td>\n",
       "      <td>0</td>\n",
       "      <td>157.52</td>\n",
       "      <td>157174.58</td>\n",
       "      <td>7x7 board. 24 pieces per player. Pieces begin ...</td>\n",
       "      <td>(game \"Zuz Mel (7x7)\" (players 2) (equipment {...</td>\n",
       "      <td>2</td>\n",
       "      <td>0</td>\n",
       "      <td>13</td>\n",
       "      <td>-0.733333</td>\n",
       "    </tr>\n",
       "    <tr>\n",
       "      <th>233230</th>\n",
       "      <td>233230</td>\n",
       "      <td>Zuz_Mel_7x7</td>\n",
       "      <td>MCTS-UCB1Tuned-1.41421356237-Random200-false</td>\n",
       "      <td>MCTS-UCB1-0.6-MAST-false</td>\n",
       "      <td>1</td>\n",
       "      <td>1</td>\n",
       "      <td>1</td>\n",
       "      <td>1</td>\n",
       "      <td>0</td>\n",
       "      <td>1</td>\n",
       "      <td>...</td>\n",
       "      <td>0</td>\n",
       "      <td>0</td>\n",
       "      <td>157.52</td>\n",
       "      <td>157174.58</td>\n",
       "      <td>7x7 board. 24 pieces per player. Pieces begin ...</td>\n",
       "      <td>(game \"Zuz Mel (7x7)\" (players 2) (equipment {...</td>\n",
       "      <td>9</td>\n",
       "      <td>1</td>\n",
       "      <td>5</td>\n",
       "      <td>0.266667</td>\n",
       "    </tr>\n",
       "    <tr>\n",
       "      <th>233231</th>\n",
       "      <td>233231</td>\n",
       "      <td>Zuz_Mel_7x7</td>\n",
       "      <td>MCTS-UCB1Tuned-1.41421356237-Random200-false</td>\n",
       "      <td>MCTS-UCB1GRAVE-1.41421356237-NST-false</td>\n",
       "      <td>1</td>\n",
       "      <td>1</td>\n",
       "      <td>1</td>\n",
       "      <td>1</td>\n",
       "      <td>0</td>\n",
       "      <td>1</td>\n",
       "      <td>...</td>\n",
       "      <td>0</td>\n",
       "      <td>0</td>\n",
       "      <td>157.52</td>\n",
       "      <td>157174.58</td>\n",
       "      <td>7x7 board. 24 pieces per player. Pieces begin ...</td>\n",
       "      <td>(game \"Zuz Mel (7x7)\" (players 2) (equipment {...</td>\n",
       "      <td>11</td>\n",
       "      <td>3</td>\n",
       "      <td>1</td>\n",
       "      <td>0.666667</td>\n",
       "    </tr>\n",
       "    <tr>\n",
       "      <th>233232</th>\n",
       "      <td>233232</td>\n",
       "      <td>Zuz_Mel_7x7</td>\n",
       "      <td>MCTS-UCB1Tuned-1.41421356237-Random200-false</td>\n",
       "      <td>MCTS-UCB1GRAVE-1.41421356237-NST-true</td>\n",
       "      <td>1</td>\n",
       "      <td>1</td>\n",
       "      <td>1</td>\n",
       "      <td>1</td>\n",
       "      <td>0</td>\n",
       "      <td>1</td>\n",
       "      <td>...</td>\n",
       "      <td>0</td>\n",
       "      <td>0</td>\n",
       "      <td>157.52</td>\n",
       "      <td>157174.58</td>\n",
       "      <td>7x7 board. 24 pieces per player. Pieces begin ...</td>\n",
       "      <td>(game \"Zuz Mel (7x7)\" (players 2) (equipment {...</td>\n",
       "      <td>24</td>\n",
       "      <td>2</td>\n",
       "      <td>4</td>\n",
       "      <td>0.666667</td>\n",
       "    </tr>\n",
       "    <tr>\n",
       "      <th>233233</th>\n",
       "      <td>233233</td>\n",
       "      <td>Zuz_Mel_7x7</td>\n",
       "      <td>MCTS-UCB1Tuned-1.41421356237-Random200-true</td>\n",
       "      <td>MCTS-UCB1Tuned-0.6-MAST-false</td>\n",
       "      <td>1</td>\n",
       "      <td>1</td>\n",
       "      <td>1</td>\n",
       "      <td>1</td>\n",
       "      <td>0</td>\n",
       "      <td>1</td>\n",
       "      <td>...</td>\n",
       "      <td>0</td>\n",
       "      <td>0</td>\n",
       "      <td>157.52</td>\n",
       "      <td>157174.58</td>\n",
       "      <td>7x7 board. 24 pieces per player. Pieces begin ...</td>\n",
       "      <td>(game \"Zuz Mel (7x7)\" (players 2) (equipment {...</td>\n",
       "      <td>9</td>\n",
       "      <td>1</td>\n",
       "      <td>5</td>\n",
       "      <td>0.266667</td>\n",
       "    </tr>\n",
       "  </tbody>\n",
       "</table>\n",
       "<p>233234 rows × 814 columns</p>\n",
       "</div>"
      ],
      "text/plain": [
       "            Id GameRulesetName                                        agent1  \\\n",
       "0            0             00Y        MCTS-ProgressiveHistory-0.1-MAST-false   \n",
       "1            1             00Y        MCTS-ProgressiveHistory-0.1-MAST-false   \n",
       "2            2             00Y         MCTS-ProgressiveHistory-0.1-MAST-true   \n",
       "3            3             00Y         MCTS-ProgressiveHistory-0.1-MAST-true   \n",
       "4            4             00Y         MCTS-ProgressiveHistory-0.1-MAST-true   \n",
       "...        ...             ...                                           ...   \n",
       "233229  233229     Zuz_Mel_7x7        MCTS-UCB1Tuned-1.41421356237-NST-false   \n",
       "233230  233230     Zuz_Mel_7x7  MCTS-UCB1Tuned-1.41421356237-Random200-false   \n",
       "233231  233231     Zuz_Mel_7x7  MCTS-UCB1Tuned-1.41421356237-Random200-false   \n",
       "233232  233232     Zuz_Mel_7x7  MCTS-UCB1Tuned-1.41421356237-Random200-false   \n",
       "233233  233233     Zuz_Mel_7x7   MCTS-UCB1Tuned-1.41421356237-Random200-true   \n",
       "\n",
       "                                                   agent2  Properties  Format  \\\n",
       "0             MCTS-ProgressiveHistory-0.6-Random200-false           1       1   \n",
       "1                             MCTS-UCB1GRAVE-0.6-NST-true           1       1   \n",
       "2                                 MCTS-UCB1-0.1-NST-false           1       1   \n",
       "3                                 MCTS-UCB1-0.6-NST-false           1       1   \n",
       "4                  MCTS-UCB1GRAVE-1.41421356237-NST-false           1       1   \n",
       "...                                                   ...         ...     ...   \n",
       "233229  MCTS-ProgressiveHistory-1.41421356237-Random20...           1       1   \n",
       "233230                           MCTS-UCB1-0.6-MAST-false           1       1   \n",
       "233231             MCTS-UCB1GRAVE-1.41421356237-NST-false           1       1   \n",
       "233232              MCTS-UCB1GRAVE-1.41421356237-NST-true           1       1   \n",
       "233233                      MCTS-UCB1Tuned-0.6-MAST-false           1       1   \n",
       "\n",
       "        Time  Discrete  Realtime  Turns  ...  DoLudeme  Trigger  \\\n",
       "0          1         1         0      1  ...         0        1   \n",
       "1          1         1         0      1  ...         0        1   \n",
       "2          1         1         0      1  ...         0        1   \n",
       "3          1         1         0      1  ...         0        1   \n",
       "4          1         1         0      1  ...         0        1   \n",
       "...      ...       ...       ...    ...  ...       ...      ...   \n",
       "233229     1         1         0      1  ...         0        0   \n",
       "233230     1         1         0      1  ...         0        0   \n",
       "233231     1         1         0      1  ...         0        0   \n",
       "233232     1         1         0      1  ...         0        0   \n",
       "233233     1         1         0      1  ...         0        0   \n",
       "\n",
       "        PlayoutsPerSecond  MovesPerSecond  \\\n",
       "0                  298.07        18877.17   \n",
       "1                  298.07        18877.17   \n",
       "2                  298.07        18877.17   \n",
       "3                  298.07        18877.17   \n",
       "4                  298.07        18877.17   \n",
       "...                   ...             ...   \n",
       "233229             157.52       157174.58   \n",
       "233230             157.52       157174.58   \n",
       "233231             157.52       157174.58   \n",
       "233232             157.52       157174.58   \n",
       "233233             157.52       157174.58   \n",
       "\n",
       "                                             EnglishRules  \\\n",
       "0       Goal: Connect all three edge colors with a sin...   \n",
       "1       Goal: Connect all three edge colors with a sin...   \n",
       "2       Goal: Connect all three edge colors with a sin...   \n",
       "3       Goal: Connect all three edge colors with a sin...   \n",
       "4       Goal: Connect all three edge colors with a sin...   \n",
       "...                                                   ...   \n",
       "233229  7x7 board. 24 pieces per player. Pieces begin ...   \n",
       "233230  7x7 board. 24 pieces per player. Pieces begin ...   \n",
       "233231  7x7 board. 24 pieces per player. Pieces begin ...   \n",
       "233232  7x7 board. 24 pieces per player. Pieces begin ...   \n",
       "233233  7x7 board. 24 pieces per player. Pieces begin ...   \n",
       "\n",
       "                                                 LudRules  num_wins_agent1  \\\n",
       "0       (game \"00'Y'\" (players 2) (equipment { (board ...                4   \n",
       "1       (game \"00'Y'\" (players 2) (equipment { (board ...                5   \n",
       "2       (game \"00'Y'\" (players 2) (equipment { (board ...                7   \n",
       "3       (game \"00'Y'\" (players 2) (equipment { (board ...                5   \n",
       "4       (game \"00'Y'\" (players 2) (equipment { (board ...                5   \n",
       "...                                                   ...              ...   \n",
       "233229  (game \"Zuz Mel (7x7)\" (players 2) (equipment {...                2   \n",
       "233230  (game \"Zuz Mel (7x7)\" (players 2) (equipment {...                9   \n",
       "233231  (game \"Zuz Mel (7x7)\" (players 2) (equipment {...               11   \n",
       "233232  (game \"Zuz Mel (7x7)\" (players 2) (equipment {...               24   \n",
       "233233  (game \"Zuz Mel (7x7)\" (players 2) (equipment {...                9   \n",
       "\n",
       "        num_draws_agent1  num_losses_agent1  utility_agent1  \n",
       "0                      0                 11       -0.466667  \n",
       "1                      0                 10       -0.333333  \n",
       "2                      0                  8       -0.066667  \n",
       "3                      0                 10       -0.333333  \n",
       "4                      0                 10       -0.333333  \n",
       "...                  ...                ...             ...  \n",
       "233229                 0                 13       -0.733333  \n",
       "233230                 1                  5        0.266667  \n",
       "233231                 3                  1        0.666667  \n",
       "233232                 2                  4        0.666667  \n",
       "233233                 1                  5        0.266667  \n",
       "\n",
       "[233234 rows x 814 columns]"
      ]
     },
     "execution_count": 2,
     "metadata": {},
     "output_type": "execute_result"
    }
   ],
   "source": [
    "# define some paths\n",
    "path_raw = Path(\"../data/raw\")\n",
    "path_processed = Path(\"../data/processed\")\n",
    "path_results = Path(\"../data/results\")\n",
    "\n",
    "# load data\n",
    "df_train = pd.read_csv(path_raw / \"train.csv\")\n",
    "df_test = pd.read_csv(path_raw / \"test.csv\")\n",
    "\n",
    "df_train"
   ]
  },
  {
   "cell_type": "code",
   "execution_count": 3,
   "id": "84edb17d",
   "metadata": {
    "execution": {
     "iopub.execute_input": "2024-11-22T23:09:24.617206Z",
     "iopub.status.busy": "2024-11-22T23:09:24.617082Z",
     "iopub.status.idle": "2024-11-22T23:09:24.618845Z",
     "shell.execute_reply": "2024-11-22T23:09:24.618541Z"
    },
    "papermill": {
     "duration": 0.004678,
     "end_time": "2024-11-22T23:09:24.619613",
     "exception": false,
     "start_time": "2024-11-22T23:09:24.614935",
     "status": "completed"
    },
    "tags": []
   },
   "outputs": [],
   "source": [
    "# # Load the feature selection results\n",
    "# with open('../feat_selection/select_optuna_lgbm.json', 'r') as f:\n",
    "#     feature_selection = json.load(f)\n",
    "\n",
    "# # Extract the selected features\n",
    "# numerical_cols = feature_selection.get('numerical', [])\n",
    "# categorical_cols = feature_selection.get('categorical', [])\n",
    "\n",
    "# print(\"Numerical features:\", len(numerical_cols))\n",
    "# print(\"Categorical features:\", len(categorical_cols))"
   ]
  },
  {
   "cell_type": "code",
   "execution_count": 4,
   "id": "285296ed",
   "metadata": {
    "execution": {
     "iopub.execute_input": "2024-11-22T23:09:24.623818Z",
     "iopub.status.busy": "2024-11-22T23:09:24.623640Z",
     "iopub.status.idle": "2024-11-22T23:09:27.433413Z",
     "shell.execute_reply": "2024-11-22T23:09:27.433096Z"
    },
    "papermill": {
     "duration": 2.812792,
     "end_time": "2024-11-22T23:09:27.434232",
     "exception": false,
     "start_time": "2024-11-22T23:09:24.621440",
     "status": "completed"
    },
    "tags": []
   },
   "outputs": [
    {
     "name": "stdout",
     "output_type": "stream",
     "text": [
      "number of all nan cols:  18\n"
     ]
    },
    {
     "name": "stdout",
     "output_type": "stream",
     "text": [
      "number of constant cols:  198\n"
     ]
    },
    {
     "name": "stdout",
     "output_type": "stream",
     "text": [
      "Numerical Columns: 588\n",
      "Categorical Columns: 10\n"
     ]
    }
   ],
   "source": [
    "df_train, numerical_cols, categorical_cols, encoder, scaler = process_train_data(\n",
    "    df_train,\n",
    "    scale=False,\n",
    "    # numerical_cols=numerical_cols,\n",
    "    # categorical_cols=categorical_cols,\n",
    "    include_position_features=False,\n",
    "    include_text_features=False,\n",
    ")\n",
    "\n",
    "# Print the results\n",
    "print(\"Numerical Columns:\", len(numerical_cols))\n",
    "print(\"Categorical Columns:\", len(categorical_cols))"
   ]
  },
  {
   "cell_type": "code",
   "execution_count": 5,
   "id": "3fd7abf2",
   "metadata": {
    "execution": {
     "iopub.execute_input": "2024-11-22T23:09:27.438853Z",
     "iopub.status.busy": "2024-11-22T23:09:27.438722Z",
     "iopub.status.idle": "2024-11-22T23:09:27.566286Z",
     "shell.execute_reply": "2024-11-22T23:09:27.566011Z"
    },
    "papermill": {
     "duration": 0.130666,
     "end_time": "2024-11-22T23:09:27.567141",
     "exception": false,
     "start_time": "2024-11-22T23:09:27.436475",
     "status": "completed"
    },
    "tags": []
   },
   "outputs": [
    {
     "data": {
      "image/png": "[encoded data removed]",
      "text/plain": [
       "<Figure size 640x480 with 1 Axes>"
      ]
     },
     "metadata": {},
     "output_type": "display_data"
    }
   ],
   "source": [
    "plt.hist(df_train['utility_agent1'], bins=100)\n",
    "plt.title('Distribution of Target Variable')\n",
    "plt.xlabel('Utility Agent 1')\n",
    "plt.ylabel('Frequency')\n",
    "plt.show()"
   ]
  },
  {
   "cell_type": "code",
   "execution_count": 6,
   "id": "41ae3805",
   "metadata": {
    "execution": {
     "iopub.execute_input": "2024-11-22T23:09:27.572238Z",
     "iopub.status.busy": "2024-11-22T23:09:27.572025Z",
     "iopub.status.idle": "2024-11-22T23:09:27.575260Z",
     "shell.execute_reply": "2024-11-22T23:09:27.574932Z"
    },
    "papermill": {
     "duration": 0.006488,
     "end_time": "2024-11-22T23:09:27.575976",
     "exception": false,
     "start_time": "2024-11-22T23:09:27.569488",
     "status": "completed"
    },
    "tags": []
   },
   "outputs": [],
   "source": [
    "split1 = pickle.load(open('../data/splits/cv1_Game.pkl', 'rb'))\n",
    "\n",
    "# split1 = pickle.load(open('../data/splits/cv1_GameRulesetName.pkl', 'rb'))\n",
    "# split2 = pickle.load(open('../data/splits/cv2_GameRulesetName.pkl', 'rb'))\n",
    "# split3 = pickle.load(open('../data/splits/cv3_GameRulesetName.pkl', 'rb'))"
   ]
  },
  {
   "cell_type": "markdown",
   "id": "02d53ba1",
   "metadata": {
    "papermill": {
     "duration": 0.001882,
     "end_time": "2024-11-22T23:09:27.579823",
     "exception": false,
     "start_time": "2024-11-22T23:09:27.577941",
     "status": "completed"
    },
    "tags": []
   },
   "source": [
    "***\n",
    "### train model\n"
   ]
  },
  {
   "cell_type": "code",
   "execution_count": 7,
   "id": "c7646448",
   "metadata": {
    "execution": {
     "iopub.execute_input": "2024-11-22T23:09:27.584165Z",
     "iopub.status.busy": "2024-11-22T23:09:27.584039Z",
     "iopub.status.idle": "2024-11-22T23:09:27.590156Z",
     "shell.execute_reply": "2024-11-22T23:09:27.589904Z"
    },
    "papermill": {
     "duration": 0.009103,
     "end_time": "2024-11-22T23:09:27.590893",
     "exception": false,
     "start_time": "2024-11-22T23:09:27.581790",
     "status": "completed"
    },
    "tags": []
   },
   "outputs": [],
   "source": [
    "def train_models(\n",
    "        df_train,\n",
    "        target,\n",
    "        numerical_cols,\n",
    "        categorical_cols,\n",
    "        split_list=None\n",
    "    ):\n",
    "    # Define the parameters\n",
    "    params = {\n",
    "        'objective': \"reg:squarederror\",\n",
    "        'eval_metric': 'rmse',\n",
    "        'max_depth': 7,\n",
    "        'learning_rate': 0.1,\n",
    "        'alpha': 0.1,  # Equivalent to reg_alpha in LightGBM\n",
    "        'lambda': 0.1,  # Equivalent to reg_lambda in LightGBM\n",
    "        'colsample_bytree': 0.8,  # Equivalent to feature_fraction in LightGBM\n",
    "        'seed': 2112,\n",
    "        'verbosity': 0,  # Equivalent to verbose: -1 in LightGBM\n",
    "    }\n",
    "\n",
    "    trained_models = []\n",
    "    oof = pd.DataFrame(\n",
    "        index=df_train.index,\n",
    "        columns=[f'{target}_true', f'{target}_pred', 'fold']\n",
    "    )\n",
    "    oof_scores = []\n",
    "    feat_importance_dfs = []\n",
    "\n",
    "    # Perform cross-validation\n",
    "    for fold, (train_index, val_index) in enumerate(split_list, 1):\n",
    "        print(f\"Fold {fold}\")\n",
    "        \n",
    "        # Split the data\n",
    "        X_train, X_val = df_train.iloc[train_index], df_train.iloc[val_index]\n",
    "        y_train, y_val = X_train[target], X_val[target]\n",
    "\n",
    "        feature_types = [\n",
    "            \"c\" if col in categorical_cols else \"q\" \n",
    "            for col in numerical_cols + categorical_cols\n",
    "        ]\n",
    "        \n",
    "        # Convert to DMatrix format\n",
    "        train_data = xgb.DMatrix(\n",
    "            data=X_train[numerical_cols + categorical_cols],\n",
    "            label=y_train,\n",
    "            feature_types=feature_types,\n",
    "            enable_categorical=True,\n",
    "            feature_names=numerical_cols + categorical_cols\n",
    "        )\n",
    "        val_data = xgb.DMatrix(\n",
    "            data=X_val[numerical_cols + categorical_cols],\n",
    "            label=y_val,\n",
    "            feature_types=feature_types,\n",
    "            enable_categorical=True,\n",
    "            feature_names=numerical_cols + categorical_cols\n",
    "        )\n",
    "\n",
    "        # Train the model\n",
    "        model = xgb.train(\n",
    "            params,\n",
    "            train_data,\n",
    "            num_boost_round=2000,\n",
    "            evals=[(val_data, 'val')],\n",
    "            verbose_eval=25,\n",
    "        )\n",
    "        \n",
    "        # Get feature importance\n",
    "        importance_dict = model.get_score(importance_type='gain')\n",
    "        feat_importance = pd.DataFrame(\n",
    "            {'feature': list(importance_dict.keys()),\n",
    "             f'importance_f{fold}': list(importance_dict.values())}\n",
    "        )\n",
    "        feat_importance_dfs.append(feat_importance)\n",
    "        \n",
    "        # Save the trained model to the list\n",
    "        trained_models.append(model)\n",
    "\n",
    "        # predict on validation set\n",
    "        y_pred = model.predict(val_data)\n",
    "\n",
    "        # Save out-of-fold predictions\n",
    "        oof.loc[val_index, f'{target}_true'] = y_val\n",
    "        oof.loc[val_index, f'{target}_pred'] = y_pred\n",
    "        oof.loc[val_index, 'fold'] = fold\n",
    "\n",
    "        # Compute RMSE\n",
    "        y_pred = np.clip(y_pred, -1, 1)\n",
    "        rmse = np.sqrt(np.mean((y_pred - y_val) ** 2))\n",
    "        print(f\"Fold {fold} - RMSE: {rmse}\")\n",
    "\n",
    "        # Save RMSE to the list\n",
    "        oof_scores.append(rmse)\n",
    "\n",
    "    # Combine feature importance dataframes\n",
    "    importance_df = feat_importance_dfs[0]\n",
    "    for df in feat_importance_dfs[1:]:\n",
    "        importance_df = importance_df.merge(df, on='feature')\n",
    "    \n",
    "    # Calculate mean importance across folds\n",
    "    importance_cols = [col for col in importance_df.columns if col.startswith('importance_f')]\n",
    "    importance_df['importance_mean'] = importance_df[importance_cols].mean(axis=1)\n",
    "    importance_df = importance_df.sort_values('importance_mean', ascending=False, ignore_index=True)\n",
    "    importance_df['importance_relative'] = (\n",
    "        importance_df['importance_mean'] / \n",
    "        importance_df['importance_mean'].sum()\n",
    "    )\n",
    "\n",
    "    # Print the list of oof scores and average oof score\n",
    "    print(\"List of oof scores:\", oof_scores)\n",
    "    print(\"Average oof score:\", np.mean(oof_scores))\n",
    "\n",
    "    return trained_models, oof, oof_scores, importance_df"
   ]
  },
  {
   "cell_type": "code",
   "execution_count": 8,
   "id": "497cba0e",
   "metadata": {
    "execution": {
     "iopub.execute_input": "2024-11-22T23:09:27.595309Z",
     "iopub.status.busy": "2024-11-22T23:09:27.595201Z",
     "iopub.status.idle": "2024-11-22T23:14:51.763761Z",
     "shell.execute_reply": "2024-11-22T23:14:51.763445Z"
    },
    "papermill": {
     "duration": 324.171673,
     "end_time": "2024-11-22T23:14:51.764579",
     "exception": false,
     "start_time": "2024-11-22T23:09:27.592906",
     "status": "completed"
    },
    "tags": []
   },
   "outputs": [
    {
     "name": "stdout",
     "output_type": "stream",
     "text": [
      "Fold 1\n"
     ]
    },
    {
     "name": "stdout",
     "output_type": "stream",
     "text": [
      "[0]\tval-rmse:0.54489\n"
     ]
    },
    {
     "name": "stdout",
     "output_type": "stream",
     "text": [
      "[25]\tval-rmse:0.48995\n"
     ]
    },
    {
     "name": "stdout",
     "output_type": "stream",
     "text": [
      "[50]\tval-rmse:0.47705\n"
     ]
    },
    {
     "name": "stdout",
     "output_type": "stream",
     "text": [
      "[75]\tval-rmse:0.47025\n"
     ]
    },
    {
     "name": "stdout",
     "output_type": "stream",
     "text": [
      "[100]\tval-rmse:0.46439\n"
     ]
    },
    {
     "name": "stdout",
     "output_type": "stream",
     "text": [
      "[125]\tval-rmse:0.46061\n"
     ]
    },
    {
     "name": "stdout",
     "output_type": "stream",
     "text": [
      "[150]\tval-rmse:0.45805\n"
     ]
    },
    {
     "name": "stdout",
     "output_type": "stream",
     "text": [
      "[175]\tval-rmse:0.45462\n"
     ]
    },
    {
     "name": "stdout",
     "output_type": "stream",
     "text": [
      "[200]\tval-rmse:0.45299\n"
     ]
    },
    {
     "name": "stdout",
     "output_type": "stream",
     "text": [
      "[225]\tval-rmse:0.45248\n"
     ]
    },
    {
     "name": "stdout",
     "output_type": "stream",
     "text": [
      "[250]\tval-rmse:0.45112\n"
     ]
    },
    {
     "name": "stdout",
     "output_type": "stream",
     "text": [
      "[275]\tval-rmse:0.45061\n"
     ]
    },
    {
     "name": "stdout",
     "output_type": "stream",
     "text": [
      "[300]\tval-rmse:0.44997\n"
     ]
    },
    {
     "name": "stdout",
     "output_type": "stream",
     "text": [
      "[325]\tval-rmse:0.44896\n"
     ]
    },
    {
     "name": "stdout",
     "output_type": "stream",
     "text": [
      "[350]\tval-rmse:0.44877\n"
     ]
    },
    {
     "name": "stdout",
     "output_type": "stream",
     "text": [
      "[375]\tval-rmse:0.44848\n"
     ]
    },
    {
     "name": "stdout",
     "output_type": "stream",
     "text": [
      "[400]\tval-rmse:0.44827\n"
     ]
    },
    {
     "name": "stdout",
     "output_type": "stream",
     "text": [
      "[425]\tval-rmse:0.44800\n"
     ]
    },
    {
     "name": "stdout",
     "output_type": "stream",
     "text": [
      "[450]\tval-rmse:0.44798\n"
     ]
    },
    {
     "name": "stdout",
     "output_type": "stream",
     "text": [
      "[475]\tval-rmse:0.44777\n"
     ]
    },
    {
     "name": "stdout",
     "output_type": "stream",
     "text": [
      "[500]\tval-rmse:0.44755\n"
     ]
    },
    {
     "name": "stdout",
     "output_type": "stream",
     "text": [
      "[525]\tval-rmse:0.44778\n"
     ]
    },
    {
     "name": "stdout",
     "output_type": "stream",
     "text": [
      "[550]\tval-rmse:0.44737\n"
     ]
    },
    {
     "name": "stdout",
     "output_type": "stream",
     "text": [
      "[575]\tval-rmse:0.44737\n"
     ]
    },
    {
     "name": "stdout",
     "output_type": "stream",
     "text": [
      "[600]\tval-rmse:0.44739\n"
     ]
    },
    {
     "name": "stdout",
     "output_type": "stream",
     "text": [
      "[625]\tval-rmse:0.44735\n"
     ]
    },
    {
     "name": "stdout",
     "output_type": "stream",
     "text": [
      "[650]\tval-rmse:0.44753\n"
     ]
    },
    {
     "name": "stdout",
     "output_type": "stream",
     "text": [
      "[675]\tval-rmse:0.44758\n"
     ]
    },
    {
     "name": "stdout",
     "output_type": "stream",
     "text": [
      "[700]\tval-rmse:0.44763\n"
     ]
    },
    {
     "name": "stdout",
     "output_type": "stream",
     "text": [
      "[725]\tval-rmse:0.44742\n"
     ]
    },
    {
     "name": "stdout",
     "output_type": "stream",
     "text": [
      "[750]\tval-rmse:0.44749\n"
     ]
    },
    {
     "name": "stdout",
     "output_type": "stream",
     "text": [
      "[775]\tval-rmse:0.44732\n"
     ]
    },
    {
     "name": "stdout",
     "output_type": "stream",
     "text": [
      "[800]\tval-rmse:0.44731\n"
     ]
    },
    {
     "name": "stdout",
     "output_type": "stream",
     "text": [
      "[825]\tval-rmse:0.44729\n"
     ]
    },
    {
     "name": "stdout",
     "output_type": "stream",
     "text": [
      "[850]\tval-rmse:0.44739\n"
     ]
    },
    {
     "name": "stdout",
     "output_type": "stream",
     "text": [
      "[875]\tval-rmse:0.44738\n"
     ]
    },
    {
     "name": "stdout",
     "output_type": "stream",
     "text": [
      "[900]\tval-rmse:0.44741\n"
     ]
    },
    {
     "name": "stdout",
     "output_type": "stream",
     "text": [
      "[925]\tval-rmse:0.44756\n"
     ]
    },
    {
     "name": "stdout",
     "output_type": "stream",
     "text": [
      "[950]\tval-rmse:0.44766\n"
     ]
    },
    {
     "name": "stdout",
     "output_type": "stream",
     "text": [
      "[975]\tval-rmse:0.44772\n"
     ]
    },
    {
     "name": "stdout",
     "output_type": "stream",
     "text": [
      "[1000]\tval-rmse:0.44777\n"
     ]
    },
    {
     "name": "stdout",
     "output_type": "stream",
     "text": [
      "[1025]\tval-rmse:0.44795\n"
     ]
    },
    {
     "name": "stdout",
     "output_type": "stream",
     "text": [
      "[1050]\tval-rmse:0.44805\n"
     ]
    },
    {
     "name": "stdout",
     "output_type": "stream",
     "text": [
      "[1075]\tval-rmse:0.44808\n"
     ]
    },
    {
     "name": "stdout",
     "output_type": "stream",
     "text": [
      "[1100]\tval-rmse:0.44815\n"
     ]
    },
    {
     "name": "stdout",
     "output_type": "stream",
     "text": [
      "[1125]\tval-rmse:0.44820\n"
     ]
    },
    {
     "name": "stdout",
     "output_type": "stream",
     "text": [
      "[1150]\tval-rmse:0.44827\n"
     ]
    },
    {
     "name": "stdout",
     "output_type": "stream",
     "text": [
      "[1175]\tval-rmse:0.44830\n"
     ]
    },
    {
     "name": "stdout",
     "output_type": "stream",
     "text": [
      "[1200]\tval-rmse:0.44836\n"
     ]
    },
    {
     "name": "stdout",
     "output_type": "stream",
     "text": [
      "[1225]\tval-rmse:0.44845\n"
     ]
    },
    {
     "name": "stdout",
     "output_type": "stream",
     "text": [
      "[1250]\tval-rmse:0.44844\n"
     ]
    },
    {
     "name": "stdout",
     "output_type": "stream",
     "text": [
      "[1275]\tval-rmse:0.44853\n"
     ]
    },
    {
     "name": "stdout",
     "output_type": "stream",
     "text": [
      "[1300]\tval-rmse:0.44859\n"
     ]
    },
    {
     "name": "stdout",
     "output_type": "stream",
     "text": [
      "[1325]\tval-rmse:0.44869\n"
     ]
    },
    {
     "name": "stdout",
     "output_type": "stream",
     "text": [
      "[1350]\tval-rmse:0.44871\n"
     ]
    },
    {
     "name": "stdout",
     "output_type": "stream",
     "text": [
      "[1375]\tval-rmse:0.44880\n"
     ]
    },
    {
     "name": "stdout",
     "output_type": "stream",
     "text": [
      "[1400]\tval-rmse:0.44883\n"
     ]
    },
    {
     "name": "stdout",
     "output_type": "stream",
     "text": [
      "[1425]\tval-rmse:0.44893\n"
     ]
    },
    {
     "name": "stdout",
     "output_type": "stream",
     "text": [
      "[1450]\tval-rmse:0.44904\n"
     ]
    },
    {
     "name": "stdout",
     "output_type": "stream",
     "text": [
      "[1475]\tval-rmse:0.44908\n"
     ]
    },
    {
     "name": "stdout",
     "output_type": "stream",
     "text": [
      "[1500]\tval-rmse:0.44909\n"
     ]
    },
    {
     "name": "stdout",
     "output_type": "stream",
     "text": [
      "[1525]\tval-rmse:0.44910\n"
     ]
    },
    {
     "name": "stdout",
     "output_type": "stream",
     "text": [
      "[1550]\tval-rmse:0.44907\n"
     ]
    },
    {
     "name": "stdout",
     "output_type": "stream",
     "text": [
      "[1575]\tval-rmse:0.44908\n"
     ]
    },
    {
     "name": "stdout",
     "output_type": "stream",
     "text": [
      "[1600]\tval-rmse:0.44907\n"
     ]
    },
    {
     "name": "stdout",
     "output_type": "stream",
     "text": [
      "[1625]\tval-rmse:0.44908\n"
     ]
    },
    {
     "name": "stdout",
     "output_type": "stream",
     "text": [
      "[1650]\tval-rmse:0.44906\n"
     ]
    },
    {
     "name": "stdout",
     "output_type": "stream",
     "text": [
      "[1675]\tval-rmse:0.44916\n"
     ]
    },
    {
     "name": "stdout",
     "output_type": "stream",
     "text": [
      "[1700]\tval-rmse:0.44915\n"
     ]
    },
    {
     "name": "stdout",
     "output_type": "stream",
     "text": [
      "[1725]\tval-rmse:0.44918\n"
     ]
    },
    {
     "name": "stdout",
     "output_type": "stream",
     "text": [
      "[1750]\tval-rmse:0.44919\n"
     ]
    },
    {
     "name": "stdout",
     "output_type": "stream",
     "text": [
      "[1775]\tval-rmse:0.44918\n"
     ]
    },
    {
     "name": "stdout",
     "output_type": "stream",
     "text": [
      "[1800]\tval-rmse:0.44918\n"
     ]
    },
    {
     "name": "stdout",
     "output_type": "stream",
     "text": [
      "[1825]\tval-rmse:0.44920\n"
     ]
    },
    {
     "name": "stdout",
     "output_type": "stream",
     "text": [
      "[1850]\tval-rmse:0.44926\n"
     ]
    },
    {
     "name": "stdout",
     "output_type": "stream",
     "text": [
      "[1875]\tval-rmse:0.44927\n"
     ]
    },
    {
     "name": "stdout",
     "output_type": "stream",
     "text": [
      "[1900]\tval-rmse:0.44930\n"
     ]
    },
    {
     "name": "stdout",
     "output_type": "stream",
     "text": [
      "[1925]\tval-rmse:0.44936\n"
     ]
    },
    {
     "name": "stdout",
     "output_type": "stream",
     "text": [
      "[1950]\tval-rmse:0.44941\n"
     ]
    },
    {
     "name": "stdout",
     "output_type": "stream",
     "text": [
      "[1975]\tval-rmse:0.44943\n"
     ]
    },
    {
     "name": "stdout",
     "output_type": "stream",
     "text": [
      "[1999]\tval-rmse:0.44945\n"
     ]
    },
    {
     "name": "stdout",
     "output_type": "stream",
     "text": [
      "Fold 1 - RMSE: 0.4490082171005587\n",
      "Fold 2\n"
     ]
    },
    {
     "name": "stdout",
     "output_type": "stream",
     "text": [
      "[0]\tval-rmse:0.57724\n"
     ]
    },
    {
     "name": "stdout",
     "output_type": "stream",
     "text": [
      "[25]\tval-rmse:0.49382\n"
     ]
    },
    {
     "name": "stdout",
     "output_type": "stream",
     "text": [
      "[50]\tval-rmse:0.48359\n"
     ]
    },
    {
     "name": "stdout",
     "output_type": "stream",
     "text": [
      "[75]\tval-rmse:0.47628\n"
     ]
    },
    {
     "name": "stdout",
     "output_type": "stream",
     "text": [
      "[100]\tval-rmse:0.47123\n"
     ]
    },
    {
     "name": "stdout",
     "output_type": "stream",
     "text": [
      "[125]\tval-rmse:0.46823\n"
     ]
    },
    {
     "name": "stdout",
     "output_type": "stream",
     "text": [
      "[150]\tval-rmse:0.46494\n"
     ]
    },
    {
     "name": "stdout",
     "output_type": "stream",
     "text": [
      "[175]\tval-rmse:0.46321\n"
     ]
    },
    {
     "name": "stdout",
     "output_type": "stream",
     "text": [
      "[200]\tval-rmse:0.46279\n"
     ]
    },
    {
     "name": "stdout",
     "output_type": "stream",
     "text": [
      "[225]\tval-rmse:0.46271\n"
     ]
    },
    {
     "name": "stdout",
     "output_type": "stream",
     "text": [
      "[250]\tval-rmse:0.46135\n"
     ]
    },
    {
     "name": "stdout",
     "output_type": "stream",
     "text": [
      "[275]\tval-rmse:0.46043\n"
     ]
    },
    {
     "name": "stdout",
     "output_type": "stream",
     "text": [
      "[300]\tval-rmse:0.46013\n"
     ]
    },
    {
     "name": "stdout",
     "output_type": "stream",
     "text": [
      "[325]\tval-rmse:0.45982\n"
     ]
    },
    {
     "name": "stdout",
     "output_type": "stream",
     "text": [
      "[350]\tval-rmse:0.45945\n"
     ]
    },
    {
     "name": "stdout",
     "output_type": "stream",
     "text": [
      "[375]\tval-rmse:0.45930\n"
     ]
    },
    {
     "name": "stdout",
     "output_type": "stream",
     "text": [
      "[400]\tval-rmse:0.45911\n"
     ]
    },
    {
     "name": "stdout",
     "output_type": "stream",
     "text": [
      "[425]\tval-rmse:0.45902\n"
     ]
    },
    {
     "name": "stdout",
     "output_type": "stream",
     "text": [
      "[450]\tval-rmse:0.45869\n"
     ]
    },
    {
     "name": "stdout",
     "output_type": "stream",
     "text": [
      "[475]\tval-rmse:0.45824\n"
     ]
    },
    {
     "name": "stdout",
     "output_type": "stream",
     "text": [
      "[500]\tval-rmse:0.45810\n"
     ]
    },
    {
     "name": "stdout",
     "output_type": "stream",
     "text": [
      "[525]\tval-rmse:0.45776\n"
     ]
    },
    {
     "name": "stdout",
     "output_type": "stream",
     "text": [
      "[550]\tval-rmse:0.45764\n"
     ]
    },
    {
     "name": "stdout",
     "output_type": "stream",
     "text": [
      "[575]\tval-rmse:0.45753\n"
     ]
    },
    {
     "name": "stdout",
     "output_type": "stream",
     "text": [
      "[600]\tval-rmse:0.45735\n"
     ]
    },
    {
     "name": "stdout",
     "output_type": "stream",
     "text": [
      "[625]\tval-rmse:0.45748\n"
     ]
    },
    {
     "name": "stdout",
     "output_type": "stream",
     "text": [
      "[650]\tval-rmse:0.45725\n"
     ]
    },
    {
     "name": "stdout",
     "output_type": "stream",
     "text": [
      "[675]\tval-rmse:0.45720\n"
     ]
    },
    {
     "name": "stdout",
     "output_type": "stream",
     "text": [
      "[700]\tval-rmse:0.45713\n"
     ]
    },
    {
     "name": "stdout",
     "output_type": "stream",
     "text": [
      "[725]\tval-rmse:0.45705\n"
     ]
    },
    {
     "name": "stdout",
     "output_type": "stream",
     "text": [
      "[750]\tval-rmse:0.45713\n"
     ]
    },
    {
     "name": "stdout",
     "output_type": "stream",
     "text": [
      "[775]\tval-rmse:0.45705\n"
     ]
    },
    {
     "name": "stdout",
     "output_type": "stream",
     "text": [
      "[800]\tval-rmse:0.45687\n"
     ]
    },
    {
     "name": "stdout",
     "output_type": "stream",
     "text": [
      "[825]\tval-rmse:0.45689\n"
     ]
    },
    {
     "name": "stdout",
     "output_type": "stream",
     "text": [
      "[850]\tval-rmse:0.45696\n"
     ]
    },
    {
     "name": "stdout",
     "output_type": "stream",
     "text": [
      "[875]\tval-rmse:0.45684\n"
     ]
    },
    {
     "name": "stdout",
     "output_type": "stream",
     "text": [
      "[900]\tval-rmse:0.45697\n"
     ]
    },
    {
     "name": "stdout",
     "output_type": "stream",
     "text": [
      "[925]\tval-rmse:0.45699\n"
     ]
    },
    {
     "name": "stdout",
     "output_type": "stream",
     "text": [
      "[950]\tval-rmse:0.45699\n"
     ]
    },
    {
     "name": "stdout",
     "output_type": "stream",
     "text": [
      "[975]\tval-rmse:0.45705\n"
     ]
    },
    {
     "name": "stdout",
     "output_type": "stream",
     "text": [
      "[1000]\tval-rmse:0.45706\n"
     ]
    },
    {
     "name": "stdout",
     "output_type": "stream",
     "text": [
      "[1025]\tval-rmse:0.45712\n"
     ]
    },
    {
     "name": "stdout",
     "output_type": "stream",
     "text": [
      "[1050]\tval-rmse:0.45711\n"
     ]
    },
    {
     "name": "stdout",
     "output_type": "stream",
     "text": [
      "[1075]\tval-rmse:0.45714\n"
     ]
    },
    {
     "name": "stdout",
     "output_type": "stream",
     "text": [
      "[1100]\tval-rmse:0.45711\n"
     ]
    },
    {
     "name": "stdout",
     "output_type": "stream",
     "text": [
      "[1125]\tval-rmse:0.45712\n"
     ]
    },
    {
     "name": "stdout",
     "output_type": "stream",
     "text": [
      "[1150]\tval-rmse:0.45710\n"
     ]
    },
    {
     "name": "stdout",
     "output_type": "stream",
     "text": [
      "[1175]\tval-rmse:0.45718\n"
     ]
    },
    {
     "name": "stdout",
     "output_type": "stream",
     "text": [
      "[1200]\tval-rmse:0.45725\n"
     ]
    },
    {
     "name": "stdout",
     "output_type": "stream",
     "text": [
      "[1225]\tval-rmse:0.45733\n"
     ]
    },
    {
     "name": "stdout",
     "output_type": "stream",
     "text": [
      "[1250]\tval-rmse:0.45740\n"
     ]
    },
    {
     "name": "stdout",
     "output_type": "stream",
     "text": [
      "[1275]\tval-rmse:0.45745\n"
     ]
    },
    {
     "name": "stdout",
     "output_type": "stream",
     "text": [
      "[1300]\tval-rmse:0.45750\n"
     ]
    },
    {
     "name": "stdout",
     "output_type": "stream",
     "text": [
      "[1325]\tval-rmse:0.45750\n"
     ]
    },
    {
     "name": "stdout",
     "output_type": "stream",
     "text": [
      "[1350]\tval-rmse:0.45747\n"
     ]
    },
    {
     "name": "stdout",
     "output_type": "stream",
     "text": [
      "[1375]\tval-rmse:0.45749\n"
     ]
    },
    {
     "name": "stdout",
     "output_type": "stream",
     "text": [
      "[1400]\tval-rmse:0.45747\n"
     ]
    },
    {
     "name": "stdout",
     "output_type": "stream",
     "text": [
      "[1425]\tval-rmse:0.45756\n"
     ]
    },
    {
     "name": "stdout",
     "output_type": "stream",
     "text": [
      "[1450]\tval-rmse:0.45753\n"
     ]
    },
    {
     "name": "stdout",
     "output_type": "stream",
     "text": [
      "[1475]\tval-rmse:0.45746\n"
     ]
    },
    {
     "name": "stdout",
     "output_type": "stream",
     "text": [
      "[1500]\tval-rmse:0.45746\n"
     ]
    },
    {
     "name": "stdout",
     "output_type": "stream",
     "text": [
      "[1525]\tval-rmse:0.45744\n"
     ]
    },
    {
     "name": "stdout",
     "output_type": "stream",
     "text": [
      "[1550]\tval-rmse:0.45749\n"
     ]
    },
    {
     "name": "stdout",
     "output_type": "stream",
     "text": [
      "[1575]\tval-rmse:0.45748\n"
     ]
    },
    {
     "name": "stdout",
     "output_type": "stream",
     "text": [
      "[1600]\tval-rmse:0.45748\n"
     ]
    },
    {
     "name": "stdout",
     "output_type": "stream",
     "text": [
      "[1625]\tval-rmse:0.45746\n"
     ]
    },
    {
     "name": "stdout",
     "output_type": "stream",
     "text": [
      "[1650]\tval-rmse:0.45741\n"
     ]
    },
    {
     "name": "stdout",
     "output_type": "stream",
     "text": [
      "[1675]\tval-rmse:0.45741\n"
     ]
    },
    {
     "name": "stdout",
     "output_type": "stream",
     "text": [
      "[1700]\tval-rmse:0.45737\n"
     ]
    },
    {
     "name": "stdout",
     "output_type": "stream",
     "text": [
      "[1725]\tval-rmse:0.45745\n"
     ]
    },
    {
     "name": "stdout",
     "output_type": "stream",
     "text": [
      "[1750]\tval-rmse:0.45743\n"
     ]
    },
    {
     "name": "stdout",
     "output_type": "stream",
     "text": [
      "[1775]\tval-rmse:0.45742\n"
     ]
    },
    {
     "name": "stdout",
     "output_type": "stream",
     "text": [
      "[1800]\tval-rmse:0.45744\n"
     ]
    },
    {
     "name": "stdout",
     "output_type": "stream",
     "text": [
      "[1825]\tval-rmse:0.45744\n"
     ]
    },
    {
     "name": "stdout",
     "output_type": "stream",
     "text": [
      "[1850]\tval-rmse:0.45744\n"
     ]
    },
    {
     "name": "stdout",
     "output_type": "stream",
     "text": [
      "[1875]\tval-rmse:0.45747\n"
     ]
    },
    {
     "name": "stdout",
     "output_type": "stream",
     "text": [
      "[1900]\tval-rmse:0.45752\n"
     ]
    },
    {
     "name": "stdout",
     "output_type": "stream",
     "text": [
      "[1925]\tval-rmse:0.45764\n"
     ]
    },
    {
     "name": "stdout",
     "output_type": "stream",
     "text": [
      "[1950]\tval-rmse:0.45764\n"
     ]
    },
    {
     "name": "stdout",
     "output_type": "stream",
     "text": [
      "[1975]\tval-rmse:0.45771\n"
     ]
    },
    {
     "name": "stdout",
     "output_type": "stream",
     "text": [
      "[1999]\tval-rmse:0.45778\n"
     ]
    },
    {
     "name": "stdout",
     "output_type": "stream",
     "text": [
      "Fold 2 - RMSE: 0.4569056846229123\n",
      "Fold 3\n"
     ]
    },
    {
     "name": "stdout",
     "output_type": "stream",
     "text": [
      "[0]\tval-rmse:0.59540\n"
     ]
    },
    {
     "name": "stdout",
     "output_type": "stream",
     "text": [
      "[25]\tval-rmse:0.50327\n"
     ]
    },
    {
     "name": "stdout",
     "output_type": "stream",
     "text": [
      "[50]\tval-rmse:0.48759\n"
     ]
    },
    {
     "name": "stdout",
     "output_type": "stream",
     "text": [
      "[75]\tval-rmse:0.48288\n"
     ]
    },
    {
     "name": "stdout",
     "output_type": "stream",
     "text": [
      "[100]\tval-rmse:0.47823\n"
     ]
    },
    {
     "name": "stdout",
     "output_type": "stream",
     "text": [
      "[125]\tval-rmse:0.47388\n"
     ]
    },
    {
     "name": "stdout",
     "output_type": "stream",
     "text": [
      "[150]\tval-rmse:0.47135\n"
     ]
    },
    {
     "name": "stdout",
     "output_type": "stream",
     "text": [
      "[175]\tval-rmse:0.46914\n"
     ]
    },
    {
     "name": "stdout",
     "output_type": "stream",
     "text": [
      "[200]\tval-rmse:0.46783\n"
     ]
    },
    {
     "name": "stdout",
     "output_type": "stream",
     "text": [
      "[225]\tval-rmse:0.46688\n"
     ]
    },
    {
     "name": "stdout",
     "output_type": "stream",
     "text": [
      "[250]\tval-rmse:0.46524\n"
     ]
    },
    {
     "name": "stdout",
     "output_type": "stream",
     "text": [
      "[275]\tval-rmse:0.46447\n"
     ]
    },
    {
     "name": "stdout",
     "output_type": "stream",
     "text": [
      "[300]\tval-rmse:0.46442\n"
     ]
    },
    {
     "name": "stdout",
     "output_type": "stream",
     "text": [
      "[325]\tval-rmse:0.46369\n"
     ]
    },
    {
     "name": "stdout",
     "output_type": "stream",
     "text": [
      "[350]\tval-rmse:0.46310\n"
     ]
    },
    {
     "name": "stdout",
     "output_type": "stream",
     "text": [
      "[375]\tval-rmse:0.46290\n"
     ]
    },
    {
     "name": "stdout",
     "output_type": "stream",
     "text": [
      "[400]\tval-rmse:0.46275\n"
     ]
    },
    {
     "name": "stdout",
     "output_type": "stream",
     "text": [
      "[425]\tval-rmse:0.46246\n"
     ]
    },
    {
     "name": "stdout",
     "output_type": "stream",
     "text": [
      "[450]\tval-rmse:0.46211\n"
     ]
    },
    {
     "name": "stdout",
     "output_type": "stream",
     "text": [
      "[475]\tval-rmse:0.46207\n"
     ]
    },
    {
     "name": "stdout",
     "output_type": "stream",
     "text": [
      "[500]\tval-rmse:0.46200\n"
     ]
    },
    {
     "name": "stdout",
     "output_type": "stream",
     "text": [
      "[525]\tval-rmse:0.46197\n"
     ]
    },
    {
     "name": "stdout",
     "output_type": "stream",
     "text": [
      "[550]\tval-rmse:0.46173\n"
     ]
    },
    {
     "name": "stdout",
     "output_type": "stream",
     "text": [
      "[575]\tval-rmse:0.46156\n"
     ]
    },
    {
     "name": "stdout",
     "output_type": "stream",
     "text": [
      "[600]\tval-rmse:0.46156\n"
     ]
    },
    {
     "name": "stdout",
     "output_type": "stream",
     "text": [
      "[625]\tval-rmse:0.46154\n"
     ]
    },
    {
     "name": "stdout",
     "output_type": "stream",
     "text": [
      "[650]\tval-rmse:0.46147\n"
     ]
    },
    {
     "name": "stdout",
     "output_type": "stream",
     "text": [
      "[675]\tval-rmse:0.46161\n"
     ]
    },
    {
     "name": "stdout",
     "output_type": "stream",
     "text": [
      "[700]\tval-rmse:0.46141\n"
     ]
    },
    {
     "name": "stdout",
     "output_type": "stream",
     "text": [
      "[725]\tval-rmse:0.46150\n"
     ]
    },
    {
     "name": "stdout",
     "output_type": "stream",
     "text": [
      "[750]\tval-rmse:0.46171\n"
     ]
    },
    {
     "name": "stdout",
     "output_type": "stream",
     "text": [
      "[775]\tval-rmse:0.46152\n"
     ]
    },
    {
     "name": "stdout",
     "output_type": "stream",
     "text": [
      "[800]\tval-rmse:0.46157\n"
     ]
    },
    {
     "name": "stdout",
     "output_type": "stream",
     "text": [
      "[825]\tval-rmse:0.46145\n"
     ]
    },
    {
     "name": "stdout",
     "output_type": "stream",
     "text": [
      "[850]\tval-rmse:0.46142\n"
     ]
    },
    {
     "name": "stdout",
     "output_type": "stream",
     "text": [
      "[875]\tval-rmse:0.46144\n"
     ]
    },
    {
     "name": "stdout",
     "output_type": "stream",
     "text": [
      "[900]\tval-rmse:0.46127\n"
     ]
    },
    {
     "name": "stdout",
     "output_type": "stream",
     "text": [
      "[925]\tval-rmse:0.46129\n"
     ]
    },
    {
     "name": "stdout",
     "output_type": "stream",
     "text": [
      "[950]\tval-rmse:0.46138\n"
     ]
    },
    {
     "name": "stdout",
     "output_type": "stream",
     "text": [
      "[975]\tval-rmse:0.46144\n"
     ]
    },
    {
     "name": "stdout",
     "output_type": "stream",
     "text": [
      "[1000]\tval-rmse:0.46164\n"
     ]
    },
    {
     "name": "stdout",
     "output_type": "stream",
     "text": [
      "[1025]\tval-rmse:0.46171\n"
     ]
    },
    {
     "name": "stdout",
     "output_type": "stream",
     "text": [
      "[1050]\tval-rmse:0.46162\n"
     ]
    },
    {
     "name": "stdout",
     "output_type": "stream",
     "text": [
      "[1075]\tval-rmse:0.46163\n"
     ]
    },
    {
     "name": "stdout",
     "output_type": "stream",
     "text": [
      "[1100]\tval-rmse:0.46158\n"
     ]
    },
    {
     "name": "stdout",
     "output_type": "stream",
     "text": [
      "[1125]\tval-rmse:0.46158\n"
     ]
    },
    {
     "name": "stdout",
     "output_type": "stream",
     "text": [
      "[1150]\tval-rmse:0.46162\n"
     ]
    },
    {
     "name": "stdout",
     "output_type": "stream",
     "text": [
      "[1175]\tval-rmse:0.46144\n"
     ]
    },
    {
     "name": "stdout",
     "output_type": "stream",
     "text": [
      "[1200]\tval-rmse:0.46136\n"
     ]
    },
    {
     "name": "stdout",
     "output_type": "stream",
     "text": [
      "[1225]\tval-rmse:0.46145\n"
     ]
    },
    {
     "name": "stdout",
     "output_type": "stream",
     "text": [
      "[1250]\tval-rmse:0.46153\n"
     ]
    },
    {
     "name": "stdout",
     "output_type": "stream",
     "text": [
      "[1275]\tval-rmse:0.46155\n"
     ]
    },
    {
     "name": "stdout",
     "output_type": "stream",
     "text": [
      "[1300]\tval-rmse:0.46156\n"
     ]
    },
    {
     "name": "stdout",
     "output_type": "stream",
     "text": [
      "[1325]\tval-rmse:0.46166\n"
     ]
    },
    {
     "name": "stdout",
     "output_type": "stream",
     "text": [
      "[1350]\tval-rmse:0.46166\n"
     ]
    },
    {
     "name": "stdout",
     "output_type": "stream",
     "text": [
      "[1375]\tval-rmse:0.46164\n"
     ]
    },
    {
     "name": "stdout",
     "output_type": "stream",
     "text": [
      "[1400]\tval-rmse:0.46168\n"
     ]
    },
    {
     "name": "stdout",
     "output_type": "stream",
     "text": [
      "[1425]\tval-rmse:0.46171\n"
     ]
    },
    {
     "name": "stdout",
     "output_type": "stream",
     "text": [
      "[1450]\tval-rmse:0.46174\n"
     ]
    },
    {
     "name": "stdout",
     "output_type": "stream",
     "text": [
      "[1475]\tval-rmse:0.46175\n"
     ]
    },
    {
     "name": "stdout",
     "output_type": "stream",
     "text": [
      "[1500]\tval-rmse:0.46179\n"
     ]
    },
    {
     "name": "stdout",
     "output_type": "stream",
     "text": [
      "[1525]\tval-rmse:0.46185\n"
     ]
    },
    {
     "name": "stdout",
     "output_type": "stream",
     "text": [
      "[1550]\tval-rmse:0.46189\n"
     ]
    },
    {
     "name": "stdout",
     "output_type": "stream",
     "text": [
      "[1575]\tval-rmse:0.46188\n"
     ]
    },
    {
     "name": "stdout",
     "output_type": "stream",
     "text": [
      "[1600]\tval-rmse:0.46193\n"
     ]
    },
    {
     "name": "stdout",
     "output_type": "stream",
     "text": [
      "[1625]\tval-rmse:0.46196\n"
     ]
    },
    {
     "name": "stdout",
     "output_type": "stream",
     "text": [
      "[1650]\tval-rmse:0.46196\n"
     ]
    },
    {
     "name": "stdout",
     "output_type": "stream",
     "text": [
      "[1675]\tval-rmse:0.46201\n"
     ]
    },
    {
     "name": "stdout",
     "output_type": "stream",
     "text": [
      "[1700]\tval-rmse:0.46203\n"
     ]
    },
    {
     "name": "stdout",
     "output_type": "stream",
     "text": [
      "[1725]\tval-rmse:0.46206\n"
     ]
    },
    {
     "name": "stdout",
     "output_type": "stream",
     "text": [
      "[1750]\tval-rmse:0.46212\n"
     ]
    },
    {
     "name": "stdout",
     "output_type": "stream",
     "text": [
      "[1775]\tval-rmse:0.46219\n"
     ]
    },
    {
     "name": "stdout",
     "output_type": "stream",
     "text": [
      "[1800]\tval-rmse:0.46223\n"
     ]
    },
    {
     "name": "stdout",
     "output_type": "stream",
     "text": [
      "[1825]\tval-rmse:0.46225\n"
     ]
    },
    {
     "name": "stdout",
     "output_type": "stream",
     "text": [
      "[1850]\tval-rmse:0.46230\n"
     ]
    },
    {
     "name": "stdout",
     "output_type": "stream",
     "text": [
      "[1875]\tval-rmse:0.46228\n"
     ]
    },
    {
     "name": "stdout",
     "output_type": "stream",
     "text": [
      "[1900]\tval-rmse:0.46236\n"
     ]
    },
    {
     "name": "stdout",
     "output_type": "stream",
     "text": [
      "[1925]\tval-rmse:0.46233\n"
     ]
    },
    {
     "name": "stdout",
     "output_type": "stream",
     "text": [
      "[1950]\tval-rmse:0.46233\n"
     ]
    },
    {
     "name": "stdout",
     "output_type": "stream",
     "text": [
      "[1975]\tval-rmse:0.46232\n"
     ]
    },
    {
     "name": "stdout",
     "output_type": "stream",
     "text": [
      "[1999]\tval-rmse:0.46235\n"
     ]
    },
    {
     "name": "stdout",
     "output_type": "stream",
     "text": [
      "Fold 3 - RMSE: 0.46149360161840786\n",
      "Fold 4\n"
     ]
    },
    {
     "name": "stdout",
     "output_type": "stream",
     "text": [
      "[0]\tval-rmse:0.58708\n"
     ]
    },
    {
     "name": "stdout",
     "output_type": "stream",
     "text": [
      "[25]\tval-rmse:0.50096\n"
     ]
    },
    {
     "name": "stdout",
     "output_type": "stream",
     "text": [
      "[50]\tval-rmse:0.48535\n"
     ]
    },
    {
     "name": "stdout",
     "output_type": "stream",
     "text": [
      "[75]\tval-rmse:0.47840\n"
     ]
    },
    {
     "name": "stdout",
     "output_type": "stream",
     "text": [
      "[100]\tval-rmse:0.47440\n"
     ]
    },
    {
     "name": "stdout",
     "output_type": "stream",
     "text": [
      "[125]\tval-rmse:0.47052\n"
     ]
    },
    {
     "name": "stdout",
     "output_type": "stream",
     "text": [
      "[150]\tval-rmse:0.46800\n"
     ]
    },
    {
     "name": "stdout",
     "output_type": "stream",
     "text": [
      "[175]\tval-rmse:0.46643\n"
     ]
    },
    {
     "name": "stdout",
     "output_type": "stream",
     "text": [
      "[200]\tval-rmse:0.46515\n"
     ]
    },
    {
     "name": "stdout",
     "output_type": "stream",
     "text": [
      "[225]\tval-rmse:0.46416\n"
     ]
    },
    {
     "name": "stdout",
     "output_type": "stream",
     "text": [
      "[250]\tval-rmse:0.46299\n"
     ]
    },
    {
     "name": "stdout",
     "output_type": "stream",
     "text": [
      "[275]\tval-rmse:0.46240\n"
     ]
    },
    {
     "name": "stdout",
     "output_type": "stream",
     "text": [
      "[300]\tval-rmse:0.46167\n"
     ]
    },
    {
     "name": "stdout",
     "output_type": "stream",
     "text": [
      "[325]\tval-rmse:0.46058\n"
     ]
    },
    {
     "name": "stdout",
     "output_type": "stream",
     "text": [
      "[350]\tval-rmse:0.46021\n"
     ]
    },
    {
     "name": "stdout",
     "output_type": "stream",
     "text": [
      "[375]\tval-rmse:0.46003\n"
     ]
    },
    {
     "name": "stdout",
     "output_type": "stream",
     "text": [
      "[400]\tval-rmse:0.45968\n"
     ]
    },
    {
     "name": "stdout",
     "output_type": "stream",
     "text": [
      "[425]\tval-rmse:0.45968\n"
     ]
    },
    {
     "name": "stdout",
     "output_type": "stream",
     "text": [
      "[450]\tval-rmse:0.45922\n"
     ]
    },
    {
     "name": "stdout",
     "output_type": "stream",
     "text": [
      "[475]\tval-rmse:0.45876\n"
     ]
    },
    {
     "name": "stdout",
     "output_type": "stream",
     "text": [
      "[500]\tval-rmse:0.45855\n"
     ]
    },
    {
     "name": "stdout",
     "output_type": "stream",
     "text": [
      "[525]\tval-rmse:0.45839\n"
     ]
    },
    {
     "name": "stdout",
     "output_type": "stream",
     "text": [
      "[550]\tval-rmse:0.45845\n"
     ]
    },
    {
     "name": "stdout",
     "output_type": "stream",
     "text": [
      "[575]\tval-rmse:0.45843\n"
     ]
    },
    {
     "name": "stdout",
     "output_type": "stream",
     "text": [
      "[600]\tval-rmse:0.45827\n"
     ]
    },
    {
     "name": "stdout",
     "output_type": "stream",
     "text": [
      "[625]\tval-rmse:0.45841\n"
     ]
    },
    {
     "name": "stdout",
     "output_type": "stream",
     "text": [
      "[650]\tval-rmse:0.45842\n"
     ]
    },
    {
     "name": "stdout",
     "output_type": "stream",
     "text": [
      "[675]\tval-rmse:0.45826\n"
     ]
    },
    {
     "name": "stdout",
     "output_type": "stream",
     "text": [
      "[700]\tval-rmse:0.45814\n"
     ]
    },
    {
     "name": "stdout",
     "output_type": "stream",
     "text": [
      "[725]\tval-rmse:0.45819\n"
     ]
    },
    {
     "name": "stdout",
     "output_type": "stream",
     "text": [
      "[750]\tval-rmse:0.45824\n"
     ]
    },
    {
     "name": "stdout",
     "output_type": "stream",
     "text": [
      "[775]\tval-rmse:0.45825\n"
     ]
    },
    {
     "name": "stdout",
     "output_type": "stream",
     "text": [
      "[800]\tval-rmse:0.45839\n"
     ]
    },
    {
     "name": "stdout",
     "output_type": "stream",
     "text": [
      "[825]\tval-rmse:0.45849\n"
     ]
    },
    {
     "name": "stdout",
     "output_type": "stream",
     "text": [
      "[850]\tval-rmse:0.45846\n"
     ]
    },
    {
     "name": "stdout",
     "output_type": "stream",
     "text": [
      "[875]\tval-rmse:0.45858\n"
     ]
    },
    {
     "name": "stdout",
     "output_type": "stream",
     "text": [
      "[900]\tval-rmse:0.45859\n"
     ]
    },
    {
     "name": "stdout",
     "output_type": "stream",
     "text": [
      "[925]\tval-rmse:0.45854\n"
     ]
    },
    {
     "name": "stdout",
     "output_type": "stream",
     "text": [
      "[950]\tval-rmse:0.45854\n"
     ]
    },
    {
     "name": "stdout",
     "output_type": "stream",
     "text": [
      "[975]\tval-rmse:0.45863\n"
     ]
    },
    {
     "name": "stdout",
     "output_type": "stream",
     "text": [
      "[1000]\tval-rmse:0.45866\n"
     ]
    },
    {
     "name": "stdout",
     "output_type": "stream",
     "text": [
      "[1025]\tval-rmse:0.45873\n"
     ]
    },
    {
     "name": "stdout",
     "output_type": "stream",
     "text": [
      "[1050]\tval-rmse:0.45863\n"
     ]
    },
    {
     "name": "stdout",
     "output_type": "stream",
     "text": [
      "[1075]\tval-rmse:0.45868\n"
     ]
    },
    {
     "name": "stdout",
     "output_type": "stream",
     "text": [
      "[1100]\tval-rmse:0.45866\n"
     ]
    },
    {
     "name": "stdout",
     "output_type": "stream",
     "text": [
      "[1125]\tval-rmse:0.45858\n"
     ]
    },
    {
     "name": "stdout",
     "output_type": "stream",
     "text": [
      "[1150]\tval-rmse:0.45865\n"
     ]
    },
    {
     "name": "stdout",
     "output_type": "stream",
     "text": [
      "[1175]\tval-rmse:0.45862\n"
     ]
    },
    {
     "name": "stdout",
     "output_type": "stream",
     "text": [
      "[1200]\tval-rmse:0.45863\n"
     ]
    },
    {
     "name": "stdout",
     "output_type": "stream",
     "text": [
      "[1225]\tval-rmse:0.45859\n"
     ]
    },
    {
     "name": "stdout",
     "output_type": "stream",
     "text": [
      "[1250]\tval-rmse:0.45867\n"
     ]
    },
    {
     "name": "stdout",
     "output_type": "stream",
     "text": [
      "[1275]\tval-rmse:0.45881\n"
     ]
    },
    {
     "name": "stdout",
     "output_type": "stream",
     "text": [
      "[1300]\tval-rmse:0.45885\n"
     ]
    },
    {
     "name": "stdout",
     "output_type": "stream",
     "text": [
      "[1325]\tval-rmse:0.45889\n"
     ]
    },
    {
     "name": "stdout",
     "output_type": "stream",
     "text": [
      "[1350]\tval-rmse:0.45901\n"
     ]
    },
    {
     "name": "stdout",
     "output_type": "stream",
     "text": [
      "[1375]\tval-rmse:0.45899\n"
     ]
    },
    {
     "name": "stdout",
     "output_type": "stream",
     "text": [
      "[1400]\tval-rmse:0.45910\n"
     ]
    },
    {
     "name": "stdout",
     "output_type": "stream",
     "text": [
      "[1425]\tval-rmse:0.45910\n"
     ]
    },
    {
     "name": "stdout",
     "output_type": "stream",
     "text": [
      "[1450]\tval-rmse:0.45916\n"
     ]
    },
    {
     "name": "stdout",
     "output_type": "stream",
     "text": [
      "[1475]\tval-rmse:0.45913\n"
     ]
    },
    {
     "name": "stdout",
     "output_type": "stream",
     "text": [
      "[1500]\tval-rmse:0.45922\n"
     ]
    },
    {
     "name": "stdout",
     "output_type": "stream",
     "text": [
      "[1525]\tval-rmse:0.45926\n"
     ]
    },
    {
     "name": "stdout",
     "output_type": "stream",
     "text": [
      "[1550]\tval-rmse:0.45933\n"
     ]
    },
    {
     "name": "stdout",
     "output_type": "stream",
     "text": [
      "[1575]\tval-rmse:0.45936\n"
     ]
    },
    {
     "name": "stdout",
     "output_type": "stream",
     "text": [
      "[1600]\tval-rmse:0.45935\n"
     ]
    },
    {
     "name": "stdout",
     "output_type": "stream",
     "text": [
      "[1625]\tval-rmse:0.45945\n"
     ]
    },
    {
     "name": "stdout",
     "output_type": "stream",
     "text": [
      "[1650]\tval-rmse:0.45956\n"
     ]
    },
    {
     "name": "stdout",
     "output_type": "stream",
     "text": [
      "[1675]\tval-rmse:0.45961\n"
     ]
    },
    {
     "name": "stdout",
     "output_type": "stream",
     "text": [
      "[1700]\tval-rmse:0.45958\n"
     ]
    },
    {
     "name": "stdout",
     "output_type": "stream",
     "text": [
      "[1725]\tval-rmse:0.45958\n"
     ]
    },
    {
     "name": "stdout",
     "output_type": "stream",
     "text": [
      "[1750]\tval-rmse:0.45960\n"
     ]
    },
    {
     "name": "stdout",
     "output_type": "stream",
     "text": [
      "[1775]\tval-rmse:0.45954\n"
     ]
    },
    {
     "name": "stdout",
     "output_type": "stream",
     "text": [
      "[1800]\tval-rmse:0.45958\n"
     ]
    },
    {
     "name": "stdout",
     "output_type": "stream",
     "text": [
      "[1825]\tval-rmse:0.45962\n"
     ]
    },
    {
     "name": "stdout",
     "output_type": "stream",
     "text": [
      "[1850]\tval-rmse:0.45963\n"
     ]
    },
    {
     "name": "stdout",
     "output_type": "stream",
     "text": [
      "[1875]\tval-rmse:0.45961\n"
     ]
    },
    {
     "name": "stdout",
     "output_type": "stream",
     "text": [
      "[1900]\tval-rmse:0.45963\n"
     ]
    },
    {
     "name": "stdout",
     "output_type": "stream",
     "text": [
      "[1925]\tval-rmse:0.45966\n"
     ]
    },
    {
     "name": "stdout",
     "output_type": "stream",
     "text": [
      "[1950]\tval-rmse:0.45970\n"
     ]
    },
    {
     "name": "stdout",
     "output_type": "stream",
     "text": [
      "[1975]\tval-rmse:0.45975\n"
     ]
    },
    {
     "name": "stdout",
     "output_type": "stream",
     "text": [
      "[1999]\tval-rmse:0.45978\n"
     ]
    },
    {
     "name": "stdout",
     "output_type": "stream",
     "text": [
      "Fold 4 - RMSE: 0.4588983610345478\n",
      "Fold 5\n"
     ]
    },
    {
     "name": "stdout",
     "output_type": "stream",
     "text": [
      "[0]\tval-rmse:0.54084\n"
     ]
    },
    {
     "name": "stdout",
     "output_type": "stream",
     "text": [
      "[25]\tval-rmse:0.46899\n"
     ]
    },
    {
     "name": "stdout",
     "output_type": "stream",
     "text": [
      "[50]\tval-rmse:0.44826\n"
     ]
    },
    {
     "name": "stdout",
     "output_type": "stream",
     "text": [
      "[75]\tval-rmse:0.44237\n"
     ]
    },
    {
     "name": "stdout",
     "output_type": "stream",
     "text": [
      "[100]\tval-rmse:0.43663\n"
     ]
    },
    {
     "name": "stdout",
     "output_type": "stream",
     "text": [
      "[125]\tval-rmse:0.43254\n"
     ]
    },
    {
     "name": "stdout",
     "output_type": "stream",
     "text": [
      "[150]\tval-rmse:0.42788\n"
     ]
    },
    {
     "name": "stdout",
     "output_type": "stream",
     "text": [
      "[175]\tval-rmse:0.42359\n"
     ]
    },
    {
     "name": "stdout",
     "output_type": "stream",
     "text": [
      "[200]\tval-rmse:0.42176\n"
     ]
    },
    {
     "name": "stdout",
     "output_type": "stream",
     "text": [
      "[225]\tval-rmse:0.41876\n"
     ]
    },
    {
     "name": "stdout",
     "output_type": "stream",
     "text": [
      "[250]\tval-rmse:0.41735\n"
     ]
    },
    {
     "name": "stdout",
     "output_type": "stream",
     "text": [
      "[275]\tval-rmse:0.41631\n"
     ]
    },
    {
     "name": "stdout",
     "output_type": "stream",
     "text": [
      "[300]\tval-rmse:0.41526\n"
     ]
    },
    {
     "name": "stdout",
     "output_type": "stream",
     "text": [
      "[325]\tval-rmse:0.41432\n"
     ]
    },
    {
     "name": "stdout",
     "output_type": "stream",
     "text": [
      "[350]\tval-rmse:0.41391\n"
     ]
    },
    {
     "name": "stdout",
     "output_type": "stream",
     "text": [
      "[375]\tval-rmse:0.41378\n"
     ]
    },
    {
     "name": "stdout",
     "output_type": "stream",
     "text": [
      "[400]\tval-rmse:0.41365\n"
     ]
    },
    {
     "name": "stdout",
     "output_type": "stream",
     "text": [
      "[425]\tval-rmse:0.41349\n"
     ]
    },
    {
     "name": "stdout",
     "output_type": "stream",
     "text": [
      "[450]\tval-rmse:0.41326\n"
     ]
    },
    {
     "name": "stdout",
     "output_type": "stream",
     "text": [
      "[475]\tval-rmse:0.41298\n"
     ]
    },
    {
     "name": "stdout",
     "output_type": "stream",
     "text": [
      "[500]\tval-rmse:0.41310\n"
     ]
    },
    {
     "name": "stdout",
     "output_type": "stream",
     "text": [
      "[525]\tval-rmse:0.41293\n"
     ]
    },
    {
     "name": "stdout",
     "output_type": "stream",
     "text": [
      "[550]\tval-rmse:0.41281\n"
     ]
    },
    {
     "name": "stdout",
     "output_type": "stream",
     "text": [
      "[575]\tval-rmse:0.41281\n"
     ]
    },
    {
     "name": "stdout",
     "output_type": "stream",
     "text": [
      "[600]\tval-rmse:0.41276\n"
     ]
    },
    {
     "name": "stdout",
     "output_type": "stream",
     "text": [
      "[625]\tval-rmse:0.41280\n"
     ]
    },
    {
     "name": "stdout",
     "output_type": "stream",
     "text": [
      "[650]\tval-rmse:0.41293\n"
     ]
    },
    {
     "name": "stdout",
     "output_type": "stream",
     "text": [
      "[675]\tval-rmse:0.41291\n"
     ]
    },
    {
     "name": "stdout",
     "output_type": "stream",
     "text": [
      "[700]\tval-rmse:0.41293\n"
     ]
    },
    {
     "name": "stdout",
     "output_type": "stream",
     "text": [
      "[725]\tval-rmse:0.41291\n"
     ]
    },
    {
     "name": "stdout",
     "output_type": "stream",
     "text": [
      "[750]\tval-rmse:0.41297\n"
     ]
    },
    {
     "name": "stdout",
     "output_type": "stream",
     "text": [
      "[775]\tval-rmse:0.41286\n"
     ]
    },
    {
     "name": "stdout",
     "output_type": "stream",
     "text": [
      "[800]\tval-rmse:0.41289\n"
     ]
    },
    {
     "name": "stdout",
     "output_type": "stream",
     "text": [
      "[825]\tval-rmse:0.41299\n"
     ]
    },
    {
     "name": "stdout",
     "output_type": "stream",
     "text": [
      "[850]\tval-rmse:0.41313\n"
     ]
    },
    {
     "name": "stdout",
     "output_type": "stream",
     "text": [
      "[875]\tval-rmse:0.41316\n"
     ]
    },
    {
     "name": "stdout",
     "output_type": "stream",
     "text": [
      "[900]\tval-rmse:0.41311\n"
     ]
    },
    {
     "name": "stdout",
     "output_type": "stream",
     "text": [
      "[925]\tval-rmse:0.41312\n"
     ]
    },
    {
     "name": "stdout",
     "output_type": "stream",
     "text": [
      "[950]\tval-rmse:0.41305\n"
     ]
    },
    {
     "name": "stdout",
     "output_type": "stream",
     "text": [
      "[975]\tval-rmse:0.41294\n"
     ]
    },
    {
     "name": "stdout",
     "output_type": "stream",
     "text": [
      "[1000]\tval-rmse:0.41300\n"
     ]
    },
    {
     "name": "stdout",
     "output_type": "stream",
     "text": [
      "[1025]\tval-rmse:0.41310\n"
     ]
    },
    {
     "name": "stdout",
     "output_type": "stream",
     "text": [
      "[1050]\tval-rmse:0.41328\n"
     ]
    },
    {
     "name": "stdout",
     "output_type": "stream",
     "text": [
      "[1075]\tval-rmse:0.41338\n"
     ]
    },
    {
     "name": "stdout",
     "output_type": "stream",
     "text": [
      "[1100]\tval-rmse:0.41341\n"
     ]
    },
    {
     "name": "stdout",
     "output_type": "stream",
     "text": [
      "[1125]\tval-rmse:0.41336\n"
     ]
    },
    {
     "name": "stdout",
     "output_type": "stream",
     "text": [
      "[1150]\tval-rmse:0.41343\n"
     ]
    },
    {
     "name": "stdout",
     "output_type": "stream",
     "text": [
      "[1175]\tval-rmse:0.41340\n"
     ]
    },
    {
     "name": "stdout",
     "output_type": "stream",
     "text": [
      "[1200]\tval-rmse:0.41345\n"
     ]
    },
    {
     "name": "stdout",
     "output_type": "stream",
     "text": [
      "[1225]\tval-rmse:0.41353\n"
     ]
    },
    {
     "name": "stdout",
     "output_type": "stream",
     "text": [
      "[1250]\tval-rmse:0.41360\n"
     ]
    },
    {
     "name": "stdout",
     "output_type": "stream",
     "text": [
      "[1275]\tval-rmse:0.41365\n"
     ]
    },
    {
     "name": "stdout",
     "output_type": "stream",
     "text": [
      "[1300]\tval-rmse:0.41364\n"
     ]
    },
    {
     "name": "stdout",
     "output_type": "stream",
     "text": [
      "[1325]\tval-rmse:0.41371\n"
     ]
    },
    {
     "name": "stdout",
     "output_type": "stream",
     "text": [
      "[1350]\tval-rmse:0.41377\n"
     ]
    },
    {
     "name": "stdout",
     "output_type": "stream",
     "text": [
      "[1375]\tval-rmse:0.41386\n"
     ]
    },
    {
     "name": "stdout",
     "output_type": "stream",
     "text": [
      "[1400]\tval-rmse:0.41387\n"
     ]
    },
    {
     "name": "stdout",
     "output_type": "stream",
     "text": [
      "[1425]\tval-rmse:0.41391\n"
     ]
    },
    {
     "name": "stdout",
     "output_type": "stream",
     "text": [
      "[1450]\tval-rmse:0.41401\n"
     ]
    },
    {
     "name": "stdout",
     "output_type": "stream",
     "text": [
      "[1475]\tval-rmse:0.41398\n"
     ]
    },
    {
     "name": "stdout",
     "output_type": "stream",
     "text": [
      "[1500]\tval-rmse:0.41394\n"
     ]
    },
    {
     "name": "stdout",
     "output_type": "stream",
     "text": [
      "[1525]\tval-rmse:0.41396\n"
     ]
    },
    {
     "name": "stdout",
     "output_type": "stream",
     "text": [
      "[1550]\tval-rmse:0.41406\n"
     ]
    },
    {
     "name": "stdout",
     "output_type": "stream",
     "text": [
      "[1575]\tval-rmse:0.41410\n"
     ]
    },
    {
     "name": "stdout",
     "output_type": "stream",
     "text": [
      "[1600]\tval-rmse:0.41419\n"
     ]
    },
    {
     "name": "stdout",
     "output_type": "stream",
     "text": [
      "[1625]\tval-rmse:0.41424\n"
     ]
    },
    {
     "name": "stdout",
     "output_type": "stream",
     "text": [
      "[1650]\tval-rmse:0.41424\n"
     ]
    },
    {
     "name": "stdout",
     "output_type": "stream",
     "text": [
      "[1675]\tval-rmse:0.41429\n"
     ]
    },
    {
     "name": "stdout",
     "output_type": "stream",
     "text": [
      "[1700]\tval-rmse:0.41426\n"
     ]
    },
    {
     "name": "stdout",
     "output_type": "stream",
     "text": [
      "[1725]\tval-rmse:0.41429\n"
     ]
    },
    {
     "name": "stdout",
     "output_type": "stream",
     "text": [
      "[1750]\tval-rmse:0.41434\n"
     ]
    },
    {
     "name": "stdout",
     "output_type": "stream",
     "text": [
      "[1775]\tval-rmse:0.41432\n"
     ]
    },
    {
     "name": "stdout",
     "output_type": "stream",
     "text": [
      "[1800]\tval-rmse:0.41435\n"
     ]
    },
    {
     "name": "stdout",
     "output_type": "stream",
     "text": [
      "[1825]\tval-rmse:0.41439\n"
     ]
    },
    {
     "name": "stdout",
     "output_type": "stream",
     "text": [
      "[1850]\tval-rmse:0.41441\n"
     ]
    },
    {
     "name": "stdout",
     "output_type": "stream",
     "text": [
      "[1875]\tval-rmse:0.41443\n"
     ]
    },
    {
     "name": "stdout",
     "output_type": "stream",
     "text": [
      "[1900]\tval-rmse:0.41444\n"
     ]
    },
    {
     "name": "stdout",
     "output_type": "stream",
     "text": [
      "[1925]\tval-rmse:0.41445\n"
     ]
    },
    {
     "name": "stdout",
     "output_type": "stream",
     "text": [
      "[1950]\tval-rmse:0.41446\n"
     ]
    },
    {
     "name": "stdout",
     "output_type": "stream",
     "text": [
      "[1975]\tval-rmse:0.41447\n"
     ]
    },
    {
     "name": "stdout",
     "output_type": "stream",
     "text": [
      "[1999]\tval-rmse:0.41448\n"
     ]
    },
    {
     "name": "stdout",
     "output_type": "stream",
     "text": [
      "Fold 5 - RMSE: 0.4138218229596724\n",
      "List of oof scores: [0.4490082171005587, 0.4569056846229123, 0.46149360161840786, 0.4588983610345478, 0.4138218229596724]\n",
      "Average oof score: 0.44802553746721985\n"
     ]
    }
   ],
   "source": [
    "# call the function\n",
    "trained_models1, oof1, oof_scores1, importance_df1 = train_models(\n",
    "    df_train,\n",
    "    'utility_agent1',\n",
    "    numerical_cols,\n",
    "    categorical_cols,\n",
    "    split_list=split1,\n",
    ")\n",
    "# save oof predictions\n",
    "# oof1.to_csv(path_results / 'oof_xgboost_cv1.csv', index=False)\n",
    "# save feature importance\n",
    "importance_df1.to_csv(path_results / 'feat_importance_xgboost_cv1.csv', index=False)\n"
   ]
  },
  {
   "cell_type": "code",
   "execution_count": 9,
   "id": "79efa7e5",
   "metadata": {
    "execution": {
     "iopub.execute_input": "2024-11-22T23:14:51.785889Z",
     "iopub.status.busy": "2024-11-22T23:14:51.785761Z",
     "iopub.status.idle": "2024-11-22T23:14:51.787527Z",
     "shell.execute_reply": "2024-11-22T23:14:51.787219Z"
    },
    "papermill": {
     "duration": 0.013281,
     "end_time": "2024-11-22T23:14:51.788273",
     "exception": false,
     "start_time": "2024-11-22T23:14:51.774992",
     "status": "completed"
    },
    "tags": []
   },
   "outputs": [],
   "source": [
    "# # call the function\n",
    "# trained_models2, oof2, oof_scores2 = train_models(\n",
    "#     df_train,\n",
    "#     'utility_agent1',\n",
    "#     numerical_cols,\n",
    "#     categorical_cols,\n",
    "#     num_folds=5,\n",
    "#     cv_random_state=19,\n",
    "# )\n",
    "# # save oof predictions\n",
    "# oof2.to_csv(path_results / 'oof_xgboost_cv2.csv', index=False)"
   ]
  },
  {
   "cell_type": "code",
   "execution_count": 10,
   "id": "ebd03eb1",
   "metadata": {
    "execution": {
     "iopub.execute_input": "2024-11-22T23:14:51.809267Z",
     "iopub.status.busy": "2024-11-22T23:14:51.809157Z",
     "iopub.status.idle": "2024-11-22T23:14:51.810780Z",
     "shell.execute_reply": "2024-11-22T23:14:51.810499Z"
    },
    "papermill": {
     "duration": 0.013037,
     "end_time": "2024-11-22T23:14:51.811557",
     "exception": false,
     "start_time": "2024-11-22T23:14:51.798520",
     "status": "completed"
    },
    "tags": []
   },
   "outputs": [],
   "source": [
    "# # call the function\n",
    "# trained_models3, oof3, oof_scores3 = train_models(\n",
    "#     df_train,\n",
    "#     'utility_agent1',\n",
    "#     numerical_cols,\n",
    "#     categorical_cols,\n",
    "#     num_folds=5,\n",
    "#     cv_random_state=23,\n",
    "# )\n",
    "# # save oof predictions\n",
    "# oof3.to_csv(path_results / 'oof_xgboost_cv3.csv', index=False)"
   ]
  },
  {
   "cell_type": "code",
   "execution_count": 11,
   "id": "abe5637e",
   "metadata": {
    "execution": {
     "iopub.execute_input": "2024-11-22T23:14:51.844730Z",
     "iopub.status.busy": "2024-11-22T23:14:51.844603Z",
     "iopub.status.idle": "2024-11-22T23:14:51.846250Z",
     "shell.execute_reply": "2024-11-22T23:14:51.845990Z"
    },
    "papermill": {
     "duration": 0.012907,
     "end_time": "2024-11-22T23:14:51.847002",
     "exception": false,
     "start_time": "2024-11-22T23:14:51.834095",
     "status": "completed"
    },
    "tags": []
   },
   "outputs": [],
   "source": [
    "# trained_models = [*trained_models1, *trained_models2, *trained_models3]\n",
    "trained_models = trained_models1"
   ]
  },
  {
   "cell_type": "code",
   "execution_count": 12,
   "id": "0bf2fb82",
   "metadata": {
    "execution": {
     "iopub.execute_input": "2024-11-22T23:14:51.867639Z",
     "iopub.status.busy": "2024-11-22T23:14:51.867545Z",
     "iopub.status.idle": "2024-11-22T23:14:51.982476Z",
     "shell.execute_reply": "2024-11-22T23:14:51.982192Z"
    },
    "papermill": {
     "duration": 0.126167,
     "end_time": "2024-11-22T23:14:51.983321",
     "exception": false,
     "start_time": "2024-11-22T23:14:51.857154",
     "status": "completed"
    },
    "tags": []
   },
   "outputs": [
    {
     "data": {
      "image/png": "[encoded data removed]",
      "text/plain": [
       "<Figure size 640x480 with 1 Axes>"
      ]
     },
     "metadata": {},
     "output_type": "display_data"
    }
   ],
   "source": [
    "plt.hist(oof1['utility_agent1_true'], alpha=0.5, label='Target')\n",
    "plt.hist(oof1['utility_agent1_pred'], alpha=0.5, label='Prediction')\n",
    "plt.legend()\n",
    "plt.show()"
   ]
  },
  {
   "cell_type": "markdown",
   "id": "235db6bb",
   "metadata": {
    "papermill": {
     "duration": 0.011235,
     "end_time": "2024-11-22T23:14:52.005832",
     "exception": false,
     "start_time": "2024-11-22T23:14:51.994597",
     "status": "completed"
    },
    "tags": []
   },
   "source": [
    "***\n",
    "### inference"
   ]
  },
  {
   "cell_type": "code",
   "execution_count": 13,
   "id": "8720d3f9",
   "metadata": {
    "execution": {
     "iopub.execute_input": "2024-11-22T23:14:52.027667Z",
     "iopub.status.busy": "2024-11-22T23:14:52.027538Z",
     "iopub.status.idle": "2024-11-22T23:14:52.089955Z",
     "shell.execute_reply": "2024-11-22T23:14:52.089679Z"
    },
    "papermill": {
     "duration": 0.074442,
     "end_time": "2024-11-22T23:14:52.090819",
     "exception": false,
     "start_time": "2024-11-22T23:14:52.016377",
     "status": "completed"
    },
    "tags": []
   },
   "outputs": [],
   "source": [
    "import os\n",
    "import polars as pl\n",
    "sys.path.append(\"../data/raw/\")\n",
    "import kaggle_evaluation.mcts_inference_server"
   ]
  },
  {
   "cell_type": "code",
   "execution_count": 14,
   "id": "a408eb30",
   "metadata": {
    "execution": {
     "iopub.execute_input": "2024-11-22T23:14:52.113650Z",
     "iopub.status.busy": "2024-11-22T23:14:52.113493Z",
     "iopub.status.idle": "2024-11-22T23:14:52.116458Z",
     "shell.execute_reply": "2024-11-22T23:14:52.116180Z"
    },
    "papermill": {
     "duration": 0.015041,
     "end_time": "2024-11-22T23:14:52.117127",
     "exception": false,
     "start_time": "2024-11-22T23:14:52.102086",
     "status": "completed"
    },
    "tags": []
   },
   "outputs": [],
   "source": [
    "def predict(test: pl.DataFrame, sample_sub: pl.DataFrame):\n",
    "    # Convert Polars DataFrame to Pandas DataFrame\n",
    "    test_pd = test.to_pandas()\n",
    "    \n",
    "    # Process the test data\n",
    "    test_processed = process_test_data(\n",
    "        test_pd,\n",
    "        numerical_cols,\n",
    "        categorical_cols,\n",
    "        encoder,\n",
    "        scaler\n",
    "    )\n",
    "\n",
    "    # Create feature types list for XGBoost\n",
    "    feature_types = [\n",
    "        \"c\" if col in categorical_cols else \"q\" \n",
    "        for col in numerical_cols + categorical_cols\n",
    "    ]\n",
    "\n",
    "    # Create XGBoost DMatrix for test data\n",
    "    test_dmatrix = xgb.DMatrix(\n",
    "        data=test_processed[numerical_cols + categorical_cols],\n",
    "        feature_types=feature_types,\n",
    "        enable_categorical=True\n",
    "    )\n",
    "\n",
    "    # Average predictions from all models\n",
    "    predictions = np.mean([\n",
    "        model.predict(test_dmatrix)\n",
    "        for model in trained_models\n",
    "    ], axis=0)\n",
    "    predictions = np.clip(predictions, -1, 1)\n",
    "        \n",
    "    # Create the submission DataFrame\n",
    "    submission = sample_sub.with_columns(pl.Series(\"utility_agent1\", predictions))\n",
    "    \n",
    "    return submission"
   ]
  },
  {
   "cell_type": "code",
   "execution_count": 15,
   "id": "4b0d1779",
   "metadata": {
    "execution": {
     "iopub.execute_input": "2024-11-22T23:14:52.139141Z",
     "iopub.status.busy": "2024-11-22T23:14:52.139028Z",
     "iopub.status.idle": "2024-11-22T23:14:52.297811Z",
     "shell.execute_reply": "2024-11-22T23:14:52.297481Z"
    },
    "papermill": {
     "duration": 0.170798,
     "end_time": "2024-11-22T23:14:52.298779",
     "exception": false,
     "start_time": "2024-11-22T23:14:52.127981",
     "status": "completed"
    },
    "tags": []
   },
   "outputs": [],
   "source": [
    "inference_server = kaggle_evaluation.mcts_inference_server.MCTSInferenceServer(predict)\n",
    "\n",
    "if os.getenv('KAGGLE_IS_COMPETITION_RERUN'):\n",
    "    inference_server.serve()\n",
    "else:\n",
    "    inference_server.run_local_gateway(\n",
    "        (\n",
    "            '../data/raw/test.csv',\n",
    "            '../data/raw/sample_submission.csv'\n",
    "        )\n",
    "    )"
   ]
  },
  {
   "cell_type": "markdown",
   "id": "0cfef0dc",
   "metadata": {
    "papermill": {
     "duration": 0.010542,
     "end_time": "2024-11-22T23:14:52.320192",
     "exception": false,
     "start_time": "2024-11-22T23:14:52.309650",
     "status": "completed"
    },
    "tags": []
   },
   "source": [
    "***"
   ]
  }
 ],
 "metadata": {
  "kernelspec": {
   "display_name": "mcts-strength-variants-kSTIVMm8-py3.10",
   "language": "python",
   "name": "python3"
  },
  "language_info": {
   "codemirror_mode": {
    "name": "ipython",
    "version": 3
   },
   "file_extension": ".py",
   "mimetype": "text/x-python",
   "name": "python",
   "nbconvert_exporter": "python",
   "pygments_lexer": "ipython3",
   "version": "3.10.12"
  },
  "papermill": {
   "default_parameters": {},
   "duration": 336.312104,
   "end_time": "2024-11-22T23:14:52.749419",
   "environment_variables": {},
   "exception": null,
   "input_path": "train/xgboost.ipynb",
   "output_path": "train/xgboost.ipynb",
   "parameters": {},
   "start_time": "2024-11-22T23:09:16.437315",
   "version": "2.6.0"
  }
 },
 "nbformat": 4,
 "nbformat_minor": 5
}
