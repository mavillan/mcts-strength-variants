{
 "cells": [
  {
   "cell_type": "code",
   "execution_count": null,
   "id": "5bc9957d",
   "metadata": {
    "execution": {
     "iopub.execute_input": "2024-11-19T22:29:20.042314Z",
     "iopub.status.busy": "2024-11-19T22:29:20.041711Z",
     "iopub.status.idle": "2024-11-19T22:29:20.788545Z",
     "shell.execute_reply": "2024-11-19T22:29:20.788235Z"
    },
    "papermill": {
     "duration": 0.7554,
     "end_time": "2024-11-19T22:29:20.789448",
     "exception": false,
     "start_time": "2024-11-19T22:29:20.034048",
     "status": "completed"
    },
    "tags": []
   },
   "outputs": [],
   "source": [
    "import numpy as np\n",
    "import pandas as pd\n",
    "import matplotlib.pyplot as plt\n",
    "from pathlib import Path\n",
    "import json\n",
    "import pickle\n",
    "\n",
    "import xgboost as xgb\n",
    "print(\"xgb.__version__:\", xgb.__version__)\n",
    "\n",
    "# local modules\n",
    "import sys\n",
    "sys.path.append(\"../src\")\n",
    "from preproc import process_train_data, process_test_data"
   ]
  },
  {
   "cell_type": "markdown",
   "id": "7e3cdb68",
   "metadata": {
    "papermill": {
     "duration": 0.001416,
     "end_time": "2024-11-19T22:29:20.792759",
     "exception": false,
     "start_time": "2024-11-19T22:29:20.791343",
     "status": "completed"
    },
    "tags": []
   },
   "source": [
    "***\n",
    "### load and preprocess data"
   ]
  },
  {
   "cell_type": "code",
   "execution_count": null,
   "id": "adf69315",
   "metadata": {
    "execution": {
     "iopub.execute_input": "2024-11-19T22:29:20.796684Z",
     "iopub.status.busy": "2024-11-19T22:29:20.796505Z",
     "iopub.status.idle": "2024-11-19T22:29:27.417652Z",
     "shell.execute_reply": "2024-11-19T22:29:27.417371Z"
    },
    "papermill": {
     "duration": 6.624908,
     "end_time": "2024-11-19T22:29:27.419010",
     "exception": false,
     "start_time": "2024-11-19T22:29:20.794102",
     "status": "completed"
    },
    "tags": []
   },
   "outputs": [],
   "source": [
    "# define some paths\n",
    "path_raw = Path(\"../data/raw\")\n",
    "path_processed = Path(\"../data/processed\")\n",
    "path_results = Path(\"../data/results\")\n",
    "\n",
    "# load data\n",
    "df_train = pd.read_csv(path_raw / \"train.csv\")\n",
    "df_test = pd.read_csv(path_raw / \"test.csv\")\n",
    "\n",
    "df_train"
   ]
  },
  {
   "cell_type": "code",
   "execution_count": null,
   "id": "84edb17d",
   "metadata": {
    "execution": {
     "iopub.execute_input": "2024-11-19T22:29:27.423286Z",
     "iopub.status.busy": "2024-11-19T22:29:27.423173Z",
     "iopub.status.idle": "2024-11-19T22:29:27.425625Z",
     "shell.execute_reply": "2024-11-19T22:29:27.425391Z"
    },
    "papermill": {
     "duration": 0.00523,
     "end_time": "2024-11-19T22:29:27.426326",
     "exception": false,
     "start_time": "2024-11-19T22:29:27.421096",
     "status": "completed"
    },
    "tags": []
   },
   "outputs": [],
   "source": [
    "# # Load the feature selection results\n",
    "# with open('../feat_selection/select_optuna_lgbm.json', 'r') as f:\n",
    "#     feature_selection = json.load(f)\n",
    "\n",
    "# # Extract the selected features\n",
    "# numerical_cols = feature_selection.get('numerical', [])\n",
    "# categorical_cols = feature_selection.get('categorical', [])\n",
    "\n",
    "# print(\"Numerical features:\", len(numerical_cols))\n",
    "# print(\"Categorical features:\", len(categorical_cols))"
   ]
  },
  {
   "cell_type": "code",
   "execution_count": null,
   "id": "285296ed",
   "metadata": {
    "execution": {
     "iopub.execute_input": "2024-11-19T22:29:27.430159Z",
     "iopub.status.busy": "2024-11-19T22:29:27.430058Z",
     "iopub.status.idle": "2024-11-19T22:29:30.199987Z",
     "shell.execute_reply": "2024-11-19T22:29:30.199646Z"
    },
    "papermill": {
     "duration": 2.772817,
     "end_time": "2024-11-19T22:29:30.200888",
     "exception": false,
     "start_time": "2024-11-19T22:29:27.428071",
     "status": "completed"
    },
    "tags": []
   },
   "outputs": [],
   "source": [
    "df_train, numerical_cols, categorical_cols, encoder, scaler = process_train_data(\n",
    "    df_train,\n",
    "    scale=False,\n",
    "    # numerical_cols=numerical_cols,\n",
    "    # categorical_cols=categorical_cols,\n",
    "    include_position_features=False,\n",
    "    include_text_features=False,\n",
    ")\n",
    "\n",
    "# Print the results\n",
    "print(\"Numerical Columns:\", len(numerical_cols))\n",
    "print(\"Categorical Columns:\", len(categorical_cols))"
   ]
  },
  {
   "cell_type": "code",
   "execution_count": null,
   "id": "3fd7abf2",
   "metadata": {
    "execution": {
     "iopub.execute_input": "2024-11-19T22:29:30.205322Z",
     "iopub.status.busy": "2024-11-19T22:29:30.205195Z",
     "iopub.status.idle": "2024-11-19T22:29:30.310785Z",
     "shell.execute_reply": "2024-11-19T22:29:30.310468Z"
    },
    "papermill": {
     "duration": 0.108593,
     "end_time": "2024-11-19T22:29:30.311632",
     "exception": false,
     "start_time": "2024-11-19T22:29:30.203039",
     "status": "completed"
    },
    "tags": []
   },
   "outputs": [],
   "source": [
    "plt.hist(df_train['utility_agent1'], bins=100)\n",
    "plt.title('Distribution of Target Variable')\n",
    "plt.xlabel('Utility Agent 1')\n",
    "plt.ylabel('Frequency')\n",
    "plt.show()"
   ]
  },
  {
   "cell_type": "code",
   "execution_count": 6,
   "id": "41ae3805",
   "metadata": {
    "execution": {
     "iopub.execute_input": "2024-11-19T22:29:30.316963Z",
     "iopub.status.busy": "2024-11-19T22:29:30.316825Z",
     "iopub.status.idle": "2024-11-19T22:29:30.322027Z",
     "shell.execute_reply": "2024-11-19T22:29:30.321771Z"
    },
    "papermill": {
     "duration": 0.008841,
     "end_time": "2024-11-19T22:29:30.322832",
     "exception": false,
     "start_time": "2024-11-19T22:29:30.313991",
     "status": "completed"
    },
    "tags": []
   },
   "outputs": [],
   "source": [
    "split1 = pickle.load(open('../data/splits/cv1_Game.pkl', 'rb'))\n",
    "\n",
    "# split1 = pickle.load(open('../data/splits/cv1_GameRulesetName.pkl', 'rb'))\n",
    "# split2 = pickle.load(open('../data/splits/cv2_GameRulesetName.pkl', 'rb'))\n",
    "# split3 = pickle.load(open('../data/splits/cv3_GameRulesetName.pkl', 'rb'))"
   ]
  },
  {
   "cell_type": "markdown",
   "id": "02d53ba1",
   "metadata": {
    "papermill": {
     "duration": 0.001942,
     "end_time": "2024-11-19T22:29:30.326883",
     "exception": false,
     "start_time": "2024-11-19T22:29:30.324941",
     "status": "completed"
    },
    "tags": []
   },
   "source": [
    "***\n",
    "### train model\n"
   ]
  },
  {
   "cell_type": "code",
   "execution_count": 7,
   "id": "c7646448",
   "metadata": {
    "execution": {
     "iopub.execute_input": "2024-11-19T22:29:30.331462Z",
     "iopub.status.busy": "2024-11-19T22:29:30.331296Z",
     "iopub.status.idle": "2024-11-19T22:29:30.364150Z",
     "shell.execute_reply": "2024-11-19T22:29:30.363857Z"
    },
    "papermill": {
     "duration": 0.036081,
     "end_time": "2024-11-19T22:29:30.364955",
     "exception": false,
     "start_time": "2024-11-19T22:29:30.328874",
     "status": "completed"
    },
    "tags": []
   },
   "outputs": [],
   "source": [
    "def train_models(\n",
    "        df_train,\n",
    "        target,\n",
    "        numerical_cols,\n",
    "        categorical_cols,\n",
    "        split_list=None\n",
    "    ):\n",
    "    # Define the parameters\n",
    "    params = {\n",
    "        'objective': \"reg:squarederror\",\n",
    "        'eval_metric': 'rmse',\n",
    "        'max_depth': 7,\n",
    "        'learning_rate': 0.1,\n",
    "        'alpha': 0.1,  # Equivalent to reg_alpha in LightGBM\n",
    "        'lambda': 0.1,  # Equivalent to reg_lambda in LightGBM\n",
    "        'colsample_bytree': 0.8,  # Equivalent to feature_fraction in LightGBM\n",
    "        'seed': 2112,\n",
    "        'verbosity': 0,  # Equivalent to verbose: -1 in LightGBM\n",
    "    }\n",
    "\n",
    "    trained_models = []\n",
    "    oof = pd.DataFrame(\n",
    "        index=df_train.index,\n",
    "        columns=[f'{target}_true', f'{target}_pred', 'fold']\n",
    "    )\n",
    "    oof_scores = []\n",
    "    feat_importance_dfs = []\n",
    "\n",
    "    # Perform cross-validation\n",
    "    for fold, (train_index, val_index) in enumerate(split_list, 1):\n",
    "        print(f\"Fold {fold}\")\n",
    "        \n",
    "        # Split the data\n",
    "        X_train, X_val = df_train.iloc[train_index], df_train.iloc[val_index]\n",
    "        y_train, y_val = X_train[target], X_val[target]\n",
    "\n",
    "        feature_types = [\n",
    "            \"c\" if col in categorical_cols else \"q\" \n",
    "            for col in numerical_cols + categorical_cols\n",
    "        ]\n",
    "        \n",
    "        # Convert to DMatrix format\n",
    "        train_data = xgb.DMatrix(\n",
    "            data=X_train[numerical_cols + categorical_cols],\n",
    "            label=y_train,\n",
    "            feature_types=feature_types,\n",
    "            enable_categorical=True,\n",
    "            feature_names=numerical_cols + categorical_cols\n",
    "        )\n",
    "        val_data = xgb.DMatrix(\n",
    "            data=X_val[numerical_cols + categorical_cols],\n",
    "            label=y_val,\n",
    "            feature_types=feature_types,\n",
    "            enable_categorical=True,\n",
    "            feature_names=numerical_cols + categorical_cols\n",
    "        )\n",
    "\n",
    "        # Train the model\n",
    "        model = xgb.train(\n",
    "            params,\n",
    "            train_data,\n",
    "            num_boost_round=2000,\n",
    "            evals=[(val_data, 'val')],\n",
    "            verbose_eval=25,\n",
    "        )\n",
    "        \n",
    "        # Get feature importance\n",
    "        importance_dict = model.get_score(importance_type='gain')\n",
    "        feat_importance = pd.DataFrame(\n",
    "            {'feature': list(importance_dict.keys()),\n",
    "             f'importance_f{fold}': list(importance_dict.values())}\n",
    "        )\n",
    "        feat_importance_dfs.append(feat_importance)\n",
    "        \n",
    "        # Save the trained model to the list\n",
    "        trained_models.append(model)\n",
    "\n",
    "        # predict on validation set\n",
    "        y_pred = model.predict(val_data)\n",
    "\n",
    "        # Save out-of-fold predictions\n",
    "        oof.loc[val_index, f'{target}_true'] = y_val\n",
    "        oof.loc[val_index, f'{target}_pred'] = y_pred\n",
    "        oof.loc[val_index, 'fold'] = fold\n",
    "\n",
    "        # Compute RMSE\n",
    "        y_pred = np.clip(y_pred, -1, 1)\n",
    "        rmse = np.sqrt(np.mean((y_pred - y_val) ** 2))\n",
    "        print(f\"Fold {fold} - RMSE: {rmse}\")\n",
    "\n",
    "        # Save RMSE to the list\n",
    "        oof_scores.append(rmse)\n",
    "\n",
    "    # Combine feature importance dataframes\n",
    "    importance_df = feat_importance_dfs[0]\n",
    "    for df in feat_importance_dfs[1:]:\n",
    "        importance_df = importance_df.merge(df, on='feature')\n",
    "    \n",
    "    # Calculate mean importance across folds\n",
    "    importance_cols = [col for col in importance_df.columns if col.startswith('importance_f')]\n",
    "    importance_df['importance_mean'] = importance_df[importance_cols].mean(axis=1)\n",
    "    importance_df = importance_df.sort_values('importance_mean', ascending=False, ignore_index=True)\n",
    "    importance_df['importance_relative'] = (\n",
    "        importance_df['importance_mean'] / \n",
    "        importance_df['importance_mean'].sum()\n",
    "    )\n",
    "\n",
    "    # Print the list of oof scores and average oof score\n",
    "    print(\"List of oof scores:\", oof_scores)\n",
    "    print(\"Average oof score:\", np.mean(oof_scores))\n",
    "\n",
    "    return trained_models, oof, oof_scores, importance_df"
   ]
  },
  {
   "cell_type": "code",
   "execution_count": null,
   "id": "497cba0e",
   "metadata": {
    "execution": {
     "iopub.execute_input": "2024-11-19T22:29:30.369505Z",
     "iopub.status.busy": "2024-11-19T22:29:30.369397Z",
     "iopub.status.idle": "2024-11-19T22:32:35.794407Z",
     "shell.execute_reply": "2024-11-19T22:32:35.793845Z"
    },
    "papermill": {
     "duration": 185.428289,
     "end_time": "2024-11-19T22:32:35.795425",
     "exception": false,
     "start_time": "2024-11-19T22:29:30.367136",
     "status": "completed"
    },
    "tags": []
   },
   "outputs": [],
   "source": [
    "# call the function\n",
    "trained_models1, oof1, oof_scores1, importance_df1 = train_models(\n",
    "    df_train,\n",
    "    'utility_agent1',\n",
    "    numerical_cols,\n",
    "    categorical_cols,\n",
    "    split_list=split1,\n",
    ")\n",
    "# save oof predictions\n",
    "# oof1.to_csv(path_results / 'oof_xgboost_cv1.csv', index=False)\n",
    "# save feature importance\n",
    "importance_df1.to_csv(path_results / 'feat_importance_xgboost_cv1.csv', index=False)\n"
   ]
  },
  {
   "cell_type": "code",
   "execution_count": 9,
   "id": "79efa7e5",
   "metadata": {
    "execution": {
     "iopub.execute_input": "2024-11-19T22:32:35.815907Z",
     "iopub.status.busy": "2024-11-19T22:32:35.815773Z",
     "iopub.status.idle": "2024-11-19T22:32:35.817612Z",
     "shell.execute_reply": "2024-11-19T22:32:35.817382Z"
    },
    "papermill": {
     "duration": 0.01271,
     "end_time": "2024-11-19T22:32:35.818291",
     "exception": false,
     "start_time": "2024-11-19T22:32:35.805581",
     "status": "completed"
    },
    "tags": []
   },
   "outputs": [],
   "source": [
    "# # call the function\n",
    "# trained_models2, oof2, oof_scores2 = train_models(\n",
    "#     df_train,\n",
    "#     'utility_agent1',\n",
    "#     numerical_cols,\n",
    "#     categorical_cols,\n",
    "#     num_folds=5,\n",
    "#     cv_random_state=19,\n",
    "# )\n",
    "# # save oof predictions\n",
    "# oof2.to_csv(path_results / 'oof_xgboost_cv2.csv', index=False)"
   ]
  },
  {
   "cell_type": "code",
   "execution_count": 10,
   "id": "ebd03eb1",
   "metadata": {
    "execution": {
     "iopub.execute_input": "2024-11-19T22:32:35.837757Z",
     "iopub.status.busy": "2024-11-19T22:32:35.837659Z",
     "iopub.status.idle": "2024-11-19T22:32:35.839179Z",
     "shell.execute_reply": "2024-11-19T22:32:35.838953Z"
    },
    "papermill": {
     "duration": 0.012034,
     "end_time": "2024-11-19T22:32:35.839858",
     "exception": false,
     "start_time": "2024-11-19T22:32:35.827824",
     "status": "completed"
    },
    "tags": []
   },
   "outputs": [],
   "source": [
    "# # call the function\n",
    "# trained_models3, oof3, oof_scores3 = train_models(\n",
    "#     df_train,\n",
    "#     'utility_agent1',\n",
    "#     numerical_cols,\n",
    "#     categorical_cols,\n",
    "#     num_folds=5,\n",
    "#     cv_random_state=23,\n",
    "# )\n",
    "# # save oof predictions\n",
    "# oof3.to_csv(path_results / 'oof_xgboost_cv3.csv', index=False)"
   ]
  },
  {
   "cell_type": "code",
   "execution_count": 11,
   "id": "abe5637e",
   "metadata": {
    "execution": {
     "iopub.execute_input": "2024-11-19T22:32:35.859229Z",
     "iopub.status.busy": "2024-11-19T22:32:35.859127Z",
     "iopub.status.idle": "2024-11-19T22:32:35.860648Z",
     "shell.execute_reply": "2024-11-19T22:32:35.860438Z"
    },
    "papermill": {
     "duration": 0.012001,
     "end_time": "2024-11-19T22:32:35.861314",
     "exception": false,
     "start_time": "2024-11-19T22:32:35.849313",
     "status": "completed"
    },
    "tags": []
   },
   "outputs": [],
   "source": [
    "# trained_models = [*trained_models1, *trained_models2, *trained_models3]\n",
    "trained_models = trained_models1"
   ]
  },
  {
   "cell_type": "code",
   "execution_count": null,
   "id": "0bf2fb82",
   "metadata": {
    "execution": {
     "iopub.execute_input": "2024-11-19T22:32:35.896186Z",
     "iopub.status.busy": "2024-11-19T22:32:35.896059Z",
     "iopub.status.idle": "2024-11-19T22:32:36.006459Z",
     "shell.execute_reply": "2024-11-19T22:32:36.006169Z"
    },
    "papermill": {
     "duration": 0.121311,
     "end_time": "2024-11-19T22:32:36.007245",
     "exception": false,
     "start_time": "2024-11-19T22:32:35.885934",
     "status": "completed"
    },
    "tags": []
   },
   "outputs": [],
   "source": [
    "plt.hist(oof1['utility_agent1_true'], alpha=0.5, label='Target')\n",
    "plt.hist(oof1['utility_agent1_pred'], alpha=0.5, label='Prediction')\n",
    "plt.legend()\n",
    "plt.show()"
   ]
  },
  {
   "cell_type": "markdown",
   "id": "235db6bb",
   "metadata": {
    "papermill": {
     "duration": 0.01022,
     "end_time": "2024-11-19T22:32:36.027962",
     "exception": false,
     "start_time": "2024-11-19T22:32:36.017742",
     "status": "completed"
    },
    "tags": []
   },
   "source": [
    "***\n",
    "### inference"
   ]
  },
  {
   "cell_type": "code",
   "execution_count": 13,
   "id": "8720d3f9",
   "metadata": {
    "execution": {
     "iopub.execute_input": "2024-11-19T22:32:36.049337Z",
     "iopub.status.busy": "2024-11-19T22:32:36.049195Z",
     "iopub.status.idle": "2024-11-19T22:32:36.127657Z",
     "shell.execute_reply": "2024-11-19T22:32:36.127379Z"
    },
    "papermill": {
     "duration": 0.090485,
     "end_time": "2024-11-19T22:32:36.128627",
     "exception": false,
     "start_time": "2024-11-19T22:32:36.038142",
     "status": "completed"
    },
    "tags": []
   },
   "outputs": [],
   "source": [
    "import os\n",
    "import polars as pl\n",
    "sys.path.append(\"../data/raw/\")\n",
    "import kaggle_evaluation.mcts_inference_server"
   ]
  },
  {
   "cell_type": "code",
   "execution_count": 14,
   "id": "a408eb30",
   "metadata": {
    "execution": {
     "iopub.execute_input": "2024-11-19T22:32:36.149909Z",
     "iopub.status.busy": "2024-11-19T22:32:36.149665Z",
     "iopub.status.idle": "2024-11-19T22:32:36.152968Z",
     "shell.execute_reply": "2024-11-19T22:32:36.152721Z"
    },
    "papermill": {
     "duration": 0.014648,
     "end_time": "2024-11-19T22:32:36.153679",
     "exception": false,
     "start_time": "2024-11-19T22:32:36.139031",
     "status": "completed"
    },
    "tags": []
   },
   "outputs": [],
   "source": [
    "def predict(test: pl.DataFrame, sample_sub: pl.DataFrame):\n",
    "    # Convert Polars DataFrame to Pandas DataFrame\n",
    "    test_pd = test.to_pandas()\n",
    "    \n",
    "    # Process the test data\n",
    "    test_processed = process_test_data(\n",
    "        test_pd,\n",
    "        numerical_cols,\n",
    "        categorical_cols,\n",
    "        encoder,\n",
    "        scaler\n",
    "    )\n",
    "\n",
    "    # Create feature types list for XGBoost\n",
    "    feature_types = [\n",
    "        \"c\" if col in categorical_cols else \"q\" \n",
    "        for col in numerical_cols + categorical_cols\n",
    "    ]\n",
    "\n",
    "    # Create XGBoost DMatrix for test data\n",
    "    test_dmatrix = xgb.DMatrix(\n",
    "        data=test_processed[numerical_cols + categorical_cols],\n",
    "        feature_types=feature_types,\n",
    "        enable_categorical=True\n",
    "    )\n",
    "\n",
    "    # Average predictions from all models\n",
    "    predictions = np.mean([\n",
    "        model.predict(test_dmatrix)\n",
    "        for model in trained_models\n",
    "    ], axis=0)\n",
    "    predictions = np.clip(predictions, -1, 1)\n",
    "        \n",
    "    # Create the submission DataFrame\n",
    "    submission = sample_sub.with_columns(pl.Series(\"utility_agent1\", predictions))\n",
    "    \n",
    "    return submission"
   ]
  },
  {
   "cell_type": "code",
   "execution_count": 15,
   "id": "4b0d1779",
   "metadata": {
    "execution": {
     "iopub.execute_input": "2024-11-19T22:32:36.175547Z",
     "iopub.status.busy": "2024-11-19T22:32:36.175352Z",
     "iopub.status.idle": "2024-11-19T22:32:36.329863Z",
     "shell.execute_reply": "2024-11-19T22:32:36.329424Z"
    },
    "papermill": {
     "duration": 0.166004,
     "end_time": "2024-11-19T22:32:36.330782",
     "exception": false,
     "start_time": "2024-11-19T22:32:36.164778",
     "status": "completed"
    },
    "tags": []
   },
   "outputs": [],
   "source": [
    "inference_server = kaggle_evaluation.mcts_inference_server.MCTSInferenceServer(predict)\n",
    "\n",
    "if os.getenv('KAGGLE_IS_COMPETITION_RERUN'):\n",
    "    inference_server.serve()\n",
    "else:\n",
    "    inference_server.run_local_gateway(\n",
    "        (\n",
    "            '../data/raw/test.csv',\n",
    "            '../data/raw/sample_submission.csv'\n",
    "        )\n",
    "    )"
   ]
  },
  {
   "cell_type": "markdown",
   "id": "0cfef0dc",
   "metadata": {
    "papermill": {
     "duration": 0.009875,
     "end_time": "2024-11-19T22:32:36.350701",
     "exception": false,
     "start_time": "2024-11-19T22:32:36.340826",
     "status": "completed"
    },
    "tags": []
   },
   "source": [
    "***"
   ]
  }
 ],
 "metadata": {
  "kernelspec": {
   "display_name": "mcts-strength-variants-kSTIVMm8-py3.10",
   "language": "python",
   "name": "python3"
  },
  "language_info": {
   "codemirror_mode": {
    "name": "ipython",
    "version": 3
   },
   "file_extension": ".py",
   "mimetype": "text/x-python",
   "name": "python",
   "nbconvert_exporter": "python",
   "pygments_lexer": "ipython3",
   "version": "3.10.14"
  },
  "papermill": {
   "default_parameters": {},
   "duration": 197.583123,
   "end_time": "2024-11-19T22:32:36.778660",
   "environment_variables": {},
   "exception": null,
   "input_path": "train/xgboost.ipynb",
   "output_path": "train/xgboost.ipynb",
   "parameters": {},
   "start_time": "2024-11-19T22:29:19.195537",
   "version": "2.6.0"
  }
 },
 "nbformat": 4,
 "nbformat_minor": 5
}
