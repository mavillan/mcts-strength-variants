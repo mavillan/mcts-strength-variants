{
 "cells": [
  {
   "cell_type": "code",
   "execution_count": 1,
   "metadata": {},
   "outputs": [
    {
     "name": "stdout",
     "output_type": "stream",
     "text": [
      "PyTorch version: 2.4.1\n",
      "PyTorch Lightning version: 2.4.0\n"
     ]
    }
   ],
   "source": [
    "import numpy as np\n",
    "import pandas as pd\n",
    "import matplotlib.pyplot as plt\n",
    "from pathlib import Path\n",
    "from typing import Optional, List\n",
    "import json\n",
    "import pickle\n",
    "\n",
    "import torch \n",
    "from torch import nn\n",
    "import torch.nn.functional as F\n",
    "from torch.utils.data import DataLoader,TensorDataset\n",
    "from torch.optim.lr_scheduler import OneCycleLR\n",
    "\n",
    "import lightning.pytorch as pl\n",
    "from lightning.pytorch.callbacks import EarlyStopping\n",
    "from lightning.pytorch.callbacks import ModelCheckpoint\n",
    "\n",
    "\n",
    "print(f\"PyTorch version: {torch.__version__}\")\n",
    "print(f\"PyTorch Lightning version: {pl.__version__}\")\n",
    "\n",
    "# local modules\n",
    "import sys\n",
    "sys.path.append(\"../src\")\n",
    "from preproc import process_train_data, process_test_data\n",
    "from transformer import LGBMLeavesEncoder, XGBLeavesEncoder, CATBLeavesEncoder"
   ]
  },
  {
   "cell_type": "code",
   "execution_count": 2,
   "metadata": {},
   "outputs": [],
   "source": [
    "from torch_frame.nn import ExcelFormer\n",
    "from torch_frame.transforms import CatToNumTransform, MutualInformationSort\n",
    "from torch_frame.data import Dataset\n"
   ]
  },
  {
   "cell_type": "code",
   "execution_count": 3,
   "metadata": {},
   "outputs": [
    {
     "name": "stderr",
     "output_type": "stream",
     "text": [
      "Seed set to 2112\n"
     ]
    },
    {
     "data": {
      "text/plain": [
       "2112"
      ]
     },
     "execution_count": 3,
     "metadata": {},
     "output_type": "execute_result"
    }
   ],
   "source": [
    "# set seeds for reproducibility\n",
    "np.random.seed(2112)\n",
    "pl.seed_everything(2112)"
   ]
  },
  {
   "cell_type": "code",
   "execution_count": 4,
   "metadata": {},
   "outputs": [],
   "source": [
    "# useful callbacks\n",
    "class LearningRateMonitor(pl.Callback):\n",
    "    def on_train_batch_end(self, trainer, pl_module, outputs, batch, batch_idx):\n",
    "        if batch_idx % 100 == 0:  # Log every 100 batches\n",
    "            lr = pl_module.optimizers().param_groups[0]['lr']\n",
    "            pl_module.log('learning_rate', lr, prog_bar=True)   \n",
    "\n",
    "class BestValRMSELogger(pl.Callback):\n",
    "    def __init__(self):\n",
    "        super().__init__()\n",
    "        self.best_val_rmse = float('inf')\n",
    "\n",
    "    def on_validation_epoch_end(self, trainer, pl_module):\n",
    "        current_val_rmse = trainer.callback_metrics.get('val_rmse')\n",
    "        if current_val_rmse is not None:\n",
    "            self.best_val_rmse = min(self.best_val_rmse, current_val_rmse)\n",
    "            pl_module.log('best_val_rmse', self.best_val_rmse, prog_bar=True)"
   ]
  },
  {
   "cell_type": "markdown",
   "metadata": {},
   "source": [
    "***\n",
    "### load and preprocess data"
   ]
  },
  {
   "cell_type": "code",
   "execution_count": 5,
   "metadata": {},
   "outputs": [
    {
     "data": {
      "text/html": [
       "<div>\n",
       "<style scoped>\n",
       "    .dataframe tbody tr th:only-of-type {\n",
       "        vertical-align: middle;\n",
       "    }\n",
       "\n",
       "    .dataframe tbody tr th {\n",
       "        vertical-align: top;\n",
       "    }\n",
       "\n",
       "    .dataframe thead th {\n",
       "        text-align: right;\n",
       "    }\n",
       "</style>\n",
       "<table border=\"1\" class=\"dataframe\">\n",
       "  <thead>\n",
       "    <tr style=\"text-align: right;\">\n",
       "      <th></th>\n",
       "      <th>Id</th>\n",
       "      <th>GameRulesetName</th>\n",
       "      <th>agent1</th>\n",
       "      <th>agent2</th>\n",
       "      <th>Properties</th>\n",
       "      <th>Format</th>\n",
       "      <th>Time</th>\n",
       "      <th>Discrete</th>\n",
       "      <th>Realtime</th>\n",
       "      <th>Turns</th>\n",
       "      <th>...</th>\n",
       "      <th>DoLudeme</th>\n",
       "      <th>Trigger</th>\n",
       "      <th>PlayoutsPerSecond</th>\n",
       "      <th>MovesPerSecond</th>\n",
       "      <th>EnglishRules</th>\n",
       "      <th>LudRules</th>\n",
       "      <th>num_wins_agent1</th>\n",
       "      <th>num_draws_agent1</th>\n",
       "      <th>num_losses_agent1</th>\n",
       "      <th>utility_agent1</th>\n",
       "    </tr>\n",
       "  </thead>\n",
       "  <tbody>\n",
       "    <tr>\n",
       "      <th>0</th>\n",
       "      <td>0</td>\n",
       "      <td>00Y</td>\n",
       "      <td>MCTS-ProgressiveHistory-0.1-MAST-false</td>\n",
       "      <td>MCTS-ProgressiveHistory-0.6-Random200-false</td>\n",
       "      <td>1</td>\n",
       "      <td>1</td>\n",
       "      <td>1</td>\n",
       "      <td>1</td>\n",
       "      <td>0</td>\n",
       "      <td>1</td>\n",
       "      <td>...</td>\n",
       "      <td>0</td>\n",
       "      <td>1</td>\n",
       "      <td>298.07</td>\n",
       "      <td>18877.17</td>\n",
       "      <td>Goal: Connect all three edge colors with a sin...</td>\n",
       "      <td>(game \"00'Y'\" (players 2) (equipment { (board ...</td>\n",
       "      <td>4</td>\n",
       "      <td>0</td>\n",
       "      <td>11</td>\n",
       "      <td>-0.466667</td>\n",
       "    </tr>\n",
       "    <tr>\n",
       "      <th>1</th>\n",
       "      <td>1</td>\n",
       "      <td>00Y</td>\n",
       "      <td>MCTS-ProgressiveHistory-0.1-MAST-false</td>\n",
       "      <td>MCTS-UCB1GRAVE-0.6-NST-true</td>\n",
       "      <td>1</td>\n",
       "      <td>1</td>\n",
       "      <td>1</td>\n",
       "      <td>1</td>\n",
       "      <td>0</td>\n",
       "      <td>1</td>\n",
       "      <td>...</td>\n",
       "      <td>0</td>\n",
       "      <td>1</td>\n",
       "      <td>298.07</td>\n",
       "      <td>18877.17</td>\n",
       "      <td>Goal: Connect all three edge colors with a sin...</td>\n",
       "      <td>(game \"00'Y'\" (players 2) (equipment { (board ...</td>\n",
       "      <td>5</td>\n",
       "      <td>0</td>\n",
       "      <td>10</td>\n",
       "      <td>-0.333333</td>\n",
       "    </tr>\n",
       "    <tr>\n",
       "      <th>2</th>\n",
       "      <td>2</td>\n",
       "      <td>00Y</td>\n",
       "      <td>MCTS-ProgressiveHistory-0.1-MAST-true</td>\n",
       "      <td>MCTS-UCB1-0.1-NST-false</td>\n",
       "      <td>1</td>\n",
       "      <td>1</td>\n",
       "      <td>1</td>\n",
       "      <td>1</td>\n",
       "      <td>0</td>\n",
       "      <td>1</td>\n",
       "      <td>...</td>\n",
       "      <td>0</td>\n",
       "      <td>1</td>\n",
       "      <td>298.07</td>\n",
       "      <td>18877.17</td>\n",
       "      <td>Goal: Connect all three edge colors with a sin...</td>\n",
       "      <td>(game \"00'Y'\" (players 2) (equipment { (board ...</td>\n",
       "      <td>7</td>\n",
       "      <td>0</td>\n",
       "      <td>8</td>\n",
       "      <td>-0.066667</td>\n",
       "    </tr>\n",
       "    <tr>\n",
       "      <th>3</th>\n",
       "      <td>3</td>\n",
       "      <td>00Y</td>\n",
       "      <td>MCTS-ProgressiveHistory-0.1-MAST-true</td>\n",
       "      <td>MCTS-UCB1-0.6-NST-false</td>\n",
       "      <td>1</td>\n",
       "      <td>1</td>\n",
       "      <td>1</td>\n",
       "      <td>1</td>\n",
       "      <td>0</td>\n",
       "      <td>1</td>\n",
       "      <td>...</td>\n",
       "      <td>0</td>\n",
       "      <td>1</td>\n",
       "      <td>298.07</td>\n",
       "      <td>18877.17</td>\n",
       "      <td>Goal: Connect all three edge colors with a sin...</td>\n",
       "      <td>(game \"00'Y'\" (players 2) (equipment { (board ...</td>\n",
       "      <td>5</td>\n",
       "      <td>0</td>\n",
       "      <td>10</td>\n",
       "      <td>-0.333333</td>\n",
       "    </tr>\n",
       "    <tr>\n",
       "      <th>4</th>\n",
       "      <td>4</td>\n",
       "      <td>00Y</td>\n",
       "      <td>MCTS-ProgressiveHistory-0.1-MAST-true</td>\n",
       "      <td>MCTS-UCB1GRAVE-1.41421356237-NST-false</td>\n",
       "      <td>1</td>\n",
       "      <td>1</td>\n",
       "      <td>1</td>\n",
       "      <td>1</td>\n",
       "      <td>0</td>\n",
       "      <td>1</td>\n",
       "      <td>...</td>\n",
       "      <td>0</td>\n",
       "      <td>1</td>\n",
       "      <td>298.07</td>\n",
       "      <td>18877.17</td>\n",
       "      <td>Goal: Connect all three edge colors with a sin...</td>\n",
       "      <td>(game \"00'Y'\" (players 2) (equipment { (board ...</td>\n",
       "      <td>5</td>\n",
       "      <td>0</td>\n",
       "      <td>10</td>\n",
       "      <td>-0.333333</td>\n",
       "    </tr>\n",
       "    <tr>\n",
       "      <th>...</th>\n",
       "      <td>...</td>\n",
       "      <td>...</td>\n",
       "      <td>...</td>\n",
       "      <td>...</td>\n",
       "      <td>...</td>\n",
       "      <td>...</td>\n",
       "      <td>...</td>\n",
       "      <td>...</td>\n",
       "      <td>...</td>\n",
       "      <td>...</td>\n",
       "      <td>...</td>\n",
       "      <td>...</td>\n",
       "      <td>...</td>\n",
       "      <td>...</td>\n",
       "      <td>...</td>\n",
       "      <td>...</td>\n",
       "      <td>...</td>\n",
       "      <td>...</td>\n",
       "      <td>...</td>\n",
       "      <td>...</td>\n",
       "      <td>...</td>\n",
       "    </tr>\n",
       "    <tr>\n",
       "      <th>233229</th>\n",
       "      <td>233229</td>\n",
       "      <td>Zuz_Mel_7x7</td>\n",
       "      <td>MCTS-UCB1Tuned-1.41421356237-NST-false</td>\n",
       "      <td>MCTS-ProgressiveHistory-1.41421356237-Random20...</td>\n",
       "      <td>1</td>\n",
       "      <td>1</td>\n",
       "      <td>1</td>\n",
       "      <td>1</td>\n",
       "      <td>0</td>\n",
       "      <td>1</td>\n",
       "      <td>...</td>\n",
       "      <td>0</td>\n",
       "      <td>0</td>\n",
       "      <td>157.52</td>\n",
       "      <td>157174.58</td>\n",
       "      <td>7x7 board. 24 pieces per player. Pieces begin ...</td>\n",
       "      <td>(game \"Zuz Mel (7x7)\" (players 2) (equipment {...</td>\n",
       "      <td>2</td>\n",
       "      <td>0</td>\n",
       "      <td>13</td>\n",
       "      <td>-0.733333</td>\n",
       "    </tr>\n",
       "    <tr>\n",
       "      <th>233230</th>\n",
       "      <td>233230</td>\n",
       "      <td>Zuz_Mel_7x7</td>\n",
       "      <td>MCTS-UCB1Tuned-1.41421356237-Random200-false</td>\n",
       "      <td>MCTS-UCB1-0.6-MAST-false</td>\n",
       "      <td>1</td>\n",
       "      <td>1</td>\n",
       "      <td>1</td>\n",
       "      <td>1</td>\n",
       "      <td>0</td>\n",
       "      <td>1</td>\n",
       "      <td>...</td>\n",
       "      <td>0</td>\n",
       "      <td>0</td>\n",
       "      <td>157.52</td>\n",
       "      <td>157174.58</td>\n",
       "      <td>7x7 board. 24 pieces per player. Pieces begin ...</td>\n",
       "      <td>(game \"Zuz Mel (7x7)\" (players 2) (equipment {...</td>\n",
       "      <td>9</td>\n",
       "      <td>1</td>\n",
       "      <td>5</td>\n",
       "      <td>0.266667</td>\n",
       "    </tr>\n",
       "    <tr>\n",
       "      <th>233231</th>\n",
       "      <td>233231</td>\n",
       "      <td>Zuz_Mel_7x7</td>\n",
       "      <td>MCTS-UCB1Tuned-1.41421356237-Random200-false</td>\n",
       "      <td>MCTS-UCB1GRAVE-1.41421356237-NST-false</td>\n",
       "      <td>1</td>\n",
       "      <td>1</td>\n",
       "      <td>1</td>\n",
       "      <td>1</td>\n",
       "      <td>0</td>\n",
       "      <td>1</td>\n",
       "      <td>...</td>\n",
       "      <td>0</td>\n",
       "      <td>0</td>\n",
       "      <td>157.52</td>\n",
       "      <td>157174.58</td>\n",
       "      <td>7x7 board. 24 pieces per player. Pieces begin ...</td>\n",
       "      <td>(game \"Zuz Mel (7x7)\" (players 2) (equipment {...</td>\n",
       "      <td>11</td>\n",
       "      <td>3</td>\n",
       "      <td>1</td>\n",
       "      <td>0.666667</td>\n",
       "    </tr>\n",
       "    <tr>\n",
       "      <th>233232</th>\n",
       "      <td>233232</td>\n",
       "      <td>Zuz_Mel_7x7</td>\n",
       "      <td>MCTS-UCB1Tuned-1.41421356237-Random200-false</td>\n",
       "      <td>MCTS-UCB1GRAVE-1.41421356237-NST-true</td>\n",
       "      <td>1</td>\n",
       "      <td>1</td>\n",
       "      <td>1</td>\n",
       "      <td>1</td>\n",
       "      <td>0</td>\n",
       "      <td>1</td>\n",
       "      <td>...</td>\n",
       "      <td>0</td>\n",
       "      <td>0</td>\n",
       "      <td>157.52</td>\n",
       "      <td>157174.58</td>\n",
       "      <td>7x7 board. 24 pieces per player. Pieces begin ...</td>\n",
       "      <td>(game \"Zuz Mel (7x7)\" (players 2) (equipment {...</td>\n",
       "      <td>24</td>\n",
       "      <td>2</td>\n",
       "      <td>4</td>\n",
       "      <td>0.666667</td>\n",
       "    </tr>\n",
       "    <tr>\n",
       "      <th>233233</th>\n",
       "      <td>233233</td>\n",
       "      <td>Zuz_Mel_7x7</td>\n",
       "      <td>MCTS-UCB1Tuned-1.41421356237-Random200-true</td>\n",
       "      <td>MCTS-UCB1Tuned-0.6-MAST-false</td>\n",
       "      <td>1</td>\n",
       "      <td>1</td>\n",
       "      <td>1</td>\n",
       "      <td>1</td>\n",
       "      <td>0</td>\n",
       "      <td>1</td>\n",
       "      <td>...</td>\n",
       "      <td>0</td>\n",
       "      <td>0</td>\n",
       "      <td>157.52</td>\n",
       "      <td>157174.58</td>\n",
       "      <td>7x7 board. 24 pieces per player. Pieces begin ...</td>\n",
       "      <td>(game \"Zuz Mel (7x7)\" (players 2) (equipment {...</td>\n",
       "      <td>9</td>\n",
       "      <td>1</td>\n",
       "      <td>5</td>\n",
       "      <td>0.266667</td>\n",
       "    </tr>\n",
       "  </tbody>\n",
       "</table>\n",
       "<p>233234 rows × 814 columns</p>\n",
       "</div>"
      ],
      "text/plain": [
       "            Id GameRulesetName                                        agent1  \\\n",
       "0            0             00Y        MCTS-ProgressiveHistory-0.1-MAST-false   \n",
       "1            1             00Y        MCTS-ProgressiveHistory-0.1-MAST-false   \n",
       "2            2             00Y         MCTS-ProgressiveHistory-0.1-MAST-true   \n",
       "3            3             00Y         MCTS-ProgressiveHistory-0.1-MAST-true   \n",
       "4            4             00Y         MCTS-ProgressiveHistory-0.1-MAST-true   \n",
       "...        ...             ...                                           ...   \n",
       "233229  233229     Zuz_Mel_7x7        MCTS-UCB1Tuned-1.41421356237-NST-false   \n",
       "233230  233230     Zuz_Mel_7x7  MCTS-UCB1Tuned-1.41421356237-Random200-false   \n",
       "233231  233231     Zuz_Mel_7x7  MCTS-UCB1Tuned-1.41421356237-Random200-false   \n",
       "233232  233232     Zuz_Mel_7x7  MCTS-UCB1Tuned-1.41421356237-Random200-false   \n",
       "233233  233233     Zuz_Mel_7x7   MCTS-UCB1Tuned-1.41421356237-Random200-true   \n",
       "\n",
       "                                                   agent2  Properties  Format  \\\n",
       "0             MCTS-ProgressiveHistory-0.6-Random200-false           1       1   \n",
       "1                             MCTS-UCB1GRAVE-0.6-NST-true           1       1   \n",
       "2                                 MCTS-UCB1-0.1-NST-false           1       1   \n",
       "3                                 MCTS-UCB1-0.6-NST-false           1       1   \n",
       "4                  MCTS-UCB1GRAVE-1.41421356237-NST-false           1       1   \n",
       "...                                                   ...         ...     ...   \n",
       "233229  MCTS-ProgressiveHistory-1.41421356237-Random20...           1       1   \n",
       "233230                           MCTS-UCB1-0.6-MAST-false           1       1   \n",
       "233231             MCTS-UCB1GRAVE-1.41421356237-NST-false           1       1   \n",
       "233232              MCTS-UCB1GRAVE-1.41421356237-NST-true           1       1   \n",
       "233233                      MCTS-UCB1Tuned-0.6-MAST-false           1       1   \n",
       "\n",
       "        Time  Discrete  Realtime  Turns  ...  DoLudeme  Trigger  \\\n",
       "0          1         1         0      1  ...         0        1   \n",
       "1          1         1         0      1  ...         0        1   \n",
       "2          1         1         0      1  ...         0        1   \n",
       "3          1         1         0      1  ...         0        1   \n",
       "4          1         1         0      1  ...         0        1   \n",
       "...      ...       ...       ...    ...  ...       ...      ...   \n",
       "233229     1         1         0      1  ...         0        0   \n",
       "233230     1         1         0      1  ...         0        0   \n",
       "233231     1         1         0      1  ...         0        0   \n",
       "233232     1         1         0      1  ...         0        0   \n",
       "233233     1         1         0      1  ...         0        0   \n",
       "\n",
       "        PlayoutsPerSecond  MovesPerSecond  \\\n",
       "0                  298.07        18877.17   \n",
       "1                  298.07        18877.17   \n",
       "2                  298.07        18877.17   \n",
       "3                  298.07        18877.17   \n",
       "4                  298.07        18877.17   \n",
       "...                   ...             ...   \n",
       "233229             157.52       157174.58   \n",
       "233230             157.52       157174.58   \n",
       "233231             157.52       157174.58   \n",
       "233232             157.52       157174.58   \n",
       "233233             157.52       157174.58   \n",
       "\n",
       "                                             EnglishRules  \\\n",
       "0       Goal: Connect all three edge colors with a sin...   \n",
       "1       Goal: Connect all three edge colors with a sin...   \n",
       "2       Goal: Connect all three edge colors with a sin...   \n",
       "3       Goal: Connect all three edge colors with a sin...   \n",
       "4       Goal: Connect all three edge colors with a sin...   \n",
       "...                                                   ...   \n",
       "233229  7x7 board. 24 pieces per player. Pieces begin ...   \n",
       "233230  7x7 board. 24 pieces per player. Pieces begin ...   \n",
       "233231  7x7 board. 24 pieces per player. Pieces begin ...   \n",
       "233232  7x7 board. 24 pieces per player. Pieces begin ...   \n",
       "233233  7x7 board. 24 pieces per player. Pieces begin ...   \n",
       "\n",
       "                                                 LudRules  num_wins_agent1  \\\n",
       "0       (game \"00'Y'\" (players 2) (equipment { (board ...                4   \n",
       "1       (game \"00'Y'\" (players 2) (equipment { (board ...                5   \n",
       "2       (game \"00'Y'\" (players 2) (equipment { (board ...                7   \n",
       "3       (game \"00'Y'\" (players 2) (equipment { (board ...                5   \n",
       "4       (game \"00'Y'\" (players 2) (equipment { (board ...                5   \n",
       "...                                                   ...              ...   \n",
       "233229  (game \"Zuz Mel (7x7)\" (players 2) (equipment {...                2   \n",
       "233230  (game \"Zuz Mel (7x7)\" (players 2) (equipment {...                9   \n",
       "233231  (game \"Zuz Mel (7x7)\" (players 2) (equipment {...               11   \n",
       "233232  (game \"Zuz Mel (7x7)\" (players 2) (equipment {...               24   \n",
       "233233  (game \"Zuz Mel (7x7)\" (players 2) (equipment {...                9   \n",
       "\n",
       "        num_draws_agent1  num_losses_agent1  utility_agent1  \n",
       "0                      0                 11       -0.466667  \n",
       "1                      0                 10       -0.333333  \n",
       "2                      0                  8       -0.066667  \n",
       "3                      0                 10       -0.333333  \n",
       "4                      0                 10       -0.333333  \n",
       "...                  ...                ...             ...  \n",
       "233229                 0                 13       -0.733333  \n",
       "233230                 1                  5        0.266667  \n",
       "233231                 3                  1        0.666667  \n",
       "233232                 2                  4        0.666667  \n",
       "233233                 1                  5        0.266667  \n",
       "\n",
       "[233234 rows x 814 columns]"
      ]
     },
     "execution_count": 5,
     "metadata": {},
     "output_type": "execute_result"
    }
   ],
   "source": [
    "# define some paths\n",
    "path_raw = Path(\"../data/raw\")\n",
    "path_processed = Path(\"../data/processed\")\n",
    "path_results = Path(\"../data/results\")\n",
    "\n",
    "# load data\n",
    "df_train = pd.read_csv(path_raw / \"train.csv\")\n",
    "df_test = pd.read_csv(path_raw / \"test.csv\")\n",
    "\n",
    "df_train"
   ]
  },
  {
   "cell_type": "code",
   "execution_count": 6,
   "metadata": {},
   "outputs": [
    {
     "name": "stdout",
     "output_type": "stream",
     "text": [
      "Numerical features: 296\n",
      "Categorical features: 5\n",
      "Text features: 1\n"
     ]
    }
   ],
   "source": [
    "# Load the feature selection results\n",
    "with open('../feat_selection/select_optuna_lgbm.json', 'r') as f:\n",
    "    feature_selection = json.load(f)\n",
    "\n",
    "# Extract the selected features\n",
    "numerical_cols = feature_selection.get('numerical', [])\n",
    "categorical_cols = feature_selection.get('categorical', [])\n",
    "text_cols = [\"LudRules\",]\n",
    "\n",
    "print(\"Numerical features:\", len(numerical_cols))\n",
    "print(\"Categorical features:\", len(categorical_cols))\n",
    "print(\"Text features:\", len(text_cols))"
   ]
  },
  {
   "cell_type": "code",
   "execution_count": 7,
   "metadata": {},
   "outputs": [
    {
     "name": "stdout",
     "output_type": "stream",
     "text": [
      "number of all nan cols:  0\n",
      "number of constant cols:  0\n",
      "Numerical Columns: 370\n",
      "Categorical Columns: 5\n"
     ]
    }
   ],
   "source": [
    "df_train, numerical_cols, categorical_cols, encoder, scaler = process_train_data(\n",
    "    df_train,\n",
    "    # scale=True,\n",
    "    scale=False,\n",
    "    numerical_cols=numerical_cols,\n",
    "    categorical_cols=categorical_cols\n",
    ")\n",
    "\n",
    "# Print the results\n",
    "print(\"Numerical Columns:\", len(numerical_cols))\n",
    "print(\"Categorical Columns:\", len(categorical_cols))"
   ]
  },
  {
   "cell_type": "code",
   "execution_count": 8,
   "metadata": {},
   "outputs": [
    {
     "data": {
      "image/png": "[encoded data removed]",
      "text/plain": [
       "<Figure size 640x480 with 1 Axes>"
      ]
     },
     "metadata": {},
     "output_type": "display_data"
    }
   ],
   "source": [
    "plt.hist(df_train['utility_agent1'], bins=100)\n",
    "plt.title('Distribution of Target Variable')\n",
    "plt.xlabel('Utility Agent 1')\n",
    "plt.ylabel('Frequency')\n",
    "plt.show()"
   ]
  },
  {
   "cell_type": "code",
   "execution_count": 9,
   "metadata": {},
   "outputs": [
    {
     "name": "stdout",
     "output_type": "stream",
     "text": [
      "[72, 72, 4, 3, 4]\n"
     ]
    }
   ],
   "source": [
    "cat_input_dims = df_train[categorical_cols].nunique(axis=0).values.tolist()\n",
    "print(cat_input_dims)"
   ]
  },
  {
   "cell_type": "markdown",
   "metadata": {},
   "source": [
    "***\n",
    "### train model\n"
   ]
  },
  {
   "cell_type": "code",
   "execution_count": 10,
   "metadata": {},
   "outputs": [],
   "source": [
    "class MLP(pl.LightningModule):\n",
    "\n",
    "    def __init__(self, \n",
    "            num_input_dim: int,\n",
    "            cat_input_dims: list[int],\n",
    "            output_dim: int,\n",
    "            layers: str,\n",
    "            dropout: float,\n",
    "            embedding_dropout: float,\n",
    "            learning_rate: float = 1e-3,\n",
    "            weight_decay: float = 1e-5,\n",
    "            initialization: str = 'kaiming_uniform',\n",
    "            embedding_dim: Optional[List[int]] = None,\n",
    "            pct_start: float = 0.2,\n",
    "            div_factor: float = 10.0,\n",
    "            final_div_factor: float = 1e4,\n",
    "        ):\n",
    "        super().__init__()\n",
    "        self.save_hyperparameters()\n",
    "        self.dropout = dropout\n",
    "        self.embedding_dropout = embedding_dropout\n",
    "        self.pct_start = pct_start\n",
    "        self.div_factor = div_factor\n",
    "        self.final_div_factor = final_div_factor\n",
    "\n",
    "        # Initialize embedding dimensions if not provided\n",
    "        if embedding_dim is None:\n",
    "            # Rule of thumb: min(50, num_unique // 2 + 1) for each categorical feature\n",
    "            embedding_dim = [min(50, int(1 + np.ceil(np.sqrt(dim)))) for dim in cat_input_dims]\n",
    "\n",
    "        elif len(embedding_dim) != len(cat_input_dims):\n",
    "            raise ValueError(\"Length of embedding_dim must match number of categorical features.\")\n",
    "\n",
    "        self.embedding_dim = embedding_dim\n",
    "\n",
    "        # Create embedding layers\n",
    "        self.create_embeddings(cat_input_dims, embedding_dim)\n",
    "\n",
    "        # Create backbone layers\n",
    "        self.create_backbone(num_input_dim, layers)\n",
    "\n",
    "        # Create head layers\n",
    "        self.create_head(output_dim)\n",
    "\n",
    "        self.learning_rate = learning_rate\n",
    "        self.weight_decay = weight_decay\n",
    "        self.initialization = initialization\n",
    "\n",
    "        self._init_weights()\n",
    "\n",
    "        # Initialize lists to store validation outputs\n",
    "        self.validation_targets = []\n",
    "        self.validation_predictions = []\n",
    "\n",
    "    def create_embeddings(self, cat_input_dims: list[int], embedding_dim: list[int]):\n",
    "        self.embeddings = nn.ModuleList(\n",
    "            [nn.Embedding(dim, emb_dim) for dim, emb_dim in zip(cat_input_dims, embedding_dim)]\n",
    "        )\n",
    "        self.embedding_dropout_layer = nn.Dropout(self.embedding_dropout)\n",
    "\n",
    "    def create_backbone(self, num_input_dim: int, layers: str):\n",
    "        # Calculate total input dimension after embeddings\n",
    "        total_embedding_dim = sum(self.embedding_dim)\n",
    "        total_input_dim = num_input_dim + total_embedding_dim\n",
    "\n",
    "        # Parse layers string\n",
    "        layer_sizes = [int(size) for size in layers.split('-')]\n",
    "\n",
    "        # Create backbone network layers\n",
    "        backbone_layers = []\n",
    "        prev_size = total_input_dim\n",
    "        for size in layer_sizes:\n",
    "            backbone_layers.extend([\n",
    "                nn.BatchNorm1d(prev_size),\n",
    "                nn.Linear(prev_size, size),\n",
    "                nn.ReLU(),\n",
    "                nn.Dropout(self.hparams.dropout),\n",
    "            ])\n",
    "            prev_size = size\n",
    "        self.backbone = nn.Sequential(*backbone_layers)\n",
    "        self.backbone_output_size = prev_size\n",
    "\n",
    "    def create_head(self, output_dim: int):\n",
    "        # Output layer\n",
    "        self.head = nn.Sequential(\n",
    "            nn.BatchNorm1d(self.backbone_output_size),\n",
    "            nn.Linear(self.backbone_output_size, output_dim)\n",
    "        )\n",
    "\n",
    "    def _init_weights(self):\n",
    "        for module in self.modules():\n",
    "            if isinstance(module, nn.Linear):\n",
    "                if any(module is m for m in self.head.modules()):\n",
    "                    nn.init.xavier_uniform_(module.weight, gain=nn.init.calculate_gain('tanh'))\n",
    "                else:\n",
    "                    if self.initialization == 'kaiming_uniform':\n",
    "                        nn.init.kaiming_uniform_(module.weight, nonlinearity='relu')\n",
    "                    elif self.initialization == 'kaiming_normal':\n",
    "                        nn.init.kaiming_normal_(module.weight, nonlinearity='relu')\n",
    "                    elif self.initialization == 'xavier_uniform':\n",
    "                        nn.init.xavier_uniform_(module.weight, gain=nn.init.calculate_gain('relu'))\n",
    "                    elif self.initialization == 'xavier_normal':\n",
    "                        nn.init.xavier_normal_(module.weight, gain=nn.init.calculate_gain('relu'))\n",
    "                    else:\n",
    "                        raise ValueError(f\"Unsupported initialization method: {self.initialization}\")\n",
    "                \n",
    "                # Initialize bias to small values\n",
    "                if module.bias is not None:\n",
    "                    nn.init.uniform_(module.bias, -0.1, 0.1)\n",
    "\n",
    "    def forward(self, x_num, x_cat):\n",
    "        # Process categorical variables\n",
    "        embedded = [emb(x_cat[:, i]) for i, emb in enumerate(self.embeddings)]\n",
    "        embedded = torch.cat(embedded, dim=1)\n",
    "        embedded = self.embedding_dropout_layer(embedded)\n",
    "        \n",
    "        # Concatenate numerical and embedded categorical features\n",
    "        x = torch.cat([x_num, embedded], dim=1)\n",
    "        \n",
    "        # Pass through backbone\n",
    "        x = self.backbone(x)\n",
    "        \n",
    "        # Pass through head\n",
    "        x = self.head(x)\n",
    "        x = nn.functional.hardtanh(x)\n",
    "\n",
    "        return x.squeeze(-1)\n",
    "\n",
    "    def training_step(self, batch, batch_idx):\n",
    "        x_num, x_cat, y = batch\n",
    "        y_hat = self(x_num, x_cat)\n",
    "        loss = F.mse_loss(y_hat, y)\n",
    "        self.log('train_loss', loss, prog_bar=True)\n",
    "        return loss\n",
    "    \n",
    "    def validation_step(self, batch, batch_idx):\n",
    "        x_num, x_cat, y = batch\n",
    "        y_hat = self(x_num, x_cat)\n",
    "        loss = F.mse_loss(y_hat, y)\n",
    "        self.log('valid_loss', loss, prog_bar=True)\n",
    "        # Store targets and predictions for later use\n",
    "        self.validation_targets.append(y)\n",
    "        self.validation_predictions.append(y_hat)\n",
    "        return loss\n",
    "    \n",
    "    def predict_step(self, batch, batch_idx):\n",
    "        if len(batch) == 2:\n",
    "            x_num, x_cat = batch\n",
    "        elif len(batch) == 3:\n",
    "            x_num, x_cat, _ = batch\n",
    "        y_hat = self(x_num, x_cat)\n",
    "        return y_hat\n",
    "\n",
    "    def on_validation_epoch_end(self):\n",
    "        # Concatenate all targets and predictions\n",
    "        y = torch.cat(self.validation_targets)\n",
    "        y_hat = torch.cat(self.validation_predictions)\n",
    "        rmse = torch.sqrt(F.mse_loss(y_hat, y))\n",
    "        self.log('val_rmse', rmse, prog_bar=True)\n",
    "        # Clear the lists for next epoch\n",
    "        self.validation_targets.clear()\n",
    "        self.validation_predictions.clear()\n",
    "                \n",
    "    def configure_optimizers(self):\n",
    "        optimizer = torch.optim.Adam(\n",
    "            self.parameters(), \n",
    "            lr=self.learning_rate, \n",
    "            weight_decay=self.weight_decay,\n",
    "        )\n",
    "        scheduler = OneCycleLR(\n",
    "            optimizer,\n",
    "            max_lr=self.learning_rate,\n",
    "            total_steps=self.trainer.estimated_stepping_batches,\n",
    "            pct_start=self.pct_start,\n",
    "            div_factor=self.div_factor,\n",
    "            final_div_factor=self.final_div_factor,\n",
    "            anneal_strategy='cos',\n",
    "            cycle_momentum=True,\n",
    "            base_momentum=0.85,\n",
    "            max_momentum=0.95,\n",
    "        )\n",
    "        return {\n",
    "            \"optimizer\": optimizer,\n",
    "            \"lr_scheduler\": {\n",
    "                \"scheduler\": scheduler,\n",
    "                \"interval\": \"step\",\n",
    "            },\n",
    "        }"
   ]
  },
  {
   "cell_type": "code",
   "execution_count": 11,
   "metadata": {},
   "outputs": [],
   "source": [
    "params = {\n",
    "    'batch_size': 448,\n",
    "    'dropout': 0.0,\n",
    "    'embedding_dropout': 0.2,\n",
    "    'input_layer_size': 1024,\n",
    "    'n_layers': 4,\n",
    "    'learning_rate': 0.0017902381479678216,\n",
    "    'weight_decay': 0.0003339096474946611,\n",
    "    'pct_start': 0.05,\n",
    "    'div_factor': 74.0,\n",
    "    'final_div_factor': 39.31519465021811\n",
    "}"
   ]
  },
  {
   "cell_type": "code",
   "execution_count": 12,
   "metadata": {},
   "outputs": [
    {
     "name": "stdout",
     "output_type": "stream",
     "text": [
      "Fold 1\n",
      "Adding 100 new columns from LGBM leaves\n",
      "Adding 100 new columns from CATB leaves\n",
      "List of oof scores: []\n",
      "Average oof score: nan\n"
     ]
    },
    {
     "name": "stderr",
     "output_type": "stream",
     "text": [
      "/Users/59008/Library/Caches/pypoetry/virtualenvs/mcts-strength-variants-kSTIVMm8-py3.10/lib/python3.10/site-packages/numpy/core/fromnumeric.py:3504: RuntimeWarning: Mean of empty slice.\n",
      "  return _methods._mean(a, axis=axis, dtype=dtype,\n",
      "/Users/59008/Library/Caches/pypoetry/virtualenvs/mcts-strength-variants-kSTIVMm8-py3.10/lib/python3.10/site-packages/numpy/core/_methods.py:129: RuntimeWarning: invalid value encountered in scalar divide\n",
      "  ret = ret.dtype.type(ret / rcount)\n"
     ]
    }
   ],
   "source": [
    "# Define the number of folds for cross-validation\n",
    "split_list = pickle.load(open('../data/splits/cv1_Game.pkl', 'rb'))\n",
    "\n",
    "trained_models = []\n",
    "oof = pd.DataFrame(index=df_train.index, columns=['utility_agent1_true', 'utility_agent1_pred'])\n",
    "oof_scores = []\n",
    "\n",
    "# Perform cross-validation\n",
    "for fold, (train_index, val_index) in enumerate(split_list, 1):\n",
    "    print(f\"Fold {fold}\")\n",
    "    \n",
    "    # Split the data\n",
    "    X_train  = df_train.iloc[train_index][numerical_cols + categorical_cols]\n",
    "    y_train = df_train.iloc[train_index]['utility_agent1']\n",
    "    X_valid = df_train.iloc[val_index][numerical_cols + categorical_cols]\n",
    "    y_valid = df_train.iloc[val_index]['utility_agent1']\n",
    "\n",
    "    lgbm_encoder = LGBMLeavesEncoder(\n",
    "        num_cols=numerical_cols,\n",
    "        cat_cols=categorical_cols,\n",
    "        task='regression',\n",
    "        n_estimators=100,\n",
    "        num_leaves=63,\n",
    "        random_state=2112,\n",
    "        verbosity=-1,\n",
    "    )\n",
    "    lgbm_encoder.fit(X_train, y_train)\n",
    "    X_train_leaves_lgbm = lgbm_encoder.transform(X_train, verbose=True)\n",
    "    X_valid_leaves_lgbm = lgbm_encoder.transform(X_valid)\n",
    "    \n",
    "    catb_encoder = CATBLeavesEncoder(\n",
    "        num_cols=numerical_cols,\n",
    "        cat_cols=categorical_cols,\n",
    "        task='regression',\n",
    "        random_state=2112,\n",
    "        iterations=100,\n",
    "        depth=6,\n",
    "        verbose=False,\n",
    "    )\n",
    "    catb_encoder.fit(X_train, y_train)\n",
    "    X_train_leaves_catb = catb_encoder.transform(X_train, verbose=True)\n",
    "    X_valid_leaves_catb = catb_encoder.transform(X_valid)\n",
    "    \n",
    "    X_train = pd.concat([X_train, X_train_leaves_lgbm], axis=1)\n",
    "    X_valid = pd.concat([X_valid, X_valid_leaves_lgbm], axis=1) \n",
    "\n",
    "    X_train = pd.concat([X_train, X_train_leaves_catb], axis=1)\n",
    "    X_valid = pd.concat([X_valid, X_valid_leaves_catb], axis=1)\n",
    "\n",
    "    _categorical_cols = categorical_cols + lgbm_encoder.new_columns + catb_encoder.new_columns\n",
    "    _cat_input_dims = X_train[_categorical_cols].nunique(axis=0).values.tolist()\n",
    "\n",
    "    break\n",
    "\n",
    "    train_dataset = TensorDataset(\n",
    "        torch.tensor(X_train[numerical_cols].values, dtype=torch.float32),\n",
    "        torch.tensor(X_train[_categorical_cols].values, dtype=torch.int32),\n",
    "        torch.tensor(y_train.values, dtype=torch.float32)\n",
    "    )\n",
    "    train_loader = DataLoader(\n",
    "        train_dataset,\n",
    "        batch_size=params['batch_size'],\n",
    "        shuffle=True,\n",
    "        num_workers=8,\n",
    "        persistent_workers=True\n",
    "    )\n",
    "\n",
    "    valid_dataset = TensorDataset(\n",
    "        torch.tensor(X_valid[numerical_cols].values, dtype=torch.float32),\n",
    "        torch.tensor(X_valid[_categorical_cols].values, dtype=torch.int32),\n",
    "        torch.tensor(y_valid.values, dtype=torch.float32)\n",
    "    )\n",
    "    valid_loader = DataLoader(\n",
    "        valid_dataset,\n",
    "        batch_size=params['batch_size'],\n",
    "        shuffle=False,\n",
    "        num_workers=8,\n",
    "        persistent_workers=True\n",
    "    )\n",
    "\n",
    "    # Construct the layers string based on input_layer_size and n_layers\n",
    "    input_layer_size = params['input_layer_size']\n",
    "    n_layers = params['n_layers']\n",
    "    layers = \"-\".join([str(input_layer_size // (2 ** i)) for i in range(n_layers)])\n",
    "\n",
    "    model = MLP(\n",
    "        num_input_dim=len(numerical_cols),\n",
    "        cat_input_dims=_cat_input_dims,\n",
    "        output_dim=1,\n",
    "        layers=layers,\n",
    "        dropout=params['dropout'],\n",
    "        embedding_dropout=params['embedding_dropout'],\n",
    "        learning_rate=params['learning_rate'], \n",
    "        weight_decay=params['weight_decay'],\n",
    "        initialization=\"kaiming_uniform\",\n",
    "        pct_start=params[\"pct_start\"],\n",
    "        div_factor=params[\"div_factor\"],\n",
    "        final_div_factor=params[\"final_div_factor\"],\n",
    "    )\n",
    "    trainer = pl.Trainer(\n",
    "        # min_epochs=10, \n",
    "        max_epochs=100, \n",
    "        # deterministic=True,\n",
    "        accelerator=\"mps\", \n",
    "        callbacks=[\n",
    "            EarlyStopping(\n",
    "                monitor='val_rmse',\n",
    "                patience=10,\n",
    "                mode='min',\n",
    "                verbose=False\n",
    "            ), \n",
    "            LearningRateMonitor(), \n",
    "            BestValRMSELogger(),\n",
    "            ModelCheckpoint(monitor='val_rmse', mode='min', save_top_k=1),\n",
    "        ],\n",
    "    )\n",
    "    trainer.fit(\n",
    "        model, \n",
    "        train_loader,\n",
    "        valid_loader,\n",
    "    )\n",
    "\n",
    "    # Load the best model\n",
    "    best_model_path = trainer.checkpoint_callback.best_model_path\n",
    "    model = MLP.load_from_checkpoint(best_model_path)\n",
    "    trained_models.append(model)\n",
    "\n",
    "    # Predict on validation set using trainer.predict with the prediction DataLoader\n",
    "    predictions = trainer.predict(model, dataloaders=valid_loader)\n",
    "    y_pred = torch.cat(predictions).squeeze().cpu().numpy()\n",
    "     \n",
    "    # Compute RMSE on scaled values\n",
    "    y_valid = y_valid.values\n",
    "    rmse = np.sqrt(np.mean((y_pred - y_valid) ** 2))\n",
    "    print(f\"Fold {fold} - RMSE: {rmse}\")\n",
    "\n",
    "    # Save out-of-fold predictions\n",
    "    oof.loc[val_index, 'utility_agent1_true'] = y_valid\n",
    "    oof.loc[val_index, 'utility_agent1_pred'] = y_pred\n",
    "    oof.loc[val_index, 'fold'] = fold\n",
    "\n",
    "    # Save RMSE to the list\n",
    "    oof_scores.append(rmse)\n",
    "\n",
    "# Print the list of oof scores and average oof score\n",
    "print(\"List of oof scores:\", oof_scores)\n",
    "print(\"Average oof score:\", np.mean(oof_scores))\n",
    "\n",
    "oof.to_csv(path_results / 'oof_mlp_cv1.csv', index=False)"
   ]
  },
  {
   "cell_type": "code",
   "execution_count": 13,
   "metadata": {},
   "outputs": [],
   "source": [
    "from torch_frame import TaskType, stype\n",
    "from torch_frame.utils import infer_df_stype"
   ]
  },
  {
   "cell_type": "code",
   "execution_count": 14,
   "metadata": {},
   "outputs": [],
   "source": [
    "import os \n",
    "os.environ['PYTORCH_ENABLE_MPS_FALLBACK'] = '1'\n",
    "\n",
    "device = torch.device('mps')\n",
    "# device = torch.device('cpu')"
   ]
  },
  {
   "cell_type": "code",
   "execution_count": 15,
   "metadata": {},
   "outputs": [],
   "source": [
    "df_train = pd.concat([X_train, y_train], axis=1)\n",
    "df_valid = pd.concat([X_valid, y_valid], axis=1)"
   ]
  },
  {
   "cell_type": "code",
   "execution_count": 16,
   "metadata": {},
   "outputs": [],
   "source": [
    "col_to_stype = {col: stype.numerical for col in numerical_cols}\n",
    "col_to_stype.update({col: stype.categorical for col in _categorical_cols})\n",
    "col_to_stype.update({\"utility_agent1\": stype.numerical})"
   ]
  },
  {
   "cell_type": "code",
   "execution_count": 17,
   "metadata": {},
   "outputs": [
    {
     "data": {
      "text/plain": [
       "Dataset()"
      ]
     },
     "execution_count": 17,
     "metadata": {},
     "output_type": "execute_result"
    }
   ],
   "source": [
    "#_df = df_train[numerical_cols + categorical_cols + ['utility_agent1']]\n",
    "\n",
    "train_dataset = Dataset(\n",
    "    df_train, \n",
    "    col_to_stype=col_to_stype,\n",
    "    target_col='utility_agent1',\n",
    ")\n",
    "train_dataset.materialize(\n",
    "    device=device\n",
    ")"
   ]
  },
  {
   "cell_type": "code",
   "execution_count": 18,
   "metadata": {},
   "outputs": [
    {
     "data": {
      "text/plain": [
       "Dataset()"
      ]
     },
     "execution_count": 18,
     "metadata": {},
     "output_type": "execute_result"
    }
   ],
   "source": [
    "valid_dataset = Dataset(\n",
    "    df_valid, \n",
    "    col_to_stype=col_to_stype,\n",
    "    target_col='utility_agent1',\n",
    ")\n",
    "valid_dataset.materialize(\n",
    "    device=device\n",
    ")"
   ]
  },
  {
   "cell_type": "code",
   "execution_count": 19,
   "metadata": {},
   "outputs": [],
   "source": [
    "train_tensor_frame = train_dataset.tensor_frame\n",
    "valid_tensor_frame = valid_dataset.tensor_frame"
   ]
  },
  {
   "cell_type": "code",
   "execution_count": 20,
   "metadata": {},
   "outputs": [
    {
     "data": {
      "text/plain": [
       "TensorFrame(\n",
       "  num_cols=575,\n",
       "  num_rows=190558,\n",
       "  numerical (370): ['Absolute', 'AddDecision', 'AddEffect', 'AddEffectFrequency', 'AdvantageP1', 'AlquerqueBoard', 'AlquerqueBoardWithFourTriangles', 'AlquerqueBoardWithOneTriangle', 'AlquerqueBoardWithTwoTriangles', 'AlquerqueTiling', 'Asymmetric', 'AsymmetricForces', 'BackgammonStyle', 'BackwardDirection', 'BallComponent', 'BishopComponent', 'BoardCoverageDefault', 'BoardSitesOccupiedChangeAverage', 'BoardSitesOccupiedChangeLineBestFit', 'BoardSitesOccupiedChangeSign', 'BoardSitesOccupiedMaxIncrease', 'BoardSitesOccupiedMaximum', 'BoardSitesOccupiedMedian', 'BoardStyle', 'Boardless', 'BranchingFactorAverage', 'BranchingFactorChangeAverage', 'BranchingFactorChangeMaxDecrease', 'BranchingFactorChangeMaxIncrease', 'BranchingFactorChangeNumTimesn', 'BranchingFactorChangeSign', 'CanMove', 'CaptureSequenceFrequency', 'CheckmateWinFrequency', 'ChessComponent', 'CircleShape', 'Comparison', 'Completion', 'ComponentStyle', 'ConcentricTiling', 'ConditionalStatement', 'Connection', 'ConnectionEnd', 'ConnectionEndFrequency', 'ConnectionLoss', 'ConnectionLossFrequency', 'ConnectionWinFrequency', 'ControlFlowStatement', 'Cooperation', 'CopyContext', 'CountPiecesMoverComparison', 'CrossBoard', 'DecisionFactorAverage', 'DecisionFactorChangeAverage', 'DecisionFactorChangeSign', 'DecisionFactorMaximum', 'DecisionMoves', 'DiamondShape', 'Dice', 'DiceD2', 'DiscComponent', 'Disjunction', 'Distance', 'DoLudeme', 'Draw', 'Drawishness', 'DurationMoves', 'DurationTurns', 'DurationTurnsNotTimeouts', 'EliminatePiecesDrawFrequency', 'EliminatePiecesLoss', 'EncloseCaptureFrequency', 'EnglishRules_len', 'Equal', 'Exponentiation', 'FairyChessComponent', 'FillEndFrequency', 'FillWin', 'Flip', 'ForgetValues', 'FortyStonesWithFourGapsBoard', 'ForwardDirection', 'ForwardLeftDirection', 'ForwardRightDirection', 'ForwardsDirection', 'FromToDecisionEmptyFrequency', 'FromToDecisionFriendFrequency', 'FromToDecisionWithinBoardFrequency', 'FromToEffect', 'GreaterThan', 'Group', 'GroupEndFrequency', 'Hand', 'HexTiling', 'HopCapture', 'HopCaptureFrequency', 'HopCaptureMoreThanOne', 'HopDecisionEnemyToEmptyFrequency', 'HopDecisionEnemyToEnemy', 'HopDecisionFrequency', 'HopDecisionFriendToEnemyFrequency', 'HopDecisionMoreThanOneFrequency', 'HopEffect', 'InitialCost', 'InitialRandomPlacement', 'InternalCounter', 'Intersection', 'IsEnemy', 'IsFriend', 'IsPieceAt', 'JanggiComponent', 'KintsBoard', 'KnightComponent', 'LargePiece', 'LeapDecisionFrequency', 'LeapDecisionToEmpty', 'LeapDecisionToEnemy', 'LeapDecisionToEnemyFrequency', 'LeftwardDirection', 'LeftwardsDirection', 'LesserThanOrEqual', 'Line', 'LineDraw', 'LineEnd', 'LineLossFrequency', 'LineWinFrequency', 'LoopEnd', 'LoopEndFrequency', 'LoopWin', 'LoopWinFrequency', 'LudRules_len', 'MancalaCircular', 'MancalaSixRows', 'MancalaStores', 'MancalaTwoRows', 'Math', 'MaxMovesInTurn', 'Maximum', 'Misere', 'Modulo', 'MoveAgain', 'MoveConditions', 'MoveDistanceAverage', 'MoveDistanceChangeNumTimes', 'MoveDistanceMaxDecrease', 'MoveDistanceMaxIncrease', 'MoveDistanceMedian', 'MovesEffects', 'MovesPerSecond', 'Multiplication', 'NineMensMorrisBoard', 'NoMoves', 'NoMovesDraw', 'NoMovesDrawFrequency', 'NoMovesLossFrequency', 'NoOwnPiecesEndFrequency', 'NoOwnPiecesLoss', 'NoOwnPiecesLossFrequency', 'NoOwnPiecesWinFrequency', 'NoPieceMover', 'NoProgressDraw', 'NoProgressEnd', 'NoProgressEndFrequency', 'NoSiteMoves', 'NoTargetPiece', 'NoTargetPieceEndFrequency', 'NotEqual', 'NumAdjacentDirections', 'NumBottomSites', 'NumCells', 'NumCentreSites', 'NumColumns', 'NumComponentsTypePerPlayer', 'NumConcaveCorners', 'NumContainers', 'NumConvexCorners', 'NumCorners', 'NumEdges', 'NumInnerSites', 'NumOffDiagonalDirections', 'NumOuterSites', 'NumPlayPhase', 'NumPlayableSites', 'Odd', 'OpeningContract', 'Operations', 'OrthogonalDirection', 'OutcomeUniformity', 'PachisiBoard', 'Parity', 'PassDecision', 'PathExtentEnd', 'PathExtentLoss', 'Pattern', 'PatternEndFrequency', 'PenAndPaperStyle', 'PieceCount', 'PieceNumberChangeLineBestFit', 'PieceNumberChangeSign', 'PieceNumberMaxDecrease', 'PieceNumberMaximum', 'PieceNumberVariance', 'PieceRotation', 'PiecesPlacedOnBoard', 'PlayersWithDirections', 'PlayoutsPerSecond', 'PloyComponent', 'PositionalSuperko', 'Priority', 'ProgressCheck', 'PromotionDecisionFrequency', 'PromotionEffectFrequency', 'ProposeDecision', 'ProposeEffect', 'PushEffect', 'ReachEnd', 'ReachLoss', 'ReachLossFrequency', 'ReachWinFrequency', 'Region', 'RegularShape', 'RelativeDirections', 'RemoveDecision', 'RemoveDecisionFrequency', 'RemoveEffect', 'Repetition', 'ReplacementCaptureFrequency', 'RightwardDirection', 'RookComponent', 'RotationDecision', 'SameLayerDirection', 'ScoreDifferenceAverage', 'ScoreDifferenceChangeLineBestFit', 'ScoreDifferenceMaxDecrease', 'ScoreDifferenceMaxIncrease', 'Scoring', 'ScoringEnd', 'ScoringLoss', 'ScoringLossFrequency', 'SetCount', 'SetCountFrequency', 'SetMove', 'SetNextPlayerFrequency', 'SetRotation', 'SetValueFrequency', 'ShibumiStyle', 'ShogiComponent', 'ShogiStyle', 'ShootDecision', 'ShowPieceState', 'ShowPieceValue', 'SlideDecision', 'SlideDecisionToEmpty', 'SlideDecisionToEmptyFrequency', 'SlideDecisionToFriendFrequency', 'SowBacktracking', 'SowBacktrackingFrequency', 'SowCCW', 'SpaceConditions', 'SquarePyramidalShape', 'SquareShape', 'StackState', 'StarShape', 'Start', 'State', 'StateType', 'StepDecisionToEnemy', 'StepDecisionToFriend', 'StepDecisionToFriendFrequency', 'StepEffect', 'Stochastic', 'Style', 'Subtraction', 'SumDice', 'SurakartaStyle', 'SurroundCapture', 'SwapPiecesDecisionFrequency', 'SwapPlayersDecision', 'SwapPlayersDecisionFrequency', 'TaflStyle', 'Team', 'TerritoryEnd', 'TerritoryWin', 'Threat', 'ThreeMensMorrisBoardWithTwoTriangles', 'Tile', 'Tiling', 'Timeouts', 'Track', 'TrackLoop', 'TriangleShape', 'TriangleTiling', 'TurnKo', 'Union', 'Variable', 'Vertex', 'Visual', 'XiangqiStyle', 'agent_MCTS-ProgressiveHistory-0.1-MAST-false', 'agent_MCTS-ProgressiveHistory-0.1-MAST-true', 'agent_MCTS-ProgressiveHistory-0.1-NST-false', 'agent_MCTS-ProgressiveHistory-0.1-NST-true', 'agent_MCTS-ProgressiveHistory-0.1-Random200-false', 'agent_MCTS-ProgressiveHistory-0.1-Random200-true', 'agent_MCTS-ProgressiveHistory-0.6-MAST-false', 'agent_MCTS-ProgressiveHistory-0.6-MAST-true', 'agent_MCTS-ProgressiveHistory-0.6-NST-false', 'agent_MCTS-ProgressiveHistory-0.6-NST-true', 'agent_MCTS-ProgressiveHistory-0.6-Random200-false', 'agent_MCTS-ProgressiveHistory-0.6-Random200-true', 'agent_MCTS-ProgressiveHistory-1.41421356237-MAST-false', 'agent_MCTS-ProgressiveHistory-1.41421356237-MAST-true', 'agent_MCTS-ProgressiveHistory-1.41421356237-NST-false', 'agent_MCTS-ProgressiveHistory-1.41421356237-NST-true', 'agent_MCTS-ProgressiveHistory-1.41421356237-Random200-false', 'agent_MCTS-ProgressiveHistory-1.41421356237-Random200-true', 'agent_MCTS-UCB1-0.1-MAST-false', 'agent_MCTS-UCB1-0.1-MAST-true', 'agent_MCTS-UCB1-0.1-NST-false', 'agent_MCTS-UCB1-0.1-NST-true', 'agent_MCTS-UCB1-0.1-Random200-false', 'agent_MCTS-UCB1-0.1-Random200-true', 'agent_MCTS-UCB1-0.6-MAST-false', 'agent_MCTS-UCB1-0.6-MAST-true', 'agent_MCTS-UCB1-0.6-NST-false', 'agent_MCTS-UCB1-0.6-NST-true', 'agent_MCTS-UCB1-0.6-Random200-false', 'agent_MCTS-UCB1-0.6-Random200-true', 'agent_MCTS-UCB1-1.41421356237-MAST-false', 'agent_MCTS-UCB1-1.41421356237-MAST-true', 'agent_MCTS-UCB1-1.41421356237-NST-false', 'agent_MCTS-UCB1-1.41421356237-NST-true', 'agent_MCTS-UCB1-1.41421356237-Random200-false', 'agent_MCTS-UCB1-1.41421356237-Random200-true', 'agent_MCTS-UCB1GRAVE-0.1-MAST-false', 'agent_MCTS-UCB1GRAVE-0.1-MAST-true', 'agent_MCTS-UCB1GRAVE-0.1-NST-false', 'agent_MCTS-UCB1GRAVE-0.1-NST-true', 'agent_MCTS-UCB1GRAVE-0.1-Random200-false', 'agent_MCTS-UCB1GRAVE-0.1-Random200-true', 'agent_MCTS-UCB1GRAVE-0.6-MAST-false', 'agent_MCTS-UCB1GRAVE-0.6-MAST-true', 'agent_MCTS-UCB1GRAVE-0.6-NST-false', 'agent_MCTS-UCB1GRAVE-0.6-NST-true', 'agent_MCTS-UCB1GRAVE-0.6-Random200-false', 'agent_MCTS-UCB1GRAVE-0.6-Random200-true', 'agent_MCTS-UCB1GRAVE-1.41421356237-MAST-false', 'agent_MCTS-UCB1GRAVE-1.41421356237-MAST-true', 'agent_MCTS-UCB1GRAVE-1.41421356237-NST-false', 'agent_MCTS-UCB1GRAVE-1.41421356237-NST-true', 'agent_MCTS-UCB1GRAVE-1.41421356237-Random200-false', 'agent_MCTS-UCB1GRAVE-1.41421356237-Random200-true', 'agent_MCTS-UCB1Tuned-0.1-MAST-false', 'agent_MCTS-UCB1Tuned-0.1-MAST-true', 'agent_MCTS-UCB1Tuned-0.1-NST-false', 'agent_MCTS-UCB1Tuned-0.1-NST-true', 'agent_MCTS-UCB1Tuned-0.1-Random200-false', 'agent_MCTS-UCB1Tuned-0.1-Random200-true', 'agent_MCTS-UCB1Tuned-0.6-MAST-false', 'agent_MCTS-UCB1Tuned-0.6-MAST-true', 'agent_MCTS-UCB1Tuned-0.6-NST-false', 'agent_MCTS-UCB1Tuned-0.6-NST-true', 'agent_MCTS-UCB1Tuned-0.6-Random200-false', 'agent_MCTS-UCB1Tuned-0.6-Random200-true', 'agent_MCTS-UCB1Tuned-1.41421356237-MAST-false', 'agent_MCTS-UCB1Tuned-1.41421356237-MAST-true', 'agent_MCTS-UCB1Tuned-1.41421356237-NST-false', 'agent_MCTS-UCB1Tuned-1.41421356237-NST-true', 'agent_MCTS-UCB1Tuned-1.41421356237-Random200-false', 'agent_MCTS-UCB1Tuned-1.41421356237-Random200-true'],\n",
       "  categorical (205): ['agent1', 'agent1_playout', 'agent1_selection', 'agent2', 'agent2_selection', 'catb_leaf_0', 'catb_leaf_1', 'catb_leaf_10', 'catb_leaf_11', 'catb_leaf_12', 'catb_leaf_13', 'catb_leaf_14', 'catb_leaf_15', 'catb_leaf_16', 'catb_leaf_17', 'catb_leaf_18', 'catb_leaf_19', 'catb_leaf_2', 'catb_leaf_20', 'catb_leaf_21', 'catb_leaf_22', 'catb_leaf_23', 'catb_leaf_24', 'catb_leaf_25', 'catb_leaf_26', 'catb_leaf_27', 'catb_leaf_28', 'catb_leaf_29', 'catb_leaf_3', 'catb_leaf_30', 'catb_leaf_31', 'catb_leaf_32', 'catb_leaf_33', 'catb_leaf_34', 'catb_leaf_35', 'catb_leaf_36', 'catb_leaf_37', 'catb_leaf_38', 'catb_leaf_39', 'catb_leaf_4', 'catb_leaf_40', 'catb_leaf_41', 'catb_leaf_42', 'catb_leaf_43', 'catb_leaf_44', 'catb_leaf_45', 'catb_leaf_46', 'catb_leaf_47', 'catb_leaf_48', 'catb_leaf_49', 'catb_leaf_5', 'catb_leaf_50', 'catb_leaf_51', 'catb_leaf_52', 'catb_leaf_53', 'catb_leaf_54', 'catb_leaf_55', 'catb_leaf_56', 'catb_leaf_57', 'catb_leaf_58', 'catb_leaf_59', 'catb_leaf_6', 'catb_leaf_60', 'catb_leaf_61', 'catb_leaf_62', 'catb_leaf_63', 'catb_leaf_64', 'catb_leaf_65', 'catb_leaf_66', 'catb_leaf_67', 'catb_leaf_68', 'catb_leaf_69', 'catb_leaf_7', 'catb_leaf_70', 'catb_leaf_71', 'catb_leaf_72', 'catb_leaf_73', 'catb_leaf_74', 'catb_leaf_75', 'catb_leaf_76', 'catb_leaf_77', 'catb_leaf_78', 'catb_leaf_79', 'catb_leaf_8', 'catb_leaf_80', 'catb_leaf_81', 'catb_leaf_82', 'catb_leaf_83', 'catb_leaf_84', 'catb_leaf_85', 'catb_leaf_86', 'catb_leaf_87', 'catb_leaf_88', 'catb_leaf_89', 'catb_leaf_9', 'catb_leaf_90', 'catb_leaf_91', 'catb_leaf_92', 'catb_leaf_93', 'catb_leaf_94', 'catb_leaf_95', 'catb_leaf_96', 'catb_leaf_97', 'catb_leaf_98', 'catb_leaf_99', 'lgbm_leaf_0', 'lgbm_leaf_1', 'lgbm_leaf_10', 'lgbm_leaf_11', 'lgbm_leaf_12', 'lgbm_leaf_13', 'lgbm_leaf_14', 'lgbm_leaf_15', 'lgbm_leaf_16', 'lgbm_leaf_17', 'lgbm_leaf_18', 'lgbm_leaf_19', 'lgbm_leaf_2', 'lgbm_leaf_20', 'lgbm_leaf_21', 'lgbm_leaf_22', 'lgbm_leaf_23', 'lgbm_leaf_24', 'lgbm_leaf_25', 'lgbm_leaf_26', 'lgbm_leaf_27', 'lgbm_leaf_28', 'lgbm_leaf_29', 'lgbm_leaf_3', 'lgbm_leaf_30', 'lgbm_leaf_31', 'lgbm_leaf_32', 'lgbm_leaf_33', 'lgbm_leaf_34', 'lgbm_leaf_35', 'lgbm_leaf_36', 'lgbm_leaf_37', 'lgbm_leaf_38', 'lgbm_leaf_39', 'lgbm_leaf_4', 'lgbm_leaf_40', 'lgbm_leaf_41', 'lgbm_leaf_42', 'lgbm_leaf_43', 'lgbm_leaf_44', 'lgbm_leaf_45', 'lgbm_leaf_46', 'lgbm_leaf_47', 'lgbm_leaf_48', 'lgbm_leaf_49', 'lgbm_leaf_5', 'lgbm_leaf_50', 'lgbm_leaf_51', 'lgbm_leaf_52', 'lgbm_leaf_53', 'lgbm_leaf_54', 'lgbm_leaf_55', 'lgbm_leaf_56', 'lgbm_leaf_57', 'lgbm_leaf_58', 'lgbm_leaf_59', 'lgbm_leaf_6', 'lgbm_leaf_60', 'lgbm_leaf_61', 'lgbm_leaf_62', 'lgbm_leaf_63', 'lgbm_leaf_64', 'lgbm_leaf_65', 'lgbm_leaf_66', 'lgbm_leaf_67', 'lgbm_leaf_68', 'lgbm_leaf_69', 'lgbm_leaf_7', 'lgbm_leaf_70', 'lgbm_leaf_71', 'lgbm_leaf_72', 'lgbm_leaf_73', 'lgbm_leaf_74', 'lgbm_leaf_75', 'lgbm_leaf_76', 'lgbm_leaf_77', 'lgbm_leaf_78', 'lgbm_leaf_79', 'lgbm_leaf_8', 'lgbm_leaf_80', 'lgbm_leaf_81', 'lgbm_leaf_82', 'lgbm_leaf_83', 'lgbm_leaf_84', 'lgbm_leaf_85', 'lgbm_leaf_86', 'lgbm_leaf_87', 'lgbm_leaf_88', 'lgbm_leaf_89', 'lgbm_leaf_9', 'lgbm_leaf_90', 'lgbm_leaf_91', 'lgbm_leaf_92', 'lgbm_leaf_93', 'lgbm_leaf_94', 'lgbm_leaf_95', 'lgbm_leaf_96', 'lgbm_leaf_97', 'lgbm_leaf_98', 'lgbm_leaf_99'],\n",
       "  has_target=True,\n",
       "  device='mps:0',\n",
       ")"
      ]
     },
     "execution_count": 20,
     "metadata": {},
     "output_type": "execute_result"
    }
   ],
   "source": [
    "train_tensor_frame"
   ]
  },
  {
   "cell_type": "code",
   "execution_count": 21,
   "metadata": {},
   "outputs": [
    {
     "data": {
      "text/plain": [
       "TensorFrame(\n",
       "  num_cols=575,\n",
       "  num_rows=42676,\n",
       "  numerical (370): ['Absolute', 'AddDecision', 'AddEffect', 'AddEffectFrequency', 'AdvantageP1', 'AlquerqueBoard', 'AlquerqueBoardWithFourTriangles', 'AlquerqueBoardWithOneTriangle', 'AlquerqueBoardWithTwoTriangles', 'AlquerqueTiling', 'Asymmetric', 'AsymmetricForces', 'BackgammonStyle', 'BackwardDirection', 'BallComponent', 'BishopComponent', 'BoardCoverageDefault', 'BoardSitesOccupiedChangeAverage', 'BoardSitesOccupiedChangeLineBestFit', 'BoardSitesOccupiedChangeSign', 'BoardSitesOccupiedMaxIncrease', 'BoardSitesOccupiedMaximum', 'BoardSitesOccupiedMedian', 'BoardStyle', 'Boardless', 'BranchingFactorAverage', 'BranchingFactorChangeAverage', 'BranchingFactorChangeMaxDecrease', 'BranchingFactorChangeMaxIncrease', 'BranchingFactorChangeNumTimesn', 'BranchingFactorChangeSign', 'CanMove', 'CaptureSequenceFrequency', 'CheckmateWinFrequency', 'ChessComponent', 'CircleShape', 'Comparison', 'Completion', 'ComponentStyle', 'ConcentricTiling', 'ConditionalStatement', 'Connection', 'ConnectionEnd', 'ConnectionEndFrequency', 'ConnectionLoss', 'ConnectionLossFrequency', 'ConnectionWinFrequency', 'ControlFlowStatement', 'Cooperation', 'CopyContext', 'CountPiecesMoverComparison', 'CrossBoard', 'DecisionFactorAverage', 'DecisionFactorChangeAverage', 'DecisionFactorChangeSign', 'DecisionFactorMaximum', 'DecisionMoves', 'DiamondShape', 'Dice', 'DiceD2', 'DiscComponent', 'Disjunction', 'Distance', 'DoLudeme', 'Draw', 'Drawishness', 'DurationMoves', 'DurationTurns', 'DurationTurnsNotTimeouts', 'EliminatePiecesDrawFrequency', 'EliminatePiecesLoss', 'EncloseCaptureFrequency', 'EnglishRules_len', 'Equal', 'Exponentiation', 'FairyChessComponent', 'FillEndFrequency', 'FillWin', 'Flip', 'ForgetValues', 'FortyStonesWithFourGapsBoard', 'ForwardDirection', 'ForwardLeftDirection', 'ForwardRightDirection', 'ForwardsDirection', 'FromToDecisionEmptyFrequency', 'FromToDecisionFriendFrequency', 'FromToDecisionWithinBoardFrequency', 'FromToEffect', 'GreaterThan', 'Group', 'GroupEndFrequency', 'Hand', 'HexTiling', 'HopCapture', 'HopCaptureFrequency', 'HopCaptureMoreThanOne', 'HopDecisionEnemyToEmptyFrequency', 'HopDecisionEnemyToEnemy', 'HopDecisionFrequency', 'HopDecisionFriendToEnemyFrequency', 'HopDecisionMoreThanOneFrequency', 'HopEffect', 'InitialCost', 'InitialRandomPlacement', 'InternalCounter', 'Intersection', 'IsEnemy', 'IsFriend', 'IsPieceAt', 'JanggiComponent', 'KintsBoard', 'KnightComponent', 'LargePiece', 'LeapDecisionFrequency', 'LeapDecisionToEmpty', 'LeapDecisionToEnemy', 'LeapDecisionToEnemyFrequency', 'LeftwardDirection', 'LeftwardsDirection', 'LesserThanOrEqual', 'Line', 'LineDraw', 'LineEnd', 'LineLossFrequency', 'LineWinFrequency', 'LoopEnd', 'LoopEndFrequency', 'LoopWin', 'LoopWinFrequency', 'LudRules_len', 'MancalaCircular', 'MancalaSixRows', 'MancalaStores', 'MancalaTwoRows', 'Math', 'MaxMovesInTurn', 'Maximum', 'Misere', 'Modulo', 'MoveAgain', 'MoveConditions', 'MoveDistanceAverage', 'MoveDistanceChangeNumTimes', 'MoveDistanceMaxDecrease', 'MoveDistanceMaxIncrease', 'MoveDistanceMedian', 'MovesEffects', 'MovesPerSecond', 'Multiplication', 'NineMensMorrisBoard', 'NoMoves', 'NoMovesDraw', 'NoMovesDrawFrequency', 'NoMovesLossFrequency', 'NoOwnPiecesEndFrequency', 'NoOwnPiecesLoss', 'NoOwnPiecesLossFrequency', 'NoOwnPiecesWinFrequency', 'NoPieceMover', 'NoProgressDraw', 'NoProgressEnd', 'NoProgressEndFrequency', 'NoSiteMoves', 'NoTargetPiece', 'NoTargetPieceEndFrequency', 'NotEqual', 'NumAdjacentDirections', 'NumBottomSites', 'NumCells', 'NumCentreSites', 'NumColumns', 'NumComponentsTypePerPlayer', 'NumConcaveCorners', 'NumContainers', 'NumConvexCorners', 'NumCorners', 'NumEdges', 'NumInnerSites', 'NumOffDiagonalDirections', 'NumOuterSites', 'NumPlayPhase', 'NumPlayableSites', 'Odd', 'OpeningContract', 'Operations', 'OrthogonalDirection', 'OutcomeUniformity', 'PachisiBoard', 'Parity', 'PassDecision', 'PathExtentEnd', 'PathExtentLoss', 'Pattern', 'PatternEndFrequency', 'PenAndPaperStyle', 'PieceCount', 'PieceNumberChangeLineBestFit', 'PieceNumberChangeSign', 'PieceNumberMaxDecrease', 'PieceNumberMaximum', 'PieceNumberVariance', 'PieceRotation', 'PiecesPlacedOnBoard', 'PlayersWithDirections', 'PlayoutsPerSecond', 'PloyComponent', 'PositionalSuperko', 'Priority', 'ProgressCheck', 'PromotionDecisionFrequency', 'PromotionEffectFrequency', 'ProposeDecision', 'ProposeEffect', 'PushEffect', 'ReachEnd', 'ReachLoss', 'ReachLossFrequency', 'ReachWinFrequency', 'Region', 'RegularShape', 'RelativeDirections', 'RemoveDecision', 'RemoveDecisionFrequency', 'RemoveEffect', 'Repetition', 'ReplacementCaptureFrequency', 'RightwardDirection', 'RookComponent', 'RotationDecision', 'SameLayerDirection', 'ScoreDifferenceAverage', 'ScoreDifferenceChangeLineBestFit', 'ScoreDifferenceMaxDecrease', 'ScoreDifferenceMaxIncrease', 'Scoring', 'ScoringEnd', 'ScoringLoss', 'ScoringLossFrequency', 'SetCount', 'SetCountFrequency', 'SetMove', 'SetNextPlayerFrequency', 'SetRotation', 'SetValueFrequency', 'ShibumiStyle', 'ShogiComponent', 'ShogiStyle', 'ShootDecision', 'ShowPieceState', 'ShowPieceValue', 'SlideDecision', 'SlideDecisionToEmpty', 'SlideDecisionToEmptyFrequency', 'SlideDecisionToFriendFrequency', 'SowBacktracking', 'SowBacktrackingFrequency', 'SowCCW', 'SpaceConditions', 'SquarePyramidalShape', 'SquareShape', 'StackState', 'StarShape', 'Start', 'State', 'StateType', 'StepDecisionToEnemy', 'StepDecisionToFriend', 'StepDecisionToFriendFrequency', 'StepEffect', 'Stochastic', 'Style', 'Subtraction', 'SumDice', 'SurakartaStyle', 'SurroundCapture', 'SwapPiecesDecisionFrequency', 'SwapPlayersDecision', 'SwapPlayersDecisionFrequency', 'TaflStyle', 'Team', 'TerritoryEnd', 'TerritoryWin', 'Threat', 'ThreeMensMorrisBoardWithTwoTriangles', 'Tile', 'Tiling', 'Timeouts', 'Track', 'TrackLoop', 'TriangleShape', 'TriangleTiling', 'TurnKo', 'Union', 'Variable', 'Vertex', 'Visual', 'XiangqiStyle', 'agent_MCTS-ProgressiveHistory-0.1-MAST-false', 'agent_MCTS-ProgressiveHistory-0.1-MAST-true', 'agent_MCTS-ProgressiveHistory-0.1-NST-false', 'agent_MCTS-ProgressiveHistory-0.1-NST-true', 'agent_MCTS-ProgressiveHistory-0.1-Random200-false', 'agent_MCTS-ProgressiveHistory-0.1-Random200-true', 'agent_MCTS-ProgressiveHistory-0.6-MAST-false', 'agent_MCTS-ProgressiveHistory-0.6-MAST-true', 'agent_MCTS-ProgressiveHistory-0.6-NST-false', 'agent_MCTS-ProgressiveHistory-0.6-NST-true', 'agent_MCTS-ProgressiveHistory-0.6-Random200-false', 'agent_MCTS-ProgressiveHistory-0.6-Random200-true', 'agent_MCTS-ProgressiveHistory-1.41421356237-MAST-false', 'agent_MCTS-ProgressiveHistory-1.41421356237-MAST-true', 'agent_MCTS-ProgressiveHistory-1.41421356237-NST-false', 'agent_MCTS-ProgressiveHistory-1.41421356237-NST-true', 'agent_MCTS-ProgressiveHistory-1.41421356237-Random200-false', 'agent_MCTS-ProgressiveHistory-1.41421356237-Random200-true', 'agent_MCTS-UCB1-0.1-MAST-false', 'agent_MCTS-UCB1-0.1-MAST-true', 'agent_MCTS-UCB1-0.1-NST-false', 'agent_MCTS-UCB1-0.1-NST-true', 'agent_MCTS-UCB1-0.1-Random200-false', 'agent_MCTS-UCB1-0.1-Random200-true', 'agent_MCTS-UCB1-0.6-MAST-false', 'agent_MCTS-UCB1-0.6-MAST-true', 'agent_MCTS-UCB1-0.6-NST-false', 'agent_MCTS-UCB1-0.6-NST-true', 'agent_MCTS-UCB1-0.6-Random200-false', 'agent_MCTS-UCB1-0.6-Random200-true', 'agent_MCTS-UCB1-1.41421356237-MAST-false', 'agent_MCTS-UCB1-1.41421356237-MAST-true', 'agent_MCTS-UCB1-1.41421356237-NST-false', 'agent_MCTS-UCB1-1.41421356237-NST-true', 'agent_MCTS-UCB1-1.41421356237-Random200-false', 'agent_MCTS-UCB1-1.41421356237-Random200-true', 'agent_MCTS-UCB1GRAVE-0.1-MAST-false', 'agent_MCTS-UCB1GRAVE-0.1-MAST-true', 'agent_MCTS-UCB1GRAVE-0.1-NST-false', 'agent_MCTS-UCB1GRAVE-0.1-NST-true', 'agent_MCTS-UCB1GRAVE-0.1-Random200-false', 'agent_MCTS-UCB1GRAVE-0.1-Random200-true', 'agent_MCTS-UCB1GRAVE-0.6-MAST-false', 'agent_MCTS-UCB1GRAVE-0.6-MAST-true', 'agent_MCTS-UCB1GRAVE-0.6-NST-false', 'agent_MCTS-UCB1GRAVE-0.6-NST-true', 'agent_MCTS-UCB1GRAVE-0.6-Random200-false', 'agent_MCTS-UCB1GRAVE-0.6-Random200-true', 'agent_MCTS-UCB1GRAVE-1.41421356237-MAST-false', 'agent_MCTS-UCB1GRAVE-1.41421356237-MAST-true', 'agent_MCTS-UCB1GRAVE-1.41421356237-NST-false', 'agent_MCTS-UCB1GRAVE-1.41421356237-NST-true', 'agent_MCTS-UCB1GRAVE-1.41421356237-Random200-false', 'agent_MCTS-UCB1GRAVE-1.41421356237-Random200-true', 'agent_MCTS-UCB1Tuned-0.1-MAST-false', 'agent_MCTS-UCB1Tuned-0.1-MAST-true', 'agent_MCTS-UCB1Tuned-0.1-NST-false', 'agent_MCTS-UCB1Tuned-0.1-NST-true', 'agent_MCTS-UCB1Tuned-0.1-Random200-false', 'agent_MCTS-UCB1Tuned-0.1-Random200-true', 'agent_MCTS-UCB1Tuned-0.6-MAST-false', 'agent_MCTS-UCB1Tuned-0.6-MAST-true', 'agent_MCTS-UCB1Tuned-0.6-NST-false', 'agent_MCTS-UCB1Tuned-0.6-NST-true', 'agent_MCTS-UCB1Tuned-0.6-Random200-false', 'agent_MCTS-UCB1Tuned-0.6-Random200-true', 'agent_MCTS-UCB1Tuned-1.41421356237-MAST-false', 'agent_MCTS-UCB1Tuned-1.41421356237-MAST-true', 'agent_MCTS-UCB1Tuned-1.41421356237-NST-false', 'agent_MCTS-UCB1Tuned-1.41421356237-NST-true', 'agent_MCTS-UCB1Tuned-1.41421356237-Random200-false', 'agent_MCTS-UCB1Tuned-1.41421356237-Random200-true'],\n",
       "  categorical (205): ['agent1', 'agent1_playout', 'agent1_selection', 'agent2', 'agent2_selection', 'catb_leaf_0', 'catb_leaf_1', 'catb_leaf_10', 'catb_leaf_11', 'catb_leaf_12', 'catb_leaf_13', 'catb_leaf_14', 'catb_leaf_15', 'catb_leaf_16', 'catb_leaf_17', 'catb_leaf_18', 'catb_leaf_19', 'catb_leaf_2', 'catb_leaf_20', 'catb_leaf_21', 'catb_leaf_22', 'catb_leaf_23', 'catb_leaf_24', 'catb_leaf_25', 'catb_leaf_26', 'catb_leaf_27', 'catb_leaf_28', 'catb_leaf_29', 'catb_leaf_3', 'catb_leaf_30', 'catb_leaf_31', 'catb_leaf_32', 'catb_leaf_33', 'catb_leaf_34', 'catb_leaf_35', 'catb_leaf_36', 'catb_leaf_37', 'catb_leaf_38', 'catb_leaf_39', 'catb_leaf_4', 'catb_leaf_40', 'catb_leaf_41', 'catb_leaf_42', 'catb_leaf_43', 'catb_leaf_44', 'catb_leaf_45', 'catb_leaf_46', 'catb_leaf_47', 'catb_leaf_48', 'catb_leaf_49', 'catb_leaf_5', 'catb_leaf_50', 'catb_leaf_51', 'catb_leaf_52', 'catb_leaf_53', 'catb_leaf_54', 'catb_leaf_55', 'catb_leaf_56', 'catb_leaf_57', 'catb_leaf_58', 'catb_leaf_59', 'catb_leaf_6', 'catb_leaf_60', 'catb_leaf_61', 'catb_leaf_62', 'catb_leaf_63', 'catb_leaf_64', 'catb_leaf_65', 'catb_leaf_66', 'catb_leaf_67', 'catb_leaf_68', 'catb_leaf_69', 'catb_leaf_7', 'catb_leaf_70', 'catb_leaf_71', 'catb_leaf_72', 'catb_leaf_73', 'catb_leaf_74', 'catb_leaf_75', 'catb_leaf_76', 'catb_leaf_77', 'catb_leaf_78', 'catb_leaf_79', 'catb_leaf_8', 'catb_leaf_80', 'catb_leaf_81', 'catb_leaf_82', 'catb_leaf_83', 'catb_leaf_84', 'catb_leaf_85', 'catb_leaf_86', 'catb_leaf_87', 'catb_leaf_88', 'catb_leaf_89', 'catb_leaf_9', 'catb_leaf_90', 'catb_leaf_91', 'catb_leaf_92', 'catb_leaf_93', 'catb_leaf_94', 'catb_leaf_95', 'catb_leaf_96', 'catb_leaf_97', 'catb_leaf_98', 'catb_leaf_99', 'lgbm_leaf_0', 'lgbm_leaf_1', 'lgbm_leaf_10', 'lgbm_leaf_11', 'lgbm_leaf_12', 'lgbm_leaf_13', 'lgbm_leaf_14', 'lgbm_leaf_15', 'lgbm_leaf_16', 'lgbm_leaf_17', 'lgbm_leaf_18', 'lgbm_leaf_19', 'lgbm_leaf_2', 'lgbm_leaf_20', 'lgbm_leaf_21', 'lgbm_leaf_22', 'lgbm_leaf_23', 'lgbm_leaf_24', 'lgbm_leaf_25', 'lgbm_leaf_26', 'lgbm_leaf_27', 'lgbm_leaf_28', 'lgbm_leaf_29', 'lgbm_leaf_3', 'lgbm_leaf_30', 'lgbm_leaf_31', 'lgbm_leaf_32', 'lgbm_leaf_33', 'lgbm_leaf_34', 'lgbm_leaf_35', 'lgbm_leaf_36', 'lgbm_leaf_37', 'lgbm_leaf_38', 'lgbm_leaf_39', 'lgbm_leaf_4', 'lgbm_leaf_40', 'lgbm_leaf_41', 'lgbm_leaf_42', 'lgbm_leaf_43', 'lgbm_leaf_44', 'lgbm_leaf_45', 'lgbm_leaf_46', 'lgbm_leaf_47', 'lgbm_leaf_48', 'lgbm_leaf_49', 'lgbm_leaf_5', 'lgbm_leaf_50', 'lgbm_leaf_51', 'lgbm_leaf_52', 'lgbm_leaf_53', 'lgbm_leaf_54', 'lgbm_leaf_55', 'lgbm_leaf_56', 'lgbm_leaf_57', 'lgbm_leaf_58', 'lgbm_leaf_59', 'lgbm_leaf_6', 'lgbm_leaf_60', 'lgbm_leaf_61', 'lgbm_leaf_62', 'lgbm_leaf_63', 'lgbm_leaf_64', 'lgbm_leaf_65', 'lgbm_leaf_66', 'lgbm_leaf_67', 'lgbm_leaf_68', 'lgbm_leaf_69', 'lgbm_leaf_7', 'lgbm_leaf_70', 'lgbm_leaf_71', 'lgbm_leaf_72', 'lgbm_leaf_73', 'lgbm_leaf_74', 'lgbm_leaf_75', 'lgbm_leaf_76', 'lgbm_leaf_77', 'lgbm_leaf_78', 'lgbm_leaf_79', 'lgbm_leaf_8', 'lgbm_leaf_80', 'lgbm_leaf_81', 'lgbm_leaf_82', 'lgbm_leaf_83', 'lgbm_leaf_84', 'lgbm_leaf_85', 'lgbm_leaf_86', 'lgbm_leaf_87', 'lgbm_leaf_88', 'lgbm_leaf_89', 'lgbm_leaf_9', 'lgbm_leaf_90', 'lgbm_leaf_91', 'lgbm_leaf_92', 'lgbm_leaf_93', 'lgbm_leaf_94', 'lgbm_leaf_95', 'lgbm_leaf_96', 'lgbm_leaf_97', 'lgbm_leaf_98', 'lgbm_leaf_99'],\n",
       "  has_target=True,\n",
       "  device='mps:0',\n",
       ")"
      ]
     },
     "execution_count": 21,
     "metadata": {},
     "output_type": "execute_result"
    }
   ],
   "source": [
    "valid_tensor_frame"
   ]
  },
  {
   "cell_type": "code",
   "execution_count": 22,
   "metadata": {},
   "outputs": [],
   "source": [
    "categorical_transform = CatToNumTransform()\n",
    "categorical_transform.fit(train_dataset.tensor_frame, train_dataset.col_stats)"
   ]
  },
  {
   "cell_type": "code",
   "execution_count": 23,
   "metadata": {},
   "outputs": [],
   "source": [
    "train_tensor_frame = categorical_transform(train_tensor_frame)\n",
    "valid_tensor_frame = categorical_transform(valid_tensor_frame)"
   ]
  },
  {
   "cell_type": "code",
   "execution_count": 24,
   "metadata": {},
   "outputs": [],
   "source": [
    "col_stats = categorical_transform.transformed_stats"
   ]
  },
  {
   "cell_type": "code",
   "execution_count": 20,
   "metadata": {},
   "outputs": [],
   "source": []
  },
  {
   "cell_type": "code",
   "execution_count": 25,
   "metadata": {},
   "outputs": [],
   "source": [
    "mutual_info_sort = MutualInformationSort(task_type=TaskType.REGRESSION)"
   ]
  },
  {
   "cell_type": "code",
   "execution_count": 26,
   "metadata": {},
   "outputs": [],
   "source": [
    "mutual_info_sort.fit(train_tensor_frame, col_stats)"
   ]
  },
  {
   "cell_type": "code",
   "execution_count": 27,
   "metadata": {},
   "outputs": [
    {
     "data": {
      "text/plain": [
       "TensorFrame(\n",
       "  num_cols=575,\n",
       "  num_rows=190558,\n",
       "  numerical (575): ['Absolute', 'AddDecision', 'AddEffect', 'AddEffectFrequency', 'AdvantageP1', 'AlquerqueBoard', 'AlquerqueBoardWithFourTriangles', 'AlquerqueBoardWithOneTriangle', 'AlquerqueBoardWithTwoTriangles', 'AlquerqueTiling', 'Asymmetric', 'AsymmetricForces', 'BackgammonStyle', 'BackwardDirection', 'BallComponent', 'BishopComponent', 'BoardCoverageDefault', 'BoardSitesOccupiedChangeAverage', 'BoardSitesOccupiedChangeLineBestFit', 'BoardSitesOccupiedChangeSign', 'BoardSitesOccupiedMaxIncrease', 'BoardSitesOccupiedMaximum', 'BoardSitesOccupiedMedian', 'BoardStyle', 'Boardless', 'BranchingFactorAverage', 'BranchingFactorChangeAverage', 'BranchingFactorChangeMaxDecrease', 'BranchingFactorChangeMaxIncrease', 'BranchingFactorChangeNumTimesn', 'BranchingFactorChangeSign', 'CanMove', 'CaptureSequenceFrequency', 'CheckmateWinFrequency', 'ChessComponent', 'CircleShape', 'Comparison', 'Completion', 'ComponentStyle', 'ConcentricTiling', 'ConditionalStatement', 'Connection', 'ConnectionEnd', 'ConnectionEndFrequency', 'ConnectionLoss', 'ConnectionLossFrequency', 'ConnectionWinFrequency', 'ControlFlowStatement', 'Cooperation', 'CopyContext', 'CountPiecesMoverComparison', 'CrossBoard', 'DecisionFactorAverage', 'DecisionFactorChangeAverage', 'DecisionFactorChangeSign', 'DecisionFactorMaximum', 'DecisionMoves', 'DiamondShape', 'Dice', 'DiceD2', 'DiscComponent', 'Disjunction', 'Distance', 'DoLudeme', 'Draw', 'Drawishness', 'DurationMoves', 'DurationTurns', 'DurationTurnsNotTimeouts', 'EliminatePiecesDrawFrequency', 'EliminatePiecesLoss', 'EncloseCaptureFrequency', 'EnglishRules_len', 'Equal', 'Exponentiation', 'FairyChessComponent', 'FillEndFrequency', 'FillWin', 'Flip', 'ForgetValues', 'FortyStonesWithFourGapsBoard', 'ForwardDirection', 'ForwardLeftDirection', 'ForwardRightDirection', 'ForwardsDirection', 'FromToDecisionEmptyFrequency', 'FromToDecisionFriendFrequency', 'FromToDecisionWithinBoardFrequency', 'FromToEffect', 'GreaterThan', 'Group', 'GroupEndFrequency', 'Hand', 'HexTiling', 'HopCapture', 'HopCaptureFrequency', 'HopCaptureMoreThanOne', 'HopDecisionEnemyToEmptyFrequency', 'HopDecisionEnemyToEnemy', 'HopDecisionFrequency', 'HopDecisionFriendToEnemyFrequency', 'HopDecisionMoreThanOneFrequency', 'HopEffect', 'InitialCost', 'InitialRandomPlacement', 'InternalCounter', 'Intersection', 'IsEnemy', 'IsFriend', 'IsPieceAt', 'JanggiComponent', 'KintsBoard', 'KnightComponent', 'LargePiece', 'LeapDecisionFrequency', 'LeapDecisionToEmpty', 'LeapDecisionToEnemy', 'LeapDecisionToEnemyFrequency', 'LeftwardDirection', 'LeftwardsDirection', 'LesserThanOrEqual', 'Line', 'LineDraw', 'LineEnd', 'LineLossFrequency', 'LineWinFrequency', 'LoopEnd', 'LoopEndFrequency', 'LoopWin', 'LoopWinFrequency', 'LudRules_len', 'MancalaCircular', 'MancalaSixRows', 'MancalaStores', 'MancalaTwoRows', 'Math', 'MaxMovesInTurn', 'Maximum', 'Misere', 'Modulo', 'MoveAgain', 'MoveConditions', 'MoveDistanceAverage', 'MoveDistanceChangeNumTimes', 'MoveDistanceMaxDecrease', 'MoveDistanceMaxIncrease', 'MoveDistanceMedian', 'MovesEffects', 'MovesPerSecond', 'Multiplication', 'NineMensMorrisBoard', 'NoMoves', 'NoMovesDraw', 'NoMovesDrawFrequency', 'NoMovesLossFrequency', 'NoOwnPiecesEndFrequency', 'NoOwnPiecesLoss', 'NoOwnPiecesLossFrequency', 'NoOwnPiecesWinFrequency', 'NoPieceMover', 'NoProgressDraw', 'NoProgressEnd', 'NoProgressEndFrequency', 'NoSiteMoves', 'NoTargetPiece', 'NoTargetPieceEndFrequency', 'NotEqual', 'NumAdjacentDirections', 'NumBottomSites', 'NumCells', 'NumCentreSites', 'NumColumns', 'NumComponentsTypePerPlayer', 'NumConcaveCorners', 'NumContainers', 'NumConvexCorners', 'NumCorners', 'NumEdges', 'NumInnerSites', 'NumOffDiagonalDirections', 'NumOuterSites', 'NumPlayPhase', 'NumPlayableSites', 'Odd', 'OpeningContract', 'Operations', 'OrthogonalDirection', 'OutcomeUniformity', 'PachisiBoard', 'Parity', 'PassDecision', 'PathExtentEnd', 'PathExtentLoss', 'Pattern', 'PatternEndFrequency', 'PenAndPaperStyle', 'PieceCount', 'PieceNumberChangeLineBestFit', 'PieceNumberChangeSign', 'PieceNumberMaxDecrease', 'PieceNumberMaximum', 'PieceNumberVariance', 'PieceRotation', 'PiecesPlacedOnBoard', 'PlayersWithDirections', 'PlayoutsPerSecond', 'PloyComponent', 'PositionalSuperko', 'Priority', 'ProgressCheck', 'PromotionDecisionFrequency', 'PromotionEffectFrequency', 'ProposeDecision', 'ProposeEffect', 'PushEffect', 'ReachEnd', 'ReachLoss', 'ReachLossFrequency', 'ReachWinFrequency', 'Region', 'RegularShape', 'RelativeDirections', 'RemoveDecision', 'RemoveDecisionFrequency', 'RemoveEffect', 'Repetition', 'ReplacementCaptureFrequency', 'RightwardDirection', 'RookComponent', 'RotationDecision', 'SameLayerDirection', 'ScoreDifferenceAverage', 'ScoreDifferenceChangeLineBestFit', 'ScoreDifferenceMaxDecrease', 'ScoreDifferenceMaxIncrease', 'Scoring', 'ScoringEnd', 'ScoringLoss', 'ScoringLossFrequency', 'SetCount', 'SetCountFrequency', 'SetMove', 'SetNextPlayerFrequency', 'SetRotation', 'SetValueFrequency', 'ShibumiStyle', 'ShogiComponent', 'ShogiStyle', 'ShootDecision', 'ShowPieceState', 'ShowPieceValue', 'SlideDecision', 'SlideDecisionToEmpty', 'SlideDecisionToEmptyFrequency', 'SlideDecisionToFriendFrequency', 'SowBacktracking', 'SowBacktrackingFrequency', 'SowCCW', 'SpaceConditions', 'SquarePyramidalShape', 'SquareShape', 'StackState', 'StarShape', 'Start', 'State', 'StateType', 'StepDecisionToEnemy', 'StepDecisionToFriend', 'StepDecisionToFriendFrequency', 'StepEffect', 'Stochastic', 'Style', 'Subtraction', 'SumDice', 'SurakartaStyle', 'SurroundCapture', 'SwapPiecesDecisionFrequency', 'SwapPlayersDecision', 'SwapPlayersDecisionFrequency', 'TaflStyle', 'Team', 'TerritoryEnd', 'TerritoryWin', 'Threat', 'ThreeMensMorrisBoardWithTwoTriangles', 'Tile', 'Tiling', 'Timeouts', 'Track', 'TrackLoop', 'TriangleShape', 'TriangleTiling', 'TurnKo', 'Union', 'Variable', 'Vertex', 'Visual', 'XiangqiStyle', 'agent_MCTS-ProgressiveHistory-0.1-MAST-false', 'agent_MCTS-ProgressiveHistory-0.1-MAST-true', 'agent_MCTS-ProgressiveHistory-0.1-NST-false', 'agent_MCTS-ProgressiveHistory-0.1-NST-true', 'agent_MCTS-ProgressiveHistory-0.1-Random200-false', 'agent_MCTS-ProgressiveHistory-0.1-Random200-true', 'agent_MCTS-ProgressiveHistory-0.6-MAST-false', 'agent_MCTS-ProgressiveHistory-0.6-MAST-true', 'agent_MCTS-ProgressiveHistory-0.6-NST-false', 'agent_MCTS-ProgressiveHistory-0.6-NST-true', 'agent_MCTS-ProgressiveHistory-0.6-Random200-false', 'agent_MCTS-ProgressiveHistory-0.6-Random200-true', 'agent_MCTS-ProgressiveHistory-1.41421356237-MAST-false', 'agent_MCTS-ProgressiveHistory-1.41421356237-MAST-true', 'agent_MCTS-ProgressiveHistory-1.41421356237-NST-false', 'agent_MCTS-ProgressiveHistory-1.41421356237-NST-true', 'agent_MCTS-ProgressiveHistory-1.41421356237-Random200-false', 'agent_MCTS-ProgressiveHistory-1.41421356237-Random200-true', 'agent_MCTS-UCB1-0.1-MAST-false', 'agent_MCTS-UCB1-0.1-MAST-true', 'agent_MCTS-UCB1-0.1-NST-false', 'agent_MCTS-UCB1-0.1-NST-true', 'agent_MCTS-UCB1-0.1-Random200-false', 'agent_MCTS-UCB1-0.1-Random200-true', 'agent_MCTS-UCB1-0.6-MAST-false', 'agent_MCTS-UCB1-0.6-MAST-true', 'agent_MCTS-UCB1-0.6-NST-false', 'agent_MCTS-UCB1-0.6-NST-true', 'agent_MCTS-UCB1-0.6-Random200-false', 'agent_MCTS-UCB1-0.6-Random200-true', 'agent_MCTS-UCB1-1.41421356237-MAST-false', 'agent_MCTS-UCB1-1.41421356237-MAST-true', 'agent_MCTS-UCB1-1.41421356237-NST-false', 'agent_MCTS-UCB1-1.41421356237-NST-true', 'agent_MCTS-UCB1-1.41421356237-Random200-false', 'agent_MCTS-UCB1-1.41421356237-Random200-true', 'agent_MCTS-UCB1GRAVE-0.1-MAST-false', 'agent_MCTS-UCB1GRAVE-0.1-MAST-true', 'agent_MCTS-UCB1GRAVE-0.1-NST-false', 'agent_MCTS-UCB1GRAVE-0.1-NST-true', 'agent_MCTS-UCB1GRAVE-0.1-Random200-false', 'agent_MCTS-UCB1GRAVE-0.1-Random200-true', 'agent_MCTS-UCB1GRAVE-0.6-MAST-false', 'agent_MCTS-UCB1GRAVE-0.6-MAST-true', 'agent_MCTS-UCB1GRAVE-0.6-NST-false', 'agent_MCTS-UCB1GRAVE-0.6-NST-true', 'agent_MCTS-UCB1GRAVE-0.6-Random200-false', 'agent_MCTS-UCB1GRAVE-0.6-Random200-true', 'agent_MCTS-UCB1GRAVE-1.41421356237-MAST-false', 'agent_MCTS-UCB1GRAVE-1.41421356237-MAST-true', 'agent_MCTS-UCB1GRAVE-1.41421356237-NST-false', 'agent_MCTS-UCB1GRAVE-1.41421356237-NST-true', 'agent_MCTS-UCB1GRAVE-1.41421356237-Random200-false', 'agent_MCTS-UCB1GRAVE-1.41421356237-Random200-true', 'agent_MCTS-UCB1Tuned-0.1-MAST-false', 'agent_MCTS-UCB1Tuned-0.1-MAST-true', 'agent_MCTS-UCB1Tuned-0.1-NST-false', 'agent_MCTS-UCB1Tuned-0.1-NST-true', 'agent_MCTS-UCB1Tuned-0.1-Random200-false', 'agent_MCTS-UCB1Tuned-0.1-Random200-true', 'agent_MCTS-UCB1Tuned-0.6-MAST-false', 'agent_MCTS-UCB1Tuned-0.6-MAST-true', 'agent_MCTS-UCB1Tuned-0.6-NST-false', 'agent_MCTS-UCB1Tuned-0.6-NST-true', 'agent_MCTS-UCB1Tuned-0.6-Random200-false', 'agent_MCTS-UCB1Tuned-0.6-Random200-true', 'agent_MCTS-UCB1Tuned-1.41421356237-MAST-false', 'agent_MCTS-UCB1Tuned-1.41421356237-MAST-true', 'agent_MCTS-UCB1Tuned-1.41421356237-NST-false', 'agent_MCTS-UCB1Tuned-1.41421356237-NST-true', 'agent_MCTS-UCB1Tuned-1.41421356237-Random200-false', 'agent_MCTS-UCB1Tuned-1.41421356237-Random200-true', 'agent1_0', 'agent1_playout_0', 'agent1_selection_0', 'agent2_0', 'agent2_selection_0', 'catb_leaf_0_0', 'catb_leaf_1_0', 'catb_leaf_10_0', 'catb_leaf_11_0', 'catb_leaf_12_0', 'catb_leaf_13_0', 'catb_leaf_14_0', 'catb_leaf_15_0', 'catb_leaf_16_0', 'catb_leaf_17_0', 'catb_leaf_18_0', 'catb_leaf_19_0', 'catb_leaf_2_0', 'catb_leaf_20_0', 'catb_leaf_21_0', 'catb_leaf_22_0', 'catb_leaf_23_0', 'catb_leaf_24_0', 'catb_leaf_25_0', 'catb_leaf_26_0', 'catb_leaf_27_0', 'catb_leaf_28_0', 'catb_leaf_29_0', 'catb_leaf_3_0', 'catb_leaf_30_0', 'catb_leaf_31_0', 'catb_leaf_32_0', 'catb_leaf_33_0', 'catb_leaf_34_0', 'catb_leaf_35_0', 'catb_leaf_36_0', 'catb_leaf_37_0', 'catb_leaf_38_0', 'catb_leaf_39_0', 'catb_leaf_4_0', 'catb_leaf_40_0', 'catb_leaf_41_0', 'catb_leaf_42_0', 'catb_leaf_43_0', 'catb_leaf_44_0', 'catb_leaf_45_0', 'catb_leaf_46_0', 'catb_leaf_47_0', 'catb_leaf_48_0', 'catb_leaf_49_0', 'catb_leaf_5_0', 'catb_leaf_50_0', 'catb_leaf_51_0', 'catb_leaf_52_0', 'catb_leaf_53_0', 'catb_leaf_54_0', 'catb_leaf_55_0', 'catb_leaf_56_0', 'catb_leaf_57_0', 'catb_leaf_58_0', 'catb_leaf_59_0', 'catb_leaf_6_0', 'catb_leaf_60_0', 'catb_leaf_61_0', 'catb_leaf_62_0', 'catb_leaf_63_0', 'catb_leaf_64_0', 'catb_leaf_65_0', 'catb_leaf_66_0', 'catb_leaf_67_0', 'catb_leaf_68_0', 'catb_leaf_69_0', 'catb_leaf_7_0', 'catb_leaf_70_0', 'catb_leaf_71_0', 'catb_leaf_72_0', 'catb_leaf_73_0', 'catb_leaf_74_0', 'catb_leaf_75_0', 'catb_leaf_76_0', 'catb_leaf_77_0', 'catb_leaf_78_0', 'catb_leaf_79_0', 'catb_leaf_8_0', 'catb_leaf_80_0', 'catb_leaf_81_0', 'catb_leaf_82_0', 'catb_leaf_83_0', 'catb_leaf_84_0', 'catb_leaf_85_0', 'catb_leaf_86_0', 'catb_leaf_87_0', 'catb_leaf_88_0', 'catb_leaf_89_0', 'catb_leaf_9_0', 'catb_leaf_90_0', 'catb_leaf_91_0', 'catb_leaf_92_0', 'catb_leaf_93_0', 'catb_leaf_94_0', 'catb_leaf_95_0', 'catb_leaf_96_0', 'catb_leaf_97_0', 'catb_leaf_98_0', 'catb_leaf_99_0', 'lgbm_leaf_0_0', 'lgbm_leaf_1_0', 'lgbm_leaf_10_0', 'lgbm_leaf_11_0', 'lgbm_leaf_12_0', 'lgbm_leaf_13_0', 'lgbm_leaf_14_0', 'lgbm_leaf_15_0', 'lgbm_leaf_16_0', 'lgbm_leaf_17_0', 'lgbm_leaf_18_0', 'lgbm_leaf_19_0', 'lgbm_leaf_2_0', 'lgbm_leaf_20_0', 'lgbm_leaf_21_0', 'lgbm_leaf_22_0', 'lgbm_leaf_23_0', 'lgbm_leaf_24_0', 'lgbm_leaf_25_0', 'lgbm_leaf_26_0', 'lgbm_leaf_27_0', 'lgbm_leaf_28_0', 'lgbm_leaf_29_0', 'lgbm_leaf_3_0', 'lgbm_leaf_30_0', 'lgbm_leaf_31_0', 'lgbm_leaf_32_0', 'lgbm_leaf_33_0', 'lgbm_leaf_34_0', 'lgbm_leaf_35_0', 'lgbm_leaf_36_0', 'lgbm_leaf_37_0', 'lgbm_leaf_38_0', 'lgbm_leaf_39_0', 'lgbm_leaf_4_0', 'lgbm_leaf_40_0', 'lgbm_leaf_41_0', 'lgbm_leaf_42_0', 'lgbm_leaf_43_0', 'lgbm_leaf_44_0', 'lgbm_leaf_45_0', 'lgbm_leaf_46_0', 'lgbm_leaf_47_0', 'lgbm_leaf_48_0', 'lgbm_leaf_49_0', 'lgbm_leaf_5_0', 'lgbm_leaf_50_0', 'lgbm_leaf_51_0', 'lgbm_leaf_52_0', 'lgbm_leaf_53_0', 'lgbm_leaf_54_0', 'lgbm_leaf_55_0', 'lgbm_leaf_56_0', 'lgbm_leaf_57_0', 'lgbm_leaf_58_0', 'lgbm_leaf_59_0', 'lgbm_leaf_6_0', 'lgbm_leaf_60_0', 'lgbm_leaf_61_0', 'lgbm_leaf_62_0', 'lgbm_leaf_63_0', 'lgbm_leaf_64_0', 'lgbm_leaf_65_0', 'lgbm_leaf_66_0', 'lgbm_leaf_67_0', 'lgbm_leaf_68_0', 'lgbm_leaf_69_0', 'lgbm_leaf_7_0', 'lgbm_leaf_70_0', 'lgbm_leaf_71_0', 'lgbm_leaf_72_0', 'lgbm_leaf_73_0', 'lgbm_leaf_74_0', 'lgbm_leaf_75_0', 'lgbm_leaf_76_0', 'lgbm_leaf_77_0', 'lgbm_leaf_78_0', 'lgbm_leaf_79_0', 'lgbm_leaf_8_0', 'lgbm_leaf_80_0', 'lgbm_leaf_81_0', 'lgbm_leaf_82_0', 'lgbm_leaf_83_0', 'lgbm_leaf_84_0', 'lgbm_leaf_85_0', 'lgbm_leaf_86_0', 'lgbm_leaf_87_0', 'lgbm_leaf_88_0', 'lgbm_leaf_89_0', 'lgbm_leaf_9_0', 'lgbm_leaf_90_0', 'lgbm_leaf_91_0', 'lgbm_leaf_92_0', 'lgbm_leaf_93_0', 'lgbm_leaf_94_0', 'lgbm_leaf_95_0', 'lgbm_leaf_96_0', 'lgbm_leaf_97_0', 'lgbm_leaf_98_0', 'lgbm_leaf_99_0'],\n",
       "  has_target=True,\n",
       "  device='mps:0',\n",
       ")"
      ]
     },
     "execution_count": 27,
     "metadata": {},
     "output_type": "execute_result"
    }
   ],
   "source": [
    "train_tensor_frame"
   ]
  },
  {
   "cell_type": "code",
   "execution_count": 28,
   "metadata": {},
   "outputs": [],
   "source": [
    "train_tensor_frame = mutual_info_sort(train_tensor_frame)\n",
    "valid_tensor_frame = mutual_info_sort(valid_tensor_frame)"
   ]
  },
  {
   "cell_type": "code",
   "execution_count": 29,
   "metadata": {},
   "outputs": [],
   "source": [
    "from torch_frame.data.loader import DataLoader"
   ]
  },
  {
   "cell_type": "code",
   "execution_count": 30,
   "metadata": {},
   "outputs": [],
   "source": [
    "train_loader = DataLoader(train_tensor_frame, batch_size=512, shuffle=True)\n",
    "valid_loader = DataLoader(valid_tensor_frame, batch_size=8192, shuffle=False)"
   ]
  },
  {
   "cell_type": "code",
   "execution_count": 31,
   "metadata": {},
   "outputs": [],
   "source": [
    "model = ExcelFormer(\n",
    "    in_channels=16,\n",
    "    out_channels=1,\n",
    "    num_layers=4,\n",
    "    num_cols=train_tensor_frame.num_cols,\n",
    "    num_heads=2,\n",
    "    residual_dropout=0.0,\n",
    "    diam_dropout=0.0,\n",
    "    aium_dropout=0.0,\n",
    "    mixup=None,\n",
    "    col_stats=mutual_info_sort.transformed_stats,\n",
    "    col_names_dict=train_tensor_frame.col_names_dict,\n",
    ").to(device)"
   ]
  },
  {
   "cell_type": "code",
   "execution_count": 32,
   "metadata": {},
   "outputs": [
    {
     "name": "stdout",
     "output_type": "stream",
     "text": [
      "Total number of parameters: 44,178\n"
     ]
    }
   ],
   "source": [
    "total_params = sum(p.numel() for p in model.parameters())\n",
    "print(f'Total number of parameters: {total_params:,}')"
   ]
  },
  {
   "cell_type": "code",
   "execution_count": 33,
   "metadata": {},
   "outputs": [],
   "source": [
    "from torchinfo import summary"
   ]
  },
  {
   "cell_type": "code",
   "execution_count": 34,
   "metadata": {},
   "outputs": [
    {
     "name": "stdout",
     "output_type": "stream",
     "text": [
      "=================================================================\n",
      "Layer (type:depth-idx)                   Param #\n",
      "=================================================================\n",
      "ExcelFormer                              --\n",
      "├─StypeWiseFeatureEncoder: 1-1           --\n",
      "│    └─ModuleDict: 2-1                   --\n",
      "│    │    └─ExcelFormerEncoder: 3-1      36,800\n",
      "├─ModuleList: 1-2                        --\n",
      "│    └─ExcelFormerConv: 2-2              --\n",
      "│    │    └─LayerNorm: 3-2               32\n",
      "│    │    └─DiaM: 3-3                    1,088\n",
      "│    │    └─LayerNorm: 3-4               32\n",
      "│    │    └─AiuM: 3-5                    544\n",
      "│    └─ExcelFormerConv: 2-3              --\n",
      "│    │    └─LayerNorm: 3-6               32\n",
      "│    │    └─DiaM: 3-7                    1,088\n",
      "│    │    └─LayerNorm: 3-8               32\n",
      "│    │    └─AiuM: 3-9                    544\n",
      "│    └─ExcelFormerConv: 2-4              --\n",
      "│    │    └─LayerNorm: 3-10              32\n",
      "│    │    └─DiaM: 3-11                   1,088\n",
      "│    │    └─LayerNorm: 3-12              32\n",
      "│    │    └─AiuM: 3-13                   544\n",
      "│    └─ExcelFormerConv: 2-5              --\n",
      "│    │    └─LayerNorm: 3-14              32\n",
      "│    │    └─DiaM: 3-15                   1,088\n",
      "│    │    └─LayerNorm: 3-16              32\n",
      "│    │    └─AiuM: 3-17                   544\n",
      "├─ExcelFormerDecoder: 1-3                --\n",
      "│    └─Linear: 2-6                       576\n",
      "│    └─PReLU: 2-7                        1\n",
      "│    └─Linear: 2-8                       17\n",
      "=================================================================\n",
      "Total params: 44,178\n",
      "Trainable params: 44,178\n",
      "Non-trainable params: 0\n",
      "=================================================================\n"
     ]
    }
   ],
   "source": [
    "model_summary = summary(model)\n",
    "print(model_summary)"
   ]
  },
  {
   "cell_type": "code",
   "execution_count": 35,
   "metadata": {},
   "outputs": [],
   "source": [
    "# model = torch.compile(model, dynamic=True)"
   ]
  },
  {
   "cell_type": "code",
   "execution_count": 36,
   "metadata": {},
   "outputs": [],
   "source": [
    "optimizer = torch.optim.Adam(model.parameters(), lr=1e-3)"
   ]
  },
  {
   "cell_type": "code",
   "execution_count": 37,
   "metadata": {},
   "outputs": [],
   "source": [
    "from torch.optim.lr_scheduler import ExponentialLR\n",
    "lr_scheduler = ExponentialLR(optimizer, gamma=0.95)"
   ]
  },
  {
   "cell_type": "code",
   "execution_count": 38,
   "metadata": {},
   "outputs": [],
   "source": [
    "from tqdm import tqdm\n",
    "\n",
    "def train(epoch: int) -> float:\n",
    "    model.train()\n",
    "    loss_accum = total_count = 0\n",
    "\n",
    "    for tf in tqdm(train_loader, desc=f'Epoch: {epoch}'):\n",
    "        tf = tf.to(device)\n",
    "        # Train with FEAT-MIX or HIDDEN-MIX\n",
    "        # pred_mixedup, y_mixedup = model(tf, mixup_encoded=False)\n",
    "        y_pred = model(tf)\n",
    "        loss = F.mse_loss(y_pred.view(-1), tf.y.view(-1))\n",
    "        optimizer.zero_grad()\n",
    "        loss.backward()\n",
    "        loss_accum += float(loss) * len(y_pred)\n",
    "        total_count += len(y_pred)\n",
    "        optimizer.step()\n",
    "    return loss_accum / total_count"
   ]
  },
  {
   "cell_type": "code",
   "execution_count": 39,
   "metadata": {},
   "outputs": [],
   "source": [
    "from torchmetrics import AUROC, Accuracy, MeanSquaredError"
   ]
  },
  {
   "cell_type": "code",
   "execution_count": 40,
   "metadata": {},
   "outputs": [],
   "source": [
    "metric_computer = MeanSquaredError()\n",
    "metric_computer = metric_computer.to(device)"
   ]
  },
  {
   "cell_type": "code",
   "execution_count": 41,
   "metadata": {},
   "outputs": [],
   "source": [
    "@torch.no_grad()\n",
    "def test(loader: DataLoader) -> float:\n",
    "    model.eval()\n",
    "    metric_computer.reset()\n",
    "    for tf in loader:\n",
    "        tf = tf.to(device)\n",
    "        pred = model(tf)\n",
    "        metric_computer.update(pred.view(-1), tf.y.view(-1))\n",
    "    return metric_computer.compute().item()**0.5"
   ]
  },
  {
   "cell_type": "code",
   "execution_count": 42,
   "metadata": {},
   "outputs": [
    {
     "ename": "",
     "evalue": "",
     "output_type": "error",
     "traceback": [
      "\u001b[1;31mThe Kernel crashed while executing code in the current cell or a previous cell. \n",
      "\u001b[1;31mPlease review the code in the cell(s) to identify a possible cause of the failure. \n",
      "\u001b[1;31mClick <a href='https://aka.ms/vscodeJupyterKernelCrash'>here</a> for more info. \n",
      "\u001b[1;31mView Jupyter <a href='command:jupyter.viewOutput'>log</a> for further details."
     ]
    }
   ],
   "source": [
    "metric = 'RMSE'\n",
    "best_val_metric = float('inf')\n",
    "best_test_metric = float('inf')"
   ]
  },
  {
   "cell_type": "code",
   "execution_count": 43,
   "metadata": {},
   "outputs": [
    {
     "name": "stderr",
     "output_type": "stream",
     "text": [
      "Epoch: 1: 100%|██████████| 373/373 [05:56<00:00,  1.05it/s]\n"
     ]
    }
   ],
   "source": [
    "for epoch in range(1, 50 + 1):\n",
    "    train_loss = train(epoch)\n",
    "    train_metric = test(train_loader)\n",
    "    valid_metric = test(valid_loader)\n",
    "    # test_metric = test(test_loader)\n",
    "\n",
    "    best_val_metric = valid_metric\n",
    "\n",
    "    print(\n",
    "        f'Train Loss: {train_loss:.4f}, ' \n",
    "        f'Train {metric}: {train_metric:.4f}, '\n",
    "        f'Valid {metric}: {valid_metric:.4f}, '\n",
    "        f'Best Valid {metric}: {best_val_metric:.4f}'\n",
    "    )\n",
    "    lr_scheduler.step()"
   ]
  },
  {
   "cell_type": "code",
   "execution_count": null,
   "metadata": {},
   "outputs": [],
   "source": [
    "# plt.hist(oof['utility_agent1_true'], alpha=0.5, label='Target')\n",
    "# plt.hist(oof['utility_agent1_pred'], alpha=0.5, label='Prediction')\n",
    "# plt.legend()\n",
    "# plt.show()"
   ]
  },
  {
   "cell_type": "markdown",
   "metadata": {},
   "source": [
    "***\n",
    "### inference"
   ]
  },
  {
   "cell_type": "code",
   "execution_count": 11,
   "metadata": {},
   "outputs": [],
   "source": [
    "import os\n",
    "import polars as pl\n",
    "sys.path.append(\"../data/raw/\")\n",
    "import kaggle_evaluation.mcts_inference_server"
   ]
  },
  {
   "cell_type": "code",
   "execution_count": 12,
   "metadata": {},
   "outputs": [],
   "source": [
    "def predict(test: pl.DataFrame, sample_sub: pl.DataFrame):\n",
    "    # Convert Polars DataFrame to Pandas DataFrame\n",
    "    test_pd = test.to_pandas()\n",
    "    \n",
    "    # Process the test data\n",
    "    test_processed = process_test_data(\n",
    "        test_pd,\n",
    "        numerical_cols,\n",
    "        categorical_cols,\n",
    "        encoder,\n",
    "        scaler\n",
    "    )\n",
    "    \n",
    "    # Select relevant features\n",
    "    X_test_num = test_processed[numerical_cols]\n",
    "    X_test_cat = test_processed[categorical_cols]\n",
    "    \n",
    "    # Initialize an array to store predictions\n",
    "    predictions = np.zeros(len(X_test_num))\n",
    "    \n",
    "    # Make predictions using each trained model\n",
    "    for model in trained_models:\n",
    "        model.eval()\n",
    "        with torch.no_grad():\n",
    "            X_test_num_tensor = torch.tensor(X_test_num.values, dtype=torch.float32)\n",
    "            X_test_cat_tensor = torch.tensor(X_test_cat.values, dtype=torch.long)\n",
    "            batch_predictions = model(X_test_num_tensor, X_test_cat_tensor).cpu().numpy().flatten()\n",
    "        predictions += batch_predictions\n",
    "    \n",
    "    # Average the predictions\n",
    "    predictions /= len(trained_models)\n",
    "    \n",
    "    # Create the submission DataFrame\n",
    "    submission = sample_sub.with_columns(pl.Series(\"utility_agent1\", predictions))\n",
    "    \n",
    "    return submission"
   ]
  },
  {
   "cell_type": "code",
   "execution_count": 13,
   "metadata": {},
   "outputs": [],
   "source": [
    "inference_server = kaggle_evaluation.mcts_inference_server.MCTSInferenceServer(predict)\n",
    "\n",
    "if os.getenv('KAGGLE_IS_COMPETITION_RERUN'):\n",
    "    inference_server.serve()\n",
    "else:\n",
    "    inference_server.run_local_gateway(\n",
    "        (\n",
    "            '../data/raw/test.csv',\n",
    "            '../data/raw/sample_submission.csv'\n",
    "        )\n",
    "    )"
   ]
  },
  {
   "cell_type": "markdown",
   "metadata": {},
   "source": [
    "***"
   ]
  }
 ],
 "metadata": {
  "kernelspec": {
   "display_name": "mcts-strength-variants-kSTIVMm8-py3.10",
   "language": "python",
   "name": "python3"
  },
  "language_info": {
   "codemirror_mode": {
    "name": "ipython",
    "version": 3
   },
   "file_extension": ".py",
   "mimetype": "text/x-python",
   "name": "python",
   "nbconvert_exporter": "python",
   "pygments_lexer": "ipython3",
   "version": "3.10.14"
  }
 },
 "nbformat": 4,
 "nbformat_minor": 2
}
