{
 "cells": [
  {
   "cell_type": "code",
   "execution_count": null,
   "id": "ca56f5ed",
   "metadata": {
    "execution": {
     "iopub.execute_input": "2024-11-19T22:32:38.783000Z",
     "iopub.status.busy": "2024-11-19T22:32:38.782597Z",
     "iopub.status.idle": "2024-11-19T22:32:39.605299Z",
     "shell.execute_reply": "2024-11-19T22:32:39.605037Z"
    },
    "papermill": {
     "duration": 0.830276,
     "end_time": "2024-11-19T22:32:39.606071",
     "exception": false,
     "start_time": "2024-11-19T22:32:38.775795",
     "status": "completed"
    },
    "tags": []
   },
   "outputs": [],
   "source": [
    "import numpy as np\n",
    "import pandas as pd\n",
    "import matplotlib.pyplot as plt\n",
    "from pathlib import Path\n",
    "import json\n",
    "import pickle\n",
    "\n",
    "import catboost as cb\n",
    "print(\"cb.__version__:\", cb.__version__)\n",
    "\n",
    "# local modules\n",
    "import sys\n",
    "sys.path.append(\"../src\")\n",
    "from preproc import process_train_data, process_test_data"
   ]
  },
  {
   "cell_type": "markdown",
   "id": "1bbdc97d",
   "metadata": {
    "papermill": {
     "duration": 0.001425,
     "end_time": "2024-11-19T22:32:39.609283",
     "exception": false,
     "start_time": "2024-11-19T22:32:39.607858",
     "status": "completed"
    },
    "tags": []
   },
   "source": [
    "***\n",
    "### load and preprocess data"
   ]
  },
  {
   "cell_type": "code",
   "execution_count": null,
   "id": "6d790818",
   "metadata": {
    "execution": {
     "iopub.execute_input": "2024-11-19T22:32:39.613133Z",
     "iopub.status.busy": "2024-11-19T22:32:39.612981Z",
     "iopub.status.idle": "2024-11-19T22:32:45.896695Z",
     "shell.execute_reply": "2024-11-19T22:32:45.896411Z"
    },
    "papermill": {
     "duration": 6.286996,
     "end_time": "2024-11-19T22:32:45.897660",
     "exception": false,
     "start_time": "2024-11-19T22:32:39.610664",
     "status": "completed"
    },
    "tags": []
   },
   "outputs": [],
   "source": [
    "# define some paths\n",
    "path_raw = Path(\"../data/raw\")\n",
    "path_processed = Path(\"../data/processed\")\n",
    "path_results = Path(\"../data/results\")\n",
    "\n",
    "# load data\n",
    "df_train = pd.read_csv(path_raw / \"train.csv\")\n",
    "df_test = pd.read_csv(path_raw / \"test.csv\")\n",
    "\n",
    "df_train"
   ]
  },
  {
   "cell_type": "code",
   "execution_count": 3,
   "id": "a67ac1ca",
   "metadata": {
    "execution": {
     "iopub.execute_input": "2024-11-19T22:32:45.901926Z",
     "iopub.status.busy": "2024-11-19T22:32:45.901819Z",
     "iopub.status.idle": "2024-11-19T22:32:45.904995Z",
     "shell.execute_reply": "2024-11-19T22:32:45.904716Z"
    },
    "papermill": {
     "duration": 0.005952,
     "end_time": "2024-11-19T22:32:45.905680",
     "exception": false,
     "start_time": "2024-11-19T22:32:45.899728",
     "status": "completed"
    },
    "tags": []
   },
   "outputs": [],
   "source": [
    "# # Load the feature selection results\n",
    "# with open('../feat_selection/select_optuna_lgbm.json', 'r') as f:\n",
    "#     feature_selection_lgbm = json.load(f)\n",
    "\n",
    "# with open('../feat_selection/select_optuna_catb.json', 'r') as f:\n",
    "#     feature_selection_catb = json.load(f)\n",
    "\n",
    "# # Extract the selected features\n",
    "# numerical_cols = feature_selection_lgbm.get('numerical', [])\n",
    "# categorical_cols = feature_selection_lgbm.get('categorical', [])\n",
    "\n",
    "# # numerical_cols = list(set(feature_selection_lgbm.get('numerical', []) + feature_selection_catb.get('numerical', [])))\n",
    "# # categorical_cols = list(set(feature_selection_lgbm.get('categorical', []) + feature_selection_catb.get('categorical', [])))\n",
    "\n",
    "# # text_cols = [\"LudRules\",]\n",
    "# text_cols = list()\n",
    "\n",
    "# print(\"Numerical features:\", len(numerical_cols))\n",
    "# print(\"Categorical features:\", len(categorical_cols))\n",
    "# print(\"Text features:\", len(text_cols))"
   ]
  },
  {
   "cell_type": "code",
   "execution_count": null,
   "id": "cb043b37",
   "metadata": {
    "execution": {
     "iopub.execute_input": "2024-11-19T22:32:45.909613Z",
     "iopub.status.busy": "2024-11-19T22:32:45.909500Z",
     "iopub.status.idle": "2024-11-19T22:32:48.105183Z",
     "shell.execute_reply": "2024-11-19T22:32:48.104869Z"
    },
    "papermill": {
     "duration": 2.198576,
     "end_time": "2024-11-19T22:32:48.106032",
     "exception": false,
     "start_time": "2024-11-19T22:32:45.907456",
     "status": "completed"
    },
    "tags": []
   },
   "outputs": [],
   "source": [
    "df_train, numerical_cols, categorical_cols, encoder, scaler = process_train_data(\n",
    "    df_train,\n",
    "    scale=False,\n",
    "    # numerical_cols=numerical_cols,\n",
    "    # categorical_cols=categorical_cols,\n",
    "    include_position_features=False,\n",
    "    include_text_features=False,\n",
    ")\n",
    "\n",
    "text_cols = list()\n",
    "\n",
    "# Print the results\n",
    "print(\"Numerical Columns:\", len(numerical_cols))\n",
    "print(\"Categorical Columns:\", len(categorical_cols))"
   ]
  },
  {
   "cell_type": "code",
   "execution_count": null,
   "id": "624b0a51",
   "metadata": {
    "execution": {
     "iopub.execute_input": "2024-11-19T22:32:48.110412Z",
     "iopub.status.busy": "2024-11-19T22:32:48.110293Z",
     "iopub.status.idle": "2024-11-19T22:32:48.207151Z",
     "shell.execute_reply": "2024-11-19T22:32:48.206798Z"
    },
    "papermill": {
     "duration": 0.099836,
     "end_time": "2024-11-19T22:32:48.207978",
     "exception": false,
     "start_time": "2024-11-19T22:32:48.108142",
     "status": "completed"
    },
    "tags": []
   },
   "outputs": [],
   "source": [
    "plt.hist(df_train['utility_agent1'], bins=100)\n",
    "plt.title('Distribution of Target Variable')\n",
    "plt.xlabel('Utility Agent 1')\n",
    "plt.ylabel('Frequency')\n",
    "plt.show()"
   ]
  },
  {
   "cell_type": "code",
   "execution_count": 6,
   "id": "d9cd35e4",
   "metadata": {
    "execution": {
     "iopub.execute_input": "2024-11-19T22:32:48.212835Z",
     "iopub.status.busy": "2024-11-19T22:32:48.212647Z",
     "iopub.status.idle": "2024-11-19T22:32:48.217583Z",
     "shell.execute_reply": "2024-11-19T22:32:48.217347Z"
    },
    "papermill": {
     "duration": 0.008085,
     "end_time": "2024-11-19T22:32:48.218259",
     "exception": false,
     "start_time": "2024-11-19T22:32:48.210174",
     "status": "completed"
    },
    "tags": []
   },
   "outputs": [],
   "source": [
    "split1 = pickle.load(open('../data/splits/cv1_Game.pkl', 'rb'))\n",
    "\n",
    "# split1 = pickle.load(open('../data/splits/cv1_GameRulesetName.pkl', 'rb'))\n",
    "# split2 = pickle.load(open('../data/splits/cv2_GameRulesetName.pkl', 'rb'))\n",
    "# split3 = pickle.load(open('../data/splits/cv3_GameRulesetName.pkl', 'rb'))"
   ]
  },
  {
   "cell_type": "markdown",
   "id": "69e6b777",
   "metadata": {
    "papermill": {
     "duration": 0.001899,
     "end_time": "2024-11-19T22:32:48.222172",
     "exception": false,
     "start_time": "2024-11-19T22:32:48.220273",
     "status": "completed"
    },
    "tags": []
   },
   "source": [
    "***\n",
    "### train model"
   ]
  },
  {
   "cell_type": "code",
   "execution_count": 7,
   "id": "548ff8ec",
   "metadata": {
    "execution": {
     "iopub.execute_input": "2024-11-19T22:32:48.226456Z",
     "iopub.status.busy": "2024-11-19T22:32:48.226275Z",
     "iopub.status.idle": "2024-11-19T22:32:48.229192Z",
     "shell.execute_reply": "2024-11-19T22:32:48.228976Z"
    },
    "papermill": {
     "duration": 0.005931,
     "end_time": "2024-11-19T22:32:48.229978",
     "exception": false,
     "start_time": "2024-11-19T22:32:48.224047",
     "status": "completed"
    },
    "tags": []
   },
   "outputs": [],
   "source": [
    "def get_feature_importance(model, importance_type='PredictionValuesChange'):\n",
    "    \"\"\"\n",
    "    Get feature importance from a trained CatBoost model\n",
    "    \n",
    "    Args:\n",
    "        model: Trained CatBoost model\n",
    "        importance_type: Type of feature importance to calculate\n",
    "            Options: 'PredictionValuesChange', 'LossFunctionChange', \n",
    "            'ShapValues', 'Interaction', 'TopKitty'\n",
    "        \n",
    "    Returns:\n",
    "        pandas.DataFrame: DataFrame containing feature names and their importance scores\n",
    "    \"\"\"\n",
    "    # Get feature importance scores\n",
    "    importance_scores = model.get_feature_importance(type=importance_type)\n",
    "    feature_names = model.feature_names_\n",
    "    \n",
    "    # Create dataframe with feature names and importance scores\n",
    "    importance_df = pd.DataFrame({\n",
    "        'feature': feature_names,\n",
    "        'importance': importance_scores\n",
    "    }).sort_values('importance', ascending=False, ignore_index=True)\n",
    "    \n",
    "    return importance_df\n",
    "\n",
    "\n",
    "def plot_feature_importance(importance_df, top_n=100):\n",
    "    plot_df = importance_df.head(top_n)\n",
    "    \n",
    "    plt.figure(figsize=(15, 5))\n",
    "    plt.bar(x=range(len(plot_df)), height=plot_df['importance'])\n",
    "    plt.xticks(range(len(plot_df)), plot_df['feature'], rotation=45, ha='right', fontsize=8)\n",
    "    plt.ylabel('Importance Score')\n",
    "    plt.title(f'Top {top_n} Most Important Features')\n",
    "    plt.tight_layout()\n",
    "    plt.show()"
   ]
  },
  {
   "cell_type": "code",
   "execution_count": 8,
   "id": "0d15ee4c",
   "metadata": {
    "execution": {
     "iopub.execute_input": "2024-11-19T22:32:48.234522Z",
     "iopub.status.busy": "2024-11-19T22:32:48.234384Z",
     "iopub.status.idle": "2024-11-19T22:32:48.241182Z",
     "shell.execute_reply": "2024-11-19T22:32:48.240934Z"
    },
    "papermill": {
     "duration": 0.009804,
     "end_time": "2024-11-19T22:32:48.241877",
     "exception": false,
     "start_time": "2024-11-19T22:32:48.232073",
     "status": "completed"
    },
    "tags": []
   },
   "outputs": [],
   "source": [
    "def train_models(\n",
    "        df_train,\n",
    "        numerical_cols,\n",
    "        categorical_cols,\n",
    "        text_cols,\n",
    "        target='utility_agent1',\n",
    "        split_list=None,\n",
    "    ):\n",
    "    # Define the parameters for CatBoost\n",
    "    params = {\n",
    "\n",
    "        'objective': \"RMSE\",\n",
    "        'learning_rate': 0.1,\n",
    "        'depth': 10,\n",
    "        'iterations': 3000,\n",
    "        'eval_metric': 'RMSE',\n",
    "        'verbose': 0,\n",
    "        'random_seed': 2112,\n",
    "        'l2_leaf_reg': 1.,\n",
    "        'random_strength': 0.2,\n",
    "        'min_data_in_leaf': 50,\n",
    "        'rsm': 0.8,\n",
    "        'bagging_temperature' : 0.50,\n",
    "\n",
    "        # 'text_processing': {\n",
    "        #     'tokenizers': [{\n",
    "        #         'tokenizer_id': 'Space',  # or 'GPT', 'Bert', etc.\n",
    "        #         'separator_type': 'Space'\n",
    "        #     }],\n",
    "        #     'dictionaries': [{\n",
    "        #         'dictionary_id': 'BiGram',\n",
    "        #         'max_dictionary_size': '50000',\n",
    "        #         'occurrence_lower_bound': '3',\n",
    "        #         'gram_order': '2'\n",
    "        #     }],\n",
    "        #     'feature_calcers': [{\n",
    "        #         'calcer_type': 'BoW',  # or 'NaiveBayes', 'BM25'\n",
    "        #         'dictionary_id': 'BiGram'\n",
    "        #     }]\n",
    "        # }\n",
    "\n",
    "\n",
    "        # # Text processing parameters to mimic TF-IDF\n",
    "        # 'tokenizers': [{\n",
    "        #     'tokenizer_id': 'Space',\n",
    "        #     'separator_type': 'ByDelimiter',\n",
    "        #     'delimiter': ' '\n",
    "        # }],\n",
    "        # 'dictionaries': [{\n",
    "        #     'dictionary_id': 'NgramDict',\n",
    "        #     'max_dictionary_size': '500',  # Match max_features=500\n",
    "        #     'occurrence_lower_bound': '3',\n",
    "        #     'gram_order': '3',  # Maximum n-gram size\n",
    "        #     'min_gram_order': '2'  # Minimum n-gram size\n",
    "        # }],\n",
    "        # 'feature_calcers': [{\n",
    "        #     'calcer_type': 'BoW',  # Most similar to TF-IDF\n",
    "        #     'dictionary_id': 'NgramDict'\n",
    "        # }],\n",
    "\n",
    "\n",
    "        # 'tokenizers': [{\n",
    "        #     'tokenizer_id': 'Space',\n",
    "        #     'delimiter': ' ',\n",
    "        #     'separator_type': 'ByDelimiter'\n",
    "        # }],\n",
    "        # 'dictionaries': [{\n",
    "        #     'dictionary_id': 'Word',\n",
    "        #     'max_dictionary_size': '50000',\n",
    "        #     'occurrence_lower_bound': '3'\n",
    "        # }],\n",
    "        # 'feature_calcers': [{\n",
    "        #     'calcer_type': 'BoW',\n",
    "        #     'dictionary_id': 'Word',\n",
    "        # }]\n",
    "    }\n",
    "    # Obtained with optuna\n",
    "    # params = {\n",
    "    #     'objective': 'RMSE',\n",
    "    #     'verbose': False,\n",
    "    #     'random_seed': 2112,\n",
    "    #     'learning_rate': 0.1,\n",
    "    #     'iterations': 3000,\n",
    "    #     'bootstrap_type': 'Bayesian',\n",
    "    #     'sampling_frequency': 'PerTreeLevel',\n",
    "    #     'depth': 10,\n",
    "    #     'l2_leaf_reg': 0.9359292512255313,\n",
    "    #     'random_strength': 0.16693257025108216,\n",
    "    #     'bagging_temperature': 0.15967219011745193,\n",
    "    #     'rsm': 0.548125395769786,\n",
    "    #     'min_data_in_leaf': 102,\n",
    "    #     'max_ctr_complexity': 10\n",
    "    # }\n",
    "\n",
    "    trained_models = []\n",
    "    oof = pd.DataFrame(\n",
    "        index=df_train.index,\n",
    "        columns=[f'{target}_true', f'{target}_pred', 'fold']\n",
    "    )\n",
    "    oof_scores = []\n",
    "    feat_importance_dfs = []\n",
    "\n",
    "    # Perform cross-validation\n",
    "    for fold, (train_index, val_index) in enumerate(split_list, 1):\n",
    "        print(f\"Fold {fold}\")\n",
    "        \n",
    "        # Split the data\n",
    "        X_train, X_valid = df_train.iloc[train_index], df_train.iloc[val_index]\n",
    "        y_train, y_valid = X_train[target], X_valid[target]\n",
    "\n",
    "        # Initialize CatBoost Pool\n",
    "        train_pool = cb.Pool(\n",
    "            # data=X_train[numerical_cols + categorical_cols + text_cols],\n",
    "            data=X_train[numerical_cols + categorical_cols],\n",
    "            label=y_train,\n",
    "            cat_features=categorical_cols,\n",
    "            # text_features=text_cols\n",
    "        )\n",
    "        val_pool = cb.Pool(\n",
    "            # data=X_valid[numerical_cols + categorical_cols + text_cols],\n",
    "            data=X_valid[numerical_cols + categorical_cols],\n",
    "            label=y_valid,\n",
    "            cat_features=categorical_cols,\n",
    "            # text_features=text_cols\n",
    "        )\n",
    "        \n",
    "        # Initialize CatBoost Regressor\n",
    "        model = cb.CatBoostRegressor(**params)\n",
    "        \n",
    "        # Train the model\n",
    "        model.fit(\n",
    "            train_pool,\n",
    "            eval_set=val_pool,\n",
    "            use_best_model=True,\n",
    "            verbose=50\n",
    "        )\n",
    "\n",
    "        feat_importance = get_feature_importance(model)\n",
    "        feat_importance = feat_importance.rename(columns={'importance': f'importance_f{fold}'})\n",
    "        feat_importance_dfs.append(feat_importance)\n",
    "        plot_feature_importance(feat_importance.rename(columns={f'importance_f{fold}': 'importance'}))\n",
    "        \n",
    "        # Save the trained model to the list\n",
    "        trained_models.append(model)\n",
    "\n",
    "        # Predict on validation set\n",
    "        y_pred = model.predict(val_pool)\n",
    "\n",
    "        # Save out-of-fold predictions\n",
    "        oof.loc[val_index, f'{target}_true'] = y_valid\n",
    "        oof.loc[val_index, f'{target}_pred'] = y_pred\n",
    "        oof.loc[val_index, 'fold'] = fold\n",
    "        \n",
    "        # Compute RMSE\n",
    "        y_pred = np.clip(y_pred, -1, 1)\n",
    "        rmse = np.sqrt(np.mean((y_pred - y_valid) ** 2))\n",
    "        print(f\"Fold {fold} - RMSE: {rmse}\")\n",
    "\n",
    "        # Save RMSE to the list\n",
    "        oof_scores.append(rmse)\n",
    "\n",
    "    # Combine feature importance dataframes\n",
    "    importance_df = feat_importance_dfs[0]\n",
    "    for df in feat_importance_dfs[1:]:\n",
    "        importance_df = importance_df.merge(df, on='feature')\n",
    "    \n",
    "    # Calculate mean importance across folds\n",
    "    importance_cols = [col for col in importance_df.columns if col.startswith('importance_f')]\n",
    "    importance_df['importance_mean'] = importance_df[importance_cols].mean(axis=1)\n",
    "    importance_df = importance_df.sort_values('importance_mean', ascending=False, ignore_index=True)\n",
    "    importance_df['importance_relative'] = (\n",
    "        importance_df['importance_mean'] / \n",
    "        importance_df['importance_mean'].sum()\n",
    "    )\n",
    "\n",
    "    # Print the list of oof scores and average oof score\n",
    "    print(\"List of oof scores:\", oof_scores)\n",
    "    print(\"Average oof score:\", np.mean(oof_scores))\n",
    "\n",
    "    return trained_models, oof, oof_scores, importance_df"
   ]
  },
  {
   "cell_type": "code",
   "execution_count": null,
   "id": "288e6afb",
   "metadata": {
    "execution": {
     "iopub.execute_input": "2024-11-19T22:32:48.246247Z",
     "iopub.status.busy": "2024-11-19T22:32:48.246146Z",
     "iopub.status.idle": "2024-11-19T22:54:08.875226Z",
     "shell.execute_reply": "2024-11-19T22:54:08.874831Z"
    },
    "papermill": {
     "duration": 1280.632196,
     "end_time": "2024-11-19T22:54:08.876051",
     "exception": false,
     "start_time": "2024-11-19T22:32:48.243855",
     "status": "completed"
    },
    "tags": []
   },
   "outputs": [],
   "source": [
    "# call the function\n",
    "trained_models1, oof1, oof_scores1, importance_df1 = train_models(\n",
    "    df_train, \n",
    "    numerical_cols, \n",
    "    categorical_cols, \n",
    "    text_cols=text_cols,\n",
    "    split_list=split1,\n",
    ")\n",
    "# save oof predictions\n",
    "# oof1.to_csv(path_results / 'oof_catboost_cv1.csv', index=False)\n",
    "# save feature importance\n",
    "importance_df1.to_csv(path_results / 'feat_importance_catboost_cv1.csv', index=False)"
   ]
  },
  {
   "cell_type": "code",
   "execution_count": 10,
   "id": "288b1f77",
   "metadata": {
    "execution": {
     "iopub.execute_input": "2024-11-19T22:54:08.901229Z",
     "iopub.status.busy": "2024-11-19T22:54:08.901012Z",
     "iopub.status.idle": "2024-11-19T22:54:08.902915Z",
     "shell.execute_reply": "2024-11-19T22:54:08.902684Z"
    },
    "papermill": {
     "duration": 0.01496,
     "end_time": "2024-11-19T22:54:08.903565",
     "exception": false,
     "start_time": "2024-11-19T22:54:08.888605",
     "status": "completed"
    },
    "tags": []
   },
   "outputs": [],
   "source": [
    "# # call the function\n",
    "# trained_models3, oof3, oof_scores3 = train_models(\n",
    "#     df_train, \n",
    "#     numerical_cols, \n",
    "#     categorical_cols, \n",
    "#     text_cols=text_cols,\n",
    "#     split_list=split3,\n",
    "# )\n",
    "# # save oof predictions\n",
    "# oof3.to_csv(path_results / 'oof_catboost_cv3.csv', index=False)"
   ]
  },
  {
   "cell_type": "code",
   "execution_count": 11,
   "id": "adb7aed2",
   "metadata": {
    "execution": {
     "iopub.execute_input": "2024-11-19T22:54:08.928671Z",
     "iopub.status.busy": "2024-11-19T22:54:08.928558Z",
     "iopub.status.idle": "2024-11-19T22:54:08.930349Z",
     "shell.execute_reply": "2024-11-19T22:54:08.930072Z"
    },
    "papermill": {
     "duration": 0.014973,
     "end_time": "2024-11-19T22:54:08.931113",
     "exception": false,
     "start_time": "2024-11-19T22:54:08.916140",
     "status": "completed"
    },
    "tags": []
   },
   "outputs": [],
   "source": [
    "# trained_models = [*trained_models1, *trained_models2, *trained_models3]\n",
    "trained_models = trained_models1"
   ]
  },
  {
   "cell_type": "code",
   "execution_count": null,
   "id": "ecf65f19",
   "metadata": {
    "execution": {
     "iopub.execute_input": "2024-11-19T22:54:08.955219Z",
     "iopub.status.busy": "2024-11-19T22:54:08.955106Z",
     "iopub.status.idle": "2024-11-19T22:54:09.062507Z",
     "shell.execute_reply": "2024-11-19T22:54:09.062223Z"
    },
    "papermill": {
     "duration": 0.120212,
     "end_time": "2024-11-19T22:54:09.063259",
     "exception": false,
     "start_time": "2024-11-19T22:54:08.943047",
     "status": "completed"
    },
    "tags": []
   },
   "outputs": [],
   "source": [
    "plt.hist(oof1['utility_agent1_true'], alpha=0.5, label='Target')\n",
    "plt.hist(oof1['utility_agent1_pred'], alpha=0.5, label='Prediction')\n",
    "plt.legend()\n",
    "plt.show()"
   ]
  },
  {
   "cell_type": "markdown",
   "id": "54a9dab3",
   "metadata": {
    "papermill": {
     "duration": 0.01239,
     "end_time": "2024-11-19T22:54:09.088557",
     "exception": false,
     "start_time": "2024-11-19T22:54:09.076167",
     "status": "completed"
    },
    "tags": []
   },
   "source": [
    "***\n",
    "### inference"
   ]
  },
  {
   "cell_type": "code",
   "execution_count": 13,
   "id": "5902eee5",
   "metadata": {
    "execution": {
     "iopub.execute_input": "2024-11-19T22:54:09.114249Z",
     "iopub.status.busy": "2024-11-19T22:54:09.114099Z",
     "iopub.status.idle": "2024-11-19T22:54:09.251423Z",
     "shell.execute_reply": "2024-11-19T22:54:09.251070Z"
    },
    "papermill": {
     "duration": 0.151727,
     "end_time": "2024-11-19T22:54:09.252551",
     "exception": false,
     "start_time": "2024-11-19T22:54:09.100824",
     "status": "completed"
    },
    "tags": []
   },
   "outputs": [],
   "source": [
    "import os\n",
    "import polars as pl\n",
    "sys.path.append(\"../data/raw/\")\n",
    "import kaggle_evaluation.mcts_inference_server"
   ]
  },
  {
   "cell_type": "code",
   "execution_count": 14,
   "id": "25716864",
   "metadata": {
    "execution": {
     "iopub.execute_input": "2024-11-19T22:54:09.283614Z",
     "iopub.status.busy": "2024-11-19T22:54:09.283411Z",
     "iopub.status.idle": "2024-11-19T22:54:09.286419Z",
     "shell.execute_reply": "2024-11-19T22:54:09.286156Z"
    },
    "papermill": {
     "duration": 0.02002,
     "end_time": "2024-11-19T22:54:09.287146",
     "exception": false,
     "start_time": "2024-11-19T22:54:09.267126",
     "status": "completed"
    },
    "tags": []
   },
   "outputs": [],
   "source": [
    "def predict(test: pl.DataFrame, sample_sub: pl.DataFrame):\n",
    "    # Convert Polars DataFrame to Pandas DataFrame\n",
    "    test_pd = test.to_pandas()\n",
    "    \n",
    "    # Process the test data\n",
    "    test_processed = process_test_data(\n",
    "        test_pd,\n",
    "        numerical_cols,\n",
    "        categorical_cols,\n",
    "        encoder,\n",
    "        scaler,\n",
    "        include_position_features=True,\n",
    "        include_text_features=True,\n",
    "    )\n",
    "\n",
    "    # Create CatBoost Pool for test data\n",
    "    test_pool = cb.Pool(\n",
    "        # data=test_processed[numerical_cols + categorical_cols + text_cols],\n",
    "        data=test_processed[numerical_cols + categorical_cols],\n",
    "        cat_features=categorical_cols,\n",
    "        # text_features=text_cols,\n",
    "    )\n",
    "\n",
    "    # Average predictions from all models\n",
    "    predictions = np.mean([\n",
    "        model.predict(test_pool)\n",
    "        for model in trained_models\n",
    "    ], axis=0)\n",
    "    predictions = np.clip(predictions, -1, 1)\n",
    "        \n",
    "    # Create the submission DataFrame\n",
    "    submission = sample_sub.with_columns(pl.Series(\"utility_agent1\", predictions))\n",
    "    \n",
    "    return submission"
   ]
  },
  {
   "cell_type": "code",
   "execution_count": null,
   "id": "3a89224c",
   "metadata": {
    "execution": {
     "iopub.execute_input": "2024-11-19T22:54:09.314620Z",
     "iopub.status.busy": "2024-11-19T22:54:09.314485Z",
     "iopub.status.idle": "2024-11-19T22:54:09.414228Z",
     "shell.execute_reply": "2024-11-19T22:54:09.413862Z"
    },
    "papermill": {
     "duration": 0.114516,
     "end_time": "2024-11-19T22:54:09.415561",
     "exception": false,
     "start_time": "2024-11-19T22:54:09.301045",
     "status": "completed"
    },
    "tags": []
   },
   "outputs": [],
   "source": [
    "# sanity check\n",
    "df_test = pl.read_csv('../data/raw/test.csv')\n",
    "sample_sub = pl.read_csv('../data/raw/sample_submission.csv')\n",
    "predict(df_test, sample_sub)"
   ]
  },
  {
   "cell_type": "code",
   "execution_count": 16,
   "id": "be86ccab",
   "metadata": {
    "execution": {
     "iopub.execute_input": "2024-11-19T22:54:09.453520Z",
     "iopub.status.busy": "2024-11-19T22:54:09.453368Z",
     "iopub.status.idle": "2024-11-19T22:54:09.578863Z",
     "shell.execute_reply": "2024-11-19T22:54:09.578418Z"
    },
    "papermill": {
     "duration": 0.145418,
     "end_time": "2024-11-19T22:54:09.579779",
     "exception": false,
     "start_time": "2024-11-19T22:54:09.434361",
     "status": "completed"
    },
    "tags": []
   },
   "outputs": [],
   "source": [
    "inference_server = kaggle_evaluation.mcts_inference_server.MCTSInferenceServer(predict)\n",
    "\n",
    "if os.getenv('KAGGLE_IS_COMPETITION_RERUN'):\n",
    "    inference_server.serve()\n",
    "else:\n",
    "    inference_server.run_local_gateway(\n",
    "        (\n",
    "            '../data/raw/test.csv',\n",
    "            '../data/raw/sample_submission.csv'\n",
    "        )\n",
    "    )"
   ]
  },
  {
   "cell_type": "code",
   "execution_count": 17,
   "id": "1920ab9f",
   "metadata": {
    "execution": {
     "iopub.execute_input": "2024-11-19T22:54:09.607342Z",
     "iopub.status.busy": "2024-11-19T22:54:09.607195Z",
     "iopub.status.idle": "2024-11-19T22:54:09.780920Z",
     "shell.execute_reply": "2024-11-19T22:54:09.780482Z"
    },
    "papermill": {
     "duration": 0.188846,
     "end_time": "2024-11-19T22:54:09.781843",
     "exception": false,
     "start_time": "2024-11-19T22:54:09.592997",
     "status": "completed"
    },
    "tags": []
   },
   "outputs": [],
   "source": [
    "# Save all artifacts needed for prediction\n",
    "catboost_predict = {\n",
    "    'models': trained_models,\n",
    "    'numerical_cols': numerical_cols,\n",
    "    'categorical_cols': categorical_cols,\n",
    "    # 'text_cols': text_cols,\n",
    "    'encoder': encoder, \n",
    "    'scaler': scaler\n",
    "}\n",
    "\n",
    "with open('./catboost_predict.pkl', 'wb') as f:\n",
    "    pickle.dump(catboost_predict, f)"
   ]
  },
  {
   "cell_type": "markdown",
   "id": "0bf750ea",
   "metadata": {},
   "source": [
    "***"
   ]
  }
 ],
 "metadata": {
  "kernelspec": {
   "display_name": "mcts-strength-variants-kSTIVMm8-py3.10",
   "language": "python",
   "name": "python3"
  },
  "language_info": {
   "codemirror_mode": {
    "name": "ipython",
    "version": 3
   },
   "file_extension": ".py",
   "mimetype": "text/x-python",
   "name": "python",
   "nbconvert_exporter": "python",
   "pygments_lexer": "ipython3",
   "version": "3.10.14"
  },
  "papermill": {
   "default_parameters": {},
   "duration": 1292.452583,
   "end_time": "2024-11-19T22:54:10.351342",
   "environment_variables": {},
   "exception": null,
   "input_path": "train/catboost.ipynb",
   "output_path": "train/catboost.ipynb",
   "parameters": {},
   "start_time": "2024-11-19T22:32:37.898759",
   "version": "2.6.0"
  }
 },
 "nbformat": 4,
 "nbformat_minor": 5
}
