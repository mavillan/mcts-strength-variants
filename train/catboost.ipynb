{
 "cells": [
  {
   "cell_type": "code",
   "execution_count": null,
   "id": "ca56f5ed",
   "metadata": {
    "execution": {
     "iopub.execute_input": "2024-11-02T03:12:23.462058Z",
     "iopub.status.busy": "2024-11-02T03:12:23.461201Z",
     "iopub.status.idle": "2024-11-02T03:12:24.328252Z",
     "shell.execute_reply": "2024-11-02T03:12:24.327984Z"
    },
    "papermill": {
     "duration": 0.8819,
     "end_time": "2024-11-02T03:12:24.329116",
     "exception": false,
     "start_time": "2024-11-02T03:12:23.447216",
     "status": "completed"
    },
    "tags": []
   },
   "outputs": [],
   "source": [
    "import numpy as np\n",
    "import pandas as pd\n",
    "import matplotlib.pyplot as plt\n",
    "from pathlib import Path\n",
    "import json\n",
    "import pickle\n",
    "\n",
    "import catboost as cb\n",
    "print(\"cb.__version__:\", cb.__version__)\n",
    "\n",
    "from sklearn.model_selection import StratifiedGroupKFold\n",
    "\n",
    "# local modules\n",
    "import sys\n",
    "sys.path.append(\"../src\")\n",
    "from preproc import process_train_data, process_test_data"
   ]
  },
  {
   "cell_type": "markdown",
   "id": "1bbdc97d",
   "metadata": {
    "papermill": {
     "duration": 0.001279,
     "end_time": "2024-11-02T03:12:24.332306",
     "exception": false,
     "start_time": "2024-11-02T03:12:24.331027",
     "status": "completed"
    },
    "tags": []
   },
   "source": [
    "***\n",
    "### load and preprocess data"
   ]
  },
  {
   "cell_type": "code",
   "execution_count": null,
   "id": "6d790818",
   "metadata": {
    "execution": {
     "iopub.execute_input": "2024-11-02T03:12:24.335358Z",
     "iopub.status.busy": "2024-11-02T03:12:24.335211Z",
     "iopub.status.idle": "2024-11-02T03:12:30.673394Z",
     "shell.execute_reply": "2024-11-02T03:12:30.673119Z"
    },
    "papermill": {
     "duration": 6.340648,
     "end_time": "2024-11-02T03:12:30.674195",
     "exception": false,
     "start_time": "2024-11-02T03:12:24.333547",
     "status": "completed"
    },
    "tags": []
   },
   "outputs": [],
   "source": [
    "# define some paths\n",
    "path_raw = Path(\"../data/raw\")\n",
    "path_processed = Path(\"../data/processed\")\n",
    "path_results = Path(\"../data/results\")\n",
    "\n",
    "# load data\n",
    "df_train = pd.read_csv(path_raw / \"train.csv\")\n",
    "df_test = pd.read_csv(path_raw / \"test.csv\")\n",
    "\n",
    "df_train"
   ]
  },
  {
   "cell_type": "code",
   "execution_count": null,
   "id": "670df9ba",
   "metadata": {},
   "outputs": [],
   "source": [
    "agent1 = df_train[[\"agent1\"]].drop_duplicates()[\"agent1\"].tolist()\n",
    "agent2 = df_train[[\"agent2\"]].drop_duplicates()[\"agent2\"].tolist()\n",
    "\n",
    "all_agents = list(set(agent1) | set(agent2))\n",
    "len(all_agents)\n"
   ]
  },
  {
   "cell_type": "code",
   "execution_count": null,
   "id": "534f8a0a",
   "metadata": {
    "execution": {
     "iopub.execute_input": "2024-11-02T03:12:30.678166Z",
     "iopub.status.busy": "2024-11-02T03:12:30.678026Z",
     "iopub.status.idle": "2024-11-02T03:12:30.680435Z",
     "shell.execute_reply": "2024-11-02T03:12:30.680221Z"
    },
    "papermill": {
     "duration": 0.004857,
     "end_time": "2024-11-02T03:12:30.681058",
     "exception": false,
     "start_time": "2024-11-02T03:12:30.676201",
     "status": "completed"
    },
    "tags": []
   },
   "outputs": [],
   "source": [
    "# Load the feature selection results\n",
    "with open('../feat_selection/select_optuna_lgbm.json', 'r') as f:\n",
    "    feature_selection = json.load(f)\n",
    "\n",
    "# Extract the selected features\n",
    "numerical_cols = feature_selection.get('numerical', [])\n",
    "categorical_cols = feature_selection.get('categorical', [])\n",
    "\n",
    "print(\"Numerical features:\", len(numerical_cols))\n",
    "print(\"Categorical features:\", len(categorical_cols))"
   ]
  },
  {
   "cell_type": "code",
   "execution_count": null,
   "id": "531dc342",
   "metadata": {
    "execution": {
     "iopub.execute_input": "2024-11-02T03:12:30.684755Z",
     "iopub.status.busy": "2024-11-02T03:12:30.684637Z",
     "iopub.status.idle": "2024-11-02T03:12:31.886807Z",
     "shell.execute_reply": "2024-11-02T03:12:31.886472Z"
    },
    "papermill": {
     "duration": 1.204993,
     "end_time": "2024-11-02T03:12:31.887520",
     "exception": false,
     "start_time": "2024-11-02T03:12:30.682527",
     "status": "completed"
    },
    "tags": []
   },
   "outputs": [],
   "source": [
    "df_train, numerical_cols, categorical_cols, encoder, scaler = process_train_data(\n",
    "    df_train,\n",
    "    scale=False,\n",
    "    numerical_cols=numerical_cols,\n",
    "    categorical_cols=categorical_cols\n",
    ")\n",
    "\n",
    "# Print the results\n",
    "print(\"Numerical Columns:\", len(numerical_cols))\n",
    "print(\"Categorical Columns:\", len(categorical_cols))"
   ]
  },
  {
   "cell_type": "code",
   "execution_count": null,
   "id": "f402ee6d",
   "metadata": {
    "execution": {
     "iopub.execute_input": "2024-11-02T03:12:31.891273Z",
     "iopub.status.busy": "2024-11-02T03:12:31.891157Z",
     "iopub.status.idle": "2024-11-02T03:12:31.990695Z",
     "shell.execute_reply": "2024-11-02T03:12:31.990409Z"
    },
    "papermill": {
     "duration": 0.102278,
     "end_time": "2024-11-02T03:12:31.991573",
     "exception": false,
     "start_time": "2024-11-02T03:12:31.889295",
     "status": "completed"
    },
    "tags": []
   },
   "outputs": [],
   "source": [
    "plt.hist(df_train['utility_agent1'], bins=100)\n",
    "plt.title('Distribution of Target Variable')\n",
    "plt.xlabel('Utility Agent 1')\n",
    "plt.ylabel('Frequency')\n",
    "plt.show()"
   ]
  },
  {
   "cell_type": "markdown",
   "id": "3af67479",
   "metadata": {
    "papermill": {
     "duration": 0.001818,
     "end_time": "2024-11-02T03:12:31.995367",
     "exception": false,
     "start_time": "2024-11-02T03:12:31.993549",
     "status": "completed"
    },
    "tags": []
   },
   "source": [
    "***\n",
    "### train model\n"
   ]
  },
  {
   "cell_type": "code",
   "execution_count": 19,
   "id": "d73289cd",
   "metadata": {},
   "outputs": [],
   "source": [
    "def get_feature_importance(model, importance_type='PredictionValuesChange'):\n",
    "    \"\"\"\n",
    "    Get feature importance from a trained CatBoost model\n",
    "    \n",
    "    Args:\n",
    "        model: Trained CatBoost model\n",
    "        importance_type: Type of feature importance to calculate\n",
    "            Options: 'PredictionValuesChange', 'LossFunctionChange', \n",
    "            'ShapValues', 'Interaction', 'TopKitty'\n",
    "        \n",
    "    Returns:\n",
    "        pandas.DataFrame: DataFrame containing feature names and their importance scores\n",
    "    \"\"\"\n",
    "    # Get feature importance scores\n",
    "    importance_scores = model.get_feature_importance(type=importance_type)\n",
    "    feature_names = model.feature_names_\n",
    "    \n",
    "    # Create dataframe with feature names and importance scores\n",
    "    importance_df = pd.DataFrame({\n",
    "        'feature': feature_names,\n",
    "        'importance': importance_scores\n",
    "    }).sort_values('importance', ascending=False, ignore_index=True)\n",
    "    \n",
    "    return importance_df\n",
    "\n",
    "\n",
    "def plot_feature_importance(importance_df, top_n=100):\n",
    "    plot_df = importance_df.head(top_n)\n",
    "    \n",
    "    plt.figure(figsize=(15, 5))\n",
    "    plt.bar(x=range(len(plot_df)), height=plot_df['importance'])\n",
    "    plt.xticks(range(len(plot_df)), plot_df['feature'], rotation=45, ha='right', fontsize=8)\n",
    "    plt.ylabel('Importance Score')\n",
    "    plt.title(f'Top {top_n} Most Important Features')\n",
    "    plt.tight_layout()\n",
    "    plt.show()"
   ]
  },
  {
   "cell_type": "code",
   "execution_count": null,
   "id": "f4c608db",
   "metadata": {
    "execution": {
     "iopub.execute_input": "2024-11-02T03:12:31.999937Z",
     "iopub.status.busy": "2024-11-02T03:12:31.999694Z",
     "iopub.status.idle": "2024-11-02T03:27:08.231290Z",
     "shell.execute_reply": "2024-11-02T03:27:08.230939Z"
    },
    "papermill": {
     "duration": 876.234517,
     "end_time": "2024-11-02T03:27:08.232147",
     "exception": false,
     "start_time": "2024-11-02T03:12:31.997630",
     "status": "completed"
    },
    "tags": []
   },
   "outputs": [],
   "source": [
    "def train_models(\n",
    "        df_train,\n",
    "        numerical_cols,\n",
    "        categorical_cols,\n",
    "        target='utility_agent1',\n",
    "        num_folds=5,\n",
    "    ):\n",
    "    # Define the number of folds for cross-validation\n",
    "    group_col = \"GameRulesetName\"\n",
    "    y_col = \"utility_agent1_rank\"\n",
    "    gkf = StratifiedGroupKFold(n_splits=num_folds, random_state=2112, shuffle=True)\n",
    "    split_list = gkf.split(df_train, groups=df_train[group_col], y=df_train[y_col])\n",
    "\n",
    "    # Define the parameters for CatBoost\n",
    "    params = {\n",
    "        'objective': \"RMSE\",\n",
    "        'learning_rate': 0.1,\n",
    "        'depth': 10,\n",
    "        'iterations': 3000,\n",
    "        'eval_metric': 'RMSE',\n",
    "        'verbose': 0,\n",
    "        'random_seed': 2112,\n",
    "        'l2_leaf_reg': 1.,\n",
    "        'random_strength': 0.2,\n",
    "        'min_data_in_leaf': 50,\n",
    "        'rsm': 0.8,\n",
    "    }\n",
    "    # Obtained with optuna\n",
    "    # params = {\n",
    "    #     'objective': 'RMSE',\n",
    "    #     'verbose': False,\n",
    "    #     'random_seed': 2112,\n",
    "    #     'learning_rate': 0.1,\n",
    "    #     'iterations': 3000,\n",
    "    #     'bootstrap_type': 'Bayesian',\n",
    "    #     'sampling_frequency': 'PerTreeLevel',\n",
    "    #     'depth': 10,\n",
    "    #     'l2_leaf_reg': 0.9359292512255313,\n",
    "    #     'random_strength': 0.16693257025108216,\n",
    "    #     'bagging_temperature': 0.15967219011745193,\n",
    "    #     'rsm': 0.548125395769786,\n",
    "    #     'min_data_in_leaf': 102,\n",
    "    #     'max_ctr_complexity': 10\n",
    "    # }\n",
    "\n",
    "    trained_models = []\n",
    "    oof = pd.DataFrame(index=df_train.index, columns=[f'{target}_true', f'{target}_pred'])\n",
    "    oof_scores = []\n",
    "\n",
    "    # Perform cross-validation\n",
    "    for fold, (train_index, val_index) in enumerate(split_list, 1):\n",
    "        print(f\"Fold {fold}\")\n",
    "        \n",
    "        # Split the data\n",
    "        X_train, X_valid = df_train.iloc[train_index], df_train.iloc[val_index]\n",
    "        y_train, y_valid = X_train[target], X_valid[target]\n",
    "\n",
    "        # Initialize CatBoost Pool\n",
    "        train_pool = cb.Pool(\n",
    "            data=X_train[numerical_cols + categorical_cols],\n",
    "            label=y_train,\n",
    "            cat_features=categorical_cols\n",
    "        )\n",
    "        val_pool = cb.Pool(\n",
    "            data=X_valid[numerical_cols + categorical_cols],\n",
    "            label=y_valid,\n",
    "            cat_features=categorical_cols\n",
    "        )\n",
    "        \n",
    "        # Initialize CatBoost Regressor\n",
    "        model = cb.CatBoostRegressor(**params)\n",
    "        \n",
    "        # Train the model\n",
    "        model.fit(\n",
    "            train_pool,\n",
    "            eval_set=val_pool,\n",
    "            use_best_model=True,\n",
    "            verbose=50\n",
    "        )\n",
    "\n",
    "        feat_importance = get_feature_importance(model)\n",
    "        plot_feature_importance(feat_importance)\n",
    "        \n",
    "        # Save the trained model to the list\n",
    "        trained_models.append(model)\n",
    "\n",
    "        # Predict on validation set\n",
    "        y_pred = model.predict(val_pool)\n",
    "        y_pred = np.clip(y_pred, -1, 1)\n",
    "        \n",
    "        # Compute RMSE on scaled values\n",
    "        rmse = np.sqrt(np.mean((y_pred - y_valid) ** 2))\n",
    "        print(f\"Fold {fold} - RMSE: {rmse}\")\n",
    "\n",
    "        # Save out-of-fold predictions\n",
    "        oof.loc[val_index, f'{target}_true'] = y_valid\n",
    "        oof.loc[val_index, f'{target}_pred'] = y_pred\n",
    "\n",
    "        # Save RMSE to the list\n",
    "        oof_scores.append(rmse)\n",
    "\n",
    "    # Print the list of oof scores and average oof score\n",
    "    print(\"List of oof scores:\", oof_scores)\n",
    "    print(\"Average oof score:\", np.mean(oof_scores))\n",
    "\n",
    "    return trained_models, oof, oof_scores\n",
    "\n",
    "# Call the function\n",
    "trained_models, oof, oof_scores = train_models(df_train, numerical_cols, categorical_cols)\n",
    "\n",
    "# # save oof predictions\n",
    "oof.to_csv(path_results / 'oof_catboost.csv', index=False)"
   ]
  },
  {
   "cell_type": "code",
   "execution_count": null,
   "id": "ecf65f19",
   "metadata": {
    "execution": {
     "iopub.execute_input": "2024-11-02T03:27:08.248249Z",
     "iopub.status.busy": "2024-11-02T03:27:08.247985Z",
     "iopub.status.idle": "2024-11-02T03:27:08.364174Z",
     "shell.execute_reply": "2024-11-02T03:27:08.363881Z"
    },
    "papermill": {
     "duration": 0.124908,
     "end_time": "2024-11-02T03:27:08.364957",
     "exception": false,
     "start_time": "2024-11-02T03:27:08.240049",
     "status": "completed"
    },
    "tags": []
   },
   "outputs": [],
   "source": [
    "plt.hist(oof['utility_agent1_true'], alpha=0.5, label='Target')\n",
    "plt.hist(oof['utility_agent1_pred'], alpha=0.5, label='Prediction')\n",
    "plt.legend()\n",
    "plt.show()"
   ]
  },
  {
   "cell_type": "markdown",
   "id": "54a9dab3",
   "metadata": {
    "papermill": {
     "duration": 0.008192,
     "end_time": "2024-11-02T03:27:08.381373",
     "exception": false,
     "start_time": "2024-11-02T03:27:08.373181",
     "status": "completed"
    },
    "tags": []
   },
   "source": [
    "***\n",
    "### inference"
   ]
  },
  {
   "cell_type": "code",
   "execution_count": 17,
   "id": "5902eee5",
   "metadata": {
    "execution": {
     "iopub.execute_input": "2024-11-02T03:27:08.414186Z",
     "iopub.status.busy": "2024-11-02T03:27:08.414039Z",
     "iopub.status.idle": "2024-11-02T03:27:08.491277Z",
     "shell.execute_reply": "2024-11-02T03:27:08.491019Z"
    },
    "papermill": {
     "duration": 0.102733,
     "end_time": "2024-11-02T03:27:08.492094",
     "exception": false,
     "start_time": "2024-11-02T03:27:08.389361",
     "status": "completed"
    },
    "tags": []
   },
   "outputs": [],
   "source": [
    "import os\n",
    "import polars as pl\n",
    "sys.path.append(\"../data/raw/\")\n",
    "import kaggle_evaluation.mcts_inference_server"
   ]
  },
  {
   "cell_type": "code",
   "execution_count": 18,
   "id": "25716864",
   "metadata": {
    "execution": {
     "iopub.execute_input": "2024-11-02T03:27:08.508965Z",
     "iopub.status.busy": "2024-11-02T03:27:08.508775Z",
     "iopub.status.idle": "2024-11-02T03:27:08.511609Z",
     "shell.execute_reply": "2024-11-02T03:27:08.511382Z"
    },
    "papermill": {
     "duration": 0.011918,
     "end_time": "2024-11-02T03:27:08.512325",
     "exception": false,
     "start_time": "2024-11-02T03:27:08.500407",
     "status": "completed"
    },
    "tags": []
   },
   "outputs": [],
   "source": [
    "def predict(test: pl.DataFrame, sample_sub: pl.DataFrame):\n",
    "    # Convert Polars DataFrame to Pandas DataFrame\n",
    "    test_pd = test.to_pandas()\n",
    "    \n",
    "    # Process the test data\n",
    "    test_processed = process_test_data(\n",
    "        test_pd,\n",
    "        numerical_cols,\n",
    "        categorical_cols,\n",
    "        encoder,\n",
    "        scaler\n",
    "    )\n",
    "\n",
    "    # Create CatBoost Pool for test data\n",
    "    test_pool = cb.Pool(\n",
    "        data=test_processed[numerical_cols + categorical_cols],\n",
    "        cat_features=categorical_cols\n",
    "    )\n",
    "\n",
    "    # Average predictions from all models\n",
    "    predictions = np.mean([\n",
    "        model.predict(test_pool)\n",
    "        for model in trained_models\n",
    "    ], axis=0)\n",
    "    predictions = np.clip(predictions, -1, 1)\n",
    "        \n",
    "    # Create the submission DataFrame\n",
    "    submission = sample_sub.with_columns(pl.Series(\"utility_agent1\", predictions))\n",
    "    \n",
    "    return submission"
   ]
  },
  {
   "cell_type": "code",
   "execution_count": null,
   "id": "3a89224c",
   "metadata": {
    "execution": {
     "iopub.execute_input": "2024-11-02T03:27:08.530584Z",
     "iopub.status.busy": "2024-11-02T03:27:08.530450Z",
     "iopub.status.idle": "2024-11-02T03:27:08.604394Z",
     "shell.execute_reply": "2024-11-02T03:27:08.604013Z"
    },
    "papermill": {
     "duration": 0.084365,
     "end_time": "2024-11-02T03:27:08.605159",
     "exception": false,
     "start_time": "2024-11-02T03:27:08.520794",
     "status": "completed"
    },
    "tags": []
   },
   "outputs": [],
   "source": [
    "# sanity check\n",
    "df_test = pl.read_csv('../data/raw/test.csv')\n",
    "sample_sub = pl.read_csv('../data/raw/sample_submission.csv')\n",
    "predict(df_test, sample_sub)"
   ]
  },
  {
   "cell_type": "code",
   "execution_count": 20,
   "id": "be86ccab",
   "metadata": {
    "execution": {
     "iopub.execute_input": "2024-11-02T03:27:08.621723Z",
     "iopub.status.busy": "2024-11-02T03:27:08.621579Z",
     "iopub.status.idle": "2024-11-02T03:27:08.694707Z",
     "shell.execute_reply": "2024-11-02T03:27:08.694347Z"
    },
    "papermill": {
     "duration": 0.082164,
     "end_time": "2024-11-02T03:27:08.695530",
     "exception": false,
     "start_time": "2024-11-02T03:27:08.613366",
     "status": "completed"
    },
    "tags": []
   },
   "outputs": [],
   "source": [
    "inference_server = kaggle_evaluation.mcts_inference_server.MCTSInferenceServer(predict)\n",
    "\n",
    "if os.getenv('KAGGLE_IS_COMPETITION_RERUN'):\n",
    "    inference_server.serve()\n",
    "else:\n",
    "    inference_server.run_local_gateway(\n",
    "        (\n",
    "            '../data/raw/test.csv',\n",
    "            '../data/raw/sample_submission.csv'\n",
    "        )\n",
    "    )"
   ]
  },
  {
   "cell_type": "code",
   "execution_count": 21,
   "id": "1920ab9f",
   "metadata": {
    "execution": {
     "iopub.execute_input": "2024-11-02T03:27:08.711903Z",
     "iopub.status.busy": "2024-11-02T03:27:08.711781Z",
     "iopub.status.idle": "2024-11-02T03:27:09.217809Z",
     "shell.execute_reply": "2024-11-02T03:27:09.217371Z"
    },
    "papermill": {
     "duration": 0.515067,
     "end_time": "2024-11-02T03:27:09.218687",
     "exception": false,
     "start_time": "2024-11-02T03:27:08.703620",
     "status": "completed"
    },
    "tags": []
   },
   "outputs": [],
   "source": [
    "# Save all artifacts needed for prediction\n",
    "catboost_predict = {\n",
    "    'models': trained_models,\n",
    "    'numerical_cols': numerical_cols,\n",
    "    'categorical_cols': categorical_cols,\n",
    "    'encoder': encoder, \n",
    "    'scaler': scaler\n",
    "}\n",
    "\n",
    "with open('./catboost_predict.pkl', 'wb') as f:\n",
    "    pickle.dump(catboost_predict, f)"
   ]
  },
  {
   "cell_type": "markdown",
   "id": "b92521b9",
   "metadata": {
    "papermill": {
     "duration": 0.007803,
     "end_time": "2024-11-02T03:27:09.234563",
     "exception": false,
     "start_time": "2024-11-02T03:27:09.226760",
     "status": "completed"
    },
    "tags": []
   },
   "source": [
    "***\n"
   ]
  }
 ],
 "metadata": {
  "kernelspec": {
   "display_name": "mcts-strength-variants-kSTIVMm8-py3.10",
   "language": "python",
   "name": "python3"
  },
  "language_info": {
   "codemirror_mode": {
    "name": "ipython",
    "version": 3
   },
   "file_extension": ".py",
   "mimetype": "text/x-python",
   "name": "python",
   "nbconvert_exporter": "python",
   "pygments_lexer": "ipython3",
   "version": "3.10.14"
  },
  "papermill": {
   "default_parameters": {},
   "duration": 887.049916,
   "end_time": "2024-11-02T03:27:09.668901",
   "environment_variables": {},
   "exception": null,
   "input_path": "train/catboost.ipynb",
   "output_path": "train/catboost.ipynb",
   "parameters": {},
   "start_time": "2024-11-02T03:12:22.618985",
   "version": "2.6.0"
  }
 },
 "nbformat": 4,
 "nbformat_minor": 5
}
