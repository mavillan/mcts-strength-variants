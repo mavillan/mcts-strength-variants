{
 "cells": [
  {
   "cell_type": "code",
   "execution_count": null,
   "id": "ca56f5ed",
   "metadata": {
    "execution": {
     "iopub.execute_input": "2024-11-25T04:33:25.994660Z",
     "iopub.status.busy": "2024-11-25T04:33:25.994258Z",
     "iopub.status.idle": "2024-11-25T04:33:26.793647Z",
     "shell.execute_reply": "2024-11-25T04:33:26.793347Z"
    },
    "papermill": {
     "duration": 0.81244,
     "end_time": "2024-11-25T04:33:26.794365",
     "exception": false,
     "start_time": "2024-11-25T04:33:25.981925",
     "status": "completed"
    },
    "tags": []
   },
   "outputs": [],
   "source": [
    "import numpy as np\n",
    "import pandas as pd\n",
    "import matplotlib.pyplot as plt\n",
    "from pathlib import Path\n",
    "import json\n",
    "import pickle\n",
    "\n",
    "import catboost as cb\n",
    "print(\"cb.__version__:\", cb.__version__)\n",
    "\n",
    "# local modules\n",
    "import sys\n",
    "sys.path.append(\"../src\")\n",
    "from preproc import process_train_data, process_test_data"
   ]
  },
  {
   "cell_type": "markdown",
   "id": "1bbdc97d",
   "metadata": {
    "papermill": {
     "duration": 0.001584,
     "end_time": "2024-11-25T04:33:26.798432",
     "exception": false,
     "start_time": "2024-11-25T04:33:26.796848",
     "status": "completed"
    },
    "tags": []
   },
   "source": [
    "***\n",
    "### load and preprocess data"
   ]
  },
  {
   "cell_type": "code",
   "execution_count": null,
   "id": "6d790818",
   "metadata": {
    "execution": {
     "iopub.execute_input": "2024-11-25T04:33:26.801982Z",
     "iopub.status.busy": "2024-11-25T04:33:26.801831Z",
     "iopub.status.idle": "2024-11-25T04:33:32.730702Z",
     "shell.execute_reply": "2024-11-25T04:33:32.730418Z"
    },
    "papermill": {
     "duration": 5.931491,
     "end_time": "2024-11-25T04:33:32.731431",
     "exception": false,
     "start_time": "2024-11-25T04:33:26.799940",
     "status": "completed"
    },
    "tags": []
   },
   "outputs": [],
   "source": [
    "# define some paths\n",
    "path_raw = Path(\"../data/raw\")\n",
    "path_processed = Path(\"../data/processed\")\n",
    "path_results = Path(\"../data/results\")\n",
    "\n",
    "# load data\n",
    "df_train = pd.read_csv(path_raw / \"train.csv\")\n",
    "df_test = pd.read_csv(path_raw / \"test.csv\")\n",
    "\n",
    "df_train"
   ]
  },
  {
   "cell_type": "code",
   "execution_count": null,
   "id": "bb310fce",
   "metadata": {
    "tags": [
     "parameters"
    ]
   },
   "outputs": [],
   "source": [
    "# Load the feature selection results\n",
    "fs_type = 'uni90'"
   ]
  },
  {
   "cell_type": "code",
   "execution_count": null,
   "id": "a67ac1ca",
   "metadata": {
    "execution": {
     "iopub.execute_input": "2024-11-25T04:33:32.735735Z",
     "iopub.status.busy": "2024-11-25T04:33:32.735631Z",
     "iopub.status.idle": "2024-11-25T04:33:32.738583Z",
     "shell.execute_reply": "2024-11-25T04:33:32.738384Z"
    },
    "papermill": {
     "duration": 0.005884,
     "end_time": "2024-11-25T04:33:32.739386",
     "exception": false,
     "start_time": "2024-11-25T04:33:32.733502",
     "status": "completed"
    },
    "tags": []
   },
   "outputs": [],
   "source": [
    "fs_mapping = {\n",
    "    \"full\": None,\n",
    "    \"fsv2\": '../feat_selection/select_optuna_lgbm_v2.json',\n",
    "    \"fsv3\": '../feat_selection/select_optuna_catb.json',\n",
    "    \"fsv4\": '../feat_selection/select_optuna_lgbm_v3.json',\n",
    "    \"fsv23\": '../feat_selection/select_optuna_combined_v23.json',\n",
    "    \"fsv24\": '../feat_selection/select_optuna_combined_v24.json',\n",
    "    \"fsv34\": '../feat_selection/select_optuna_combined_v34.json',\n",
    "    \"int95\": '../feat_selection/feat_selection_intersection_at_95.json',\n",
    "    \"int96\": '../feat_selection/feat_selection_intersection_at_96.json',\n",
    "    \"int97\": '../feat_selection/feat_selection_intersection_at_97.json',\n",
    "    \"int98\": '../feat_selection/feat_selection_intersection_at_98.json',\n",
    "    \"int99\": '../feat_selection/feat_selection_intersection_at_99.json',\n",
    "    \"uni80\": '../feat_selection/feat_selection_union_at_80.json',\n",
    "    \"uni85\": '../feat_selection/feat_selection_union_at_85.json',\n",
    "    \"uni90\": '../feat_selection/feat_selection_union_at_90.json',\n",
    "    \"uni95\": '../feat_selection/feat_selection_union_at_95.json',\n",
    "}\n",
    "\n",
    "fs_path = fs_mapping[fs_type]\n",
    "\n",
    "if fs_path is None:\n",
    "    feature_selection = dict()\n",
    "else:\n",
    "    with open(fs_path, 'r') as f:\n",
    "        feature_selection = json.load(f)\n",
    "\n",
    "# Extract the selected features\n",
    "numerical_cols = feature_selection.get('numerical', None)\n",
    "categorical_cols = feature_selection.get('categorical', None)\n",
    "\n",
    "text_cols = [\"LudRules\",]\n",
    "# text_cols = None\n",
    "\n",
    "print(\"Numerical features:\", len(numerical_cols) if numerical_cols else 0)\n",
    "print(\"Categorical features:\", len(categorical_cols) if categorical_cols else 0)\n",
    "print(\"Text features:\", len(text_cols) if text_cols else 0)"
   ]
  },
  {
   "cell_type": "code",
   "execution_count": null,
   "id": "cb043b37",
   "metadata": {
    "execution": {
     "iopub.execute_input": "2024-11-25T04:33:32.744026Z",
     "iopub.status.busy": "2024-11-25T04:33:32.743820Z",
     "iopub.status.idle": "2024-11-25T04:33:34.658524Z",
     "shell.execute_reply": "2024-11-25T04:33:34.658223Z"
    },
    "papermill": {
     "duration": 1.917829,
     "end_time": "2024-11-25T04:33:34.659347",
     "exception": false,
     "start_time": "2024-11-25T04:33:32.741518",
     "status": "completed"
    },
    "tags": []
   },
   "outputs": [],
   "source": [
    "df_train, numerical_cols, categorical_cols, encoder, scaler = process_train_data(\n",
    "    df_train,\n",
    "    scale=False,\n",
    "    numerical_cols=numerical_cols,\n",
    "    categorical_cols=categorical_cols,\n",
    "    include_position_features=False if fs_type==\"full\" else True,\n",
    "    include_text_features=True,\n",
    ")\n",
    "\n",
    "# Print the results\n",
    "print(\"Numerical Columns:\", len(numerical_cols))\n",
    "print(\"Categorical Columns:\", len(categorical_cols))"
   ]
  },
  {
   "cell_type": "code",
   "execution_count": null,
   "id": "624b0a51",
   "metadata": {
    "execution": {
     "iopub.execute_input": "2024-11-25T04:33:34.663963Z",
     "iopub.status.busy": "2024-11-25T04:33:34.663827Z",
     "iopub.status.idle": "2024-11-25T04:33:34.759579Z",
     "shell.execute_reply": "2024-11-25T04:33:34.759190Z"
    },
    "papermill": {
     "duration": 0.099094,
     "end_time": "2024-11-25T04:33:34.760572",
     "exception": false,
     "start_time": "2024-11-25T04:33:34.661478",
     "status": "completed"
    },
    "tags": []
   },
   "outputs": [],
   "source": [
    "plt.hist(df_train['utility_agent1'], bins=100)\n",
    "plt.title('Distribution of Target Variable')\n",
    "plt.xlabel('Utility Agent 1')\n",
    "plt.ylabel('Frequency')\n",
    "plt.show()"
   ]
  },
  {
   "cell_type": "code",
   "execution_count": null,
   "id": "d9cd35e4",
   "metadata": {
    "execution": {
     "iopub.execute_input": "2024-11-25T04:33:34.765534Z",
     "iopub.status.busy": "2024-11-25T04:33:34.765377Z",
     "iopub.status.idle": "2024-11-25T04:33:34.769463Z",
     "shell.execute_reply": "2024-11-25T04:33:34.769031Z"
    },
    "papermill": {
     "duration": 0.007457,
     "end_time": "2024-11-25T04:33:34.770298",
     "exception": false,
     "start_time": "2024-11-25T04:33:34.762841",
     "status": "completed"
    },
    "tags": []
   },
   "outputs": [],
   "source": [
    "split1 = pickle.load(open('../data/splits/cv1_Game.pkl', 'rb'))\n",
    "split2 = pickle.load(open('../data/splits/cv2_Game.pkl', 'rb'))\n",
    "split3 = pickle.load(open('../data/splits/cv3_Game.pkl', 'rb'))\n",
    "\n",
    "# split1 = pickle.load(open('../data/splits/cv1_GameRulesetName.pkl', 'rb'))\n",
    "# split2 = pickle.load(open('../data/splits/cv2_GameRulesetName.pkl', 'rb'))\n",
    "# split3 = pickle.load(open('../data/splits/cv3_GameRulesetName.pkl', 'rb'))"
   ]
  },
  {
   "cell_type": "markdown",
   "id": "69e6b777",
   "metadata": {
    "papermill": {
     "duration": 0.001986,
     "end_time": "2024-11-25T04:33:34.774479",
     "exception": false,
     "start_time": "2024-11-25T04:33:34.772493",
     "status": "completed"
    },
    "tags": []
   },
   "source": [
    "***\n",
    "### train model"
   ]
  },
  {
   "cell_type": "code",
   "execution_count": null,
   "id": "548ff8ec",
   "metadata": {
    "execution": {
     "iopub.execute_input": "2024-11-25T04:33:34.778915Z",
     "iopub.status.busy": "2024-11-25T04:33:34.778714Z",
     "iopub.status.idle": "2024-11-25T04:33:34.781900Z",
     "shell.execute_reply": "2024-11-25T04:33:34.781598Z"
    },
    "papermill": {
     "duration": 0.006198,
     "end_time": "2024-11-25T04:33:34.782599",
     "exception": false,
     "start_time": "2024-11-25T04:33:34.776401",
     "status": "completed"
    },
    "tags": []
   },
   "outputs": [],
   "source": [
    "def get_feature_importance(model, importance_type='PredictionValuesChange'):\n",
    "    \"\"\"\n",
    "    Get feature importance from a trained CatBoost model\n",
    "    \n",
    "    Args:\n",
    "        model: Trained CatBoost model\n",
    "        importance_type: Type of feature importance to calculate\n",
    "            Options: 'PredictionValuesChange', 'LossFunctionChange', \n",
    "            'ShapValues', 'Interaction', 'TopKitty'\n",
    "        \n",
    "    Returns:\n",
    "        pandas.DataFrame: DataFrame containing feature names and their importance scores\n",
    "    \"\"\"\n",
    "    # Get feature importance scores\n",
    "    importance_scores = model.get_feature_importance(type=importance_type)\n",
    "    feature_names = model.feature_names_\n",
    "    \n",
    "    # Create dataframe with feature names and importance scores\n",
    "    importance_df = pd.DataFrame({\n",
    "        'feature': feature_names,\n",
    "        'importance': importance_scores\n",
    "    }).sort_values('importance', ascending=False, ignore_index=True)\n",
    "    \n",
    "    return importance_df\n",
    "\n",
    "\n",
    "def plot_feature_importance(importance_df, top_n=100):\n",
    "    plot_df = importance_df.head(top_n)\n",
    "    \n",
    "    plt.figure(figsize=(15, 5))\n",
    "    plt.bar(x=range(len(plot_df)), height=plot_df['importance'])\n",
    "    plt.xticks(range(len(plot_df)), plot_df['feature'], rotation=45, ha='right', fontsize=8)\n",
    "    plt.ylabel('Importance Score')\n",
    "    plt.title(f'Top {top_n} Most Important Features')\n",
    "    plt.tight_layout()\n",
    "    plt.show()"
   ]
  },
  {
   "cell_type": "code",
   "execution_count": null,
   "id": "0d15ee4c",
   "metadata": {
    "execution": {
     "iopub.execute_input": "2024-11-25T04:33:34.786972Z",
     "iopub.status.busy": "2024-11-25T04:33:34.786860Z",
     "iopub.status.idle": "2024-11-25T04:33:34.793163Z",
     "shell.execute_reply": "2024-11-25T04:33:34.792927Z"
    },
    "papermill": {
     "duration": 0.009206,
     "end_time": "2024-11-25T04:33:34.793785",
     "exception": false,
     "start_time": "2024-11-25T04:33:34.784579",
     "status": "completed"
    },
    "tags": []
   },
   "outputs": [],
   "source": [
    "def train_models(\n",
    "        df_train,\n",
    "        numerical_cols,\n",
    "        categorical_cols,\n",
    "        text_cols=None,\n",
    "        target='utility_agent1',\n",
    "        split_list=None,\n",
    "    ):\n",
    "    # Define the parameters for CatBoost\n",
    "    params = {\n",
    "\n",
    "        'objective': \"RMSE\",\n",
    "        'learning_rate': 0.1,\n",
    "        'depth': 10,\n",
    "        'iterations': 3000,\n",
    "        'eval_metric': 'RMSE',\n",
    "        'verbose': 0,\n",
    "        'random_seed': 2112,\n",
    "        'l2_leaf_reg': 1.,\n",
    "        'random_strength': 0.2,\n",
    "        'min_data_in_leaf': 50,\n",
    "        'rsm': 0.8,\n",
    "        'bagging_temperature' : 0.50,\n",
    "\n",
    "        # 'text_processing': {\n",
    "        #     'tokenizers': [{\n",
    "        #         'tokenizer_id': 'Space',  # or 'GPT', 'Bert', etc.\n",
    "        #         'separator_type': 'Space'\n",
    "        #     }],\n",
    "        #     'dictionaries': [{\n",
    "        #         'dictionary_id': 'BiGram',\n",
    "        #         'max_dictionary_size': '50000',\n",
    "        #         'occurrence_lower_bound': '3',\n",
    "        #         'gram_order': '2'\n",
    "        #     }],\n",
    "        #     'feature_calcers': [{\n",
    "        #         'calcer_type': 'BoW',  # or 'NaiveBayes', 'BM25'\n",
    "        #         'dictionary_id': 'BiGram'\n",
    "        #     }]\n",
    "        # }\n",
    "\n",
    "\n",
    "        # # Text processing parameters to mimic TF-IDF\n",
    "        # 'tokenizers': [{\n",
    "        #     'tokenizer_id': 'Space',\n",
    "        #     'separator_type': 'ByDelimiter',\n",
    "        #     'delimiter': ' '\n",
    "        # }],\n",
    "        # 'dictionaries': [{\n",
    "        #     'dictionary_id': 'NgramDict',\n",
    "        #     'max_dictionary_size': '500',  # Match max_features=500\n",
    "        #     'occurrence_lower_bound': '3',\n",
    "        #     'gram_order': '3',  # Maximum n-gram size\n",
    "        #     'min_gram_order': '2'  # Minimum n-gram size\n",
    "        # }],\n",
    "        # 'feature_calcers': [{\n",
    "        #     'calcer_type': 'BoW',  # Most similar to TF-IDF\n",
    "        #     'dictionary_id': 'NgramDict'\n",
    "        # }],\n",
    "\n",
    "\n",
    "        # 'tokenizers': [{\n",
    "        #     'tokenizer_id': 'Space',\n",
    "        #     'delimiter': ' ',\n",
    "        #     'separator_type': 'ByDelimiter'\n",
    "        # }],\n",
    "        # 'dictionaries': [{\n",
    "        #     'dictionary_id': 'Word',\n",
    "        #     'max_dictionary_size': '50000',\n",
    "        #     'occurrence_lower_bound': '3'\n",
    "        # }],\n",
    "        # 'feature_calcers': [{\n",
    "        #     'calcer_type': 'BoW',\n",
    "        #     'dictionary_id': 'Word',\n",
    "        # }]\n",
    "    }\n",
    "    # Obtained with optuna\n",
    "    # params = {\n",
    "    #     'objective': 'RMSE',\n",
    "    #     'verbose': False,\n",
    "    #     'random_seed': 2112,\n",
    "    #     'learning_rate': 0.1,\n",
    "    #     'iterations': 3000,\n",
    "    #     'bootstrap_type': 'Bayesian',\n",
    "    #     'sampling_frequency': 'PerTreeLevel',\n",
    "    #     'depth': 10,\n",
    "    #     'l2_leaf_reg': 0.9359292512255313,\n",
    "    #     'random_strength': 0.16693257025108216,\n",
    "    #     'bagging_temperature': 0.15967219011745193,\n",
    "    #     'rsm': 0.548125395769786,\n",
    "    #     'min_data_in_leaf': 102,\n",
    "    #     'max_ctr_complexity': 10\n",
    "    # }\n",
    "\n",
    "\n",
    "    # below are default params for text processing\n",
    "    # 'text_processing': {\n",
    "    #     'tokenizers': [{\n",
    "    #         'tokenizer_id': 'Space',  # Simple space-based tokenization\n",
    "    #         'separator_type': 'Space'\n",
    "    #     }],\n",
    "    #     'dictionaries': [{\n",
    "    #         'dictionary_id': 'UniGram',  # Single words/tokens\n",
    "    #         'max_dictionary_size': '50000',  # Maximum number of unique tokens to keep\n",
    "    #         'occurrence_lower_bound': '3'  # Minimum number of times a token must appear\n",
    "    #     }],\n",
    "    #     'feature_calcers': [{\n",
    "    #         'calcer_type': 'BoW',  # Bag of Words representation\n",
    "    #         'dictionary_id': 'UniGram'\n",
    "    #     }]\n",
    "    # }\n",
    "\n",
    "\n",
    "    # if text_cols:\n",
    "    #     params.update({\n",
    "    #         'text_processing': {\n",
    "    #             'tokenizers': [{\n",
    "    #                 'tokenizer_id': 'Space',  # or 'GPT', 'Bert', etc.\n",
    "    #                 'separator_type': 'Space'\n",
    "    #             }],\n",
    "    #             'dictionaries': [{\n",
    "    #                 'dictionary_id': 'BiGram',\n",
    "    #                 'max_dictionary_size': '50000',\n",
    "    #                 'occurrence_lower_bound': '3',\n",
    "    #                 'gram_order': '2'\n",
    "    #             }],\n",
    "    #             'feature_calcers': [{\n",
    "    #                 'calcer_type': 'BoW',  # or 'NaiveBayes', 'BM25'\n",
    "    #                 'dictionary_id': 'BiGram'\n",
    "    #             }]\n",
    "    #         }\n",
    "    #     })\n",
    "\n",
    "    trained_models = []\n",
    "    oof = pd.DataFrame(\n",
    "        index=df_train.index,\n",
    "        columns=[f'{target}_true', f'{target}_pred', 'fold']\n",
    "    )\n",
    "    oof_scores = []\n",
    "    feat_importance_dfs = []\n",
    "\n",
    "    # Perform cross-validation\n",
    "    for fold, (train_index, val_index) in enumerate(split_list, 1):\n",
    "        print(f\"Fold {fold}\")\n",
    "        \n",
    "        # Split the data\n",
    "        X_train, X_valid = df_train.iloc[train_index], df_train.iloc[val_index]\n",
    "        y_train, y_valid = X_train[target], X_valid[target]\n",
    "\n",
    "        # Prepare feature list\n",
    "        feature_cols = numerical_cols + categorical_cols\n",
    "        if text_cols:\n",
    "            feature_cols += text_cols\n",
    "\n",
    "        # Initialize CatBoost Pool\n",
    "        train_pool = cb.Pool(\n",
    "            data=X_train[feature_cols],\n",
    "            label=y_train,\n",
    "            cat_features=categorical_cols,\n",
    "            text_features=text_cols if text_cols else None\n",
    "        )\n",
    "        val_pool = cb.Pool(\n",
    "            data=X_valid[feature_cols],\n",
    "            label=y_valid,\n",
    "            cat_features=categorical_cols,\n",
    "            text_features=text_cols if text_cols else None\n",
    "        )\n",
    "        \n",
    "        # Initialize CatBoost Regressor\n",
    "        model = cb.CatBoostRegressor(**params)\n",
    "        \n",
    "        # Train the model\n",
    "        model.fit(\n",
    "            train_pool,\n",
    "            eval_set=val_pool,\n",
    "            use_best_model=True,\n",
    "            verbose=50\n",
    "        )\n",
    "\n",
    "        feat_importance = get_feature_importance(model)\n",
    "        feat_importance = feat_importance.rename(columns={'importance': f'importance_f{fold}'})\n",
    "        feat_importance_dfs.append(feat_importance)\n",
    "        plot_feature_importance(feat_importance.rename(columns={f'importance_f{fold}': 'importance'}))\n",
    "        \n",
    "        # Save the trained model to the list\n",
    "        trained_models.append(model)\n",
    "\n",
    "        # Predict on validation set\n",
    "        y_pred = model.predict(val_pool)\n",
    "\n",
    "        # Save out-of-fold predictions\n",
    "        oof.loc[val_index, f'{target}_true'] = y_valid\n",
    "        oof.loc[val_index, f'{target}_pred'] = y_pred\n",
    "        oof.loc[val_index, 'fold'] = fold\n",
    "        \n",
    "        # Compute RMSE\n",
    "        y_pred = np.clip(y_pred, -1, 1)\n",
    "        rmse = np.sqrt(np.mean((y_pred - y_valid) ** 2))\n",
    "        print(f\"Fold {fold} - RMSE: {rmse}\")\n",
    "\n",
    "        # Save RMSE to the list\n",
    "        oof_scores.append(rmse)\n",
    "\n",
    "    # Combine feature importance dataframes\n",
    "    importance_df = feat_importance_dfs[0]\n",
    "    for df in feat_importance_dfs[1:]:\n",
    "        importance_df = importance_df.merge(df, on='feature')\n",
    "    \n",
    "    # Calculate mean importance across folds\n",
    "    importance_cols = [col for col in importance_df.columns if col.startswith('importance_f')]\n",
    "    importance_df['importance_mean'] = importance_df[importance_cols].mean(axis=1)\n",
    "    importance_df = importance_df.sort_values('importance_mean', ascending=False, ignore_index=True)\n",
    "    importance_df['importance_relative'] = (\n",
    "        importance_df['importance_mean'] / \n",
    "        importance_df['importance_mean'].sum()\n",
    "    )\n",
    "\n",
    "    # Print the list of oof scores and average oof score\n",
    "    print(\"List of oof scores:\", oof_scores)\n",
    "    print(\"Average oof score:\", np.mean(oof_scores))\n",
    "\n",
    "    return trained_models, oof, oof_scores, importance_df"
   ]
  },
  {
   "cell_type": "code",
   "execution_count": null,
   "id": "288e6afb",
   "metadata": {
    "execution": {
     "iopub.execute_input": "2024-11-25T04:33:34.798103Z",
     "iopub.status.busy": "2024-11-25T04:33:34.798008Z",
     "iopub.status.idle": "2024-11-25T04:53:53.100606Z",
     "shell.execute_reply": "2024-11-25T04:53:53.100232Z"
    },
    "papermill": {
     "duration": 1218.305667,
     "end_time": "2024-11-25T04:53:53.101427",
     "exception": false,
     "start_time": "2024-11-25T04:33:34.795760",
     "status": "completed"
    },
    "tags": []
   },
   "outputs": [],
   "source": [
    "# call the function\n",
    "trained_models1, oof1, oof_scores1, importance_df1 = train_models(\n",
    "    df_train, \n",
    "    numerical_cols, \n",
    "    categorical_cols, \n",
    "    text_cols=text_cols,\n",
    "    split_list=split1,\n",
    ")\n",
    "# save oof predictions\n",
    "oof1.to_parquet(path_results / f'oof_catboost_text_{fs_type}_cv1.parquet', index=False)\n",
    "\n",
    "# save feature importance\n",
    "# importance_df1.to_csv(path_results / 'feat_importance_catboost_cv1.csv', index=False)"
   ]
  },
  {
   "cell_type": "code",
   "execution_count": null,
   "id": "e2cb3be7",
   "metadata": {},
   "outputs": [],
   "source": [
    "# call the function\n",
    "trained_models2, oof2, oof_scores2, importance_df2 = train_models(\n",
    "    df_train, \n",
    "    numerical_cols, \n",
    "    categorical_cols, \n",
    "    text_cols=text_cols,\n",
    "    split_list=split2,\n",
    ")\n",
    "# save oof predictions\n",
    "oof2.to_parquet(path_results / f'oof_catboost_text_{fs_type}_cv2.parquet', index=False)"
   ]
  },
  {
   "cell_type": "code",
   "execution_count": null,
   "id": "288b1f77",
   "metadata": {
    "execution": {
     "iopub.execute_input": "2024-11-25T04:53:53.127130Z",
     "iopub.status.busy": "2024-11-25T04:53:53.127001Z",
     "iopub.status.idle": "2024-11-25T04:53:53.128738Z",
     "shell.execute_reply": "2024-11-25T04:53:53.128494Z"
    },
    "papermill": {
     "duration": 0.01574,
     "end_time": "2024-11-25T04:53:53.129388",
     "exception": false,
     "start_time": "2024-11-25T04:53:53.113648",
     "status": "completed"
    },
    "tags": []
   },
   "outputs": [],
   "source": [
    "# call the function\n",
    "trained_models3, oof3, oof_scores3, importance_df3 = train_models(\n",
    "    df_train, \n",
    "    numerical_cols, \n",
    "    categorical_cols, \n",
    "    text_cols=text_cols,\n",
    "    split_list=split3,\n",
    ")\n",
    "# save oof predictions\n",
    "oof3.to_parquet(path_results / f'oof_catboost_text_{fs_type}_cv3.parquet', index=False)"
   ]
  },
  {
   "cell_type": "code",
   "execution_count": null,
   "id": "d27b93e8",
   "metadata": {},
   "outputs": [],
   "source": [
    "# Print summary of OOF scores for each CV fold\n",
    "print(\"CV1 OOF Scores:\")\n",
    "for score in oof_scores1:\n",
    "    print(f\"Score: {score:.4f}\")\n",
    "print(f\"Average CV1 Score: {sum(oof_scores1)/len(oof_scores1):.4f}\")\n",
    "    \n",
    "print(\"\\nCV2 OOF Scores:\")  \n",
    "for score in oof_scores2:\n",
    "    print(f\"Score: {score:.4f}\")\n",
    "print(f\"Average CV2 Score: {sum(oof_scores2)/len(oof_scores2):.4f}\")\n",
    "    \n",
    "print(\"\\nCV3 OOF Scores:\")\n",
    "for score in oof_scores3:\n",
    "    print(f\"Score: {score:.4f}\")\n",
    "print(f\"Average CV3 Score: {sum(oof_scores3)/len(oof_scores3):.4f}\")\n"
   ]
  },
  {
   "cell_type": "code",
   "execution_count": null,
   "id": "adb7aed2",
   "metadata": {
    "execution": {
     "iopub.execute_input": "2024-11-25T04:53:53.155547Z",
     "iopub.status.busy": "2024-11-25T04:53:53.155404Z",
     "iopub.status.idle": "2024-11-25T04:53:53.157216Z",
     "shell.execute_reply": "2024-11-25T04:53:53.156990Z"
    },
    "papermill": {
     "duration": 0.015818,
     "end_time": "2024-11-25T04:53:53.157883",
     "exception": false,
     "start_time": "2024-11-25T04:53:53.142065",
     "status": "completed"
    },
    "tags": []
   },
   "outputs": [],
   "source": [
    "trained_models = [*trained_models1, *trained_models2, *trained_models3]\n",
    "# trained_models = trained_models1"
   ]
  },
  {
   "cell_type": "code",
   "execution_count": null,
   "id": "ecf65f19",
   "metadata": {
    "execution": {
     "iopub.execute_input": "2024-11-25T04:53:53.182868Z",
     "iopub.status.busy": "2024-11-25T04:53:53.182678Z",
     "iopub.status.idle": "2024-11-25T04:53:53.286093Z",
     "shell.execute_reply": "2024-11-25T04:53:53.285827Z"
    },
    "papermill": {
     "duration": 0.11678,
     "end_time": "2024-11-25T04:53:53.286856",
     "exception": false,
     "start_time": "2024-11-25T04:53:53.170076",
     "status": "completed"
    },
    "tags": []
   },
   "outputs": [],
   "source": [
    "plt.hist(oof1['utility_agent1_true'], alpha=0.5, label='Target')\n",
    "plt.hist(oof1['utility_agent1_pred'], alpha=0.5, label='Prediction')\n",
    "plt.legend()\n",
    "plt.show()"
   ]
  },
  {
   "cell_type": "markdown",
   "id": "54a9dab3",
   "metadata": {
    "papermill": {
     "duration": 0.01291,
     "end_time": "2024-11-25T04:53:53.313258",
     "exception": false,
     "start_time": "2024-11-25T04:53:53.300348",
     "status": "completed"
    },
    "tags": []
   },
   "source": [
    "***\n",
    "### inference"
   ]
  },
  {
   "cell_type": "code",
   "execution_count": null,
   "id": "5902eee5",
   "metadata": {
    "execution": {
     "iopub.execute_input": "2024-11-25T04:53:53.340166Z",
     "iopub.status.busy": "2024-11-25T04:53:53.340020Z",
     "iopub.status.idle": "2024-11-25T04:53:53.489552Z",
     "shell.execute_reply": "2024-11-25T04:53:53.489254Z"
    },
    "papermill": {
     "duration": 0.16421,
     "end_time": "2024-11-25T04:53:53.490454",
     "exception": false,
     "start_time": "2024-11-25T04:53:53.326244",
     "status": "completed"
    },
    "tags": []
   },
   "outputs": [],
   "source": [
    "import os\n",
    "import polars as pl\n",
    "sys.path.append(\"../data/raw/\")\n",
    "import kaggle_evaluation.mcts_inference_server"
   ]
  },
  {
   "cell_type": "code",
   "execution_count": null,
   "id": "25716864",
   "metadata": {
    "execution": {
     "iopub.execute_input": "2024-11-25T04:53:53.517225Z",
     "iopub.status.busy": "2024-11-25T04:53:53.517036Z",
     "iopub.status.idle": "2024-11-25T04:53:53.520011Z",
     "shell.execute_reply": "2024-11-25T04:53:53.519743Z"
    },
    "papermill": {
     "duration": 0.01701,
     "end_time": "2024-11-25T04:53:53.520733",
     "exception": false,
     "start_time": "2024-11-25T04:53:53.503723",
     "status": "completed"
    },
    "tags": []
   },
   "outputs": [],
   "source": [
    "def predict(test: pl.DataFrame, sample_sub: pl.DataFrame):\n",
    "    # Convert Polars DataFrame to Pandas DataFrame\n",
    "    test_pd = test.to_pandas()\n",
    "    \n",
    "    # Process the test data\n",
    "    test_processed = process_test_data(\n",
    "        test_pd,\n",
    "        numerical_cols,\n",
    "        categorical_cols,\n",
    "        encoder,\n",
    "        scaler,\n",
    "        include_position_features=True,\n",
    "        include_text_features=True,\n",
    "    )\n",
    "\n",
    "    # Prepare data columns\n",
    "    features = numerical_cols + categorical_cols\n",
    "    pool_kwargs = {\n",
    "        'data': test_processed[features],\n",
    "        'cat_features': categorical_cols,\n",
    "    }\n",
    "    \n",
    "    # Include text columns if they are not None\n",
    "    if text_cols is not None:\n",
    "        features += text_cols\n",
    "        pool_kwargs['data'] = test_processed[features]\n",
    "        pool_kwargs['text_features'] = text_cols\n",
    "\n",
    "    # Create CatBoost Pool for test data\n",
    "    test_pool = cb.Pool(**pool_kwargs)\n",
    "\n",
    "    # Average predictions from all models\n",
    "    predictions = np.mean([\n",
    "        model.predict(test_pool)\n",
    "        for model in trained_models\n",
    "    ], axis=0)\n",
    "    predictions = np.clip(predictions, -1, 1)\n",
    "        \n",
    "    # Create the submission DataFrame\n",
    "    submission = sample_sub.with_columns(pl.Series(\"utility_agent1\", predictions))\n",
    "    \n",
    "    return submission"
   ]
  },
  {
   "cell_type": "code",
   "execution_count": null,
   "id": "3a89224c",
   "metadata": {
    "execution": {
     "iopub.execute_input": "2024-11-25T04:53:53.547957Z",
     "iopub.status.busy": "2024-11-25T04:53:53.547694Z",
     "iopub.status.idle": "2024-11-25T04:53:53.648033Z",
     "shell.execute_reply": "2024-11-25T04:53:53.647766Z"
    },
    "papermill": {
     "duration": 0.11465,
     "end_time": "2024-11-25T04:53:53.648764",
     "exception": false,
     "start_time": "2024-11-25T04:53:53.534114",
     "status": "completed"
    },
    "tags": []
   },
   "outputs": [],
   "source": [
    "# sanity check\n",
    "df_test = pl.read_csv('../data/raw/test.csv')\n",
    "sample_sub = pl.read_csv('../data/raw/sample_submission.csv')\n",
    "predict(df_test, sample_sub)"
   ]
  },
  {
   "cell_type": "code",
   "execution_count": null,
   "id": "be86ccab",
   "metadata": {
    "execution": {
     "iopub.execute_input": "2024-11-25T04:53:53.676384Z",
     "iopub.status.busy": "2024-11-25T04:53:53.676257Z",
     "iopub.status.idle": "2024-11-25T04:53:53.812368Z",
     "shell.execute_reply": "2024-11-25T04:53:53.811932Z"
    },
    "papermill": {
     "duration": 0.15122,
     "end_time": "2024-11-25T04:53:53.813213",
     "exception": false,
     "start_time": "2024-11-25T04:53:53.661993",
     "status": "completed"
    },
    "tags": []
   },
   "outputs": [],
   "source": [
    "inference_server = kaggle_evaluation.mcts_inference_server.MCTSInferenceServer(predict)\n",
    "\n",
    "if os.getenv('KAGGLE_IS_COMPETITION_RERUN'):\n",
    "    inference_server.serve()\n",
    "else:\n",
    "    inference_server.run_local_gateway(\n",
    "        (\n",
    "            '../data/raw/test.csv',\n",
    "            '../data/raw/sample_submission.csv'\n",
    "        )\n",
    "    )"
   ]
  },
  {
   "cell_type": "code",
   "execution_count": null,
   "id": "1920ab9f",
   "metadata": {
    "execution": {
     "iopub.execute_input": "2024-11-25T04:53:53.839244Z",
     "iopub.status.busy": "2024-11-25T04:53:53.839120Z",
     "iopub.status.idle": "2024-11-25T04:53:54.018247Z",
     "shell.execute_reply": "2024-11-25T04:53:54.017879Z"
    },
    "papermill": {
     "duration": 0.192926,
     "end_time": "2024-11-25T04:53:54.019176",
     "exception": false,
     "start_time": "2024-11-25T04:53:53.826250",
     "status": "completed"
    },
    "tags": []
   },
   "outputs": [],
   "source": [
    "# Save all artifacts needed for prediction\n",
    "catboost_predict = {\n",
    "    'models': trained_models,\n",
    "    'numerical_cols': numerical_cols,\n",
    "    'categorical_cols': categorical_cols,\n",
    "    'text_cols': text_cols,\n",
    "    'encoder': encoder, \n",
    "    'scaler': scaler\n",
    "}\n",
    "with open(f'./catboost_text_predict_{fs_type}.pkl', 'wb') as f:\n",
    "    pickle.dump(catboost_predict, f)"
   ]
  },
  {
   "cell_type": "markdown",
   "id": "0bf750ea",
   "metadata": {
    "papermill": {
     "duration": 0.013509,
     "end_time": "2024-11-25T04:53:54.046275",
     "exception": false,
     "start_time": "2024-11-25T04:53:54.032766",
     "status": "completed"
    },
    "tags": []
   },
   "source": [
    "***"
   ]
  }
 ],
 "metadata": {
  "kernelspec": {
   "display_name": "mcts-strength-variants-kSTIVMm8-py3.10",
   "language": "python",
   "name": "python3"
  },
  "language_info": {
   "codemirror_mode": {
    "name": "ipython",
    "version": 3
   },
   "file_extension": ".py",
   "mimetype": "text/x-python",
   "name": "python",
   "nbconvert_exporter": "python",
   "pygments_lexer": "ipython3",
   "version": "3.10.14"
  },
  "papermill": {
   "default_parameters": {},
   "duration": 1229.307527,
   "end_time": "2024-11-25T04:53:54.484102",
   "environment_variables": {},
   "exception": null,
   "input_path": "train/catboost.ipynb",
   "output_path": "train/catboost.ipynb",
   "parameters": {},
   "start_time": "2024-11-25T04:33:25.176575",
   "version": "2.6.0"
  }
 },
 "nbformat": 4,
 "nbformat_minor": 5
}
