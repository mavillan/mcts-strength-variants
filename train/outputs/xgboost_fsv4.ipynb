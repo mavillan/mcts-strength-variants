{
 "cells": [
  {
   "cell_type": "code",
   "execution_count": 1,
   "id": "5bc9957d",
   "metadata": {
    "execution": {
     "iopub.execute_input": "2024-11-28T00:58:05.341002Z",
     "iopub.status.busy": "2024-11-28T00:58:05.340755Z",
     "iopub.status.idle": "2024-11-28T00:58:06.100011Z",
     "shell.execute_reply": "2024-11-28T00:58:06.099729Z"
    },
    "papermill": {
     "duration": 0.772781,
     "end_time": "2024-11-28T00:58:06.100806",
     "exception": false,
     "start_time": "2024-11-28T00:58:05.328025",
     "status": "completed"
    },
    "tags": []
   },
   "outputs": [
    {
     "name": "stdout",
     "output_type": "stream",
     "text": [
      "xgb.__version__: 2.1.1\n"
     ]
    }
   ],
   "source": [
    "import numpy as np\n",
    "import pandas as pd\n",
    "import matplotlib.pyplot as plt\n",
    "from pathlib import Path\n",
    "import json\n",
    "import pickle\n",
    "\n",
    "import xgboost as xgb\n",
    "print(\"xgb.__version__:\", xgb.__version__)\n",
    "\n",
    "# local modules\n",
    "import sys\n",
    "sys.path.append(\"../src\")\n",
    "from preproc import process_train_data, process_test_data"
   ]
  },
  {
   "cell_type": "markdown",
   "id": "7e3cdb68",
   "metadata": {
    "papermill": {
     "duration": 0.001721,
     "end_time": "2024-11-28T00:58:06.104761",
     "exception": false,
     "start_time": "2024-11-28T00:58:06.103040",
     "status": "completed"
    },
    "tags": []
   },
   "source": [
    "***\n",
    "### load and preprocess data"
   ]
  },
  {
   "cell_type": "code",
   "execution_count": 2,
   "id": "adf69315",
   "metadata": {
    "execution": {
     "iopub.execute_input": "2024-11-28T00:58:06.108514Z",
     "iopub.status.busy": "2024-11-28T00:58:06.108369Z",
     "iopub.status.idle": "2024-11-28T00:58:12.124815Z",
     "shell.execute_reply": "2024-11-28T00:58:12.124563Z"
    },
    "papermill": {
     "duration": 6.019341,
     "end_time": "2024-11-28T00:58:12.125697",
     "exception": false,
     "start_time": "2024-11-28T00:58:06.106356",
     "status": "completed"
    },
    "tags": []
   },
   "outputs": [
    {
     "data": {
      "text/html": [
       "<div>\n",
       "<style scoped>\n",
       "    .dataframe tbody tr th:only-of-type {\n",
       "        vertical-align: middle;\n",
       "    }\n",
       "\n",
       "    .dataframe tbody tr th {\n",
       "        vertical-align: top;\n",
       "    }\n",
       "\n",
       "    .dataframe thead th {\n",
       "        text-align: right;\n",
       "    }\n",
       "</style>\n",
       "<table border=\"1\" class=\"dataframe\">\n",
       "  <thead>\n",
       "    <tr style=\"text-align: right;\">\n",
       "      <th></th>\n",
       "      <th>Id</th>\n",
       "      <th>GameRulesetName</th>\n",
       "      <th>agent1</th>\n",
       "      <th>agent2</th>\n",
       "      <th>Properties</th>\n",
       "      <th>Format</th>\n",
       "      <th>Time</th>\n",
       "      <th>Discrete</th>\n",
       "      <th>Realtime</th>\n",
       "      <th>Turns</th>\n",
       "      <th>...</th>\n",
       "      <th>DoLudeme</th>\n",
       "      <th>Trigger</th>\n",
       "      <th>PlayoutsPerSecond</th>\n",
       "      <th>MovesPerSecond</th>\n",
       "      <th>EnglishRules</th>\n",
       "      <th>LudRules</th>\n",
       "      <th>num_wins_agent1</th>\n",
       "      <th>num_draws_agent1</th>\n",
       "      <th>num_losses_agent1</th>\n",
       "      <th>utility_agent1</th>\n",
       "    </tr>\n",
       "  </thead>\n",
       "  <tbody>\n",
       "    <tr>\n",
       "      <th>0</th>\n",
       "      <td>0</td>\n",
       "      <td>00Y</td>\n",
       "      <td>MCTS-ProgressiveHistory-0.1-MAST-false</td>\n",
       "      <td>MCTS-ProgressiveHistory-0.6-Random200-false</td>\n",
       "      <td>1</td>\n",
       "      <td>1</td>\n",
       "      <td>1</td>\n",
       "      <td>1</td>\n",
       "      <td>0</td>\n",
       "      <td>1</td>\n",
       "      <td>...</td>\n",
       "      <td>0</td>\n",
       "      <td>1</td>\n",
       "      <td>298.07</td>\n",
       "      <td>18877.17</td>\n",
       "      <td>Goal: Connect all three edge colors with a sin...</td>\n",
       "      <td>(game \"00'Y'\" (players 2) (equipment { (board ...</td>\n",
       "      <td>4</td>\n",
       "      <td>0</td>\n",
       "      <td>11</td>\n",
       "      <td>-0.466667</td>\n",
       "    </tr>\n",
       "    <tr>\n",
       "      <th>1</th>\n",
       "      <td>1</td>\n",
       "      <td>00Y</td>\n",
       "      <td>MCTS-ProgressiveHistory-0.1-MAST-false</td>\n",
       "      <td>MCTS-UCB1GRAVE-0.6-NST-true</td>\n",
       "      <td>1</td>\n",
       "      <td>1</td>\n",
       "      <td>1</td>\n",
       "      <td>1</td>\n",
       "      <td>0</td>\n",
       "      <td>1</td>\n",
       "      <td>...</td>\n",
       "      <td>0</td>\n",
       "      <td>1</td>\n",
       "      <td>298.07</td>\n",
       "      <td>18877.17</td>\n",
       "      <td>Goal: Connect all three edge colors with a sin...</td>\n",
       "      <td>(game \"00'Y'\" (players 2) (equipment { (board ...</td>\n",
       "      <td>5</td>\n",
       "      <td>0</td>\n",
       "      <td>10</td>\n",
       "      <td>-0.333333</td>\n",
       "    </tr>\n",
       "    <tr>\n",
       "      <th>2</th>\n",
       "      <td>2</td>\n",
       "      <td>00Y</td>\n",
       "      <td>MCTS-ProgressiveHistory-0.1-MAST-true</td>\n",
       "      <td>MCTS-UCB1-0.1-NST-false</td>\n",
       "      <td>1</td>\n",
       "      <td>1</td>\n",
       "      <td>1</td>\n",
       "      <td>1</td>\n",
       "      <td>0</td>\n",
       "      <td>1</td>\n",
       "      <td>...</td>\n",
       "      <td>0</td>\n",
       "      <td>1</td>\n",
       "      <td>298.07</td>\n",
       "      <td>18877.17</td>\n",
       "      <td>Goal: Connect all three edge colors with a sin...</td>\n",
       "      <td>(game \"00'Y'\" (players 2) (equipment { (board ...</td>\n",
       "      <td>7</td>\n",
       "      <td>0</td>\n",
       "      <td>8</td>\n",
       "      <td>-0.066667</td>\n",
       "    </tr>\n",
       "    <tr>\n",
       "      <th>3</th>\n",
       "      <td>3</td>\n",
       "      <td>00Y</td>\n",
       "      <td>MCTS-ProgressiveHistory-0.1-MAST-true</td>\n",
       "      <td>MCTS-UCB1-0.6-NST-false</td>\n",
       "      <td>1</td>\n",
       "      <td>1</td>\n",
       "      <td>1</td>\n",
       "      <td>1</td>\n",
       "      <td>0</td>\n",
       "      <td>1</td>\n",
       "      <td>...</td>\n",
       "      <td>0</td>\n",
       "      <td>1</td>\n",
       "      <td>298.07</td>\n",
       "      <td>18877.17</td>\n",
       "      <td>Goal: Connect all three edge colors with a sin...</td>\n",
       "      <td>(game \"00'Y'\" (players 2) (equipment { (board ...</td>\n",
       "      <td>5</td>\n",
       "      <td>0</td>\n",
       "      <td>10</td>\n",
       "      <td>-0.333333</td>\n",
       "    </tr>\n",
       "    <tr>\n",
       "      <th>4</th>\n",
       "      <td>4</td>\n",
       "      <td>00Y</td>\n",
       "      <td>MCTS-ProgressiveHistory-0.1-MAST-true</td>\n",
       "      <td>MCTS-UCB1GRAVE-1.41421356237-NST-false</td>\n",
       "      <td>1</td>\n",
       "      <td>1</td>\n",
       "      <td>1</td>\n",
       "      <td>1</td>\n",
       "      <td>0</td>\n",
       "      <td>1</td>\n",
       "      <td>...</td>\n",
       "      <td>0</td>\n",
       "      <td>1</td>\n",
       "      <td>298.07</td>\n",
       "      <td>18877.17</td>\n",
       "      <td>Goal: Connect all three edge colors with a sin...</td>\n",
       "      <td>(game \"00'Y'\" (players 2) (equipment { (board ...</td>\n",
       "      <td>5</td>\n",
       "      <td>0</td>\n",
       "      <td>10</td>\n",
       "      <td>-0.333333</td>\n",
       "    </tr>\n",
       "    <tr>\n",
       "      <th>...</th>\n",
       "      <td>...</td>\n",
       "      <td>...</td>\n",
       "      <td>...</td>\n",
       "      <td>...</td>\n",
       "      <td>...</td>\n",
       "      <td>...</td>\n",
       "      <td>...</td>\n",
       "      <td>...</td>\n",
       "      <td>...</td>\n",
       "      <td>...</td>\n",
       "      <td>...</td>\n",
       "      <td>...</td>\n",
       "      <td>...</td>\n",
       "      <td>...</td>\n",
       "      <td>...</td>\n",
       "      <td>...</td>\n",
       "      <td>...</td>\n",
       "      <td>...</td>\n",
       "      <td>...</td>\n",
       "      <td>...</td>\n",
       "      <td>...</td>\n",
       "    </tr>\n",
       "    <tr>\n",
       "      <th>233229</th>\n",
       "      <td>233229</td>\n",
       "      <td>Zuz_Mel_7x7</td>\n",
       "      <td>MCTS-UCB1Tuned-1.41421356237-NST-false</td>\n",
       "      <td>MCTS-ProgressiveHistory-1.41421356237-Random20...</td>\n",
       "      <td>1</td>\n",
       "      <td>1</td>\n",
       "      <td>1</td>\n",
       "      <td>1</td>\n",
       "      <td>0</td>\n",
       "      <td>1</td>\n",
       "      <td>...</td>\n",
       "      <td>0</td>\n",
       "      <td>0</td>\n",
       "      <td>157.52</td>\n",
       "      <td>157174.58</td>\n",
       "      <td>7x7 board. 24 pieces per player. Pieces begin ...</td>\n",
       "      <td>(game \"Zuz Mel (7x7)\" (players 2) (equipment {...</td>\n",
       "      <td>2</td>\n",
       "      <td>0</td>\n",
       "      <td>13</td>\n",
       "      <td>-0.733333</td>\n",
       "    </tr>\n",
       "    <tr>\n",
       "      <th>233230</th>\n",
       "      <td>233230</td>\n",
       "      <td>Zuz_Mel_7x7</td>\n",
       "      <td>MCTS-UCB1Tuned-1.41421356237-Random200-false</td>\n",
       "      <td>MCTS-UCB1-0.6-MAST-false</td>\n",
       "      <td>1</td>\n",
       "      <td>1</td>\n",
       "      <td>1</td>\n",
       "      <td>1</td>\n",
       "      <td>0</td>\n",
       "      <td>1</td>\n",
       "      <td>...</td>\n",
       "      <td>0</td>\n",
       "      <td>0</td>\n",
       "      <td>157.52</td>\n",
       "      <td>157174.58</td>\n",
       "      <td>7x7 board. 24 pieces per player. Pieces begin ...</td>\n",
       "      <td>(game \"Zuz Mel (7x7)\" (players 2) (equipment {...</td>\n",
       "      <td>9</td>\n",
       "      <td>1</td>\n",
       "      <td>5</td>\n",
       "      <td>0.266667</td>\n",
       "    </tr>\n",
       "    <tr>\n",
       "      <th>233231</th>\n",
       "      <td>233231</td>\n",
       "      <td>Zuz_Mel_7x7</td>\n",
       "      <td>MCTS-UCB1Tuned-1.41421356237-Random200-false</td>\n",
       "      <td>MCTS-UCB1GRAVE-1.41421356237-NST-false</td>\n",
       "      <td>1</td>\n",
       "      <td>1</td>\n",
       "      <td>1</td>\n",
       "      <td>1</td>\n",
       "      <td>0</td>\n",
       "      <td>1</td>\n",
       "      <td>...</td>\n",
       "      <td>0</td>\n",
       "      <td>0</td>\n",
       "      <td>157.52</td>\n",
       "      <td>157174.58</td>\n",
       "      <td>7x7 board. 24 pieces per player. Pieces begin ...</td>\n",
       "      <td>(game \"Zuz Mel (7x7)\" (players 2) (equipment {...</td>\n",
       "      <td>11</td>\n",
       "      <td>3</td>\n",
       "      <td>1</td>\n",
       "      <td>0.666667</td>\n",
       "    </tr>\n",
       "    <tr>\n",
       "      <th>233232</th>\n",
       "      <td>233232</td>\n",
       "      <td>Zuz_Mel_7x7</td>\n",
       "      <td>MCTS-UCB1Tuned-1.41421356237-Random200-false</td>\n",
       "      <td>MCTS-UCB1GRAVE-1.41421356237-NST-true</td>\n",
       "      <td>1</td>\n",
       "      <td>1</td>\n",
       "      <td>1</td>\n",
       "      <td>1</td>\n",
       "      <td>0</td>\n",
       "      <td>1</td>\n",
       "      <td>...</td>\n",
       "      <td>0</td>\n",
       "      <td>0</td>\n",
       "      <td>157.52</td>\n",
       "      <td>157174.58</td>\n",
       "      <td>7x7 board. 24 pieces per player. Pieces begin ...</td>\n",
       "      <td>(game \"Zuz Mel (7x7)\" (players 2) (equipment {...</td>\n",
       "      <td>24</td>\n",
       "      <td>2</td>\n",
       "      <td>4</td>\n",
       "      <td>0.666667</td>\n",
       "    </tr>\n",
       "    <tr>\n",
       "      <th>233233</th>\n",
       "      <td>233233</td>\n",
       "      <td>Zuz_Mel_7x7</td>\n",
       "      <td>MCTS-UCB1Tuned-1.41421356237-Random200-true</td>\n",
       "      <td>MCTS-UCB1Tuned-0.6-MAST-false</td>\n",
       "      <td>1</td>\n",
       "      <td>1</td>\n",
       "      <td>1</td>\n",
       "      <td>1</td>\n",
       "      <td>0</td>\n",
       "      <td>1</td>\n",
       "      <td>...</td>\n",
       "      <td>0</td>\n",
       "      <td>0</td>\n",
       "      <td>157.52</td>\n",
       "      <td>157174.58</td>\n",
       "      <td>7x7 board. 24 pieces per player. Pieces begin ...</td>\n",
       "      <td>(game \"Zuz Mel (7x7)\" (players 2) (equipment {...</td>\n",
       "      <td>9</td>\n",
       "      <td>1</td>\n",
       "      <td>5</td>\n",
       "      <td>0.266667</td>\n",
       "    </tr>\n",
       "  </tbody>\n",
       "</table>\n",
       "<p>233234 rows × 814 columns</p>\n",
       "</div>"
      ],
      "text/plain": [
       "            Id GameRulesetName                                        agent1  \\\n",
       "0            0             00Y        MCTS-ProgressiveHistory-0.1-MAST-false   \n",
       "1            1             00Y        MCTS-ProgressiveHistory-0.1-MAST-false   \n",
       "2            2             00Y         MCTS-ProgressiveHistory-0.1-MAST-true   \n",
       "3            3             00Y         MCTS-ProgressiveHistory-0.1-MAST-true   \n",
       "4            4             00Y         MCTS-ProgressiveHistory-0.1-MAST-true   \n",
       "...        ...             ...                                           ...   \n",
       "233229  233229     Zuz_Mel_7x7        MCTS-UCB1Tuned-1.41421356237-NST-false   \n",
       "233230  233230     Zuz_Mel_7x7  MCTS-UCB1Tuned-1.41421356237-Random200-false   \n",
       "233231  233231     Zuz_Mel_7x7  MCTS-UCB1Tuned-1.41421356237-Random200-false   \n",
       "233232  233232     Zuz_Mel_7x7  MCTS-UCB1Tuned-1.41421356237-Random200-false   \n",
       "233233  233233     Zuz_Mel_7x7   MCTS-UCB1Tuned-1.41421356237-Random200-true   \n",
       "\n",
       "                                                   agent2  Properties  Format  \\\n",
       "0             MCTS-ProgressiveHistory-0.6-Random200-false           1       1   \n",
       "1                             MCTS-UCB1GRAVE-0.6-NST-true           1       1   \n",
       "2                                 MCTS-UCB1-0.1-NST-false           1       1   \n",
       "3                                 MCTS-UCB1-0.6-NST-false           1       1   \n",
       "4                  MCTS-UCB1GRAVE-1.41421356237-NST-false           1       1   \n",
       "...                                                   ...         ...     ...   \n",
       "233229  MCTS-ProgressiveHistory-1.41421356237-Random20...           1       1   \n",
       "233230                           MCTS-UCB1-0.6-MAST-false           1       1   \n",
       "233231             MCTS-UCB1GRAVE-1.41421356237-NST-false           1       1   \n",
       "233232              MCTS-UCB1GRAVE-1.41421356237-NST-true           1       1   \n",
       "233233                      MCTS-UCB1Tuned-0.6-MAST-false           1       1   \n",
       "\n",
       "        Time  Discrete  Realtime  Turns  ...  DoLudeme  Trigger  \\\n",
       "0          1         1         0      1  ...         0        1   \n",
       "1          1         1         0      1  ...         0        1   \n",
       "2          1         1         0      1  ...         0        1   \n",
       "3          1         1         0      1  ...         0        1   \n",
       "4          1         1         0      1  ...         0        1   \n",
       "...      ...       ...       ...    ...  ...       ...      ...   \n",
       "233229     1         1         0      1  ...         0        0   \n",
       "233230     1         1         0      1  ...         0        0   \n",
       "233231     1         1         0      1  ...         0        0   \n",
       "233232     1         1         0      1  ...         0        0   \n",
       "233233     1         1         0      1  ...         0        0   \n",
       "\n",
       "        PlayoutsPerSecond  MovesPerSecond  \\\n",
       "0                  298.07        18877.17   \n",
       "1                  298.07        18877.17   \n",
       "2                  298.07        18877.17   \n",
       "3                  298.07        18877.17   \n",
       "4                  298.07        18877.17   \n",
       "...                   ...             ...   \n",
       "233229             157.52       157174.58   \n",
       "233230             157.52       157174.58   \n",
       "233231             157.52       157174.58   \n",
       "233232             157.52       157174.58   \n",
       "233233             157.52       157174.58   \n",
       "\n",
       "                                             EnglishRules  \\\n",
       "0       Goal: Connect all three edge colors with a sin...   \n",
       "1       Goal: Connect all three edge colors with a sin...   \n",
       "2       Goal: Connect all three edge colors with a sin...   \n",
       "3       Goal: Connect all three edge colors with a sin...   \n",
       "4       Goal: Connect all three edge colors with a sin...   \n",
       "...                                                   ...   \n",
       "233229  7x7 board. 24 pieces per player. Pieces begin ...   \n",
       "233230  7x7 board. 24 pieces per player. Pieces begin ...   \n",
       "233231  7x7 board. 24 pieces per player. Pieces begin ...   \n",
       "233232  7x7 board. 24 pieces per player. Pieces begin ...   \n",
       "233233  7x7 board. 24 pieces per player. Pieces begin ...   \n",
       "\n",
       "                                                 LudRules  num_wins_agent1  \\\n",
       "0       (game \"00'Y'\" (players 2) (equipment { (board ...                4   \n",
       "1       (game \"00'Y'\" (players 2) (equipment { (board ...                5   \n",
       "2       (game \"00'Y'\" (players 2) (equipment { (board ...                7   \n",
       "3       (game \"00'Y'\" (players 2) (equipment { (board ...                5   \n",
       "4       (game \"00'Y'\" (players 2) (equipment { (board ...                5   \n",
       "...                                                   ...              ...   \n",
       "233229  (game \"Zuz Mel (7x7)\" (players 2) (equipment {...                2   \n",
       "233230  (game \"Zuz Mel (7x7)\" (players 2) (equipment {...                9   \n",
       "233231  (game \"Zuz Mel (7x7)\" (players 2) (equipment {...               11   \n",
       "233232  (game \"Zuz Mel (7x7)\" (players 2) (equipment {...               24   \n",
       "233233  (game \"Zuz Mel (7x7)\" (players 2) (equipment {...                9   \n",
       "\n",
       "        num_draws_agent1  num_losses_agent1  utility_agent1  \n",
       "0                      0                 11       -0.466667  \n",
       "1                      0                 10       -0.333333  \n",
       "2                      0                  8       -0.066667  \n",
       "3                      0                 10       -0.333333  \n",
       "4                      0                 10       -0.333333  \n",
       "...                  ...                ...             ...  \n",
       "233229                 0                 13       -0.733333  \n",
       "233230                 1                  5        0.266667  \n",
       "233231                 3                  1        0.666667  \n",
       "233232                 2                  4        0.666667  \n",
       "233233                 1                  5        0.266667  \n",
       "\n",
       "[233234 rows x 814 columns]"
      ]
     },
     "execution_count": 2,
     "metadata": {},
     "output_type": "execute_result"
    }
   ],
   "source": [
    "# define some paths\n",
    "path_raw = Path(\"../data/raw\")\n",
    "path_processed = Path(\"../data/processed\")\n",
    "path_results = Path(\"../data/results\")\n",
    "\n",
    "# load data\n",
    "df_train = pd.read_csv(path_raw / \"train.csv\")\n",
    "df_test = pd.read_csv(path_raw / \"test.csv\")\n",
    "\n",
    "df_train"
   ]
  },
  {
   "cell_type": "code",
   "execution_count": 3,
   "id": "c3045804",
   "metadata": {
    "execution": {
     "iopub.execute_input": "2024-11-28T00:58:12.130435Z",
     "iopub.status.busy": "2024-11-28T00:58:12.130317Z",
     "iopub.status.idle": "2024-11-28T00:58:12.132018Z",
     "shell.execute_reply": "2024-11-28T00:58:12.131802Z"
    },
    "papermill": {
     "duration": 0.004796,
     "end_time": "2024-11-28T00:58:12.132736",
     "exception": false,
     "start_time": "2024-11-28T00:58:12.127940",
     "status": "completed"
    },
    "tags": [
     "parameters"
    ]
   },
   "outputs": [],
   "source": [
    "# input parameters\n",
    "fs_type = 'fsv24'\n",
    "train_type = \"small\""
   ]
  },
  {
   "cell_type": "code",
   "execution_count": 4,
   "id": "b34349c4",
   "metadata": {
    "execution": {
     "iopub.execute_input": "2024-11-28T00:58:12.137488Z",
     "iopub.status.busy": "2024-11-28T00:58:12.137343Z",
     "iopub.status.idle": "2024-11-28T00:58:12.138830Z",
     "shell.execute_reply": "2024-11-28T00:58:12.138606Z"
    },
    "papermill": {
     "duration": 0.004712,
     "end_time": "2024-11-28T00:58:12.139573",
     "exception": false,
     "start_time": "2024-11-28T00:58:12.134861",
     "status": "completed"
    },
    "tags": [
     "injected-parameters"
    ]
   },
   "outputs": [],
   "source": [
    "# Parameters\n",
    "fs_type = \"fsv4\"\n"
   ]
  },
  {
   "cell_type": "code",
   "execution_count": 5,
   "id": "84edb17d",
   "metadata": {
    "execution": {
     "iopub.execute_input": "2024-11-28T00:58:12.144489Z",
     "iopub.status.busy": "2024-11-28T00:58:12.144296Z",
     "iopub.status.idle": "2024-11-28T00:58:12.147749Z",
     "shell.execute_reply": "2024-11-28T00:58:12.147515Z"
    },
    "papermill": {
     "duration": 0.006444,
     "end_time": "2024-11-28T00:58:12.148419",
     "exception": false,
     "start_time": "2024-11-28T00:58:12.141975",
     "status": "completed"
    },
    "tags": []
   },
   "outputs": [
    {
     "name": "stdout",
     "output_type": "stream",
     "text": [
      "Numerical features: 287\n",
      "Categorical features: 6\n",
      "Text features: 0\n"
     ]
    }
   ],
   "source": [
    "# Load the feature selection results\n",
    "fs_mapping = {\n",
    "    \"full\": None,\n",
    "    \"fsv2\": '../feat_selection/select_optuna_lgbm_v2.json',\n",
    "    \"fsv3\": '../feat_selection/select_optuna_catb.json',\n",
    "    \"fsv4\": '../feat_selection/select_optuna_lgbm_v3.json',\n",
    "    \"fsv23\": '../feat_selection/select_optuna_combined_v23.json',\n",
    "    \"fsv24\": '../feat_selection/select_optuna_combined_v24.json',\n",
    "    \"fsv34\": '../feat_selection/select_optuna_combined_v34.json',\n",
    "    \"int95\": '../feat_selection/feat_selection_intersection_at_95.json',\n",
    "    \"int96\": '../feat_selection/feat_selection_intersection_at_96.json',\n",
    "    \"int97\": '../feat_selection/feat_selection_intersection_at_97.json',\n",
    "    \"int98\": '../feat_selection/feat_selection_intersection_at_98.json',\n",
    "    \"int99\": '../feat_selection/feat_selection_intersection_at_99.json',\n",
    "    \"uni80\": '../feat_selection/feat_selection_union_at_80.json',\n",
    "    \"uni85\": '../feat_selection/feat_selection_union_at_85.json',\n",
    "    \"uni90\": '../feat_selection/feat_selection_union_at_90.json',\n",
    "    \"uni95\": '../feat_selection/feat_selection_union_at_95.json',\n",
    "}\n",
    "\n",
    "fs_path = fs_mapping[fs_type]\n",
    "\n",
    "if fs_path is None:\n",
    "    feature_selection = dict()\n",
    "else:\n",
    "    with open(fs_path, 'r') as f:\n",
    "        feature_selection = json.load(f)\n",
    "\n",
    "# Extract the selected features\n",
    "numerical_cols = feature_selection.get('numerical', None)\n",
    "categorical_cols = feature_selection.get('categorical', None)\n",
    "\n",
    "# text_cols = [\"LudRules\",]\n",
    "text_cols = list()\n",
    "\n",
    "print(\"Numerical features:\", len(numerical_cols) if numerical_cols else 0)\n",
    "print(\"Categorical features:\", len(categorical_cols) if categorical_cols else 0)\n",
    "print(\"Text features:\", len(text_cols) if text_cols else 0)"
   ]
  },
  {
   "cell_type": "code",
   "execution_count": 6,
   "id": "285296ed",
   "metadata": {
    "execution": {
     "iopub.execute_input": "2024-11-28T00:58:12.153142Z",
     "iopub.status.busy": "2024-11-28T00:58:12.153040Z",
     "iopub.status.idle": "2024-11-28T00:58:14.163104Z",
     "shell.execute_reply": "2024-11-28T00:58:14.162794Z"
    },
    "papermill": {
     "duration": 2.013169,
     "end_time": "2024-11-28T00:58:14.163921",
     "exception": false,
     "start_time": "2024-11-28T00:58:12.150752",
     "status": "completed"
    },
    "tags": []
   },
   "outputs": [
    {
     "name": "stdout",
     "output_type": "stream",
     "text": [
      "number of all nan cols:  0\n"
     ]
    },
    {
     "name": "stdout",
     "output_type": "stream",
     "text": [
      "number of constant cols:  0\n"
     ]
    },
    {
     "name": "stdout",
     "output_type": "stream",
     "text": [
      "Numerical Columns: 359\n",
      "Categorical Columns: 6\n"
     ]
    }
   ],
   "source": [
    "df_train, numerical_cols, categorical_cols, encoder, scaler = process_train_data(\n",
    "    df_train,\n",
    "    scale=False,\n",
    "    numerical_cols=numerical_cols,\n",
    "    categorical_cols=categorical_cols,\n",
    "    include_position_features=True,\n",
    "    include_text_features=False,\n",
    ")\n",
    "\n",
    "# Print the results\n",
    "print(\"Numerical Columns:\", len(numerical_cols))\n",
    "print(\"Categorical Columns:\", len(categorical_cols))"
   ]
  },
  {
   "cell_type": "code",
   "execution_count": 7,
   "id": "3fd7abf2",
   "metadata": {
    "execution": {
     "iopub.execute_input": "2024-11-28T00:58:14.169253Z",
     "iopub.status.busy": "2024-11-28T00:58:14.169138Z",
     "iopub.status.idle": "2024-11-28T00:58:14.292937Z",
     "shell.execute_reply": "2024-11-28T00:58:14.292659Z"
    },
    "papermill": {
     "duration": 0.127487,
     "end_time": "2024-11-28T00:58:14.293702",
     "exception": false,
     "start_time": "2024-11-28T00:58:14.166215",
     "status": "completed"
    },
    "tags": []
   },
   "outputs": [
    {
     "data": {
      "image/png": "[encoded data removed]",
      "text/plain": [
       "<Figure size 640x480 with 1 Axes>"
      ]
     },
     "metadata": {},
     "output_type": "display_data"
    }
   ],
   "source": [
    "plt.hist(df_train['utility_agent1'], bins=100)\n",
    "plt.title('Distribution of Target Variable')\n",
    "plt.xlabel('Utility Agent 1')\n",
    "plt.ylabel('Frequency')\n",
    "plt.show()"
   ]
  },
  {
   "cell_type": "code",
   "execution_count": 8,
   "id": "41ae3805",
   "metadata": {
    "execution": {
     "iopub.execute_input": "2024-11-28T00:58:14.299248Z",
     "iopub.status.busy": "2024-11-28T00:58:14.299055Z",
     "iopub.status.idle": "2024-11-28T00:58:14.310431Z",
     "shell.execute_reply": "2024-11-28T00:58:14.310133Z"
    },
    "papermill": {
     "duration": 0.014862,
     "end_time": "2024-11-28T00:58:14.311186",
     "exception": false,
     "start_time": "2024-11-28T00:58:14.296324",
     "status": "completed"
    },
    "tags": []
   },
   "outputs": [],
   "source": [
    "split1 = pickle.load(open('../data/splits/cv1_Game.pkl', 'rb'))\n",
    "split2 = pickle.load(open('../data/splits/cv2_Game.pkl', 'rb'))\n",
    "split3 = pickle.load(open('../data/splits/cv3_Game.pkl', 'rb'))\n",
    "\n",
    "# split1 = pickle.load(open('../data/splits/cv1_GameRulesetName.pkl', 'rb'))\n",
    "# split2 = pickle.load(open('../data/splits/cv2_GameRulesetName.pkl', 'rb'))\n",
    "# split3 = pickle.load(open('../data/splits/cv3_GameRulesetName.pkl', 'rb'))"
   ]
  },
  {
   "cell_type": "markdown",
   "id": "02d53ba1",
   "metadata": {
    "papermill": {
     "duration": 0.002066,
     "end_time": "2024-11-28T00:58:14.315663",
     "exception": false,
     "start_time": "2024-11-28T00:58:14.313597",
     "status": "completed"
    },
    "tags": []
   },
   "source": [
    "***\n",
    "### train model\n"
   ]
  },
  {
   "cell_type": "code",
   "execution_count": 9,
   "id": "48d7bac0",
   "metadata": {
    "execution": {
     "iopub.execute_input": "2024-11-28T00:58:14.320462Z",
     "iopub.status.busy": "2024-11-28T00:58:14.320335Z",
     "iopub.status.idle": "2024-11-28T00:58:14.322631Z",
     "shell.execute_reply": "2024-11-28T00:58:14.322407Z"
    },
    "papermill": {
     "duration": 0.005421,
     "end_time": "2024-11-28T00:58:14.323279",
     "exception": false,
     "start_time": "2024-11-28T00:58:14.317858",
     "status": "completed"
    },
    "tags": []
   },
   "outputs": [
    {
     "name": "stdout",
     "output_type": "stream",
     "text": [
      "0.03 2500\n"
     ]
    }
   ],
   "source": [
    "if train_type == \"small\":\n",
    "    LEARNING_RATE = 0.03\n",
    "    NUM_BOOST_ROUND = 2500\n",
    "elif train_type == \"medium\":\n",
    "    LEARNING_RATE = 0.01\n",
    "    NUM_BOOST_ROUND = 5000\n",
    "elif train_type == \"large\":\n",
    "    LEARNING_RATE = 0.005\n",
    "    NUM_BOOST_ROUND = 10_000\n",
    "elif train_type == \"xlarge\":\n",
    "    LEARNING_RATE = 0.001\n",
    "    NUM_BOOST_ROUND = 20_000\n",
    "\n",
    "\n",
    "print(LEARNING_RATE, NUM_BOOST_ROUND)"
   ]
  },
  {
   "cell_type": "code",
   "execution_count": 10,
   "id": "c7646448",
   "metadata": {
    "execution": {
     "iopub.execute_input": "2024-11-28T00:58:14.328019Z",
     "iopub.status.busy": "2024-11-28T00:58:14.327896Z",
     "iopub.status.idle": "2024-11-28T00:58:14.333561Z",
     "shell.execute_reply": "2024-11-28T00:58:14.333351Z"
    },
    "papermill": {
     "duration": 0.008795,
     "end_time": "2024-11-28T00:58:14.334227",
     "exception": false,
     "start_time": "2024-11-28T00:58:14.325432",
     "status": "completed"
    },
    "tags": []
   },
   "outputs": [],
   "source": [
    "def train_models(\n",
    "        df_train,\n",
    "        target,\n",
    "        numerical_cols,\n",
    "        categorical_cols,\n",
    "        split_list=None\n",
    "    ):\n",
    "    # Define the parameters\n",
    "    params = {\n",
    "        'objective': \"reg:squarederror\",\n",
    "        'eval_metric': 'rmse',\n",
    "        'max_depth': 8,\n",
    "        'max_bin': 128,\n",
    "        'learning_rate': LEARNING_RATE,\n",
    "        'alpha': 0.1,\n",
    "        'colsample_bytree': 0.5,\n",
    "        'subsample': 0.8,\n",
    "        'min_child_weight': 10,\n",
    "        'seed': 2112,\n",
    "        'verbosity': 0,\n",
    "    }\n",
    "\n",
    "    trained_models = []\n",
    "    oof = pd.DataFrame(\n",
    "        index=df_train.index,\n",
    "        columns=[f'{target}_true', f'{target}_pred', 'fold']\n",
    "    )\n",
    "    oof_scores = []\n",
    "    feat_importance_dfs = []\n",
    "\n",
    "    # Perform cross-validation\n",
    "    for fold, (train_index, val_index) in enumerate(split_list, 1):\n",
    "        print(f\"Fold {fold}\")\n",
    "        \n",
    "        # Split the data\n",
    "        X_train, X_val = df_train.iloc[train_index], df_train.iloc[val_index]\n",
    "        y_train, y_val = X_train[target], X_val[target]\n",
    "\n",
    "        feature_types = [\n",
    "            \"c\" if col in categorical_cols else \"q\" \n",
    "            for col in numerical_cols + categorical_cols\n",
    "        ]\n",
    "        \n",
    "        # Convert to DMatrix format\n",
    "        train_data = xgb.DMatrix(\n",
    "            data=X_train[numerical_cols + categorical_cols],\n",
    "            label=y_train,\n",
    "            feature_types=feature_types,\n",
    "            enable_categorical=True,\n",
    "            feature_names=numerical_cols + categorical_cols\n",
    "        )\n",
    "        val_data = xgb.DMatrix(\n",
    "            data=X_val[numerical_cols + categorical_cols],\n",
    "            label=y_val,\n",
    "            feature_types=feature_types,\n",
    "            enable_categorical=True,\n",
    "            feature_names=numerical_cols + categorical_cols\n",
    "        )\n",
    "\n",
    "        # Train the model\n",
    "        model = xgb.train(\n",
    "            params,\n",
    "            train_data,\n",
    "            num_boost_round=NUM_BOOST_ROUND,\n",
    "            evals=[(val_data, 'val')],\n",
    "            verbose_eval=100,\n",
    "        )\n",
    "        \n",
    "        # Get feature importance\n",
    "        importance_dict = model.get_score(importance_type='gain')\n",
    "        feat_importance = pd.DataFrame(\n",
    "            {'feature': list(importance_dict.keys()),\n",
    "             f'importance_f{fold}': list(importance_dict.values())}\n",
    "        )\n",
    "        feat_importance_dfs.append(feat_importance)\n",
    "        \n",
    "        # Save the trained model to the list\n",
    "        trained_models.append(model)\n",
    "\n",
    "        # predict on validation set\n",
    "        y_pred = model.predict(val_data)\n",
    "\n",
    "        # Save out-of-fold predictions\n",
    "        oof.loc[val_index, f'{target}_true'] = y_val\n",
    "        oof.loc[val_index, f'{target}_pred'] = y_pred\n",
    "        oof.loc[val_index, 'fold'] = fold\n",
    "\n",
    "        # Compute RMSE\n",
    "        y_pred = np.clip(y_pred, -1, 1)\n",
    "        rmse = np.sqrt(np.mean((y_pred - y_val) ** 2))\n",
    "        print(f\"Fold {fold} - RMSE: {rmse}\")\n",
    "\n",
    "        # Save RMSE to the list\n",
    "        oof_scores.append(rmse)\n",
    "\n",
    "    # Combine feature importance dataframes\n",
    "    importance_df = feat_importance_dfs[0]\n",
    "    for df in feat_importance_dfs[1:]:\n",
    "        importance_df = importance_df.merge(df, on='feature')\n",
    "    \n",
    "    # Calculate mean importance across folds\n",
    "    importance_cols = [col for col in importance_df.columns if col.startswith('importance_f')]\n",
    "    importance_df['importance_mean'] = importance_df[importance_cols].mean(axis=1)\n",
    "    importance_df = importance_df.sort_values('importance_mean', ascending=False, ignore_index=True)\n",
    "    importance_df['importance_relative'] = (\n",
    "        importance_df['importance_mean'] / \n",
    "        importance_df['importance_mean'].sum()\n",
    "    )\n",
    "\n",
    "    # Print the list of oof scores and average oof score\n",
    "    print(\"List of oof scores:\", oof_scores)\n",
    "    print(\"Average oof score:\", np.mean(oof_scores))\n",
    "\n",
    "    return trained_models, oof, oof_scores, importance_df"
   ]
  },
  {
   "cell_type": "code",
   "execution_count": 11,
   "id": "497cba0e",
   "metadata": {
    "execution": {
     "iopub.execute_input": "2024-11-28T00:58:14.338876Z",
     "iopub.status.busy": "2024-11-28T00:58:14.338777Z",
     "iopub.status.idle": "2024-11-28T01:02:17.783713Z",
     "shell.execute_reply": "2024-11-28T01:02:17.783361Z"
    },
    "papermill": {
     "duration": 243.448198,
     "end_time": "2024-11-28T01:02:17.784552",
     "exception": false,
     "start_time": "2024-11-28T00:58:14.336354",
     "status": "completed"
    },
    "tags": []
   },
   "outputs": [
    {
     "name": "stdout",
     "output_type": "stream",
     "text": [
      "Fold 1\n"
     ]
    },
    {
     "name": "stdout",
     "output_type": "stream",
     "text": [
      "[0]\tval-rmse:0.55315\n"
     ]
    },
    {
     "name": "stdout",
     "output_type": "stream",
     "text": [
      "[100]\tval-rmse:0.46490\n"
     ]
    },
    {
     "name": "stdout",
     "output_type": "stream",
     "text": [
      "[200]\tval-rmse:0.44505\n"
     ]
    },
    {
     "name": "stdout",
     "output_type": "stream",
     "text": [
      "[300]\tval-rmse:0.43727\n"
     ]
    },
    {
     "name": "stdout",
     "output_type": "stream",
     "text": [
      "[400]\tval-rmse:0.43231\n"
     ]
    },
    {
     "name": "stdout",
     "output_type": "stream",
     "text": [
      "[500]\tval-rmse:0.42914\n"
     ]
    },
    {
     "name": "stdout",
     "output_type": "stream",
     "text": [
      "[600]\tval-rmse:0.42703\n"
     ]
    },
    {
     "name": "stdout",
     "output_type": "stream",
     "text": [
      "[700]\tval-rmse:0.42599\n"
     ]
    },
    {
     "name": "stdout",
     "output_type": "stream",
     "text": [
      "[800]\tval-rmse:0.42497\n"
     ]
    },
    {
     "name": "stdout",
     "output_type": "stream",
     "text": [
      "[900]\tval-rmse:0.42421\n"
     ]
    },
    {
     "name": "stdout",
     "output_type": "stream",
     "text": [
      "[1000]\tval-rmse:0.42368\n"
     ]
    },
    {
     "name": "stdout",
     "output_type": "stream",
     "text": [
      "[1100]\tval-rmse:0.42316\n"
     ]
    },
    {
     "name": "stdout",
     "output_type": "stream",
     "text": [
      "[1200]\tval-rmse:0.42283\n"
     ]
    },
    {
     "name": "stdout",
     "output_type": "stream",
     "text": [
      "[1300]\tval-rmse:0.42249\n"
     ]
    },
    {
     "name": "stdout",
     "output_type": "stream",
     "text": [
      "[1400]\tval-rmse:0.42231\n"
     ]
    },
    {
     "name": "stdout",
     "output_type": "stream",
     "text": [
      "[1500]\tval-rmse:0.42221\n"
     ]
    },
    {
     "name": "stdout",
     "output_type": "stream",
     "text": [
      "[1600]\tval-rmse:0.42223\n"
     ]
    },
    {
     "name": "stdout",
     "output_type": "stream",
     "text": [
      "[1700]\tval-rmse:0.42217\n"
     ]
    },
    {
     "name": "stdout",
     "output_type": "stream",
     "text": [
      "[1800]\tval-rmse:0.42201\n"
     ]
    },
    {
     "name": "stdout",
     "output_type": "stream",
     "text": [
      "[1900]\tval-rmse:0.42195\n"
     ]
    },
    {
     "name": "stdout",
     "output_type": "stream",
     "text": [
      "[2000]\tval-rmse:0.42189\n"
     ]
    },
    {
     "name": "stdout",
     "output_type": "stream",
     "text": [
      "[2100]\tval-rmse:0.42186\n"
     ]
    },
    {
     "name": "stdout",
     "output_type": "stream",
     "text": [
      "[2200]\tval-rmse:0.42189\n"
     ]
    },
    {
     "name": "stdout",
     "output_type": "stream",
     "text": [
      "[2300]\tval-rmse:0.42187\n"
     ]
    },
    {
     "name": "stdout",
     "output_type": "stream",
     "text": [
      "[2400]\tval-rmse:0.42178\n"
     ]
    },
    {
     "name": "stdout",
     "output_type": "stream",
     "text": [
      "[2499]\tval-rmse:0.42183\n"
     ]
    },
    {
     "name": "stdout",
     "output_type": "stream",
     "text": [
      "Fold 1 - RMSE: 0.4214756384874573\n",
      "Fold 2\n"
     ]
    },
    {
     "name": "stdout",
     "output_type": "stream",
     "text": [
      "[0]\tval-rmse:0.58856\n"
     ]
    },
    {
     "name": "stdout",
     "output_type": "stream",
     "text": [
      "[100]\tval-rmse:0.47954\n"
     ]
    },
    {
     "name": "stdout",
     "output_type": "stream",
     "text": [
      "[200]\tval-rmse:0.46201\n"
     ]
    },
    {
     "name": "stdout",
     "output_type": "stream",
     "text": [
      "[300]\tval-rmse:0.45425\n"
     ]
    },
    {
     "name": "stdout",
     "output_type": "stream",
     "text": [
      "[400]\tval-rmse:0.45037\n"
     ]
    },
    {
     "name": "stdout",
     "output_type": "stream",
     "text": [
      "[500]\tval-rmse:0.44800\n"
     ]
    },
    {
     "name": "stdout",
     "output_type": "stream",
     "text": [
      "[600]\tval-rmse:0.44625\n"
     ]
    },
    {
     "name": "stdout",
     "output_type": "stream",
     "text": [
      "[700]\tval-rmse:0.44487\n"
     ]
    },
    {
     "name": "stdout",
     "output_type": "stream",
     "text": [
      "[800]\tval-rmse:0.44385\n"
     ]
    },
    {
     "name": "stdout",
     "output_type": "stream",
     "text": [
      "[900]\tval-rmse:0.44328\n"
     ]
    },
    {
     "name": "stdout",
     "output_type": "stream",
     "text": [
      "[1000]\tval-rmse:0.44290\n"
     ]
    },
    {
     "name": "stdout",
     "output_type": "stream",
     "text": [
      "[1100]\tval-rmse:0.44258\n"
     ]
    },
    {
     "name": "stdout",
     "output_type": "stream",
     "text": [
      "[1200]\tval-rmse:0.44223\n"
     ]
    },
    {
     "name": "stdout",
     "output_type": "stream",
     "text": [
      "[1300]\tval-rmse:0.44196\n"
     ]
    },
    {
     "name": "stdout",
     "output_type": "stream",
     "text": [
      "[1400]\tval-rmse:0.44174\n"
     ]
    },
    {
     "name": "stdout",
     "output_type": "stream",
     "text": [
      "[1500]\tval-rmse:0.44155\n"
     ]
    },
    {
     "name": "stdout",
     "output_type": "stream",
     "text": [
      "[1600]\tval-rmse:0.44131\n"
     ]
    },
    {
     "name": "stdout",
     "output_type": "stream",
     "text": [
      "[1700]\tval-rmse:0.44121\n"
     ]
    },
    {
     "name": "stdout",
     "output_type": "stream",
     "text": [
      "[1800]\tval-rmse:0.44116\n"
     ]
    },
    {
     "name": "stdout",
     "output_type": "stream",
     "text": [
      "[1900]\tval-rmse:0.44116\n"
     ]
    },
    {
     "name": "stdout",
     "output_type": "stream",
     "text": [
      "[2000]\tval-rmse:0.44105\n"
     ]
    },
    {
     "name": "stdout",
     "output_type": "stream",
     "text": [
      "[2100]\tval-rmse:0.44108\n"
     ]
    },
    {
     "name": "stdout",
     "output_type": "stream",
     "text": [
      "[2200]\tval-rmse:0.44108\n"
     ]
    },
    {
     "name": "stdout",
     "output_type": "stream",
     "text": [
      "[2300]\tval-rmse:0.44108\n"
     ]
    },
    {
     "name": "stdout",
     "output_type": "stream",
     "text": [
      "[2400]\tval-rmse:0.44106\n"
     ]
    },
    {
     "name": "stdout",
     "output_type": "stream",
     "text": [
      "[2499]\tval-rmse:0.44102\n"
     ]
    },
    {
     "name": "stdout",
     "output_type": "stream",
     "text": [
      "Fold 2 - RMSE: 0.4407097093054989\n",
      "Fold 3\n"
     ]
    },
    {
     "name": "stdout",
     "output_type": "stream",
     "text": [
      "[0]\tval-rmse:0.60608\n"
     ]
    },
    {
     "name": "stdout",
     "output_type": "stream",
     "text": [
      "[100]\tval-rmse:0.47112\n"
     ]
    },
    {
     "name": "stdout",
     "output_type": "stream",
     "text": [
      "[200]\tval-rmse:0.44812\n"
     ]
    },
    {
     "name": "stdout",
     "output_type": "stream",
     "text": [
      "[300]\tval-rmse:0.44031\n"
     ]
    },
    {
     "name": "stdout",
     "output_type": "stream",
     "text": [
      "[400]\tval-rmse:0.43568\n"
     ]
    },
    {
     "name": "stdout",
     "output_type": "stream",
     "text": [
      "[500]\tval-rmse:0.43365\n"
     ]
    },
    {
     "name": "stdout",
     "output_type": "stream",
     "text": [
      "[600]\tval-rmse:0.43196\n"
     ]
    },
    {
     "name": "stdout",
     "output_type": "stream",
     "text": [
      "[700]\tval-rmse:0.43070\n"
     ]
    },
    {
     "name": "stdout",
     "output_type": "stream",
     "text": [
      "[800]\tval-rmse:0.42993\n"
     ]
    },
    {
     "name": "stdout",
     "output_type": "stream",
     "text": [
      "[900]\tval-rmse:0.42921\n"
     ]
    },
    {
     "name": "stdout",
     "output_type": "stream",
     "text": [
      "[1000]\tval-rmse:0.42869\n"
     ]
    },
    {
     "name": "stdout",
     "output_type": "stream",
     "text": [
      "[1100]\tval-rmse:0.42847\n"
     ]
    },
    {
     "name": "stdout",
     "output_type": "stream",
     "text": [
      "[1200]\tval-rmse:0.42793\n"
     ]
    },
    {
     "name": "stdout",
     "output_type": "stream",
     "text": [
      "[1300]\tval-rmse:0.42789\n"
     ]
    },
    {
     "name": "stdout",
     "output_type": "stream",
     "text": [
      "[1400]\tval-rmse:0.42771\n"
     ]
    },
    {
     "name": "stdout",
     "output_type": "stream",
     "text": [
      "[1500]\tval-rmse:0.42757\n"
     ]
    },
    {
     "name": "stdout",
     "output_type": "stream",
     "text": [
      "[1600]\tval-rmse:0.42736\n"
     ]
    },
    {
     "name": "stdout",
     "output_type": "stream",
     "text": [
      "[1700]\tval-rmse:0.42722\n"
     ]
    },
    {
     "name": "stdout",
     "output_type": "stream",
     "text": [
      "[1800]\tval-rmse:0.42711\n"
     ]
    },
    {
     "name": "stdout",
     "output_type": "stream",
     "text": [
      "[1900]\tval-rmse:0.42706\n"
     ]
    },
    {
     "name": "stdout",
     "output_type": "stream",
     "text": [
      "[2000]\tval-rmse:0.42693\n"
     ]
    },
    {
     "name": "stdout",
     "output_type": "stream",
     "text": [
      "[2100]\tval-rmse:0.42694\n"
     ]
    },
    {
     "name": "stdout",
     "output_type": "stream",
     "text": [
      "[2200]\tval-rmse:0.42684\n"
     ]
    },
    {
     "name": "stdout",
     "output_type": "stream",
     "text": [
      "[2300]\tval-rmse:0.42672\n"
     ]
    },
    {
     "name": "stdout",
     "output_type": "stream",
     "text": [
      "[2400]\tval-rmse:0.42669\n"
     ]
    },
    {
     "name": "stdout",
     "output_type": "stream",
     "text": [
      "[2499]\tval-rmse:0.42665\n"
     ]
    },
    {
     "name": "stdout",
     "output_type": "stream",
     "text": [
      "Fold 3 - RMSE: 0.4261959427669129\n",
      "Fold 4\n"
     ]
    },
    {
     "name": "stdout",
     "output_type": "stream",
     "text": [
      "[0]\tval-rmse:0.59663\n"
     ]
    },
    {
     "name": "stdout",
     "output_type": "stream",
     "text": [
      "[100]\tval-rmse:0.48111\n"
     ]
    },
    {
     "name": "stdout",
     "output_type": "stream",
     "text": [
      "[200]\tval-rmse:0.45804\n"
     ]
    },
    {
     "name": "stdout",
     "output_type": "stream",
     "text": [
      "[300]\tval-rmse:0.44843\n"
     ]
    },
    {
     "name": "stdout",
     "output_type": "stream",
     "text": [
      "[400]\tval-rmse:0.44407\n"
     ]
    },
    {
     "name": "stdout",
     "output_type": "stream",
     "text": [
      "[500]\tval-rmse:0.44094\n"
     ]
    },
    {
     "name": "stdout",
     "output_type": "stream",
     "text": [
      "[600]\tval-rmse:0.43890\n"
     ]
    },
    {
     "name": "stdout",
     "output_type": "stream",
     "text": [
      "[700]\tval-rmse:0.43748\n"
     ]
    },
    {
     "name": "stdout",
     "output_type": "stream",
     "text": [
      "[800]\tval-rmse:0.43648\n"
     ]
    },
    {
     "name": "stdout",
     "output_type": "stream",
     "text": [
      "[900]\tval-rmse:0.43574\n"
     ]
    },
    {
     "name": "stdout",
     "output_type": "stream",
     "text": [
      "[1000]\tval-rmse:0.43518\n"
     ]
    },
    {
     "name": "stdout",
     "output_type": "stream",
     "text": [
      "[1100]\tval-rmse:0.43467\n"
     ]
    },
    {
     "name": "stdout",
     "output_type": "stream",
     "text": [
      "[1200]\tval-rmse:0.43436\n"
     ]
    },
    {
     "name": "stdout",
     "output_type": "stream",
     "text": [
      "[1300]\tval-rmse:0.43396\n"
     ]
    },
    {
     "name": "stdout",
     "output_type": "stream",
     "text": [
      "[1400]\tval-rmse:0.43367\n"
     ]
    },
    {
     "name": "stdout",
     "output_type": "stream",
     "text": [
      "[1500]\tval-rmse:0.43345\n"
     ]
    },
    {
     "name": "stdout",
     "output_type": "stream",
     "text": [
      "[1600]\tval-rmse:0.43312\n"
     ]
    },
    {
     "name": "stdout",
     "output_type": "stream",
     "text": [
      "[1700]\tval-rmse:0.43293\n"
     ]
    },
    {
     "name": "stdout",
     "output_type": "stream",
     "text": [
      "[1800]\tval-rmse:0.43278\n"
     ]
    },
    {
     "name": "stdout",
     "output_type": "stream",
     "text": [
      "[1900]\tval-rmse:0.43258\n"
     ]
    },
    {
     "name": "stdout",
     "output_type": "stream",
     "text": [
      "[2000]\tval-rmse:0.43250\n"
     ]
    },
    {
     "name": "stdout",
     "output_type": "stream",
     "text": [
      "[2100]\tval-rmse:0.43244\n"
     ]
    },
    {
     "name": "stdout",
     "output_type": "stream",
     "text": [
      "[2200]\tval-rmse:0.43233\n"
     ]
    },
    {
     "name": "stdout",
     "output_type": "stream",
     "text": [
      "[2300]\tval-rmse:0.43226\n"
     ]
    },
    {
     "name": "stdout",
     "output_type": "stream",
     "text": [
      "[2400]\tval-rmse:0.43219\n"
     ]
    },
    {
     "name": "stdout",
     "output_type": "stream",
     "text": [
      "[2499]\tval-rmse:0.43210\n"
     ]
    },
    {
     "name": "stdout",
     "output_type": "stream",
     "text": [
      "Fold 4 - RMSE: 0.43170644157908716\n",
      "Fold 5\n"
     ]
    },
    {
     "name": "stdout",
     "output_type": "stream",
     "text": [
      "[0]\tval-rmse:0.54709\n"
     ]
    },
    {
     "name": "stdout",
     "output_type": "stream",
     "text": [
      "[100]\tval-rmse:0.45545\n"
     ]
    },
    {
     "name": "stdout",
     "output_type": "stream",
     "text": [
      "[200]\tval-rmse:0.43189\n"
     ]
    },
    {
     "name": "stdout",
     "output_type": "stream",
     "text": [
      "[300]\tval-rmse:0.42225\n"
     ]
    },
    {
     "name": "stdout",
     "output_type": "stream",
     "text": [
      "[400]\tval-rmse:0.41646\n"
     ]
    },
    {
     "name": "stdout",
     "output_type": "stream",
     "text": [
      "[500]\tval-rmse:0.41309\n"
     ]
    },
    {
     "name": "stdout",
     "output_type": "stream",
     "text": [
      "[600]\tval-rmse:0.41092\n"
     ]
    },
    {
     "name": "stdout",
     "output_type": "stream",
     "text": [
      "[700]\tval-rmse:0.40931\n"
     ]
    },
    {
     "name": "stdout",
     "output_type": "stream",
     "text": [
      "[800]\tval-rmse:0.40813\n"
     ]
    },
    {
     "name": "stdout",
     "output_type": "stream",
     "text": [
      "[900]\tval-rmse:0.40752\n"
     ]
    },
    {
     "name": "stdout",
     "output_type": "stream",
     "text": [
      "[1000]\tval-rmse:0.40688\n"
     ]
    },
    {
     "name": "stdout",
     "output_type": "stream",
     "text": [
      "[1100]\tval-rmse:0.40615\n"
     ]
    },
    {
     "name": "stdout",
     "output_type": "stream",
     "text": [
      "[1200]\tval-rmse:0.40573\n"
     ]
    },
    {
     "name": "stdout",
     "output_type": "stream",
     "text": [
      "[1300]\tval-rmse:0.40540\n"
     ]
    },
    {
     "name": "stdout",
     "output_type": "stream",
     "text": [
      "[1400]\tval-rmse:0.40510\n"
     ]
    },
    {
     "name": "stdout",
     "output_type": "stream",
     "text": [
      "[1500]\tval-rmse:0.40501\n"
     ]
    },
    {
     "name": "stdout",
     "output_type": "stream",
     "text": [
      "[1600]\tval-rmse:0.40482\n"
     ]
    },
    {
     "name": "stdout",
     "output_type": "stream",
     "text": [
      "[1700]\tval-rmse:0.40478\n"
     ]
    },
    {
     "name": "stdout",
     "output_type": "stream",
     "text": [
      "[1800]\tval-rmse:0.40468\n"
     ]
    },
    {
     "name": "stdout",
     "output_type": "stream",
     "text": [
      "[1900]\tval-rmse:0.40464\n"
     ]
    },
    {
     "name": "stdout",
     "output_type": "stream",
     "text": [
      "[2000]\tval-rmse:0.40445\n"
     ]
    },
    {
     "name": "stdout",
     "output_type": "stream",
     "text": [
      "[2100]\tval-rmse:0.40450\n"
     ]
    },
    {
     "name": "stdout",
     "output_type": "stream",
     "text": [
      "[2200]\tval-rmse:0.40458\n"
     ]
    },
    {
     "name": "stdout",
     "output_type": "stream",
     "text": [
      "[2300]\tval-rmse:0.40467\n"
     ]
    },
    {
     "name": "stdout",
     "output_type": "stream",
     "text": [
      "[2400]\tval-rmse:0.40461\n"
     ]
    },
    {
     "name": "stdout",
     "output_type": "stream",
     "text": [
      "[2499]\tval-rmse:0.40471\n"
     ]
    },
    {
     "name": "stdout",
     "output_type": "stream",
     "text": [
      "Fold 5 - RMSE: 0.40429024029711436\n",
      "List of oof scores: [0.4214756384874573, 0.4407097093054989, 0.4261959427669129, 0.43170644157908716, 0.40429024029711436]\n",
      "Average oof score: 0.4248755944872141\n"
     ]
    }
   ],
   "source": [
    "# call the function\n",
    "trained_models1, oof1, oof_scores1, importance_df1 = train_models(\n",
    "    df_train,\n",
    "    'utility_agent1',\n",
    "    numerical_cols,\n",
    "    categorical_cols,\n",
    "    split_list=split1,\n",
    ")\n",
    "# save oof predictions\n",
    "oof1.to_parquet(path_results / f'oof_xgboost_{fs_type}_cv1.parquet', index=False)"
   ]
  },
  {
   "cell_type": "code",
   "execution_count": 12,
   "id": "79efa7e5",
   "metadata": {
    "execution": {
     "iopub.execute_input": "2024-11-28T01:02:17.795020Z",
     "iopub.status.busy": "2024-11-28T01:02:17.794911Z",
     "iopub.status.idle": "2024-11-28T01:06:22.730216Z",
     "shell.execute_reply": "2024-11-28T01:06:22.729913Z"
    },
    "papermill": {
     "duration": 244.941189,
     "end_time": "2024-11-28T01:06:22.730963",
     "exception": false,
     "start_time": "2024-11-28T01:02:17.789774",
     "status": "completed"
    },
    "tags": []
   },
   "outputs": [
    {
     "name": "stdout",
     "output_type": "stream",
     "text": [
      "Fold 1\n"
     ]
    },
    {
     "name": "stdout",
     "output_type": "stream",
     "text": [
      "[0]\tval-rmse:0.53431\n"
     ]
    },
    {
     "name": "stdout",
     "output_type": "stream",
     "text": [
      "[100]\tval-rmse:0.44766\n"
     ]
    },
    {
     "name": "stdout",
     "output_type": "stream",
     "text": [
      "[200]\tval-rmse:0.42830\n"
     ]
    },
    {
     "name": "stdout",
     "output_type": "stream",
     "text": [
      "[300]\tval-rmse:0.42069\n"
     ]
    },
    {
     "name": "stdout",
     "output_type": "stream",
     "text": [
      "[400]\tval-rmse:0.41666\n"
     ]
    },
    {
     "name": "stdout",
     "output_type": "stream",
     "text": [
      "[500]\tval-rmse:0.41383\n"
     ]
    },
    {
     "name": "stdout",
     "output_type": "stream",
     "text": [
      "[600]\tval-rmse:0.41220\n"
     ]
    },
    {
     "name": "stdout",
     "output_type": "stream",
     "text": [
      "[700]\tval-rmse:0.41085\n"
     ]
    },
    {
     "name": "stdout",
     "output_type": "stream",
     "text": [
      "[800]\tval-rmse:0.40966\n"
     ]
    },
    {
     "name": "stdout",
     "output_type": "stream",
     "text": [
      "[900]\tval-rmse:0.40898\n"
     ]
    },
    {
     "name": "stdout",
     "output_type": "stream",
     "text": [
      "[1000]\tval-rmse:0.40838\n"
     ]
    },
    {
     "name": "stdout",
     "output_type": "stream",
     "text": [
      "[1100]\tval-rmse:0.40760\n"
     ]
    },
    {
     "name": "stdout",
     "output_type": "stream",
     "text": [
      "[1200]\tval-rmse:0.40720\n"
     ]
    },
    {
     "name": "stdout",
     "output_type": "stream",
     "text": [
      "[1300]\tval-rmse:0.40679\n"
     ]
    },
    {
     "name": "stdout",
     "output_type": "stream",
     "text": [
      "[1400]\tval-rmse:0.40659\n"
     ]
    },
    {
     "name": "stdout",
     "output_type": "stream",
     "text": [
      "[1500]\tval-rmse:0.40639\n"
     ]
    },
    {
     "name": "stdout",
     "output_type": "stream",
     "text": [
      "[1600]\tval-rmse:0.40632\n"
     ]
    },
    {
     "name": "stdout",
     "output_type": "stream",
     "text": [
      "[1700]\tval-rmse:0.40616\n"
     ]
    },
    {
     "name": "stdout",
     "output_type": "stream",
     "text": [
      "[1800]\tval-rmse:0.40601\n"
     ]
    },
    {
     "name": "stdout",
     "output_type": "stream",
     "text": [
      "[1900]\tval-rmse:0.40586\n"
     ]
    },
    {
     "name": "stdout",
     "output_type": "stream",
     "text": [
      "[2000]\tval-rmse:0.40572\n"
     ]
    },
    {
     "name": "stdout",
     "output_type": "stream",
     "text": [
      "[2100]\tval-rmse:0.40544\n"
     ]
    },
    {
     "name": "stdout",
     "output_type": "stream",
     "text": [
      "[2200]\tval-rmse:0.40530\n"
     ]
    },
    {
     "name": "stdout",
     "output_type": "stream",
     "text": [
      "[2300]\tval-rmse:0.40525\n"
     ]
    },
    {
     "name": "stdout",
     "output_type": "stream",
     "text": [
      "[2400]\tval-rmse:0.40528\n"
     ]
    },
    {
     "name": "stdout",
     "output_type": "stream",
     "text": [
      "[2499]\tval-rmse:0.40525\n"
     ]
    },
    {
     "name": "stdout",
     "output_type": "stream",
     "text": [
      "Fold 1 - RMSE: 0.40488728824648307\n",
      "Fold 2\n"
     ]
    },
    {
     "name": "stdout",
     "output_type": "stream",
     "text": [
      "[0]\tval-rmse:0.54672\n"
     ]
    },
    {
     "name": "stdout",
     "output_type": "stream",
     "text": [
      "[100]\tval-rmse:0.43376\n"
     ]
    },
    {
     "name": "stdout",
     "output_type": "stream",
     "text": [
      "[200]\tval-rmse:0.41458\n"
     ]
    },
    {
     "name": "stdout",
     "output_type": "stream",
     "text": [
      "[300]\tval-rmse:0.40852\n"
     ]
    },
    {
     "name": "stdout",
     "output_type": "stream",
     "text": [
      "[400]\tval-rmse:0.40539\n"
     ]
    },
    {
     "name": "stdout",
     "output_type": "stream",
     "text": [
      "[500]\tval-rmse:0.40361\n"
     ]
    },
    {
     "name": "stdout",
     "output_type": "stream",
     "text": [
      "[600]\tval-rmse:0.40267\n"
     ]
    },
    {
     "name": "stdout",
     "output_type": "stream",
     "text": [
      "[700]\tval-rmse:0.40215\n"
     ]
    },
    {
     "name": "stdout",
     "output_type": "stream",
     "text": [
      "[800]\tval-rmse:0.40162\n"
     ]
    },
    {
     "name": "stdout",
     "output_type": "stream",
     "text": [
      "[900]\tval-rmse:0.40132\n"
     ]
    },
    {
     "name": "stdout",
     "output_type": "stream",
     "text": [
      "[1000]\tval-rmse:0.40116\n"
     ]
    },
    {
     "name": "stdout",
     "output_type": "stream",
     "text": [
      "[1100]\tval-rmse:0.40115\n"
     ]
    },
    {
     "name": "stdout",
     "output_type": "stream",
     "text": [
      "[1200]\tval-rmse:0.40106\n"
     ]
    },
    {
     "name": "stdout",
     "output_type": "stream",
     "text": [
      "[1300]\tval-rmse:0.40101\n"
     ]
    },
    {
     "name": "stdout",
     "output_type": "stream",
     "text": [
      "[1400]\tval-rmse:0.40098\n"
     ]
    },
    {
     "name": "stdout",
     "output_type": "stream",
     "text": [
      "[1500]\tval-rmse:0.40106\n"
     ]
    },
    {
     "name": "stdout",
     "output_type": "stream",
     "text": [
      "[1600]\tval-rmse:0.40104\n"
     ]
    },
    {
     "name": "stdout",
     "output_type": "stream",
     "text": [
      "[1700]\tval-rmse:0.40114\n"
     ]
    },
    {
     "name": "stdout",
     "output_type": "stream",
     "text": [
      "[1800]\tval-rmse:0.40118\n"
     ]
    },
    {
     "name": "stdout",
     "output_type": "stream",
     "text": [
      "[1900]\tval-rmse:0.40122\n"
     ]
    },
    {
     "name": "stdout",
     "output_type": "stream",
     "text": [
      "[2000]\tval-rmse:0.40122\n"
     ]
    },
    {
     "name": "stdout",
     "output_type": "stream",
     "text": [
      "[2100]\tval-rmse:0.40132\n"
     ]
    },
    {
     "name": "stdout",
     "output_type": "stream",
     "text": [
      "[2200]\tval-rmse:0.40139\n"
     ]
    },
    {
     "name": "stdout",
     "output_type": "stream",
     "text": [
      "[2300]\tval-rmse:0.40144\n"
     ]
    },
    {
     "name": "stdout",
     "output_type": "stream",
     "text": [
      "[2400]\tval-rmse:0.40153\n"
     ]
    },
    {
     "name": "stdout",
     "output_type": "stream",
     "text": [
      "[2499]\tval-rmse:0.40157\n"
     ]
    },
    {
     "name": "stdout",
     "output_type": "stream",
     "text": [
      "Fold 2 - RMSE: 0.40104260574253037\n",
      "Fold 3\n"
     ]
    },
    {
     "name": "stdout",
     "output_type": "stream",
     "text": [
      "[0]\tval-rmse:0.61323\n"
     ]
    },
    {
     "name": "stdout",
     "output_type": "stream",
     "text": [
      "[100]\tval-rmse:0.49192\n"
     ]
    },
    {
     "name": "stdout",
     "output_type": "stream",
     "text": [
      "[200]\tval-rmse:0.46610\n"
     ]
    },
    {
     "name": "stdout",
     "output_type": "stream",
     "text": [
      "[300]\tval-rmse:0.45495\n"
     ]
    },
    {
     "name": "stdout",
     "output_type": "stream",
     "text": [
      "[400]\tval-rmse:0.44869\n"
     ]
    },
    {
     "name": "stdout",
     "output_type": "stream",
     "text": [
      "[500]\tval-rmse:0.44497\n"
     ]
    },
    {
     "name": "stdout",
     "output_type": "stream",
     "text": [
      "[600]\tval-rmse:0.44295\n"
     ]
    },
    {
     "name": "stdout",
     "output_type": "stream",
     "text": [
      "[700]\tval-rmse:0.44134\n"
     ]
    },
    {
     "name": "stdout",
     "output_type": "stream",
     "text": [
      "[800]\tval-rmse:0.43984\n"
     ]
    },
    {
     "name": "stdout",
     "output_type": "stream",
     "text": [
      "[900]\tval-rmse:0.43873\n"
     ]
    },
    {
     "name": "stdout",
     "output_type": "stream",
     "text": [
      "[1000]\tval-rmse:0.43805\n"
     ]
    },
    {
     "name": "stdout",
     "output_type": "stream",
     "text": [
      "[1100]\tval-rmse:0.43756\n"
     ]
    },
    {
     "name": "stdout",
     "output_type": "stream",
     "text": [
      "[1200]\tval-rmse:0.43714\n"
     ]
    },
    {
     "name": "stdout",
     "output_type": "stream",
     "text": [
      "[1300]\tval-rmse:0.43673\n"
     ]
    },
    {
     "name": "stdout",
     "output_type": "stream",
     "text": [
      "[1400]\tval-rmse:0.43625\n"
     ]
    },
    {
     "name": "stdout",
     "output_type": "stream",
     "text": [
      "[1500]\tval-rmse:0.43575\n"
     ]
    },
    {
     "name": "stdout",
     "output_type": "stream",
     "text": [
      "[1600]\tval-rmse:0.43552\n"
     ]
    },
    {
     "name": "stdout",
     "output_type": "stream",
     "text": [
      "[1700]\tval-rmse:0.43539\n"
     ]
    },
    {
     "name": "stdout",
     "output_type": "stream",
     "text": [
      "[1800]\tval-rmse:0.43514\n"
     ]
    },
    {
     "name": "stdout",
     "output_type": "stream",
     "text": [
      "[1900]\tval-rmse:0.43501\n"
     ]
    },
    {
     "name": "stdout",
     "output_type": "stream",
     "text": [
      "[2000]\tval-rmse:0.43479\n"
     ]
    },
    {
     "name": "stdout",
     "output_type": "stream",
     "text": [
      "[2100]\tval-rmse:0.43473\n"
     ]
    },
    {
     "name": "stdout",
     "output_type": "stream",
     "text": [
      "[2200]\tval-rmse:0.43461\n"
     ]
    },
    {
     "name": "stdout",
     "output_type": "stream",
     "text": [
      "[2300]\tval-rmse:0.43450\n"
     ]
    },
    {
     "name": "stdout",
     "output_type": "stream",
     "text": [
      "[2400]\tval-rmse:0.43440\n"
     ]
    },
    {
     "name": "stdout",
     "output_type": "stream",
     "text": [
      "[2499]\tval-rmse:0.43420\n"
     ]
    },
    {
     "name": "stdout",
     "output_type": "stream",
     "text": [
      "Fold 3 - RMSE: 0.43374651121589364\n",
      "Fold 4\n"
     ]
    },
    {
     "name": "stdout",
     "output_type": "stream",
     "text": [
      "[0]\tval-rmse:0.60614\n"
     ]
    },
    {
     "name": "stdout",
     "output_type": "stream",
     "text": [
      "[100]\tval-rmse:0.49300\n"
     ]
    },
    {
     "name": "stdout",
     "output_type": "stream",
     "text": [
      "[200]\tval-rmse:0.47090\n"
     ]
    },
    {
     "name": "stdout",
     "output_type": "stream",
     "text": [
      "[300]\tval-rmse:0.46054\n"
     ]
    },
    {
     "name": "stdout",
     "output_type": "stream",
     "text": [
      "[400]\tval-rmse:0.45469\n"
     ]
    },
    {
     "name": "stdout",
     "output_type": "stream",
     "text": [
      "[500]\tval-rmse:0.45176\n"
     ]
    },
    {
     "name": "stdout",
     "output_type": "stream",
     "text": [
      "[600]\tval-rmse:0.44980\n"
     ]
    },
    {
     "name": "stdout",
     "output_type": "stream",
     "text": [
      "[700]\tval-rmse:0.44839\n"
     ]
    },
    {
     "name": "stdout",
     "output_type": "stream",
     "text": [
      "[800]\tval-rmse:0.44725\n"
     ]
    },
    {
     "name": "stdout",
     "output_type": "stream",
     "text": [
      "[900]\tval-rmse:0.44654\n"
     ]
    },
    {
     "name": "stdout",
     "output_type": "stream",
     "text": [
      "[1000]\tval-rmse:0.44578\n"
     ]
    },
    {
     "name": "stdout",
     "output_type": "stream",
     "text": [
      "[1100]\tval-rmse:0.44514\n"
     ]
    },
    {
     "name": "stdout",
     "output_type": "stream",
     "text": [
      "[1200]\tval-rmse:0.44496\n"
     ]
    },
    {
     "name": "stdout",
     "output_type": "stream",
     "text": [
      "[1300]\tval-rmse:0.44484\n"
     ]
    },
    {
     "name": "stdout",
     "output_type": "stream",
     "text": [
      "[1400]\tval-rmse:0.44450\n"
     ]
    },
    {
     "name": "stdout",
     "output_type": "stream",
     "text": [
      "[1500]\tval-rmse:0.44444\n"
     ]
    },
    {
     "name": "stdout",
     "output_type": "stream",
     "text": [
      "[1600]\tval-rmse:0.44420\n"
     ]
    },
    {
     "name": "stdout",
     "output_type": "stream",
     "text": [
      "[1700]\tval-rmse:0.44403\n"
     ]
    },
    {
     "name": "stdout",
     "output_type": "stream",
     "text": [
      "[1800]\tval-rmse:0.44385\n"
     ]
    },
    {
     "name": "stdout",
     "output_type": "stream",
     "text": [
      "[1900]\tval-rmse:0.44380\n"
     ]
    },
    {
     "name": "stdout",
     "output_type": "stream",
     "text": [
      "[2000]\tval-rmse:0.44364\n"
     ]
    },
    {
     "name": "stdout",
     "output_type": "stream",
     "text": [
      "[2100]\tval-rmse:0.44366\n"
     ]
    },
    {
     "name": "stdout",
     "output_type": "stream",
     "text": [
      "[2200]\tval-rmse:0.44368\n"
     ]
    },
    {
     "name": "stdout",
     "output_type": "stream",
     "text": [
      "[2300]\tval-rmse:0.44369\n"
     ]
    },
    {
     "name": "stdout",
     "output_type": "stream",
     "text": [
      "[2400]\tval-rmse:0.44375\n"
     ]
    },
    {
     "name": "stdout",
     "output_type": "stream",
     "text": [
      "[2499]\tval-rmse:0.44378\n"
     ]
    },
    {
     "name": "stdout",
     "output_type": "stream",
     "text": [
      "Fold 4 - RMSE: 0.44334743261745047\n",
      "Fold 5\n"
     ]
    },
    {
     "name": "stdout",
     "output_type": "stream",
     "text": [
      "[0]\tval-rmse:0.59072\n"
     ]
    },
    {
     "name": "stdout",
     "output_type": "stream",
     "text": [
      "[100]\tval-rmse:0.48544\n"
     ]
    },
    {
     "name": "stdout",
     "output_type": "stream",
     "text": [
      "[200]\tval-rmse:0.46083\n"
     ]
    },
    {
     "name": "stdout",
     "output_type": "stream",
     "text": [
      "[300]\tval-rmse:0.45003\n"
     ]
    },
    {
     "name": "stdout",
     "output_type": "stream",
     "text": [
      "[400]\tval-rmse:0.44428\n"
     ]
    },
    {
     "name": "stdout",
     "output_type": "stream",
     "text": [
      "[500]\tval-rmse:0.44111\n"
     ]
    },
    {
     "name": "stdout",
     "output_type": "stream",
     "text": [
      "[600]\tval-rmse:0.43924\n"
     ]
    },
    {
     "name": "stdout",
     "output_type": "stream",
     "text": [
      "[700]\tval-rmse:0.43742\n"
     ]
    },
    {
     "name": "stdout",
     "output_type": "stream",
     "text": [
      "[800]\tval-rmse:0.43611\n"
     ]
    },
    {
     "name": "stdout",
     "output_type": "stream",
     "text": [
      "[900]\tval-rmse:0.43530\n"
     ]
    },
    {
     "name": "stdout",
     "output_type": "stream",
     "text": [
      "[1000]\tval-rmse:0.43474\n"
     ]
    },
    {
     "name": "stdout",
     "output_type": "stream",
     "text": [
      "[1100]\tval-rmse:0.43412\n"
     ]
    },
    {
     "name": "stdout",
     "output_type": "stream",
     "text": [
      "[1200]\tval-rmse:0.43365\n"
     ]
    },
    {
     "name": "stdout",
     "output_type": "stream",
     "text": [
      "[1300]\tval-rmse:0.43313\n"
     ]
    },
    {
     "name": "stdout",
     "output_type": "stream",
     "text": [
      "[1400]\tval-rmse:0.43294\n"
     ]
    },
    {
     "name": "stdout",
     "output_type": "stream",
     "text": [
      "[1500]\tval-rmse:0.43276\n"
     ]
    },
    {
     "name": "stdout",
     "output_type": "stream",
     "text": [
      "[1600]\tval-rmse:0.43264\n"
     ]
    },
    {
     "name": "stdout",
     "output_type": "stream",
     "text": [
      "[1700]\tval-rmse:0.43257\n"
     ]
    },
    {
     "name": "stdout",
     "output_type": "stream",
     "text": [
      "[1800]\tval-rmse:0.43248\n"
     ]
    },
    {
     "name": "stdout",
     "output_type": "stream",
     "text": [
      "[1900]\tval-rmse:0.43233\n"
     ]
    },
    {
     "name": "stdout",
     "output_type": "stream",
     "text": [
      "[2000]\tval-rmse:0.43228\n"
     ]
    },
    {
     "name": "stdout",
     "output_type": "stream",
     "text": [
      "[2100]\tval-rmse:0.43202\n"
     ]
    },
    {
     "name": "stdout",
     "output_type": "stream",
     "text": [
      "[2200]\tval-rmse:0.43207\n"
     ]
    },
    {
     "name": "stdout",
     "output_type": "stream",
     "text": [
      "[2300]\tval-rmse:0.43204\n"
     ]
    },
    {
     "name": "stdout",
     "output_type": "stream",
     "text": [
      "[2400]\tval-rmse:0.43194\n"
     ]
    },
    {
     "name": "stdout",
     "output_type": "stream",
     "text": [
      "[2499]\tval-rmse:0.43191\n"
     ]
    },
    {
     "name": "stdout",
     "output_type": "stream",
     "text": [
      "Fold 5 - RMSE: 0.43137760847513157\n",
      "List of oof scores: [0.40488728824648307, 0.40104260574253037, 0.43374651121589364, 0.44334743261745047, 0.43137760847513157]\n",
      "Average oof score: 0.42288028925949783\n"
     ]
    }
   ],
   "source": [
    "# call the function\n",
    "trained_models2, oof2, oof_scores2, importance_df2 = train_models(\n",
    "    df_train,\n",
    "    'utility_agent1',\n",
    "    numerical_cols,\n",
    "    categorical_cols,\n",
    "    split_list=split2,\n",
    ")\n",
    "# save oof predictions\n",
    "oof2.to_parquet(path_results / f'oof_xgboost_{fs_type}_cv2.parquet', index=False)"
   ]
  },
  {
   "cell_type": "code",
   "execution_count": 13,
   "id": "ebd03eb1",
   "metadata": {
    "execution": {
     "iopub.execute_input": "2024-11-28T01:06:22.746220Z",
     "iopub.status.busy": "2024-11-28T01:06:22.746094Z",
     "iopub.status.idle": "2024-11-28T01:10:26.342337Z",
     "shell.execute_reply": "2024-11-28T01:10:26.342013Z"
    },
    "papermill": {
     "duration": 243.604692,
     "end_time": "2024-11-28T01:10:26.343157",
     "exception": false,
     "start_time": "2024-11-28T01:06:22.738465",
     "status": "completed"
    },
    "tags": []
   },
   "outputs": [
    {
     "name": "stdout",
     "output_type": "stream",
     "text": [
      "Fold 1\n"
     ]
    },
    {
     "name": "stdout",
     "output_type": "stream",
     "text": [
      "[0]\tval-rmse:0.57534\n"
     ]
    },
    {
     "name": "stdout",
     "output_type": "stream",
     "text": [
      "[100]\tval-rmse:0.47982\n"
     ]
    },
    {
     "name": "stdout",
     "output_type": "stream",
     "text": [
      "[200]\tval-rmse:0.45892\n"
     ]
    },
    {
     "name": "stdout",
     "output_type": "stream",
     "text": [
      "[300]\tval-rmse:0.45185\n"
     ]
    },
    {
     "name": "stdout",
     "output_type": "stream",
     "text": [
      "[400]\tval-rmse:0.44752\n"
     ]
    },
    {
     "name": "stdout",
     "output_type": "stream",
     "text": [
      "[500]\tval-rmse:0.44499\n"
     ]
    },
    {
     "name": "stdout",
     "output_type": "stream",
     "text": [
      "[600]\tval-rmse:0.44340\n"
     ]
    },
    {
     "name": "stdout",
     "output_type": "stream",
     "text": [
      "[700]\tval-rmse:0.44240\n"
     ]
    },
    {
     "name": "stdout",
     "output_type": "stream",
     "text": [
      "[800]\tval-rmse:0.44129\n"
     ]
    },
    {
     "name": "stdout",
     "output_type": "stream",
     "text": [
      "[900]\tval-rmse:0.44073\n"
     ]
    },
    {
     "name": "stdout",
     "output_type": "stream",
     "text": [
      "[1000]\tval-rmse:0.44048\n"
     ]
    },
    {
     "name": "stdout",
     "output_type": "stream",
     "text": [
      "[1100]\tval-rmse:0.44003\n"
     ]
    },
    {
     "name": "stdout",
     "output_type": "stream",
     "text": [
      "[1200]\tval-rmse:0.43981\n"
     ]
    },
    {
     "name": "stdout",
     "output_type": "stream",
     "text": [
      "[1300]\tval-rmse:0.43970\n"
     ]
    },
    {
     "name": "stdout",
     "output_type": "stream",
     "text": [
      "[1400]\tval-rmse:0.43963\n"
     ]
    },
    {
     "name": "stdout",
     "output_type": "stream",
     "text": [
      "[1500]\tval-rmse:0.43960\n"
     ]
    },
    {
     "name": "stdout",
     "output_type": "stream",
     "text": [
      "[1600]\tval-rmse:0.43944\n"
     ]
    },
    {
     "name": "stdout",
     "output_type": "stream",
     "text": [
      "[1700]\tval-rmse:0.43925\n"
     ]
    },
    {
     "name": "stdout",
     "output_type": "stream",
     "text": [
      "[1800]\tval-rmse:0.43916\n"
     ]
    },
    {
     "name": "stdout",
     "output_type": "stream",
     "text": [
      "[1900]\tval-rmse:0.43908\n"
     ]
    },
    {
     "name": "stdout",
     "output_type": "stream",
     "text": [
      "[2000]\tval-rmse:0.43900\n"
     ]
    },
    {
     "name": "stdout",
     "output_type": "stream",
     "text": [
      "[2100]\tval-rmse:0.43906\n"
     ]
    },
    {
     "name": "stdout",
     "output_type": "stream",
     "text": [
      "[2200]\tval-rmse:0.43910\n"
     ]
    },
    {
     "name": "stdout",
     "output_type": "stream",
     "text": [
      "[2300]\tval-rmse:0.43915\n"
     ]
    },
    {
     "name": "stdout",
     "output_type": "stream",
     "text": [
      "[2400]\tval-rmse:0.43923\n"
     ]
    },
    {
     "name": "stdout",
     "output_type": "stream",
     "text": [
      "[2499]\tval-rmse:0.43931\n"
     ]
    },
    {
     "name": "stdout",
     "output_type": "stream",
     "text": [
      "Fold 1 - RMSE: 0.4388662685286276\n",
      "Fold 2\n"
     ]
    },
    {
     "name": "stdout",
     "output_type": "stream",
     "text": [
      "[0]\tval-rmse:0.57411\n"
     ]
    },
    {
     "name": "stdout",
     "output_type": "stream",
     "text": [
      "[100]\tval-rmse:0.47111\n"
     ]
    },
    {
     "name": "stdout",
     "output_type": "stream",
     "text": [
      "[200]\tval-rmse:0.44706\n"
     ]
    },
    {
     "name": "stdout",
     "output_type": "stream",
     "text": [
      "[300]\tval-rmse:0.43768\n"
     ]
    },
    {
     "name": "stdout",
     "output_type": "stream",
     "text": [
      "[400]\tval-rmse:0.43138\n"
     ]
    },
    {
     "name": "stdout",
     "output_type": "stream",
     "text": [
      "[500]\tval-rmse:0.42787\n"
     ]
    },
    {
     "name": "stdout",
     "output_type": "stream",
     "text": [
      "[600]\tval-rmse:0.42557\n"
     ]
    },
    {
     "name": "stdout",
     "output_type": "stream",
     "text": [
      "[700]\tval-rmse:0.42359\n"
     ]
    },
    {
     "name": "stdout",
     "output_type": "stream",
     "text": [
      "[800]\tval-rmse:0.42222\n"
     ]
    },
    {
     "name": "stdout",
     "output_type": "stream",
     "text": [
      "[900]\tval-rmse:0.42113\n"
     ]
    },
    {
     "name": "stdout",
     "output_type": "stream",
     "text": [
      "[1000]\tval-rmse:0.42044\n"
     ]
    },
    {
     "name": "stdout",
     "output_type": "stream",
     "text": [
      "[1100]\tval-rmse:0.41978\n"
     ]
    },
    {
     "name": "stdout",
     "output_type": "stream",
     "text": [
      "[1200]\tval-rmse:0.41917\n"
     ]
    },
    {
     "name": "stdout",
     "output_type": "stream",
     "text": [
      "[1300]\tval-rmse:0.41888\n"
     ]
    },
    {
     "name": "stdout",
     "output_type": "stream",
     "text": [
      "[1400]\tval-rmse:0.41854\n"
     ]
    },
    {
     "name": "stdout",
     "output_type": "stream",
     "text": [
      "[1500]\tval-rmse:0.41835\n"
     ]
    },
    {
     "name": "stdout",
     "output_type": "stream",
     "text": [
      "[1600]\tval-rmse:0.41823\n"
     ]
    },
    {
     "name": "stdout",
     "output_type": "stream",
     "text": [
      "[1700]\tval-rmse:0.41796\n"
     ]
    },
    {
     "name": "stdout",
     "output_type": "stream",
     "text": [
      "[1800]\tval-rmse:0.41793\n"
     ]
    },
    {
     "name": "stdout",
     "output_type": "stream",
     "text": [
      "[1900]\tval-rmse:0.41794\n"
     ]
    },
    {
     "name": "stdout",
     "output_type": "stream",
     "text": [
      "[2000]\tval-rmse:0.41772\n"
     ]
    },
    {
     "name": "stdout",
     "output_type": "stream",
     "text": [
      "[2100]\tval-rmse:0.41763\n"
     ]
    },
    {
     "name": "stdout",
     "output_type": "stream",
     "text": [
      "[2200]\tval-rmse:0.41758\n"
     ]
    },
    {
     "name": "stdout",
     "output_type": "stream",
     "text": [
      "[2300]\tval-rmse:0.41749\n"
     ]
    },
    {
     "name": "stdout",
     "output_type": "stream",
     "text": [
      "[2400]\tval-rmse:0.41754\n"
     ]
    },
    {
     "name": "stdout",
     "output_type": "stream",
     "text": [
      "[2499]\tval-rmse:0.41760\n"
     ]
    },
    {
     "name": "stdout",
     "output_type": "stream",
     "text": [
      "Fold 2 - RMSE: 0.4172891878255326\n",
      "Fold 3\n"
     ]
    },
    {
     "name": "stdout",
     "output_type": "stream",
     "text": [
      "[0]\tval-rmse:0.57681\n"
     ]
    },
    {
     "name": "stdout",
     "output_type": "stream",
     "text": [
      "[100]\tval-rmse:0.47208\n"
     ]
    },
    {
     "name": "stdout",
     "output_type": "stream",
     "text": [
      "[200]\tval-rmse:0.45214\n"
     ]
    },
    {
     "name": "stdout",
     "output_type": "stream",
     "text": [
      "[300]\tval-rmse:0.44415\n"
     ]
    },
    {
     "name": "stdout",
     "output_type": "stream",
     "text": [
      "[400]\tval-rmse:0.43989\n"
     ]
    },
    {
     "name": "stdout",
     "output_type": "stream",
     "text": [
      "[500]\tval-rmse:0.43729\n"
     ]
    },
    {
     "name": "stdout",
     "output_type": "stream",
     "text": [
      "[600]\tval-rmse:0.43570\n"
     ]
    },
    {
     "name": "stdout",
     "output_type": "stream",
     "text": [
      "[700]\tval-rmse:0.43472\n"
     ]
    },
    {
     "name": "stdout",
     "output_type": "stream",
     "text": [
      "[800]\tval-rmse:0.43399\n"
     ]
    },
    {
     "name": "stdout",
     "output_type": "stream",
     "text": [
      "[900]\tval-rmse:0.43325\n"
     ]
    },
    {
     "name": "stdout",
     "output_type": "stream",
     "text": [
      "[1000]\tval-rmse:0.43285\n"
     ]
    },
    {
     "name": "stdout",
     "output_type": "stream",
     "text": [
      "[1100]\tval-rmse:0.43239\n"
     ]
    },
    {
     "name": "stdout",
     "output_type": "stream",
     "text": [
      "[1200]\tval-rmse:0.43208\n"
     ]
    },
    {
     "name": "stdout",
     "output_type": "stream",
     "text": [
      "[1300]\tval-rmse:0.43189\n"
     ]
    },
    {
     "name": "stdout",
     "output_type": "stream",
     "text": [
      "[1400]\tval-rmse:0.43180\n"
     ]
    },
    {
     "name": "stdout",
     "output_type": "stream",
     "text": [
      "[1500]\tval-rmse:0.43183\n"
     ]
    },
    {
     "name": "stdout",
     "output_type": "stream",
     "text": [
      "[1600]\tval-rmse:0.43174\n"
     ]
    },
    {
     "name": "stdout",
     "output_type": "stream",
     "text": [
      "[1700]\tval-rmse:0.43175\n"
     ]
    },
    {
     "name": "stdout",
     "output_type": "stream",
     "text": [
      "[1800]\tval-rmse:0.43164\n"
     ]
    },
    {
     "name": "stdout",
     "output_type": "stream",
     "text": [
      "[1900]\tval-rmse:0.43161\n"
     ]
    },
    {
     "name": "stdout",
     "output_type": "stream",
     "text": [
      "[2000]\tval-rmse:0.43151\n"
     ]
    },
    {
     "name": "stdout",
     "output_type": "stream",
     "text": [
      "[2100]\tval-rmse:0.43139\n"
     ]
    },
    {
     "name": "stdout",
     "output_type": "stream",
     "text": [
      "[2200]\tval-rmse:0.43139\n"
     ]
    },
    {
     "name": "stdout",
     "output_type": "stream",
     "text": [
      "[2300]\tval-rmse:0.43135\n"
     ]
    },
    {
     "name": "stdout",
     "output_type": "stream",
     "text": [
      "[2400]\tval-rmse:0.43139\n"
     ]
    },
    {
     "name": "stdout",
     "output_type": "stream",
     "text": [
      "[2499]\tval-rmse:0.43143\n"
     ]
    },
    {
     "name": "stdout",
     "output_type": "stream",
     "text": [
      "Fold 3 - RMSE: 0.43106673988247496\n",
      "Fold 4\n"
     ]
    },
    {
     "name": "stdout",
     "output_type": "stream",
     "text": [
      "[0]\tval-rmse:0.57649\n"
     ]
    },
    {
     "name": "stdout",
     "output_type": "stream",
     "text": [
      "[100]\tval-rmse:0.46332\n"
     ]
    },
    {
     "name": "stdout",
     "output_type": "stream",
     "text": [
      "[200]\tval-rmse:0.44125\n"
     ]
    },
    {
     "name": "stdout",
     "output_type": "stream",
     "text": [
      "[300]\tval-rmse:0.43362\n"
     ]
    },
    {
     "name": "stdout",
     "output_type": "stream",
     "text": [
      "[400]\tval-rmse:0.42958\n"
     ]
    },
    {
     "name": "stdout",
     "output_type": "stream",
     "text": [
      "[500]\tval-rmse:0.42712\n"
     ]
    },
    {
     "name": "stdout",
     "output_type": "stream",
     "text": [
      "[600]\tval-rmse:0.42582\n"
     ]
    },
    {
     "name": "stdout",
     "output_type": "stream",
     "text": [
      "[700]\tval-rmse:0.42443\n"
     ]
    },
    {
     "name": "stdout",
     "output_type": "stream",
     "text": [
      "[800]\tval-rmse:0.42384\n"
     ]
    },
    {
     "name": "stdout",
     "output_type": "stream",
     "text": [
      "[900]\tval-rmse:0.42317\n"
     ]
    },
    {
     "name": "stdout",
     "output_type": "stream",
     "text": [
      "[1000]\tval-rmse:0.42268\n"
     ]
    },
    {
     "name": "stdout",
     "output_type": "stream",
     "text": [
      "[1100]\tval-rmse:0.42242\n"
     ]
    },
    {
     "name": "stdout",
     "output_type": "stream",
     "text": [
      "[1200]\tval-rmse:0.42193\n"
     ]
    },
    {
     "name": "stdout",
     "output_type": "stream",
     "text": [
      "[1300]\tval-rmse:0.42162\n"
     ]
    },
    {
     "name": "stdout",
     "output_type": "stream",
     "text": [
      "[1400]\tval-rmse:0.42136\n"
     ]
    },
    {
     "name": "stdout",
     "output_type": "stream",
     "text": [
      "[1500]\tval-rmse:0.42119\n"
     ]
    },
    {
     "name": "stdout",
     "output_type": "stream",
     "text": [
      "[1600]\tval-rmse:0.42104\n"
     ]
    },
    {
     "name": "stdout",
     "output_type": "stream",
     "text": [
      "[1700]\tval-rmse:0.42092\n"
     ]
    },
    {
     "name": "stdout",
     "output_type": "stream",
     "text": [
      "[1800]\tval-rmse:0.42076\n"
     ]
    },
    {
     "name": "stdout",
     "output_type": "stream",
     "text": [
      "[1900]\tval-rmse:0.42071\n"
     ]
    },
    {
     "name": "stdout",
     "output_type": "stream",
     "text": [
      "[2000]\tval-rmse:0.42076\n"
     ]
    },
    {
     "name": "stdout",
     "output_type": "stream",
     "text": [
      "[2100]\tval-rmse:0.42086\n"
     ]
    },
    {
     "name": "stdout",
     "output_type": "stream",
     "text": [
      "[2200]\tval-rmse:0.42081\n"
     ]
    },
    {
     "name": "stdout",
     "output_type": "stream",
     "text": [
      "[2300]\tval-rmse:0.42072\n"
     ]
    },
    {
     "name": "stdout",
     "output_type": "stream",
     "text": [
      "[2400]\tval-rmse:0.42072\n"
     ]
    },
    {
     "name": "stdout",
     "output_type": "stream",
     "text": [
      "[2499]\tval-rmse:0.42072\n"
     ]
    },
    {
     "name": "stdout",
     "output_type": "stream",
     "text": [
      "Fold 4 - RMSE: 0.4203703859564748\n",
      "Fold 5\n"
     ]
    },
    {
     "name": "stdout",
     "output_type": "stream",
     "text": [
      "[0]\tval-rmse:0.58566\n"
     ]
    },
    {
     "name": "stdout",
     "output_type": "stream",
     "text": [
      "[100]\tval-rmse:0.48127\n"
     ]
    },
    {
     "name": "stdout",
     "output_type": "stream",
     "text": [
      "[200]\tval-rmse:0.45889\n"
     ]
    },
    {
     "name": "stdout",
     "output_type": "stream",
     "text": [
      "[300]\tval-rmse:0.44883\n"
     ]
    },
    {
     "name": "stdout",
     "output_type": "stream",
     "text": [
      "[400]\tval-rmse:0.44274\n"
     ]
    },
    {
     "name": "stdout",
     "output_type": "stream",
     "text": [
      "[500]\tval-rmse:0.43913\n"
     ]
    },
    {
     "name": "stdout",
     "output_type": "stream",
     "text": [
      "[600]\tval-rmse:0.43703\n"
     ]
    },
    {
     "name": "stdout",
     "output_type": "stream",
     "text": [
      "[700]\tval-rmse:0.43504\n"
     ]
    },
    {
     "name": "stdout",
     "output_type": "stream",
     "text": [
      "[800]\tval-rmse:0.43390\n"
     ]
    },
    {
     "name": "stdout",
     "output_type": "stream",
     "text": [
      "[900]\tval-rmse:0.43305\n"
     ]
    },
    {
     "name": "stdout",
     "output_type": "stream",
     "text": [
      "[1000]\tval-rmse:0.43245\n"
     ]
    },
    {
     "name": "stdout",
     "output_type": "stream",
     "text": [
      "[1100]\tval-rmse:0.43182\n"
     ]
    },
    {
     "name": "stdout",
     "output_type": "stream",
     "text": [
      "[1200]\tval-rmse:0.43128\n"
     ]
    },
    {
     "name": "stdout",
     "output_type": "stream",
     "text": [
      "[1300]\tval-rmse:0.43088\n"
     ]
    },
    {
     "name": "stdout",
     "output_type": "stream",
     "text": [
      "[1400]\tval-rmse:0.43039\n"
     ]
    },
    {
     "name": "stdout",
     "output_type": "stream",
     "text": [
      "[1500]\tval-rmse:0.43022\n"
     ]
    },
    {
     "name": "stdout",
     "output_type": "stream",
     "text": [
      "[1600]\tval-rmse:0.43002\n"
     ]
    },
    {
     "name": "stdout",
     "output_type": "stream",
     "text": [
      "[1700]\tval-rmse:0.42987\n"
     ]
    },
    {
     "name": "stdout",
     "output_type": "stream",
     "text": [
      "[1800]\tval-rmse:0.42967\n"
     ]
    },
    {
     "name": "stdout",
     "output_type": "stream",
     "text": [
      "[1900]\tval-rmse:0.42947\n"
     ]
    },
    {
     "name": "stdout",
     "output_type": "stream",
     "text": [
      "[2000]\tval-rmse:0.42944\n"
     ]
    },
    {
     "name": "stdout",
     "output_type": "stream",
     "text": [
      "[2100]\tval-rmse:0.42930\n"
     ]
    },
    {
     "name": "stdout",
     "output_type": "stream",
     "text": [
      "[2200]\tval-rmse:0.42937\n"
     ]
    },
    {
     "name": "stdout",
     "output_type": "stream",
     "text": [
      "[2300]\tval-rmse:0.42925\n"
     ]
    },
    {
     "name": "stdout",
     "output_type": "stream",
     "text": [
      "[2400]\tval-rmse:0.42913\n"
     ]
    },
    {
     "name": "stdout",
     "output_type": "stream",
     "text": [
      "[2499]\tval-rmse:0.42903\n"
     ]
    },
    {
     "name": "stdout",
     "output_type": "stream",
     "text": [
      "Fold 5 - RMSE: 0.4286246025700446\n",
      "List of oof scores: [0.4388662685286276, 0.4172891878255326, 0.43106673988247496, 0.4203703859564748, 0.4286246025700446]\n",
      "Average oof score: 0.42724343695263095\n"
     ]
    }
   ],
   "source": [
    "# call the function\n",
    "trained_models3, oof3, oof_scores3, importance_df3 = train_models(\n",
    "    df_train,\n",
    "    'utility_agent1',\n",
    "    numerical_cols,\n",
    "    categorical_cols,\n",
    "    split_list=split3,\n",
    ")\n",
    "# save oof predictions\n",
    "oof3.to_parquet(path_results / f'oof_xgboost_{fs_type}_cv3.parquet', index=False)"
   ]
  },
  {
   "cell_type": "code",
   "execution_count": 14,
   "id": "20ff5159",
   "metadata": {
    "execution": {
     "iopub.execute_input": "2024-11-28T01:10:26.364137Z",
     "iopub.status.busy": "2024-11-28T01:10:26.364006Z",
     "iopub.status.idle": "2024-11-28T01:10:26.366408Z",
     "shell.execute_reply": "2024-11-28T01:10:26.366165Z"
    },
    "papermill": {
     "duration": 0.013807,
     "end_time": "2024-11-28T01:10:26.367194",
     "exception": false,
     "start_time": "2024-11-28T01:10:26.353387",
     "status": "completed"
    },
    "tags": []
   },
   "outputs": [
    {
     "name": "stdout",
     "output_type": "stream",
     "text": [
      "CV1 OOF Scores:\n",
      "Score: 0.4215\n",
      "Score: 0.4407\n",
      "Score: 0.4262\n",
      "Score: 0.4317\n",
      "Score: 0.4043\n",
      "Average CV1 Score: 0.4249\n",
      "\n",
      "CV2 OOF Scores:\n",
      "Score: 0.4049\n",
      "Score: 0.4010\n",
      "Score: 0.4337\n",
      "Score: 0.4433\n",
      "Score: 0.4314\n",
      "Average CV2 Score: 0.4229\n",
      "\n",
      "CV3 OOF Scores:\n",
      "Score: 0.4389\n",
      "Score: 0.4173\n",
      "Score: 0.4311\n",
      "Score: 0.4204\n",
      "Score: 0.4286\n",
      "Average CV3 Score: 0.4272\n"
     ]
    }
   ],
   "source": [
    "# Print summary of OOF scores for each CV fold\n",
    "print(\"CV1 OOF Scores:\")\n",
    "for score in oof_scores1:\n",
    "    print(f\"Score: {score:.4f}\")\n",
    "print(f\"Average CV1 Score: {sum(oof_scores1)/len(oof_scores1):.4f}\")\n",
    "    \n",
    "print(\"\\nCV2 OOF Scores:\")  \n",
    "for score in oof_scores2:\n",
    "    print(f\"Score: {score:.4f}\")\n",
    "print(f\"Average CV2 Score: {sum(oof_scores2)/len(oof_scores2):.4f}\")\n",
    "    \n",
    "print(\"\\nCV3 OOF Scores:\")\n",
    "for score in oof_scores3:\n",
    "    print(f\"Score: {score:.4f}\")\n",
    "print(f\"Average CV3 Score: {sum(oof_scores3)/len(oof_scores3):.4f}\")"
   ]
  },
  {
   "cell_type": "code",
   "execution_count": 15,
   "id": "abe5637e",
   "metadata": {
    "execution": {
     "iopub.execute_input": "2024-11-28T01:10:26.387796Z",
     "iopub.status.busy": "2024-11-28T01:10:26.387658Z",
     "iopub.status.idle": "2024-11-28T01:10:26.389550Z",
     "shell.execute_reply": "2024-11-28T01:10:26.389287Z"
    },
    "papermill": {
     "duration": 0.012799,
     "end_time": "2024-11-28T01:10:26.390235",
     "exception": false,
     "start_time": "2024-11-28T01:10:26.377436",
     "status": "completed"
    },
    "tags": []
   },
   "outputs": [],
   "source": [
    "trained_models = [*trained_models1, *trained_models2, *trained_models3]\n",
    "# trained_models = trained_models1"
   ]
  },
  {
   "cell_type": "code",
   "execution_count": 16,
   "id": "0bf2fb82",
   "metadata": {
    "execution": {
     "iopub.execute_input": "2024-11-28T01:10:26.410525Z",
     "iopub.status.busy": "2024-11-28T01:10:26.410353Z",
     "iopub.status.idle": "2024-11-28T01:10:26.516651Z",
     "shell.execute_reply": "2024-11-28T01:10:26.516392Z"
    },
    "papermill": {
     "duration": 0.117164,
     "end_time": "2024-11-28T01:10:26.517420",
     "exception": false,
     "start_time": "2024-11-28T01:10:26.400256",
     "status": "completed"
    },
    "tags": []
   },
   "outputs": [
    {
     "data": {
      "image/png": "[encoded data removed]",
      "text/plain": [
       "<Figure size 640x480 with 1 Axes>"
      ]
     },
     "metadata": {},
     "output_type": "display_data"
    }
   ],
   "source": [
    "plt.hist(oof1['utility_agent1_true'], alpha=0.5, label='Target')\n",
    "plt.hist(oof1['utility_agent1_pred'], alpha=0.5, label='Prediction')\n",
    "plt.legend()\n",
    "plt.show()"
   ]
  },
  {
   "cell_type": "markdown",
   "id": "235db6bb",
   "metadata": {
    "papermill": {
     "duration": 0.01013,
     "end_time": "2024-11-28T01:10:26.538426",
     "exception": false,
     "start_time": "2024-11-28T01:10:26.528296",
     "status": "completed"
    },
    "tags": []
   },
   "source": [
    "***\n",
    "### inference"
   ]
  },
  {
   "cell_type": "code",
   "execution_count": 17,
   "id": "8720d3f9",
   "metadata": {
    "execution": {
     "iopub.execute_input": "2024-11-28T01:10:26.559459Z",
     "iopub.status.busy": "2024-11-28T01:10:26.559324Z",
     "iopub.status.idle": "2024-11-28T01:10:26.668299Z",
     "shell.execute_reply": "2024-11-28T01:10:26.668036Z"
    },
    "papermill": {
     "duration": 0.120559,
     "end_time": "2024-11-28T01:10:26.669163",
     "exception": false,
     "start_time": "2024-11-28T01:10:26.548604",
     "status": "completed"
    },
    "tags": []
   },
   "outputs": [],
   "source": [
    "import os\n",
    "import polars as pl\n",
    "sys.path.append(\"../data/raw/\")\n",
    "import kaggle_evaluation.mcts_inference_server"
   ]
  },
  {
   "cell_type": "code",
   "execution_count": 18,
   "id": "a408eb30",
   "metadata": {
    "execution": {
     "iopub.execute_input": "2024-11-28T01:10:26.691459Z",
     "iopub.status.busy": "2024-11-28T01:10:26.691297Z",
     "iopub.status.idle": "2024-11-28T01:10:26.694749Z",
     "shell.execute_reply": "2024-11-28T01:10:26.694502Z"
    },
    "papermill": {
     "duration": 0.0156,
     "end_time": "2024-11-28T01:10:26.695485",
     "exception": false,
     "start_time": "2024-11-28T01:10:26.679885",
     "status": "completed"
    },
    "tags": []
   },
   "outputs": [],
   "source": [
    "def predict(test: pl.DataFrame, sample_sub: pl.DataFrame):\n",
    "    # Convert Polars DataFrame to Pandas DataFrame\n",
    "    test_pd = test.to_pandas()\n",
    "    \n",
    "    # Process the test data\n",
    "    test_processed = process_test_data(\n",
    "        test_pd,\n",
    "        numerical_cols,\n",
    "        categorical_cols,\n",
    "        encoder,\n",
    "        scaler\n",
    "    )\n",
    "\n",
    "    # Create feature types list for XGBoost\n",
    "    feature_types = [\n",
    "        \"c\" if col in categorical_cols else \"q\" \n",
    "        for col in numerical_cols + categorical_cols\n",
    "    ]\n",
    "\n",
    "    # Create XGBoost DMatrix for test data\n",
    "    test_dmatrix = xgb.DMatrix(\n",
    "        data=test_processed[numerical_cols + categorical_cols],\n",
    "        feature_types=feature_types,\n",
    "        enable_categorical=True\n",
    "    )\n",
    "\n",
    "    # Average predictions from all models\n",
    "    predictions = np.mean([\n",
    "        model.predict(test_dmatrix)\n",
    "        for model in trained_models\n",
    "    ], axis=0)\n",
    "    predictions = np.clip(predictions, -1, 1)\n",
    "        \n",
    "    # Create the submission DataFrame\n",
    "    submission = sample_sub.with_columns(pl.Series(\"utility_agent1\", predictions))\n",
    "    \n",
    "    return submission"
   ]
  },
  {
   "cell_type": "code",
   "execution_count": 19,
   "id": "4b0d1779",
   "metadata": {
    "execution": {
     "iopub.execute_input": "2024-11-28T01:10:26.717000Z",
     "iopub.status.busy": "2024-11-28T01:10:26.716879Z",
     "iopub.status.idle": "2024-11-28T01:10:26.920334Z",
     "shell.execute_reply": "2024-11-28T01:10:26.920008Z"
    },
    "papermill": {
     "duration": 0.215003,
     "end_time": "2024-11-28T01:10:26.921174",
     "exception": false,
     "start_time": "2024-11-28T01:10:26.706171",
     "status": "completed"
    },
    "tags": []
   },
   "outputs": [],
   "source": [
    "inference_server = kaggle_evaluation.mcts_inference_server.MCTSInferenceServer(predict)\n",
    "\n",
    "if os.getenv('KAGGLE_IS_COMPETITION_RERUN'):\n",
    "    inference_server.serve()\n",
    "else:\n",
    "    inference_server.run_local_gateway(\n",
    "        (\n",
    "            '../data/raw/test.csv',\n",
    "            '../data/raw/sample_submission.csv'\n",
    "        )\n",
    "    )"
   ]
  },
  {
   "cell_type": "code",
   "execution_count": 20,
   "id": "dfc6be2d",
   "metadata": {
    "execution": {
     "iopub.execute_input": "2024-11-28T01:10:26.942446Z",
     "iopub.status.busy": "2024-11-28T01:10:26.942292Z",
     "iopub.status.idle": "2024-11-28T01:10:27.767076Z",
     "shell.execute_reply": "2024-11-28T01:10:27.766600Z"
    },
    "papermill": {
     "duration": 0.836448,
     "end_time": "2024-11-28T01:10:27.767957",
     "exception": false,
     "start_time": "2024-11-28T01:10:26.931509",
     "status": "completed"
    },
    "tags": []
   },
   "outputs": [],
   "source": [
    "# Save all artifacts needed for prediction\n",
    "xgboost_predict = {\n",
    "    'models': trained_models,\n",
    "    'numerical_cols': numerical_cols,\n",
    "    'categorical_cols': categorical_cols,\n",
    "    'encoder': encoder,\n",
    "    'scaler': scaler\n",
    "}\n",
    "\n",
    "with open(f'./xgboost_predict_{fs_type}.pkl', 'wb') as f:\n",
    "    pickle.dump(xgboost_predict, f)"
   ]
  },
  {
   "cell_type": "markdown",
   "id": "0cfef0dc",
   "metadata": {
    "papermill": {
     "duration": 0.010254,
     "end_time": "2024-11-28T01:10:27.788370",
     "exception": false,
     "start_time": "2024-11-28T01:10:27.778116",
     "status": "completed"
    },
    "tags": []
   },
   "source": [
    "***"
   ]
  }
 ],
 "metadata": {
  "kernelspec": {
   "display_name": "mcts-strength-variants-kSTIVMm8-py3.10",
   "language": "python",
   "name": "python3"
  },
  "language_info": {
   "codemirror_mode": {
    "name": "ipython",
    "version": 3
   },
   "file_extension": ".py",
   "mimetype": "text/x-python",
   "name": "python",
   "nbconvert_exporter": "python",
   "pygments_lexer": "ipython3",
   "version": "3.10.14"
  },
  "papermill": {
   "default_parameters": {},
   "duration": 743.746571,
   "end_time": "2024-11-28T01:10:28.220586",
   "environment_variables": {},
   "exception": null,
   "input_path": "train/xgboost.ipynb",
   "output_path": "train/outputs/xgboost_fsv4.ipynb",
   "parameters": {
    "fs_type": "fsv4"
   },
   "start_time": "2024-11-28T00:58:04.474015",
   "version": "2.6.0"
  }
 },
 "nbformat": 4,
 "nbformat_minor": 5
}