{
 "cells": [
  {
   "cell_type": "code",
   "execution_count": 1,
   "id": "5bc9957d",
   "metadata": {
    "execution": {
     "iopub.execute_input": "2024-11-28T03:00:39.301754Z",
     "iopub.status.busy": "2024-11-28T03:00:39.301502Z",
     "iopub.status.idle": "2024-11-28T03:00:40.104420Z",
     "shell.execute_reply": "2024-11-28T03:00:40.104136Z"
    },
    "papermill": {
     "duration": 0.815619,
     "end_time": "2024-11-28T03:00:40.105184",
     "exception": false,
     "start_time": "2024-11-28T03:00:39.289565",
     "status": "completed"
    },
    "tags": []
   },
   "outputs": [
    {
     "name": "stdout",
     "output_type": "stream",
     "text": [
      "xgb.__version__: 2.1.1\n"
     ]
    }
   ],
   "source": [
    "import numpy as np\n",
    "import pandas as pd\n",
    "import matplotlib.pyplot as plt\n",
    "from pathlib import Path\n",
    "import json\n",
    "import pickle\n",
    "\n",
    "import xgboost as xgb\n",
    "print(\"xgb.__version__:\", xgb.__version__)\n",
    "\n",
    "# local modules\n",
    "import sys\n",
    "sys.path.append(\"../src\")\n",
    "from preproc import process_train_data, process_test_data"
   ]
  },
  {
   "cell_type": "markdown",
   "id": "7e3cdb68",
   "metadata": {
    "papermill": {
     "duration": 0.001678,
     "end_time": "2024-11-28T03:00:40.108920",
     "exception": false,
     "start_time": "2024-11-28T03:00:40.107242",
     "status": "completed"
    },
    "tags": []
   },
   "source": [
    "***\n",
    "### load and preprocess data"
   ]
  },
  {
   "cell_type": "code",
   "execution_count": 2,
   "id": "adf69315",
   "metadata": {
    "execution": {
     "iopub.execute_input": "2024-11-28T03:00:40.112663Z",
     "iopub.status.busy": "2024-11-28T03:00:40.112522Z",
     "iopub.status.idle": "2024-11-28T03:00:46.240410Z",
     "shell.execute_reply": "2024-11-28T03:00:46.240132Z"
    },
    "papermill": {
     "duration": 6.130601,
     "end_time": "2024-11-28T03:00:46.241136",
     "exception": false,
     "start_time": "2024-11-28T03:00:40.110535",
     "status": "completed"
    },
    "tags": []
   },
   "outputs": [
    {
     "data": {
      "text/html": [
       "<div>\n",
       "<style scoped>\n",
       "    .dataframe tbody tr th:only-of-type {\n",
       "        vertical-align: middle;\n",
       "    }\n",
       "\n",
       "    .dataframe tbody tr th {\n",
       "        vertical-align: top;\n",
       "    }\n",
       "\n",
       "    .dataframe thead th {\n",
       "        text-align: right;\n",
       "    }\n",
       "</style>\n",
       "<table border=\"1\" class=\"dataframe\">\n",
       "  <thead>\n",
       "    <tr style=\"text-align: right;\">\n",
       "      <th></th>\n",
       "      <th>Id</th>\n",
       "      <th>GameRulesetName</th>\n",
       "      <th>agent1</th>\n",
       "      <th>agent2</th>\n",
       "      <th>Properties</th>\n",
       "      <th>Format</th>\n",
       "      <th>Time</th>\n",
       "      <th>Discrete</th>\n",
       "      <th>Realtime</th>\n",
       "      <th>Turns</th>\n",
       "      <th>...</th>\n",
       "      <th>DoLudeme</th>\n",
       "      <th>Trigger</th>\n",
       "      <th>PlayoutsPerSecond</th>\n",
       "      <th>MovesPerSecond</th>\n",
       "      <th>EnglishRules</th>\n",
       "      <th>LudRules</th>\n",
       "      <th>num_wins_agent1</th>\n",
       "      <th>num_draws_agent1</th>\n",
       "      <th>num_losses_agent1</th>\n",
       "      <th>utility_agent1</th>\n",
       "    </tr>\n",
       "  </thead>\n",
       "  <tbody>\n",
       "    <tr>\n",
       "      <th>0</th>\n",
       "      <td>0</td>\n",
       "      <td>00Y</td>\n",
       "      <td>MCTS-ProgressiveHistory-0.1-MAST-false</td>\n",
       "      <td>MCTS-ProgressiveHistory-0.6-Random200-false</td>\n",
       "      <td>1</td>\n",
       "      <td>1</td>\n",
       "      <td>1</td>\n",
       "      <td>1</td>\n",
       "      <td>0</td>\n",
       "      <td>1</td>\n",
       "      <td>...</td>\n",
       "      <td>0</td>\n",
       "      <td>1</td>\n",
       "      <td>298.07</td>\n",
       "      <td>18877.17</td>\n",
       "      <td>Goal: Connect all three edge colors with a sin...</td>\n",
       "      <td>(game \"00'Y'\" (players 2) (equipment { (board ...</td>\n",
       "      <td>4</td>\n",
       "      <td>0</td>\n",
       "      <td>11</td>\n",
       "      <td>-0.466667</td>\n",
       "    </tr>\n",
       "    <tr>\n",
       "      <th>1</th>\n",
       "      <td>1</td>\n",
       "      <td>00Y</td>\n",
       "      <td>MCTS-ProgressiveHistory-0.1-MAST-false</td>\n",
       "      <td>MCTS-UCB1GRAVE-0.6-NST-true</td>\n",
       "      <td>1</td>\n",
       "      <td>1</td>\n",
       "      <td>1</td>\n",
       "      <td>1</td>\n",
       "      <td>0</td>\n",
       "      <td>1</td>\n",
       "      <td>...</td>\n",
       "      <td>0</td>\n",
       "      <td>1</td>\n",
       "      <td>298.07</td>\n",
       "      <td>18877.17</td>\n",
       "      <td>Goal: Connect all three edge colors with a sin...</td>\n",
       "      <td>(game \"00'Y'\" (players 2) (equipment { (board ...</td>\n",
       "      <td>5</td>\n",
       "      <td>0</td>\n",
       "      <td>10</td>\n",
       "      <td>-0.333333</td>\n",
       "    </tr>\n",
       "    <tr>\n",
       "      <th>2</th>\n",
       "      <td>2</td>\n",
       "      <td>00Y</td>\n",
       "      <td>MCTS-ProgressiveHistory-0.1-MAST-true</td>\n",
       "      <td>MCTS-UCB1-0.1-NST-false</td>\n",
       "      <td>1</td>\n",
       "      <td>1</td>\n",
       "      <td>1</td>\n",
       "      <td>1</td>\n",
       "      <td>0</td>\n",
       "      <td>1</td>\n",
       "      <td>...</td>\n",
       "      <td>0</td>\n",
       "      <td>1</td>\n",
       "      <td>298.07</td>\n",
       "      <td>18877.17</td>\n",
       "      <td>Goal: Connect all three edge colors with a sin...</td>\n",
       "      <td>(game \"00'Y'\" (players 2) (equipment { (board ...</td>\n",
       "      <td>7</td>\n",
       "      <td>0</td>\n",
       "      <td>8</td>\n",
       "      <td>-0.066667</td>\n",
       "    </tr>\n",
       "    <tr>\n",
       "      <th>3</th>\n",
       "      <td>3</td>\n",
       "      <td>00Y</td>\n",
       "      <td>MCTS-ProgressiveHistory-0.1-MAST-true</td>\n",
       "      <td>MCTS-UCB1-0.6-NST-false</td>\n",
       "      <td>1</td>\n",
       "      <td>1</td>\n",
       "      <td>1</td>\n",
       "      <td>1</td>\n",
       "      <td>0</td>\n",
       "      <td>1</td>\n",
       "      <td>...</td>\n",
       "      <td>0</td>\n",
       "      <td>1</td>\n",
       "      <td>298.07</td>\n",
       "      <td>18877.17</td>\n",
       "      <td>Goal: Connect all three edge colors with a sin...</td>\n",
       "      <td>(game \"00'Y'\" (players 2) (equipment { (board ...</td>\n",
       "      <td>5</td>\n",
       "      <td>0</td>\n",
       "      <td>10</td>\n",
       "      <td>-0.333333</td>\n",
       "    </tr>\n",
       "    <tr>\n",
       "      <th>4</th>\n",
       "      <td>4</td>\n",
       "      <td>00Y</td>\n",
       "      <td>MCTS-ProgressiveHistory-0.1-MAST-true</td>\n",
       "      <td>MCTS-UCB1GRAVE-1.41421356237-NST-false</td>\n",
       "      <td>1</td>\n",
       "      <td>1</td>\n",
       "      <td>1</td>\n",
       "      <td>1</td>\n",
       "      <td>0</td>\n",
       "      <td>1</td>\n",
       "      <td>...</td>\n",
       "      <td>0</td>\n",
       "      <td>1</td>\n",
       "      <td>298.07</td>\n",
       "      <td>18877.17</td>\n",
       "      <td>Goal: Connect all three edge colors with a sin...</td>\n",
       "      <td>(game \"00'Y'\" (players 2) (equipment { (board ...</td>\n",
       "      <td>5</td>\n",
       "      <td>0</td>\n",
       "      <td>10</td>\n",
       "      <td>-0.333333</td>\n",
       "    </tr>\n",
       "    <tr>\n",
       "      <th>...</th>\n",
       "      <td>...</td>\n",
       "      <td>...</td>\n",
       "      <td>...</td>\n",
       "      <td>...</td>\n",
       "      <td>...</td>\n",
       "      <td>...</td>\n",
       "      <td>...</td>\n",
       "      <td>...</td>\n",
       "      <td>...</td>\n",
       "      <td>...</td>\n",
       "      <td>...</td>\n",
       "      <td>...</td>\n",
       "      <td>...</td>\n",
       "      <td>...</td>\n",
       "      <td>...</td>\n",
       "      <td>...</td>\n",
       "      <td>...</td>\n",
       "      <td>...</td>\n",
       "      <td>...</td>\n",
       "      <td>...</td>\n",
       "      <td>...</td>\n",
       "    </tr>\n",
       "    <tr>\n",
       "      <th>233229</th>\n",
       "      <td>233229</td>\n",
       "      <td>Zuz_Mel_7x7</td>\n",
       "      <td>MCTS-UCB1Tuned-1.41421356237-NST-false</td>\n",
       "      <td>MCTS-ProgressiveHistory-1.41421356237-Random20...</td>\n",
       "      <td>1</td>\n",
       "      <td>1</td>\n",
       "      <td>1</td>\n",
       "      <td>1</td>\n",
       "      <td>0</td>\n",
       "      <td>1</td>\n",
       "      <td>...</td>\n",
       "      <td>0</td>\n",
       "      <td>0</td>\n",
       "      <td>157.52</td>\n",
       "      <td>157174.58</td>\n",
       "      <td>7x7 board. 24 pieces per player. Pieces begin ...</td>\n",
       "      <td>(game \"Zuz Mel (7x7)\" (players 2) (equipment {...</td>\n",
       "      <td>2</td>\n",
       "      <td>0</td>\n",
       "      <td>13</td>\n",
       "      <td>-0.733333</td>\n",
       "    </tr>\n",
       "    <tr>\n",
       "      <th>233230</th>\n",
       "      <td>233230</td>\n",
       "      <td>Zuz_Mel_7x7</td>\n",
       "      <td>MCTS-UCB1Tuned-1.41421356237-Random200-false</td>\n",
       "      <td>MCTS-UCB1-0.6-MAST-false</td>\n",
       "      <td>1</td>\n",
       "      <td>1</td>\n",
       "      <td>1</td>\n",
       "      <td>1</td>\n",
       "      <td>0</td>\n",
       "      <td>1</td>\n",
       "      <td>...</td>\n",
       "      <td>0</td>\n",
       "      <td>0</td>\n",
       "      <td>157.52</td>\n",
       "      <td>157174.58</td>\n",
       "      <td>7x7 board. 24 pieces per player. Pieces begin ...</td>\n",
       "      <td>(game \"Zuz Mel (7x7)\" (players 2) (equipment {...</td>\n",
       "      <td>9</td>\n",
       "      <td>1</td>\n",
       "      <td>5</td>\n",
       "      <td>0.266667</td>\n",
       "    </tr>\n",
       "    <tr>\n",
       "      <th>233231</th>\n",
       "      <td>233231</td>\n",
       "      <td>Zuz_Mel_7x7</td>\n",
       "      <td>MCTS-UCB1Tuned-1.41421356237-Random200-false</td>\n",
       "      <td>MCTS-UCB1GRAVE-1.41421356237-NST-false</td>\n",
       "      <td>1</td>\n",
       "      <td>1</td>\n",
       "      <td>1</td>\n",
       "      <td>1</td>\n",
       "      <td>0</td>\n",
       "      <td>1</td>\n",
       "      <td>...</td>\n",
       "      <td>0</td>\n",
       "      <td>0</td>\n",
       "      <td>157.52</td>\n",
       "      <td>157174.58</td>\n",
       "      <td>7x7 board. 24 pieces per player. Pieces begin ...</td>\n",
       "      <td>(game \"Zuz Mel (7x7)\" (players 2) (equipment {...</td>\n",
       "      <td>11</td>\n",
       "      <td>3</td>\n",
       "      <td>1</td>\n",
       "      <td>0.666667</td>\n",
       "    </tr>\n",
       "    <tr>\n",
       "      <th>233232</th>\n",
       "      <td>233232</td>\n",
       "      <td>Zuz_Mel_7x7</td>\n",
       "      <td>MCTS-UCB1Tuned-1.41421356237-Random200-false</td>\n",
       "      <td>MCTS-UCB1GRAVE-1.41421356237-NST-true</td>\n",
       "      <td>1</td>\n",
       "      <td>1</td>\n",
       "      <td>1</td>\n",
       "      <td>1</td>\n",
       "      <td>0</td>\n",
       "      <td>1</td>\n",
       "      <td>...</td>\n",
       "      <td>0</td>\n",
       "      <td>0</td>\n",
       "      <td>157.52</td>\n",
       "      <td>157174.58</td>\n",
       "      <td>7x7 board. 24 pieces per player. Pieces begin ...</td>\n",
       "      <td>(game \"Zuz Mel (7x7)\" (players 2) (equipment {...</td>\n",
       "      <td>24</td>\n",
       "      <td>2</td>\n",
       "      <td>4</td>\n",
       "      <td>0.666667</td>\n",
       "    </tr>\n",
       "    <tr>\n",
       "      <th>233233</th>\n",
       "      <td>233233</td>\n",
       "      <td>Zuz_Mel_7x7</td>\n",
       "      <td>MCTS-UCB1Tuned-1.41421356237-Random200-true</td>\n",
       "      <td>MCTS-UCB1Tuned-0.6-MAST-false</td>\n",
       "      <td>1</td>\n",
       "      <td>1</td>\n",
       "      <td>1</td>\n",
       "      <td>1</td>\n",
       "      <td>0</td>\n",
       "      <td>1</td>\n",
       "      <td>...</td>\n",
       "      <td>0</td>\n",
       "      <td>0</td>\n",
       "      <td>157.52</td>\n",
       "      <td>157174.58</td>\n",
       "      <td>7x7 board. 24 pieces per player. Pieces begin ...</td>\n",
       "      <td>(game \"Zuz Mel (7x7)\" (players 2) (equipment {...</td>\n",
       "      <td>9</td>\n",
       "      <td>1</td>\n",
       "      <td>5</td>\n",
       "      <td>0.266667</td>\n",
       "    </tr>\n",
       "  </tbody>\n",
       "</table>\n",
       "<p>233234 rows × 814 columns</p>\n",
       "</div>"
      ],
      "text/plain": [
       "            Id GameRulesetName                                        agent1  \\\n",
       "0            0             00Y        MCTS-ProgressiveHistory-0.1-MAST-false   \n",
       "1            1             00Y        MCTS-ProgressiveHistory-0.1-MAST-false   \n",
       "2            2             00Y         MCTS-ProgressiveHistory-0.1-MAST-true   \n",
       "3            3             00Y         MCTS-ProgressiveHistory-0.1-MAST-true   \n",
       "4            4             00Y         MCTS-ProgressiveHistory-0.1-MAST-true   \n",
       "...        ...             ...                                           ...   \n",
       "233229  233229     Zuz_Mel_7x7        MCTS-UCB1Tuned-1.41421356237-NST-false   \n",
       "233230  233230     Zuz_Mel_7x7  MCTS-UCB1Tuned-1.41421356237-Random200-false   \n",
       "233231  233231     Zuz_Mel_7x7  MCTS-UCB1Tuned-1.41421356237-Random200-false   \n",
       "233232  233232     Zuz_Mel_7x7  MCTS-UCB1Tuned-1.41421356237-Random200-false   \n",
       "233233  233233     Zuz_Mel_7x7   MCTS-UCB1Tuned-1.41421356237-Random200-true   \n",
       "\n",
       "                                                   agent2  Properties  Format  \\\n",
       "0             MCTS-ProgressiveHistory-0.6-Random200-false           1       1   \n",
       "1                             MCTS-UCB1GRAVE-0.6-NST-true           1       1   \n",
       "2                                 MCTS-UCB1-0.1-NST-false           1       1   \n",
       "3                                 MCTS-UCB1-0.6-NST-false           1       1   \n",
       "4                  MCTS-UCB1GRAVE-1.41421356237-NST-false           1       1   \n",
       "...                                                   ...         ...     ...   \n",
       "233229  MCTS-ProgressiveHistory-1.41421356237-Random20...           1       1   \n",
       "233230                           MCTS-UCB1-0.6-MAST-false           1       1   \n",
       "233231             MCTS-UCB1GRAVE-1.41421356237-NST-false           1       1   \n",
       "233232              MCTS-UCB1GRAVE-1.41421356237-NST-true           1       1   \n",
       "233233                      MCTS-UCB1Tuned-0.6-MAST-false           1       1   \n",
       "\n",
       "        Time  Discrete  Realtime  Turns  ...  DoLudeme  Trigger  \\\n",
       "0          1         1         0      1  ...         0        1   \n",
       "1          1         1         0      1  ...         0        1   \n",
       "2          1         1         0      1  ...         0        1   \n",
       "3          1         1         0      1  ...         0        1   \n",
       "4          1         1         0      1  ...         0        1   \n",
       "...      ...       ...       ...    ...  ...       ...      ...   \n",
       "233229     1         1         0      1  ...         0        0   \n",
       "233230     1         1         0      1  ...         0        0   \n",
       "233231     1         1         0      1  ...         0        0   \n",
       "233232     1         1         0      1  ...         0        0   \n",
       "233233     1         1         0      1  ...         0        0   \n",
       "\n",
       "        PlayoutsPerSecond  MovesPerSecond  \\\n",
       "0                  298.07        18877.17   \n",
       "1                  298.07        18877.17   \n",
       "2                  298.07        18877.17   \n",
       "3                  298.07        18877.17   \n",
       "4                  298.07        18877.17   \n",
       "...                   ...             ...   \n",
       "233229             157.52       157174.58   \n",
       "233230             157.52       157174.58   \n",
       "233231             157.52       157174.58   \n",
       "233232             157.52       157174.58   \n",
       "233233             157.52       157174.58   \n",
       "\n",
       "                                             EnglishRules  \\\n",
       "0       Goal: Connect all three edge colors with a sin...   \n",
       "1       Goal: Connect all three edge colors with a sin...   \n",
       "2       Goal: Connect all three edge colors with a sin...   \n",
       "3       Goal: Connect all three edge colors with a sin...   \n",
       "4       Goal: Connect all three edge colors with a sin...   \n",
       "...                                                   ...   \n",
       "233229  7x7 board. 24 pieces per player. Pieces begin ...   \n",
       "233230  7x7 board. 24 pieces per player. Pieces begin ...   \n",
       "233231  7x7 board. 24 pieces per player. Pieces begin ...   \n",
       "233232  7x7 board. 24 pieces per player. Pieces begin ...   \n",
       "233233  7x7 board. 24 pieces per player. Pieces begin ...   \n",
       "\n",
       "                                                 LudRules  num_wins_agent1  \\\n",
       "0       (game \"00'Y'\" (players 2) (equipment { (board ...                4   \n",
       "1       (game \"00'Y'\" (players 2) (equipment { (board ...                5   \n",
       "2       (game \"00'Y'\" (players 2) (equipment { (board ...                7   \n",
       "3       (game \"00'Y'\" (players 2) (equipment { (board ...                5   \n",
       "4       (game \"00'Y'\" (players 2) (equipment { (board ...                5   \n",
       "...                                                   ...              ...   \n",
       "233229  (game \"Zuz Mel (7x7)\" (players 2) (equipment {...                2   \n",
       "233230  (game \"Zuz Mel (7x7)\" (players 2) (equipment {...                9   \n",
       "233231  (game \"Zuz Mel (7x7)\" (players 2) (equipment {...               11   \n",
       "233232  (game \"Zuz Mel (7x7)\" (players 2) (equipment {...               24   \n",
       "233233  (game \"Zuz Mel (7x7)\" (players 2) (equipment {...                9   \n",
       "\n",
       "        num_draws_agent1  num_losses_agent1  utility_agent1  \n",
       "0                      0                 11       -0.466667  \n",
       "1                      0                 10       -0.333333  \n",
       "2                      0                  8       -0.066667  \n",
       "3                      0                 10       -0.333333  \n",
       "4                      0                 10       -0.333333  \n",
       "...                  ...                ...             ...  \n",
       "233229                 0                 13       -0.733333  \n",
       "233230                 1                  5        0.266667  \n",
       "233231                 3                  1        0.666667  \n",
       "233232                 2                  4        0.666667  \n",
       "233233                 1                  5        0.266667  \n",
       "\n",
       "[233234 rows x 814 columns]"
      ]
     },
     "execution_count": 2,
     "metadata": {},
     "output_type": "execute_result"
    }
   ],
   "source": [
    "# define some paths\n",
    "path_raw = Path(\"../data/raw\")\n",
    "path_processed = Path(\"../data/processed\")\n",
    "path_results = Path(\"../data/results\")\n",
    "\n",
    "# load data\n",
    "df_train = pd.read_csv(path_raw / \"train.csv\")\n",
    "df_test = pd.read_csv(path_raw / \"test.csv\")\n",
    "\n",
    "df_train"
   ]
  },
  {
   "cell_type": "code",
   "execution_count": 3,
   "id": "c3045804",
   "metadata": {
    "execution": {
     "iopub.execute_input": "2024-11-28T03:00:46.245833Z",
     "iopub.status.busy": "2024-11-28T03:00:46.245710Z",
     "iopub.status.idle": "2024-11-28T03:00:46.247395Z",
     "shell.execute_reply": "2024-11-28T03:00:46.247169Z"
    },
    "papermill": {
     "duration": 0.004719,
     "end_time": "2024-11-28T03:00:46.248117",
     "exception": false,
     "start_time": "2024-11-28T03:00:46.243398",
     "status": "completed"
    },
    "tags": [
     "parameters"
    ]
   },
   "outputs": [],
   "source": [
    "# input parameters\n",
    "fs_type = 'fsv24'\n",
    "train_type = \"small\""
   ]
  },
  {
   "cell_type": "code",
   "execution_count": 4,
   "id": "9cf3a0bf",
   "metadata": {
    "execution": {
     "iopub.execute_input": "2024-11-28T03:00:46.253583Z",
     "iopub.status.busy": "2024-11-28T03:00:46.253373Z",
     "iopub.status.idle": "2024-11-28T03:00:46.255049Z",
     "shell.execute_reply": "2024-11-28T03:00:46.254825Z"
    },
    "papermill": {
     "duration": 0.005776,
     "end_time": "2024-11-28T03:00:46.256102",
     "exception": false,
     "start_time": "2024-11-28T03:00:46.250326",
     "status": "completed"
    },
    "tags": [
     "injected-parameters"
    ]
   },
   "outputs": [],
   "source": [
    "# Parameters\n",
    "fs_type = \"uni90\"\n"
   ]
  },
  {
   "cell_type": "code",
   "execution_count": 5,
   "id": "84edb17d",
   "metadata": {
    "execution": {
     "iopub.execute_input": "2024-11-28T03:00:46.260971Z",
     "iopub.status.busy": "2024-11-28T03:00:46.260833Z",
     "iopub.status.idle": "2024-11-28T03:00:46.264653Z",
     "shell.execute_reply": "2024-11-28T03:00:46.264389Z"
    },
    "papermill": {
     "duration": 0.007128,
     "end_time": "2024-11-28T03:00:46.265406",
     "exception": false,
     "start_time": "2024-11-28T03:00:46.258278",
     "status": "completed"
    },
    "tags": []
   },
   "outputs": [
    {
     "name": "stdout",
     "output_type": "stream",
     "text": [
      "Numerical features: 326\n",
      "Categorical features: 10\n",
      "Text features: 0\n"
     ]
    }
   ],
   "source": [
    "# Load the feature selection results\n",
    "fs_mapping = {\n",
    "    \"full\": None,\n",
    "    \"fsv2\": '../feat_selection/select_optuna_lgbm_v2.json',\n",
    "    \"fsv3\": '../feat_selection/select_optuna_catb.json',\n",
    "    \"fsv4\": '../feat_selection/select_optuna_lgbm_v3.json',\n",
    "    \"fsv23\": '../feat_selection/select_optuna_combined_v23.json',\n",
    "    \"fsv24\": '../feat_selection/select_optuna_combined_v24.json',\n",
    "    \"fsv34\": '../feat_selection/select_optuna_combined_v34.json',\n",
    "    \"int95\": '../feat_selection/feat_selection_intersection_at_95.json',\n",
    "    \"int96\": '../feat_selection/feat_selection_intersection_at_96.json',\n",
    "    \"int97\": '../feat_selection/feat_selection_intersection_at_97.json',\n",
    "    \"int98\": '../feat_selection/feat_selection_intersection_at_98.json',\n",
    "    \"int99\": '../feat_selection/feat_selection_intersection_at_99.json',\n",
    "    \"uni80\": '../feat_selection/feat_selection_union_at_80.json',\n",
    "    \"uni85\": '../feat_selection/feat_selection_union_at_85.json',\n",
    "    \"uni90\": '../feat_selection/feat_selection_union_at_90.json',\n",
    "    \"uni95\": '../feat_selection/feat_selection_union_at_95.json',\n",
    "}\n",
    "\n",
    "fs_path = fs_mapping[fs_type]\n",
    "\n",
    "if fs_path is None:\n",
    "    feature_selection = dict()\n",
    "else:\n",
    "    with open(fs_path, 'r') as f:\n",
    "        feature_selection = json.load(f)\n",
    "\n",
    "# Extract the selected features\n",
    "numerical_cols = feature_selection.get('numerical', None)\n",
    "categorical_cols = feature_selection.get('categorical', None)\n",
    "\n",
    "# text_cols = [\"LudRules\",]\n",
    "text_cols = list()\n",
    "\n",
    "print(\"Numerical features:\", len(numerical_cols) if numerical_cols else 0)\n",
    "print(\"Categorical features:\", len(categorical_cols) if categorical_cols else 0)\n",
    "print(\"Text features:\", len(text_cols) if text_cols else 0)"
   ]
  },
  {
   "cell_type": "code",
   "execution_count": 6,
   "id": "285296ed",
   "metadata": {
    "execution": {
     "iopub.execute_input": "2024-11-28T03:00:46.270143Z",
     "iopub.status.busy": "2024-11-28T03:00:46.270039Z",
     "iopub.status.idle": "2024-11-28T03:00:48.747524Z",
     "shell.execute_reply": "2024-11-28T03:00:48.747203Z"
    },
    "papermill": {
     "duration": 2.480554,
     "end_time": "2024-11-28T03:00:48.748358",
     "exception": false,
     "start_time": "2024-11-28T03:00:46.267804",
     "status": "completed"
    },
    "tags": []
   },
   "outputs": [
    {
     "name": "stdout",
     "output_type": "stream",
     "text": [
      "number of all nan cols:  0\n"
     ]
    },
    {
     "name": "stdout",
     "output_type": "stream",
     "text": [
      "number of constant cols:  0\n"
     ]
    },
    {
     "name": "stdout",
     "output_type": "stream",
     "text": [
      "Numerical Columns: 398\n",
      "Categorical Columns: 10\n"
     ]
    }
   ],
   "source": [
    "df_train, numerical_cols, categorical_cols, encoder, scaler = process_train_data(\n",
    "    df_train,\n",
    "    scale=False,\n",
    "    numerical_cols=numerical_cols,\n",
    "    categorical_cols=categorical_cols,\n",
    "    include_position_features=True,\n",
    "    include_text_features=False,\n",
    ")\n",
    "\n",
    "# Print the results\n",
    "print(\"Numerical Columns:\", len(numerical_cols))\n",
    "print(\"Categorical Columns:\", len(categorical_cols))"
   ]
  },
  {
   "cell_type": "code",
   "execution_count": 7,
   "id": "3fd7abf2",
   "metadata": {
    "execution": {
     "iopub.execute_input": "2024-11-28T03:00:48.754488Z",
     "iopub.status.busy": "2024-11-28T03:00:48.754342Z",
     "iopub.status.idle": "2024-11-28T03:00:48.881623Z",
     "shell.execute_reply": "2024-11-28T03:00:48.881337Z"
    },
    "papermill": {
     "duration": 0.130925,
     "end_time": "2024-11-28T03:00:48.882461",
     "exception": false,
     "start_time": "2024-11-28T03:00:48.751536",
     "status": "completed"
    },
    "tags": []
   },
   "outputs": [
    {
     "data": {
      "image/png": "[encoded data removed]",
      "text/plain": [
       "<Figure size 640x480 with 1 Axes>"
      ]
     },
     "metadata": {},
     "output_type": "display_data"
    }
   ],
   "source": [
    "plt.hist(df_train['utility_agent1'], bins=100)\n",
    "plt.title('Distribution of Target Variable')\n",
    "plt.xlabel('Utility Agent 1')\n",
    "plt.ylabel('Frequency')\n",
    "plt.show()"
   ]
  },
  {
   "cell_type": "code",
   "execution_count": 8,
   "id": "41ae3805",
   "metadata": {
    "execution": {
     "iopub.execute_input": "2024-11-28T03:00:48.887619Z",
     "iopub.status.busy": "2024-11-28T03:00:48.887497Z",
     "iopub.status.idle": "2024-11-28T03:00:48.899013Z",
     "shell.execute_reply": "2024-11-28T03:00:48.898717Z"
    },
    "papermill": {
     "duration": 0.014865,
     "end_time": "2024-11-28T03:00:48.899821",
     "exception": false,
     "start_time": "2024-11-28T03:00:48.884956",
     "status": "completed"
    },
    "tags": []
   },
   "outputs": [],
   "source": [
    "split1 = pickle.load(open('../data/splits/cv1_Game.pkl', 'rb'))\n",
    "split2 = pickle.load(open('../data/splits/cv2_Game.pkl', 'rb'))\n",
    "split3 = pickle.load(open('../data/splits/cv3_Game.pkl', 'rb'))\n",
    "\n",
    "# split1 = pickle.load(open('../data/splits/cv1_GameRulesetName.pkl', 'rb'))\n",
    "# split2 = pickle.load(open('../data/splits/cv2_GameRulesetName.pkl', 'rb'))\n",
    "# split3 = pickle.load(open('../data/splits/cv3_GameRulesetName.pkl', 'rb'))"
   ]
  },
  {
   "cell_type": "markdown",
   "id": "02d53ba1",
   "metadata": {
    "papermill": {
     "duration": 0.00206,
     "end_time": "2024-11-28T03:00:48.904168",
     "exception": false,
     "start_time": "2024-11-28T03:00:48.902108",
     "status": "completed"
    },
    "tags": []
   },
   "source": [
    "***\n",
    "### train model\n"
   ]
  },
  {
   "cell_type": "code",
   "execution_count": 9,
   "id": "48d7bac0",
   "metadata": {
    "execution": {
     "iopub.execute_input": "2024-11-28T03:00:48.908755Z",
     "iopub.status.busy": "2024-11-28T03:00:48.908637Z",
     "iopub.status.idle": "2024-11-28T03:00:48.910868Z",
     "shell.execute_reply": "2024-11-28T03:00:48.910636Z"
    },
    "papermill": {
     "duration": 0.005289,
     "end_time": "2024-11-28T03:00:48.911490",
     "exception": false,
     "start_time": "2024-11-28T03:00:48.906201",
     "status": "completed"
    },
    "tags": []
   },
   "outputs": [
    {
     "name": "stdout",
     "output_type": "stream",
     "text": [
      "0.03 2500\n"
     ]
    }
   ],
   "source": [
    "if train_type == \"small\":\n",
    "    LEARNING_RATE = 0.03\n",
    "    NUM_BOOST_ROUND = 2500\n",
    "elif train_type == \"medium\":\n",
    "    LEARNING_RATE = 0.01\n",
    "    NUM_BOOST_ROUND = 5000\n",
    "elif train_type == \"large\":\n",
    "    LEARNING_RATE = 0.005\n",
    "    NUM_BOOST_ROUND = 10_000\n",
    "elif train_type == \"xlarge\":\n",
    "    LEARNING_RATE = 0.001\n",
    "    NUM_BOOST_ROUND = 20_000\n",
    "\n",
    "\n",
    "print(LEARNING_RATE, NUM_BOOST_ROUND)"
   ]
  },
  {
   "cell_type": "code",
   "execution_count": 10,
   "id": "c7646448",
   "metadata": {
    "execution": {
     "iopub.execute_input": "2024-11-28T03:00:48.916499Z",
     "iopub.status.busy": "2024-11-28T03:00:48.916378Z",
     "iopub.status.idle": "2024-11-28T03:00:48.922084Z",
     "shell.execute_reply": "2024-11-28T03:00:48.921830Z"
    },
    "papermill": {
     "duration": 0.008941,
     "end_time": "2024-11-28T03:00:48.922773",
     "exception": false,
     "start_time": "2024-11-28T03:00:48.913832",
     "status": "completed"
    },
    "tags": []
   },
   "outputs": [],
   "source": [
    "def train_models(\n",
    "        df_train,\n",
    "        target,\n",
    "        numerical_cols,\n",
    "        categorical_cols,\n",
    "        split_list=None\n",
    "    ):\n",
    "    # Define the parameters\n",
    "    params = {\n",
    "        'objective': \"reg:squarederror\",\n",
    "        'eval_metric': 'rmse',\n",
    "        'max_depth': 8,\n",
    "        'max_bin': 128,\n",
    "        'learning_rate': LEARNING_RATE,\n",
    "        'alpha': 0.1,\n",
    "        'colsample_bytree': 0.5,\n",
    "        'subsample': 0.8,\n",
    "        'min_child_weight': 10,\n",
    "        'seed': 2112,\n",
    "        'verbosity': 0,\n",
    "    }\n",
    "\n",
    "    trained_models = []\n",
    "    oof = pd.DataFrame(\n",
    "        index=df_train.index,\n",
    "        columns=[f'{target}_true', f'{target}_pred', 'fold']\n",
    "    )\n",
    "    oof_scores = []\n",
    "    feat_importance_dfs = []\n",
    "\n",
    "    # Perform cross-validation\n",
    "    for fold, (train_index, val_index) in enumerate(split_list, 1):\n",
    "        print(f\"Fold {fold}\")\n",
    "        \n",
    "        # Split the data\n",
    "        X_train, X_val = df_train.iloc[train_index], df_train.iloc[val_index]\n",
    "        y_train, y_val = X_train[target], X_val[target]\n",
    "\n",
    "        feature_types = [\n",
    "            \"c\" if col in categorical_cols else \"q\" \n",
    "            for col in numerical_cols + categorical_cols\n",
    "        ]\n",
    "        \n",
    "        # Convert to DMatrix format\n",
    "        train_data = xgb.DMatrix(\n",
    "            data=X_train[numerical_cols + categorical_cols],\n",
    "            label=y_train,\n",
    "            feature_types=feature_types,\n",
    "            enable_categorical=True,\n",
    "            feature_names=numerical_cols + categorical_cols\n",
    "        )\n",
    "        val_data = xgb.DMatrix(\n",
    "            data=X_val[numerical_cols + categorical_cols],\n",
    "            label=y_val,\n",
    "            feature_types=feature_types,\n",
    "            enable_categorical=True,\n",
    "            feature_names=numerical_cols + categorical_cols\n",
    "        )\n",
    "\n",
    "        # Train the model\n",
    "        model = xgb.train(\n",
    "            params,\n",
    "            train_data,\n",
    "            num_boost_round=NUM_BOOST_ROUND,\n",
    "            evals=[(val_data, 'val')],\n",
    "            verbose_eval=100,\n",
    "        )\n",
    "        \n",
    "        # Get feature importance\n",
    "        importance_dict = model.get_score(importance_type='gain')\n",
    "        feat_importance = pd.DataFrame(\n",
    "            {'feature': list(importance_dict.keys()),\n",
    "             f'importance_f{fold}': list(importance_dict.values())}\n",
    "        )\n",
    "        feat_importance_dfs.append(feat_importance)\n",
    "        \n",
    "        # Save the trained model to the list\n",
    "        trained_models.append(model)\n",
    "\n",
    "        # predict on validation set\n",
    "        y_pred = model.predict(val_data)\n",
    "\n",
    "        # Save out-of-fold predictions\n",
    "        oof.loc[val_index, f'{target}_true'] = y_val\n",
    "        oof.loc[val_index, f'{target}_pred'] = y_pred\n",
    "        oof.loc[val_index, 'fold'] = fold\n",
    "\n",
    "        # Compute RMSE\n",
    "        y_pred = np.clip(y_pred, -1, 1)\n",
    "        rmse = np.sqrt(np.mean((y_pred - y_val) ** 2))\n",
    "        print(f\"Fold {fold} - RMSE: {rmse}\")\n",
    "\n",
    "        # Save RMSE to the list\n",
    "        oof_scores.append(rmse)\n",
    "\n",
    "    # Combine feature importance dataframes\n",
    "    importance_df = feat_importance_dfs[0]\n",
    "    for df in feat_importance_dfs[1:]:\n",
    "        importance_df = importance_df.merge(df, on='feature')\n",
    "    \n",
    "    # Calculate mean importance across folds\n",
    "    importance_cols = [col for col in importance_df.columns if col.startswith('importance_f')]\n",
    "    importance_df['importance_mean'] = importance_df[importance_cols].mean(axis=1)\n",
    "    importance_df = importance_df.sort_values('importance_mean', ascending=False, ignore_index=True)\n",
    "    importance_df['importance_relative'] = (\n",
    "        importance_df['importance_mean'] / \n",
    "        importance_df['importance_mean'].sum()\n",
    "    )\n",
    "\n",
    "    # Print the list of oof scores and average oof score\n",
    "    print(\"List of oof scores:\", oof_scores)\n",
    "    print(\"Average oof score:\", np.mean(oof_scores))\n",
    "\n",
    "    return trained_models, oof, oof_scores, importance_df"
   ]
  },
  {
   "cell_type": "code",
   "execution_count": 11,
   "id": "497cba0e",
   "metadata": {
    "execution": {
     "iopub.execute_input": "2024-11-28T03:00:48.927632Z",
     "iopub.status.busy": "2024-11-28T03:00:48.927534Z",
     "iopub.status.idle": "2024-11-28T03:05:26.632209Z",
     "shell.execute_reply": "2024-11-28T03:05:26.631882Z"
    },
    "papermill": {
     "duration": 277.707911,
     "end_time": "2024-11-28T03:05:26.632984",
     "exception": false,
     "start_time": "2024-11-28T03:00:48.925073",
     "status": "completed"
    },
    "tags": []
   },
   "outputs": [
    {
     "name": "stdout",
     "output_type": "stream",
     "text": [
      "Fold 1\n"
     ]
    },
    {
     "name": "stdout",
     "output_type": "stream",
     "text": [
      "[0]\tval-rmse:0.55415\n"
     ]
    },
    {
     "name": "stdout",
     "output_type": "stream",
     "text": [
      "[100]\tval-rmse:0.46853\n"
     ]
    },
    {
     "name": "stdout",
     "output_type": "stream",
     "text": [
      "[200]\tval-rmse:0.45266\n"
     ]
    },
    {
     "name": "stdout",
     "output_type": "stream",
     "text": [
      "[300]\tval-rmse:0.44474\n"
     ]
    },
    {
     "name": "stdout",
     "output_type": "stream",
     "text": [
      "[400]\tval-rmse:0.43856\n"
     ]
    },
    {
     "name": "stdout",
     "output_type": "stream",
     "text": [
      "[500]\tval-rmse:0.43505\n"
     ]
    },
    {
     "name": "stdout",
     "output_type": "stream",
     "text": [
      "[600]\tval-rmse:0.43252\n"
     ]
    },
    {
     "name": "stdout",
     "output_type": "stream",
     "text": [
      "[700]\tval-rmse:0.43112\n"
     ]
    },
    {
     "name": "stdout",
     "output_type": "stream",
     "text": [
      "[800]\tval-rmse:0.43033\n"
     ]
    },
    {
     "name": "stdout",
     "output_type": "stream",
     "text": [
      "[900]\tval-rmse:0.42966\n"
     ]
    },
    {
     "name": "stdout",
     "output_type": "stream",
     "text": [
      "[1000]\tval-rmse:0.42919\n"
     ]
    },
    {
     "name": "stdout",
     "output_type": "stream",
     "text": [
      "[1100]\tval-rmse:0.42872\n"
     ]
    },
    {
     "name": "stdout",
     "output_type": "stream",
     "text": [
      "[1200]\tval-rmse:0.42841\n"
     ]
    },
    {
     "name": "stdout",
     "output_type": "stream",
     "text": [
      "[1300]\tval-rmse:0.42802\n"
     ]
    },
    {
     "name": "stdout",
     "output_type": "stream",
     "text": [
      "[1400]\tval-rmse:0.42803\n"
     ]
    },
    {
     "name": "stdout",
     "output_type": "stream",
     "text": [
      "[1500]\tval-rmse:0.42776\n"
     ]
    },
    {
     "name": "stdout",
     "output_type": "stream",
     "text": [
      "[1600]\tval-rmse:0.42769\n"
     ]
    },
    {
     "name": "stdout",
     "output_type": "stream",
     "text": [
      "[1700]\tval-rmse:0.42789\n"
     ]
    },
    {
     "name": "stdout",
     "output_type": "stream",
     "text": [
      "[1800]\tval-rmse:0.42794\n"
     ]
    },
    {
     "name": "stdout",
     "output_type": "stream",
     "text": [
      "[1900]\tval-rmse:0.42796\n"
     ]
    },
    {
     "name": "stdout",
     "output_type": "stream",
     "text": [
      "[2000]\tval-rmse:0.42798\n"
     ]
    },
    {
     "name": "stdout",
     "output_type": "stream",
     "text": [
      "[2100]\tval-rmse:0.42797\n"
     ]
    },
    {
     "name": "stdout",
     "output_type": "stream",
     "text": [
      "[2200]\tval-rmse:0.42799\n"
     ]
    },
    {
     "name": "stdout",
     "output_type": "stream",
     "text": [
      "[2300]\tval-rmse:0.42804\n"
     ]
    },
    {
     "name": "stdout",
     "output_type": "stream",
     "text": [
      "[2400]\tval-rmse:0.42804\n"
     ]
    },
    {
     "name": "stdout",
     "output_type": "stream",
     "text": [
      "[2499]\tval-rmse:0.42813\n"
     ]
    },
    {
     "name": "stdout",
     "output_type": "stream",
     "text": [
      "Fold 1 - RMSE: 0.4278370035849392\n",
      "Fold 2\n"
     ]
    },
    {
     "name": "stdout",
     "output_type": "stream",
     "text": [
      "[0]\tval-rmse:0.58865\n"
     ]
    },
    {
     "name": "stdout",
     "output_type": "stream",
     "text": [
      "[100]\tval-rmse:0.48429\n"
     ]
    },
    {
     "name": "stdout",
     "output_type": "stream",
     "text": [
      "[200]\tval-rmse:0.47051\n"
     ]
    },
    {
     "name": "stdout",
     "output_type": "stream",
     "text": [
      "[300]\tval-rmse:0.46557\n"
     ]
    },
    {
     "name": "stdout",
     "output_type": "stream",
     "text": [
      "[400]\tval-rmse:0.46125\n"
     ]
    },
    {
     "name": "stdout",
     "output_type": "stream",
     "text": [
      "[500]\tval-rmse:0.45858\n"
     ]
    },
    {
     "name": "stdout",
     "output_type": "stream",
     "text": [
      "[600]\tval-rmse:0.45670\n"
     ]
    },
    {
     "name": "stdout",
     "output_type": "stream",
     "text": [
      "[700]\tval-rmse:0.45539\n"
     ]
    },
    {
     "name": "stdout",
     "output_type": "stream",
     "text": [
      "[800]\tval-rmse:0.45451\n"
     ]
    },
    {
     "name": "stdout",
     "output_type": "stream",
     "text": [
      "[900]\tval-rmse:0.45350\n"
     ]
    },
    {
     "name": "stdout",
     "output_type": "stream",
     "text": [
      "[1000]\tval-rmse:0.45291\n"
     ]
    },
    {
     "name": "stdout",
     "output_type": "stream",
     "text": [
      "[1100]\tval-rmse:0.45275\n"
     ]
    },
    {
     "name": "stdout",
     "output_type": "stream",
     "text": [
      "[1200]\tval-rmse:0.45243\n"
     ]
    },
    {
     "name": "stdout",
     "output_type": "stream",
     "text": [
      "[1300]\tval-rmse:0.45200\n"
     ]
    },
    {
     "name": "stdout",
     "output_type": "stream",
     "text": [
      "[1400]\tval-rmse:0.45187\n"
     ]
    },
    {
     "name": "stdout",
     "output_type": "stream",
     "text": [
      "[1500]\tval-rmse:0.45149\n"
     ]
    },
    {
     "name": "stdout",
     "output_type": "stream",
     "text": [
      "[1600]\tval-rmse:0.45132\n"
     ]
    },
    {
     "name": "stdout",
     "output_type": "stream",
     "text": [
      "[1700]\tval-rmse:0.45133\n"
     ]
    },
    {
     "name": "stdout",
     "output_type": "stream",
     "text": [
      "[1800]\tval-rmse:0.45117\n"
     ]
    },
    {
     "name": "stdout",
     "output_type": "stream",
     "text": [
      "[1900]\tval-rmse:0.45107\n"
     ]
    },
    {
     "name": "stdout",
     "output_type": "stream",
     "text": [
      "[2000]\tval-rmse:0.45111\n"
     ]
    },
    {
     "name": "stdout",
     "output_type": "stream",
     "text": [
      "[2100]\tval-rmse:0.45114\n"
     ]
    },
    {
     "name": "stdout",
     "output_type": "stream",
     "text": [
      "[2200]\tval-rmse:0.45107\n"
     ]
    },
    {
     "name": "stdout",
     "output_type": "stream",
     "text": [
      "[2300]\tval-rmse:0.45102\n"
     ]
    },
    {
     "name": "stdout",
     "output_type": "stream",
     "text": [
      "[2400]\tval-rmse:0.45103\n"
     ]
    },
    {
     "name": "stdout",
     "output_type": "stream",
     "text": [
      "[2499]\tval-rmse:0.45099\n"
     ]
    },
    {
     "name": "stdout",
     "output_type": "stream",
     "text": [
      "Fold 2 - RMSE: 0.45028742000270894\n",
      "Fold 3\n"
     ]
    },
    {
     "name": "stdout",
     "output_type": "stream",
     "text": [
      "[0]\tval-rmse:0.60506\n"
     ]
    },
    {
     "name": "stdout",
     "output_type": "stream",
     "text": [
      "[100]\tval-rmse:0.47885\n"
     ]
    },
    {
     "name": "stdout",
     "output_type": "stream",
     "text": [
      "[200]\tval-rmse:0.45968\n"
     ]
    },
    {
     "name": "stdout",
     "output_type": "stream",
     "text": [
      "[300]\tval-rmse:0.45234\n"
     ]
    },
    {
     "name": "stdout",
     "output_type": "stream",
     "text": [
      "[400]\tval-rmse:0.44782\n"
     ]
    },
    {
     "name": "stdout",
     "output_type": "stream",
     "text": [
      "[500]\tval-rmse:0.44515\n"
     ]
    },
    {
     "name": "stdout",
     "output_type": "stream",
     "text": [
      "[600]\tval-rmse:0.44373\n"
     ]
    },
    {
     "name": "stdout",
     "output_type": "stream",
     "text": [
      "[700]\tval-rmse:0.44253\n"
     ]
    },
    {
     "name": "stdout",
     "output_type": "stream",
     "text": [
      "[800]\tval-rmse:0.44174\n"
     ]
    },
    {
     "name": "stdout",
     "output_type": "stream",
     "text": [
      "[900]\tval-rmse:0.44086\n"
     ]
    },
    {
     "name": "stdout",
     "output_type": "stream",
     "text": [
      "[1000]\tval-rmse:0.44045\n"
     ]
    },
    {
     "name": "stdout",
     "output_type": "stream",
     "text": [
      "[1100]\tval-rmse:0.44019\n"
     ]
    },
    {
     "name": "stdout",
     "output_type": "stream",
     "text": [
      "[1200]\tval-rmse:0.44010\n"
     ]
    },
    {
     "name": "stdout",
     "output_type": "stream",
     "text": [
      "[1300]\tval-rmse:0.43996\n"
     ]
    },
    {
     "name": "stdout",
     "output_type": "stream",
     "text": [
      "[1400]\tval-rmse:0.43989\n"
     ]
    },
    {
     "name": "stdout",
     "output_type": "stream",
     "text": [
      "[1500]\tval-rmse:0.43965\n"
     ]
    },
    {
     "name": "stdout",
     "output_type": "stream",
     "text": [
      "[1600]\tval-rmse:0.43946\n"
     ]
    },
    {
     "name": "stdout",
     "output_type": "stream",
     "text": [
      "[1700]\tval-rmse:0.43930\n"
     ]
    },
    {
     "name": "stdout",
     "output_type": "stream",
     "text": [
      "[1800]\tval-rmse:0.43926\n"
     ]
    },
    {
     "name": "stdout",
     "output_type": "stream",
     "text": [
      "[1900]\tval-rmse:0.43915\n"
     ]
    },
    {
     "name": "stdout",
     "output_type": "stream",
     "text": [
      "[2000]\tval-rmse:0.43913\n"
     ]
    },
    {
     "name": "stdout",
     "output_type": "stream",
     "text": [
      "[2100]\tval-rmse:0.43906\n"
     ]
    },
    {
     "name": "stdout",
     "output_type": "stream",
     "text": [
      "[2200]\tval-rmse:0.43894\n"
     ]
    },
    {
     "name": "stdout",
     "output_type": "stream",
     "text": [
      "[2300]\tval-rmse:0.43878\n"
     ]
    },
    {
     "name": "stdout",
     "output_type": "stream",
     "text": [
      "[2400]\tval-rmse:0.43873\n"
     ]
    },
    {
     "name": "stdout",
     "output_type": "stream",
     "text": [
      "[2499]\tval-rmse:0.43861\n"
     ]
    },
    {
     "name": "stdout",
     "output_type": "stream",
     "text": [
      "Fold 3 - RMSE: 0.4381785970399111\n",
      "Fold 4\n"
     ]
    },
    {
     "name": "stdout",
     "output_type": "stream",
     "text": [
      "[0]\tval-rmse:0.59628\n"
     ]
    },
    {
     "name": "stdout",
     "output_type": "stream",
     "text": [
      "[100]\tval-rmse:0.48235\n"
     ]
    },
    {
     "name": "stdout",
     "output_type": "stream",
     "text": [
      "[200]\tval-rmse:0.46380\n"
     ]
    },
    {
     "name": "stdout",
     "output_type": "stream",
     "text": [
      "[300]\tval-rmse:0.45561\n"
     ]
    },
    {
     "name": "stdout",
     "output_type": "stream",
     "text": [
      "[400]\tval-rmse:0.45013\n"
     ]
    },
    {
     "name": "stdout",
     "output_type": "stream",
     "text": [
      "[500]\tval-rmse:0.44749\n"
     ]
    },
    {
     "name": "stdout",
     "output_type": "stream",
     "text": [
      "[600]\tval-rmse:0.44537\n"
     ]
    },
    {
     "name": "stdout",
     "output_type": "stream",
     "text": [
      "[700]\tval-rmse:0.44425\n"
     ]
    },
    {
     "name": "stdout",
     "output_type": "stream",
     "text": [
      "[800]\tval-rmse:0.44354\n"
     ]
    },
    {
     "name": "stdout",
     "output_type": "stream",
     "text": [
      "[900]\tval-rmse:0.44267\n"
     ]
    },
    {
     "name": "stdout",
     "output_type": "stream",
     "text": [
      "[1000]\tval-rmse:0.44209\n"
     ]
    },
    {
     "name": "stdout",
     "output_type": "stream",
     "text": [
      "[1100]\tval-rmse:0.44180\n"
     ]
    },
    {
     "name": "stdout",
     "output_type": "stream",
     "text": [
      "[1200]\tval-rmse:0.44144\n"
     ]
    },
    {
     "name": "stdout",
     "output_type": "stream",
     "text": [
      "[1300]\tval-rmse:0.44101\n"
     ]
    },
    {
     "name": "stdout",
     "output_type": "stream",
     "text": [
      "[1400]\tval-rmse:0.44069\n"
     ]
    },
    {
     "name": "stdout",
     "output_type": "stream",
     "text": [
      "[1500]\tval-rmse:0.44070\n"
     ]
    },
    {
     "name": "stdout",
     "output_type": "stream",
     "text": [
      "[1600]\tval-rmse:0.44046\n"
     ]
    },
    {
     "name": "stdout",
     "output_type": "stream",
     "text": [
      "[1700]\tval-rmse:0.44031\n"
     ]
    },
    {
     "name": "stdout",
     "output_type": "stream",
     "text": [
      "[1800]\tval-rmse:0.44009\n"
     ]
    },
    {
     "name": "stdout",
     "output_type": "stream",
     "text": [
      "[1900]\tval-rmse:0.44012\n"
     ]
    },
    {
     "name": "stdout",
     "output_type": "stream",
     "text": [
      "[2000]\tval-rmse:0.43996\n"
     ]
    },
    {
     "name": "stdout",
     "output_type": "stream",
     "text": [
      "[2100]\tval-rmse:0.43990\n"
     ]
    },
    {
     "name": "stdout",
     "output_type": "stream",
     "text": [
      "[2200]\tval-rmse:0.43985\n"
     ]
    },
    {
     "name": "stdout",
     "output_type": "stream",
     "text": [
      "[2300]\tval-rmse:0.43988\n"
     ]
    },
    {
     "name": "stdout",
     "output_type": "stream",
     "text": [
      "[2400]\tval-rmse:0.43987\n"
     ]
    },
    {
     "name": "stdout",
     "output_type": "stream",
     "text": [
      "[2499]\tval-rmse:0.43976\n"
     ]
    },
    {
     "name": "stdout",
     "output_type": "stream",
     "text": [
      "Fold 4 - RMSE: 0.43930638533046695\n",
      "Fold 5\n"
     ]
    },
    {
     "name": "stdout",
     "output_type": "stream",
     "text": [
      "[0]\tval-rmse:0.54847\n"
     ]
    },
    {
     "name": "stdout",
     "output_type": "stream",
     "text": [
      "[100]\tval-rmse:0.45551\n"
     ]
    },
    {
     "name": "stdout",
     "output_type": "stream",
     "text": [
      "[200]\tval-rmse:0.43831\n"
     ]
    },
    {
     "name": "stdout",
     "output_type": "stream",
     "text": [
      "[300]\tval-rmse:0.42952\n"
     ]
    },
    {
     "name": "stdout",
     "output_type": "stream",
     "text": [
      "[400]\tval-rmse:0.42273\n"
     ]
    },
    {
     "name": "stdout",
     "output_type": "stream",
     "text": [
      "[500]\tval-rmse:0.41936\n"
     ]
    },
    {
     "name": "stdout",
     "output_type": "stream",
     "text": [
      "[600]\tval-rmse:0.41715\n"
     ]
    },
    {
     "name": "stdout",
     "output_type": "stream",
     "text": [
      "[700]\tval-rmse:0.41562\n"
     ]
    },
    {
     "name": "stdout",
     "output_type": "stream",
     "text": [
      "[800]\tval-rmse:0.41394\n"
     ]
    },
    {
     "name": "stdout",
     "output_type": "stream",
     "text": [
      "[900]\tval-rmse:0.41306\n"
     ]
    },
    {
     "name": "stdout",
     "output_type": "stream",
     "text": [
      "[1000]\tval-rmse:0.41243\n"
     ]
    },
    {
     "name": "stdout",
     "output_type": "stream",
     "text": [
      "[1100]\tval-rmse:0.41197\n"
     ]
    },
    {
     "name": "stdout",
     "output_type": "stream",
     "text": [
      "[1200]\tval-rmse:0.41159\n"
     ]
    },
    {
     "name": "stdout",
     "output_type": "stream",
     "text": [
      "[1300]\tval-rmse:0.41122\n"
     ]
    },
    {
     "name": "stdout",
     "output_type": "stream",
     "text": [
      "[1400]\tval-rmse:0.41107\n"
     ]
    },
    {
     "name": "stdout",
     "output_type": "stream",
     "text": [
      "[1500]\tval-rmse:0.41082\n"
     ]
    },
    {
     "name": "stdout",
     "output_type": "stream",
     "text": [
      "[1600]\tval-rmse:0.41072\n"
     ]
    },
    {
     "name": "stdout",
     "output_type": "stream",
     "text": [
      "[1700]\tval-rmse:0.41074\n"
     ]
    },
    {
     "name": "stdout",
     "output_type": "stream",
     "text": [
      "[1800]\tval-rmse:0.41070\n"
     ]
    },
    {
     "name": "stdout",
     "output_type": "stream",
     "text": [
      "[1900]\tval-rmse:0.41072\n"
     ]
    },
    {
     "name": "stdout",
     "output_type": "stream",
     "text": [
      "[2000]\tval-rmse:0.41072\n"
     ]
    },
    {
     "name": "stdout",
     "output_type": "stream",
     "text": [
      "[2100]\tval-rmse:0.41078\n"
     ]
    },
    {
     "name": "stdout",
     "output_type": "stream",
     "text": [
      "[2200]\tval-rmse:0.41081\n"
     ]
    },
    {
     "name": "stdout",
     "output_type": "stream",
     "text": [
      "[2300]\tval-rmse:0.41086\n"
     ]
    },
    {
     "name": "stdout",
     "output_type": "stream",
     "text": [
      "[2400]\tval-rmse:0.41072\n"
     ]
    },
    {
     "name": "stdout",
     "output_type": "stream",
     "text": [
      "[2499]\tval-rmse:0.41075\n"
     ]
    },
    {
     "name": "stdout",
     "output_type": "stream",
     "text": [
      "Fold 5 - RMSE: 0.41046169186216647\n",
      "List of oof scores: [0.4278370035849392, 0.45028742000270894, 0.4381785970399111, 0.43930638533046695, 0.41046169186216647]\n",
      "Average oof score: 0.4332142195640385\n"
     ]
    }
   ],
   "source": [
    "# call the function\n",
    "trained_models1, oof1, oof_scores1, importance_df1 = train_models(\n",
    "    df_train,\n",
    "    'utility_agent1',\n",
    "    numerical_cols,\n",
    "    categorical_cols,\n",
    "    split_list=split1,\n",
    ")\n",
    "# save oof predictions\n",
    "oof1.to_parquet(path_results / f'oof_xgboost_{fs_type}_cv1.parquet', index=False)"
   ]
  },
  {
   "cell_type": "code",
   "execution_count": 12,
   "id": "79efa7e5",
   "metadata": {
    "execution": {
     "iopub.execute_input": "2024-11-28T03:05:26.643495Z",
     "iopub.status.busy": "2024-11-28T03:05:26.643374Z",
     "iopub.status.idle": "2024-11-28T03:10:11.838179Z",
     "shell.execute_reply": "2024-11-28T03:10:11.837869Z"
    },
    "papermill": {
     "duration": 285.200844,
     "end_time": "2024-11-28T03:10:11.838994",
     "exception": false,
     "start_time": "2024-11-28T03:05:26.638150",
     "status": "completed"
    },
    "tags": []
   },
   "outputs": [
    {
     "name": "stdout",
     "output_type": "stream",
     "text": [
      "Fold 1\n"
     ]
    },
    {
     "name": "stdout",
     "output_type": "stream",
     "text": [
      "[0]\tval-rmse:0.53648\n"
     ]
    },
    {
     "name": "stdout",
     "output_type": "stream",
     "text": [
      "[100]\tval-rmse:0.44971\n"
     ]
    },
    {
     "name": "stdout",
     "output_type": "stream",
     "text": [
      "[200]\tval-rmse:0.43453\n"
     ]
    },
    {
     "name": "stdout",
     "output_type": "stream",
     "text": [
      "[300]\tval-rmse:0.42690\n"
     ]
    },
    {
     "name": "stdout",
     "output_type": "stream",
     "text": [
      "[400]\tval-rmse:0.42227\n"
     ]
    },
    {
     "name": "stdout",
     "output_type": "stream",
     "text": [
      "[500]\tval-rmse:0.41918\n"
     ]
    },
    {
     "name": "stdout",
     "output_type": "stream",
     "text": [
      "[600]\tval-rmse:0.41689\n"
     ]
    },
    {
     "name": "stdout",
     "output_type": "stream",
     "text": [
      "[700]\tval-rmse:0.41530\n"
     ]
    },
    {
     "name": "stdout",
     "output_type": "stream",
     "text": [
      "[800]\tval-rmse:0.41391\n"
     ]
    },
    {
     "name": "stdout",
     "output_type": "stream",
     "text": [
      "[900]\tval-rmse:0.41307\n"
     ]
    },
    {
     "name": "stdout",
     "output_type": "stream",
     "text": [
      "[1000]\tval-rmse:0.41231\n"
     ]
    },
    {
     "name": "stdout",
     "output_type": "stream",
     "text": [
      "[1100]\tval-rmse:0.41188\n"
     ]
    },
    {
     "name": "stdout",
     "output_type": "stream",
     "text": [
      "[1200]\tval-rmse:0.41145\n"
     ]
    },
    {
     "name": "stdout",
     "output_type": "stream",
     "text": [
      "[1300]\tval-rmse:0.41116\n"
     ]
    },
    {
     "name": "stdout",
     "output_type": "stream",
     "text": [
      "[1400]\tval-rmse:0.41080\n"
     ]
    },
    {
     "name": "stdout",
     "output_type": "stream",
     "text": [
      "[1500]\tval-rmse:0.41063\n"
     ]
    },
    {
     "name": "stdout",
     "output_type": "stream",
     "text": [
      "[1600]\tval-rmse:0.41049\n"
     ]
    },
    {
     "name": "stdout",
     "output_type": "stream",
     "text": [
      "[1700]\tval-rmse:0.41029\n"
     ]
    },
    {
     "name": "stdout",
     "output_type": "stream",
     "text": [
      "[1800]\tval-rmse:0.41021\n"
     ]
    },
    {
     "name": "stdout",
     "output_type": "stream",
     "text": [
      "[1900]\tval-rmse:0.41006\n"
     ]
    },
    {
     "name": "stdout",
     "output_type": "stream",
     "text": [
      "[2000]\tval-rmse:0.40983\n"
     ]
    },
    {
     "name": "stdout",
     "output_type": "stream",
     "text": [
      "[2100]\tval-rmse:0.40968\n"
     ]
    },
    {
     "name": "stdout",
     "output_type": "stream",
     "text": [
      "[2200]\tval-rmse:0.40964\n"
     ]
    },
    {
     "name": "stdout",
     "output_type": "stream",
     "text": [
      "[2300]\tval-rmse:0.40958\n"
     ]
    },
    {
     "name": "stdout",
     "output_type": "stream",
     "text": [
      "[2400]\tval-rmse:0.40945\n"
     ]
    },
    {
     "name": "stdout",
     "output_type": "stream",
     "text": [
      "[2499]\tval-rmse:0.40946\n"
     ]
    },
    {
     "name": "stdout",
     "output_type": "stream",
     "text": [
      "Fold 1 - RMSE: 0.40925812100047043\n",
      "Fold 2\n"
     ]
    },
    {
     "name": "stdout",
     "output_type": "stream",
     "text": [
      "[0]\tval-rmse:0.54582\n"
     ]
    },
    {
     "name": "stdout",
     "output_type": "stream",
     "text": [
      "[100]\tval-rmse:0.43398\n"
     ]
    },
    {
     "name": "stdout",
     "output_type": "stream",
     "text": [
      "[200]\tval-rmse:0.41729\n"
     ]
    },
    {
     "name": "stdout",
     "output_type": "stream",
     "text": [
      "[300]\tval-rmse:0.41199\n"
     ]
    },
    {
     "name": "stdout",
     "output_type": "stream",
     "text": [
      "[400]\tval-rmse:0.40844\n"
     ]
    },
    {
     "name": "stdout",
     "output_type": "stream",
     "text": [
      "[500]\tval-rmse:0.40677\n"
     ]
    },
    {
     "name": "stdout",
     "output_type": "stream",
     "text": [
      "[600]\tval-rmse:0.40567\n"
     ]
    },
    {
     "name": "stdout",
     "output_type": "stream",
     "text": [
      "[700]\tval-rmse:0.40501\n"
     ]
    },
    {
     "name": "stdout",
     "output_type": "stream",
     "text": [
      "[800]\tval-rmse:0.40432\n"
     ]
    },
    {
     "name": "stdout",
     "output_type": "stream",
     "text": [
      "[900]\tval-rmse:0.40384\n"
     ]
    },
    {
     "name": "stdout",
     "output_type": "stream",
     "text": [
      "[1000]\tval-rmse:0.40346\n"
     ]
    },
    {
     "name": "stdout",
     "output_type": "stream",
     "text": [
      "[1100]\tval-rmse:0.40325\n"
     ]
    },
    {
     "name": "stdout",
     "output_type": "stream",
     "text": [
      "[1200]\tval-rmse:0.40323\n"
     ]
    },
    {
     "name": "stdout",
     "output_type": "stream",
     "text": [
      "[1300]\tval-rmse:0.40326\n"
     ]
    },
    {
     "name": "stdout",
     "output_type": "stream",
     "text": [
      "[1400]\tval-rmse:0.40336\n"
     ]
    },
    {
     "name": "stdout",
     "output_type": "stream",
     "text": [
      "[1500]\tval-rmse:0.40325\n"
     ]
    },
    {
     "name": "stdout",
     "output_type": "stream",
     "text": [
      "[1600]\tval-rmse:0.40348\n"
     ]
    },
    {
     "name": "stdout",
     "output_type": "stream",
     "text": [
      "[1700]\tval-rmse:0.40348\n"
     ]
    },
    {
     "name": "stdout",
     "output_type": "stream",
     "text": [
      "[1800]\tval-rmse:0.40351\n"
     ]
    },
    {
     "name": "stdout",
     "output_type": "stream",
     "text": [
      "[1900]\tval-rmse:0.40363\n"
     ]
    },
    {
     "name": "stdout",
     "output_type": "stream",
     "text": [
      "[2000]\tval-rmse:0.40355\n"
     ]
    },
    {
     "name": "stdout",
     "output_type": "stream",
     "text": [
      "[2100]\tval-rmse:0.40363\n"
     ]
    },
    {
     "name": "stdout",
     "output_type": "stream",
     "text": [
      "[2200]\tval-rmse:0.40374\n"
     ]
    },
    {
     "name": "stdout",
     "output_type": "stream",
     "text": [
      "[2300]\tval-rmse:0.40390\n"
     ]
    },
    {
     "name": "stdout",
     "output_type": "stream",
     "text": [
      "[2400]\tval-rmse:0.40408\n"
     ]
    },
    {
     "name": "stdout",
     "output_type": "stream",
     "text": [
      "[2499]\tval-rmse:0.40416\n"
     ]
    },
    {
     "name": "stdout",
     "output_type": "stream",
     "text": [
      "Fold 2 - RMSE: 0.40335847110361933\n",
      "Fold 3\n"
     ]
    },
    {
     "name": "stdout",
     "output_type": "stream",
     "text": [
      "[0]\tval-rmse:0.61293\n"
     ]
    },
    {
     "name": "stdout",
     "output_type": "stream",
     "text": [
      "[100]\tval-rmse:0.48911\n"
     ]
    },
    {
     "name": "stdout",
     "output_type": "stream",
     "text": [
      "[200]\tval-rmse:0.46816\n"
     ]
    },
    {
     "name": "stdout",
     "output_type": "stream",
     "text": [
      "[300]\tval-rmse:0.45788\n"
     ]
    },
    {
     "name": "stdout",
     "output_type": "stream",
     "text": [
      "[400]\tval-rmse:0.45123\n"
     ]
    },
    {
     "name": "stdout",
     "output_type": "stream",
     "text": [
      "[500]\tval-rmse:0.44712\n"
     ]
    },
    {
     "name": "stdout",
     "output_type": "stream",
     "text": [
      "[600]\tval-rmse:0.44498\n"
     ]
    },
    {
     "name": "stdout",
     "output_type": "stream",
     "text": [
      "[700]\tval-rmse:0.44334\n"
     ]
    },
    {
     "name": "stdout",
     "output_type": "stream",
     "text": [
      "[800]\tval-rmse:0.44185\n"
     ]
    },
    {
     "name": "stdout",
     "output_type": "stream",
     "text": [
      "[900]\tval-rmse:0.44092\n"
     ]
    },
    {
     "name": "stdout",
     "output_type": "stream",
     "text": [
      "[1000]\tval-rmse:0.44016\n"
     ]
    },
    {
     "name": "stdout",
     "output_type": "stream",
     "text": [
      "[1100]\tval-rmse:0.43973\n"
     ]
    },
    {
     "name": "stdout",
     "output_type": "stream",
     "text": [
      "[1200]\tval-rmse:0.43912\n"
     ]
    },
    {
     "name": "stdout",
     "output_type": "stream",
     "text": [
      "[1300]\tval-rmse:0.43857\n"
     ]
    },
    {
     "name": "stdout",
     "output_type": "stream",
     "text": [
      "[1400]\tval-rmse:0.43829\n"
     ]
    },
    {
     "name": "stdout",
     "output_type": "stream",
     "text": [
      "[1500]\tval-rmse:0.43793\n"
     ]
    },
    {
     "name": "stdout",
     "output_type": "stream",
     "text": [
      "[1600]\tval-rmse:0.43754\n"
     ]
    },
    {
     "name": "stdout",
     "output_type": "stream",
     "text": [
      "[1700]\tval-rmse:0.43747\n"
     ]
    },
    {
     "name": "stdout",
     "output_type": "stream",
     "text": [
      "[1800]\tval-rmse:0.43726\n"
     ]
    },
    {
     "name": "stdout",
     "output_type": "stream",
     "text": [
      "[1900]\tval-rmse:0.43704\n"
     ]
    },
    {
     "name": "stdout",
     "output_type": "stream",
     "text": [
      "[2000]\tval-rmse:0.43693\n"
     ]
    },
    {
     "name": "stdout",
     "output_type": "stream",
     "text": [
      "[2100]\tval-rmse:0.43669\n"
     ]
    },
    {
     "name": "stdout",
     "output_type": "stream",
     "text": [
      "[2200]\tval-rmse:0.43661\n"
     ]
    },
    {
     "name": "stdout",
     "output_type": "stream",
     "text": [
      "[2300]\tval-rmse:0.43652\n"
     ]
    },
    {
     "name": "stdout",
     "output_type": "stream",
     "text": [
      "[2400]\tval-rmse:0.43660\n"
     ]
    },
    {
     "name": "stdout",
     "output_type": "stream",
     "text": [
      "[2499]\tval-rmse:0.43658\n"
     ]
    },
    {
     "name": "stdout",
     "output_type": "stream",
     "text": [
      "Fold 3 - RMSE: 0.43623228561661975\n",
      "Fold 4\n"
     ]
    },
    {
     "name": "stdout",
     "output_type": "stream",
     "text": [
      "[0]\tval-rmse:0.60519\n"
     ]
    },
    {
     "name": "stdout",
     "output_type": "stream",
     "text": [
      "[100]\tval-rmse:0.49092\n"
     ]
    },
    {
     "name": "stdout",
     "output_type": "stream",
     "text": [
      "[200]\tval-rmse:0.46776\n"
     ]
    },
    {
     "name": "stdout",
     "output_type": "stream",
     "text": [
      "[300]\tval-rmse:0.45893\n"
     ]
    },
    {
     "name": "stdout",
     "output_type": "stream",
     "text": [
      "[400]\tval-rmse:0.45369\n"
     ]
    },
    {
     "name": "stdout",
     "output_type": "stream",
     "text": [
      "[500]\tval-rmse:0.45086\n"
     ]
    },
    {
     "name": "stdout",
     "output_type": "stream",
     "text": [
      "[600]\tval-rmse:0.44919\n"
     ]
    },
    {
     "name": "stdout",
     "output_type": "stream",
     "text": [
      "[700]\tval-rmse:0.44812\n"
     ]
    },
    {
     "name": "stdout",
     "output_type": "stream",
     "text": [
      "[800]\tval-rmse:0.44713\n"
     ]
    },
    {
     "name": "stdout",
     "output_type": "stream",
     "text": [
      "[900]\tval-rmse:0.44637\n"
     ]
    },
    {
     "name": "stdout",
     "output_type": "stream",
     "text": [
      "[1000]\tval-rmse:0.44613\n"
     ]
    },
    {
     "name": "stdout",
     "output_type": "stream",
     "text": [
      "[1100]\tval-rmse:0.44565\n"
     ]
    },
    {
     "name": "stdout",
     "output_type": "stream",
     "text": [
      "[1200]\tval-rmse:0.44540\n"
     ]
    },
    {
     "name": "stdout",
     "output_type": "stream",
     "text": [
      "[1300]\tval-rmse:0.44516\n"
     ]
    },
    {
     "name": "stdout",
     "output_type": "stream",
     "text": [
      "[1400]\tval-rmse:0.44489\n"
     ]
    },
    {
     "name": "stdout",
     "output_type": "stream",
     "text": [
      "[1500]\tval-rmse:0.44479\n"
     ]
    },
    {
     "name": "stdout",
     "output_type": "stream",
     "text": [
      "[1600]\tval-rmse:0.44462\n"
     ]
    },
    {
     "name": "stdout",
     "output_type": "stream",
     "text": [
      "[1700]\tval-rmse:0.44467\n"
     ]
    },
    {
     "name": "stdout",
     "output_type": "stream",
     "text": [
      "[1800]\tval-rmse:0.44456\n"
     ]
    },
    {
     "name": "stdout",
     "output_type": "stream",
     "text": [
      "[1900]\tval-rmse:0.44450\n"
     ]
    },
    {
     "name": "stdout",
     "output_type": "stream",
     "text": [
      "[2000]\tval-rmse:0.44457\n"
     ]
    },
    {
     "name": "stdout",
     "output_type": "stream",
     "text": [
      "[2100]\tval-rmse:0.44446\n"
     ]
    },
    {
     "name": "stdout",
     "output_type": "stream",
     "text": [
      "[2200]\tval-rmse:0.44434\n"
     ]
    },
    {
     "name": "stdout",
     "output_type": "stream",
     "text": [
      "[2300]\tval-rmse:0.44429\n"
     ]
    },
    {
     "name": "stdout",
     "output_type": "stream",
     "text": [
      "[2400]\tval-rmse:0.44429\n"
     ]
    },
    {
     "name": "stdout",
     "output_type": "stream",
     "text": [
      "[2499]\tval-rmse:0.44422\n"
     ]
    },
    {
     "name": "stdout",
     "output_type": "stream",
     "text": [
      "Fold 4 - RMSE: 0.4438806520979972\n",
      "Fold 5\n"
     ]
    },
    {
     "name": "stdout",
     "output_type": "stream",
     "text": [
      "[0]\tval-rmse:0.59028\n"
     ]
    },
    {
     "name": "stdout",
     "output_type": "stream",
     "text": [
      "[100]\tval-rmse:0.48103\n"
     ]
    },
    {
     "name": "stdout",
     "output_type": "stream",
     "text": [
      "[200]\tval-rmse:0.46099\n"
     ]
    },
    {
     "name": "stdout",
     "output_type": "stream",
     "text": [
      "[300]\tval-rmse:0.45195\n"
     ]
    },
    {
     "name": "stdout",
     "output_type": "stream",
     "text": [
      "[400]\tval-rmse:0.44533\n"
     ]
    },
    {
     "name": "stdout",
     "output_type": "stream",
     "text": [
      "[500]\tval-rmse:0.44179\n"
     ]
    },
    {
     "name": "stdout",
     "output_type": "stream",
     "text": [
      "[600]\tval-rmse:0.43984\n"
     ]
    },
    {
     "name": "stdout",
     "output_type": "stream",
     "text": [
      "[700]\tval-rmse:0.43847\n"
     ]
    },
    {
     "name": "stdout",
     "output_type": "stream",
     "text": [
      "[800]\tval-rmse:0.43733\n"
     ]
    },
    {
     "name": "stdout",
     "output_type": "stream",
     "text": [
      "[900]\tval-rmse:0.43630\n"
     ]
    },
    {
     "name": "stdout",
     "output_type": "stream",
     "text": [
      "[1000]\tval-rmse:0.43570\n"
     ]
    },
    {
     "name": "stdout",
     "output_type": "stream",
     "text": [
      "[1100]\tval-rmse:0.43513\n"
     ]
    },
    {
     "name": "stdout",
     "output_type": "stream",
     "text": [
      "[1200]\tval-rmse:0.43495\n"
     ]
    },
    {
     "name": "stdout",
     "output_type": "stream",
     "text": [
      "[1300]\tval-rmse:0.43467\n"
     ]
    },
    {
     "name": "stdout",
     "output_type": "stream",
     "text": [
      "[1400]\tval-rmse:0.43437\n"
     ]
    },
    {
     "name": "stdout",
     "output_type": "stream",
     "text": [
      "[1500]\tval-rmse:0.43410\n"
     ]
    },
    {
     "name": "stdout",
     "output_type": "stream",
     "text": [
      "[1600]\tval-rmse:0.43398\n"
     ]
    },
    {
     "name": "stdout",
     "output_type": "stream",
     "text": [
      "[1700]\tval-rmse:0.43392\n"
     ]
    },
    {
     "name": "stdout",
     "output_type": "stream",
     "text": [
      "[1800]\tval-rmse:0.43381\n"
     ]
    },
    {
     "name": "stdout",
     "output_type": "stream",
     "text": [
      "[1900]\tval-rmse:0.43371\n"
     ]
    },
    {
     "name": "stdout",
     "output_type": "stream",
     "text": [
      "[2000]\tval-rmse:0.43378\n"
     ]
    },
    {
     "name": "stdout",
     "output_type": "stream",
     "text": [
      "[2100]\tval-rmse:0.43381\n"
     ]
    },
    {
     "name": "stdout",
     "output_type": "stream",
     "text": [
      "[2200]\tval-rmse:0.43375\n"
     ]
    },
    {
     "name": "stdout",
     "output_type": "stream",
     "text": [
      "[2300]\tval-rmse:0.43378\n"
     ]
    },
    {
     "name": "stdout",
     "output_type": "stream",
     "text": [
      "[2400]\tval-rmse:0.43364\n"
     ]
    },
    {
     "name": "stdout",
     "output_type": "stream",
     "text": [
      "[2499]\tval-rmse:0.43369\n"
     ]
    },
    {
     "name": "stdout",
     "output_type": "stream",
     "text": [
      "Fold 5 - RMSE: 0.4331838070211579\n",
      "List of oof scores: [0.40925812100047043, 0.40335847110361933, 0.43623228561661975, 0.4438806520979972, 0.4331838070211579]\n",
      "Average oof score: 0.42518266736797294\n"
     ]
    }
   ],
   "source": [
    "# call the function\n",
    "trained_models2, oof2, oof_scores2, importance_df2 = train_models(\n",
    "    df_train,\n",
    "    'utility_agent1',\n",
    "    numerical_cols,\n",
    "    categorical_cols,\n",
    "    split_list=split2,\n",
    ")\n",
    "# save oof predictions\n",
    "oof2.to_parquet(path_results / f'oof_xgboost_{fs_type}_cv2.parquet', index=False)"
   ]
  },
  {
   "cell_type": "code",
   "execution_count": 13,
   "id": "ebd03eb1",
   "metadata": {
    "execution": {
     "iopub.execute_input": "2024-11-28T03:10:11.873887Z",
     "iopub.status.busy": "2024-11-28T03:10:11.873743Z",
     "iopub.status.idle": "2024-11-28T03:29:52.087092Z",
     "shell.execute_reply": "2024-11-28T03:29:52.086767Z"
    },
    "papermill": {
     "duration": 1180.240842,
     "end_time": "2024-11-28T03:29:52.087864",
     "exception": false,
     "start_time": "2024-11-28T03:10:11.847022",
     "status": "completed"
    },
    "tags": []
   },
   "outputs": [
    {
     "name": "stdout",
     "output_type": "stream",
     "text": [
      "Fold 1\n"
     ]
    },
    {
     "name": "stdout",
     "output_type": "stream",
     "text": [
      "[0]\tval-rmse:0.57506\n"
     ]
    },
    {
     "name": "stdout",
     "output_type": "stream",
     "text": [
      "[100]\tval-rmse:0.47849\n"
     ]
    },
    {
     "name": "stdout",
     "output_type": "stream",
     "text": [
      "[200]\tval-rmse:0.46134\n"
     ]
    },
    {
     "name": "stdout",
     "output_type": "stream",
     "text": [
      "[300]\tval-rmse:0.45355\n"
     ]
    },
    {
     "name": "stdout",
     "output_type": "stream",
     "text": [
      "[400]\tval-rmse:0.44784\n"
     ]
    },
    {
     "name": "stdout",
     "output_type": "stream",
     "text": [
      "[500]\tval-rmse:0.44489\n"
     ]
    },
    {
     "name": "stdout",
     "output_type": "stream",
     "text": [
      "[600]\tval-rmse:0.44303\n"
     ]
    },
    {
     "name": "stdout",
     "output_type": "stream",
     "text": [
      "[700]\tval-rmse:0.44200\n"
     ]
    },
    {
     "name": "stdout",
     "output_type": "stream",
     "text": [
      "[800]\tval-rmse:0.44131\n"
     ]
    },
    {
     "name": "stdout",
     "output_type": "stream",
     "text": [
      "[900]\tval-rmse:0.44040\n"
     ]
    },
    {
     "name": "stdout",
     "output_type": "stream",
     "text": [
      "[1000]\tval-rmse:0.43989\n"
     ]
    },
    {
     "name": "stdout",
     "output_type": "stream",
     "text": [
      "[1100]\tval-rmse:0.43962\n"
     ]
    },
    {
     "name": "stdout",
     "output_type": "stream",
     "text": [
      "[1200]\tval-rmse:0.43941\n"
     ]
    },
    {
     "name": "stdout",
     "output_type": "stream",
     "text": [
      "[1300]\tval-rmse:0.43914\n"
     ]
    },
    {
     "name": "stdout",
     "output_type": "stream",
     "text": [
      "[1400]\tval-rmse:0.43901\n"
     ]
    },
    {
     "name": "stdout",
     "output_type": "stream",
     "text": [
      "[1500]\tval-rmse:0.43890\n"
     ]
    },
    {
     "name": "stdout",
     "output_type": "stream",
     "text": [
      "[1600]\tval-rmse:0.43881\n"
     ]
    },
    {
     "name": "stdout",
     "output_type": "stream",
     "text": [
      "[1700]\tval-rmse:0.43888\n"
     ]
    },
    {
     "name": "stdout",
     "output_type": "stream",
     "text": [
      "[1800]\tval-rmse:0.43876\n"
     ]
    },
    {
     "name": "stdout",
     "output_type": "stream",
     "text": [
      "[1900]\tval-rmse:0.43867\n"
     ]
    },
    {
     "name": "stdout",
     "output_type": "stream",
     "text": [
      "[2000]\tval-rmse:0.43857\n"
     ]
    },
    {
     "name": "stdout",
     "output_type": "stream",
     "text": [
      "[2100]\tval-rmse:0.43865\n"
     ]
    },
    {
     "name": "stdout",
     "output_type": "stream",
     "text": [
      "[2200]\tval-rmse:0.43867\n"
     ]
    },
    {
     "name": "stdout",
     "output_type": "stream",
     "text": [
      "[2300]\tval-rmse:0.43871\n"
     ]
    },
    {
     "name": "stdout",
     "output_type": "stream",
     "text": [
      "[2400]\tval-rmse:0.43860\n"
     ]
    },
    {
     "name": "stdout",
     "output_type": "stream",
     "text": [
      "[2499]\tval-rmse:0.43872\n"
     ]
    },
    {
     "name": "stdout",
     "output_type": "stream",
     "text": [
      "Fold 1 - RMSE: 0.43831658565440856\n",
      "Fold 2\n"
     ]
    },
    {
     "name": "stdout",
     "output_type": "stream",
     "text": [
      "[0]\tval-rmse:0.57455\n"
     ]
    },
    {
     "name": "stdout",
     "output_type": "stream",
     "text": [
      "[100]\tval-rmse:0.46890\n"
     ]
    },
    {
     "name": "stdout",
     "output_type": "stream",
     "text": [
      "[200]\tval-rmse:0.44774\n"
     ]
    },
    {
     "name": "stdout",
     "output_type": "stream",
     "text": [
      "[300]\tval-rmse:0.43841\n"
     ]
    },
    {
     "name": "stdout",
     "output_type": "stream",
     "text": [
      "[400]\tval-rmse:0.43141\n"
     ]
    },
    {
     "name": "stdout",
     "output_type": "stream",
     "text": [
      "[500]\tval-rmse:0.42756\n"
     ]
    },
    {
     "name": "stdout",
     "output_type": "stream",
     "text": [
      "[600]\tval-rmse:0.42469\n"
     ]
    },
    {
     "name": "stdout",
     "output_type": "stream",
     "text": [
      "[700]\tval-rmse:0.42293\n"
     ]
    },
    {
     "name": "stdout",
     "output_type": "stream",
     "text": [
      "[800]\tval-rmse:0.42151\n"
     ]
    },
    {
     "name": "stdout",
     "output_type": "stream",
     "text": [
      "[900]\tval-rmse:0.42055\n"
     ]
    },
    {
     "name": "stdout",
     "output_type": "stream",
     "text": [
      "[1000]\tval-rmse:0.42000\n"
     ]
    },
    {
     "name": "stdout",
     "output_type": "stream",
     "text": [
      "[1100]\tval-rmse:0.41936\n"
     ]
    },
    {
     "name": "stdout",
     "output_type": "stream",
     "text": [
      "[1200]\tval-rmse:0.41859\n"
     ]
    },
    {
     "name": "stdout",
     "output_type": "stream",
     "text": [
      "[1300]\tval-rmse:0.41813\n"
     ]
    },
    {
     "name": "stdout",
     "output_type": "stream",
     "text": [
      "[1400]\tval-rmse:0.41785\n"
     ]
    },
    {
     "name": "stdout",
     "output_type": "stream",
     "text": [
      "[1500]\tval-rmse:0.41783\n"
     ]
    },
    {
     "name": "stdout",
     "output_type": "stream",
     "text": [
      "[1600]\tval-rmse:0.41766\n"
     ]
    },
    {
     "name": "stdout",
     "output_type": "stream",
     "text": [
      "[1700]\tval-rmse:0.41755\n"
     ]
    },
    {
     "name": "stdout",
     "output_type": "stream",
     "text": [
      "[1800]\tval-rmse:0.41752\n"
     ]
    },
    {
     "name": "stdout",
     "output_type": "stream",
     "text": [
      "[1900]\tval-rmse:0.41738\n"
     ]
    },
    {
     "name": "stdout",
     "output_type": "stream",
     "text": [
      "[2000]\tval-rmse:0.41737\n"
     ]
    },
    {
     "name": "stdout",
     "output_type": "stream",
     "text": [
      "[2100]\tval-rmse:0.41713\n"
     ]
    },
    {
     "name": "stdout",
     "output_type": "stream",
     "text": [
      "[2200]\tval-rmse:0.41710\n"
     ]
    },
    {
     "name": "stdout",
     "output_type": "stream",
     "text": [
      "[2300]\tval-rmse:0.41708\n"
     ]
    },
    {
     "name": "stdout",
     "output_type": "stream",
     "text": [
      "[2400]\tval-rmse:0.41716\n"
     ]
    },
    {
     "name": "stdout",
     "output_type": "stream",
     "text": [
      "[2499]\tval-rmse:0.41723\n"
     ]
    },
    {
     "name": "stdout",
     "output_type": "stream",
     "text": [
      "Fold 2 - RMSE: 0.4169681348818479\n",
      "Fold 3\n"
     ]
    },
    {
     "name": "stdout",
     "output_type": "stream",
     "text": [
      "[0]\tval-rmse:0.57778\n"
     ]
    },
    {
     "name": "stdout",
     "output_type": "stream",
     "text": [
      "[100]\tval-rmse:0.47299\n"
     ]
    },
    {
     "name": "stdout",
     "output_type": "stream",
     "text": [
      "[200]\tval-rmse:0.45638\n"
     ]
    },
    {
     "name": "stdout",
     "output_type": "stream",
     "text": [
      "[300]\tval-rmse:0.45039\n"
     ]
    },
    {
     "name": "stdout",
     "output_type": "stream",
     "text": [
      "[400]\tval-rmse:0.44652\n"
     ]
    },
    {
     "name": "stdout",
     "output_type": "stream",
     "text": [
      "[500]\tval-rmse:0.44378\n"
     ]
    },
    {
     "name": "stdout",
     "output_type": "stream",
     "text": [
      "[600]\tval-rmse:0.44258\n"
     ]
    },
    {
     "name": "stdout",
     "output_type": "stream",
     "text": [
      "[700]\tval-rmse:0.44166\n"
     ]
    },
    {
     "name": "stdout",
     "output_type": "stream",
     "text": [
      "[800]\tval-rmse:0.44124\n"
     ]
    },
    {
     "name": "stdout",
     "output_type": "stream",
     "text": [
      "[900]\tval-rmse:0.44048\n"
     ]
    },
    {
     "name": "stdout",
     "output_type": "stream",
     "text": [
      "[1000]\tval-rmse:0.43998\n"
     ]
    },
    {
     "name": "stdout",
     "output_type": "stream",
     "text": [
      "[1100]\tval-rmse:0.43971\n"
     ]
    },
    {
     "name": "stdout",
     "output_type": "stream",
     "text": [
      "[1200]\tval-rmse:0.43958\n"
     ]
    },
    {
     "name": "stdout",
     "output_type": "stream",
     "text": [
      "[1300]\tval-rmse:0.43927\n"
     ]
    },
    {
     "name": "stdout",
     "output_type": "stream",
     "text": [
      "[1400]\tval-rmse:0.43904\n"
     ]
    },
    {
     "name": "stdout",
     "output_type": "stream",
     "text": [
      "[1500]\tval-rmse:0.43881\n"
     ]
    },
    {
     "name": "stdout",
     "output_type": "stream",
     "text": [
      "[1600]\tval-rmse:0.43873\n"
     ]
    },
    {
     "name": "stdout",
     "output_type": "stream",
     "text": [
      "[1700]\tval-rmse:0.43862\n"
     ]
    },
    {
     "name": "stdout",
     "output_type": "stream",
     "text": [
      "[1800]\tval-rmse:0.43851\n"
     ]
    },
    {
     "name": "stdout",
     "output_type": "stream",
     "text": [
      "[1900]\tval-rmse:0.43846\n"
     ]
    },
    {
     "name": "stdout",
     "output_type": "stream",
     "text": [
      "[2000]\tval-rmse:0.43845\n"
     ]
    },
    {
     "name": "stdout",
     "output_type": "stream",
     "text": [
      "[2100]\tval-rmse:0.43849\n"
     ]
    },
    {
     "name": "stdout",
     "output_type": "stream",
     "text": [
      "[2200]\tval-rmse:0.43840\n"
     ]
    },
    {
     "name": "stdout",
     "output_type": "stream",
     "text": [
      "[2300]\tval-rmse:0.43832\n"
     ]
    },
    {
     "name": "stdout",
     "output_type": "stream",
     "text": [
      "[2400]\tval-rmse:0.43815\n"
     ]
    },
    {
     "name": "stdout",
     "output_type": "stream",
     "text": [
      "[2499]\tval-rmse:0.43815\n"
     ]
    },
    {
     "name": "stdout",
     "output_type": "stream",
     "text": [
      "Fold 3 - RMSE: 0.4378746101120322\n",
      "Fold 4\n"
     ]
    },
    {
     "name": "stdout",
     "output_type": "stream",
     "text": [
      "[0]\tval-rmse:0.57522\n"
     ]
    },
    {
     "name": "stdout",
     "output_type": "stream",
     "text": [
      "[100]\tval-rmse:0.46260\n"
     ]
    },
    {
     "name": "stdout",
     "output_type": "stream",
     "text": [
      "[200]\tval-rmse:0.44408\n"
     ]
    },
    {
     "name": "stdout",
     "output_type": "stream",
     "text": [
      "[300]\tval-rmse:0.43778\n"
     ]
    },
    {
     "name": "stdout",
     "output_type": "stream",
     "text": [
      "[400]\tval-rmse:0.43243\n"
     ]
    },
    {
     "name": "stdout",
     "output_type": "stream",
     "text": [
      "[500]\tval-rmse:0.42873\n"
     ]
    },
    {
     "name": "stdout",
     "output_type": "stream",
     "text": [
      "[600]\tval-rmse:0.42680\n"
     ]
    },
    {
     "name": "stdout",
     "output_type": "stream",
     "text": [
      "[700]\tval-rmse:0.42535\n"
     ]
    },
    {
     "name": "stdout",
     "output_type": "stream",
     "text": [
      "[800]\tval-rmse:0.42426\n"
     ]
    },
    {
     "name": "stdout",
     "output_type": "stream",
     "text": [
      "[900]\tval-rmse:0.42319\n"
     ]
    },
    {
     "name": "stdout",
     "output_type": "stream",
     "text": [
      "[1000]\tval-rmse:0.42264\n"
     ]
    },
    {
     "name": "stdout",
     "output_type": "stream",
     "text": [
      "[1100]\tval-rmse:0.42234\n"
     ]
    },
    {
     "name": "stdout",
     "output_type": "stream",
     "text": [
      "[1200]\tval-rmse:0.42217\n"
     ]
    },
    {
     "name": "stdout",
     "output_type": "stream",
     "text": [
      "[1300]\tval-rmse:0.42177\n"
     ]
    },
    {
     "name": "stdout",
     "output_type": "stream",
     "text": [
      "[1400]\tval-rmse:0.42154\n"
     ]
    },
    {
     "name": "stdout",
     "output_type": "stream",
     "text": [
      "[1500]\tval-rmse:0.42146\n"
     ]
    },
    {
     "name": "stdout",
     "output_type": "stream",
     "text": [
      "[1600]\tval-rmse:0.42149\n"
     ]
    },
    {
     "name": "stdout",
     "output_type": "stream",
     "text": [
      "[1700]\tval-rmse:0.42141\n"
     ]
    },
    {
     "name": "stdout",
     "output_type": "stream",
     "text": [
      "[1800]\tval-rmse:0.42128\n"
     ]
    },
    {
     "name": "stdout",
     "output_type": "stream",
     "text": [
      "[1900]\tval-rmse:0.42122\n"
     ]
    },
    {
     "name": "stdout",
     "output_type": "stream",
     "text": [
      "[2000]\tval-rmse:0.42116\n"
     ]
    },
    {
     "name": "stdout",
     "output_type": "stream",
     "text": [
      "[2100]\tval-rmse:0.42103\n"
     ]
    },
    {
     "name": "stdout",
     "output_type": "stream",
     "text": [
      "[2200]\tval-rmse:0.42104\n"
     ]
    },
    {
     "name": "stdout",
     "output_type": "stream",
     "text": [
      "[2300]\tval-rmse:0.42100\n"
     ]
    },
    {
     "name": "stdout",
     "output_type": "stream",
     "text": [
      "[2400]\tval-rmse:0.42095\n"
     ]
    },
    {
     "name": "stdout",
     "output_type": "stream",
     "text": [
      "[2499]\tval-rmse:0.42095\n"
     ]
    },
    {
     "name": "stdout",
     "output_type": "stream",
     "text": [
      "Fold 4 - RMSE: 0.42062024652903063\n",
      "Fold 5\n"
     ]
    },
    {
     "name": "stdout",
     "output_type": "stream",
     "text": [
      "[0]\tval-rmse:0.58600\n"
     ]
    },
    {
     "name": "stdout",
     "output_type": "stream",
     "text": [
      "[100]\tval-rmse:0.47882\n"
     ]
    },
    {
     "name": "stdout",
     "output_type": "stream",
     "text": [
      "[200]\tval-rmse:0.45954\n"
     ]
    },
    {
     "name": "stdout",
     "output_type": "stream",
     "text": [
      "[300]\tval-rmse:0.45010\n"
     ]
    },
    {
     "name": "stdout",
     "output_type": "stream",
     "text": [
      "[400]\tval-rmse:0.44371\n"
     ]
    },
    {
     "name": "stdout",
     "output_type": "stream",
     "text": [
      "[500]\tval-rmse:0.43916\n"
     ]
    },
    {
     "name": "stdout",
     "output_type": "stream",
     "text": [
      "[600]\tval-rmse:0.43681\n"
     ]
    },
    {
     "name": "stdout",
     "output_type": "stream",
     "text": [
      "[700]\tval-rmse:0.43523\n"
     ]
    },
    {
     "name": "stdout",
     "output_type": "stream",
     "text": [
      "[800]\tval-rmse:0.43389\n"
     ]
    },
    {
     "name": "stdout",
     "output_type": "stream",
     "text": [
      "[900]\tval-rmse:0.43299\n"
     ]
    },
    {
     "name": "stdout",
     "output_type": "stream",
     "text": [
      "[1000]\tval-rmse:0.43250\n"
     ]
    },
    {
     "name": "stdout",
     "output_type": "stream",
     "text": [
      "[1100]\tval-rmse:0.43193\n"
     ]
    },
    {
     "name": "stdout",
     "output_type": "stream",
     "text": [
      "[1200]\tval-rmse:0.43153\n"
     ]
    },
    {
     "name": "stdout",
     "output_type": "stream",
     "text": [
      "[1300]\tval-rmse:0.43125\n"
     ]
    },
    {
     "name": "stdout",
     "output_type": "stream",
     "text": [
      "[1400]\tval-rmse:0.43102\n"
     ]
    },
    {
     "name": "stdout",
     "output_type": "stream",
     "text": [
      "[1500]\tval-rmse:0.43105\n"
     ]
    },
    {
     "name": "stdout",
     "output_type": "stream",
     "text": [
      "[1600]\tval-rmse:0.43101\n"
     ]
    },
    {
     "name": "stdout",
     "output_type": "stream",
     "text": [
      "[1700]\tval-rmse:0.43099\n"
     ]
    },
    {
     "name": "stdout",
     "output_type": "stream",
     "text": [
      "[1800]\tval-rmse:0.43086\n"
     ]
    },
    {
     "name": "stdout",
     "output_type": "stream",
     "text": [
      "[1900]\tval-rmse:0.43068\n"
     ]
    },
    {
     "name": "stdout",
     "output_type": "stream",
     "text": [
      "[2000]\tval-rmse:0.43062\n"
     ]
    },
    {
     "name": "stdout",
     "output_type": "stream",
     "text": [
      "[2100]\tval-rmse:0.43053\n"
     ]
    },
    {
     "name": "stdout",
     "output_type": "stream",
     "text": [
      "[2200]\tval-rmse:0.43043\n"
     ]
    },
    {
     "name": "stdout",
     "output_type": "stream",
     "text": [
      "[2300]\tval-rmse:0.43053\n"
     ]
    },
    {
     "name": "stdout",
     "output_type": "stream",
     "text": [
      "[2400]\tval-rmse:0.43051\n"
     ]
    },
    {
     "name": "stdout",
     "output_type": "stream",
     "text": [
      "[2499]\tval-rmse:0.43048\n"
     ]
    },
    {
     "name": "stdout",
     "output_type": "stream",
     "text": [
      "Fold 5 - RMSE: 0.4301594789969221\n",
      "List of oof scores: [0.43831658565440856, 0.4169681348818479, 0.4378746101120322, 0.42062024652903063, 0.4301594789969221]\n",
      "Average oof score: 0.4287878112348483\n"
     ]
    }
   ],
   "source": [
    "# call the function\n",
    "trained_models3, oof3, oof_scores3, importance_df3 = train_models(\n",
    "    df_train,\n",
    "    'utility_agent1',\n",
    "    numerical_cols,\n",
    "    categorical_cols,\n",
    "    split_list=split3,\n",
    ")\n",
    "# save oof predictions\n",
    "oof3.to_parquet(path_results / f'oof_xgboost_{fs_type}_cv3.parquet', index=False)"
   ]
  },
  {
   "cell_type": "code",
   "execution_count": 14,
   "id": "20ff5159",
   "metadata": {
    "execution": {
     "iopub.execute_input": "2024-11-28T03:29:52.108569Z",
     "iopub.status.busy": "2024-11-28T03:29:52.108449Z",
     "iopub.status.idle": "2024-11-28T03:29:52.110776Z",
     "shell.execute_reply": "2024-11-28T03:29:52.110526Z"
    },
    "papermill": {
     "duration": 0.013483,
     "end_time": "2024-11-28T03:29:52.111503",
     "exception": false,
     "start_time": "2024-11-28T03:29:52.098020",
     "status": "completed"
    },
    "tags": []
   },
   "outputs": [
    {
     "name": "stdout",
     "output_type": "stream",
     "text": [
      "CV1 OOF Scores:\n",
      "Score: 0.4278\n",
      "Score: 0.4503\n",
      "Score: 0.4382\n",
      "Score: 0.4393\n",
      "Score: 0.4105\n",
      "Average CV1 Score: 0.4332\n",
      "\n",
      "CV2 OOF Scores:\n",
      "Score: 0.4093\n",
      "Score: 0.4034\n",
      "Score: 0.4362\n",
      "Score: 0.4439\n",
      "Score: 0.4332\n",
      "Average CV2 Score: 0.4252\n",
      "\n",
      "CV3 OOF Scores:\n",
      "Score: 0.4383\n",
      "Score: 0.4170\n",
      "Score: 0.4379\n",
      "Score: 0.4206\n",
      "Score: 0.4302\n",
      "Average CV3 Score: 0.4288\n"
     ]
    }
   ],
   "source": [
    "# Print summary of OOF scores for each CV fold\n",
    "print(\"CV1 OOF Scores:\")\n",
    "for score in oof_scores1:\n",
    "    print(f\"Score: {score:.4f}\")\n",
    "print(f\"Average CV1 Score: {sum(oof_scores1)/len(oof_scores1):.4f}\")\n",
    "    \n",
    "print(\"\\nCV2 OOF Scores:\")  \n",
    "for score in oof_scores2:\n",
    "    print(f\"Score: {score:.4f}\")\n",
    "print(f\"Average CV2 Score: {sum(oof_scores2)/len(oof_scores2):.4f}\")\n",
    "    \n",
    "print(\"\\nCV3 OOF Scores:\")\n",
    "for score in oof_scores3:\n",
    "    print(f\"Score: {score:.4f}\")\n",
    "print(f\"Average CV3 Score: {sum(oof_scores3)/len(oof_scores3):.4f}\")"
   ]
  },
  {
   "cell_type": "code",
   "execution_count": 15,
   "id": "abe5637e",
   "metadata": {
    "execution": {
     "iopub.execute_input": "2024-11-28T03:29:52.131572Z",
     "iopub.status.busy": "2024-11-28T03:29:52.131475Z",
     "iopub.status.idle": "2024-11-28T03:29:52.133041Z",
     "shell.execute_reply": "2024-11-28T03:29:52.132799Z"
    },
    "papermill": {
     "duration": 0.012257,
     "end_time": "2024-11-28T03:29:52.133660",
     "exception": false,
     "start_time": "2024-11-28T03:29:52.121403",
     "status": "completed"
    },
    "tags": []
   },
   "outputs": [],
   "source": [
    "trained_models = [*trained_models1, *trained_models2, *trained_models3]\n",
    "# trained_models = trained_models1"
   ]
  },
  {
   "cell_type": "code",
   "execution_count": 16,
   "id": "0bf2fb82",
   "metadata": {
    "execution": {
     "iopub.execute_input": "2024-11-28T03:29:52.153652Z",
     "iopub.status.busy": "2024-11-28T03:29:52.153543Z",
     "iopub.status.idle": "2024-11-28T03:29:52.260475Z",
     "shell.execute_reply": "2024-11-28T03:29:52.260211Z"
    },
    "papermill": {
     "duration": 0.117772,
     "end_time": "2024-11-28T03:29:52.261237",
     "exception": false,
     "start_time": "2024-11-28T03:29:52.143465",
     "status": "completed"
    },
    "tags": []
   },
   "outputs": [
    {
     "data": {
      "image/png": "[encoded data removed]",
      "text/plain": [
       "<Figure size 640x480 with 1 Axes>"
      ]
     },
     "metadata": {},
     "output_type": "display_data"
    }
   ],
   "source": [
    "plt.hist(oof1['utility_agent1_true'], alpha=0.5, label='Target')\n",
    "plt.hist(oof1['utility_agent1_pred'], alpha=0.5, label='Prediction')\n",
    "plt.legend()\n",
    "plt.show()"
   ]
  },
  {
   "cell_type": "markdown",
   "id": "235db6bb",
   "metadata": {
    "papermill": {
     "duration": 0.01064,
     "end_time": "2024-11-28T03:29:52.282613",
     "exception": false,
     "start_time": "2024-11-28T03:29:52.271973",
     "status": "completed"
    },
    "tags": []
   },
   "source": [
    "***\n",
    "### inference"
   ]
  },
  {
   "cell_type": "code",
   "execution_count": 17,
   "id": "8720d3f9",
   "metadata": {
    "execution": {
     "iopub.execute_input": "2024-11-28T03:29:52.304116Z",
     "iopub.status.busy": "2024-11-28T03:29:52.303981Z",
     "iopub.status.idle": "2024-11-28T03:29:52.451025Z",
     "shell.execute_reply": "2024-11-28T03:29:52.450756Z"
    },
    "papermill": {
     "duration": 0.158706,
     "end_time": "2024-11-28T03:29:52.451904",
     "exception": false,
     "start_time": "2024-11-28T03:29:52.293198",
     "status": "completed"
    },
    "tags": []
   },
   "outputs": [],
   "source": [
    "import os\n",
    "import polars as pl\n",
    "sys.path.append(\"../data/raw/\")\n",
    "import kaggle_evaluation.mcts_inference_server"
   ]
  },
  {
   "cell_type": "code",
   "execution_count": 18,
   "id": "a408eb30",
   "metadata": {
    "execution": {
     "iopub.execute_input": "2024-11-28T03:29:52.473531Z",
     "iopub.status.busy": "2024-11-28T03:29:52.473385Z",
     "iopub.status.idle": "2024-11-28T03:29:52.476251Z",
     "shell.execute_reply": "2024-11-28T03:29:52.476015Z"
    },
    "papermill": {
     "duration": 0.014276,
     "end_time": "2024-11-28T03:29:52.476944",
     "exception": false,
     "start_time": "2024-11-28T03:29:52.462668",
     "status": "completed"
    },
    "tags": []
   },
   "outputs": [],
   "source": [
    "def predict(test: pl.DataFrame, sample_sub: pl.DataFrame):\n",
    "    # Convert Polars DataFrame to Pandas DataFrame\n",
    "    test_pd = test.to_pandas()\n",
    "    \n",
    "    # Process the test data\n",
    "    test_processed = process_test_data(\n",
    "        test_pd,\n",
    "        numerical_cols,\n",
    "        categorical_cols,\n",
    "        encoder,\n",
    "        scaler\n",
    "    )\n",
    "\n",
    "    # Create feature types list for XGBoost\n",
    "    feature_types = [\n",
    "        \"c\" if col in categorical_cols else \"q\" \n",
    "        for col in numerical_cols + categorical_cols\n",
    "    ]\n",
    "\n",
    "    # Create XGBoost DMatrix for test data\n",
    "    test_dmatrix = xgb.DMatrix(\n",
    "        data=test_processed[numerical_cols + categorical_cols],\n",
    "        feature_types=feature_types,\n",
    "        enable_categorical=True\n",
    "    )\n",
    "\n",
    "    # Average predictions from all models\n",
    "    predictions = np.mean([\n",
    "        model.predict(test_dmatrix)\n",
    "        for model in trained_models\n",
    "    ], axis=0)\n",
    "    predictions = np.clip(predictions, -1, 1)\n",
    "        \n",
    "    # Create the submission DataFrame\n",
    "    submission = sample_sub.with_columns(pl.Series(\"utility_agent1\", predictions))\n",
    "    \n",
    "    return submission"
   ]
  },
  {
   "cell_type": "code",
   "execution_count": 19,
   "id": "4b0d1779",
   "metadata": {
    "execution": {
     "iopub.execute_input": "2024-11-28T03:29:52.498440Z",
     "iopub.status.busy": "2024-11-28T03:29:52.498322Z",
     "iopub.status.idle": "2024-11-28T03:29:52.746435Z",
     "shell.execute_reply": "2024-11-28T03:29:52.746043Z"
    },
    "papermill": {
     "duration": 0.25922,
     "end_time": "2024-11-28T03:29:52.747235",
     "exception": false,
     "start_time": "2024-11-28T03:29:52.488015",
     "status": "completed"
    },
    "tags": []
   },
   "outputs": [],
   "source": [
    "inference_server = kaggle_evaluation.mcts_inference_server.MCTSInferenceServer(predict)\n",
    "\n",
    "if os.getenv('KAGGLE_IS_COMPETITION_RERUN'):\n",
    "    inference_server.serve()\n",
    "else:\n",
    "    inference_server.run_local_gateway(\n",
    "        (\n",
    "            '../data/raw/test.csv',\n",
    "            '../data/raw/sample_submission.csv'\n",
    "        )\n",
    "    )"
   ]
  },
  {
   "cell_type": "code",
   "execution_count": 20,
   "id": "dfc6be2d",
   "metadata": {
    "execution": {
     "iopub.execute_input": "2024-11-28T03:29:52.768159Z",
     "iopub.status.busy": "2024-11-28T03:29:52.768034Z",
     "iopub.status.idle": "2024-11-28T03:29:53.592099Z",
     "shell.execute_reply": "2024-11-28T03:29:53.591779Z"
    },
    "papermill": {
     "duration": 0.835478,
     "end_time": "2024-11-28T03:29:53.592973",
     "exception": false,
     "start_time": "2024-11-28T03:29:52.757495",
     "status": "completed"
    },
    "tags": []
   },
   "outputs": [],
   "source": [
    "# Save all artifacts needed for prediction\n",
    "xgboost_predict = {\n",
    "    'models': trained_models,\n",
    "    'numerical_cols': numerical_cols,\n",
    "    'categorical_cols': categorical_cols,\n",
    "    'encoder': encoder,\n",
    "    'scaler': scaler\n",
    "}\n",
    "\n",
    "with open(f'./xgboost_predict_{fs_type}.pkl', 'wb') as f:\n",
    "    pickle.dump(xgboost_predict, f)"
   ]
  },
  {
   "cell_type": "markdown",
   "id": "0cfef0dc",
   "metadata": {
    "papermill": {
     "duration": 0.010004,
     "end_time": "2024-11-28T03:29:53.613253",
     "exception": false,
     "start_time": "2024-11-28T03:29:53.603249",
     "status": "completed"
    },
    "tags": []
   },
   "source": [
    "***"
   ]
  }
 ],
 "metadata": {
  "kernelspec": {
   "display_name": "mcts-strength-variants-kSTIVMm8-py3.10",
   "language": "python",
   "name": "python3"
  },
  "language_info": {
   "codemirror_mode": {
    "name": "ipython",
    "version": 3
   },
   "file_extension": ".py",
   "mimetype": "text/x-python",
   "name": "python",
   "nbconvert_exporter": "python",
   "pygments_lexer": "ipython3",
   "version": "3.10.14"
  },
  "papermill": {
   "default_parameters": {},
   "duration": 1755.590495,
   "end_time": "2024-11-28T03:29:54.042008",
   "environment_variables": {},
   "exception": null,
   "input_path": "train/xgboost.ipynb",
   "output_path": "train/outputs/xgboost_uni90.ipynb",
   "parameters": {
    "fs_type": "uni90"
   },
   "start_time": "2024-11-28T03:00:38.451513",
   "version": "2.6.0"
  }
 },
 "nbformat": 4,
 "nbformat_minor": 5
}