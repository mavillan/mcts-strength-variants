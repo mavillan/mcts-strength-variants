{
 "cells": [
  {
   "cell_type": "code",
   "execution_count": 1,
   "id": "ec0de1ef",
   "metadata": {
    "execution": {
     "iopub.execute_input": "2024-09-28T16:04:18.614886Z",
     "iopub.status.busy": "2024-09-28T16:04:18.614417Z",
     "iopub.status.idle": "2024-09-28T16:04:20.615889Z",
     "shell.execute_reply": "2024-09-28T16:04:20.615481Z"
    },
    "papermill": {
     "duration": 2.008861,
     "end_time": "2024-09-28T16:04:20.617243",
     "exception": false,
     "start_time": "2024-09-28T16:04:18.608382",
     "status": "completed"
    },
    "tags": []
   },
   "outputs": [],
   "source": [
    "import numpy as np\n",
    "import pandas as pd\n",
    "import matplotlib.pyplot as plt\n",
    "from pathlib import Path\n",
    "\n",
    "import lightgbm as lgb\n",
    "from sklearn.model_selection import GroupKFold\n",
    "\n",
    "# local modules\n",
    "import sys\n",
    "sys.path.append(\"../src\")\n",
    "from preproc import preprocess_data"
   ]
  },
  {
   "cell_type": "markdown",
   "id": "5b24d8a2",
   "metadata": {
    "papermill": {
     "duration": 0.001015,
     "end_time": "2024-09-28T16:04:20.619996",
     "exception": false,
     "start_time": "2024-09-28T16:04:20.618981",
     "status": "completed"
    },
    "tags": []
   },
   "source": [
    "***\n",
    "### load and preprocess data"
   ]
  },
  {
   "cell_type": "code",
   "execution_count": 2,
   "id": "7c89cd9d",
   "metadata": {
    "execution": {
     "iopub.execute_input": "2024-09-28T16:04:20.622626Z",
     "iopub.status.busy": "2024-09-28T16:04:20.622407Z",
     "iopub.status.idle": "2024-09-28T16:04:26.979221Z",
     "shell.execute_reply": "2024-09-28T16:04:26.978970Z"
    },
    "papermill": {
     "duration": 6.359162,
     "end_time": "2024-09-28T16:04:26.980076",
     "exception": false,
     "start_time": "2024-09-28T16:04:20.620914",
     "status": "completed"
    },
    "tags": []
   },
   "outputs": [
    {
     "data": {
      "text/html": [
       "<div>\n",
       "<style scoped>\n",
       "    .dataframe tbody tr th:only-of-type {\n",
       "        vertical-align: middle;\n",
       "    }\n",
       "\n",
       "    .dataframe tbody tr th {\n",
       "        vertical-align: top;\n",
       "    }\n",
       "\n",
       "    .dataframe thead th {\n",
       "        text-align: right;\n",
       "    }\n",
       "</style>\n",
       "<table border=\"1\" class=\"dataframe\">\n",
       "  <thead>\n",
       "    <tr style=\"text-align: right;\">\n",
       "      <th></th>\n",
       "      <th>Id</th>\n",
       "      <th>GameRulesetName</th>\n",
       "      <th>agent1</th>\n",
       "      <th>agent2</th>\n",
       "      <th>Properties</th>\n",
       "      <th>Format</th>\n",
       "      <th>Time</th>\n",
       "      <th>Discrete</th>\n",
       "      <th>Realtime</th>\n",
       "      <th>Turns</th>\n",
       "      <th>...</th>\n",
       "      <th>DoLudeme</th>\n",
       "      <th>Trigger</th>\n",
       "      <th>PlayoutsPerSecond</th>\n",
       "      <th>MovesPerSecond</th>\n",
       "      <th>EnglishRules</th>\n",
       "      <th>LudRules</th>\n",
       "      <th>num_wins_agent1</th>\n",
       "      <th>num_draws_agent1</th>\n",
       "      <th>num_losses_agent1</th>\n",
       "      <th>utility_agent1</th>\n",
       "    </tr>\n",
       "  </thead>\n",
       "  <tbody>\n",
       "    <tr>\n",
       "      <th>0</th>\n",
       "      <td>0</td>\n",
       "      <td>00Y</td>\n",
       "      <td>MCTS-ProgressiveHistory-0.1-MAST-false</td>\n",
       "      <td>MCTS-ProgressiveHistory-0.6-Random200-false</td>\n",
       "      <td>1</td>\n",
       "      <td>1</td>\n",
       "      <td>1</td>\n",
       "      <td>1</td>\n",
       "      <td>0</td>\n",
       "      <td>1</td>\n",
       "      <td>...</td>\n",
       "      <td>0</td>\n",
       "      <td>1</td>\n",
       "      <td>298.07</td>\n",
       "      <td>18877.17</td>\n",
       "      <td>Goal: Connect all three edge colors with a sin...</td>\n",
       "      <td>(game \"00'Y'\" (players 2) (equipment { (board ...</td>\n",
       "      <td>4</td>\n",
       "      <td>0</td>\n",
       "      <td>11</td>\n",
       "      <td>-0.466667</td>\n",
       "    </tr>\n",
       "    <tr>\n",
       "      <th>1</th>\n",
       "      <td>1</td>\n",
       "      <td>00Y</td>\n",
       "      <td>MCTS-ProgressiveHistory-0.1-MAST-false</td>\n",
       "      <td>MCTS-UCB1GRAVE-0.6-NST-true</td>\n",
       "      <td>1</td>\n",
       "      <td>1</td>\n",
       "      <td>1</td>\n",
       "      <td>1</td>\n",
       "      <td>0</td>\n",
       "      <td>1</td>\n",
       "      <td>...</td>\n",
       "      <td>0</td>\n",
       "      <td>1</td>\n",
       "      <td>298.07</td>\n",
       "      <td>18877.17</td>\n",
       "      <td>Goal: Connect all three edge colors with a sin...</td>\n",
       "      <td>(game \"00'Y'\" (players 2) (equipment { (board ...</td>\n",
       "      <td>5</td>\n",
       "      <td>0</td>\n",
       "      <td>10</td>\n",
       "      <td>-0.333333</td>\n",
       "    </tr>\n",
       "    <tr>\n",
       "      <th>2</th>\n",
       "      <td>2</td>\n",
       "      <td>00Y</td>\n",
       "      <td>MCTS-ProgressiveHistory-0.1-MAST-true</td>\n",
       "      <td>MCTS-UCB1-0.1-NST-false</td>\n",
       "      <td>1</td>\n",
       "      <td>1</td>\n",
       "      <td>1</td>\n",
       "      <td>1</td>\n",
       "      <td>0</td>\n",
       "      <td>1</td>\n",
       "      <td>...</td>\n",
       "      <td>0</td>\n",
       "      <td>1</td>\n",
       "      <td>298.07</td>\n",
       "      <td>18877.17</td>\n",
       "      <td>Goal: Connect all three edge colors with a sin...</td>\n",
       "      <td>(game \"00'Y'\" (players 2) (equipment { (board ...</td>\n",
       "      <td>7</td>\n",
       "      <td>0</td>\n",
       "      <td>8</td>\n",
       "      <td>-0.066667</td>\n",
       "    </tr>\n",
       "    <tr>\n",
       "      <th>3</th>\n",
       "      <td>3</td>\n",
       "      <td>00Y</td>\n",
       "      <td>MCTS-ProgressiveHistory-0.1-MAST-true</td>\n",
       "      <td>MCTS-UCB1-0.6-NST-false</td>\n",
       "      <td>1</td>\n",
       "      <td>1</td>\n",
       "      <td>1</td>\n",
       "      <td>1</td>\n",
       "      <td>0</td>\n",
       "      <td>1</td>\n",
       "      <td>...</td>\n",
       "      <td>0</td>\n",
       "      <td>1</td>\n",
       "      <td>298.07</td>\n",
       "      <td>18877.17</td>\n",
       "      <td>Goal: Connect all three edge colors with a sin...</td>\n",
       "      <td>(game \"00'Y'\" (players 2) (equipment { (board ...</td>\n",
       "      <td>5</td>\n",
       "      <td>0</td>\n",
       "      <td>10</td>\n",
       "      <td>-0.333333</td>\n",
       "    </tr>\n",
       "    <tr>\n",
       "      <th>4</th>\n",
       "      <td>4</td>\n",
       "      <td>00Y</td>\n",
       "      <td>MCTS-ProgressiveHistory-0.1-MAST-true</td>\n",
       "      <td>MCTS-UCB1GRAVE-1.41421356237-NST-false</td>\n",
       "      <td>1</td>\n",
       "      <td>1</td>\n",
       "      <td>1</td>\n",
       "      <td>1</td>\n",
       "      <td>0</td>\n",
       "      <td>1</td>\n",
       "      <td>...</td>\n",
       "      <td>0</td>\n",
       "      <td>1</td>\n",
       "      <td>298.07</td>\n",
       "      <td>18877.17</td>\n",
       "      <td>Goal: Connect all three edge colors with a sin...</td>\n",
       "      <td>(game \"00'Y'\" (players 2) (equipment { (board ...</td>\n",
       "      <td>5</td>\n",
       "      <td>0</td>\n",
       "      <td>10</td>\n",
       "      <td>-0.333333</td>\n",
       "    </tr>\n",
       "    <tr>\n",
       "      <th>...</th>\n",
       "      <td>...</td>\n",
       "      <td>...</td>\n",
       "      <td>...</td>\n",
       "      <td>...</td>\n",
       "      <td>...</td>\n",
       "      <td>...</td>\n",
       "      <td>...</td>\n",
       "      <td>...</td>\n",
       "      <td>...</td>\n",
       "      <td>...</td>\n",
       "      <td>...</td>\n",
       "      <td>...</td>\n",
       "      <td>...</td>\n",
       "      <td>...</td>\n",
       "      <td>...</td>\n",
       "      <td>...</td>\n",
       "      <td>...</td>\n",
       "      <td>...</td>\n",
       "      <td>...</td>\n",
       "      <td>...</td>\n",
       "      <td>...</td>\n",
       "    </tr>\n",
       "    <tr>\n",
       "      <th>233229</th>\n",
       "      <td>233229</td>\n",
       "      <td>Zuz_Mel_7x7</td>\n",
       "      <td>MCTS-UCB1Tuned-1.41421356237-NST-false</td>\n",
       "      <td>MCTS-ProgressiveHistory-1.41421356237-Random20...</td>\n",
       "      <td>1</td>\n",
       "      <td>1</td>\n",
       "      <td>1</td>\n",
       "      <td>1</td>\n",
       "      <td>0</td>\n",
       "      <td>1</td>\n",
       "      <td>...</td>\n",
       "      <td>0</td>\n",
       "      <td>0</td>\n",
       "      <td>157.52</td>\n",
       "      <td>157174.58</td>\n",
       "      <td>7x7 board. 24 pieces per player. Pieces begin ...</td>\n",
       "      <td>(game \"Zuz Mel (7x7)\" (players 2) (equipment {...</td>\n",
       "      <td>2</td>\n",
       "      <td>0</td>\n",
       "      <td>13</td>\n",
       "      <td>-0.733333</td>\n",
       "    </tr>\n",
       "    <tr>\n",
       "      <th>233230</th>\n",
       "      <td>233230</td>\n",
       "      <td>Zuz_Mel_7x7</td>\n",
       "      <td>MCTS-UCB1Tuned-1.41421356237-Random200-false</td>\n",
       "      <td>MCTS-UCB1-0.6-MAST-false</td>\n",
       "      <td>1</td>\n",
       "      <td>1</td>\n",
       "      <td>1</td>\n",
       "      <td>1</td>\n",
       "      <td>0</td>\n",
       "      <td>1</td>\n",
       "      <td>...</td>\n",
       "      <td>0</td>\n",
       "      <td>0</td>\n",
       "      <td>157.52</td>\n",
       "      <td>157174.58</td>\n",
       "      <td>7x7 board. 24 pieces per player. Pieces begin ...</td>\n",
       "      <td>(game \"Zuz Mel (7x7)\" (players 2) (equipment {...</td>\n",
       "      <td>9</td>\n",
       "      <td>1</td>\n",
       "      <td>5</td>\n",
       "      <td>0.266667</td>\n",
       "    </tr>\n",
       "    <tr>\n",
       "      <th>233231</th>\n",
       "      <td>233231</td>\n",
       "      <td>Zuz_Mel_7x7</td>\n",
       "      <td>MCTS-UCB1Tuned-1.41421356237-Random200-false</td>\n",
       "      <td>MCTS-UCB1GRAVE-1.41421356237-NST-false</td>\n",
       "      <td>1</td>\n",
       "      <td>1</td>\n",
       "      <td>1</td>\n",
       "      <td>1</td>\n",
       "      <td>0</td>\n",
       "      <td>1</td>\n",
       "      <td>...</td>\n",
       "      <td>0</td>\n",
       "      <td>0</td>\n",
       "      <td>157.52</td>\n",
       "      <td>157174.58</td>\n",
       "      <td>7x7 board. 24 pieces per player. Pieces begin ...</td>\n",
       "      <td>(game \"Zuz Mel (7x7)\" (players 2) (equipment {...</td>\n",
       "      <td>11</td>\n",
       "      <td>3</td>\n",
       "      <td>1</td>\n",
       "      <td>0.666667</td>\n",
       "    </tr>\n",
       "    <tr>\n",
       "      <th>233232</th>\n",
       "      <td>233232</td>\n",
       "      <td>Zuz_Mel_7x7</td>\n",
       "      <td>MCTS-UCB1Tuned-1.41421356237-Random200-false</td>\n",
       "      <td>MCTS-UCB1GRAVE-1.41421356237-NST-true</td>\n",
       "      <td>1</td>\n",
       "      <td>1</td>\n",
       "      <td>1</td>\n",
       "      <td>1</td>\n",
       "      <td>0</td>\n",
       "      <td>1</td>\n",
       "      <td>...</td>\n",
       "      <td>0</td>\n",
       "      <td>0</td>\n",
       "      <td>157.52</td>\n",
       "      <td>157174.58</td>\n",
       "      <td>7x7 board. 24 pieces per player. Pieces begin ...</td>\n",
       "      <td>(game \"Zuz Mel (7x7)\" (players 2) (equipment {...</td>\n",
       "      <td>24</td>\n",
       "      <td>2</td>\n",
       "      <td>4</td>\n",
       "      <td>0.666667</td>\n",
       "    </tr>\n",
       "    <tr>\n",
       "      <th>233233</th>\n",
       "      <td>233233</td>\n",
       "      <td>Zuz_Mel_7x7</td>\n",
       "      <td>MCTS-UCB1Tuned-1.41421356237-Random200-true</td>\n",
       "      <td>MCTS-UCB1Tuned-0.6-MAST-false</td>\n",
       "      <td>1</td>\n",
       "      <td>1</td>\n",
       "      <td>1</td>\n",
       "      <td>1</td>\n",
       "      <td>0</td>\n",
       "      <td>1</td>\n",
       "      <td>...</td>\n",
       "      <td>0</td>\n",
       "      <td>0</td>\n",
       "      <td>157.52</td>\n",
       "      <td>157174.58</td>\n",
       "      <td>7x7 board. 24 pieces per player. Pieces begin ...</td>\n",
       "      <td>(game \"Zuz Mel (7x7)\" (players 2) (equipment {...</td>\n",
       "      <td>9</td>\n",
       "      <td>1</td>\n",
       "      <td>5</td>\n",
       "      <td>0.266667</td>\n",
       "    </tr>\n",
       "  </tbody>\n",
       "</table>\n",
       "<p>233234 rows × 814 columns</p>\n",
       "</div>"
      ],
      "text/plain": [
       "            Id GameRulesetName                                        agent1  \\\n",
       "0            0             00Y        MCTS-ProgressiveHistory-0.1-MAST-false   \n",
       "1            1             00Y        MCTS-ProgressiveHistory-0.1-MAST-false   \n",
       "2            2             00Y         MCTS-ProgressiveHistory-0.1-MAST-true   \n",
       "3            3             00Y         MCTS-ProgressiveHistory-0.1-MAST-true   \n",
       "4            4             00Y         MCTS-ProgressiveHistory-0.1-MAST-true   \n",
       "...        ...             ...                                           ...   \n",
       "233229  233229     Zuz_Mel_7x7        MCTS-UCB1Tuned-1.41421356237-NST-false   \n",
       "233230  233230     Zuz_Mel_7x7  MCTS-UCB1Tuned-1.41421356237-Random200-false   \n",
       "233231  233231     Zuz_Mel_7x7  MCTS-UCB1Tuned-1.41421356237-Random200-false   \n",
       "233232  233232     Zuz_Mel_7x7  MCTS-UCB1Tuned-1.41421356237-Random200-false   \n",
       "233233  233233     Zuz_Mel_7x7   MCTS-UCB1Tuned-1.41421356237-Random200-true   \n",
       "\n",
       "                                                   agent2  Properties  Format  \\\n",
       "0             MCTS-ProgressiveHistory-0.6-Random200-false           1       1   \n",
       "1                             MCTS-UCB1GRAVE-0.6-NST-true           1       1   \n",
       "2                                 MCTS-UCB1-0.1-NST-false           1       1   \n",
       "3                                 MCTS-UCB1-0.6-NST-false           1       1   \n",
       "4                  MCTS-UCB1GRAVE-1.41421356237-NST-false           1       1   \n",
       "...                                                   ...         ...     ...   \n",
       "233229  MCTS-ProgressiveHistory-1.41421356237-Random20...           1       1   \n",
       "233230                           MCTS-UCB1-0.6-MAST-false           1       1   \n",
       "233231             MCTS-UCB1GRAVE-1.41421356237-NST-false           1       1   \n",
       "233232              MCTS-UCB1GRAVE-1.41421356237-NST-true           1       1   \n",
       "233233                      MCTS-UCB1Tuned-0.6-MAST-false           1       1   \n",
       "\n",
       "        Time  Discrete  Realtime  Turns  ...  DoLudeme  Trigger  \\\n",
       "0          1         1         0      1  ...         0        1   \n",
       "1          1         1         0      1  ...         0        1   \n",
       "2          1         1         0      1  ...         0        1   \n",
       "3          1         1         0      1  ...         0        1   \n",
       "4          1         1         0      1  ...         0        1   \n",
       "...      ...       ...       ...    ...  ...       ...      ...   \n",
       "233229     1         1         0      1  ...         0        0   \n",
       "233230     1         1         0      1  ...         0        0   \n",
       "233231     1         1         0      1  ...         0        0   \n",
       "233232     1         1         0      1  ...         0        0   \n",
       "233233     1         1         0      1  ...         0        0   \n",
       "\n",
       "        PlayoutsPerSecond  MovesPerSecond  \\\n",
       "0                  298.07        18877.17   \n",
       "1                  298.07        18877.17   \n",
       "2                  298.07        18877.17   \n",
       "3                  298.07        18877.17   \n",
       "4                  298.07        18877.17   \n",
       "...                   ...             ...   \n",
       "233229             157.52       157174.58   \n",
       "233230             157.52       157174.58   \n",
       "233231             157.52       157174.58   \n",
       "233232             157.52       157174.58   \n",
       "233233             157.52       157174.58   \n",
       "\n",
       "                                             EnglishRules  \\\n",
       "0       Goal: Connect all three edge colors with a sin...   \n",
       "1       Goal: Connect all three edge colors with a sin...   \n",
       "2       Goal: Connect all three edge colors with a sin...   \n",
       "3       Goal: Connect all three edge colors with a sin...   \n",
       "4       Goal: Connect all three edge colors with a sin...   \n",
       "...                                                   ...   \n",
       "233229  7x7 board. 24 pieces per player. Pieces begin ...   \n",
       "233230  7x7 board. 24 pieces per player. Pieces begin ...   \n",
       "233231  7x7 board. 24 pieces per player. Pieces begin ...   \n",
       "233232  7x7 board. 24 pieces per player. Pieces begin ...   \n",
       "233233  7x7 board. 24 pieces per player. Pieces begin ...   \n",
       "\n",
       "                                                 LudRules  num_wins_agent1  \\\n",
       "0       (game \"00'Y'\" (players 2) (equipment { (board ...                4   \n",
       "1       (game \"00'Y'\" (players 2) (equipment { (board ...                5   \n",
       "2       (game \"00'Y'\" (players 2) (equipment { (board ...                7   \n",
       "3       (game \"00'Y'\" (players 2) (equipment { (board ...                5   \n",
       "4       (game \"00'Y'\" (players 2) (equipment { (board ...                5   \n",
       "...                                                   ...              ...   \n",
       "233229  (game \"Zuz Mel (7x7)\" (players 2) (equipment {...                2   \n",
       "233230  (game \"Zuz Mel (7x7)\" (players 2) (equipment {...                9   \n",
       "233231  (game \"Zuz Mel (7x7)\" (players 2) (equipment {...               11   \n",
       "233232  (game \"Zuz Mel (7x7)\" (players 2) (equipment {...               24   \n",
       "233233  (game \"Zuz Mel (7x7)\" (players 2) (equipment {...                9   \n",
       "\n",
       "        num_draws_agent1  num_losses_agent1  utility_agent1  \n",
       "0                      0                 11       -0.466667  \n",
       "1                      0                 10       -0.333333  \n",
       "2                      0                  8       -0.066667  \n",
       "3                      0                 10       -0.333333  \n",
       "4                      0                 10       -0.333333  \n",
       "...                  ...                ...             ...  \n",
       "233229                 0                 13       -0.733333  \n",
       "233230                 1                  5        0.266667  \n",
       "233231                 3                  1        0.666667  \n",
       "233232                 2                  4        0.666667  \n",
       "233233                 1                  5        0.266667  \n",
       "\n",
       "[233234 rows x 814 columns]"
      ]
     },
     "execution_count": 2,
     "metadata": {},
     "output_type": "execute_result"
    }
   ],
   "source": [
    "# define some paths\n",
    "path_raw = Path(\"../data/raw\")\n",
    "path_processed = Path(\"../data/processed\")\n",
    "path_results = Path(\"../data/results\")\n",
    "\n",
    "# load data\n",
    "df_train = pd.read_csv(path_raw / \"train.csv\")\n",
    "df_test = pd.read_csv(path_raw / \"test.csv\")\n",
    "\n",
    "df_train"
   ]
  },
  {
   "cell_type": "code",
   "execution_count": 3,
   "id": "09260e31",
   "metadata": {
    "execution": {
     "iopub.execute_input": "2024-09-28T16:04:26.983331Z",
     "iopub.status.busy": "2024-09-28T16:04:26.983213Z",
     "iopub.status.idle": "2024-09-28T16:04:29.602463Z",
     "shell.execute_reply": "2024-09-28T16:04:29.602165Z"
    },
    "papermill": {
     "duration": 2.621724,
     "end_time": "2024-09-28T16:04:29.603422",
     "exception": false,
     "start_time": "2024-09-28T16:04:26.981698",
     "status": "completed"
    },
    "tags": []
   },
   "outputs": [
    {
     "name": "stdout",
     "output_type": "stream",
     "text": [
      "Numerical Columns: 588\n",
      "Categorical Columns: 10\n"
     ]
    }
   ],
   "source": [
    "# Call the function\n",
    "df_train, df_test, numerical_cols, categorical_cols = preprocess_data(\n",
    "    df_train,\n",
    "    df_test,\n",
    "    scale_utility=True\n",
    ")\n",
    "\n",
    "# Print the results\n",
    "print(\"Numerical Columns:\", len(numerical_cols))\n",
    "print(\"Categorical Columns:\", len(categorical_cols))"
   ]
  },
  {
   "cell_type": "code",
   "execution_count": 4,
   "id": "685ac114",
   "metadata": {
    "execution": {
     "iopub.execute_input": "2024-09-28T16:04:29.607882Z",
     "iopub.status.busy": "2024-09-28T16:04:29.607748Z",
     "iopub.status.idle": "2024-09-28T16:04:31.210950Z",
     "shell.execute_reply": "2024-09-28T16:04:31.210603Z"
    },
    "papermill": {
     "duration": 1.606227,
     "end_time": "2024-09-28T16:04:31.211945",
     "exception": false,
     "start_time": "2024-09-28T16:04:29.605718",
     "status": "completed"
    },
    "tags": []
   },
   "outputs": [
    {
     "data": {
      "image/png": "[encoded data removed]",
      "text/plain": [
       "<Figure size 640x480 with 1 Axes>"
      ]
     },
     "metadata": {},
     "output_type": "display_data"
    }
   ],
   "source": [
    "plt.hist(df_train['utility_agent1_scaled'], bins=100)\n",
    "plt.title('Distribution of Target Variable')\n",
    "plt.xlabel('Utility Agent 1')\n",
    "plt.ylabel('Frequency')\n",
    "plt.show()\n",
    "\n"
   ]
  },
  {
   "cell_type": "markdown",
   "id": "585a47da",
   "metadata": {
    "papermill": {
     "duration": 0.001529,
     "end_time": "2024-09-28T16:04:31.215374",
     "exception": false,
     "start_time": "2024-09-28T16:04:31.213845",
     "status": "completed"
    },
    "tags": []
   },
   "source": [
    "***\n",
    "### train model\n"
   ]
  },
  {
   "cell_type": "code",
   "execution_count": 5,
   "id": "152941ef",
   "metadata": {
    "execution": {
     "iopub.execute_input": "2024-09-28T16:04:31.218863Z",
     "iopub.status.busy": "2024-09-28T16:04:31.218731Z",
     "iopub.status.idle": "2024-09-28T16:37:09.743302Z",
     "shell.execute_reply": "2024-09-28T16:37:09.742956Z"
    },
    "papermill": {
     "duration": 1958.527376,
     "end_time": "2024-09-28T16:37:09.744195",
     "exception": false,
     "start_time": "2024-09-28T16:04:31.216819",
     "status": "completed"
    },
    "tags": []
   },
   "outputs": [
    {
     "name": "stdout",
     "output_type": "stream",
     "text": [
      "Fold 1\n"
     ]
    },
    {
     "name": "stdout",
     "output_type": "stream",
     "text": [
      "[25]\tvalid_0's rmse: 0.525061\n"
     ]
    },
    {
     "name": "stdout",
     "output_type": "stream",
     "text": [
      "[50]\tvalid_0's rmse: 0.500715\n"
     ]
    },
    {
     "name": "stdout",
     "output_type": "stream",
     "text": [
      "[75]\tvalid_0's rmse: 0.489017\n"
     ]
    },
    {
     "name": "stdout",
     "output_type": "stream",
     "text": [
      "[100]\tvalid_0's rmse: 0.482964\n"
     ]
    },
    {
     "name": "stdout",
     "output_type": "stream",
     "text": [
      "[125]\tvalid_0's rmse: 0.478693\n"
     ]
    },
    {
     "name": "stdout",
     "output_type": "stream",
     "text": [
      "[150]\tvalid_0's rmse: 0.47518\n"
     ]
    },
    {
     "name": "stdout",
     "output_type": "stream",
     "text": [
      "[175]\tvalid_0's rmse: 0.472378\n"
     ]
    },
    {
     "name": "stdout",
     "output_type": "stream",
     "text": [
      "[200]\tvalid_0's rmse: 0.469716\n"
     ]
    },
    {
     "name": "stdout",
     "output_type": "stream",
     "text": [
      "[225]\tvalid_0's rmse: 0.467938\n"
     ]
    },
    {
     "name": "stdout",
     "output_type": "stream",
     "text": [
      "[250]\tvalid_0's rmse: 0.466202\n"
     ]
    },
    {
     "name": "stdout",
     "output_type": "stream",
     "text": [
      "[275]\tvalid_0's rmse: 0.465194\n"
     ]
    },
    {
     "name": "stdout",
     "output_type": "stream",
     "text": [
      "[300]\tvalid_0's rmse: 0.463991\n"
     ]
    },
    {
     "name": "stdout",
     "output_type": "stream",
     "text": [
      "[325]\tvalid_0's rmse: 0.462833\n"
     ]
    },
    {
     "name": "stdout",
     "output_type": "stream",
     "text": [
      "[350]\tvalid_0's rmse: 0.461969\n"
     ]
    },
    {
     "name": "stdout",
     "output_type": "stream",
     "text": [
      "[375]\tvalid_0's rmse: 0.460871\n"
     ]
    },
    {
     "name": "stdout",
     "output_type": "stream",
     "text": [
      "[400]\tvalid_0's rmse: 0.45982\n"
     ]
    },
    {
     "name": "stdout",
     "output_type": "stream",
     "text": [
      "[425]\tvalid_0's rmse: 0.458895\n"
     ]
    },
    {
     "name": "stdout",
     "output_type": "stream",
     "text": [
      "[450]\tvalid_0's rmse: 0.458085\n"
     ]
    },
    {
     "name": "stdout",
     "output_type": "stream",
     "text": [
      "[475]\tvalid_0's rmse: 0.457593\n"
     ]
    },
    {
     "name": "stdout",
     "output_type": "stream",
     "text": [
      "[500]\tvalid_0's rmse: 0.456511\n"
     ]
    },
    {
     "name": "stdout",
     "output_type": "stream",
     "text": [
      "[525]\tvalid_0's rmse: 0.455862\n"
     ]
    },
    {
     "name": "stdout",
     "output_type": "stream",
     "text": [
      "[550]\tvalid_0's rmse: 0.455138\n"
     ]
    },
    {
     "name": "stdout",
     "output_type": "stream",
     "text": [
      "[575]\tvalid_0's rmse: 0.454346\n"
     ]
    },
    {
     "name": "stdout",
     "output_type": "stream",
     "text": [
      "[600]\tvalid_0's rmse: 0.454043\n"
     ]
    },
    {
     "name": "stdout",
     "output_type": "stream",
     "text": [
      "[625]\tvalid_0's rmse: 0.453481\n"
     ]
    },
    {
     "name": "stdout",
     "output_type": "stream",
     "text": [
      "[650]\tvalid_0's rmse: 0.453182\n"
     ]
    },
    {
     "name": "stdout",
     "output_type": "stream",
     "text": [
      "[675]\tvalid_0's rmse: 0.452763\n"
     ]
    },
    {
     "name": "stdout",
     "output_type": "stream",
     "text": [
      "[700]\tvalid_0's rmse: 0.452619\n"
     ]
    },
    {
     "name": "stdout",
     "output_type": "stream",
     "text": [
      "[725]\tvalid_0's rmse: 0.452041\n"
     ]
    },
    {
     "name": "stdout",
     "output_type": "stream",
     "text": [
      "[750]\tvalid_0's rmse: 0.451629\n"
     ]
    },
    {
     "name": "stdout",
     "output_type": "stream",
     "text": [
      "[775]\tvalid_0's rmse: 0.451142\n"
     ]
    },
    {
     "name": "stdout",
     "output_type": "stream",
     "text": [
      "[800]\tvalid_0's rmse: 0.450705\n"
     ]
    },
    {
     "name": "stdout",
     "output_type": "stream",
     "text": [
      "[825]\tvalid_0's rmse: 0.450448\n"
     ]
    },
    {
     "name": "stdout",
     "output_type": "stream",
     "text": [
      "[850]\tvalid_0's rmse: 0.450112\n"
     ]
    },
    {
     "name": "stdout",
     "output_type": "stream",
     "text": [
      "[875]\tvalid_0's rmse: 0.449788\n"
     ]
    },
    {
     "name": "stdout",
     "output_type": "stream",
     "text": [
      "[900]\tvalid_0's rmse: 0.449439\n"
     ]
    },
    {
     "name": "stdout",
     "output_type": "stream",
     "text": [
      "[925]\tvalid_0's rmse: 0.449208\n"
     ]
    },
    {
     "name": "stdout",
     "output_type": "stream",
     "text": [
      "[950]\tvalid_0's rmse: 0.448919\n"
     ]
    },
    {
     "name": "stdout",
     "output_type": "stream",
     "text": [
      "[975]\tvalid_0's rmse: 0.448585\n"
     ]
    },
    {
     "name": "stdout",
     "output_type": "stream",
     "text": [
      "[1000]\tvalid_0's rmse: 0.448628\n"
     ]
    },
    {
     "name": "stdout",
     "output_type": "stream",
     "text": [
      "[1025]\tvalid_0's rmse: 0.448439\n"
     ]
    },
    {
     "name": "stdout",
     "output_type": "stream",
     "text": [
      "[1050]\tvalid_0's rmse: 0.448362\n"
     ]
    },
    {
     "name": "stdout",
     "output_type": "stream",
     "text": [
      "[1075]\tvalid_0's rmse: 0.448175\n"
     ]
    },
    {
     "name": "stdout",
     "output_type": "stream",
     "text": [
      "[1100]\tvalid_0's rmse: 0.447924\n"
     ]
    },
    {
     "name": "stdout",
     "output_type": "stream",
     "text": [
      "[1125]\tvalid_0's rmse: 0.447788\n"
     ]
    },
    {
     "name": "stdout",
     "output_type": "stream",
     "text": [
      "[1150]\tvalid_0's rmse: 0.447488\n"
     ]
    },
    {
     "name": "stdout",
     "output_type": "stream",
     "text": [
      "[1175]\tvalid_0's rmse: 0.447446\n"
     ]
    },
    {
     "name": "stdout",
     "output_type": "stream",
     "text": [
      "[1200]\tvalid_0's rmse: 0.447327\n"
     ]
    },
    {
     "name": "stdout",
     "output_type": "stream",
     "text": [
      "[1225]\tvalid_0's rmse: 0.447262\n"
     ]
    },
    {
     "name": "stdout",
     "output_type": "stream",
     "text": [
      "[1250]\tvalid_0's rmse: 0.447246\n"
     ]
    },
    {
     "name": "stdout",
     "output_type": "stream",
     "text": [
      "[1275]\tvalid_0's rmse: 0.447292\n"
     ]
    },
    {
     "name": "stdout",
     "output_type": "stream",
     "text": [
      "[1300]\tvalid_0's rmse: 0.4472\n"
     ]
    },
    {
     "name": "stdout",
     "output_type": "stream",
     "text": [
      "[1325]\tvalid_0's rmse: 0.447078\n"
     ]
    },
    {
     "name": "stdout",
     "output_type": "stream",
     "text": [
      "[1350]\tvalid_0's rmse: 0.447068\n"
     ]
    },
    {
     "name": "stdout",
     "output_type": "stream",
     "text": [
      "[1375]\tvalid_0's rmse: 0.447022\n"
     ]
    },
    {
     "name": "stdout",
     "output_type": "stream",
     "text": [
      "[1400]\tvalid_0's rmse: 0.44689\n"
     ]
    },
    {
     "name": "stdout",
     "output_type": "stream",
     "text": [
      "[1425]\tvalid_0's rmse: 0.446808\n"
     ]
    },
    {
     "name": "stdout",
     "output_type": "stream",
     "text": [
      "[1450]\tvalid_0's rmse: 0.446741\n"
     ]
    },
    {
     "name": "stdout",
     "output_type": "stream",
     "text": [
      "[1475]\tvalid_0's rmse: 0.446638\n"
     ]
    },
    {
     "name": "stdout",
     "output_type": "stream",
     "text": [
      "[1500]\tvalid_0's rmse: 0.446557\n"
     ]
    },
    {
     "name": "stdout",
     "output_type": "stream",
     "text": [
      "[1525]\tvalid_0's rmse: 0.446492\n"
     ]
    },
    {
     "name": "stdout",
     "output_type": "stream",
     "text": [
      "[1550]\tvalid_0's rmse: 0.446412\n"
     ]
    },
    {
     "name": "stdout",
     "output_type": "stream",
     "text": [
      "[1575]\tvalid_0's rmse: 0.446352\n"
     ]
    },
    {
     "name": "stdout",
     "output_type": "stream",
     "text": [
      "[1600]\tvalid_0's rmse: 0.446279\n"
     ]
    },
    {
     "name": "stdout",
     "output_type": "stream",
     "text": [
      "[1625]\tvalid_0's rmse: 0.446213\n"
     ]
    },
    {
     "name": "stdout",
     "output_type": "stream",
     "text": [
      "[1650]\tvalid_0's rmse: 0.446185\n"
     ]
    },
    {
     "name": "stdout",
     "output_type": "stream",
     "text": [
      "[1675]\tvalid_0's rmse: 0.446193\n"
     ]
    },
    {
     "name": "stdout",
     "output_type": "stream",
     "text": [
      "[1700]\tvalid_0's rmse: 0.446003\n"
     ]
    },
    {
     "name": "stdout",
     "output_type": "stream",
     "text": [
      "[1725]\tvalid_0's rmse: 0.445817\n"
     ]
    },
    {
     "name": "stdout",
     "output_type": "stream",
     "text": [
      "[1750]\tvalid_0's rmse: 0.445762\n"
     ]
    },
    {
     "name": "stdout",
     "output_type": "stream",
     "text": [
      "[1775]\tvalid_0's rmse: 0.445705\n"
     ]
    },
    {
     "name": "stdout",
     "output_type": "stream",
     "text": [
      "[1800]\tvalid_0's rmse: 0.445663\n"
     ]
    },
    {
     "name": "stdout",
     "output_type": "stream",
     "text": [
      "[1825]\tvalid_0's rmse: 0.44562\n"
     ]
    },
    {
     "name": "stdout",
     "output_type": "stream",
     "text": [
      "[1850]\tvalid_0's rmse: 0.445617\n"
     ]
    },
    {
     "name": "stdout",
     "output_type": "stream",
     "text": [
      "[1875]\tvalid_0's rmse: 0.44556\n"
     ]
    },
    {
     "name": "stdout",
     "output_type": "stream",
     "text": [
      "[1900]\tvalid_0's rmse: 0.445447\n"
     ]
    },
    {
     "name": "stdout",
     "output_type": "stream",
     "text": [
      "[1925]\tvalid_0's rmse: 0.445295\n"
     ]
    },
    {
     "name": "stdout",
     "output_type": "stream",
     "text": [
      "[1950]\tvalid_0's rmse: 0.445205\n"
     ]
    },
    {
     "name": "stdout",
     "output_type": "stream",
     "text": [
      "[1975]\tvalid_0's rmse: 0.445156\n"
     ]
    },
    {
     "name": "stdout",
     "output_type": "stream",
     "text": [
      "[2000]\tvalid_0's rmse: 0.445087\n"
     ]
    },
    {
     "name": "stdout",
     "output_type": "stream",
     "text": [
      "Fold 1 - RMSE: 0.44424557887887145\n",
      "Fold 2\n"
     ]
    },
    {
     "name": "stdout",
     "output_type": "stream",
     "text": [
      "[25]\tvalid_0's rmse: 0.525248\n"
     ]
    },
    {
     "name": "stdout",
     "output_type": "stream",
     "text": [
      "[50]\tvalid_0's rmse: 0.499132\n"
     ]
    },
    {
     "name": "stdout",
     "output_type": "stream",
     "text": [
      "[75]\tvalid_0's rmse: 0.488319\n"
     ]
    },
    {
     "name": "stdout",
     "output_type": "stream",
     "text": [
      "[100]\tvalid_0's rmse: 0.483947\n"
     ]
    },
    {
     "name": "stdout",
     "output_type": "stream",
     "text": [
      "[125]\tvalid_0's rmse: 0.479654\n"
     ]
    },
    {
     "name": "stdout",
     "output_type": "stream",
     "text": [
      "[150]\tvalid_0's rmse: 0.476463\n"
     ]
    },
    {
     "name": "stdout",
     "output_type": "stream",
     "text": [
      "[175]\tvalid_0's rmse: 0.474474\n"
     ]
    },
    {
     "name": "stdout",
     "output_type": "stream",
     "text": [
      "[200]\tvalid_0's rmse: 0.47353\n"
     ]
    },
    {
     "name": "stdout",
     "output_type": "stream",
     "text": [
      "[225]\tvalid_0's rmse: 0.471949\n"
     ]
    },
    {
     "name": "stdout",
     "output_type": "stream",
     "text": [
      "[250]\tvalid_0's rmse: 0.472134\n"
     ]
    },
    {
     "name": "stdout",
     "output_type": "stream",
     "text": [
      "[275]\tvalid_0's rmse: 0.471061\n"
     ]
    },
    {
     "name": "stdout",
     "output_type": "stream",
     "text": [
      "[300]\tvalid_0's rmse: 0.469313\n"
     ]
    },
    {
     "name": "stdout",
     "output_type": "stream",
     "text": [
      "[325]\tvalid_0's rmse: 0.468442\n"
     ]
    },
    {
     "name": "stdout",
     "output_type": "stream",
     "text": [
      "[350]\tvalid_0's rmse: 0.467292\n"
     ]
    },
    {
     "name": "stdout",
     "output_type": "stream",
     "text": [
      "[375]\tvalid_0's rmse: 0.466686\n"
     ]
    },
    {
     "name": "stdout",
     "output_type": "stream",
     "text": [
      "[400]\tvalid_0's rmse: 0.466047\n"
     ]
    },
    {
     "name": "stdout",
     "output_type": "stream",
     "text": [
      "[425]\tvalid_0's rmse: 0.465557\n"
     ]
    },
    {
     "name": "stdout",
     "output_type": "stream",
     "text": [
      "[450]\tvalid_0's rmse: 0.464937\n"
     ]
    },
    {
     "name": "stdout",
     "output_type": "stream",
     "text": [
      "[475]\tvalid_0's rmse: 0.464502\n"
     ]
    },
    {
     "name": "stdout",
     "output_type": "stream",
     "text": [
      "[500]\tvalid_0's rmse: 0.46387\n"
     ]
    },
    {
     "name": "stdout",
     "output_type": "stream",
     "text": [
      "[525]\tvalid_0's rmse: 0.463303\n"
     ]
    },
    {
     "name": "stdout",
     "output_type": "stream",
     "text": [
      "[550]\tvalid_0's rmse: 0.46284\n"
     ]
    },
    {
     "name": "stdout",
     "output_type": "stream",
     "text": [
      "[575]\tvalid_0's rmse: 0.462498\n"
     ]
    },
    {
     "name": "stdout",
     "output_type": "stream",
     "text": [
      "[600]\tvalid_0's rmse: 0.461854\n"
     ]
    },
    {
     "name": "stdout",
     "output_type": "stream",
     "text": [
      "[625]\tvalid_0's rmse: 0.461398\n"
     ]
    },
    {
     "name": "stdout",
     "output_type": "stream",
     "text": [
      "[650]\tvalid_0's rmse: 0.461133\n"
     ]
    },
    {
     "name": "stdout",
     "output_type": "stream",
     "text": [
      "[675]\tvalid_0's rmse: 0.460769\n"
     ]
    },
    {
     "name": "stdout",
     "output_type": "stream",
     "text": [
      "[700]\tvalid_0's rmse: 0.460601\n"
     ]
    },
    {
     "name": "stdout",
     "output_type": "stream",
     "text": [
      "[725]\tvalid_0's rmse: 0.460335\n"
     ]
    },
    {
     "name": "stdout",
     "output_type": "stream",
     "text": [
      "[750]\tvalid_0's rmse: 0.460149\n"
     ]
    },
    {
     "name": "stdout",
     "output_type": "stream",
     "text": [
      "[775]\tvalid_0's rmse: 0.459842\n"
     ]
    },
    {
     "name": "stdout",
     "output_type": "stream",
     "text": [
      "[800]\tvalid_0's rmse: 0.459642\n"
     ]
    },
    {
     "name": "stdout",
     "output_type": "stream",
     "text": [
      "[825]\tvalid_0's rmse: 0.459275\n"
     ]
    },
    {
     "name": "stdout",
     "output_type": "stream",
     "text": [
      "[850]\tvalid_0's rmse: 0.459103\n"
     ]
    },
    {
     "name": "stdout",
     "output_type": "stream",
     "text": [
      "[875]\tvalid_0's rmse: 0.458917\n"
     ]
    },
    {
     "name": "stdout",
     "output_type": "stream",
     "text": [
      "[900]\tvalid_0's rmse: 0.458774\n"
     ]
    },
    {
     "name": "stdout",
     "output_type": "stream",
     "text": [
      "[925]\tvalid_0's rmse: 0.458406\n"
     ]
    },
    {
     "name": "stdout",
     "output_type": "stream",
     "text": [
      "[950]\tvalid_0's rmse: 0.458202\n"
     ]
    },
    {
     "name": "stdout",
     "output_type": "stream",
     "text": [
      "[975]\tvalid_0's rmse: 0.458149\n"
     ]
    },
    {
     "name": "stdout",
     "output_type": "stream",
     "text": [
      "[1000]\tvalid_0's rmse: 0.458063\n"
     ]
    },
    {
     "name": "stdout",
     "output_type": "stream",
     "text": [
      "[1025]\tvalid_0's rmse: 0.457756\n"
     ]
    },
    {
     "name": "stdout",
     "output_type": "stream",
     "text": [
      "[1050]\tvalid_0's rmse: 0.457603\n"
     ]
    },
    {
     "name": "stdout",
     "output_type": "stream",
     "text": [
      "[1075]\tvalid_0's rmse: 0.457376\n"
     ]
    },
    {
     "name": "stdout",
     "output_type": "stream",
     "text": [
      "[1100]\tvalid_0's rmse: 0.457251\n"
     ]
    },
    {
     "name": "stdout",
     "output_type": "stream",
     "text": [
      "[1125]\tvalid_0's rmse: 0.457249\n"
     ]
    },
    {
     "name": "stdout",
     "output_type": "stream",
     "text": [
      "[1150]\tvalid_0's rmse: 0.457043\n"
     ]
    },
    {
     "name": "stdout",
     "output_type": "stream",
     "text": [
      "[1175]\tvalid_0's rmse: 0.45694\n"
     ]
    },
    {
     "name": "stdout",
     "output_type": "stream",
     "text": [
      "[1200]\tvalid_0's rmse: 0.456833\n"
     ]
    },
    {
     "name": "stdout",
     "output_type": "stream",
     "text": [
      "[1225]\tvalid_0's rmse: 0.456645\n"
     ]
    },
    {
     "name": "stdout",
     "output_type": "stream",
     "text": [
      "[1250]\tvalid_0's rmse: 0.456653\n"
     ]
    },
    {
     "name": "stdout",
     "output_type": "stream",
     "text": [
      "[1275]\tvalid_0's rmse: 0.456375\n"
     ]
    },
    {
     "name": "stdout",
     "output_type": "stream",
     "text": [
      "[1300]\tvalid_0's rmse: 0.456208\n"
     ]
    },
    {
     "name": "stdout",
     "output_type": "stream",
     "text": [
      "[1325]\tvalid_0's rmse: 0.456078\n"
     ]
    },
    {
     "name": "stdout",
     "output_type": "stream",
     "text": [
      "[1350]\tvalid_0's rmse: 0.455899\n"
     ]
    },
    {
     "name": "stdout",
     "output_type": "stream",
     "text": [
      "[1375]\tvalid_0's rmse: 0.455746\n"
     ]
    },
    {
     "name": "stdout",
     "output_type": "stream",
     "text": [
      "[1400]\tvalid_0's rmse: 0.455682\n"
     ]
    },
    {
     "name": "stdout",
     "output_type": "stream",
     "text": [
      "[1425]\tvalid_0's rmse: 0.455501\n"
     ]
    },
    {
     "name": "stdout",
     "output_type": "stream",
     "text": [
      "[1450]\tvalid_0's rmse: 0.455381\n"
     ]
    },
    {
     "name": "stdout",
     "output_type": "stream",
     "text": [
      "[1475]\tvalid_0's rmse: 0.455307\n"
     ]
    },
    {
     "name": "stdout",
     "output_type": "stream",
     "text": [
      "[1500]\tvalid_0's rmse: 0.455181\n"
     ]
    },
    {
     "name": "stdout",
     "output_type": "stream",
     "text": [
      "[1525]\tvalid_0's rmse: 0.455142\n"
     ]
    },
    {
     "name": "stdout",
     "output_type": "stream",
     "text": [
      "[1550]\tvalid_0's rmse: 0.455125\n"
     ]
    },
    {
     "name": "stdout",
     "output_type": "stream",
     "text": [
      "[1575]\tvalid_0's rmse: 0.455125\n"
     ]
    },
    {
     "name": "stdout",
     "output_type": "stream",
     "text": [
      "[1600]\tvalid_0's rmse: 0.455035\n"
     ]
    },
    {
     "name": "stdout",
     "output_type": "stream",
     "text": [
      "[1625]\tvalid_0's rmse: 0.455092\n"
     ]
    },
    {
     "name": "stdout",
     "output_type": "stream",
     "text": [
      "[1650]\tvalid_0's rmse: 0.455068\n"
     ]
    },
    {
     "name": "stdout",
     "output_type": "stream",
     "text": [
      "[1675]\tvalid_0's rmse: 0.454994\n"
     ]
    },
    {
     "name": "stdout",
     "output_type": "stream",
     "text": [
      "[1700]\tvalid_0's rmse: 0.454919\n"
     ]
    },
    {
     "name": "stdout",
     "output_type": "stream",
     "text": [
      "[1725]\tvalid_0's rmse: 0.454869\n"
     ]
    },
    {
     "name": "stdout",
     "output_type": "stream",
     "text": [
      "[1750]\tvalid_0's rmse: 0.45487\n"
     ]
    },
    {
     "name": "stdout",
     "output_type": "stream",
     "text": [
      "[1775]\tvalid_0's rmse: 0.454876\n"
     ]
    },
    {
     "name": "stdout",
     "output_type": "stream",
     "text": [
      "[1800]\tvalid_0's rmse: 0.454869\n"
     ]
    },
    {
     "name": "stdout",
     "output_type": "stream",
     "text": [
      "[1825]\tvalid_0's rmse: 0.454803\n"
     ]
    },
    {
     "name": "stdout",
     "output_type": "stream",
     "text": [
      "[1850]\tvalid_0's rmse: 0.454785\n"
     ]
    },
    {
     "name": "stdout",
     "output_type": "stream",
     "text": [
      "[1875]\tvalid_0's rmse: 0.454697\n"
     ]
    },
    {
     "name": "stdout",
     "output_type": "stream",
     "text": [
      "[1900]\tvalid_0's rmse: 0.454676\n"
     ]
    },
    {
     "name": "stdout",
     "output_type": "stream",
     "text": [
      "[1925]\tvalid_0's rmse: 0.454681\n"
     ]
    },
    {
     "name": "stdout",
     "output_type": "stream",
     "text": [
      "[1950]\tvalid_0's rmse: 0.454724\n"
     ]
    },
    {
     "name": "stdout",
     "output_type": "stream",
     "text": [
      "[1975]\tvalid_0's rmse: 0.454631\n"
     ]
    },
    {
     "name": "stdout",
     "output_type": "stream",
     "text": [
      "[2000]\tvalid_0's rmse: 0.454723\n"
     ]
    },
    {
     "name": "stdout",
     "output_type": "stream",
     "text": [
      "Fold 2 - RMSE: 0.4543047052423459\n",
      "Fold 3\n"
     ]
    },
    {
     "name": "stdout",
     "output_type": "stream",
     "text": [
      "[25]\tvalid_0's rmse: 0.526355\n"
     ]
    },
    {
     "name": "stdout",
     "output_type": "stream",
     "text": [
      "[50]\tvalid_0's rmse: 0.506804\n"
     ]
    },
    {
     "name": "stdout",
     "output_type": "stream",
     "text": [
      "[75]\tvalid_0's rmse: 0.493297\n"
     ]
    },
    {
     "name": "stdout",
     "output_type": "stream",
     "text": [
      "[100]\tvalid_0's rmse: 0.484801\n"
     ]
    },
    {
     "name": "stdout",
     "output_type": "stream",
     "text": [
      "[125]\tvalid_0's rmse: 0.48058\n"
     ]
    },
    {
     "name": "stdout",
     "output_type": "stream",
     "text": [
      "[150]\tvalid_0's rmse: 0.477119\n"
     ]
    },
    {
     "name": "stdout",
     "output_type": "stream",
     "text": [
      "[175]\tvalid_0's rmse: 0.475057\n"
     ]
    },
    {
     "name": "stdout",
     "output_type": "stream",
     "text": [
      "[200]\tvalid_0's rmse: 0.472028\n"
     ]
    },
    {
     "name": "stdout",
     "output_type": "stream",
     "text": [
      "[225]\tvalid_0's rmse: 0.469958\n"
     ]
    },
    {
     "name": "stdout",
     "output_type": "stream",
     "text": [
      "[250]\tvalid_0's rmse: 0.468821\n"
     ]
    },
    {
     "name": "stdout",
     "output_type": "stream",
     "text": [
      "[275]\tvalid_0's rmse: 0.467182\n"
     ]
    },
    {
     "name": "stdout",
     "output_type": "stream",
     "text": [
      "[300]\tvalid_0's rmse: 0.465817\n"
     ]
    },
    {
     "name": "stdout",
     "output_type": "stream",
     "text": [
      "[325]\tvalid_0's rmse: 0.464745\n"
     ]
    },
    {
     "name": "stdout",
     "output_type": "stream",
     "text": [
      "[350]\tvalid_0's rmse: 0.464125\n"
     ]
    },
    {
     "name": "stdout",
     "output_type": "stream",
     "text": [
      "[375]\tvalid_0's rmse: 0.462769\n"
     ]
    },
    {
     "name": "stdout",
     "output_type": "stream",
     "text": [
      "[400]\tvalid_0's rmse: 0.46225\n"
     ]
    },
    {
     "name": "stdout",
     "output_type": "stream",
     "text": [
      "[425]\tvalid_0's rmse: 0.461609\n"
     ]
    },
    {
     "name": "stdout",
     "output_type": "stream",
     "text": [
      "[450]\tvalid_0's rmse: 0.460839\n"
     ]
    },
    {
     "name": "stdout",
     "output_type": "stream",
     "text": [
      "[475]\tvalid_0's rmse: 0.460198\n"
     ]
    },
    {
     "name": "stdout",
     "output_type": "stream",
     "text": [
      "[500]\tvalid_0's rmse: 0.459578\n"
     ]
    },
    {
     "name": "stdout",
     "output_type": "stream",
     "text": [
      "[525]\tvalid_0's rmse: 0.459336\n"
     ]
    },
    {
     "name": "stdout",
     "output_type": "stream",
     "text": [
      "[550]\tvalid_0's rmse: 0.458836\n"
     ]
    },
    {
     "name": "stdout",
     "output_type": "stream",
     "text": [
      "[575]\tvalid_0's rmse: 0.458558\n"
     ]
    },
    {
     "name": "stdout",
     "output_type": "stream",
     "text": [
      "[600]\tvalid_0's rmse: 0.458175\n"
     ]
    },
    {
     "name": "stdout",
     "output_type": "stream",
     "text": [
      "[625]\tvalid_0's rmse: 0.457566\n"
     ]
    },
    {
     "name": "stdout",
     "output_type": "stream",
     "text": [
      "[650]\tvalid_0's rmse: 0.457246\n"
     ]
    },
    {
     "name": "stdout",
     "output_type": "stream",
     "text": [
      "[675]\tvalid_0's rmse: 0.456821\n"
     ]
    },
    {
     "name": "stdout",
     "output_type": "stream",
     "text": [
      "[700]\tvalid_0's rmse: 0.456475\n"
     ]
    },
    {
     "name": "stdout",
     "output_type": "stream",
     "text": [
      "[725]\tvalid_0's rmse: 0.456343\n"
     ]
    },
    {
     "name": "stdout",
     "output_type": "stream",
     "text": [
      "[750]\tvalid_0's rmse: 0.455968\n"
     ]
    },
    {
     "name": "stdout",
     "output_type": "stream",
     "text": [
      "[775]\tvalid_0's rmse: 0.455669\n"
     ]
    },
    {
     "name": "stdout",
     "output_type": "stream",
     "text": [
      "[800]\tvalid_0's rmse: 0.455419\n"
     ]
    },
    {
     "name": "stdout",
     "output_type": "stream",
     "text": [
      "[825]\tvalid_0's rmse: 0.455224\n"
     ]
    },
    {
     "name": "stdout",
     "output_type": "stream",
     "text": [
      "[850]\tvalid_0's rmse: 0.455041\n"
     ]
    },
    {
     "name": "stdout",
     "output_type": "stream",
     "text": [
      "[875]\tvalid_0's rmse: 0.454863\n"
     ]
    },
    {
     "name": "stdout",
     "output_type": "stream",
     "text": [
      "[900]\tvalid_0's rmse: 0.454469\n"
     ]
    },
    {
     "name": "stdout",
     "output_type": "stream",
     "text": [
      "[925]\tvalid_0's rmse: 0.454132\n"
     ]
    },
    {
     "name": "stdout",
     "output_type": "stream",
     "text": [
      "[950]\tvalid_0's rmse: 0.453611\n"
     ]
    },
    {
     "name": "stdout",
     "output_type": "stream",
     "text": [
      "[975]\tvalid_0's rmse: 0.453391\n"
     ]
    },
    {
     "name": "stdout",
     "output_type": "stream",
     "text": [
      "[1000]\tvalid_0's rmse: 0.453235\n"
     ]
    },
    {
     "name": "stdout",
     "output_type": "stream",
     "text": [
      "[1025]\tvalid_0's rmse: 0.453041\n"
     ]
    },
    {
     "name": "stdout",
     "output_type": "stream",
     "text": [
      "[1050]\tvalid_0's rmse: 0.452899\n"
     ]
    },
    {
     "name": "stdout",
     "output_type": "stream",
     "text": [
      "[1075]\tvalid_0's rmse: 0.452729\n"
     ]
    },
    {
     "name": "stdout",
     "output_type": "stream",
     "text": [
      "[1100]\tvalid_0's rmse: 0.452609\n"
     ]
    },
    {
     "name": "stdout",
     "output_type": "stream",
     "text": [
      "[1125]\tvalid_0's rmse: 0.452541\n"
     ]
    },
    {
     "name": "stdout",
     "output_type": "stream",
     "text": [
      "[1150]\tvalid_0's rmse: 0.452365\n"
     ]
    },
    {
     "name": "stdout",
     "output_type": "stream",
     "text": [
      "[1175]\tvalid_0's rmse: 0.452238\n"
     ]
    },
    {
     "name": "stdout",
     "output_type": "stream",
     "text": [
      "[1200]\tvalid_0's rmse: 0.452024\n"
     ]
    },
    {
     "name": "stdout",
     "output_type": "stream",
     "text": [
      "[1225]\tvalid_0's rmse: 0.451856\n"
     ]
    },
    {
     "name": "stdout",
     "output_type": "stream",
     "text": [
      "[1250]\tvalid_0's rmse: 0.451723\n"
     ]
    },
    {
     "name": "stdout",
     "output_type": "stream",
     "text": [
      "[1275]\tvalid_0's rmse: 0.451659\n"
     ]
    },
    {
     "name": "stdout",
     "output_type": "stream",
     "text": [
      "[1300]\tvalid_0's rmse: 0.451421\n"
     ]
    },
    {
     "name": "stdout",
     "output_type": "stream",
     "text": [
      "[1325]\tvalid_0's rmse: 0.451322\n"
     ]
    },
    {
     "name": "stdout",
     "output_type": "stream",
     "text": [
      "[1350]\tvalid_0's rmse: 0.45123\n"
     ]
    },
    {
     "name": "stdout",
     "output_type": "stream",
     "text": [
      "[1375]\tvalid_0's rmse: 0.451188\n"
     ]
    },
    {
     "name": "stdout",
     "output_type": "stream",
     "text": [
      "[1400]\tvalid_0's rmse: 0.451082\n"
     ]
    },
    {
     "name": "stdout",
     "output_type": "stream",
     "text": [
      "[1425]\tvalid_0's rmse: 0.450822\n"
     ]
    },
    {
     "name": "stdout",
     "output_type": "stream",
     "text": [
      "[1450]\tvalid_0's rmse: 0.450747\n"
     ]
    },
    {
     "name": "stdout",
     "output_type": "stream",
     "text": [
      "[1475]\tvalid_0's rmse: 0.45065\n"
     ]
    },
    {
     "name": "stdout",
     "output_type": "stream",
     "text": [
      "[1500]\tvalid_0's rmse: 0.450572\n"
     ]
    },
    {
     "name": "stdout",
     "output_type": "stream",
     "text": [
      "[1525]\tvalid_0's rmse: 0.450405\n"
     ]
    },
    {
     "name": "stdout",
     "output_type": "stream",
     "text": [
      "[1550]\tvalid_0's rmse: 0.450365\n"
     ]
    },
    {
     "name": "stdout",
     "output_type": "stream",
     "text": [
      "[1575]\tvalid_0's rmse: 0.450233\n"
     ]
    },
    {
     "name": "stdout",
     "output_type": "stream",
     "text": [
      "[1600]\tvalid_0's rmse: 0.450041\n"
     ]
    },
    {
     "name": "stdout",
     "output_type": "stream",
     "text": [
      "[1625]\tvalid_0's rmse: 0.449926\n"
     ]
    },
    {
     "name": "stdout",
     "output_type": "stream",
     "text": [
      "[1650]\tvalid_0's rmse: 0.449801\n"
     ]
    },
    {
     "name": "stdout",
     "output_type": "stream",
     "text": [
      "[1675]\tvalid_0's rmse: 0.449743\n"
     ]
    },
    {
     "name": "stdout",
     "output_type": "stream",
     "text": [
      "[1700]\tvalid_0's rmse: 0.449631\n"
     ]
    },
    {
     "name": "stdout",
     "output_type": "stream",
     "text": [
      "[1725]\tvalid_0's rmse: 0.449554\n"
     ]
    },
    {
     "name": "stdout",
     "output_type": "stream",
     "text": [
      "[1750]\tvalid_0's rmse: 0.449451\n"
     ]
    },
    {
     "name": "stdout",
     "output_type": "stream",
     "text": [
      "[1775]\tvalid_0's rmse: 0.449413\n"
     ]
    },
    {
     "name": "stdout",
     "output_type": "stream",
     "text": [
      "[1800]\tvalid_0's rmse: 0.449414\n"
     ]
    },
    {
     "name": "stdout",
     "output_type": "stream",
     "text": [
      "[1825]\tvalid_0's rmse: 0.449328\n"
     ]
    },
    {
     "name": "stdout",
     "output_type": "stream",
     "text": [
      "[1850]\tvalid_0's rmse: 0.449318\n"
     ]
    },
    {
     "name": "stdout",
     "output_type": "stream",
     "text": [
      "[1875]\tvalid_0's rmse: 0.449241\n"
     ]
    },
    {
     "name": "stdout",
     "output_type": "stream",
     "text": [
      "[1900]\tvalid_0's rmse: 0.449269\n"
     ]
    },
    {
     "name": "stdout",
     "output_type": "stream",
     "text": [
      "[1925]\tvalid_0's rmse: 0.449224\n"
     ]
    },
    {
     "name": "stdout",
     "output_type": "stream",
     "text": [
      "[1950]\tvalid_0's rmse: 0.449197\n"
     ]
    },
    {
     "name": "stdout",
     "output_type": "stream",
     "text": [
      "[1975]\tvalid_0's rmse: 0.449141\n"
     ]
    },
    {
     "name": "stdout",
     "output_type": "stream",
     "text": [
      "[2000]\tvalid_0's rmse: 0.449124\n"
     ]
    },
    {
     "name": "stdout",
     "output_type": "stream",
     "text": [
      "Fold 3 - RMSE: 0.4484939815610887\n",
      "Fold 4\n"
     ]
    },
    {
     "name": "stdout",
     "output_type": "stream",
     "text": [
      "[25]\tvalid_0's rmse: 0.511246\n"
     ]
    },
    {
     "name": "stdout",
     "output_type": "stream",
     "text": [
      "[50]\tvalid_0's rmse: 0.488486\n"
     ]
    },
    {
     "name": "stdout",
     "output_type": "stream",
     "text": [
      "[75]\tvalid_0's rmse: 0.477848\n"
     ]
    },
    {
     "name": "stdout",
     "output_type": "stream",
     "text": [
      "[100]\tvalid_0's rmse: 0.471166\n"
     ]
    },
    {
     "name": "stdout",
     "output_type": "stream",
     "text": [
      "[125]\tvalid_0's rmse: 0.466645\n"
     ]
    },
    {
     "name": "stdout",
     "output_type": "stream",
     "text": [
      "[150]\tvalid_0's rmse: 0.462874\n"
     ]
    },
    {
     "name": "stdout",
     "output_type": "stream",
     "text": [
      "[175]\tvalid_0's rmse: 0.460025\n"
     ]
    },
    {
     "name": "stdout",
     "output_type": "stream",
     "text": [
      "[200]\tvalid_0's rmse: 0.457739\n"
     ]
    },
    {
     "name": "stdout",
     "output_type": "stream",
     "text": [
      "[225]\tvalid_0's rmse: 0.454919\n"
     ]
    },
    {
     "name": "stdout",
     "output_type": "stream",
     "text": [
      "[250]\tvalid_0's rmse: 0.452327\n"
     ]
    },
    {
     "name": "stdout",
     "output_type": "stream",
     "text": [
      "[275]\tvalid_0's rmse: 0.451001\n"
     ]
    },
    {
     "name": "stdout",
     "output_type": "stream",
     "text": [
      "[300]\tvalid_0's rmse: 0.449647\n"
     ]
    },
    {
     "name": "stdout",
     "output_type": "stream",
     "text": [
      "[325]\tvalid_0's rmse: 0.448785\n"
     ]
    },
    {
     "name": "stdout",
     "output_type": "stream",
     "text": [
      "[350]\tvalid_0's rmse: 0.447727\n"
     ]
    },
    {
     "name": "stdout",
     "output_type": "stream",
     "text": [
      "[375]\tvalid_0's rmse: 0.446844\n"
     ]
    },
    {
     "name": "stdout",
     "output_type": "stream",
     "text": [
      "[400]\tvalid_0's rmse: 0.445751\n"
     ]
    },
    {
     "name": "stdout",
     "output_type": "stream",
     "text": [
      "[425]\tvalid_0's rmse: 0.444607\n"
     ]
    },
    {
     "name": "stdout",
     "output_type": "stream",
     "text": [
      "[450]\tvalid_0's rmse: 0.443434\n"
     ]
    },
    {
     "name": "stdout",
     "output_type": "stream",
     "text": [
      "[475]\tvalid_0's rmse: 0.442756\n"
     ]
    },
    {
     "name": "stdout",
     "output_type": "stream",
     "text": [
      "[500]\tvalid_0's rmse: 0.442214\n"
     ]
    },
    {
     "name": "stdout",
     "output_type": "stream",
     "text": [
      "[525]\tvalid_0's rmse: 0.441551\n"
     ]
    },
    {
     "name": "stdout",
     "output_type": "stream",
     "text": [
      "[550]\tvalid_0's rmse: 0.44119\n"
     ]
    },
    {
     "name": "stdout",
     "output_type": "stream",
     "text": [
      "[575]\tvalid_0's rmse: 0.440844\n"
     ]
    },
    {
     "name": "stdout",
     "output_type": "stream",
     "text": [
      "[600]\tvalid_0's rmse: 0.440477\n"
     ]
    },
    {
     "name": "stdout",
     "output_type": "stream",
     "text": [
      "[625]\tvalid_0's rmse: 0.440241\n"
     ]
    },
    {
     "name": "stdout",
     "output_type": "stream",
     "text": [
      "[650]\tvalid_0's rmse: 0.439871\n"
     ]
    },
    {
     "name": "stdout",
     "output_type": "stream",
     "text": [
      "[675]\tvalid_0's rmse: 0.439608\n"
     ]
    },
    {
     "name": "stdout",
     "output_type": "stream",
     "text": [
      "[700]\tvalid_0's rmse: 0.439127\n"
     ]
    },
    {
     "name": "stdout",
     "output_type": "stream",
     "text": [
      "[725]\tvalid_0's rmse: 0.43879\n"
     ]
    },
    {
     "name": "stdout",
     "output_type": "stream",
     "text": [
      "[750]\tvalid_0's rmse: 0.438606\n"
     ]
    },
    {
     "name": "stdout",
     "output_type": "stream",
     "text": [
      "[775]\tvalid_0's rmse: 0.438332\n"
     ]
    },
    {
     "name": "stdout",
     "output_type": "stream",
     "text": [
      "[800]\tvalid_0's rmse: 0.437969\n"
     ]
    },
    {
     "name": "stdout",
     "output_type": "stream",
     "text": [
      "[825]\tvalid_0's rmse: 0.437695\n"
     ]
    },
    {
     "name": "stdout",
     "output_type": "stream",
     "text": [
      "[850]\tvalid_0's rmse: 0.437426\n"
     ]
    },
    {
     "name": "stdout",
     "output_type": "stream",
     "text": [
      "[875]\tvalid_0's rmse: 0.437169\n"
     ]
    },
    {
     "name": "stdout",
     "output_type": "stream",
     "text": [
      "[900]\tvalid_0's rmse: 0.436749\n"
     ]
    },
    {
     "name": "stdout",
     "output_type": "stream",
     "text": [
      "[925]\tvalid_0's rmse: 0.436279\n"
     ]
    },
    {
     "name": "stdout",
     "output_type": "stream",
     "text": [
      "[950]\tvalid_0's rmse: 0.435997\n"
     ]
    },
    {
     "name": "stdout",
     "output_type": "stream",
     "text": [
      "[975]\tvalid_0's rmse: 0.435461\n"
     ]
    },
    {
     "name": "stdout",
     "output_type": "stream",
     "text": [
      "[1000]\tvalid_0's rmse: 0.434966\n"
     ]
    },
    {
     "name": "stdout",
     "output_type": "stream",
     "text": [
      "[1025]\tvalid_0's rmse: 0.434746\n"
     ]
    },
    {
     "name": "stdout",
     "output_type": "stream",
     "text": [
      "[1050]\tvalid_0's rmse: 0.434593\n"
     ]
    },
    {
     "name": "stdout",
     "output_type": "stream",
     "text": [
      "[1075]\tvalid_0's rmse: 0.434232\n"
     ]
    },
    {
     "name": "stdout",
     "output_type": "stream",
     "text": [
      "[1100]\tvalid_0's rmse: 0.434055\n"
     ]
    },
    {
     "name": "stdout",
     "output_type": "stream",
     "text": [
      "[1125]\tvalid_0's rmse: 0.433855\n"
     ]
    },
    {
     "name": "stdout",
     "output_type": "stream",
     "text": [
      "[1150]\tvalid_0's rmse: 0.433709\n"
     ]
    },
    {
     "name": "stdout",
     "output_type": "stream",
     "text": [
      "[1175]\tvalid_0's rmse: 0.433626\n"
     ]
    },
    {
     "name": "stdout",
     "output_type": "stream",
     "text": [
      "[1200]\tvalid_0's rmse: 0.433471\n"
     ]
    },
    {
     "name": "stdout",
     "output_type": "stream",
     "text": [
      "[1225]\tvalid_0's rmse: 0.433351\n"
     ]
    },
    {
     "name": "stdout",
     "output_type": "stream",
     "text": [
      "[1250]\tvalid_0's rmse: 0.433127\n"
     ]
    },
    {
     "name": "stdout",
     "output_type": "stream",
     "text": [
      "[1275]\tvalid_0's rmse: 0.432891\n"
     ]
    },
    {
     "name": "stdout",
     "output_type": "stream",
     "text": [
      "[1300]\tvalid_0's rmse: 0.432741\n"
     ]
    },
    {
     "name": "stdout",
     "output_type": "stream",
     "text": [
      "[1325]\tvalid_0's rmse: 0.432691\n"
     ]
    },
    {
     "name": "stdout",
     "output_type": "stream",
     "text": [
      "[1350]\tvalid_0's rmse: 0.432543\n"
     ]
    },
    {
     "name": "stdout",
     "output_type": "stream",
     "text": [
      "[1375]\tvalid_0's rmse: 0.432505\n"
     ]
    },
    {
     "name": "stdout",
     "output_type": "stream",
     "text": [
      "[1400]\tvalid_0's rmse: 0.432374\n"
     ]
    },
    {
     "name": "stdout",
     "output_type": "stream",
     "text": [
      "[1425]\tvalid_0's rmse: 0.432113\n"
     ]
    },
    {
     "name": "stdout",
     "output_type": "stream",
     "text": [
      "[1450]\tvalid_0's rmse: 0.432066\n"
     ]
    },
    {
     "name": "stdout",
     "output_type": "stream",
     "text": [
      "[1475]\tvalid_0's rmse: 0.431956\n"
     ]
    },
    {
     "name": "stdout",
     "output_type": "stream",
     "text": [
      "[1500]\tvalid_0's rmse: 0.431861\n"
     ]
    },
    {
     "name": "stdout",
     "output_type": "stream",
     "text": [
      "[1525]\tvalid_0's rmse: 0.431681\n"
     ]
    },
    {
     "name": "stdout",
     "output_type": "stream",
     "text": [
      "[1550]\tvalid_0's rmse: 0.431605\n"
     ]
    },
    {
     "name": "stdout",
     "output_type": "stream",
     "text": [
      "[1575]\tvalid_0's rmse: 0.431505\n"
     ]
    },
    {
     "name": "stdout",
     "output_type": "stream",
     "text": [
      "[1600]\tvalid_0's rmse: 0.431407\n"
     ]
    },
    {
     "name": "stdout",
     "output_type": "stream",
     "text": [
      "[1625]\tvalid_0's rmse: 0.43128\n"
     ]
    },
    {
     "name": "stdout",
     "output_type": "stream",
     "text": [
      "[1650]\tvalid_0's rmse: 0.431236\n"
     ]
    },
    {
     "name": "stdout",
     "output_type": "stream",
     "text": [
      "[1675]\tvalid_0's rmse: 0.431138\n"
     ]
    },
    {
     "name": "stdout",
     "output_type": "stream",
     "text": [
      "[1700]\tvalid_0's rmse: 0.431038\n"
     ]
    },
    {
     "name": "stdout",
     "output_type": "stream",
     "text": [
      "[1725]\tvalid_0's rmse: 0.430893\n"
     ]
    },
    {
     "name": "stdout",
     "output_type": "stream",
     "text": [
      "[1750]\tvalid_0's rmse: 0.430812\n"
     ]
    },
    {
     "name": "stdout",
     "output_type": "stream",
     "text": [
      "[1775]\tvalid_0's rmse: 0.430695\n"
     ]
    },
    {
     "name": "stdout",
     "output_type": "stream",
     "text": [
      "[1800]\tvalid_0's rmse: 0.430605\n"
     ]
    },
    {
     "name": "stdout",
     "output_type": "stream",
     "text": [
      "[1825]\tvalid_0's rmse: 0.430558\n"
     ]
    },
    {
     "name": "stdout",
     "output_type": "stream",
     "text": [
      "[1850]\tvalid_0's rmse: 0.430544\n"
     ]
    },
    {
     "name": "stdout",
     "output_type": "stream",
     "text": [
      "[1875]\tvalid_0's rmse: 0.430498\n"
     ]
    },
    {
     "name": "stdout",
     "output_type": "stream",
     "text": [
      "[1900]\tvalid_0's rmse: 0.430506\n"
     ]
    },
    {
     "name": "stdout",
     "output_type": "stream",
     "text": [
      "[1925]\tvalid_0's rmse: 0.430507\n"
     ]
    },
    {
     "name": "stdout",
     "output_type": "stream",
     "text": [
      "[1950]\tvalid_0's rmse: 0.430486\n"
     ]
    },
    {
     "name": "stdout",
     "output_type": "stream",
     "text": [
      "[1975]\tvalid_0's rmse: 0.430428\n"
     ]
    },
    {
     "name": "stdout",
     "output_type": "stream",
     "text": [
      "[2000]\tvalid_0's rmse: 0.430385\n"
     ]
    },
    {
     "name": "stdout",
     "output_type": "stream",
     "text": [
      "Fold 4 - RMSE: 0.42984004545625065\n",
      "Fold 5\n"
     ]
    },
    {
     "name": "stdout",
     "output_type": "stream",
     "text": [
      "[25]\tvalid_0's rmse: 0.513752\n"
     ]
    },
    {
     "name": "stdout",
     "output_type": "stream",
     "text": [
      "[50]\tvalid_0's rmse: 0.48933\n"
     ]
    },
    {
     "name": "stdout",
     "output_type": "stream",
     "text": [
      "[75]\tvalid_0's rmse: 0.478265\n"
     ]
    },
    {
     "name": "stdout",
     "output_type": "stream",
     "text": [
      "[100]\tvalid_0's rmse: 0.469846\n"
     ]
    },
    {
     "name": "stdout",
     "output_type": "stream",
     "text": [
      "[125]\tvalid_0's rmse: 0.464516\n"
     ]
    },
    {
     "name": "stdout",
     "output_type": "stream",
     "text": [
      "[150]\tvalid_0's rmse: 0.459891\n"
     ]
    },
    {
     "name": "stdout",
     "output_type": "stream",
     "text": [
      "[175]\tvalid_0's rmse: 0.457697\n"
     ]
    },
    {
     "name": "stdout",
     "output_type": "stream",
     "text": [
      "[200]\tvalid_0's rmse: 0.45628\n"
     ]
    },
    {
     "name": "stdout",
     "output_type": "stream",
     "text": [
      "[225]\tvalid_0's rmse: 0.454817\n"
     ]
    },
    {
     "name": "stdout",
     "output_type": "stream",
     "text": [
      "[250]\tvalid_0's rmse: 0.453101\n"
     ]
    },
    {
     "name": "stdout",
     "output_type": "stream",
     "text": [
      "[275]\tvalid_0's rmse: 0.451705\n"
     ]
    },
    {
     "name": "stdout",
     "output_type": "stream",
     "text": [
      "[300]\tvalid_0's rmse: 0.450594\n"
     ]
    },
    {
     "name": "stdout",
     "output_type": "stream",
     "text": [
      "[325]\tvalid_0's rmse: 0.448944\n"
     ]
    },
    {
     "name": "stdout",
     "output_type": "stream",
     "text": [
      "[350]\tvalid_0's rmse: 0.447893\n"
     ]
    },
    {
     "name": "stdout",
     "output_type": "stream",
     "text": [
      "[375]\tvalid_0's rmse: 0.446939\n"
     ]
    },
    {
     "name": "stdout",
     "output_type": "stream",
     "text": [
      "[400]\tvalid_0's rmse: 0.445851\n"
     ]
    },
    {
     "name": "stdout",
     "output_type": "stream",
     "text": [
      "[425]\tvalid_0's rmse: 0.445071\n"
     ]
    },
    {
     "name": "stdout",
     "output_type": "stream",
     "text": [
      "[450]\tvalid_0's rmse: 0.444676\n"
     ]
    },
    {
     "name": "stdout",
     "output_type": "stream",
     "text": [
      "[475]\tvalid_0's rmse: 0.44407\n"
     ]
    },
    {
     "name": "stdout",
     "output_type": "stream",
     "text": [
      "[500]\tvalid_0's rmse: 0.443795\n"
     ]
    },
    {
     "name": "stdout",
     "output_type": "stream",
     "text": [
      "[525]\tvalid_0's rmse: 0.443299\n"
     ]
    },
    {
     "name": "stdout",
     "output_type": "stream",
     "text": [
      "[550]\tvalid_0's rmse: 0.442751\n"
     ]
    },
    {
     "name": "stdout",
     "output_type": "stream",
     "text": [
      "[575]\tvalid_0's rmse: 0.442583\n"
     ]
    },
    {
     "name": "stdout",
     "output_type": "stream",
     "text": [
      "[600]\tvalid_0's rmse: 0.441778\n"
     ]
    },
    {
     "name": "stdout",
     "output_type": "stream",
     "text": [
      "[625]\tvalid_0's rmse: 0.441312\n"
     ]
    },
    {
     "name": "stdout",
     "output_type": "stream",
     "text": [
      "[650]\tvalid_0's rmse: 0.441286\n"
     ]
    },
    {
     "name": "stdout",
     "output_type": "stream",
     "text": [
      "[675]\tvalid_0's rmse: 0.44102\n"
     ]
    },
    {
     "name": "stdout",
     "output_type": "stream",
     "text": [
      "[700]\tvalid_0's rmse: 0.440681\n"
     ]
    },
    {
     "name": "stdout",
     "output_type": "stream",
     "text": [
      "[725]\tvalid_0's rmse: 0.440479\n"
     ]
    },
    {
     "name": "stdout",
     "output_type": "stream",
     "text": [
      "[750]\tvalid_0's rmse: 0.440163\n"
     ]
    },
    {
     "name": "stdout",
     "output_type": "stream",
     "text": [
      "[775]\tvalid_0's rmse: 0.43983\n"
     ]
    },
    {
     "name": "stdout",
     "output_type": "stream",
     "text": [
      "[800]\tvalid_0's rmse: 0.439713\n"
     ]
    },
    {
     "name": "stdout",
     "output_type": "stream",
     "text": [
      "[825]\tvalid_0's rmse: 0.439524\n"
     ]
    },
    {
     "name": "stdout",
     "output_type": "stream",
     "text": [
      "[850]\tvalid_0's rmse: 0.439345\n"
     ]
    },
    {
     "name": "stdout",
     "output_type": "stream",
     "text": [
      "[875]\tvalid_0's rmse: 0.439119\n"
     ]
    },
    {
     "name": "stdout",
     "output_type": "stream",
     "text": [
      "[900]\tvalid_0's rmse: 0.439005\n"
     ]
    },
    {
     "name": "stdout",
     "output_type": "stream",
     "text": [
      "[925]\tvalid_0's rmse: 0.438956\n"
     ]
    },
    {
     "name": "stdout",
     "output_type": "stream",
     "text": [
      "[950]\tvalid_0's rmse: 0.438645\n"
     ]
    },
    {
     "name": "stdout",
     "output_type": "stream",
     "text": [
      "[975]\tvalid_0's rmse: 0.438352\n"
     ]
    },
    {
     "name": "stdout",
     "output_type": "stream",
     "text": [
      "[1000]\tvalid_0's rmse: 0.438151\n"
     ]
    },
    {
     "name": "stdout",
     "output_type": "stream",
     "text": [
      "[1025]\tvalid_0's rmse: 0.438167\n"
     ]
    },
    {
     "name": "stdout",
     "output_type": "stream",
     "text": [
      "[1050]\tvalid_0's rmse: 0.437829\n"
     ]
    },
    {
     "name": "stdout",
     "output_type": "stream",
     "text": [
      "[1075]\tvalid_0's rmse: 0.437674\n"
     ]
    },
    {
     "name": "stdout",
     "output_type": "stream",
     "text": [
      "[1100]\tvalid_0's rmse: 0.437563\n"
     ]
    },
    {
     "name": "stdout",
     "output_type": "stream",
     "text": [
      "[1125]\tvalid_0's rmse: 0.437313\n"
     ]
    },
    {
     "name": "stdout",
     "output_type": "stream",
     "text": [
      "[1150]\tvalid_0's rmse: 0.437182\n"
     ]
    },
    {
     "name": "stdout",
     "output_type": "stream",
     "text": [
      "[1175]\tvalid_0's rmse: 0.437042\n"
     ]
    },
    {
     "name": "stdout",
     "output_type": "stream",
     "text": [
      "[1200]\tvalid_0's rmse: 0.43707\n"
     ]
    },
    {
     "name": "stdout",
     "output_type": "stream",
     "text": [
      "[1225]\tvalid_0's rmse: 0.436894\n"
     ]
    },
    {
     "name": "stdout",
     "output_type": "stream",
     "text": [
      "[1250]\tvalid_0's rmse: 0.436738\n"
     ]
    },
    {
     "name": "stdout",
     "output_type": "stream",
     "text": [
      "[1275]\tvalid_0's rmse: 0.43656\n"
     ]
    },
    {
     "name": "stdout",
     "output_type": "stream",
     "text": [
      "[1300]\tvalid_0's rmse: 0.436286\n"
     ]
    },
    {
     "name": "stdout",
     "output_type": "stream",
     "text": [
      "[1325]\tvalid_0's rmse: 0.436115\n"
     ]
    },
    {
     "name": "stdout",
     "output_type": "stream",
     "text": [
      "[1350]\tvalid_0's rmse: 0.435898\n"
     ]
    },
    {
     "name": "stdout",
     "output_type": "stream",
     "text": [
      "[1375]\tvalid_0's rmse: 0.435771\n"
     ]
    },
    {
     "name": "stdout",
     "output_type": "stream",
     "text": [
      "[1400]\tvalid_0's rmse: 0.435654\n"
     ]
    },
    {
     "name": "stdout",
     "output_type": "stream",
     "text": [
      "[1425]\tvalid_0's rmse: 0.435357\n"
     ]
    },
    {
     "name": "stdout",
     "output_type": "stream",
     "text": [
      "[1450]\tvalid_0's rmse: 0.435232\n"
     ]
    },
    {
     "name": "stdout",
     "output_type": "stream",
     "text": [
      "[1475]\tvalid_0's rmse: 0.435005\n"
     ]
    },
    {
     "name": "stdout",
     "output_type": "stream",
     "text": [
      "[1500]\tvalid_0's rmse: 0.434929\n"
     ]
    },
    {
     "name": "stdout",
     "output_type": "stream",
     "text": [
      "[1525]\tvalid_0's rmse: 0.434844\n"
     ]
    },
    {
     "name": "stdout",
     "output_type": "stream",
     "text": [
      "[1550]\tvalid_0's rmse: 0.43481\n"
     ]
    },
    {
     "name": "stdout",
     "output_type": "stream",
     "text": [
      "[1575]\tvalid_0's rmse: 0.434774\n"
     ]
    },
    {
     "name": "stdout",
     "output_type": "stream",
     "text": [
      "[1600]\tvalid_0's rmse: 0.434712\n"
     ]
    },
    {
     "name": "stdout",
     "output_type": "stream",
     "text": [
      "[1625]\tvalid_0's rmse: 0.434632\n"
     ]
    },
    {
     "name": "stdout",
     "output_type": "stream",
     "text": [
      "[1650]\tvalid_0's rmse: 0.434642\n"
     ]
    },
    {
     "name": "stdout",
     "output_type": "stream",
     "text": [
      "[1675]\tvalid_0's rmse: 0.434567\n"
     ]
    },
    {
     "name": "stdout",
     "output_type": "stream",
     "text": [
      "[1700]\tvalid_0's rmse: 0.434414\n"
     ]
    },
    {
     "name": "stdout",
     "output_type": "stream",
     "text": [
      "[1725]\tvalid_0's rmse: 0.434403\n"
     ]
    },
    {
     "name": "stdout",
     "output_type": "stream",
     "text": [
      "[1750]\tvalid_0's rmse: 0.434369\n"
     ]
    },
    {
     "name": "stdout",
     "output_type": "stream",
     "text": [
      "[1775]\tvalid_0's rmse: 0.43434\n"
     ]
    },
    {
     "name": "stdout",
     "output_type": "stream",
     "text": [
      "[1800]\tvalid_0's rmse: 0.434258\n"
     ]
    },
    {
     "name": "stdout",
     "output_type": "stream",
     "text": [
      "[1825]\tvalid_0's rmse: 0.434267\n"
     ]
    },
    {
     "name": "stdout",
     "output_type": "stream",
     "text": [
      "[1850]\tvalid_0's rmse: 0.434234\n"
     ]
    },
    {
     "name": "stdout",
     "output_type": "stream",
     "text": [
      "[1875]\tvalid_0's rmse: 0.434201\n"
     ]
    },
    {
     "name": "stdout",
     "output_type": "stream",
     "text": [
      "[1900]\tvalid_0's rmse: 0.434184\n"
     ]
    },
    {
     "name": "stdout",
     "output_type": "stream",
     "text": [
      "[1925]\tvalid_0's rmse: 0.43417\n"
     ]
    },
    {
     "name": "stdout",
     "output_type": "stream",
     "text": [
      "[1950]\tvalid_0's rmse: 0.434001\n"
     ]
    },
    {
     "name": "stdout",
     "output_type": "stream",
     "text": [
      "[1975]\tvalid_0's rmse: 0.433942\n"
     ]
    },
    {
     "name": "stdout",
     "output_type": "stream",
     "text": [
      "[2000]\tvalid_0's rmse: 0.433679\n"
     ]
    },
    {
     "name": "stdout",
     "output_type": "stream",
     "text": [
      "Fold 5 - RMSE: 0.4332308685790049\n",
      "List of oof scores: [0.44424557887887145, 0.4543047052423459, 0.4484939815610887, 0.42984004545625065, 0.4332308685790049]\n",
      "Average oof score: 0.4420230359435123\n"
     ]
    }
   ],
   "source": [
    "# Define the number of folds for cross-validation\n",
    "num_folds = 5\n",
    "\n",
    "# Define the column for stratified or group k-fold\n",
    "groups_col = 'GameRulesetName'\n",
    "gkf = GroupKFold(n_splits=num_folds)\n",
    "split_list = gkf.split(df_train, groups=df_train[groups_col])\n",
    "\n",
    "target = 'utility_agent1'\n",
    "#target = 'utility_agent1_scaled'\n",
    "\n",
    "# Define the parameters\n",
    "params = {\n",
    "    'objective': \"regression\" if target == 'utility_agent1' else \"cross_entropy\",\n",
    "    'metric': 'rmse',\n",
    "    'boosting_type': 'gbdt',\n",
    "    'num_leaves': 31,\n",
    "    'learning_rate': 0.05,\n",
    "    'verbose': -1  # Set lower verbosity\n",
    "}\n",
    "\n",
    "trained_models = []\n",
    "oof = pd.DataFrame(index=df_train.index, columns=['utility_agent1_true', 'utility_agent1_pred'])\n",
    "oof_scores = []\n",
    "\n",
    "# Perform cross-validation\n",
    "for fold, (train_index, val_index) in enumerate(split_list, 1):\n",
    "    print(f\"Fold {fold}\")\n",
    "    \n",
    "    # Split the data\n",
    "    X_train, X_val = df_train.iloc[train_index], df_train.iloc[val_index]\n",
    "    y_train, y_val = X_train[target], X_val[target]\n",
    "    \n",
    "    # Create LightGBM datasets\n",
    "    train_data = lgb.Dataset(\n",
    "        data=X_train[numerical_cols + categorical_cols],\n",
    "        label=y_train,\n",
    "        categorical_feature=categorical_cols,\n",
    "        free_raw_data=True\n",
    "    )\n",
    "    val_data = lgb.Dataset(\n",
    "        data=X_val[numerical_cols + categorical_cols],\n",
    "        label=y_val,\n",
    "        categorical_feature=categorical_cols,\n",
    "        free_raw_data=True\n",
    "    )\n",
    "\n",
    "    # Train the model\n",
    "    model = lgb.train(\n",
    "        params,\n",
    "        train_data,\n",
    "        num_boost_round=2000,\n",
    "        valid_sets=[val_data],\n",
    "        callbacks=[lgb.log_evaluation(period=25)]\n",
    "    )\n",
    "    \n",
    "    # Save the trained model to the list\n",
    "    trained_models.append(model)\n",
    "\n",
    "    # predict on validation set\n",
    "    y_pred = model.predict(X_val[numerical_cols + categorical_cols])\n",
    "\n",
    "    \n",
    "    if target == \"utility_agent1_scaled\":\n",
    "        # scale back predictions and true values to -1 to 1 range\n",
    "        y_pred = y_pred * 2 - 1\n",
    "        y_val = y_val * 2 - 1\n",
    "    else:\n",
    "        y_pred = np.clip(y_pred, -1, 1)\n",
    "    \n",
    "    # Compute RMSE on scaled values\n",
    "    rmse = np.sqrt(np.mean((y_pred - y_val) ** 2))\n",
    "    print(f\"Fold {fold} - RMSE: {rmse}\")\n",
    "\n",
    "    # Save out-of-fold predictions\n",
    "    oof.loc[val_index, 'utility_agent1_true'] = y_val\n",
    "    oof.loc[val_index, 'utility_agent1_pred'] = y_pred\n",
    "\n",
    "    # Save RMSE to the list\n",
    "    oof_scores.append(rmse)\n",
    "\n",
    "# Print the list of oof scores and average oof score\n",
    "print(\"List of oof scores:\", oof_scores)\n",
    "print(\"Average oof score:\", np.mean(oof_scores))\n",
    "\n",
    "# save oof predictions\n",
    "oof.to_csv(path_results / 'oof_lightgbm.csv', index=False)"
   ]
  },
  {
   "cell_type": "code",
   "execution_count": 6,
   "id": "71d16905",
   "metadata": {
    "execution": {
     "iopub.execute_input": "2024-09-28T16:37:09.762190Z",
     "iopub.status.busy": "2024-09-28T16:37:09.762075Z",
     "iopub.status.idle": "2024-09-28T16:37:09.866487Z",
     "shell.execute_reply": "2024-09-28T16:37:09.866192Z"
    },
    "papermill": {
     "duration": 0.114532,
     "end_time": "2024-09-28T16:37:09.867406",
     "exception": false,
     "start_time": "2024-09-28T16:37:09.752874",
     "status": "completed"
    },
    "tags": []
   },
   "outputs": [
    {
     "data": {
      "image/png": "[encoded data removed]",
      "text/plain": [
       "<Figure size 640x480 with 1 Axes>"
      ]
     },
     "metadata": {},
     "output_type": "display_data"
    }
   ],
   "source": [
    "plt.hist(oof['utility_agent1_true'], alpha=0.5, label='Target')\n",
    "plt.hist(oof['utility_agent1_pred'], alpha=0.5, label='Prediction')\n",
    "plt.legend()\n",
    "plt.show()"
   ]
  },
  {
   "cell_type": "code",
   "execution_count": 7,
   "id": "97598627",
   "metadata": {
    "execution": {
     "iopub.execute_input": "2024-09-28T16:37:09.887142Z",
     "iopub.status.busy": "2024-09-28T16:37:09.887035Z",
     "iopub.status.idle": "2024-09-28T16:37:09.898445Z",
     "shell.execute_reply": "2024-09-28T16:37:09.898162Z"
    },
    "papermill": {
     "duration": 0.021962,
     "end_time": "2024-09-28T16:37:09.899239",
     "exception": false,
     "start_time": "2024-09-28T16:37:09.877277",
     "status": "completed"
    },
    "tags": []
   },
   "outputs": [],
   "source": [
    "# Predict on the test set using all trained models\n",
    "test_predictions = [\n",
    "    model.predict(df_test[numerical_cols + categorical_cols]) \n",
    "    for model in trained_models\n",
    "]\n",
    "\n",
    "# Average predictions from all models\n",
    "final_predictions = np.mean(test_predictions[0], axis=0)\n",
    "\n",
    "# Create a DataFrame with the predictions\n",
    "results_df = pd.DataFrame({\n",
    "    'Id': df_test['Id'],\n",
    "    'utility_agent1': final_predictions\n",
    "})\n",
    "\n",
    "# Save the results to a CSV file\n",
    "# results_df.to_csv('lightgbm_predictions.csv', index=False)\n",
    "# print(\"Predictions saved to 'lightgbm_predictions.csv'\")"
   ]
  },
  {
   "cell_type": "markdown",
   "id": "53d61265",
   "metadata": {
    "papermill": {
     "duration": 0.009315,
     "end_time": "2024-09-28T16:37:09.917683",
     "exception": false,
     "start_time": "2024-09-28T16:37:09.908368",
     "status": "completed"
    },
    "tags": []
   },
   "source": [
    "***"
   ]
  }
 ],
 "metadata": {
  "kernelspec": {
   "display_name": "mcts-strength-variants-kSTIVMm8-py3.10",
   "language": "python",
   "name": "python3"
  },
  "language_info": {
   "codemirror_mode": {
    "name": "ipython",
    "version": 3
   },
   "file_extension": ".py",
   "mimetype": "text/x-python",
   "name": "python",
   "nbconvert_exporter": "python",
   "pygments_lexer": "ipython3",
   "version": "3.10.13"
  },
  "papermill": {
   "default_parameters": {},
   "duration": 1972.608458,
   "end_time": "2024-09-28T16:37:10.248961",
   "environment_variables": {},
   "exception": null,
   "input_path": "train/lightgbm.ipynb",
   "output_path": "train/outputs/lightgbm.ipynb",
   "parameters": {},
   "start_time": "2024-09-28T16:04:17.640503",
   "version": "2.6.0"
  }
 },
 "nbformat": 4,
 "nbformat_minor": 5
}