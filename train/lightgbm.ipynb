{
 "cells": [
  {
   "cell_type": "code",
   "execution_count": null,
   "id": "ec0de1ef",
   "metadata": {
    "execution": {
     "iopub.execute_input": "2024-11-25T04:28:33.013839Z",
     "iopub.status.busy": "2024-11-25T04:28:33.013394Z",
     "iopub.status.idle": "2024-11-25T04:28:33.964822Z",
     "shell.execute_reply": "2024-11-25T04:28:33.964575Z"
    },
    "papermill": {
     "duration": 0.964262,
     "end_time": "2024-11-25T04:28:33.965601",
     "exception": false,
     "start_time": "2024-11-25T04:28:33.001339",
     "status": "completed"
    },
    "tags": []
   },
   "outputs": [],
   "source": [
    "import numpy as np\n",
    "import pandas as pd\n",
    "import matplotlib.pyplot as plt\n",
    "from pathlib import Path\n",
    "import json\n",
    "import pickle\n",
    "\n",
    "import lightgbm as lgb\n",
    "print(\"Lightgbm version:\", lgb.__version__)\n",
    "\n",
    "import sys\n",
    "sys.path.append(\"../src\")\n",
    "from preproc import process_train_data, process_test_data"
   ]
  },
  {
   "cell_type": "markdown",
   "id": "5b24d8a2",
   "metadata": {
    "papermill": {
     "duration": 0.00149,
     "end_time": "2024-11-25T04:28:33.969338",
     "exception": false,
     "start_time": "2024-11-25T04:28:33.967848",
     "status": "completed"
    },
    "tags": []
   },
   "source": [
    "***\n",
    "### load and preprocess data"
   ]
  },
  {
   "cell_type": "code",
   "execution_count": null,
   "id": "7c89cd9d",
   "metadata": {
    "execution": {
     "iopub.execute_input": "2024-11-25T04:28:33.972828Z",
     "iopub.status.busy": "2024-11-25T04:28:33.972673Z",
     "iopub.status.idle": "2024-11-25T04:28:39.812584Z",
     "shell.execute_reply": "2024-11-25T04:28:39.812299Z"
    },
    "papermill": {
     "duration": 5.84258,
     "end_time": "2024-11-25T04:28:39.813373",
     "exception": false,
     "start_time": "2024-11-25T04:28:33.970793",
     "status": "completed"
    },
    "tags": []
   },
   "outputs": [],
   "source": [
    "# define some paths\n",
    "path_raw = Path(\"../data/raw\")\n",
    "path_processed = Path(\"../data/processed\")\n",
    "path_results = Path(\"../data/results\")\n",
    "\n",
    "# load data\n",
    "df_train = pd.read_csv(path_raw / \"train.csv\")\n",
    "df_test = pd.read_csv(path_raw / \"test.csv\")\n",
    "\n",
    "df_train"
   ]
  },
  {
   "cell_type": "code",
   "execution_count": 4,
   "id": "f7583d1a",
   "metadata": {
    "tags": [
     "parameters"
    ]
   },
   "outputs": [],
   "source": [
    "# input parameters\n",
    "fs_type = 'fsv24'\n",
    "train_type = \"large\""
   ]
  },
  {
   "cell_type": "code",
   "execution_count": null,
   "id": "e10c978a",
   "metadata": {
    "execution": {
     "iopub.execute_input": "2024-11-25T04:28:39.817390Z",
     "iopub.status.busy": "2024-11-25T04:28:39.817270Z",
     "iopub.status.idle": "2024-11-25T04:28:39.819581Z",
     "shell.execute_reply": "2024-11-25T04:28:39.819374Z"
    },
    "papermill": {
     "duration": 0.004993,
     "end_time": "2024-11-25T04:28:39.820265",
     "exception": false,
     "start_time": "2024-11-25T04:28:39.815272",
     "status": "completed"
    },
    "tags": []
   },
   "outputs": [],
   "source": [
    "# Load the feature selection results\n",
    "fs_mapping = {\n",
    "    \"full\": None,\n",
    "    \"fsv2\": '../feat_selection/select_optuna_lgbm_v2.json',\n",
    "    \"fsv3\": '../feat_selection/select_optuna_catb.json',\n",
    "    \"fsv4\": '../feat_selection/select_optuna_lgbm_v3.json',\n",
    "    \"fsv23\": '../feat_selection/select_optuna_combined_v23.json',\n",
    "    \"fsv24\": '../feat_selection/select_optuna_combined_v24.json',\n",
    "    \"fsv34\": '../feat_selection/select_optuna_combined_v34.json',\n",
    "    \"int95\": '../feat_selection/feat_selection_intersection_at_95.json',\n",
    "    \"int96\": '../feat_selection/feat_selection_intersection_at_96.json',\n",
    "    \"int97\": '../feat_selection/feat_selection_intersection_at_97.json',\n",
    "    \"int98\": '../feat_selection/feat_selection_intersection_at_98.json',\n",
    "    \"int99\": '../feat_selection/feat_selection_intersection_at_99.json',\n",
    "    \"uni80\": '../feat_selection/feat_selection_union_at_80.json',\n",
    "    \"uni85\": '../feat_selection/feat_selection_union_at_85.json',\n",
    "    \"uni90\": '../feat_selection/feat_selection_union_at_90.json',\n",
    "    \"uni95\": '../feat_selection/feat_selection_union_at_95.json',\n",
    "}\n",
    "\n",
    "fs_path = fs_mapping[fs_type]\n",
    "\n",
    "if fs_path is None:\n",
    "    feature_selection = dict()\n",
    "else:\n",
    "    with open(fs_path, 'r') as f:\n",
    "        feature_selection = json.load(f)\n",
    "\n",
    "# Extract the selected features\n",
    "numerical_cols = feature_selection.get('numerical', None)\n",
    "categorical_cols = feature_selection.get('categorical', None)\n",
    "\n",
    "# text_cols = [\"LudRules\",]\n",
    "text_cols = list()\n",
    "\n",
    "print(\"Numerical features:\", len(numerical_cols) if numerical_cols else 0)\n",
    "print(\"Categorical features:\", len(categorical_cols) if categorical_cols else 0)\n",
    "print(\"Text features:\", len(text_cols) if text_cols else 0)"
   ]
  },
  {
   "cell_type": "code",
   "execution_count": null,
   "id": "09260e31",
   "metadata": {
    "execution": {
     "iopub.execute_input": "2024-11-25T04:28:39.824466Z",
     "iopub.status.busy": "2024-11-25T04:28:39.824358Z",
     "iopub.status.idle": "2024-11-25T04:28:41.690094Z",
     "shell.execute_reply": "2024-11-25T04:28:41.689790Z"
    },
    "papermill": {
     "duration": 1.868874,
     "end_time": "2024-11-25T04:28:41.690866",
     "exception": false,
     "start_time": "2024-11-25T04:28:39.821992",
     "status": "completed"
    },
    "tags": []
   },
   "outputs": [],
   "source": [
    "df_train, numerical_cols, categorical_cols, encoder, scaler = process_train_data(\n",
    "    df_train,\n",
    "    scale=False,\n",
    "    numerical_cols=numerical_cols,\n",
    "    categorical_cols=categorical_cols,\n",
    "    include_position_features=True,\n",
    "    include_text_features=False,\n",
    ")\n",
    "\n",
    "# Print the results\n",
    "print(\"Numerical Columns:\", len(numerical_cols))\n",
    "print(\"Categorical Columns:\", len(categorical_cols))"
   ]
  },
  {
   "cell_type": "code",
   "execution_count": null,
   "id": "685ac114",
   "metadata": {
    "execution": {
     "iopub.execute_input": "2024-11-25T04:28:41.695129Z",
     "iopub.status.busy": "2024-11-25T04:28:41.695011Z",
     "iopub.status.idle": "2024-11-25T04:28:41.789312Z",
     "shell.execute_reply": "2024-11-25T04:28:41.788849Z"
    },
    "papermill": {
     "duration": 0.097311,
     "end_time": "2024-11-25T04:28:41.790220",
     "exception": false,
     "start_time": "2024-11-25T04:28:41.692909",
     "status": "completed"
    },
    "tags": []
   },
   "outputs": [],
   "source": [
    "plt.hist(df_train['utility_agent1'], bins=100)\n",
    "plt.title('Distribution of Target Variable')\n",
    "plt.xlabel('Utility Agent 1')\n",
    "plt.ylabel('Frequency')\n",
    "plt.show()"
   ]
  },
  {
   "cell_type": "code",
   "execution_count": 8,
   "id": "7d12fe75",
   "metadata": {
    "execution": {
     "iopub.execute_input": "2024-11-25T04:28:41.794787Z",
     "iopub.status.busy": "2024-11-25T04:28:41.794644Z",
     "iopub.status.idle": "2024-11-25T04:28:41.799693Z",
     "shell.execute_reply": "2024-11-25T04:28:41.799447Z"
    },
    "papermill": {
     "duration": 0.008161,
     "end_time": "2024-11-25T04:28:41.800444",
     "exception": false,
     "start_time": "2024-11-25T04:28:41.792283",
     "status": "completed"
    },
    "tags": []
   },
   "outputs": [],
   "source": [
    "split1 = pickle.load(open('../data/splits/cv1_Game.pkl', 'rb'))\n",
    "split2 = pickle.load(open('../data/splits/cv2_Game.pkl', 'rb'))\n",
    "split3 = pickle.load(open('../data/splits/cv3_Game.pkl', 'rb'))\n",
    "\n",
    "# split1 = pickle.load(open('../data/splits/cv1_GameRulesetName.pkl', 'rb'))\n",
    "# split2 = pickle.load(open('../data/splits/cv2_GameRulesetName.pkl', 'rb'))\n",
    "# split3 = pickle.load(open('../data/splits/cv3_GameRulesetName.pkl', 'rb'))"
   ]
  },
  {
   "cell_type": "markdown",
   "id": "585a47da",
   "metadata": {
    "papermill": {
     "duration": 0.001877,
     "end_time": "2024-11-25T04:28:41.804552",
     "exception": false,
     "start_time": "2024-11-25T04:28:41.802675",
     "status": "completed"
    },
    "tags": []
   },
   "source": [
    "***\n",
    "### train model\n"
   ]
  },
  {
   "cell_type": "code",
   "execution_count": null,
   "id": "f0727719",
   "metadata": {},
   "outputs": [],
   "source": [
    "if train_type == \"small\":\n",
    "    LEARNING_RATE = 0.08\n",
    "    NUM_BOOST_ROUND = 2500\n",
    "elif train_type == \"medium\":\n",
    "    LEARNING_RATE = 0.04\n",
    "    NUM_BOOST_ROUND = 5000\n",
    "elif train_type == \"large\":\n",
    "    LEARNING_RATE = 0.02\n",
    "    NUM_BOOST_ROUND = 10_000\n",
    "elif train_type == \"xlarge\":\n",
    "    LEARNING_RATE = 0.01\n",
    "    NUM_BOOST_ROUND = 20_000\n",
    "\n",
    "\n",
    "print(LEARNING_RATE, NUM_BOOST_ROUND)"
   ]
  },
  {
   "cell_type": "code",
   "execution_count": 10,
   "id": "152941ef",
   "metadata": {
    "execution": {
     "iopub.execute_input": "2024-11-25T04:28:41.808755Z",
     "iopub.status.busy": "2024-11-25T04:28:41.808630Z",
     "iopub.status.idle": "2024-11-25T04:28:41.814573Z",
     "shell.execute_reply": "2024-11-25T04:28:41.814333Z"
    },
    "papermill": {
     "duration": 0.008975,
     "end_time": "2024-11-25T04:28:41.815317",
     "exception": false,
     "start_time": "2024-11-25T04:28:41.806342",
     "status": "completed"
    },
    "tags": []
   },
   "outputs": [],
   "source": [
    "def train_models(\n",
    "        df_train,\n",
    "        numerical_cols,\n",
    "        categorical_cols,\n",
    "        target='utility_agent1',\n",
    "        split_list=None,\n",
    "    ):\n",
    "    # Define the parameters\n",
    "    params = {\n",
    "        'objective': \"regression\",\n",
    "        'metric': 'rmse',\n",
    "        'boosting': 'gbdt',\n",
    "        ###################\n",
    "        'num_leaves': 31,\n",
    "        'max_depth': 12,\n",
    "        'learning_rate': LEARNING_RATE,\n",
    "        ###################\n",
    "        'min_data_in_leaf': 100,\n",
    "        'bagging_freq': 1,\n",
    "        'bagging_fraction': 0.8,\n",
    "        'feature_fraction': 0.5,\n",
    "        'verbose': -1,\n",
    "        'seed': 2112,\n",
    "    }\n",
    "\n",
    "    trained_models = []\n",
    "    oof = pd.DataFrame(\n",
    "        index=df_train.index,\n",
    "        columns=[f'{target}_true', f'{target}_pred', 'fold']\n",
    "    )\n",
    "    oof_scores = []\n",
    "    feat_importance_dfs = []\n",
    "\n",
    "    # Perform cross-validation\n",
    "    for fold, (train_index, val_index) in enumerate(split_list, 1):\n",
    "        print(f\"Fold {fold}\")\n",
    "        \n",
    "        # Split the data\n",
    "        X_train, X_val = df_train.iloc[train_index], df_train.iloc[val_index]\n",
    "        y_train, y_val = X_train[target], X_val[target]\n",
    "        \n",
    "        # Create LightGBM datasets\n",
    "        train_data = lgb.Dataset(\n",
    "            data=X_train[numerical_cols + categorical_cols],\n",
    "            label=y_train,\n",
    "            categorical_feature=categorical_cols,\n",
    "            free_raw_data=True\n",
    "        )\n",
    "        val_data = lgb.Dataset(\n",
    "            data=X_val[numerical_cols + categorical_cols],\n",
    "            label=y_val,\n",
    "            categorical_feature=categorical_cols,\n",
    "            free_raw_data=True\n",
    "        )\n",
    "\n",
    "        # Train the model\n",
    "        model = lgb.train(\n",
    "            params,\n",
    "            train_data,\n",
    "            num_boost_round=NUM_BOOST_ROUND,\n",
    "            valid_sets=[val_data],\n",
    "            callbacks=[\n",
    "                lgb.log_evaluation(period=100),\n",
    "            ]\n",
    "        )\n",
    "        \n",
    "        # Get feature importance for this fold\n",
    "        feat_importance = pd.DataFrame({\n",
    "            'feature': numerical_cols + categorical_cols,\n",
    "            f'importance_f{fold}': model.feature_importance(importance_type='gain')\n",
    "        })\n",
    "        feat_importance_dfs.append(feat_importance)\n",
    "        \n",
    "        # Plot feature importance\n",
    "        lgb.plot_importance(model, figsize=(10, 8), importance_type='gain', max_num_features=50)\n",
    "        plt.title('Top 50 Features by Importance')\n",
    "        plt.tight_layout()\n",
    "        plt.show()\n",
    "        \n",
    "        # Save the trained model to the list\n",
    "        trained_models.append(model)\n",
    "\n",
    "        # predict on validation set\n",
    "        y_pred = model.predict(X_val[numerical_cols + categorical_cols])\n",
    "\n",
    "        # Save out-of-fold predictions\n",
    "        oof.loc[val_index, f'{target}_true'] = y_val\n",
    "        oof.loc[val_index, f'{target}_pred'] = y_pred\n",
    "        oof.loc[val_index, 'fold'] = fold\n",
    "        \n",
    "        # Compute RMSE\n",
    "        y_pred = np.clip(y_pred, -1, 1)\n",
    "        rmse = np.sqrt(np.mean((y_pred - y_val) ** 2))\n",
    "        print(f\"Fold {fold} - RMSE: {rmse}\")\n",
    "\n",
    "        # Save RMSE to the list\n",
    "        oof_scores.append(rmse)\n",
    "\n",
    "    # Combine feature importance dataframes\n",
    "    importance_df = feat_importance_dfs[0]\n",
    "    for df in feat_importance_dfs[1:]:\n",
    "        importance_df = importance_df.merge(df, on='feature')\n",
    "    \n",
    "    # Calculate mean importance across folds\n",
    "    importance_cols = [col for col in importance_df.columns if col.startswith('importance_f')]\n",
    "    importance_df['importance_mean'] = importance_df[importance_cols].mean(axis=1)\n",
    "    importance_df = importance_df.sort_values('importance_mean', ascending=False, ignore_index=True)\n",
    "    importance_df['importance_relative'] = (\n",
    "        importance_df['importance_mean'] / \n",
    "        importance_df['importance_mean'].sum()\n",
    "    )\n",
    "\n",
    "    # Print the list of oof scores and average oof score\n",
    "    print(\"List of oof scores:\", oof_scores)\n",
    "    print(\"Average oof score:\", np.mean(oof_scores))\n",
    "    \n",
    "    return trained_models, oof, oof_scores, importance_df"
   ]
  },
  {
   "cell_type": "code",
   "execution_count": null,
   "id": "adfa9207",
   "metadata": {
    "execution": {
     "iopub.execute_input": "2024-11-25T04:28:41.820046Z",
     "iopub.status.busy": "2024-11-25T04:28:41.819933Z",
     "iopub.status.idle": "2024-11-25T04:30:17.443647Z",
     "shell.execute_reply": "2024-11-25T04:30:17.443286Z"
    },
    "papermill": {
     "duration": 95.626905,
     "end_time": "2024-11-25T04:30:17.444397",
     "exception": false,
     "start_time": "2024-11-25T04:28:41.817492",
     "status": "completed"
    },
    "tags": []
   },
   "outputs": [],
   "source": [
    "# call the function\n",
    "trained_models1, oof1, oof_scores1, importance_df1 = train_models(\n",
    "    df_train,\n",
    "    numerical_cols,\n",
    "    categorical_cols,\n",
    "    split_list=split1,\n",
    ")\n",
    "# save oof predictions\n",
    "oof1.to_parquet(path_results / f'oof_lightgbm_{fs_type}_cv1.parquet', index=False)"
   ]
  },
  {
   "cell_type": "code",
   "execution_count": null,
   "id": "dfeebae7",
   "metadata": {
    "execution": {
     "iopub.execute_input": "2024-11-25T04:30:17.470277Z",
     "iopub.status.busy": "2024-11-25T04:30:17.470119Z",
     "iopub.status.idle": "2024-11-25T04:30:17.471920Z",
     "shell.execute_reply": "2024-11-25T04:30:17.471654Z"
    },
    "papermill": {
     "duration": 0.015811,
     "end_time": "2024-11-25T04:30:17.472655",
     "exception": false,
     "start_time": "2024-11-25T04:30:17.456844",
     "status": "completed"
    },
    "tags": []
   },
   "outputs": [],
   "source": [
    "# call the function\n",
    "trained_models2, oof2, oof_scores2, importance_df2 = train_models(\n",
    "    df_train,\n",
    "    numerical_cols,\n",
    "    categorical_cols,\n",
    "    split_list=split2,\n",
    ")\n",
    "# save oof predictions\n",
    "oof2.to_parquet(path_results / f'oof_lightgbm_{fs_type}_cv2.parquet', index=False)"
   ]
  },
  {
   "cell_type": "code",
   "execution_count": 10,
   "id": "e69ddf4c",
   "metadata": {
    "execution": {
     "iopub.execute_input": "2024-11-25T04:30:17.498474Z",
     "iopub.status.busy": "2024-11-25T04:30:17.498332Z",
     "iopub.status.idle": "2024-11-25T04:30:17.500057Z",
     "shell.execute_reply": "2024-11-25T04:30:17.499800Z"
    },
    "papermill": {
     "duration": 0.015273,
     "end_time": "2024-11-25T04:30:17.500767",
     "exception": false,
     "start_time": "2024-11-25T04:30:17.485494",
     "status": "completed"
    },
    "tags": []
   },
   "outputs": [],
   "source": [
    "# call the function\n",
    "trained_models3, oof3, oof_scores3, importance_df3 = train_models(\n",
    "    df_train,\n",
    "    numerical_cols,\n",
    "    categorical_cols,\n",
    "    split_list=split3,\n",
    ")\n",
    "# save oof predictions\n",
    "oof3.to_parquet(path_results / f'oof_lightgbm_{fs_type}_cv3.parquet', index=False)"
   ]
  },
  {
   "cell_type": "code",
   "execution_count": null,
   "id": "0ab53318",
   "metadata": {},
   "outputs": [],
   "source": [
    "# Print summary of OOF scores for each CV fold\n",
    "print(\"CV1 OOF Scores:\")\n",
    "for score in oof_scores1:\n",
    "    print(f\"Score: {score:.4f}\")\n",
    "print(f\"Average CV1 Score: {sum(oof_scores1)/len(oof_scores1):.4f}\")\n",
    "    \n",
    "print(\"\\nCV2 OOF Scores:\")  \n",
    "for score in oof_scores2:\n",
    "    print(f\"Score: {score:.4f}\")\n",
    "print(f\"Average CV2 Score: {sum(oof_scores2)/len(oof_scores2):.4f}\")\n",
    "    \n",
    "print(\"\\nCV3 OOF Scores:\")\n",
    "for score in oof_scores3:\n",
    "    print(f\"Score: {score:.4f}\")\n",
    "print(f\"Average CV3 Score: {sum(oof_scores3)/len(oof_scores3):.4f}\")"
   ]
  },
  {
   "cell_type": "code",
   "execution_count": 11,
   "id": "b7fdd144",
   "metadata": {
    "execution": {
     "iopub.execute_input": "2024-11-25T04:30:17.525438Z",
     "iopub.status.busy": "2024-11-25T04:30:17.525317Z",
     "iopub.status.idle": "2024-11-25T04:30:17.526952Z",
     "shell.execute_reply": "2024-11-25T04:30:17.526677Z"
    },
    "papermill": {
     "duration": 0.0149,
     "end_time": "2024-11-25T04:30:17.527666",
     "exception": false,
     "start_time": "2024-11-25T04:30:17.512766",
     "status": "completed"
    },
    "tags": []
   },
   "outputs": [],
   "source": [
    "trained_models = [*trained_models1, *trained_models2, *trained_models3]\n",
    "# trained_models = trained_models1"
   ]
  },
  {
   "cell_type": "code",
   "execution_count": null,
   "id": "71d16905",
   "metadata": {
    "execution": {
     "iopub.execute_input": "2024-11-25T04:30:17.551877Z",
     "iopub.status.busy": "2024-11-25T04:30:17.551773Z",
     "iopub.status.idle": "2024-11-25T04:30:17.654717Z",
     "shell.execute_reply": "2024-11-25T04:30:17.654466Z"
    },
    "papermill": {
     "duration": 0.115846,
     "end_time": "2024-11-25T04:30:17.655481",
     "exception": false,
     "start_time": "2024-11-25T04:30:17.539635",
     "status": "completed"
    },
    "tags": []
   },
   "outputs": [],
   "source": [
    "plt.hist(oof1['utility_agent1_true'], alpha=0.5, label='Target')\n",
    "plt.hist(oof1['utility_agent1_pred'], alpha=0.5, label='Prediction')\n",
    "plt.legend()\n",
    "plt.show()"
   ]
  },
  {
   "cell_type": "markdown",
   "id": "d3f4eb89",
   "metadata": {
    "papermill": {
     "duration": 0.012759,
     "end_time": "2024-11-25T04:30:17.681992",
     "exception": false,
     "start_time": "2024-11-25T04:30:17.669233",
     "status": "completed"
    },
    "tags": []
   },
   "source": [
    "***\n",
    "### inference"
   ]
  },
  {
   "cell_type": "code",
   "execution_count": 13,
   "id": "4470716a",
   "metadata": {
    "execution": {
     "iopub.execute_input": "2024-11-25T04:30:17.708991Z",
     "iopub.status.busy": "2024-11-25T04:30:17.708846Z",
     "iopub.status.idle": "2024-11-25T04:30:17.855204Z",
     "shell.execute_reply": "2024-11-25T04:30:17.854278Z"
    },
    "papermill": {
     "duration": 0.161436,
     "end_time": "2024-11-25T04:30:17.856384",
     "exception": false,
     "start_time": "2024-11-25T04:30:17.694948",
     "status": "completed"
    },
    "tags": []
   },
   "outputs": [],
   "source": [
    "import os\n",
    "import polars as pl\n",
    "sys.path.append(\"../data/raw/\")\n",
    "import kaggle_evaluation.mcts_inference_server"
   ]
  },
  {
   "cell_type": "code",
   "execution_count": 14,
   "id": "1b97d8dc",
   "metadata": {
    "execution": {
     "iopub.execute_input": "2024-11-25T04:30:17.884026Z",
     "iopub.status.busy": "2024-11-25T04:30:17.883808Z",
     "iopub.status.idle": "2024-11-25T04:30:17.886347Z",
     "shell.execute_reply": "2024-11-25T04:30:17.886104Z"
    },
    "papermill": {
     "duration": 0.017242,
     "end_time": "2024-11-25T04:30:17.887036",
     "exception": false,
     "start_time": "2024-11-25T04:30:17.869794",
     "status": "completed"
    },
    "tags": []
   },
   "outputs": [],
   "source": [
    "def predict(test: pl.DataFrame, sample_sub: pl.DataFrame,):   \n",
    "    # Convert Polars DataFrame to Pandas DataFrame\n",
    "    test_pd = test.to_pandas()\n",
    "    \n",
    "    # Process the test data\n",
    "    test_processed = process_test_data(\n",
    "        test_pd,\n",
    "        numerical_cols,\n",
    "        categorical_cols,\n",
    "        encoder,\n",
    "        scaler\n",
    "    )\n",
    "\n",
    "    # Average predictions from all models\n",
    "    predictions = [\n",
    "        model.predict(test_processed[numerical_cols + categorical_cols]) \n",
    "        for model in trained_models\n",
    "    ]\n",
    "    predictions = np.mean(predictions, axis=0)\n",
    "    predictions = np.clip(predictions, -1, 1)\n",
    "        \n",
    "    # Create the submission DataFrame\n",
    "    submission = sample_sub.with_columns(pl.Series(\"utility_agent1\", predictions))\n",
    "    \n",
    "    return submission"
   ]
  },
  {
   "cell_type": "code",
   "execution_count": null,
   "id": "9988b479",
   "metadata": {
    "execution": {
     "iopub.execute_input": "2024-11-25T04:30:17.911926Z",
     "iopub.status.busy": "2024-11-25T04:30:17.911799Z",
     "iopub.status.idle": "2024-11-25T04:30:17.986394Z",
     "shell.execute_reply": "2024-11-25T04:30:17.986147Z"
    },
    "papermill": {
     "duration": 0.087692,
     "end_time": "2024-11-25T04:30:17.987084",
     "exception": false,
     "start_time": "2024-11-25T04:30:17.899392",
     "status": "completed"
    },
    "tags": []
   },
   "outputs": [],
   "source": [
    "# sanity check\n",
    "df_test = pl.read_csv('../data/raw/test.csv')\n",
    "sample_sub = pl.read_csv('../data/raw/sample_submission.csv')\n",
    "predict(df_test, sample_sub)"
   ]
  },
  {
   "cell_type": "code",
   "execution_count": 16,
   "id": "377796df",
   "metadata": {
    "execution": {
     "iopub.execute_input": "2024-11-25T04:30:18.025695Z",
     "iopub.status.busy": "2024-11-25T04:30:18.025555Z",
     "iopub.status.idle": "2024-11-25T04:30:18.134950Z",
     "shell.execute_reply": "2024-11-25T04:30:18.134658Z"
    },
    "papermill": {
     "duration": 0.123875,
     "end_time": "2024-11-25T04:30:18.135774",
     "exception": false,
     "start_time": "2024-11-25T04:30:18.011899",
     "status": "completed"
    },
    "tags": []
   },
   "outputs": [],
   "source": [
    "inference_server = kaggle_evaluation.mcts_inference_server.MCTSInferenceServer(predict)\n",
    "\n",
    "if os.getenv('KAGGLE_IS_COMPETITION_RERUN'):\n",
    "    inference_server.serve()\n",
    "else:\n",
    "    inference_server.run_local_gateway(\n",
    "        (\n",
    "            '../data/raw/test.csv',\n",
    "            '../data/raw/sample_submission.csv'\n",
    "        )\n",
    "    )"
   ]
  },
  {
   "cell_type": "code",
   "execution_count": 17,
   "id": "8685234b",
   "metadata": {
    "execution": {
     "iopub.execute_input": "2024-11-25T04:30:18.162397Z",
     "iopub.status.busy": "2024-11-25T04:30:18.162260Z",
     "iopub.status.idle": "2024-11-25T04:30:18.309101Z",
     "shell.execute_reply": "2024-11-25T04:30:18.308813Z"
    },
    "papermill": {
     "duration": 0.161417,
     "end_time": "2024-11-25T04:30:18.309963",
     "exception": false,
     "start_time": "2024-11-25T04:30:18.148546",
     "status": "completed"
    },
    "tags": []
   },
   "outputs": [],
   "source": [
    "# Save all artifacts needed for prediction\n",
    "lightgbm_predict = {\n",
    "    'models': trained_models,\n",
    "    'numerical_cols': numerical_cols,\n",
    "    'categorical_cols': categorical_cols, \n",
    "    'encoder': encoder,\n",
    "    'scaler': scaler\n",
    "}\n",
    "\n",
    "with open(f'./lightgbm_predict_{fs_type}.pkl', 'wb') as f:\n",
    "    pickle.dump(lightgbm_predict, f)"
   ]
  },
  {
   "cell_type": "markdown",
   "id": "53d61265",
   "metadata": {
    "papermill": {
     "duration": 0.013199,
     "end_time": "2024-11-25T04:30:18.336341",
     "exception": false,
     "start_time": "2024-11-25T04:30:18.323142",
     "status": "completed"
    },
    "tags": []
   },
   "source": [
    "***"
   ]
  }
 ],
 "metadata": {
  "kernelspec": {
   "display_name": "mcts-strength-variants-kSTIVMm8-py3.10",
   "language": "python",
   "name": "python3"
  },
  "language_info": {
   "codemirror_mode": {
    "name": "ipython",
    "version": 3
   },
   "file_extension": ".py",
   "mimetype": "text/x-python",
   "name": "python",
   "nbconvert_exporter": "python",
   "pygments_lexer": "ipython3",
   "version": "3.10.12"
  },
  "papermill": {
   "default_parameters": {},
   "duration": 106.386821,
   "end_time": "2024-11-25T04:30:18.768144",
   "environment_variables": {},
   "exception": null,
   "input_path": "train/lightgbm.ipynb",
   "output_path": "train/lightgbm.ipynb",
   "parameters": {},
   "start_time": "2024-11-25T04:28:32.381323",
   "version": "2.6.0"
  }
 },
 "nbformat": 4,
 "nbformat_minor": 5
}
