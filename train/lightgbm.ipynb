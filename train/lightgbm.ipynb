{
 "cells": [
  {
   "cell_type": "code",
   "execution_count": null,
   "id": "ec0de1ef",
   "metadata": {
    "execution": {
     "iopub.execute_input": "2024-09-28T16:04:18.614886Z",
     "iopub.status.busy": "2024-09-28T16:04:18.614417Z",
     "iopub.status.idle": "2024-09-28T16:04:20.615889Z",
     "shell.execute_reply": "2024-09-28T16:04:20.615481Z"
    },
    "papermill": {
     "duration": 2.008861,
     "end_time": "2024-09-28T16:04:20.617243",
     "exception": false,
     "start_time": "2024-09-28T16:04:18.608382",
     "status": "completed"
    },
    "tags": []
   },
   "outputs": [],
   "source": [
    "import numpy as np\n",
    "import pandas as pd\n",
    "import matplotlib.pyplot as plt\n",
    "from pathlib import Path\n",
    "\n",
    "import lightgbm as lgb\n",
    "from sklearn.model_selection import GroupKFold\n",
    "\n",
    "print(\"Lightgbm version:\", lgb.__version__)\n",
    "\n",
    "# local modules\n",
    "import sys\n",
    "sys.path.append(\"../src\")\n",
    "from preproc import process_train_data, process_test_data"
   ]
  },
  {
   "cell_type": "markdown",
   "id": "5b24d8a2",
   "metadata": {
    "papermill": {
     "duration": 0.001015,
     "end_time": "2024-09-28T16:04:20.619996",
     "exception": false,
     "start_time": "2024-09-28T16:04:20.618981",
     "status": "completed"
    },
    "tags": []
   },
   "source": [
    "***\n",
    "### load and preprocess data"
   ]
  },
  {
   "cell_type": "code",
   "execution_count": null,
   "id": "7c89cd9d",
   "metadata": {
    "execution": {
     "iopub.execute_input": "2024-09-28T16:04:20.622626Z",
     "iopub.status.busy": "2024-09-28T16:04:20.622407Z",
     "iopub.status.idle": "2024-09-28T16:04:26.979221Z",
     "shell.execute_reply": "2024-09-28T16:04:26.978970Z"
    },
    "papermill": {
     "duration": 6.359162,
     "end_time": "2024-09-28T16:04:26.980076",
     "exception": false,
     "start_time": "2024-09-28T16:04:20.620914",
     "status": "completed"
    },
    "tags": []
   },
   "outputs": [],
   "source": [
    "# define some paths\n",
    "path_raw = Path(\"../data/raw\")\n",
    "path_processed = Path(\"../data/processed\")\n",
    "path_results = Path(\"../data/results\")\n",
    "\n",
    "# load data\n",
    "df_train = pd.read_csv(path_raw / \"train.csv\")\n",
    "df_test = pd.read_csv(path_raw / \"test.csv\")\n",
    "\n",
    "df_train"
   ]
  },
  {
   "cell_type": "code",
   "execution_count": null,
   "id": "09260e31",
   "metadata": {
    "execution": {
     "iopub.execute_input": "2024-09-28T16:04:26.983331Z",
     "iopub.status.busy": "2024-09-28T16:04:26.983213Z",
     "iopub.status.idle": "2024-09-28T16:04:29.602463Z",
     "shell.execute_reply": "2024-09-28T16:04:29.602165Z"
    },
    "papermill": {
     "duration": 2.621724,
     "end_time": "2024-09-28T16:04:29.603422",
     "exception": false,
     "start_time": "2024-09-28T16:04:26.981698",
     "status": "completed"
    },
    "tags": []
   },
   "outputs": [],
   "source": [
    "# Call the function\n",
    "df_train, numerical_cols, categorical_cols, encoder, scaler = process_train_data(\n",
    "    df_train,\n",
    "    scale=False\n",
    ")\n",
    "\n",
    "# Print the results\n",
    "print(\"Numerical Columns:\", len(numerical_cols))\n",
    "print(\"Categorical Columns:\", len(categorical_cols))"
   ]
  },
  {
   "cell_type": "code",
   "execution_count": null,
   "id": "685ac114",
   "metadata": {
    "execution": {
     "iopub.execute_input": "2024-09-28T16:04:29.607882Z",
     "iopub.status.busy": "2024-09-28T16:04:29.607748Z",
     "iopub.status.idle": "2024-09-28T16:04:31.210950Z",
     "shell.execute_reply": "2024-09-28T16:04:31.210603Z"
    },
    "papermill": {
     "duration": 1.606227,
     "end_time": "2024-09-28T16:04:31.211945",
     "exception": false,
     "start_time": "2024-09-28T16:04:29.605718",
     "status": "completed"
    },
    "tags": []
   },
   "outputs": [],
   "source": [
    "plt.hist(df_train['utility_agent1'], bins=100)\n",
    "plt.title('Distribution of Target Variable')\n",
    "plt.xlabel('Utility Agent 1')\n",
    "plt.ylabel('Frequency')\n",
    "plt.show()"
   ]
  },
  {
   "cell_type": "markdown",
   "id": "585a47da",
   "metadata": {
    "papermill": {
     "duration": 0.001529,
     "end_time": "2024-09-28T16:04:31.215374",
     "exception": false,
     "start_time": "2024-09-28T16:04:31.213845",
     "status": "completed"
    },
    "tags": []
   },
   "source": [
    "***\n",
    "### train model\n"
   ]
  },
  {
   "cell_type": "code",
   "execution_count": null,
   "id": "152941ef",
   "metadata": {
    "execution": {
     "iopub.execute_input": "2024-09-28T16:04:31.218863Z",
     "iopub.status.busy": "2024-09-28T16:04:31.218731Z",
     "iopub.status.idle": "2024-09-28T16:37:09.743302Z",
     "shell.execute_reply": "2024-09-28T16:37:09.742956Z"
    },
    "papermill": {
     "duration": 1958.527376,
     "end_time": "2024-09-28T16:37:09.744195",
     "exception": false,
     "start_time": "2024-09-28T16:04:31.216819",
     "status": "completed"
    },
    "tags": []
   },
   "outputs": [],
   "source": [
    "# Define the number of folds for cross-validation\n",
    "num_folds = 5\n",
    "\n",
    "# Define the column for stratified or group k-fold\n",
    "groups_col = 'GameRulesetName'\n",
    "gkf = GroupKFold(n_splits=num_folds)\n",
    "split_list = gkf.split(df_train, groups=df_train[groups_col])\n",
    "\n",
    "target = 'utility_agent1'\n",
    "\n",
    "# Define the parameters\n",
    "params = {\n",
    "    'objective': \"regression\",\n",
    "    'metric': 'rmse',\n",
    "    'boosting_type': 'gbdt',\n",
    "    'num_leaves': 63,\n",
    "    'max_depth': 10,\n",
    "    'learning_rate': 0.03,\n",
    "    'reg_alpha': 0.5,\n",
    "    'reg_lambda': 0.5,\n",
    "    'verbose': -1,\n",
    "    'seed': 2112,\n",
    "}\n",
    "\n",
    "trained_models = []\n",
    "oof = pd.DataFrame(index=df_train.index, columns=['utility_agent1_true', 'utility_agent1_pred'])\n",
    "oof_scores = []\n",
    "\n",
    "# Perform cross-validation\n",
    "for fold, (train_index, val_index) in enumerate(split_list, 1):\n",
    "    print(f\"Fold {fold}\")\n",
    "    \n",
    "    # Split the data\n",
    "    X_train, X_val = df_train.iloc[train_index], df_train.iloc[val_index]\n",
    "    y_train, y_val = X_train[target], X_val[target]\n",
    "    \n",
    "    # Create LightGBM datasets\n",
    "    train_data = lgb.Dataset(\n",
    "        data=X_train[numerical_cols + categorical_cols],\n",
    "        label=y_train,\n",
    "        categorical_feature=categorical_cols,\n",
    "        free_raw_data=True\n",
    "    )\n",
    "    val_data = lgb.Dataset(\n",
    "        data=X_val[numerical_cols + categorical_cols],\n",
    "        label=y_val,\n",
    "        categorical_feature=categorical_cols,\n",
    "        free_raw_data=True\n",
    "    )\n",
    "\n",
    "    # Train the model\n",
    "    model = lgb.train(\n",
    "        params,\n",
    "        train_data,\n",
    "        num_boost_round=20000,\n",
    "        valid_sets=[val_data],\n",
    "        callbacks=[\n",
    "            lgb.log_evaluation(period=50),\n",
    "            lgb.early_stopping(stopping_rounds=100)\n",
    "        ]\n",
    "    )\n",
    "    \n",
    "    # Save the trained model to the list\n",
    "    trained_models.append(model)\n",
    "\n",
    "    # predict on validation set\n",
    "    y_pred = model.predict(X_val[numerical_cols + categorical_cols])\n",
    "    y_pred = np.clip(y_pred, -1, 1)\n",
    "    \n",
    "    # Compute RMSE on scaled values\n",
    "    rmse = np.sqrt(np.mean((y_pred - y_val) ** 2))\n",
    "    print(f\"Fold {fold} - RMSE: {rmse}\")\n",
    "\n",
    "    # Save out-of-fold predictions\n",
    "    oof.loc[val_index, 'utility_agent1_true'] = y_val\n",
    "    oof.loc[val_index, 'utility_agent1_pred'] = y_pred\n",
    "\n",
    "    # Save RMSE to the list\n",
    "    oof_scores.append(rmse)\n",
    "\n",
    "# Print the list of oof scores and average oof score\n",
    "print(\"List of oof scores:\", oof_scores)\n",
    "print(\"Average oof score:\", np.mean(oof_scores))\n",
    "\n",
    "# save oof predictions\n",
    "oof.to_csv(path_results / 'oof_lightgbm.csv', index=False)"
   ]
  },
  {
   "cell_type": "markdown",
   "id": "b78fa704",
   "metadata": {},
   "source": [
    "List of oof scores: [0.4442422925327311, 0.4543124596316202, 0.4483687083858615, 0.4297900992443563, 0.43324831981607104]\n"
   ]
  },
  {
   "cell_type": "code",
   "execution_count": null,
   "id": "71d16905",
   "metadata": {
    "execution": {
     "iopub.execute_input": "2024-09-28T16:37:09.762190Z",
     "iopub.status.busy": "2024-09-28T16:37:09.762075Z",
     "iopub.status.idle": "2024-09-28T16:37:09.866487Z",
     "shell.execute_reply": "2024-09-28T16:37:09.866192Z"
    },
    "papermill": {
     "duration": 0.114532,
     "end_time": "2024-09-28T16:37:09.867406",
     "exception": false,
     "start_time": "2024-09-28T16:37:09.752874",
     "status": "completed"
    },
    "tags": []
   },
   "outputs": [],
   "source": [
    "plt.hist(oof['utility_agent1_true'], alpha=0.5, label='Target')\n",
    "plt.hist(oof['utility_agent1_pred'], alpha=0.5, label='Prediction')\n",
    "plt.legend()\n",
    "plt.show()"
   ]
  },
  {
   "cell_type": "markdown",
   "id": "d3f4eb89",
   "metadata": {},
   "source": [
    "***\n",
    "### inference"
   ]
  },
  {
   "cell_type": "code",
   "execution_count": 7,
   "id": "4470716a",
   "metadata": {},
   "outputs": [],
   "source": [
    "import os\n",
    "import polars as pl\n",
    "sys.path.append(\"../data/raw/\")\n",
    "import kaggle_evaluation.mcts_inference_server"
   ]
  },
  {
   "cell_type": "code",
   "execution_count": 8,
   "id": "1b97d8dc",
   "metadata": {},
   "outputs": [],
   "source": [
    "def predict(test: pl.DataFrame, sample_sub: pl.DataFrame):\n",
    "    # Convert Polars DataFrame to Pandas DataFrame\n",
    "    test_pd = test.to_pandas()\n",
    "    \n",
    "    # Process the test data\n",
    "    test_processed = process_test_data(\n",
    "        test_pd,\n",
    "        numerical_cols,\n",
    "        categorical_cols,\n",
    "        encoder,\n",
    "        scaler\n",
    "    )\n",
    "\n",
    "    # Average predictions from all models\n",
    "    predictions = [\n",
    "        model.predict(test_processed[numerical_cols + categorical_cols]) \n",
    "        for model in trained_models\n",
    "    ]\n",
    "    predictions = np.mean(predictions, axis=0)\n",
    "    predictions = np.clip(predictions, -1, 1)\n",
    "        \n",
    "    # Create the submission DataFrame\n",
    "    submission = sample_sub.with_columns(pl.Series(\"utility_agent1\", predictions))\n",
    "    \n",
    "    return submission"
   ]
  },
  {
   "cell_type": "code",
   "execution_count": 9,
   "id": "377796df",
   "metadata": {},
   "outputs": [],
   "source": [
    "inference_server = kaggle_evaluation.mcts_inference_server.MCTSInferenceServer(predict)\n",
    "\n",
    "if os.getenv('KAGGLE_IS_COMPETITION_RERUN'):\n",
    "    inference_server.serve()\n",
    "else:\n",
    "    inference_server.run_local_gateway(\n",
    "        (\n",
    "            '../data/raw/test.csv',\n",
    "            '../data/raw/sample_submission.csv'\n",
    "        )\n",
    "    )"
   ]
  },
  {
   "cell_type": "markdown",
   "id": "53d61265",
   "metadata": {
    "papermill": {
     "duration": 0.009315,
     "end_time": "2024-09-28T16:37:09.917683",
     "exception": false,
     "start_time": "2024-09-28T16:37:09.908368",
     "status": "completed"
    },
    "tags": []
   },
   "source": [
    "***"
   ]
  }
 ],
 "metadata": {
  "kernelspec": {
   "display_name": "mcts-strength-variants-kSTIVMm8-py3.10",
   "language": "python",
   "name": "python3"
  },
  "language_info": {
   "codemirror_mode": {
    "name": "ipython",
    "version": 3
   },
   "file_extension": ".py",
   "mimetype": "text/x-python",
   "name": "python",
   "nbconvert_exporter": "python",
   "pygments_lexer": "ipython3",
   "version": "3.10.12"
  },
  "papermill": {
   "default_parameters": {},
   "duration": 1972.608458,
   "end_time": "2024-09-28T16:37:10.248961",
   "environment_variables": {},
   "exception": null,
   "input_path": "train/lightgbm.ipynb",
   "output_path": "train/outputs/lightgbm.ipynb",
   "parameters": {},
   "start_time": "2024-09-28T16:04:17.640503",
   "version": "2.6.0"
  }
 },
 "nbformat": 4,
 "nbformat_minor": 5
}
