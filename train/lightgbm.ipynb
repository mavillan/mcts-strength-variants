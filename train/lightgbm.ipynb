{
 "cells": [
  {
   "cell_type": "code",
   "execution_count": null,
   "id": "ec0de1ef",
   "metadata": {
    "execution": {
     "iopub.execute_input": "2024-11-19T22:27:27.965572Z",
     "iopub.status.busy": "2024-11-19T22:27:27.965074Z",
     "iopub.status.idle": "2024-11-19T22:27:28.973858Z",
     "shell.execute_reply": "2024-11-19T22:27:28.973578Z"
    },
    "papermill": {
     "duration": 1.018662,
     "end_time": "2024-11-19T22:27:28.974686",
     "exception": false,
     "start_time": "2024-11-19T22:27:27.956024",
     "status": "completed"
    },
    "tags": []
   },
   "outputs": [],
   "source": [
    "import numpy as np\n",
    "import pandas as pd\n",
    "import matplotlib.pyplot as plt\n",
    "from pathlib import Path\n",
    "import json\n",
    "import pickle\n",
    "\n",
    "import lightgbm as lgb\n",
    "print(\"Lightgbm version:\", lgb.__version__)\n",
    "\n",
    "import sys\n",
    "sys.path.append(\"../src\")\n",
    "from preproc import process_train_data, process_test_data"
   ]
  },
  {
   "cell_type": "markdown",
   "id": "5b24d8a2",
   "metadata": {
    "papermill": {
     "duration": 0.001447,
     "end_time": "2024-11-19T22:27:28.978580",
     "exception": false,
     "start_time": "2024-11-19T22:27:28.977133",
     "status": "completed"
    },
    "tags": []
   },
   "source": [
    "***\n",
    "### load and preprocess data"
   ]
  },
  {
   "cell_type": "code",
   "execution_count": null,
   "id": "7c89cd9d",
   "metadata": {
    "execution": {
     "iopub.execute_input": "2024-11-19T22:27:28.982364Z",
     "iopub.status.busy": "2024-11-19T22:27:28.982198Z",
     "iopub.status.idle": "2024-11-19T22:27:36.052815Z",
     "shell.execute_reply": "2024-11-19T22:27:36.052502Z"
    },
    "papermill": {
     "duration": 7.074386,
     "end_time": "2024-11-19T22:27:36.054313",
     "exception": false,
     "start_time": "2024-11-19T22:27:28.979927",
     "status": "completed"
    },
    "tags": []
   },
   "outputs": [],
   "source": [
    "# define some paths\n",
    "path_raw = Path(\"../data/raw\")\n",
    "path_processed = Path(\"../data/processed\")\n",
    "path_results = Path(\"../data/results\")\n",
    "\n",
    "# load data\n",
    "df_train = pd.read_csv(path_raw / \"train.csv\")\n",
    "df_test = pd.read_csv(path_raw / \"test.csv\")\n",
    "\n",
    "df_train"
   ]
  },
  {
   "cell_type": "code",
   "execution_count": null,
   "id": "e10c978a",
   "metadata": {
    "execution": {
     "iopub.execute_input": "2024-11-19T22:27:36.059112Z",
     "iopub.status.busy": "2024-11-19T22:27:36.058992Z",
     "iopub.status.idle": "2024-11-19T22:27:36.061415Z",
     "shell.execute_reply": "2024-11-19T22:27:36.061177Z"
    },
    "papermill": {
     "duration": 0.005315,
     "end_time": "2024-11-19T22:27:36.062121",
     "exception": false,
     "start_time": "2024-11-19T22:27:36.056806",
     "status": "completed"
    },
    "tags": []
   },
   "outputs": [],
   "source": [
    "# # Load the feature selection results\n",
    "# with open('../feat_selection/select_optuna_lgbm.json', 'r') as f:\n",
    "#     feature_selection = json.load(f)\n",
    "\n",
    "# # Extract the selected features\n",
    "# numerical_cols = feature_selection.get('numerical', [])\n",
    "# categorical_cols = feature_selection.get('categorical', [])\n",
    "\n",
    "# print(\"Numerical features:\", len(numerical_cols))\n",
    "# print(\"Categorical features:\", len(categorical_cols))"
   ]
  },
  {
   "cell_type": "code",
   "execution_count": null,
   "id": "09260e31",
   "metadata": {
    "execution": {
     "iopub.execute_input": "2024-11-19T22:27:36.066157Z",
     "iopub.status.busy": "2024-11-19T22:27:36.066054Z",
     "iopub.status.idle": "2024-11-19T22:27:38.670498Z",
     "shell.execute_reply": "2024-11-19T22:27:38.670148Z"
    },
    "papermill": {
     "duration": 2.607251,
     "end_time": "2024-11-19T22:27:38.671242",
     "exception": false,
     "start_time": "2024-11-19T22:27:36.063991",
     "status": "completed"
    },
    "tags": []
   },
   "outputs": [],
   "source": [
    "df_train, numerical_cols, categorical_cols, encoder, scaler = process_train_data(\n",
    "    df_train,\n",
    "    scale=False,\n",
    "    # numerical_cols=numerical_cols,\n",
    "    # categorical_cols=categorical_cols,\n",
    "    include_position_features=False,\n",
    "    include_text_features=False,\n",
    ")\n",
    "\n",
    "# Print the results\n",
    "print(\"Numerical Columns:\", len(numerical_cols))\n",
    "print(\"Categorical Columns:\", len(categorical_cols))"
   ]
  },
  {
   "cell_type": "code",
   "execution_count": null,
   "id": "685ac114",
   "metadata": {
    "execution": {
     "iopub.execute_input": "2024-11-19T22:27:38.675795Z",
     "iopub.status.busy": "2024-11-19T22:27:38.675683Z",
     "iopub.status.idle": "2024-11-19T22:27:38.778146Z",
     "shell.execute_reply": "2024-11-19T22:27:38.777726Z"
    },
    "papermill": {
     "duration": 0.105702,
     "end_time": "2024-11-19T22:27:38.779159",
     "exception": false,
     "start_time": "2024-11-19T22:27:38.673457",
     "status": "completed"
    },
    "tags": []
   },
   "outputs": [],
   "source": [
    "plt.hist(df_train['utility_agent1'], bins=100)\n",
    "plt.title('Distribution of Target Variable')\n",
    "plt.xlabel('Utility Agent 1')\n",
    "plt.ylabel('Frequency')\n",
    "plt.show()"
   ]
  },
  {
   "cell_type": "code",
   "execution_count": 6,
   "id": "7d12fe75",
   "metadata": {
    "execution": {
     "iopub.execute_input": "2024-11-19T22:27:38.784671Z",
     "iopub.status.busy": "2024-11-19T22:27:38.784536Z",
     "iopub.status.idle": "2024-11-19T22:27:38.789817Z",
     "shell.execute_reply": "2024-11-19T22:27:38.789527Z"
    },
    "papermill": {
     "duration": 0.008995,
     "end_time": "2024-11-19T22:27:38.790632",
     "exception": false,
     "start_time": "2024-11-19T22:27:38.781637",
     "status": "completed"
    },
    "tags": []
   },
   "outputs": [],
   "source": [
    "split1 = pickle.load(open('../data/splits/cv1_Game.pkl', 'rb'))\n",
    "\n",
    "# split1 = pickle.load(open('../data/splits/cv1_GameRulesetName.pkl', 'rb'))\n",
    "# split2 = pickle.load(open('../data/splits/cv2_GameRulesetName.pkl', 'rb'))\n",
    "# split3 = pickle.load(open('../data/splits/cv3_GameRulesetName.pkl', 'rb'))"
   ]
  },
  {
   "cell_type": "markdown",
   "id": "585a47da",
   "metadata": {
    "papermill": {
     "duration": 0.001943,
     "end_time": "2024-11-19T22:27:38.794741",
     "exception": false,
     "start_time": "2024-11-19T22:27:38.792798",
     "status": "completed"
    },
    "tags": []
   },
   "source": [
    "***\n",
    "### train model\n"
   ]
  },
  {
   "cell_type": "code",
   "execution_count": 7,
   "id": "152941ef",
   "metadata": {
    "execution": {
     "iopub.execute_input": "2024-11-19T22:27:38.799421Z",
     "iopub.status.busy": "2024-11-19T22:27:38.799278Z",
     "iopub.status.idle": "2024-11-19T22:27:38.805171Z",
     "shell.execute_reply": "2024-11-19T22:27:38.804923Z"
    },
    "papermill": {
     "duration": 0.00909,
     "end_time": "2024-11-19T22:27:38.805890",
     "exception": false,
     "start_time": "2024-11-19T22:27:38.796800",
     "status": "completed"
    },
    "tags": []
   },
   "outputs": [],
   "source": [
    "def train_models(\n",
    "        df_train,\n",
    "        numerical_cols,\n",
    "        categorical_cols,\n",
    "        target='utility_agent1',\n",
    "        split_list=None,\n",
    "    ):\n",
    "    # Define the parameters\n",
    "    params = {\n",
    "        'objective': \"regression\",\n",
    "        'extra_trees': True,\n",
    "        'metric': 'rmse',\n",
    "        'boosting_type': 'gbdt',\n",
    "        'num_leaves': 31,\n",
    "        'max_depth': 10,\n",
    "        'learning_rate': 0.1,\n",
    "        'reg_alpha': 1e-1,\n",
    "        'reg_lambda': 1e-1,\n",
    "        'feature_fraction': 0.8,\n",
    "        'verbose': -1,\n",
    "        'seed': 2112,\n",
    "    }\n",
    "\n",
    "    trained_models = []\n",
    "    oof = pd.DataFrame(\n",
    "        index=df_train.index,\n",
    "        columns=[f'{target}_true', f'{target}_pred', 'fold']\n",
    "    )\n",
    "    oof_scores = []\n",
    "    feat_importance_dfs = []\n",
    "\n",
    "    # Perform cross-validation\n",
    "    for fold, (train_index, val_index) in enumerate(split_list, 1):\n",
    "        print(f\"Fold {fold}\")\n",
    "        \n",
    "        # Split the data\n",
    "        X_train, X_val = df_train.iloc[train_index], df_train.iloc[val_index]\n",
    "        y_train, y_val = X_train[target], X_val[target]\n",
    "        \n",
    "        # Create LightGBM datasets\n",
    "        train_data = lgb.Dataset(\n",
    "            data=X_train[numerical_cols + categorical_cols],\n",
    "            label=y_train,\n",
    "            categorical_feature=categorical_cols,\n",
    "            free_raw_data=True\n",
    "        )\n",
    "        val_data = lgb.Dataset(\n",
    "            data=X_val[numerical_cols + categorical_cols],\n",
    "            label=y_val,\n",
    "            categorical_feature=categorical_cols,\n",
    "            free_raw_data=True\n",
    "        )\n",
    "\n",
    "        # Train the model\n",
    "        model = lgb.train(\n",
    "            params,\n",
    "            train_data,\n",
    "            num_boost_round=2000,\n",
    "            valid_sets=[val_data],\n",
    "            callbacks=[\n",
    "                lgb.log_evaluation(period=50),\n",
    "            ]\n",
    "        )\n",
    "        \n",
    "        # Get feature importance for this fold\n",
    "        feat_importance = pd.DataFrame({\n",
    "            'feature': numerical_cols + categorical_cols,\n",
    "            f'importance_f{fold}': model.feature_importance(importance_type='gain')\n",
    "        })\n",
    "        feat_importance_dfs.append(feat_importance)\n",
    "        \n",
    "        # Plot feature importance\n",
    "        lgb.plot_importance(model, figsize=(8, 20), importance_type='gain', max_num_features=100)\n",
    "        plt.title('Top 50 Features by Importance')\n",
    "        plt.tight_layout()\n",
    "        plt.show()\n",
    "        \n",
    "        # Save the trained model to the list\n",
    "        trained_models.append(model)\n",
    "\n",
    "        # predict on validation set\n",
    "        y_pred = model.predict(X_val[numerical_cols + categorical_cols])\n",
    "\n",
    "        # Save out-of-fold predictions\n",
    "        oof.loc[val_index, f'{target}_true'] = y_val\n",
    "        oof.loc[val_index, f'{target}_pred'] = y_pred\n",
    "        oof.loc[val_index, 'fold'] = fold\n",
    "        \n",
    "        # Compute RMSE\n",
    "        y_pred = np.clip(y_pred, -1, 1)\n",
    "        rmse = np.sqrt(np.mean((y_pred - y_val) ** 2))\n",
    "        print(f\"Fold {fold} - RMSE: {rmse}\")\n",
    "\n",
    "        # Save RMSE to the list\n",
    "        oof_scores.append(rmse)\n",
    "\n",
    "    # Combine feature importance dataframes\n",
    "    importance_df = feat_importance_dfs[0]\n",
    "    for df in feat_importance_dfs[1:]:\n",
    "        importance_df = importance_df.merge(df, on='feature')\n",
    "    \n",
    "    # Calculate mean importance across folds\n",
    "    importance_cols = [col for col in importance_df.columns if col.startswith('importance_f')]\n",
    "    importance_df['importance_mean'] = importance_df[importance_cols].mean(axis=1)\n",
    "    importance_df = importance_df.sort_values('importance_mean', ascending=False, ignore_index=True)\n",
    "    importance_df['importance_relative'] = (\n",
    "        importance_df['importance_mean'] / \n",
    "        importance_df['importance_mean'].sum()\n",
    "    )\n",
    "\n",
    "    # Print the list of oof scores and average oof score\n",
    "    print(\"List of oof scores:\", oof_scores)\n",
    "    print(\"Average oof score:\", np.mean(oof_scores))\n",
    "    \n",
    "    return trained_models, oof, oof_scores, importance_df"
   ]
  },
  {
   "cell_type": "code",
   "execution_count": null,
   "id": "adfa9207",
   "metadata": {
    "execution": {
     "iopub.execute_input": "2024-11-19T22:27:38.810653Z",
     "iopub.status.busy": "2024-11-19T22:27:38.810443Z",
     "iopub.status.idle": "2024-11-19T22:29:16.769230Z",
     "shell.execute_reply": "2024-11-19T22:29:16.768845Z"
    },
    "papermill": {
     "duration": 97.962183,
     "end_time": "2024-11-19T22:29:16.770215",
     "exception": false,
     "start_time": "2024-11-19T22:27:38.808032",
     "status": "completed"
    },
    "tags": []
   },
   "outputs": [],
   "source": [
    "# call the function\n",
    "trained_models1, oof1, oof_scores1, importance_df1 = train_models(\n",
    "    df_train,\n",
    "    numerical_cols,\n",
    "    categorical_cols,\n",
    "    split_list=split1,\n",
    ")\n",
    "# save oof predictions\n",
    "# oof1.to_csv(path_results / 'oof_lightgbm_cv1.csv', index=False)\n",
    "# save feature importance\n",
    "importance_df1.to_csv(path_results / 'feat_importance_lightgbm_cv1.csv', index=False)\n"
   ]
  },
  {
   "cell_type": "code",
   "execution_count": 9,
   "id": "dfeebae7",
   "metadata": {
    "execution": {
     "iopub.execute_input": "2024-11-19T22:29:16.795167Z",
     "iopub.status.busy": "2024-11-19T22:29:16.795023Z",
     "iopub.status.idle": "2024-11-19T22:29:16.796745Z",
     "shell.execute_reply": "2024-11-19T22:29:16.796475Z"
    },
    "papermill": {
     "duration": 0.015014,
     "end_time": "2024-11-19T22:29:16.797467",
     "exception": false,
     "start_time": "2024-11-19T22:29:16.782453",
     "status": "completed"
    },
    "tags": []
   },
   "outputs": [],
   "source": [
    "# # call the function\n",
    "# trained_models2, oof2, oof_scores2 = train_models(\n",
    "#     df_train,\n",
    "#     numerical_cols,\n",
    "#     categorical_cols,\n",
    "#     num_folds=5,\n",
    "#     cv_random_state=19,\n",
    "# )\n",
    "# # save oof predictions\n",
    "# oof2.to_csv(path_results / 'oof_lightgbm_cv2.csv', index=False)"
   ]
  },
  {
   "cell_type": "code",
   "execution_count": 10,
   "id": "e69ddf4c",
   "metadata": {
    "execution": {
     "iopub.execute_input": "2024-11-19T22:29:16.821112Z",
     "iopub.status.busy": "2024-11-19T22:29:16.820992Z",
     "iopub.status.idle": "2024-11-19T22:29:16.822597Z",
     "shell.execute_reply": "2024-11-19T22:29:16.822357Z"
    },
    "papermill": {
     "duration": 0.014109,
     "end_time": "2024-11-19T22:29:16.823277",
     "exception": false,
     "start_time": "2024-11-19T22:29:16.809168",
     "status": "completed"
    },
    "tags": []
   },
   "outputs": [],
   "source": [
    "# # call the function\n",
    "# trained_models3, oof3, oof_scores3 = train_models(\n",
    "#     df_train,\n",
    "#     numerical_cols,\n",
    "#     categorical_cols,\n",
    "#     num_folds=5,\n",
    "#     cv_random_state=23,\n",
    "# )\n",
    "# # save oof predictions\n",
    "# oof3.to_csv(path_results / 'oof_lightgbm_cv3.csv', index=False)"
   ]
  },
  {
   "cell_type": "code",
   "execution_count": 11,
   "id": "b7fdd144",
   "metadata": {
    "execution": {
     "iopub.execute_input": "2024-11-19T22:29:16.847168Z",
     "iopub.status.busy": "2024-11-19T22:29:16.847047Z",
     "iopub.status.idle": "2024-11-19T22:29:16.848658Z",
     "shell.execute_reply": "2024-11-19T22:29:16.848401Z"
    },
    "papermill": {
     "duration": 0.014469,
     "end_time": "2024-11-19T22:29:16.849333",
     "exception": false,
     "start_time": "2024-11-19T22:29:16.834864",
     "status": "completed"
    },
    "tags": []
   },
   "outputs": [],
   "source": [
    "# trained_models = [*trained_models1, *trained_models2, *trained_models3]\n",
    "trained_models = trained_models1"
   ]
  },
  {
   "cell_type": "code",
   "execution_count": null,
   "id": "71d16905",
   "metadata": {
    "execution": {
     "iopub.execute_input": "2024-11-19T22:29:16.872779Z",
     "iopub.status.busy": "2024-11-19T22:29:16.872674Z",
     "iopub.status.idle": "2024-11-19T22:29:16.980219Z",
     "shell.execute_reply": "2024-11-19T22:29:16.979973Z"
    },
    "papermill": {
     "duration": 0.120159,
     "end_time": "2024-11-19T22:29:16.981008",
     "exception": false,
     "start_time": "2024-11-19T22:29:16.860849",
     "status": "completed"
    },
    "tags": []
   },
   "outputs": [],
   "source": [
    "plt.hist(oof1['utility_agent1_true'], alpha=0.5, label='Target')\n",
    "plt.hist(oof1['utility_agent1_pred'], alpha=0.5, label='Prediction')\n",
    "plt.legend()\n",
    "plt.show()"
   ]
  },
  {
   "cell_type": "markdown",
   "id": "d3f4eb89",
   "metadata": {
    "papermill": {
     "duration": 0.013056,
     "end_time": "2024-11-19T22:29:17.009218",
     "exception": false,
     "start_time": "2024-11-19T22:29:16.996162",
     "status": "completed"
    },
    "tags": []
   },
   "source": [
    "***\n",
    "### inference"
   ]
  },
  {
   "cell_type": "code",
   "execution_count": 13,
   "id": "4470716a",
   "metadata": {
    "execution": {
     "iopub.execute_input": "2024-11-19T22:29:17.035801Z",
     "iopub.status.busy": "2024-11-19T22:29:17.035665Z",
     "iopub.status.idle": "2024-11-19T22:29:17.118222Z",
     "shell.execute_reply": "2024-11-19T22:29:17.117949Z"
    },
    "papermill": {
     "duration": 0.096761,
     "end_time": "2024-11-19T22:29:17.119129",
     "exception": false,
     "start_time": "2024-11-19T22:29:17.022368",
     "status": "completed"
    },
    "tags": []
   },
   "outputs": [],
   "source": [
    "import os\n",
    "import polars as pl\n",
    "sys.path.append(\"../data/raw/\")\n",
    "import kaggle_evaluation.mcts_inference_server"
   ]
  },
  {
   "cell_type": "code",
   "execution_count": 14,
   "id": "1b97d8dc",
   "metadata": {
    "execution": {
     "iopub.execute_input": "2024-11-19T22:29:17.145364Z",
     "iopub.status.busy": "2024-11-19T22:29:17.145162Z",
     "iopub.status.idle": "2024-11-19T22:29:17.147540Z",
     "shell.execute_reply": "2024-11-19T22:29:17.147295Z"
    },
    "papermill": {
     "duration": 0.016173,
     "end_time": "2024-11-19T22:29:17.148213",
     "exception": false,
     "start_time": "2024-11-19T22:29:17.132040",
     "status": "completed"
    },
    "tags": []
   },
   "outputs": [],
   "source": [
    "def predict(test: pl.DataFrame, sample_sub: pl.DataFrame,):   \n",
    "    # Convert Polars DataFrame to Pandas DataFrame\n",
    "    test_pd = test.to_pandas()\n",
    "    \n",
    "    # Process the test data\n",
    "    test_processed = process_test_data(\n",
    "        test_pd,\n",
    "        numerical_cols,\n",
    "        categorical_cols,\n",
    "        encoder,\n",
    "        scaler\n",
    "    )\n",
    "\n",
    "    # Average predictions from all models\n",
    "    predictions = [\n",
    "        model.predict(test_processed[numerical_cols + categorical_cols]) \n",
    "        for model in trained_models\n",
    "    ]\n",
    "    predictions = np.mean(predictions, axis=0)\n",
    "    predictions = np.clip(predictions, -1, 1)\n",
    "        \n",
    "    # Create the submission DataFrame\n",
    "    submission = sample_sub.with_columns(pl.Series(\"utility_agent1\", predictions))\n",
    "    \n",
    "    return submission"
   ]
  },
  {
   "cell_type": "code",
   "execution_count": null,
   "id": "9988b479",
   "metadata": {
    "execution": {
     "iopub.execute_input": "2024-11-19T22:29:17.176025Z",
     "iopub.status.busy": "2024-11-19T22:29:17.175876Z",
     "iopub.status.idle": "2024-11-19T22:29:17.234957Z",
     "shell.execute_reply": "2024-11-19T22:29:17.234658Z"
    },
    "papermill": {
     "duration": 0.073305,
     "end_time": "2024-11-19T22:29:17.235757",
     "exception": false,
     "start_time": "2024-11-19T22:29:17.162452",
     "status": "completed"
    },
    "tags": []
   },
   "outputs": [],
   "source": [
    "# sanity check\n",
    "df_test = pl.read_csv('../data/raw/test.csv')\n",
    "sample_sub = pl.read_csv('../data/raw/sample_submission.csv')\n",
    "predict(df_test, sample_sub)"
   ]
  },
  {
   "cell_type": "code",
   "execution_count": 16,
   "id": "377796df",
   "metadata": {
    "execution": {
     "iopub.execute_input": "2024-11-19T22:29:17.279145Z",
     "iopub.status.busy": "2024-11-19T22:29:17.279000Z",
     "iopub.status.idle": "2024-11-19T22:29:17.377622Z",
     "shell.execute_reply": "2024-11-19T22:29:17.377215Z"
    },
    "papermill": {
     "duration": 0.129298,
     "end_time": "2024-11-19T22:29:17.378867",
     "exception": false,
     "start_time": "2024-11-19T22:29:17.249569",
     "status": "completed"
    },
    "tags": []
   },
   "outputs": [],
   "source": [
    "inference_server = kaggle_evaluation.mcts_inference_server.MCTSInferenceServer(predict)\n",
    "\n",
    "if os.getenv('KAGGLE_IS_COMPETITION_RERUN'):\n",
    "    inference_server.serve()\n",
    "else:\n",
    "    inference_server.run_local_gateway(\n",
    "        (\n",
    "            '../data/raw/test.csv',\n",
    "            '../data/raw/sample_submission.csv'\n",
    "        )\n",
    "    )"
   ]
  },
  {
   "cell_type": "code",
   "execution_count": 17,
   "id": "8685234b",
   "metadata": {
    "execution": {
     "iopub.execute_input": "2024-11-19T22:29:17.408365Z",
     "iopub.status.busy": "2024-11-19T22:29:17.408133Z",
     "iopub.status.idle": "2024-11-19T22:29:17.584417Z",
     "shell.execute_reply": "2024-11-19T22:29:17.583948Z"
    },
    "papermill": {
     "duration": 0.192601,
     "end_time": "2024-11-19T22:29:17.585714",
     "exception": false,
     "start_time": "2024-11-19T22:29:17.393113",
     "status": "completed"
    },
    "tags": []
   },
   "outputs": [],
   "source": [
    "# Save all artifacts needed for prediction\n",
    "lightgbm_predict = {\n",
    "    'models': trained_models,\n",
    "    'numerical_cols': numerical_cols,\n",
    "    'categorical_cols': categorical_cols, \n",
    "    'encoder': encoder,\n",
    "    'scaler': scaler\n",
    "}\n",
    "\n",
    "with open('./lightgbm_predict.pkl', 'wb') as f:\n",
    "    pickle.dump(lightgbm_predict, f)"
   ]
  },
  {
   "cell_type": "markdown",
   "id": "53d61265",
   "metadata": {
    "papermill": {
     "duration": 0.014024,
     "end_time": "2024-11-19T22:29:17.614630",
     "exception": false,
     "start_time": "2024-11-19T22:29:17.600606",
     "status": "completed"
    },
    "tags": []
   },
   "source": [
    "***"
   ]
  }
 ],
 "metadata": {
  "kernelspec": {
   "display_name": "mcts-strength-variants-kSTIVMm8-py3.10",
   "language": "python",
   "name": "python3"
  },
  "language_info": {
   "codemirror_mode": {
    "name": "ipython",
    "version": 3
   },
   "file_extension": ".py",
   "mimetype": "text/x-python",
   "name": "python",
   "nbconvert_exporter": "python",
   "pygments_lexer": "ipython3",
   "version": "3.10.14"
  },
  "papermill": {
   "default_parameters": {},
   "duration": 110.959045,
   "end_time": "2024-11-19T22:29:18.054559",
   "environment_variables": {},
   "exception": null,
   "input_path": "train/lightgbm.ipynb",
   "output_path": "train/lightgbm.ipynb",
   "parameters": {},
   "start_time": "2024-11-19T22:27:27.095514",
   "version": "2.6.0"
  }
 },
 "nbformat": 4,
 "nbformat_minor": 5
}
