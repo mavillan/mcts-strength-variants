{
 "cells": [
  {
   "cell_type": "code",
   "execution_count": 1,
   "id": "5c243cac",
   "metadata": {
    "_cell_guid": "b1076dfc-b9ad-4769-8c92-a6c4dae69d19",
    "_uuid": "8f2839f25d086af736a60e9eeb907d3b93b6e0e5",
    "execution": {
     "iopub.execute_input": "2024-10-31T23:54:57.178885Z",
     "iopub.status.busy": "2024-10-31T23:54:57.177365Z",
     "iopub.status.idle": "2024-10-31T23:55:01.596670Z",
     "shell.execute_reply": "2024-10-31T23:55:01.593976Z"
    },
    "papermill": {
     "duration": 4.433112,
     "end_time": "2024-10-31T23:55:01.602445",
     "exception": false,
     "start_time": "2024-10-31T23:54:57.169333",
     "status": "completed"
    },
    "tags": []
   },
   "outputs": [
    {
     "name": "stdout",
     "output_type": "stream",
     "text": [
      "Lightgbm version: 4.2.0\n"
     ]
    }
   ],
   "source": [
    "import numpy as np\n",
    "import pandas as pd\n",
    "import matplotlib.pyplot as plt\n",
    "from pathlib import Path\n",
    "import pickle\n",
    "\n",
    "import sys\n",
    "sys.path.append(\"/kaggle/input/mcts-artifacts\")\n",
    "from preproc import process_test_data\n",
    "\n",
    "import lightgbm as lgb\n",
    "from sklearn.model_selection import GroupKFold\n",
    "from sklearn.preprocessing import OrdinalEncoder, StandardScaler\n",
    "\n",
    "print(\"Lightgbm version:\", lgb.__version__)"
   ]
  },
  {
   "cell_type": "markdown",
   "id": "e8f70974",
   "metadata": {
    "papermill": {
     "duration": 0.005663,
     "end_time": "2024-10-31T23:55:01.615372",
     "exception": false,
     "start_time": "2024-10-31T23:55:01.609709",
     "status": "completed"
    },
    "tags": []
   },
   "source": [
    "***\n",
    "### load artifacts"
   ]
  },
  {
   "cell_type": "code",
   "execution_count": 2,
   "id": "53dd20bf",
   "metadata": {
    "execution": {
     "iopub.execute_input": "2024-10-31T23:55:01.629924Z",
     "iopub.status.busy": "2024-10-31T23:55:01.628745Z",
     "iopub.status.idle": "2024-10-31T23:55:02.237514Z",
     "shell.execute_reply": "2024-10-31T23:55:02.235522Z"
    },
    "papermill": {
     "duration": 0.619282,
     "end_time": "2024-10-31T23:55:02.240520",
     "exception": false,
     "start_time": "2024-10-31T23:55:01.621238",
     "status": "completed"
    },
    "tags": []
   },
   "outputs": [
    {
     "name": "stderr",
     "output_type": "stream",
     "text": [
      "/opt/conda/lib/python3.10/site-packages/sklearn/base.py:318: UserWarning: Trying to unpickle estimator OrdinalEncoder from version 1.5.2 when using version 1.2.2. This might lead to breaking code or invalid results. Use at your own risk. For more info please refer to:\n",
      "https://scikit-learn.org/stable/model_persistence.html#security-maintainability-limitations\n",
      "  warnings.warn(\n"
     ]
    }
   ],
   "source": [
    "# Specify the path where you want to save the serialized function\n",
    "lightgbm_artifacts_path = '/kaggle/input/mcts-artifacts/lightgbm_predict.pkl'\n",
    "\n",
    "# Load the function from the file\n",
    "with open(lightgbm_artifacts_path, 'rb') as f:\n",
    "    lightgbm_artifacts = pickle.load(f)"
   ]
  },
  {
   "cell_type": "code",
   "execution_count": 3,
   "id": "8b5773b5",
   "metadata": {
    "execution": {
     "iopub.execute_input": "2024-10-31T23:55:02.252904Z",
     "iopub.status.busy": "2024-10-31T23:55:02.252088Z",
     "iopub.status.idle": "2024-10-31T23:55:02.267574Z",
     "shell.execute_reply": "2024-10-31T23:55:02.266025Z"
    },
    "papermill": {
     "duration": 0.025234,
     "end_time": "2024-10-31T23:55:02.270690",
     "exception": false,
     "start_time": "2024-10-31T23:55:02.245456",
     "status": "completed"
    },
    "tags": []
   },
   "outputs": [],
   "source": [
    "class ModelInference:\n",
    "    def __init__(self, models, numerical_cols, categorical_cols, encoder, scaler):\n",
    "        \"\"\"Initialize inference class with trained artifacts\n",
    "        \n",
    "        Args:\n",
    "            models: List of trained LightGBM models\n",
    "            numerical_cols: List of numerical column names\n",
    "            categorical_cols: List of categorical column names\n",
    "            encoder: Fitted OrdinalEncoder for categorical features\n",
    "            scaler: Fitted StandardScaler for numerical features (optional)\n",
    "        \"\"\"\n",
    "        self.models = models\n",
    "        self.numerical_cols = numerical_cols\n",
    "        self.categorical_cols = categorical_cols\n",
    "        self.encoder = encoder\n",
    "        self.scaler = scaler\n",
    "        \n",
    "    def predict(self, df_test):\n",
    "        \"\"\"Make predictions on test data\n",
    "        \n",
    "        Args:\n",
    "            df_test: pandas DataFrame containing test features\n",
    "            \n",
    "        Returns:\n",
    "            numpy array of predictions\n",
    "        \"\"\"\n",
    "        # Preprocess test data\n",
    "        test_processed = process_test_data(\n",
    "            df_test,\n",
    "            self.numerical_cols,\n",
    "            self.categorical_cols,\n",
    "            self.encoder,\n",
    "            self.scaler\n",
    "        )\n",
    "        \n",
    "        # Get predictions from all models\n",
    "        predictions = [\n",
    "            model.predict(test_processed[self.numerical_cols + self.categorical_cols])\n",
    "            for model in self.models\n",
    "        ]\n",
    "        \n",
    "        # Average and clip predictions\n",
    "        predictions = np.mean(predictions, axis=0)\n",
    "        predictions = np.clip(predictions, -1, 1)\n",
    "        \n",
    "        return predictions\n",
    "\n",
    "model_lgbm = ModelInference(**lightgbm_artifacts)"
   ]
  },
  {
   "cell_type": "code",
   "execution_count": 4,
   "id": "1c4cb340",
   "metadata": {
    "execution": {
     "iopub.execute_input": "2024-10-31T23:55:02.282258Z",
     "iopub.status.busy": "2024-10-31T23:55:02.281675Z",
     "iopub.status.idle": "2024-10-31T23:55:02.514568Z",
     "shell.execute_reply": "2024-10-31T23:55:02.513111Z"
    },
    "papermill": {
     "duration": 0.242382,
     "end_time": "2024-10-31T23:55:02.517618",
     "exception": false,
     "start_time": "2024-10-31T23:55:02.275236",
     "status": "completed"
    },
    "tags": []
   },
   "outputs": [
    {
     "data": {
      "text/plain": [
       "array([ 0.12646345, -0.17040403, -0.06733033])"
      ]
     },
     "execution_count": 4,
     "metadata": {},
     "output_type": "execute_result"
    }
   ],
   "source": [
    "# sanity check\n",
    "test = pd.read_csv(\"/kaggle/input/um-game-playing-strength-of-mcts-variants/test.csv\")\n",
    "model_lgbm.predict(test)\n"
   ]
  },
  {
   "cell_type": "markdown",
   "id": "599758b0",
   "metadata": {
    "papermill": {
     "duration": 0.004929,
     "end_time": "2024-10-31T23:55:02.527463",
     "exception": false,
     "start_time": "2024-10-31T23:55:02.522534",
     "status": "completed"
    },
    "tags": []
   },
   "source": [
    "***\n",
    "### inference"
   ]
  },
  {
   "cell_type": "code",
   "execution_count": 5,
   "id": "0ff3e30a",
   "metadata": {
    "execution": {
     "iopub.execute_input": "2024-10-31T23:55:02.540117Z",
     "iopub.status.busy": "2024-10-31T23:55:02.539344Z",
     "iopub.status.idle": "2024-10-31T23:55:03.355604Z",
     "shell.execute_reply": "2024-10-31T23:55:03.354002Z"
    },
    "papermill": {
     "duration": 0.827353,
     "end_time": "2024-10-31T23:55:03.359990",
     "exception": false,
     "start_time": "2024-10-31T23:55:02.532637",
     "status": "completed"
    },
    "tags": []
   },
   "outputs": [],
   "source": [
    "import os\n",
    "import polars as pl\n",
    "import kaggle_evaluation.mcts_inference_server"
   ]
  },
  {
   "cell_type": "code",
   "execution_count": 6,
   "id": "797bcf56",
   "metadata": {
    "execution": {
     "iopub.execute_input": "2024-10-31T23:55:03.374058Z",
     "iopub.status.busy": "2024-10-31T23:55:03.372833Z",
     "iopub.status.idle": "2024-10-31T23:55:03.382003Z",
     "shell.execute_reply": "2024-10-31T23:55:03.380096Z"
    },
    "papermill": {
     "duration": 0.019525,
     "end_time": "2024-10-31T23:55:03.385041",
     "exception": false,
     "start_time": "2024-10-31T23:55:03.365516",
     "status": "completed"
    },
    "tags": []
   },
   "outputs": [],
   "source": [
    "def predict(test: pl.DataFrame, sample_sub: pl.DataFrame):\n",
    "    test_pd = test.to_pandas()\n",
    "    predictions = model_lgbm.predict(test_pd)\n",
    "    submission = sample_sub.with_columns(pl.Series(\"utility_agent1\", predictions))\n",
    "    return submission"
   ]
  },
  {
   "cell_type": "code",
   "execution_count": 7,
   "id": "0c2b358c",
   "metadata": {
    "execution": {
     "iopub.execute_input": "2024-10-31T23:55:03.397517Z",
     "iopub.status.busy": "2024-10-31T23:55:03.396972Z",
     "iopub.status.idle": "2024-10-31T23:55:04.015082Z",
     "shell.execute_reply": "2024-10-31T23:55:04.013368Z"
    },
    "papermill": {
     "duration": 0.628331,
     "end_time": "2024-10-31T23:55:04.018498",
     "exception": false,
     "start_time": "2024-10-31T23:55:03.390167",
     "status": "completed"
    },
    "tags": []
   },
   "outputs": [],
   "source": [
    "inference_server = kaggle_evaluation.mcts_inference_server.MCTSInferenceServer(predict)\n",
    "\n",
    "if os.getenv('KAGGLE_IS_COMPETITION_RERUN'):\n",
    "    inference_server.serve()\n",
    "else:\n",
    "    inference_server.run_local_gateway(\n",
    "        (\n",
    "            '/kaggle/input/um-game-playing-strength-of-mcts-variants/test.csv',\n",
    "            '/kaggle/input/um-game-playing-strength-of-mcts-variants/sample_submission.csv'\n",
    "        )\n",
    "    )"
   ]
  },
  {
   "cell_type": "markdown",
   "id": "5002af4a",
   "metadata": {
    "papermill": {
     "duration": 0.00438,
     "end_time": "2024-10-31T23:55:04.027986",
     "exception": false,
     "start_time": "2024-10-31T23:55:04.023606",
     "status": "completed"
    },
    "tags": []
   },
   "source": [
    "***"
   ]
  }
 ],
 "metadata": {
  "kaggle": {
   "accelerator": "none",
   "dataSources": [
    {
     "databundleVersionId": 9515283,
     "sourceId": 70089,
     "sourceType": "competition"
    },
    {
     "datasetId": 5909723,
     "sourceId": 9775671,
     "sourceType": "datasetVersion"
    }
   ],
   "dockerImageVersionId": 30786,
   "isGpuEnabled": false,
   "isInternetEnabled": false,
   "language": "python",
   "sourceType": "notebook"
  },
  "kernelspec": {
   "display_name": "Python 3",
   "language": "python",
   "name": "python3"
  },
  "language_info": {
   "codemirror_mode": {
    "name": "ipython",
    "version": 3
   },
   "file_extension": ".py",
   "mimetype": "text/x-python",
   "name": "python",
   "nbconvert_exporter": "python",
   "pygments_lexer": "ipython3",
   "version": "3.10.14"
  },
  "papermill": {
   "default_parameters": {},
   "duration": 12.630442,
   "end_time": "2024-10-31T23:55:06.254836",
   "environment_variables": {},
   "exception": null,
   "input_path": "__notebook__.ipynb",
   "output_path": "__notebook__.ipynb",
   "parameters": {},
   "start_time": "2024-10-31T23:54:53.624394",
   "version": "2.6.0"
  }
 },
 "nbformat": 4,
 "nbformat_minor": 5
}
