{
 "cells": [
  {
   "cell_type": "code",
   "execution_count": 1,
   "id": "b25779c4",
   "metadata": {
    "_cell_guid": "b1076dfc-b9ad-4769-8c92-a6c4dae69d19",
    "_uuid": "8f2839f25d086af736a60e9eeb907d3b93b6e0e5",
    "execution": {
     "iopub.execute_input": "2024-11-28T23:48:16.106030Z",
     "iopub.status.busy": "2024-11-28T23:48:16.105521Z",
     "iopub.status.idle": "2024-11-28T23:48:20.924602Z",
     "shell.execute_reply": "2024-11-28T23:48:20.923037Z"
    },
    "papermill": {
     "duration": 4.826976,
     "end_time": "2024-11-28T23:48:20.927744",
     "exception": false,
     "start_time": "2024-11-28T23:48:16.100768",
     "status": "completed"
    },
    "tags": []
   },
   "outputs": [
    {
     "name": "stdout",
     "output_type": "stream",
     "text": [
      "Lightgbm version: 4.2.0\n"
     ]
    }
   ],
   "source": [
    "import numpy as np\n",
    "import pandas as pd\n",
    "import matplotlib.pyplot as plt\n",
    "from pathlib import Path\n",
    "import pickle\n",
    "import os\n",
    "import polars\n",
    "\n",
    "import lightgbm as lgb\n",
    "print(\"Lightgbm version:\", lgb.__version__)\n",
    "\n",
    "import sys\n",
    "sys.path.append(\"/kaggle/input/mcts-artifacts\")\n",
    "from preproc import process_test_data\n",
    "import kaggle_evaluation.mcts_inference_server\n"
   ]
  },
  {
   "cell_type": "markdown",
   "id": "f2fb0d64",
   "metadata": {
    "papermill": {
     "duration": 0.002375,
     "end_time": "2024-11-28T23:48:20.933199",
     "exception": false,
     "start_time": "2024-11-28T23:48:20.930824",
     "status": "completed"
    },
    "tags": []
   },
   "source": [
    "***\n",
    "### load artifacts"
   ]
  },
  {
   "cell_type": "code",
   "execution_count": 2,
   "id": "7cfa076b",
   "metadata": {
    "execution": {
     "iopub.execute_input": "2024-11-28T23:48:20.940470Z",
     "iopub.status.busy": "2024-11-28T23:48:20.939847Z",
     "iopub.status.idle": "2024-11-28T23:48:27.895125Z",
     "shell.execute_reply": "2024-11-28T23:48:27.893461Z"
    },
    "papermill": {
     "duration": 6.963448,
     "end_time": "2024-11-28T23:48:27.899219",
     "exception": false,
     "start_time": "2024-11-28T23:48:20.935771",
     "status": "completed"
    },
    "tags": []
   },
   "outputs": [
    {
     "name": "stderr",
     "output_type": "stream",
     "text": [
      "/opt/conda/lib/python3.10/site-packages/sklearn/base.py:318: UserWarning: Trying to unpickle estimator OrdinalEncoder from version 1.5.2 when using version 1.2.2. This might lead to breaking code or invalid results. Use at your own risk. For more info please refer to:\n",
      "https://scikit-learn.org/stable/model_persistence.html#security-maintainability-limitations\n",
      "  warnings.warn(\n"
     ]
    },
    {
     "data": {
      "text/plain": [
       "15"
      ]
     },
     "execution_count": 2,
     "metadata": {},
     "output_type": "execute_result"
    }
   ],
   "source": [
    "# Specify the path where you want to save the serialized function\n",
    "lightgbm_artifacts_path = '/kaggle/input/mcts-artifacts/lightgbm_predict_uni80.pkl'\n",
    "\n",
    "# Load the function from the file\n",
    "with open(lightgbm_artifacts_path, 'rb') as f:\n",
    "    lightgbm_artifacts = pickle.load(f)\n",
    "\n",
    "len(lightgbm_artifacts[\"models\"])"
   ]
  },
  {
   "cell_type": "code",
   "execution_count": 3,
   "id": "d73f52d8",
   "metadata": {
    "execution": {
     "iopub.execute_input": "2024-11-28T23:48:27.908735Z",
     "iopub.status.busy": "2024-11-28T23:48:27.908323Z",
     "iopub.status.idle": "2024-11-28T23:48:27.921703Z",
     "shell.execute_reply": "2024-11-28T23:48:27.920138Z"
    },
    "papermill": {
     "duration": 0.023513,
     "end_time": "2024-11-28T23:48:27.925839",
     "exception": false,
     "start_time": "2024-11-28T23:48:27.902326",
     "status": "completed"
    },
    "tags": []
   },
   "outputs": [
    {
     "name": "stdout",
     "output_type": "stream",
     "text": [
      "len(numerical_cols): 287\n",
      "len(categorical_cols): 8\n"
     ]
    }
   ],
   "source": [
    "class LightGBMInference:\n",
    "    def __init__(\n",
    "        self,\n",
    "        models,\n",
    "        numerical_cols,\n",
    "        categorical_cols,\n",
    "        encoder,\n",
    "        scaler,\n",
    "    ):\n",
    "        \"\"\"Initialize inference class with trained artifacts\n",
    "        \n",
    "        Args:\n",
    "            models: List of trained LightGBM models\n",
    "            numerical_cols: List of numerical column names\n",
    "            categorical_cols: List of categorical column names\n",
    "            encoder: Fitted OrdinalEncoder for categorical features\n",
    "            scaler: Fitted StandardScaler for numerical features (optional)\n",
    "        \"\"\"\n",
    "        self.models = models\n",
    "        self.numerical_cols = numerical_cols\n",
    "        self.categorical_cols = categorical_cols\n",
    "        self.encoder = encoder\n",
    "        self.scaler = scaler\n",
    "\n",
    "        print(\"len(numerical_cols):\", len(numerical_cols))\n",
    "        print(\"len(categorical_cols):\", len(categorical_cols))\n",
    "        \n",
    "    def predict_array(self, df_test):\n",
    "        \"\"\"Make predictions on test data\n",
    "        \n",
    "        Args:\n",
    "            df_test: pandas DataFrame containing test features\n",
    "            \n",
    "        Returns:\n",
    "            numpy array of predictions\n",
    "        \"\"\"\n",
    "        # Preprocess test data\n",
    "        test_processed = process_test_data(\n",
    "            df_test,\n",
    "            self.numerical_cols,\n",
    "            self.categorical_cols,\n",
    "            self.encoder,\n",
    "            self.scaler,\n",
    "            include_position_features=True,\n",
    "            include_text_features=True,\n",
    "        )\n",
    "        \n",
    "        # Get predictions from all models\n",
    "        predictions = np.mean([\n",
    "            model.predict(test_processed[self.numerical_cols + self.categorical_cols])\n",
    "            for model in self.models\n",
    "        ], axis=0)\n",
    "        predictions = np.clip(predictions, -1, 1)\n",
    "        \n",
    "        return predictions\n",
    "\n",
    "    def predict(self, test: polars.DataFrame, sample_sub: polars.DataFrame):\n",
    "        test_pd = test.to_pandas()\n",
    "        predictions = self.predict_array(test_pd)\n",
    "        submission = sample_sub.with_columns(polars.Series(\"utility_agent1\", predictions))\n",
    "        return submission\n",
    "\n",
    "model_lgbm = LightGBMInference(**lightgbm_artifacts)"
   ]
  },
  {
   "cell_type": "code",
   "execution_count": 4,
   "id": "c97e6f3f",
   "metadata": {
    "execution": {
     "iopub.execute_input": "2024-11-28T23:48:27.936022Z",
     "iopub.status.busy": "2024-11-28T23:48:27.935581Z",
     "iopub.status.idle": "2024-11-28T23:48:28.551820Z",
     "shell.execute_reply": "2024-11-28T23:48:28.550127Z"
    },
    "papermill": {
     "duration": 0.624446,
     "end_time": "2024-11-28T23:48:28.554452",
     "exception": false,
     "start_time": "2024-11-28T23:48:27.930006",
     "status": "completed"
    },
    "tags": []
   },
   "outputs": [
    {
     "data": {
      "text/html": [
       "<div><style>\n",
       ".dataframe > thead > tr,\n",
       ".dataframe > tbody > tr {\n",
       "  text-align: right;\n",
       "  white-space: pre-wrap;\n",
       "}\n",
       "</style>\n",
       "<small>shape: (3, 2)</small><table border=\"1\" class=\"dataframe\"><thead><tr><th>Id</th><th>utility_agent1</th></tr><tr><td>i64</td><td>f64</td></tr></thead><tbody><tr><td>233234</td><td>0.121428</td></tr><tr><td>233235</td><td>-0.156919</td></tr><tr><td>233236</td><td>-0.054666</td></tr></tbody></table></div>"
      ],
      "text/plain": [
       "shape: (3, 2)\n",
       "┌────────┬────────────────┐\n",
       "│ Id     ┆ utility_agent1 │\n",
       "│ ---    ┆ ---            │\n",
       "│ i64    ┆ f64            │\n",
       "╞════════╪════════════════╡\n",
       "│ 233234 ┆ 0.121428       │\n",
       "│ 233235 ┆ -0.156919      │\n",
       "│ 233236 ┆ -0.054666      │\n",
       "└────────┴────────────────┘"
      ]
     },
     "execution_count": 4,
     "metadata": {},
     "output_type": "execute_result"
    }
   ],
   "source": [
    "# sanity check\n",
    "test = polars.read_csv(\"/kaggle/input/um-game-playing-strength-of-mcts-variants/test.csv\")\n",
    "sample_sub = polars.read_csv(\"/kaggle/input/um-game-playing-strength-of-mcts-variants/sample_submission.csv\")\n",
    "model_lgbm.predict(test, sample_sub)"
   ]
  },
  {
   "cell_type": "markdown",
   "id": "eea212f2",
   "metadata": {
    "papermill": {
     "duration": 0.002752,
     "end_time": "2024-11-28T23:48:28.560419",
     "exception": false,
     "start_time": "2024-11-28T23:48:28.557667",
     "status": "completed"
    },
    "tags": []
   },
   "source": [
    "***\n",
    "### inference"
   ]
  },
  {
   "cell_type": "code",
   "execution_count": 5,
   "id": "4f1dcebc",
   "metadata": {
    "execution": {
     "iopub.execute_input": "2024-11-28T23:48:28.569220Z",
     "iopub.status.busy": "2024-11-28T23:48:28.568760Z",
     "iopub.status.idle": "2024-11-28T23:48:29.133492Z",
     "shell.execute_reply": "2024-11-28T23:48:29.131404Z"
    },
    "papermill": {
     "duration": 0.57216,
     "end_time": "2024-11-28T23:48:29.136201",
     "exception": false,
     "start_time": "2024-11-28T23:48:28.564041",
     "status": "completed"
    },
    "tags": []
   },
   "outputs": [],
   "source": [
    "inference_server = kaggle_evaluation.mcts_inference_server.MCTSInferenceServer(model_lgbm.predict)\n",
    "\n",
    "if os.getenv('KAGGLE_IS_COMPETITION_RERUN'):\n",
    "    inference_server.serve()\n",
    "else:\n",
    "    inference_server.run_local_gateway(\n",
    "        (\n",
    "            '/kaggle/input/um-game-playing-strength-of-mcts-variants/test.csv',\n",
    "            '/kaggle/input/um-game-playing-strength-of-mcts-variants/sample_submission.csv'\n",
    "        )\n",
    "    )"
   ]
  },
  {
   "cell_type": "markdown",
   "id": "ad445d49",
   "metadata": {
    "papermill": {
     "duration": 0.00289,
     "end_time": "2024-11-28T23:48:29.143374",
     "exception": false,
     "start_time": "2024-11-28T23:48:29.140484",
     "status": "completed"
    },
    "tags": []
   },
   "source": [
    "***"
   ]
  }
 ],
 "metadata": {
  "kaggle": {
   "accelerator": "none",
   "dataSources": [
    {
     "databundleVersionId": 9515283,
     "sourceId": 70089,
     "sourceType": "competition"
    },
    {
     "datasetId": 5909723,
     "sourceId": 10044648,
     "sourceType": "datasetVersion"
    }
   ],
   "dockerImageVersionId": 30786,
   "isGpuEnabled": false,
   "isInternetEnabled": false,
   "language": "python",
   "sourceType": "notebook"
  },
  "kernelspec": {
   "display_name": "Python 3",
   "language": "python",
   "name": "python3"
  },
  "language_info": {
   "codemirror_mode": {
    "name": "ipython",
    "version": 3
   },
   "file_extension": ".py",
   "mimetype": "text/x-python",
   "name": "python",
   "nbconvert_exporter": "python",
   "pygments_lexer": "ipython3",
   "version": "3.10.14"
  },
  "papermill": {
   "default_parameters": {},
   "duration": 17.490627,
   "end_time": "2024-11-28T23:48:30.274438",
   "environment_variables": {},
   "exception": null,
   "input_path": "__notebook__.ipynb",
   "output_path": "__notebook__.ipynb",
   "parameters": {},
   "start_time": "2024-11-28T23:48:12.783811",
   "version": "2.6.0"
  }
 },
 "nbformat": 4,
 "nbformat_minor": 5
}
