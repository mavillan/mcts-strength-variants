{
 "cells": [
  {
   "cell_type": "code",
   "execution_count": 1,
   "id": "b0fdc209",
   "metadata": {
    "_cell_guid": "b1076dfc-b9ad-4769-8c92-a6c4dae69d19",
    "_uuid": "8f2839f25d086af736a60e9eeb907d3b93b6e0e5",
    "execution": {
     "iopub.execute_input": "2024-11-27T22:37:07.435599Z",
     "iopub.status.busy": "2024-11-27T22:37:07.435018Z",
     "iopub.status.idle": "2024-11-27T22:37:10.408118Z",
     "shell.execute_reply": "2024-11-27T22:37:10.406834Z"
    },
    "papermill": {
     "duration": 2.981274,
     "end_time": "2024-11-27T22:37:10.410813",
     "exception": false,
     "start_time": "2024-11-27T22:37:07.429539",
     "status": "completed"
    },
    "tags": []
   },
   "outputs": [
    {
     "name": "stdout",
     "output_type": "stream",
     "text": [
      "cb.__version__: 1.2.7\n"
     ]
    }
   ],
   "source": [
    "import numpy as np\n",
    "import pandas as pd\n",
    "import matplotlib.pyplot as plt\n",
    "from pathlib import Path\n",
    "import pickle\n",
    "\n",
    "import catboost as cb\n",
    "print(\"cb.__version__:\", cb.__version__)\n",
    "\n",
    "import sys\n",
    "sys.path.append(\"/kaggle/input/mcts-artifacts\")\n",
    "from preproc import process_test_data\n",
    "\n",
    "from sklearn.model_selection import StratifiedGroupKFold\n",
    "from sklearn.preprocessing import OrdinalEncoder, StandardScaler"
   ]
  },
  {
   "cell_type": "markdown",
   "id": "84d0a9fb",
   "metadata": {
    "papermill": {
     "duration": 0.002903,
     "end_time": "2024-11-27T22:37:10.417205",
     "exception": false,
     "start_time": "2024-11-27T22:37:10.414302",
     "status": "completed"
    },
    "tags": []
   },
   "source": [
    "***\n",
    "### load artifacts\n"
   ]
  },
  {
   "cell_type": "code",
   "execution_count": 2,
   "id": "3dd7de46",
   "metadata": {
    "execution": {
     "iopub.execute_input": "2024-11-27T22:37:10.425451Z",
     "iopub.status.busy": "2024-11-27T22:37:10.424921Z",
     "iopub.status.idle": "2024-11-27T22:37:17.366665Z",
     "shell.execute_reply": "2024-11-27T22:37:17.365027Z"
    },
    "papermill": {
     "duration": 6.948851,
     "end_time": "2024-11-27T22:37:17.369194",
     "exception": false,
     "start_time": "2024-11-27T22:37:10.420343",
     "status": "completed"
    },
    "tags": []
   },
   "outputs": [
    {
     "name": "stderr",
     "output_type": "stream",
     "text": [
      "/opt/conda/lib/python3.10/site-packages/sklearn/base.py:318: UserWarning: Trying to unpickle estimator OrdinalEncoder from version 1.5.2 when using version 1.2.2. This might lead to breaking code or invalid results. Use at your own risk. For more info please refer to:\n",
      "https://scikit-learn.org/stable/model_persistence.html#security-maintainability-limitations\n",
      "  warnings.warn(\n"
     ]
    }
   ],
   "source": [
    "# Specify the path where you want to save the serialized function\n",
    "# catboost_artifacts_path = '/kaggle/input/mcts-artifacts/catboost_predict_fs24.pkl'\n",
    "\n",
    "catboost_artifacts_path = '/kaggle/input/mcts-artifacts/catboost_predict_full.pkl'\n",
    "\n",
    "# Load the function from the file\n",
    "with open(catboost_artifacts_path, 'rb') as f:\n",
    "    catboost_artifacts = pickle.load(f)"
   ]
  },
  {
   "cell_type": "code",
   "execution_count": 3,
   "id": "ea3599d6",
   "metadata": {
    "execution": {
     "iopub.execute_input": "2024-11-27T22:37:17.377672Z",
     "iopub.status.busy": "2024-11-27T22:37:17.377223Z",
     "iopub.status.idle": "2024-11-27T22:37:17.386263Z",
     "shell.execute_reply": "2024-11-27T22:37:17.384659Z"
    },
    "papermill": {
     "duration": 0.016119,
     "end_time": "2024-11-27T22:37:17.388730",
     "exception": false,
     "start_time": "2024-11-27T22:37:17.372611",
     "status": "completed"
    },
    "tags": []
   },
   "outputs": [
    {
     "data": {
      "text/plain": [
       "15"
      ]
     },
     "execution_count": 3,
     "metadata": {},
     "output_type": "execute_result"
    }
   ],
   "source": [
    "len(catboost_artifacts[\"models\"])"
   ]
  },
  {
   "cell_type": "code",
   "execution_count": 4,
   "id": "23009b8b",
   "metadata": {
    "execution": {
     "iopub.execute_input": "2024-11-27T22:37:17.397509Z",
     "iopub.status.busy": "2024-11-27T22:37:17.397056Z",
     "iopub.status.idle": "2024-11-27T22:37:17.408856Z",
     "shell.execute_reply": "2024-11-27T22:37:17.407698Z"
    },
    "papermill": {
     "duration": 0.01884,
     "end_time": "2024-11-27T22:37:17.410927",
     "exception": false,
     "start_time": "2024-11-27T22:37:17.392087",
     "status": "completed"
    },
    "tags": []
   },
   "outputs": [
    {
     "name": "stdout",
     "output_type": "stream",
     "text": [
      "len(numerical_cols): 588\n",
      "len(categorical_cols): 10\n"
     ]
    }
   ],
   "source": [
    "class ModelInference:\n",
    "    def __init__(self, models, numerical_cols, categorical_cols, encoder, scaler, text_cols=None):\n",
    "        \"\"\"Initialize inference class with trained artifacts\n",
    "        \n",
    "        Args:\n",
    "            models: List of trained CatBoost models\n",
    "            numerical_cols: List of numerical column names\n",
    "            categorical_cols: List of categorical column names\n",
    "            encoder: Fitted OrdinalEncoder for categorical features\n",
    "            scaler: Fitted StandardScaler for numerical features (optional)\n",
    "            text_cols: List of text columns (optional)\n",
    "        \"\"\"\n",
    "        self.models = models\n",
    "        self.numerical_cols = numerical_cols\n",
    "        self.categorical_cols = categorical_cols\n",
    "        self.text_cols = text_cols if text_cols is not None else []\n",
    "        self.encoder = encoder\n",
    "        self.scaler = scaler\n",
    "\n",
    "        print(\"len(numerical_cols):\", len(numerical_cols))\n",
    "        print(\"len(categorical_cols):\", len(categorical_cols))\n",
    "        \n",
    "    def predict(self, df_test):\n",
    "        \"\"\"Make predictions on test data\n",
    "        \n",
    "        Args:\n",
    "            df_test: pandas DataFrame containing test features\n",
    "            \n",
    "        Returns:\n",
    "            numpy array of predictions\n",
    "        \"\"\"\n",
    "        # Preprocess test data\n",
    "        test_processed = process_test_data(\n",
    "            df_test,\n",
    "            self.numerical_cols,\n",
    "            self.categorical_cols,\n",
    "            self.encoder,\n",
    "            self.scaler,\n",
    "            include_position_features=True,\n",
    "            include_text_features=True,\n",
    "        )\n",
    "        \n",
    "        # Create CatBoost Pool for test data\n",
    "        features = self.numerical_cols + self.categorical_cols\n",
    "        pool_params = {\n",
    "            'data': test_processed[features],\n",
    "            'cat_features': self.categorical_cols,\n",
    "        }\n",
    "        \n",
    "        if self.text_cols:\n",
    "            features += self.text_cols\n",
    "            pool_params['data'] = test_processed[features]\n",
    "            pool_params['text_features'] = self.text_cols\n",
    "            \n",
    "        test_pool = cb.Pool(**pool_params)\n",
    "        \n",
    "        # Get predictions from all models\n",
    "        predictions = np.mean([\n",
    "            model.predict(test_pool)\n",
    "            for model in self.models\n",
    "        ], axis=0)\n",
    "        predictions = np.clip(predictions, -1, 1)\n",
    "        \n",
    "        return predictions\n",
    "\n",
    "# model_catboost = ModelInference(text_cols=[\"LudRules\",], **catboost_artifacts)\n",
    "\n",
    "model_catboost = ModelInference(\n",
    "    # models=catboost_artifacts[\"models\"][:5],\n",
    "    # models=catboost_artifacts[\"models\"][5:10],\n",
    "    # models=catboost_artifacts[\"models\"][10:],\n",
    "    models=catboost_artifacts[\"models\"],\n",
    "    numerical_cols=catboost_artifacts[\"numerical_cols\"],\n",
    "    categorical_cols=catboost_artifacts[\"categorical_cols\"],\n",
    "    # text_cols=[\"LudRules\"],\n",
    "    encoder=catboost_artifacts[\"encoder\"],\n",
    "    scaler=catboost_artifacts[\"scaler\"],\n",
    ")"
   ]
  },
  {
   "cell_type": "code",
   "execution_count": 5,
   "id": "8c300572",
   "metadata": {
    "execution": {
     "iopub.execute_input": "2024-11-27T22:37:17.419596Z",
     "iopub.status.busy": "2024-11-27T22:37:17.419122Z",
     "iopub.status.idle": "2024-11-27T22:37:17.767280Z",
     "shell.execute_reply": "2024-11-27T22:37:17.765987Z"
    },
    "papermill": {
     "duration": 0.355648,
     "end_time": "2024-11-27T22:37:17.770052",
     "exception": false,
     "start_time": "2024-11-27T22:37:17.414404",
     "status": "completed"
    },
    "tags": []
   },
   "outputs": [
    {
     "data": {
      "text/plain": [
       "array([ 0.13480791, -0.16216841, -0.01196988])"
      ]
     },
     "execution_count": 5,
     "metadata": {},
     "output_type": "execute_result"
    }
   ],
   "source": [
    "# sanity check\n",
    "test = pd.read_csv(\"/kaggle/input/um-game-playing-strength-of-mcts-variants/test.csv\")\n",
    "model_catboost.predict(test)"
   ]
  },
  {
   "cell_type": "markdown",
   "id": "58744f43",
   "metadata": {
    "papermill": {
     "duration": 0.003205,
     "end_time": "2024-11-27T22:37:17.776952",
     "exception": false,
     "start_time": "2024-11-27T22:37:17.773747",
     "status": "completed"
    },
    "tags": []
   },
   "source": [
    "***\n",
    "### inference"
   ]
  },
  {
   "cell_type": "code",
   "execution_count": 6,
   "id": "2eb63ada",
   "metadata": {
    "execution": {
     "iopub.execute_input": "2024-11-27T22:37:17.785685Z",
     "iopub.status.busy": "2024-11-27T22:37:17.785169Z",
     "iopub.status.idle": "2024-11-27T22:37:18.322952Z",
     "shell.execute_reply": "2024-11-27T22:37:18.321640Z"
    },
    "papermill": {
     "duration": 0.545208,
     "end_time": "2024-11-27T22:37:18.325577",
     "exception": false,
     "start_time": "2024-11-27T22:37:17.780369",
     "status": "completed"
    },
    "tags": []
   },
   "outputs": [],
   "source": [
    "import os\n",
    "import polars as pl\n",
    "import kaggle_evaluation.mcts_inference_server"
   ]
  },
  {
   "cell_type": "code",
   "execution_count": 7,
   "id": "af34c4e2",
   "metadata": {
    "execution": {
     "iopub.execute_input": "2024-11-27T22:37:18.334690Z",
     "iopub.status.busy": "2024-11-27T22:37:18.334127Z",
     "iopub.status.idle": "2024-11-27T22:37:18.340618Z",
     "shell.execute_reply": "2024-11-27T22:37:18.339044Z"
    },
    "papermill": {
     "duration": 0.014363,
     "end_time": "2024-11-27T22:37:18.343620",
     "exception": false,
     "start_time": "2024-11-27T22:37:18.329257",
     "status": "completed"
    },
    "tags": []
   },
   "outputs": [],
   "source": [
    "def predict(test: pl.DataFrame, sample_sub: pl.DataFrame):\n",
    "    test_pd = test.to_pandas()\n",
    "    predictions = model_catboost.predict(test_pd)\n",
    "    submission = sample_sub.with_columns(pl.Series(\"utility_agent1\", predictions))\n",
    "    return submission"
   ]
  },
  {
   "cell_type": "code",
   "execution_count": 8,
   "id": "684e7ca0",
   "metadata": {
    "execution": {
     "iopub.execute_input": "2024-11-27T22:37:18.352353Z",
     "iopub.status.busy": "2024-11-27T22:37:18.351929Z",
     "iopub.status.idle": "2024-11-27T22:37:19.163904Z",
     "shell.execute_reply": "2024-11-27T22:37:19.162772Z"
    },
    "papermill": {
     "duration": 0.819193,
     "end_time": "2024-11-27T22:37:19.166421",
     "exception": false,
     "start_time": "2024-11-27T22:37:18.347228",
     "status": "completed"
    },
    "tags": []
   },
   "outputs": [],
   "source": [
    "inference_server = kaggle_evaluation.mcts_inference_server.MCTSInferenceServer(predict)\n",
    "\n",
    "if os.getenv('KAGGLE_IS_COMPETITION_RERUN'):\n",
    "    inference_server.serve()\n",
    "else:\n",
    "    inference_server.run_local_gateway(\n",
    "        (\n",
    "            '/kaggle/input/um-game-playing-strength-of-mcts-variants/test.csv',\n",
    "            '/kaggle/input/um-game-playing-strength-of-mcts-variants/sample_submission.csv'\n",
    "        )\n",
    "    )"
   ]
  },
  {
   "cell_type": "markdown",
   "id": "40831fd4",
   "metadata": {
    "papermill": {
     "duration": 0.004253,
     "end_time": "2024-11-27T22:37:19.174836",
     "exception": false,
     "start_time": "2024-11-27T22:37:19.170583",
     "status": "completed"
    },
    "tags": []
   },
   "source": [
    "***"
   ]
  }
 ],
 "metadata": {
  "kaggle": {
   "accelerator": "none",
   "dataSources": [
    {
     "databundleVersionId": 9515283,
     "sourceId": 70089,
     "sourceType": "competition"
    },
    {
     "datasetId": 5909723,
     "sourceId": 10033984,
     "sourceType": "datasetVersion"
    }
   ],
   "dockerImageVersionId": 30786,
   "isGpuEnabled": false,
   "isInternetEnabled": false,
   "language": "python",
   "sourceType": "notebook"
  },
  "kernelspec": {
   "display_name": "Python 3",
   "language": "python",
   "name": "python3"
  },
  "language_info": {
   "codemirror_mode": {
    "name": "ipython",
    "version": 3
   },
   "file_extension": ".py",
   "mimetype": "text/x-python",
   "name": "python",
   "nbconvert_exporter": "python",
   "pygments_lexer": "ipython3",
   "version": "3.10.14"
  },
  "papermill": {
   "default_parameters": {},
   "duration": 15.804814,
   "end_time": "2024-11-27T22:37:20.102758",
   "environment_variables": {},
   "exception": null,
   "input_path": "__notebook__.ipynb",
   "output_path": "__notebook__.ipynb",
   "parameters": {},
   "start_time": "2024-11-27T22:37:04.297944",
   "version": "2.6.0"
  }
 },
 "nbformat": 4,
 "nbformat_minor": 5
}
