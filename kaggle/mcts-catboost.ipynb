{
 "cells": [
  {
   "cell_type": "code",
   "execution_count": 1,
   "id": "88bcb4ec",
   "metadata": {
    "_cell_guid": "b1076dfc-b9ad-4769-8c92-a6c4dae69d19",
    "_uuid": "8f2839f25d086af736a60e9eeb907d3b93b6e0e5",
    "execution": {
     "iopub.execute_input": "2024-11-27T22:38:18.974778Z",
     "iopub.status.busy": "2024-11-27T22:38:18.974279Z",
     "iopub.status.idle": "2024-11-27T22:38:22.041398Z",
     "shell.execute_reply": "2024-11-27T22:38:22.040239Z"
    },
    "papermill": {
     "duration": 3.074852,
     "end_time": "2024-11-27T22:38:22.043985",
     "exception": false,
     "start_time": "2024-11-27T22:38:18.969133",
     "status": "completed"
    },
    "tags": []
   },
   "outputs": [
    {
     "name": "stdout",
     "output_type": "stream",
     "text": [
      "cb.__version__: 1.2.7\n"
     ]
    }
   ],
   "source": [
    "import numpy as np\n",
    "import pandas as pd\n",
    "import matplotlib.pyplot as plt\n",
    "from pathlib import Path\n",
    "import pickle\n",
    "\n",
    "import catboost as cb\n",
    "print(\"cb.__version__:\", cb.__version__)\n",
    "\n",
    "import sys\n",
    "sys.path.append(\"/kaggle/input/mcts-artifacts\")\n",
    "from preproc import process_test_data\n",
    "\n",
    "from sklearn.model_selection import StratifiedGroupKFold\n",
    "from sklearn.preprocessing import OrdinalEncoder, StandardScaler"
   ]
  },
  {
   "cell_type": "markdown",
   "id": "e1d104a5",
   "metadata": {
    "papermill": {
     "duration": 0.002827,
     "end_time": "2024-11-27T22:38:22.050162",
     "exception": false,
     "start_time": "2024-11-27T22:38:22.047335",
     "status": "completed"
    },
    "tags": []
   },
   "source": [
    "***\n",
    "### load artifacts\n"
   ]
  },
  {
   "cell_type": "code",
   "execution_count": 2,
   "id": "7bfa9b86",
   "metadata": {
    "execution": {
     "iopub.execute_input": "2024-11-27T22:38:22.057687Z",
     "iopub.status.busy": "2024-11-27T22:38:22.057168Z",
     "iopub.status.idle": "2024-11-27T22:38:27.386481Z",
     "shell.execute_reply": "2024-11-27T22:38:27.385345Z"
    },
    "papermill": {
     "duration": 5.335866,
     "end_time": "2024-11-27T22:38:27.388908",
     "exception": false,
     "start_time": "2024-11-27T22:38:22.053042",
     "status": "completed"
    },
    "tags": []
   },
   "outputs": [
    {
     "name": "stderr",
     "output_type": "stream",
     "text": [
      "/opt/conda/lib/python3.10/site-packages/sklearn/base.py:318: UserWarning: Trying to unpickle estimator OrdinalEncoder from version 1.5.2 when using version 1.2.2. This might lead to breaking code or invalid results. Use at your own risk. For more info please refer to:\n",
      "https://scikit-learn.org/stable/model_persistence.html#security-maintainability-limitations\n",
      "  warnings.warn(\n"
     ]
    }
   ],
   "source": [
    "# Specify the path where you want to save the serialized function\n",
    "# catboost_artifacts_path = '/kaggle/input/mcts-artifacts/catboost_predict_fs24.pkl'\n",
    "# catboost_artifacts_path = '/kaggle/input/mcts-artifacts/catboost_predict_full.pkl'\n",
    "catboost_artifacts_path = '/kaggle/input/mcts-artifacts/catboost_predict_fsv2.pkl'\n",
    "\n",
    "# Load the function from the file\n",
    "with open(catboost_artifacts_path, 'rb') as f:\n",
    "    catboost_artifacts = pickle.load(f)"
   ]
  },
  {
   "cell_type": "code",
   "execution_count": 3,
   "id": "683d7a6c",
   "metadata": {
    "execution": {
     "iopub.execute_input": "2024-11-27T22:38:27.396426Z",
     "iopub.status.busy": "2024-11-27T22:38:27.396071Z",
     "iopub.status.idle": "2024-11-27T22:38:27.403303Z",
     "shell.execute_reply": "2024-11-27T22:38:27.402236Z"
    },
    "papermill": {
     "duration": 0.013102,
     "end_time": "2024-11-27T22:38:27.405126",
     "exception": false,
     "start_time": "2024-11-27T22:38:27.392024",
     "status": "completed"
    },
    "tags": []
   },
   "outputs": [
    {
     "data": {
      "text/plain": [
       "15"
      ]
     },
     "execution_count": 3,
     "metadata": {},
     "output_type": "execute_result"
    }
   ],
   "source": [
    "len(catboost_artifacts[\"models\"])"
   ]
  },
  {
   "cell_type": "code",
   "execution_count": 4,
   "id": "90974eb1",
   "metadata": {
    "execution": {
     "iopub.execute_input": "2024-11-27T22:38:27.413135Z",
     "iopub.status.busy": "2024-11-27T22:38:27.412764Z",
     "iopub.status.idle": "2024-11-27T22:38:27.423608Z",
     "shell.execute_reply": "2024-11-27T22:38:27.422601Z"
    },
    "papermill": {
     "duration": 0.017588,
     "end_time": "2024-11-27T22:38:27.425927",
     "exception": false,
     "start_time": "2024-11-27T22:38:27.408339",
     "status": "completed"
    },
    "tags": []
   },
   "outputs": [
    {
     "name": "stdout",
     "output_type": "stream",
     "text": [
      "len(numerical_cols): 368\n",
      "len(categorical_cols): 5\n"
     ]
    }
   ],
   "source": [
    "class ModelInference:\n",
    "    def __init__(self, models, numerical_cols, categorical_cols, encoder, scaler, text_cols=None):\n",
    "        \"\"\"Initialize inference class with trained artifacts\n",
    "        \n",
    "        Args:\n",
    "            models: List of trained CatBoost models\n",
    "            numerical_cols: List of numerical column names\n",
    "            categorical_cols: List of categorical column names\n",
    "            encoder: Fitted OrdinalEncoder for categorical features\n",
    "            scaler: Fitted StandardScaler for numerical features (optional)\n",
    "            text_cols: List of text columns (optional)\n",
    "        \"\"\"\n",
    "        self.models = models\n",
    "        self.numerical_cols = numerical_cols\n",
    "        self.categorical_cols = categorical_cols\n",
    "        self.text_cols = text_cols if text_cols is not None else []\n",
    "        self.encoder = encoder\n",
    "        self.scaler = scaler\n",
    "\n",
    "        print(\"len(numerical_cols):\", len(numerical_cols))\n",
    "        print(\"len(categorical_cols):\", len(categorical_cols))\n",
    "        \n",
    "    def predict(self, df_test):\n",
    "        \"\"\"Make predictions on test data\n",
    "        \n",
    "        Args:\n",
    "            df_test: pandas DataFrame containing test features\n",
    "            \n",
    "        Returns:\n",
    "            numpy array of predictions\n",
    "        \"\"\"\n",
    "        # Preprocess test data\n",
    "        test_processed = process_test_data(\n",
    "            df_test,\n",
    "            self.numerical_cols,\n",
    "            self.categorical_cols,\n",
    "            self.encoder,\n",
    "            self.scaler,\n",
    "            include_position_features=True,\n",
    "            include_text_features=True,\n",
    "        )\n",
    "        \n",
    "        # Create CatBoost Pool for test data\n",
    "        features = self.numerical_cols + self.categorical_cols\n",
    "        pool_params = {\n",
    "            'data': test_processed[features],\n",
    "            'cat_features': self.categorical_cols,\n",
    "        }\n",
    "        \n",
    "        if self.text_cols:\n",
    "            features += self.text_cols\n",
    "            pool_params['data'] = test_processed[features]\n",
    "            pool_params['text_features'] = self.text_cols\n",
    "            \n",
    "        test_pool = cb.Pool(**pool_params)\n",
    "        \n",
    "        # Get predictions from all models\n",
    "        predictions = np.mean([\n",
    "            model.predict(test_pool)\n",
    "            for model in self.models\n",
    "        ], axis=0)\n",
    "        predictions = np.clip(predictions, -1, 1)\n",
    "        \n",
    "        return predictions\n",
    "\n",
    "# model_catboost = ModelInference(text_cols=[\"LudRules\",], **catboost_artifacts)\n",
    "\n",
    "model_catboost = ModelInference(\n",
    "    # models=catboost_artifacts[\"models\"][:5],\n",
    "    # models=catboost_artifacts[\"models\"][5:10],\n",
    "    # models=catboost_artifacts[\"models\"][10:],\n",
    "    models=catboost_artifacts[\"models\"],\n",
    "    numerical_cols=catboost_artifacts[\"numerical_cols\"],\n",
    "    categorical_cols=catboost_artifacts[\"categorical_cols\"],\n",
    "    # text_cols=[\"LudRules\"],\n",
    "    encoder=catboost_artifacts[\"encoder\"],\n",
    "    scaler=catboost_artifacts[\"scaler\"],\n",
    ")"
   ]
  },
  {
   "cell_type": "code",
   "execution_count": 5,
   "id": "8bc3d63d",
   "metadata": {
    "execution": {
     "iopub.execute_input": "2024-11-27T22:38:27.434425Z",
     "iopub.status.busy": "2024-11-27T22:38:27.433627Z",
     "iopub.status.idle": "2024-11-27T22:38:27.673344Z",
     "shell.execute_reply": "2024-11-27T22:38:27.672288Z"
    },
    "papermill": {
     "duration": 0.2466,
     "end_time": "2024-11-27T22:38:27.676034",
     "exception": false,
     "start_time": "2024-11-27T22:38:27.429434",
     "status": "completed"
    },
    "tags": []
   },
   "outputs": [
    {
     "data": {
      "text/plain": [
       "array([ 0.12853852, -0.13160347, -0.05588544])"
      ]
     },
     "execution_count": 5,
     "metadata": {},
     "output_type": "execute_result"
    }
   ],
   "source": [
    "# sanity check\n",
    "test = pd.read_csv(\"/kaggle/input/um-game-playing-strength-of-mcts-variants/test.csv\")\n",
    "model_catboost.predict(test)"
   ]
  },
  {
   "cell_type": "markdown",
   "id": "ca911999",
   "metadata": {
    "papermill": {
     "duration": 0.003047,
     "end_time": "2024-11-27T22:38:27.682695",
     "exception": false,
     "start_time": "2024-11-27T22:38:27.679648",
     "status": "completed"
    },
    "tags": []
   },
   "source": [
    "***\n",
    "### inference"
   ]
  },
  {
   "cell_type": "code",
   "execution_count": 6,
   "id": "5e385abf",
   "metadata": {
    "execution": {
     "iopub.execute_input": "2024-11-27T22:38:27.690728Z",
     "iopub.status.busy": "2024-11-27T22:38:27.690334Z",
     "iopub.status.idle": "2024-11-27T22:38:28.232475Z",
     "shell.execute_reply": "2024-11-27T22:38:28.231488Z"
    },
    "papermill": {
     "duration": 0.54902,
     "end_time": "2024-11-27T22:38:28.234962",
     "exception": false,
     "start_time": "2024-11-27T22:38:27.685942",
     "status": "completed"
    },
    "tags": []
   },
   "outputs": [],
   "source": [
    "import os\n",
    "import polars as pl\n",
    "import kaggle_evaluation.mcts_inference_server"
   ]
  },
  {
   "cell_type": "code",
   "execution_count": 7,
   "id": "6c1b8e8f",
   "metadata": {
    "execution": {
     "iopub.execute_input": "2024-11-27T22:38:28.243508Z",
     "iopub.status.busy": "2024-11-27T22:38:28.242969Z",
     "iopub.status.idle": "2024-11-27T22:38:28.248373Z",
     "shell.execute_reply": "2024-11-27T22:38:28.247359Z"
    },
    "papermill": {
     "duration": 0.012175,
     "end_time": "2024-11-27T22:38:28.250680",
     "exception": false,
     "start_time": "2024-11-27T22:38:28.238505",
     "status": "completed"
    },
    "tags": []
   },
   "outputs": [],
   "source": [
    "def predict(test: pl.DataFrame, sample_sub: pl.DataFrame):\n",
    "    test_pd = test.to_pandas()\n",
    "    predictions = model_catboost.predict(test_pd)\n",
    "    submission = sample_sub.with_columns(pl.Series(\"utility_agent1\", predictions))\n",
    "    return submission"
   ]
  },
  {
   "cell_type": "code",
   "execution_count": 8,
   "id": "671d8d28",
   "metadata": {
    "execution": {
     "iopub.execute_input": "2024-11-27T22:38:28.258965Z",
     "iopub.status.busy": "2024-11-27T22:38:28.258603Z",
     "iopub.status.idle": "2024-11-27T22:38:28.875084Z",
     "shell.execute_reply": "2024-11-27T22:38:28.874033Z"
    },
    "papermill": {
     "duration": 0.623321,
     "end_time": "2024-11-27T22:38:28.877444",
     "exception": false,
     "start_time": "2024-11-27T22:38:28.254123",
     "status": "completed"
    },
    "tags": []
   },
   "outputs": [],
   "source": [
    "inference_server = kaggle_evaluation.mcts_inference_server.MCTSInferenceServer(predict)\n",
    "\n",
    "if os.getenv('KAGGLE_IS_COMPETITION_RERUN'):\n",
    "    inference_server.serve()\n",
    "else:\n",
    "    inference_server.run_local_gateway(\n",
    "        (\n",
    "            '/kaggle/input/um-game-playing-strength-of-mcts-variants/test.csv',\n",
    "            '/kaggle/input/um-game-playing-strength-of-mcts-variants/sample_submission.csv'\n",
    "        )\n",
    "    )"
   ]
  },
  {
   "cell_type": "markdown",
   "id": "2a7fccdf",
   "metadata": {
    "papermill": {
     "duration": 0.004047,
     "end_time": "2024-11-27T22:38:28.884966",
     "exception": false,
     "start_time": "2024-11-27T22:38:28.880919",
     "status": "completed"
    },
    "tags": []
   },
   "source": [
    "***"
   ]
  }
 ],
 "metadata": {
  "kaggle": {
   "accelerator": "none",
   "dataSources": [
    {
     "databundleVersionId": 9515283,
     "sourceId": 70089,
     "sourceType": "competition"
    },
    {
     "datasetId": 5909723,
     "sourceId": 10033984,
     "sourceType": "datasetVersion"
    }
   ],
   "dockerImageVersionId": 30786,
   "isGpuEnabled": false,
   "isInternetEnabled": false,
   "language": "python",
   "sourceType": "notebook"
  },
  "kernelspec": {
   "display_name": "Python 3",
   "language": "python",
   "name": "python3"
  },
  "language_info": {
   "codemirror_mode": {
    "name": "ipython",
    "version": 3
   },
   "file_extension": ".py",
   "mimetype": "text/x-python",
   "name": "python",
   "nbconvert_exporter": "python",
   "pygments_lexer": "ipython3",
   "version": "3.10.14"
  },
  "papermill": {
   "default_parameters": {},
   "duration": 13.444337,
   "end_time": "2024-11-27T22:38:29.609447",
   "environment_variables": {},
   "exception": null,
   "input_path": "__notebook__.ipynb",
   "output_path": "__notebook__.ipynb",
   "parameters": {},
   "start_time": "2024-11-27T22:38:16.165110",
   "version": "2.6.0"
  }
 },
 "nbformat": 4,
 "nbformat_minor": 5
}
