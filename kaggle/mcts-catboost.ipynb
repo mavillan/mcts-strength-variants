{
 "cells": [
  {
   "cell_type": "code",
   "execution_count": 1,
   "id": "99dcb4e2",
   "metadata": {
    "_cell_guid": "b1076dfc-b9ad-4769-8c92-a6c4dae69d19",
    "_uuid": "8f2839f25d086af736a60e9eeb907d3b93b6e0e5",
    "execution": {
     "iopub.execute_input": "2024-11-27T22:42:46.158070Z",
     "iopub.status.busy": "2024-11-27T22:42:46.157533Z",
     "iopub.status.idle": "2024-11-27T22:42:48.867391Z",
     "shell.execute_reply": "2024-11-27T22:42:48.866190Z"
    },
    "papermill": {
     "duration": 2.717461,
     "end_time": "2024-11-27T22:42:48.869623",
     "exception": false,
     "start_time": "2024-11-27T22:42:46.152162",
     "status": "completed"
    },
    "tags": []
   },
   "outputs": [
    {
     "name": "stdout",
     "output_type": "stream",
     "text": [
      "cb.__version__: 1.2.7\n"
     ]
    }
   ],
   "source": [
    "import numpy as np\n",
    "import pandas as pd\n",
    "import matplotlib.pyplot as plt\n",
    "from pathlib import Path\n",
    "import pickle\n",
    "\n",
    "import catboost as cb\n",
    "print(\"cb.__version__:\", cb.__version__)\n",
    "\n",
    "import sys\n",
    "sys.path.append(\"/kaggle/input/mcts-artifacts\")\n",
    "from preproc import process_test_data\n",
    "\n",
    "from sklearn.model_selection import StratifiedGroupKFold\n",
    "from sklearn.preprocessing import OrdinalEncoder, StandardScaler"
   ]
  },
  {
   "cell_type": "markdown",
   "id": "722417ae",
   "metadata": {
    "papermill": {
     "duration": 0.002789,
     "end_time": "2024-11-27T22:42:48.875806",
     "exception": false,
     "start_time": "2024-11-27T22:42:48.873017",
     "status": "completed"
    },
    "tags": []
   },
   "source": [
    "***\n",
    "### load artifacts\n"
   ]
  },
  {
   "cell_type": "code",
   "execution_count": 2,
   "id": "cab39994",
   "metadata": {
    "execution": {
     "iopub.execute_input": "2024-11-27T22:42:48.883371Z",
     "iopub.status.busy": "2024-11-27T22:42:48.882867Z",
     "iopub.status.idle": "2024-11-27T22:42:53.884396Z",
     "shell.execute_reply": "2024-11-27T22:42:53.883397Z"
    },
    "papermill": {
     "duration": 5.008514,
     "end_time": "2024-11-27T22:42:53.887217",
     "exception": false,
     "start_time": "2024-11-27T22:42:48.878703",
     "status": "completed"
    },
    "tags": []
   },
   "outputs": [
    {
     "name": "stderr",
     "output_type": "stream",
     "text": [
      "/opt/conda/lib/python3.10/site-packages/sklearn/base.py:318: UserWarning: Trying to unpickle estimator OrdinalEncoder from version 1.5.2 when using version 1.2.2. This might lead to breaking code or invalid results. Use at your own risk. For more info please refer to:\n",
      "https://scikit-learn.org/stable/model_persistence.html#security-maintainability-limitations\n",
      "  warnings.warn(\n"
     ]
    }
   ],
   "source": [
    "# Specify the path where you want to save the serialized function\n",
    "# catboost_artifacts_path = '/kaggle/input/mcts-artifacts/catboost_predict_fs24.pkl'\n",
    "# catboost_artifacts_path = '/kaggle/input/mcts-artifacts/catboost_predict_full.pkl'\n",
    "# catboost_artifacts_path = '/kaggle/input/mcts-artifacts/catboost_predict_fsv2.pkl'\n",
    "# catboost_artifacts_path = '/kaggle/input/mcts-artifacts/catboost_predict_fsv23.pkl'\n",
    "# catboost_artifacts_path = '/kaggle/input/mcts-artifacts/catboost_predict_fsv34.pkl'\n",
    "catboost_artifacts_path = '/kaggle/input/mcts-artifacts/catboost_predict_uni90.pkl'\n",
    "\n",
    "# Load the function from the file\n",
    "with open(catboost_artifacts_path, 'rb') as f:\n",
    "    catboost_artifacts = pickle.load(f)"
   ]
  },
  {
   "cell_type": "code",
   "execution_count": 3,
   "id": "d530fe0c",
   "metadata": {
    "execution": {
     "iopub.execute_input": "2024-11-27T22:42:53.895592Z",
     "iopub.status.busy": "2024-11-27T22:42:53.895255Z",
     "iopub.status.idle": "2024-11-27T22:42:53.902702Z",
     "shell.execute_reply": "2024-11-27T22:42:53.901593Z"
    },
    "papermill": {
     "duration": 0.013764,
     "end_time": "2024-11-27T22:42:53.904744",
     "exception": false,
     "start_time": "2024-11-27T22:42:53.890980",
     "status": "completed"
    },
    "tags": []
   },
   "outputs": [
    {
     "data": {
      "text/plain": [
       "15"
      ]
     },
     "execution_count": 3,
     "metadata": {},
     "output_type": "execute_result"
    }
   ],
   "source": [
    "len(catboost_artifacts[\"models\"])"
   ]
  },
  {
   "cell_type": "code",
   "execution_count": 4,
   "id": "af67984e",
   "metadata": {
    "execution": {
     "iopub.execute_input": "2024-11-27T22:42:53.913849Z",
     "iopub.status.busy": "2024-11-27T22:42:53.913467Z",
     "iopub.status.idle": "2024-11-27T22:42:53.924437Z",
     "shell.execute_reply": "2024-11-27T22:42:53.923220Z"
    },
    "papermill": {
     "duration": 0.018769,
     "end_time": "2024-11-27T22:42:53.926954",
     "exception": false,
     "start_time": "2024-11-27T22:42:53.908185",
     "status": "completed"
    },
    "tags": []
   },
   "outputs": [
    {
     "name": "stdout",
     "output_type": "stream",
     "text": [
      "len(numerical_cols): 398\n",
      "len(categorical_cols): 10\n"
     ]
    }
   ],
   "source": [
    "class ModelInference:\n",
    "    def __init__(self, models, numerical_cols, categorical_cols, encoder, scaler, text_cols=None):\n",
    "        \"\"\"Initialize inference class with trained artifacts\n",
    "        \n",
    "        Args:\n",
    "            models: List of trained CatBoost models\n",
    "            numerical_cols: List of numerical column names\n",
    "            categorical_cols: List of categorical column names\n",
    "            encoder: Fitted OrdinalEncoder for categorical features\n",
    "            scaler: Fitted StandardScaler for numerical features (optional)\n",
    "            text_cols: List of text columns (optional)\n",
    "        \"\"\"\n",
    "        self.models = models\n",
    "        self.numerical_cols = numerical_cols\n",
    "        self.categorical_cols = categorical_cols\n",
    "        self.text_cols = text_cols if text_cols is not None else []\n",
    "        self.encoder = encoder\n",
    "        self.scaler = scaler\n",
    "\n",
    "        print(\"len(numerical_cols):\", len(numerical_cols))\n",
    "        print(\"len(categorical_cols):\", len(categorical_cols))\n",
    "        \n",
    "    def predict(self, df_test):\n",
    "        \"\"\"Make predictions on test data\n",
    "        \n",
    "        Args:\n",
    "            df_test: pandas DataFrame containing test features\n",
    "            \n",
    "        Returns:\n",
    "            numpy array of predictions\n",
    "        \"\"\"\n",
    "        # Preprocess test data\n",
    "        test_processed = process_test_data(\n",
    "            df_test,\n",
    "            self.numerical_cols,\n",
    "            self.categorical_cols,\n",
    "            self.encoder,\n",
    "            self.scaler,\n",
    "            include_position_features=True,\n",
    "            include_text_features=True,\n",
    "        )\n",
    "        \n",
    "        # Create CatBoost Pool for test data\n",
    "        features = self.numerical_cols + self.categorical_cols\n",
    "        pool_params = {\n",
    "            'data': test_processed[features],\n",
    "            'cat_features': self.categorical_cols,\n",
    "        }\n",
    "        \n",
    "        if self.text_cols:\n",
    "            features += self.text_cols\n",
    "            pool_params['data'] = test_processed[features]\n",
    "            pool_params['text_features'] = self.text_cols\n",
    "            \n",
    "        test_pool = cb.Pool(**pool_params)\n",
    "        \n",
    "        # Get predictions from all models\n",
    "        predictions = np.mean([\n",
    "            model.predict(test_pool)\n",
    "            for model in self.models\n",
    "        ], axis=0)\n",
    "        predictions = np.clip(predictions, -1, 1)\n",
    "        \n",
    "        return predictions\n",
    "\n",
    "# model_catboost = ModelInference(text_cols=[\"LudRules\",], **catboost_artifacts)\n",
    "\n",
    "model_catboost = ModelInference(\n",
    "    # models=catboost_artifacts[\"models\"][:5],\n",
    "    # models=catboost_artifacts[\"models\"][5:10],\n",
    "    # models=catboost_artifacts[\"models\"][10:],\n",
    "    models=catboost_artifacts[\"models\"],\n",
    "    numerical_cols=catboost_artifacts[\"numerical_cols\"],\n",
    "    categorical_cols=catboost_artifacts[\"categorical_cols\"],\n",
    "    # text_cols=[\"LudRules\"],\n",
    "    encoder=catboost_artifacts[\"encoder\"],\n",
    "    scaler=catboost_artifacts[\"scaler\"],\n",
    ")"
   ]
  },
  {
   "cell_type": "code",
   "execution_count": 5,
   "id": "bab30962",
   "metadata": {
    "execution": {
     "iopub.execute_input": "2024-11-27T22:42:53.935126Z",
     "iopub.status.busy": "2024-11-27T22:42:53.934693Z",
     "iopub.status.idle": "2024-11-27T22:42:54.188572Z",
     "shell.execute_reply": "2024-11-27T22:42:54.187364Z"
    },
    "papermill": {
     "duration": 0.260575,
     "end_time": "2024-11-27T22:42:54.190839",
     "exception": false,
     "start_time": "2024-11-27T22:42:53.930264",
     "status": "completed"
    },
    "tags": []
   },
   "outputs": [
    {
     "data": {
      "text/plain": [
       "array([ 0.13237058, -0.15197862, -0.00421987])"
      ]
     },
     "execution_count": 5,
     "metadata": {},
     "output_type": "execute_result"
    }
   ],
   "source": [
    "# sanity check\n",
    "test = pd.read_csv(\"/kaggle/input/um-game-playing-strength-of-mcts-variants/test.csv\")\n",
    "model_catboost.predict(test)"
   ]
  },
  {
   "cell_type": "markdown",
   "id": "138f7da9",
   "metadata": {
    "papermill": {
     "duration": 0.003053,
     "end_time": "2024-11-27T22:42:54.197374",
     "exception": false,
     "start_time": "2024-11-27T22:42:54.194321",
     "status": "completed"
    },
    "tags": []
   },
   "source": [
    "***\n",
    "### inference"
   ]
  },
  {
   "cell_type": "code",
   "execution_count": 6,
   "id": "013dc184",
   "metadata": {
    "execution": {
     "iopub.execute_input": "2024-11-27T22:42:54.205712Z",
     "iopub.status.busy": "2024-11-27T22:42:54.205353Z",
     "iopub.status.idle": "2024-11-27T22:42:54.695664Z",
     "shell.execute_reply": "2024-11-27T22:42:54.694671Z"
    },
    "papermill": {
     "duration": 0.497323,
     "end_time": "2024-11-27T22:42:54.698029",
     "exception": false,
     "start_time": "2024-11-27T22:42:54.200706",
     "status": "completed"
    },
    "tags": []
   },
   "outputs": [],
   "source": [
    "import os\n",
    "import polars as pl\n",
    "import kaggle_evaluation.mcts_inference_server"
   ]
  },
  {
   "cell_type": "code",
   "execution_count": 7,
   "id": "52e2fea2",
   "metadata": {
    "execution": {
     "iopub.execute_input": "2024-11-27T22:42:54.706546Z",
     "iopub.status.busy": "2024-11-27T22:42:54.706057Z",
     "iopub.status.idle": "2024-11-27T22:42:54.711442Z",
     "shell.execute_reply": "2024-11-27T22:42:54.710396Z"
    },
    "papermill": {
     "duration": 0.012056,
     "end_time": "2024-11-27T22:42:54.713564",
     "exception": false,
     "start_time": "2024-11-27T22:42:54.701508",
     "status": "completed"
    },
    "tags": []
   },
   "outputs": [],
   "source": [
    "def predict(test: pl.DataFrame, sample_sub: pl.DataFrame):\n",
    "    test_pd = test.to_pandas()\n",
    "    predictions = model_catboost.predict(test_pd)\n",
    "    submission = sample_sub.with_columns(pl.Series(\"utility_agent1\", predictions))\n",
    "    return submission"
   ]
  },
  {
   "cell_type": "code",
   "execution_count": 8,
   "id": "1adf7926",
   "metadata": {
    "execution": {
     "iopub.execute_input": "2024-11-27T22:42:54.722029Z",
     "iopub.status.busy": "2024-11-27T22:42:54.721503Z",
     "iopub.status.idle": "2024-11-27T22:42:55.433166Z",
     "shell.execute_reply": "2024-11-27T22:42:55.432223Z"
    },
    "papermill": {
     "duration": 0.71843,
     "end_time": "2024-11-27T22:42:55.435440",
     "exception": false,
     "start_time": "2024-11-27T22:42:54.717010",
     "status": "completed"
    },
    "tags": []
   },
   "outputs": [],
   "source": [
    "inference_server = kaggle_evaluation.mcts_inference_server.MCTSInferenceServer(predict)\n",
    "\n",
    "if os.getenv('KAGGLE_IS_COMPETITION_RERUN'):\n",
    "    inference_server.serve()\n",
    "else:\n",
    "    inference_server.run_local_gateway(\n",
    "        (\n",
    "            '/kaggle/input/um-game-playing-strength-of-mcts-variants/test.csv',\n",
    "            '/kaggle/input/um-game-playing-strength-of-mcts-variants/sample_submission.csv'\n",
    "        )\n",
    "    )"
   ]
  },
  {
   "cell_type": "markdown",
   "id": "82d22e43",
   "metadata": {
    "papermill": {
     "duration": 0.004025,
     "end_time": "2024-11-27T22:42:55.443028",
     "exception": false,
     "start_time": "2024-11-27T22:42:55.439003",
     "status": "completed"
    },
    "tags": []
   },
   "source": [
    "***"
   ]
  }
 ],
 "metadata": {
  "kaggle": {
   "accelerator": "none",
   "dataSources": [
    {
     "databundleVersionId": 9515283,
     "sourceId": 70089,
     "sourceType": "competition"
    },
    {
     "datasetId": 5909723,
     "sourceId": 10033984,
     "sourceType": "datasetVersion"
    }
   ],
   "dockerImageVersionId": 30786,
   "isGpuEnabled": false,
   "isInternetEnabled": false,
   "language": "python",
   "sourceType": "notebook"
  },
  "kernelspec": {
   "display_name": "Python 3",
   "language": "python",
   "name": "python3"
  },
  "language_info": {
   "codemirror_mode": {
    "name": "ipython",
    "version": 3
   },
   "file_extension": ".py",
   "mimetype": "text/x-python",
   "name": "python",
   "nbconvert_exporter": "python",
   "pygments_lexer": "ipython3",
   "version": "3.10.14"
  },
  "papermill": {
   "default_parameters": {},
   "duration": 12.822642,
   "end_time": "2024-11-27T22:42:56.268297",
   "environment_variables": {},
   "exception": null,
   "input_path": "__notebook__.ipynb",
   "output_path": "__notebook__.ipynb",
   "parameters": {},
   "start_time": "2024-11-27T22:42:43.445655",
   "version": "2.6.0"
  }
 },
 "nbformat": 4,
 "nbformat_minor": 5
}
