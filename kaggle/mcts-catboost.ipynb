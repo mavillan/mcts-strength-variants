{
 "cells": [
  {
   "cell_type": "code",
   "execution_count": 1,
   "id": "3d36810a",
   "metadata": {
    "_cell_guid": "b1076dfc-b9ad-4769-8c92-a6c4dae69d19",
    "_uuid": "8f2839f25d086af736a60e9eeb907d3b93b6e0e5",
    "execution": {
     "iopub.execute_input": "2024-11-28T23:50:40.225684Z",
     "iopub.status.busy": "2024-11-28T23:50:40.224949Z",
     "iopub.status.idle": "2024-11-28T23:50:43.924153Z",
     "shell.execute_reply": "2024-11-28T23:50:43.922953Z"
    },
    "papermill": {
     "duration": 3.706588,
     "end_time": "2024-11-28T23:50:43.926669",
     "exception": false,
     "start_time": "2024-11-28T23:50:40.220081",
     "status": "completed"
    },
    "tags": []
   },
   "outputs": [
    {
     "name": "stdout",
     "output_type": "stream",
     "text": [
      "cb.__version__: 1.2.7\n"
     ]
    }
   ],
   "source": [
    "import numpy as np\n",
    "import pandas as pd\n",
    "import matplotlib.pyplot as plt\n",
    "from pathlib import Path\n",
    "import pickle\n",
    "import os\n",
    "import polars\n",
    "\n",
    "import catboost as cb\n",
    "print(\"cb.__version__:\", cb.__version__)\n",
    "\n",
    "import sys\n",
    "sys.path.append(\"/kaggle/input/mcts-artifacts\")\n",
    "from preproc import process_test_data\n",
    "import kaggle_evaluation.mcts_inference_server"
   ]
  },
  {
   "cell_type": "markdown",
   "id": "72404451",
   "metadata": {
    "papermill": {
     "duration": 0.00232,
     "end_time": "2024-11-28T23:50:43.931935",
     "exception": false,
     "start_time": "2024-11-28T23:50:43.929615",
     "status": "completed"
    },
    "tags": []
   },
   "source": [
    "***\n",
    "### load artifacts\n"
   ]
  },
  {
   "cell_type": "code",
   "execution_count": 2,
   "id": "c8def9d3",
   "metadata": {
    "execution": {
     "iopub.execute_input": "2024-11-28T23:50:43.938572Z",
     "iopub.status.busy": "2024-11-28T23:50:43.938023Z",
     "iopub.status.idle": "2024-11-28T23:50:48.297660Z",
     "shell.execute_reply": "2024-11-28T23:50:48.296048Z"
    },
    "papermill": {
     "duration": 4.365579,
     "end_time": "2024-11-28T23:50:48.299989",
     "exception": false,
     "start_time": "2024-11-28T23:50:43.934410",
     "status": "completed"
    },
    "tags": []
   },
   "outputs": [
    {
     "name": "stderr",
     "output_type": "stream",
     "text": [
      "/opt/conda/lib/python3.10/site-packages/sklearn/base.py:318: UserWarning: Trying to unpickle estimator OrdinalEncoder from version 1.5.2 when using version 1.2.2. This might lead to breaking code or invalid results. Use at your own risk. For more info please refer to:\n",
      "https://scikit-learn.org/stable/model_persistence.html#security-maintainability-limitations\n",
      "  warnings.warn(\n"
     ]
    },
    {
     "data": {
      "text/plain": [
       "15"
      ]
     },
     "execution_count": 2,
     "metadata": {},
     "output_type": "execute_result"
    }
   ],
   "source": [
    "# Specify the path where you want to save the serialized function\n",
    "# catboost_artifacts_path = '/kaggle/input/mcts-artifacts/catboost_predict_fs24.pkl'\n",
    "# catboost_artifacts_path = '/kaggle/input/mcts-artifacts/catboost_predict_full.pkl'\n",
    "# catboost_artifacts_path = '/kaggle/input/mcts-artifacts/catboost_predict_fsv2.pkl'\n",
    "# catboost_artifacts_path = '/kaggle/input/mcts-artifacts/catboost_predict_fsv23.pkl'\n",
    "# catboost_artifacts_path = '/kaggle/input/mcts-artifacts/catboost_predict_fsv34.pkl'\n",
    "catboost_artifacts_path = '/kaggle/input/mcts-artifacts/catboost_text_predict_uni90.pkl'\n",
    "\n",
    "# Load the function from the file\n",
    "with open(catboost_artifacts_path, 'rb') as f:\n",
    "    catboost_artifacts = pickle.load(f)\n",
    "\n",
    "len(catboost_artifacts[\"models\"])"
   ]
  },
  {
   "cell_type": "code",
   "execution_count": 3,
   "id": "36820be6",
   "metadata": {
    "execution": {
     "iopub.execute_input": "2024-11-28T23:50:48.308132Z",
     "iopub.status.busy": "2024-11-28T23:50:48.307692Z",
     "iopub.status.idle": "2024-11-28T23:50:48.320416Z",
     "shell.execute_reply": "2024-11-28T23:50:48.319186Z"
    },
    "papermill": {
     "duration": 0.021172,
     "end_time": "2024-11-28T23:50:48.324069",
     "exception": false,
     "start_time": "2024-11-28T23:50:48.302897",
     "status": "completed"
    },
    "tags": []
   },
   "outputs": [
    {
     "name": "stdout",
     "output_type": "stream",
     "text": [
      "len(numerical_cols): 398\n",
      "len(categorical_cols): 10\n"
     ]
    }
   ],
   "source": [
    "class CATBoostInference:\n",
    "    def __init__(\n",
    "        self,\n",
    "        models,\n",
    "        numerical_cols,\n",
    "        categorical_cols,\n",
    "        encoder,\n",
    "        scaler,\n",
    "        text_cols=None,\n",
    "    ):\n",
    "        \"\"\"Initialize inference class with trained artifacts\n",
    "        \n",
    "        Args:\n",
    "            models: List of trained CatBoost models\n",
    "            numerical_cols: List of numerical column names\n",
    "            categorical_cols: List of categorical column names\n",
    "            encoder: Fitted OrdinalEncoder for categorical features\n",
    "            scaler: Fitted StandardScaler for numerical features (optional)\n",
    "            text_cols: List of text columns (optional)\n",
    "        \"\"\"\n",
    "        self.models = models\n",
    "        self.numerical_cols = numerical_cols\n",
    "        self.categorical_cols = categorical_cols\n",
    "        self.text_cols = text_cols\n",
    "        self.encoder = encoder\n",
    "        self.scaler = scaler\n",
    "\n",
    "        print(\"len(numerical_cols):\", len(numerical_cols))\n",
    "        print(\"len(categorical_cols):\", len(categorical_cols))\n",
    "        \n",
    "    def predict_array(self, df_test):\n",
    "        \"\"\"Make predictions on test data\n",
    "        \n",
    "        Args:\n",
    "            df_test: pandas DataFrame containing test features\n",
    "            \n",
    "        Returns:\n",
    "            numpy array of predictions\n",
    "        \"\"\"\n",
    "        # Preprocess test data\n",
    "        test_processed = process_test_data(\n",
    "            df_test,\n",
    "            self.numerical_cols,\n",
    "            self.categorical_cols,\n",
    "            self.encoder,\n",
    "            self.scaler,\n",
    "            include_position_features=True,\n",
    "            include_text_features=True,\n",
    "        )\n",
    "        \n",
    "        # Create CatBoost Pool for test data\n",
    "        features = self.numerical_cols + self.categorical_cols\n",
    "        pool_kwargs = {\n",
    "            'data': test_processed[features],\n",
    "            'cat_features': self.categorical_cols,\n",
    "        }\n",
    "        \n",
    "        if self.text_cols is not None:\n",
    "            features += self.text_cols\n",
    "            pool_kwargs['data'] = test_processed[features]\n",
    "            pool_kwargs['text_features'] = self.text_cols\n",
    "            \n",
    "        test_pool = cb.Pool(**pool_kwargs)\n",
    "        \n",
    "        # Get predictions from all models\n",
    "        predictions = np.mean([\n",
    "            model.predict(test_pool)\n",
    "            for model in self.models\n",
    "        ], axis=0)\n",
    "        predictions = np.clip(predictions, -1, 1)\n",
    "        \n",
    "        return predictions\n",
    "    \n",
    "\n",
    "    def predict(self, test: polars.DataFrame, sample_sub: polars.DataFrame):\n",
    "        test_pd = test.to_pandas()\n",
    "        predictions = self.predict_array(test_pd)\n",
    "        submission = sample_sub.with_columns(polars.Series(\"utility_agent1\", predictions))\n",
    "        return submission\n",
    "\n",
    "\n",
    "model_catboost = CATBoostInference(\n",
    "    # models=catboost_artifacts[\"models\"][:5],\n",
    "    # models=catboost_artifacts[\"models\"][5:10],\n",
    "    # models=catboost_artifacts[\"models\"][10:],\n",
    "    models=catboost_artifacts[\"models\"],\n",
    "    numerical_cols=catboost_artifacts[\"numerical_cols\"],\n",
    "    categorical_cols=catboost_artifacts[\"categorical_cols\"],\n",
    "    text_cols=catboost_artifacts[\"text_cols\"],\n",
    "    encoder=catboost_artifacts[\"encoder\"],\n",
    "    scaler=catboost_artifacts[\"scaler\"],\n",
    ")"
   ]
  },
  {
   "cell_type": "code",
   "execution_count": 4,
   "id": "16932402",
   "metadata": {
    "execution": {
     "iopub.execute_input": "2024-11-28T23:50:48.331691Z",
     "iopub.status.busy": "2024-11-28T23:50:48.331316Z",
     "iopub.status.idle": "2024-11-28T23:50:48.835547Z",
     "shell.execute_reply": "2024-11-28T23:50:48.834412Z"
    },
    "papermill": {
     "duration": 0.510862,
     "end_time": "2024-11-28T23:50:48.838063",
     "exception": false,
     "start_time": "2024-11-28T23:50:48.327201",
     "status": "completed"
    },
    "tags": []
   },
   "outputs": [
    {
     "data": {
      "text/html": [
       "<div><style>\n",
       ".dataframe > thead > tr,\n",
       ".dataframe > tbody > tr {\n",
       "  text-align: right;\n",
       "  white-space: pre-wrap;\n",
       "}\n",
       "</style>\n",
       "<small>shape: (3, 2)</small><table border=\"1\" class=\"dataframe\"><thead><tr><th>Id</th><th>utility_agent1</th></tr><tr><td>i64</td><td>f64</td></tr></thead><tbody><tr><td>233234</td><td>0.150607</td></tr><tr><td>233235</td><td>-0.163806</td></tr><tr><td>233236</td><td>0.03955</td></tr></tbody></table></div>"
      ],
      "text/plain": [
       "shape: (3, 2)\n",
       "┌────────┬────────────────┐\n",
       "│ Id     ┆ utility_agent1 │\n",
       "│ ---    ┆ ---            │\n",
       "│ i64    ┆ f64            │\n",
       "╞════════╪════════════════╡\n",
       "│ 233234 ┆ 0.150607       │\n",
       "│ 233235 ┆ -0.163806      │\n",
       "│ 233236 ┆ 0.03955        │\n",
       "└────────┴────────────────┘"
      ]
     },
     "execution_count": 4,
     "metadata": {},
     "output_type": "execute_result"
    }
   ],
   "source": [
    "# sanity check\n",
    "test = polars.read_csv(\"/kaggle/input/um-game-playing-strength-of-mcts-variants/test.csv\")\n",
    "sample_sub = polars.read_csv(\"/kaggle/input/um-game-playing-strength-of-mcts-variants/sample_submission.csv\")\n",
    "model_catboost.predict(test, sample_sub)"
   ]
  },
  {
   "cell_type": "markdown",
   "id": "45598fcc",
   "metadata": {
    "papermill": {
     "duration": 0.002769,
     "end_time": "2024-11-28T23:50:48.844246",
     "exception": false,
     "start_time": "2024-11-28T23:50:48.841477",
     "status": "completed"
    },
    "tags": []
   },
   "source": [
    "***\n",
    "### inference"
   ]
  },
  {
   "cell_type": "code",
   "execution_count": 5,
   "id": "b5b5212e",
   "metadata": {
    "execution": {
     "iopub.execute_input": "2024-11-28T23:50:48.852077Z",
     "iopub.status.busy": "2024-11-28T23:50:48.851652Z",
     "iopub.status.idle": "2024-11-28T23:50:49.383501Z",
     "shell.execute_reply": "2024-11-28T23:50:49.382300Z"
    },
    "papermill": {
     "duration": 0.538755,
     "end_time": "2024-11-28T23:50:49.386114",
     "exception": false,
     "start_time": "2024-11-28T23:50:48.847359",
     "status": "completed"
    },
    "tags": []
   },
   "outputs": [],
   "source": [
    "inference_server = kaggle_evaluation.mcts_inference_server.MCTSInferenceServer(model_catboost.predict)\n",
    "\n",
    "if os.getenv('KAGGLE_IS_COMPETITION_RERUN'):\n",
    "    inference_server.serve()\n",
    "else:\n",
    "    inference_server.run_local_gateway(\n",
    "        (\n",
    "            '/kaggle/input/um-game-playing-strength-of-mcts-variants/test.csv',\n",
    "            '/kaggle/input/um-game-playing-strength-of-mcts-variants/sample_submission.csv'\n",
    "        )\n",
    "    )"
   ]
  },
  {
   "cell_type": "markdown",
   "id": "2df9d517",
   "metadata": {
    "papermill": {
     "duration": 0.003016,
     "end_time": "2024-11-28T23:50:49.392562",
     "exception": false,
     "start_time": "2024-11-28T23:50:49.389546",
     "status": "completed"
    },
    "tags": []
   },
   "source": [
    "***"
   ]
  }
 ],
 "metadata": {
  "kaggle": {
   "accelerator": "none",
   "dataSources": [
    {
     "databundleVersionId": 9515283,
     "sourceId": 70089,
     "sourceType": "competition"
    },
    {
     "datasetId": 5909723,
     "sourceId": 10044648,
     "sourceType": "datasetVersion"
    }
   ],
   "dockerImageVersionId": 30786,
   "isGpuEnabled": false,
   "isInternetEnabled": false,
   "language": "python",
   "sourceType": "notebook"
  },
  "kernelspec": {
   "display_name": "Python 3",
   "language": "python",
   "name": "python3"
  },
  "language_info": {
   "codemirror_mode": {
    "name": "ipython",
    "version": 3
   },
   "file_extension": ".py",
   "mimetype": "text/x-python",
   "name": "python",
   "nbconvert_exporter": "python",
   "pygments_lexer": "ipython3",
   "version": "3.10.14"
  },
  "papermill": {
   "default_parameters": {},
   "duration": 13.246549,
   "end_time": "2024-11-28T23:50:50.219694",
   "environment_variables": {},
   "exception": null,
   "input_path": "__notebook__.ipynb",
   "output_path": "__notebook__.ipynb",
   "parameters": {},
   "start_time": "2024-11-28T23:50:36.973145",
   "version": "2.6.0"
  }
 },
 "nbformat": 4,
 "nbformat_minor": 5
}
