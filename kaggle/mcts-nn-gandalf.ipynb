{
 "cells": [
  {
   "cell_type": "code",
   "execution_count": 1,
   "id": "0484065b",
   "metadata": {
    "execution": {
     "iopub.execute_input": "2024-12-02T17:34:14.085342Z",
     "iopub.status.busy": "2024-12-02T17:34:14.084987Z",
     "iopub.status.idle": "2024-12-02T17:37:47.884794Z",
     "shell.execute_reply": "2024-12-02T17:37:47.884112Z"
    },
    "papermill": {
     "duration": 213.806404,
     "end_time": "2024-12-02T17:37:47.886908",
     "exception": false,
     "start_time": "2024-12-02T17:34:14.080504",
     "status": "completed"
    },
    "tags": []
   },
   "outputs": [
    {
     "name": "stdout",
     "output_type": "stream",
     "text": [
      "Processing /kaggle/working/antlr4-python3-runtime-4.9.3\n",
      "  Preparing metadata (setup.py): started\n",
      "  Preparing metadata (setup.py): finished with status 'done'\n",
      "Building wheels for collected packages: antlr4-python3-runtime\n",
      "  Building wheel for antlr4-python3-runtime (setup.py): started\n",
      "  Building wheel for antlr4-python3-runtime (setup.py): finished with status 'done'\n",
      "  Created wheel for antlr4-python3-runtime: filename=antlr4_python3_runtime-4.9.3-py3-none-any.whl size=144554 sha256=22102e3bd5867a37919e843ec0ad5b00b562678f67b032c4dad582a5709d1b42\n",
      "  Stored in directory: /root/.cache/pip/wheels/08/67/2a/c8a92440bcfa6a48a4e0b84bd0f5ffbf135907bacb6ee4ae0e\n",
      "Successfully built antlr4-python3-runtime\n",
      "Installing collected packages: antlr4-python3-runtime\n",
      "Successfully installed antlr4-python3-runtime-4.9.3\n"
     ]
    }
   ],
   "source": [
    "%%bash\n",
    "pip install -qq /kaggle/input/wheels/lightning-2.4.0-py3-none-any.whl;\n",
    "\n",
    "pip install --no-deps -qq /kaggle/input/wheels/omegaconf-2.3.0-py3-none-any.whl;\n",
    "pip install --no-deps -qq /kaggle/input/wheels/einops-0.7.0-py3-none-any.whl;\n",
    "\n",
    "cp -r /kaggle/input/wheels/antlr4-python3-runtime-4.9.3/antlr4-python3-runtime-4.9.3 /kaggle/working/;\n",
    "cd /kaggle/working/antlr4-python3-runtime-4.9.3;\n",
    "pip install . --user;\n",
    "\n",
    "pip install --no-deps -qq /kaggle/input/wheels/pytorch_tabnet-4.1.0-py3-none-any.whl;\n",
    "pip install --no-deps -qq /kaggle/input/wheels/pytorch_tabular-1.1.1-py2.py3-none-any.whl;\n",
    "\n",
    "# pip install pytorch_tabular\n",
    "# Successfully installed antlr4-python3-runtime-4.9.3 einops-0.7.0 omegaconf-2.3.0 pytorch-tabnet-4.1.0 pytorch_tabular-1.1.1 scikit-learn-1.5.2"
   ]
  },
  {
   "cell_type": "code",
   "execution_count": 2,
   "id": "78fd859d",
   "metadata": {
    "_cell_guid": "b1076dfc-b9ad-4769-8c92-a6c4dae69d19",
    "_uuid": "8f2839f25d086af736a60e9eeb907d3b93b6e0e5",
    "execution": {
     "iopub.execute_input": "2024-12-02T17:37:47.895452Z",
     "iopub.status.busy": "2024-12-02T17:37:47.894849Z",
     "iopub.status.idle": "2024-12-02T17:37:57.559388Z",
     "shell.execute_reply": "2024-12-02T17:37:57.558493Z"
    },
    "papermill": {
     "duration": 9.670396,
     "end_time": "2024-12-02T17:37:57.561203",
     "exception": false,
     "start_time": "2024-12-02T17:37:47.890807",
     "status": "completed"
    },
    "tags": []
   },
   "outputs": [
    {
     "name": "stdout",
     "output_type": "stream",
     "text": [
      "PyTorch version: 2.4.0\n",
      "PyTorch Lightning version: 2.4.0\n"
     ]
    }
   ],
   "source": [
    "import numpy as np\n",
    "import pandas as pd\n",
    "from typing import Optional, List, Callable\n",
    "import polars\n",
    "import os\n",
    "\n",
    "import torch \n",
    "from torch import nn\n",
    "import torch.nn.functional as F\n",
    "from torch.utils.data import DataLoader,TensorDataset\n",
    "from torch.optim.lr_scheduler import OneCycleLR\n",
    "\n",
    "import lightning.pytorch as pl\n",
    "from lightning.pytorch.callbacks import EarlyStopping\n",
    "from lightning.pytorch.callbacks import ModelCheckpoint\n",
    "\n",
    "from pytorch_tabular.models.common.layers import GatedFeatureLearningUnit\n",
    "from pytorch_tabular.models.common.layers.activations import t_softmax\n",
    "\n",
    "print(f\"PyTorch version: {torch.__version__}\")\n",
    "print(f\"PyTorch Lightning version: {pl.__version__}\")\n",
    "\n",
    "import sys\n",
    "sys.path.append(\"/kaggle/input/mcts-artifacts\")\n",
    "from preproc import process_test_data\n",
    "import kaggle_evaluation.mcts_inference_server"
   ]
  },
  {
   "cell_type": "markdown",
   "id": "4cc86c46",
   "metadata": {
    "papermill": {
     "duration": 0.002939,
     "end_time": "2024-12-02T17:37:57.567571",
     "exception": false,
     "start_time": "2024-12-02T17:37:57.564632",
     "status": "completed"
    },
    "tags": []
   },
   "source": [
    "***\n",
    "### load artifacts\n"
   ]
  },
  {
   "cell_type": "code",
   "execution_count": 3,
   "id": "23f91ca1",
   "metadata": {
    "execution": {
     "iopub.execute_input": "2024-12-02T17:37:57.574951Z",
     "iopub.status.busy": "2024-12-02T17:37:57.574436Z",
     "iopub.status.idle": "2024-12-02T17:38:05.945375Z",
     "shell.execute_reply": "2024-12-02T17:38:05.944507Z"
    },
    "papermill": {
     "duration": 8.376576,
     "end_time": "2024-12-02T17:38:05.947174",
     "exception": false,
     "start_time": "2024-12-02T17:37:57.570598",
     "status": "completed"
    },
    "tags": []
   },
   "outputs": [
    {
     "name": "stderr",
     "output_type": "stream",
     "text": [
      "/opt/conda/lib/python3.10/site-packages/sklearn/base.py:318: UserWarning: Trying to unpickle estimator OrdinalEncoder from version 1.5.2 when using version 1.2.2. This might lead to breaking code or invalid results. Use at your own risk. For more info please refer to:\n",
      "https://scikit-learn.org/stable/model_persistence.html#security-maintainability-limitations\n",
      "  warnings.warn(\n",
      "/opt/conda/lib/python3.10/site-packages/sklearn/base.py:318: UserWarning: Trying to unpickle estimator MinMaxScaler from version 1.5.2 when using version 1.2.2. This might lead to breaking code or invalid results. Use at your own risk. For more info please refer to:\n",
      "https://scikit-learn.org/stable/model_persistence.html#security-maintainability-limitations\n",
      "  warnings.warn(\n"
     ]
    },
    {
     "data": {
      "text/plain": [
       "15"
      ]
     },
     "execution_count": 3,
     "metadata": {},
     "output_type": "execute_result"
    }
   ],
   "source": [
    "# Specify the path where you want to save the serialized function\n",
    "nn_gandalf_artifacts_path = '/kaggle/input/mcts-artifacts/nn-gandalf_predict_uni95.pt'\n",
    "\n",
    "# Load the function from the file\n",
    "nn_gandalf_artifacts = torch.load(nn_gandalf_artifacts_path, weights_only=False)\n",
    "\n",
    "len(nn_gandalf_artifacts['models'])"
   ]
  },
  {
   "cell_type": "code",
   "execution_count": 4,
   "id": "07c0b9fb",
   "metadata": {
    "execution": {
     "iopub.execute_input": "2024-12-02T17:38:05.957238Z",
     "iopub.status.busy": "2024-12-02T17:38:05.956617Z",
     "iopub.status.idle": "2024-12-02T17:38:05.976651Z",
     "shell.execute_reply": "2024-12-02T17:38:05.975885Z"
    },
    "papermill": {
     "duration": 0.027544,
     "end_time": "2024-12-02T17:38:05.978306",
     "exception": false,
     "start_time": "2024-12-02T17:38:05.950762",
     "status": "completed"
    },
    "tags": []
   },
   "outputs": [],
   "source": [
    "class GANDALF(pl.LightningModule):\n",
    "\n",
    "    def __init__(self, \n",
    "            num_input_dim: int,\n",
    "            cat_input_dims: list[int],\n",
    "            output_dim: int,\n",
    "            dropout: float,\n",
    "            embedding_dropout: float,\n",
    "            learning_rate: float = 1e-3,\n",
    "            weight_decay: float = 1e-5,\n",
    "            initialization: str = 'kaiming_uniform',\n",
    "            embedding_dim: Optional[List[int]] = None,\n",
    "            pct_start: float = 0.2,\n",
    "            div_factor: float = 10.0,\n",
    "            final_div_factor: float = 1e4,\n",
    "            n_stages: int = 6,\n",
    "            feature_mask_function: Callable = t_softmax,\n",
    "            feature_sparsity: float = 0.3,\n",
    "            learnable_sparsity: bool = True\n",
    "        ):\n",
    "        super().__init__()\n",
    "        self.save_hyperparameters()\n",
    "        self.dropout = dropout\n",
    "        self.embedding_dropout = embedding_dropout\n",
    "        self.pct_start = pct_start\n",
    "        self.div_factor = div_factor\n",
    "        self.final_div_factor = final_div_factor\n",
    "\n",
    "        # Initialize embedding dimensions if not provided\n",
    "        if embedding_dim is None:\n",
    "            # Rule of thumb: min(50, num_unique // 2 + 1) for each categorical feature\n",
    "            embedding_dim = [min(50, int(1 + np.ceil(np.sqrt(dim)))) for dim in cat_input_dims]\n",
    "\n",
    "        elif len(embedding_dim) != len(cat_input_dims):\n",
    "            raise ValueError(\"Length of embedding_dim must match number of categorical features.\")\n",
    "\n",
    "        self.embedding_dim = embedding_dim\n",
    "\n",
    "        # Create embedding layers\n",
    "        self.create_embeddings(cat_input_dims, embedding_dim)\n",
    "\n",
    "        # Create backbone layers\n",
    "        self.create_backbone(\n",
    "            num_input_dim,\n",
    "            n_stages,\n",
    "            feature_mask_function,\n",
    "            dropout,\n",
    "            feature_sparsity,\n",
    "            learnable_sparsity\n",
    "        )\n",
    "\n",
    "        # Create head layers\n",
    "        self.create_head(output_dim)\n",
    "\n",
    "        self.learning_rate = learning_rate\n",
    "        self.weight_decay = weight_decay\n",
    "        self.initialization = initialization\n",
    "\n",
    "        self._init_weights()\n",
    "\n",
    "        # Initialize lists to store validation outputs\n",
    "        self.validation_targets = []\n",
    "        self.validation_predictions = []\n",
    "\n",
    "    def create_embeddings(self, cat_input_dims: list[int], embedding_dim: list[int]):\n",
    "        self.embeddings = nn.ModuleList(\n",
    "            [nn.Embedding(dim, emb_dim) for dim, emb_dim in zip(cat_input_dims, embedding_dim)]\n",
    "        )\n",
    "        self.embedding_dropout_layer = nn.Dropout(self.embedding_dropout)\n",
    "\n",
    "    def create_backbone(\n",
    "            self, \n",
    "            num_input_dim: int,\n",
    "            n_stages: int,\n",
    "            feature_mask_function: Callable,\n",
    "            dropout: float,\n",
    "            feature_sparsity: float,\n",
    "            learnable_sparsity: bool\n",
    "        ):\n",
    "        # Calculate total input dimension after embeddings\n",
    "        total_embedding_dim = sum(self.embedding_dim)\n",
    "        total_input_dim = num_input_dim + total_embedding_dim\n",
    "\n",
    "        self.backbone = GatedFeatureLearningUnit(\n",
    "            n_features_in=total_input_dim,\n",
    "            n_stages=n_stages,\n",
    "            feature_mask_function=feature_mask_function,\n",
    "            dropout=dropout,\n",
    "            feature_sparsity=feature_sparsity,\n",
    "            learnable_sparsity=learnable_sparsity,\n",
    "        )\n",
    "        self.backbone_output_size = total_input_dim\n",
    "\n",
    "    def create_head(self, output_dim: int):\n",
    "        # Output layer\n",
    "        self.head = nn.Sequential(\n",
    "            nn.BatchNorm1d(self.backbone_output_size),\n",
    "            nn.Linear(self.backbone_output_size, output_dim)\n",
    "        )\n",
    "\n",
    "    def _init_weights(self):\n",
    "        for module in self.modules():\n",
    "            if isinstance(module, nn.Linear):\n",
    "                if any(module is m for m in self.head.modules()):\n",
    "                    nn.init.xavier_uniform_(module.weight, gain=nn.init.calculate_gain('tanh'))\n",
    "                else:\n",
    "                    if self.initialization == 'kaiming_uniform':\n",
    "                        nn.init.kaiming_uniform_(module.weight, nonlinearity='relu')\n",
    "                    elif self.initialization == 'kaiming_normal':\n",
    "                        nn.init.kaiming_normal_(module.weight, nonlinearity='relu')\n",
    "                    elif self.initialization == 'xavier_uniform':\n",
    "                        nn.init.xavier_uniform_(module.weight, gain=nn.init.calculate_gain('relu'))\n",
    "                    elif self.initialization == 'xavier_normal':\n",
    "                        nn.init.xavier_normal_(module.weight, gain=nn.init.calculate_gain('relu'))\n",
    "                    else:\n",
    "                        raise ValueError(f\"Unsupported initialization method: {self.initialization}\")\n",
    "                \n",
    "                # Initialize bias to small values\n",
    "                if module.bias is not None:\n",
    "                    nn.init.uniform_(module.bias, -0.1, 0.1)\n",
    "\n",
    "    def forward(self, x_num, x_cat):\n",
    "        # Process categorical variables\n",
    "        embedded = [emb(x_cat[:, i]) for i, emb in enumerate(self.embeddings)]\n",
    "        embedded = torch.cat(embedded, dim=1)\n",
    "        embedded = self.embedding_dropout_layer(embedded)\n",
    "        \n",
    "        # Concatenate numerical and embedded categorical features\n",
    "        x = torch.cat([x_num, embedded], dim=1)\n",
    "        \n",
    "        # Pass through backbone\n",
    "        x = self.backbone(x)\n",
    "        \n",
    "        # Pass through head\n",
    "        x = self.head(x)\n",
    "        x = nn.functional.hardtanh(x)\n",
    "\n",
    "        return x.squeeze(-1)\n",
    "\n",
    "    def training_step(self, batch, batch_idx):\n",
    "        x_num, x_cat, y = batch\n",
    "        y_hat = self(x_num, x_cat)\n",
    "        loss = F.mse_loss(y_hat, y)\n",
    "        self.log('train_loss', loss, prog_bar=True)\n",
    "        return loss\n",
    "    \n",
    "    def validation_step(self, batch, batch_idx):\n",
    "        x_num, x_cat, y = batch\n",
    "        y_hat = self(x_num, x_cat)\n",
    "        loss = F.mse_loss(y_hat, y)\n",
    "        self.log('valid_loss', loss, prog_bar=True)\n",
    "        # Store targets and predictions for later use\n",
    "        self.validation_targets.append(y)\n",
    "        self.validation_predictions.append(y_hat)\n",
    "        return loss\n",
    "    \n",
    "    def predict_step(self, batch, batch_idx):\n",
    "        if len(batch) == 2:\n",
    "            x_num, x_cat = batch\n",
    "        elif len(batch) == 3:\n",
    "            x_num, x_cat, _ = batch\n",
    "        y_hat = self(x_num, x_cat)\n",
    "        return y_hat\n",
    "\n",
    "    def on_validation_epoch_end(self):\n",
    "        # Concatenate all targets and predictions\n",
    "        y = torch.cat(self.validation_targets)\n",
    "        y_hat = torch.cat(self.validation_predictions)\n",
    "        rmse = torch.sqrt(F.mse_loss(y_hat, y))\n",
    "        self.log('val_rmse', rmse, prog_bar=True)\n",
    "        # Clear the lists for next epoch\n",
    "        self.validation_targets.clear()\n",
    "        self.validation_predictions.clear()\n",
    "                \n",
    "    def configure_optimizers(self):\n",
    "        optimizer = torch.optim.Adam(\n",
    "            self.parameters(), \n",
    "            lr=self.learning_rate, \n",
    "            weight_decay=self.weight_decay,\n",
    "        )\n",
    "        scheduler = OneCycleLR(\n",
    "            optimizer,\n",
    "            max_lr=self.learning_rate,\n",
    "            total_steps=self.trainer.estimated_stepping_batches,\n",
    "            pct_start=self.pct_start,\n",
    "            div_factor=self.div_factor,\n",
    "            final_div_factor=self.final_div_factor,\n",
    "            anneal_strategy='cos',\n",
    "            cycle_momentum=True,\n",
    "            base_momentum=0.85,\n",
    "            max_momentum=0.95,\n",
    "        )\n",
    "        return {\n",
    "            \"optimizer\": optimizer,\n",
    "            \"lr_scheduler\": {\n",
    "                \"scheduler\": scheduler,\n",
    "                \"interval\": \"step\",\n",
    "            },\n",
    "        }"
   ]
  },
  {
   "cell_type": "code",
   "execution_count": 5,
   "id": "ab253959",
   "metadata": {
    "execution": {
     "iopub.execute_input": "2024-12-02T17:38:05.985801Z",
     "iopub.status.busy": "2024-12-02T17:38:05.985553Z",
     "iopub.status.idle": "2024-12-02T17:38:05.988967Z",
     "shell.execute_reply": "2024-12-02T17:38:05.988219Z"
    },
    "papermill": {
     "duration": 0.009131,
     "end_time": "2024-12-02T17:38:05.990700",
     "exception": false,
     "start_time": "2024-12-02T17:38:05.981569",
     "status": "completed"
    },
    "tags": []
   },
   "outputs": [],
   "source": [
    "from tqdm import tqdm"
   ]
  },
  {
   "cell_type": "code",
   "execution_count": 6,
   "id": "7d48c4e7",
   "metadata": {
    "execution": {
     "iopub.execute_input": "2024-12-02T17:38:06.000872Z",
     "iopub.status.busy": "2024-12-02T17:38:06.000627Z",
     "iopub.status.idle": "2024-12-02T17:38:10.837928Z",
     "shell.execute_reply": "2024-12-02T17:38:10.837021Z"
    },
    "papermill": {
     "duration": 4.844623,
     "end_time": "2024-12-02T17:38:10.839817",
     "exception": false,
     "start_time": "2024-12-02T17:38:05.995194",
     "status": "completed"
    },
    "tags": []
   },
   "outputs": [
    {
     "name": "stdout",
     "output_type": "stream",
     "text": [
      "Using device: cuda\n",
      "len(numerical_cols): 396\n",
      "len(categorical_cols): 10\n"
     ]
    }
   ],
   "source": [
    "class GandalfInference:\n",
    "    def __init__(\n",
    "        self,\n",
    "        models_state_dicts,\n",
    "        models_hparams,\n",
    "        numerical_cols,\n",
    "        categorical_cols,\n",
    "        encoder,\n",
    "        scaler,\n",
    "        lgbm_encoders,\n",
    "    ):\n",
    "        \"\"\"Initialize inference class with trained artifacts\n",
    "        \n",
    "        Args:\n",
    "            models_state_dicts: List of model state dictionaries\n",
    "            models_hparams: List of model hyperparameters\n",
    "            numerical_cols: List of numerical column names\n",
    "            categorical_cols: List of categorical column names\n",
    "            encoder: Fitted OrdinalEncoder for categorical features\n",
    "            scaler: Fitted StandardScaler for numerical features\n",
    "            lgbm_encoders: List of LightGBM encoders for feature engineering\n",
    "        \"\"\"\n",
    "        self.numerical_cols = numerical_cols\n",
    "        self.categorical_cols = categorical_cols\n",
    "        self.encoder = encoder\n",
    "        self.scaler = scaler\n",
    "        self.lgbm_encoders = lgbm_encoders\n",
    "\n",
    "        # Load models\n",
    "        self.device = torch.device('cuda' if torch.cuda.is_available() else 'cpu')\n",
    "        self.models = []\n",
    "        for state_dict, hparams in zip(models_state_dicts, models_hparams):\n",
    "            model = GANDALF(**hparams)\n",
    "            model.load_state_dict(state_dict)\n",
    "            model.to(self.device)  # Move model to GPU\n",
    "            model.eval()  # Set to evaluation mode\n",
    "            self.models.append(model)\n",
    "\n",
    "        print(f\"Using device: {self.device}\")\n",
    "        print(\"len(numerical_cols):\", len(numerical_cols))\n",
    "        print(\"len(categorical_cols):\", len(categorical_cols))\n",
    "\n",
    "    def predict_array(self, df_test, batch_size=512):\n",
    "        \"\"\"Make predictions on test data using DataLoader\n",
    "        \n",
    "        Args:\n",
    "            df_test: pandas DataFrame containing test features\n",
    "            batch_size: size of batches for inference\n",
    "            \n",
    "        Returns:\n",
    "            numpy array of predictions\n",
    "        \"\"\"\n",
    "        # Preprocess test data\n",
    "        test_processed = process_test_data(\n",
    "            df_test,\n",
    "            self.numerical_cols,\n",
    "            self.categorical_cols,\n",
    "            self.encoder,\n",
    "            self.scaler,\n",
    "            include_position_features=False,\n",
    "            include_text_features=False,\n",
    "        )\n",
    "\n",
    "        # Initialize predictions array\n",
    "        predictions = np.zeros(len(df_test))\n",
    "\n",
    "        # Get predictions from all models\n",
    "        for lgbm_encoder, model in zip(self.lgbm_encoders, self.models):\n",
    "            # Prepare numerical and categorical features\n",
    "            X_test_num = test_processed[self.numerical_cols].copy()\n",
    "            X_test_cat = test_processed[self.categorical_cols].copy()\n",
    "\n",
    "            # Add LGBM encoder leaves features\n",
    "            lgbm_features = lgbm_encoder.transform(\n",
    "                test_processed[self.numerical_cols + self.categorical_cols]\n",
    "            )\n",
    "            X_test_cat = pd.concat([X_test_cat, lgbm_features], axis=1)\n",
    "            _categorical_cols = self.categorical_cols + lgbm_encoder.new_columns\n",
    "\n",
    "            # Create tensors\n",
    "            X_num_tensor = torch.tensor(\n",
    "                X_test_num[self.numerical_cols].values, \n",
    "                dtype=torch.float32,\n",
    "                device=self.device\n",
    "            )\n",
    "            X_cat_tensor = torch.tensor(\n",
    "                X_test_cat[_categorical_cols].values, \n",
    "                dtype=torch.int32,\n",
    "                device=self.device\n",
    "            )\n",
    "            \n",
    "            # Create TensorDataset and DataLoader\n",
    "            dataset = torch.utils.data.TensorDataset(\n",
    "                X_num_tensor, \n",
    "                X_cat_tensor\n",
    "            )\n",
    "            dataloader = torch.utils.data.DataLoader(\n",
    "                dataset, \n",
    "                batch_size=batch_size,\n",
    "                shuffle=False\n",
    "            )\n",
    "            \n",
    "            # Process batches using DataLoader\n",
    "            batch_predictions = []\n",
    "            with torch.no_grad():\n",
    "                for X_num_batch, X_cat_batch in tqdm(dataloader):\n",
    "                    pred_batch = model(X_num_batch, X_cat_batch).cpu()\n",
    "                    batch_predictions.append(pred_batch)\n",
    "\n",
    "            # Concatenate all batch predictions\n",
    "            model_predictions = torch.cat(batch_predictions).numpy().flatten()\n",
    "            predictions += model_predictions\n",
    "\n",
    "        # Average predictions across models\n",
    "        predictions /= len(self.models)\n",
    "        return predictions\n",
    "\n",
    "    def predict(self, test: polars.DataFrame, sample_sub: polars.DataFrame):\n",
    "        test_pd = test.to_pandas()\n",
    "        predictions = self.predict_array(test_pd)\n",
    "        submission = sample_sub.with_columns(polars.Series(\"utility_agent1\", predictions))\n",
    "        return submission\n",
    "\n",
    "\n",
    "# Create inference class\n",
    "model_gandalf = GandalfInference(\n",
    "    models_state_dicts=nn_gandalf_artifacts['models'],\n",
    "    models_hparams=nn_gandalf_artifacts['models_hparams'],\n",
    "    numerical_cols=nn_gandalf_artifacts['numerical_cols'],\n",
    "    categorical_cols=nn_gandalf_artifacts['categorical_cols'],\n",
    "    encoder=nn_gandalf_artifacts['encoder'],\n",
    "    scaler=nn_gandalf_artifacts['scaler'],\n",
    "    lgbm_encoders=nn_gandalf_artifacts['lgbm_encoders'],\n",
    ")"
   ]
  },
  {
   "cell_type": "code",
   "execution_count": 7,
   "id": "2bc265be",
   "metadata": {
    "execution": {
     "iopub.execute_input": "2024-12-02T17:38:10.848027Z",
     "iopub.status.busy": "2024-12-02T17:38:10.847744Z",
     "iopub.status.idle": "2024-12-02T17:38:12.864766Z",
     "shell.execute_reply": "2024-12-02T17:38:12.863892Z"
    },
    "papermill": {
     "duration": 2.023142,
     "end_time": "2024-12-02T17:38:12.866637",
     "exception": false,
     "start_time": "2024-12-02T17:38:10.843495",
     "status": "completed"
    },
    "tags": []
   },
   "outputs": [
    {
     "name": "stderr",
     "output_type": "stream",
     "text": [
      "100%|██████████| 1/1 [00:00<00:00,  2.76it/s]\n",
      "100%|██████████| 1/1 [00:00<00:00, 185.35it/s]\n",
      "100%|██████████| 1/1 [00:00<00:00, 191.22it/s]\n",
      "100%|██████████| 1/1 [00:00<00:00, 166.40it/s]\n",
      "100%|██████████| 1/1 [00:00<00:00, 189.53it/s]\n",
      "100%|██████████| 1/1 [00:00<00:00, 187.30it/s]\n",
      "100%|██████████| 1/1 [00:00<00:00, 187.95it/s]\n",
      "100%|██████████| 1/1 [00:00<00:00, 204.36it/s]\n",
      "100%|██████████| 1/1 [00:00<00:00, 177.80it/s]\n",
      "100%|██████████| 1/1 [00:00<00:00, 180.92it/s]\n",
      "100%|██████████| 1/1 [00:00<00:00, 169.28it/s]\n",
      "100%|██████████| 1/1 [00:00<00:00, 172.58it/s]\n",
      "100%|██████████| 1/1 [00:00<00:00, 181.10it/s]\n",
      "100%|██████████| 1/1 [00:00<00:00, 174.69it/s]\n",
      "100%|██████████| 1/1 [00:00<00:00, 196.42it/s]\n"
     ]
    },
    {
     "data": {
      "text/html": [
       "<div><style>\n",
       ".dataframe > thead > tr,\n",
       ".dataframe > tbody > tr {\n",
       "  text-align: right;\n",
       "  white-space: pre-wrap;\n",
       "}\n",
       "</style>\n",
       "<small>shape: (3, 2)</small><table border=\"1\" class=\"dataframe\"><thead><tr><th>Id</th><th>utility_agent1</th></tr><tr><td>i64</td><td>f64</td></tr></thead><tbody><tr><td>233234</td><td>0.209646</td></tr><tr><td>233235</td><td>-0.169517</td></tr><tr><td>233236</td><td>0.003971</td></tr></tbody></table></div>"
      ],
      "text/plain": [
       "shape: (3, 2)\n",
       "┌────────┬────────────────┐\n",
       "│ Id     ┆ utility_agent1 │\n",
       "│ ---    ┆ ---            │\n",
       "│ i64    ┆ f64            │\n",
       "╞════════╪════════════════╡\n",
       "│ 233234 ┆ 0.209646       │\n",
       "│ 233235 ┆ -0.169517      │\n",
       "│ 233236 ┆ 0.003971       │\n",
       "└────────┴────────────────┘"
      ]
     },
     "execution_count": 7,
     "metadata": {},
     "output_type": "execute_result"
    }
   ],
   "source": [
    "# sanity check #1\n",
    "test = polars.read_csv(\"/kaggle/input/um-game-playing-strength-of-mcts-variants/test.csv\")\n",
    "sample_sub = polars.read_csv(\"/kaggle/input/um-game-playing-strength-of-mcts-variants/sample_submission.csv\")\n",
    "model_gandalf.predict(test, sample_sub)"
   ]
  },
  {
   "cell_type": "code",
   "execution_count": 8,
   "id": "78628b2e",
   "metadata": {
    "execution": {
     "iopub.execute_input": "2024-12-02T17:38:12.883584Z",
     "iopub.status.busy": "2024-12-02T17:38:12.883312Z",
     "iopub.status.idle": "2024-12-02T17:40:42.155557Z",
     "shell.execute_reply": "2024-12-02T17:40:42.154693Z"
    },
    "papermill": {
     "duration": 149.282357,
     "end_time": "2024-12-02T17:40:42.157200",
     "exception": false,
     "start_time": "2024-12-02T17:38:12.874843",
     "status": "completed"
    },
    "tags": []
   },
   "outputs": [
    {
     "name": "stderr",
     "output_type": "stream",
     "text": [
      "100%|██████████| 456/456 [00:04<00:00, 97.96it/s] \n",
      "100%|██████████| 456/456 [00:04<00:00, 104.96it/s]\n",
      "100%|██████████| 456/456 [00:04<00:00, 104.55it/s]\n",
      "100%|██████████| 456/456 [00:04<00:00, 98.51it/s] \n",
      "100%|██████████| 456/456 [00:04<00:00, 103.40it/s]\n",
      "100%|██████████| 456/456 [00:04<00:00, 99.07it/s] \n",
      "100%|██████████| 456/456 [00:04<00:00, 103.93it/s]\n",
      "100%|██████████| 456/456 [00:04<00:00, 104.21it/s]\n",
      "100%|██████████| 456/456 [00:04<00:00, 105.43it/s]\n",
      "100%|██████████| 456/456 [00:04<00:00, 99.77it/s] \n",
      "100%|██████████| 456/456 [00:04<00:00, 104.99it/s]\n",
      "100%|██████████| 456/456 [00:04<00:00, 103.10it/s]\n",
      "100%|██████████| 456/456 [00:04<00:00, 98.62it/s] \n",
      "100%|██████████| 456/456 [00:04<00:00, 103.77it/s]\n",
      "100%|██████████| 456/456 [00:04<00:00, 102.61it/s]\n"
     ]
    },
    {
     "data": {
      "text/html": [
       "<div><style>\n",
       ".dataframe > thead > tr,\n",
       ".dataframe > tbody > tr {\n",
       "  text-align: right;\n",
       "  white-space: pre-wrap;\n",
       "}\n",
       "</style>\n",
       "<small>shape: (233_234, 2)</small><table border=\"1\" class=\"dataframe\"><thead><tr><th>Id</th><th>utility_agent1</th></tr><tr><td>i64</td><td>f64</td></tr></thead><tbody><tr><td>0</td><td>-0.265912</td></tr><tr><td>1</td><td>-0.189997</td></tr><tr><td>2</td><td>-0.048665</td></tr><tr><td>3</td><td>-0.169517</td></tr><tr><td>4</td><td>-0.067504</td></tr><tr><td>&hellip;</td><td>&hellip;</td></tr><tr><td>233229</td><td>-0.602089</td></tr><tr><td>233230</td><td>0.093229</td></tr><tr><td>233231</td><td>0.383782</td></tr><tr><td>233232</td><td>0.371712</td></tr><tr><td>233233</td><td>0.136772</td></tr></tbody></table></div>"
      ],
      "text/plain": [
       "shape: (233_234, 2)\n",
       "┌────────┬────────────────┐\n",
       "│ Id     ┆ utility_agent1 │\n",
       "│ ---    ┆ ---            │\n",
       "│ i64    ┆ f64            │\n",
       "╞════════╪════════════════╡\n",
       "│ 0      ┆ -0.265912      │\n",
       "│ 1      ┆ -0.189997      │\n",
       "│ 2      ┆ -0.048665      │\n",
       "│ 3      ┆ -0.169517      │\n",
       "│ 4      ┆ -0.067504      │\n",
       "│ …      ┆ …              │\n",
       "│ 233229 ┆ -0.602089      │\n",
       "│ 233230 ┆ 0.093229       │\n",
       "│ 233231 ┆ 0.383782       │\n",
       "│ 233232 ┆ 0.371712       │\n",
       "│ 233233 ┆ 0.136772       │\n",
       "└────────┴────────────────┘"
      ]
     },
     "execution_count": 8,
     "metadata": {},
     "output_type": "execute_result"
    }
   ],
   "source": [
    "# sanity check #2\n",
    "train = polars.read_csv(\"/kaggle/input/um-game-playing-strength-of-mcts-variants/train.csv\")\n",
    "test = train.drop(['num_wins_agent1', 'num_draws_agent1', 'num_losses_agent1', 'utility_agent1'])\n",
    "sample_sub = train.select(['Id', 'utility_agent1'])\n",
    "model_gandalf.predict(test, sample_sub)"
   ]
  },
  {
   "cell_type": "markdown",
   "id": "0657474e",
   "metadata": {
    "papermill": {
     "duration": 0.032369,
     "end_time": "2024-12-02T17:40:42.223735",
     "exception": false,
     "start_time": "2024-12-02T17:40:42.191366",
     "status": "completed"
    },
    "tags": []
   },
   "source": [
    "***\n",
    "### inference"
   ]
  },
  {
   "cell_type": "code",
   "execution_count": 9,
   "id": "9839f85f",
   "metadata": {
    "execution": {
     "iopub.execute_input": "2024-12-02T17:40:42.291649Z",
     "iopub.status.busy": "2024-12-02T17:40:42.290771Z",
     "iopub.status.idle": "2024-12-02T17:40:44.190297Z",
     "shell.execute_reply": "2024-12-02T17:40:44.189366Z"
    },
    "papermill": {
     "duration": 1.936044,
     "end_time": "2024-12-02T17:40:44.192361",
     "exception": false,
     "start_time": "2024-12-02T17:40:42.256317",
     "status": "completed"
    },
    "tags": []
   },
   "outputs": [
    {
     "name": "stderr",
     "output_type": "stream",
     "text": [
      "100%|██████████| 1/1 [00:00<00:00, 118.58it/s]\n",
      "100%|██████████| 1/1 [00:00<00:00, 162.19it/s]\n",
      "100%|██████████| 1/1 [00:00<00:00, 155.70it/s]\n",
      "100%|██████████| 1/1 [00:00<00:00, 202.91it/s]\n",
      "100%|██████████| 1/1 [00:00<00:00, 192.97it/s]\n",
      "100%|██████████| 1/1 [00:00<00:00, 195.76it/s]\n",
      "100%|██████████| 1/1 [00:00<00:00, 115.43it/s]\n",
      "100%|██████████| 1/1 [00:00<00:00, 189.38it/s]\n",
      "100%|██████████| 1/1 [00:00<00:00, 207.58it/s]\n",
      "100%|██████████| 1/1 [00:00<00:00, 129.85it/s]\n",
      "100%|██████████| 1/1 [00:00<00:00, 198.00it/s]\n",
      "100%|██████████| 1/1 [00:00<00:00, 169.94it/s]\n",
      "100%|██████████| 1/1 [00:00<00:00, 187.33it/s]\n",
      "100%|██████████| 1/1 [00:00<00:00, 191.99it/s]\n",
      "100%|██████████| 1/1 [00:00<00:00, 193.72it/s]\n"
     ]
    }
   ],
   "source": [
    "inference_server = kaggle_evaluation.mcts_inference_server.MCTSInferenceServer(model_gandalf.predict)\n",
    "\n",
    "if os.getenv('KAGGLE_IS_COMPETITION_RERUN'):\n",
    "    inference_server.serve()\n",
    "else:\n",
    "    inference_server.run_local_gateway(\n",
    "        (\n",
    "            '/kaggle/input/um-game-playing-strength-of-mcts-variants/test.csv',\n",
    "            '/kaggle/input/um-game-playing-strength-of-mcts-variants/sample_submission.csv'\n",
    "        )\n",
    "    )"
   ]
  },
  {
   "cell_type": "markdown",
   "id": "6cfe20a1",
   "metadata": {
    "papermill": {
     "duration": 0.034373,
     "end_time": "2024-12-02T17:40:44.271217",
     "exception": false,
     "start_time": "2024-12-02T17:40:44.236844",
     "status": "completed"
    },
    "tags": []
   },
   "source": [
    "***"
   ]
  }
 ],
 "metadata": {
  "kaggle": {
   "accelerator": "gpu",
   "dataSources": [
    {
     "databundleVersionId": 9515283,
     "sourceId": 70089,
     "sourceType": "competition"
    },
    {
     "datasetId": 5909723,
     "sourceId": 10069686,
     "sourceType": "datasetVersion"
    },
    {
     "datasetId": 6170268,
     "sourceId": 10079181,
     "sourceType": "datasetVersion"
    }
   ],
   "dockerImageVersionId": 30786,
   "isGpuEnabled": true,
   "isInternetEnabled": false,
   "language": "python",
   "sourceType": "notebook"
  },
  "kernelspec": {
   "display_name": "Python 3",
   "language": "python",
   "name": "python3"
  },
  "language_info": {
   "codemirror_mode": {
    "name": "ipython",
    "version": 3
   },
   "file_extension": ".py",
   "mimetype": "text/x-python",
   "name": "python",
   "nbconvert_exporter": "python",
   "pygments_lexer": "ipython3",
   "version": "3.10.14"
  },
  "papermill": {
   "default_parameters": {},
   "duration": 395.760121,
   "end_time": "2024-12-02T17:40:47.469713",
   "environment_variables": {},
   "exception": null,
   "input_path": "__notebook__.ipynb",
   "output_path": "__notebook__.ipynb",
   "parameters": {},
   "start_time": "2024-12-02T17:34:11.709592",
   "version": "2.6.0"
  }
 },
 "nbformat": 4,
 "nbformat_minor": 5
}
