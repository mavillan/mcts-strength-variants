{
 "cells": [
  {
   "cell_type": "code",
   "execution_count": 1,
   "id": "af000bff",
   "metadata": {
    "_cell_guid": "b1076dfc-b9ad-4769-8c92-a6c4dae69d19",
    "_uuid": "8f2839f25d086af736a60e9eeb907d3b93b6e0e5",
    "execution": {
     "iopub.execute_input": "2024-11-18T20:04:50.424106Z",
     "iopub.status.busy": "2024-11-18T20:04:50.423653Z",
     "iopub.status.idle": "2024-11-18T20:04:53.177076Z",
     "shell.execute_reply": "2024-11-18T20:04:53.175868Z"
    },
    "papermill": {
     "duration": 2.760799,
     "end_time": "2024-11-18T20:04:53.179273",
     "exception": false,
     "start_time": "2024-11-18T20:04:50.418474",
     "status": "completed"
    },
    "tags": []
   },
   "outputs": [
    {
     "name": "stdout",
     "output_type": "stream",
     "text": [
      "cb.__version__: 1.2.7\n"
     ]
    }
   ],
   "source": [
    "import numpy as np\n",
    "import pandas as pd\n",
    "import matplotlib.pyplot as plt\n",
    "from pathlib import Path\n",
    "import pickle\n",
    "\n",
    "import catboost as cb\n",
    "print(\"cb.__version__:\", cb.__version__)\n",
    "\n",
    "import sys\n",
    "sys.path.append(\"/kaggle/input/mcts-artifacts\")\n",
    "from preproc import process_test_data\n",
    "\n",
    "from sklearn.model_selection import StratifiedGroupKFold\n",
    "from sklearn.preprocessing import OrdinalEncoder, StandardScaler"
   ]
  },
  {
   "cell_type": "markdown",
   "id": "320a4ade",
   "metadata": {
    "papermill": {
     "duration": 0.002753,
     "end_time": "2024-11-18T20:04:53.185298",
     "exception": false,
     "start_time": "2024-11-18T20:04:53.182545",
     "status": "completed"
    },
    "tags": []
   },
   "source": [
    "***\n",
    "### load artifacts\n"
   ]
  },
  {
   "cell_type": "code",
   "execution_count": 2,
   "id": "930c4e7c",
   "metadata": {
    "execution": {
     "iopub.execute_input": "2024-11-18T20:04:53.192733Z",
     "iopub.status.busy": "2024-11-18T20:04:53.192239Z",
     "iopub.status.idle": "2024-11-18T20:04:56.612266Z",
     "shell.execute_reply": "2024-11-18T20:04:56.610912Z"
    },
    "papermill": {
     "duration": 3.42883,
     "end_time": "2024-11-18T20:04:56.616966",
     "exception": false,
     "start_time": "2024-11-18T20:04:53.188136",
     "status": "completed"
    },
    "tags": []
   },
   "outputs": [],
   "source": [
    "# Specify the path where you want to save the serialized function\n",
    "catboost_artifacts_path = '/kaggle/input/mcts-artifacts/catboost_predict.pkl'\n",
    "\n",
    "# Load the function from the file\n",
    "with open(catboost_artifacts_path, 'rb') as f:\n",
    "    catboost_artifacts = pickle.load(f)"
   ]
  },
  {
   "cell_type": "code",
   "execution_count": 3,
   "id": "81284cca",
   "metadata": {
    "execution": {
     "iopub.execute_input": "2024-11-18T20:04:56.633574Z",
     "iopub.status.busy": "2024-11-18T20:04:56.632845Z",
     "iopub.status.idle": "2024-11-18T20:04:56.644115Z",
     "shell.execute_reply": "2024-11-18T20:04:56.642946Z"
    },
    "papermill": {
     "duration": 0.022005,
     "end_time": "2024-11-18T20:04:56.646254",
     "exception": false,
     "start_time": "2024-11-18T20:04:56.624249",
     "status": "completed"
    },
    "tags": []
   },
   "outputs": [
    {
     "data": {
      "text/plain": [
       "5"
      ]
     },
     "execution_count": 3,
     "metadata": {},
     "output_type": "execute_result"
    }
   ],
   "source": [
    "len(catboost_artifacts[\"models\"])"
   ]
  },
  {
   "cell_type": "code",
   "execution_count": 4,
   "id": "19d9858c",
   "metadata": {
    "execution": {
     "iopub.execute_input": "2024-11-18T20:04:56.655239Z",
     "iopub.status.busy": "2024-11-18T20:04:56.654803Z",
     "iopub.status.idle": "2024-11-18T20:04:56.668855Z",
     "shell.execute_reply": "2024-11-18T20:04:56.667803Z"
    },
    "papermill": {
     "duration": 0.021709,
     "end_time": "2024-11-18T20:04:56.671354",
     "exception": false,
     "start_time": "2024-11-18T20:04:56.649645",
     "status": "completed"
    },
    "tags": []
   },
   "outputs": [
    {
     "name": "stdout",
     "output_type": "stream",
     "text": [
      "len(numerical_cols): 370\n",
      "len(categorical_cols): 5\n"
     ]
    }
   ],
   "source": [
    "class ModelInference:\n",
    "    def __init__(self, models, numerical_cols, categorical_cols, encoder, scaler, text_cols=None):\n",
    "        \"\"\"Initialize inference class with trained artifacts\n",
    "        \n",
    "        Args:\n",
    "            models: List of trained CatBoost models\n",
    "            numerical_cols: List of numerical column names\n",
    "            categorical_cols: List of categorical column names\n",
    "            encoder: Fitted OrdinalEncoder for categorical features\n",
    "            scaler: Fitted StandardScaler for numerical features (optional)\n",
    "            text_cols: List of text columns (optional)\n",
    "        \"\"\"\n",
    "        self.models = models\n",
    "        self.numerical_cols = numerical_cols\n",
    "        self.categorical_cols = categorical_cols\n",
    "        self.text_cols = text_cols if text_cols is not None else []\n",
    "        self.encoder = encoder\n",
    "        self.scaler = scaler\n",
    "\n",
    "        print(\"len(numerical_cols):\", len(numerical_cols))\n",
    "        print(\"len(categorical_cols):\", len(categorical_cols))\n",
    "        \n",
    "    def predict(self, df_test):\n",
    "        \"\"\"Make predictions on test data\n",
    "        \n",
    "        Args:\n",
    "            df_test: pandas DataFrame containing test features\n",
    "            \n",
    "        Returns:\n",
    "            numpy array of predictions\n",
    "        \"\"\"\n",
    "        # Preprocess test data\n",
    "        test_processed = process_test_data(\n",
    "            df_test,\n",
    "            self.numerical_cols,\n",
    "            self.categorical_cols,\n",
    "            self.encoder,\n",
    "            self.scaler,\n",
    "            include_position_features=True,\n",
    "            include_text_features=True,\n",
    "        )\n",
    "        \n",
    "        # Create CatBoost Pool for test data\n",
    "        features = self.numerical_cols + self.categorical_cols\n",
    "        pool_params = {\n",
    "            'data': test_processed[features],\n",
    "            'cat_features': self.categorical_cols,\n",
    "        }\n",
    "        \n",
    "        if self.text_cols:\n",
    "            features += self.text_cols\n",
    "            pool_params['data'] = test_processed[features]\n",
    "            pool_params['text_features'] = self.text_cols\n",
    "            \n",
    "        test_pool = cb.Pool(**pool_params)\n",
    "        \n",
    "        # Get predictions from all models\n",
    "        predictions = np.mean([\n",
    "            model.predict(test_pool)\n",
    "            for model in self.models\n",
    "        ], axis=0)\n",
    "        predictions = np.clip(predictions, -1, 1)\n",
    "        \n",
    "        return predictions\n",
    "\n",
    "# model_catboost = ModelInference(text_cols=[\"LudRules\",], **catboost_artifacts)\n",
    "\n",
    "model_catboost = ModelInference(\n",
    "    # models=catboost_artifacts[\"models\"][:5],\n",
    "    # models=catboost_artifacts[\"models\"][5:10],\n",
    "    # models=catboost_artifacts[\"models\"][10:],\n",
    "    models=catboost_artifacts[\"models\"],\n",
    "    numerical_cols=catboost_artifacts[\"numerical_cols\"],\n",
    "    categorical_cols=catboost_artifacts[\"categorical_cols\"],\n",
    "    text_cols=[\"LudRules\"],\n",
    "    encoder=catboost_artifacts[\"encoder\"],\n",
    "    scaler=catboost_artifacts[\"scaler\"],\n",
    ")"
   ]
  },
  {
   "cell_type": "code",
   "execution_count": 5,
   "id": "7e16201d",
   "metadata": {
    "execution": {
     "iopub.execute_input": "2024-11-18T20:04:56.680013Z",
     "iopub.status.busy": "2024-11-18T20:04:56.679466Z",
     "iopub.status.idle": "2024-11-18T20:04:56.899714Z",
     "shell.execute_reply": "2024-11-18T20:04:56.898723Z"
    },
    "papermill": {
     "duration": 0.227423,
     "end_time": "2024-11-18T20:04:56.902073",
     "exception": false,
     "start_time": "2024-11-18T20:04:56.674650",
     "status": "completed"
    },
    "tags": []
   },
   "outputs": [
    {
     "data": {
      "text/plain": [
       "array([ 0.14739358, -0.1419315 , -0.06667329])"
      ]
     },
     "execution_count": 5,
     "metadata": {},
     "output_type": "execute_result"
    }
   ],
   "source": [
    "# sanity check\n",
    "test = pd.read_csv(\"/kaggle/input/um-game-playing-strength-of-mcts-variants/test.csv\")\n",
    "model_catboost.predict(test)"
   ]
  },
  {
   "cell_type": "markdown",
   "id": "a7597e1d",
   "metadata": {
    "papermill": {
     "duration": 0.003057,
     "end_time": "2024-11-18T20:04:56.908479",
     "exception": false,
     "start_time": "2024-11-18T20:04:56.905422",
     "status": "completed"
    },
    "tags": []
   },
   "source": [
    "***\n",
    "### inference"
   ]
  },
  {
   "cell_type": "code",
   "execution_count": 6,
   "id": "82531b0b",
   "metadata": {
    "execution": {
     "iopub.execute_input": "2024-11-18T20:04:56.916437Z",
     "iopub.status.busy": "2024-11-18T20:04:56.916039Z",
     "iopub.status.idle": "2024-11-18T20:04:57.418979Z",
     "shell.execute_reply": "2024-11-18T20:04:57.417708Z"
    },
    "papermill": {
     "duration": 0.509897,
     "end_time": "2024-11-18T20:04:57.421531",
     "exception": false,
     "start_time": "2024-11-18T20:04:56.911634",
     "status": "completed"
    },
    "tags": []
   },
   "outputs": [],
   "source": [
    "import os\n",
    "import polars as pl\n",
    "import kaggle_evaluation.mcts_inference_server"
   ]
  },
  {
   "cell_type": "code",
   "execution_count": 7,
   "id": "ec9e4731",
   "metadata": {
    "execution": {
     "iopub.execute_input": "2024-11-18T20:04:57.430224Z",
     "iopub.status.busy": "2024-11-18T20:04:57.429686Z",
     "iopub.status.idle": "2024-11-18T20:04:57.435368Z",
     "shell.execute_reply": "2024-11-18T20:04:57.434307Z"
    },
    "papermill": {
     "duration": 0.012247,
     "end_time": "2024-11-18T20:04:57.437433",
     "exception": false,
     "start_time": "2024-11-18T20:04:57.425186",
     "status": "completed"
    },
    "tags": []
   },
   "outputs": [],
   "source": [
    "def predict(test: pl.DataFrame, sample_sub: pl.DataFrame):\n",
    "    test_pd = test.to_pandas()\n",
    "    predictions = model_catboost.predict(test_pd)\n",
    "    submission = sample_sub.with_columns(pl.Series(\"utility_agent1\", predictions))\n",
    "    return submission"
   ]
  },
  {
   "cell_type": "code",
   "execution_count": 8,
   "id": "dbfe42bd",
   "metadata": {
    "execution": {
     "iopub.execute_input": "2024-11-18T20:04:57.446412Z",
     "iopub.status.busy": "2024-11-18T20:04:57.445359Z",
     "iopub.status.idle": "2024-11-18T20:04:58.087327Z",
     "shell.execute_reply": "2024-11-18T20:04:58.086259Z"
    },
    "papermill": {
     "duration": 0.648972,
     "end_time": "2024-11-18T20:04:58.089737",
     "exception": false,
     "start_time": "2024-11-18T20:04:57.440765",
     "status": "completed"
    },
    "tags": []
   },
   "outputs": [],
   "source": [
    "inference_server = kaggle_evaluation.mcts_inference_server.MCTSInferenceServer(predict)\n",
    "\n",
    "if os.getenv('KAGGLE_IS_COMPETITION_RERUN'):\n",
    "    inference_server.serve()\n",
    "else:\n",
    "    inference_server.run_local_gateway(\n",
    "        (\n",
    "            '/kaggle/input/um-game-playing-strength-of-mcts-variants/test.csv',\n",
    "            '/kaggle/input/um-game-playing-strength-of-mcts-variants/sample_submission.csv'\n",
    "        )\n",
    "    )"
   ]
  },
  {
   "cell_type": "markdown",
   "id": "453f0b1d",
   "metadata": {
    "papermill": {
     "duration": 0.00396,
     "end_time": "2024-11-18T20:04:58.097455",
     "exception": false,
     "start_time": "2024-11-18T20:04:58.093495",
     "status": "completed"
    },
    "tags": []
   },
   "source": [
    "***"
   ]
  }
 ],
 "metadata": {
  "kaggle": {
   "accelerator": "none",
   "dataSources": [
    {
     "databundleVersionId": 9515283,
     "sourceId": 70089,
     "sourceType": "competition"
    },
    {
     "datasetId": 5909723,
     "sourceId": 9945169,
     "sourceType": "datasetVersion"
    }
   ],
   "dockerImageVersionId": 30786,
   "isGpuEnabled": false,
   "isInternetEnabled": false,
   "language": "python",
   "sourceType": "notebook"
  },
  "kernelspec": {
   "display_name": "Python 3",
   "language": "python",
   "name": "python3"
  },
  "language_info": {
   "codemirror_mode": {
    "name": "ipython",
    "version": 3
   },
   "file_extension": ".py",
   "mimetype": "text/x-python",
   "name": "python",
   "nbconvert_exporter": "python",
   "pygments_lexer": "ipython3",
   "version": "3.10.14"
  },
  "papermill": {
   "default_parameters": {},
   "duration": 11.046243,
   "end_time": "2024-11-18T20:04:58.821613",
   "environment_variables": {},
   "exception": null,
   "input_path": "__notebook__.ipynb",
   "output_path": "__notebook__.ipynb",
   "parameters": {},
   "start_time": "2024-11-18T20:04:47.775370",
   "version": "2.6.0"
  }
 },
 "nbformat": 4,
 "nbformat_minor": 5
}
