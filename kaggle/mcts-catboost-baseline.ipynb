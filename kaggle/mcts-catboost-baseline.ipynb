{
 "cells": [
  {
   "cell_type": "code",
   "execution_count": 1,
   "id": "c9e70281",
   "metadata": {
    "_cell_guid": "b1076dfc-b9ad-4769-8c92-a6c4dae69d19",
    "_uuid": "8f2839f25d086af736a60e9eeb907d3b93b6e0e5",
    "execution": {
     "iopub.execute_input": "2024-11-12T03:41:54.568244Z",
     "iopub.status.busy": "2024-11-12T03:41:54.567791Z",
     "iopub.status.idle": "2024-11-12T03:41:57.532249Z",
     "shell.execute_reply": "2024-11-12T03:41:57.530983Z"
    },
    "papermill": {
     "duration": 2.974605,
     "end_time": "2024-11-12T03:41:57.534866",
     "exception": false,
     "start_time": "2024-11-12T03:41:54.560261",
     "status": "completed"
    },
    "tags": []
   },
   "outputs": [
    {
     "name": "stdout",
     "output_type": "stream",
     "text": [
      "cb.__version__: 1.2.7\n"
     ]
    }
   ],
   "source": [
    "import numpy as np\n",
    "import pandas as pd\n",
    "import matplotlib.pyplot as plt\n",
    "from pathlib import Path\n",
    "import pickle\n",
    "\n",
    "import catboost as cb\n",
    "print(\"cb.__version__:\", cb.__version__)\n",
    "\n",
    "import sys\n",
    "sys.path.append(\"/kaggle/input/mcts-artifacts\")\n",
    "from preproc import process_test_data\n",
    "\n",
    "from sklearn.model_selection import StratifiedGroupKFold\n",
    "from sklearn.preprocessing import OrdinalEncoder, StandardScaler"
   ]
  },
  {
   "cell_type": "markdown",
   "id": "b4c37011",
   "metadata": {
    "papermill": {
     "duration": 0.004304,
     "end_time": "2024-11-12T03:41:57.543776",
     "exception": false,
     "start_time": "2024-11-12T03:41:57.539472",
     "status": "completed"
    },
    "tags": []
   },
   "source": [
    "***\n",
    "### load artifacts\n"
   ]
  },
  {
   "cell_type": "code",
   "execution_count": 2,
   "id": "0d5adf6a",
   "metadata": {
    "execution": {
     "iopub.execute_input": "2024-11-12T03:41:57.555084Z",
     "iopub.status.busy": "2024-11-12T03:41:57.554048Z",
     "iopub.status.idle": "2024-11-12T03:42:00.881268Z",
     "shell.execute_reply": "2024-11-12T03:42:00.879962Z"
    },
    "papermill": {
     "duration": 3.335777,
     "end_time": "2024-11-12T03:42:00.884027",
     "exception": false,
     "start_time": "2024-11-12T03:41:57.548250",
     "status": "completed"
    },
    "tags": []
   },
   "outputs": [
    {
     "name": "stderr",
     "output_type": "stream",
     "text": [
      "/opt/conda/lib/python3.10/site-packages/sklearn/base.py:318: UserWarning: Trying to unpickle estimator OrdinalEncoder from version 1.5.2 when using version 1.2.2. This might lead to breaking code or invalid results. Use at your own risk. For more info please refer to:\n",
      "https://scikit-learn.org/stable/model_persistence.html#security-maintainability-limitations\n",
      "  warnings.warn(\n"
     ]
    }
   ],
   "source": [
    "# Specify the path where you want to save the serialized function\n",
    "catboost_artifacts_path = '/kaggle/input/mcts-artifacts/catboost_predict.pkl'\n",
    "\n",
    "# Load the function from the file\n",
    "with open(catboost_artifacts_path, 'rb') as f:\n",
    "    catboost_artifacts = pickle.load(f)"
   ]
  },
  {
   "cell_type": "code",
   "execution_count": 3,
   "id": "d6b3833f",
   "metadata": {
    "execution": {
     "iopub.execute_input": "2024-11-12T03:42:00.895136Z",
     "iopub.status.busy": "2024-11-12T03:42:00.894686Z",
     "iopub.status.idle": "2024-11-12T03:42:00.906701Z",
     "shell.execute_reply": "2024-11-12T03:42:00.905459Z"
    },
    "papermill": {
     "duration": 0.020894,
     "end_time": "2024-11-12T03:42:00.909655",
     "exception": false,
     "start_time": "2024-11-12T03:42:00.888761",
     "status": "completed"
    },
    "tags": []
   },
   "outputs": [
    {
     "name": "stdout",
     "output_type": "stream",
     "text": [
      "len(numerical_cols): 368\n",
      "len(categorical_cols):s 5\n"
     ]
    }
   ],
   "source": [
    "class ModelInference:\n",
    "    def __init__(self, models, numerical_cols, categorical_cols, encoder, scaler):\n",
    "        \"\"\"Initialize inference class with trained artifacts\n",
    "        \n",
    "        Args:\n",
    "            models: List of trained CatBoost models\n",
    "            numerical_cols: List of numerical column names\n",
    "            categorical_cols: List of categorical column names\n",
    "            encoder: Fitted OrdinalEncoder for categorical features\n",
    "            scaler: Fitted StandardScaler for numerical features (optional)\n",
    "        \"\"\"\n",
    "        self.models = models\n",
    "        self.numerical_cols = numerical_cols\n",
    "        self.categorical_cols = categorical_cols\n",
    "        self.encoder = encoder\n",
    "        self.scaler = scaler\n",
    "\n",
    "        print(\"len(numerical_cols):\", len(numerical_cols))\n",
    "        print(\"len(categorical_cols):s\", len(categorical_cols))\n",
    "        \n",
    "    def predict(self, df_test):\n",
    "        \"\"\"Make predictions on test data\n",
    "        \n",
    "        Args:\n",
    "            df_test: pandas DataFrame containing test features\n",
    "            \n",
    "        Returns:\n",
    "            numpy array of predictions\n",
    "        \"\"\"\n",
    "        # Preprocess test data\n",
    "        test_processed = process_test_data(\n",
    "            df_test,\n",
    "            self.numerical_cols,\n",
    "            self.categorical_cols,\n",
    "            self.encoder,\n",
    "            self.scaler\n",
    "        )\n",
    "        \n",
    "        # Create Pool dataset for CatBoost\n",
    "        test_pool = cb.Pool(\n",
    "            data=test_processed[self.numerical_cols + self.categorical_cols],\n",
    "            cat_features=self.categorical_cols,\n",
    "        )\n",
    "        \n",
    "        # Get predictions from all models\n",
    "        predictions = np.mean([\n",
    "            model.predict(test_pool)\n",
    "            for model in self.models\n",
    "        ], axis=0)\n",
    "        predictions = np.clip(predictions, -1, 1)\n",
    "        \n",
    "        return predictions\n",
    "\n",
    "model_catboost = ModelInference(**catboost_artifacts)"
   ]
  },
  {
   "cell_type": "code",
   "execution_count": 4,
   "id": "0ff277da",
   "metadata": {
    "execution": {
     "iopub.execute_input": "2024-11-12T03:42:00.920780Z",
     "iopub.status.busy": "2024-11-12T03:42:00.920031Z",
     "iopub.status.idle": "2024-11-12T03:42:01.178322Z",
     "shell.execute_reply": "2024-11-12T03:42:01.177203Z"
    },
    "papermill": {
     "duration": 0.266912,
     "end_time": "2024-11-12T03:42:01.181155",
     "exception": false,
     "start_time": "2024-11-12T03:42:00.914243",
     "status": "completed"
    },
    "tags": []
   },
   "outputs": [
    {
     "data": {
      "text/plain": [
       "array([ 0.1216964 , -0.12935903, -0.08922361])"
      ]
     },
     "execution_count": 4,
     "metadata": {},
     "output_type": "execute_result"
    }
   ],
   "source": [
    "# sanity check\n",
    "test = pd.read_csv(\"/kaggle/input/um-game-playing-strength-of-mcts-variants/test.csv\")\n",
    "model_catboost.predict(test)"
   ]
  },
  {
   "cell_type": "markdown",
   "id": "9decfe9e",
   "metadata": {
    "papermill": {
     "duration": 0.004485,
     "end_time": "2024-11-12T03:42:01.190254",
     "exception": false,
     "start_time": "2024-11-12T03:42:01.185769",
     "status": "completed"
    },
    "tags": []
   },
   "source": [
    "***\n",
    "### inference"
   ]
  },
  {
   "cell_type": "code",
   "execution_count": 5,
   "id": "fca7f51f",
   "metadata": {
    "execution": {
     "iopub.execute_input": "2024-11-12T03:42:01.201449Z",
     "iopub.status.busy": "2024-11-12T03:42:01.201006Z",
     "iopub.status.idle": "2024-11-12T03:42:01.683577Z",
     "shell.execute_reply": "2024-11-12T03:42:01.682277Z"
    },
    "papermill": {
     "duration": 0.491229,
     "end_time": "2024-11-12T03:42:01.686278",
     "exception": false,
     "start_time": "2024-11-12T03:42:01.195049",
     "status": "completed"
    },
    "tags": []
   },
   "outputs": [],
   "source": [
    "import os\n",
    "import polars as pl\n",
    "import kaggle_evaluation.mcts_inference_server"
   ]
  },
  {
   "cell_type": "code",
   "execution_count": 6,
   "id": "53b0d8b9",
   "metadata": {
    "execution": {
     "iopub.execute_input": "2024-11-12T03:42:01.698009Z",
     "iopub.status.busy": "2024-11-12T03:42:01.697283Z",
     "iopub.status.idle": "2024-11-12T03:42:01.704031Z",
     "shell.execute_reply": "2024-11-12T03:42:01.702820Z"
    },
    "papermill": {
     "duration": 0.015443,
     "end_time": "2024-11-12T03:42:01.706595",
     "exception": false,
     "start_time": "2024-11-12T03:42:01.691152",
     "status": "completed"
    },
    "tags": []
   },
   "outputs": [],
   "source": [
    "def predict(test: pl.DataFrame, sample_sub: pl.DataFrame):\n",
    "    test_pd = test.to_pandas()\n",
    "    predictions = model_catboost.predict(test_pd)\n",
    "    submission = sample_sub.with_columns(pl.Series(\"utility_agent1\", predictions))\n",
    "    return submission"
   ]
  },
  {
   "cell_type": "code",
   "execution_count": 7,
   "id": "fde391fb",
   "metadata": {
    "execution": {
     "iopub.execute_input": "2024-11-12T03:42:01.717842Z",
     "iopub.status.busy": "2024-11-12T03:42:01.717400Z",
     "iopub.status.idle": "2024-11-12T03:42:02.357115Z",
     "shell.execute_reply": "2024-11-12T03:42:02.355911Z"
    },
    "papermill": {
     "duration": 0.648633,
     "end_time": "2024-11-12T03:42:02.360024",
     "exception": false,
     "start_time": "2024-11-12T03:42:01.711391",
     "status": "completed"
    },
    "tags": []
   },
   "outputs": [],
   "source": [
    "inference_server = kaggle_evaluation.mcts_inference_server.MCTSInferenceServer(predict)\n",
    "\n",
    "if os.getenv('KAGGLE_IS_COMPETITION_RERUN'):\n",
    "    inference_server.serve()\n",
    "else:\n",
    "    inference_server.run_local_gateway(\n",
    "        (\n",
    "            '/kaggle/input/um-game-playing-strength-of-mcts-variants/test.csv',\n",
    "            '/kaggle/input/um-game-playing-strength-of-mcts-variants/sample_submission.csv'\n",
    "        )\n",
    "    )"
   ]
  },
  {
   "cell_type": "markdown",
   "id": "d62883f6",
   "metadata": {
    "papermill": {
     "duration": 0.004483,
     "end_time": "2024-11-12T03:42:02.369577",
     "exception": false,
     "start_time": "2024-11-12T03:42:02.365094",
     "status": "completed"
    },
    "tags": []
   },
   "source": [
    "***"
   ]
  }
 ],
 "metadata": {
  "kaggle": {
   "accelerator": "none",
   "dataSources": [
    {
     "databundleVersionId": 9515283,
     "sourceId": 70089,
     "sourceType": "competition"
    },
    {
     "datasetId": 5909723,
     "sourceId": 9879090,
     "sourceType": "datasetVersion"
    }
   ],
   "dockerImageVersionId": 30786,
   "isGpuEnabled": false,
   "isInternetEnabled": false,
   "language": "python",
   "sourceType": "notebook"
  },
  "kernelspec": {
   "display_name": "Python 3",
   "language": "python",
   "name": "python3"
  },
  "language_info": {
   "codemirror_mode": {
    "name": "ipython",
    "version": 3
   },
   "file_extension": ".py",
   "mimetype": "text/x-python",
   "name": "python",
   "nbconvert_exporter": "python",
   "pygments_lexer": "ipython3",
   "version": "3.10.14"
  },
  "papermill": {
   "default_parameters": {},
   "duration": 11.526182,
   "end_time": "2024-11-12T03:42:03.096942",
   "environment_variables": {},
   "exception": null,
   "input_path": "__notebook__.ipynb",
   "output_path": "__notebook__.ipynb",
   "parameters": {},
   "start_time": "2024-11-12T03:41:51.570760",
   "version": "2.6.0"
  }
 },
 "nbformat": 4,
 "nbformat_minor": 5
}
