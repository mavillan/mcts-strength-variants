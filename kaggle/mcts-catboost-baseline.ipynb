{
 "cells": [
  {
   "cell_type": "code",
   "execution_count": 1,
   "id": "9b3ee115",
   "metadata": {
    "_cell_guid": "b1076dfc-b9ad-4769-8c92-a6c4dae69d19",
    "_uuid": "8f2839f25d086af736a60e9eeb907d3b93b6e0e5",
    "execution": {
     "iopub.execute_input": "2024-11-26T23:23:48.945006Z",
     "iopub.status.busy": "2024-11-26T23:23:48.944485Z",
     "iopub.status.idle": "2024-11-26T23:23:52.016091Z",
     "shell.execute_reply": "2024-11-26T23:23:52.015021Z"
    },
    "papermill": {
     "duration": 3.079322,
     "end_time": "2024-11-26T23:23:52.018342",
     "exception": false,
     "start_time": "2024-11-26T23:23:48.939020",
     "status": "completed"
    },
    "tags": []
   },
   "outputs": [
    {
     "name": "stdout",
     "output_type": "stream",
     "text": [
      "cb.__version__: 1.2.7\n"
     ]
    }
   ],
   "source": [
    "import numpy as np\n",
    "import pandas as pd\n",
    "import matplotlib.pyplot as plt\n",
    "from pathlib import Path\n",
    "import pickle\n",
    "\n",
    "import catboost as cb\n",
    "print(\"cb.__version__:\", cb.__version__)\n",
    "\n",
    "import sys\n",
    "sys.path.append(\"/kaggle/input/mcts-artifacts\")\n",
    "from preproc import process_test_data\n",
    "\n",
    "from sklearn.model_selection import StratifiedGroupKFold\n",
    "from sklearn.preprocessing import OrdinalEncoder, StandardScaler"
   ]
  },
  {
   "cell_type": "markdown",
   "id": "158b2f92",
   "metadata": {
    "papermill": {
     "duration": 0.002676,
     "end_time": "2024-11-26T23:23:52.024278",
     "exception": false,
     "start_time": "2024-11-26T23:23:52.021602",
     "status": "completed"
    },
    "tags": []
   },
   "source": [
    "***\n",
    "### load artifacts\n"
   ]
  },
  {
   "cell_type": "code",
   "execution_count": 2,
   "id": "ea855918",
   "metadata": {
    "execution": {
     "iopub.execute_input": "2024-11-26T23:23:52.031693Z",
     "iopub.status.busy": "2024-11-26T23:23:52.031144Z",
     "iopub.status.idle": "2024-11-26T23:23:57.054735Z",
     "shell.execute_reply": "2024-11-26T23:23:57.053671Z"
    },
    "papermill": {
     "duration": 5.030106,
     "end_time": "2024-11-26T23:23:57.057214",
     "exception": false,
     "start_time": "2024-11-26T23:23:52.027108",
     "status": "completed"
    },
    "tags": []
   },
   "outputs": [
    {
     "name": "stderr",
     "output_type": "stream",
     "text": [
      "/opt/conda/lib/python3.10/site-packages/sklearn/base.py:318: UserWarning: Trying to unpickle estimator OrdinalEncoder from version 1.5.2 when using version 1.2.2. This might lead to breaking code or invalid results. Use at your own risk. For more info please refer to:\n",
      "https://scikit-learn.org/stable/model_persistence.html#security-maintainability-limitations\n",
      "  warnings.warn(\n"
     ]
    }
   ],
   "source": [
    "# Specify the path where you want to save the serialized function\n",
    "catboost_artifacts_path = '/kaggle/input/mcts-artifacts/catboost_predict_fs24.pkl'\n",
    "\n",
    "# Load the function from the file\n",
    "with open(catboost_artifacts_path, 'rb') as f:\n",
    "    catboost_artifacts = pickle.load(f)"
   ]
  },
  {
   "cell_type": "code",
   "execution_count": 3,
   "id": "93e252cc",
   "metadata": {
    "execution": {
     "iopub.execute_input": "2024-11-26T23:23:57.065613Z",
     "iopub.status.busy": "2024-11-26T23:23:57.065216Z",
     "iopub.status.idle": "2024-11-26T23:23:57.073004Z",
     "shell.execute_reply": "2024-11-26T23:23:57.071827Z"
    },
    "papermill": {
     "duration": 0.014484,
     "end_time": "2024-11-26T23:23:57.075335",
     "exception": false,
     "start_time": "2024-11-26T23:23:57.060851",
     "status": "completed"
    },
    "tags": []
   },
   "outputs": [
    {
     "data": {
      "text/plain": [
       "15"
      ]
     },
     "execution_count": 3,
     "metadata": {},
     "output_type": "execute_result"
    }
   ],
   "source": [
    "len(catboost_artifacts[\"models\"])"
   ]
  },
  {
   "cell_type": "code",
   "execution_count": 4,
   "id": "9f63db8b",
   "metadata": {
    "execution": {
     "iopub.execute_input": "2024-11-26T23:23:57.084046Z",
     "iopub.status.busy": "2024-11-26T23:23:57.083639Z",
     "iopub.status.idle": "2024-11-26T23:23:57.094878Z",
     "shell.execute_reply": "2024-11-26T23:23:57.093801Z"
    },
    "papermill": {
     "duration": 0.018002,
     "end_time": "2024-11-26T23:23:57.097021",
     "exception": false,
     "start_time": "2024-11-26T23:23:57.079019",
     "status": "completed"
    },
    "tags": []
   },
   "outputs": [
    {
     "name": "stdout",
     "output_type": "stream",
     "text": [
      "len(numerical_cols): 219\n",
      "len(categorical_cols): 8\n"
     ]
    }
   ],
   "source": [
    "class ModelInference:\n",
    "    def __init__(self, models, numerical_cols, categorical_cols, encoder, scaler, text_cols=None):\n",
    "        \"\"\"Initialize inference class with trained artifacts\n",
    "        \n",
    "        Args:\n",
    "            models: List of trained CatBoost models\n",
    "            numerical_cols: List of numerical column names\n",
    "            categorical_cols: List of categorical column names\n",
    "            encoder: Fitted OrdinalEncoder for categorical features\n",
    "            scaler: Fitted StandardScaler for numerical features (optional)\n",
    "            text_cols: List of text columns (optional)\n",
    "        \"\"\"\n",
    "        self.models = models\n",
    "        self.numerical_cols = numerical_cols\n",
    "        self.categorical_cols = categorical_cols\n",
    "        self.text_cols = text_cols if text_cols is not None else []\n",
    "        self.encoder = encoder\n",
    "        self.scaler = scaler\n",
    "\n",
    "        print(\"len(numerical_cols):\", len(numerical_cols))\n",
    "        print(\"len(categorical_cols):\", len(categorical_cols))\n",
    "        \n",
    "    def predict(self, df_test):\n",
    "        \"\"\"Make predictions on test data\n",
    "        \n",
    "        Args:\n",
    "            df_test: pandas DataFrame containing test features\n",
    "            \n",
    "        Returns:\n",
    "            numpy array of predictions\n",
    "        \"\"\"\n",
    "        # Preprocess test data\n",
    "        test_processed = process_test_data(\n",
    "            df_test,\n",
    "            self.numerical_cols,\n",
    "            self.categorical_cols,\n",
    "            self.encoder,\n",
    "            self.scaler,\n",
    "            include_position_features=True,\n",
    "            include_text_features=True,\n",
    "        )\n",
    "        \n",
    "        # Create CatBoost Pool for test data\n",
    "        features = self.numerical_cols + self.categorical_cols\n",
    "        pool_params = {\n",
    "            'data': test_processed[features],\n",
    "            'cat_features': self.categorical_cols,\n",
    "        }\n",
    "        \n",
    "        if self.text_cols:\n",
    "            features += self.text_cols\n",
    "            pool_params['data'] = test_processed[features]\n",
    "            pool_params['text_features'] = self.text_cols\n",
    "            \n",
    "        test_pool = cb.Pool(**pool_params)\n",
    "        \n",
    "        # Get predictions from all models\n",
    "        predictions = np.mean([\n",
    "            model.predict(test_pool)\n",
    "            for model in self.models\n",
    "        ], axis=0)\n",
    "        predictions = np.clip(predictions, -1, 1)\n",
    "        \n",
    "        return predictions\n",
    "\n",
    "# model_catboost = ModelInference(text_cols=[\"LudRules\",], **catboost_artifacts)\n",
    "\n",
    "model_catboost = ModelInference(\n",
    "    # models=catboost_artifacts[\"models\"][:5],\n",
    "    # models=catboost_artifacts[\"models\"][5:10],\n",
    "    # models=catboost_artifacts[\"models\"][10:],\n",
    "    models=catboost_artifacts[\"models\"],\n",
    "    numerical_cols=catboost_artifacts[\"numerical_cols\"],\n",
    "    categorical_cols=catboost_artifacts[\"categorical_cols\"],\n",
    "    # text_cols=[\"LudRules\"],\n",
    "    encoder=catboost_artifacts[\"encoder\"],\n",
    "    scaler=catboost_artifacts[\"scaler\"],\n",
    ")"
   ]
  },
  {
   "cell_type": "code",
   "execution_count": 5,
   "id": "b39c7b91",
   "metadata": {
    "execution": {
     "iopub.execute_input": "2024-11-26T23:23:57.105101Z",
     "iopub.status.busy": "2024-11-26T23:23:57.104768Z",
     "iopub.status.idle": "2024-11-26T23:23:57.316772Z",
     "shell.execute_reply": "2024-11-26T23:23:57.315660Z"
    },
    "papermill": {
     "duration": 0.218728,
     "end_time": "2024-11-26T23:23:57.319100",
     "exception": false,
     "start_time": "2024-11-26T23:23:57.100372",
     "status": "completed"
    },
    "tags": []
   },
   "outputs": [
    {
     "data": {
      "text/plain": [
       "array([ 0.12559595, -0.14268564, -0.01896763])"
      ]
     },
     "execution_count": 5,
     "metadata": {},
     "output_type": "execute_result"
    }
   ],
   "source": [
    "# sanity check\n",
    "test = pd.read_csv(\"/kaggle/input/um-game-playing-strength-of-mcts-variants/test.csv\")\n",
    "model_catboost.predict(test)"
   ]
  },
  {
   "cell_type": "markdown",
   "id": "307db231",
   "metadata": {
    "papermill": {
     "duration": 0.002959,
     "end_time": "2024-11-26T23:23:57.325617",
     "exception": false,
     "start_time": "2024-11-26T23:23:57.322658",
     "status": "completed"
    },
    "tags": []
   },
   "source": [
    "***\n",
    "### inference"
   ]
  },
  {
   "cell_type": "code",
   "execution_count": 6,
   "id": "95dbb184",
   "metadata": {
    "execution": {
     "iopub.execute_input": "2024-11-26T23:23:57.334144Z",
     "iopub.status.busy": "2024-11-26T23:23:57.333202Z",
     "iopub.status.idle": "2024-11-26T23:23:57.857368Z",
     "shell.execute_reply": "2024-11-26T23:23:57.856465Z"
    },
    "papermill": {
     "duration": 0.530867,
     "end_time": "2024-11-26T23:23:57.859653",
     "exception": false,
     "start_time": "2024-11-26T23:23:57.328786",
     "status": "completed"
    },
    "tags": []
   },
   "outputs": [],
   "source": [
    "import os\n",
    "import polars as pl\n",
    "import kaggle_evaluation.mcts_inference_server"
   ]
  },
  {
   "cell_type": "code",
   "execution_count": 7,
   "id": "d69d006a",
   "metadata": {
    "execution": {
     "iopub.execute_input": "2024-11-26T23:23:57.868132Z",
     "iopub.status.busy": "2024-11-26T23:23:57.867651Z",
     "iopub.status.idle": "2024-11-26T23:23:57.873375Z",
     "shell.execute_reply": "2024-11-26T23:23:57.872282Z"
    },
    "papermill": {
     "duration": 0.012244,
     "end_time": "2024-11-26T23:23:57.875481",
     "exception": false,
     "start_time": "2024-11-26T23:23:57.863237",
     "status": "completed"
    },
    "tags": []
   },
   "outputs": [],
   "source": [
    "def predict(test: pl.DataFrame, sample_sub: pl.DataFrame):\n",
    "    test_pd = test.to_pandas()\n",
    "    predictions = model_catboost.predict(test_pd)\n",
    "    submission = sample_sub.with_columns(pl.Series(\"utility_agent1\", predictions))\n",
    "    return submission"
   ]
  },
  {
   "cell_type": "code",
   "execution_count": 8,
   "id": "317f9694",
   "metadata": {
    "execution": {
     "iopub.execute_input": "2024-11-26T23:23:57.883896Z",
     "iopub.status.busy": "2024-11-26T23:23:57.883543Z",
     "iopub.status.idle": "2024-11-26T23:23:58.473988Z",
     "shell.execute_reply": "2024-11-26T23:23:58.473001Z"
    },
    "papermill": {
     "duration": 0.597632,
     "end_time": "2024-11-26T23:23:58.476543",
     "exception": false,
     "start_time": "2024-11-26T23:23:57.878911",
     "status": "completed"
    },
    "tags": []
   },
   "outputs": [],
   "source": [
    "inference_server = kaggle_evaluation.mcts_inference_server.MCTSInferenceServer(predict)\n",
    "\n",
    "if os.getenv('KAGGLE_IS_COMPETITION_RERUN'):\n",
    "    inference_server.serve()\n",
    "else:\n",
    "    inference_server.run_local_gateway(\n",
    "        (\n",
    "            '/kaggle/input/um-game-playing-strength-of-mcts-variants/test.csv',\n",
    "            '/kaggle/input/um-game-playing-strength-of-mcts-variants/sample_submission.csv'\n",
    "        )\n",
    "    )"
   ]
  },
  {
   "cell_type": "markdown",
   "id": "c0c08564",
   "metadata": {
    "papermill": {
     "duration": 0.003899,
     "end_time": "2024-11-26T23:23:58.483891",
     "exception": false,
     "start_time": "2024-11-26T23:23:58.479992",
     "status": "completed"
    },
    "tags": []
   },
   "source": [
    "***"
   ]
  }
 ],
 "metadata": {
  "kaggle": {
   "accelerator": "none",
   "dataSources": [
    {
     "databundleVersionId": 9515283,
     "sourceId": 70089,
     "sourceType": "competition"
    },
    {
     "datasetId": 5909723,
     "sourceId": 10023763,
     "sourceType": "datasetVersion"
    }
   ],
   "dockerImageVersionId": 30786,
   "isGpuEnabled": false,
   "isInternetEnabled": false,
   "language": "python",
   "sourceType": "notebook"
  },
  "kernelspec": {
   "display_name": "Python 3",
   "language": "python",
   "name": "python3"
  },
  "language_info": {
   "codemirror_mode": {
    "name": "ipython",
    "version": 3
   },
   "file_extension": ".py",
   "mimetype": "text/x-python",
   "name": "python",
   "nbconvert_exporter": "python",
   "pygments_lexer": "ipython3",
   "version": "3.10.14"
  },
  "papermill": {
   "default_parameters": {},
   "duration": 13.133214,
   "end_time": "2024-11-26T23:23:59.308301",
   "environment_variables": {},
   "exception": null,
   "input_path": "__notebook__.ipynb",
   "output_path": "__notebook__.ipynb",
   "parameters": {},
   "start_time": "2024-11-26T23:23:46.175087",
   "version": "2.6.0"
  }
 },
 "nbformat": 4,
 "nbformat_minor": 5
}
