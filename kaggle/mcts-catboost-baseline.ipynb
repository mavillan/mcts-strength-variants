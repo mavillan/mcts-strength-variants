{
 "cells": [
  {
   "cell_type": "code",
   "execution_count": 1,
   "id": "31b49f1a",
   "metadata": {
    "_cell_guid": "b1076dfc-b9ad-4769-8c92-a6c4dae69d19",
    "_uuid": "8f2839f25d086af736a60e9eeb907d3b93b6e0e5",
    "execution": {
     "iopub.execute_input": "2024-11-19T13:57:01.189358Z",
     "iopub.status.busy": "2024-11-19T13:57:01.188932Z",
     "iopub.status.idle": "2024-11-19T13:57:04.454548Z",
     "shell.execute_reply": "2024-11-19T13:57:04.453229Z"
    },
    "papermill": {
     "duration": 3.274574,
     "end_time": "2024-11-19T13:57:04.457172",
     "exception": false,
     "start_time": "2024-11-19T13:57:01.182598",
     "status": "completed"
    },
    "tags": []
   },
   "outputs": [
    {
     "name": "stdout",
     "output_type": "stream",
     "text": [
      "cb.__version__: 1.2.7\n"
     ]
    }
   ],
   "source": [
    "import numpy as np\n",
    "import pandas as pd\n",
    "import matplotlib.pyplot as plt\n",
    "from pathlib import Path\n",
    "import pickle\n",
    "\n",
    "import catboost as cb\n",
    "print(\"cb.__version__:\", cb.__version__)\n",
    "\n",
    "import sys\n",
    "sys.path.append(\"/kaggle/input/mcts-artifacts\")\n",
    "from preproc import process_test_data\n",
    "\n",
    "from sklearn.model_selection import StratifiedGroupKFold\n",
    "from sklearn.preprocessing import OrdinalEncoder, StandardScaler"
   ]
  },
  {
   "cell_type": "markdown",
   "id": "95d39309",
   "metadata": {
    "papermill": {
     "duration": 0.002915,
     "end_time": "2024-11-19T13:57:04.463561",
     "exception": false,
     "start_time": "2024-11-19T13:57:04.460646",
     "status": "completed"
    },
    "tags": []
   },
   "source": [
    "***\n",
    "### load artifacts\n"
   ]
  },
  {
   "cell_type": "code",
   "execution_count": 2,
   "id": "aab11f31",
   "metadata": {
    "execution": {
     "iopub.execute_input": "2024-11-19T13:57:04.471871Z",
     "iopub.status.busy": "2024-11-19T13:57:04.471291Z",
     "iopub.status.idle": "2024-11-19T13:57:06.748443Z",
     "shell.execute_reply": "2024-11-19T13:57:06.746938Z"
    },
    "papermill": {
     "duration": 2.28647,
     "end_time": "2024-11-19T13:57:06.753189",
     "exception": false,
     "start_time": "2024-11-19T13:57:04.466719",
     "status": "completed"
    },
    "tags": []
   },
   "outputs": [],
   "source": [
    "# Specify the path where you want to save the serialized function\n",
    "catboost_artifacts_path = '/kaggle/input/mcts-artifacts/catboost_predict.pkl'\n",
    "\n",
    "# Load the function from the file\n",
    "with open(catboost_artifacts_path, 'rb') as f:\n",
    "    catboost_artifacts = pickle.load(f)"
   ]
  },
  {
   "cell_type": "code",
   "execution_count": 3,
   "id": "28c2bfec",
   "metadata": {
    "execution": {
     "iopub.execute_input": "2024-11-19T13:57:06.767472Z",
     "iopub.status.busy": "2024-11-19T13:57:06.766590Z",
     "iopub.status.idle": "2024-11-19T13:57:06.778518Z",
     "shell.execute_reply": "2024-11-19T13:57:06.777446Z"
    },
    "papermill": {
     "duration": 0.024251,
     "end_time": "2024-11-19T13:57:06.783424",
     "exception": false,
     "start_time": "2024-11-19T13:57:06.759173",
     "status": "completed"
    },
    "tags": []
   },
   "outputs": [
    {
     "data": {
      "text/plain": [
       "5"
      ]
     },
     "execution_count": 3,
     "metadata": {},
     "output_type": "execute_result"
    }
   ],
   "source": [
    "len(catboost_artifacts[\"models\"])"
   ]
  },
  {
   "cell_type": "code",
   "execution_count": 4,
   "id": "354a8255",
   "metadata": {
    "execution": {
     "iopub.execute_input": "2024-11-19T13:57:06.800209Z",
     "iopub.status.busy": "2024-11-19T13:57:06.799580Z",
     "iopub.status.idle": "2024-11-19T13:57:06.824844Z",
     "shell.execute_reply": "2024-11-19T13:57:06.823503Z"
    },
    "papermill": {
     "duration": 0.038189,
     "end_time": "2024-11-19T13:57:06.828320",
     "exception": false,
     "start_time": "2024-11-19T13:57:06.790131",
     "status": "completed"
    },
    "tags": []
   },
   "outputs": [
    {
     "name": "stdout",
     "output_type": "stream",
     "text": [
      "len(numerical_cols): 368\n",
      "len(categorical_cols): 5\n"
     ]
    }
   ],
   "source": [
    "class ModelInference:\n",
    "    def __init__(self, models, numerical_cols, categorical_cols, encoder, scaler, text_cols=None):\n",
    "        \"\"\"Initialize inference class with trained artifacts\n",
    "        \n",
    "        Args:\n",
    "            models: List of trained CatBoost models\n",
    "            numerical_cols: List of numerical column names\n",
    "            categorical_cols: List of categorical column names\n",
    "            encoder: Fitted OrdinalEncoder for categorical features\n",
    "            scaler: Fitted StandardScaler for numerical features (optional)\n",
    "            text_cols: List of text columns (optional)\n",
    "        \"\"\"\n",
    "        self.models = models\n",
    "        self.numerical_cols = numerical_cols\n",
    "        self.categorical_cols = categorical_cols\n",
    "        self.text_cols = text_cols if text_cols is not None else []\n",
    "        self.encoder = encoder\n",
    "        self.scaler = scaler\n",
    "\n",
    "        print(\"len(numerical_cols):\", len(numerical_cols))\n",
    "        print(\"len(categorical_cols):\", len(categorical_cols))\n",
    "        \n",
    "    def predict(self, df_test):\n",
    "        \"\"\"Make predictions on test data\n",
    "        \n",
    "        Args:\n",
    "            df_test: pandas DataFrame containing test features\n",
    "            \n",
    "        Returns:\n",
    "            numpy array of predictions\n",
    "        \"\"\"\n",
    "        # Preprocess test data\n",
    "        test_processed = process_test_data(\n",
    "            df_test,\n",
    "            self.numerical_cols,\n",
    "            self.categorical_cols,\n",
    "            self.encoder,\n",
    "            self.scaler,\n",
    "            include_position_features=True,\n",
    "            include_text_features=True,\n",
    "        )\n",
    "        \n",
    "        # Create CatBoost Pool for test data\n",
    "        features = self.numerical_cols + self.categorical_cols\n",
    "        pool_params = {\n",
    "            'data': test_processed[features],\n",
    "            'cat_features': self.categorical_cols,\n",
    "        }\n",
    "        \n",
    "        if self.text_cols:\n",
    "            features += self.text_cols\n",
    "            pool_params['data'] = test_processed[features]\n",
    "            pool_params['text_features'] = self.text_cols\n",
    "            \n",
    "        test_pool = cb.Pool(**pool_params)\n",
    "        \n",
    "        # Get predictions from all models\n",
    "        predictions = np.mean([\n",
    "            model.predict(test_pool)\n",
    "            for model in self.models\n",
    "        ], axis=0)\n",
    "        predictions = np.clip(predictions, -1, 1)\n",
    "        \n",
    "        return predictions\n",
    "\n",
    "# model_catboost = ModelInference(text_cols=[\"LudRules\",], **catboost_artifacts)\n",
    "\n",
    "model_catboost = ModelInference(\n",
    "    # models=catboost_artifacts[\"models\"][:5],\n",
    "    # models=catboost_artifacts[\"models\"][5:10],\n",
    "    # models=catboost_artifacts[\"models\"][10:],\n",
    "    models=catboost_artifacts[\"models\"],\n",
    "    numerical_cols=catboost_artifacts[\"numerical_cols\"],\n",
    "    categorical_cols=catboost_artifacts[\"categorical_cols\"],\n",
    "    # text_cols=[\"LudRules\"],\n",
    "    encoder=catboost_artifacts[\"encoder\"],\n",
    "    scaler=catboost_artifacts[\"scaler\"],\n",
    ")"
   ]
  },
  {
   "cell_type": "code",
   "execution_count": 5,
   "id": "153fa6a0",
   "metadata": {
    "execution": {
     "iopub.execute_input": "2024-11-19T13:57:06.847164Z",
     "iopub.status.busy": "2024-11-19T13:57:06.843871Z",
     "iopub.status.idle": "2024-11-19T13:57:07.114253Z",
     "shell.execute_reply": "2024-11-19T13:57:07.113041Z"
    },
    "papermill": {
     "duration": 0.281959,
     "end_time": "2024-11-19T13:57:07.116896",
     "exception": false,
     "start_time": "2024-11-19T13:57:06.834937",
     "status": "completed"
    },
    "tags": []
   },
   "outputs": [
    {
     "data": {
      "text/plain": [
       "array([ 0.10484537, -0.15667441, -0.06631873])"
      ]
     },
     "execution_count": 5,
     "metadata": {},
     "output_type": "execute_result"
    }
   ],
   "source": [
    "# sanity check\n",
    "test = pd.read_csv(\"/kaggle/input/um-game-playing-strength-of-mcts-variants/test.csv\")\n",
    "model_catboost.predict(test)"
   ]
  },
  {
   "cell_type": "markdown",
   "id": "a17bb4ab",
   "metadata": {
    "papermill": {
     "duration": 0.003215,
     "end_time": "2024-11-19T13:57:07.123580",
     "exception": false,
     "start_time": "2024-11-19T13:57:07.120365",
     "status": "completed"
    },
    "tags": []
   },
   "source": [
    "***\n",
    "### inference"
   ]
  },
  {
   "cell_type": "code",
   "execution_count": 6,
   "id": "ba258115",
   "metadata": {
    "execution": {
     "iopub.execute_input": "2024-11-19T13:57:07.132101Z",
     "iopub.status.busy": "2024-11-19T13:57:07.131664Z",
     "iopub.status.idle": "2024-11-19T13:57:07.693136Z",
     "shell.execute_reply": "2024-11-19T13:57:07.691279Z"
    },
    "papermill": {
     "duration": 0.568994,
     "end_time": "2024-11-19T13:57:07.696045",
     "exception": false,
     "start_time": "2024-11-19T13:57:07.127051",
     "status": "completed"
    },
    "tags": []
   },
   "outputs": [],
   "source": [
    "import os\n",
    "import polars as pl\n",
    "import kaggle_evaluation.mcts_inference_server"
   ]
  },
  {
   "cell_type": "code",
   "execution_count": 7,
   "id": "d9d225eb",
   "metadata": {
    "execution": {
     "iopub.execute_input": "2024-11-19T13:57:07.705946Z",
     "iopub.status.busy": "2024-11-19T13:57:07.705344Z",
     "iopub.status.idle": "2024-11-19T13:57:07.711336Z",
     "shell.execute_reply": "2024-11-19T13:57:07.710087Z"
    },
    "papermill": {
     "duration": 0.01412,
     "end_time": "2024-11-19T13:57:07.713943",
     "exception": false,
     "start_time": "2024-11-19T13:57:07.699823",
     "status": "completed"
    },
    "tags": []
   },
   "outputs": [],
   "source": [
    "def predict(test: pl.DataFrame, sample_sub: pl.DataFrame):\n",
    "    test_pd = test.to_pandas()\n",
    "    predictions = model_catboost.predict(test_pd)\n",
    "    submission = sample_sub.with_columns(pl.Series(\"utility_agent1\", predictions))\n",
    "    return submission"
   ]
  },
  {
   "cell_type": "code",
   "execution_count": 8,
   "id": "fd7d43cf",
   "metadata": {
    "execution": {
     "iopub.execute_input": "2024-11-19T13:57:07.723148Z",
     "iopub.status.busy": "2024-11-19T13:57:07.722743Z",
     "iopub.status.idle": "2024-11-19T13:57:08.355901Z",
     "shell.execute_reply": "2024-11-19T13:57:08.354579Z"
    },
    "papermill": {
     "duration": 0.640825,
     "end_time": "2024-11-19T13:57:08.358638",
     "exception": false,
     "start_time": "2024-11-19T13:57:07.717813",
     "status": "completed"
    },
    "tags": []
   },
   "outputs": [],
   "source": [
    "inference_server = kaggle_evaluation.mcts_inference_server.MCTSInferenceServer(predict)\n",
    "\n",
    "if os.getenv('KAGGLE_IS_COMPETITION_RERUN'):\n",
    "    inference_server.serve()\n",
    "else:\n",
    "    inference_server.run_local_gateway(\n",
    "        (\n",
    "            '/kaggle/input/um-game-playing-strength-of-mcts-variants/test.csv',\n",
    "            '/kaggle/input/um-game-playing-strength-of-mcts-variants/sample_submission.csv'\n",
    "        )\n",
    "    )"
   ]
  },
  {
   "cell_type": "markdown",
   "id": "5cc5a482",
   "metadata": {
    "papermill": {
     "duration": 0.005188,
     "end_time": "2024-11-19T13:57:08.367825",
     "exception": false,
     "start_time": "2024-11-19T13:57:08.362637",
     "status": "completed"
    },
    "tags": []
   },
   "source": [
    "***"
   ]
  }
 ],
 "metadata": {
  "kaggle": {
   "accelerator": "none",
   "dataSources": [
    {
     "databundleVersionId": 9515283,
     "sourceId": 70089,
     "sourceType": "competition"
    },
    {
     "datasetId": 5909723,
     "sourceId": 9952150,
     "sourceType": "datasetVersion"
    }
   ],
   "dockerImageVersionId": 30786,
   "isGpuEnabled": false,
   "isInternetEnabled": false,
   "language": "python",
   "sourceType": "notebook"
  },
  "kernelspec": {
   "display_name": "Python 3",
   "language": "python",
   "name": "python3"
  },
  "language_info": {
   "codemirror_mode": {
    "name": "ipython",
    "version": 3
   },
   "file_extension": ".py",
   "mimetype": "text/x-python",
   "name": "python",
   "nbconvert_exporter": "python",
   "pygments_lexer": "ipython3",
   "version": "3.10.14"
  },
  "papermill": {
   "default_parameters": {},
   "duration": 10.978982,
   "end_time": "2024-11-19T13:57:09.194800",
   "environment_variables": {},
   "exception": null,
   "input_path": "__notebook__.ipynb",
   "output_path": "__notebook__.ipynb",
   "parameters": {},
   "start_time": "2024-11-19T13:56:58.215818",
   "version": "2.6.0"
  }
 },
 "nbformat": 4,
 "nbformat_minor": 5
}
