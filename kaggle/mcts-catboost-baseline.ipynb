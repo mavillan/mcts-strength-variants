{
 "cells": [
  {
   "cell_type": "code",
   "execution_count": 1,
   "id": "5eff7829",
   "metadata": {
    "_cell_guid": "b1076dfc-b9ad-4769-8c92-a6c4dae69d19",
    "_uuid": "8f2839f25d086af736a60e9eeb907d3b93b6e0e5",
    "execution": {
     "iopub.execute_input": "2024-11-16T17:21:28.289904Z",
     "iopub.status.busy": "2024-11-16T17:21:28.289483Z",
     "iopub.status.idle": "2024-11-16T17:21:31.031075Z",
     "shell.execute_reply": "2024-11-16T17:21:31.029768Z"
    },
    "papermill": {
     "duration": 2.750808,
     "end_time": "2024-11-16T17:21:31.033733",
     "exception": false,
     "start_time": "2024-11-16T17:21:28.282925",
     "status": "completed"
    },
    "tags": []
   },
   "outputs": [
    {
     "name": "stdout",
     "output_type": "stream",
     "text": [
      "cb.__version__: 1.2.7\n"
     ]
    }
   ],
   "source": [
    "import numpy as np\n",
    "import pandas as pd\n",
    "import matplotlib.pyplot as plt\n",
    "from pathlib import Path\n",
    "import pickle\n",
    "\n",
    "import catboost as cb\n",
    "print(\"cb.__version__:\", cb.__version__)\n",
    "\n",
    "import sys\n",
    "sys.path.append(\"/kaggle/input/mcts-artifacts\")\n",
    "from preproc import process_test_data\n",
    "\n",
    "from sklearn.model_selection import StratifiedGroupKFold\n",
    "from sklearn.preprocessing import OrdinalEncoder, StandardScaler"
   ]
  },
  {
   "cell_type": "markdown",
   "id": "35d04c48",
   "metadata": {
    "papermill": {
     "duration": 0.00425,
     "end_time": "2024-11-16T17:21:31.042961",
     "exception": false,
     "start_time": "2024-11-16T17:21:31.038711",
     "status": "completed"
    },
    "tags": []
   },
   "source": [
    "***\n",
    "### load artifacts\n"
   ]
  },
  {
   "cell_type": "code",
   "execution_count": 2,
   "id": "d0368f87",
   "metadata": {
    "execution": {
     "iopub.execute_input": "2024-11-16T17:21:31.054537Z",
     "iopub.status.busy": "2024-11-16T17:21:31.053359Z",
     "iopub.status.idle": "2024-11-16T17:21:36.880019Z",
     "shell.execute_reply": "2024-11-16T17:21:36.878904Z"
    },
    "papermill": {
     "duration": 5.835432,
     "end_time": "2024-11-16T17:21:36.882867",
     "exception": false,
     "start_time": "2024-11-16T17:21:31.047435",
     "status": "completed"
    },
    "tags": []
   },
   "outputs": [],
   "source": [
    "# Specify the path where you want to save the serialized function\n",
    "catboost_artifacts_path = '/kaggle/input/mcts-artifacts/catboost_predict.pkl'\n",
    "\n",
    "# Load the function from the file\n",
    "with open(catboost_artifacts_path, 'rb') as f:\n",
    "    catboost_artifacts = pickle.load(f)"
   ]
  },
  {
   "cell_type": "code",
   "execution_count": 3,
   "id": "7a8e0f0e",
   "metadata": {
    "execution": {
     "iopub.execute_input": "2024-11-16T17:21:36.894206Z",
     "iopub.status.busy": "2024-11-16T17:21:36.893711Z",
     "iopub.status.idle": "2024-11-16T17:21:36.901984Z",
     "shell.execute_reply": "2024-11-16T17:21:36.900929Z"
    },
    "papermill": {
     "duration": 0.016877,
     "end_time": "2024-11-16T17:21:36.904548",
     "exception": false,
     "start_time": "2024-11-16T17:21:36.887671",
     "status": "completed"
    },
    "tags": []
   },
   "outputs": [
    {
     "data": {
      "text/plain": [
       "15"
      ]
     },
     "execution_count": 3,
     "metadata": {},
     "output_type": "execute_result"
    }
   ],
   "source": [
    "len(catboost_artifacts[\"models\"])"
   ]
  },
  {
   "cell_type": "code",
   "execution_count": 4,
   "id": "73e14fd1",
   "metadata": {
    "execution": {
     "iopub.execute_input": "2024-11-16T17:21:36.916487Z",
     "iopub.status.busy": "2024-11-16T17:21:36.915379Z",
     "iopub.status.idle": "2024-11-16T17:21:36.930081Z",
     "shell.execute_reply": "2024-11-16T17:21:36.929055Z"
    },
    "papermill": {
     "duration": 0.023561,
     "end_time": "2024-11-16T17:21:36.932979",
     "exception": false,
     "start_time": "2024-11-16T17:21:36.909418",
     "status": "completed"
    },
    "tags": []
   },
   "outputs": [
    {
     "name": "stdout",
     "output_type": "stream",
     "text": [
      "len(numerical_cols): 368\n",
      "len(categorical_cols): 5\n"
     ]
    }
   ],
   "source": [
    "class ModelInference:\n",
    "    def __init__(self, models, numerical_cols, categorical_cols, encoder, scaler, text_cols=None):\n",
    "        \"\"\"Initialize inference class with trained artifacts\n",
    "        \n",
    "        Args:\n",
    "            models: List of trained CatBoost models\n",
    "            numerical_cols: List of numerical column names\n",
    "            categorical_cols: List of categorical column names\n",
    "            encoder: Fitted OrdinalEncoder for categorical features\n",
    "            scaler: Fitted StandardScaler for numerical features (optional)\n",
    "            text_cols: List of text columns (optional)\n",
    "        \"\"\"\n",
    "        self.models = models\n",
    "        self.numerical_cols = numerical_cols\n",
    "        self.categorical_cols = categorical_cols\n",
    "        self.text_cols = text_cols if text_cols is not None else []\n",
    "        self.encoder = encoder\n",
    "        self.scaler = scaler\n",
    "\n",
    "        print(\"len(numerical_cols):\", len(numerical_cols))\n",
    "        print(\"len(categorical_cols):\", len(categorical_cols))\n",
    "        \n",
    "    def predict(self, df_test):\n",
    "        \"\"\"Make predictions on test data\n",
    "        \n",
    "        Args:\n",
    "            df_test: pandas DataFrame containing test features\n",
    "            \n",
    "        Returns:\n",
    "            numpy array of predictions\n",
    "        \"\"\"\n",
    "        # Preprocess test data\n",
    "        test_processed = process_test_data(\n",
    "            df_test,\n",
    "            self.numerical_cols,\n",
    "            self.categorical_cols,\n",
    "            self.encoder,\n",
    "            self.scaler,\n",
    "            include_position_features=True,\n",
    "            include_text_features=False,\n",
    "        )\n",
    "        \n",
    "        # Create CatBoost Pool for test data\n",
    "        features = self.numerical_cols + self.categorical_cols\n",
    "        pool_params = {\n",
    "            'data': test_processed[features],\n",
    "            'cat_features': self.categorical_cols,\n",
    "        }\n",
    "        \n",
    "        if self.text_cols:\n",
    "            features += self.text_cols\n",
    "            pool_params['data'] = test_processed[features]\n",
    "            pool_params['text_features'] = self.text_cols\n",
    "            \n",
    "        test_pool = cb.Pool(**pool_params)\n",
    "        \n",
    "        # Get predictions from all models\n",
    "        predictions = np.mean([\n",
    "            model.predict(test_pool)\n",
    "            for model in self.models\n",
    "        ], axis=0)\n",
    "        predictions = np.clip(predictions, -1, 1)\n",
    "        \n",
    "        return predictions\n",
    "\n",
    "# model_catboost = ModelInference(text_cols=[\"LudRules\",], **catboost_artifacts)\n",
    "\n",
    "model_catboost = ModelInference(\n",
    "    models=catboost_artifacts[\"models\"][:5],\n",
    "    # models=catboost_artifacts[\"models\"][5:10],\n",
    "    # models=catboost_artifacts[\"models\"][10:],\n",
    "    # models=catboost_artifacts[\"models\"],\n",
    "    numerical_cols=catboost_artifacts[\"numerical_cols\"],\n",
    "    categorical_cols=catboost_artifacts[\"categorical_cols\"],\n",
    "    # text_cols=[\"LudRules\"],\n",
    "    encoder=catboost_artifacts[\"encoder\"],\n",
    "    scaler=catboost_artifacts[\"scaler\"],\n",
    ")"
   ]
  },
  {
   "cell_type": "code",
   "execution_count": 5,
   "id": "776135a6",
   "metadata": {
    "execution": {
     "iopub.execute_input": "2024-11-16T17:21:36.944643Z",
     "iopub.status.busy": "2024-11-16T17:21:36.944001Z",
     "iopub.status.idle": "2024-11-16T17:21:37.184162Z",
     "shell.execute_reply": "2024-11-16T17:21:37.182966Z"
    },
    "papermill": {
     "duration": 0.249112,
     "end_time": "2024-11-16T17:21:37.186961",
     "exception": false,
     "start_time": "2024-11-16T17:21:36.937849",
     "status": "completed"
    },
    "tags": []
   },
   "outputs": [
    {
     "data": {
      "text/plain": [
       "array([ 0.1216964 , -0.12935903, -0.08922361])"
      ]
     },
     "execution_count": 5,
     "metadata": {},
     "output_type": "execute_result"
    }
   ],
   "source": [
    "# sanity check\n",
    "test = pd.read_csv(\"/kaggle/input/um-game-playing-strength-of-mcts-variants/test.csv\")\n",
    "model_catboost.predict(test)"
   ]
  },
  {
   "cell_type": "markdown",
   "id": "6874aef2",
   "metadata": {
    "papermill": {
     "duration": 0.004665,
     "end_time": "2024-11-16T17:21:37.196823",
     "exception": false,
     "start_time": "2024-11-16T17:21:37.192158",
     "status": "completed"
    },
    "tags": []
   },
   "source": [
    "***\n",
    "### inference"
   ]
  },
  {
   "cell_type": "code",
   "execution_count": 6,
   "id": "a15ad607",
   "metadata": {
    "execution": {
     "iopub.execute_input": "2024-11-16T17:21:37.208355Z",
     "iopub.status.busy": "2024-11-16T17:21:37.207944Z",
     "iopub.status.idle": "2024-11-16T17:21:37.655834Z",
     "shell.execute_reply": "2024-11-16T17:21:37.654849Z"
    },
    "papermill": {
     "duration": 0.456915,
     "end_time": "2024-11-16T17:21:37.658608",
     "exception": false,
     "start_time": "2024-11-16T17:21:37.201693",
     "status": "completed"
    },
    "tags": []
   },
   "outputs": [],
   "source": [
    "import os\n",
    "import polars as pl\n",
    "import kaggle_evaluation.mcts_inference_server"
   ]
  },
  {
   "cell_type": "code",
   "execution_count": 7,
   "id": "b8eb568c",
   "metadata": {
    "execution": {
     "iopub.execute_input": "2024-11-16T17:21:37.670745Z",
     "iopub.status.busy": "2024-11-16T17:21:37.670184Z",
     "iopub.status.idle": "2024-11-16T17:21:37.676454Z",
     "shell.execute_reply": "2024-11-16T17:21:37.675294Z"
    },
    "papermill": {
     "duration": 0.014967,
     "end_time": "2024-11-16T17:21:37.678786",
     "exception": false,
     "start_time": "2024-11-16T17:21:37.663819",
     "status": "completed"
    },
    "tags": []
   },
   "outputs": [],
   "source": [
    "def predict(test: pl.DataFrame, sample_sub: pl.DataFrame):\n",
    "    test_pd = test.to_pandas()\n",
    "    predictions = model_catboost.predict(test_pd)\n",
    "    submission = sample_sub.with_columns(pl.Series(\"utility_agent1\", predictions))\n",
    "    return submission"
   ]
  },
  {
   "cell_type": "code",
   "execution_count": 8,
   "id": "3f9ee431",
   "metadata": {
    "execution": {
     "iopub.execute_input": "2024-11-16T17:21:37.691174Z",
     "iopub.status.busy": "2024-11-16T17:21:37.690219Z",
     "iopub.status.idle": "2024-11-16T17:21:38.287435Z",
     "shell.execute_reply": "2024-11-16T17:21:38.286401Z"
    },
    "papermill": {
     "duration": 0.606111,
     "end_time": "2024-11-16T17:21:38.290036",
     "exception": false,
     "start_time": "2024-11-16T17:21:37.683925",
     "status": "completed"
    },
    "tags": []
   },
   "outputs": [],
   "source": [
    "inference_server = kaggle_evaluation.mcts_inference_server.MCTSInferenceServer(predict)\n",
    "\n",
    "if os.getenv('KAGGLE_IS_COMPETITION_RERUN'):\n",
    "    inference_server.serve()\n",
    "else:\n",
    "    inference_server.run_local_gateway(\n",
    "        (\n",
    "            '/kaggle/input/um-game-playing-strength-of-mcts-variants/test.csv',\n",
    "            '/kaggle/input/um-game-playing-strength-of-mcts-variants/sample_submission.csv'\n",
    "        )\n",
    "    )"
   ]
  },
  {
   "cell_type": "markdown",
   "id": "a7257b06",
   "metadata": {
    "papermill": {
     "duration": 0.005561,
     "end_time": "2024-11-16T17:21:38.300557",
     "exception": false,
     "start_time": "2024-11-16T17:21:38.294996",
     "status": "completed"
    },
    "tags": []
   },
   "source": [
    "***"
   ]
  }
 ],
 "metadata": {
  "kaggle": {
   "accelerator": "none",
   "dataSources": [
    {
     "databundleVersionId": 9515283,
     "sourceId": 70089,
     "sourceType": "competition"
    },
    {
     "datasetId": 5909723,
     "sourceId": 9917814,
     "sourceType": "datasetVersion"
    }
   ],
   "dockerImageVersionId": 30786,
   "isGpuEnabled": false,
   "isInternetEnabled": false,
   "language": "python",
   "sourceType": "notebook"
  },
  "kernelspec": {
   "display_name": "Python 3",
   "language": "python",
   "name": "python3"
  },
  "language_info": {
   "codemirror_mode": {
    "name": "ipython",
    "version": 3
   },
   "file_extension": ".py",
   "mimetype": "text/x-python",
   "name": "python",
   "nbconvert_exporter": "python",
   "pygments_lexer": "ipython3",
   "version": "3.10.14"
  },
  "papermill": {
   "default_parameters": {},
   "duration": 13.788346,
   "end_time": "2024-11-16T17:21:39.127047",
   "environment_variables": {},
   "exception": null,
   "input_path": "__notebook__.ipynb",
   "output_path": "__notebook__.ipynb",
   "parameters": {},
   "start_time": "2024-11-16T17:21:25.338701",
   "version": "2.6.0"
  }
 },
 "nbformat": 4,
 "nbformat_minor": 5
}
