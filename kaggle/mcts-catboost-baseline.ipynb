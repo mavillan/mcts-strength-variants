{
 "cells": [
  {
   "cell_type": "code",
   "execution_count": 1,
   "id": "690ee922",
   "metadata": {
    "_cell_guid": "b1076dfc-b9ad-4769-8c92-a6c4dae69d19",
    "_uuid": "8f2839f25d086af736a60e9eeb907d3b93b6e0e5",
    "execution": {
     "iopub.execute_input": "2024-11-15T15:23:41.653281Z",
     "iopub.status.busy": "2024-11-15T15:23:41.652836Z",
     "iopub.status.idle": "2024-11-15T15:23:45.019266Z",
     "shell.execute_reply": "2024-11-15T15:23:45.017943Z"
    },
    "papermill": {
     "duration": 3.376274,
     "end_time": "2024-11-15T15:23:45.022642",
     "exception": false,
     "start_time": "2024-11-15T15:23:41.646368",
     "status": "completed"
    },
    "tags": []
   },
   "outputs": [
    {
     "name": "stdout",
     "output_type": "stream",
     "text": [
      "cb.__version__: 1.2.7\n"
     ]
    }
   ],
   "source": [
    "import numpy as np\n",
    "import pandas as pd\n",
    "import matplotlib.pyplot as plt\n",
    "from pathlib import Path\n",
    "import pickle\n",
    "\n",
    "import catboost as cb\n",
    "print(\"cb.__version__:\", cb.__version__)\n",
    "\n",
    "import sys\n",
    "sys.path.append(\"/kaggle/input/mcts-artifacts\")\n",
    "from preproc import process_test_data\n",
    "\n",
    "from sklearn.model_selection import StratifiedGroupKFold\n",
    "from sklearn.preprocessing import OrdinalEncoder, StandardScaler"
   ]
  },
  {
   "cell_type": "markdown",
   "id": "97e6be17",
   "metadata": {
    "papermill": {
     "duration": 0.004057,
     "end_time": "2024-11-15T15:23:45.031427",
     "exception": false,
     "start_time": "2024-11-15T15:23:45.027370",
     "status": "completed"
    },
    "tags": []
   },
   "source": [
    "***\n",
    "### load artifacts\n"
   ]
  },
  {
   "cell_type": "code",
   "execution_count": 2,
   "id": "8e06f01e",
   "metadata": {
    "execution": {
     "iopub.execute_input": "2024-11-15T15:23:45.042706Z",
     "iopub.status.busy": "2024-11-15T15:23:45.041565Z",
     "iopub.status.idle": "2024-11-15T15:23:52.017133Z",
     "shell.execute_reply": "2024-11-15T15:23:52.015935Z"
    },
    "papermill": {
     "duration": 6.984389,
     "end_time": "2024-11-15T15:23:52.020238",
     "exception": false,
     "start_time": "2024-11-15T15:23:45.035849",
     "status": "completed"
    },
    "tags": []
   },
   "outputs": [],
   "source": [
    "# Specify the path where you want to save the serialized function\n",
    "catboost_artifacts_path = '/kaggle/input/mcts-artifacts/catboost_predict.pkl'\n",
    "\n",
    "# Load the function from the file\n",
    "with open(catboost_artifacts_path, 'rb') as f:\n",
    "    catboost_artifacts = pickle.load(f)"
   ]
  },
  {
   "cell_type": "code",
   "execution_count": 3,
   "id": "5575344d",
   "metadata": {
    "execution": {
     "iopub.execute_input": "2024-11-15T15:23:52.031633Z",
     "iopub.status.busy": "2024-11-15T15:23:52.031163Z",
     "iopub.status.idle": "2024-11-15T15:23:52.047732Z",
     "shell.execute_reply": "2024-11-15T15:23:52.046397Z"
    },
    "papermill": {
     "duration": 0.02539,
     "end_time": "2024-11-15T15:23:52.050272",
     "exception": false,
     "start_time": "2024-11-15T15:23:52.024882",
     "status": "completed"
    },
    "tags": []
   },
   "outputs": [
    {
     "name": "stdout",
     "output_type": "stream",
     "text": [
      "len(numerical_cols): 370\n",
      "len(categorical_cols): 5\n"
     ]
    }
   ],
   "source": [
    "class ModelInference:\n",
    "    def __init__(self, models, numerical_cols, categorical_cols, encoder, scaler, text_cols=None):\n",
    "        \"\"\"Initialize inference class with trained artifacts\n",
    "        \n",
    "        Args:\n",
    "            models: List of trained CatBoost models\n",
    "            numerical_cols: List of numerical column names\n",
    "            categorical_cols: List of categorical column names\n",
    "            encoder: Fitted OrdinalEncoder for categorical features\n",
    "            scaler: Fitted StandardScaler for numerical features (optional)\n",
    "            text_cols: List of text columns (optional)\n",
    "        \"\"\"\n",
    "        self.models = models\n",
    "        self.numerical_cols = numerical_cols\n",
    "        self.categorical_cols = categorical_cols\n",
    "        self.text_cols = text_cols if text_cols is not None else []\n",
    "        self.encoder = encoder\n",
    "        self.scaler = scaler\n",
    "\n",
    "        print(\"len(numerical_cols):\", len(numerical_cols))\n",
    "        print(\"len(categorical_cols):\", len(categorical_cols))\n",
    "        \n",
    "    def predict(self, df_test):\n",
    "        \"\"\"Make predictions on test data\n",
    "        \n",
    "        Args:\n",
    "            df_test: pandas DataFrame containing test features\n",
    "            \n",
    "        Returns:\n",
    "            numpy array of predictions\n",
    "        \"\"\"\n",
    "        # Preprocess test data\n",
    "        test_processed = process_test_data(\n",
    "            df_test,\n",
    "            self.numerical_cols,\n",
    "            self.categorical_cols,\n",
    "            self.encoder,\n",
    "            self.scaler,\n",
    "            include_position_features=True,\n",
    "            include_text_features=True,\n",
    "        )\n",
    "        \n",
    "        # Create CatBoost Pool for test data\n",
    "        features = self.numerical_cols + self.categorical_cols\n",
    "        pool_params = {\n",
    "            'data': test_processed[features],\n",
    "            'cat_features': self.categorical_cols,\n",
    "        }\n",
    "        \n",
    "        if self.text_cols:\n",
    "            features += self.text_cols\n",
    "            pool_params['data'] = test_processed[features]\n",
    "            pool_params['text_features'] = self.text_cols\n",
    "            \n",
    "        test_pool = cb.Pool(**pool_params)\n",
    "        \n",
    "        # Get predictions from all models\n",
    "        predictions = np.mean([\n",
    "            model.predict(test_pool)\n",
    "            for model in self.models\n",
    "        ], axis=0)\n",
    "        predictions = np.clip(predictions, -1, 1)\n",
    "        \n",
    "        return predictions\n",
    "\n",
    "# model_catboost = ModelInference(text_cols=[\"LudRules\",], **catboost_artifacts)\n",
    "\n",
    "model_catboost = ModelInference(\n",
    "    # models=catboost_artifacts[\"models\"][:5],\n",
    "    models=catboost_artifacts[\"models\"][5:10],\n",
    "    # models=catboost_artifacts[\"models\"][10:],\n",
    "    numerical_cols=catboost_artifacts[\"numerical_cols\"],\n",
    "    categorical_cols=catboost_artifacts[\"categorical_cols\"],\n",
    "    text_cols=[\"LudRules\"],\n",
    "    encoder=catboost_artifacts[\"encoder\"],\n",
    "    scaler=catboost_artifacts[\"scaler\"],\n",
    ")"
   ]
  },
  {
   "cell_type": "code",
   "execution_count": 4,
   "id": "a121960b",
   "metadata": {
    "execution": {
     "iopub.execute_input": "2024-11-15T15:23:52.061806Z",
     "iopub.status.busy": "2024-11-15T15:23:52.060754Z",
     "iopub.status.idle": "2024-11-15T15:23:52.331804Z",
     "shell.execute_reply": "2024-11-15T15:23:52.330641Z"
    },
    "papermill": {
     "duration": 0.279666,
     "end_time": "2024-11-15T15:23:52.334443",
     "exception": false,
     "start_time": "2024-11-15T15:23:52.054777",
     "status": "completed"
    },
    "tags": []
   },
   "outputs": [
    {
     "data": {
      "text/plain": [
       "array([ 0.12788921, -0.14952589, -0.03809009])"
      ]
     },
     "execution_count": 4,
     "metadata": {},
     "output_type": "execute_result"
    }
   ],
   "source": [
    "# sanity check\n",
    "test = pd.read_csv(\"/kaggle/input/um-game-playing-strength-of-mcts-variants/test.csv\")\n",
    "model_catboost.predict(test)"
   ]
  },
  {
   "cell_type": "markdown",
   "id": "5cd74c83",
   "metadata": {
    "papermill": {
     "duration": 0.004397,
     "end_time": "2024-11-15T15:23:52.343535",
     "exception": false,
     "start_time": "2024-11-15T15:23:52.339138",
     "status": "completed"
    },
    "tags": []
   },
   "source": [
    "***\n",
    "### inference"
   ]
  },
  {
   "cell_type": "code",
   "execution_count": 5,
   "id": "6014d356",
   "metadata": {
    "execution": {
     "iopub.execute_input": "2024-11-15T15:23:52.355259Z",
     "iopub.status.busy": "2024-11-15T15:23:52.354359Z",
     "iopub.status.idle": "2024-11-15T15:23:52.942809Z",
     "shell.execute_reply": "2024-11-15T15:23:52.941631Z"
    },
    "papermill": {
     "duration": 0.597391,
     "end_time": "2024-11-15T15:23:52.945748",
     "exception": false,
     "start_time": "2024-11-15T15:23:52.348357",
     "status": "completed"
    },
    "tags": []
   },
   "outputs": [],
   "source": [
    "import os\n",
    "import polars as pl\n",
    "import kaggle_evaluation.mcts_inference_server"
   ]
  },
  {
   "cell_type": "code",
   "execution_count": 6,
   "id": "dafb6692",
   "metadata": {
    "execution": {
     "iopub.execute_input": "2024-11-15T15:23:52.957059Z",
     "iopub.status.busy": "2024-11-15T15:23:52.956432Z",
     "iopub.status.idle": "2024-11-15T15:23:52.962673Z",
     "shell.execute_reply": "2024-11-15T15:23:52.961651Z"
    },
    "papermill": {
     "duration": 0.01466,
     "end_time": "2024-11-15T15:23:52.965143",
     "exception": false,
     "start_time": "2024-11-15T15:23:52.950483",
     "status": "completed"
    },
    "tags": []
   },
   "outputs": [],
   "source": [
    "def predict(test: pl.DataFrame, sample_sub: pl.DataFrame):\n",
    "    test_pd = test.to_pandas()\n",
    "    predictions = model_catboost.predict(test_pd)\n",
    "    submission = sample_sub.with_columns(pl.Series(\"utility_agent1\", predictions))\n",
    "    return submission"
   ]
  },
  {
   "cell_type": "code",
   "execution_count": 7,
   "id": "9852e43f",
   "metadata": {
    "execution": {
     "iopub.execute_input": "2024-11-15T15:23:52.976395Z",
     "iopub.status.busy": "2024-11-15T15:23:52.975989Z",
     "iopub.status.idle": "2024-11-15T15:23:53.792161Z",
     "shell.execute_reply": "2024-11-15T15:23:53.790999Z"
    },
    "papermill": {
     "duration": 0.825269,
     "end_time": "2024-11-15T15:23:53.795107",
     "exception": false,
     "start_time": "2024-11-15T15:23:52.969838",
     "status": "completed"
    },
    "tags": []
   },
   "outputs": [],
   "source": [
    "inference_server = kaggle_evaluation.mcts_inference_server.MCTSInferenceServer(predict)\n",
    "\n",
    "if os.getenv('KAGGLE_IS_COMPETITION_RERUN'):\n",
    "    inference_server.serve()\n",
    "else:\n",
    "    inference_server.run_local_gateway(\n",
    "        (\n",
    "            '/kaggle/input/um-game-playing-strength-of-mcts-variants/test.csv',\n",
    "            '/kaggle/input/um-game-playing-strength-of-mcts-variants/sample_submission.csv'\n",
    "        )\n",
    "    )"
   ]
  },
  {
   "cell_type": "markdown",
   "id": "00172371",
   "metadata": {
    "papermill": {
     "duration": 0.004402,
     "end_time": "2024-11-15T15:23:53.804392",
     "exception": false,
     "start_time": "2024-11-15T15:23:53.799990",
     "status": "completed"
    },
    "tags": []
   },
   "source": [
    "***"
   ]
  }
 ],
 "metadata": {
  "kaggle": {
   "accelerator": "none",
   "dataSources": [
    {
     "databundleVersionId": 9515283,
     "sourceId": 70089,
     "sourceType": "competition"
    },
    {
     "databundleVersionId": 10175295,
     "datasetId": 5909723,
     "sourceId": 9916850,
     "sourceType": "datasetVersion"
    }
   ],
   "dockerImageVersionId": 30786,
   "isGpuEnabled": false,
   "isInternetEnabled": false,
   "language": "python",
   "sourceType": "notebook"
  },
  "kernelspec": {
   "display_name": "Python 3",
   "language": "python",
   "name": "python3"
  },
  "language_info": {
   "codemirror_mode": {
    "name": "ipython",
    "version": 3
   },
   "file_extension": ".py",
   "mimetype": "text/x-python",
   "name": "python",
   "nbconvert_exporter": "python",
   "pygments_lexer": "ipython3",
   "version": "3.10.14"
  },
  "papermill": {
   "default_parameters": {},
   "duration": 16.146916,
   "end_time": "2024-11-15T15:23:54.631915",
   "environment_variables": {},
   "exception": null,
   "input_path": "__notebook__.ipynb",
   "output_path": "__notebook__.ipynb",
   "parameters": {},
   "start_time": "2024-11-15T15:23:38.484999",
   "version": "2.6.0"
  }
 },
 "nbformat": 4,
 "nbformat_minor": 5
}
