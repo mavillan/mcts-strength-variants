{
 "cells": [
  {
   "cell_type": "code",
   "execution_count": 1,
   "id": "a659a73f",
   "metadata": {
    "_cell_guid": "b1076dfc-b9ad-4769-8c92-a6c4dae69d19",
    "_uuid": "8f2839f25d086af736a60e9eeb907d3b93b6e0e5",
    "execution": {
     "iopub.execute_input": "2024-11-08T06:49:41.076053Z",
     "iopub.status.busy": "2024-11-08T06:49:41.074805Z",
     "iopub.status.idle": "2024-11-08T06:49:43.626543Z",
     "shell.execute_reply": "2024-11-08T06:49:43.625311Z"
    },
    "papermill": {
     "duration": 2.560583,
     "end_time": "2024-11-08T06:49:43.629463",
     "exception": false,
     "start_time": "2024-11-08T06:49:41.068880",
     "status": "completed"
    },
    "tags": []
   },
   "outputs": [
    {
     "name": "stdout",
     "output_type": "stream",
     "text": [
      "cb.__version__: 1.2.7\n"
     ]
    }
   ],
   "source": [
    "import numpy as np\n",
    "import pandas as pd\n",
    "import matplotlib.pyplot as plt\n",
    "from pathlib import Path\n",
    "import pickle\n",
    "\n",
    "import catboost as cb\n",
    "print(\"cb.__version__:\", cb.__version__)\n",
    "\n",
    "import sys\n",
    "sys.path.append(\"/kaggle/input/mcts-artifacts\")\n",
    "from preproc import process_test_data\n",
    "\n",
    "from sklearn.model_selection import GroupKFold\n",
    "from sklearn.preprocessing import OrdinalEncoder, StandardScaler"
   ]
  },
  {
   "cell_type": "markdown",
   "id": "f41911d3",
   "metadata": {
    "papermill": {
     "duration": 0.002959,
     "end_time": "2024-11-08T06:49:43.636070",
     "exception": false,
     "start_time": "2024-11-08T06:49:43.633111",
     "status": "completed"
    },
    "tags": []
   },
   "source": [
    "***\n",
    "### load artifacts\n"
   ]
  },
  {
   "cell_type": "code",
   "execution_count": 2,
   "id": "711eae6a",
   "metadata": {
    "execution": {
     "iopub.execute_input": "2024-11-08T06:49:43.644693Z",
     "iopub.status.busy": "2024-11-08T06:49:43.643737Z",
     "iopub.status.idle": "2024-11-08T06:49:47.224873Z",
     "shell.execute_reply": "2024-11-08T06:49:47.223472Z"
    },
    "papermill": {
     "duration": 3.588268,
     "end_time": "2024-11-08T06:49:47.227494",
     "exception": false,
     "start_time": "2024-11-08T06:49:43.639226",
     "status": "completed"
    },
    "tags": []
   },
   "outputs": [
    {
     "name": "stderr",
     "output_type": "stream",
     "text": [
      "/opt/conda/lib/python3.10/site-packages/sklearn/base.py:318: UserWarning: Trying to unpickle estimator OrdinalEncoder from version 1.5.2 when using version 1.2.2. This might lead to breaking code or invalid results. Use at your own risk. For more info please refer to:\n",
      "https://scikit-learn.org/stable/model_persistence.html#security-maintainability-limitations\n",
      "  warnings.warn(\n"
     ]
    }
   ],
   "source": [
    "# Specify the path where you want to save the serialized function\n",
    "catboost_artifacts_path = '/kaggle/input/mcts-artifacts/catboost_predict.pkl'\n",
    "\n",
    "# Load the function from the file\n",
    "with open(catboost_artifacts_path, 'rb') as f:\n",
    "    catboost_artifacts = pickle.load(f)"
   ]
  },
  {
   "cell_type": "code",
   "execution_count": 3,
   "id": "6f5082de",
   "metadata": {
    "execution": {
     "iopub.execute_input": "2024-11-08T06:49:47.236064Z",
     "iopub.status.busy": "2024-11-08T06:49:47.235635Z",
     "iopub.status.idle": "2024-11-08T06:49:47.246972Z",
     "shell.execute_reply": "2024-11-08T06:49:47.245713Z"
    },
    "papermill": {
     "duration": 0.018379,
     "end_time": "2024-11-08T06:49:47.249302",
     "exception": false,
     "start_time": "2024-11-08T06:49:47.230923",
     "status": "completed"
    },
    "tags": []
   },
   "outputs": [
    {
     "name": "stdout",
     "output_type": "stream",
     "text": [
      "len(numerical_cols): 296\n",
      "len(categorical_cols):s 5\n"
     ]
    }
   ],
   "source": [
    "class ModelInference:\n",
    "    def __init__(self, models, numerical_cols, categorical_cols, encoder, scaler):\n",
    "        \"\"\"Initialize inference class with trained artifacts\n",
    "        \n",
    "        Args:\n",
    "            models: List of trained CatBoost models\n",
    "            numerical_cols: List of numerical column names\n",
    "            categorical_cols: List of categorical column names\n",
    "            encoder: Fitted OrdinalEncoder for categorical features\n",
    "            scaler: Fitted StandardScaler for numerical features (optional)\n",
    "        \"\"\"\n",
    "        self.models = models\n",
    "        self.numerical_cols = numerical_cols\n",
    "        self.categorical_cols = categorical_cols\n",
    "        self.encoder = encoder\n",
    "        self.scaler = scaler\n",
    "\n",
    "        print(\"len(numerical_cols):\", len(numerical_cols))\n",
    "        print(\"len(categorical_cols):s\", len(categorical_cols))\n",
    "        \n",
    "    def predict(self, df_test):\n",
    "        \"\"\"Make predictions on test data\n",
    "        \n",
    "        Args:\n",
    "            df_test: pandas DataFrame containing test features\n",
    "            \n",
    "        Returns:\n",
    "            numpy array of predictions\n",
    "        \"\"\"\n",
    "        # Preprocess test data\n",
    "        test_processed = process_test_data(\n",
    "            df_test,\n",
    "            self.numerical_cols,\n",
    "            self.categorical_cols,\n",
    "            self.encoder,\n",
    "            self.scaler\n",
    "        )\n",
    "        \n",
    "        # Create Pool dataset for CatBoost\n",
    "        test_pool = cb.Pool(\n",
    "            data=test_processed[self.numerical_cols + self.categorical_cols],\n",
    "            cat_features=self.categorical_cols,\n",
    "        )\n",
    "        \n",
    "        # Get predictions from all models\n",
    "        predictions = np.mean([\n",
    "            model.predict(test_pool)\n",
    "            for model in self.models\n",
    "        ], axis=0)\n",
    "        predictions = np.clip(predictions, -1, 1)\n",
    "        \n",
    "        return predictions\n",
    "\n",
    "model_catboost = ModelInference(**catboost_artifacts)"
   ]
  },
  {
   "cell_type": "code",
   "execution_count": 4,
   "id": "27bb641a",
   "metadata": {
    "execution": {
     "iopub.execute_input": "2024-11-08T06:49:47.257893Z",
     "iopub.status.busy": "2024-11-08T06:49:47.257471Z",
     "iopub.status.idle": "2024-11-08T06:49:47.452646Z",
     "shell.execute_reply": "2024-11-08T06:49:47.451496Z"
    },
    "papermill": {
     "duration": 0.202262,
     "end_time": "2024-11-08T06:49:47.455113",
     "exception": false,
     "start_time": "2024-11-08T06:49:47.252851",
     "status": "completed"
    },
    "tags": []
   },
   "outputs": [
    {
     "data": {
      "text/plain": [
       "array([ 0.06714281, -0.09123627, -0.05108708])"
      ]
     },
     "execution_count": 4,
     "metadata": {},
     "output_type": "execute_result"
    }
   ],
   "source": [
    "# sanity check\n",
    "test = pd.read_csv(\"/kaggle/input/um-game-playing-strength-of-mcts-variants/test.csv\")\n",
    "model_catboost.predict(test)"
   ]
  },
  {
   "cell_type": "markdown",
   "id": "60259123",
   "metadata": {
    "papermill": {
     "duration": 0.00331,
     "end_time": "2024-11-08T06:49:47.462158",
     "exception": false,
     "start_time": "2024-11-08T06:49:47.458848",
     "status": "completed"
    },
    "tags": []
   },
   "source": [
    "***\n",
    "### inference"
   ]
  },
  {
   "cell_type": "code",
   "execution_count": 5,
   "id": "5ec54471",
   "metadata": {
    "execution": {
     "iopub.execute_input": "2024-11-08T06:49:47.470989Z",
     "iopub.status.busy": "2024-11-08T06:49:47.470463Z",
     "iopub.status.idle": "2024-11-08T06:49:47.961842Z",
     "shell.execute_reply": "2024-11-08T06:49:47.960005Z"
    },
    "papermill": {
     "duration": 0.498846,
     "end_time": "2024-11-08T06:49:47.964571",
     "exception": false,
     "start_time": "2024-11-08T06:49:47.465725",
     "status": "completed"
    },
    "tags": []
   },
   "outputs": [],
   "source": [
    "import os\n",
    "import polars as pl\n",
    "import kaggle_evaluation.mcts_inference_server"
   ]
  },
  {
   "cell_type": "code",
   "execution_count": 6,
   "id": "9b6f1ba2",
   "metadata": {
    "execution": {
     "iopub.execute_input": "2024-11-08T06:49:47.974169Z",
     "iopub.status.busy": "2024-11-08T06:49:47.973567Z",
     "iopub.status.idle": "2024-11-08T06:49:47.980231Z",
     "shell.execute_reply": "2024-11-08T06:49:47.978820Z"
    },
    "papermill": {
     "duration": 0.014228,
     "end_time": "2024-11-08T06:49:47.982872",
     "exception": false,
     "start_time": "2024-11-08T06:49:47.968644",
     "status": "completed"
    },
    "tags": []
   },
   "outputs": [],
   "source": [
    "def predict(test: pl.DataFrame, sample_sub: pl.DataFrame):\n",
    "    test_pd = test.to_pandas()\n",
    "    predictions = model_catboost.predict(test_pd)\n",
    "    submission = sample_sub.with_columns(pl.Series(\"utility_agent1\", predictions))\n",
    "    return submission"
   ]
  },
  {
   "cell_type": "code",
   "execution_count": 7,
   "id": "39e949f8",
   "metadata": {
    "execution": {
     "iopub.execute_input": "2024-11-08T06:49:47.992049Z",
     "iopub.status.busy": "2024-11-08T06:49:47.991650Z",
     "iopub.status.idle": "2024-11-08T06:49:48.569434Z",
     "shell.execute_reply": "2024-11-08T06:49:48.568254Z"
    },
    "papermill": {
     "duration": 0.585674,
     "end_time": "2024-11-08T06:49:48.572428",
     "exception": false,
     "start_time": "2024-11-08T06:49:47.986754",
     "status": "completed"
    },
    "tags": []
   },
   "outputs": [],
   "source": [
    "inference_server = kaggle_evaluation.mcts_inference_server.MCTSInferenceServer(predict)\n",
    "\n",
    "if os.getenv('KAGGLE_IS_COMPETITION_RERUN'):\n",
    "    inference_server.serve()\n",
    "else:\n",
    "    inference_server.run_local_gateway(\n",
    "        (\n",
    "            '/kaggle/input/um-game-playing-strength-of-mcts-variants/test.csv',\n",
    "            '/kaggle/input/um-game-playing-strength-of-mcts-variants/sample_submission.csv'\n",
    "        )\n",
    "    )"
   ]
  },
  {
   "cell_type": "markdown",
   "id": "3a47ad66",
   "metadata": {
    "papermill": {
     "duration": 0.003467,
     "end_time": "2024-11-08T06:49:48.579789",
     "exception": false,
     "start_time": "2024-11-08T06:49:48.576322",
     "status": "completed"
    },
    "tags": []
   },
   "source": [
    "***"
   ]
  }
 ],
 "metadata": {
  "kaggle": {
   "accelerator": "none",
   "dataSources": [
    {
     "databundleVersionId": 9515283,
     "sourceId": 70089,
     "sourceType": "competition"
    },
    {
     "datasetId": 5909723,
     "sourceId": 9840918,
     "sourceType": "datasetVersion"
    }
   ],
   "dockerImageVersionId": 30786,
   "isGpuEnabled": false,
   "isInternetEnabled": false,
   "language": "python",
   "sourceType": "notebook"
  },
  "kernelspec": {
   "display_name": "Python 3",
   "language": "python",
   "name": "python3"
  },
  "language_info": {
   "codemirror_mode": {
    "name": "ipython",
    "version": 3
   },
   "file_extension": ".py",
   "mimetype": "text/x-python",
   "name": "python",
   "nbconvert_exporter": "python",
   "pygments_lexer": "ipython3",
   "version": "3.10.14"
  },
  "papermill": {
   "default_parameters": {},
   "duration": 11.041831,
   "end_time": "2024-11-08T06:49:49.306974",
   "environment_variables": {},
   "exception": null,
   "input_path": "__notebook__.ipynb",
   "output_path": "__notebook__.ipynb",
   "parameters": {},
   "start_time": "2024-11-08T06:49:38.265143",
   "version": "2.6.0"
  }
 },
 "nbformat": 4,
 "nbformat_minor": 5
}
