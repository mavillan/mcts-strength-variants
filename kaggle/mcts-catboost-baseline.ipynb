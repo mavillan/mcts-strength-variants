{
 "cells": [
  {
   "cell_type": "code",
   "execution_count": 1,
   "id": "e0790fa8",
   "metadata": {
    "_cell_guid": "b1076dfc-b9ad-4769-8c92-a6c4dae69d19",
    "_uuid": "8f2839f25d086af736a60e9eeb907d3b93b6e0e5",
    "execution": {
     "iopub.execute_input": "2024-11-02T03:59:26.104751Z",
     "iopub.status.busy": "2024-11-02T03:59:26.103633Z",
     "iopub.status.idle": "2024-11-02T03:59:28.932412Z",
     "shell.execute_reply": "2024-11-02T03:59:28.931011Z"
    },
    "papermill": {
     "duration": 2.838904,
     "end_time": "2024-11-02T03:59:28.935400",
     "exception": false,
     "start_time": "2024-11-02T03:59:26.096496",
     "status": "completed"
    },
    "tags": []
   },
   "outputs": [
    {
     "name": "stdout",
     "output_type": "stream",
     "text": [
      "cb.__version__: 1.2.7\n"
     ]
    }
   ],
   "source": [
    "import numpy as np\n",
    "import pandas as pd\n",
    "import matplotlib.pyplot as plt\n",
    "from pathlib import Path\n",
    "import pickle\n",
    "\n",
    "import catboost as cb\n",
    "print(\"cb.__version__:\", cb.__version__)\n",
    "\n",
    "import sys\n",
    "sys.path.append(\"/kaggle/input/mcts-artifacts\")\n",
    "from preproc import process_test_data\n",
    "\n",
    "from sklearn.model_selection import GroupKFold\n",
    "from sklearn.preprocessing import OrdinalEncoder, StandardScaler"
   ]
  },
  {
   "cell_type": "markdown",
   "id": "aca4a535",
   "metadata": {
    "papermill": {
     "duration": 0.004113,
     "end_time": "2024-11-02T03:59:28.944313",
     "exception": false,
     "start_time": "2024-11-02T03:59:28.940200",
     "status": "completed"
    },
    "tags": []
   },
   "source": [
    "***\n",
    "### load artifacts\n"
   ]
  },
  {
   "cell_type": "code",
   "execution_count": 2,
   "id": "537aeec9",
   "metadata": {
    "execution": {
     "iopub.execute_input": "2024-11-02T03:59:28.955290Z",
     "iopub.status.busy": "2024-11-02T03:59:28.954680Z",
     "iopub.status.idle": "2024-11-02T03:59:33.648017Z",
     "shell.execute_reply": "2024-11-02T03:59:33.646755Z"
    },
    "papermill": {
     "duration": 4.701908,
     "end_time": "2024-11-02T03:59:33.650800",
     "exception": false,
     "start_time": "2024-11-02T03:59:28.948892",
     "status": "completed"
    },
    "tags": []
   },
   "outputs": [
    {
     "name": "stderr",
     "output_type": "stream",
     "text": [
      "/opt/conda/lib/python3.10/site-packages/sklearn/base.py:318: UserWarning: Trying to unpickle estimator OrdinalEncoder from version 1.5.2 when using version 1.2.2. This might lead to breaking code or invalid results. Use at your own risk. For more info please refer to:\n",
      "https://scikit-learn.org/stable/model_persistence.html#security-maintainability-limitations\n",
      "  warnings.warn(\n"
     ]
    }
   ],
   "source": [
    "# Specify the path where you want to save the serialized function\n",
    "catboost_artifacts_path = '/kaggle/input/mcts-artifacts/catboost_predict.pkl'\n",
    "\n",
    "# Load the function from the file\n",
    "with open(catboost_artifacts_path, 'rb') as f:\n",
    "    catboost_artifacts = pickle.load(f)"
   ]
  },
  {
   "cell_type": "code",
   "execution_count": 3,
   "id": "c4040551",
   "metadata": {
    "execution": {
     "iopub.execute_input": "2024-11-02T03:59:33.662049Z",
     "iopub.status.busy": "2024-11-02T03:59:33.661609Z",
     "iopub.status.idle": "2024-11-02T03:59:33.673281Z",
     "shell.execute_reply": "2024-11-02T03:59:33.671898Z"
    },
    "papermill": {
     "duration": 0.020657,
     "end_time": "2024-11-02T03:59:33.675942",
     "exception": false,
     "start_time": "2024-11-02T03:59:33.655285",
     "status": "completed"
    },
    "tags": []
   },
   "outputs": [],
   "source": [
    "class ModelInference:\n",
    "    def __init__(self, models, numerical_cols, categorical_cols, encoder, scaler):\n",
    "        \"\"\"Initialize inference class with trained artifacts\n",
    "        \n",
    "        Args:\n",
    "            models: List of trained CatBoost models\n",
    "            numerical_cols: List of numerical column names\n",
    "            categorical_cols: List of categorical column names\n",
    "            encoder: Fitted OrdinalEncoder for categorical features\n",
    "            scaler: Fitted StandardScaler for numerical features (optional)\n",
    "        \"\"\"\n",
    "        self.models = models\n",
    "        self.numerical_cols = numerical_cols\n",
    "        self.categorical_cols = categorical_cols\n",
    "        self.encoder = encoder\n",
    "        self.scaler = scaler\n",
    "        \n",
    "    def predict(self, df_test):\n",
    "        \"\"\"Make predictions on test data\n",
    "        \n",
    "        Args:\n",
    "            df_test: pandas DataFrame containing test features\n",
    "            \n",
    "        Returns:\n",
    "            numpy array of predictions\n",
    "        \"\"\"\n",
    "        # Preprocess test data\n",
    "        test_processed = process_test_data(\n",
    "            df_test,\n",
    "            self.numerical_cols,\n",
    "            self.categorical_cols,\n",
    "            self.encoder,\n",
    "            self.scaler\n",
    "        )\n",
    "        \n",
    "        # Create Pool dataset for CatBoost\n",
    "        test_pool = cb.Pool(\n",
    "            data=test_processed[self.numerical_cols + self.categorical_cols],\n",
    "            cat_features=self.categorical_cols,\n",
    "        )\n",
    "        \n",
    "        # Get predictions from all models\n",
    "        predictions = np.mean([\n",
    "            model.predict(test_pool)\n",
    "            for model in self.models\n",
    "        ], axis=0)\n",
    "        predictions = np.clip(predictions, -1, 1)\n",
    "        \n",
    "        return predictions\n",
    "\n",
    "model_catboost = ModelInference(**catboost_artifacts)"
   ]
  },
  {
   "cell_type": "code",
   "execution_count": 4,
   "id": "52855a11",
   "metadata": {
    "execution": {
     "iopub.execute_input": "2024-11-02T03:59:33.687515Z",
     "iopub.status.busy": "2024-11-02T03:59:33.686417Z",
     "iopub.status.idle": "2024-11-02T03:59:33.908215Z",
     "shell.execute_reply": "2024-11-02T03:59:33.906861Z"
    },
    "papermill": {
     "duration": 0.230307,
     "end_time": "2024-11-02T03:59:33.910981",
     "exception": false,
     "start_time": "2024-11-02T03:59:33.680674",
     "status": "completed"
    },
    "tags": []
   },
   "outputs": [
    {
     "data": {
      "text/plain": [
       "array([ 0.10122575, -0.14665217, -0.07864813])"
      ]
     },
     "execution_count": 4,
     "metadata": {},
     "output_type": "execute_result"
    }
   ],
   "source": [
    "# sanity check\n",
    "test = pd.read_csv(\"/kaggle/input/um-game-playing-strength-of-mcts-variants/test.csv\")\n",
    "model_catboost.predict(test)"
   ]
  },
  {
   "cell_type": "markdown",
   "id": "5b9c2e62",
   "metadata": {
    "papermill": {
     "duration": 0.004377,
     "end_time": "2024-11-02T03:59:33.920130",
     "exception": false,
     "start_time": "2024-11-02T03:59:33.915753",
     "status": "completed"
    },
    "tags": []
   },
   "source": [
    "***\n",
    "### inference"
   ]
  },
  {
   "cell_type": "code",
   "execution_count": 5,
   "id": "2abf6695",
   "metadata": {
    "execution": {
     "iopub.execute_input": "2024-11-02T03:59:33.931194Z",
     "iopub.status.busy": "2024-11-02T03:59:33.930747Z",
     "iopub.status.idle": "2024-11-02T03:59:34.474383Z",
     "shell.execute_reply": "2024-11-02T03:59:34.473151Z"
    },
    "papermill": {
     "duration": 0.55261,
     "end_time": "2024-11-02T03:59:34.477288",
     "exception": false,
     "start_time": "2024-11-02T03:59:33.924678",
     "status": "completed"
    },
    "tags": []
   },
   "outputs": [],
   "source": [
    "import os\n",
    "import polars as pl\n",
    "import kaggle_evaluation.mcts_inference_server"
   ]
  },
  {
   "cell_type": "code",
   "execution_count": 6,
   "id": "0efa7c73",
   "metadata": {
    "execution": {
     "iopub.execute_input": "2024-11-02T03:59:34.489156Z",
     "iopub.status.busy": "2024-11-02T03:59:34.488552Z",
     "iopub.status.idle": "2024-11-02T03:59:34.495330Z",
     "shell.execute_reply": "2024-11-02T03:59:34.494133Z"
    },
    "papermill": {
     "duration": 0.015456,
     "end_time": "2024-11-02T03:59:34.497966",
     "exception": false,
     "start_time": "2024-11-02T03:59:34.482510",
     "status": "completed"
    },
    "tags": []
   },
   "outputs": [],
   "source": [
    "def predict(test: pl.DataFrame, sample_sub: pl.DataFrame):\n",
    "    test_pd = test.to_pandas()\n",
    "    predictions = model_catboost.predict(test_pd)\n",
    "    submission = sample_sub.with_columns(pl.Series(\"utility_agent1\", predictions))\n",
    "    return submission"
   ]
  },
  {
   "cell_type": "code",
   "execution_count": 7,
   "id": "1559796f",
   "metadata": {
    "execution": {
     "iopub.execute_input": "2024-11-02T03:59:34.510697Z",
     "iopub.status.busy": "2024-11-02T03:59:34.510181Z",
     "iopub.status.idle": "2024-11-02T03:59:35.137199Z",
     "shell.execute_reply": "2024-11-02T03:59:35.135979Z"
    },
    "papermill": {
     "duration": 0.637172,
     "end_time": "2024-11-02T03:59:35.140108",
     "exception": false,
     "start_time": "2024-11-02T03:59:34.502936",
     "status": "completed"
    },
    "tags": []
   },
   "outputs": [],
   "source": [
    "inference_server = kaggle_evaluation.mcts_inference_server.MCTSInferenceServer(predict)\n",
    "\n",
    "if os.getenv('KAGGLE_IS_COMPETITION_RERUN'):\n",
    "    inference_server.serve()\n",
    "else:\n",
    "    inference_server.run_local_gateway(\n",
    "        (\n",
    "            '/kaggle/input/um-game-playing-strength-of-mcts-variants/test.csv',\n",
    "            '/kaggle/input/um-game-playing-strength-of-mcts-variants/sample_submission.csv'\n",
    "        )\n",
    "    )"
   ]
  },
  {
   "cell_type": "markdown",
   "id": "f08c7596",
   "metadata": {
    "papermill": {
     "duration": 0.004443,
     "end_time": "2024-11-02T03:59:35.149319",
     "exception": false,
     "start_time": "2024-11-02T03:59:35.144876",
     "status": "completed"
    },
    "tags": []
   },
   "source": [
    "***"
   ]
  }
 ],
 "metadata": {
  "kaggle": {
   "accelerator": "none",
   "dataSources": [
    {
     "databundleVersionId": 9515283,
     "sourceId": 70089,
     "sourceType": "competition"
    },
    {
     "datasetId": 5909723,
     "sourceId": 9784617,
     "sourceType": "datasetVersion"
    }
   ],
   "dockerImageVersionId": 30786,
   "isGpuEnabled": false,
   "isInternetEnabled": false,
   "language": "python",
   "sourceType": "notebook"
  },
  "kernelspec": {
   "display_name": "Python 3",
   "language": "python",
   "name": "python3"
  },
  "language_info": {
   "codemirror_mode": {
    "name": "ipython",
    "version": 3
   },
   "file_extension": ".py",
   "mimetype": "text/x-python",
   "name": "python",
   "nbconvert_exporter": "python",
   "pygments_lexer": "ipython3",
   "version": "3.10.14"
  },
  "papermill": {
   "default_parameters": {},
   "duration": 12.935858,
   "end_time": "2024-11-02T03:59:35.976340",
   "environment_variables": {},
   "exception": null,
   "input_path": "__notebook__.ipynb",
   "output_path": "__notebook__.ipynb",
   "parameters": {},
   "start_time": "2024-11-02T03:59:23.040482",
   "version": "2.6.0"
  }
 },
 "nbformat": 4,
 "nbformat_minor": 5
}
