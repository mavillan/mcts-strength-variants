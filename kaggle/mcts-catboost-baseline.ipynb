{
 "cells": [
  {
   "cell_type": "code",
   "execution_count": 1,
   "id": "f85dc343",
   "metadata": {
    "_cell_guid": "b1076dfc-b9ad-4769-8c92-a6c4dae69d19",
    "_uuid": "8f2839f25d086af736a60e9eeb907d3b93b6e0e5",
    "execution": {
     "iopub.execute_input": "2024-11-15T15:23:40.960431Z",
     "iopub.status.busy": "2024-11-15T15:23:40.960001Z",
     "iopub.status.idle": "2024-11-15T15:23:43.977769Z",
     "shell.execute_reply": "2024-11-15T15:23:43.976547Z"
    },
    "papermill": {
     "duration": 3.027692,
     "end_time": "2024-11-15T15:23:43.980833",
     "exception": false,
     "start_time": "2024-11-15T15:23:40.953141",
     "status": "completed"
    },
    "tags": []
   },
   "outputs": [
    {
     "name": "stdout",
     "output_type": "stream",
     "text": [
      "cb.__version__: 1.2.7\n"
     ]
    }
   ],
   "source": [
    "import numpy as np\n",
    "import pandas as pd\n",
    "import matplotlib.pyplot as plt\n",
    "from pathlib import Path\n",
    "import pickle\n",
    "\n",
    "import catboost as cb\n",
    "print(\"cb.__version__:\", cb.__version__)\n",
    "\n",
    "import sys\n",
    "sys.path.append(\"/kaggle/input/mcts-artifacts\")\n",
    "from preproc import process_test_data\n",
    "\n",
    "from sklearn.model_selection import StratifiedGroupKFold\n",
    "from sklearn.preprocessing import OrdinalEncoder, StandardScaler"
   ]
  },
  {
   "cell_type": "markdown",
   "id": "9a50d47b",
   "metadata": {
    "papermill": {
     "duration": 0.004111,
     "end_time": "2024-11-15T15:23:43.989664",
     "exception": false,
     "start_time": "2024-11-15T15:23:43.985553",
     "status": "completed"
    },
    "tags": []
   },
   "source": [
    "***\n",
    "### load artifacts\n"
   ]
  },
  {
   "cell_type": "code",
   "execution_count": 2,
   "id": "45a2d54e",
   "metadata": {
    "execution": {
     "iopub.execute_input": "2024-11-15T15:23:44.000778Z",
     "iopub.status.busy": "2024-11-15T15:23:44.000178Z",
     "iopub.status.idle": "2024-11-15T15:23:51.050353Z",
     "shell.execute_reply": "2024-11-15T15:23:51.049312Z"
    },
    "papermill": {
     "duration": 7.0592,
     "end_time": "2024-11-15T15:23:51.053295",
     "exception": false,
     "start_time": "2024-11-15T15:23:43.994095",
     "status": "completed"
    },
    "tags": []
   },
   "outputs": [],
   "source": [
    "# Specify the path where you want to save the serialized function\n",
    "catboost_artifacts_path = '/kaggle/input/mcts-artifacts/catboost_predict.pkl'\n",
    "\n",
    "# Load the function from the file\n",
    "with open(catboost_artifacts_path, 'rb') as f:\n",
    "    catboost_artifacts = pickle.load(f)"
   ]
  },
  {
   "cell_type": "code",
   "execution_count": 3,
   "id": "f1549ab6",
   "metadata": {
    "execution": {
     "iopub.execute_input": "2024-11-15T15:23:51.064659Z",
     "iopub.status.busy": "2024-11-15T15:23:51.063943Z",
     "iopub.status.idle": "2024-11-15T15:23:51.078448Z",
     "shell.execute_reply": "2024-11-15T15:23:51.077371Z"
    },
    "papermill": {
     "duration": 0.022785,
     "end_time": "2024-11-15T15:23:51.080826",
     "exception": false,
     "start_time": "2024-11-15T15:23:51.058041",
     "status": "completed"
    },
    "tags": []
   },
   "outputs": [
    {
     "name": "stdout",
     "output_type": "stream",
     "text": [
      "len(numerical_cols): 370\n",
      "len(categorical_cols): 5\n"
     ]
    }
   ],
   "source": [
    "class ModelInference:\n",
    "    def __init__(self, models, numerical_cols, categorical_cols, encoder, scaler, text_cols=None):\n",
    "        \"\"\"Initialize inference class with trained artifacts\n",
    "        \n",
    "        Args:\n",
    "            models: List of trained CatBoost models\n",
    "            numerical_cols: List of numerical column names\n",
    "            categorical_cols: List of categorical column names\n",
    "            encoder: Fitted OrdinalEncoder for categorical features\n",
    "            scaler: Fitted StandardScaler for numerical features (optional)\n",
    "            text_cols: List of text columns (optional)\n",
    "        \"\"\"\n",
    "        self.models = models\n",
    "        self.numerical_cols = numerical_cols\n",
    "        self.categorical_cols = categorical_cols\n",
    "        self.text_cols = text_cols if text_cols is not None else []\n",
    "        self.encoder = encoder\n",
    "        self.scaler = scaler\n",
    "\n",
    "        print(\"len(numerical_cols):\", len(numerical_cols))\n",
    "        print(\"len(categorical_cols):\", len(categorical_cols))\n",
    "        \n",
    "    def predict(self, df_test):\n",
    "        \"\"\"Make predictions on test data\n",
    "        \n",
    "        Args:\n",
    "            df_test: pandas DataFrame containing test features\n",
    "            \n",
    "        Returns:\n",
    "            numpy array of predictions\n",
    "        \"\"\"\n",
    "        # Preprocess test data\n",
    "        test_processed = process_test_data(\n",
    "            df_test,\n",
    "            self.numerical_cols,\n",
    "            self.categorical_cols,\n",
    "            self.encoder,\n",
    "            self.scaler,\n",
    "            include_position_features=True,\n",
    "            include_text_features=True,\n",
    "        )\n",
    "        \n",
    "        # Create CatBoost Pool for test data\n",
    "        features = self.numerical_cols + self.categorical_cols\n",
    "        pool_params = {\n",
    "            'data': test_processed[features],\n",
    "            'cat_features': self.categorical_cols,\n",
    "        }\n",
    "        \n",
    "        if self.text_cols:\n",
    "            features += self.text_cols\n",
    "            pool_params['data'] = test_processed[features]\n",
    "            pool_params['text_features'] = self.text_cols\n",
    "            \n",
    "        test_pool = cb.Pool(**pool_params)\n",
    "        \n",
    "        # Get predictions from all models\n",
    "        predictions = np.mean([\n",
    "            model.predict(test_pool)\n",
    "            for model in self.models\n",
    "        ], axis=0)\n",
    "        predictions = np.clip(predictions, -1, 1)\n",
    "        \n",
    "        return predictions\n",
    "\n",
    "# model_catboost = ModelInference(text_cols=[\"LudRules\",], **catboost_artifacts)\n",
    "\n",
    "model_catboost = ModelInference(\n",
    "    # models=catboost_artifacts[\"models\"][:5],\n",
    "    # models=catboost_artifacts[\"models\"][5:10],\n",
    "    # models=catboost_artifacts[\"models\"][10:],\n",
    "    models=catboost_artifacts[\"models\"],\n",
    "    numerical_cols=catboost_artifacts[\"numerical_cols\"],\n",
    "    categorical_cols=catboost_artifacts[\"categorical_cols\"],\n",
    "    text_cols=[\"LudRules\"],\n",
    "    encoder=catboost_artifacts[\"encoder\"],\n",
    "    scaler=catboost_artifacts[\"scaler\"],\n",
    ")"
   ]
  },
  {
   "cell_type": "code",
   "execution_count": 4,
   "id": "b9bd2375",
   "metadata": {
    "execution": {
     "iopub.execute_input": "2024-11-15T15:23:51.091252Z",
     "iopub.status.busy": "2024-11-15T15:23:51.090842Z",
     "iopub.status.idle": "2024-11-15T15:23:51.390351Z",
     "shell.execute_reply": "2024-11-15T15:23:51.389164Z"
    },
    "papermill": {
     "duration": 0.307726,
     "end_time": "2024-11-15T15:23:51.392984",
     "exception": false,
     "start_time": "2024-11-15T15:23:51.085258",
     "status": "completed"
    },
    "tags": []
   },
   "outputs": [
    {
     "data": {
      "text/plain": [
       "array([ 0.1354931 , -0.16949624, -0.03478131])"
      ]
     },
     "execution_count": 4,
     "metadata": {},
     "output_type": "execute_result"
    }
   ],
   "source": [
    "# sanity check\n",
    "test = pd.read_csv(\"/kaggle/input/um-game-playing-strength-of-mcts-variants/test.csv\")\n",
    "model_catboost.predict(test)"
   ]
  },
  {
   "cell_type": "markdown",
   "id": "9a5f2563",
   "metadata": {
    "papermill": {
     "duration": 0.004309,
     "end_time": "2024-11-15T15:23:51.402276",
     "exception": false,
     "start_time": "2024-11-15T15:23:51.397967",
     "status": "completed"
    },
    "tags": []
   },
   "source": [
    "***\n",
    "### inference"
   ]
  },
  {
   "cell_type": "code",
   "execution_count": 5,
   "id": "8b58e2cd",
   "metadata": {
    "execution": {
     "iopub.execute_input": "2024-11-15T15:23:51.413270Z",
     "iopub.status.busy": "2024-11-15T15:23:51.412780Z",
     "iopub.status.idle": "2024-11-15T15:23:51.930846Z",
     "shell.execute_reply": "2024-11-15T15:23:51.929561Z"
    },
    "papermill": {
     "duration": 0.527,
     "end_time": "2024-11-15T15:23:51.933750",
     "exception": false,
     "start_time": "2024-11-15T15:23:51.406750",
     "status": "completed"
    },
    "tags": []
   },
   "outputs": [],
   "source": [
    "import os\n",
    "import polars as pl\n",
    "import kaggle_evaluation.mcts_inference_server"
   ]
  },
  {
   "cell_type": "code",
   "execution_count": 6,
   "id": "53eafd62",
   "metadata": {
    "execution": {
     "iopub.execute_input": "2024-11-15T15:23:51.945431Z",
     "iopub.status.busy": "2024-11-15T15:23:51.944262Z",
     "iopub.status.idle": "2024-11-15T15:23:51.950314Z",
     "shell.execute_reply": "2024-11-15T15:23:51.949331Z"
    },
    "papermill": {
     "duration": 0.014182,
     "end_time": "2024-11-15T15:23:51.952685",
     "exception": false,
     "start_time": "2024-11-15T15:23:51.938503",
     "status": "completed"
    },
    "tags": []
   },
   "outputs": [],
   "source": [
    "def predict(test: pl.DataFrame, sample_sub: pl.DataFrame):\n",
    "    test_pd = test.to_pandas()\n",
    "    predictions = model_catboost.predict(test_pd)\n",
    "    submission = sample_sub.with_columns(pl.Series(\"utility_agent1\", predictions))\n",
    "    return submission"
   ]
  },
  {
   "cell_type": "code",
   "execution_count": 7,
   "id": "f710264f",
   "metadata": {
    "execution": {
     "iopub.execute_input": "2024-11-15T15:23:51.963500Z",
     "iopub.status.busy": "2024-11-15T15:23:51.963106Z",
     "iopub.status.idle": "2024-11-15T15:23:52.755473Z",
     "shell.execute_reply": "2024-11-15T15:23:52.754414Z"
    },
    "papermill": {
     "duration": 0.80107,
     "end_time": "2024-11-15T15:23:52.758305",
     "exception": false,
     "start_time": "2024-11-15T15:23:51.957235",
     "status": "completed"
    },
    "tags": []
   },
   "outputs": [],
   "source": [
    "inference_server = kaggle_evaluation.mcts_inference_server.MCTSInferenceServer(predict)\n",
    "\n",
    "if os.getenv('KAGGLE_IS_COMPETITION_RERUN'):\n",
    "    inference_server.serve()\n",
    "else:\n",
    "    inference_server.run_local_gateway(\n",
    "        (\n",
    "            '/kaggle/input/um-game-playing-strength-of-mcts-variants/test.csv',\n",
    "            '/kaggle/input/um-game-playing-strength-of-mcts-variants/sample_submission.csv'\n",
    "        )\n",
    "    )"
   ]
  },
  {
   "cell_type": "markdown",
   "id": "3ebb5846",
   "metadata": {
    "papermill": {
     "duration": 0.004182,
     "end_time": "2024-11-15T15:23:52.767215",
     "exception": false,
     "start_time": "2024-11-15T15:23:52.763033",
     "status": "completed"
    },
    "tags": []
   },
   "source": [
    "***"
   ]
  }
 ],
 "metadata": {
  "kaggle": {
   "accelerator": "none",
   "dataSources": [
    {
     "databundleVersionId": 9515283,
     "sourceId": 70089,
     "sourceType": "competition"
    },
    {
     "databundleVersionId": 10175295,
     "datasetId": 5909723,
     "sourceId": 9916850,
     "sourceType": "datasetVersion"
    }
   ],
   "dockerImageVersionId": 30786,
   "isGpuEnabled": false,
   "isInternetEnabled": false,
   "language": "python",
   "sourceType": "notebook"
  },
  "kernelspec": {
   "display_name": "Python 3",
   "language": "python",
   "name": "python3"
  },
  "language_info": {
   "codemirror_mode": {
    "name": "ipython",
    "version": 3
   },
   "file_extension": ".py",
   "mimetype": "text/x-python",
   "name": "python",
   "nbconvert_exporter": "python",
   "pygments_lexer": "ipython3",
   "version": "3.10.14"
  },
  "papermill": {
   "default_parameters": {},
   "duration": 15.656985,
   "end_time": "2024-11-15T15:23:53.594360",
   "environment_variables": {},
   "exception": null,
   "input_path": "__notebook__.ipynb",
   "output_path": "__notebook__.ipynb",
   "parameters": {},
   "start_time": "2024-11-15T15:23:37.937375",
   "version": "2.6.0"
  }
 },
 "nbformat": 4,
 "nbformat_minor": 5
}
