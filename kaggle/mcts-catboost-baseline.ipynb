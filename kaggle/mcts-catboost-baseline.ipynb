{
 "cells": [
  {
   "cell_type": "code",
   "execution_count": 1,
   "id": "45dd5de6",
   "metadata": {
    "_cell_guid": "b1076dfc-b9ad-4769-8c92-a6c4dae69d19",
    "_uuid": "8f2839f25d086af736a60e9eeb907d3b93b6e0e5",
    "execution": {
     "iopub.execute_input": "2024-11-16T17:20:55.609532Z",
     "iopub.status.busy": "2024-11-16T17:20:55.609069Z",
     "iopub.status.idle": "2024-11-16T17:20:59.555494Z",
     "shell.execute_reply": "2024-11-16T17:20:59.553739Z"
    },
    "papermill": {
     "duration": 3.956105,
     "end_time": "2024-11-16T17:20:59.558398",
     "exception": false,
     "start_time": "2024-11-16T17:20:55.602293",
     "status": "completed"
    },
    "tags": []
   },
   "outputs": [
    {
     "name": "stdout",
     "output_type": "stream",
     "text": [
      "cb.__version__: 1.2.7\n"
     ]
    }
   ],
   "source": [
    "import numpy as np\n",
    "import pandas as pd\n",
    "import matplotlib.pyplot as plt\n",
    "from pathlib import Path\n",
    "import pickle\n",
    "\n",
    "import catboost as cb\n",
    "print(\"cb.__version__:\", cb.__version__)\n",
    "\n",
    "import sys\n",
    "sys.path.append(\"/kaggle/input/mcts-artifacts\")\n",
    "from preproc import process_test_data\n",
    "\n",
    "from sklearn.model_selection import StratifiedGroupKFold\n",
    "from sklearn.preprocessing import OrdinalEncoder, StandardScaler"
   ]
  },
  {
   "cell_type": "markdown",
   "id": "e1d6776b",
   "metadata": {
    "papermill": {
     "duration": 0.004565,
     "end_time": "2024-11-16T17:20:59.568562",
     "exception": false,
     "start_time": "2024-11-16T17:20:59.563997",
     "status": "completed"
    },
    "tags": []
   },
   "source": [
    "***\n",
    "### load artifacts\n"
   ]
  },
  {
   "cell_type": "code",
   "execution_count": 2,
   "id": "5f65fbd9",
   "metadata": {
    "execution": {
     "iopub.execute_input": "2024-11-16T17:20:59.580474Z",
     "iopub.status.busy": "2024-11-16T17:20:59.579808Z",
     "iopub.status.idle": "2024-11-16T17:21:08.618970Z",
     "shell.execute_reply": "2024-11-16T17:21:08.617810Z"
    },
    "papermill": {
     "duration": 9.049144,
     "end_time": "2024-11-16T17:21:08.622535",
     "exception": false,
     "start_time": "2024-11-16T17:20:59.573391",
     "status": "completed"
    },
    "tags": []
   },
   "outputs": [],
   "source": [
    "# Specify the path where you want to save the serialized function\n",
    "catboost_artifacts_path = '/kaggle/input/mcts-artifacts/catboost_predict.pkl'\n",
    "\n",
    "# Load the function from the file\n",
    "with open(catboost_artifacts_path, 'rb') as f:\n",
    "    catboost_artifacts = pickle.load(f)"
   ]
  },
  {
   "cell_type": "code",
   "execution_count": 3,
   "id": "778a01d1",
   "metadata": {
    "execution": {
     "iopub.execute_input": "2024-11-16T17:21:08.638984Z",
     "iopub.status.busy": "2024-11-16T17:21:08.637340Z",
     "iopub.status.idle": "2024-11-16T17:21:08.655554Z",
     "shell.execute_reply": "2024-11-16T17:21:08.650966Z"
    },
    "papermill": {
     "duration": 0.030125,
     "end_time": "2024-11-16T17:21:08.659469",
     "exception": false,
     "start_time": "2024-11-16T17:21:08.629344",
     "status": "completed"
    },
    "tags": []
   },
   "outputs": [
    {
     "data": {
      "text/plain": [
       "15"
      ]
     },
     "execution_count": 3,
     "metadata": {},
     "output_type": "execute_result"
    }
   ],
   "source": [
    "len(catboost_artifacts[\"models\"])"
   ]
  },
  {
   "cell_type": "code",
   "execution_count": 4,
   "id": "6b7e6ea9",
   "metadata": {
    "execution": {
     "iopub.execute_input": "2024-11-16T17:21:08.674981Z",
     "iopub.status.busy": "2024-11-16T17:21:08.674472Z",
     "iopub.status.idle": "2024-11-16T17:21:08.691226Z",
     "shell.execute_reply": "2024-11-16T17:21:08.689759Z"
    },
    "papermill": {
     "duration": 0.028416,
     "end_time": "2024-11-16T17:21:08.694621",
     "exception": false,
     "start_time": "2024-11-16T17:21:08.666205",
     "status": "completed"
    },
    "tags": []
   },
   "outputs": [
    {
     "name": "stdout",
     "output_type": "stream",
     "text": [
      "len(numerical_cols): 368\n",
      "len(categorical_cols): 5\n"
     ]
    }
   ],
   "source": [
    "class ModelInference:\n",
    "    def __init__(self, models, numerical_cols, categorical_cols, encoder, scaler, text_cols=None):\n",
    "        \"\"\"Initialize inference class with trained artifacts\n",
    "        \n",
    "        Args:\n",
    "            models: List of trained CatBoost models\n",
    "            numerical_cols: List of numerical column names\n",
    "            categorical_cols: List of categorical column names\n",
    "            encoder: Fitted OrdinalEncoder for categorical features\n",
    "            scaler: Fitted StandardScaler for numerical features (optional)\n",
    "            text_cols: List of text columns (optional)\n",
    "        \"\"\"\n",
    "        self.models = models\n",
    "        self.numerical_cols = numerical_cols\n",
    "        self.categorical_cols = categorical_cols\n",
    "        self.text_cols = text_cols if text_cols is not None else []\n",
    "        self.encoder = encoder\n",
    "        self.scaler = scaler\n",
    "\n",
    "        print(\"len(numerical_cols):\", len(numerical_cols))\n",
    "        print(\"len(categorical_cols):\", len(categorical_cols))\n",
    "        \n",
    "    def predict(self, df_test):\n",
    "        \"\"\"Make predictions on test data\n",
    "        \n",
    "        Args:\n",
    "            df_test: pandas DataFrame containing test features\n",
    "            \n",
    "        Returns:\n",
    "            numpy array of predictions\n",
    "        \"\"\"\n",
    "        # Preprocess test data\n",
    "        test_processed = process_test_data(\n",
    "            df_test,\n",
    "            self.numerical_cols,\n",
    "            self.categorical_cols,\n",
    "            self.encoder,\n",
    "            self.scaler,\n",
    "            include_position_features=True,\n",
    "            include_text_features=False,\n",
    "        )\n",
    "        \n",
    "        # Create CatBoost Pool for test data\n",
    "        features = self.numerical_cols + self.categorical_cols\n",
    "        pool_params = {\n",
    "            'data': test_processed[features],\n",
    "            'cat_features': self.categorical_cols,\n",
    "        }\n",
    "        \n",
    "        if self.text_cols:\n",
    "            features += self.text_cols\n",
    "            pool_params['data'] = test_processed[features]\n",
    "            pool_params['text_features'] = self.text_cols\n",
    "            \n",
    "        test_pool = cb.Pool(**pool_params)\n",
    "        \n",
    "        # Get predictions from all models\n",
    "        predictions = np.mean([\n",
    "            model.predict(test_pool)\n",
    "            for model in self.models\n",
    "        ], axis=0)\n",
    "        predictions = np.clip(predictions, -1, 1)\n",
    "        \n",
    "        return predictions\n",
    "\n",
    "# model_catboost = ModelInference(text_cols=[\"LudRules\",], **catboost_artifacts)\n",
    "\n",
    "model_catboost = ModelInference(\n",
    "    # models=catboost_artifacts[\"models\"][:5],\n",
    "    models=catboost_artifacts[\"models\"][5:10],\n",
    "    # models=catboost_artifacts[\"models\"][10:],\n",
    "    # models=catboost_artifacts[\"models\"],\n",
    "    numerical_cols=catboost_artifacts[\"numerical_cols\"],\n",
    "    categorical_cols=catboost_artifacts[\"categorical_cols\"],\n",
    "    # text_cols=[\"LudRules\"],\n",
    "    encoder=catboost_artifacts[\"encoder\"],\n",
    "    scaler=catboost_artifacts[\"scaler\"],\n",
    ")"
   ]
  },
  {
   "cell_type": "code",
   "execution_count": 5,
   "id": "bd13a8a7",
   "metadata": {
    "execution": {
     "iopub.execute_input": "2024-11-16T17:21:08.710588Z",
     "iopub.status.busy": "2024-11-16T17:21:08.710040Z",
     "iopub.status.idle": "2024-11-16T17:21:08.997425Z",
     "shell.execute_reply": "2024-11-16T17:21:08.996166Z"
    },
    "papermill": {
     "duration": 0.298853,
     "end_time": "2024-11-16T17:21:09.000584",
     "exception": false,
     "start_time": "2024-11-16T17:21:08.701731",
     "status": "completed"
    },
    "tags": []
   },
   "outputs": [
    {
     "data": {
      "text/plain": [
       "array([ 0.12662478, -0.16927704, -0.0580261 ])"
      ]
     },
     "execution_count": 5,
     "metadata": {},
     "output_type": "execute_result"
    }
   ],
   "source": [
    "# sanity check\n",
    "test = pd.read_csv(\"/kaggle/input/um-game-playing-strength-of-mcts-variants/test.csv\")\n",
    "model_catboost.predict(test)"
   ]
  },
  {
   "cell_type": "markdown",
   "id": "a46f795a",
   "metadata": {
    "papermill": {
     "duration": 0.005192,
     "end_time": "2024-11-16T17:21:09.011122",
     "exception": false,
     "start_time": "2024-11-16T17:21:09.005930",
     "status": "completed"
    },
    "tags": []
   },
   "source": [
    "***\n",
    "### inference"
   ]
  },
  {
   "cell_type": "code",
   "execution_count": 6,
   "id": "d9e49197",
   "metadata": {
    "execution": {
     "iopub.execute_input": "2024-11-16T17:21:09.024138Z",
     "iopub.status.busy": "2024-11-16T17:21:09.023567Z",
     "iopub.status.idle": "2024-11-16T17:21:09.739167Z",
     "shell.execute_reply": "2024-11-16T17:21:09.738118Z"
    },
    "papermill": {
     "duration": 0.725797,
     "end_time": "2024-11-16T17:21:09.742553",
     "exception": false,
     "start_time": "2024-11-16T17:21:09.016756",
     "status": "completed"
    },
    "tags": []
   },
   "outputs": [],
   "source": [
    "import os\n",
    "import polars as pl\n",
    "import kaggle_evaluation.mcts_inference_server"
   ]
  },
  {
   "cell_type": "code",
   "execution_count": 7,
   "id": "a5554c04",
   "metadata": {
    "execution": {
     "iopub.execute_input": "2024-11-16T17:21:09.759220Z",
     "iopub.status.busy": "2024-11-16T17:21:09.758467Z",
     "iopub.status.idle": "2024-11-16T17:21:09.765703Z",
     "shell.execute_reply": "2024-11-16T17:21:09.764402Z"
    },
    "papermill": {
     "duration": 0.018316,
     "end_time": "2024-11-16T17:21:09.768281",
     "exception": false,
     "start_time": "2024-11-16T17:21:09.749965",
     "status": "completed"
    },
    "tags": []
   },
   "outputs": [],
   "source": [
    "def predict(test: pl.DataFrame, sample_sub: pl.DataFrame):\n",
    "    test_pd = test.to_pandas()\n",
    "    predictions = model_catboost.predict(test_pd)\n",
    "    submission = sample_sub.with_columns(pl.Series(\"utility_agent1\", predictions))\n",
    "    return submission"
   ]
  },
  {
   "cell_type": "code",
   "execution_count": 8,
   "id": "2234c0a1",
   "metadata": {
    "execution": {
     "iopub.execute_input": "2024-11-16T17:21:09.781442Z",
     "iopub.status.busy": "2024-11-16T17:21:09.780462Z",
     "iopub.status.idle": "2024-11-16T17:21:10.550417Z",
     "shell.execute_reply": "2024-11-16T17:21:10.549293Z"
    },
    "papermill": {
     "duration": 0.77991,
     "end_time": "2024-11-16T17:21:10.553383",
     "exception": false,
     "start_time": "2024-11-16T17:21:09.773473",
     "status": "completed"
    },
    "tags": []
   },
   "outputs": [],
   "source": [
    "inference_server = kaggle_evaluation.mcts_inference_server.MCTSInferenceServer(predict)\n",
    "\n",
    "if os.getenv('KAGGLE_IS_COMPETITION_RERUN'):\n",
    "    inference_server.serve()\n",
    "else:\n",
    "    inference_server.run_local_gateway(\n",
    "        (\n",
    "            '/kaggle/input/um-game-playing-strength-of-mcts-variants/test.csv',\n",
    "            '/kaggle/input/um-game-playing-strength-of-mcts-variants/sample_submission.csv'\n",
    "        )\n",
    "    )"
   ]
  },
  {
   "cell_type": "markdown",
   "id": "6368e693",
   "metadata": {
    "papermill": {
     "duration": 0.005687,
     "end_time": "2024-11-16T17:21:10.564198",
     "exception": false,
     "start_time": "2024-11-16T17:21:10.558511",
     "status": "completed"
    },
    "tags": []
   },
   "source": [
    "***"
   ]
  }
 ],
 "metadata": {
  "kaggle": {
   "accelerator": "none",
   "dataSources": [
    {
     "databundleVersionId": 9515283,
     "sourceId": 70089,
     "sourceType": "competition"
    },
    {
     "datasetId": 5909723,
     "sourceId": 9917814,
     "sourceType": "datasetVersion"
    }
   ],
   "dockerImageVersionId": 30786,
   "isGpuEnabled": false,
   "isInternetEnabled": false,
   "language": "python",
   "sourceType": "notebook"
  },
  "kernelspec": {
   "display_name": "Python 3",
   "language": "python",
   "name": "python3"
  },
  "language_info": {
   "codemirror_mode": {
    "name": "ipython",
    "version": 3
   },
   "file_extension": ".py",
   "mimetype": "text/x-python",
   "name": "python",
   "nbconvert_exporter": "python",
   "pygments_lexer": "ipython3",
   "version": "3.10.14"
  },
  "papermill": {
   "default_parameters": {},
   "duration": 19.185252,
   "end_time": "2024-11-16T17:21:11.391673",
   "environment_variables": {},
   "exception": null,
   "input_path": "__notebook__.ipynb",
   "output_path": "__notebook__.ipynb",
   "parameters": {},
   "start_time": "2024-11-16T17:20:52.206421",
   "version": "2.6.0"
  }
 },
 "nbformat": 4,
 "nbformat_minor": 5
}
