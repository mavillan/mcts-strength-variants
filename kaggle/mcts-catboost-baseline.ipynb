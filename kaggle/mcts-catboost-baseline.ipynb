{
 "cells": [
  {
   "cell_type": "code",
   "execution_count": 1,
   "id": "c9f867ea",
   "metadata": {
    "_cell_guid": "b1076dfc-b9ad-4769-8c92-a6c4dae69d19",
    "_uuid": "8f2839f25d086af736a60e9eeb907d3b93b6e0e5",
    "execution": {
     "iopub.execute_input": "2024-11-13T02:35:08.891157Z",
     "iopub.status.busy": "2024-11-13T02:35:08.889627Z",
     "iopub.status.idle": "2024-11-13T02:35:12.429298Z",
     "shell.execute_reply": "2024-11-13T02:35:12.427872Z"
    },
    "papermill": {
     "duration": 3.54997,
     "end_time": "2024-11-13T02:35:12.432526",
     "exception": false,
     "start_time": "2024-11-13T02:35:08.882556",
     "status": "completed"
    },
    "tags": []
   },
   "outputs": [
    {
     "name": "stdout",
     "output_type": "stream",
     "text": [
      "cb.__version__: 1.2.7\n"
     ]
    }
   ],
   "source": [
    "import numpy as np\n",
    "import pandas as pd\n",
    "import matplotlib.pyplot as plt\n",
    "from pathlib import Path\n",
    "import pickle\n",
    "\n",
    "import catboost as cb\n",
    "print(\"cb.__version__:\", cb.__version__)\n",
    "\n",
    "import sys\n",
    "sys.path.append(\"/kaggle/input/mcts-artifacts\")\n",
    "from preproc import process_test_data\n",
    "\n",
    "from sklearn.model_selection import StratifiedGroupKFold\n",
    "from sklearn.preprocessing import OrdinalEncoder, StandardScaler"
   ]
  },
  {
   "cell_type": "markdown",
   "id": "e393dec9",
   "metadata": {
    "papermill": {
     "duration": 0.00409,
     "end_time": "2024-11-13T02:35:12.441394",
     "exception": false,
     "start_time": "2024-11-13T02:35:12.437304",
     "status": "completed"
    },
    "tags": []
   },
   "source": [
    "***\n",
    "### load artifacts\n"
   ]
  },
  {
   "cell_type": "code",
   "execution_count": 2,
   "id": "6ae653b2",
   "metadata": {
    "execution": {
     "iopub.execute_input": "2024-11-13T02:35:12.452329Z",
     "iopub.status.busy": "2024-11-13T02:35:12.451693Z",
     "iopub.status.idle": "2024-11-13T02:35:14.679857Z",
     "shell.execute_reply": "2024-11-13T02:35:14.678482Z"
    },
    "papermill": {
     "duration": 2.237337,
     "end_time": "2024-11-13T02:35:14.683205",
     "exception": false,
     "start_time": "2024-11-13T02:35:12.445868",
     "status": "completed"
    },
    "tags": []
   },
   "outputs": [
    {
     "name": "stderr",
     "output_type": "stream",
     "text": [
      "/opt/conda/lib/python3.10/site-packages/sklearn/base.py:318: UserWarning: Trying to unpickle estimator OrdinalEncoder from version 1.5.2 when using version 1.2.2. This might lead to breaking code or invalid results. Use at your own risk. For more info please refer to:\n",
      "https://scikit-learn.org/stable/model_persistence.html#security-maintainability-limitations\n",
      "  warnings.warn(\n"
     ]
    }
   ],
   "source": [
    "# Specify the path where you want to save the serialized function\n",
    "catboost_artifacts_path = '/kaggle/input/mcts-artifacts/catboost_predict.pkl'\n",
    "\n",
    "# Load the function from the file\n",
    "with open(catboost_artifacts_path, 'rb') as f:\n",
    "    catboost_artifacts = pickle.load(f)"
   ]
  },
  {
   "cell_type": "code",
   "execution_count": 3,
   "id": "560fd1a4",
   "metadata": {
    "execution": {
     "iopub.execute_input": "2024-11-13T02:35:14.694850Z",
     "iopub.status.busy": "2024-11-13T02:35:14.694286Z",
     "iopub.status.idle": "2024-11-13T02:35:14.707814Z",
     "shell.execute_reply": "2024-11-13T02:35:14.706389Z"
    },
    "papermill": {
     "duration": 0.023095,
     "end_time": "2024-11-13T02:35:14.710980",
     "exception": false,
     "start_time": "2024-11-13T02:35:14.687885",
     "status": "completed"
    },
    "tags": []
   },
   "outputs": [
    {
     "name": "stdout",
     "output_type": "stream",
     "text": [
      "len(numerical_cols): 370\n",
      "len(categorical_cols): 5\n"
     ]
    }
   ],
   "source": [
    "class ModelInference:\n",
    "    def __init__(self, models, numerical_cols, categorical_cols, text_cols, encoder, scaler):\n",
    "        \"\"\"Initialize inference class with trained artifacts\n",
    "        \n",
    "        Args:\n",
    "            models: List of trained CatBoost models\n",
    "            numerical_cols: List of numerical column names\n",
    "            categorical_cols: List of categorical column names\n",
    "            text_cols: List of text columns\n",
    "            encoder: Fitted OrdinalEncoder for categorical features\n",
    "            scaler: Fitted StandardScaler for numerical features (optional)\n",
    "        \"\"\"\n",
    "        self.models = models\n",
    "        self.numerical_cols = numerical_cols\n",
    "        self.categorical_cols = categorical_cols\n",
    "        self.text_cols = text_cols\n",
    "        self.encoder = encoder\n",
    "        self.scaler = scaler\n",
    "\n",
    "        print(\"len(numerical_cols):\", len(numerical_cols))\n",
    "        print(\"len(categorical_cols):\", len(categorical_cols))\n",
    "        \n",
    "    def predict(self, df_test):\n",
    "        \"\"\"Make predictions on test data\n",
    "        \n",
    "        Args:\n",
    "            df_test: pandas DataFrame containing test features\n",
    "            \n",
    "        Returns:\n",
    "            numpy array of predictions\n",
    "        \"\"\"\n",
    "        # Preprocess test data\n",
    "        test_processed = process_test_data(\n",
    "            df_test,\n",
    "            self.numerical_cols,\n",
    "            self.categorical_cols,\n",
    "            self.encoder,\n",
    "            self.scaler\n",
    "        )\n",
    "        \n",
    "        # Create CatBoost Pool for test data\n",
    "        test_pool = cb.Pool(\n",
    "            data=test_processed[self.numerical_cols + self.categorical_cols + self.text_cols],\n",
    "            cat_features=self.categorical_cols,\n",
    "            text_features=self.text_cols,\n",
    "        )\n",
    "        \n",
    "        # Get predictions from all models\n",
    "        predictions = np.mean([\n",
    "            model.predict(test_pool)\n",
    "            for model in self.models\n",
    "        ], axis=0)\n",
    "        predictions = np.clip(predictions, -1, 1)\n",
    "        \n",
    "        return predictions\n",
    "\n",
    "model_catboost = ModelInference(text_cols=[\"LudRules\",], **catboost_artifacts)"
   ]
  },
  {
   "cell_type": "code",
   "execution_count": 4,
   "id": "573077c3",
   "metadata": {
    "execution": {
     "iopub.execute_input": "2024-11-13T02:35:14.722300Z",
     "iopub.status.busy": "2024-11-13T02:35:14.721827Z",
     "iopub.status.idle": "2024-11-13T02:35:14.994510Z",
     "shell.execute_reply": "2024-11-13T02:35:14.993210Z"
    },
    "papermill": {
     "duration": 0.281761,
     "end_time": "2024-11-13T02:35:14.997429",
     "exception": false,
     "start_time": "2024-11-13T02:35:14.715668",
     "status": "completed"
    },
    "tags": []
   },
   "outputs": [
    {
     "data": {
      "text/plain": [
       "array([ 0.12990531, -0.17131387, -0.01485499])"
      ]
     },
     "execution_count": 4,
     "metadata": {},
     "output_type": "execute_result"
    }
   ],
   "source": [
    "# sanity check\n",
    "test = pd.read_csv(\"/kaggle/input/um-game-playing-strength-of-mcts-variants/test.csv\")\n",
    "model_catboost.predict(test)"
   ]
  },
  {
   "cell_type": "markdown",
   "id": "5374e56b",
   "metadata": {
    "papermill": {
     "duration": 0.004566,
     "end_time": "2024-11-13T02:35:15.006975",
     "exception": false,
     "start_time": "2024-11-13T02:35:15.002409",
     "status": "completed"
    },
    "tags": []
   },
   "source": [
    "***\n",
    "### inference"
   ]
  },
  {
   "cell_type": "code",
   "execution_count": 5,
   "id": "a8a27ec2",
   "metadata": {
    "execution": {
     "iopub.execute_input": "2024-11-13T02:35:15.021306Z",
     "iopub.status.busy": "2024-11-13T02:35:15.019807Z",
     "iopub.status.idle": "2024-11-13T02:35:15.608341Z",
     "shell.execute_reply": "2024-11-13T02:35:15.606974Z"
    },
    "papermill": {
     "duration": 0.598723,
     "end_time": "2024-11-13T02:35:15.611359",
     "exception": false,
     "start_time": "2024-11-13T02:35:15.012636",
     "status": "completed"
    },
    "tags": []
   },
   "outputs": [],
   "source": [
    "import os\n",
    "import polars as pl\n",
    "import kaggle_evaluation.mcts_inference_server"
   ]
  },
  {
   "cell_type": "code",
   "execution_count": 6,
   "id": "f2b99df6",
   "metadata": {
    "execution": {
     "iopub.execute_input": "2024-11-13T02:35:15.623288Z",
     "iopub.status.busy": "2024-11-13T02:35:15.622666Z",
     "iopub.status.idle": "2024-11-13T02:35:15.629360Z",
     "shell.execute_reply": "2024-11-13T02:35:15.628081Z"
    },
    "papermill": {
     "duration": 0.015814,
     "end_time": "2024-11-13T02:35:15.632091",
     "exception": false,
     "start_time": "2024-11-13T02:35:15.616277",
     "status": "completed"
    },
    "tags": []
   },
   "outputs": [],
   "source": [
    "def predict(test: pl.DataFrame, sample_sub: pl.DataFrame):\n",
    "    test_pd = test.to_pandas()\n",
    "    predictions = model_catboost.predict(test_pd)\n",
    "    submission = sample_sub.with_columns(pl.Series(\"utility_agent1\", predictions))\n",
    "    return submission"
   ]
  },
  {
   "cell_type": "code",
   "execution_count": 7,
   "id": "6db22205",
   "metadata": {
    "execution": {
     "iopub.execute_input": "2024-11-13T02:35:15.644095Z",
     "iopub.status.busy": "2024-11-13T02:35:15.643588Z",
     "iopub.status.idle": "2024-11-13T02:35:16.373334Z",
     "shell.execute_reply": "2024-11-13T02:35:16.372032Z"
    },
    "papermill": {
     "duration": 0.73937,
     "end_time": "2024-11-13T02:35:16.376660",
     "exception": false,
     "start_time": "2024-11-13T02:35:15.637290",
     "status": "completed"
    },
    "tags": []
   },
   "outputs": [],
   "source": [
    "inference_server = kaggle_evaluation.mcts_inference_server.MCTSInferenceServer(predict)\n",
    "\n",
    "if os.getenv('KAGGLE_IS_COMPETITION_RERUN'):\n",
    "    inference_server.serve()\n",
    "else:\n",
    "    inference_server.run_local_gateway(\n",
    "        (\n",
    "            '/kaggle/input/um-game-playing-strength-of-mcts-variants/test.csv',\n",
    "            '/kaggle/input/um-game-playing-strength-of-mcts-variants/sample_submission.csv'\n",
    "        )\n",
    "    )"
   ]
  },
  {
   "cell_type": "markdown",
   "id": "f9bd7cb5",
   "metadata": {
    "papermill": {
     "duration": 0.005549,
     "end_time": "2024-11-13T02:35:16.387369",
     "exception": false,
     "start_time": "2024-11-13T02:35:16.381820",
     "status": "completed"
    },
    "tags": []
   },
   "source": [
    "***"
   ]
  }
 ],
 "metadata": {
  "kaggle": {
   "accelerator": "none",
   "dataSources": [
    {
     "databundleVersionId": 9515283,
     "sourceId": 70089,
     "sourceType": "competition"
    },
    {
     "datasetId": 5909723,
     "sourceId": 9889688,
     "sourceType": "datasetVersion"
    }
   ],
   "dockerImageVersionId": 30786,
   "isGpuEnabled": false,
   "isInternetEnabled": false,
   "language": "python",
   "sourceType": "notebook"
  },
  "kernelspec": {
   "display_name": "Python 3",
   "language": "python",
   "name": "python3"
  },
  "language_info": {
   "codemirror_mode": {
    "name": "ipython",
    "version": 3
   },
   "file_extension": ".py",
   "mimetype": "text/x-python",
   "name": "python",
   "nbconvert_exporter": "python",
   "pygments_lexer": "ipython3",
   "version": "3.10.14"
  },
  "papermill": {
   "default_parameters": {},
   "duration": 11.631283,
   "end_time": "2024-11-13T02:35:17.216457",
   "environment_variables": {},
   "exception": null,
   "input_path": "__notebook__.ipynb",
   "output_path": "__notebook__.ipynb",
   "parameters": {},
   "start_time": "2024-11-13T02:35:05.585174",
   "version": "2.6.0"
  }
 },
 "nbformat": 4,
 "nbformat_minor": 5
}
