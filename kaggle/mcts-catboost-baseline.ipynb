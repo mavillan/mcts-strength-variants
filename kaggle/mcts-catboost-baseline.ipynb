{
 "cells": [
  {
   "cell_type": "code",
   "execution_count": 1,
   "id": "d2fa4818",
   "metadata": {
    "_cell_guid": "b1076dfc-b9ad-4769-8c92-a6c4dae69d19",
    "_uuid": "8f2839f25d086af736a60e9eeb907d3b93b6e0e5",
    "execution": {
     "iopub.execute_input": "2024-11-20T15:23:27.516489Z",
     "iopub.status.busy": "2024-11-20T15:23:27.515973Z",
     "iopub.status.idle": "2024-11-20T15:23:30.549916Z",
     "shell.execute_reply": "2024-11-20T15:23:30.548408Z"
    },
    "papermill": {
     "duration": 3.043021,
     "end_time": "2024-11-20T15:23:30.552271",
     "exception": false,
     "start_time": "2024-11-20T15:23:27.509250",
     "status": "completed"
    },
    "tags": []
   },
   "outputs": [
    {
     "name": "stdout",
     "output_type": "stream",
     "text": [
      "cb.__version__: 1.2.7\n"
     ]
    }
   ],
   "source": [
    "import numpy as np\n",
    "import pandas as pd\n",
    "import matplotlib.pyplot as plt\n",
    "from pathlib import Path\n",
    "import pickle\n",
    "\n",
    "import catboost as cb\n",
    "print(\"cb.__version__:\", cb.__version__)\n",
    "\n",
    "import sys\n",
    "sys.path.append(\"/kaggle/input/mcts-artifacts\")\n",
    "from preproc import process_test_data\n",
    "\n",
    "from sklearn.model_selection import StratifiedGroupKFold\n",
    "from sklearn.preprocessing import OrdinalEncoder, StandardScaler"
   ]
  },
  {
   "cell_type": "markdown",
   "id": "f0dce8a5",
   "metadata": {
    "papermill": {
     "duration": 0.002729,
     "end_time": "2024-11-20T15:23:30.558315",
     "exception": false,
     "start_time": "2024-11-20T15:23:30.555586",
     "status": "completed"
    },
    "tags": []
   },
   "source": [
    "***\n",
    "### load artifacts\n"
   ]
  },
  {
   "cell_type": "code",
   "execution_count": 2,
   "id": "f40646f8",
   "metadata": {
    "execution": {
     "iopub.execute_input": "2024-11-20T15:23:30.565762Z",
     "iopub.status.busy": "2024-11-20T15:23:30.565257Z",
     "iopub.status.idle": "2024-11-20T15:23:39.171613Z",
     "shell.execute_reply": "2024-11-20T15:23:39.170308Z"
    },
    "papermill": {
     "duration": 8.613349,
     "end_time": "2024-11-20T15:23:39.174448",
     "exception": false,
     "start_time": "2024-11-20T15:23:30.561099",
     "status": "completed"
    },
    "tags": []
   },
   "outputs": [],
   "source": [
    "# Specify the path where you want to save the serialized function\n",
    "catboost_artifacts_path = '/kaggle/input/mcts-artifacts/catboost_predict.pkl'\n",
    "\n",
    "# Load the function from the file\n",
    "with open(catboost_artifacts_path, 'rb') as f:\n",
    "    catboost_artifacts = pickle.load(f)"
   ]
  },
  {
   "cell_type": "code",
   "execution_count": 3,
   "id": "6ad30c39",
   "metadata": {
    "execution": {
     "iopub.execute_input": "2024-11-20T15:23:39.182956Z",
     "iopub.status.busy": "2024-11-20T15:23:39.182479Z",
     "iopub.status.idle": "2024-11-20T15:23:39.191162Z",
     "shell.execute_reply": "2024-11-20T15:23:39.189958Z"
    },
    "papermill": {
     "duration": 0.015257,
     "end_time": "2024-11-20T15:23:39.193285",
     "exception": false,
     "start_time": "2024-11-20T15:23:39.178028",
     "status": "completed"
    },
    "tags": []
   },
   "outputs": [
    {
     "data": {
      "text/plain": [
       "5"
      ]
     },
     "execution_count": 3,
     "metadata": {},
     "output_type": "execute_result"
    }
   ],
   "source": [
    "len(catboost_artifacts[\"models\"])"
   ]
  },
  {
   "cell_type": "code",
   "execution_count": 4,
   "id": "20e5b632",
   "metadata": {
    "execution": {
     "iopub.execute_input": "2024-11-20T15:23:39.201762Z",
     "iopub.status.busy": "2024-11-20T15:23:39.201337Z",
     "iopub.status.idle": "2024-11-20T15:23:39.213187Z",
     "shell.execute_reply": "2024-11-20T15:23:39.211987Z"
    },
    "papermill": {
     "duration": 0.019287,
     "end_time": "2024-11-20T15:23:39.215894",
     "exception": false,
     "start_time": "2024-11-20T15:23:39.196607",
     "status": "completed"
    },
    "tags": []
   },
   "outputs": [
    {
     "name": "stdout",
     "output_type": "stream",
     "text": [
      "len(numerical_cols): 368\n",
      "len(categorical_cols): 5\n"
     ]
    }
   ],
   "source": [
    "class ModelInference:\n",
    "    def __init__(self, models, numerical_cols, categorical_cols, encoder, scaler, text_cols=None):\n",
    "        \"\"\"Initialize inference class with trained artifacts\n",
    "        \n",
    "        Args:\n",
    "            models: List of trained CatBoost models\n",
    "            numerical_cols: List of numerical column names\n",
    "            categorical_cols: List of categorical column names\n",
    "            encoder: Fitted OrdinalEncoder for categorical features\n",
    "            scaler: Fitted StandardScaler for numerical features (optional)\n",
    "            text_cols: List of text columns (optional)\n",
    "        \"\"\"\n",
    "        self.models = models\n",
    "        self.numerical_cols = numerical_cols\n",
    "        self.categorical_cols = categorical_cols\n",
    "        self.text_cols = text_cols if text_cols is not None else []\n",
    "        self.encoder = encoder\n",
    "        self.scaler = scaler\n",
    "\n",
    "        print(\"len(numerical_cols):\", len(numerical_cols))\n",
    "        print(\"len(categorical_cols):\", len(categorical_cols))\n",
    "        \n",
    "    def predict(self, df_test):\n",
    "        \"\"\"Make predictions on test data\n",
    "        \n",
    "        Args:\n",
    "            df_test: pandas DataFrame containing test features\n",
    "            \n",
    "        Returns:\n",
    "            numpy array of predictions\n",
    "        \"\"\"\n",
    "        # Preprocess test data\n",
    "        test_processed = process_test_data(\n",
    "            df_test,\n",
    "            self.numerical_cols,\n",
    "            self.categorical_cols,\n",
    "            self.encoder,\n",
    "            self.scaler,\n",
    "            include_position_features=True,\n",
    "            include_text_features=True,\n",
    "        )\n",
    "        \n",
    "        # Create CatBoost Pool for test data\n",
    "        features = self.numerical_cols + self.categorical_cols\n",
    "        pool_params = {\n",
    "            'data': test_processed[features],\n",
    "            'cat_features': self.categorical_cols,\n",
    "        }\n",
    "        \n",
    "        if self.text_cols:\n",
    "            features += self.text_cols\n",
    "            pool_params['data'] = test_processed[features]\n",
    "            pool_params['text_features'] = self.text_cols\n",
    "            \n",
    "        test_pool = cb.Pool(**pool_params)\n",
    "        \n",
    "        # Get predictions from all models\n",
    "        predictions = np.mean([\n",
    "            model.predict(test_pool)\n",
    "            for model in self.models\n",
    "        ], axis=0)\n",
    "        predictions = np.clip(predictions, -1, 1)\n",
    "        \n",
    "        return predictions\n",
    "\n",
    "# model_catboost = ModelInference(text_cols=[\"LudRules\",], **catboost_artifacts)\n",
    "\n",
    "model_catboost = ModelInference(\n",
    "    # models=catboost_artifacts[\"models\"][:5],\n",
    "    # models=catboost_artifacts[\"models\"][5:10],\n",
    "    # models=catboost_artifacts[\"models\"][10:],\n",
    "    models=catboost_artifacts[\"models\"],\n",
    "    numerical_cols=catboost_artifacts[\"numerical_cols\"],\n",
    "    categorical_cols=catboost_artifacts[\"categorical_cols\"],\n",
    "    # text_cols=[\"LudRules\"],\n",
    "    encoder=catboost_artifacts[\"encoder\"],\n",
    "    scaler=catboost_artifacts[\"scaler\"],\n",
    ")"
   ]
  },
  {
   "cell_type": "code",
   "execution_count": 5,
   "id": "0b4abd7e",
   "metadata": {
    "execution": {
     "iopub.execute_input": "2024-11-20T15:23:39.225023Z",
     "iopub.status.busy": "2024-11-20T15:23:39.224553Z",
     "iopub.status.idle": "2024-11-20T15:23:39.468054Z",
     "shell.execute_reply": "2024-11-20T15:23:39.466665Z"
    },
    "papermill": {
     "duration": 0.251065,
     "end_time": "2024-11-20T15:23:39.470468",
     "exception": false,
     "start_time": "2024-11-20T15:23:39.219403",
     "status": "completed"
    },
    "tags": []
   },
   "outputs": [
    {
     "data": {
      "text/plain": [
       "array([ 0.11206963, -0.14541036, -0.04385829])"
      ]
     },
     "execution_count": 5,
     "metadata": {},
     "output_type": "execute_result"
    }
   ],
   "source": [
    "# sanity check\n",
    "test = pd.read_csv(\"/kaggle/input/um-game-playing-strength-of-mcts-variants/test.csv\")\n",
    "model_catboost.predict(test)"
   ]
  },
  {
   "cell_type": "markdown",
   "id": "6d6a8a79",
   "metadata": {
    "papermill": {
     "duration": 0.003094,
     "end_time": "2024-11-20T15:23:39.477197",
     "exception": false,
     "start_time": "2024-11-20T15:23:39.474103",
     "status": "completed"
    },
    "tags": []
   },
   "source": [
    "***\n",
    "### inference"
   ]
  },
  {
   "cell_type": "code",
   "execution_count": 6,
   "id": "9c0f4872",
   "metadata": {
    "execution": {
     "iopub.execute_input": "2024-11-20T15:23:39.485718Z",
     "iopub.status.busy": "2024-11-20T15:23:39.485306Z",
     "iopub.status.idle": "2024-11-20T15:23:40.025731Z",
     "shell.execute_reply": "2024-11-20T15:23:40.024416Z"
    },
    "papermill": {
     "duration": 0.547938,
     "end_time": "2024-11-20T15:23:40.028388",
     "exception": false,
     "start_time": "2024-11-20T15:23:39.480450",
     "status": "completed"
    },
    "tags": []
   },
   "outputs": [],
   "source": [
    "import os\n",
    "import polars as pl\n",
    "import kaggle_evaluation.mcts_inference_server"
   ]
  },
  {
   "cell_type": "code",
   "execution_count": 7,
   "id": "88cce172",
   "metadata": {
    "execution": {
     "iopub.execute_input": "2024-11-20T15:23:40.039812Z",
     "iopub.status.busy": "2024-11-20T15:23:40.039115Z",
     "iopub.status.idle": "2024-11-20T15:23:40.045441Z",
     "shell.execute_reply": "2024-11-20T15:23:40.044341Z"
    },
    "papermill": {
     "duration": 0.015358,
     "end_time": "2024-11-20T15:23:40.047634",
     "exception": false,
     "start_time": "2024-11-20T15:23:40.032276",
     "status": "completed"
    },
    "tags": []
   },
   "outputs": [],
   "source": [
    "def predict(test: pl.DataFrame, sample_sub: pl.DataFrame):\n",
    "    test_pd = test.to_pandas()\n",
    "    predictions = model_catboost.predict(test_pd)\n",
    "    submission = sample_sub.with_columns(pl.Series(\"utility_agent1\", predictions))\n",
    "    return submission"
   ]
  },
  {
   "cell_type": "code",
   "execution_count": 8,
   "id": "33ecc3b1",
   "metadata": {
    "execution": {
     "iopub.execute_input": "2024-11-20T15:23:40.056157Z",
     "iopub.status.busy": "2024-11-20T15:23:40.055693Z",
     "iopub.status.idle": "2024-11-20T15:23:40.681767Z",
     "shell.execute_reply": "2024-11-20T15:23:40.680872Z"
    },
    "papermill": {
     "duration": 0.633942,
     "end_time": "2024-11-20T15:23:40.684998",
     "exception": false,
     "start_time": "2024-11-20T15:23:40.051056",
     "status": "completed"
    },
    "tags": []
   },
   "outputs": [],
   "source": [
    "inference_server = kaggle_evaluation.mcts_inference_server.MCTSInferenceServer(predict)\n",
    "\n",
    "if os.getenv('KAGGLE_IS_COMPETITION_RERUN'):\n",
    "    inference_server.serve()\n",
    "else:\n",
    "    inference_server.run_local_gateway(\n",
    "        (\n",
    "            '/kaggle/input/um-game-playing-strength-of-mcts-variants/test.csv',\n",
    "            '/kaggle/input/um-game-playing-strength-of-mcts-variants/sample_submission.csv'\n",
    "        )\n",
    "    )"
   ]
  },
  {
   "cell_type": "markdown",
   "id": "f80755fc",
   "metadata": {
    "papermill": {
     "duration": 0.00443,
     "end_time": "2024-11-20T15:23:40.693260",
     "exception": false,
     "start_time": "2024-11-20T15:23:40.688830",
     "status": "completed"
    },
    "tags": []
   },
   "source": [
    "***"
   ]
  }
 ],
 "metadata": {
  "kaggle": {
   "accelerator": "none",
   "dataSources": [
    {
     "databundleVersionId": 9515283,
     "sourceId": 70089,
     "sourceType": "competition"
    },
    {
     "datasetId": 5909723,
     "sourceId": 9963606,
     "sourceType": "datasetVersion"
    }
   ],
   "dockerImageVersionId": 30786,
   "isGpuEnabled": false,
   "isInternetEnabled": false,
   "language": "python",
   "sourceType": "notebook"
  },
  "kernelspec": {
   "display_name": "Python 3",
   "language": "python",
   "name": "python3"
  },
  "language_info": {
   "codemirror_mode": {
    "name": "ipython",
    "version": 3
   },
   "file_extension": ".py",
   "mimetype": "text/x-python",
   "name": "python",
   "nbconvert_exporter": "python",
   "pygments_lexer": "ipython3",
   "version": "3.10.14"
  },
  "papermill": {
   "default_parameters": {},
   "duration": 16.923779,
   "end_time": "2024-11-20T15:23:41.621308",
   "environment_variables": {},
   "exception": null,
   "input_path": "__notebook__.ipynb",
   "output_path": "__notebook__.ipynb",
   "parameters": {},
   "start_time": "2024-11-20T15:23:24.697529",
   "version": "2.6.0"
  }
 },
 "nbformat": 4,
 "nbformat_minor": 5
}
