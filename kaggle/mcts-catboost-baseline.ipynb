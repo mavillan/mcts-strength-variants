{
 "cells": [
  {
   "cell_type": "code",
   "execution_count": 1,
   "id": "c66c34a9",
   "metadata": {
    "_cell_guid": "b1076dfc-b9ad-4769-8c92-a6c4dae69d19",
    "_uuid": "8f2839f25d086af736a60e9eeb907d3b93b6e0e5",
    "execution": {
     "iopub.execute_input": "2024-11-26T23:23:46.581365Z",
     "iopub.status.busy": "2024-11-26T23:23:46.580953Z",
     "iopub.status.idle": "2024-11-26T23:23:49.589786Z",
     "shell.execute_reply": "2024-11-26T23:23:49.588306Z"
    },
    "papermill": {
     "duration": 3.017291,
     "end_time": "2024-11-26T23:23:49.592862",
     "exception": false,
     "start_time": "2024-11-26T23:23:46.575571",
     "status": "completed"
    },
    "tags": []
   },
   "outputs": [
    {
     "name": "stdout",
     "output_type": "stream",
     "text": [
      "cb.__version__: 1.2.7\n"
     ]
    }
   ],
   "source": [
    "import numpy as np\n",
    "import pandas as pd\n",
    "import matplotlib.pyplot as plt\n",
    "from pathlib import Path\n",
    "import pickle\n",
    "\n",
    "import catboost as cb\n",
    "print(\"cb.__version__:\", cb.__version__)\n",
    "\n",
    "import sys\n",
    "sys.path.append(\"/kaggle/input/mcts-artifacts\")\n",
    "from preproc import process_test_data\n",
    "\n",
    "from sklearn.model_selection import StratifiedGroupKFold\n",
    "from sklearn.preprocessing import OrdinalEncoder, StandardScaler"
   ]
  },
  {
   "cell_type": "markdown",
   "id": "8e543143",
   "metadata": {
    "papermill": {
     "duration": 0.003169,
     "end_time": "2024-11-26T23:23:49.599751",
     "exception": false,
     "start_time": "2024-11-26T23:23:49.596582",
     "status": "completed"
    },
    "tags": []
   },
   "source": [
    "***\n",
    "### load artifacts\n"
   ]
  },
  {
   "cell_type": "code",
   "execution_count": 2,
   "id": "2cb7d28f",
   "metadata": {
    "execution": {
     "iopub.execute_input": "2024-11-26T23:23:49.608554Z",
     "iopub.status.busy": "2024-11-26T23:23:49.607981Z",
     "iopub.status.idle": "2024-11-26T23:23:53.857868Z",
     "shell.execute_reply": "2024-11-26T23:23:53.856551Z"
    },
    "papermill": {
     "duration": 4.256714,
     "end_time": "2024-11-26T23:23:53.860219",
     "exception": false,
     "start_time": "2024-11-26T23:23:49.603505",
     "status": "completed"
    },
    "tags": []
   },
   "outputs": [
    {
     "name": "stderr",
     "output_type": "stream",
     "text": [
      "/opt/conda/lib/python3.10/site-packages/sklearn/base.py:318: UserWarning: Trying to unpickle estimator OrdinalEncoder from version 1.5.2 when using version 1.2.2. This might lead to breaking code or invalid results. Use at your own risk. For more info please refer to:\n",
      "https://scikit-learn.org/stable/model_persistence.html#security-maintainability-limitations\n",
      "  warnings.warn(\n"
     ]
    }
   ],
   "source": [
    "# Specify the path where you want to save the serialized function\n",
    "catboost_artifacts_path = '/kaggle/input/mcts-artifacts/catboost_predict_fs24.pkl'\n",
    "\n",
    "# Load the function from the file\n",
    "with open(catboost_artifacts_path, 'rb') as f:\n",
    "    catboost_artifacts = pickle.load(f)"
   ]
  },
  {
   "cell_type": "code",
   "execution_count": 3,
   "id": "d359100c",
   "metadata": {
    "execution": {
     "iopub.execute_input": "2024-11-26T23:23:53.868578Z",
     "iopub.status.busy": "2024-11-26T23:23:53.868131Z",
     "iopub.status.idle": "2024-11-26T23:23:53.876078Z",
     "shell.execute_reply": "2024-11-26T23:23:53.874944Z"
    },
    "papermill": {
     "duration": 0.015052,
     "end_time": "2024-11-26T23:23:53.878653",
     "exception": false,
     "start_time": "2024-11-26T23:23:53.863601",
     "status": "completed"
    },
    "tags": []
   },
   "outputs": [
    {
     "data": {
      "text/plain": [
       "15"
      ]
     },
     "execution_count": 3,
     "metadata": {},
     "output_type": "execute_result"
    }
   ],
   "source": [
    "len(catboost_artifacts[\"models\"])"
   ]
  },
  {
   "cell_type": "code",
   "execution_count": 4,
   "id": "5e4a4c4a",
   "metadata": {
    "execution": {
     "iopub.execute_input": "2024-11-26T23:23:53.888617Z",
     "iopub.status.busy": "2024-11-26T23:23:53.888070Z",
     "iopub.status.idle": "2024-11-26T23:23:53.900584Z",
     "shell.execute_reply": "2024-11-26T23:23:53.899353Z"
    },
    "papermill": {
     "duration": 0.02068,
     "end_time": "2024-11-26T23:23:53.902783",
     "exception": false,
     "start_time": "2024-11-26T23:23:53.882103",
     "status": "completed"
    },
    "tags": []
   },
   "outputs": [
    {
     "name": "stdout",
     "output_type": "stream",
     "text": [
      "len(numerical_cols): 219\n",
      "len(categorical_cols): 8\n"
     ]
    }
   ],
   "source": [
    "class ModelInference:\n",
    "    def __init__(self, models, numerical_cols, categorical_cols, encoder, scaler, text_cols=None):\n",
    "        \"\"\"Initialize inference class with trained artifacts\n",
    "        \n",
    "        Args:\n",
    "            models: List of trained CatBoost models\n",
    "            numerical_cols: List of numerical column names\n",
    "            categorical_cols: List of categorical column names\n",
    "            encoder: Fitted OrdinalEncoder for categorical features\n",
    "            scaler: Fitted StandardScaler for numerical features (optional)\n",
    "            text_cols: List of text columns (optional)\n",
    "        \"\"\"\n",
    "        self.models = models\n",
    "        self.numerical_cols = numerical_cols\n",
    "        self.categorical_cols = categorical_cols\n",
    "        self.text_cols = text_cols if text_cols is not None else []\n",
    "        self.encoder = encoder\n",
    "        self.scaler = scaler\n",
    "\n",
    "        print(\"len(numerical_cols):\", len(numerical_cols))\n",
    "        print(\"len(categorical_cols):\", len(categorical_cols))\n",
    "        \n",
    "    def predict(self, df_test):\n",
    "        \"\"\"Make predictions on test data\n",
    "        \n",
    "        Args:\n",
    "            df_test: pandas DataFrame containing test features\n",
    "            \n",
    "        Returns:\n",
    "            numpy array of predictions\n",
    "        \"\"\"\n",
    "        # Preprocess test data\n",
    "        test_processed = process_test_data(\n",
    "            df_test,\n",
    "            self.numerical_cols,\n",
    "            self.categorical_cols,\n",
    "            self.encoder,\n",
    "            self.scaler,\n",
    "            include_position_features=True,\n",
    "            include_text_features=True,\n",
    "        )\n",
    "        \n",
    "        # Create CatBoost Pool for test data\n",
    "        features = self.numerical_cols + self.categorical_cols\n",
    "        pool_params = {\n",
    "            'data': test_processed[features],\n",
    "            'cat_features': self.categorical_cols,\n",
    "        }\n",
    "        \n",
    "        if self.text_cols:\n",
    "            features += self.text_cols\n",
    "            pool_params['data'] = test_processed[features]\n",
    "            pool_params['text_features'] = self.text_cols\n",
    "            \n",
    "        test_pool = cb.Pool(**pool_params)\n",
    "        \n",
    "        # Get predictions from all models\n",
    "        predictions = np.mean([\n",
    "            model.predict(test_pool)\n",
    "            for model in self.models\n",
    "        ], axis=0)\n",
    "        predictions = np.clip(predictions, -1, 1)\n",
    "        \n",
    "        return predictions\n",
    "\n",
    "# model_catboost = ModelInference(text_cols=[\"LudRules\",], **catboost_artifacts)\n",
    "\n",
    "model_catboost = ModelInference(\n",
    "    models=catboost_artifacts[\"models\"][:5],\n",
    "    # models=catboost_artifacts[\"models\"][5:10],\n",
    "    # models=catboost_artifacts[\"models\"][10:],\n",
    "    # models=catboost_artifacts[\"models\"],\n",
    "    numerical_cols=catboost_artifacts[\"numerical_cols\"],\n",
    "    categorical_cols=catboost_artifacts[\"categorical_cols\"],\n",
    "    # text_cols=[\"LudRules\"],\n",
    "    encoder=catboost_artifacts[\"encoder\"],\n",
    "    scaler=catboost_artifacts[\"scaler\"],\n",
    ")"
   ]
  },
  {
   "cell_type": "code",
   "execution_count": 5,
   "id": "0386a580",
   "metadata": {
    "execution": {
     "iopub.execute_input": "2024-11-26T23:23:53.911833Z",
     "iopub.status.busy": "2024-11-26T23:23:53.911419Z",
     "iopub.status.idle": "2024-11-26T23:23:54.102651Z",
     "shell.execute_reply": "2024-11-26T23:23:54.101413Z"
    },
    "papermill": {
     "duration": 0.198297,
     "end_time": "2024-11-26T23:23:54.104915",
     "exception": false,
     "start_time": "2024-11-26T23:23:53.906618",
     "status": "completed"
    },
    "tags": []
   },
   "outputs": [
    {
     "data": {
      "text/plain": [
       "array([ 0.09798549, -0.13745244, -0.03180037])"
      ]
     },
     "execution_count": 5,
     "metadata": {},
     "output_type": "execute_result"
    }
   ],
   "source": [
    "# sanity check\n",
    "test = pd.read_csv(\"/kaggle/input/um-game-playing-strength-of-mcts-variants/test.csv\")\n",
    "model_catboost.predict(test)"
   ]
  },
  {
   "cell_type": "markdown",
   "id": "ed8b8882",
   "metadata": {
    "papermill": {
     "duration": 0.00316,
     "end_time": "2024-11-26T23:23:54.111705",
     "exception": false,
     "start_time": "2024-11-26T23:23:54.108545",
     "status": "completed"
    },
    "tags": []
   },
   "source": [
    "***\n",
    "### inference"
   ]
  },
  {
   "cell_type": "code",
   "execution_count": 6,
   "id": "2bb42329",
   "metadata": {
    "execution": {
     "iopub.execute_input": "2024-11-26T23:23:54.120361Z",
     "iopub.status.busy": "2024-11-26T23:23:54.119898Z",
     "iopub.status.idle": "2024-11-26T23:23:54.606355Z",
     "shell.execute_reply": "2024-11-26T23:23:54.605077Z"
    },
    "papermill": {
     "duration": 0.493836,
     "end_time": "2024-11-26T23:23:54.608988",
     "exception": false,
     "start_time": "2024-11-26T23:23:54.115152",
     "status": "completed"
    },
    "tags": []
   },
   "outputs": [],
   "source": [
    "import os\n",
    "import polars as pl\n",
    "import kaggle_evaluation.mcts_inference_server"
   ]
  },
  {
   "cell_type": "code",
   "execution_count": 7,
   "id": "3bf91516",
   "metadata": {
    "execution": {
     "iopub.execute_input": "2024-11-26T23:23:54.617973Z",
     "iopub.status.busy": "2024-11-26T23:23:54.617466Z",
     "iopub.status.idle": "2024-11-26T23:23:54.623635Z",
     "shell.execute_reply": "2024-11-26T23:23:54.622664Z"
    },
    "papermill": {
     "duration": 0.013754,
     "end_time": "2024-11-26T23:23:54.626481",
     "exception": false,
     "start_time": "2024-11-26T23:23:54.612727",
     "status": "completed"
    },
    "tags": []
   },
   "outputs": [],
   "source": [
    "def predict(test: pl.DataFrame, sample_sub: pl.DataFrame):\n",
    "    test_pd = test.to_pandas()\n",
    "    predictions = model_catboost.predict(test_pd)\n",
    "    submission = sample_sub.with_columns(pl.Series(\"utility_agent1\", predictions))\n",
    "    return submission"
   ]
  },
  {
   "cell_type": "code",
   "execution_count": 8,
   "id": "8e52583b",
   "metadata": {
    "execution": {
     "iopub.execute_input": "2024-11-26T23:23:54.634943Z",
     "iopub.status.busy": "2024-11-26T23:23:54.634575Z",
     "iopub.status.idle": "2024-11-26T23:23:55.165861Z",
     "shell.execute_reply": "2024-11-26T23:23:55.164529Z"
    },
    "papermill": {
     "duration": 0.538538,
     "end_time": "2024-11-26T23:23:55.168492",
     "exception": false,
     "start_time": "2024-11-26T23:23:54.629954",
     "status": "completed"
    },
    "tags": []
   },
   "outputs": [],
   "source": [
    "inference_server = kaggle_evaluation.mcts_inference_server.MCTSInferenceServer(predict)\n",
    "\n",
    "if os.getenv('KAGGLE_IS_COMPETITION_RERUN'):\n",
    "    inference_server.serve()\n",
    "else:\n",
    "    inference_server.run_local_gateway(\n",
    "        (\n",
    "            '/kaggle/input/um-game-playing-strength-of-mcts-variants/test.csv',\n",
    "            '/kaggle/input/um-game-playing-strength-of-mcts-variants/sample_submission.csv'\n",
    "        )\n",
    "    )"
   ]
  },
  {
   "cell_type": "markdown",
   "id": "16eb7ad3",
   "metadata": {
    "papermill": {
     "duration": 0.004524,
     "end_time": "2024-11-26T23:23:55.176808",
     "exception": false,
     "start_time": "2024-11-26T23:23:55.172284",
     "status": "completed"
    },
    "tags": []
   },
   "source": [
    "***"
   ]
  }
 ],
 "metadata": {
  "kaggle": {
   "accelerator": "none",
   "dataSources": [
    {
     "databundleVersionId": 9515283,
     "sourceId": 70089,
     "sourceType": "competition"
    },
    {
     "datasetId": 5909723,
     "sourceId": 10023763,
     "sourceType": "datasetVersion"
    }
   ],
   "dockerImageVersionId": 30786,
   "isGpuEnabled": false,
   "isInternetEnabled": false,
   "language": "python",
   "sourceType": "notebook"
  },
  "kernelspec": {
   "display_name": "Python 3",
   "language": "python",
   "name": "python3"
  },
  "language_info": {
   "codemirror_mode": {
    "name": "ipython",
    "version": 3
   },
   "file_extension": ".py",
   "mimetype": "text/x-python",
   "name": "python",
   "nbconvert_exporter": "python",
   "pygments_lexer": "ipython3",
   "version": "3.10.14"
  },
  "papermill": {
   "default_parameters": {},
   "duration": 12.78251,
   "end_time": "2024-11-26T23:23:56.004591",
   "environment_variables": {},
   "exception": null,
   "input_path": "__notebook__.ipynb",
   "output_path": "__notebook__.ipynb",
   "parameters": {},
   "start_time": "2024-11-26T23:23:43.222081",
   "version": "2.6.0"
  }
 },
 "nbformat": 4,
 "nbformat_minor": 5
}
