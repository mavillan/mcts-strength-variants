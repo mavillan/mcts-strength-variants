{
 "cells": [
  {
   "cell_type": "code",
   "execution_count": 1,
   "id": "2ebd4ab3",
   "metadata": {
    "_cell_guid": "b1076dfc-b9ad-4769-8c92-a6c4dae69d19",
    "_uuid": "8f2839f25d086af736a60e9eeb907d3b93b6e0e5",
    "execution": {
     "iopub.execute_input": "2024-11-16T17:22:12.526059Z",
     "iopub.status.busy": "2024-11-16T17:22:12.525140Z",
     "iopub.status.idle": "2024-11-16T17:22:14.973814Z",
     "shell.execute_reply": "2024-11-16T17:22:14.972899Z"
    },
    "papermill": {
     "duration": 2.456409,
     "end_time": "2024-11-16T17:22:14.976073",
     "exception": false,
     "start_time": "2024-11-16T17:22:12.519664",
     "status": "completed"
    },
    "tags": []
   },
   "outputs": [
    {
     "name": "stdout",
     "output_type": "stream",
     "text": [
      "cb.__version__: 1.2.7\n"
     ]
    }
   ],
   "source": [
    "import numpy as np\n",
    "import pandas as pd\n",
    "import matplotlib.pyplot as plt\n",
    "from pathlib import Path\n",
    "import pickle\n",
    "\n",
    "import catboost as cb\n",
    "print(\"cb.__version__:\", cb.__version__)\n",
    "\n",
    "import sys\n",
    "sys.path.append(\"/kaggle/input/mcts-artifacts\")\n",
    "from preproc import process_test_data\n",
    "\n",
    "from sklearn.model_selection import StratifiedGroupKFold\n",
    "from sklearn.preprocessing import OrdinalEncoder, StandardScaler"
   ]
  },
  {
   "cell_type": "markdown",
   "id": "918c6571",
   "metadata": {
    "papermill": {
     "duration": 0.003469,
     "end_time": "2024-11-16T17:22:14.982960",
     "exception": false,
     "start_time": "2024-11-16T17:22:14.979491",
     "status": "completed"
    },
    "tags": []
   },
   "source": [
    "***\n",
    "### load artifacts\n"
   ]
  },
  {
   "cell_type": "code",
   "execution_count": 2,
   "id": "eee57d95",
   "metadata": {
    "execution": {
     "iopub.execute_input": "2024-11-16T17:22:14.991099Z",
     "iopub.status.busy": "2024-11-16T17:22:14.990616Z",
     "iopub.status.idle": "2024-11-16T17:22:19.941329Z",
     "shell.execute_reply": "2024-11-16T17:22:19.940232Z"
    },
    "papermill": {
     "duration": 4.957692,
     "end_time": "2024-11-16T17:22:19.943906",
     "exception": false,
     "start_time": "2024-11-16T17:22:14.986214",
     "status": "completed"
    },
    "tags": []
   },
   "outputs": [],
   "source": [
    "# Specify the path where you want to save the serialized function\n",
    "catboost_artifacts_path = '/kaggle/input/mcts-artifacts/catboost_predict.pkl'\n",
    "\n",
    "# Load the function from the file\n",
    "with open(catboost_artifacts_path, 'rb') as f:\n",
    "    catboost_artifacts = pickle.load(f)"
   ]
  },
  {
   "cell_type": "code",
   "execution_count": 3,
   "id": "ccf37c3c",
   "metadata": {
    "execution": {
     "iopub.execute_input": "2024-11-16T17:22:19.952158Z",
     "iopub.status.busy": "2024-11-16T17:22:19.951772Z",
     "iopub.status.idle": "2024-11-16T17:22:19.959441Z",
     "shell.execute_reply": "2024-11-16T17:22:19.958426Z"
    },
    "papermill": {
     "duration": 0.014014,
     "end_time": "2024-11-16T17:22:19.961408",
     "exception": false,
     "start_time": "2024-11-16T17:22:19.947394",
     "status": "completed"
    },
    "tags": []
   },
   "outputs": [
    {
     "data": {
      "text/plain": [
       "15"
      ]
     },
     "execution_count": 3,
     "metadata": {},
     "output_type": "execute_result"
    }
   ],
   "source": [
    "len(catboost_artifacts[\"models\"])"
   ]
  },
  {
   "cell_type": "code",
   "execution_count": 4,
   "id": "621edf41",
   "metadata": {
    "execution": {
     "iopub.execute_input": "2024-11-16T17:22:19.969847Z",
     "iopub.status.busy": "2024-11-16T17:22:19.969481Z",
     "iopub.status.idle": "2024-11-16T17:22:19.980893Z",
     "shell.execute_reply": "2024-11-16T17:22:19.979700Z"
    },
    "papermill": {
     "duration": 0.018506,
     "end_time": "2024-11-16T17:22:19.983297",
     "exception": false,
     "start_time": "2024-11-16T17:22:19.964791",
     "status": "completed"
    },
    "tags": []
   },
   "outputs": [
    {
     "name": "stdout",
     "output_type": "stream",
     "text": [
      "len(numerical_cols): 368\n",
      "len(categorical_cols): 5\n"
     ]
    }
   ],
   "source": [
    "class ModelInference:\n",
    "    def __init__(self, models, numerical_cols, categorical_cols, encoder, scaler, text_cols=None):\n",
    "        \"\"\"Initialize inference class with trained artifacts\n",
    "        \n",
    "        Args:\n",
    "            models: List of trained CatBoost models\n",
    "            numerical_cols: List of numerical column names\n",
    "            categorical_cols: List of categorical column names\n",
    "            encoder: Fitted OrdinalEncoder for categorical features\n",
    "            scaler: Fitted StandardScaler for numerical features (optional)\n",
    "            text_cols: List of text columns (optional)\n",
    "        \"\"\"\n",
    "        self.models = models\n",
    "        self.numerical_cols = numerical_cols\n",
    "        self.categorical_cols = categorical_cols\n",
    "        self.text_cols = text_cols if text_cols is not None else []\n",
    "        self.encoder = encoder\n",
    "        self.scaler = scaler\n",
    "\n",
    "        print(\"len(numerical_cols):\", len(numerical_cols))\n",
    "        print(\"len(categorical_cols):\", len(categorical_cols))\n",
    "        \n",
    "    def predict(self, df_test):\n",
    "        \"\"\"Make predictions on test data\n",
    "        \n",
    "        Args:\n",
    "            df_test: pandas DataFrame containing test features\n",
    "            \n",
    "        Returns:\n",
    "            numpy array of predictions\n",
    "        \"\"\"\n",
    "        # Preprocess test data\n",
    "        test_processed = process_test_data(\n",
    "            df_test,\n",
    "            self.numerical_cols,\n",
    "            self.categorical_cols,\n",
    "            self.encoder,\n",
    "            self.scaler,\n",
    "            include_position_features=True,\n",
    "            include_text_features=False,\n",
    "        )\n",
    "        \n",
    "        # Create CatBoost Pool for test data\n",
    "        features = self.numerical_cols + self.categorical_cols\n",
    "        pool_params = {\n",
    "            'data': test_processed[features],\n",
    "            'cat_features': self.categorical_cols,\n",
    "        }\n",
    "        \n",
    "        if self.text_cols:\n",
    "            features += self.text_cols\n",
    "            pool_params['data'] = test_processed[features]\n",
    "            pool_params['text_features'] = self.text_cols\n",
    "            \n",
    "        test_pool = cb.Pool(**pool_params)\n",
    "        \n",
    "        # Get predictions from all models\n",
    "        predictions = np.mean([\n",
    "            model.predict(test_pool)\n",
    "            for model in self.models\n",
    "        ], axis=0)\n",
    "        predictions = np.clip(predictions, -1, 1)\n",
    "        \n",
    "        return predictions\n",
    "\n",
    "# model_catboost = ModelInference(text_cols=[\"LudRules\",], **catboost_artifacts)\n",
    "\n",
    "model_catboost = ModelInference(\n",
    "    # models=catboost_artifacts[\"models\"][:5],\n",
    "    # models=catboost_artifacts[\"models\"][5:10],\n",
    "    models=catboost_artifacts[\"models\"][10:],\n",
    "    # models=catboost_artifacts[\"models\"],\n",
    "    numerical_cols=catboost_artifacts[\"numerical_cols\"],\n",
    "    categorical_cols=catboost_artifacts[\"categorical_cols\"],\n",
    "    # text_cols=[\"LudRules\"],\n",
    "    encoder=catboost_artifacts[\"encoder\"],\n",
    "    scaler=catboost_artifacts[\"scaler\"],\n",
    ")"
   ]
  },
  {
   "cell_type": "code",
   "execution_count": 5,
   "id": "0a7df208",
   "metadata": {
    "execution": {
     "iopub.execute_input": "2024-11-16T17:22:19.992906Z",
     "iopub.status.busy": "2024-11-16T17:22:19.992470Z",
     "iopub.status.idle": "2024-11-16T17:22:20.183069Z",
     "shell.execute_reply": "2024-11-16T17:22:20.182081Z"
    },
    "papermill": {
     "duration": 0.197767,
     "end_time": "2024-11-16T17:22:20.185142",
     "exception": false,
     "start_time": "2024-11-16T17:22:19.987375",
     "status": "completed"
    },
    "tags": []
   },
   "outputs": [
    {
     "data": {
      "text/plain": [
       "array([ 0.09898722, -0.11853446, -0.0268187 ])"
      ]
     },
     "execution_count": 5,
     "metadata": {},
     "output_type": "execute_result"
    }
   ],
   "source": [
    "# sanity check\n",
    "test = pd.read_csv(\"/kaggle/input/um-game-playing-strength-of-mcts-variants/test.csv\")\n",
    "model_catboost.predict(test)"
   ]
  },
  {
   "cell_type": "markdown",
   "id": "9a5f3f3e",
   "metadata": {
    "papermill": {
     "duration": 0.003532,
     "end_time": "2024-11-16T17:22:20.192328",
     "exception": false,
     "start_time": "2024-11-16T17:22:20.188796",
     "status": "completed"
    },
    "tags": []
   },
   "source": [
    "***\n",
    "### inference"
   ]
  },
  {
   "cell_type": "code",
   "execution_count": 6,
   "id": "7ed64726",
   "metadata": {
    "execution": {
     "iopub.execute_input": "2024-11-16T17:22:20.200934Z",
     "iopub.status.busy": "2024-11-16T17:22:20.200559Z",
     "iopub.status.idle": "2024-11-16T17:22:20.626223Z",
     "shell.execute_reply": "2024-11-16T17:22:20.624563Z"
    },
    "papermill": {
     "duration": 0.433889,
     "end_time": "2024-11-16T17:22:20.629721",
     "exception": false,
     "start_time": "2024-11-16T17:22:20.195832",
     "status": "completed"
    },
    "tags": []
   },
   "outputs": [],
   "source": [
    "import os\n",
    "import polars as pl\n",
    "import kaggle_evaluation.mcts_inference_server"
   ]
  },
  {
   "cell_type": "code",
   "execution_count": 7,
   "id": "6f8554b2",
   "metadata": {
    "execution": {
     "iopub.execute_input": "2024-11-16T17:22:20.642492Z",
     "iopub.status.busy": "2024-11-16T17:22:20.641979Z",
     "iopub.status.idle": "2024-11-16T17:22:20.647422Z",
     "shell.execute_reply": "2024-11-16T17:22:20.646413Z"
    },
    "papermill": {
     "duration": 0.014194,
     "end_time": "2024-11-16T17:22:20.649374",
     "exception": false,
     "start_time": "2024-11-16T17:22:20.635180",
     "status": "completed"
    },
    "tags": []
   },
   "outputs": [],
   "source": [
    "def predict(test: pl.DataFrame, sample_sub: pl.DataFrame):\n",
    "    test_pd = test.to_pandas()\n",
    "    predictions = model_catboost.predict(test_pd)\n",
    "    submission = sample_sub.with_columns(pl.Series(\"utility_agent1\", predictions))\n",
    "    return submission"
   ]
  },
  {
   "cell_type": "code",
   "execution_count": 8,
   "id": "1da15f3c",
   "metadata": {
    "execution": {
     "iopub.execute_input": "2024-11-16T17:22:20.658196Z",
     "iopub.status.busy": "2024-11-16T17:22:20.657506Z",
     "iopub.status.idle": "2024-11-16T17:22:21.164854Z",
     "shell.execute_reply": "2024-11-16T17:22:21.163783Z"
    },
    "papermill": {
     "duration": 0.514081,
     "end_time": "2024-11-16T17:22:21.166991",
     "exception": false,
     "start_time": "2024-11-16T17:22:20.652910",
     "status": "completed"
    },
    "tags": []
   },
   "outputs": [],
   "source": [
    "inference_server = kaggle_evaluation.mcts_inference_server.MCTSInferenceServer(predict)\n",
    "\n",
    "if os.getenv('KAGGLE_IS_COMPETITION_RERUN'):\n",
    "    inference_server.serve()\n",
    "else:\n",
    "    inference_server.run_local_gateway(\n",
    "        (\n",
    "            '/kaggle/input/um-game-playing-strength-of-mcts-variants/test.csv',\n",
    "            '/kaggle/input/um-game-playing-strength-of-mcts-variants/sample_submission.csv'\n",
    "        )\n",
    "    )"
   ]
  },
  {
   "cell_type": "markdown",
   "id": "d75b1448",
   "metadata": {
    "papermill": {
     "duration": 0.004071,
     "end_time": "2024-11-16T17:22:21.174764",
     "exception": false,
     "start_time": "2024-11-16T17:22:21.170693",
     "status": "completed"
    },
    "tags": []
   },
   "source": [
    "***"
   ]
  }
 ],
 "metadata": {
  "kaggle": {
   "accelerator": "none",
   "dataSources": [
    {
     "databundleVersionId": 9515283,
     "sourceId": 70089,
     "sourceType": "competition"
    },
    {
     "datasetId": 5909723,
     "sourceId": 9917814,
     "sourceType": "datasetVersion"
    }
   ],
   "dockerImageVersionId": 30786,
   "isGpuEnabled": false,
   "isInternetEnabled": false,
   "language": "python",
   "sourceType": "notebook"
  },
  "kernelspec": {
   "display_name": "Python 3",
   "language": "python",
   "name": "python3"
  },
  "language_info": {
   "codemirror_mode": {
    "name": "ipython",
    "version": 3
   },
   "file_extension": ".py",
   "mimetype": "text/x-python",
   "name": "python",
   "nbconvert_exporter": "python",
   "pygments_lexer": "ipython3",
   "version": "3.10.14"
  },
  "papermill": {
   "default_parameters": {},
   "duration": 11.855649,
   "end_time": "2024-11-16T17:22:21.898809",
   "environment_variables": {},
   "exception": null,
   "input_path": "__notebook__.ipynb",
   "output_path": "__notebook__.ipynb",
   "parameters": {},
   "start_time": "2024-11-16T17:22:10.043160",
   "version": "2.6.0"
  }
 },
 "nbformat": 4,
 "nbformat_minor": 5
}
