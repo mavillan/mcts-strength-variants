{
 "cells": [
  {
   "cell_type": "code",
   "execution_count": 1,
   "metadata": {},
   "outputs": [
    {
     "name": "stdout",
     "output_type": "stream",
     "text": [
      "feat_selection_intersection_at_95.json\n",
      "feat_selection_intersection_at_96.json\n",
      "feat_selection_intersection_at_97.json\n",
      "feat_selection_intersection_at_98.json\n",
      "feat_selection_intersection_at_99.json\n",
      "feat_selection_union_at_80.json\n",
      "feat_selection_union_at_85.json\n",
      "feat_selection_union_at_90.json\n",
      "feat_selection_union_at_95.json\n",
      "select_optuna_catb.json\n",
      "select_optuna_combined_v23.json\n",
      "select_optuna_combined_v24.json\n",
      "select_optuna_combined_v34.json\n",
      "select_optuna_lgbm_v1.json\n",
      "select_optuna_lgbm_v2.json\n",
      "select_optuna_lgbm_v3.json\n"
     ]
    }
   ],
   "source": [
    "!ls ../feat_selection/ | grep json"
   ]
  },
  {
   "cell_type": "code",
   "execution_count": 2,
   "metadata": {},
   "outputs": [],
   "source": [
    "import json\n",
    "import numpy as np\n",
    "import pandas as pd\n",
    "from pathlib import Path\n",
    "\n",
    "import sys\n",
    "sys.path.append(\"../src\")\n",
    "from preproc import process_train_data"
   ]
  },
  {
   "cell_type": "code",
   "execution_count": 3,
   "metadata": {},
   "outputs": [
    {
     "name": "stdout",
     "output_type": "stream",
     "text": [
      "number of all nan cols:  18\n",
      "number of constant cols:  198\n",
      "Numerical Columns: 588\n",
      "Categorical Columns: 10\n"
     ]
    }
   ],
   "source": [
    "# define some paths\n",
    "path_raw = Path(\"../data/raw\")\n",
    "path_processed = Path(\"../data/processed\")\n",
    "path_results = Path(\"../data/results\")\n",
    "\n",
    "# load data\n",
    "df_train = pd.read_csv(path_raw / \"train.csv\")\n",
    "\n",
    "df_train, numerical_cols, categorical_cols, encoder, scaler = process_train_data(\n",
    "    df_train,\n",
    "    scale=False,\n",
    "    include_position_features=False,\n",
    "    include_text_features=False,\n",
    ")\n",
    "\n",
    "# Print the results\n",
    "print(\"Numerical Columns:\", len(numerical_cols))\n",
    "print(\"Categorical Columns:\", len(categorical_cols))"
   ]
  },
  {
   "cell_type": "markdown",
   "metadata": {},
   "source": [
    "***\n",
    "### feature selection overlap"
   ]
  },
  {
   "cell_type": "code",
   "execution_count": 4,
   "metadata": {},
   "outputs": [],
   "source": [
    "# Load the 4 feature selection JSON files\n",
    "with open('../feat_selection/select_optuna_lgbm_v1.json', 'r') as f:\n",
    "    fsv1 = json.load(f)\n",
    "    \n",
    "with open('../feat_selection/select_optuna_lgbm_v2.json', 'r') as f:\n",
    "    fsv2 = json.load(f)\n",
    "    \n",
    "with open('../feat_selection/select_optuna_catb.json', 'r') as f:\n",
    "    fsv3     = json.load(f)\n",
    "    \n",
    "with open('../feat_selection/select_optuna_lgbm_v3.json', 'r') as f:\n",
    "    fsv4 = json.load(f)"
   ]
  },
  {
   "cell_type": "code",
   "execution_count": 5,
   "metadata": {},
   "outputs": [
    {
     "name": "stdout",
     "output_type": "stream",
     "text": [
      "----------------------------------------------------------------------------------------------------\n",
      "fsv1:\n",
      "Number of numerical features: 281\n",
      "Number of categorical features: 6\n",
      "\n",
      "Categorical features:\n",
      "['agent1', 'agent2', 'agent1_playout', 'agent1_score_bounds', 'agent2_exploration_const', 'agent2_score_bounds']\n",
      "\n",
      "Match with fsv2:\n",
      "Numerical features overlap: 144 features (51.2%)\n",
      "Categorical features overlap: 3 features (50.0%)\n",
      "\n",
      "Match with fsv3:\n",
      "Numerical features overlap: 142 features (50.5%)\n",
      "Categorical features overlap: 4 features (66.7%)\n",
      "\n",
      "Match with fsv4:\n",
      "Numerical features overlap: 145 features (51.6%)\n",
      "Categorical features overlap: 4 features (66.7%)\n",
      "----------------------------------------------------------------------------------------------------\n",
      "fsv2:\n",
      "Number of numerical features: 296\n",
      "Number of categorical features: 5\n",
      "\n",
      "Categorical features:\n",
      "['agent1', 'agent2', 'agent1_selection', 'agent1_playout', 'agent2_selection']\n",
      "\n",
      "Match with fsv1:\n",
      "Numerical features overlap: 144 features (48.6%)\n",
      "Categorical features overlap: 3 features (60.0%)\n",
      "\n",
      "Match with fsv3:\n",
      "Numerical features overlap: 141 features (47.6%)\n",
      "Categorical features overlap: 4 features (80.0%)\n",
      "\n",
      "Match with fsv4:\n",
      "Numerical features overlap: 147 features (49.7%)\n",
      "Categorical features overlap: 3 features (60.0%)\n",
      "----------------------------------------------------------------------------------------------------\n",
      "fsv3:\n",
      "Number of numerical features: 297\n",
      "Number of categorical features: 8\n",
      "\n",
      "Categorical features:\n",
      "['agent2', 'agent1_selection', 'agent1_exploration_const', 'agent1_playout', 'agent2_selection', 'agent2_exploration_const', 'agent2_playout', 'agent2_score_bounds']\n",
      "\n",
      "Match with fsv1:\n",
      "Numerical features overlap: 142 features (47.8%)\n",
      "Categorical features overlap: 4 features (50.0%)\n",
      "\n",
      "Match with fsv2:\n",
      "Numerical features overlap: 141 features (47.5%)\n",
      "Categorical features overlap: 4 features (50.0%)\n",
      "\n",
      "Match with fsv4:\n",
      "Numerical features overlap: 148 features (49.8%)\n",
      "Categorical features overlap: 5 features (62.5%)\n",
      "----------------------------------------------------------------------------------------------------\n",
      "fsv4:\n",
      "Number of numerical features: 287\n",
      "Number of categorical features: 6\n",
      "\n",
      "Categorical features:\n",
      "['agent1', 'agent2', 'agent1_selection', 'agent2_exploration_const', 'agent2_playout', 'agent2_score_bounds']\n",
      "\n",
      "Match with fsv1:\n",
      "Numerical features overlap: 145 features (50.5%)\n",
      "Categorical features overlap: 4 features (66.7%)\n",
      "\n",
      "Match with fsv2:\n",
      "Numerical features overlap: 147 features (51.2%)\n",
      "Categorical features overlap: 3 features (50.0%)\n",
      "\n",
      "Match with fsv3:\n",
      "Numerical features overlap: 148 features (51.6%)\n",
      "Categorical features overlap: 5 features (83.3%)\n"
     ]
    }
   ],
   "source": [
    "fsv1_numerical, fsv1_categorical = fsv1[\"numerical\"], fsv1[\"categorical\"]\n",
    "fsv2_numerical, fsv2_categorical = fsv2[\"numerical\"], fsv2[\"categorical\"]\n",
    "fsv3_numerical, fsv3_categorical = fsv3[\"numerical\"], fsv3[\"categorical\"]\n",
    "fsv4_numerical, fsv4_categorical = fsv4[\"numerical\"], fsv4[\"categorical\"]\n",
    "\n",
    "# Create a list of all feature selection versions\n",
    "fs_versions = [\n",
    "    ('fsv1', fsv1_numerical, fsv1_categorical),\n",
    "    ('fsv2', fsv2_numerical, fsv2_categorical), \n",
    "    ('fsv3', fsv3_numerical, fsv3_categorical),\n",
    "    ('fsv4', fsv4_numerical, fsv4_categorical)\n",
    "]\n",
    "\n",
    "# Iterate through each version\n",
    "for i, (name, num, cat) in enumerate(fs_versions):\n",
    "    print('-'*100)\n",
    "    print(f\"{name}:\")\n",
    "    print(f\"Number of numerical features: {len(num)}\")\n",
    "    print(f\"Number of categorical features: {len(cat)}\")\n",
    "    print(\"\\nCategorical features:\")\n",
    "    print(cat)\n",
    "    \n",
    "    # Compare with other versions\n",
    "    for j, (other_name, other_num, other_cat) in enumerate(fs_versions):\n",
    "        if i != j:  # Don't compare with self\n",
    "            # Calculate overlap counts and percentages\n",
    "            num_overlap_set = set(num) & set(other_num)\n",
    "            cat_overlap_set = set(cat) & set(other_cat)\n",
    "            num_overlap_pct = len(num_overlap_set) / len(num) * 100\n",
    "            cat_overlap_pct = len(cat_overlap_set) / len(cat) * 100\n",
    "            \n",
    "            print(f\"\\nMatch with {other_name}:\")\n",
    "            print(f\"Numerical features overlap: {len(num_overlap_set)} features ({num_overlap_pct:.1f}%)\")\n",
    "            print(f\"Categorical features overlap: {len(cat_overlap_set)} features ({cat_overlap_pct:.1f}%)\")\n"
   ]
  },
  {
   "cell_type": "code",
   "execution_count": 6,
   "metadata": {},
   "outputs": [
    {
     "name": "stdout",
     "output_type": "stream",
     "text": [
      "FSV2 & FSV3 Intersection:\n",
      "Number of numerical features: 141\n",
      "Number of categorical features: 9\n",
      "\n",
      "Categorical features:\n",
      "['agent1_playout', 'agent2', 'agent2_exploration_const', 'agent2_playout', 'agent1_selection', 'agent1_exploration_const', 'agent2_score_bounds', 'agent2_selection', 'agent1']\n"
     ]
    }
   ],
   "source": [
    "# Create intersection of fsv2 and fsv3\n",
    "fsv23_numerical = list(set(fsv2_numerical) & set(fsv3_numerical))\n",
    "fsv23_categorical = list(set(fsv2_categorical) | set(fsv3_categorical))\n",
    "\n",
    "print(\"FSV2 & FSV3 Intersection:\")\n",
    "print(f\"Number of numerical features: {len(fsv23_numerical)}\")\n",
    "print(f\"Number of categorical features: {len(fsv23_categorical)}\")\n",
    "print(\"\\nCategorical features:\")\n",
    "print(fsv23_categorical)\n",
    "\n",
    "# Save FSV2 & FSV3 intersection to JSON\n",
    "output = {\n",
    "    \"numerical\": fsv23_numerical,\n",
    "    \"categorical\": fsv23_categorical\n",
    "}\n",
    "\n",
    "with open(\"../feat_selection/select_optuna_combined_v23.json\", \"w\") as f:\n",
    "    json.dump(output, f)"
   ]
  },
  {
   "cell_type": "code",
   "execution_count": 7,
   "metadata": {},
   "outputs": [
    {
     "name": "stdout",
     "output_type": "stream",
     "text": [
      "FSV2 & FSV4 Intersection:\n",
      "Number of numerical features: 147\n",
      "Number of categorical features: 8\n",
      "\n",
      "Categorical features:\n",
      "['agent1_playout', 'agent2', 'agent2_exploration_const', 'agent2_playout', 'agent1_selection', 'agent2_score_bounds', 'agent2_selection', 'agent1']\n"
     ]
    }
   ],
   "source": [
    "# Create intersection of fsv2 and fsv4\n",
    "fsv24_numerical = list(set(fsv2_numerical) & set(fsv4_numerical))\n",
    "fsv24_categorical = list(set(fsv2_categorical) | set(fsv4_categorical))\n",
    "\n",
    "print(\"FSV2 & FSV4 Intersection:\")\n",
    "print(f\"Number of numerical features: {len(fsv24_numerical)}\")\n",
    "print(f\"Number of categorical features: {len(fsv24_categorical)}\")\n",
    "print(\"\\nCategorical features:\")\n",
    "print(fsv24_categorical)\n",
    "\n",
    "# Save FSV2 & FSV4 intersection to JSON\n",
    "output = {\n",
    "    \"numerical\": fsv24_numerical,\n",
    "    \"categorical\": fsv24_categorical\n",
    "}\n",
    "\n",
    "with open(\"../feat_selection/select_optuna_combined_v24.json\", \"w\") as f:\n",
    "    json.dump(output, f)"
   ]
  },
  {
   "cell_type": "code",
   "execution_count": 8,
   "metadata": {},
   "outputs": [
    {
     "name": "stdout",
     "output_type": "stream",
     "text": [
      "FSV3 & FSV4 Intersection:\n",
      "Number of numerical features: 148\n",
      "Number of categorical features: 9\n",
      "\n",
      "Categorical features:\n",
      "['agent2', 'agent1_playout', 'agent2_exploration_const', 'agent2_playout', 'agent1_selection', 'agent1_exploration_const', 'agent2_score_bounds', 'agent2_selection', 'agent1']\n"
     ]
    }
   ],
   "source": [
    "# Create intersection of fsv3 and fsv4\n",
    "fsv34_numerical = list(set(fsv3_numerical) & set(fsv4_numerical))\n",
    "fsv34_categorical = list(set(fsv3_categorical) | set(fsv4_categorical))\n",
    "\n",
    "print(\"FSV3 & FSV4 Intersection:\")\n",
    "print(f\"Number of numerical features: {len(fsv34_numerical)}\")\n",
    "print(f\"Number of categorical features: {len(fsv34_categorical)}\")\n",
    "print(\"\\nCategorical features:\")\n",
    "print(fsv34_categorical)\n",
    "\n",
    "# Save FSV3 & FSV4 intersection to JSON\n",
    "output = {\n",
    "    \"numerical\": fsv34_numerical,\n",
    "    \"categorical\": fsv34_categorical\n",
    "}\n",
    "\n",
    "with open(\"../feat_selection/select_optuna_combined_v34.json\", \"w\") as f:\n",
    "    json.dump(output, f)"
   ]
  },
  {
   "cell_type": "code",
   "execution_count": 9,
   "metadata": {},
   "outputs": [
    {
     "name": "stdout",
     "output_type": "stream",
     "text": [
      "Intersection between fsv2, fsv3 and fsv4:\n",
      "Number of numerical features: 76\n",
      "Number of categorical features: 2\n"
     ]
    }
   ],
   "source": [
    "# Get intersection of numerical and categorical features for fsv2, fsv3, fsv4\n",
    "numerical_intersection = set(fsv2_numerical) & set(fsv3_numerical) & set(fsv4_numerical)\n",
    "categorical_intersection = set(fsv2_categorical) & set(fsv3_categorical) & set(fsv4_categorical)\n",
    "\n",
    "print(\"Intersection between fsv2, fsv3 and fsv4:\")\n",
    "print(f\"Number of numerical features: {len(numerical_intersection)}\")\n",
    "print(f\"Number of categorical features: {len(categorical_intersection)}\")"
   ]
  },
  {
   "cell_type": "markdown",
   "metadata": {},
   "source": [
    "***\n",
    "### importance selection"
   ]
  },
  {
   "cell_type": "code",
   "execution_count": 10,
   "metadata": {},
   "outputs": [
    {
     "name": "stdout",
     "output_type": "stream",
     "text": [
      "feat_importance_catboost_cv1.csv\n",
      "feat_importance_lightgbm_cv1.csv\n",
      "feat_importance_xgboost_cv1.csv\n"
     ]
    }
   ],
   "source": [
    "!ls ../data/results | grep importance"
   ]
  },
  {
   "cell_type": "code",
   "execution_count": 11,
   "metadata": {},
   "outputs": [
    {
     "data": {
      "text/plain": [
       "598"
      ]
     },
     "execution_count": 11,
     "metadata": {},
     "output_type": "execute_result"
    }
   ],
   "source": [
    "imp_lgb = pd.read_csv(\"../data/results/feat_importance_lightgbm_cv1.csv\")\n",
    "imp_cat = pd.read_csv(\"../data/results/feat_importance_catboost_cv1.csv\")\n",
    "imp_xgb = pd.read_csv(\"../data/results/feat_importance_xgboost_cv1.csv\")\n",
    "\n",
    "imp_lgb[\"importance_relative_cumsum\"] = imp_lgb[\"importance_relative\"].cumsum()\n",
    "imp_cat[\"importance_relative_cumsum\"] = imp_cat[\"importance_relative\"].cumsum()\n",
    "imp_xgb[\"importance_relative_cumsum\"] = imp_xgb[\"importance_relative\"].cumsum()\n",
    "\n",
    "len(imp_lgb)"
   ]
  },
  {
   "cell_type": "code",
   "execution_count": 12,
   "metadata": {},
   "outputs": [],
   "source": [
    "def get_important_features(cut_off=0.9, join_type='intersection'):\n",
    "    \"\"\"\n",
    "    Get important features based on importance scores from multiple models.\n",
    "    \n",
    "    Args:\n",
    "        cut_off (float): Importance threshold between 0 and 1\n",
    "        join_type (str): Either 'intersection' or 'union' to determine how to combine features\n",
    "        \n",
    "    Returns:\n",
    "        tuple: Lists of numerical and categorical feature names\n",
    "    \"\"\"\n",
    "    # Get features for each model under cutoff threshold\n",
    "    imp_lgb_cut = imp_lgb.query(f\"importance_relative_cumsum < {cut_off}\").copy()\n",
    "    imp_cat_cut = imp_cat.query(f\"importance_relative_cumsum < {cut_off}\").copy()\n",
    "    imp_xgb_cut = imp_xgb.query(f\"importance_relative_cumsum < {cut_off}\").copy()\n",
    "\n",
    "    print(f\"Number of features after {cut_off*100}% importance cutoff:\")\n",
    "    print(f\"LightGBM: {len(imp_lgb_cut)} features\")\n",
    "    print(f\"CatBoost: {len(imp_cat_cut)} features\") \n",
    "    print(f\"XGBoost: {len(imp_xgb_cut)} features\")\n",
    "\n",
    "    # Get sets of features from each model\n",
    "    lgb_features = set(imp_lgb_cut['feature'])\n",
    "    cat_features = set(imp_cat_cut['feature'])\n",
    "    xgb_features = set(imp_xgb_cut['feature'])\n",
    "\n",
    "    if join_type == 'intersection':\n",
    "        selected_features = lgb_features & cat_features & xgb_features\n",
    "        print(f\"\\nFeatures common to all models: {len(selected_features)} features\")\n",
    "    elif join_type == 'union':\n",
    "        selected_features = lgb_features | cat_features | xgb_features\n",
    "        print(f\"Features in any model: {len(selected_features)} features\")\n",
    "    else:\n",
    "        raise ValueError(\"join_type must be either 'intersection' or 'union'\")\n",
    "\n",
    "    # Split into numerical and categorical features\n",
    "    numerical_features = []\n",
    "    categorical_features = []\n",
    "    \n",
    "    for feat in selected_features:\n",
    "        if feat in categorical_cols:\n",
    "            categorical_features.append(feat)\n",
    "        else:\n",
    "            numerical_features.append(feat)\n",
    "            \n",
    "    return numerical_features, categorical_features"
   ]
  },
  {
   "cell_type": "code",
   "execution_count": 13,
   "metadata": {},
   "outputs": [
    {
     "name": "stdout",
     "output_type": "stream",
     "text": [
      "Number of features after 95.0% importance cutoff:\n",
      "LightGBM: 271 features\n",
      "CatBoost: 181 features\n",
      "XGBoost: 379 features\n",
      "\n",
      "Features common to all models: 141 features\n"
     ]
    }
   ],
   "source": [
    "num_cols, cat_cols = get_important_features(\n",
    "    cut_off=0.95,\n",
    "    join_type='intersection'\n",
    ")\n",
    "output = dict(\n",
    "    numerical_features=num_cols,\n",
    "    categorical_features=cat_cols\n",
    ")\n",
    "with open(\"../feat_selection/feat_selection_intersection_at_95.json\", \"w\") as f:\n",
    "    json.dump(output, f)"
   ]
  },
  {
   "cell_type": "code",
   "execution_count": 14,
   "metadata": {},
   "outputs": [
    {
     "name": "stdout",
     "output_type": "stream",
     "text": [
      "Number of features after 96.0% importance cutoff:\n",
      "LightGBM: 293 features\n",
      "CatBoost: 202 features\n",
      "XGBoost: 399 features\n",
      "\n",
      "Features common to all models: 157 features\n"
     ]
    }
   ],
   "source": [
    "num_cols, cat_cols = get_important_features(\n",
    "    cut_off=0.96,\n",
    "    join_type='intersection'\n",
    ")\n",
    "output = dict(\n",
    "    numerical_features=num_cols,\n",
    "    categorical_features=cat_cols\n",
    ")\n",
    "with open(\"../feat_selection/feat_selection_intersection_at_96.json\", \"w\") as f:\n",
    "    json.dump(output, f)"
   ]
  },
  {
   "cell_type": "code",
   "execution_count": 15,
   "metadata": {},
   "outputs": [
    {
     "name": "stdout",
     "output_type": "stream",
     "text": [
      "Number of features after 97.0% importance cutoff:\n",
      "LightGBM: 319 features\n",
      "CatBoost: 232 features\n",
      "XGBoost: 421 features\n",
      "\n",
      "Features common to all models: 183 features\n"
     ]
    }
   ],
   "source": [
    "num_cols, cat_cols = get_important_features(\n",
    "    cut_off=0.97,\n",
    "    join_type='intersection'\n",
    ")\n",
    "output = dict(\n",
    "    numerical_features=num_cols,\n",
    "    categorical_features=cat_cols\n",
    ")\n",
    "with open(\"../feat_selection/feat_selection_intersection_at_97.json\", \"w\") as f:\n",
    "    json.dump(output, f)"
   ]
  },
  {
   "cell_type": "code",
   "execution_count": 16,
   "metadata": {},
   "outputs": [
    {
     "name": "stdout",
     "output_type": "stream",
     "text": [
      "Number of features after 98.0% importance cutoff:\n",
      "LightGBM: 353 features\n",
      "CatBoost: 273 features\n",
      "XGBoost: 448 features\n",
      "\n",
      "Features common to all models: 227 features\n"
     ]
    }
   ],
   "source": [
    "num_cols, cat_cols = get_important_features(\n",
    "    cut_off=0.98,\n",
    "    join_type='intersection'\n",
    ")\n",
    "output = dict(\n",
    "    numerical_features=num_cols,\n",
    "    categorical_features=cat_cols\n",
    ")\n",
    "with open(\"../feat_selection/feat_selection_intersection_at_98.json\", \"w\") as f:\n",
    "    json.dump(output, f)"
   ]
  },
  {
   "cell_type": "code",
   "execution_count": 17,
   "metadata": {},
   "outputs": [
    {
     "name": "stdout",
     "output_type": "stream",
     "text": [
      "Number of features after 99.0% importance cutoff:\n",
      "LightGBM: 408 features\n",
      "CatBoost: 337 features\n",
      "XGBoost: 481 features\n",
      "\n",
      "Features common to all models: 296 features\n"
     ]
    }
   ],
   "source": [
    "num_cols, cat_cols = get_important_features(\n",
    "    cut_off=0.99,\n",
    "    join_type='intersection'\n",
    ")\n",
    "output = dict(\n",
    "    numerical_features=num_cols,\n",
    "    categorical_features=cat_cols\n",
    ")\n",
    "with open(\"../feat_selection/feat_selection_intersection_at_99.json\", \"w\") as f:\n",
    "    json.dump(output, f)"
   ]
  },
  {
   "cell_type": "code",
   "execution_count": 18,
   "metadata": {},
   "outputs": [
    {
     "name": "stdout",
     "output_type": "stream",
     "text": [
      "Number of features after 80.0% importance cutoff:\n",
      "LightGBM: 98 features\n",
      "CatBoost: 66 features\n",
      "XGBoost: 204 features\n",
      "Features in any model: 223 features\n"
     ]
    }
   ],
   "source": [
    "num_cols, cat_cols = get_important_features(\n",
    "    cut_off=0.80,\n",
    "    join_type='union'\n",
    ")\n",
    "output = dict(\n",
    "    numerical_features=num_cols,\n",
    "    categorical_features=cat_cols\n",
    ")\n",
    "with open(\"../feat_selection/feat_selection_union_at_80.json\", \"w\") as f:\n",
    "    json.dump(output, f)"
   ]
  },
  {
   "cell_type": "code",
   "execution_count": 19,
   "metadata": {},
   "outputs": [
    {
     "name": "stdout",
     "output_type": "stream",
     "text": [
      "Number of features after 85.0% importance cutoff:\n",
      "LightGBM: 138 features\n",
      "CatBoost: 85 features\n",
      "XGBoost: 248 features\n",
      "Features in any model: 272 features\n"
     ]
    }
   ],
   "source": [
    "num_cols, cat_cols = get_important_features(\n",
    "    cut_off=0.85,\n",
    "    join_type='union'\n",
    ")\n",
    "output = dict(\n",
    "    numerical_features=num_cols,\n",
    "    categorical_features=cat_cols\n",
    ")\n",
    "with open(\"../feat_selection/feat_selection_union_at_85.json\", \"w\") as f:\n",
    "    json.dump(output, f)"
   ]
  },
  {
   "cell_type": "code",
   "execution_count": 20,
   "metadata": {},
   "outputs": [
    {
     "name": "stdout",
     "output_type": "stream",
     "text": [
      "Number of features after 90.0% importance cutoff:\n",
      "LightGBM: 192 features\n",
      "CatBoost: 118 features\n",
      "XGBoost: 304 features\n",
      "Features in any model: 336 features\n"
     ]
    }
   ],
   "source": [
    "num_cols, cat_cols = get_important_features(\n",
    "    cut_off=0.90,\n",
    "    join_type='union'\n",
    ")\n",
    "output = dict(\n",
    "    numerical_features=num_cols,\n",
    "    categorical_features=cat_cols\n",
    ")\n",
    "with open(\"../feat_selection/feat_selection_union_at_90.json\", \"w\") as f:\n",
    "    json.dump(output, f)"
   ]
  },
  {
   "cell_type": "code",
   "execution_count": 21,
   "metadata": {},
   "outputs": [
    {
     "name": "stdout",
     "output_type": "stream",
     "text": [
      "Number of features after 95.0% importance cutoff:\n",
      "LightGBM: 271 features\n",
      "CatBoost: 181 features\n",
      "XGBoost: 379 features\n",
      "Features in any model: 406 features\n"
     ]
    }
   ],
   "source": [
    "num_cols, cat_cols = get_important_features(\n",
    "    cut_off=0.95,\n",
    "    join_type='union'\n",
    ")\n",
    "output = dict(\n",
    "    numerical_features=num_cols,\n",
    "    categorical_features=cat_cols\n",
    ")\n",
    "with open(\"../feat_selection/feat_selection_union_at_95.json\", \"w\") as f:\n",
    "    json.dump(output, f)"
   ]
  },
  {
   "cell_type": "markdown",
   "metadata": {},
   "source": [
    "***"
   ]
  }
 ],
 "metadata": {
  "kernelspec": {
   "display_name": "mcts-strength-variants-E8z0EJ47-py3.10",
   "language": "python",
   "name": "python3"
  },
  "language_info": {
   "codemirror_mode": {
    "name": "ipython",
    "version": 3
   },
   "file_extension": ".py",
   "mimetype": "text/x-python",
   "name": "python",
   "nbconvert_exporter": "python",
   "pygments_lexer": "ipython3",
   "version": "3.10.14"
  }
 },
 "nbformat": 4,
 "nbformat_minor": 2
}
