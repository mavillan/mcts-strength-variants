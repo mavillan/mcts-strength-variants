{
 "cells": [
  {
   "cell_type": "code",
   "execution_count": 2,
   "metadata": {},
   "outputs": [
    {
     "name": "stdout",
     "output_type": "stream",
     "text": [
      "select_optuna_catb.json\n",
      "select_optuna_lgbm_v1.json\n",
      "select_optuna_lgbm_v2.json\n",
      "select_optuna_lgbm_v3.json\n"
     ]
    }
   ],
   "source": [
    "!ls ../feat_selection/ | grep json"
   ]
  },
  {
   "cell_type": "code",
   "execution_count": 3,
   "metadata": {},
   "outputs": [],
   "source": [
    "import json\n",
    "import numpy as np\n",
    "import pandas as pd"
   ]
  },
  {
   "cell_type": "markdown",
   "metadata": {},
   "source": [
    "***\n",
    "### feature selection overlap"
   ]
  },
  {
   "cell_type": "code",
   "execution_count": 4,
   "metadata": {},
   "outputs": [],
   "source": [
    "# Load the 4 feature selection JSON files\n",
    "with open('../feat_selection/select_optuna_lgbm_v1.json', 'r') as f:\n",
    "    fsv1 = json.load(f)\n",
    "    \n",
    "with open('../feat_selection/select_optuna_lgbm_v2.json', 'r') as f:\n",
    "    fsv2 = json.load(f)\n",
    "    \n",
    "with open('../feat_selection/select_optuna_catb.json', 'r') as f:\n",
    "    fsv3     = json.load(f)\n",
    "    \n",
    "with open('../feat_selection/select_optuna_lgbm_v3.json', 'r') as f:\n",
    "    fsv4 = json.load(f)"
   ]
  },
  {
   "cell_type": "code",
   "execution_count": 10,
   "metadata": {},
   "outputs": [
    {
     "name": "stdout",
     "output_type": "stream",
     "text": [
      "----------------------------------------------------------------------------------------------------\n",
      "fsv1:\n",
      "Number of numerical features: 281\n",
      "Number of categorical features: 6\n",
      "\n",
      "Categorical features:\n",
      "['agent1', 'agent2', 'agent1_playout', 'agent1_score_bounds', 'agent2_exploration_const', 'agent2_score_bounds']\n",
      "\n",
      "Match with fsv2:\n",
      "Numerical features overlap: 144 features (51.2%)\n",
      "Categorical features overlap: 3 features (50.0%)\n",
      "\n",
      "Match with fsv3:\n",
      "Numerical features overlap: 142 features (50.5%)\n",
      "Categorical features overlap: 4 features (66.7%)\n",
      "\n",
      "Match with fsv4:\n",
      "Numerical features overlap: 145 features (51.6%)\n",
      "Categorical features overlap: 4 features (66.7%)\n",
      "----------------------------------------------------------------------------------------------------\n",
      "fsv2:\n",
      "Number of numerical features: 296\n",
      "Number of categorical features: 5\n",
      "\n",
      "Categorical features:\n",
      "['agent1', 'agent2', 'agent1_selection', 'agent1_playout', 'agent2_selection']\n",
      "\n",
      "Match with fsv1:\n",
      "Numerical features overlap: 144 features (48.6%)\n",
      "Categorical features overlap: 3 features (60.0%)\n",
      "\n",
      "Match with fsv3:\n",
      "Numerical features overlap: 141 features (47.6%)\n",
      "Categorical features overlap: 4 features (80.0%)\n",
      "\n",
      "Match with fsv4:\n",
      "Numerical features overlap: 147 features (49.7%)\n",
      "Categorical features overlap: 3 features (60.0%)\n",
      "----------------------------------------------------------------------------------------------------\n",
      "fsv3:\n",
      "Number of numerical features: 297\n",
      "Number of categorical features: 8\n",
      "\n",
      "Categorical features:\n",
      "['agent2', 'agent1_selection', 'agent1_exploration_const', 'agent1_playout', 'agent2_selection', 'agent2_exploration_const', 'agent2_playout', 'agent2_score_bounds']\n",
      "\n",
      "Match with fsv1:\n",
      "Numerical features overlap: 142 features (47.8%)\n",
      "Categorical features overlap: 4 features (50.0%)\n",
      "\n",
      "Match with fsv2:\n",
      "Numerical features overlap: 141 features (47.5%)\n",
      "Categorical features overlap: 4 features (50.0%)\n",
      "\n",
      "Match with fsv4:\n",
      "Numerical features overlap: 148 features (49.8%)\n",
      "Categorical features overlap: 5 features (62.5%)\n",
      "----------------------------------------------------------------------------------------------------\n",
      "fsv4:\n",
      "Number of numerical features: 287\n",
      "Number of categorical features: 6\n",
      "\n",
      "Categorical features:\n",
      "['agent1', 'agent2', 'agent1_selection', 'agent2_exploration_const', 'agent2_playout', 'agent2_score_bounds']\n",
      "\n",
      "Match with fsv1:\n",
      "Numerical features overlap: 145 features (50.5%)\n",
      "Categorical features overlap: 4 features (66.7%)\n",
      "\n",
      "Match with fsv2:\n",
      "Numerical features overlap: 147 features (51.2%)\n",
      "Categorical features overlap: 3 features (50.0%)\n",
      "\n",
      "Match with fsv3:\n",
      "Numerical features overlap: 148 features (51.6%)\n",
      "Categorical features overlap: 5 features (83.3%)\n"
     ]
    }
   ],
   "source": [
    "fsv1_numerical, fsv1_categorical = fsv1[\"numerical\"], fsv1[\"categorical\"]\n",
    "fsv2_numerical, fsv2_categorical = fsv2[\"numerical\"], fsv2[\"categorical\"]\n",
    "fsv3_numerical, fsv3_categorical = fsv3[\"numerical\"], fsv3[\"categorical\"]\n",
    "fsv4_numerical, fsv4_categorical = fsv4[\"numerical\"], fsv4[\"categorical\"]\n",
    "\n",
    "# Create a list of all feature selection versions\n",
    "fs_versions = [\n",
    "    ('fsv1', fsv1_numerical, fsv1_categorical),\n",
    "    ('fsv2', fsv2_numerical, fsv2_categorical), \n",
    "    ('fsv3', fsv3_numerical, fsv3_categorical),\n",
    "    ('fsv4', fsv4_numerical, fsv4_categorical)\n",
    "]\n",
    "\n",
    "# Iterate through each version\n",
    "for i, (name, num, cat) in enumerate(fs_versions):\n",
    "    print('-'*100)\n",
    "    print(f\"{name}:\")\n",
    "    print(f\"Number of numerical features: {len(num)}\")\n",
    "    print(f\"Number of categorical features: {len(cat)}\")\n",
    "    print(\"\\nCategorical features:\")\n",
    "    print(cat)\n",
    "    \n",
    "    # Compare with other versions\n",
    "    for j, (other_name, other_num, other_cat) in enumerate(fs_versions):\n",
    "        if i != j:  # Don't compare with self\n",
    "            # Calculate overlap counts and percentages\n",
    "            num_overlap_set = set(num) & set(other_num)\n",
    "            cat_overlap_set = set(cat) & set(other_cat)\n",
    "            num_overlap_pct = len(num_overlap_set) / len(num) * 100\n",
    "            cat_overlap_pct = len(cat_overlap_set) / len(cat) * 100\n",
    "            \n",
    "            print(f\"\\nMatch with {other_name}:\")\n",
    "            print(f\"Numerical features overlap: {len(num_overlap_set)} features ({num_overlap_pct:.1f}%)\")\n",
    "            print(f\"Categorical features overlap: {len(cat_overlap_set)} features ({cat_overlap_pct:.1f}%)\")\n"
   ]
  },
  {
   "cell_type": "markdown",
   "metadata": {},
   "source": [
    "***\n",
    "### importance selection"
   ]
  },
  {
   "cell_type": "code",
   "execution_count": null,
   "metadata": {},
   "outputs": [],
   "source": []
  },
  {
   "cell_type": "code",
   "execution_count": null,
   "metadata": {},
   "outputs": [],
   "source": []
  },
  {
   "cell_type": "markdown",
   "metadata": {},
   "source": [
    "***"
   ]
  }
 ],
 "metadata": {
  "kernelspec": {
   "display_name": "mcts-strength-variants-E8z0EJ47-py3.10",
   "language": "python",
   "name": "python3"
  },
  "language_info": {
   "codemirror_mode": {
    "name": "ipython",
    "version": 3
   },
   "file_extension": ".py",
   "mimetype": "text/x-python",
   "name": "python",
   "nbconvert_exporter": "python",
   "pygments_lexer": "ipython3",
   "version": "3.10.12"
  }
 },
 "nbformat": 4,
 "nbformat_minor": 2
}
