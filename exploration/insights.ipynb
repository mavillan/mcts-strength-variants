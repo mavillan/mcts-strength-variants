{
 "cells": [
  {
   "cell_type": "code",
   "execution_count": 1,
   "metadata": {},
   "outputs": [],
   "source": [
    "import pandas as pd\n",
    "import matplotlib.pyplot as plt"
   ]
  },
  {
   "cell_type": "markdown",
   "metadata": {},
   "source": [
    "***"
   ]
  },
  {
   "cell_type": "code",
   "execution_count": 2,
   "metadata": {},
   "outputs": [
    {
     "name": "stdout",
     "output_type": "stream",
     "text": [
      "concepts.csv          sample_submission.csv train.csv\n",
      "\u001b[1m\u001b[36mkaggle_evaluation\u001b[m\u001b[m     test.csv\n"
     ]
    }
   ],
   "source": [
    "!ls ../data/raw/"
   ]
  },
  {
   "cell_type": "code",
   "execution_count": 3,
   "metadata": {},
   "outputs": [
    {
     "name": "stdout",
     "output_type": "stream",
     "text": [
      "<class 'pandas.core.frame.DataFrame'>\n",
      "RangeIndex: 233234 entries, 0 to 233233\n",
      "Columns: 814 entries, Id to utility_agent1\n",
      "dtypes: float64(201), int64(608), object(5)\n",
      "memory usage: 1.4+ GB\n"
     ]
    }
   ],
   "source": [
    "df_train = pd.read_csv('../data/raw/train.csv')\n",
    "df_test = pd.read_csv('../data/raw/test.csv')\n",
    "df_sample_submission = pd.read_csv('../data/raw/sample_submission.csv')\n",
    "\n",
    "df_train.head()\n",
    "\n",
    "df_train.info()"
   ]
  },
  {
   "cell_type": "code",
   "execution_count": 4,
   "metadata": {},
   "outputs": [
    {
     "data": {
      "text/html": [
       "<div>\n",
       "<style scoped>\n",
       "    .dataframe tbody tr th:only-of-type {\n",
       "        vertical-align: middle;\n",
       "    }\n",
       "\n",
       "    .dataframe tbody tr th {\n",
       "        vertical-align: top;\n",
       "    }\n",
       "\n",
       "    .dataframe thead th {\n",
       "        text-align: right;\n",
       "    }\n",
       "</style>\n",
       "<table border=\"1\" class=\"dataframe\">\n",
       "  <thead>\n",
       "    <tr style=\"text-align: right;\">\n",
       "      <th></th>\n",
       "      <th>Id</th>\n",
       "      <th>Name</th>\n",
       "      <th>Description</th>\n",
       "      <th>TypeId</th>\n",
       "      <th>DataTypeId</th>\n",
       "      <th>ComputationTypeId</th>\n",
       "      <th>TaxonomyString</th>\n",
       "      <th>LeafNode</th>\n",
       "      <th>ShowOnWebsite</th>\n",
       "    </tr>\n",
       "  </thead>\n",
       "  <tbody>\n",
       "    <tr>\n",
       "      <th>0</th>\n",
       "      <td>1</td>\n",
       "      <td>Properties</td>\n",
       "      <td>General properties of the game.</td>\n",
       "      <td>1</td>\n",
       "      <td>1</td>\n",
       "      <td>1</td>\n",
       "      <td>1</td>\n",
       "      <td>0</td>\n",
       "      <td>0</td>\n",
       "    </tr>\n",
       "    <tr>\n",
       "      <th>1</th>\n",
       "      <td>2</td>\n",
       "      <td>Format</td>\n",
       "      <td>Format of the game.</td>\n",
       "      <td>1</td>\n",
       "      <td>1</td>\n",
       "      <td>1</td>\n",
       "      <td>1.1</td>\n",
       "      <td>0</td>\n",
       "      <td>0</td>\n",
       "    </tr>\n",
       "    <tr>\n",
       "      <th>2</th>\n",
       "      <td>3</td>\n",
       "      <td>Time</td>\n",
       "      <td>Time model.</td>\n",
       "      <td>1</td>\n",
       "      <td>1</td>\n",
       "      <td>1</td>\n",
       "      <td>1.1.1</td>\n",
       "      <td>0</td>\n",
       "      <td>0</td>\n",
       "    </tr>\n",
       "    <tr>\n",
       "      <th>3</th>\n",
       "      <td>4</td>\n",
       "      <td>Discrete</td>\n",
       "      <td>Players move at discrete intervals.</td>\n",
       "      <td>1</td>\n",
       "      <td>1</td>\n",
       "      <td>1</td>\n",
       "      <td>1.1.1.1</td>\n",
       "      <td>1</td>\n",
       "      <td>1</td>\n",
       "    </tr>\n",
       "    <tr>\n",
       "      <th>4</th>\n",
       "      <td>5</td>\n",
       "      <td>Realtime</td>\n",
       "      <td>Moves not discrete.</td>\n",
       "      <td>1</td>\n",
       "      <td>1</td>\n",
       "      <td>1</td>\n",
       "      <td>1.1.1.2</td>\n",
       "      <td>1</td>\n",
       "      <td>1</td>\n",
       "    </tr>\n",
       "    <tr>\n",
       "      <th>...</th>\n",
       "      <td>...</td>\n",
       "      <td>...</td>\n",
       "      <td>...</td>\n",
       "      <td>...</td>\n",
       "      <td>...</td>\n",
       "      <td>...</td>\n",
       "      <td>...</td>\n",
       "      <td>...</td>\n",
       "      <td>...</td>\n",
       "    </tr>\n",
       "    <tr>\n",
       "      <th>804</th>\n",
       "      <td>805</td>\n",
       "      <td>SkillTrace</td>\n",
       "      <td>Skill Trace.</td>\n",
       "      <td>7</td>\n",
       "      <td>1</td>\n",
       "      <td>2</td>\n",
       "      <td>4.13</td>\n",
       "      <td>0</td>\n",
       "      <td>1</td>\n",
       "    </tr>\n",
       "    <tr>\n",
       "      <th>805</th>\n",
       "      <td>806</td>\n",
       "      <td>SkillTraceScore</td>\n",
       "      <td>Skill Trace Score.</td>\n",
       "      <td>7</td>\n",
       "      <td>4</td>\n",
       "      <td>2</td>\n",
       "      <td>4.13.1</td>\n",
       "      <td>1</td>\n",
       "      <td>1</td>\n",
       "    </tr>\n",
       "    <tr>\n",
       "      <th>806</th>\n",
       "      <td>807</td>\n",
       "      <td>SkillTraceTrials</td>\n",
       "      <td>Skill Trace Trials.</td>\n",
       "      <td>7</td>\n",
       "      <td>4</td>\n",
       "      <td>2</td>\n",
       "      <td>4.13.2</td>\n",
       "      <td>1</td>\n",
       "      <td>1</td>\n",
       "    </tr>\n",
       "    <tr>\n",
       "      <th>807</th>\n",
       "      <td>808</td>\n",
       "      <td>SkillTraceErrorSlope</td>\n",
       "      <td>Skill Trace Error Slope.</td>\n",
       "      <td>7</td>\n",
       "      <td>4</td>\n",
       "      <td>2</td>\n",
       "      <td>4.13.3</td>\n",
       "      <td>1</td>\n",
       "      <td>1</td>\n",
       "    </tr>\n",
       "    <tr>\n",
       "      <th>808</th>\n",
       "      <td>809</td>\n",
       "      <td>SkillTraceErrorIntercept</td>\n",
       "      <td>Skill Trace Error Intercept.</td>\n",
       "      <td>7</td>\n",
       "      <td>4</td>\n",
       "      <td>2</td>\n",
       "      <td>4.13.4</td>\n",
       "      <td>1</td>\n",
       "      <td>1</td>\n",
       "    </tr>\n",
       "  </tbody>\n",
       "</table>\n",
       "<p>809 rows × 9 columns</p>\n",
       "</div>"
      ],
      "text/plain": [
       "      Id                      Name                          Description  \\\n",
       "0      1                Properties      General properties of the game.   \n",
       "1      2                    Format                  Format of the game.   \n",
       "2      3                      Time                          Time model.   \n",
       "3      4                  Discrete  Players move at discrete intervals.   \n",
       "4      5                  Realtime                  Moves not discrete.   \n",
       "..   ...                       ...                                  ...   \n",
       "804  805                SkillTrace                         Skill Trace.   \n",
       "805  806           SkillTraceScore                   Skill Trace Score.   \n",
       "806  807          SkillTraceTrials                  Skill Trace Trials.   \n",
       "807  808      SkillTraceErrorSlope             Skill Trace Error Slope.   \n",
       "808  809  SkillTraceErrorIntercept         Skill Trace Error Intercept.   \n",
       "\n",
       "     TypeId  DataTypeId  ComputationTypeId TaxonomyString  LeafNode  \\\n",
       "0         1           1                  1              1         0   \n",
       "1         1           1                  1            1.1         0   \n",
       "2         1           1                  1          1.1.1         0   \n",
       "3         1           1                  1        1.1.1.1         1   \n",
       "4         1           1                  1        1.1.1.2         1   \n",
       "..      ...         ...                ...            ...       ...   \n",
       "804       7           1                  2           4.13         0   \n",
       "805       7           4                  2         4.13.1         1   \n",
       "806       7           4                  2         4.13.2         1   \n",
       "807       7           4                  2         4.13.3         1   \n",
       "808       7           4                  2         4.13.4         1   \n",
       "\n",
       "     ShowOnWebsite  \n",
       "0                0  \n",
       "1                0  \n",
       "2                0  \n",
       "3                1  \n",
       "4                1  \n",
       "..             ...  \n",
       "804              1  \n",
       "805              1  \n",
       "806              1  \n",
       "807              1  \n",
       "808              1  \n",
       "\n",
       "[809 rows x 9 columns]"
      ]
     },
     "execution_count": 4,
     "metadata": {},
     "output_type": "execute_result"
    }
   ],
   "source": [
    "concepts = pd.read_csv('../data/raw/concepts.csv')\n",
    "concepts"
   ]
  },
  {
   "cell_type": "code",
   "execution_count": 5,
   "metadata": {},
   "outputs": [
    {
     "data": {
      "text/plain": [
       "Index(['Id', 'Properties', 'Format', 'Time', 'Discrete', 'Realtime', 'Turns',\n",
       "       'Alternating', 'Simultaneous', 'Stochastic',\n",
       "       ...\n",
       "       'Then', 'ForEachPiece', 'DoLudeme', 'Trigger', 'PlayoutsPerSecond',\n",
       "       'MovesPerSecond', 'num_wins_agent1', 'num_draws_agent1',\n",
       "       'num_losses_agent1', 'utility_agent1'],\n",
       "      dtype='object', length=809)"
      ]
     },
     "execution_count": 5,
     "metadata": {},
     "output_type": "execute_result"
    }
   ],
   "source": [
    "# check columns that are numerical\n",
    "df_train.select_dtypes(include=['number']).columns"
   ]
  },
  {
   "cell_type": "code",
   "execution_count": 6,
   "metadata": {},
   "outputs": [
    {
     "data": {
      "text/plain": [
       "Index(['GameRulesetName', 'agent1', 'agent2', 'EnglishRules', 'LudRules'], dtype='object')"
      ]
     },
     "execution_count": 6,
     "metadata": {},
     "output_type": "execute_result"
    }
   ],
   "source": [
    "# check columns that are categorical\n",
    "df_train.select_dtypes(include=['object']).columns\n"
   ]
  },
  {
   "cell_type": "code",
   "execution_count": 7,
   "metadata": {},
   "outputs": [
    {
     "data": {
      "text/plain": [
       "GameRulesetName\n",
       "Pathway                                          222\n",
       "Double_Chess                                     214\n",
       "Greater_Even_Loss                                212\n",
       "Resolve                                          212\n",
       "Ludus_Latrunculorum8x8_Seega_Rules_Suggested     210\n",
       "                                                ... \n",
       "Bheri_Bakhri                                      72\n",
       "58_HolesTab_Parallel_Connections_D6_Suggested     72\n",
       "CeelkoqyuqkoqijiFourteen_holes_Observed           72\n",
       "58_HolesTab_Unmarked_Suggested                    70\n",
       "Faraday                                            4\n",
       "Name: count, Length: 1377, dtype: int64"
      ]
     },
     "execution_count": 7,
     "metadata": {},
     "output_type": "execute_result"
    }
   ],
   "source": [
    "df_train[\"GameRulesetName\"].value_counts()"
   ]
  },
  {
   "cell_type": "code",
   "execution_count": 8,
   "metadata": {},
   "outputs": [
    {
     "data": {
      "text/plain": [
       "agent1\n",
       "MCTS-UCB1Tuned-0.1-MAST-false             3603\n",
       "MCTS-UCB1GRAVE-0.1-Random200-false        3598\n",
       "MCTS-UCB1GRAVE-0.1-MAST-false             3579\n",
       "MCTS-UCB1GRAVE-1.41421356237-NST-false    3550\n",
       "MCTS-UCB1Tuned-0.1-NST-false              3545\n",
       "                                          ... \n",
       "MCTS-UCB1GRAVE-0.1-NST-true               2952\n",
       "MCTS-ProgressiveHistory-0.6-NST-true      2951\n",
       "MCTS-UCB1Tuned-0.6-NST-true               2950\n",
       "MCTS-UCB1-1.41421356237-Random200-true    2934\n",
       "MCTS-ProgressiveHistory-0.1-NST-true      2896\n",
       "Name: count, Length: 72, dtype: int64"
      ]
     },
     "execution_count": 8,
     "metadata": {},
     "output_type": "execute_result"
    }
   ],
   "source": [
    "df_train[\"agent1\"].value_counts()"
   ]
  },
  {
   "cell_type": "code",
   "execution_count": 9,
   "metadata": {},
   "outputs": [
    {
     "data": {
      "text/plain": [
       "agent2\n",
       "MCTS-UCB1Tuned-0.1-MAST-false             3603\n",
       "MCTS-UCB1GRAVE-0.1-Random200-false        3598\n",
       "MCTS-UCB1GRAVE-0.1-MAST-false             3579\n",
       "MCTS-UCB1GRAVE-1.41421356237-NST-false    3550\n",
       "MCTS-UCB1Tuned-0.1-NST-false              3545\n",
       "                                          ... \n",
       "MCTS-UCB1GRAVE-0.1-NST-true               2952\n",
       "MCTS-ProgressiveHistory-0.6-NST-true      2951\n",
       "MCTS-UCB1Tuned-0.6-NST-true               2950\n",
       "MCTS-UCB1-1.41421356237-Random200-true    2934\n",
       "MCTS-ProgressiveHistory-0.1-NST-true      2896\n",
       "Name: count, Length: 72, dtype: int64"
      ]
     },
     "execution_count": 9,
     "metadata": {},
     "output_type": "execute_result"
    }
   ],
   "source": [
    "df_train[\"agent2\"].value_counts()"
   ]
  },
  {
   "cell_type": "code",
   "execution_count": 10,
   "metadata": {},
   "outputs": [
    {
     "data": {
      "text/plain": [
       "1328"
      ]
     },
     "execution_count": 10,
     "metadata": {},
     "output_type": "execute_result"
    }
   ],
   "source": [
    "df_train[\"EnglishRules\"].nunique()"
   ]
  },
  {
   "cell_type": "code",
   "execution_count": 11,
   "metadata": {},
   "outputs": [
    {
     "data": {
      "text/plain": [
       "1373"
      ]
     },
     "execution_count": 11,
     "metadata": {},
     "output_type": "execute_result"
    }
   ],
   "source": [
    "df_train[\"LudRules\"].nunique()"
   ]
  },
  {
   "cell_type": "markdown",
   "metadata": {},
   "source": [
    "***"
   ]
  },
  {
   "cell_type": "code",
   "execution_count": 19,
   "metadata": {},
   "outputs": [],
   "source": [
    "df_train['Game'] = df_train['LudRules'].apply(lambda x: x.split('\"')[1])"
   ]
  },
  {
   "cell_type": "code",
   "execution_count": 17,
   "metadata": {},
   "outputs": [
    {
     "data": {
      "text/plain": [
       "1030"
      ]
     },
     "execution_count": 17,
     "metadata": {},
     "output_type": "execute_result"
    }
   ],
   "source": [
    "df_train['Game'].nunique()"
   ]
  },
  {
   "cell_type": "code",
   "execution_count": 20,
   "metadata": {},
   "outputs": [
    {
     "data": {
      "text/plain": [
       "Game\n",
       "Ludus Coriovalli       24626\n",
       "Ludus Latrunculorum     5390\n",
       "58 Holes                4550\n",
       "Ratio                   2516\n",
       "Senet                   1688\n",
       "                       ...  \n",
       "Dice Chess                76\n",
       "Puluc                     74\n",
       "Lange Puff                74\n",
       "Bheri Bakhri              72\n",
       "Faraday                    4\n",
       "Name: count, Length: 1030, dtype: int64"
      ]
     },
     "execution_count": 20,
     "metadata": {},
     "output_type": "execute_result"
    }
   ],
   "source": [
    "df_train['Game'].value_counts()"
   ]
  },
  {
   "cell_type": "code",
   "execution_count": 18,
   "metadata": {},
   "outputs": [
    {
     "data": {
      "text/plain": [
       "1377"
      ]
     },
     "execution_count": 18,
     "metadata": {},
     "output_type": "execute_result"
    }
   ],
   "source": [
    "df_train['GameRulesetName'].nunique()"
   ]
  },
  {
   "cell_type": "code",
   "execution_count": 21,
   "metadata": {},
   "outputs": [
    {
     "data": {
      "text/plain": [
       "GameRulesetName\n",
       "Pathway                                          222\n",
       "Double_Chess                                     214\n",
       "Greater_Even_Loss                                212\n",
       "Resolve                                          212\n",
       "Ludus_Latrunculorum8x8_Seega_Rules_Suggested     210\n",
       "                                                ... \n",
       "Bheri_Bakhri                                      72\n",
       "58_HolesTab_Parallel_Connections_D6_Suggested     72\n",
       "CeelkoqyuqkoqijiFourteen_holes_Observed           72\n",
       "58_HolesTab_Unmarked_Suggested                    70\n",
       "Faraday                                            4\n",
       "Name: count, Length: 1377, dtype: int64"
      ]
     },
     "execution_count": 21,
     "metadata": {},
     "output_type": "execute_result"
    }
   ],
   "source": [
    "df_train['GameRulesetName'].value_counts()"
   ]
  },
  {
   "cell_type": "markdown",
   "metadata": {},
   "source": [
    "***"
   ]
  }
 ],
 "metadata": {
  "kernelspec": {
   "display_name": "mcts-strength-variants-kSTIVMm8-py3.10",
   "language": "python",
   "name": "python3"
  },
  "language_info": {
   "codemirror_mode": {
    "name": "ipython",
    "version": 3
   },
   "file_extension": ".py",
   "mimetype": "text/x-python",
   "name": "python",
   "nbconvert_exporter": "python",
   "pygments_lexer": "ipython3",
   "version": "3.10.14"
  }
 },
 "nbformat": 4,
 "nbformat_minor": 2
}
