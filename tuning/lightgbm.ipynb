{
 "cells": [
  {
   "cell_type": "code",
   "execution_count": 1,
   "id": "ec0de1ef",
   "metadata": {
    "execution": {
     "iopub.execute_input": "2024-09-28T16:04:18.614886Z",
     "iopub.status.busy": "2024-09-28T16:04:18.614417Z",
     "iopub.status.idle": "2024-09-28T16:04:20.615889Z",
     "shell.execute_reply": "2024-09-28T16:04:20.615481Z"
    },
    "papermill": {
     "duration": 2.008861,
     "end_time": "2024-09-28T16:04:20.617243",
     "exception": false,
     "start_time": "2024-09-28T16:04:18.608382",
     "status": "completed"
    },
    "tags": []
   },
   "outputs": [
    {
     "name": "stdout",
     "output_type": "stream",
     "text": [
      "Lightgbm version: 4.5.0\n"
     ]
    },
    {
     "name": "stderr",
     "output_type": "stream",
     "text": [
      "/Users/mavillan/Library/Caches/pypoetry/virtualenvs/mcts-strength-variants-E8z0EJ47-py3.10/lib/python3.10/site-packages/tqdm/auto.py:21: TqdmWarning: IProgress not found. Please update jupyter and ipywidgets. See https://ipywidgets.readthedocs.io/en/stable/user_install.html\n",
      "  from .autonotebook import tqdm as notebook_tqdm\n"
     ]
    },
    {
     "name": "stdout",
     "output_type": "stream",
     "text": [
      "Optuna version: 4.0.0\n"
     ]
    }
   ],
   "source": [
    "import numpy as np\n",
    "import pandas as pd\n",
    "from pathlib import Path\n",
    "import json\n",
    "\n",
    "import lightgbm as lgb\n",
    "from sklearn.model_selection import GroupKFold\n",
    "\n",
    "print(\"Lightgbm version:\", lgb.__version__)\n",
    "\n",
    "import optuna\n",
    "from optuna.visualization import (\n",
    "    plot_edf\n",
    "    , plot_optimization_history\n",
    "    , plot_parallel_coordinate\n",
    "    , plot_param_importances\n",
    "    , plot_slice\n",
    ")\n",
    "\n",
    "print(\"Optuna version:\", optuna.__version__)\n",
    "\n",
    "# local modules\n",
    "import sys\n",
    "sys.path.append(\"../src\")\n",
    "from preproc import process_train_data"
   ]
  },
  {
   "cell_type": "markdown",
   "id": "5b24d8a2",
   "metadata": {
    "papermill": {
     "duration": 0.001015,
     "end_time": "2024-09-28T16:04:20.619996",
     "exception": false,
     "start_time": "2024-09-28T16:04:20.618981",
     "status": "completed"
    },
    "tags": []
   },
   "source": [
    "***\n",
    "### load and preprocess data"
   ]
  },
  {
   "cell_type": "code",
   "execution_count": 2,
   "id": "7c89cd9d",
   "metadata": {
    "execution": {
     "iopub.execute_input": "2024-09-28T16:04:20.622626Z",
     "iopub.status.busy": "2024-09-28T16:04:20.622407Z",
     "iopub.status.idle": "2024-09-28T16:04:26.979221Z",
     "shell.execute_reply": "2024-09-28T16:04:26.978970Z"
    },
    "papermill": {
     "duration": 6.359162,
     "end_time": "2024-09-28T16:04:26.980076",
     "exception": false,
     "start_time": "2024-09-28T16:04:20.620914",
     "status": "completed"
    },
    "tags": []
   },
   "outputs": [
    {
     "data": {
      "text/html": [
       "<div>\n",
       "<style scoped>\n",
       "    .dataframe tbody tr th:only-of-type {\n",
       "        vertical-align: middle;\n",
       "    }\n",
       "\n",
       "    .dataframe tbody tr th {\n",
       "        vertical-align: top;\n",
       "    }\n",
       "\n",
       "    .dataframe thead th {\n",
       "        text-align: right;\n",
       "    }\n",
       "</style>\n",
       "<table border=\"1\" class=\"dataframe\">\n",
       "  <thead>\n",
       "    <tr style=\"text-align: right;\">\n",
       "      <th></th>\n",
       "      <th>Id</th>\n",
       "      <th>GameRulesetName</th>\n",
       "      <th>agent1</th>\n",
       "      <th>agent2</th>\n",
       "      <th>Properties</th>\n",
       "      <th>Format</th>\n",
       "      <th>Time</th>\n",
       "      <th>Discrete</th>\n",
       "      <th>Realtime</th>\n",
       "      <th>Turns</th>\n",
       "      <th>...</th>\n",
       "      <th>DoLudeme</th>\n",
       "      <th>Trigger</th>\n",
       "      <th>PlayoutsPerSecond</th>\n",
       "      <th>MovesPerSecond</th>\n",
       "      <th>EnglishRules</th>\n",
       "      <th>LudRules</th>\n",
       "      <th>num_wins_agent1</th>\n",
       "      <th>num_draws_agent1</th>\n",
       "      <th>num_losses_agent1</th>\n",
       "      <th>utility_agent1</th>\n",
       "    </tr>\n",
       "  </thead>\n",
       "  <tbody>\n",
       "    <tr>\n",
       "      <th>0</th>\n",
       "      <td>0</td>\n",
       "      <td>00Y</td>\n",
       "      <td>MCTS-ProgressiveHistory-0.1-MAST-false</td>\n",
       "      <td>MCTS-ProgressiveHistory-0.6-Random200-false</td>\n",
       "      <td>1</td>\n",
       "      <td>1</td>\n",
       "      <td>1</td>\n",
       "      <td>1</td>\n",
       "      <td>0</td>\n",
       "      <td>1</td>\n",
       "      <td>...</td>\n",
       "      <td>0</td>\n",
       "      <td>1</td>\n",
       "      <td>298.07</td>\n",
       "      <td>18877.17</td>\n",
       "      <td>Goal: Connect all three edge colors with a sin...</td>\n",
       "      <td>(game \"00'Y'\" (players 2) (equipment { (board ...</td>\n",
       "      <td>4</td>\n",
       "      <td>0</td>\n",
       "      <td>11</td>\n",
       "      <td>-0.466667</td>\n",
       "    </tr>\n",
       "    <tr>\n",
       "      <th>1</th>\n",
       "      <td>1</td>\n",
       "      <td>00Y</td>\n",
       "      <td>MCTS-ProgressiveHistory-0.1-MAST-false</td>\n",
       "      <td>MCTS-UCB1GRAVE-0.6-NST-true</td>\n",
       "      <td>1</td>\n",
       "      <td>1</td>\n",
       "      <td>1</td>\n",
       "      <td>1</td>\n",
       "      <td>0</td>\n",
       "      <td>1</td>\n",
       "      <td>...</td>\n",
       "      <td>0</td>\n",
       "      <td>1</td>\n",
       "      <td>298.07</td>\n",
       "      <td>18877.17</td>\n",
       "      <td>Goal: Connect all three edge colors with a sin...</td>\n",
       "      <td>(game \"00'Y'\" (players 2) (equipment { (board ...</td>\n",
       "      <td>5</td>\n",
       "      <td>0</td>\n",
       "      <td>10</td>\n",
       "      <td>-0.333333</td>\n",
       "    </tr>\n",
       "    <tr>\n",
       "      <th>2</th>\n",
       "      <td>2</td>\n",
       "      <td>00Y</td>\n",
       "      <td>MCTS-ProgressiveHistory-0.1-MAST-true</td>\n",
       "      <td>MCTS-UCB1-0.1-NST-false</td>\n",
       "      <td>1</td>\n",
       "      <td>1</td>\n",
       "      <td>1</td>\n",
       "      <td>1</td>\n",
       "      <td>0</td>\n",
       "      <td>1</td>\n",
       "      <td>...</td>\n",
       "      <td>0</td>\n",
       "      <td>1</td>\n",
       "      <td>298.07</td>\n",
       "      <td>18877.17</td>\n",
       "      <td>Goal: Connect all three edge colors with a sin...</td>\n",
       "      <td>(game \"00'Y'\" (players 2) (equipment { (board ...</td>\n",
       "      <td>7</td>\n",
       "      <td>0</td>\n",
       "      <td>8</td>\n",
       "      <td>-0.066667</td>\n",
       "    </tr>\n",
       "    <tr>\n",
       "      <th>3</th>\n",
       "      <td>3</td>\n",
       "      <td>00Y</td>\n",
       "      <td>MCTS-ProgressiveHistory-0.1-MAST-true</td>\n",
       "      <td>MCTS-UCB1-0.6-NST-false</td>\n",
       "      <td>1</td>\n",
       "      <td>1</td>\n",
       "      <td>1</td>\n",
       "      <td>1</td>\n",
       "      <td>0</td>\n",
       "      <td>1</td>\n",
       "      <td>...</td>\n",
       "      <td>0</td>\n",
       "      <td>1</td>\n",
       "      <td>298.07</td>\n",
       "      <td>18877.17</td>\n",
       "      <td>Goal: Connect all three edge colors with a sin...</td>\n",
       "      <td>(game \"00'Y'\" (players 2) (equipment { (board ...</td>\n",
       "      <td>5</td>\n",
       "      <td>0</td>\n",
       "      <td>10</td>\n",
       "      <td>-0.333333</td>\n",
       "    </tr>\n",
       "    <tr>\n",
       "      <th>4</th>\n",
       "      <td>4</td>\n",
       "      <td>00Y</td>\n",
       "      <td>MCTS-ProgressiveHistory-0.1-MAST-true</td>\n",
       "      <td>MCTS-UCB1GRAVE-1.41421356237-NST-false</td>\n",
       "      <td>1</td>\n",
       "      <td>1</td>\n",
       "      <td>1</td>\n",
       "      <td>1</td>\n",
       "      <td>0</td>\n",
       "      <td>1</td>\n",
       "      <td>...</td>\n",
       "      <td>0</td>\n",
       "      <td>1</td>\n",
       "      <td>298.07</td>\n",
       "      <td>18877.17</td>\n",
       "      <td>Goal: Connect all three edge colors with a sin...</td>\n",
       "      <td>(game \"00'Y'\" (players 2) (equipment { (board ...</td>\n",
       "      <td>5</td>\n",
       "      <td>0</td>\n",
       "      <td>10</td>\n",
       "      <td>-0.333333</td>\n",
       "    </tr>\n",
       "    <tr>\n",
       "      <th>...</th>\n",
       "      <td>...</td>\n",
       "      <td>...</td>\n",
       "      <td>...</td>\n",
       "      <td>...</td>\n",
       "      <td>...</td>\n",
       "      <td>...</td>\n",
       "      <td>...</td>\n",
       "      <td>...</td>\n",
       "      <td>...</td>\n",
       "      <td>...</td>\n",
       "      <td>...</td>\n",
       "      <td>...</td>\n",
       "      <td>...</td>\n",
       "      <td>...</td>\n",
       "      <td>...</td>\n",
       "      <td>...</td>\n",
       "      <td>...</td>\n",
       "      <td>...</td>\n",
       "      <td>...</td>\n",
       "      <td>...</td>\n",
       "      <td>...</td>\n",
       "    </tr>\n",
       "    <tr>\n",
       "      <th>233229</th>\n",
       "      <td>233229</td>\n",
       "      <td>Zuz_Mel_7x7</td>\n",
       "      <td>MCTS-UCB1Tuned-1.41421356237-NST-false</td>\n",
       "      <td>MCTS-ProgressiveHistory-1.41421356237-Random20...</td>\n",
       "      <td>1</td>\n",
       "      <td>1</td>\n",
       "      <td>1</td>\n",
       "      <td>1</td>\n",
       "      <td>0</td>\n",
       "      <td>1</td>\n",
       "      <td>...</td>\n",
       "      <td>0</td>\n",
       "      <td>0</td>\n",
       "      <td>157.52</td>\n",
       "      <td>157174.58</td>\n",
       "      <td>7x7 board. 24 pieces per player. Pieces begin ...</td>\n",
       "      <td>(game \"Zuz Mel (7x7)\" (players 2) (equipment {...</td>\n",
       "      <td>2</td>\n",
       "      <td>0</td>\n",
       "      <td>13</td>\n",
       "      <td>-0.733333</td>\n",
       "    </tr>\n",
       "    <tr>\n",
       "      <th>233230</th>\n",
       "      <td>233230</td>\n",
       "      <td>Zuz_Mel_7x7</td>\n",
       "      <td>MCTS-UCB1Tuned-1.41421356237-Random200-false</td>\n",
       "      <td>MCTS-UCB1-0.6-MAST-false</td>\n",
       "      <td>1</td>\n",
       "      <td>1</td>\n",
       "      <td>1</td>\n",
       "      <td>1</td>\n",
       "      <td>0</td>\n",
       "      <td>1</td>\n",
       "      <td>...</td>\n",
       "      <td>0</td>\n",
       "      <td>0</td>\n",
       "      <td>157.52</td>\n",
       "      <td>157174.58</td>\n",
       "      <td>7x7 board. 24 pieces per player. Pieces begin ...</td>\n",
       "      <td>(game \"Zuz Mel (7x7)\" (players 2) (equipment {...</td>\n",
       "      <td>9</td>\n",
       "      <td>1</td>\n",
       "      <td>5</td>\n",
       "      <td>0.266667</td>\n",
       "    </tr>\n",
       "    <tr>\n",
       "      <th>233231</th>\n",
       "      <td>233231</td>\n",
       "      <td>Zuz_Mel_7x7</td>\n",
       "      <td>MCTS-UCB1Tuned-1.41421356237-Random200-false</td>\n",
       "      <td>MCTS-UCB1GRAVE-1.41421356237-NST-false</td>\n",
       "      <td>1</td>\n",
       "      <td>1</td>\n",
       "      <td>1</td>\n",
       "      <td>1</td>\n",
       "      <td>0</td>\n",
       "      <td>1</td>\n",
       "      <td>...</td>\n",
       "      <td>0</td>\n",
       "      <td>0</td>\n",
       "      <td>157.52</td>\n",
       "      <td>157174.58</td>\n",
       "      <td>7x7 board. 24 pieces per player. Pieces begin ...</td>\n",
       "      <td>(game \"Zuz Mel (7x7)\" (players 2) (equipment {...</td>\n",
       "      <td>11</td>\n",
       "      <td>3</td>\n",
       "      <td>1</td>\n",
       "      <td>0.666667</td>\n",
       "    </tr>\n",
       "    <tr>\n",
       "      <th>233232</th>\n",
       "      <td>233232</td>\n",
       "      <td>Zuz_Mel_7x7</td>\n",
       "      <td>MCTS-UCB1Tuned-1.41421356237-Random200-false</td>\n",
       "      <td>MCTS-UCB1GRAVE-1.41421356237-NST-true</td>\n",
       "      <td>1</td>\n",
       "      <td>1</td>\n",
       "      <td>1</td>\n",
       "      <td>1</td>\n",
       "      <td>0</td>\n",
       "      <td>1</td>\n",
       "      <td>...</td>\n",
       "      <td>0</td>\n",
       "      <td>0</td>\n",
       "      <td>157.52</td>\n",
       "      <td>157174.58</td>\n",
       "      <td>7x7 board. 24 pieces per player. Pieces begin ...</td>\n",
       "      <td>(game \"Zuz Mel (7x7)\" (players 2) (equipment {...</td>\n",
       "      <td>24</td>\n",
       "      <td>2</td>\n",
       "      <td>4</td>\n",
       "      <td>0.666667</td>\n",
       "    </tr>\n",
       "    <tr>\n",
       "      <th>233233</th>\n",
       "      <td>233233</td>\n",
       "      <td>Zuz_Mel_7x7</td>\n",
       "      <td>MCTS-UCB1Tuned-1.41421356237-Random200-true</td>\n",
       "      <td>MCTS-UCB1Tuned-0.6-MAST-false</td>\n",
       "      <td>1</td>\n",
       "      <td>1</td>\n",
       "      <td>1</td>\n",
       "      <td>1</td>\n",
       "      <td>0</td>\n",
       "      <td>1</td>\n",
       "      <td>...</td>\n",
       "      <td>0</td>\n",
       "      <td>0</td>\n",
       "      <td>157.52</td>\n",
       "      <td>157174.58</td>\n",
       "      <td>7x7 board. 24 pieces per player. Pieces begin ...</td>\n",
       "      <td>(game \"Zuz Mel (7x7)\" (players 2) (equipment {...</td>\n",
       "      <td>9</td>\n",
       "      <td>1</td>\n",
       "      <td>5</td>\n",
       "      <td>0.266667</td>\n",
       "    </tr>\n",
       "  </tbody>\n",
       "</table>\n",
       "<p>233234 rows × 814 columns</p>\n",
       "</div>"
      ],
      "text/plain": [
       "            Id GameRulesetName                                        agent1  \\\n",
       "0            0             00Y        MCTS-ProgressiveHistory-0.1-MAST-false   \n",
       "1            1             00Y        MCTS-ProgressiveHistory-0.1-MAST-false   \n",
       "2            2             00Y         MCTS-ProgressiveHistory-0.1-MAST-true   \n",
       "3            3             00Y         MCTS-ProgressiveHistory-0.1-MAST-true   \n",
       "4            4             00Y         MCTS-ProgressiveHistory-0.1-MAST-true   \n",
       "...        ...             ...                                           ...   \n",
       "233229  233229     Zuz_Mel_7x7        MCTS-UCB1Tuned-1.41421356237-NST-false   \n",
       "233230  233230     Zuz_Mel_7x7  MCTS-UCB1Tuned-1.41421356237-Random200-false   \n",
       "233231  233231     Zuz_Mel_7x7  MCTS-UCB1Tuned-1.41421356237-Random200-false   \n",
       "233232  233232     Zuz_Mel_7x7  MCTS-UCB1Tuned-1.41421356237-Random200-false   \n",
       "233233  233233     Zuz_Mel_7x7   MCTS-UCB1Tuned-1.41421356237-Random200-true   \n",
       "\n",
       "                                                   agent2  Properties  Format  \\\n",
       "0             MCTS-ProgressiveHistory-0.6-Random200-false           1       1   \n",
       "1                             MCTS-UCB1GRAVE-0.6-NST-true           1       1   \n",
       "2                                 MCTS-UCB1-0.1-NST-false           1       1   \n",
       "3                                 MCTS-UCB1-0.6-NST-false           1       1   \n",
       "4                  MCTS-UCB1GRAVE-1.41421356237-NST-false           1       1   \n",
       "...                                                   ...         ...     ...   \n",
       "233229  MCTS-ProgressiveHistory-1.41421356237-Random20...           1       1   \n",
       "233230                           MCTS-UCB1-0.6-MAST-false           1       1   \n",
       "233231             MCTS-UCB1GRAVE-1.41421356237-NST-false           1       1   \n",
       "233232              MCTS-UCB1GRAVE-1.41421356237-NST-true           1       1   \n",
       "233233                      MCTS-UCB1Tuned-0.6-MAST-false           1       1   \n",
       "\n",
       "        Time  Discrete  Realtime  Turns  ...  DoLudeme  Trigger  \\\n",
       "0          1         1         0      1  ...         0        1   \n",
       "1          1         1         0      1  ...         0        1   \n",
       "2          1         1         0      1  ...         0        1   \n",
       "3          1         1         0      1  ...         0        1   \n",
       "4          1         1         0      1  ...         0        1   \n",
       "...      ...       ...       ...    ...  ...       ...      ...   \n",
       "233229     1         1         0      1  ...         0        0   \n",
       "233230     1         1         0      1  ...         0        0   \n",
       "233231     1         1         0      1  ...         0        0   \n",
       "233232     1         1         0      1  ...         0        0   \n",
       "233233     1         1         0      1  ...         0        0   \n",
       "\n",
       "        PlayoutsPerSecond  MovesPerSecond  \\\n",
       "0                  298.07        18877.17   \n",
       "1                  298.07        18877.17   \n",
       "2                  298.07        18877.17   \n",
       "3                  298.07        18877.17   \n",
       "4                  298.07        18877.17   \n",
       "...                   ...             ...   \n",
       "233229             157.52       157174.58   \n",
       "233230             157.52       157174.58   \n",
       "233231             157.52       157174.58   \n",
       "233232             157.52       157174.58   \n",
       "233233             157.52       157174.58   \n",
       "\n",
       "                                             EnglishRules  \\\n",
       "0       Goal: Connect all three edge colors with a sin...   \n",
       "1       Goal: Connect all three edge colors with a sin...   \n",
       "2       Goal: Connect all three edge colors with a sin...   \n",
       "3       Goal: Connect all three edge colors with a sin...   \n",
       "4       Goal: Connect all three edge colors with a sin...   \n",
       "...                                                   ...   \n",
       "233229  7x7 board. 24 pieces per player. Pieces begin ...   \n",
       "233230  7x7 board. 24 pieces per player. Pieces begin ...   \n",
       "233231  7x7 board. 24 pieces per player. Pieces begin ...   \n",
       "233232  7x7 board. 24 pieces per player. Pieces begin ...   \n",
       "233233  7x7 board. 24 pieces per player. Pieces begin ...   \n",
       "\n",
       "                                                 LudRules  num_wins_agent1  \\\n",
       "0       (game \"00'Y'\" (players 2) (equipment { (board ...                4   \n",
       "1       (game \"00'Y'\" (players 2) (equipment { (board ...                5   \n",
       "2       (game \"00'Y'\" (players 2) (equipment { (board ...                7   \n",
       "3       (game \"00'Y'\" (players 2) (equipment { (board ...                5   \n",
       "4       (game \"00'Y'\" (players 2) (equipment { (board ...                5   \n",
       "...                                                   ...              ...   \n",
       "233229  (game \"Zuz Mel (7x7)\" (players 2) (equipment {...                2   \n",
       "233230  (game \"Zuz Mel (7x7)\" (players 2) (equipment {...                9   \n",
       "233231  (game \"Zuz Mel (7x7)\" (players 2) (equipment {...               11   \n",
       "233232  (game \"Zuz Mel (7x7)\" (players 2) (equipment {...               24   \n",
       "233233  (game \"Zuz Mel (7x7)\" (players 2) (equipment {...                9   \n",
       "\n",
       "        num_draws_agent1  num_losses_agent1  utility_agent1  \n",
       "0                      0                 11       -0.466667  \n",
       "1                      0                 10       -0.333333  \n",
       "2                      0                  8       -0.066667  \n",
       "3                      0                 10       -0.333333  \n",
       "4                      0                 10       -0.333333  \n",
       "...                  ...                ...             ...  \n",
       "233229                 0                 13       -0.733333  \n",
       "233230                 1                  5        0.266667  \n",
       "233231                 3                  1        0.666667  \n",
       "233232                 2                  4        0.666667  \n",
       "233233                 1                  5        0.266667  \n",
       "\n",
       "[233234 rows x 814 columns]"
      ]
     },
     "execution_count": 2,
     "metadata": {},
     "output_type": "execute_result"
    }
   ],
   "source": [
    "# define some paths\n",
    "path_raw = Path(\"../data/raw\")\n",
    "path_processed = Path(\"../data/processed\")\n",
    "path_results = Path(\"../data/results\")\n",
    "\n",
    "# load data\n",
    "df_train = pd.read_csv(path_raw / \"train.csv\")\n",
    "df_test = pd.read_csv(path_raw / \"test.csv\")\n",
    "\n",
    "df_train"
   ]
  },
  {
   "cell_type": "code",
   "execution_count": 3,
   "id": "66ed21bb",
   "metadata": {},
   "outputs": [
    {
     "name": "stdout",
     "output_type": "stream",
     "text": [
      "Numerical features: 281\n",
      "Categorical features: 6\n"
     ]
    }
   ],
   "source": [
    "# Load the feature selection results\n",
    "with open('../feat_selection/select_optuna_lgbm.json', 'r') as f:\n",
    "    feature_selection = json.load(f)\n",
    "\n",
    "# Extract the selected features\n",
    "numerical_cols = feature_selection.get('numerical', [])\n",
    "categorical_cols = feature_selection.get('categorical', [])\n",
    "\n",
    "print(\"Numerical features:\", len(numerical_cols))\n",
    "print(\"Categorical features:\", len(categorical_cols))"
   ]
  },
  {
   "cell_type": "code",
   "execution_count": 4,
   "id": "09260e31",
   "metadata": {
    "execution": {
     "iopub.execute_input": "2024-09-28T16:04:26.983331Z",
     "iopub.status.busy": "2024-09-28T16:04:26.983213Z",
     "iopub.status.idle": "2024-09-28T16:04:29.602463Z",
     "shell.execute_reply": "2024-09-28T16:04:29.602165Z"
    },
    "papermill": {
     "duration": 2.621724,
     "end_time": "2024-09-28T16:04:29.603422",
     "exception": false,
     "start_time": "2024-09-28T16:04:26.981698",
     "status": "completed"
    },
    "tags": []
   },
   "outputs": [
    {
     "name": "stdout",
     "output_type": "stream",
     "text": [
      "number of all nan cols:  0\n",
      "number of constant cols:  0\n",
      "Numerical Columns: 281\n",
      "Categorical Columns: 6\n"
     ]
    }
   ],
   "source": [
    "df_train, numerical_cols, categorical_cols, encoder, scaler = process_train_data(\n",
    "    df_train,\n",
    "    scale=False,\n",
    "    numerical_cols=numerical_cols,\n",
    "    categorical_cols=categorical_cols\n",
    ")\n",
    "\n",
    "# Print the results\n",
    "print(\"Numerical Columns:\", len(numerical_cols))\n",
    "print(\"Categorical Columns:\", len(categorical_cols))"
   ]
  },
  {
   "cell_type": "markdown",
   "id": "585a47da",
   "metadata": {
    "papermill": {
     "duration": 0.001529,
     "end_time": "2024-09-28T16:04:31.215374",
     "exception": false,
     "start_time": "2024-09-28T16:04:31.213845",
     "status": "completed"
    },
    "tags": []
   },
   "source": [
    "***\n",
    "### optimization\n",
    "\n"
   ]
  },
  {
   "cell_type": "code",
   "execution_count": 5,
   "id": "8ddbd0c4",
   "metadata": {},
   "outputs": [],
   "source": [
    "# Define the number of folds for cross-validation\n",
    "num_folds = 5\n",
    "\n",
    "# Shuffle the train dataset\n",
    "df_train = df_train.sample(frac=1, random_state=2113).reset_index(drop=True)\n",
    "\n",
    "# Define the column for stratified or group k-fold\n",
    "groups_col = 'GameRulesetName'\n",
    "gkf = GroupKFold(n_splits=num_folds)\n",
    "split_list = list(gkf.split(df_train, groups=df_train[groups_col]))"
   ]
  },
  {
   "cell_type": "code",
   "execution_count": 6,
   "id": "152941ef",
   "metadata": {
    "execution": {
     "iopub.execute_input": "2024-09-28T16:04:31.218863Z",
     "iopub.status.busy": "2024-09-28T16:04:31.218731Z",
     "iopub.status.idle": "2024-09-28T16:37:09.743302Z",
     "shell.execute_reply": "2024-09-28T16:37:09.742956Z"
    },
    "papermill": {
     "duration": 1958.527376,
     "end_time": "2024-09-28T16:37:09.744195",
     "exception": false,
     "start_time": "2024-09-28T16:04:31.216819",
     "status": "completed"
    },
    "tags": []
   },
   "outputs": [],
   "source": [
    "def train_and_score(params):\n",
    "    _params = params.copy()\n",
    "    num_iterations = _params.pop('num_iterations')\n",
    "\n",
    "    target = 'utility_agent1'\n",
    "    oof_scores = []\n",
    "\n",
    "    # Perform cross-validation\n",
    "    for _, (train_index, val_index) in enumerate(split_list, 1):\n",
    "        # Split the data\n",
    "        X_train, X_val = df_train.iloc[train_index], df_train.iloc[val_index]\n",
    "        y_train, y_val = X_train[target], X_val[target]\n",
    "        \n",
    "        # Create LightGBM datasets\n",
    "        train_data = lgb.Dataset(\n",
    "            data=X_train[numerical_cols + categorical_cols],\n",
    "            label=y_train,\n",
    "            categorical_feature=categorical_cols,\n",
    "            free_raw_data=True\n",
    "        )\n",
    "\n",
    "        # Train the model\n",
    "        model = lgb.train(\n",
    "            _params,\n",
    "            train_data,\n",
    "            num_boost_round=num_iterations,\n",
    "        )\n",
    "\n",
    "        # predict on validation set\n",
    "        y_pred = model.predict(X_val[numerical_cols + categorical_cols])\n",
    "        y_pred = np.clip(y_pred, -1, 1)\n",
    "        \n",
    "        # Compute RMSE on scaled values\n",
    "        rmse = np.sqrt(np.mean((y_pred - y_val) ** 2))\n",
    "        oof_scores.append(rmse)\n",
    "\n",
    "    return np.mean(oof_scores)\n"
   ]
  },
  {
   "cell_type": "code",
   "execution_count": 7,
   "id": "b39cc955",
   "metadata": {},
   "outputs": [],
   "source": [
    "# Define the parameters\n",
    "fixed_params = {\n",
    "    'objective': \"regression\",\n",
    "    'metric': 'rmse',\n",
    "    'boosting_type': 'gbdt',\n",
    "    'learning_rate': 0.05,\n",
    "    'bagging_freq': 1,\n",
    "    'verbose': -1,\n",
    "    'seed': 2112,\n",
    "}\n",
    "\n",
    "def objective(trial):\n",
    "    # params sampling\n",
    "    params = {\n",
    "        'num_leaves': trial.suggest_int('num_leaves', 31, 255),\n",
    "        'lambda_l1': trial.suggest_float('lambda_l1', 1e-8, 100.0, log=True),\n",
    "        'lambda_l2': trial.suggest_float('lambda_l2', 1e-8, 100.0, log=True),\n",
    "        'feature_fraction': trial.suggest_float('feature_fraction', 0.4, 1.0),\n",
    "        'bagging_fraction': trial.suggest_float('bagging_fraction', 0.6, 1.0),\n",
    "        'num_iterations': trial.suggest_int('num_iterations', 1000, 5000),\n",
    "        'min_data_in_leaf': trial.suggest_int('min_data_in_leaf', 100, 1000),\n",
    "        'min_data_per_group': trial.suggest_int('min_data_per_group', 100, 1000),\n",
    "        'max_cat_threshold': trial.suggest_int('max_cat_threshold', 32, 512),\n",
    "        'cat_l2': trial.suggest_float('cat_l2', 1e-8, 100.0, log=True),\n",
    "        **fixed_params\n",
    "    }\n",
    "    \n",
    "    # Call the train_and_score function\n",
    "    score = train_and_score(params)\n",
    "    \n",
    "    return score"
   ]
  },
  {
   "cell_type": "code",
   "execution_count": 8,
   "id": "34a288b0",
   "metadata": {},
   "outputs": [
    {
     "name": "stderr",
     "output_type": "stream",
     "text": [
      "[I 2024-11-01 15:13:04,246] Using an existing study with name 'lightgbm.db' instead of creating a new one.\n"
     ]
    }
   ],
   "source": [
    "do_optimize = False\n",
    "timeout = 3600 * 48\n",
    "\n",
    "study = optuna.create_study(\n",
    "    study_name=\"lightgbm.db\",\n",
    "    direction='minimize',\n",
    "    storage='sqlite:///lightgbm.db',\n",
    "    load_if_exists=True,\n",
    ")\n",
    "\n",
    "if do_optimize:\n",
    "\n",
    "    study.optimize(\n",
    "        objective, \n",
    "        n_trials=5000, \n",
    "        timeout=timeout,\n",
    "        n_jobs=1, \n",
    "        gc_after_trial=True,\n",
    "    ) "
   ]
  },
  {
   "cell_type": "code",
   "execution_count": 9,
   "id": "dbd79020",
   "metadata": {},
   "outputs": [
    {
     "data": {
      "text/html": [
       "<div>\n",
       "<style scoped>\n",
       "    .dataframe tbody tr th:only-of-type {\n",
       "        vertical-align: middle;\n",
       "    }\n",
       "\n",
       "    .dataframe tbody tr th {\n",
       "        vertical-align: top;\n",
       "    }\n",
       "\n",
       "    .dataframe thead th {\n",
       "        text-align: right;\n",
       "    }\n",
       "</style>\n",
       "<table border=\"1\" class=\"dataframe\">\n",
       "  <thead>\n",
       "    <tr style=\"text-align: right;\">\n",
       "      <th></th>\n",
       "      <th>number</th>\n",
       "      <th>value</th>\n",
       "      <th>datetime_start</th>\n",
       "      <th>datetime_complete</th>\n",
       "      <th>duration</th>\n",
       "      <th>params_bagging_fraction</th>\n",
       "      <th>params_cat_l2</th>\n",
       "      <th>params_feature_fraction</th>\n",
       "      <th>params_lambda_l1</th>\n",
       "      <th>params_lambda_l2</th>\n",
       "      <th>params_max_cat_threshold</th>\n",
       "      <th>params_min_data_in_leaf</th>\n",
       "      <th>params_min_data_per_group</th>\n",
       "      <th>params_num_iterations</th>\n",
       "      <th>params_num_leaves</th>\n",
       "      <th>state</th>\n",
       "    </tr>\n",
       "  </thead>\n",
       "  <tbody>\n",
       "    <tr>\n",
       "      <th>124</th>\n",
       "      <td>124</td>\n",
       "      <td>0.423844</td>\n",
       "      <td>2024-11-01 13:08:47.233570</td>\n",
       "      <td>2024-11-01 13:13:27.343697</td>\n",
       "      <td>0 days 00:04:40.110127</td>\n",
       "      <td>0.934703</td>\n",
       "      <td>7.462861e+00</td>\n",
       "      <td>0.685297</td>\n",
       "      <td>6.201879e-06</td>\n",
       "      <td>6.872642e-06</td>\n",
       "      <td>118</td>\n",
       "      <td>264</td>\n",
       "      <td>975</td>\n",
       "      <td>3799</td>\n",
       "      <td>48</td>\n",
       "      <td>COMPLETE</td>\n",
       "    </tr>\n",
       "    <tr>\n",
       "      <th>123</th>\n",
       "      <td>123</td>\n",
       "      <td>0.424213</td>\n",
       "      <td>2024-11-01 13:03:33.751357</td>\n",
       "      <td>2024-11-01 13:08:47.189104</td>\n",
       "      <td>0 days 00:05:13.437747</td>\n",
       "      <td>0.937987</td>\n",
       "      <td>1.385693e+01</td>\n",
       "      <td>0.733177</td>\n",
       "      <td>2.776588e-05</td>\n",
       "      <td>1.266775e-06</td>\n",
       "      <td>106</td>\n",
       "      <td>264</td>\n",
       "      <td>995</td>\n",
       "      <td>3766</td>\n",
       "      <td>56</td>\n",
       "      <td>COMPLETE</td>\n",
       "    </tr>\n",
       "    <tr>\n",
       "      <th>53</th>\n",
       "      <td>53</td>\n",
       "      <td>0.424406</td>\n",
       "      <td>2024-11-01 03:02:46.182428</td>\n",
       "      <td>2024-11-01 03:10:04.578199</td>\n",
       "      <td>0 days 00:07:18.395771</td>\n",
       "      <td>0.936027</td>\n",
       "      <td>1.387731e-07</td>\n",
       "      <td>0.727842</td>\n",
       "      <td>8.347988e-05</td>\n",
       "      <td>1.888569e-07</td>\n",
       "      <td>362</td>\n",
       "      <td>286</td>\n",
       "      <td>914</td>\n",
       "      <td>2332</td>\n",
       "      <td>146</td>\n",
       "      <td>COMPLETE</td>\n",
       "    </tr>\n",
       "    <tr>\n",
       "      <th>138</th>\n",
       "      <td>138</td>\n",
       "      <td>0.424493</td>\n",
       "      <td>2024-11-01 14:27:13.532986</td>\n",
       "      <td>2024-11-01 14:33:20.423936</td>\n",
       "      <td>0 days 00:06:06.890950</td>\n",
       "      <td>0.918853</td>\n",
       "      <td>5.933026e+00</td>\n",
       "      <td>0.691617</td>\n",
       "      <td>2.010683e-07</td>\n",
       "      <td>8.822117e-06</td>\n",
       "      <td>122</td>\n",
       "      <td>344</td>\n",
       "      <td>973</td>\n",
       "      <td>3684</td>\n",
       "      <td>71</td>\n",
       "      <td>COMPLETE</td>\n",
       "    </tr>\n",
       "    <tr>\n",
       "      <th>74</th>\n",
       "      <td>74</td>\n",
       "      <td>0.424549</td>\n",
       "      <td>2024-11-01 05:45:28.355721</td>\n",
       "      <td>2024-11-01 05:58:16.083546</td>\n",
       "      <td>0 days 00:12:47.727825</td>\n",
       "      <td>0.996513</td>\n",
       "      <td>4.073827e-07</td>\n",
       "      <td>0.780628</td>\n",
       "      <td>1.144350e-04</td>\n",
       "      <td>6.710521e-07</td>\n",
       "      <td>271</td>\n",
       "      <td>248</td>\n",
       "      <td>446</td>\n",
       "      <td>4445</td>\n",
       "      <td>139</td>\n",
       "      <td>COMPLETE</td>\n",
       "    </tr>\n",
       "    <tr>\n",
       "      <th>135</th>\n",
       "      <td>135</td>\n",
       "      <td>0.424562</td>\n",
       "      <td>2024-11-01 14:08:52.176004</td>\n",
       "      <td>2024-11-01 14:15:34.458264</td>\n",
       "      <td>0 days 00:06:42.282260</td>\n",
       "      <td>0.940228</td>\n",
       "      <td>2.908894e-01</td>\n",
       "      <td>0.694536</td>\n",
       "      <td>3.600553e-07</td>\n",
       "      <td>2.449112e-06</td>\n",
       "      <td>126</td>\n",
       "      <td>382</td>\n",
       "      <td>978</td>\n",
       "      <td>3530</td>\n",
       "      <td>84</td>\n",
       "      <td>COMPLETE</td>\n",
       "    </tr>\n",
       "    <tr>\n",
       "      <th>51</th>\n",
       "      <td>51</td>\n",
       "      <td>0.424636</td>\n",
       "      <td>2024-11-01 02:47:56.478142</td>\n",
       "      <td>2024-11-01 02:55:34.820048</td>\n",
       "      <td>0 days 00:07:38.341906</td>\n",
       "      <td>0.934347</td>\n",
       "      <td>7.079988e-08</td>\n",
       "      <td>0.769929</td>\n",
       "      <td>2.667461e-04</td>\n",
       "      <td>5.837647e-06</td>\n",
       "      <td>219</td>\n",
       "      <td>273</td>\n",
       "      <td>922</td>\n",
       "      <td>2398</td>\n",
       "      <td>148</td>\n",
       "      <td>COMPLETE</td>\n",
       "    </tr>\n",
       "    <tr>\n",
       "      <th>44</th>\n",
       "      <td>44</td>\n",
       "      <td>0.424866</td>\n",
       "      <td>2024-11-01 02:09:35.105494</td>\n",
       "      <td>2024-11-01 02:14:10.225718</td>\n",
       "      <td>0 days 00:04:35.120224</td>\n",
       "      <td>0.999468</td>\n",
       "      <td>9.666357e-07</td>\n",
       "      <td>0.766080</td>\n",
       "      <td>1.980661e-03</td>\n",
       "      <td>6.139017e-06</td>\n",
       "      <td>253</td>\n",
       "      <td>245</td>\n",
       "      <td>893</td>\n",
       "      <td>1402</td>\n",
       "      <td>150</td>\n",
       "      <td>COMPLETE</td>\n",
       "    </tr>\n",
       "    <tr>\n",
       "      <th>15</th>\n",
       "      <td>15</td>\n",
       "      <td>0.424904</td>\n",
       "      <td>2024-10-31 21:40:27.850409</td>\n",
       "      <td>2024-10-31 21:49:54.717441</td>\n",
       "      <td>0 days 00:09:26.867032</td>\n",
       "      <td>0.941103</td>\n",
       "      <td>2.956852e-07</td>\n",
       "      <td>0.754993</td>\n",
       "      <td>7.482252e-05</td>\n",
       "      <td>1.306976e-06</td>\n",
       "      <td>52</td>\n",
       "      <td>312</td>\n",
       "      <td>171</td>\n",
       "      <td>4306</td>\n",
       "      <td>105</td>\n",
       "      <td>COMPLETE</td>\n",
       "    </tr>\n",
       "    <tr>\n",
       "      <th>111</th>\n",
       "      <td>111</td>\n",
       "      <td>0.425030</td>\n",
       "      <td>2024-11-01 11:26:10.417750</td>\n",
       "      <td>2024-11-01 11:39:17.200865</td>\n",
       "      <td>0 days 00:13:06.783115</td>\n",
       "      <td>0.930807</td>\n",
       "      <td>2.136565e-06</td>\n",
       "      <td>0.807191</td>\n",
       "      <td>6.082093e-03</td>\n",
       "      <td>1.336967e-08</td>\n",
       "      <td>71</td>\n",
       "      <td>300</td>\n",
       "      <td>915</td>\n",
       "      <td>3750</td>\n",
       "      <td>167</td>\n",
       "      <td>COMPLETE</td>\n",
       "    </tr>\n",
       "    <tr>\n",
       "      <th>133</th>\n",
       "      <td>133</td>\n",
       "      <td>0.425059</td>\n",
       "      <td>2024-11-01 13:56:26.218989</td>\n",
       "      <td>2024-11-01 14:02:17.366200</td>\n",
       "      <td>0 days 00:05:51.147211</td>\n",
       "      <td>0.946092</td>\n",
       "      <td>1.834615e-01</td>\n",
       "      <td>0.691420</td>\n",
       "      <td>6.143778e-07</td>\n",
       "      <td>2.824621e-06</td>\n",
       "      <td>133</td>\n",
       "      <td>271</td>\n",
       "      <td>954</td>\n",
       "      <td>3645</td>\n",
       "      <td>67</td>\n",
       "      <td>COMPLETE</td>\n",
       "    </tr>\n",
       "    <tr>\n",
       "      <th>102</th>\n",
       "      <td>102</td>\n",
       "      <td>0.425077</td>\n",
       "      <td>2024-11-01 10:09:42.868874</td>\n",
       "      <td>2024-11-01 10:15:18.954914</td>\n",
       "      <td>0 days 00:05:36.086040</td>\n",
       "      <td>0.981507</td>\n",
       "      <td>1.282031e-08</td>\n",
       "      <td>0.769679</td>\n",
       "      <td>4.164374e-04</td>\n",
       "      <td>2.853619e-07</td>\n",
       "      <td>107</td>\n",
       "      <td>298</td>\n",
       "      <td>346</td>\n",
       "      <td>3801</td>\n",
       "      <td>65</td>\n",
       "      <td>COMPLETE</td>\n",
       "    </tr>\n",
       "    <tr>\n",
       "      <th>55</th>\n",
       "      <td>55</td>\n",
       "      <td>0.425093</td>\n",
       "      <td>2024-11-01 03:17:17.557450</td>\n",
       "      <td>2024-11-01 03:24:59.867738</td>\n",
       "      <td>0 days 00:07:42.310288</td>\n",
       "      <td>0.879360</td>\n",
       "      <td>4.860058e-08</td>\n",
       "      <td>0.680200</td>\n",
       "      <td>5.753215e-05</td>\n",
       "      <td>3.805017e-08</td>\n",
       "      <td>417</td>\n",
       "      <td>404</td>\n",
       "      <td>944</td>\n",
       "      <td>2769</td>\n",
       "      <td>129</td>\n",
       "      <td>COMPLETE</td>\n",
       "    </tr>\n",
       "    <tr>\n",
       "      <th>125</th>\n",
       "      <td>125</td>\n",
       "      <td>0.425097</td>\n",
       "      <td>2024-11-01 13:13:27.388194</td>\n",
       "      <td>2024-11-01 13:19:09.796019</td>\n",
       "      <td>0 days 00:05:42.407825</td>\n",
       "      <td>0.913283</td>\n",
       "      <td>4.043558e+00</td>\n",
       "      <td>0.674166</td>\n",
       "      <td>3.611940e-06</td>\n",
       "      <td>7.373839e-06</td>\n",
       "      <td>149</td>\n",
       "      <td>208</td>\n",
       "      <td>967</td>\n",
       "      <td>3989</td>\n",
       "      <td>56</td>\n",
       "      <td>COMPLETE</td>\n",
       "    </tr>\n",
       "    <tr>\n",
       "      <th>120</th>\n",
       "      <td>120</td>\n",
       "      <td>0.425192</td>\n",
       "      <td>2024-11-01 12:44:52.457155</td>\n",
       "      <td>2024-11-01 12:51:13.744339</td>\n",
       "      <td>0 days 00:06:21.287184</td>\n",
       "      <td>0.917778</td>\n",
       "      <td>2.146503e+00</td>\n",
       "      <td>0.733829</td>\n",
       "      <td>3.081985e-05</td>\n",
       "      <td>1.210456e-06</td>\n",
       "      <td>97</td>\n",
       "      <td>314</td>\n",
       "      <td>999</td>\n",
       "      <td>3781</td>\n",
       "      <td>71</td>\n",
       "      <td>COMPLETE</td>\n",
       "    </tr>\n",
       "    <tr>\n",
       "      <th>91</th>\n",
       "      <td>91</td>\n",
       "      <td>0.425252</td>\n",
       "      <td>2024-11-01 08:37:07.614657</td>\n",
       "      <td>2024-11-01 08:46:27.809092</td>\n",
       "      <td>0 days 00:09:20.194435</td>\n",
       "      <td>0.999471</td>\n",
       "      <td>2.058824e-07</td>\n",
       "      <td>0.801381</td>\n",
       "      <td>1.827811e-04</td>\n",
       "      <td>1.833033e-08</td>\n",
       "      <td>45</td>\n",
       "      <td>298</td>\n",
       "      <td>381</td>\n",
       "      <td>4513</td>\n",
       "      <td>98</td>\n",
       "      <td>COMPLETE</td>\n",
       "    </tr>\n",
       "    <tr>\n",
       "      <th>52</th>\n",
       "      <td>52</td>\n",
       "      <td>0.425351</td>\n",
       "      <td>2024-11-01 02:55:34.866350</td>\n",
       "      <td>2024-11-01 03:02:46.136796</td>\n",
       "      <td>0 days 00:07:11.270446</td>\n",
       "      <td>0.934370</td>\n",
       "      <td>1.773869e-07</td>\n",
       "      <td>0.768943</td>\n",
       "      <td>7.950118e-05</td>\n",
       "      <td>4.456284e-06</td>\n",
       "      <td>365</td>\n",
       "      <td>271</td>\n",
       "      <td>913</td>\n",
       "      <td>2301</td>\n",
       "      <td>145</td>\n",
       "      <td>COMPLETE</td>\n",
       "    </tr>\n",
       "    <tr>\n",
       "      <th>61</th>\n",
       "      <td>61</td>\n",
       "      <td>0.425383</td>\n",
       "      <td>2024-11-01 04:07:25.974507</td>\n",
       "      <td>2024-11-01 04:13:47.569799</td>\n",
       "      <td>0 days 00:06:21.595292</td>\n",
       "      <td>0.930007</td>\n",
       "      <td>1.772850e-07</td>\n",
       "      <td>0.768129</td>\n",
       "      <td>1.309456e-04</td>\n",
       "      <td>1.736062e-08</td>\n",
       "      <td>382</td>\n",
       "      <td>286</td>\n",
       "      <td>852</td>\n",
       "      <td>2328</td>\n",
       "      <td>125</td>\n",
       "      <td>COMPLETE</td>\n",
       "    </tr>\n",
       "    <tr>\n",
       "      <th>139</th>\n",
       "      <td>139</td>\n",
       "      <td>0.425389</td>\n",
       "      <td>2024-11-01 14:33:20.496201</td>\n",
       "      <td>2024-11-01 14:39:43.848695</td>\n",
       "      <td>0 days 00:06:23.352494</td>\n",
       "      <td>0.950576</td>\n",
       "      <td>2.178795e+01</td>\n",
       "      <td>0.694195</td>\n",
       "      <td>5.088141e-08</td>\n",
       "      <td>4.200440e-05</td>\n",
       "      <td>127</td>\n",
       "      <td>414</td>\n",
       "      <td>969</td>\n",
       "      <td>3465</td>\n",
       "      <td>81</td>\n",
       "      <td>COMPLETE</td>\n",
       "    </tr>\n",
       "    <tr>\n",
       "      <th>122</th>\n",
       "      <td>122</td>\n",
       "      <td>0.425394</td>\n",
       "      <td>2024-11-01 12:57:32.445206</td>\n",
       "      <td>2024-11-01 13:03:33.706665</td>\n",
       "      <td>0 days 00:06:01.261459</td>\n",
       "      <td>0.937280</td>\n",
       "      <td>3.811027e+00</td>\n",
       "      <td>0.736623</td>\n",
       "      <td>2.989906e-05</td>\n",
       "      <td>1.224054e-06</td>\n",
       "      <td>98</td>\n",
       "      <td>235</td>\n",
       "      <td>1000</td>\n",
       "      <td>3797</td>\n",
       "      <td>64</td>\n",
       "      <td>COMPLETE</td>\n",
       "    </tr>\n",
       "  </tbody>\n",
       "</table>\n",
       "</div>"
      ],
      "text/plain": [
       "     number     value             datetime_start          datetime_complete  \\\n",
       "124     124  0.423844 2024-11-01 13:08:47.233570 2024-11-01 13:13:27.343697   \n",
       "123     123  0.424213 2024-11-01 13:03:33.751357 2024-11-01 13:08:47.189104   \n",
       "53       53  0.424406 2024-11-01 03:02:46.182428 2024-11-01 03:10:04.578199   \n",
       "138     138  0.424493 2024-11-01 14:27:13.532986 2024-11-01 14:33:20.423936   \n",
       "74       74  0.424549 2024-11-01 05:45:28.355721 2024-11-01 05:58:16.083546   \n",
       "135     135  0.424562 2024-11-01 14:08:52.176004 2024-11-01 14:15:34.458264   \n",
       "51       51  0.424636 2024-11-01 02:47:56.478142 2024-11-01 02:55:34.820048   \n",
       "44       44  0.424866 2024-11-01 02:09:35.105494 2024-11-01 02:14:10.225718   \n",
       "15       15  0.424904 2024-10-31 21:40:27.850409 2024-10-31 21:49:54.717441   \n",
       "111     111  0.425030 2024-11-01 11:26:10.417750 2024-11-01 11:39:17.200865   \n",
       "133     133  0.425059 2024-11-01 13:56:26.218989 2024-11-01 14:02:17.366200   \n",
       "102     102  0.425077 2024-11-01 10:09:42.868874 2024-11-01 10:15:18.954914   \n",
       "55       55  0.425093 2024-11-01 03:17:17.557450 2024-11-01 03:24:59.867738   \n",
       "125     125  0.425097 2024-11-01 13:13:27.388194 2024-11-01 13:19:09.796019   \n",
       "120     120  0.425192 2024-11-01 12:44:52.457155 2024-11-01 12:51:13.744339   \n",
       "91       91  0.425252 2024-11-01 08:37:07.614657 2024-11-01 08:46:27.809092   \n",
       "52       52  0.425351 2024-11-01 02:55:34.866350 2024-11-01 03:02:46.136796   \n",
       "61       61  0.425383 2024-11-01 04:07:25.974507 2024-11-01 04:13:47.569799   \n",
       "139     139  0.425389 2024-11-01 14:33:20.496201 2024-11-01 14:39:43.848695   \n",
       "122     122  0.425394 2024-11-01 12:57:32.445206 2024-11-01 13:03:33.706665   \n",
       "\n",
       "                  duration  params_bagging_fraction  params_cat_l2  \\\n",
       "124 0 days 00:04:40.110127                 0.934703   7.462861e+00   \n",
       "123 0 days 00:05:13.437747                 0.937987   1.385693e+01   \n",
       "53  0 days 00:07:18.395771                 0.936027   1.387731e-07   \n",
       "138 0 days 00:06:06.890950                 0.918853   5.933026e+00   \n",
       "74  0 days 00:12:47.727825                 0.996513   4.073827e-07   \n",
       "135 0 days 00:06:42.282260                 0.940228   2.908894e-01   \n",
       "51  0 days 00:07:38.341906                 0.934347   7.079988e-08   \n",
       "44  0 days 00:04:35.120224                 0.999468   9.666357e-07   \n",
       "15  0 days 00:09:26.867032                 0.941103   2.956852e-07   \n",
       "111 0 days 00:13:06.783115                 0.930807   2.136565e-06   \n",
       "133 0 days 00:05:51.147211                 0.946092   1.834615e-01   \n",
       "102 0 days 00:05:36.086040                 0.981507   1.282031e-08   \n",
       "55  0 days 00:07:42.310288                 0.879360   4.860058e-08   \n",
       "125 0 days 00:05:42.407825                 0.913283   4.043558e+00   \n",
       "120 0 days 00:06:21.287184                 0.917778   2.146503e+00   \n",
       "91  0 days 00:09:20.194435                 0.999471   2.058824e-07   \n",
       "52  0 days 00:07:11.270446                 0.934370   1.773869e-07   \n",
       "61  0 days 00:06:21.595292                 0.930007   1.772850e-07   \n",
       "139 0 days 00:06:23.352494                 0.950576   2.178795e+01   \n",
       "122 0 days 00:06:01.261459                 0.937280   3.811027e+00   \n",
       "\n",
       "     params_feature_fraction  params_lambda_l1  params_lambda_l2  \\\n",
       "124                 0.685297      6.201879e-06      6.872642e-06   \n",
       "123                 0.733177      2.776588e-05      1.266775e-06   \n",
       "53                  0.727842      8.347988e-05      1.888569e-07   \n",
       "138                 0.691617      2.010683e-07      8.822117e-06   \n",
       "74                  0.780628      1.144350e-04      6.710521e-07   \n",
       "135                 0.694536      3.600553e-07      2.449112e-06   \n",
       "51                  0.769929      2.667461e-04      5.837647e-06   \n",
       "44                  0.766080      1.980661e-03      6.139017e-06   \n",
       "15                  0.754993      7.482252e-05      1.306976e-06   \n",
       "111                 0.807191      6.082093e-03      1.336967e-08   \n",
       "133                 0.691420      6.143778e-07      2.824621e-06   \n",
       "102                 0.769679      4.164374e-04      2.853619e-07   \n",
       "55                  0.680200      5.753215e-05      3.805017e-08   \n",
       "125                 0.674166      3.611940e-06      7.373839e-06   \n",
       "120                 0.733829      3.081985e-05      1.210456e-06   \n",
       "91                  0.801381      1.827811e-04      1.833033e-08   \n",
       "52                  0.768943      7.950118e-05      4.456284e-06   \n",
       "61                  0.768129      1.309456e-04      1.736062e-08   \n",
       "139                 0.694195      5.088141e-08      4.200440e-05   \n",
       "122                 0.736623      2.989906e-05      1.224054e-06   \n",
       "\n",
       "     params_max_cat_threshold  params_min_data_in_leaf  \\\n",
       "124                       118                      264   \n",
       "123                       106                      264   \n",
       "53                        362                      286   \n",
       "138                       122                      344   \n",
       "74                        271                      248   \n",
       "135                       126                      382   \n",
       "51                        219                      273   \n",
       "44                        253                      245   \n",
       "15                         52                      312   \n",
       "111                        71                      300   \n",
       "133                       133                      271   \n",
       "102                       107                      298   \n",
       "55                        417                      404   \n",
       "125                       149                      208   \n",
       "120                        97                      314   \n",
       "91                         45                      298   \n",
       "52                        365                      271   \n",
       "61                        382                      286   \n",
       "139                       127                      414   \n",
       "122                        98                      235   \n",
       "\n",
       "     params_min_data_per_group  params_num_iterations  params_num_leaves  \\\n",
       "124                        975                   3799                 48   \n",
       "123                        995                   3766                 56   \n",
       "53                         914                   2332                146   \n",
       "138                        973                   3684                 71   \n",
       "74                         446                   4445                139   \n",
       "135                        978                   3530                 84   \n",
       "51                         922                   2398                148   \n",
       "44                         893                   1402                150   \n",
       "15                         171                   4306                105   \n",
       "111                        915                   3750                167   \n",
       "133                        954                   3645                 67   \n",
       "102                        346                   3801                 65   \n",
       "55                         944                   2769                129   \n",
       "125                        967                   3989                 56   \n",
       "120                        999                   3781                 71   \n",
       "91                         381                   4513                 98   \n",
       "52                         913                   2301                145   \n",
       "61                         852                   2328                125   \n",
       "139                        969                   3465                 81   \n",
       "122                       1000                   3797                 64   \n",
       "\n",
       "        state  \n",
       "124  COMPLETE  \n",
       "123  COMPLETE  \n",
       "53   COMPLETE  \n",
       "138  COMPLETE  \n",
       "74   COMPLETE  \n",
       "135  COMPLETE  \n",
       "51   COMPLETE  \n",
       "44   COMPLETE  \n",
       "15   COMPLETE  \n",
       "111  COMPLETE  \n",
       "133  COMPLETE  \n",
       "102  COMPLETE  \n",
       "55   COMPLETE  \n",
       "125  COMPLETE  \n",
       "120  COMPLETE  \n",
       "91   COMPLETE  \n",
       "52   COMPLETE  \n",
       "61   COMPLETE  \n",
       "139  COMPLETE  \n",
       "122  COMPLETE  "
      ]
     },
     "execution_count": 9,
     "metadata": {},
     "output_type": "execute_result"
    }
   ],
   "source": [
    "study.trials_dataframe().sort_values(\"value\", ascending=True).head(20)"
   ]
  },
  {
   "cell_type": "code",
   "execution_count": 10,
   "id": "23f3497a",
   "metadata": {},
   "outputs": [
    {
     "data": {
      "application/vnd.plotly.v1+json": {
       "config": {
        "plotlyServerURL": "https://plot.ly"
       },
       "data": [
        {
         "mode": "markers",
         "name": "Objective Value",
         "type": "scatter",
         "x": [
          0,
          1,
          2,
          3,
          4,
          5,
          6,
          7,
          8,
          9,
          10,
          11,
          12,
          13,
          14,
          15,
          16,
          17,
          18,
          19,
          20,
          21,
          22,
          23,
          24,
          25,
          26,
          27,
          28,
          29,
          30,
          31,
          32,
          33,
          34,
          35,
          36,
          37,
          38,
          39,
          40,
          41,
          42,
          43,
          44,
          45,
          46,
          47,
          48,
          49,
          50,
          51,
          52,
          53,
          54,
          55,
          56,
          57,
          58,
          59,
          60,
          61,
          62,
          63,
          64,
          65,
          66,
          67,
          68,
          69,
          70,
          71,
          72,
          73,
          74,
          75,
          76,
          77,
          78,
          79,
          80,
          81,
          82,
          83,
          84,
          85,
          86,
          87,
          88,
          89,
          90,
          91,
          92,
          93,
          94,
          95,
          96,
          97,
          98,
          99,
          100,
          101,
          102,
          103,
          104,
          105,
          106,
          107,
          108,
          109,
          110,
          111,
          112,
          113,
          114,
          115,
          116,
          117,
          118,
          119,
          120,
          121,
          122,
          123,
          124,
          125,
          126,
          127,
          128,
          129,
          130,
          131,
          132,
          133,
          134,
          135,
          136,
          137,
          138,
          139,
          140,
          141,
          142,
          143,
          144
         ],
         "y": [
          0.4367344029031073,
          0.44612993071058,
          0.4322928559858129,
          0.43187797869363564,
          0.4285882862007878,
          0.4370363585189979,
          0.44200495239303245,
          0.4377236231793196,
          0.42970395315943993,
          0.4299220554942626,
          0.4369752630857451,
          0.4278727335963035,
          0.4297485446228543,
          0.42955139423383243,
          0.4295463970083596,
          0.42490424315604713,
          0.4256433474502157,
          0.4276120055983773,
          0.4290938160224673,
          0.42726419092400986,
          0.4409686482721914,
          0.4271552737631585,
          0.42729932074529825,
          0.4282258894596579,
          0.4291543574544102,
          0.42835872356317245,
          0.4317890211626324,
          0.43404659429849585,
          0.430310825126618,
          0.4267741900296468,
          0.432602445348643,
          0.4258719943800603,
          0.4275108954841527,
          0.4259027215852912,
          0.42987293722100856,
          0.42825164579091324,
          0.42828462971416564,
          0.42883500191799273,
          0.4281541853803401,
          0.4386040774044021,
          0.45903212451154457,
          0.42775705806559916,
          0.42946201085502045,
          0.42568463337752727,
          0.4248664054937798,
          0.4260998407439686,
          0.4295912142298941,
          0.42965281379758186,
          0.42846624869313354,
          0.42569953066098104,
          0.4290377970099768,
          0.4246361336938267,
          0.4253512380897725,
          0.4244061637830093,
          0.4260128279276407,
          0.4250933544346184,
          0.42652545412947,
          0.4274752171412167,
          0.4284150157623846,
          0.4297035643350135,
          0.43174847045770715,
          0.4253826621997243,
          0.4263134099896724,
          0.4410653704321364,
          0.427044049795885,
          0.4270055674336087,
          0.43128766761866355,
          0.42638261239398056,
          0.4285921832679761,
          0.42919687693124253,
          0.4260492702641753,
          0.42598452301317674,
          0.42575141884644446,
          0.42674654590178773,
          0.4245494006274876,
          0.4280190078562535,
          0.4283229337015121,
          0.4273096151936605,
          0.4267321941715224,
          0.4283227706078773,
          0.434618016881937,
          0.4254270130855227,
          0.4258885622945655,
          0.42768967679691716,
          0.4283314044068973,
          0.4311033753206721,
          0.4297001187366791,
          0.42863251727855556,
          0.428410630726303,
          0.42690827246611757,
          0.4261530807384416,
          0.42525181404339635,
          0.4262300241474997,
          0.42612541145908384,
          0.42775957262776104,
          0.4254539004100977,
          0.4284133846846319,
          0.42986665693767057,
          0.42584337025875385,
          0.4288982423908262,
          0.42704178365522294,
          0.42622257854404494,
          0.4250773022294201,
          0.42746087888713535,
          0.4266396304442934,
          0.4270540048922683,
          0.42981431170390155,
          0.42658225189674315,
          0.42806817508851946,
          0.4254344958392978,
          0.426594813935725,
          0.4250303749312333,
          0.4267290452694503,
          0.42667070094566933,
          0.425869789498452,
          0.42691409515187617,
          0.42987581533295965,
          0.4276537297102581,
          0.43060178038785396,
          0.42664082502699063,
          0.4251918166712021,
          0.42791650171712126,
          0.4253936672608418,
          0.42421285703804806,
          0.4238437724974041,
          0.4250972066515999,
          0.42695873049219457,
          0.42795615429586975,
          0.4282814991092164,
          0.42544920746637666,
          0.42709533007441436,
          0.4254015139729702,
          0.42634757409808277,
          0.42505875969514817,
          0.42620974338770334,
          0.4245624054089549,
          0.4257807523207028,
          0.42606106641191593,
          0.4244929462985822,
          0.4253894606532837,
          0.4308849936295453,
          0.42664125082251675,
          0.4267421891672978,
          0.42588594687903897,
          0.4311876679005035
         ]
        },
        {
         "mode": "lines",
         "name": "Best Value",
         "type": "scatter",
         "x": [
          0,
          1,
          2,
          3,
          4,
          5,
          6,
          7,
          8,
          9,
          10,
          11,
          12,
          13,
          14,
          15,
          16,
          17,
          18,
          19,
          20,
          21,
          22,
          23,
          24,
          25,
          26,
          27,
          28,
          29,
          30,
          31,
          32,
          33,
          34,
          35,
          36,
          37,
          38,
          39,
          40,
          41,
          42,
          43,
          44,
          45,
          46,
          47,
          48,
          49,
          50,
          51,
          52,
          53,
          54,
          55,
          56,
          57,
          58,
          59,
          60,
          61,
          62,
          63,
          64,
          65,
          66,
          67,
          68,
          69,
          70,
          71,
          72,
          73,
          74,
          75,
          76,
          77,
          78,
          79,
          80,
          81,
          82,
          83,
          84,
          85,
          86,
          87,
          88,
          89,
          90,
          91,
          92,
          93,
          94,
          95,
          96,
          97,
          98,
          99,
          100,
          101,
          102,
          103,
          104,
          105,
          106,
          107,
          108,
          109,
          110,
          111,
          112,
          113,
          114,
          115,
          116,
          117,
          118,
          119,
          120,
          121,
          122,
          123,
          124,
          125,
          126,
          127,
          128,
          129,
          130,
          131,
          132,
          133,
          134,
          135,
          136,
          137,
          138,
          139,
          140,
          141,
          142,
          143,
          144,
          145
         ],
         "y": [
          0.4367344029031073,
          0.4367344029031073,
          0.4322928559858129,
          0.43187797869363564,
          0.4285882862007878,
          0.4285882862007878,
          0.4285882862007878,
          0.4285882862007878,
          0.4285882862007878,
          0.4285882862007878,
          0.4285882862007878,
          0.4278727335963035,
          0.4278727335963035,
          0.4278727335963035,
          0.4278727335963035,
          0.42490424315604713,
          0.42490424315604713,
          0.42490424315604713,
          0.42490424315604713,
          0.42490424315604713,
          0.42490424315604713,
          0.42490424315604713,
          0.42490424315604713,
          0.42490424315604713,
          0.42490424315604713,
          0.42490424315604713,
          0.42490424315604713,
          0.42490424315604713,
          0.42490424315604713,
          0.42490424315604713,
          0.42490424315604713,
          0.42490424315604713,
          0.42490424315604713,
          0.42490424315604713,
          0.42490424315604713,
          0.42490424315604713,
          0.42490424315604713,
          0.42490424315604713,
          0.42490424315604713,
          0.42490424315604713,
          0.42490424315604713,
          0.42490424315604713,
          0.42490424315604713,
          0.42490424315604713,
          0.4248664054937798,
          0.4248664054937798,
          0.4248664054937798,
          0.4248664054937798,
          0.4248664054937798,
          0.4248664054937798,
          0.4248664054937798,
          0.4246361336938267,
          0.4246361336938267,
          0.4244061637830093,
          0.4244061637830093,
          0.4244061637830093,
          0.4244061637830093,
          0.4244061637830093,
          0.4244061637830093,
          0.4244061637830093,
          0.4244061637830093,
          0.4244061637830093,
          0.4244061637830093,
          0.4244061637830093,
          0.4244061637830093,
          0.4244061637830093,
          0.4244061637830093,
          0.4244061637830093,
          0.4244061637830093,
          0.4244061637830093,
          0.4244061637830093,
          0.4244061637830093,
          0.4244061637830093,
          0.4244061637830093,
          0.4244061637830093,
          0.4244061637830093,
          0.4244061637830093,
          0.4244061637830093,
          0.4244061637830093,
          0.4244061637830093,
          0.4244061637830093,
          0.4244061637830093,
          0.4244061637830093,
          0.4244061637830093,
          0.4244061637830093,
          0.4244061637830093,
          0.4244061637830093,
          0.4244061637830093,
          0.4244061637830093,
          0.4244061637830093,
          0.4244061637830093,
          0.4244061637830093,
          0.4244061637830093,
          0.4244061637830093,
          0.4244061637830093,
          0.4244061637830093,
          0.4244061637830093,
          0.4244061637830093,
          0.4244061637830093,
          0.4244061637830093,
          0.4244061637830093,
          0.4244061637830093,
          0.4244061637830093,
          0.4244061637830093,
          0.4244061637830093,
          0.4244061637830093,
          0.4244061637830093,
          0.4244061637830093,
          0.4244061637830093,
          0.4244061637830093,
          0.4244061637830093,
          0.4244061637830093,
          0.4244061637830093,
          0.4244061637830093,
          0.4244061637830093,
          0.4244061637830093,
          0.4244061637830093,
          0.4244061637830093,
          0.4244061637830093,
          0.4244061637830093,
          0.4244061637830093,
          0.4244061637830093,
          0.4244061637830093,
          0.42421285703804806,
          0.4238437724974041,
          0.4238437724974041,
          0.4238437724974041,
          0.4238437724974041,
          0.4238437724974041,
          0.4238437724974041,
          0.4238437724974041,
          0.4238437724974041,
          0.4238437724974041,
          0.4238437724974041,
          0.4238437724974041,
          0.4238437724974041,
          0.4238437724974041,
          0.4238437724974041,
          0.4238437724974041,
          0.4238437724974041,
          0.4238437724974041,
          0.4238437724974041,
          0.4238437724974041,
          0.4238437724974041,
          0.4238437724974041,
          0.4238437724974041
         ]
        },
        {
         "marker": {
          "color": "#cccccc"
         },
         "mode": "markers",
         "name": "Infeasible Trial",
         "showlegend": false,
         "type": "scatter",
         "x": [],
         "y": []
        }
       ],
       "layout": {
        "template": {
         "data": {
          "bar": [
           {
            "error_x": {
             "color": "#2a3f5f"
            },
            "error_y": {
             "color": "#2a3f5f"
            },
            "marker": {
             "line": {
              "color": "#E5ECF6",
              "width": 0.5
             },
             "pattern": {
              "fillmode": "overlay",
              "size": 10,
              "solidity": 0.2
             }
            },
            "type": "bar"
           }
          ],
          "barpolar": [
           {
            "marker": {
             "line": {
              "color": "#E5ECF6",
              "width": 0.5
             },
             "pattern": {
              "fillmode": "overlay",
              "size": 10,
              "solidity": 0.2
             }
            },
            "type": "barpolar"
           }
          ],
          "carpet": [
           {
            "aaxis": {
             "endlinecolor": "#2a3f5f",
             "gridcolor": "white",
             "linecolor": "white",
             "minorgridcolor": "white",
             "startlinecolor": "#2a3f5f"
            },
            "baxis": {
             "endlinecolor": "#2a3f5f",
             "gridcolor": "white",
             "linecolor": "white",
             "minorgridcolor": "white",
             "startlinecolor": "#2a3f5f"
            },
            "type": "carpet"
           }
          ],
          "choropleth": [
           {
            "colorbar": {
             "outlinewidth": 0,
             "ticks": ""
            },
            "type": "choropleth"
           }
          ],
          "contour": [
           {
            "colorbar": {
             "outlinewidth": 0,
             "ticks": ""
            },
            "colorscale": [
             [
              0,
              "#0d0887"
             ],
             [
              0.1111111111111111,
              "#46039f"
             ],
             [
              0.2222222222222222,
              "#7201a8"
             ],
             [
              0.3333333333333333,
              "#9c179e"
             ],
             [
              0.4444444444444444,
              "#bd3786"
             ],
             [
              0.5555555555555556,
              "#d8576b"
             ],
             [
              0.6666666666666666,
              "#ed7953"
             ],
             [
              0.7777777777777778,
              "#fb9f3a"
             ],
             [
              0.8888888888888888,
              "#fdca26"
             ],
             [
              1,
              "#f0f921"
             ]
            ],
            "type": "contour"
           }
          ],
          "contourcarpet": [
           {
            "colorbar": {
             "outlinewidth": 0,
             "ticks": ""
            },
            "type": "contourcarpet"
           }
          ],
          "heatmap": [
           {
            "colorbar": {
             "outlinewidth": 0,
             "ticks": ""
            },
            "colorscale": [
             [
              0,
              "#0d0887"
             ],
             [
              0.1111111111111111,
              "#46039f"
             ],
             [
              0.2222222222222222,
              "#7201a8"
             ],
             [
              0.3333333333333333,
              "#9c179e"
             ],
             [
              0.4444444444444444,
              "#bd3786"
             ],
             [
              0.5555555555555556,
              "#d8576b"
             ],
             [
              0.6666666666666666,
              "#ed7953"
             ],
             [
              0.7777777777777778,
              "#fb9f3a"
             ],
             [
              0.8888888888888888,
              "#fdca26"
             ],
             [
              1,
              "#f0f921"
             ]
            ],
            "type": "heatmap"
           }
          ],
          "heatmapgl": [
           {
            "colorbar": {
             "outlinewidth": 0,
             "ticks": ""
            },
            "colorscale": [
             [
              0,
              "#0d0887"
             ],
             [
              0.1111111111111111,
              "#46039f"
             ],
             [
              0.2222222222222222,
              "#7201a8"
             ],
             [
              0.3333333333333333,
              "#9c179e"
             ],
             [
              0.4444444444444444,
              "#bd3786"
             ],
             [
              0.5555555555555556,
              "#d8576b"
             ],
             [
              0.6666666666666666,
              "#ed7953"
             ],
             [
              0.7777777777777778,
              "#fb9f3a"
             ],
             [
              0.8888888888888888,
              "#fdca26"
             ],
             [
              1,
              "#f0f921"
             ]
            ],
            "type": "heatmapgl"
           }
          ],
          "histogram": [
           {
            "marker": {
             "pattern": {
              "fillmode": "overlay",
              "size": 10,
              "solidity": 0.2
             }
            },
            "type": "histogram"
           }
          ],
          "histogram2d": [
           {
            "colorbar": {
             "outlinewidth": 0,
             "ticks": ""
            },
            "colorscale": [
             [
              0,
              "#0d0887"
             ],
             [
              0.1111111111111111,
              "#46039f"
             ],
             [
              0.2222222222222222,
              "#7201a8"
             ],
             [
              0.3333333333333333,
              "#9c179e"
             ],
             [
              0.4444444444444444,
              "#bd3786"
             ],
             [
              0.5555555555555556,
              "#d8576b"
             ],
             [
              0.6666666666666666,
              "#ed7953"
             ],
             [
              0.7777777777777778,
              "#fb9f3a"
             ],
             [
              0.8888888888888888,
              "#fdca26"
             ],
             [
              1,
              "#f0f921"
             ]
            ],
            "type": "histogram2d"
           }
          ],
          "histogram2dcontour": [
           {
            "colorbar": {
             "outlinewidth": 0,
             "ticks": ""
            },
            "colorscale": [
             [
              0,
              "#0d0887"
             ],
             [
              0.1111111111111111,
              "#46039f"
             ],
             [
              0.2222222222222222,
              "#7201a8"
             ],
             [
              0.3333333333333333,
              "#9c179e"
             ],
             [
              0.4444444444444444,
              "#bd3786"
             ],
             [
              0.5555555555555556,
              "#d8576b"
             ],
             [
              0.6666666666666666,
              "#ed7953"
             ],
             [
              0.7777777777777778,
              "#fb9f3a"
             ],
             [
              0.8888888888888888,
              "#fdca26"
             ],
             [
              1,
              "#f0f921"
             ]
            ],
            "type": "histogram2dcontour"
           }
          ],
          "mesh3d": [
           {
            "colorbar": {
             "outlinewidth": 0,
             "ticks": ""
            },
            "type": "mesh3d"
           }
          ],
          "parcoords": [
           {
            "line": {
             "colorbar": {
              "outlinewidth": 0,
              "ticks": ""
             }
            },
            "type": "parcoords"
           }
          ],
          "pie": [
           {
            "automargin": true,
            "type": "pie"
           }
          ],
          "scatter": [
           {
            "fillpattern": {
             "fillmode": "overlay",
             "size": 10,
             "solidity": 0.2
            },
            "type": "scatter"
           }
          ],
          "scatter3d": [
           {
            "line": {
             "colorbar": {
              "outlinewidth": 0,
              "ticks": ""
             }
            },
            "marker": {
             "colorbar": {
              "outlinewidth": 0,
              "ticks": ""
             }
            },
            "type": "scatter3d"
           }
          ],
          "scattercarpet": [
           {
            "marker": {
             "colorbar": {
              "outlinewidth": 0,
              "ticks": ""
             }
            },
            "type": "scattercarpet"
           }
          ],
          "scattergeo": [
           {
            "marker": {
             "colorbar": {
              "outlinewidth": 0,
              "ticks": ""
             }
            },
            "type": "scattergeo"
           }
          ],
          "scattergl": [
           {
            "marker": {
             "colorbar": {
              "outlinewidth": 0,
              "ticks": ""
             }
            },
            "type": "scattergl"
           }
          ],
          "scattermapbox": [
           {
            "marker": {
             "colorbar": {
              "outlinewidth": 0,
              "ticks": ""
             }
            },
            "type": "scattermapbox"
           }
          ],
          "scatterpolar": [
           {
            "marker": {
             "colorbar": {
              "outlinewidth": 0,
              "ticks": ""
             }
            },
            "type": "scatterpolar"
           }
          ],
          "scatterpolargl": [
           {
            "marker": {
             "colorbar": {
              "outlinewidth": 0,
              "ticks": ""
             }
            },
            "type": "scatterpolargl"
           }
          ],
          "scatterternary": [
           {
            "marker": {
             "colorbar": {
              "outlinewidth": 0,
              "ticks": ""
             }
            },
            "type": "scatterternary"
           }
          ],
          "surface": [
           {
            "colorbar": {
             "outlinewidth": 0,
             "ticks": ""
            },
            "colorscale": [
             [
              0,
              "#0d0887"
             ],
             [
              0.1111111111111111,
              "#46039f"
             ],
             [
              0.2222222222222222,
              "#7201a8"
             ],
             [
              0.3333333333333333,
              "#9c179e"
             ],
             [
              0.4444444444444444,
              "#bd3786"
             ],
             [
              0.5555555555555556,
              "#d8576b"
             ],
             [
              0.6666666666666666,
              "#ed7953"
             ],
             [
              0.7777777777777778,
              "#fb9f3a"
             ],
             [
              0.8888888888888888,
              "#fdca26"
             ],
             [
              1,
              "#f0f921"
             ]
            ],
            "type": "surface"
           }
          ],
          "table": [
           {
            "cells": {
             "fill": {
              "color": "#EBF0F8"
             },
             "line": {
              "color": "white"
             }
            },
            "header": {
             "fill": {
              "color": "#C8D4E3"
             },
             "line": {
              "color": "white"
             }
            },
            "type": "table"
           }
          ]
         },
         "layout": {
          "annotationdefaults": {
           "arrowcolor": "#2a3f5f",
           "arrowhead": 0,
           "arrowwidth": 1
          },
          "autotypenumbers": "strict",
          "coloraxis": {
           "colorbar": {
            "outlinewidth": 0,
            "ticks": ""
           }
          },
          "colorscale": {
           "diverging": [
            [
             0,
             "#8e0152"
            ],
            [
             0.1,
             "#c51b7d"
            ],
            [
             0.2,
             "#de77ae"
            ],
            [
             0.3,
             "#f1b6da"
            ],
            [
             0.4,
             "#fde0ef"
            ],
            [
             0.5,
             "#f7f7f7"
            ],
            [
             0.6,
             "#e6f5d0"
            ],
            [
             0.7,
             "#b8e186"
            ],
            [
             0.8,
             "#7fbc41"
            ],
            [
             0.9,
             "#4d9221"
            ],
            [
             1,
             "#276419"
            ]
           ],
           "sequential": [
            [
             0,
             "#0d0887"
            ],
            [
             0.1111111111111111,
             "#46039f"
            ],
            [
             0.2222222222222222,
             "#7201a8"
            ],
            [
             0.3333333333333333,
             "#9c179e"
            ],
            [
             0.4444444444444444,
             "#bd3786"
            ],
            [
             0.5555555555555556,
             "#d8576b"
            ],
            [
             0.6666666666666666,
             "#ed7953"
            ],
            [
             0.7777777777777778,
             "#fb9f3a"
            ],
            [
             0.8888888888888888,
             "#fdca26"
            ],
            [
             1,
             "#f0f921"
            ]
           ],
           "sequentialminus": [
            [
             0,
             "#0d0887"
            ],
            [
             0.1111111111111111,
             "#46039f"
            ],
            [
             0.2222222222222222,
             "#7201a8"
            ],
            [
             0.3333333333333333,
             "#9c179e"
            ],
            [
             0.4444444444444444,
             "#bd3786"
            ],
            [
             0.5555555555555556,
             "#d8576b"
            ],
            [
             0.6666666666666666,
             "#ed7953"
            ],
            [
             0.7777777777777778,
             "#fb9f3a"
            ],
            [
             0.8888888888888888,
             "#fdca26"
            ],
            [
             1,
             "#f0f921"
            ]
           ]
          },
          "colorway": [
           "#636efa",
           "#EF553B",
           "#00cc96",
           "#ab63fa",
           "#FFA15A",
           "#19d3f3",
           "#FF6692",
           "#B6E880",
           "#FF97FF",
           "#FECB52"
          ],
          "font": {
           "color": "#2a3f5f"
          },
          "geo": {
           "bgcolor": "white",
           "lakecolor": "white",
           "landcolor": "#E5ECF6",
           "showlakes": true,
           "showland": true,
           "subunitcolor": "white"
          },
          "hoverlabel": {
           "align": "left"
          },
          "hovermode": "closest",
          "mapbox": {
           "style": "light"
          },
          "paper_bgcolor": "white",
          "plot_bgcolor": "#E5ECF6",
          "polar": {
           "angularaxis": {
            "gridcolor": "white",
            "linecolor": "white",
            "ticks": ""
           },
           "bgcolor": "#E5ECF6",
           "radialaxis": {
            "gridcolor": "white",
            "linecolor": "white",
            "ticks": ""
           }
          },
          "scene": {
           "xaxis": {
            "backgroundcolor": "#E5ECF6",
            "gridcolor": "white",
            "gridwidth": 2,
            "linecolor": "white",
            "showbackground": true,
            "ticks": "",
            "zerolinecolor": "white"
           },
           "yaxis": {
            "backgroundcolor": "#E5ECF6",
            "gridcolor": "white",
            "gridwidth": 2,
            "linecolor": "white",
            "showbackground": true,
            "ticks": "",
            "zerolinecolor": "white"
           },
           "zaxis": {
            "backgroundcolor": "#E5ECF6",
            "gridcolor": "white",
            "gridwidth": 2,
            "linecolor": "white",
            "showbackground": true,
            "ticks": "",
            "zerolinecolor": "white"
           }
          },
          "shapedefaults": {
           "line": {
            "color": "#2a3f5f"
           }
          },
          "ternary": {
           "aaxis": {
            "gridcolor": "white",
            "linecolor": "white",
            "ticks": ""
           },
           "baxis": {
            "gridcolor": "white",
            "linecolor": "white",
            "ticks": ""
           },
           "bgcolor": "#E5ECF6",
           "caxis": {
            "gridcolor": "white",
            "linecolor": "white",
            "ticks": ""
           }
          },
          "title": {
           "x": 0.05
          },
          "xaxis": {
           "automargin": true,
           "gridcolor": "white",
           "linecolor": "white",
           "ticks": "",
           "title": {
            "standoff": 15
           },
           "zerolinecolor": "white",
           "zerolinewidth": 2
          },
          "yaxis": {
           "automargin": true,
           "gridcolor": "white",
           "linecolor": "white",
           "ticks": "",
           "title": {
            "standoff": 15
           },
           "zerolinecolor": "white",
           "zerolinewidth": 2
          }
         }
        },
        "title": {
         "text": "Optimization History Plot"
        },
        "xaxis": {
         "title": {
          "text": "Trial"
         }
        },
        "yaxis": {
         "title": {
          "text": "Objective Value"
         }
        }
       }
      }
     },
     "metadata": {},
     "output_type": "display_data"
    }
   ],
   "source": [
    "plot_optimization_history(study)"
   ]
  },
  {
   "cell_type": "code",
   "execution_count": 11,
   "id": "0afeddad",
   "metadata": {},
   "outputs": [
    {
     "data": {
      "application/vnd.plotly.v1+json": {
       "config": {
        "plotlyServerURL": "https://plot.ly"
       },
       "data": [
        {
         "cliponaxis": false,
         "hovertemplate": [
          "lambda_l2 (FloatDistribution): 1.2936424260733953e-06<extra></extra>",
          "cat_l2 (FloatDistribution): 7.692582495054158e-05<extra></extra>",
          "lambda_l1 (FloatDistribution): 0.0016756505227554872<extra></extra>",
          "max_cat_threshold (IntDistribution): 0.0018531544166919209<extra></extra>",
          "num_iterations (IntDistribution): 0.01021010132039329<extra></extra>",
          "num_leaves (IntDistribution): 0.03394214864457346<extra></extra>",
          "min_data_per_group (IntDistribution): 0.08280968349458288<extra></extra>",
          "min_data_in_leaf (IntDistribution): 0.11991234906396386<extra></extra>",
          "bagging_fraction (FloatDistribution): 0.1416379300863826<extra></extra>",
          "feature_fraction (FloatDistribution): 0.6078807629832799<extra></extra>"
         ],
         "name": "Objective Value",
         "orientation": "h",
         "text": [
          "<0.01",
          "<0.01",
          "<0.01",
          "<0.01",
          "0.01",
          "0.03",
          "0.08",
          "0.12",
          "0.14",
          "0.61"
         ],
         "textposition": "outside",
         "type": "bar",
         "x": [
          0.0000012936424260733953,
          0.00007692582495054158,
          0.0016756505227554872,
          0.0018531544166919209,
          0.01021010132039329,
          0.03394214864457346,
          0.08280968349458288,
          0.11991234906396386,
          0.1416379300863826,
          0.6078807629832799
         ],
         "y": [
          "lambda_l2",
          "cat_l2",
          "lambda_l1",
          "max_cat_threshold",
          "num_iterations",
          "num_leaves",
          "min_data_per_group",
          "min_data_in_leaf",
          "bagging_fraction",
          "feature_fraction"
         ]
        }
       ],
       "layout": {
        "template": {
         "data": {
          "bar": [
           {
            "error_x": {
             "color": "#2a3f5f"
            },
            "error_y": {
             "color": "#2a3f5f"
            },
            "marker": {
             "line": {
              "color": "#E5ECF6",
              "width": 0.5
             },
             "pattern": {
              "fillmode": "overlay",
              "size": 10,
              "solidity": 0.2
             }
            },
            "type": "bar"
           }
          ],
          "barpolar": [
           {
            "marker": {
             "line": {
              "color": "#E5ECF6",
              "width": 0.5
             },
             "pattern": {
              "fillmode": "overlay",
              "size": 10,
              "solidity": 0.2
             }
            },
            "type": "barpolar"
           }
          ],
          "carpet": [
           {
            "aaxis": {
             "endlinecolor": "#2a3f5f",
             "gridcolor": "white",
             "linecolor": "white",
             "minorgridcolor": "white",
             "startlinecolor": "#2a3f5f"
            },
            "baxis": {
             "endlinecolor": "#2a3f5f",
             "gridcolor": "white",
             "linecolor": "white",
             "minorgridcolor": "white",
             "startlinecolor": "#2a3f5f"
            },
            "type": "carpet"
           }
          ],
          "choropleth": [
           {
            "colorbar": {
             "outlinewidth": 0,
             "ticks": ""
            },
            "type": "choropleth"
           }
          ],
          "contour": [
           {
            "colorbar": {
             "outlinewidth": 0,
             "ticks": ""
            },
            "colorscale": [
             [
              0,
              "#0d0887"
             ],
             [
              0.1111111111111111,
              "#46039f"
             ],
             [
              0.2222222222222222,
              "#7201a8"
             ],
             [
              0.3333333333333333,
              "#9c179e"
             ],
             [
              0.4444444444444444,
              "#bd3786"
             ],
             [
              0.5555555555555556,
              "#d8576b"
             ],
             [
              0.6666666666666666,
              "#ed7953"
             ],
             [
              0.7777777777777778,
              "#fb9f3a"
             ],
             [
              0.8888888888888888,
              "#fdca26"
             ],
             [
              1,
              "#f0f921"
             ]
            ],
            "type": "contour"
           }
          ],
          "contourcarpet": [
           {
            "colorbar": {
             "outlinewidth": 0,
             "ticks": ""
            },
            "type": "contourcarpet"
           }
          ],
          "heatmap": [
           {
            "colorbar": {
             "outlinewidth": 0,
             "ticks": ""
            },
            "colorscale": [
             [
              0,
              "#0d0887"
             ],
             [
              0.1111111111111111,
              "#46039f"
             ],
             [
              0.2222222222222222,
              "#7201a8"
             ],
             [
              0.3333333333333333,
              "#9c179e"
             ],
             [
              0.4444444444444444,
              "#bd3786"
             ],
             [
              0.5555555555555556,
              "#d8576b"
             ],
             [
              0.6666666666666666,
              "#ed7953"
             ],
             [
              0.7777777777777778,
              "#fb9f3a"
             ],
             [
              0.8888888888888888,
              "#fdca26"
             ],
             [
              1,
              "#f0f921"
             ]
            ],
            "type": "heatmap"
           }
          ],
          "heatmapgl": [
           {
            "colorbar": {
             "outlinewidth": 0,
             "ticks": ""
            },
            "colorscale": [
             [
              0,
              "#0d0887"
             ],
             [
              0.1111111111111111,
              "#46039f"
             ],
             [
              0.2222222222222222,
              "#7201a8"
             ],
             [
              0.3333333333333333,
              "#9c179e"
             ],
             [
              0.4444444444444444,
              "#bd3786"
             ],
             [
              0.5555555555555556,
              "#d8576b"
             ],
             [
              0.6666666666666666,
              "#ed7953"
             ],
             [
              0.7777777777777778,
              "#fb9f3a"
             ],
             [
              0.8888888888888888,
              "#fdca26"
             ],
             [
              1,
              "#f0f921"
             ]
            ],
            "type": "heatmapgl"
           }
          ],
          "histogram": [
           {
            "marker": {
             "pattern": {
              "fillmode": "overlay",
              "size": 10,
              "solidity": 0.2
             }
            },
            "type": "histogram"
           }
          ],
          "histogram2d": [
           {
            "colorbar": {
             "outlinewidth": 0,
             "ticks": ""
            },
            "colorscale": [
             [
              0,
              "#0d0887"
             ],
             [
              0.1111111111111111,
              "#46039f"
             ],
             [
              0.2222222222222222,
              "#7201a8"
             ],
             [
              0.3333333333333333,
              "#9c179e"
             ],
             [
              0.4444444444444444,
              "#bd3786"
             ],
             [
              0.5555555555555556,
              "#d8576b"
             ],
             [
              0.6666666666666666,
              "#ed7953"
             ],
             [
              0.7777777777777778,
              "#fb9f3a"
             ],
             [
              0.8888888888888888,
              "#fdca26"
             ],
             [
              1,
              "#f0f921"
             ]
            ],
            "type": "histogram2d"
           }
          ],
          "histogram2dcontour": [
           {
            "colorbar": {
             "outlinewidth": 0,
             "ticks": ""
            },
            "colorscale": [
             [
              0,
              "#0d0887"
             ],
             [
              0.1111111111111111,
              "#46039f"
             ],
             [
              0.2222222222222222,
              "#7201a8"
             ],
             [
              0.3333333333333333,
              "#9c179e"
             ],
             [
              0.4444444444444444,
              "#bd3786"
             ],
             [
              0.5555555555555556,
              "#d8576b"
             ],
             [
              0.6666666666666666,
              "#ed7953"
             ],
             [
              0.7777777777777778,
              "#fb9f3a"
             ],
             [
              0.8888888888888888,
              "#fdca26"
             ],
             [
              1,
              "#f0f921"
             ]
            ],
            "type": "histogram2dcontour"
           }
          ],
          "mesh3d": [
           {
            "colorbar": {
             "outlinewidth": 0,
             "ticks": ""
            },
            "type": "mesh3d"
           }
          ],
          "parcoords": [
           {
            "line": {
             "colorbar": {
              "outlinewidth": 0,
              "ticks": ""
             }
            },
            "type": "parcoords"
           }
          ],
          "pie": [
           {
            "automargin": true,
            "type": "pie"
           }
          ],
          "scatter": [
           {
            "fillpattern": {
             "fillmode": "overlay",
             "size": 10,
             "solidity": 0.2
            },
            "type": "scatter"
           }
          ],
          "scatter3d": [
           {
            "line": {
             "colorbar": {
              "outlinewidth": 0,
              "ticks": ""
             }
            },
            "marker": {
             "colorbar": {
              "outlinewidth": 0,
              "ticks": ""
             }
            },
            "type": "scatter3d"
           }
          ],
          "scattercarpet": [
           {
            "marker": {
             "colorbar": {
              "outlinewidth": 0,
              "ticks": ""
             }
            },
            "type": "scattercarpet"
           }
          ],
          "scattergeo": [
           {
            "marker": {
             "colorbar": {
              "outlinewidth": 0,
              "ticks": ""
             }
            },
            "type": "scattergeo"
           }
          ],
          "scattergl": [
           {
            "marker": {
             "colorbar": {
              "outlinewidth": 0,
              "ticks": ""
             }
            },
            "type": "scattergl"
           }
          ],
          "scattermapbox": [
           {
            "marker": {
             "colorbar": {
              "outlinewidth": 0,
              "ticks": ""
             }
            },
            "type": "scattermapbox"
           }
          ],
          "scatterpolar": [
           {
            "marker": {
             "colorbar": {
              "outlinewidth": 0,
              "ticks": ""
             }
            },
            "type": "scatterpolar"
           }
          ],
          "scatterpolargl": [
           {
            "marker": {
             "colorbar": {
              "outlinewidth": 0,
              "ticks": ""
             }
            },
            "type": "scatterpolargl"
           }
          ],
          "scatterternary": [
           {
            "marker": {
             "colorbar": {
              "outlinewidth": 0,
              "ticks": ""
             }
            },
            "type": "scatterternary"
           }
          ],
          "surface": [
           {
            "colorbar": {
             "outlinewidth": 0,
             "ticks": ""
            },
            "colorscale": [
             [
              0,
              "#0d0887"
             ],
             [
              0.1111111111111111,
              "#46039f"
             ],
             [
              0.2222222222222222,
              "#7201a8"
             ],
             [
              0.3333333333333333,
              "#9c179e"
             ],
             [
              0.4444444444444444,
              "#bd3786"
             ],
             [
              0.5555555555555556,
              "#d8576b"
             ],
             [
              0.6666666666666666,
              "#ed7953"
             ],
             [
              0.7777777777777778,
              "#fb9f3a"
             ],
             [
              0.8888888888888888,
              "#fdca26"
             ],
             [
              1,
              "#f0f921"
             ]
            ],
            "type": "surface"
           }
          ],
          "table": [
           {
            "cells": {
             "fill": {
              "color": "#EBF0F8"
             },
             "line": {
              "color": "white"
             }
            },
            "header": {
             "fill": {
              "color": "#C8D4E3"
             },
             "line": {
              "color": "white"
             }
            },
            "type": "table"
           }
          ]
         },
         "layout": {
          "annotationdefaults": {
           "arrowcolor": "#2a3f5f",
           "arrowhead": 0,
           "arrowwidth": 1
          },
          "autotypenumbers": "strict",
          "coloraxis": {
           "colorbar": {
            "outlinewidth": 0,
            "ticks": ""
           }
          },
          "colorscale": {
           "diverging": [
            [
             0,
             "#8e0152"
            ],
            [
             0.1,
             "#c51b7d"
            ],
            [
             0.2,
             "#de77ae"
            ],
            [
             0.3,
             "#f1b6da"
            ],
            [
             0.4,
             "#fde0ef"
            ],
            [
             0.5,
             "#f7f7f7"
            ],
            [
             0.6,
             "#e6f5d0"
            ],
            [
             0.7,
             "#b8e186"
            ],
            [
             0.8,
             "#7fbc41"
            ],
            [
             0.9,
             "#4d9221"
            ],
            [
             1,
             "#276419"
            ]
           ],
           "sequential": [
            [
             0,
             "#0d0887"
            ],
            [
             0.1111111111111111,
             "#46039f"
            ],
            [
             0.2222222222222222,
             "#7201a8"
            ],
            [
             0.3333333333333333,
             "#9c179e"
            ],
            [
             0.4444444444444444,
             "#bd3786"
            ],
            [
             0.5555555555555556,
             "#d8576b"
            ],
            [
             0.6666666666666666,
             "#ed7953"
            ],
            [
             0.7777777777777778,
             "#fb9f3a"
            ],
            [
             0.8888888888888888,
             "#fdca26"
            ],
            [
             1,
             "#f0f921"
            ]
           ],
           "sequentialminus": [
            [
             0,
             "#0d0887"
            ],
            [
             0.1111111111111111,
             "#46039f"
            ],
            [
             0.2222222222222222,
             "#7201a8"
            ],
            [
             0.3333333333333333,
             "#9c179e"
            ],
            [
             0.4444444444444444,
             "#bd3786"
            ],
            [
             0.5555555555555556,
             "#d8576b"
            ],
            [
             0.6666666666666666,
             "#ed7953"
            ],
            [
             0.7777777777777778,
             "#fb9f3a"
            ],
            [
             0.8888888888888888,
             "#fdca26"
            ],
            [
             1,
             "#f0f921"
            ]
           ]
          },
          "colorway": [
           "#636efa",
           "#EF553B",
           "#00cc96",
           "#ab63fa",
           "#FFA15A",
           "#19d3f3",
           "#FF6692",
           "#B6E880",
           "#FF97FF",
           "#FECB52"
          ],
          "font": {
           "color": "#2a3f5f"
          },
          "geo": {
           "bgcolor": "white",
           "lakecolor": "white",
           "landcolor": "#E5ECF6",
           "showlakes": true,
           "showland": true,
           "subunitcolor": "white"
          },
          "hoverlabel": {
           "align": "left"
          },
          "hovermode": "closest",
          "mapbox": {
           "style": "light"
          },
          "paper_bgcolor": "white",
          "plot_bgcolor": "#E5ECF6",
          "polar": {
           "angularaxis": {
            "gridcolor": "white",
            "linecolor": "white",
            "ticks": ""
           },
           "bgcolor": "#E5ECF6",
           "radialaxis": {
            "gridcolor": "white",
            "linecolor": "white",
            "ticks": ""
           }
          },
          "scene": {
           "xaxis": {
            "backgroundcolor": "#E5ECF6",
            "gridcolor": "white",
            "gridwidth": 2,
            "linecolor": "white",
            "showbackground": true,
            "ticks": "",
            "zerolinecolor": "white"
           },
           "yaxis": {
            "backgroundcolor": "#E5ECF6",
            "gridcolor": "white",
            "gridwidth": 2,
            "linecolor": "white",
            "showbackground": true,
            "ticks": "",
            "zerolinecolor": "white"
           },
           "zaxis": {
            "backgroundcolor": "#E5ECF6",
            "gridcolor": "white",
            "gridwidth": 2,
            "linecolor": "white",
            "showbackground": true,
            "ticks": "",
            "zerolinecolor": "white"
           }
          },
          "shapedefaults": {
           "line": {
            "color": "#2a3f5f"
           }
          },
          "ternary": {
           "aaxis": {
            "gridcolor": "white",
            "linecolor": "white",
            "ticks": ""
           },
           "baxis": {
            "gridcolor": "white",
            "linecolor": "white",
            "ticks": ""
           },
           "bgcolor": "#E5ECF6",
           "caxis": {
            "gridcolor": "white",
            "linecolor": "white",
            "ticks": ""
           }
          },
          "title": {
           "x": 0.05
          },
          "xaxis": {
           "automargin": true,
           "gridcolor": "white",
           "linecolor": "white",
           "ticks": "",
           "title": {
            "standoff": 15
           },
           "zerolinecolor": "white",
           "zerolinewidth": 2
          },
          "yaxis": {
           "automargin": true,
           "gridcolor": "white",
           "linecolor": "white",
           "ticks": "",
           "title": {
            "standoff": 15
           },
           "zerolinecolor": "white",
           "zerolinewidth": 2
          }
         }
        },
        "title": {
         "text": "Hyperparameter Importances"
        },
        "xaxis": {
         "title": {
          "text": "Hyperparameter Importance"
         }
        },
        "yaxis": {
         "title": {
          "text": "Hyperparameter"
         }
        }
       }
      }
     },
     "metadata": {},
     "output_type": "display_data"
    }
   ],
   "source": [
    "plot_param_importances(study)"
   ]
  },
  {
   "cell_type": "code",
   "execution_count": 12,
   "id": "3e4281db",
   "metadata": {},
   "outputs": [
    {
     "data": {
      "application/vnd.plotly.v1+json": {
       "config": {
        "plotlyServerURL": "https://plot.ly"
       },
       "data": [
        {
         "marker": {
          "color": [
           0,
           1,
           2,
           3,
           4,
           5,
           6,
           7,
           8,
           9,
           10,
           11,
           12,
           13,
           14,
           15,
           16,
           17,
           18,
           19,
           20,
           21,
           22,
           23,
           24,
           25,
           26,
           27,
           28,
           29,
           30,
           31,
           32,
           33,
           34,
           35,
           36,
           37,
           38,
           39,
           40,
           41,
           42,
           43,
           44,
           45,
           46,
           47,
           48,
           49,
           50,
           51,
           52,
           53,
           54,
           55,
           56,
           57,
           58,
           59,
           60,
           61,
           62,
           63,
           64,
           65,
           66,
           67,
           68,
           69,
           70,
           71,
           72,
           73,
           74,
           75,
           76,
           77,
           78,
           79,
           80,
           81,
           82,
           83,
           84,
           85,
           86,
           87,
           88,
           89,
           90,
           91,
           92,
           93,
           94,
           95,
           96,
           97,
           98,
           99,
           100,
           101,
           102,
           103,
           104,
           105,
           106,
           107,
           108,
           109,
           110,
           111,
           112,
           113,
           114,
           115,
           116,
           117,
           118,
           119,
           120,
           121,
           122,
           123,
           124,
           125,
           126,
           127,
           128,
           129,
           130,
           131,
           132,
           133,
           134,
           135,
           136,
           137,
           138,
           139,
           140,
           141,
           142,
           143,
           144
          ],
          "colorbar": {
           "title": {
            "text": "Trial"
           },
           "x": 1,
           "xpad": 40
          },
          "colorscale": [
           [
            0,
            "rgb(247,251,255)"
           ],
           [
            0.125,
            "rgb(222,235,247)"
           ],
           [
            0.25,
            "rgb(198,219,239)"
           ],
           [
            0.375,
            "rgb(158,202,225)"
           ],
           [
            0.5,
            "rgb(107,174,214)"
           ],
           [
            0.625,
            "rgb(66,146,198)"
           ],
           [
            0.75,
            "rgb(33,113,181)"
           ],
           [
            0.875,
            "rgb(8,81,156)"
           ],
           [
            1,
            "rgb(8,48,107)"
           ]
          ],
          "line": {
           "color": "Grey",
           "width": 0.5
          },
          "showscale": true
         },
         "mode": "markers",
         "name": "Feasible Trial",
         "showlegend": false,
         "type": "scatter",
         "x": [
          0.6060741747674121,
          0.7481939235286643,
          0.7225196847862054,
          0.900225232676557,
          0.9353095758839197,
          0.838342609102191,
          0.6527303753055681,
          0.7082025443603626,
          0.9442125817350375,
          0.9890493073423909,
          0.8566435352380554,
          0.9892834053014938,
          0.9898776489024733,
          0.9169572184412585,
          0.803791026181444,
          0.9411027078268913,
          0.9986279972755576,
          0.8633484977858062,
          0.8954128820970482,
          0.9488865815651147,
          0.7869126280707008,
          0.9517388521487602,
          0.961560247214941,
          0.9656885618744439,
          0.8882352403373244,
          0.9233392490945759,
          0.999611357098318,
          0.8104713084412218,
          0.8682929260189982,
          0.9697188845802875,
          0.6194210583490446,
          0.9737429034014021,
          0.965775499412078,
          0.97290616439889,
          0.9133122942970604,
          0.9778483821733019,
          0.9335430252152428,
          0.8864295773582695,
          0.7562070910073375,
          0.8333862138700017,
          0.9387782238063269,
          0.9733379567081832,
          0.9786709201874058,
          0.9512969058374522,
          0.9994676576972163,
          0.9993035947245811,
          0.9163576428948368,
          0.6815441256853847,
          0.9456008835785255,
          0.9058982484491104,
          0.9088204528104953,
          0.9343466541302278,
          0.9343701438836035,
          0.9360265156099143,
          0.9293627783225222,
          0.8793603881011134,
          0.8828301836992948,
          0.832739334111169,
          0.8734903911664715,
          0.8541321392893076,
          0.8993258953411476,
          0.9300072648150187,
          0.9274759866477181,
          0.9518392494187731,
          0.9377228365851714,
          0.9580844043725145,
          0.8506485893916662,
          0.9861030698284686,
          0.9004363757552748,
          0.9232240011847539,
          0.8779365763897249,
          0.9869234276507192,
          0.941909849490719,
          0.9601841761238772,
          0.9965128761790117,
          0.8930507748878289,
          0.9182770987750968,
          0.9873741052157806,
          0.9578855326007973,
          0.9356598301640664,
          0.7902587326754184,
          0.9944633811941829,
          0.9944694404456609,
          0.9809843458735918,
          0.9675602148778409,
          0.7634098334025591,
          0.9524769372586626,
          0.9775495759523496,
          0.7195338460876658,
          0.9094336229002773,
          0.9971617927451609,
          0.9994705846231784,
          0.9652738815596031,
          0.9457397398858517,
          0.9909894740112909,
          0.9798292665622242,
          0.9294325028773393,
          0.9700203423229167,
          0.9999612913968465,
          0.8147700788116528,
          0.9585088812842801,
          0.9745409326386404,
          0.9815071196753977,
          0.9216861495061198,
          0.987381357586478,
          0.9430533890799299,
          0.981770245964765,
          0.9928658453697153,
          0.9520956090694236,
          0.9338210392353828,
          0.9690974487599728,
          0.9308069580528393,
          0.9254056969325132,
          0.9110909562872076,
          0.9039085817702524,
          0.9450704810653917,
          0.8941249136465136,
          0.9631410089482852,
          0.6239891053316556,
          0.9847855079589578,
          0.9177779254160146,
          0.9191609403656239,
          0.9372800259986539,
          0.9379874765027942,
          0.9347031181064782,
          0.9132831438140616,
          0.8624899053930487,
          0.882257098766338,
          0.9134787458342811,
          0.9565254998003664,
          0.9001581982077673,
          0.9332604838109599,
          0.9256866490198652,
          0.9460915147900025,
          0.9470667606137855,
          0.9402278008426364,
          0.9418774615154196,
          0.9110097086150329,
          0.9188529602448988,
          0.9505761372674386,
          0.8901440643284725,
          0.9200815301566417,
          0.9290210541665732,
          0.9394870634464257,
          0.9155066138311767
         ],
         "xaxis": "x",
         "y": [
          0.4367344029031073,
          0.44612993071058,
          0.4322928559858129,
          0.43187797869363564,
          0.4285882862007878,
          0.4370363585189979,
          0.44200495239303245,
          0.4377236231793196,
          0.42970395315943993,
          0.4299220554942626,
          0.4369752630857451,
          0.4278727335963035,
          0.4297485446228543,
          0.42955139423383243,
          0.4295463970083596,
          0.42490424315604713,
          0.4256433474502157,
          0.4276120055983773,
          0.4290938160224673,
          0.42726419092400986,
          0.4409686482721914,
          0.4271552737631585,
          0.42729932074529825,
          0.4282258894596579,
          0.4291543574544102,
          0.42835872356317245,
          0.4317890211626324,
          0.43404659429849585,
          0.430310825126618,
          0.4267741900296468,
          0.432602445348643,
          0.4258719943800603,
          0.4275108954841527,
          0.4259027215852912,
          0.42987293722100856,
          0.42825164579091324,
          0.42828462971416564,
          0.42883500191799273,
          0.4281541853803401,
          0.4386040774044021,
          0.45903212451154457,
          0.42775705806559916,
          0.42946201085502045,
          0.42568463337752727,
          0.4248664054937798,
          0.4260998407439686,
          0.4295912142298941,
          0.42965281379758186,
          0.42846624869313354,
          0.42569953066098104,
          0.4290377970099768,
          0.4246361336938267,
          0.4253512380897725,
          0.4244061637830093,
          0.4260128279276407,
          0.4250933544346184,
          0.42652545412947,
          0.4274752171412167,
          0.4284150157623846,
          0.4297035643350135,
          0.43174847045770715,
          0.4253826621997243,
          0.4263134099896724,
          0.4410653704321364,
          0.427044049795885,
          0.4270055674336087,
          0.43128766761866355,
          0.42638261239398056,
          0.4285921832679761,
          0.42919687693124253,
          0.4260492702641753,
          0.42598452301317674,
          0.42575141884644446,
          0.42674654590178773,
          0.4245494006274876,
          0.4280190078562535,
          0.4283229337015121,
          0.4273096151936605,
          0.4267321941715224,
          0.4283227706078773,
          0.434618016881937,
          0.4254270130855227,
          0.4258885622945655,
          0.42768967679691716,
          0.4283314044068973,
          0.4311033753206721,
          0.4297001187366791,
          0.42863251727855556,
          0.428410630726303,
          0.42690827246611757,
          0.4261530807384416,
          0.42525181404339635,
          0.4262300241474997,
          0.42612541145908384,
          0.42775957262776104,
          0.4254539004100977,
          0.4284133846846319,
          0.42986665693767057,
          0.42584337025875385,
          0.4288982423908262,
          0.42704178365522294,
          0.42622257854404494,
          0.4250773022294201,
          0.42746087888713535,
          0.4266396304442934,
          0.4270540048922683,
          0.42981431170390155,
          0.42658225189674315,
          0.42806817508851946,
          0.4254344958392978,
          0.426594813935725,
          0.4250303749312333,
          0.4267290452694503,
          0.42667070094566933,
          0.425869789498452,
          0.42691409515187617,
          0.42987581533295965,
          0.4276537297102581,
          0.43060178038785396,
          0.42664082502699063,
          0.4251918166712021,
          0.42791650171712126,
          0.4253936672608418,
          0.42421285703804806,
          0.4238437724974041,
          0.4250972066515999,
          0.42695873049219457,
          0.42795615429586975,
          0.4282814991092164,
          0.42544920746637666,
          0.42709533007441436,
          0.4254015139729702,
          0.42634757409808277,
          0.42505875969514817,
          0.42620974338770334,
          0.4245624054089549,
          0.4257807523207028,
          0.42606106641191593,
          0.4244929462985822,
          0.4253894606532837,
          0.4308849936295453,
          0.42664125082251675,
          0.4267421891672978,
          0.42588594687903897,
          0.4311876679005035
         ],
         "yaxis": "y"
        },
        {
         "marker": {
          "color": [
           0,
           1,
           2,
           3,
           4,
           5,
           6,
           7,
           8,
           9,
           10,
           11,
           12,
           13,
           14,
           15,
           16,
           17,
           18,
           19,
           20,
           21,
           22,
           23,
           24,
           25,
           26,
           27,
           28,
           29,
           30,
           31,
           32,
           33,
           34,
           35,
           36,
           37,
           38,
           39,
           40,
           41,
           42,
           43,
           44,
           45,
           46,
           47,
           48,
           49,
           50,
           51,
           52,
           53,
           54,
           55,
           56,
           57,
           58,
           59,
           60,
           61,
           62,
           63,
           64,
           65,
           66,
           67,
           68,
           69,
           70,
           71,
           72,
           73,
           74,
           75,
           76,
           77,
           78,
           79,
           80,
           81,
           82,
           83,
           84,
           85,
           86,
           87,
           88,
           89,
           90,
           91,
           92,
           93,
           94,
           95,
           96,
           97,
           98,
           99,
           100,
           101,
           102,
           103,
           104,
           105,
           106,
           107,
           108,
           109,
           110,
           111,
           112,
           113,
           114,
           115,
           116,
           117,
           118,
           119,
           120,
           121,
           122,
           123,
           124,
           125,
           126,
           127,
           128,
           129,
           130,
           131,
           132,
           133,
           134,
           135,
           136,
           137,
           138,
           139,
           140,
           141,
           142,
           143,
           144
          ],
          "colorbar": {
           "title": {
            "text": "Trial"
           },
           "x": 1,
           "xpad": 40
          },
          "colorscale": [
           [
            0,
            "rgb(247,251,255)"
           ],
           [
            0.125,
            "rgb(222,235,247)"
           ],
           [
            0.25,
            "rgb(198,219,239)"
           ],
           [
            0.375,
            "rgb(158,202,225)"
           ],
           [
            0.5,
            "rgb(107,174,214)"
           ],
           [
            0.625,
            "rgb(66,146,198)"
           ],
           [
            0.75,
            "rgb(33,113,181)"
           ],
           [
            0.875,
            "rgb(8,81,156)"
           ],
           [
            1,
            "rgb(8,48,107)"
           ]
          ],
          "line": {
           "color": "Grey",
           "width": 0.5
          },
          "showscale": false
         },
         "mode": "markers",
         "name": "Feasible Trial",
         "showlegend": false,
         "type": "scatter",
         "x": [
          0.000194164981951258,
          1.0542682897645353e-7,
          16.062438690830824,
          0.04093345293062751,
          0.000005097271242096373,
          0.0000527814021880319,
          2.8219223167319802e-8,
          28.05646881160537,
          0.0000010308732929210393,
          31.50349745060489,
          0.03372031389067407,
          0.00000200485304716318,
          0.0000026519084999796834,
          0.000007979766403588536,
          0.008911193613032877,
          2.9568524956507965e-7,
          1.7599682912676864e-7,
          1.5154709249827394e-8,
          1.0072395376709527e-7,
          0.00010617548059681951,
          0.0017989914626811117,
          4.2266919336928836e-7,
          3.383388365481052e-7,
          1.018277937409712e-8,
          3.041876223176744e-7,
          0.0000160839944048845,
          3.9389132925283223e-7,
          7.512587658329362e-8,
          0.0010310003580719235,
          0.000014447755621043486,
          0.000029905726923220127,
          0.000284331335991691,
          0.00012807872144658864,
          0.00042515161897220283,
          0.7947929536372474,
          0.0003172201880279421,
          0.755337708760883,
          0.0003986383855015098,
          0.0033361013538146522,
          0.5233111874383155,
          0.060102036467262365,
          0.000011369537520324211,
          0.00005864681504566925,
          0.0000014722667979822467,
          9.666357162325617e-7,
          0.0000014543236019874614,
          3.9322123834696934e-8,
          0.000004108526874076842,
          8.350591072773113e-7,
          1.4079843817811402e-7,
          2.8323530751551835e-8,
          7.079987877062878e-8,
          1.773868527550466e-7,
          1.3877310258874398e-7,
          1.5862352957045394e-7,
          4.860058181520221e-8,
          5.3849356004029695e-8,
          2.0755378643239286e-8,
          4.873231993198842e-7,
          5.538708700789954e-8,
          6.98816986158992e-7,
          1.7728502432414974e-7,
          1.9785198470662227e-7,
          1.0089225819871717e-8,
          0.0000029767330763944213,
          8.389213615868138e-8,
          2.696308173361163e-8,
          2.497010066871837e-7,
          9.959855514543831e-8,
          8.718662578889894e-7,
          0.000005287362774552564,
          1.88540898511279e-7,
          5.310653783932438e-8,
          1.7700359244921378e-8,
          4.0738267581709256e-7,
          99.68415983756059,
          5.088110636868536e-7,
          0.000002030584913331508,
          2.98616401084456e-7,
          1.0198306038350532e-7,
          3.716521594447168e-8,
          0.000001210281168280232,
          0.0000010722752616656839,
          0.000006705516113802635,
          4.2421376646505763e-7,
          0.0000027756458860625165,
          1.0966292827900928e-7,
          2.63361732083399e-7,
          5.988652447438541e-7,
          0.0000013286925544070707,
          0.000028248312903605378,
          2.058824321751038e-7,
          1.795017547701784e-7,
          6.18406529102627e-8,
          3.833425851078119e-8,
          1.4516753128579541e-8,
          1.4370546871510834e-7,
          3.594468351479044e-7,
          7.775653221171199e-8,
          5.659306320653533e-7,
          9.368263173156299e-7,
          1.729514146123584e-8,
          1.282030914176302e-8,
          3.387006923661934e-8,
          2.3642822023550585e-7,
          1.1890422082913075e-7,
          1.0739054109426774e-8,
          2.5032511234626137e-8,
          5.474822957450053e-8,
          0.0000018954419075388033,
          3.100618293155457e-7,
          0.0000021365648876587564,
          0.000004376927322180901,
          6.558965060316242e-7,
          7.498707510243458e-8,
          1.5203626980048364e-7,
          0.0000015373609001977914,
          3.763089950080283e-7,
          0.0000092980608757132,
          2.244832161077141e-8,
          2.1465026451672102,
          0.02508476515898389,
          3.8110265506339673,
          13.856932423545327,
          7.46286126946506,
          4.043557589480103,
          7.6656113399207335,
          2.9433947108921883,
          14.137097872299488,
          1.8155639711519513,
          87.58618721811622,
          4.825291649979493e-8,
          16.10648702250006,
          0.18346147820985523,
          0.1263162187372149,
          0.29088943140161894,
          0.2376646278661716,
          1.6553000228271835,
          5.933025819895873,
          21.787951687668944,
          6.109775819857501,
          9.137252738999106,
          2.0759844007297725,
          39.130599998037695,
          5.567755489548494
         ],
         "xaxis": "x2",
         "y": [
          0.4367344029031073,
          0.44612993071058,
          0.4322928559858129,
          0.43187797869363564,
          0.4285882862007878,
          0.4370363585189979,
          0.44200495239303245,
          0.4377236231793196,
          0.42970395315943993,
          0.4299220554942626,
          0.4369752630857451,
          0.4278727335963035,
          0.4297485446228543,
          0.42955139423383243,
          0.4295463970083596,
          0.42490424315604713,
          0.4256433474502157,
          0.4276120055983773,
          0.4290938160224673,
          0.42726419092400986,
          0.4409686482721914,
          0.4271552737631585,
          0.42729932074529825,
          0.4282258894596579,
          0.4291543574544102,
          0.42835872356317245,
          0.4317890211626324,
          0.43404659429849585,
          0.430310825126618,
          0.4267741900296468,
          0.432602445348643,
          0.4258719943800603,
          0.4275108954841527,
          0.4259027215852912,
          0.42987293722100856,
          0.42825164579091324,
          0.42828462971416564,
          0.42883500191799273,
          0.4281541853803401,
          0.4386040774044021,
          0.45903212451154457,
          0.42775705806559916,
          0.42946201085502045,
          0.42568463337752727,
          0.4248664054937798,
          0.4260998407439686,
          0.4295912142298941,
          0.42965281379758186,
          0.42846624869313354,
          0.42569953066098104,
          0.4290377970099768,
          0.4246361336938267,
          0.4253512380897725,
          0.4244061637830093,
          0.4260128279276407,
          0.4250933544346184,
          0.42652545412947,
          0.4274752171412167,
          0.4284150157623846,
          0.4297035643350135,
          0.43174847045770715,
          0.4253826621997243,
          0.4263134099896724,
          0.4410653704321364,
          0.427044049795885,
          0.4270055674336087,
          0.43128766761866355,
          0.42638261239398056,
          0.4285921832679761,
          0.42919687693124253,
          0.4260492702641753,
          0.42598452301317674,
          0.42575141884644446,
          0.42674654590178773,
          0.4245494006274876,
          0.4280190078562535,
          0.4283229337015121,
          0.4273096151936605,
          0.4267321941715224,
          0.4283227706078773,
          0.434618016881937,
          0.4254270130855227,
          0.4258885622945655,
          0.42768967679691716,
          0.4283314044068973,
          0.4311033753206721,
          0.4297001187366791,
          0.42863251727855556,
          0.428410630726303,
          0.42690827246611757,
          0.4261530807384416,
          0.42525181404339635,
          0.4262300241474997,
          0.42612541145908384,
          0.42775957262776104,
          0.4254539004100977,
          0.4284133846846319,
          0.42986665693767057,
          0.42584337025875385,
          0.4288982423908262,
          0.42704178365522294,
          0.42622257854404494,
          0.4250773022294201,
          0.42746087888713535,
          0.4266396304442934,
          0.4270540048922683,
          0.42981431170390155,
          0.42658225189674315,
          0.42806817508851946,
          0.4254344958392978,
          0.426594813935725,
          0.4250303749312333,
          0.4267290452694503,
          0.42667070094566933,
          0.425869789498452,
          0.42691409515187617,
          0.42987581533295965,
          0.4276537297102581,
          0.43060178038785396,
          0.42664082502699063,
          0.4251918166712021,
          0.42791650171712126,
          0.4253936672608418,
          0.42421285703804806,
          0.4238437724974041,
          0.4250972066515999,
          0.42695873049219457,
          0.42795615429586975,
          0.4282814991092164,
          0.42544920746637666,
          0.42709533007441436,
          0.4254015139729702,
          0.42634757409808277,
          0.42505875969514817,
          0.42620974338770334,
          0.4245624054089549,
          0.4257807523207028,
          0.42606106641191593,
          0.4244929462985822,
          0.4253894606532837,
          0.4308849936295453,
          0.42664125082251675,
          0.4267421891672978,
          0.42588594687903897,
          0.4311876679005035
         ],
         "yaxis": "y2"
        },
        {
         "marker": {
          "color": [
           0,
           1,
           2,
           3,
           4,
           5,
           6,
           7,
           8,
           9,
           10,
           11,
           12,
           13,
           14,
           15,
           16,
           17,
           18,
           19,
           20,
           21,
           22,
           23,
           24,
           25,
           26,
           27,
           28,
           29,
           30,
           31,
           32,
           33,
           34,
           35,
           36,
           37,
           38,
           39,
           40,
           41,
           42,
           43,
           44,
           45,
           46,
           47,
           48,
           49,
           50,
           51,
           52,
           53,
           54,
           55,
           56,
           57,
           58,
           59,
           60,
           61,
           62,
           63,
           64,
           65,
           66,
           67,
           68,
           69,
           70,
           71,
           72,
           73,
           74,
           75,
           76,
           77,
           78,
           79,
           80,
           81,
           82,
           83,
           84,
           85,
           86,
           87,
           88,
           89,
           90,
           91,
           92,
           93,
           94,
           95,
           96,
           97,
           98,
           99,
           100,
           101,
           102,
           103,
           104,
           105,
           106,
           107,
           108,
           109,
           110,
           111,
           112,
           113,
           114,
           115,
           116,
           117,
           118,
           119,
           120,
           121,
           122,
           123,
           124,
           125,
           126,
           127,
           128,
           129,
           130,
           131,
           132,
           133,
           134,
           135,
           136,
           137,
           138,
           139,
           140,
           141,
           142,
           143,
           144
          ],
          "colorbar": {
           "title": {
            "text": "Trial"
           },
           "x": 1,
           "xpad": 40
          },
          "colorscale": [
           [
            0,
            "rgb(247,251,255)"
           ],
           [
            0.125,
            "rgb(222,235,247)"
           ],
           [
            0.25,
            "rgb(198,219,239)"
           ],
           [
            0.375,
            "rgb(158,202,225)"
           ],
           [
            0.5,
            "rgb(107,174,214)"
           ],
           [
            0.625,
            "rgb(66,146,198)"
           ],
           [
            0.75,
            "rgb(33,113,181)"
           ],
           [
            0.875,
            "rgb(8,81,156)"
           ],
           [
            1,
            "rgb(8,48,107)"
           ]
          ],
          "line": {
           "color": "Grey",
           "width": 0.5
          },
          "showscale": false
         },
         "mode": "markers",
         "name": "Feasible Trial",
         "showlegend": false,
         "type": "scatter",
         "x": [
          0.8133184905834625,
          0.4148885025848337,
          0.7845835393370884,
          0.9461478314368879,
          0.7205012632117331,
          0.9000849377909657,
          0.9053646434530813,
          0.8691698593393651,
          0.7012720002647885,
          0.9789806534824634,
          0.5267162573939934,
          0.6495610546928647,
          0.6158833904250391,
          0.6672588967347624,
          0.5774179295302333,
          0.7549932955949054,
          0.772531213578589,
          0.7741778387675035,
          0.826779974819907,
          0.738509924078357,
          0.532554716908939,
          0.7403977659969226,
          0.7527871186371811,
          0.8266574717376158,
          0.6687394307085915,
          0.8472419063496044,
          0.7753363720372275,
          0.6182068900462313,
          0.7189112264927087,
          0.8088776840795898,
          0.7952943285355762,
          0.8789842374545666,
          0.8974828689984393,
          0.8764398190868035,
          0.9382911010744212,
          0.8600616829781059,
          0.9606215639066527,
          0.9994500673990918,
          0.864775201227007,
          0.9227124444515548,
          0.41144632940523224,
          0.812129786547066,
          0.8992728335179594,
          0.7966683810374254,
          0.7660796432241586,
          0.7591178947915399,
          0.6976049842461313,
          0.7034102731557464,
          0.7891216711085417,
          0.8388597403143128,
          0.8477741087169848,
          0.769929264292609,
          0.7689431021229678,
          0.7278417679162353,
          0.7285685744928616,
          0.6802004934362033,
          0.6792814755523258,
          0.6384311269623825,
          0.6954258366495663,
          0.7519936903270955,
          0.5913473674457091,
          0.7681286353250576,
          0.7181128758591685,
          0.451279296651826,
          0.7663130295660991,
          0.7403013108966445,
          0.6535164971883777,
          0.6831795049127812,
          0.777435472362082,
          0.7117623395073932,
          0.7411019257218147,
          0.8232384498368186,
          0.7627926555729385,
          0.7992474223686755,
          0.7806276981832866,
          0.7242660565798544,
          0.7785612711107649,
          0.7476914229072793,
          0.8085382738194006,
          0.6590409234710939,
          0.6280525067101408,
          0.7874611695673525,
          0.7301448396607381,
          0.7657926904174042,
          0.7896182566331501,
          0.8305736705440215,
          0.6818358817584929,
          0.8170171380413411,
          0.7536156100886079,
          0.783058622246135,
          0.7095599244539528,
          0.8013809189505936,
          0.7945832192362786,
          0.8077106658928017,
          0.734104732281443,
          0.848115832068138,
          0.7660764371628841,
          0.7818352274795608,
          0.7512534294359795,
          0.7988000167241237,
          0.8351871367377377,
          0.8506007793568047,
          0.769679155585754,
          0.6957233676245832,
          0.7722855268291068,
          0.7417229905344142,
          0.7553982218449871,
          0.7174364797338372,
          0.8207473488264838,
          0.8044618348349278,
          0.787824873089029,
          0.8071905054712102,
          0.7730560730109588,
          0.7264998575002032,
          0.7604886679726703,
          0.7828954062645894,
          0.7441612711522436,
          0.8167867589129504,
          0.7974975662795378,
          0.7621176498652154,
          0.7338288743454742,
          0.7061593291677299,
          0.7366234845467029,
          0.7331765014651545,
          0.6852973167416573,
          0.6741659443535284,
          0.6704721791734864,
          0.6766098419327803,
          0.641611004628687,
          0.6865599978729822,
          0.6990483397564884,
          0.7229270139393329,
          0.6590135907572082,
          0.6914202919487505,
          0.6475118739084299,
          0.6945356984627089,
          0.6651884152147636,
          0.7087193430377726,
          0.6916173599004525,
          0.6941952908535389,
          0.6152744578611185,
          0.6883125511269438,
          0.7161596811565498,
          0.6699668899068582,
          0.7312274901817002
         ],
         "xaxis": "x3",
         "y": [
          0.4367344029031073,
          0.44612993071058,
          0.4322928559858129,
          0.43187797869363564,
          0.4285882862007878,
          0.4370363585189979,
          0.44200495239303245,
          0.4377236231793196,
          0.42970395315943993,
          0.4299220554942626,
          0.4369752630857451,
          0.4278727335963035,
          0.4297485446228543,
          0.42955139423383243,
          0.4295463970083596,
          0.42490424315604713,
          0.4256433474502157,
          0.4276120055983773,
          0.4290938160224673,
          0.42726419092400986,
          0.4409686482721914,
          0.4271552737631585,
          0.42729932074529825,
          0.4282258894596579,
          0.4291543574544102,
          0.42835872356317245,
          0.4317890211626324,
          0.43404659429849585,
          0.430310825126618,
          0.4267741900296468,
          0.432602445348643,
          0.4258719943800603,
          0.4275108954841527,
          0.4259027215852912,
          0.42987293722100856,
          0.42825164579091324,
          0.42828462971416564,
          0.42883500191799273,
          0.4281541853803401,
          0.4386040774044021,
          0.45903212451154457,
          0.42775705806559916,
          0.42946201085502045,
          0.42568463337752727,
          0.4248664054937798,
          0.4260998407439686,
          0.4295912142298941,
          0.42965281379758186,
          0.42846624869313354,
          0.42569953066098104,
          0.4290377970099768,
          0.4246361336938267,
          0.4253512380897725,
          0.4244061637830093,
          0.4260128279276407,
          0.4250933544346184,
          0.42652545412947,
          0.4274752171412167,
          0.4284150157623846,
          0.4297035643350135,
          0.43174847045770715,
          0.4253826621997243,
          0.4263134099896724,
          0.4410653704321364,
          0.427044049795885,
          0.4270055674336087,
          0.43128766761866355,
          0.42638261239398056,
          0.4285921832679761,
          0.42919687693124253,
          0.4260492702641753,
          0.42598452301317674,
          0.42575141884644446,
          0.42674654590178773,
          0.4245494006274876,
          0.4280190078562535,
          0.4283229337015121,
          0.4273096151936605,
          0.4267321941715224,
          0.4283227706078773,
          0.434618016881937,
          0.4254270130855227,
          0.4258885622945655,
          0.42768967679691716,
          0.4283314044068973,
          0.4311033753206721,
          0.4297001187366791,
          0.42863251727855556,
          0.428410630726303,
          0.42690827246611757,
          0.4261530807384416,
          0.42525181404339635,
          0.4262300241474997,
          0.42612541145908384,
          0.42775957262776104,
          0.4254539004100977,
          0.4284133846846319,
          0.42986665693767057,
          0.42584337025875385,
          0.4288982423908262,
          0.42704178365522294,
          0.42622257854404494,
          0.4250773022294201,
          0.42746087888713535,
          0.4266396304442934,
          0.4270540048922683,
          0.42981431170390155,
          0.42658225189674315,
          0.42806817508851946,
          0.4254344958392978,
          0.426594813935725,
          0.4250303749312333,
          0.4267290452694503,
          0.42667070094566933,
          0.425869789498452,
          0.42691409515187617,
          0.42987581533295965,
          0.4276537297102581,
          0.43060178038785396,
          0.42664082502699063,
          0.4251918166712021,
          0.42791650171712126,
          0.4253936672608418,
          0.42421285703804806,
          0.4238437724974041,
          0.4250972066515999,
          0.42695873049219457,
          0.42795615429586975,
          0.4282814991092164,
          0.42544920746637666,
          0.42709533007441436,
          0.4254015139729702,
          0.42634757409808277,
          0.42505875969514817,
          0.42620974338770334,
          0.4245624054089549,
          0.4257807523207028,
          0.42606106641191593,
          0.4244929462985822,
          0.4253894606532837,
          0.4308849936295453,
          0.42664125082251675,
          0.4267421891672978,
          0.42588594687903897,
          0.4311876679005035
         ],
         "yaxis": "y3"
        },
        {
         "marker": {
          "color": [
           0,
           1,
           2,
           3,
           4,
           5,
           6,
           7,
           8,
           9,
           10,
           11,
           12,
           13,
           14,
           15,
           16,
           17,
           18,
           19,
           20,
           21,
           22,
           23,
           24,
           25,
           26,
           27,
           28,
           29,
           30,
           31,
           32,
           33,
           34,
           35,
           36,
           37,
           38,
           39,
           40,
           41,
           42,
           43,
           44,
           45,
           46,
           47,
           48,
           49,
           50,
           51,
           52,
           53,
           54,
           55,
           56,
           57,
           58,
           59,
           60,
           61,
           62,
           63,
           64,
           65,
           66,
           67,
           68,
           69,
           70,
           71,
           72,
           73,
           74,
           75,
           76,
           77,
           78,
           79,
           80,
           81,
           82,
           83,
           84,
           85,
           86,
           87,
           88,
           89,
           90,
           91,
           92,
           93,
           94,
           95,
           96,
           97,
           98,
           99,
           100,
           101,
           102,
           103,
           104,
           105,
           106,
           107,
           108,
           109,
           110,
           111,
           112,
           113,
           114,
           115,
           116,
           117,
           118,
           119,
           120,
           121,
           122,
           123,
           124,
           125,
           126,
           127,
           128,
           129,
           130,
           131,
           132,
           133,
           134,
           135,
           136,
           137,
           138,
           139,
           140,
           141,
           142,
           143,
           144
          ],
          "colorbar": {
           "title": {
            "text": "Trial"
           },
           "x": 1,
           "xpad": 40
          },
          "colorscale": [
           [
            0,
            "rgb(247,251,255)"
           ],
           [
            0.125,
            "rgb(222,235,247)"
           ],
           [
            0.25,
            "rgb(198,219,239)"
           ],
           [
            0.375,
            "rgb(158,202,225)"
           ],
           [
            0.5,
            "rgb(107,174,214)"
           ],
           [
            0.625,
            "rgb(66,146,198)"
           ],
           [
            0.75,
            "rgb(33,113,181)"
           ],
           [
            0.875,
            "rgb(8,81,156)"
           ],
           [
            1,
            "rgb(8,48,107)"
           ]
          ],
          "line": {
           "color": "Grey",
           "width": 0.5
          },
          "showscale": false
         },
         "mode": "markers",
         "name": "Feasible Trial",
         "showlegend": false,
         "type": "scatter",
         "x": [
          0.000678149725710843,
          0.0057587658482313505,
          0.04641577742499493,
          0.0024015599769729003,
          9.571884879630313e-7,
          4.1685223411104224e-7,
          2.610643858605602e-8,
          0.10506206681790645,
          0.0023488393162271865,
          1.3668449818975336e-8,
          59.13643402467161,
          0.000020256288792323887,
          0.000007986476573806585,
          0.000010942696108378977,
          0.000004334530999269116,
          0.00007482251604850214,
          0.00018781970841726754,
          0.00012338721679882426,
          0.3331481154894423,
          0.00020918655606109266,
          5.691496396794516,
          0.000167807377497198,
          0.00008223729071639668,
          1.609880964658716e-7,
          0.015746218871137484,
          0.0000614075153722537,
          0.0005475690103891232,
          0.0000019165240052013668,
          0.00003662647237548877,
          0.0006072675994944387,
          0.0008200748011927867,
          0.00032252156605169454,
          0.010460904076312645,
          0.0010659874609470676,
          0.003866979671085995,
          0.03627228304529086,
          0.23428430041130371,
          0.0014727924857406635,
          0.00033031789489132825,
          0.00524146579905428,
          1.0201733829205057e-7,
          0.0007794008196029905,
          0.000029631217866566626,
          0.0003665003861300402,
          0.0019806611675212368,
          0.0000015366354892915448,
          0.000005889016255960019,
          0.02565796059253085,
          0.0030418059773631998,
          0.000015499737653380976,
          0.00002084445868772793,
          0.0002667461487590782,
          0.00007950117567417243,
          0.00008347987567664066,
          0.00018082390425258884,
          0.000057532153531820704,
          0.00007745303641365192,
          0.000036921283472662886,
          0.0000050786869013125196,
          5.122378832650549e-7,
          0.0000882470026306875,
          0.00013094556775626606,
          0.0020112803310623206,
          0.00004259904632587743,
          0.00001243018646735742,
          0.0001479723671609,
          0.0000021521242917846352,
          0.00007148461663726357,
          0.01110666103314373,
          0.0003466259134375227,
          0.000008468494660485076,
          0.00020506539213388647,
          0.0016143079477969934,
          0.0005014559947022292,
          0.00011443503188038322,
          0.00012194295078660527,
          0.000020778658464315533,
          0.0009306968006407353,
          0.00005037611599556023,
          20.462753577726378,
          0.0000026235274258993137,
          0.00023184199742208922,
          0.0003605213127205386,
          0.0001328310340208594,
          0.00002900637741863334,
          0.0011463773611347643,
          0.00024690096471922094,
          0.005084237740820677,
          0.0005711602430880297,
          0.00009739060606942062,
          0.000056005484985651685,
          0.00018278114272446953,
          0.00023156299139041436,
          0.00002667835045010529,
          0.002712856217878637,
          0.0005858619749535273,
          0.000013047686968946173,
          0.000054185506038690535,
          0.00011695710411236733,
          0.0781504123350886,
          0.00022765215592098192,
          0.0006063781209893829,
          0.0004164373609256175,
          0.0013824458562092653,
          0.00008761112650959033,
          0.0003912244561717648,
          0.00004291280915137076,
          0.00015164007912848087,
          0.000018259825793996805,
          0.00724561194621391,
          1.1649013651317988,
          0.0060820933559223665,
          0.0009472801541837986,
          0.002152702747907882,
          0.0002777900316083152,
          0.0036053971829737804,
          0.02283117145717644,
          0.00007473178979195025,
          0.00012769966029003695,
          0.000009427825576846498,
          0.00003081984644484321,
          0.000042833561549972295,
          0.000029899057870147852,
          0.000027765882025137965,
          0.000006201879103615396,
          0.0000036119396756864365,
          0.000004999005028989048,
          0.0000029575749919609295,
          0.000014598328864809323,
          0.0000036080501073174474,
          0.00001966446011861779,
          0.0000014499443001485097,
          0.000008313391746143394,
          6.143777952122693e-7,
          0.000007075963251343932,
          3.600553270488016e-7,
          2.1183383251966765e-7,
          8.02023276936849e-7,
          2.0106825084171114e-7,
          5.0881409070608626e-8,
          8.068578151638113e-7,
          3.156352216995063e-7,
          1.1746967551339754e-7,
          4.85016443372544e-7,
          1.392951981237419e-8
         ],
         "xaxis": "x4",
         "y": [
          0.4367344029031073,
          0.44612993071058,
          0.4322928559858129,
          0.43187797869363564,
          0.4285882862007878,
          0.4370363585189979,
          0.44200495239303245,
          0.4377236231793196,
          0.42970395315943993,
          0.4299220554942626,
          0.4369752630857451,
          0.4278727335963035,
          0.4297485446228543,
          0.42955139423383243,
          0.4295463970083596,
          0.42490424315604713,
          0.4256433474502157,
          0.4276120055983773,
          0.4290938160224673,
          0.42726419092400986,
          0.4409686482721914,
          0.4271552737631585,
          0.42729932074529825,
          0.4282258894596579,
          0.4291543574544102,
          0.42835872356317245,
          0.4317890211626324,
          0.43404659429849585,
          0.430310825126618,
          0.4267741900296468,
          0.432602445348643,
          0.4258719943800603,
          0.4275108954841527,
          0.4259027215852912,
          0.42987293722100856,
          0.42825164579091324,
          0.42828462971416564,
          0.42883500191799273,
          0.4281541853803401,
          0.4386040774044021,
          0.45903212451154457,
          0.42775705806559916,
          0.42946201085502045,
          0.42568463337752727,
          0.4248664054937798,
          0.4260998407439686,
          0.4295912142298941,
          0.42965281379758186,
          0.42846624869313354,
          0.42569953066098104,
          0.4290377970099768,
          0.4246361336938267,
          0.4253512380897725,
          0.4244061637830093,
          0.4260128279276407,
          0.4250933544346184,
          0.42652545412947,
          0.4274752171412167,
          0.4284150157623846,
          0.4297035643350135,
          0.43174847045770715,
          0.4253826621997243,
          0.4263134099896724,
          0.4410653704321364,
          0.427044049795885,
          0.4270055674336087,
          0.43128766761866355,
          0.42638261239398056,
          0.4285921832679761,
          0.42919687693124253,
          0.4260492702641753,
          0.42598452301317674,
          0.42575141884644446,
          0.42674654590178773,
          0.4245494006274876,
          0.4280190078562535,
          0.4283229337015121,
          0.4273096151936605,
          0.4267321941715224,
          0.4283227706078773,
          0.434618016881937,
          0.4254270130855227,
          0.4258885622945655,
          0.42768967679691716,
          0.4283314044068973,
          0.4311033753206721,
          0.4297001187366791,
          0.42863251727855556,
          0.428410630726303,
          0.42690827246611757,
          0.4261530807384416,
          0.42525181404339635,
          0.4262300241474997,
          0.42612541145908384,
          0.42775957262776104,
          0.4254539004100977,
          0.4284133846846319,
          0.42986665693767057,
          0.42584337025875385,
          0.4288982423908262,
          0.42704178365522294,
          0.42622257854404494,
          0.4250773022294201,
          0.42746087888713535,
          0.4266396304442934,
          0.4270540048922683,
          0.42981431170390155,
          0.42658225189674315,
          0.42806817508851946,
          0.4254344958392978,
          0.426594813935725,
          0.4250303749312333,
          0.4267290452694503,
          0.42667070094566933,
          0.425869789498452,
          0.42691409515187617,
          0.42987581533295965,
          0.4276537297102581,
          0.43060178038785396,
          0.42664082502699063,
          0.4251918166712021,
          0.42791650171712126,
          0.4253936672608418,
          0.42421285703804806,
          0.4238437724974041,
          0.4250972066515999,
          0.42695873049219457,
          0.42795615429586975,
          0.4282814991092164,
          0.42544920746637666,
          0.42709533007441436,
          0.4254015139729702,
          0.42634757409808277,
          0.42505875969514817,
          0.42620974338770334,
          0.4245624054089549,
          0.4257807523207028,
          0.42606106641191593,
          0.4244929462985822,
          0.4253894606532837,
          0.4308849936295453,
          0.42664125082251675,
          0.4267421891672978,
          0.42588594687903897,
          0.4311876679005035
         ],
         "yaxis": "y4"
        },
        {
         "marker": {
          "color": [
           0,
           1,
           2,
           3,
           4,
           5,
           6,
           7,
           8,
           9,
           10,
           11,
           12,
           13,
           14,
           15,
           16,
           17,
           18,
           19,
           20,
           21,
           22,
           23,
           24,
           25,
           26,
           27,
           28,
           29,
           30,
           31,
           32,
           33,
           34,
           35,
           36,
           37,
           38,
           39,
           40,
           41,
           42,
           43,
           44,
           45,
           46,
           47,
           48,
           49,
           50,
           51,
           52,
           53,
           54,
           55,
           56,
           57,
           58,
           59,
           60,
           61,
           62,
           63,
           64,
           65,
           66,
           67,
           68,
           69,
           70,
           71,
           72,
           73,
           74,
           75,
           76,
           77,
           78,
           79,
           80,
           81,
           82,
           83,
           84,
           85,
           86,
           87,
           88,
           89,
           90,
           91,
           92,
           93,
           94,
           95,
           96,
           97,
           98,
           99,
           100,
           101,
           102,
           103,
           104,
           105,
           106,
           107,
           108,
           109,
           110,
           111,
           112,
           113,
           114,
           115,
           116,
           117,
           118,
           119,
           120,
           121,
           122,
           123,
           124,
           125,
           126,
           127,
           128,
           129,
           130,
           131,
           132,
           133,
           134,
           135,
           136,
           137,
           138,
           139,
           140,
           141,
           142,
           143,
           144
          ],
          "colorbar": {
           "title": {
            "text": "Trial"
           },
           "x": 1,
           "xpad": 40
          },
          "colorscale": [
           [
            0,
            "rgb(247,251,255)"
           ],
           [
            0.125,
            "rgb(222,235,247)"
           ],
           [
            0.25,
            "rgb(198,219,239)"
           ],
           [
            0.375,
            "rgb(158,202,225)"
           ],
           [
            0.5,
            "rgb(107,174,214)"
           ],
           [
            0.625,
            "rgb(66,146,198)"
           ],
           [
            0.75,
            "rgb(33,113,181)"
           ],
           [
            0.875,
            "rgb(8,81,156)"
           ],
           [
            1,
            "rgb(8,48,107)"
           ]
          ],
          "line": {
           "color": "Grey",
           "width": 0.5
          },
          "showscale": false
         },
         "mode": "markers",
         "name": "Feasible Trial",
         "showlegend": false,
         "type": "scatter",
         "x": [
          1.9182975743168276,
          4.2697252693826395e-8,
          1.3126769220383745,
          0.00016715708986649288,
          0.000004394686314476254,
          0.0011325332663690393,
          0.07499855527009243,
          2.470375784788902e-7,
          5.775789086486425e-8,
          0.04015227135235682,
          0.000012504982516966533,
          0.0000017336405363429542,
          0.000007587825257727554,
          0.0000028412803196176514,
          0.000300283378483073,
          0.0000013069759352129528,
          1.1076200039623143e-8,
          1.1129169196261016e-8,
          2.36072397604469e-7,
          0.00005740510551695411,
          3.9009981579023637e-7,
          0.0000299577673366954,
          96.22163203139966,
          0.0027357667290617738,
          0.00003102062902902761,
          1.090252902167097e-8,
          9.88581698169544e-7,
          7.094014417159566e-8,
          0.004102224672860864,
          0.0000525605240287883,
          5.977386964317892e-7,
          0.00005681375110817797,
          0.0001667148969023,
          0.012598404716261254,
          0.017825397883243166,
          0.4529193560181608,
          0.0007329522546185206,
          7.669061932899906,
          0.011197971296448986,
          0.20340822012465637,
          1.1592842517800878e-7,
          0.00014777777557773138,
          0.0010281205052551264,
          0.000009492903013292893,
          0.000006139017355370874,
          0.000009420505307109967,
          0.000003173538395748825,
          2.9409254819001123e-8,
          0.0000015307570253928449,
          0.000009802528672793945,
          0.000013356320048916769,
          0.000005837647133626065,
          0.000004456283857897706,
          1.888569341325439e-7,
          1.6621340424599575e-7,
          3.805017303802811e-8,
          2.9632671690110938e-8,
          4.472757342081962e-7,
          9.345510673048698e-7,
          0.000003989729216465651,
          7.102198456198719e-8,
          1.736062377602489e-8,
          3.108394853578292e-8,
          2.4303534357659976e-7,
          0.0000013723544238731761,
          9.624857121886268e-8,
          1.819378323103675e-8,
          0.00002349396135257676,
          4.726286996974898e-7,
          4.640071904933047e-8,
          0.00000462446313808022,
          1.013603830086484e-8,
          2.0490719324805228e-7,
          1.5264441173158358e-8,
          6.710521128433318e-7,
          7.409622270802858e-7,
          0.000002997563110259261,
          3.2073048902821383e-7,
          1.6702467530861438e-7,
          0.000001932628692379674,
          0.000020247516097365756,
          6.478814374831277e-8,
          6.299176233451004e-8,
          1.1759234616862221e-7,
          8.777201186886632e-7,
          0.000005609126497248559,
          2.6557346639549426e-8,
          0.000001614335930445819,
          0.00009119119664907681,
          0.0004447092898817018,
          3.261851633819201e-7,
          1.833033171288178e-8,
          4.6962466324240517e-8,
          2.0953378356493947e-8,
          9.908786150477434e-8,
          5.44553610351781e-7,
          1.7240637038939854e-8,
          1.4938813152147667e-7,
          0.0000023907379515063046,
          5.5843278537744586e-8,
          4.244660992849679e-8,
          5.190675531459124e-7,
          2.8536187773475395e-7,
          2.2916342898699735e-7,
          0.0000010563269909737531,
          8.025087892663786e-8,
          0.000017231551896893906,
          0.000006569324953180353,
          0.00003699806028643667,
          1.363051154727526e-8,
          3.429470283270049e-8,
          1.3369668414505441e-8,
          2.776493943231598e-8,
          1.2946080836008174e-7,
          3.0735144583697534e-7,
          1.947470424706807e-8,
          1.0796803745321222e-8,
          8.60946294853584e-8,
          7.152211989041356e-7,
          0.000003808124407721918,
          0.0000012104557905068048,
          0.000002289263505192548,
          0.0000012240544368738235,
          0.000001266775079500618,
          0.000006872642347262283,
          0.000007373839492069225,
          0.000009959953389629985,
          0.000006341367153760854,
          0.0000020863453648643582,
          0.0000014451498576180273,
          4.239994531526366e-7,
          0.000014091988612888984,
          0.000003960533392121641,
          0.0000028246212978208496,
          8.237406107588708e-7,
          0.0000024491116633930983,
          0.0000015558202076957867,
          0.000002863145532558425,
          0.00000882211731863969,
          0.0000420043979079458,
          0.00000600640933583098,
          0.000008977679845848834,
          0.0000022544736180934336,
          0.00002458626895151838,
          0.0000010408216163832565
         ],
         "xaxis": "x5",
         "y": [
          0.4367344029031073,
          0.44612993071058,
          0.4322928559858129,
          0.43187797869363564,
          0.4285882862007878,
          0.4370363585189979,
          0.44200495239303245,
          0.4377236231793196,
          0.42970395315943993,
          0.4299220554942626,
          0.4369752630857451,
          0.4278727335963035,
          0.4297485446228543,
          0.42955139423383243,
          0.4295463970083596,
          0.42490424315604713,
          0.4256433474502157,
          0.4276120055983773,
          0.4290938160224673,
          0.42726419092400986,
          0.4409686482721914,
          0.4271552737631585,
          0.42729932074529825,
          0.4282258894596579,
          0.4291543574544102,
          0.42835872356317245,
          0.4317890211626324,
          0.43404659429849585,
          0.430310825126618,
          0.4267741900296468,
          0.432602445348643,
          0.4258719943800603,
          0.4275108954841527,
          0.4259027215852912,
          0.42987293722100856,
          0.42825164579091324,
          0.42828462971416564,
          0.42883500191799273,
          0.4281541853803401,
          0.4386040774044021,
          0.45903212451154457,
          0.42775705806559916,
          0.42946201085502045,
          0.42568463337752727,
          0.4248664054937798,
          0.4260998407439686,
          0.4295912142298941,
          0.42965281379758186,
          0.42846624869313354,
          0.42569953066098104,
          0.4290377970099768,
          0.4246361336938267,
          0.4253512380897725,
          0.4244061637830093,
          0.4260128279276407,
          0.4250933544346184,
          0.42652545412947,
          0.4274752171412167,
          0.4284150157623846,
          0.4297035643350135,
          0.43174847045770715,
          0.4253826621997243,
          0.4263134099896724,
          0.4410653704321364,
          0.427044049795885,
          0.4270055674336087,
          0.43128766761866355,
          0.42638261239398056,
          0.4285921832679761,
          0.42919687693124253,
          0.4260492702641753,
          0.42598452301317674,
          0.42575141884644446,
          0.42674654590178773,
          0.4245494006274876,
          0.4280190078562535,
          0.4283229337015121,
          0.4273096151936605,
          0.4267321941715224,
          0.4283227706078773,
          0.434618016881937,
          0.4254270130855227,
          0.4258885622945655,
          0.42768967679691716,
          0.4283314044068973,
          0.4311033753206721,
          0.4297001187366791,
          0.42863251727855556,
          0.428410630726303,
          0.42690827246611757,
          0.4261530807384416,
          0.42525181404339635,
          0.4262300241474997,
          0.42612541145908384,
          0.42775957262776104,
          0.4254539004100977,
          0.4284133846846319,
          0.42986665693767057,
          0.42584337025875385,
          0.4288982423908262,
          0.42704178365522294,
          0.42622257854404494,
          0.4250773022294201,
          0.42746087888713535,
          0.4266396304442934,
          0.4270540048922683,
          0.42981431170390155,
          0.42658225189674315,
          0.42806817508851946,
          0.4254344958392978,
          0.426594813935725,
          0.4250303749312333,
          0.4267290452694503,
          0.42667070094566933,
          0.425869789498452,
          0.42691409515187617,
          0.42987581533295965,
          0.4276537297102581,
          0.43060178038785396,
          0.42664082502699063,
          0.4251918166712021,
          0.42791650171712126,
          0.4253936672608418,
          0.42421285703804806,
          0.4238437724974041,
          0.4250972066515999,
          0.42695873049219457,
          0.42795615429586975,
          0.4282814991092164,
          0.42544920746637666,
          0.42709533007441436,
          0.4254015139729702,
          0.42634757409808277,
          0.42505875969514817,
          0.42620974338770334,
          0.4245624054089549,
          0.4257807523207028,
          0.42606106641191593,
          0.4244929462985822,
          0.4253894606532837,
          0.4308849936295453,
          0.42664125082251675,
          0.4267421891672978,
          0.42588594687903897,
          0.4311876679005035
         ],
         "yaxis": "y5"
        },
        {
         "marker": {
          "color": [
           0,
           1,
           2,
           3,
           4,
           5,
           6,
           7,
           8,
           9,
           10,
           11,
           12,
           13,
           14,
           15,
           16,
           17,
           18,
           19,
           20,
           21,
           22,
           23,
           24,
           25,
           26,
           27,
           28,
           29,
           30,
           31,
           32,
           33,
           34,
           35,
           36,
           37,
           38,
           39,
           40,
           41,
           42,
           43,
           44,
           45,
           46,
           47,
           48,
           49,
           50,
           51,
           52,
           53,
           54,
           55,
           56,
           57,
           58,
           59,
           60,
           61,
           62,
           63,
           64,
           65,
           66,
           67,
           68,
           69,
           70,
           71,
           72,
           73,
           74,
           75,
           76,
           77,
           78,
           79,
           80,
           81,
           82,
           83,
           84,
           85,
           86,
           87,
           88,
           89,
           90,
           91,
           92,
           93,
           94,
           95,
           96,
           97,
           98,
           99,
           100,
           101,
           102,
           103,
           104,
           105,
           106,
           107,
           108,
           109,
           110,
           111,
           112,
           113,
           114,
           115,
           116,
           117,
           118,
           119,
           120,
           121,
           122,
           123,
           124,
           125,
           126,
           127,
           128,
           129,
           130,
           131,
           132,
           133,
           134,
           135,
           136,
           137,
           138,
           139,
           140,
           141,
           142,
           143,
           144
          ],
          "colorbar": {
           "title": {
            "text": "Trial"
           },
           "x": 1,
           "xpad": 40
          },
          "colorscale": [
           [
            0,
            "rgb(247,251,255)"
           ],
           [
            0.125,
            "rgb(222,235,247)"
           ],
           [
            0.25,
            "rgb(198,219,239)"
           ],
           [
            0.375,
            "rgb(158,202,225)"
           ],
           [
            0.5,
            "rgb(107,174,214)"
           ],
           [
            0.625,
            "rgb(66,146,198)"
           ],
           [
            0.75,
            "rgb(33,113,181)"
           ],
           [
            0.875,
            "rgb(8,81,156)"
           ],
           [
            1,
            "rgb(8,48,107)"
           ]
          ],
          "line": {
           "color": "Grey",
           "width": 0.5
          },
          "showscale": false
         },
         "mode": "markers",
         "name": "Feasible Trial",
         "showlegend": false,
         "type": "scatter",
         "x": [
          160,
          387,
          346,
          161,
          395,
          264,
          231,
          168,
          443,
          279,
          502,
          478,
          511,
          407,
          337,
          52,
          40,
          36,
          38,
          98,
          103,
          94,
          87,
          63,
          124,
          191,
          129,
          63,
          74,
          205,
          227,
          132,
          139,
          199,
          149,
          32,
          178,
          283,
          56,
          112,
          235,
          184,
          223,
          196,
          253,
          330,
          305,
          257,
          166,
          254,
          306,
          219,
          365,
          362,
          374,
          417,
          422,
          370,
          473,
          351,
          440,
          382,
          403,
          375,
          420,
          348,
          325,
          462,
          395,
          360,
          296,
          434,
          389,
          414,
          271,
          277,
          320,
          243,
          264,
          360,
          213,
          78,
          289,
          86,
          55,
          339,
          268,
          456,
          114,
          248,
          313,
          45,
          44,
          65,
          150,
          79,
          492,
          380,
          45,
          73,
          404,
          83,
          107,
          109,
          53,
          97,
          215,
          384,
          32,
          64,
          122,
          71,
          48,
          72,
          235,
          86,
          368,
          429,
          259,
          395,
          97,
          90,
          98,
          106,
          118,
          149,
          139,
          107,
          118,
          95,
          177,
          138,
          156,
          133,
          132,
          126,
          143,
          162,
          122,
          127,
          120,
          107,
          130,
          147,
          105
         ],
         "xaxis": "x6",
         "y": [
          0.4367344029031073,
          0.44612993071058,
          0.4322928559858129,
          0.43187797869363564,
          0.4285882862007878,
          0.4370363585189979,
          0.44200495239303245,
          0.4377236231793196,
          0.42970395315943993,
          0.4299220554942626,
          0.4369752630857451,
          0.4278727335963035,
          0.4297485446228543,
          0.42955139423383243,
          0.4295463970083596,
          0.42490424315604713,
          0.4256433474502157,
          0.4276120055983773,
          0.4290938160224673,
          0.42726419092400986,
          0.4409686482721914,
          0.4271552737631585,
          0.42729932074529825,
          0.4282258894596579,
          0.4291543574544102,
          0.42835872356317245,
          0.4317890211626324,
          0.43404659429849585,
          0.430310825126618,
          0.4267741900296468,
          0.432602445348643,
          0.4258719943800603,
          0.4275108954841527,
          0.4259027215852912,
          0.42987293722100856,
          0.42825164579091324,
          0.42828462971416564,
          0.42883500191799273,
          0.4281541853803401,
          0.4386040774044021,
          0.45903212451154457,
          0.42775705806559916,
          0.42946201085502045,
          0.42568463337752727,
          0.4248664054937798,
          0.4260998407439686,
          0.4295912142298941,
          0.42965281379758186,
          0.42846624869313354,
          0.42569953066098104,
          0.4290377970099768,
          0.4246361336938267,
          0.4253512380897725,
          0.4244061637830093,
          0.4260128279276407,
          0.4250933544346184,
          0.42652545412947,
          0.4274752171412167,
          0.4284150157623846,
          0.4297035643350135,
          0.43174847045770715,
          0.4253826621997243,
          0.4263134099896724,
          0.4410653704321364,
          0.427044049795885,
          0.4270055674336087,
          0.43128766761866355,
          0.42638261239398056,
          0.4285921832679761,
          0.42919687693124253,
          0.4260492702641753,
          0.42598452301317674,
          0.42575141884644446,
          0.42674654590178773,
          0.4245494006274876,
          0.4280190078562535,
          0.4283229337015121,
          0.4273096151936605,
          0.4267321941715224,
          0.4283227706078773,
          0.434618016881937,
          0.4254270130855227,
          0.4258885622945655,
          0.42768967679691716,
          0.4283314044068973,
          0.4311033753206721,
          0.4297001187366791,
          0.42863251727855556,
          0.428410630726303,
          0.42690827246611757,
          0.4261530807384416,
          0.42525181404339635,
          0.4262300241474997,
          0.42612541145908384,
          0.42775957262776104,
          0.4254539004100977,
          0.4284133846846319,
          0.42986665693767057,
          0.42584337025875385,
          0.4288982423908262,
          0.42704178365522294,
          0.42622257854404494,
          0.4250773022294201,
          0.42746087888713535,
          0.4266396304442934,
          0.4270540048922683,
          0.42981431170390155,
          0.42658225189674315,
          0.42806817508851946,
          0.4254344958392978,
          0.426594813935725,
          0.4250303749312333,
          0.4267290452694503,
          0.42667070094566933,
          0.425869789498452,
          0.42691409515187617,
          0.42987581533295965,
          0.4276537297102581,
          0.43060178038785396,
          0.42664082502699063,
          0.4251918166712021,
          0.42791650171712126,
          0.4253936672608418,
          0.42421285703804806,
          0.4238437724974041,
          0.4250972066515999,
          0.42695873049219457,
          0.42795615429586975,
          0.4282814991092164,
          0.42544920746637666,
          0.42709533007441436,
          0.4254015139729702,
          0.42634757409808277,
          0.42505875969514817,
          0.42620974338770334,
          0.4245624054089549,
          0.4257807523207028,
          0.42606106641191593,
          0.4244929462985822,
          0.4253894606532837,
          0.4308849936295453,
          0.42664125082251675,
          0.4267421891672978,
          0.42588594687903897,
          0.4311876679005035
         ],
         "yaxis": "y6"
        },
        {
         "marker": {
          "color": [
           0,
           1,
           2,
           3,
           4,
           5,
           6,
           7,
           8,
           9,
           10,
           11,
           12,
           13,
           14,
           15,
           16,
           17,
           18,
           19,
           20,
           21,
           22,
           23,
           24,
           25,
           26,
           27,
           28,
           29,
           30,
           31,
           32,
           33,
           34,
           35,
           36,
           37,
           38,
           39,
           40,
           41,
           42,
           43,
           44,
           45,
           46,
           47,
           48,
           49,
           50,
           51,
           52,
           53,
           54,
           55,
           56,
           57,
           58,
           59,
           60,
           61,
           62,
           63,
           64,
           65,
           66,
           67,
           68,
           69,
           70,
           71,
           72,
           73,
           74,
           75,
           76,
           77,
           78,
           79,
           80,
           81,
           82,
           83,
           84,
           85,
           86,
           87,
           88,
           89,
           90,
           91,
           92,
           93,
           94,
           95,
           96,
           97,
           98,
           99,
           100,
           101,
           102,
           103,
           104,
           105,
           106,
           107,
           108,
           109,
           110,
           111,
           112,
           113,
           114,
           115,
           116,
           117,
           118,
           119,
           120,
           121,
           122,
           123,
           124,
           125,
           126,
           127,
           128,
           129,
           130,
           131,
           132,
           133,
           134,
           135,
           136,
           137,
           138,
           139,
           140,
           141,
           142,
           143,
           144
          ],
          "colorbar": {
           "title": {
            "text": "Trial"
           },
           "x": 1,
           "xpad": 40
          },
          "colorscale": [
           [
            0,
            "rgb(247,251,255)"
           ],
           [
            0.125,
            "rgb(222,235,247)"
           ],
           [
            0.25,
            "rgb(198,219,239)"
           ],
           [
            0.375,
            "rgb(158,202,225)"
           ],
           [
            0.5,
            "rgb(107,174,214)"
           ],
           [
            0.625,
            "rgb(66,146,198)"
           ],
           [
            0.75,
            "rgb(33,113,181)"
           ],
           [
            0.875,
            "rgb(8,81,156)"
           ],
           [
            1,
            "rgb(8,48,107)"
           ]
          ],
          "line": {
           "color": "Grey",
           "width": 0.5
          },
          "showscale": false
         },
         "mode": "markers",
         "name": "Feasible Trial",
         "showlegend": false,
         "type": "scatter",
         "x": [
          702,
          668,
          193,
          383,
          485,
          898,
          667,
          810,
          689,
          653,
          421,
          460,
          441,
          226,
          495,
          312,
          290,
          300,
          298,
          313,
          109,
          319,
          177,
          570,
          317,
          376,
          114,
          233,
          538,
          366,
          368,
          251,
          264,
          154,
          169,
          145,
          227,
          204,
          263,
          991,
          150,
          362,
          409,
          271,
          245,
          265,
          796,
          204,
          486,
          332,
          343,
          273,
          271,
          286,
          300,
          404,
          422,
          404,
          447,
          597,
          201,
          286,
          287,
          343,
          235,
          395,
          330,
          289,
          532,
          238,
          198,
          288,
          314,
          358,
          248,
          178,
          121,
          223,
          252,
          267,
          314,
          286,
          220,
          387,
          249,
          278,
          177,
          353,
          316,
          215,
          458,
          298,
          250,
          303,
          329,
          280,
          376,
          134,
          430,
          162,
          190,
          274,
          298,
          335,
          303,
          236,
          739,
          255,
          356,
          292,
          218,
          300,
          299,
          325,
          265,
          247,
          344,
          506,
          278,
          625,
          314,
          317,
          235,
          264,
          264,
          208,
          199,
          224,
          186,
          258,
          208,
          298,
          243,
          271,
          263,
          382,
          370,
          393,
          344,
          414,
          346,
          332,
          313,
          365,
          908
         ],
         "xaxis": "x7",
         "y": [
          0.4367344029031073,
          0.44612993071058,
          0.4322928559858129,
          0.43187797869363564,
          0.4285882862007878,
          0.4370363585189979,
          0.44200495239303245,
          0.4377236231793196,
          0.42970395315943993,
          0.4299220554942626,
          0.4369752630857451,
          0.4278727335963035,
          0.4297485446228543,
          0.42955139423383243,
          0.4295463970083596,
          0.42490424315604713,
          0.4256433474502157,
          0.4276120055983773,
          0.4290938160224673,
          0.42726419092400986,
          0.4409686482721914,
          0.4271552737631585,
          0.42729932074529825,
          0.4282258894596579,
          0.4291543574544102,
          0.42835872356317245,
          0.4317890211626324,
          0.43404659429849585,
          0.430310825126618,
          0.4267741900296468,
          0.432602445348643,
          0.4258719943800603,
          0.4275108954841527,
          0.4259027215852912,
          0.42987293722100856,
          0.42825164579091324,
          0.42828462971416564,
          0.42883500191799273,
          0.4281541853803401,
          0.4386040774044021,
          0.45903212451154457,
          0.42775705806559916,
          0.42946201085502045,
          0.42568463337752727,
          0.4248664054937798,
          0.4260998407439686,
          0.4295912142298941,
          0.42965281379758186,
          0.42846624869313354,
          0.42569953066098104,
          0.4290377970099768,
          0.4246361336938267,
          0.4253512380897725,
          0.4244061637830093,
          0.4260128279276407,
          0.4250933544346184,
          0.42652545412947,
          0.4274752171412167,
          0.4284150157623846,
          0.4297035643350135,
          0.43174847045770715,
          0.4253826621997243,
          0.4263134099896724,
          0.4410653704321364,
          0.427044049795885,
          0.4270055674336087,
          0.43128766761866355,
          0.42638261239398056,
          0.4285921832679761,
          0.42919687693124253,
          0.4260492702641753,
          0.42598452301317674,
          0.42575141884644446,
          0.42674654590178773,
          0.4245494006274876,
          0.4280190078562535,
          0.4283229337015121,
          0.4273096151936605,
          0.4267321941715224,
          0.4283227706078773,
          0.434618016881937,
          0.4254270130855227,
          0.4258885622945655,
          0.42768967679691716,
          0.4283314044068973,
          0.4311033753206721,
          0.4297001187366791,
          0.42863251727855556,
          0.428410630726303,
          0.42690827246611757,
          0.4261530807384416,
          0.42525181404339635,
          0.4262300241474997,
          0.42612541145908384,
          0.42775957262776104,
          0.4254539004100977,
          0.4284133846846319,
          0.42986665693767057,
          0.42584337025875385,
          0.4288982423908262,
          0.42704178365522294,
          0.42622257854404494,
          0.4250773022294201,
          0.42746087888713535,
          0.4266396304442934,
          0.4270540048922683,
          0.42981431170390155,
          0.42658225189674315,
          0.42806817508851946,
          0.4254344958392978,
          0.426594813935725,
          0.4250303749312333,
          0.4267290452694503,
          0.42667070094566933,
          0.425869789498452,
          0.42691409515187617,
          0.42987581533295965,
          0.4276537297102581,
          0.43060178038785396,
          0.42664082502699063,
          0.4251918166712021,
          0.42791650171712126,
          0.4253936672608418,
          0.42421285703804806,
          0.4238437724974041,
          0.4250972066515999,
          0.42695873049219457,
          0.42795615429586975,
          0.4282814991092164,
          0.42544920746637666,
          0.42709533007441436,
          0.4254015139729702,
          0.42634757409808277,
          0.42505875969514817,
          0.42620974338770334,
          0.4245624054089549,
          0.4257807523207028,
          0.42606106641191593,
          0.4244929462985822,
          0.4253894606532837,
          0.4308849936295453,
          0.42664125082251675,
          0.4267421891672978,
          0.42588594687903897,
          0.4311876679005035
         ],
         "yaxis": "y7"
        },
        {
         "marker": {
          "color": [
           0,
           1,
           2,
           3,
           4,
           5,
           6,
           7,
           8,
           9,
           10,
           11,
           12,
           13,
           14,
           15,
           16,
           17,
           18,
           19,
           20,
           21,
           22,
           23,
           24,
           25,
           26,
           27,
           28,
           29,
           30,
           31,
           32,
           33,
           34,
           35,
           36,
           37,
           38,
           39,
           40,
           41,
           42,
           43,
           44,
           45,
           46,
           47,
           48,
           49,
           50,
           51,
           52,
           53,
           54,
           55,
           56,
           57,
           58,
           59,
           60,
           61,
           62,
           63,
           64,
           65,
           66,
           67,
           68,
           69,
           70,
           71,
           72,
           73,
           74,
           75,
           76,
           77,
           78,
           79,
           80,
           81,
           82,
           83,
           84,
           85,
           86,
           87,
           88,
           89,
           90,
           91,
           92,
           93,
           94,
           95,
           96,
           97,
           98,
           99,
           100,
           101,
           102,
           103,
           104,
           105,
           106,
           107,
           108,
           109,
           110,
           111,
           112,
           113,
           114,
           115,
           116,
           117,
           118,
           119,
           120,
           121,
           122,
           123,
           124,
           125,
           126,
           127,
           128,
           129,
           130,
           131,
           132,
           133,
           134,
           135,
           136,
           137,
           138,
           139,
           140,
           141,
           142,
           143,
           144
          ],
          "colorbar": {
           "title": {
            "text": "Trial"
           },
           "x": 1,
           "xpad": 40
          },
          "colorscale": [
           [
            0,
            "rgb(247,251,255)"
           ],
           [
            0.125,
            "rgb(222,235,247)"
           ],
           [
            0.25,
            "rgb(198,219,239)"
           ],
           [
            0.375,
            "rgb(158,202,225)"
           ],
           [
            0.5,
            "rgb(107,174,214)"
           ],
           [
            0.625,
            "rgb(66,146,198)"
           ],
           [
            0.75,
            "rgb(33,113,181)"
           ],
           [
            0.875,
            "rgb(8,81,156)"
           ],
           [
            1,
            "rgb(8,48,107)"
           ]
          ],
          "line": {
           "color": "Grey",
           "width": 0.5
          },
          "showscale": false
         },
         "mode": "markers",
         "name": "Feasible Trial",
         "showlegend": false,
         "type": "scatter",
         "x": [
          630,
          445,
          748,
          842,
          181,
          283,
          643,
          560,
          782,
          511,
          102,
          955,
          980,
          315,
          967,
          171,
          361,
          340,
          190,
          408,
          225,
          420,
          406,
          497,
          356,
          116,
          273,
          234,
          580,
          651,
          648,
          682,
          703,
          835,
          860,
          720,
          878,
          783,
          820,
          500,
          589,
          677,
          616,
          770,
          893,
          887,
          925,
          756,
          786,
          928,
          999,
          922,
          913,
          914,
          890,
          944,
          927,
          952,
          911,
          814,
          977,
          852,
          852,
          960,
          905,
          949,
          992,
          865,
          832,
          942,
          810,
          176,
          374,
          525,
          446,
          457,
          898,
          139,
          868,
          979,
          319,
          266,
          229,
          279,
          165,
          258,
          104,
          211,
          913,
          450,
          305,
          381,
          201,
          403,
          488,
          364,
          387,
          430,
          472,
          938,
          540,
          256,
          346,
          351,
          293,
          332,
          843,
          885,
          960,
          917,
          427,
          915,
          882,
          389,
          941,
          903,
          154,
          863,
          924,
          332,
          999,
          969,
          1000,
          995,
          975,
          967,
          980,
          982,
          963,
          946,
          579,
          931,
          992,
          954,
          962,
          978,
          998,
          951,
          973,
          969,
          935,
          980,
          902,
          955,
          982
         ],
         "xaxis": "x8",
         "y": [
          0.4367344029031073,
          0.44612993071058,
          0.4322928559858129,
          0.43187797869363564,
          0.4285882862007878,
          0.4370363585189979,
          0.44200495239303245,
          0.4377236231793196,
          0.42970395315943993,
          0.4299220554942626,
          0.4369752630857451,
          0.4278727335963035,
          0.4297485446228543,
          0.42955139423383243,
          0.4295463970083596,
          0.42490424315604713,
          0.4256433474502157,
          0.4276120055983773,
          0.4290938160224673,
          0.42726419092400986,
          0.4409686482721914,
          0.4271552737631585,
          0.42729932074529825,
          0.4282258894596579,
          0.4291543574544102,
          0.42835872356317245,
          0.4317890211626324,
          0.43404659429849585,
          0.430310825126618,
          0.4267741900296468,
          0.432602445348643,
          0.4258719943800603,
          0.4275108954841527,
          0.4259027215852912,
          0.42987293722100856,
          0.42825164579091324,
          0.42828462971416564,
          0.42883500191799273,
          0.4281541853803401,
          0.4386040774044021,
          0.45903212451154457,
          0.42775705806559916,
          0.42946201085502045,
          0.42568463337752727,
          0.4248664054937798,
          0.4260998407439686,
          0.4295912142298941,
          0.42965281379758186,
          0.42846624869313354,
          0.42569953066098104,
          0.4290377970099768,
          0.4246361336938267,
          0.4253512380897725,
          0.4244061637830093,
          0.4260128279276407,
          0.4250933544346184,
          0.42652545412947,
          0.4274752171412167,
          0.4284150157623846,
          0.4297035643350135,
          0.43174847045770715,
          0.4253826621997243,
          0.4263134099896724,
          0.4410653704321364,
          0.427044049795885,
          0.4270055674336087,
          0.43128766761866355,
          0.42638261239398056,
          0.4285921832679761,
          0.42919687693124253,
          0.4260492702641753,
          0.42598452301317674,
          0.42575141884644446,
          0.42674654590178773,
          0.4245494006274876,
          0.4280190078562535,
          0.4283229337015121,
          0.4273096151936605,
          0.4267321941715224,
          0.4283227706078773,
          0.434618016881937,
          0.4254270130855227,
          0.4258885622945655,
          0.42768967679691716,
          0.4283314044068973,
          0.4311033753206721,
          0.4297001187366791,
          0.42863251727855556,
          0.428410630726303,
          0.42690827246611757,
          0.4261530807384416,
          0.42525181404339635,
          0.4262300241474997,
          0.42612541145908384,
          0.42775957262776104,
          0.4254539004100977,
          0.4284133846846319,
          0.42986665693767057,
          0.42584337025875385,
          0.4288982423908262,
          0.42704178365522294,
          0.42622257854404494,
          0.4250773022294201,
          0.42746087888713535,
          0.4266396304442934,
          0.4270540048922683,
          0.42981431170390155,
          0.42658225189674315,
          0.42806817508851946,
          0.4254344958392978,
          0.426594813935725,
          0.4250303749312333,
          0.4267290452694503,
          0.42667070094566933,
          0.425869789498452,
          0.42691409515187617,
          0.42987581533295965,
          0.4276537297102581,
          0.43060178038785396,
          0.42664082502699063,
          0.4251918166712021,
          0.42791650171712126,
          0.4253936672608418,
          0.42421285703804806,
          0.4238437724974041,
          0.4250972066515999,
          0.42695873049219457,
          0.42795615429586975,
          0.4282814991092164,
          0.42544920746637666,
          0.42709533007441436,
          0.4254015139729702,
          0.42634757409808277,
          0.42505875969514817,
          0.42620974338770334,
          0.4245624054089549,
          0.4257807523207028,
          0.42606106641191593,
          0.4244929462985822,
          0.4253894606532837,
          0.4308849936295453,
          0.42664125082251675,
          0.4267421891672978,
          0.42588594687903897,
          0.4311876679005035
         ],
         "yaxis": "y8"
        },
        {
         "marker": {
          "color": [
           0,
           1,
           2,
           3,
           4,
           5,
           6,
           7,
           8,
           9,
           10,
           11,
           12,
           13,
           14,
           15,
           16,
           17,
           18,
           19,
           20,
           21,
           22,
           23,
           24,
           25,
           26,
           27,
           28,
           29,
           30,
           31,
           32,
           33,
           34,
           35,
           36,
           37,
           38,
           39,
           40,
           41,
           42,
           43,
           44,
           45,
           46,
           47,
           48,
           49,
           50,
           51,
           52,
           53,
           54,
           55,
           56,
           57,
           58,
           59,
           60,
           61,
           62,
           63,
           64,
           65,
           66,
           67,
           68,
           69,
           70,
           71,
           72,
           73,
           74,
           75,
           76,
           77,
           78,
           79,
           80,
           81,
           82,
           83,
           84,
           85,
           86,
           87,
           88,
           89,
           90,
           91,
           92,
           93,
           94,
           95,
           96,
           97,
           98,
           99,
           100,
           101,
           102,
           103,
           104,
           105,
           106,
           107,
           108,
           109,
           110,
           111,
           112,
           113,
           114,
           115,
           116,
           117,
           118,
           119,
           120,
           121,
           122,
           123,
           124,
           125,
           126,
           127,
           128,
           129,
           130,
           131,
           132,
           133,
           134,
           135,
           136,
           137,
           138,
           139,
           140,
           141,
           142,
           143,
           144
          ],
          "colorbar": {
           "title": {
            "text": "Trial"
           },
           "x": 1,
           "xpad": 40
          },
          "colorscale": [
           [
            0,
            "rgb(247,251,255)"
           ],
           [
            0.125,
            "rgb(222,235,247)"
           ],
           [
            0.25,
            "rgb(198,219,239)"
           ],
           [
            0.375,
            "rgb(158,202,225)"
           ],
           [
            0.5,
            "rgb(107,174,214)"
           ],
           [
            0.625,
            "rgb(66,146,198)"
           ],
           [
            0.75,
            "rgb(33,113,181)"
           ],
           [
            0.875,
            "rgb(8,81,156)"
           ],
           [
            1,
            "rgb(8,48,107)"
           ]
          ],
          "line": {
           "color": "Grey",
           "width": 0.5
          },
          "showscale": false
         },
         "mode": "markers",
         "name": "Feasible Trial",
         "showlegend": false,
         "type": "scatter",
         "x": [
          2649,
          3894,
          4198,
          4903,
          4029,
          2432,
          1167,
          2465,
          2862,
          1836,
          3683,
          3314,
          3429,
          4714,
          3385,
          4306,
          4455,
          4530,
          4407,
          4929,
          4319,
          4960,
          4578,
          4977,
          3844,
          4165,
          4663,
          3735,
          4341,
          3042,
          2995,
          2003,
          2140,
          1582,
          1416,
          1699,
          1732,
          1023,
          2044,
          1425,
          2525,
          2721,
          2162,
          1393,
          1402,
          1214,
          1910,
          1352,
          1598,
          2277,
          4025,
          2398,
          2301,
          2332,
          2366,
          2769,
          2745,
          2571,
          2924,
          3157,
          3257,
          2328,
          2300,
          2623,
          2425,
          2774,
          3456,
          2236,
          1924,
          2508,
          2866,
          2121,
          4761,
          2374,
          4445,
          2654,
          3991,
          4145,
          4787,
          3620,
          4260,
          4468,
          4644,
          4365,
          4458,
          4845,
          1780,
          4516,
          3033,
          2027,
          4155,
          4513,
          4611,
          4299,
          4527,
          3909,
          2207,
          4431,
          2372,
          2605,
          2487,
          3884,
          3801,
          3579,
          4113,
          4685,
          2092,
          2788,
          4258,
          3133,
          1914,
          3750,
          1011,
          3500,
          3690,
          2288,
          3300,
          2684,
          4874,
          4352,
          3781,
          3717,
          3797,
          3766,
          3799,
          3989,
          4048,
          3805,
          3594,
          3912,
          3969,
          3383,
          3808,
          3645,
          4067,
          3530,
          3629,
          3772,
          3684,
          3465,
          3665,
          3532,
          3948,
          3860,
          3378
         ],
         "xaxis": "x9",
         "y": [
          0.4367344029031073,
          0.44612993071058,
          0.4322928559858129,
          0.43187797869363564,
          0.4285882862007878,
          0.4370363585189979,
          0.44200495239303245,
          0.4377236231793196,
          0.42970395315943993,
          0.4299220554942626,
          0.4369752630857451,
          0.4278727335963035,
          0.4297485446228543,
          0.42955139423383243,
          0.4295463970083596,
          0.42490424315604713,
          0.4256433474502157,
          0.4276120055983773,
          0.4290938160224673,
          0.42726419092400986,
          0.4409686482721914,
          0.4271552737631585,
          0.42729932074529825,
          0.4282258894596579,
          0.4291543574544102,
          0.42835872356317245,
          0.4317890211626324,
          0.43404659429849585,
          0.430310825126618,
          0.4267741900296468,
          0.432602445348643,
          0.4258719943800603,
          0.4275108954841527,
          0.4259027215852912,
          0.42987293722100856,
          0.42825164579091324,
          0.42828462971416564,
          0.42883500191799273,
          0.4281541853803401,
          0.4386040774044021,
          0.45903212451154457,
          0.42775705806559916,
          0.42946201085502045,
          0.42568463337752727,
          0.4248664054937798,
          0.4260998407439686,
          0.4295912142298941,
          0.42965281379758186,
          0.42846624869313354,
          0.42569953066098104,
          0.4290377970099768,
          0.4246361336938267,
          0.4253512380897725,
          0.4244061637830093,
          0.4260128279276407,
          0.4250933544346184,
          0.42652545412947,
          0.4274752171412167,
          0.4284150157623846,
          0.4297035643350135,
          0.43174847045770715,
          0.4253826621997243,
          0.4263134099896724,
          0.4410653704321364,
          0.427044049795885,
          0.4270055674336087,
          0.43128766761866355,
          0.42638261239398056,
          0.4285921832679761,
          0.42919687693124253,
          0.4260492702641753,
          0.42598452301317674,
          0.42575141884644446,
          0.42674654590178773,
          0.4245494006274876,
          0.4280190078562535,
          0.4283229337015121,
          0.4273096151936605,
          0.4267321941715224,
          0.4283227706078773,
          0.434618016881937,
          0.4254270130855227,
          0.4258885622945655,
          0.42768967679691716,
          0.4283314044068973,
          0.4311033753206721,
          0.4297001187366791,
          0.42863251727855556,
          0.428410630726303,
          0.42690827246611757,
          0.4261530807384416,
          0.42525181404339635,
          0.4262300241474997,
          0.42612541145908384,
          0.42775957262776104,
          0.4254539004100977,
          0.4284133846846319,
          0.42986665693767057,
          0.42584337025875385,
          0.4288982423908262,
          0.42704178365522294,
          0.42622257854404494,
          0.4250773022294201,
          0.42746087888713535,
          0.4266396304442934,
          0.4270540048922683,
          0.42981431170390155,
          0.42658225189674315,
          0.42806817508851946,
          0.4254344958392978,
          0.426594813935725,
          0.4250303749312333,
          0.4267290452694503,
          0.42667070094566933,
          0.425869789498452,
          0.42691409515187617,
          0.42987581533295965,
          0.4276537297102581,
          0.43060178038785396,
          0.42664082502699063,
          0.4251918166712021,
          0.42791650171712126,
          0.4253936672608418,
          0.42421285703804806,
          0.4238437724974041,
          0.4250972066515999,
          0.42695873049219457,
          0.42795615429586975,
          0.4282814991092164,
          0.42544920746637666,
          0.42709533007441436,
          0.4254015139729702,
          0.42634757409808277,
          0.42505875969514817,
          0.42620974338770334,
          0.4245624054089549,
          0.4257807523207028,
          0.42606106641191593,
          0.4244929462985822,
          0.4253894606532837,
          0.4308849936295453,
          0.42664125082251675,
          0.4267421891672978,
          0.42588594687903897,
          0.4311876679005035
         ],
         "yaxis": "y9"
        },
        {
         "marker": {
          "color": [
           0,
           1,
           2,
           3,
           4,
           5,
           6,
           7,
           8,
           9,
           10,
           11,
           12,
           13,
           14,
           15,
           16,
           17,
           18,
           19,
           20,
           21,
           22,
           23,
           24,
           25,
           26,
           27,
           28,
           29,
           30,
           31,
           32,
           33,
           34,
           35,
           36,
           37,
           38,
           39,
           40,
           41,
           42,
           43,
           44,
           45,
           46,
           47,
           48,
           49,
           50,
           51,
           52,
           53,
           54,
           55,
           56,
           57,
           58,
           59,
           60,
           61,
           62,
           63,
           64,
           65,
           66,
           67,
           68,
           69,
           70,
           71,
           72,
           73,
           74,
           75,
           76,
           77,
           78,
           79,
           80,
           81,
           82,
           83,
           84,
           85,
           86,
           87,
           88,
           89,
           90,
           91,
           92,
           93,
           94,
           95,
           96,
           97,
           98,
           99,
           100,
           101,
           102,
           103,
           104,
           105,
           106,
           107,
           108,
           109,
           110,
           111,
           112,
           113,
           114,
           115,
           116,
           117,
           118,
           119,
           120,
           121,
           122,
           123,
           124,
           125,
           126,
           127,
           128,
           129,
           130,
           131,
           132,
           133,
           134,
           135,
           136,
           137,
           138,
           139,
           140,
           141,
           142,
           143,
           144
          ],
          "colorbar": {
           "title": {
            "text": "Trial"
           },
           "x": 1,
           "xpad": 40
          },
          "colorscale": [
           [
            0,
            "rgb(247,251,255)"
           ],
           [
            0.125,
            "rgb(222,235,247)"
           ],
           [
            0.25,
            "rgb(198,219,239)"
           ],
           [
            0.375,
            "rgb(158,202,225)"
           ],
           [
            0.5,
            "rgb(107,174,214)"
           ],
           [
            0.625,
            "rgb(66,146,198)"
           ],
           [
            0.75,
            "rgb(33,113,181)"
           ],
           [
            0.875,
            "rgb(8,81,156)"
           ],
           [
            1,
            "rgb(8,48,107)"
           ]
          ],
          "line": {
           "color": "Grey",
           "width": 0.5
          },
          "showscale": false
         },
         "mode": "markers",
         "name": "Feasible Trial",
         "showlegend": false,
         "type": "scatter",
         "x": [
          196,
          248,
          219,
          52,
          74,
          85,
          36,
          77,
          227,
          129,
          152,
          140,
          125,
          172,
          100,
          105,
          115,
          107,
          175,
          109,
          159,
          105,
          55,
          120,
          94,
          66,
          136,
          114,
          94,
          175,
          188,
          154,
          195,
          156,
          153,
          163,
          208,
          142,
          254,
          129,
          231,
          181,
          206,
          165,
          150,
          144,
          165,
          79,
          133,
          119,
          117,
          148,
          145,
          146,
          142,
          129,
          146,
          129,
          148,
          93,
          136,
          125,
          103,
          125,
          110,
          169,
          124,
          134,
          151,
          181,
          158,
          99,
          112,
          89,
          139,
          138,
          123,
          148,
          130,
          157,
          140,
          116,
          118,
          106,
          127,
          151,
          163,
          134,
          40,
          114,
          82,
          98,
          140,
          98,
          121,
          71,
          145,
          132,
          107,
          161,
          90,
          59,
          65,
          51,
          149,
          102,
          137,
          154,
          143,
          168,
          126,
          167,
          173,
          130,
          179,
          32,
          112,
          119,
          157,
          44,
          71,
          72,
          64,
          56,
          48,
          56,
          50,
          57,
          64,
          47,
          77,
          60,
          41,
          67,
          67,
          84,
          56,
          77,
          71,
          81,
          85,
          72,
          66,
          61,
          69
         ],
         "xaxis": "x10",
         "y": [
          0.4367344029031073,
          0.44612993071058,
          0.4322928559858129,
          0.43187797869363564,
          0.4285882862007878,
          0.4370363585189979,
          0.44200495239303245,
          0.4377236231793196,
          0.42970395315943993,
          0.4299220554942626,
          0.4369752630857451,
          0.4278727335963035,
          0.4297485446228543,
          0.42955139423383243,
          0.4295463970083596,
          0.42490424315604713,
          0.4256433474502157,
          0.4276120055983773,
          0.4290938160224673,
          0.42726419092400986,
          0.4409686482721914,
          0.4271552737631585,
          0.42729932074529825,
          0.4282258894596579,
          0.4291543574544102,
          0.42835872356317245,
          0.4317890211626324,
          0.43404659429849585,
          0.430310825126618,
          0.4267741900296468,
          0.432602445348643,
          0.4258719943800603,
          0.4275108954841527,
          0.4259027215852912,
          0.42987293722100856,
          0.42825164579091324,
          0.42828462971416564,
          0.42883500191799273,
          0.4281541853803401,
          0.4386040774044021,
          0.45903212451154457,
          0.42775705806559916,
          0.42946201085502045,
          0.42568463337752727,
          0.4248664054937798,
          0.4260998407439686,
          0.4295912142298941,
          0.42965281379758186,
          0.42846624869313354,
          0.42569953066098104,
          0.4290377970099768,
          0.4246361336938267,
          0.4253512380897725,
          0.4244061637830093,
          0.4260128279276407,
          0.4250933544346184,
          0.42652545412947,
          0.4274752171412167,
          0.4284150157623846,
          0.4297035643350135,
          0.43174847045770715,
          0.4253826621997243,
          0.4263134099896724,
          0.4410653704321364,
          0.427044049795885,
          0.4270055674336087,
          0.43128766761866355,
          0.42638261239398056,
          0.4285921832679761,
          0.42919687693124253,
          0.4260492702641753,
          0.42598452301317674,
          0.42575141884644446,
          0.42674654590178773,
          0.4245494006274876,
          0.4280190078562535,
          0.4283229337015121,
          0.4273096151936605,
          0.4267321941715224,
          0.4283227706078773,
          0.434618016881937,
          0.4254270130855227,
          0.4258885622945655,
          0.42768967679691716,
          0.4283314044068973,
          0.4311033753206721,
          0.4297001187366791,
          0.42863251727855556,
          0.428410630726303,
          0.42690827246611757,
          0.4261530807384416,
          0.42525181404339635,
          0.4262300241474997,
          0.42612541145908384,
          0.42775957262776104,
          0.4254539004100977,
          0.4284133846846319,
          0.42986665693767057,
          0.42584337025875385,
          0.4288982423908262,
          0.42704178365522294,
          0.42622257854404494,
          0.4250773022294201,
          0.42746087888713535,
          0.4266396304442934,
          0.4270540048922683,
          0.42981431170390155,
          0.42658225189674315,
          0.42806817508851946,
          0.4254344958392978,
          0.426594813935725,
          0.4250303749312333,
          0.4267290452694503,
          0.42667070094566933,
          0.425869789498452,
          0.42691409515187617,
          0.42987581533295965,
          0.4276537297102581,
          0.43060178038785396,
          0.42664082502699063,
          0.4251918166712021,
          0.42791650171712126,
          0.4253936672608418,
          0.42421285703804806,
          0.4238437724974041,
          0.4250972066515999,
          0.42695873049219457,
          0.42795615429586975,
          0.4282814991092164,
          0.42544920746637666,
          0.42709533007441436,
          0.4254015139729702,
          0.42634757409808277,
          0.42505875969514817,
          0.42620974338770334,
          0.4245624054089549,
          0.4257807523207028,
          0.42606106641191593,
          0.4244929462985822,
          0.4253894606532837,
          0.4308849936295453,
          0.42664125082251675,
          0.4267421891672978,
          0.42588594687903897,
          0.4311876679005035
         ],
         "yaxis": "y10"
        }
       ],
       "layout": {
        "template": {
         "data": {
          "bar": [
           {
            "error_x": {
             "color": "#2a3f5f"
            },
            "error_y": {
             "color": "#2a3f5f"
            },
            "marker": {
             "line": {
              "color": "#E5ECF6",
              "width": 0.5
             },
             "pattern": {
              "fillmode": "overlay",
              "size": 10,
              "solidity": 0.2
             }
            },
            "type": "bar"
           }
          ],
          "barpolar": [
           {
            "marker": {
             "line": {
              "color": "#E5ECF6",
              "width": 0.5
             },
             "pattern": {
              "fillmode": "overlay",
              "size": 10,
              "solidity": 0.2
             }
            },
            "type": "barpolar"
           }
          ],
          "carpet": [
           {
            "aaxis": {
             "endlinecolor": "#2a3f5f",
             "gridcolor": "white",
             "linecolor": "white",
             "minorgridcolor": "white",
             "startlinecolor": "#2a3f5f"
            },
            "baxis": {
             "endlinecolor": "#2a3f5f",
             "gridcolor": "white",
             "linecolor": "white",
             "minorgridcolor": "white",
             "startlinecolor": "#2a3f5f"
            },
            "type": "carpet"
           }
          ],
          "choropleth": [
           {
            "colorbar": {
             "outlinewidth": 0,
             "ticks": ""
            },
            "type": "choropleth"
           }
          ],
          "contour": [
           {
            "colorbar": {
             "outlinewidth": 0,
             "ticks": ""
            },
            "colorscale": [
             [
              0,
              "#0d0887"
             ],
             [
              0.1111111111111111,
              "#46039f"
             ],
             [
              0.2222222222222222,
              "#7201a8"
             ],
             [
              0.3333333333333333,
              "#9c179e"
             ],
             [
              0.4444444444444444,
              "#bd3786"
             ],
             [
              0.5555555555555556,
              "#d8576b"
             ],
             [
              0.6666666666666666,
              "#ed7953"
             ],
             [
              0.7777777777777778,
              "#fb9f3a"
             ],
             [
              0.8888888888888888,
              "#fdca26"
             ],
             [
              1,
              "#f0f921"
             ]
            ],
            "type": "contour"
           }
          ],
          "contourcarpet": [
           {
            "colorbar": {
             "outlinewidth": 0,
             "ticks": ""
            },
            "type": "contourcarpet"
           }
          ],
          "heatmap": [
           {
            "colorbar": {
             "outlinewidth": 0,
             "ticks": ""
            },
            "colorscale": [
             [
              0,
              "#0d0887"
             ],
             [
              0.1111111111111111,
              "#46039f"
             ],
             [
              0.2222222222222222,
              "#7201a8"
             ],
             [
              0.3333333333333333,
              "#9c179e"
             ],
             [
              0.4444444444444444,
              "#bd3786"
             ],
             [
              0.5555555555555556,
              "#d8576b"
             ],
             [
              0.6666666666666666,
              "#ed7953"
             ],
             [
              0.7777777777777778,
              "#fb9f3a"
             ],
             [
              0.8888888888888888,
              "#fdca26"
             ],
             [
              1,
              "#f0f921"
             ]
            ],
            "type": "heatmap"
           }
          ],
          "heatmapgl": [
           {
            "colorbar": {
             "outlinewidth": 0,
             "ticks": ""
            },
            "colorscale": [
             [
              0,
              "#0d0887"
             ],
             [
              0.1111111111111111,
              "#46039f"
             ],
             [
              0.2222222222222222,
              "#7201a8"
             ],
             [
              0.3333333333333333,
              "#9c179e"
             ],
             [
              0.4444444444444444,
              "#bd3786"
             ],
             [
              0.5555555555555556,
              "#d8576b"
             ],
             [
              0.6666666666666666,
              "#ed7953"
             ],
             [
              0.7777777777777778,
              "#fb9f3a"
             ],
             [
              0.8888888888888888,
              "#fdca26"
             ],
             [
              1,
              "#f0f921"
             ]
            ],
            "type": "heatmapgl"
           }
          ],
          "histogram": [
           {
            "marker": {
             "pattern": {
              "fillmode": "overlay",
              "size": 10,
              "solidity": 0.2
             }
            },
            "type": "histogram"
           }
          ],
          "histogram2d": [
           {
            "colorbar": {
             "outlinewidth": 0,
             "ticks": ""
            },
            "colorscale": [
             [
              0,
              "#0d0887"
             ],
             [
              0.1111111111111111,
              "#46039f"
             ],
             [
              0.2222222222222222,
              "#7201a8"
             ],
             [
              0.3333333333333333,
              "#9c179e"
             ],
             [
              0.4444444444444444,
              "#bd3786"
             ],
             [
              0.5555555555555556,
              "#d8576b"
             ],
             [
              0.6666666666666666,
              "#ed7953"
             ],
             [
              0.7777777777777778,
              "#fb9f3a"
             ],
             [
              0.8888888888888888,
              "#fdca26"
             ],
             [
              1,
              "#f0f921"
             ]
            ],
            "type": "histogram2d"
           }
          ],
          "histogram2dcontour": [
           {
            "colorbar": {
             "outlinewidth": 0,
             "ticks": ""
            },
            "colorscale": [
             [
              0,
              "#0d0887"
             ],
             [
              0.1111111111111111,
              "#46039f"
             ],
             [
              0.2222222222222222,
              "#7201a8"
             ],
             [
              0.3333333333333333,
              "#9c179e"
             ],
             [
              0.4444444444444444,
              "#bd3786"
             ],
             [
              0.5555555555555556,
              "#d8576b"
             ],
             [
              0.6666666666666666,
              "#ed7953"
             ],
             [
              0.7777777777777778,
              "#fb9f3a"
             ],
             [
              0.8888888888888888,
              "#fdca26"
             ],
             [
              1,
              "#f0f921"
             ]
            ],
            "type": "histogram2dcontour"
           }
          ],
          "mesh3d": [
           {
            "colorbar": {
             "outlinewidth": 0,
             "ticks": ""
            },
            "type": "mesh3d"
           }
          ],
          "parcoords": [
           {
            "line": {
             "colorbar": {
              "outlinewidth": 0,
              "ticks": ""
             }
            },
            "type": "parcoords"
           }
          ],
          "pie": [
           {
            "automargin": true,
            "type": "pie"
           }
          ],
          "scatter": [
           {
            "fillpattern": {
             "fillmode": "overlay",
             "size": 10,
             "solidity": 0.2
            },
            "type": "scatter"
           }
          ],
          "scatter3d": [
           {
            "line": {
             "colorbar": {
              "outlinewidth": 0,
              "ticks": ""
             }
            },
            "marker": {
             "colorbar": {
              "outlinewidth": 0,
              "ticks": ""
             }
            },
            "type": "scatter3d"
           }
          ],
          "scattercarpet": [
           {
            "marker": {
             "colorbar": {
              "outlinewidth": 0,
              "ticks": ""
             }
            },
            "type": "scattercarpet"
           }
          ],
          "scattergeo": [
           {
            "marker": {
             "colorbar": {
              "outlinewidth": 0,
              "ticks": ""
             }
            },
            "type": "scattergeo"
           }
          ],
          "scattergl": [
           {
            "marker": {
             "colorbar": {
              "outlinewidth": 0,
              "ticks": ""
             }
            },
            "type": "scattergl"
           }
          ],
          "scattermapbox": [
           {
            "marker": {
             "colorbar": {
              "outlinewidth": 0,
              "ticks": ""
             }
            },
            "type": "scattermapbox"
           }
          ],
          "scatterpolar": [
           {
            "marker": {
             "colorbar": {
              "outlinewidth": 0,
              "ticks": ""
             }
            },
            "type": "scatterpolar"
           }
          ],
          "scatterpolargl": [
           {
            "marker": {
             "colorbar": {
              "outlinewidth": 0,
              "ticks": ""
             }
            },
            "type": "scatterpolargl"
           }
          ],
          "scatterternary": [
           {
            "marker": {
             "colorbar": {
              "outlinewidth": 0,
              "ticks": ""
             }
            },
            "type": "scatterternary"
           }
          ],
          "surface": [
           {
            "colorbar": {
             "outlinewidth": 0,
             "ticks": ""
            },
            "colorscale": [
             [
              0,
              "#0d0887"
             ],
             [
              0.1111111111111111,
              "#46039f"
             ],
             [
              0.2222222222222222,
              "#7201a8"
             ],
             [
              0.3333333333333333,
              "#9c179e"
             ],
             [
              0.4444444444444444,
              "#bd3786"
             ],
             [
              0.5555555555555556,
              "#d8576b"
             ],
             [
              0.6666666666666666,
              "#ed7953"
             ],
             [
              0.7777777777777778,
              "#fb9f3a"
             ],
             [
              0.8888888888888888,
              "#fdca26"
             ],
             [
              1,
              "#f0f921"
             ]
            ],
            "type": "surface"
           }
          ],
          "table": [
           {
            "cells": {
             "fill": {
              "color": "#EBF0F8"
             },
             "line": {
              "color": "white"
             }
            },
            "header": {
             "fill": {
              "color": "#C8D4E3"
             },
             "line": {
              "color": "white"
             }
            },
            "type": "table"
           }
          ]
         },
         "layout": {
          "annotationdefaults": {
           "arrowcolor": "#2a3f5f",
           "arrowhead": 0,
           "arrowwidth": 1
          },
          "autotypenumbers": "strict",
          "coloraxis": {
           "colorbar": {
            "outlinewidth": 0,
            "ticks": ""
           }
          },
          "colorscale": {
           "diverging": [
            [
             0,
             "#8e0152"
            ],
            [
             0.1,
             "#c51b7d"
            ],
            [
             0.2,
             "#de77ae"
            ],
            [
             0.3,
             "#f1b6da"
            ],
            [
             0.4,
             "#fde0ef"
            ],
            [
             0.5,
             "#f7f7f7"
            ],
            [
             0.6,
             "#e6f5d0"
            ],
            [
             0.7,
             "#b8e186"
            ],
            [
             0.8,
             "#7fbc41"
            ],
            [
             0.9,
             "#4d9221"
            ],
            [
             1,
             "#276419"
            ]
           ],
           "sequential": [
            [
             0,
             "#0d0887"
            ],
            [
             0.1111111111111111,
             "#46039f"
            ],
            [
             0.2222222222222222,
             "#7201a8"
            ],
            [
             0.3333333333333333,
             "#9c179e"
            ],
            [
             0.4444444444444444,
             "#bd3786"
            ],
            [
             0.5555555555555556,
             "#d8576b"
            ],
            [
             0.6666666666666666,
             "#ed7953"
            ],
            [
             0.7777777777777778,
             "#fb9f3a"
            ],
            [
             0.8888888888888888,
             "#fdca26"
            ],
            [
             1,
             "#f0f921"
            ]
           ],
           "sequentialminus": [
            [
             0,
             "#0d0887"
            ],
            [
             0.1111111111111111,
             "#46039f"
            ],
            [
             0.2222222222222222,
             "#7201a8"
            ],
            [
             0.3333333333333333,
             "#9c179e"
            ],
            [
             0.4444444444444444,
             "#bd3786"
            ],
            [
             0.5555555555555556,
             "#d8576b"
            ],
            [
             0.6666666666666666,
             "#ed7953"
            ],
            [
             0.7777777777777778,
             "#fb9f3a"
            ],
            [
             0.8888888888888888,
             "#fdca26"
            ],
            [
             1,
             "#f0f921"
            ]
           ]
          },
          "colorway": [
           "#636efa",
           "#EF553B",
           "#00cc96",
           "#ab63fa",
           "#FFA15A",
           "#19d3f3",
           "#FF6692",
           "#B6E880",
           "#FF97FF",
           "#FECB52"
          ],
          "font": {
           "color": "#2a3f5f"
          },
          "geo": {
           "bgcolor": "white",
           "lakecolor": "white",
           "landcolor": "#E5ECF6",
           "showlakes": true,
           "showland": true,
           "subunitcolor": "white"
          },
          "hoverlabel": {
           "align": "left"
          },
          "hovermode": "closest",
          "mapbox": {
           "style": "light"
          },
          "paper_bgcolor": "white",
          "plot_bgcolor": "#E5ECF6",
          "polar": {
           "angularaxis": {
            "gridcolor": "white",
            "linecolor": "white",
            "ticks": ""
           },
           "bgcolor": "#E5ECF6",
           "radialaxis": {
            "gridcolor": "white",
            "linecolor": "white",
            "ticks": ""
           }
          },
          "scene": {
           "xaxis": {
            "backgroundcolor": "#E5ECF6",
            "gridcolor": "white",
            "gridwidth": 2,
            "linecolor": "white",
            "showbackground": true,
            "ticks": "",
            "zerolinecolor": "white"
           },
           "yaxis": {
            "backgroundcolor": "#E5ECF6",
            "gridcolor": "white",
            "gridwidth": 2,
            "linecolor": "white",
            "showbackground": true,
            "ticks": "",
            "zerolinecolor": "white"
           },
           "zaxis": {
            "backgroundcolor": "#E5ECF6",
            "gridcolor": "white",
            "gridwidth": 2,
            "linecolor": "white",
            "showbackground": true,
            "ticks": "",
            "zerolinecolor": "white"
           }
          },
          "shapedefaults": {
           "line": {
            "color": "#2a3f5f"
           }
          },
          "ternary": {
           "aaxis": {
            "gridcolor": "white",
            "linecolor": "white",
            "ticks": ""
           },
           "baxis": {
            "gridcolor": "white",
            "linecolor": "white",
            "ticks": ""
           },
           "bgcolor": "#E5ECF6",
           "caxis": {
            "gridcolor": "white",
            "linecolor": "white",
            "ticks": ""
           }
          },
          "title": {
           "x": 0.05
          },
          "xaxis": {
           "automargin": true,
           "gridcolor": "white",
           "linecolor": "white",
           "ticks": "",
           "title": {
            "standoff": 15
           },
           "zerolinecolor": "white",
           "zerolinewidth": 2
          },
          "yaxis": {
           "automargin": true,
           "gridcolor": "white",
           "linecolor": "white",
           "ticks": "",
           "title": {
            "standoff": 15
           },
           "zerolinecolor": "white",
           "zerolinewidth": 2
          }
         }
        },
        "title": {
         "text": "Slice Plot"
        },
        "width": 3000,
        "xaxis": {
         "anchor": "y",
         "domain": [
          0,
          0.082
         ],
         "title": {
          "text": "bagging_fraction"
         }
        },
        "xaxis10": {
         "anchor": "y10",
         "domain": [
          0.9179999999999999,
          0.9999999999999999
         ],
         "title": {
          "text": "num_leaves"
         }
        },
        "xaxis2": {
         "anchor": "y2",
         "domain": [
          0.10200000000000001,
          0.184
         ],
         "title": {
          "text": "cat_l2"
         },
         "type": "log"
        },
        "xaxis3": {
         "anchor": "y3",
         "domain": [
          0.20400000000000001,
          0.28600000000000003
         ],
         "title": {
          "text": "feature_fraction"
         }
        },
        "xaxis4": {
         "anchor": "y4",
         "domain": [
          0.306,
          0.388
         ],
         "title": {
          "text": "lambda_l1"
         },
         "type": "log"
        },
        "xaxis5": {
         "anchor": "y5",
         "domain": [
          0.40800000000000003,
          0.49000000000000005
         ],
         "title": {
          "text": "lambda_l2"
         },
         "type": "log"
        },
        "xaxis6": {
         "anchor": "y6",
         "domain": [
          0.51,
          0.592
         ],
         "title": {
          "text": "max_cat_threshold"
         }
        },
        "xaxis7": {
         "anchor": "y7",
         "domain": [
          0.6120000000000001,
          0.6940000000000001
         ],
         "title": {
          "text": "min_data_in_leaf"
         }
        },
        "xaxis8": {
         "anchor": "y8",
         "domain": [
          0.7140000000000001,
          0.796
         ],
         "title": {
          "text": "min_data_per_group"
         }
        },
        "xaxis9": {
         "anchor": "y9",
         "domain": [
          0.8160000000000001,
          0.898
         ],
         "title": {
          "text": "num_iterations"
         }
        },
        "yaxis": {
         "anchor": "x",
         "domain": [
          0,
          1
         ],
         "title": {
          "text": "Objective Value"
         }
        },
        "yaxis10": {
         "anchor": "x10",
         "domain": [
          0,
          1
         ],
         "matches": "y",
         "showticklabels": false
        },
        "yaxis2": {
         "anchor": "x2",
         "domain": [
          0,
          1
         ],
         "matches": "y",
         "showticklabels": false
        },
        "yaxis3": {
         "anchor": "x3",
         "domain": [
          0,
          1
         ],
         "matches": "y",
         "showticklabels": false
        },
        "yaxis4": {
         "anchor": "x4",
         "domain": [
          0,
          1
         ],
         "matches": "y",
         "showticklabels": false
        },
        "yaxis5": {
         "anchor": "x5",
         "domain": [
          0,
          1
         ],
         "matches": "y",
         "showticklabels": false
        },
        "yaxis6": {
         "anchor": "x6",
         "domain": [
          0,
          1
         ],
         "matches": "y",
         "showticklabels": false
        },
        "yaxis7": {
         "anchor": "x7",
         "domain": [
          0,
          1
         ],
         "matches": "y",
         "showticklabels": false
        },
        "yaxis8": {
         "anchor": "x8",
         "domain": [
          0,
          1
         ],
         "matches": "y",
         "showticklabels": false
        },
        "yaxis9": {
         "anchor": "x9",
         "domain": [
          0,
          1
         ],
         "matches": "y",
         "showticklabels": false
        }
       }
      }
     },
     "metadata": {},
     "output_type": "display_data"
    }
   ],
   "source": [
    "plot_slice(study)\n"
   ]
  },
  {
   "cell_type": "code",
   "execution_count": 13,
   "id": "22c02a9e",
   "metadata": {},
   "outputs": [
    {
     "data": {
      "application/vnd.plotly.v1+json": {
       "config": {
        "plotlyServerURL": "https://plot.ly"
       },
       "data": [
        {
         "mode": "lines",
         "name": "lightgbm.db",
         "type": "scatter",
         "x": [
          0.4238437724974041,
          0.42419921039653685,
          0.4245546482956696,
          0.4249100861948023,
          0.42526552409393503,
          0.42562096199306776,
          0.42597639989220054,
          0.42633183779133327,
          0.426687275690466,
          0.4270427135895987,
          0.42739815148873145,
          0.4277535893878642,
          0.4281090272869969,
          0.42846446518612963,
          0.42881990308526236,
          0.4291753409843951,
          0.4295307788835278,
          0.4298862167826606,
          0.4302416546817933,
          0.43059709258092604,
          0.43095253048005877,
          0.4313079683791915,
          0.4316634062783242,
          0.43201884417745695,
          0.4323742820765897,
          0.4327297199757224,
          0.43308515787485513,
          0.43344059577398786,
          0.43379603367312064,
          0.43415147157225337,
          0.4345069094713861,
          0.4348623473705188,
          0.43521778526965155,
          0.4355732231687843,
          0.435928661067917,
          0.4362840989670497,
          0.43663953686618245,
          0.4369949747653152,
          0.4373504126644479,
          0.4377058505635807,
          0.4380612884627134,
          0.43841672636184614,
          0.43877216426097887,
          0.4391276021601116,
          0.4394830400592443,
          0.43983847795837705,
          0.4401939158575098,
          0.4405493537566425,
          0.44090479165577523,
          0.44126022955490796,
          0.44161566745404074,
          0.44197110535317347,
          0.4423265432523062,
          0.4426819811514389,
          0.44303741905057165,
          0.4433928569497044,
          0.4437482948488371,
          0.4441037327479698,
          0.44445917064710255,
          0.4448146085462353,
          0.445170046445368,
          0.4455254843445008,
          0.4458809222436335,
          0.44623636014276624,
          0.44659179804189897,
          0.4469472359410317,
          0.4473026738401644,
          0.44765811173929715,
          0.4480135496384299,
          0.4483689875375626,
          0.44872442543669533,
          0.44907986333582806,
          0.44943530123496084,
          0.44979073913409356,
          0.4501461770332263,
          0.450501614932359,
          0.45085705283149174,
          0.45121249073062447,
          0.4515679286297572,
          0.4519233665288899,
          0.45227880442802265,
          0.4526342423271554,
          0.4529896802262881,
          0.4533451181254209,
          0.4537005560245536,
          0.45405599392368634,
          0.45441143182281907,
          0.4547668697219518,
          0.4551223076210845,
          0.45547774552021725,
          0.45583318341935,
          0.4561886213184827,
          0.4565440592176154,
          0.45689949711674815,
          0.4572549350158809,
          0.45761037291501366,
          0.4579658108141464,
          0.4583212487132791,
          0.45867668661241184,
          0.45903212451154457
         ],
         "y": [
          0.006896551724137931,
          0.006896551724137931,
          0.034482758620689655,
          0.06206896551724138,
          0.1103448275862069,
          0.1724137931034483,
          0.2482758620689655,
          0.32413793103448274,
          0.38620689655172413,
          0.45517241379310347,
          0.503448275862069,
          0.5448275862068965,
          0.593103448275862,
          0.6758620689655173,
          0.7034482758620689,
          0.7379310344827587,
          0.7517241379310344,
          0.8344827586206897,
          0.8413793103448276,
          0.8482758620689655,
          0.8620689655172413,
          0.8827586206896552,
          0.8827586206896552,
          0.903448275862069,
          0.9103448275862069,
          0.9172413793103448,
          0.9172413793103448,
          0.9172413793103448,
          0.9172413793103448,
          0.9241379310344827,
          0.9241379310344827,
          0.9310344827586207,
          0.9310344827586207,
          0.9310344827586207,
          0.9310344827586207,
          0.9310344827586207,
          0.9310344827586207,
          0.9448275862068966,
          0.9517241379310345,
          0.9517241379310345,
          0.9586206896551724,
          0.9586206896551724,
          0.9655172413793104,
          0.9655172413793104,
          0.9655172413793104,
          0.9655172413793104,
          0.9655172413793104,
          0.9655172413793104,
          0.9655172413793104,
          0.9793103448275862,
          0.9793103448275862,
          0.9793103448275862,
          0.9862068965517241,
          0.9862068965517241,
          0.9862068965517241,
          0.9862068965517241,
          0.9862068965517241,
          0.9862068965517241,
          0.9862068965517241,
          0.9862068965517241,
          0.9862068965517241,
          0.9862068965517241,
          0.9862068965517241,
          0.993103448275862,
          0.993103448275862,
          0.993103448275862,
          0.993103448275862,
          0.993103448275862,
          0.993103448275862,
          0.993103448275862,
          0.993103448275862,
          0.993103448275862,
          0.993103448275862,
          0.993103448275862,
          0.993103448275862,
          0.993103448275862,
          0.993103448275862,
          0.993103448275862,
          0.993103448275862,
          0.993103448275862,
          0.993103448275862,
          0.993103448275862,
          0.993103448275862,
          0.993103448275862,
          0.993103448275862,
          0.993103448275862,
          0.993103448275862,
          0.993103448275862,
          0.993103448275862,
          0.993103448275862,
          0.993103448275862,
          0.993103448275862,
          0.993103448275862,
          0.993103448275862,
          0.993103448275862,
          0.993103448275862,
          0.993103448275862,
          0.993103448275862,
          0.993103448275862,
          1
         ]
        }
       ],
       "layout": {
        "template": {
         "data": {
          "bar": [
           {
            "error_x": {
             "color": "#2a3f5f"
            },
            "error_y": {
             "color": "#2a3f5f"
            },
            "marker": {
             "line": {
              "color": "#E5ECF6",
              "width": 0.5
             },
             "pattern": {
              "fillmode": "overlay",
              "size": 10,
              "solidity": 0.2
             }
            },
            "type": "bar"
           }
          ],
          "barpolar": [
           {
            "marker": {
             "line": {
              "color": "#E5ECF6",
              "width": 0.5
             },
             "pattern": {
              "fillmode": "overlay",
              "size": 10,
              "solidity": 0.2
             }
            },
            "type": "barpolar"
           }
          ],
          "carpet": [
           {
            "aaxis": {
             "endlinecolor": "#2a3f5f",
             "gridcolor": "white",
             "linecolor": "white",
             "minorgridcolor": "white",
             "startlinecolor": "#2a3f5f"
            },
            "baxis": {
             "endlinecolor": "#2a3f5f",
             "gridcolor": "white",
             "linecolor": "white",
             "minorgridcolor": "white",
             "startlinecolor": "#2a3f5f"
            },
            "type": "carpet"
           }
          ],
          "choropleth": [
           {
            "colorbar": {
             "outlinewidth": 0,
             "ticks": ""
            },
            "type": "choropleth"
           }
          ],
          "contour": [
           {
            "colorbar": {
             "outlinewidth": 0,
             "ticks": ""
            },
            "colorscale": [
             [
              0,
              "#0d0887"
             ],
             [
              0.1111111111111111,
              "#46039f"
             ],
             [
              0.2222222222222222,
              "#7201a8"
             ],
             [
              0.3333333333333333,
              "#9c179e"
             ],
             [
              0.4444444444444444,
              "#bd3786"
             ],
             [
              0.5555555555555556,
              "#d8576b"
             ],
             [
              0.6666666666666666,
              "#ed7953"
             ],
             [
              0.7777777777777778,
              "#fb9f3a"
             ],
             [
              0.8888888888888888,
              "#fdca26"
             ],
             [
              1,
              "#f0f921"
             ]
            ],
            "type": "contour"
           }
          ],
          "contourcarpet": [
           {
            "colorbar": {
             "outlinewidth": 0,
             "ticks": ""
            },
            "type": "contourcarpet"
           }
          ],
          "heatmap": [
           {
            "colorbar": {
             "outlinewidth": 0,
             "ticks": ""
            },
            "colorscale": [
             [
              0,
              "#0d0887"
             ],
             [
              0.1111111111111111,
              "#46039f"
             ],
             [
              0.2222222222222222,
              "#7201a8"
             ],
             [
              0.3333333333333333,
              "#9c179e"
             ],
             [
              0.4444444444444444,
              "#bd3786"
             ],
             [
              0.5555555555555556,
              "#d8576b"
             ],
             [
              0.6666666666666666,
              "#ed7953"
             ],
             [
              0.7777777777777778,
              "#fb9f3a"
             ],
             [
              0.8888888888888888,
              "#fdca26"
             ],
             [
              1,
              "#f0f921"
             ]
            ],
            "type": "heatmap"
           }
          ],
          "heatmapgl": [
           {
            "colorbar": {
             "outlinewidth": 0,
             "ticks": ""
            },
            "colorscale": [
             [
              0,
              "#0d0887"
             ],
             [
              0.1111111111111111,
              "#46039f"
             ],
             [
              0.2222222222222222,
              "#7201a8"
             ],
             [
              0.3333333333333333,
              "#9c179e"
             ],
             [
              0.4444444444444444,
              "#bd3786"
             ],
             [
              0.5555555555555556,
              "#d8576b"
             ],
             [
              0.6666666666666666,
              "#ed7953"
             ],
             [
              0.7777777777777778,
              "#fb9f3a"
             ],
             [
              0.8888888888888888,
              "#fdca26"
             ],
             [
              1,
              "#f0f921"
             ]
            ],
            "type": "heatmapgl"
           }
          ],
          "histogram": [
           {
            "marker": {
             "pattern": {
              "fillmode": "overlay",
              "size": 10,
              "solidity": 0.2
             }
            },
            "type": "histogram"
           }
          ],
          "histogram2d": [
           {
            "colorbar": {
             "outlinewidth": 0,
             "ticks": ""
            },
            "colorscale": [
             [
              0,
              "#0d0887"
             ],
             [
              0.1111111111111111,
              "#46039f"
             ],
             [
              0.2222222222222222,
              "#7201a8"
             ],
             [
              0.3333333333333333,
              "#9c179e"
             ],
             [
              0.4444444444444444,
              "#bd3786"
             ],
             [
              0.5555555555555556,
              "#d8576b"
             ],
             [
              0.6666666666666666,
              "#ed7953"
             ],
             [
              0.7777777777777778,
              "#fb9f3a"
             ],
             [
              0.8888888888888888,
              "#fdca26"
             ],
             [
              1,
              "#f0f921"
             ]
            ],
            "type": "histogram2d"
           }
          ],
          "histogram2dcontour": [
           {
            "colorbar": {
             "outlinewidth": 0,
             "ticks": ""
            },
            "colorscale": [
             [
              0,
              "#0d0887"
             ],
             [
              0.1111111111111111,
              "#46039f"
             ],
             [
              0.2222222222222222,
              "#7201a8"
             ],
             [
              0.3333333333333333,
              "#9c179e"
             ],
             [
              0.4444444444444444,
              "#bd3786"
             ],
             [
              0.5555555555555556,
              "#d8576b"
             ],
             [
              0.6666666666666666,
              "#ed7953"
             ],
             [
              0.7777777777777778,
              "#fb9f3a"
             ],
             [
              0.8888888888888888,
              "#fdca26"
             ],
             [
              1,
              "#f0f921"
             ]
            ],
            "type": "histogram2dcontour"
           }
          ],
          "mesh3d": [
           {
            "colorbar": {
             "outlinewidth": 0,
             "ticks": ""
            },
            "type": "mesh3d"
           }
          ],
          "parcoords": [
           {
            "line": {
             "colorbar": {
              "outlinewidth": 0,
              "ticks": ""
             }
            },
            "type": "parcoords"
           }
          ],
          "pie": [
           {
            "automargin": true,
            "type": "pie"
           }
          ],
          "scatter": [
           {
            "fillpattern": {
             "fillmode": "overlay",
             "size": 10,
             "solidity": 0.2
            },
            "type": "scatter"
           }
          ],
          "scatter3d": [
           {
            "line": {
             "colorbar": {
              "outlinewidth": 0,
              "ticks": ""
             }
            },
            "marker": {
             "colorbar": {
              "outlinewidth": 0,
              "ticks": ""
             }
            },
            "type": "scatter3d"
           }
          ],
          "scattercarpet": [
           {
            "marker": {
             "colorbar": {
              "outlinewidth": 0,
              "ticks": ""
             }
            },
            "type": "scattercarpet"
           }
          ],
          "scattergeo": [
           {
            "marker": {
             "colorbar": {
              "outlinewidth": 0,
              "ticks": ""
             }
            },
            "type": "scattergeo"
           }
          ],
          "scattergl": [
           {
            "marker": {
             "colorbar": {
              "outlinewidth": 0,
              "ticks": ""
             }
            },
            "type": "scattergl"
           }
          ],
          "scattermapbox": [
           {
            "marker": {
             "colorbar": {
              "outlinewidth": 0,
              "ticks": ""
             }
            },
            "type": "scattermapbox"
           }
          ],
          "scatterpolar": [
           {
            "marker": {
             "colorbar": {
              "outlinewidth": 0,
              "ticks": ""
             }
            },
            "type": "scatterpolar"
           }
          ],
          "scatterpolargl": [
           {
            "marker": {
             "colorbar": {
              "outlinewidth": 0,
              "ticks": ""
             }
            },
            "type": "scatterpolargl"
           }
          ],
          "scatterternary": [
           {
            "marker": {
             "colorbar": {
              "outlinewidth": 0,
              "ticks": ""
             }
            },
            "type": "scatterternary"
           }
          ],
          "surface": [
           {
            "colorbar": {
             "outlinewidth": 0,
             "ticks": ""
            },
            "colorscale": [
             [
              0,
              "#0d0887"
             ],
             [
              0.1111111111111111,
              "#46039f"
             ],
             [
              0.2222222222222222,
              "#7201a8"
             ],
             [
              0.3333333333333333,
              "#9c179e"
             ],
             [
              0.4444444444444444,
              "#bd3786"
             ],
             [
              0.5555555555555556,
              "#d8576b"
             ],
             [
              0.6666666666666666,
              "#ed7953"
             ],
             [
              0.7777777777777778,
              "#fb9f3a"
             ],
             [
              0.8888888888888888,
              "#fdca26"
             ],
             [
              1,
              "#f0f921"
             ]
            ],
            "type": "surface"
           }
          ],
          "table": [
           {
            "cells": {
             "fill": {
              "color": "#EBF0F8"
             },
             "line": {
              "color": "white"
             }
            },
            "header": {
             "fill": {
              "color": "#C8D4E3"
             },
             "line": {
              "color": "white"
             }
            },
            "type": "table"
           }
          ]
         },
         "layout": {
          "annotationdefaults": {
           "arrowcolor": "#2a3f5f",
           "arrowhead": 0,
           "arrowwidth": 1
          },
          "autotypenumbers": "strict",
          "coloraxis": {
           "colorbar": {
            "outlinewidth": 0,
            "ticks": ""
           }
          },
          "colorscale": {
           "diverging": [
            [
             0,
             "#8e0152"
            ],
            [
             0.1,
             "#c51b7d"
            ],
            [
             0.2,
             "#de77ae"
            ],
            [
             0.3,
             "#f1b6da"
            ],
            [
             0.4,
             "#fde0ef"
            ],
            [
             0.5,
             "#f7f7f7"
            ],
            [
             0.6,
             "#e6f5d0"
            ],
            [
             0.7,
             "#b8e186"
            ],
            [
             0.8,
             "#7fbc41"
            ],
            [
             0.9,
             "#4d9221"
            ],
            [
             1,
             "#276419"
            ]
           ],
           "sequential": [
            [
             0,
             "#0d0887"
            ],
            [
             0.1111111111111111,
             "#46039f"
            ],
            [
             0.2222222222222222,
             "#7201a8"
            ],
            [
             0.3333333333333333,
             "#9c179e"
            ],
            [
             0.4444444444444444,
             "#bd3786"
            ],
            [
             0.5555555555555556,
             "#d8576b"
            ],
            [
             0.6666666666666666,
             "#ed7953"
            ],
            [
             0.7777777777777778,
             "#fb9f3a"
            ],
            [
             0.8888888888888888,
             "#fdca26"
            ],
            [
             1,
             "#f0f921"
            ]
           ],
           "sequentialminus": [
            [
             0,
             "#0d0887"
            ],
            [
             0.1111111111111111,
             "#46039f"
            ],
            [
             0.2222222222222222,
             "#7201a8"
            ],
            [
             0.3333333333333333,
             "#9c179e"
            ],
            [
             0.4444444444444444,
             "#bd3786"
            ],
            [
             0.5555555555555556,
             "#d8576b"
            ],
            [
             0.6666666666666666,
             "#ed7953"
            ],
            [
             0.7777777777777778,
             "#fb9f3a"
            ],
            [
             0.8888888888888888,
             "#fdca26"
            ],
            [
             1,
             "#f0f921"
            ]
           ]
          },
          "colorway": [
           "#636efa",
           "#EF553B",
           "#00cc96",
           "#ab63fa",
           "#FFA15A",
           "#19d3f3",
           "#FF6692",
           "#B6E880",
           "#FF97FF",
           "#FECB52"
          ],
          "font": {
           "color": "#2a3f5f"
          },
          "geo": {
           "bgcolor": "white",
           "lakecolor": "white",
           "landcolor": "#E5ECF6",
           "showlakes": true,
           "showland": true,
           "subunitcolor": "white"
          },
          "hoverlabel": {
           "align": "left"
          },
          "hovermode": "closest",
          "mapbox": {
           "style": "light"
          },
          "paper_bgcolor": "white",
          "plot_bgcolor": "#E5ECF6",
          "polar": {
           "angularaxis": {
            "gridcolor": "white",
            "linecolor": "white",
            "ticks": ""
           },
           "bgcolor": "#E5ECF6",
           "radialaxis": {
            "gridcolor": "white",
            "linecolor": "white",
            "ticks": ""
           }
          },
          "scene": {
           "xaxis": {
            "backgroundcolor": "#E5ECF6",
            "gridcolor": "white",
            "gridwidth": 2,
            "linecolor": "white",
            "showbackground": true,
            "ticks": "",
            "zerolinecolor": "white"
           },
           "yaxis": {
            "backgroundcolor": "#E5ECF6",
            "gridcolor": "white",
            "gridwidth": 2,
            "linecolor": "white",
            "showbackground": true,
            "ticks": "",
            "zerolinecolor": "white"
           },
           "zaxis": {
            "backgroundcolor": "#E5ECF6",
            "gridcolor": "white",
            "gridwidth": 2,
            "linecolor": "white",
            "showbackground": true,
            "ticks": "",
            "zerolinecolor": "white"
           }
          },
          "shapedefaults": {
           "line": {
            "color": "#2a3f5f"
           }
          },
          "ternary": {
           "aaxis": {
            "gridcolor": "white",
            "linecolor": "white",
            "ticks": ""
           },
           "baxis": {
            "gridcolor": "white",
            "linecolor": "white",
            "ticks": ""
           },
           "bgcolor": "#E5ECF6",
           "caxis": {
            "gridcolor": "white",
            "linecolor": "white",
            "ticks": ""
           }
          },
          "title": {
           "x": 0.05
          },
          "xaxis": {
           "automargin": true,
           "gridcolor": "white",
           "linecolor": "white",
           "ticks": "",
           "title": {
            "standoff": 15
           },
           "zerolinecolor": "white",
           "zerolinewidth": 2
          },
          "yaxis": {
           "automargin": true,
           "gridcolor": "white",
           "linecolor": "white",
           "ticks": "",
           "title": {
            "standoff": 15
           },
           "zerolinecolor": "white",
           "zerolinewidth": 2
          }
         }
        },
        "title": {
         "text": "Empirical Distribution Function Plot"
        },
        "xaxis": {
         "title": {
          "text": "Objective Value"
         }
        },
        "yaxis": {
         "range": [
          0,
          1
         ],
         "title": {
          "text": "Cumulative Probability"
         }
        }
       }
      }
     },
     "metadata": {},
     "output_type": "display_data"
    }
   ],
   "source": [
    "plot_edf(study)\n"
   ]
  },
  {
   "cell_type": "code",
   "execution_count": 14,
   "id": "02cec09b",
   "metadata": {},
   "outputs": [
    {
     "data": {
      "application/vnd.plotly.v1+json": {
       "config": {
        "plotlyServerURL": "https://plot.ly"
       },
       "data": [
        {
         "dimensions": [
          {
           "label": "Objective Value",
           "range": [
            0.4238437724974041,
            0.45903212451154457
           ],
           "values": [
            0.4367344029031073,
            0.44612993071058,
            0.4322928559858129,
            0.43187797869363564,
            0.4285882862007878,
            0.4370363585189979,
            0.44200495239303245,
            0.4377236231793196,
            0.42970395315943993,
            0.4299220554942626,
            0.4369752630857451,
            0.4278727335963035,
            0.4297485446228543,
            0.42955139423383243,
            0.4295463970083596,
            0.42490424315604713,
            0.4256433474502157,
            0.4276120055983773,
            0.4290938160224673,
            0.42726419092400986,
            0.4409686482721914,
            0.4271552737631585,
            0.42729932074529825,
            0.4282258894596579,
            0.4291543574544102,
            0.42835872356317245,
            0.4317890211626324,
            0.43404659429849585,
            0.430310825126618,
            0.4267741900296468,
            0.432602445348643,
            0.4258719943800603,
            0.4275108954841527,
            0.4259027215852912,
            0.42987293722100856,
            0.42825164579091324,
            0.42828462971416564,
            0.42883500191799273,
            0.4281541853803401,
            0.4386040774044021,
            0.45903212451154457,
            0.42775705806559916,
            0.42946201085502045,
            0.42568463337752727,
            0.4248664054937798,
            0.4260998407439686,
            0.4295912142298941,
            0.42965281379758186,
            0.42846624869313354,
            0.42569953066098104,
            0.4290377970099768,
            0.4246361336938267,
            0.4253512380897725,
            0.4244061637830093,
            0.4260128279276407,
            0.4250933544346184,
            0.42652545412947,
            0.4274752171412167,
            0.4284150157623846,
            0.4297035643350135,
            0.43174847045770715,
            0.4253826621997243,
            0.4263134099896724,
            0.4410653704321364,
            0.427044049795885,
            0.4270055674336087,
            0.43128766761866355,
            0.42638261239398056,
            0.4285921832679761,
            0.42919687693124253,
            0.4260492702641753,
            0.42598452301317674,
            0.42575141884644446,
            0.42674654590178773,
            0.4245494006274876,
            0.4280190078562535,
            0.4283229337015121,
            0.4273096151936605,
            0.4267321941715224,
            0.4283227706078773,
            0.434618016881937,
            0.4254270130855227,
            0.4258885622945655,
            0.42768967679691716,
            0.4283314044068973,
            0.4311033753206721,
            0.4297001187366791,
            0.42863251727855556,
            0.428410630726303,
            0.42690827246611757,
            0.4261530807384416,
            0.42525181404339635,
            0.4262300241474997,
            0.42612541145908384,
            0.42775957262776104,
            0.4254539004100977,
            0.4284133846846319,
            0.42986665693767057,
            0.42584337025875385,
            0.4288982423908262,
            0.42704178365522294,
            0.42622257854404494,
            0.4250773022294201,
            0.42746087888713535,
            0.4266396304442934,
            0.4270540048922683,
            0.42981431170390155,
            0.42658225189674315,
            0.42806817508851946,
            0.4254344958392978,
            0.426594813935725,
            0.4250303749312333,
            0.4267290452694503,
            0.42667070094566933,
            0.425869789498452,
            0.42691409515187617,
            0.42987581533295965,
            0.4276537297102581,
            0.43060178038785396,
            0.42664082502699063,
            0.4251918166712021,
            0.42791650171712126,
            0.4253936672608418,
            0.42421285703804806,
            0.4238437724974041,
            0.4250972066515999,
            0.42695873049219457,
            0.42795615429586975,
            0.4282814991092164,
            0.42544920746637666,
            0.42709533007441436,
            0.4254015139729702,
            0.42634757409808277,
            0.42505875969514817,
            0.42620974338770334,
            0.4245624054089549,
            0.4257807523207028,
            0.42606106641191593,
            0.4244929462985822,
            0.4253894606532837,
            0.4308849936295453,
            0.42664125082251675,
            0.4267421891672978,
            0.42588594687903897,
            0.4311876679005035
           ]
          },
          {
           "label": "bagging_fraction",
           "range": [
            0.6060741747674121,
            0.9999612913968465
           ],
           "values": [
            0.6060741747674121,
            0.7481939235286643,
            0.7225196847862054,
            0.900225232676557,
            0.9353095758839197,
            0.838342609102191,
            0.6527303753055681,
            0.7082025443603626,
            0.9442125817350375,
            0.9890493073423909,
            0.8566435352380554,
            0.9892834053014938,
            0.9898776489024733,
            0.9169572184412585,
            0.803791026181444,
            0.9411027078268913,
            0.9986279972755576,
            0.8633484977858062,
            0.8954128820970482,
            0.9488865815651147,
            0.7869126280707008,
            0.9517388521487602,
            0.961560247214941,
            0.9656885618744439,
            0.8882352403373244,
            0.9233392490945759,
            0.999611357098318,
            0.8104713084412218,
            0.8682929260189982,
            0.9697188845802875,
            0.6194210583490446,
            0.9737429034014021,
            0.965775499412078,
            0.97290616439889,
            0.9133122942970604,
            0.9778483821733019,
            0.9335430252152428,
            0.8864295773582695,
            0.7562070910073375,
            0.8333862138700017,
            0.9387782238063269,
            0.9733379567081832,
            0.9786709201874058,
            0.9512969058374522,
            0.9994676576972163,
            0.9993035947245811,
            0.9163576428948368,
            0.6815441256853847,
            0.9456008835785255,
            0.9058982484491104,
            0.9088204528104953,
            0.9343466541302278,
            0.9343701438836035,
            0.9360265156099143,
            0.9293627783225222,
            0.8793603881011134,
            0.8828301836992948,
            0.832739334111169,
            0.8734903911664715,
            0.8541321392893076,
            0.8993258953411476,
            0.9300072648150187,
            0.9274759866477181,
            0.9518392494187731,
            0.9377228365851714,
            0.9580844043725145,
            0.8506485893916662,
            0.9861030698284686,
            0.9004363757552748,
            0.9232240011847539,
            0.8779365763897249,
            0.9869234276507192,
            0.941909849490719,
            0.9601841761238772,
            0.9965128761790117,
            0.8930507748878289,
            0.9182770987750968,
            0.9873741052157806,
            0.9578855326007973,
            0.9356598301640664,
            0.7902587326754184,
            0.9944633811941829,
            0.9944694404456609,
            0.9809843458735918,
            0.9675602148778409,
            0.7634098334025591,
            0.9524769372586626,
            0.9775495759523496,
            0.7195338460876658,
            0.9094336229002773,
            0.9971617927451609,
            0.9994705846231784,
            0.9652738815596031,
            0.9457397398858517,
            0.9909894740112909,
            0.9798292665622242,
            0.9294325028773393,
            0.9700203423229167,
            0.9999612913968465,
            0.8147700788116528,
            0.9585088812842801,
            0.9745409326386404,
            0.9815071196753977,
            0.9216861495061198,
            0.987381357586478,
            0.9430533890799299,
            0.981770245964765,
            0.9928658453697153,
            0.9520956090694236,
            0.9338210392353828,
            0.9690974487599728,
            0.9308069580528393,
            0.9254056969325132,
            0.9110909562872076,
            0.9039085817702524,
            0.9450704810653917,
            0.8941249136465136,
            0.9631410089482852,
            0.6239891053316556,
            0.9847855079589578,
            0.9177779254160146,
            0.9191609403656239,
            0.9372800259986539,
            0.9379874765027942,
            0.9347031181064782,
            0.9132831438140616,
            0.8624899053930487,
            0.882257098766338,
            0.9134787458342811,
            0.9565254998003664,
            0.9001581982077673,
            0.9332604838109599,
            0.9256866490198652,
            0.9460915147900025,
            0.9470667606137855,
            0.9402278008426364,
            0.9418774615154196,
            0.9110097086150329,
            0.9188529602448988,
            0.9505761372674386,
            0.8901440643284725,
            0.9200815301566417,
            0.9290210541665732,
            0.9394870634464257,
            0.9155066138311767
           ]
          },
          {
           "label": "cat_l2",
           "range": [
            -7.99614215735646,
            1.9986261528785263
           ],
           "ticktext": [
            "1.01e-08",
            "1e-07",
            "1e-06",
            "1e-05",
            "0.0001",
            "0.001",
            "0.01",
            "0.1",
            "1",
            "10",
            "99.7"
           ],
           "tickvals": [
            -7.99614215735646,
            -7,
            -6,
            -5,
            -4,
            -3,
            -2,
            -1,
            0,
            1,
            1.9986261528785263
           ],
           "values": [
            -3.7118290932573816,
            -6.977048855975975,
            1.2058114830078412,
            -1.38792161901299,
            -5.292662255598769,
            -4.277519076517714,
            -7.54945494588961,
            1.448033009809296,
            -5.986794711599989,
            1.4983587709064736,
            -1.4721083913321948,
            -5.697917455036348,
            -5.576441464671284,
            -5.098009821821874,
            -2.050064120336314,
            -6.529170339972608,
            -6.754495156646944,
            -7.819452391358837,
            -6.996867234989842,
            -3.973975764525422,
            -2.7449708976434875,
            -6.373999404967972,
            -6.470648148441748,
            -7.992133665802305,
            -6.516858461777102,
            -4.793606086646483,
            -6.404623579229181,
            -7.124210447527423,
            -2.9867411838836673,
            -4.840199612914422,
            -4.524245636659118,
            -3.5461752743288115,
            -3.8925230164374676,
            -3.3714561627961688,
            -0.0997459918516364,
            -3.4986391817890348,
            -0.1218588334572393,
            -3.399420884740284,
            -2.476760763569739,
            -0.2812399807375138,
            -1.2211108123315246,
            -4.944257200787742,
            -4.2317555682995085,
            -5.832013481851643,
            -6.014737162149603,
            -5.837338947726851,
            -7.405363033444689,
            -5.386313867939449,
            -6.078282783132125,
            -6.851402162625645,
            -7.547852609374301,
            -7.149967485944299,
            -6.751078571581653,
            -6.857694701959509,
            -6.799632390759478,
            -7.313358531609737,
            -7.268819486155576,
            -7.682869339318974,
            -6.312182913271313,
            -7.256591475251625,
            -6.155636547155819,
            -6.7513279487085835,
            -6.703659588851019,
            -7.99614215735646,
            -5.52626010678635,
            -7.076278746953821,
            -7.56923047180235,
            -6.602579706756351,
            -7.001746961746128,
            -6.059550129649441,
            -5.276760890922425,
            -6.7245944275741,
            -7.274852010504938,
            -7.752017919146457,
            -6.3899974435661315,
            1.9986261528785263,
            -6.293443453873183,
            -5.6923788448244,
            -6.524886342944331,
            -6.991471959541263,
            -7.429863339432537,
            -5.917113724189807,
            -5.969693713451886,
            -5.173567789512572,
            -6.37241524198919,
            -5.556635941509244,
            -6.9599401615308185,
            -6.579447330180655,
            -6.222670890545688,
            -5.876575498644246,
            -4.549007484783796,
            -6.68638070988958,
            -6.745931301496356,
            -7.2087259338079175,
            -7.416412932767484,
            -7.838130508706417,
            -6.8425267044642215,
            -6.444365335905144,
            -7.109263116328961,
            -6.247236798418601,
            -6.028340917568041,
            -7.762075881433206,
            -7.892101502356743,
            -7.470183915577071,
            -6.6263006870078165,
            -6.924802728642326,
            -7.96903396939505,
            -7.601495580250571,
            -7.261629920295276,
            -5.722289521510273,
            -6.508551695026706,
            -5.670283913085859,
            -5.3588306646818005,
            -6.183164682583599,
            -7.125013585880504,
            -6.818052794323732,
            -5.813224168566789,
            -6.424455400506439,
            -5.031607614756526,
            -7.6488161242566095,
            0.331731428003352,
            -1.6005899604378973,
            0.5810419744225626,
            1.1416670990364313,
            0.8729053683970537,
            0.6067636328343728,
            0.8845467959766767,
            0.4688485051400799,
            1.150360264665596,
            0.25901155582607144,
            1.9424356211458362,
            -7.3164764319266515,
            1.2070008270044217,
            -0.7364551115599334,
            -0.8985408833650346,
            -0.5362720572587407,
            -0.6240354504369521,
            0.21887672104183395,
            0.7732762383448533,
            1.33821640360302,
            0.786025275384127,
            0.960815637786304,
            0.31722408583228034,
            1.5925165070838945,
            0.7456801547865031
           ]
          },
          {
           "label": "feature_fraction",
           "range": [
            0.41144632940523224,
            0.9994500673990918
           ],
           "values": [
            0.8133184905834625,
            0.4148885025848337,
            0.7845835393370884,
            0.9461478314368879,
            0.7205012632117331,
            0.9000849377909657,
            0.9053646434530813,
            0.8691698593393651,
            0.7012720002647885,
            0.9789806534824634,
            0.5267162573939934,
            0.6495610546928647,
            0.6158833904250391,
            0.6672588967347624,
            0.5774179295302333,
            0.7549932955949054,
            0.772531213578589,
            0.7741778387675035,
            0.826779974819907,
            0.738509924078357,
            0.532554716908939,
            0.7403977659969226,
            0.7527871186371811,
            0.8266574717376158,
            0.6687394307085915,
            0.8472419063496044,
            0.7753363720372275,
            0.6182068900462313,
            0.7189112264927087,
            0.8088776840795898,
            0.7952943285355762,
            0.8789842374545666,
            0.8974828689984393,
            0.8764398190868035,
            0.9382911010744212,
            0.8600616829781059,
            0.9606215639066527,
            0.9994500673990918,
            0.864775201227007,
            0.9227124444515548,
            0.41144632940523224,
            0.812129786547066,
            0.8992728335179594,
            0.7966683810374254,
            0.7660796432241586,
            0.7591178947915399,
            0.6976049842461313,
            0.7034102731557464,
            0.7891216711085417,
            0.8388597403143128,
            0.8477741087169848,
            0.769929264292609,
            0.7689431021229678,
            0.7278417679162353,
            0.7285685744928616,
            0.6802004934362033,
            0.6792814755523258,
            0.6384311269623825,
            0.6954258366495663,
            0.7519936903270955,
            0.5913473674457091,
            0.7681286353250576,
            0.7181128758591685,
            0.451279296651826,
            0.7663130295660991,
            0.7403013108966445,
            0.6535164971883777,
            0.6831795049127812,
            0.777435472362082,
            0.7117623395073932,
            0.7411019257218147,
            0.8232384498368186,
            0.7627926555729385,
            0.7992474223686755,
            0.7806276981832866,
            0.7242660565798544,
            0.7785612711107649,
            0.7476914229072793,
            0.8085382738194006,
            0.6590409234710939,
            0.6280525067101408,
            0.7874611695673525,
            0.7301448396607381,
            0.7657926904174042,
            0.7896182566331501,
            0.8305736705440215,
            0.6818358817584929,
            0.8170171380413411,
            0.7536156100886079,
            0.783058622246135,
            0.7095599244539528,
            0.8013809189505936,
            0.7945832192362786,
            0.8077106658928017,
            0.734104732281443,
            0.848115832068138,
            0.7660764371628841,
            0.7818352274795608,
            0.7512534294359795,
            0.7988000167241237,
            0.8351871367377377,
            0.8506007793568047,
            0.769679155585754,
            0.6957233676245832,
            0.7722855268291068,
            0.7417229905344142,
            0.7553982218449871,
            0.7174364797338372,
            0.8207473488264838,
            0.8044618348349278,
            0.787824873089029,
            0.8071905054712102,
            0.7730560730109588,
            0.7264998575002032,
            0.7604886679726703,
            0.7828954062645894,
            0.7441612711522436,
            0.8167867589129504,
            0.7974975662795378,
            0.7621176498652154,
            0.7338288743454742,
            0.7061593291677299,
            0.7366234845467029,
            0.7331765014651545,
            0.6852973167416573,
            0.6741659443535284,
            0.6704721791734864,
            0.6766098419327803,
            0.641611004628687,
            0.6865599978729822,
            0.6990483397564884,
            0.7229270139393329,
            0.6590135907572082,
            0.6914202919487505,
            0.6475118739084299,
            0.6945356984627089,
            0.6651884152147636,
            0.7087193430377726,
            0.6916173599004525,
            0.6941952908535389,
            0.6152744578611185,
            0.6883125511269438,
            0.7161596811565498,
            0.6699668899068582,
            0.7312274901817002
           ]
          },
          {
           "label": "lambda_l1",
           "range": [
            -7.864280737315159,
            1.7718551326672678
           ],
           "ticktext": [
            "1.37e-08",
            "1e-07",
            "1e-06",
            "1e-05",
            "0.0001",
            "0.001",
            "0.01",
            "0.1",
            "1",
            "10",
            "59.1"
           ],
           "tickvals": [
            -7.864280737315159,
            -7,
            -6,
            -5,
            -4,
            -3,
            -2,
            -1,
            0,
            1,
            1.7718551326672678
           ],
           "values": [
            -3.1686744095677573,
            -2.2396705795510803,
            -1.333334371084678,
            -2.6195065627443155,
            -6.0190025332556285,
            -6.380017866568296,
            -7.583252370150194,
            -0.9785540598551757,
            -2.6291466922316618,
            -7.864280737315159,
            1.7718551326672678,
            -4.693440119916164,
            -5.097644777888366,
            -4.960875661482162,
            -5.363057886757198,
            -4.125967691919579,
            -3.726258838013582,
            -3.908729831885475,
            -0.47736263905155873,
            -3.6794662300155476,
            0.7552264652405805,
            -3.7751889497296562,
            -4.084931205818406,
            -6.793206234715387,
            -1.802823716194734,
            -4.2117784743805675,
            -3.261561138693339,
            -5.717485736669896,
            -4.436204907751906,
            -3.2166198898574385,
            -3.0861465326605924,
            -3.491441240085763,
            -1.9804307802501313,
            -2.972247903821196,
            -2.4126281110296968,
            -1.4404251082528376,
            -0.6302568128677491,
            -2.831858440290089,
            -3.4810678978737064,
            -2.280547243661279,
            -6.991326011721855,
            -3.10823914184732,
            -4.528250498305299,
            -3.4359255634674444,
            -2.7031898130338234,
            -5.813429140804636,
            -5.229957246858122,
            -1.59077786622333,
            -2.5168684910219556,
            -4.809675652581529,
            -4.68100937863724,
            -3.5739018421368756,
            -4.099626448890319,
            -4.078418206384125,
            -3.7427441579382763,
            -4.240089369247893,
            -4.110961551799613,
            -4.432723210262413,
            -5.294248560399132,
            -6.290528305827427,
            -4.05430003679634,
            -3.8829091969834812,
            -2.6965273934765457,
            -4.37060012343355,
            -4.905522356383539,
            -3.829819378591555,
            -5.667132650441777,
            -4.145787407546583,
            -1.9544164822677947,
            -3.4601389729485845,
            -5.072193781965249,
            -3.6881076271668936,
            -2.792013615046468,
            -3.2997671725070257,
            -3.9414410050591053,
            -3.913843300089605,
            -4.682382495294365,
            -3.0311917790133935,
            -4.297775319702545,
            1.3109640743002637,
            -5.581114391402949,
            -3.6348078902163508,
            -3.443069056261256,
            -3.876700446583734,
            -4.537506506472609,
            -2.9406723990511594,
            -3.6074772131405033,
            -2.293774149874026,
            -3.243242030238183,
            -4.0114829315091205,
            -4.25176943759468,
            -3.7380686118469764,
            -3.6353308487409275,
            -4.573841026800617,
            -2.566573223354749,
            -3.2322046887201905,
            -4.884466471134711,
            -4.266116866399127,
            -3.9319733934948764,
            -1.1070687262259682,
            -3.642728232462524,
            -3.2172564770742222,
            -3.380450314425752,
            -2.8593518689274315,
            -4.057440735443058,
            -3.407574004476297,
            -4.367413054821637,
            -3.819185997622986,
            -4.738503370124108,
            -2.139924929221007,
            0.06628915420970513,
            -2.215946918021092,
            -3.023521561205049,
            -2.667015934809979,
            -3.5562833428143046,
            -2.443046884932851,
            -1.6414718044828163,
            -4.126494616466436,
            -3.8938102580565426,
            -5.025588460907346,
            -4.511169529417839,
            -4.368215813131036,
            -4.524342496232172,
            -4.556488525952767,
            -5.207476703939464,
            -5.442259511607502,
            -5.301116426347811,
            -5.5290642346351415,
            -4.835696856977959,
            -5.442727439760816,
            -4.706317972504871,
            -5.838648680939351,
            -5.080221754060864,
            -6.211564488925514,
            -5.15021443124281,
            -6.443630759272215,
            -6.674004676413672,
            -6.095813027104201,
            -6.69665650012832,
            -7.293440870175751,
            -6.093202990098575,
            -6.500814539885194,
            -6.9300742308979535,
            -6.3142435373876244,
            -7.856063854604797
           ]
          },
          {
           "label": "lambda_l2",
           "range": [
            -7.9941317570608,
            1.983272718771287
           ],
           "ticktext": [
            "1.01e-08",
            "1e-07",
            "1e-06",
            "1e-05",
            "0.0001",
            "0.001",
            "0.01",
            "0.1",
            "1",
            "10",
            "96.2"
           ],
           "tickvals": [
            -7.9941317570608,
            -7,
            -6,
            -5,
            -4,
            -3,
            -2,
            -1,
            0,
            1,
            1.983272718771287
           ],
           "values": [
            0.28291597763105203,
            -7.369600068260599,
            0.11815785004887516,
            -3.7768751983439492,
            -5.3570721187139645,
            -2.945949032415952,
            -1.1249471025318996,
            -6.607236978381316,
            -7.238388674207034,
            -1.396289882318204,
            -4.902916911113828,
            -5.761040946805774,
            -5.1198826791643075,
            -5.546485916837626,
            -3.5224687065384956,
            -5.883732408823771,
            -7.9556092093620006,
            -7.953537254977654,
            -6.626954789155296,
            -4.241049480437635,
            -6.40882425476717,
            -4.52349055644267,
            1.983272718771287,
            -2.5629209364110843,
            -4.508349399911651,
            -7.9624727485953954,
            -6.0049874339901015,
            -7.149107933246867,
            -2.3869805576410656,
            -4.279340313507701,
            -6.223488627882562,
            -4.24554653563382,
            -3.7780255918132157,
            -1.8996844443100247,
            -1.7489607674189633,
            -0.3439791188572242,
            -3.134924314896481,
            0.8847422450076121,
            -1.9508606500585555,
            -0.6916315003678297,
            -6.935810063739827,
            -3.830390874937812,
            -2.987955979017628,
            -5.022600956186176,
            -5.211901138841376,
            -5.025925801431771,
            -5.498456242911402,
            -7.53151597964444,
            -5.8150937386978185,
            -5.008661878696924,
            -4.874313182773316,
            -5.233762160213133,
            -5.351027153114346,
            -6.723867064846437,
            -6.779333955549914,
            -7.419643363879219,
            -7.528229190640622,
            -6.349424662715659,
            -6.029396962190179,
            -5.39905657894619,
            -7.1486071964067195,
            -7.760434674457991,
            -7.507463818752016,
            -6.614330564244788,
            -5.862533713370932,
            -7.01660570874278,
            -7.74007698397533,
            -4.629043749994735,
            -6.325479909995627,
            -7.333475289343033,
            -5.334938677995766,
            -7.9941317570608,
            -6.688442795463608,
            -7.816319090471517,
            -6.173243751900341,
            -6.130203931006809,
            -5.523231664559782,
            -6.493859753550422,
            -6.777219363829997,
            -5.713851577083912,
            -4.693628247085041,
            -7.188504462891737,
            -7.200716241127086,
            -6.9296209446281365,
            -6.0566439468350115,
            -5.251104765653249,
            -7.575815317759056,
            -5.792006086987981,
            -4.040047085260018,
            -3.351923798137708,
            -6.48653579684541,
            -7.73682967580316,
            -7.32824910335154,
            -7.678745944855352,
            -7.00397954434801,
            -6.263959358270292,
            -7.763446691099186,
            -6.8256839046590265,
            -5.621468024240444,
            -7.25302909237176,
            -7.3721569897106995,
            -6.284776117971671,
            -6.544604045921037,
            -6.639854687997787,
            -5.976201623096453,
            -7.09555020240099,
            -4.763675607641535,
            -5.182479255123771,
            -4.4318210442837955,
            -7.865487844973104,
            -7.4647729559977245,
            -7.87387936368314,
            -7.55650326957984,
            -6.8878616855520844,
            -6.512364739538265,
            -7.710529129025957,
            -7.966704792773826,
            -7.065023938646443,
            -6.145559621686066,
            -5.419288872077328,
            -5.9170510676758274,
            -5.640304215073559,
            -5.912199267559572,
            -5.897300488828562,
            -5.162876256214898,
            -5.132306320007269,
            -5.001742693973275,
            -5.197817101215145,
            -5.680613798670856,
            -5.840087115563458,
            -6.372634703532139,
            -4.851027716424763,
            -5.402246320727133,
            -5.5490397706025885,
            -6.084209522587738,
            -5.610991413450249,
            -5.808040591997424,
            -5.543156576400086,
            -5.05442717116665,
            -4.376705236098281,
            -5.221385074029325,
            -5.046835886087447,
            -5.646954842452545,
            -4.609307371900146,
            -5.982623696674679
           ]
          },
          {
           "label": "max_cat_threshold",
           "range": [
            32,
            511
           ],
           "values": [
            160,
            387,
            346,
            161,
            395,
            264,
            231,
            168,
            443,
            279,
            502,
            478,
            511,
            407,
            337,
            52,
            40,
            36,
            38,
            98,
            103,
            94,
            87,
            63,
            124,
            191,
            129,
            63,
            74,
            205,
            227,
            132,
            139,
            199,
            149,
            32,
            178,
            283,
            56,
            112,
            235,
            184,
            223,
            196,
            253,
            330,
            305,
            257,
            166,
            254,
            306,
            219,
            365,
            362,
            374,
            417,
            422,
            370,
            473,
            351,
            440,
            382,
            403,
            375,
            420,
            348,
            325,
            462,
            395,
            360,
            296,
            434,
            389,
            414,
            271,
            277,
            320,
            243,
            264,
            360,
            213,
            78,
            289,
            86,
            55,
            339,
            268,
            456,
            114,
            248,
            313,
            45,
            44,
            65,
            150,
            79,
            492,
            380,
            45,
            73,
            404,
            83,
            107,
            109,
            53,
            97,
            215,
            384,
            32,
            64,
            122,
            71,
            48,
            72,
            235,
            86,
            368,
            429,
            259,
            395,
            97,
            90,
            98,
            106,
            118,
            149,
            139,
            107,
            118,
            95,
            177,
            138,
            156,
            133,
            132,
            126,
            143,
            162,
            122,
            127,
            120,
            107,
            130,
            147,
            105
           ]
          },
          {
           "label": "min_data_in_leaf",
           "range": [
            109,
            991
           ],
           "values": [
            702,
            668,
            193,
            383,
            485,
            898,
            667,
            810,
            689,
            653,
            421,
            460,
            441,
            226,
            495,
            312,
            290,
            300,
            298,
            313,
            109,
            319,
            177,
            570,
            317,
            376,
            114,
            233,
            538,
            366,
            368,
            251,
            264,
            154,
            169,
            145,
            227,
            204,
            263,
            991,
            150,
            362,
            409,
            271,
            245,
            265,
            796,
            204,
            486,
            332,
            343,
            273,
            271,
            286,
            300,
            404,
            422,
            404,
            447,
            597,
            201,
            286,
            287,
            343,
            235,
            395,
            330,
            289,
            532,
            238,
            198,
            288,
            314,
            358,
            248,
            178,
            121,
            223,
            252,
            267,
            314,
            286,
            220,
            387,
            249,
            278,
            177,
            353,
            316,
            215,
            458,
            298,
            250,
            303,
            329,
            280,
            376,
            134,
            430,
            162,
            190,
            274,
            298,
            335,
            303,
            236,
            739,
            255,
            356,
            292,
            218,
            300,
            299,
            325,
            265,
            247,
            344,
            506,
            278,
            625,
            314,
            317,
            235,
            264,
            264,
            208,
            199,
            224,
            186,
            258,
            208,
            298,
            243,
            271,
            263,
            382,
            370,
            393,
            344,
            414,
            346,
            332,
            313,
            365,
            908
           ]
          },
          {
           "label": "min_data_per_group",
           "range": [
            102,
            1000
           ],
           "values": [
            630,
            445,
            748,
            842,
            181,
            283,
            643,
            560,
            782,
            511,
            102,
            955,
            980,
            315,
            967,
            171,
            361,
            340,
            190,
            408,
            225,
            420,
            406,
            497,
            356,
            116,
            273,
            234,
            580,
            651,
            648,
            682,
            703,
            835,
            860,
            720,
            878,
            783,
            820,
            500,
            589,
            677,
            616,
            770,
            893,
            887,
            925,
            756,
            786,
            928,
            999,
            922,
            913,
            914,
            890,
            944,
            927,
            952,
            911,
            814,
            977,
            852,
            852,
            960,
            905,
            949,
            992,
            865,
            832,
            942,
            810,
            176,
            374,
            525,
            446,
            457,
            898,
            139,
            868,
            979,
            319,
            266,
            229,
            279,
            165,
            258,
            104,
            211,
            913,
            450,
            305,
            381,
            201,
            403,
            488,
            364,
            387,
            430,
            472,
            938,
            540,
            256,
            346,
            351,
            293,
            332,
            843,
            885,
            960,
            917,
            427,
            915,
            882,
            389,
            941,
            903,
            154,
            863,
            924,
            332,
            999,
            969,
            1000,
            995,
            975,
            967,
            980,
            982,
            963,
            946,
            579,
            931,
            992,
            954,
            962,
            978,
            998,
            951,
            973,
            969,
            935,
            980,
            902,
            955,
            982
           ]
          },
          {
           "label": "num_iterations",
           "range": [
            1011,
            4977
           ],
           "values": [
            2649,
            3894,
            4198,
            4903,
            4029,
            2432,
            1167,
            2465,
            2862,
            1836,
            3683,
            3314,
            3429,
            4714,
            3385,
            4306,
            4455,
            4530,
            4407,
            4929,
            4319,
            4960,
            4578,
            4977,
            3844,
            4165,
            4663,
            3735,
            4341,
            3042,
            2995,
            2003,
            2140,
            1582,
            1416,
            1699,
            1732,
            1023,
            2044,
            1425,
            2525,
            2721,
            2162,
            1393,
            1402,
            1214,
            1910,
            1352,
            1598,
            2277,
            4025,
            2398,
            2301,
            2332,
            2366,
            2769,
            2745,
            2571,
            2924,
            3157,
            3257,
            2328,
            2300,
            2623,
            2425,
            2774,
            3456,
            2236,
            1924,
            2508,
            2866,
            2121,
            4761,
            2374,
            4445,
            2654,
            3991,
            4145,
            4787,
            3620,
            4260,
            4468,
            4644,
            4365,
            4458,
            4845,
            1780,
            4516,
            3033,
            2027,
            4155,
            4513,
            4611,
            4299,
            4527,
            3909,
            2207,
            4431,
            2372,
            2605,
            2487,
            3884,
            3801,
            3579,
            4113,
            4685,
            2092,
            2788,
            4258,
            3133,
            1914,
            3750,
            1011,
            3500,
            3690,
            2288,
            3300,
            2684,
            4874,
            4352,
            3781,
            3717,
            3797,
            3766,
            3799,
            3989,
            4048,
            3805,
            3594,
            3912,
            3969,
            3383,
            3808,
            3645,
            4067,
            3530,
            3629,
            3772,
            3684,
            3465,
            3665,
            3532,
            3948,
            3860,
            3378
           ]
          },
          {
           "label": "num_leaves",
           "range": [
            32,
            254
           ],
           "values": [
            196,
            248,
            219,
            52,
            74,
            85,
            36,
            77,
            227,
            129,
            152,
            140,
            125,
            172,
            100,
            105,
            115,
            107,
            175,
            109,
            159,
            105,
            55,
            120,
            94,
            66,
            136,
            114,
            94,
            175,
            188,
            154,
            195,
            156,
            153,
            163,
            208,
            142,
            254,
            129,
            231,
            181,
            206,
            165,
            150,
            144,
            165,
            79,
            133,
            119,
            117,
            148,
            145,
            146,
            142,
            129,
            146,
            129,
            148,
            93,
            136,
            125,
            103,
            125,
            110,
            169,
            124,
            134,
            151,
            181,
            158,
            99,
            112,
            89,
            139,
            138,
            123,
            148,
            130,
            157,
            140,
            116,
            118,
            106,
            127,
            151,
            163,
            134,
            40,
            114,
            82,
            98,
            140,
            98,
            121,
            71,
            145,
            132,
            107,
            161,
            90,
            59,
            65,
            51,
            149,
            102,
            137,
            154,
            143,
            168,
            126,
            167,
            173,
            130,
            179,
            32,
            112,
            119,
            157,
            44,
            71,
            72,
            64,
            56,
            48,
            56,
            50,
            57,
            64,
            47,
            77,
            60,
            41,
            67,
            67,
            84,
            56,
            77,
            71,
            81,
            85,
            72,
            66,
            61,
            69
           ]
          }
         ],
         "labelangle": 30,
         "labelside": "bottom",
         "line": {
          "color": [
           0.4367344029031073,
           0.44612993071058,
           0.4322928559858129,
           0.43187797869363564,
           0.4285882862007878,
           0.4370363585189979,
           0.44200495239303245,
           0.4377236231793196,
           0.42970395315943993,
           0.4299220554942626,
           0.4369752630857451,
           0.4278727335963035,
           0.4297485446228543,
           0.42955139423383243,
           0.4295463970083596,
           0.42490424315604713,
           0.4256433474502157,
           0.4276120055983773,
           0.4290938160224673,
           0.42726419092400986,
           0.4409686482721914,
           0.4271552737631585,
           0.42729932074529825,
           0.4282258894596579,
           0.4291543574544102,
           0.42835872356317245,
           0.4317890211626324,
           0.43404659429849585,
           0.430310825126618,
           0.4267741900296468,
           0.432602445348643,
           0.4258719943800603,
           0.4275108954841527,
           0.4259027215852912,
           0.42987293722100856,
           0.42825164579091324,
           0.42828462971416564,
           0.42883500191799273,
           0.4281541853803401,
           0.4386040774044021,
           0.45903212451154457,
           0.42775705806559916,
           0.42946201085502045,
           0.42568463337752727,
           0.4248664054937798,
           0.4260998407439686,
           0.4295912142298941,
           0.42965281379758186,
           0.42846624869313354,
           0.42569953066098104,
           0.4290377970099768,
           0.4246361336938267,
           0.4253512380897725,
           0.4244061637830093,
           0.4260128279276407,
           0.4250933544346184,
           0.42652545412947,
           0.4274752171412167,
           0.4284150157623846,
           0.4297035643350135,
           0.43174847045770715,
           0.4253826621997243,
           0.4263134099896724,
           0.4410653704321364,
           0.427044049795885,
           0.4270055674336087,
           0.43128766761866355,
           0.42638261239398056,
           0.4285921832679761,
           0.42919687693124253,
           0.4260492702641753,
           0.42598452301317674,
           0.42575141884644446,
           0.42674654590178773,
           0.4245494006274876,
           0.4280190078562535,
           0.4283229337015121,
           0.4273096151936605,
           0.4267321941715224,
           0.4283227706078773,
           0.434618016881937,
           0.4254270130855227,
           0.4258885622945655,
           0.42768967679691716,
           0.4283314044068973,
           0.4311033753206721,
           0.4297001187366791,
           0.42863251727855556,
           0.428410630726303,
           0.42690827246611757,
           0.4261530807384416,
           0.42525181404339635,
           0.4262300241474997,
           0.42612541145908384,
           0.42775957262776104,
           0.4254539004100977,
           0.4284133846846319,
           0.42986665693767057,
           0.42584337025875385,
           0.4288982423908262,
           0.42704178365522294,
           0.42622257854404494,
           0.4250773022294201,
           0.42746087888713535,
           0.4266396304442934,
           0.4270540048922683,
           0.42981431170390155,
           0.42658225189674315,
           0.42806817508851946,
           0.4254344958392978,
           0.426594813935725,
           0.4250303749312333,
           0.4267290452694503,
           0.42667070094566933,
           0.425869789498452,
           0.42691409515187617,
           0.42987581533295965,
           0.4276537297102581,
           0.43060178038785396,
           0.42664082502699063,
           0.4251918166712021,
           0.42791650171712126,
           0.4253936672608418,
           0.42421285703804806,
           0.4238437724974041,
           0.4250972066515999,
           0.42695873049219457,
           0.42795615429586975,
           0.4282814991092164,
           0.42544920746637666,
           0.42709533007441436,
           0.4254015139729702,
           0.42634757409808277,
           0.42505875969514817,
           0.42620974338770334,
           0.4245624054089549,
           0.4257807523207028,
           0.42606106641191593,
           0.4244929462985822,
           0.4253894606532837,
           0.4308849936295453,
           0.42664125082251675,
           0.4267421891672978,
           0.42588594687903897,
           0.4311876679005035
          ],
          "colorbar": {
           "title": {
            "text": "Objective Value"
           }
          },
          "colorscale": [
           [
            0,
            "rgb(247,251,255)"
           ],
           [
            0.125,
            "rgb(222,235,247)"
           ],
           [
            0.25,
            "rgb(198,219,239)"
           ],
           [
            0.375,
            "rgb(158,202,225)"
           ],
           [
            0.5,
            "rgb(107,174,214)"
           ],
           [
            0.625,
            "rgb(66,146,198)"
           ],
           [
            0.75,
            "rgb(33,113,181)"
           ],
           [
            0.875,
            "rgb(8,81,156)"
           ],
           [
            1,
            "rgb(8,48,107)"
           ]
          ],
          "reversescale": true,
          "showscale": true
         },
         "type": "parcoords"
        }
       ],
       "layout": {
        "template": {
         "data": {
          "bar": [
           {
            "error_x": {
             "color": "#2a3f5f"
            },
            "error_y": {
             "color": "#2a3f5f"
            },
            "marker": {
             "line": {
              "color": "#E5ECF6",
              "width": 0.5
             },
             "pattern": {
              "fillmode": "overlay",
              "size": 10,
              "solidity": 0.2
             }
            },
            "type": "bar"
           }
          ],
          "barpolar": [
           {
            "marker": {
             "line": {
              "color": "#E5ECF6",
              "width": 0.5
             },
             "pattern": {
              "fillmode": "overlay",
              "size": 10,
              "solidity": 0.2
             }
            },
            "type": "barpolar"
           }
          ],
          "carpet": [
           {
            "aaxis": {
             "endlinecolor": "#2a3f5f",
             "gridcolor": "white",
             "linecolor": "white",
             "minorgridcolor": "white",
             "startlinecolor": "#2a3f5f"
            },
            "baxis": {
             "endlinecolor": "#2a3f5f",
             "gridcolor": "white",
             "linecolor": "white",
             "minorgridcolor": "white",
             "startlinecolor": "#2a3f5f"
            },
            "type": "carpet"
           }
          ],
          "choropleth": [
           {
            "colorbar": {
             "outlinewidth": 0,
             "ticks": ""
            },
            "type": "choropleth"
           }
          ],
          "contour": [
           {
            "colorbar": {
             "outlinewidth": 0,
             "ticks": ""
            },
            "colorscale": [
             [
              0,
              "#0d0887"
             ],
             [
              0.1111111111111111,
              "#46039f"
             ],
             [
              0.2222222222222222,
              "#7201a8"
             ],
             [
              0.3333333333333333,
              "#9c179e"
             ],
             [
              0.4444444444444444,
              "#bd3786"
             ],
             [
              0.5555555555555556,
              "#d8576b"
             ],
             [
              0.6666666666666666,
              "#ed7953"
             ],
             [
              0.7777777777777778,
              "#fb9f3a"
             ],
             [
              0.8888888888888888,
              "#fdca26"
             ],
             [
              1,
              "#f0f921"
             ]
            ],
            "type": "contour"
           }
          ],
          "contourcarpet": [
           {
            "colorbar": {
             "outlinewidth": 0,
             "ticks": ""
            },
            "type": "contourcarpet"
           }
          ],
          "heatmap": [
           {
            "colorbar": {
             "outlinewidth": 0,
             "ticks": ""
            },
            "colorscale": [
             [
              0,
              "#0d0887"
             ],
             [
              0.1111111111111111,
              "#46039f"
             ],
             [
              0.2222222222222222,
              "#7201a8"
             ],
             [
              0.3333333333333333,
              "#9c179e"
             ],
             [
              0.4444444444444444,
              "#bd3786"
             ],
             [
              0.5555555555555556,
              "#d8576b"
             ],
             [
              0.6666666666666666,
              "#ed7953"
             ],
             [
              0.7777777777777778,
              "#fb9f3a"
             ],
             [
              0.8888888888888888,
              "#fdca26"
             ],
             [
              1,
              "#f0f921"
             ]
            ],
            "type": "heatmap"
           }
          ],
          "heatmapgl": [
           {
            "colorbar": {
             "outlinewidth": 0,
             "ticks": ""
            },
            "colorscale": [
             [
              0,
              "#0d0887"
             ],
             [
              0.1111111111111111,
              "#46039f"
             ],
             [
              0.2222222222222222,
              "#7201a8"
             ],
             [
              0.3333333333333333,
              "#9c179e"
             ],
             [
              0.4444444444444444,
              "#bd3786"
             ],
             [
              0.5555555555555556,
              "#d8576b"
             ],
             [
              0.6666666666666666,
              "#ed7953"
             ],
             [
              0.7777777777777778,
              "#fb9f3a"
             ],
             [
              0.8888888888888888,
              "#fdca26"
             ],
             [
              1,
              "#f0f921"
             ]
            ],
            "type": "heatmapgl"
           }
          ],
          "histogram": [
           {
            "marker": {
             "pattern": {
              "fillmode": "overlay",
              "size": 10,
              "solidity": 0.2
             }
            },
            "type": "histogram"
           }
          ],
          "histogram2d": [
           {
            "colorbar": {
             "outlinewidth": 0,
             "ticks": ""
            },
            "colorscale": [
             [
              0,
              "#0d0887"
             ],
             [
              0.1111111111111111,
              "#46039f"
             ],
             [
              0.2222222222222222,
              "#7201a8"
             ],
             [
              0.3333333333333333,
              "#9c179e"
             ],
             [
              0.4444444444444444,
              "#bd3786"
             ],
             [
              0.5555555555555556,
              "#d8576b"
             ],
             [
              0.6666666666666666,
              "#ed7953"
             ],
             [
              0.7777777777777778,
              "#fb9f3a"
             ],
             [
              0.8888888888888888,
              "#fdca26"
             ],
             [
              1,
              "#f0f921"
             ]
            ],
            "type": "histogram2d"
           }
          ],
          "histogram2dcontour": [
           {
            "colorbar": {
             "outlinewidth": 0,
             "ticks": ""
            },
            "colorscale": [
             [
              0,
              "#0d0887"
             ],
             [
              0.1111111111111111,
              "#46039f"
             ],
             [
              0.2222222222222222,
              "#7201a8"
             ],
             [
              0.3333333333333333,
              "#9c179e"
             ],
             [
              0.4444444444444444,
              "#bd3786"
             ],
             [
              0.5555555555555556,
              "#d8576b"
             ],
             [
              0.6666666666666666,
              "#ed7953"
             ],
             [
              0.7777777777777778,
              "#fb9f3a"
             ],
             [
              0.8888888888888888,
              "#fdca26"
             ],
             [
              1,
              "#f0f921"
             ]
            ],
            "type": "histogram2dcontour"
           }
          ],
          "mesh3d": [
           {
            "colorbar": {
             "outlinewidth": 0,
             "ticks": ""
            },
            "type": "mesh3d"
           }
          ],
          "parcoords": [
           {
            "line": {
             "colorbar": {
              "outlinewidth": 0,
              "ticks": ""
             }
            },
            "type": "parcoords"
           }
          ],
          "pie": [
           {
            "automargin": true,
            "type": "pie"
           }
          ],
          "scatter": [
           {
            "fillpattern": {
             "fillmode": "overlay",
             "size": 10,
             "solidity": 0.2
            },
            "type": "scatter"
           }
          ],
          "scatter3d": [
           {
            "line": {
             "colorbar": {
              "outlinewidth": 0,
              "ticks": ""
             }
            },
            "marker": {
             "colorbar": {
              "outlinewidth": 0,
              "ticks": ""
             }
            },
            "type": "scatter3d"
           }
          ],
          "scattercarpet": [
           {
            "marker": {
             "colorbar": {
              "outlinewidth": 0,
              "ticks": ""
             }
            },
            "type": "scattercarpet"
           }
          ],
          "scattergeo": [
           {
            "marker": {
             "colorbar": {
              "outlinewidth": 0,
              "ticks": ""
             }
            },
            "type": "scattergeo"
           }
          ],
          "scattergl": [
           {
            "marker": {
             "colorbar": {
              "outlinewidth": 0,
              "ticks": ""
             }
            },
            "type": "scattergl"
           }
          ],
          "scattermapbox": [
           {
            "marker": {
             "colorbar": {
              "outlinewidth": 0,
              "ticks": ""
             }
            },
            "type": "scattermapbox"
           }
          ],
          "scatterpolar": [
           {
            "marker": {
             "colorbar": {
              "outlinewidth": 0,
              "ticks": ""
             }
            },
            "type": "scatterpolar"
           }
          ],
          "scatterpolargl": [
           {
            "marker": {
             "colorbar": {
              "outlinewidth": 0,
              "ticks": ""
             }
            },
            "type": "scatterpolargl"
           }
          ],
          "scatterternary": [
           {
            "marker": {
             "colorbar": {
              "outlinewidth": 0,
              "ticks": ""
             }
            },
            "type": "scatterternary"
           }
          ],
          "surface": [
           {
            "colorbar": {
             "outlinewidth": 0,
             "ticks": ""
            },
            "colorscale": [
             [
              0,
              "#0d0887"
             ],
             [
              0.1111111111111111,
              "#46039f"
             ],
             [
              0.2222222222222222,
              "#7201a8"
             ],
             [
              0.3333333333333333,
              "#9c179e"
             ],
             [
              0.4444444444444444,
              "#bd3786"
             ],
             [
              0.5555555555555556,
              "#d8576b"
             ],
             [
              0.6666666666666666,
              "#ed7953"
             ],
             [
              0.7777777777777778,
              "#fb9f3a"
             ],
             [
              0.8888888888888888,
              "#fdca26"
             ],
             [
              1,
              "#f0f921"
             ]
            ],
            "type": "surface"
           }
          ],
          "table": [
           {
            "cells": {
             "fill": {
              "color": "#EBF0F8"
             },
             "line": {
              "color": "white"
             }
            },
            "header": {
             "fill": {
              "color": "#C8D4E3"
             },
             "line": {
              "color": "white"
             }
            },
            "type": "table"
           }
          ]
         },
         "layout": {
          "annotationdefaults": {
           "arrowcolor": "#2a3f5f",
           "arrowhead": 0,
           "arrowwidth": 1
          },
          "autotypenumbers": "strict",
          "coloraxis": {
           "colorbar": {
            "outlinewidth": 0,
            "ticks": ""
           }
          },
          "colorscale": {
           "diverging": [
            [
             0,
             "#8e0152"
            ],
            [
             0.1,
             "#c51b7d"
            ],
            [
             0.2,
             "#de77ae"
            ],
            [
             0.3,
             "#f1b6da"
            ],
            [
             0.4,
             "#fde0ef"
            ],
            [
             0.5,
             "#f7f7f7"
            ],
            [
             0.6,
             "#e6f5d0"
            ],
            [
             0.7,
             "#b8e186"
            ],
            [
             0.8,
             "#7fbc41"
            ],
            [
             0.9,
             "#4d9221"
            ],
            [
             1,
             "#276419"
            ]
           ],
           "sequential": [
            [
             0,
             "#0d0887"
            ],
            [
             0.1111111111111111,
             "#46039f"
            ],
            [
             0.2222222222222222,
             "#7201a8"
            ],
            [
             0.3333333333333333,
             "#9c179e"
            ],
            [
             0.4444444444444444,
             "#bd3786"
            ],
            [
             0.5555555555555556,
             "#d8576b"
            ],
            [
             0.6666666666666666,
             "#ed7953"
            ],
            [
             0.7777777777777778,
             "#fb9f3a"
            ],
            [
             0.8888888888888888,
             "#fdca26"
            ],
            [
             1,
             "#f0f921"
            ]
           ],
           "sequentialminus": [
            [
             0,
             "#0d0887"
            ],
            [
             0.1111111111111111,
             "#46039f"
            ],
            [
             0.2222222222222222,
             "#7201a8"
            ],
            [
             0.3333333333333333,
             "#9c179e"
            ],
            [
             0.4444444444444444,
             "#bd3786"
            ],
            [
             0.5555555555555556,
             "#d8576b"
            ],
            [
             0.6666666666666666,
             "#ed7953"
            ],
            [
             0.7777777777777778,
             "#fb9f3a"
            ],
            [
             0.8888888888888888,
             "#fdca26"
            ],
            [
             1,
             "#f0f921"
            ]
           ]
          },
          "colorway": [
           "#636efa",
           "#EF553B",
           "#00cc96",
           "#ab63fa",
           "#FFA15A",
           "#19d3f3",
           "#FF6692",
           "#B6E880",
           "#FF97FF",
           "#FECB52"
          ],
          "font": {
           "color": "#2a3f5f"
          },
          "geo": {
           "bgcolor": "white",
           "lakecolor": "white",
           "landcolor": "#E5ECF6",
           "showlakes": true,
           "showland": true,
           "subunitcolor": "white"
          },
          "hoverlabel": {
           "align": "left"
          },
          "hovermode": "closest",
          "mapbox": {
           "style": "light"
          },
          "paper_bgcolor": "white",
          "plot_bgcolor": "#E5ECF6",
          "polar": {
           "angularaxis": {
            "gridcolor": "white",
            "linecolor": "white",
            "ticks": ""
           },
           "bgcolor": "#E5ECF6",
           "radialaxis": {
            "gridcolor": "white",
            "linecolor": "white",
            "ticks": ""
           }
          },
          "scene": {
           "xaxis": {
            "backgroundcolor": "#E5ECF6",
            "gridcolor": "white",
            "gridwidth": 2,
            "linecolor": "white",
            "showbackground": true,
            "ticks": "",
            "zerolinecolor": "white"
           },
           "yaxis": {
            "backgroundcolor": "#E5ECF6",
            "gridcolor": "white",
            "gridwidth": 2,
            "linecolor": "white",
            "showbackground": true,
            "ticks": "",
            "zerolinecolor": "white"
           },
           "zaxis": {
            "backgroundcolor": "#E5ECF6",
            "gridcolor": "white",
            "gridwidth": 2,
            "linecolor": "white",
            "showbackground": true,
            "ticks": "",
            "zerolinecolor": "white"
           }
          },
          "shapedefaults": {
           "line": {
            "color": "#2a3f5f"
           }
          },
          "ternary": {
           "aaxis": {
            "gridcolor": "white",
            "linecolor": "white",
            "ticks": ""
           },
           "baxis": {
            "gridcolor": "white",
            "linecolor": "white",
            "ticks": ""
           },
           "bgcolor": "#E5ECF6",
           "caxis": {
            "gridcolor": "white",
            "linecolor": "white",
            "ticks": ""
           }
          },
          "title": {
           "x": 0.05
          },
          "xaxis": {
           "automargin": true,
           "gridcolor": "white",
           "linecolor": "white",
           "ticks": "",
           "title": {
            "standoff": 15
           },
           "zerolinecolor": "white",
           "zerolinewidth": 2
          },
          "yaxis": {
           "automargin": true,
           "gridcolor": "white",
           "linecolor": "white",
           "ticks": "",
           "title": {
            "standoff": 15
           },
           "zerolinecolor": "white",
           "zerolinewidth": 2
          }
         }
        },
        "title": {
         "text": "Parallel Coordinate Plot"
        }
       }
      }
     },
     "metadata": {},
     "output_type": "display_data"
    }
   ],
   "source": [
    "plot_parallel_coordinate(study)\n"
   ]
  },
  {
   "cell_type": "code",
   "execution_count": 15,
   "id": "92ebe852",
   "metadata": {},
   "outputs": [
    {
     "data": {
      "text/plain": [
       "{'objective': 'regression',\n",
       " 'metric': 'rmse',\n",
       " 'boosting_type': 'gbdt',\n",
       " 'learning_rate': 0.05,\n",
       " 'bagging_freq': 1,\n",
       " 'verbose': -1,\n",
       " 'seed': 2112,\n",
       " 'num_leaves': 48,\n",
       " 'lambda_l1': 6.201879103615396e-06,\n",
       " 'lambda_l2': 6.872642347262283e-06,\n",
       " 'feature_fraction': 0.6852973167416573,\n",
       " 'bagging_fraction': 0.9347031181064782,\n",
       " 'num_iterations': 3799,\n",
       " 'min_data_in_leaf': 264,\n",
       " 'min_data_per_group': 975,\n",
       " 'max_cat_threshold': 118,\n",
       " 'cat_l2': 7.46286126946506}"
      ]
     },
     "execution_count": 15,
     "metadata": {},
     "output_type": "execute_result"
    }
   ],
   "source": [
    "best_params = dict(study.best_params)\n",
    "best_params = {**fixed_params, **best_params}\n",
    "best_params"
   ]
  },
  {
   "cell_type": "markdown",
   "id": "53d61265",
   "metadata": {
    "papermill": {
     "duration": 0.009315,
     "end_time": "2024-09-28T16:37:09.917683",
     "exception": false,
     "start_time": "2024-09-28T16:37:09.908368",
     "status": "completed"
    },
    "tags": []
   },
   "source": [
    "***"
   ]
  }
 ],
 "metadata": {
  "kernelspec": {
   "display_name": "mcts-strength-variants-kSTIVMm8-py3.10",
   "language": "python",
   "name": "python3"
  },
  "language_info": {
   "codemirror_mode": {
    "name": "ipython",
    "version": 3
   },
   "file_extension": ".py",
   "mimetype": "text/x-python",
   "name": "python",
   "nbconvert_exporter": "python",
   "pygments_lexer": "ipython3",
   "version": "3.10.12"
  },
  "papermill": {
   "default_parameters": {},
   "duration": 1972.608458,
   "end_time": "2024-09-28T16:37:10.248961",
   "environment_variables": {},
   "exception": null,
   "input_path": "train/lightgbm.ipynb",
   "output_path": "train/outputs/lightgbm.ipynb",
   "parameters": {},
   "start_time": "2024-09-28T16:04:17.640503",
   "version": "2.6.0"
  }
 },
 "nbformat": 4,
 "nbformat_minor": 5
}
