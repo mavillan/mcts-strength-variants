{
 "cells": [
  {
   "cell_type": "code",
   "execution_count": 1,
   "metadata": {},
   "outputs": [
    {
     "name": "stdout",
     "output_type": "stream",
     "text": [
      "PyTorch version: 2.4.1\n",
      "PyTorch Lightning version: 2.4.0\n"
     ]
    },
    {
     "name": "stderr",
     "output_type": "stream",
     "text": [
      "/Users/mavillan/Library/Caches/pypoetry/virtualenvs/mcts-strength-variants-E8z0EJ47-py3.10/lib/python3.10/site-packages/tqdm/auto.py:21: TqdmWarning: IProgress not found. Please update jupyter and ipywidgets. See https://ipywidgets.readthedocs.io/en/stable/user_install.html\n",
      "  from .autonotebook import tqdm as notebook_tqdm\n"
     ]
    }
   ],
   "source": [
    "import numpy as np\n",
    "import pandas as pd\n",
    "import matplotlib.pyplot as plt\n",
    "from pathlib import Path\n",
    "from typing import Optional, Union, Tuple, List\n",
    "\n",
    "from sklearn.model_selection import GroupKFold\n",
    "from sklearn.preprocessing import StandardScaler\n",
    "\n",
    "import torch \n",
    "from torch import nn\n",
    "import torch.nn.functional as F\n",
    "from torch.utils.data import DataLoader,TensorDataset\n",
    "from torch.optim.lr_scheduler import OneCycleLR\n",
    "\n",
    "import lightning.pytorch as pl\n",
    "from lightning.pytorch.callbacks import EarlyStopping\n",
    "from lightning.pytorch.callbacks import ModelCheckpoint\n",
    "\n",
    "print(f\"PyTorch version: {torch.__version__}\")\n",
    "print(f\"PyTorch Lightning version: {pl.__version__}\")\n",
    "\n",
    "import optuna\n",
    "from optuna.visualization import (\n",
    "    plot_edf\n",
    "    , plot_optimization_history\n",
    "    , plot_parallel_coordinate\n",
    "    , plot_param_importances\n",
    "\n",
    "    , plot_slice\n",
    ")\n",
    "\n",
    "# local modules\n",
    "import sys\n",
    "sys.path.append(\"../src\")\n",
    "from preproc import preprocess_data"
   ]
  },
  {
   "cell_type": "code",
   "execution_count": 2,
   "metadata": {},
   "outputs": [
    {
     "name": "stderr",
     "output_type": "stream",
     "text": [
      "Seed set to 2112\n"
     ]
    }
   ],
   "source": [
    "from lightning.pytorch import seed_everything\n",
    "seed_everything(2112, workers=True);"
   ]
  },
  {
   "cell_type": "markdown",
   "metadata": {},
   "source": [
    "***\n",
    "### load and preprocess data"
   ]
  },
  {
   "cell_type": "code",
   "execution_count": 3,
   "metadata": {},
   "outputs": [
    {
     "data": {
      "text/html": [
       "<div>\n",
       "<style scoped>\n",
       "    .dataframe tbody tr th:only-of-type {\n",
       "        vertical-align: middle;\n",
       "    }\n",
       "\n",
       "    .dataframe tbody tr th {\n",
       "        vertical-align: top;\n",
       "    }\n",
       "\n",
       "    .dataframe thead th {\n",
       "        text-align: right;\n",
       "    }\n",
       "</style>\n",
       "<table border=\"1\" class=\"dataframe\">\n",
       "  <thead>\n",
       "    <tr style=\"text-align: right;\">\n",
       "      <th></th>\n",
       "      <th>Id</th>\n",
       "      <th>GameRulesetName</th>\n",
       "      <th>agent1</th>\n",
       "      <th>agent2</th>\n",
       "      <th>Properties</th>\n",
       "      <th>Format</th>\n",
       "      <th>Time</th>\n",
       "      <th>Discrete</th>\n",
       "      <th>Realtime</th>\n",
       "      <th>Turns</th>\n",
       "      <th>...</th>\n",
       "      <th>DoLudeme</th>\n",
       "      <th>Trigger</th>\n",
       "      <th>PlayoutsPerSecond</th>\n",
       "      <th>MovesPerSecond</th>\n",
       "      <th>EnglishRules</th>\n",
       "      <th>LudRules</th>\n",
       "      <th>num_wins_agent1</th>\n",
       "      <th>num_draws_agent1</th>\n",
       "      <th>num_losses_agent1</th>\n",
       "      <th>utility_agent1</th>\n",
       "    </tr>\n",
       "  </thead>\n",
       "  <tbody>\n",
       "    <tr>\n",
       "      <th>0</th>\n",
       "      <td>0</td>\n",
       "      <td>00Y</td>\n",
       "      <td>MCTS-ProgressiveHistory-0.1-MAST-false</td>\n",
       "      <td>MCTS-ProgressiveHistory-0.6-Random200-false</td>\n",
       "      <td>1</td>\n",
       "      <td>1</td>\n",
       "      <td>1</td>\n",
       "      <td>1</td>\n",
       "      <td>0</td>\n",
       "      <td>1</td>\n",
       "      <td>...</td>\n",
       "      <td>0</td>\n",
       "      <td>1</td>\n",
       "      <td>298.07</td>\n",
       "      <td>18877.17</td>\n",
       "      <td>Goal: Connect all three edge colors with a sin...</td>\n",
       "      <td>(game \"00'Y'\" (players 2) (equipment { (board ...</td>\n",
       "      <td>4</td>\n",
       "      <td>0</td>\n",
       "      <td>11</td>\n",
       "      <td>-0.466667</td>\n",
       "    </tr>\n",
       "    <tr>\n",
       "      <th>1</th>\n",
       "      <td>1</td>\n",
       "      <td>00Y</td>\n",
       "      <td>MCTS-ProgressiveHistory-0.1-MAST-false</td>\n",
       "      <td>MCTS-UCB1GRAVE-0.6-NST-true</td>\n",
       "      <td>1</td>\n",
       "      <td>1</td>\n",
       "      <td>1</td>\n",
       "      <td>1</td>\n",
       "      <td>0</td>\n",
       "      <td>1</td>\n",
       "      <td>...</td>\n",
       "      <td>0</td>\n",
       "      <td>1</td>\n",
       "      <td>298.07</td>\n",
       "      <td>18877.17</td>\n",
       "      <td>Goal: Connect all three edge colors with a sin...</td>\n",
       "      <td>(game \"00'Y'\" (players 2) (equipment { (board ...</td>\n",
       "      <td>5</td>\n",
       "      <td>0</td>\n",
       "      <td>10</td>\n",
       "      <td>-0.333333</td>\n",
       "    </tr>\n",
       "    <tr>\n",
       "      <th>2</th>\n",
       "      <td>2</td>\n",
       "      <td>00Y</td>\n",
       "      <td>MCTS-ProgressiveHistory-0.1-MAST-true</td>\n",
       "      <td>MCTS-UCB1-0.1-NST-false</td>\n",
       "      <td>1</td>\n",
       "      <td>1</td>\n",
       "      <td>1</td>\n",
       "      <td>1</td>\n",
       "      <td>0</td>\n",
       "      <td>1</td>\n",
       "      <td>...</td>\n",
       "      <td>0</td>\n",
       "      <td>1</td>\n",
       "      <td>298.07</td>\n",
       "      <td>18877.17</td>\n",
       "      <td>Goal: Connect all three edge colors with a sin...</td>\n",
       "      <td>(game \"00'Y'\" (players 2) (equipment { (board ...</td>\n",
       "      <td>7</td>\n",
       "      <td>0</td>\n",
       "      <td>8</td>\n",
       "      <td>-0.066667</td>\n",
       "    </tr>\n",
       "    <tr>\n",
       "      <th>3</th>\n",
       "      <td>3</td>\n",
       "      <td>00Y</td>\n",
       "      <td>MCTS-ProgressiveHistory-0.1-MAST-true</td>\n",
       "      <td>MCTS-UCB1-0.6-NST-false</td>\n",
       "      <td>1</td>\n",
       "      <td>1</td>\n",
       "      <td>1</td>\n",
       "      <td>1</td>\n",
       "      <td>0</td>\n",
       "      <td>1</td>\n",
       "      <td>...</td>\n",
       "      <td>0</td>\n",
       "      <td>1</td>\n",
       "      <td>298.07</td>\n",
       "      <td>18877.17</td>\n",
       "      <td>Goal: Connect all three edge colors with a sin...</td>\n",
       "      <td>(game \"00'Y'\" (players 2) (equipment { (board ...</td>\n",
       "      <td>5</td>\n",
       "      <td>0</td>\n",
       "      <td>10</td>\n",
       "      <td>-0.333333</td>\n",
       "    </tr>\n",
       "    <tr>\n",
       "      <th>4</th>\n",
       "      <td>4</td>\n",
       "      <td>00Y</td>\n",
       "      <td>MCTS-ProgressiveHistory-0.1-MAST-true</td>\n",
       "      <td>MCTS-UCB1GRAVE-1.41421356237-NST-false</td>\n",
       "      <td>1</td>\n",
       "      <td>1</td>\n",
       "      <td>1</td>\n",
       "      <td>1</td>\n",
       "      <td>0</td>\n",
       "      <td>1</td>\n",
       "      <td>...</td>\n",
       "      <td>0</td>\n",
       "      <td>1</td>\n",
       "      <td>298.07</td>\n",
       "      <td>18877.17</td>\n",
       "      <td>Goal: Connect all three edge colors with a sin...</td>\n",
       "      <td>(game \"00'Y'\" (players 2) (equipment { (board ...</td>\n",
       "      <td>5</td>\n",
       "      <td>0</td>\n",
       "      <td>10</td>\n",
       "      <td>-0.333333</td>\n",
       "    </tr>\n",
       "    <tr>\n",
       "      <th>...</th>\n",
       "      <td>...</td>\n",
       "      <td>...</td>\n",
       "      <td>...</td>\n",
       "      <td>...</td>\n",
       "      <td>...</td>\n",
       "      <td>...</td>\n",
       "      <td>...</td>\n",
       "      <td>...</td>\n",
       "      <td>...</td>\n",
       "      <td>...</td>\n",
       "      <td>...</td>\n",
       "      <td>...</td>\n",
       "      <td>...</td>\n",
       "      <td>...</td>\n",
       "      <td>...</td>\n",
       "      <td>...</td>\n",
       "      <td>...</td>\n",
       "      <td>...</td>\n",
       "      <td>...</td>\n",
       "      <td>...</td>\n",
       "      <td>...</td>\n",
       "    </tr>\n",
       "    <tr>\n",
       "      <th>233229</th>\n",
       "      <td>233229</td>\n",
       "      <td>Zuz_Mel_7x7</td>\n",
       "      <td>MCTS-UCB1Tuned-1.41421356237-NST-false</td>\n",
       "      <td>MCTS-ProgressiveHistory-1.41421356237-Random20...</td>\n",
       "      <td>1</td>\n",
       "      <td>1</td>\n",
       "      <td>1</td>\n",
       "      <td>1</td>\n",
       "      <td>0</td>\n",
       "      <td>1</td>\n",
       "      <td>...</td>\n",
       "      <td>0</td>\n",
       "      <td>0</td>\n",
       "      <td>157.52</td>\n",
       "      <td>157174.58</td>\n",
       "      <td>7x7 board. 24 pieces per player. Pieces begin ...</td>\n",
       "      <td>(game \"Zuz Mel (7x7)\" (players 2) (equipment {...</td>\n",
       "      <td>2</td>\n",
       "      <td>0</td>\n",
       "      <td>13</td>\n",
       "      <td>-0.733333</td>\n",
       "    </tr>\n",
       "    <tr>\n",
       "      <th>233230</th>\n",
       "      <td>233230</td>\n",
       "      <td>Zuz_Mel_7x7</td>\n",
       "      <td>MCTS-UCB1Tuned-1.41421356237-Random200-false</td>\n",
       "      <td>MCTS-UCB1-0.6-MAST-false</td>\n",
       "      <td>1</td>\n",
       "      <td>1</td>\n",
       "      <td>1</td>\n",
       "      <td>1</td>\n",
       "      <td>0</td>\n",
       "      <td>1</td>\n",
       "      <td>...</td>\n",
       "      <td>0</td>\n",
       "      <td>0</td>\n",
       "      <td>157.52</td>\n",
       "      <td>157174.58</td>\n",
       "      <td>7x7 board. 24 pieces per player. Pieces begin ...</td>\n",
       "      <td>(game \"Zuz Mel (7x7)\" (players 2) (equipment {...</td>\n",
       "      <td>9</td>\n",
       "      <td>1</td>\n",
       "      <td>5</td>\n",
       "      <td>0.266667</td>\n",
       "    </tr>\n",
       "    <tr>\n",
       "      <th>233231</th>\n",
       "      <td>233231</td>\n",
       "      <td>Zuz_Mel_7x7</td>\n",
       "      <td>MCTS-UCB1Tuned-1.41421356237-Random200-false</td>\n",
       "      <td>MCTS-UCB1GRAVE-1.41421356237-NST-false</td>\n",
       "      <td>1</td>\n",
       "      <td>1</td>\n",
       "      <td>1</td>\n",
       "      <td>1</td>\n",
       "      <td>0</td>\n",
       "      <td>1</td>\n",
       "      <td>...</td>\n",
       "      <td>0</td>\n",
       "      <td>0</td>\n",
       "      <td>157.52</td>\n",
       "      <td>157174.58</td>\n",
       "      <td>7x7 board. 24 pieces per player. Pieces begin ...</td>\n",
       "      <td>(game \"Zuz Mel (7x7)\" (players 2) (equipment {...</td>\n",
       "      <td>11</td>\n",
       "      <td>3</td>\n",
       "      <td>1</td>\n",
       "      <td>0.666667</td>\n",
       "    </tr>\n",
       "    <tr>\n",
       "      <th>233232</th>\n",
       "      <td>233232</td>\n",
       "      <td>Zuz_Mel_7x7</td>\n",
       "      <td>MCTS-UCB1Tuned-1.41421356237-Random200-false</td>\n",
       "      <td>MCTS-UCB1GRAVE-1.41421356237-NST-true</td>\n",
       "      <td>1</td>\n",
       "      <td>1</td>\n",
       "      <td>1</td>\n",
       "      <td>1</td>\n",
       "      <td>0</td>\n",
       "      <td>1</td>\n",
       "      <td>...</td>\n",
       "      <td>0</td>\n",
       "      <td>0</td>\n",
       "      <td>157.52</td>\n",
       "      <td>157174.58</td>\n",
       "      <td>7x7 board. 24 pieces per player. Pieces begin ...</td>\n",
       "      <td>(game \"Zuz Mel (7x7)\" (players 2) (equipment {...</td>\n",
       "      <td>24</td>\n",
       "      <td>2</td>\n",
       "      <td>4</td>\n",
       "      <td>0.666667</td>\n",
       "    </tr>\n",
       "    <tr>\n",
       "      <th>233233</th>\n",
       "      <td>233233</td>\n",
       "      <td>Zuz_Mel_7x7</td>\n",
       "      <td>MCTS-UCB1Tuned-1.41421356237-Random200-true</td>\n",
       "      <td>MCTS-UCB1Tuned-0.6-MAST-false</td>\n",
       "      <td>1</td>\n",
       "      <td>1</td>\n",
       "      <td>1</td>\n",
       "      <td>1</td>\n",
       "      <td>0</td>\n",
       "      <td>1</td>\n",
       "      <td>...</td>\n",
       "      <td>0</td>\n",
       "      <td>0</td>\n",
       "      <td>157.52</td>\n",
       "      <td>157174.58</td>\n",
       "      <td>7x7 board. 24 pieces per player. Pieces begin ...</td>\n",
       "      <td>(game \"Zuz Mel (7x7)\" (players 2) (equipment {...</td>\n",
       "      <td>9</td>\n",
       "      <td>1</td>\n",
       "      <td>5</td>\n",
       "      <td>0.266667</td>\n",
       "    </tr>\n",
       "  </tbody>\n",
       "</table>\n",
       "<p>233234 rows × 814 columns</p>\n",
       "</div>"
      ],
      "text/plain": [
       "            Id GameRulesetName                                        agent1  \\\n",
       "0            0             00Y        MCTS-ProgressiveHistory-0.1-MAST-false   \n",
       "1            1             00Y        MCTS-ProgressiveHistory-0.1-MAST-false   \n",
       "2            2             00Y         MCTS-ProgressiveHistory-0.1-MAST-true   \n",
       "3            3             00Y         MCTS-ProgressiveHistory-0.1-MAST-true   \n",
       "4            4             00Y         MCTS-ProgressiveHistory-0.1-MAST-true   \n",
       "...        ...             ...                                           ...   \n",
       "233229  233229     Zuz_Mel_7x7        MCTS-UCB1Tuned-1.41421356237-NST-false   \n",
       "233230  233230     Zuz_Mel_7x7  MCTS-UCB1Tuned-1.41421356237-Random200-false   \n",
       "233231  233231     Zuz_Mel_7x7  MCTS-UCB1Tuned-1.41421356237-Random200-false   \n",
       "233232  233232     Zuz_Mel_7x7  MCTS-UCB1Tuned-1.41421356237-Random200-false   \n",
       "233233  233233     Zuz_Mel_7x7   MCTS-UCB1Tuned-1.41421356237-Random200-true   \n",
       "\n",
       "                                                   agent2  Properties  Format  \\\n",
       "0             MCTS-ProgressiveHistory-0.6-Random200-false           1       1   \n",
       "1                             MCTS-UCB1GRAVE-0.6-NST-true           1       1   \n",
       "2                                 MCTS-UCB1-0.1-NST-false           1       1   \n",
       "3                                 MCTS-UCB1-0.6-NST-false           1       1   \n",
       "4                  MCTS-UCB1GRAVE-1.41421356237-NST-false           1       1   \n",
       "...                                                   ...         ...     ...   \n",
       "233229  MCTS-ProgressiveHistory-1.41421356237-Random20...           1       1   \n",
       "233230                           MCTS-UCB1-0.6-MAST-false           1       1   \n",
       "233231             MCTS-UCB1GRAVE-1.41421356237-NST-false           1       1   \n",
       "233232              MCTS-UCB1GRAVE-1.41421356237-NST-true           1       1   \n",
       "233233                      MCTS-UCB1Tuned-0.6-MAST-false           1       1   \n",
       "\n",
       "        Time  Discrete  Realtime  Turns  ...  DoLudeme  Trigger  \\\n",
       "0          1         1         0      1  ...         0        1   \n",
       "1          1         1         0      1  ...         0        1   \n",
       "2          1         1         0      1  ...         0        1   \n",
       "3          1         1         0      1  ...         0        1   \n",
       "4          1         1         0      1  ...         0        1   \n",
       "...      ...       ...       ...    ...  ...       ...      ...   \n",
       "233229     1         1         0      1  ...         0        0   \n",
       "233230     1         1         0      1  ...         0        0   \n",
       "233231     1         1         0      1  ...         0        0   \n",
       "233232     1         1         0      1  ...         0        0   \n",
       "233233     1         1         0      1  ...         0        0   \n",
       "\n",
       "        PlayoutsPerSecond  MovesPerSecond  \\\n",
       "0                  298.07        18877.17   \n",
       "1                  298.07        18877.17   \n",
       "2                  298.07        18877.17   \n",
       "3                  298.07        18877.17   \n",
       "4                  298.07        18877.17   \n",
       "...                   ...             ...   \n",
       "233229             157.52       157174.58   \n",
       "233230             157.52       157174.58   \n",
       "233231             157.52       157174.58   \n",
       "233232             157.52       157174.58   \n",
       "233233             157.52       157174.58   \n",
       "\n",
       "                                             EnglishRules  \\\n",
       "0       Goal: Connect all three edge colors with a sin...   \n",
       "1       Goal: Connect all three edge colors with a sin...   \n",
       "2       Goal: Connect all three edge colors with a sin...   \n",
       "3       Goal: Connect all three edge colors with a sin...   \n",
       "4       Goal: Connect all three edge colors with a sin...   \n",
       "...                                                   ...   \n",
       "233229  7x7 board. 24 pieces per player. Pieces begin ...   \n",
       "233230  7x7 board. 24 pieces per player. Pieces begin ...   \n",
       "233231  7x7 board. 24 pieces per player. Pieces begin ...   \n",
       "233232  7x7 board. 24 pieces per player. Pieces begin ...   \n",
       "233233  7x7 board. 24 pieces per player. Pieces begin ...   \n",
       "\n",
       "                                                 LudRules  num_wins_agent1  \\\n",
       "0       (game \"00'Y'\" (players 2) (equipment { (board ...                4   \n",
       "1       (game \"00'Y'\" (players 2) (equipment { (board ...                5   \n",
       "2       (game \"00'Y'\" (players 2) (equipment { (board ...                7   \n",
       "3       (game \"00'Y'\" (players 2) (equipment { (board ...                5   \n",
       "4       (game \"00'Y'\" (players 2) (equipment { (board ...                5   \n",
       "...                                                   ...              ...   \n",
       "233229  (game \"Zuz Mel (7x7)\" (players 2) (equipment {...                2   \n",
       "233230  (game \"Zuz Mel (7x7)\" (players 2) (equipment {...                9   \n",
       "233231  (game \"Zuz Mel (7x7)\" (players 2) (equipment {...               11   \n",
       "233232  (game \"Zuz Mel (7x7)\" (players 2) (equipment {...               24   \n",
       "233233  (game \"Zuz Mel (7x7)\" (players 2) (equipment {...                9   \n",
       "\n",
       "        num_draws_agent1  num_losses_agent1  utility_agent1  \n",
       "0                      0                 11       -0.466667  \n",
       "1                      0                 10       -0.333333  \n",
       "2                      0                  8       -0.066667  \n",
       "3                      0                 10       -0.333333  \n",
       "4                      0                 10       -0.333333  \n",
       "...                  ...                ...             ...  \n",
       "233229                 0                 13       -0.733333  \n",
       "233230                 1                  5        0.266667  \n",
       "233231                 3                  1        0.666667  \n",
       "233232                 2                  4        0.666667  \n",
       "233233                 1                  5        0.266667  \n",
       "\n",
       "[233234 rows x 814 columns]"
      ]
     },
     "execution_count": 3,
     "metadata": {},
     "output_type": "execute_result"
    }
   ],
   "source": [
    "# define some paths\n",
    "path_raw = Path(\"../data/raw\")\n",
    "path_processed = Path(\"../data/processed\")\n",
    "path_results = Path(\"../data/results\")\n",
    "\n",
    "# load data\n",
    "df_train = pd.read_csv(path_raw / \"train.csv\")\n",
    "df_test = pd.read_csv(path_raw / \"test.csv\")\n",
    "\n",
    "df_train"
   ]
  },
  {
   "cell_type": "code",
   "execution_count": 4,
   "metadata": {},
   "outputs": [
    {
     "name": "stdout",
     "output_type": "stream",
     "text": [
      "Numerical Columns: 588\n",
      "Categorical Columns: 10\n"
     ]
    }
   ],
   "source": [
    "# Call the function\n",
    "df_train, df_test, numerical_cols, categorical_cols = preprocess_data(\n",
    "    df_train,\n",
    "    df_test,\n",
    "    scale_utility=True\n",
    ")\n",
    "\n",
    "# Print the results\n",
    "print(\"Numerical Columns:\", len(numerical_cols))\n",
    "print(\"Categorical Columns:\", len(categorical_cols))"
   ]
  },
  {
   "cell_type": "code",
   "execution_count": 5,
   "metadata": {},
   "outputs": [
    {
     "data": {
      "image/png": "[encoded data removed]",
      "text/plain": [
       "<Figure size 640x480 with 1 Axes>"
      ]
     },
     "metadata": {},
     "output_type": "display_data"
    }
   ],
   "source": [
    "plt.hist(df_train['utility_agent1_scaled'], bins=100)\n",
    "plt.title('Distribution of Target Variable')\n",
    "plt.xlabel('Utility Agent 1')\n",
    "plt.ylabel('Frequency')\n",
    "plt.show()"
   ]
  },
  {
   "cell_type": "code",
   "execution_count": 6,
   "metadata": {},
   "outputs": [
    {
     "name": "stdout",
     "output_type": "stream",
     "text": [
      "[72, 72, 4, 3, 3, 2, 4, 3, 3, 2]\n"
     ]
    }
   ],
   "source": [
    "df_train[numerical_cols] = df_train[numerical_cols].astype(np.float32)\n",
    "df_train[categorical_cols] = df_train[categorical_cols].astype(np.int32)\n",
    "\n",
    "cat_input_dims = df_train[categorical_cols].nunique(axis=0).values.tolist()\n",
    "print(cat_input_dims)"
   ]
  },
  {
   "cell_type": "code",
   "execution_count": 7,
   "metadata": {},
   "outputs": [
    {
     "name": "stdout",
     "output_type": "stream",
     "text": [
      "Numerical columns have been scaled using StandardScaler.\n"
     ]
    }
   ],
   "source": [
    "# Initialize the StandardScaler\n",
    "scaler = StandardScaler()\n",
    "\n",
    "# Fit and transform the numerical columns of df_train\n",
    "df_train[numerical_cols] = scaler.fit_transform(df_train[numerical_cols])\n",
    "\n",
    "# Print a message to confirm the scaling\n",
    "print(\"Numerical columns have been scaled using StandardScaler.\")\n"
   ]
  },
  {
   "cell_type": "markdown",
   "metadata": {},
   "source": [
    "***\n",
    "### train model\n"
   ]
  },
  {
   "cell_type": "code",
   "execution_count": 8,
   "metadata": {},
   "outputs": [],
   "source": [
    "class MLP(pl.LightningModule):\n",
    "\n",
    "    def __init__(self, \n",
    "            num_input_dim: int,\n",
    "            cat_input_dims: list[int],\n",
    "            output_dim: int,\n",
    "            layers: str,\n",
    "            dropout: float,\n",
    "            learning_rate: float = 1e-3,\n",
    "            weight_decay: float = 1e-5,\n",
    "            initialization: str = 'kaiming_uniform',\n",
    "            embedding_dim: Optional[List[int]] = None,\n",
    "            pct_start: float = 0.2,\n",
    "\n",
    "        ):\n",
    "        super().__init__()\n",
    "        self.save_hyperparameters()\n",
    "        self.dropout = dropout\n",
    "        self.pct_start = pct_start\n",
    "\n",
    "        # Initialize embedding dimensions if not provided\n",
    "        if embedding_dim is None:\n",
    "            # Rule of thumb: min(50, num_unique // 2 + 1) for each categorical feature\n",
    "            embedding_dim = [min(50, int(1 + np.ceil(np.sqrt(dim)))) for dim in cat_input_dims]\n",
    "\n",
    "        elif len(embedding_dim) != len(cat_input_dims):\n",
    "            raise ValueError(\"Length of embedding_dim must match number of categorical features.\")\n",
    "\n",
    "        self.embedding_dim = embedding_dim\n",
    "\n",
    "        # Create embedding layers\n",
    "        self.create_embeddings(cat_input_dims, embedding_dim)\n",
    "\n",
    "        # Create backbone layers\n",
    "        self.create_backbone(num_input_dim, layers)\n",
    "\n",
    "        # Create head layers\n",
    "        self.create_head(output_dim)\n",
    "\n",
    "        self.learning_rate = learning_rate\n",
    "        self.weight_decay = weight_decay\n",
    "        self.initialization = initialization\n",
    "\n",
    "        self._init_weights()\n",
    "\n",
    "        # Initialize lists to store validation outputs\n",
    "        self.validation_targets = []\n",
    "        self.validation_predictions = []\n",
    "\n",
    "    def create_embeddings(self, cat_input_dims: list[int], embedding_dim: list[int]):\n",
    "        self.embeddings = nn.ModuleList(\n",
    "            [nn.Embedding(dim, emb_dim) for dim, emb_dim in zip(cat_input_dims, embedding_dim)]\n",
    "        )\n",
    "\n",
    "    def create_backbone(self, num_input_dim: int, layers: str):\n",
    "        # Calculate total input dimension after embeddings\n",
    "        total_embedding_dim = sum(self.embedding_dim)\n",
    "        total_input_dim = num_input_dim + total_embedding_dim\n",
    "\n",
    "        # Parse layers string\n",
    "        layer_sizes = [int(size) for size in layers.split('-')]\n",
    "\n",
    "        # Create backbone network layers\n",
    "        backbone_layers = []\n",
    "        prev_size = total_input_dim\n",
    "        for size in layer_sizes:\n",
    "            backbone_layers.extend([\n",
    "                nn.BatchNorm1d(prev_size),\n",
    "                nn.Linear(prev_size, size),\n",
    "                nn.ReLU(),\n",
    "                nn.Dropout(self.hparams.dropout),\n",
    "            ])\n",
    "            prev_size = size\n",
    "        self.backbone = nn.Sequential(*backbone_layers)\n",
    "        self.backbone_output_size = prev_size\n",
    "\n",
    "    def create_head(self, output_dim: int):\n",
    "        # Output layer\n",
    "        self.head = nn.Sequential(\n",
    "            nn.BatchNorm1d(self.backbone_output_size),\n",
    "            nn.Linear(self.backbone_output_size, output_dim)\n",
    "        )\n",
    "\n",
    "    def _init_weights(self):\n",
    "        for module in self.modules():\n",
    "            if isinstance(module, nn.Linear):\n",
    "                if self.initialization == 'kaiming_uniform':\n",
    "                    nn.init.kaiming_uniform_(module.weight, nonlinearity='relu')\n",
    "                elif self.initialization == 'kaiming_normal':\n",
    "                    nn.init.kaiming_normal_(module.weight, nonlinearity='relu')\n",
    "                elif self.initialization == 'xavier_uniform':\n",
    "                    nn.init.xavier_uniform_(module.weight, gain=nn.init.calculate_gain('relu'))\n",
    "                elif self.initialization == 'xavier_normal':\n",
    "                    nn.init.xavier_normal_(module.weight, gain=nn.init.calculate_gain('relu'))\n",
    "                else:\n",
    "                    raise ValueError(f\"Unsupported initialization method: {self.initialization}\")\n",
    "                \n",
    "                # Initialize bias to small values\n",
    "                if module.bias is not None:\n",
    "                    nn.init.uniform_(module.bias, -0.1, 0.1)\n",
    "\n",
    "    def forward(self, x_num, x_cat):\n",
    "        # Process categorical variables\n",
    "        embedded = [emb(x_cat[:, i]) for i, emb in enumerate(self.embeddings)]\n",
    "        embedded = torch.cat(embedded, dim=1)\n",
    "        \n",
    "        # Concatenate numerical and embedded categorical features\n",
    "        x = torch.cat([x_num, embedded], dim=1)\n",
    "        \n",
    "        # Pass through backbone\n",
    "        x = self.backbone(x)\n",
    "        \n",
    "        # Pass through head\n",
    "        x = self.head(x)\n",
    "        x = nn.functional.hardtanh(x)\n",
    "\n",
    "        return x.squeeze(-1)\n",
    "\n",
    "    def training_step(self, batch, batch_idx):\n",
    "        x_num, x_cat, y = batch\n",
    "        y_hat = self(x_num, x_cat)\n",
    "        loss = F.mse_loss(y_hat, y)\n",
    "        self.log('train_loss', loss, prog_bar=True)\n",
    "        return loss\n",
    "    \n",
    "    def validation_step(self, batch, batch_idx):\n",
    "        x_num, x_cat, y = batch\n",
    "        y_hat = self(x_num, x_cat)\n",
    "        loss = F.mse_loss(y_hat, y)\n",
    "        self.log('valid_loss', loss, prog_bar=True)\n",
    "        # Store targets and predictions for later use\n",
    "        self.validation_targets.append(y)\n",
    "        self.validation_predictions.append(y_hat)\n",
    "        return loss\n",
    "    \n",
    "    def predict_step(self, batch, batch_idx):\n",
    "        if len(batch) == 2:\n",
    "            x_num, x_cat = batch\n",
    "        elif len(batch) == 3:\n",
    "            x_num, x_cat, _ = batch\n",
    "        y_hat = self(x_num, x_cat)\n",
    "        return y_hat\n",
    "\n",
    "    def on_validation_epoch_end(self):\n",
    "        # Concatenate all targets and predictions\n",
    "        y = torch.cat(self.validation_targets)\n",
    "        y_hat = torch.cat(self.validation_predictions)\n",
    "        rmse = torch.sqrt(F.mse_loss(y_hat, y))\n",
    "        self.log('val_rmse', rmse, prog_bar=True)\n",
    "        # Clear the lists for next epoch\n",
    "        self.validation_targets.clear()\n",
    "        self.validation_predictions.clear()\n",
    "                \n",
    "    def configure_optimizers(self):\n",
    "        optimizer = torch.optim.Adam(\n",
    "            self.parameters(), \n",
    "            lr=self.learning_rate, \n",
    "            weight_decay=self.weight_decay,\n",
    "        )\n",
    "        scheduler = OneCycleLR(\n",
    "            optimizer,\n",
    "            max_lr=self.learning_rate,\n",
    "            total_steps=self.trainer.estimated_stepping_batches,\n",
    "            pct_start=self.pct_start,\n",
    "            anneal_strategy='cos',\n",
    "            cycle_momentum=True,\n",
    "            base_momentum=0.85,\n",
    "            max_momentum=0.95,\n",
    "        )\n",
    "        return {\n",
    "            \"optimizer\": optimizer,\n",
    "            \"lr_scheduler\": {\n",
    "                \"scheduler\": scheduler,\n",
    "                \"interval\": \"step\",\n",
    "            },\n",
    "        }"
   ]
  },
  {
   "cell_type": "code",
   "execution_count": 9,
   "metadata": {},
   "outputs": [],
   "source": [
    "# Define the number of folds for cross-validation\n",
    "num_folds = 5\n",
    "\n",
    "# Define the column for stratified or group k-fold\n",
    "groups_col = 'GameRulesetName'\n",
    "gkf = GroupKFold(n_splits=num_folds)\n",
    "split_list = list(gkf.split(df_train, groups=df_train[groups_col]))\n",
    "\n",
    "early_stop_callback = EarlyStopping(\n",
    "    monitor='val_rmse',\n",
    "    patience=10,\n",
    "    mode='min',\n",
    "    verbose=False\n",
    ")\n",
    "\n",
    "def train_and_score(\n",
    "        batch_size,\n",
    "        dropout,\n",
    "        input_layer_size,\n",
    "        n_layers,\n",
    "        learning_rate,\n",
    "        weight_decay,\n",
    "        initialization,\n",
    "        pct_start,\n",
    "    ):\n",
    "    oof_scores = []\n",
    "\n",
    "    # Perform cross-validation\n",
    "    for _, (train_index, val_index) in enumerate(split_list, 1):\n",
    "        \n",
    "        # Split the data\n",
    "        train, valid = df_train.iloc[train_index], df_train.iloc[val_index]\n",
    "\n",
    "        train_dataset = TensorDataset(\n",
    "            torch.tensor(train[numerical_cols].values, dtype=torch.float32),\n",
    "            torch.tensor(train[categorical_cols].values, dtype=torch.int32),\n",
    "            torch.tensor(train['utility_agent1'].values, dtype=torch.float32)\n",
    "        )\n",
    "        train_loader = DataLoader(\n",
    "            train_dataset,\n",
    "            batch_size=batch_size,\n",
    "            shuffle=True,\n",
    "            num_workers=8,\n",
    "            persistent_workers=True\n",
    "        )\n",
    "\n",
    "        valid_dataset = TensorDataset(\n",
    "            torch.tensor(valid[numerical_cols].values, dtype=torch.float32),\n",
    "            torch.tensor(valid[categorical_cols].values, dtype=torch.int32),\n",
    "            torch.tensor(valid['utility_agent1'].values, dtype=torch.float32)\n",
    "        )\n",
    "        valid_loader = DataLoader(\n",
    "            valid_dataset,\n",
    "            batch_size=batch_size,\n",
    "            shuffle=False,\n",
    "            num_workers=8,\n",
    "            persistent_workers=True\n",
    "        )\n",
    "\n",
    "        # Construct the layers string based on input_layer_size and n_layers\n",
    "        layers = \"-\".join([str(input_layer_size // (2 ** i)) for i in range(n_layers)])\n",
    "\n",
    "        model = MLP(\n",
    "            num_input_dim=len(numerical_cols),\n",
    "            cat_input_dims=cat_input_dims,\n",
    "            output_dim=1,\n",
    "            layers=layers,\n",
    "            dropout=dropout,\n",
    "            learning_rate=learning_rate,\n",
    "            weight_decay=weight_decay,\n",
    "            initialization=initialization,\n",
    "            pct_start=pct_start,\n",
    "        )\n",
    "        trainer = pl.Trainer(\n",
    "            min_epochs=20,\n",
    "            max_epochs=100, \n",
    "            deterministic=True,\n",
    "            accelerator=\"mps\",\n",
    "            enable_progress_bar=False,\n",
    "            enable_model_summary=False,\n",
    "            callbacks=[\n",
    "                early_stop_callback, \n",
    "                ModelCheckpoint(monitor='val_rmse', mode='min', save_top_k=1),\n",
    "            ],\n",
    "        );\n",
    "        trainer.fit(\n",
    "            model, \n",
    "            train_loader,\n",
    "            valid_loader,\n",
    "        );\n",
    "\n",
    "        # Load the best model\n",
    "        best_model_path = trainer.checkpoint_callback.best_model_path\n",
    "        model = MLP.load_from_checkpoint(best_model_path)\n",
    "\n",
    "        # Predict on validation set using trainer.predict with the prediction DataLoader\n",
    "        predictions = trainer.predict(model, dataloaders=valid_loader)\n",
    "        y_pred = torch.cat(predictions).squeeze().cpu().numpy()\n",
    "         \n",
    "        # Compute RMSE on scaled values\n",
    "        y_valid = valid['utility_agent1'].values\n",
    "        rmse = np.sqrt(np.mean((y_pred - y_valid) ** 2))\n",
    "        oof_scores.append(rmse)\n",
    "\n",
    "    return np.mean(oof_scores)\n"
   ]
  },
  {
   "cell_type": "code",
   "execution_count": 10,
   "metadata": {},
   "outputs": [],
   "source": [
    "def objective(trial):\n",
    "    # Suggest hyperparameters to tune\n",
    "    batch_size = trial.suggest_int('batch_size', 128, 1024, step=64)\n",
    "    dropout = trial.suggest_float('dropout', 0.0, 0.3, step=0.05)\n",
    "    input_layer_size = trial.suggest_int('input_layer_size', 256, 1024, step=64)\n",
    "    n_layers = trial.suggest_int('n_layers', 2, 5)\n",
    "    learning_rate = trial.suggest_float('learning_rate', 1e-4, 1e-1, log=True)\n",
    "    weight_decay = trial.suggest_float('weight_decay', 1e-6, 1e-3, log=True)\n",
    "    initialization = trial.suggest_categorical('initialization', ['kaiming_uniform', 'xavier_uniform'])\n",
    "    pct_start = trial.suggest_float('pct_start', 0.05, 0.4, step=0.05)\n",
    "\n",
    "    # Train and evaluate the model with the suggested hyperparameters\n",
    "    oof_score = train_and_score(\n",
    "        batch_size=batch_size,\n",
    "        dropout=dropout,\n",
    "        input_layer_size=input_layer_size,\n",
    "        n_layers=n_layers,\n",
    "        learning_rate=learning_rate,\n",
    "        weight_decay=weight_decay,\n",
    "        initialization=initialization,\n",
    "        pct_start=pct_start,\n",
    "    )\n",
    "\n",
    "    return oof_score\n"
   ]
  },
  {
   "cell_type": "code",
   "execution_count": 11,
   "metadata": {},
   "outputs": [
    {
     "name": "stderr",
     "output_type": "stream",
     "text": [
      "[I 2024-10-02 17:12:50,841] Using an existing study with name 'mlp' instead of creating a new one.\n",
      "GPU available: True (mps), used: True\n",
      "TPU available: False, using: 0 TPU cores\n",
      "HPU available: False, using: 0 HPUs\n",
      "/Users/mavillan/Library/Caches/pypoetry/virtualenvs/mcts-strength-variants-E8z0EJ47-py3.10/lib/python3.10/site-packages/lightning/pytorch/trainer/connectors/logger_connector/logger_connector.py:75: Starting from v1.9.0, `tensorboardX` has been removed as a dependency of the `lightning.pytorch` package, due to potential conflicts with other packages in the ML ecosystem. For this reason, `logger=True` will use `CSVLogger` as the default logger, unless the `tensorboard` or `tensorboardX` packages are found. Please `pip install lightning[extra]` or one of them to enable TensorBoard support by default\n",
      "Loading `train_dataloader` to estimate number of stepping batches.\n",
      "GPU available: True (mps), used: True\n",
      "TPU available: False, using: 0 TPU cores\n",
      "HPU available: False, using: 0 HPUs\n",
      "Loading `train_dataloader` to estimate number of stepping batches.\n",
      "Trainer was signaled to stop but the required `min_epochs=20` or `min_steps=None` has not been met. Training will continue...\n",
      "GPU available: True (mps), used: True\n",
      "TPU available: False, using: 0 TPU cores\n",
      "HPU available: False, using: 0 HPUs\n",
      "Loading `train_dataloader` to estimate number of stepping batches.\n",
      "Trainer was signaled to stop but the required `min_epochs=20` or `min_steps=None` has not been met. Training will continue...\n",
      "GPU available: True (mps), used: True\n",
      "TPU available: False, using: 0 TPU cores\n",
      "HPU available: False, using: 0 HPUs\n",
      "Loading `train_dataloader` to estimate number of stepping batches.\n",
      "Trainer was signaled to stop but the required `min_epochs=20` or `min_steps=None` has not been met. Training will continue...\n",
      "GPU available: True (mps), used: True\n",
      "TPU available: False, using: 0 TPU cores\n",
      "HPU available: False, using: 0 HPUs\n",
      "Loading `train_dataloader` to estimate number of stepping batches.\n",
      "Trainer was signaled to stop but the required `min_epochs=20` or `min_steps=None` has not been met. Training will continue...\n",
      "[I 2024-10-02 17:59:27,472] Trial 35 finished with value: 0.4863981929271433 and parameters: {'batch_size': 128, 'dropout': 0.0, 'input_layer_size': 896, 'n_layers': 5, 'learning_rate': 0.0036655761073840477, 'weight_decay': 0.00015716086281750797, 'initialization': 'kaiming_uniform', 'pct_start': 0.05}. Best is trial 23 with value: 0.4712697677389329.\n",
      "GPU available: True (mps), used: True\n",
      "TPU available: False, using: 0 TPU cores\n",
      "HPU available: False, using: 0 HPUs\n",
      "Loading `train_dataloader` to estimate number of stepping batches.\n",
      "Trainer was signaled to stop but the required `min_epochs=20` or `min_steps=None` has not been met. Training will continue...\n",
      "GPU available: True (mps), used: True\n",
      "TPU available: False, using: 0 TPU cores\n",
      "HPU available: False, using: 0 HPUs\n",
      "Loading `train_dataloader` to estimate number of stepping batches.\n",
      "Trainer was signaled to stop but the required `min_epochs=20` or `min_steps=None` has not been met. Training will continue...\n",
      "GPU available: True (mps), used: True\n",
      "TPU available: False, using: 0 TPU cores\n",
      "HPU available: False, using: 0 HPUs\n",
      "Loading `train_dataloader` to estimate number of stepping batches.\n",
      "Trainer was signaled to stop but the required `min_epochs=20` or `min_steps=None` has not been met. Training will continue...\n",
      "GPU available: True (mps), used: True\n",
      "TPU available: False, using: 0 TPU cores\n",
      "HPU available: False, using: 0 HPUs\n",
      "Loading `train_dataloader` to estimate number of stepping batches.\n",
      "Trainer was signaled to stop but the required `min_epochs=20` or `min_steps=None` has not been met. Training will continue...\n",
      "GPU available: True (mps), used: True\n",
      "TPU available: False, using: 0 TPU cores\n",
      "HPU available: False, using: 0 HPUs\n",
      "Loading `train_dataloader` to estimate number of stepping batches.\n",
      "Trainer was signaled to stop but the required `min_epochs=20` or `min_steps=None` has not been met. Training will continue...\n",
      "[I 2024-10-02 18:19:42,430] Trial 36 finished with value: 0.47644342560858943 and parameters: {'batch_size': 320, 'dropout': 0.0, 'input_layer_size': 960, 'n_layers': 5, 'learning_rate': 0.0007053955238107929, 'weight_decay': 0.0002714508518422319, 'initialization': 'kaiming_uniform', 'pct_start': 0.1}. Best is trial 23 with value: 0.4712697677389329.\n",
      "GPU available: True (mps), used: True\n",
      "TPU available: False, using: 0 TPU cores\n",
      "HPU available: False, using: 0 HPUs\n",
      "Loading `train_dataloader` to estimate number of stepping batches.\n",
      "Trainer was signaled to stop but the required `min_epochs=20` or `min_steps=None` has not been met. Training will continue...\n",
      "GPU available: True (mps), used: True\n",
      "TPU available: False, using: 0 TPU cores\n",
      "HPU available: False, using: 0 HPUs\n",
      "Loading `train_dataloader` to estimate number of stepping batches.\n",
      "Trainer was signaled to stop but the required `min_epochs=20` or `min_steps=None` has not been met. Training will continue...\n",
      "GPU available: True (mps), used: True\n",
      "TPU available: False, using: 0 TPU cores\n",
      "HPU available: False, using: 0 HPUs\n",
      "Loading `train_dataloader` to estimate number of stepping batches.\n",
      "Trainer was signaled to stop but the required `min_epochs=20` or `min_steps=None` has not been met. Training will continue...\n",
      "GPU available: True (mps), used: True\n",
      "TPU available: False, using: 0 TPU cores\n",
      "HPU available: False, using: 0 HPUs\n",
      "Loading `train_dataloader` to estimate number of stepping batches.\n",
      "Trainer was signaled to stop but the required `min_epochs=20` or `min_steps=None` has not been met. Training will continue...\n",
      "GPU available: True (mps), used: True\n",
      "TPU available: False, using: 0 TPU cores\n",
      "HPU available: False, using: 0 HPUs\n",
      "Loading `train_dataloader` to estimate number of stepping batches.\n",
      "Trainer was signaled to stop but the required `min_epochs=20` or `min_steps=None` has not been met. Training will continue...\n",
      "[I 2024-10-02 18:52:28,558] Trial 37 finished with value: 0.48381588310268314 and parameters: {'batch_size': 192, 'dropout': 0.0, 'input_layer_size': 832, 'n_layers': 5, 'learning_rate': 0.0023808508803050033, 'weight_decay': 0.0005482059652901758, 'initialization': 'kaiming_uniform', 'pct_start': 0.1}. Best is trial 23 with value: 0.4712697677389329.\n",
      "GPU available: True (mps), used: True\n",
      "TPU available: False, using: 0 TPU cores\n",
      "HPU available: False, using: 0 HPUs\n",
      "Loading `train_dataloader` to estimate number of stepping batches.\n",
      "Trainer was signaled to stop but the required `min_epochs=20` or `min_steps=None` has not been met. Training will continue...\n",
      "GPU available: True (mps), used: True\n",
      "TPU available: False, using: 0 TPU cores\n",
      "HPU available: False, using: 0 HPUs\n",
      "Loading `train_dataloader` to estimate number of stepping batches.\n",
      "Trainer was signaled to stop but the required `min_epochs=20` or `min_steps=None` has not been met. Training will continue...\n",
      "GPU available: True (mps), used: True\n",
      "TPU available: False, using: 0 TPU cores\n",
      "HPU available: False, using: 0 HPUs\n",
      "Loading `train_dataloader` to estimate number of stepping batches.\n",
      "Trainer was signaled to stop but the required `min_epochs=20` or `min_steps=None` has not been met. Training will continue...\n",
      "GPU available: True (mps), used: True\n",
      "TPU available: False, using: 0 TPU cores\n",
      "HPU available: False, using: 0 HPUs\n",
      "Loading `train_dataloader` to estimate number of stepping batches.\n",
      "Trainer was signaled to stop but the required `min_epochs=20` or `min_steps=None` has not been met. Training will continue...\n",
      "GPU available: True (mps), used: True\n",
      "TPU available: False, using: 0 TPU cores\n",
      "HPU available: False, using: 0 HPUs\n",
      "Loading `train_dataloader` to estimate number of stepping batches.\n",
      "Trainer was signaled to stop but the required `min_epochs=20` or `min_steps=None` has not been met. Training will continue...\n",
      "[I 2024-10-02 19:16:43,024] Trial 38 finished with value: 0.48949003875934294 and parameters: {'batch_size': 256, 'dropout': 0.05, 'input_layer_size': 896, 'n_layers': 4, 'learning_rate': 0.00037575849906376396, 'weight_decay': 3.3150260772094036e-05, 'initialization': 'xavier_uniform', 'pct_start': 0.15000000000000002}. Best is trial 23 with value: 0.4712697677389329.\n",
      "GPU available: True (mps), used: True\n",
      "TPU available: False, using: 0 TPU cores\n",
      "HPU available: False, using: 0 HPUs\n",
      "Loading `train_dataloader` to estimate number of stepping batches.\n",
      "Trainer was signaled to stop but the required `min_epochs=20` or `min_steps=None` has not been met. Training will continue...\n",
      "GPU available: True (mps), used: True\n",
      "TPU available: False, using: 0 TPU cores\n",
      "HPU available: False, using: 0 HPUs\n",
      "Loading `train_dataloader` to estimate number of stepping batches.\n",
      "Trainer was signaled to stop but the required `min_epochs=20` or `min_steps=None` has not been met. Training will continue...\n",
      "GPU available: True (mps), used: True\n",
      "TPU available: False, using: 0 TPU cores\n",
      "HPU available: False, using: 0 HPUs\n",
      "Loading `train_dataloader` to estimate number of stepping batches.\n",
      "Trainer was signaled to stop but the required `min_epochs=20` or `min_steps=None` has not been met. Training will continue...\n",
      "GPU available: True (mps), used: True\n",
      "TPU available: False, using: 0 TPU cores\n",
      "HPU available: False, using: 0 HPUs\n",
      "Loading `train_dataloader` to estimate number of stepping batches.\n",
      "Trainer was signaled to stop but the required `min_epochs=20` or `min_steps=None` has not been met. Training will continue...\n",
      "GPU available: True (mps), used: True\n",
      "TPU available: False, using: 0 TPU cores\n",
      "HPU available: False, using: 0 HPUs\n",
      "Loading `train_dataloader` to estimate number of stepping batches.\n",
      "Trainer was signaled to stop but the required `min_epochs=20` or `min_steps=None` has not been met. Training will continue...\n",
      "[I 2024-10-02 19:31:23,344] Trial 39 finished with value: 0.5017343804548184 and parameters: {'batch_size': 448, 'dropout': 0.3, 'input_layer_size': 768, 'n_layers': 4, 'learning_rate': 0.00022852741656579438, 'weight_decay': 8.452210755078469e-05, 'initialization': 'kaiming_uniform', 'pct_start': 0.05}. Best is trial 23 with value: 0.4712697677389329.\n",
      "GPU available: True (mps), used: True\n",
      "TPU available: False, using: 0 TPU cores\n",
      "HPU available: False, using: 0 HPUs\n",
      "Loading `train_dataloader` to estimate number of stepping batches.\n",
      "Trainer was signaled to stop but the required `min_epochs=20` or `min_steps=None` has not been met. Training will continue...\n",
      "GPU available: True (mps), used: True\n",
      "TPU available: False, using: 0 TPU cores\n",
      "HPU available: False, using: 0 HPUs\n",
      "Loading `train_dataloader` to estimate number of stepping batches.\n",
      "Trainer was signaled to stop but the required `min_epochs=20` or `min_steps=None` has not been met. Training will continue...\n",
      "GPU available: True (mps), used: True\n",
      "TPU available: False, using: 0 TPU cores\n",
      "HPU available: False, using: 0 HPUs\n",
      "Loading `train_dataloader` to estimate number of stepping batches.\n",
      "Trainer was signaled to stop but the required `min_epochs=20` or `min_steps=None` has not been met. Training will continue...\n",
      "GPU available: True (mps), used: True\n",
      "TPU available: False, using: 0 TPU cores\n",
      "HPU available: False, using: 0 HPUs\n",
      "Loading `train_dataloader` to estimate number of stepping batches.\n",
      "Trainer was signaled to stop but the required `min_epochs=20` or `min_steps=None` has not been met. Training will continue...\n",
      "GPU available: True (mps), used: True\n",
      "TPU available: False, using: 0 TPU cores\n",
      "HPU available: False, using: 0 HPUs\n",
      "Loading `train_dataloader` to estimate number of stepping batches.\n",
      "Trainer was signaled to stop but the required `min_epochs=20` or `min_steps=None` has not been met. Training will continue...\n",
      "[I 2024-10-02 20:22:26,641] Trial 40 finished with value: 0.48596183635557183 and parameters: {'batch_size': 128, 'dropout': 0.1, 'input_layer_size': 1024, 'n_layers': 5, 'learning_rate': 0.005993259823724935, 'weight_decay': 0.0001685959315477826, 'initialization': 'kaiming_uniform', 'pct_start': 0.2}. Best is trial 23 with value: 0.4712697677389329.\n",
      "GPU available: True (mps), used: True\n",
      "TPU available: False, using: 0 TPU cores\n",
      "HPU available: False, using: 0 HPUs\n",
      "Loading `train_dataloader` to estimate number of stepping batches.\n",
      "Trainer was signaled to stop but the required `min_epochs=20` or `min_steps=None` has not been met. Training will continue...\n",
      "GPU available: True (mps), used: True\n",
      "TPU available: False, using: 0 TPU cores\n",
      "HPU available: False, using: 0 HPUs\n",
      "Loading `train_dataloader` to estimate number of stepping batches.\n",
      "Trainer was signaled to stop but the required `min_epochs=20` or `min_steps=None` has not been met. Training will continue...\n",
      "GPU available: True (mps), used: True\n",
      "TPU available: False, using: 0 TPU cores\n",
      "HPU available: False, using: 0 HPUs\n",
      "Loading `train_dataloader` to estimate number of stepping batches.\n",
      "Trainer was signaled to stop but the required `min_epochs=20` or `min_steps=None` has not been met. Training will continue...\n",
      "GPU available: True (mps), used: True\n",
      "TPU available: False, using: 0 TPU cores\n",
      "HPU available: False, using: 0 HPUs\n",
      "Loading `train_dataloader` to estimate number of stepping batches.\n",
      "Trainer was signaled to stop but the required `min_epochs=20` or `min_steps=None` has not been met. Training will continue...\n",
      "GPU available: True (mps), used: True\n",
      "TPU available: False, using: 0 TPU cores\n",
      "HPU available: False, using: 0 HPUs\n",
      "Loading `train_dataloader` to estimate number of stepping batches.\n",
      "Trainer was signaled to stop but the required `min_epochs=20` or `min_steps=None` has not been met. Training will continue...\n",
      "[I 2024-10-02 20:29:42,851] Trial 41 finished with value: 0.48765609110051267 and parameters: {'batch_size': 1024, 'dropout': 0.25, 'input_layer_size': 832, 'n_layers': 4, 'learning_rate': 0.0014618240537748334, 'weight_decay': 0.0005859136563393484, 'initialization': 'xavier_uniform', 'pct_start': 0.1}. Best is trial 23 with value: 0.4712697677389329.\n",
      "GPU available: True (mps), used: True\n",
      "TPU available: False, using: 0 TPU cores\n",
      "HPU available: False, using: 0 HPUs\n",
      "Loading `train_dataloader` to estimate number of stepping batches.\n",
      "Trainer was signaled to stop but the required `min_epochs=20` or `min_steps=None` has not been met. Training will continue...\n",
      "GPU available: True (mps), used: True\n",
      "TPU available: False, using: 0 TPU cores\n",
      "HPU available: False, using: 0 HPUs\n",
      "Loading `train_dataloader` to estimate number of stepping batches.\n",
      "Trainer was signaled to stop but the required `min_epochs=20` or `min_steps=None` has not been met. Training will continue...\n",
      "GPU available: True (mps), used: True\n",
      "TPU available: False, using: 0 TPU cores\n",
      "HPU available: False, using: 0 HPUs\n",
      "Loading `train_dataloader` to estimate number of stepping batches.\n",
      "Trainer was signaled to stop but the required `min_epochs=20` or `min_steps=None` has not been met. Training will continue...\n",
      "GPU available: True (mps), used: True\n",
      "TPU available: False, using: 0 TPU cores\n",
      "HPU available: False, using: 0 HPUs\n",
      "Loading `train_dataloader` to estimate number of stepping batches.\n",
      "Trainer was signaled to stop but the required `min_epochs=20` or `min_steps=None` has not been met. Training will continue...\n",
      "GPU available: True (mps), used: True\n",
      "TPU available: False, using: 0 TPU cores\n",
      "HPU available: False, using: 0 HPUs\n",
      "Loading `train_dataloader` to estimate number of stepping batches.\n",
      "Trainer was signaled to stop but the required `min_epochs=20` or `min_steps=None` has not been met. Training will continue...\n",
      "[I 2024-10-02 20:42:11,336] Trial 42 finished with value: 0.4921504011992329 and parameters: {'batch_size': 512, 'dropout': 0.0, 'input_layer_size': 960, 'n_layers': 4, 'learning_rate': 0.0009626264856367429, 'weight_decay': 0.0003443009283164747, 'initialization': 'kaiming_uniform', 'pct_start': 0.3}. Best is trial 23 with value: 0.4712697677389329.\n",
      "GPU available: True (mps), used: True\n",
      "TPU available: False, using: 0 TPU cores\n",
      "HPU available: False, using: 0 HPUs\n",
      "Loading `train_dataloader` to estimate number of stepping batches.\n",
      "Trainer was signaled to stop but the required `min_epochs=20` or `min_steps=None` has not been met. Training will continue...\n",
      "GPU available: True (mps), used: True\n",
      "TPU available: False, using: 0 TPU cores\n",
      "HPU available: False, using: 0 HPUs\n",
      "Loading `train_dataloader` to estimate number of stepping batches.\n",
      "Trainer was signaled to stop but the required `min_epochs=20` or `min_steps=None` has not been met. Training will continue...\n",
      "GPU available: True (mps), used: True\n",
      "TPU available: False, using: 0 TPU cores\n",
      "HPU available: False, using: 0 HPUs\n",
      "Loading `train_dataloader` to estimate number of stepping batches.\n",
      "Trainer was signaled to stop but the required `min_epochs=20` or `min_steps=None` has not been met. Training will continue...\n",
      "GPU available: True (mps), used: True\n",
      "TPU available: False, using: 0 TPU cores\n",
      "HPU available: False, using: 0 HPUs\n",
      "Loading `train_dataloader` to estimate number of stepping batches.\n",
      "Trainer was signaled to stop but the required `min_epochs=20` or `min_steps=None` has not been met. Training will continue...\n",
      "GPU available: True (mps), used: True\n",
      "TPU available: False, using: 0 TPU cores\n",
      "HPU available: False, using: 0 HPUs\n",
      "Loading `train_dataloader` to estimate number of stepping batches.\n",
      "Trainer was signaled to stop but the required `min_epochs=20` or `min_steps=None` has not been met. Training will continue...\n",
      "[I 2024-10-02 21:10:40,979] Trial 43 finished with value: 0.4766315357642081 and parameters: {'batch_size': 192, 'dropout': 0.05, 'input_layer_size': 704, 'n_layers': 3, 'learning_rate': 0.00046289199161248315, 'weight_decay': 0.0009490814984622676, 'initialization': 'kaiming_uniform', 'pct_start': 0.1}. Best is trial 23 with value: 0.4712697677389329.\n",
      "GPU available: True (mps), used: True\n",
      "TPU available: False, using: 0 TPU cores\n",
      "HPU available: False, using: 0 HPUs\n",
      "Loading `train_dataloader` to estimate number of stepping batches.\n",
      "Trainer was signaled to stop but the required `min_epochs=20` or `min_steps=None` has not been met. Training will continue...\n",
      "GPU available: True (mps), used: True\n",
      "TPU available: False, using: 0 TPU cores\n",
      "HPU available: False, using: 0 HPUs\n",
      "Loading `train_dataloader` to estimate number of stepping batches.\n",
      "Trainer was signaled to stop but the required `min_epochs=20` or `min_steps=None` has not been met. Training will continue...\n",
      "GPU available: True (mps), used: True\n",
      "TPU available: False, using: 0 TPU cores\n",
      "HPU available: False, using: 0 HPUs\n",
      "Loading `train_dataloader` to estimate number of stepping batches.\n",
      "Trainer was signaled to stop but the required `min_epochs=20` or `min_steps=None` has not been met. Training will continue...\n",
      "GPU available: True (mps), used: True\n",
      "TPU available: False, using: 0 TPU cores\n",
      "HPU available: False, using: 0 HPUs\n",
      "Loading `train_dataloader` to estimate number of stepping batches.\n",
      "Trainer was signaled to stop but the required `min_epochs=20` or `min_steps=None` has not been met. Training will continue...\n",
      "GPU available: True (mps), used: True\n",
      "TPU available: False, using: 0 TPU cores\n",
      "HPU available: False, using: 0 HPUs\n",
      "Loading `train_dataloader` to estimate number of stepping batches.\n",
      "Trainer was signaled to stop but the required `min_epochs=20` or `min_steps=None` has not been met. Training will continue...\n",
      "[I 2024-10-02 21:32:34,284] Trial 44 finished with value: 0.476381544382385 and parameters: {'batch_size': 256, 'dropout': 0.05, 'input_layer_size': 704, 'n_layers': 3, 'learning_rate': 0.0005649095947552994, 'weight_decay': 0.000487385524376861, 'initialization': 'kaiming_uniform', 'pct_start': 0.15000000000000002}. Best is trial 23 with value: 0.4712697677389329.\n",
      "GPU available: True (mps), used: True\n",
      "TPU available: False, using: 0 TPU cores\n",
      "HPU available: False, using: 0 HPUs\n",
      "Loading `train_dataloader` to estimate number of stepping batches.\n",
      "Trainer was signaled to stop but the required `min_epochs=20` or `min_steps=None` has not been met. Training will continue...\n",
      "GPU available: True (mps), used: True\n",
      "TPU available: False, using: 0 TPU cores\n",
      "HPU available: False, using: 0 HPUs\n",
      "Loading `train_dataloader` to estimate number of stepping batches.\n",
      "Trainer was signaled to stop but the required `min_epochs=20` or `min_steps=None` has not been met. Training will continue...\n",
      "GPU available: True (mps), used: True\n",
      "TPU available: False, using: 0 TPU cores\n",
      "HPU available: False, using: 0 HPUs\n",
      "Loading `train_dataloader` to estimate number of stepping batches.\n",
      "Trainer was signaled to stop but the required `min_epochs=20` or `min_steps=None` has not been met. Training will continue...\n",
      "GPU available: True (mps), used: True\n",
      "TPU available: False, using: 0 TPU cores\n",
      "HPU available: False, using: 0 HPUs\n",
      "Loading `train_dataloader` to estimate number of stepping batches.\n",
      "Trainer was signaled to stop but the required `min_epochs=20` or `min_steps=None` has not been met. Training will continue...\n",
      "GPU available: True (mps), used: True\n",
      "TPU available: False, using: 0 TPU cores\n",
      "HPU available: False, using: 0 HPUs\n",
      "Loading `train_dataloader` to estimate number of stepping batches.\n",
      "Trainer was signaled to stop but the required `min_epochs=20` or `min_steps=None` has not been met. Training will continue...\n",
      "[I 2024-10-02 22:01:03,852] Trial 45 finished with value: 0.47209142980820734 and parameters: {'batch_size': 192, 'dropout': 0.15000000000000002, 'input_layer_size': 832, 'n_layers': 3, 'learning_rate': 0.00029928720275320005, 'weight_decay': 0.0007217941294373245, 'initialization': 'kaiming_uniform', 'pct_start': 0.1}. Best is trial 23 with value: 0.4712697677389329.\n",
      "GPU available: True (mps), used: True\n",
      "TPU available: False, using: 0 TPU cores\n",
      "HPU available: False, using: 0 HPUs\n",
      "Loading `train_dataloader` to estimate number of stepping batches.\n",
      "Trainer was signaled to stop but the required `min_epochs=20` or `min_steps=None` has not been met. Training will continue...\n",
      "GPU available: True (mps), used: True\n",
      "TPU available: False, using: 0 TPU cores\n",
      "HPU available: False, using: 0 HPUs\n",
      "Loading `train_dataloader` to estimate number of stepping batches.\n",
      "Trainer was signaled to stop but the required `min_epochs=20` or `min_steps=None` has not been met. Training will continue...\n",
      "GPU available: True (mps), used: True\n",
      "TPU available: False, using: 0 TPU cores\n",
      "HPU available: False, using: 0 HPUs\n",
      "Loading `train_dataloader` to estimate number of stepping batches.\n",
      "Trainer was signaled to stop but the required `min_epochs=20` or `min_steps=None` has not been met. Training will continue...\n",
      "GPU available: True (mps), used: True\n",
      "TPU available: False, using: 0 TPU cores\n",
      "HPU available: False, using: 0 HPUs\n",
      "Loading `train_dataloader` to estimate number of stepping batches.\n",
      "Trainer was signaled to stop but the required `min_epochs=20` or `min_steps=None` has not been met. Training will continue...\n",
      "GPU available: True (mps), used: True\n",
      "TPU available: False, using: 0 TPU cores\n",
      "HPU available: False, using: 0 HPUs\n",
      "Loading `train_dataloader` to estimate number of stepping batches.\n",
      "Trainer was signaled to stop but the required `min_epochs=20` or `min_steps=None` has not been met. Training will continue...\n",
      "[I 2024-10-02 22:16:24,869] Trial 46 finished with value: 0.48578031321328596 and parameters: {'batch_size': 384, 'dropout': 0.15000000000000002, 'input_layer_size': 896, 'n_layers': 3, 'learning_rate': 0.0002718854130223005, 'weight_decay': 0.00027932009130474144, 'initialization': 'kaiming_uniform', 'pct_start': 0.05}. Best is trial 23 with value: 0.4712697677389329.\n",
      "GPU available: True (mps), used: True\n",
      "TPU available: False, using: 0 TPU cores\n",
      "HPU available: False, using: 0 HPUs\n",
      "Loading `train_dataloader` to estimate number of stepping batches.\n",
      "Trainer was signaled to stop but the required `min_epochs=20` or `min_steps=None` has not been met. Training will continue...\n",
      "GPU available: True (mps), used: True\n",
      "TPU available: False, using: 0 TPU cores\n",
      "HPU available: False, using: 0 HPUs\n",
      "Loading `train_dataloader` to estimate number of stepping batches.\n",
      "Trainer was signaled to stop but the required `min_epochs=20` or `min_steps=None` has not been met. Training will continue...\n",
      "GPU available: True (mps), used: True\n",
      "TPU available: False, using: 0 TPU cores\n",
      "HPU available: False, using: 0 HPUs\n",
      "Loading `train_dataloader` to estimate number of stepping batches.\n",
      "Trainer was signaled to stop but the required `min_epochs=20` or `min_steps=None` has not been met. Training will continue...\n",
      "GPU available: True (mps), used: True\n",
      "TPU available: False, using: 0 TPU cores\n",
      "HPU available: False, using: 0 HPUs\n",
      "Loading `train_dataloader` to estimate number of stepping batches.\n",
      "Trainer was signaled to stop but the required `min_epochs=20` or `min_steps=None` has not been met. Training will continue...\n",
      "GPU available: True (mps), used: True\n",
      "TPU available: False, using: 0 TPU cores\n",
      "HPU available: False, using: 0 HPUs\n",
      "Loading `train_dataloader` to estimate number of stepping batches.\n",
      "Trainer was signaled to stop but the required `min_epochs=20` or `min_steps=None` has not been met. Training will continue...\n",
      "[I 2024-10-02 22:36:24,533] Trial 47 finished with value: 0.5185569118717497 and parameters: {'batch_size': 320, 'dropout': 0.15000000000000002, 'input_layer_size': 832, 'n_layers': 4, 'learning_rate': 0.00014972297477417831, 'weight_decay': 1.1384656901482111e-06, 'initialization': 'kaiming_uniform', 'pct_start': 0.1}. Best is trial 23 with value: 0.4712697677389329.\n",
      "GPU available: True (mps), used: True\n",
      "TPU available: False, using: 0 TPU cores\n",
      "HPU available: False, using: 0 HPUs\n",
      "Loading `train_dataloader` to estimate number of stepping batches.\n",
      "Trainer was signaled to stop but the required `min_epochs=20` or `min_steps=None` has not been met. Training will continue...\n",
      "GPU available: True (mps), used: True\n",
      "TPU available: False, using: 0 TPU cores\n",
      "HPU available: False, using: 0 HPUs\n",
      "Loading `train_dataloader` to estimate number of stepping batches.\n",
      "Trainer was signaled to stop but the required `min_epochs=20` or `min_steps=None` has not been met. Training will continue...\n",
      "GPU available: True (mps), used: True\n",
      "TPU available: False, using: 0 TPU cores\n",
      "HPU available: False, using: 0 HPUs\n",
      "Loading `train_dataloader` to estimate number of stepping batches.\n",
      "Trainer was signaled to stop but the required `min_epochs=20` or `min_steps=None` has not been met. Training will continue...\n",
      "GPU available: True (mps), used: True\n",
      "TPU available: False, using: 0 TPU cores\n",
      "HPU available: False, using: 0 HPUs\n",
      "Loading `train_dataloader` to estimate number of stepping batches.\n",
      "Trainer was signaled to stop but the required `min_epochs=20` or `min_steps=None` has not been met. Training will continue...\n",
      "GPU available: True (mps), used: True\n",
      "TPU available: False, using: 0 TPU cores\n",
      "HPU available: False, using: 0 HPUs\n",
      "Loading `train_dataloader` to estimate number of stepping batches.\n",
      "Trainer was signaled to stop but the required `min_epochs=20` or `min_steps=None` has not been met. Training will continue...\n",
      "[I 2024-10-02 23:05:20,441] Trial 48 finished with value: 0.46958720522256653 and parameters: {'batch_size': 192, 'dropout': 0.2, 'input_layer_size': 896, 'n_layers': 3, 'learning_rate': 0.000809012039564196, 'weight_decay': 0.0006460125913056128, 'initialization': 'kaiming_uniform', 'pct_start': 0.05}. Best is trial 48 with value: 0.46958720522256653.\n",
      "GPU available: True (mps), used: True\n",
      "TPU available: False, using: 0 TPU cores\n",
      "HPU available: False, using: 0 HPUs\n",
      "Loading `train_dataloader` to estimate number of stepping batches.\n",
      "Trainer was signaled to stop but the required `min_epochs=20` or `min_steps=None` has not been met. Training will continue...\n",
      "GPU available: True (mps), used: True\n",
      "TPU available: False, using: 0 TPU cores\n",
      "HPU available: False, using: 0 HPUs\n",
      "Loading `train_dataloader` to estimate number of stepping batches.\n",
      "Trainer was signaled to stop but the required `min_epochs=20` or `min_steps=None` has not been met. Training will continue...\n",
      "GPU available: True (mps), used: True\n",
      "TPU available: False, using: 0 TPU cores\n",
      "HPU available: False, using: 0 HPUs\n",
      "Loading `train_dataloader` to estimate number of stepping batches.\n",
      "Trainer was signaled to stop but the required `min_epochs=20` or `min_steps=None` has not been met. Training will continue...\n",
      "GPU available: True (mps), used: True\n",
      "TPU available: False, using: 0 TPU cores\n",
      "HPU available: False, using: 0 HPUs\n",
      "Loading `train_dataloader` to estimate number of stepping batches.\n",
      "Trainer was signaled to stop but the required `min_epochs=20` or `min_steps=None` has not been met. Training will continue...\n",
      "GPU available: True (mps), used: True\n",
      "TPU available: False, using: 0 TPU cores\n",
      "HPU available: False, using: 0 HPUs\n",
      "Loading `train_dataloader` to estimate number of stepping batches.\n",
      "Trainer was signaled to stop but the required `min_epochs=20` or `min_steps=None` has not been met. Training will continue...\n",
      "[I 2024-10-02 23:40:39,029] Trial 49 finished with value: 0.5265951993619511 and parameters: {'batch_size': 192, 'dropout': 0.2, 'input_layer_size': 896, 'n_layers': 5, 'learning_rate': 0.00020787768141832108, 'weight_decay': 0.000679896160799987, 'initialization': 'xavier_uniform', 'pct_start': 0.4}. Best is trial 48 with value: 0.46958720522256653.\n",
      "GPU available: True (mps), used: True\n",
      "TPU available: False, using: 0 TPU cores\n",
      "HPU available: False, using: 0 HPUs\n",
      "Loading `train_dataloader` to estimate number of stepping batches.\n",
      "Trainer was signaled to stop but the required `min_epochs=20` or `min_steps=None` has not been met. Training will continue...\n",
      "GPU available: True (mps), used: True\n",
      "TPU available: False, using: 0 TPU cores\n",
      "HPU available: False, using: 0 HPUs\n",
      "Loading `train_dataloader` to estimate number of stepping batches.\n",
      "Trainer was signaled to stop but the required `min_epochs=20` or `min_steps=None` has not been met. Training will continue...\n",
      "GPU available: True (mps), used: True\n",
      "TPU available: False, using: 0 TPU cores\n",
      "HPU available: False, using: 0 HPUs\n",
      "Loading `train_dataloader` to estimate number of stepping batches.\n",
      "Trainer was signaled to stop but the required `min_epochs=20` or `min_steps=None` has not been met. Training will continue...\n",
      "GPU available: True (mps), used: True\n",
      "TPU available: False, using: 0 TPU cores\n",
      "HPU available: False, using: 0 HPUs\n",
      "Loading `train_dataloader` to estimate number of stepping batches.\n",
      "Trainer was signaled to stop but the required `min_epochs=20` or `min_steps=None` has not been met. Training will continue...\n",
      "GPU available: True (mps), used: True\n",
      "TPU available: False, using: 0 TPU cores\n",
      "HPU available: False, using: 0 HPUs\n",
      "Loading `train_dataloader` to estimate number of stepping batches.\n",
      "Trainer was signaled to stop but the required `min_epochs=20` or `min_steps=None` has not been met. Training will continue...\n",
      "[I 2024-10-03 00:17:55,907] Trial 50 finished with value: 0.4777052642342549 and parameters: {'batch_size': 128, 'dropout': 0.25, 'input_layer_size': 1024, 'n_layers': 2, 'learning_rate': 0.0003151050974042069, 'weight_decay': 0.0005029396600247243, 'initialization': 'kaiming_uniform', 'pct_start': 0.05}. Best is trial 48 with value: 0.46958720522256653.\n",
      "GPU available: True (mps), used: True\n",
      "TPU available: False, using: 0 TPU cores\n",
      "HPU available: False, using: 0 HPUs\n",
      "Loading `train_dataloader` to estimate number of stepping batches.\n",
      "Trainer was signaled to stop but the required `min_epochs=20` or `min_steps=None` has not been met. Training will continue...\n",
      "GPU available: True (mps), used: True\n",
      "TPU available: False, using: 0 TPU cores\n",
      "HPU available: False, using: 0 HPUs\n",
      "Loading `train_dataloader` to estimate number of stepping batches.\n",
      "Trainer was signaled to stop but the required `min_epochs=20` or `min_steps=None` has not been met. Training will continue...\n",
      "GPU available: True (mps), used: True\n",
      "TPU available: False, using: 0 TPU cores\n",
      "HPU available: False, using: 0 HPUs\n",
      "Loading `train_dataloader` to estimate number of stepping batches.\n",
      "Trainer was signaled to stop but the required `min_epochs=20` or `min_steps=None` has not been met. Training will continue...\n",
      "GPU available: True (mps), used: True\n",
      "TPU available: False, using: 0 TPU cores\n",
      "HPU available: False, using: 0 HPUs\n",
      "Loading `train_dataloader` to estimate number of stepping batches.\n",
      "Trainer was signaled to stop but the required `min_epochs=20` or `min_steps=None` has not been met. Training will continue...\n",
      "GPU available: True (mps), used: True\n",
      "TPU available: False, using: 0 TPU cores\n",
      "HPU available: False, using: 0 HPUs\n",
      "Loading `train_dataloader` to estimate number of stepping batches.\n",
      "Trainer was signaled to stop but the required `min_epochs=20` or `min_steps=None` has not been met. Training will continue...\n",
      "[I 2024-10-03 00:59:55,786] Trial 51 finished with value: 0.48676199356671057 and parameters: {'batch_size': 128, 'dropout': 0.2, 'input_layer_size': 832, 'n_layers': 3, 'learning_rate': 0.0010345083242358762, 'weight_decay': 1.5235445651968735e-05, 'initialization': 'kaiming_uniform', 'pct_start': 0.15000000000000002}. Best is trial 48 with value: 0.46958720522256653.\n",
      "GPU available: True (mps), used: True\n",
      "TPU available: False, using: 0 TPU cores\n",
      "HPU available: False, using: 0 HPUs\n",
      "Loading `train_dataloader` to estimate number of stepping batches.\n",
      "Trainer was signaled to stop but the required `min_epochs=20` or `min_steps=None` has not been met. Training will continue...\n",
      "GPU available: True (mps), used: True\n",
      "TPU available: False, using: 0 TPU cores\n",
      "HPU available: False, using: 0 HPUs\n",
      "Loading `train_dataloader` to estimate number of stepping batches.\n",
      "Trainer was signaled to stop but the required `min_epochs=20` or `min_steps=None` has not been met. Training will continue...\n",
      "GPU available: True (mps), used: True\n",
      "TPU available: False, using: 0 TPU cores\n",
      "HPU available: False, using: 0 HPUs\n",
      "Loading `train_dataloader` to estimate number of stepping batches.\n",
      "Trainer was signaled to stop but the required `min_epochs=20` or `min_steps=None` has not been met. Training will continue...\n",
      "GPU available: True (mps), used: True\n",
      "TPU available: False, using: 0 TPU cores\n",
      "HPU available: False, using: 0 HPUs\n",
      "Loading `train_dataloader` to estimate number of stepping batches.\n",
      "Trainer was signaled to stop but the required `min_epochs=20` or `min_steps=None` has not been met. Training will continue...\n",
      "GPU available: True (mps), used: True\n",
      "TPU available: False, using: 0 TPU cores\n",
      "HPU available: False, using: 0 HPUs\n",
      "Loading `train_dataloader` to estimate number of stepping batches.\n",
      "Trainer was signaled to stop but the required `min_epochs=20` or `min_steps=None` has not been met. Training will continue...\n",
      "[I 2024-10-03 01:17:59,950] Trial 52 finished with value: 0.47521955291032025 and parameters: {'batch_size': 320, 'dropout': 0.2, 'input_layer_size': 768, 'n_layers': 3, 'learning_rate': 0.0007293040310271726, 'weight_decay': 0.0003945922633250775, 'initialization': 'kaiming_uniform', 'pct_start': 0.1}. Best is trial 48 with value: 0.46958720522256653.\n",
      "GPU available: True (mps), used: True\n",
      "TPU available: False, using: 0 TPU cores\n",
      "HPU available: False, using: 0 HPUs\n",
      "Loading `train_dataloader` to estimate number of stepping batches.\n",
      "Trainer was signaled to stop but the required `min_epochs=20` or `min_steps=None` has not been met. Training will continue...\n",
      "GPU available: True (mps), used: True\n",
      "TPU available: False, using: 0 TPU cores\n",
      "HPU available: False, using: 0 HPUs\n",
      "Loading `train_dataloader` to estimate number of stepping batches.\n",
      "Trainer was signaled to stop but the required `min_epochs=20` or `min_steps=None` has not been met. Training will continue...\n",
      "GPU available: True (mps), used: True\n",
      "TPU available: False, using: 0 TPU cores\n",
      "HPU available: False, using: 0 HPUs\n",
      "Loading `train_dataloader` to estimate number of stepping batches.\n",
      "Trainer was signaled to stop but the required `min_epochs=20` or `min_steps=None` has not been met. Training will continue...\n",
      "GPU available: True (mps), used: True\n",
      "TPU available: False, using: 0 TPU cores\n",
      "HPU available: False, using: 0 HPUs\n",
      "Loading `train_dataloader` to estimate number of stepping batches.\n",
      "Trainer was signaled to stop but the required `min_epochs=20` or `min_steps=None` has not been met. Training will continue...\n",
      "GPU available: True (mps), used: True\n",
      "TPU available: False, using: 0 TPU cores\n",
      "HPU available: False, using: 0 HPUs\n",
      "Loading `train_dataloader` to estimate number of stepping batches.\n",
      "Trainer was signaled to stop but the required `min_epochs=20` or `min_steps=None` has not been met. Training will continue...\n",
      "[I 2024-10-03 01:40:03,283] Trial 53 finished with value: 0.4753863768270866 and parameters: {'batch_size': 256, 'dropout': 0.25, 'input_layer_size': 960, 'n_layers': 3, 'learning_rate': 0.0007816954754997816, 'weight_decay': 0.000297110106626065, 'initialization': 'kaiming_uniform', 'pct_start': 0.05}. Best is trial 48 with value: 0.46958720522256653.\n",
      "GPU available: True (mps), used: True\n",
      "TPU available: False, using: 0 TPU cores\n",
      "HPU available: False, using: 0 HPUs\n",
      "Loading `train_dataloader` to estimate number of stepping batches.\n",
      "Trainer was signaled to stop but the required `min_epochs=20` or `min_steps=None` has not been met. Training will continue...\n",
      "GPU available: True (mps), used: True\n",
      "TPU available: False, using: 0 TPU cores\n",
      "HPU available: False, using: 0 HPUs\n",
      "Loading `train_dataloader` to estimate number of stepping batches.\n",
      "Trainer was signaled to stop but the required `min_epochs=20` or `min_steps=None` has not been met. Training will continue...\n",
      "GPU available: True (mps), used: True\n",
      "TPU available: False, using: 0 TPU cores\n",
      "HPU available: False, using: 0 HPUs\n",
      "Loading `train_dataloader` to estimate number of stepping batches.\n",
      "Trainer was signaled to stop but the required `min_epochs=20` or `min_steps=None` has not been met. Training will continue...\n",
      "GPU available: True (mps), used: True\n",
      "TPU available: False, using: 0 TPU cores\n",
      "HPU available: False, using: 0 HPUs\n",
      "Loading `train_dataloader` to estimate number of stepping batches.\n",
      "Trainer was signaled to stop but the required `min_epochs=20` or `min_steps=None` has not been met. Training will continue...\n",
      "GPU available: True (mps), used: True\n",
      "TPU available: False, using: 0 TPU cores\n",
      "HPU available: False, using: 0 HPUs\n",
      "Loading `train_dataloader` to estimate number of stepping batches.\n",
      "Trainer was signaled to stop but the required `min_epochs=20` or `min_steps=None` has not been met. Training will continue...\n",
      "[I 2024-10-03 02:08:50,565] Trial 54 finished with value: 0.47150568920402175 and parameters: {'batch_size': 192, 'dropout': 0.15000000000000002, 'input_layer_size': 896, 'n_layers': 3, 'learning_rate': 0.0013845996907212478, 'weight_decay': 0.00020456659173781176, 'initialization': 'kaiming_uniform', 'pct_start': 0.05}. Best is trial 48 with value: 0.46958720522256653.\n",
      "GPU available: True (mps), used: True\n",
      "TPU available: False, using: 0 TPU cores\n",
      "HPU available: False, using: 0 HPUs\n",
      "Loading `train_dataloader` to estimate number of stepping batches.\n",
      "Trainer was signaled to stop but the required `min_epochs=20` or `min_steps=None` has not been met. Training will continue...\n",
      "GPU available: True (mps), used: True\n",
      "TPU available: False, using: 0 TPU cores\n",
      "HPU available: False, using: 0 HPUs\n",
      "Loading `train_dataloader` to estimate number of stepping batches.\n",
      "Trainer was signaled to stop but the required `min_epochs=20` or `min_steps=None` has not been met. Training will continue...\n",
      "GPU available: True (mps), used: True\n",
      "TPU available: False, using: 0 TPU cores\n",
      "HPU available: False, using: 0 HPUs\n",
      "Loading `train_dataloader` to estimate number of stepping batches.\n",
      "Trainer was signaled to stop but the required `min_epochs=20` or `min_steps=None` has not been met. Training will continue...\n",
      "GPU available: True (mps), used: True\n",
      "TPU available: False, using: 0 TPU cores\n",
      "HPU available: False, using: 0 HPUs\n",
      "Loading `train_dataloader` to estimate number of stepping batches.\n",
      "Trainer was signaled to stop but the required `min_epochs=20` or `min_steps=None` has not been met. Training will continue...\n",
      "GPU available: True (mps), used: True\n",
      "TPU available: False, using: 0 TPU cores\n",
      "HPU available: False, using: 0 HPUs\n",
      "Loading `train_dataloader` to estimate number of stepping batches.\n",
      "Trainer was signaled to stop but the required `min_epochs=20` or `min_steps=None` has not been met. Training will continue...\n",
      "[I 2024-10-03 02:37:35,216] Trial 55 finished with value: 0.4737538692798731 and parameters: {'batch_size': 192, 'dropout': 0.15000000000000002, 'input_layer_size': 896, 'n_layers': 3, 'learning_rate': 0.0011145603919456447, 'weight_decay': 0.0007503365166754153, 'initialization': 'kaiming_uniform', 'pct_start': 0.05}. Best is trial 48 with value: 0.46958720522256653.\n",
      "GPU available: True (mps), used: True\n",
      "TPU available: False, using: 0 TPU cores\n",
      "HPU available: False, using: 0 HPUs\n",
      "Loading `train_dataloader` to estimate number of stepping batches.\n",
      "Trainer was signaled to stop but the required `min_epochs=20` or `min_steps=None` has not been met. Training will continue...\n",
      "GPU available: True (mps), used: True\n",
      "TPU available: False, using: 0 TPU cores\n",
      "HPU available: False, using: 0 HPUs\n",
      "Loading `train_dataloader` to estimate number of stepping batches.\n",
      "Trainer was signaled to stop but the required `min_epochs=20` or `min_steps=None` has not been met. Training will continue...\n",
      "GPU available: True (mps), used: True\n",
      "TPU available: False, using: 0 TPU cores\n",
      "HPU available: False, using: 0 HPUs\n",
      "Loading `train_dataloader` to estimate number of stepping batches.\n",
      "Trainer was signaled to stop but the required `min_epochs=20` or `min_steps=None` has not been met. Training will continue...\n",
      "GPU available: True (mps), used: True\n",
      "TPU available: False, using: 0 TPU cores\n",
      "HPU available: False, using: 0 HPUs\n",
      "Loading `train_dataloader` to estimate number of stepping batches.\n",
      "Trainer was signaled to stop but the required `min_epochs=20` or `min_steps=None` has not been met. Training will continue...\n",
      "GPU available: True (mps), used: True\n",
      "TPU available: False, using: 0 TPU cores\n",
      "HPU available: False, using: 0 HPUs\n",
      "Loading `train_dataloader` to estimate number of stepping batches.\n",
      "Trainer was signaled to stop but the required `min_epochs=20` or `min_steps=None` has not been met. Training will continue...\n",
      "[I 2024-10-03 02:59:47,185] Trial 56 finished with value: 0.4757643820247859 and parameters: {'batch_size': 256, 'dropout': 0.15000000000000002, 'input_layer_size': 960, 'n_layers': 3, 'learning_rate': 0.001368006869545558, 'weight_decay': 0.0001912347948610687, 'initialization': 'kaiming_uniform', 'pct_start': 0.05}. Best is trial 48 with value: 0.46958720522256653.\n",
      "GPU available: True (mps), used: True\n",
      "TPU available: False, using: 0 TPU cores\n",
      "HPU available: False, using: 0 HPUs\n",
      "Loading `train_dataloader` to estimate number of stepping batches.\n",
      "Trainer was signaled to stop but the required `min_epochs=20` or `min_steps=None` has not been met. Training will continue...\n",
      "GPU available: True (mps), used: True\n",
      "TPU available: False, using: 0 TPU cores\n",
      "HPU available: False, using: 0 HPUs\n",
      "Loading `train_dataloader` to estimate number of stepping batches.\n",
      "Trainer was signaled to stop but the required `min_epochs=20` or `min_steps=None` has not been met. Training will continue...\n",
      "GPU available: True (mps), used: True\n",
      "TPU available: False, using: 0 TPU cores\n",
      "HPU available: False, using: 0 HPUs\n",
      "Loading `train_dataloader` to estimate number of stepping batches.\n",
      "Trainer was signaled to stop but the required `min_epochs=20` or `min_steps=None` has not been met. Training will continue...\n",
      "GPU available: True (mps), used: True\n",
      "TPU available: False, using: 0 TPU cores\n",
      "HPU available: False, using: 0 HPUs\n",
      "Loading `train_dataloader` to estimate number of stepping batches.\n",
      "Trainer was signaled to stop but the required `min_epochs=20` or `min_steps=None` has not been met. Training will continue...\n",
      "GPU available: True (mps), used: True\n",
      "TPU available: False, using: 0 TPU cores\n",
      "HPU available: False, using: 0 HPUs\n",
      "Loading `train_dataloader` to estimate number of stepping batches.\n",
      "Trainer was signaled to stop but the required `min_epochs=20` or `min_steps=None` has not been met. Training will continue...\n",
      "[I 2024-10-03 03:25:11,548] Trial 57 finished with value: 0.4792675316545565 and parameters: {'batch_size': 192, 'dropout': 0.2, 'input_layer_size': 896, 'n_layers': 2, 'learning_rate': 0.0020820622030404516, 'weight_decay': 0.0004385121218466816, 'initialization': 'kaiming_uniform', 'pct_start': 0.1}. Best is trial 48 with value: 0.46958720522256653.\n",
      "GPU available: True (mps), used: True\n",
      "TPU available: False, using: 0 TPU cores\n",
      "HPU available: False, using: 0 HPUs\n",
      "Loading `train_dataloader` to estimate number of stepping batches.\n",
      "Trainer was signaled to stop but the required `min_epochs=20` or `min_steps=None` has not been met. Training will continue...\n",
      "GPU available: True (mps), used: True\n",
      "TPU available: False, using: 0 TPU cores\n",
      "HPU available: False, using: 0 HPUs\n",
      "Loading `train_dataloader` to estimate number of stepping batches.\n",
      "Trainer was signaled to stop but the required `min_epochs=20` or `min_steps=None` has not been met. Training will continue...\n",
      "GPU available: True (mps), used: True\n",
      "TPU available: False, using: 0 TPU cores\n",
      "HPU available: False, using: 0 HPUs\n",
      "Loading `train_dataloader` to estimate number of stepping batches.\n",
      "Trainer was signaled to stop but the required `min_epochs=20` or `min_steps=None` has not been met. Training will continue...\n",
      "GPU available: True (mps), used: True\n",
      "TPU available: False, using: 0 TPU cores\n",
      "HPU available: False, using: 0 HPUs\n",
      "Loading `train_dataloader` to estimate number of stepping batches.\n",
      "Trainer was signaled to stop but the required `min_epochs=20` or `min_steps=None` has not been met. Training will continue...\n",
      "GPU available: True (mps), used: True\n",
      "TPU available: False, using: 0 TPU cores\n",
      "HPU available: False, using: 0 HPUs\n",
      "Loading `train_dataloader` to estimate number of stepping batches.\n",
      "Trainer was signaled to stop but the required `min_epochs=20` or `min_steps=None` has not been met. Training will continue...\n",
      "[I 2024-10-03 04:07:15,374] Trial 58 finished with value: 0.48502958606566293 and parameters: {'batch_size': 128, 'dropout': 0.15000000000000002, 'input_layer_size': 832, 'n_layers': 3, 'learning_rate': 0.00037564561531723317, 'weight_decay': 4.7650845835618925e-05, 'initialization': 'kaiming_uniform', 'pct_start': 0.05}. Best is trial 48 with value: 0.46958720522256653.\n",
      "GPU available: True (mps), used: True\n",
      "TPU available: False, using: 0 TPU cores\n",
      "HPU available: False, using: 0 HPUs\n",
      "Loading `train_dataloader` to estimate number of stepping batches.\n",
      "Trainer was signaled to stop but the required `min_epochs=20` or `min_steps=None` has not been met. Training will continue...\n",
      "GPU available: True (mps), used: True\n",
      "TPU available: False, using: 0 TPU cores\n",
      "HPU available: False, using: 0 HPUs\n",
      "Loading `train_dataloader` to estimate number of stepping batches.\n",
      "Trainer was signaled to stop but the required `min_epochs=20` or `min_steps=None` has not been met. Training will continue...\n",
      "GPU available: True (mps), used: True\n",
      "TPU available: False, using: 0 TPU cores\n",
      "HPU available: False, using: 0 HPUs\n",
      "Loading `train_dataloader` to estimate number of stepping batches.\n",
      "Trainer was signaled to stop but the required `min_epochs=20` or `min_steps=None` has not been met. Training will continue...\n",
      "GPU available: True (mps), used: True\n",
      "TPU available: False, using: 0 TPU cores\n",
      "HPU available: False, using: 0 HPUs\n",
      "Loading `train_dataloader` to estimate number of stepping batches.\n",
      "Trainer was signaled to stop but the required `min_epochs=20` or `min_steps=None` has not been met. Training will continue...\n",
      "GPU available: True (mps), used: True\n",
      "TPU available: False, using: 0 TPU cores\n",
      "HPU available: False, using: 0 HPUs\n",
      "Loading `train_dataloader` to estimate number of stepping batches.\n",
      "Trainer was signaled to stop but the required `min_epochs=20` or `min_steps=None` has not been met. Training will continue...\n",
      "[I 2024-10-03 04:15:34,523] Trial 59 finished with value: 0.48509647026019476 and parameters: {'batch_size': 768, 'dropout': 0.1, 'input_layer_size': 768, 'n_layers': 3, 'learning_rate': 0.0006348395677871001, 'weight_decay': 0.0006319853777329677, 'initialization': 'kaiming_uniform', 'pct_start': 0.1}. Best is trial 48 with value: 0.46958720522256653.\n",
      "GPU available: True (mps), used: True\n",
      "TPU available: False, using: 0 TPU cores\n",
      "HPU available: False, using: 0 HPUs\n",
      "Loading `train_dataloader` to estimate number of stepping batches.\n",
      "Trainer was signaled to stop but the required `min_epochs=20` or `min_steps=None` has not been met. Training will continue...\n",
      "GPU available: True (mps), used: True\n",
      "TPU available: False, using: 0 TPU cores\n",
      "HPU available: False, using: 0 HPUs\n",
      "Loading `train_dataloader` to estimate number of stepping batches.\n",
      "Trainer was signaled to stop but the required `min_epochs=20` or `min_steps=None` has not been met. Training will continue...\n",
      "GPU available: True (mps), used: True\n",
      "TPU available: False, using: 0 TPU cores\n",
      "HPU available: False, using: 0 HPUs\n",
      "Loading `train_dataloader` to estimate number of stepping batches.\n",
      "Trainer was signaled to stop but the required `min_epochs=20` or `min_steps=None` has not been met. Training will continue...\n",
      "GPU available: True (mps), used: True\n",
      "TPU available: False, using: 0 TPU cores\n",
      "HPU available: False, using: 0 HPUs\n",
      "Loading `train_dataloader` to estimate number of stepping batches.\n",
      "Trainer was signaled to stop but the required `min_epochs=20` or `min_steps=None` has not been met. Training will continue...\n",
      "GPU available: True (mps), used: True\n",
      "TPU available: False, using: 0 TPU cores\n",
      "HPU available: False, using: 0 HPUs\n",
      "Loading `train_dataloader` to estimate number of stepping batches.\n",
      "Trainer was signaled to stop but the required `min_epochs=20` or `min_steps=None` has not been met. Training will continue...\n",
      "[I 2024-10-03 04:47:36,736] Trial 60 finished with value: 0.4864623978055295 and parameters: {'batch_size': 192, 'dropout': 0.15000000000000002, 'input_layer_size': 512, 'n_layers': 4, 'learning_rate': 0.0031528801342049027, 'weight_decay': 1.7899587589498387e-06, 'initialization': 'kaiming_uniform', 'pct_start': 0.05}. Best is trial 48 with value: 0.46958720522256653.\n",
      "GPU available: True (mps), used: True\n",
      "TPU available: False, using: 0 TPU cores\n",
      "HPU available: False, using: 0 HPUs\n",
      "Loading `train_dataloader` to estimate number of stepping batches.\n",
      "Trainer was signaled to stop but the required `min_epochs=20` or `min_steps=None` has not been met. Training will continue...\n",
      "GPU available: True (mps), used: True\n",
      "TPU available: False, using: 0 TPU cores\n",
      "HPU available: False, using: 0 HPUs\n",
      "Loading `train_dataloader` to estimate number of stepping batches.\n",
      "Trainer was signaled to stop but the required `min_epochs=20` or `min_steps=None` has not been met. Training will continue...\n",
      "GPU available: True (mps), used: True\n",
      "TPU available: False, using: 0 TPU cores\n",
      "HPU available: False, using: 0 HPUs\n",
      "Loading `train_dataloader` to estimate number of stepping batches.\n",
      "Trainer was signaled to stop but the required `min_epochs=20` or `min_steps=None` has not been met. Training will continue...\n",
      "GPU available: True (mps), used: True\n",
      "TPU available: False, using: 0 TPU cores\n",
      "HPU available: False, using: 0 HPUs\n",
      "Loading `train_dataloader` to estimate number of stepping batches.\n",
      "Trainer was signaled to stop but the required `min_epochs=20` or `min_steps=None` has not been met. Training will continue...\n",
      "GPU available: True (mps), used: True\n",
      "TPU available: False, using: 0 TPU cores\n",
      "HPU available: False, using: 0 HPUs\n",
      "Loading `train_dataloader` to estimate number of stepping batches.\n",
      "Trainer was signaled to stop but the required `min_epochs=20` or `min_steps=None` has not been met. Training will continue...\n",
      "[I 2024-10-03 04:56:39,759] Trial 61 finished with value: 0.4915980090374895 and parameters: {'batch_size': 704, 'dropout': 0.1, 'input_layer_size': 960, 'n_layers': 3, 'learning_rate': 0.001762451899296789, 'weight_decay': 0.00031909898243539787, 'initialization': 'kaiming_uniform', 'pct_start': 0.35000000000000003}. Best is trial 48 with value: 0.46958720522256653.\n",
      "GPU available: True (mps), used: True\n",
      "TPU available: False, using: 0 TPU cores\n",
      "HPU available: False, using: 0 HPUs\n",
      "Loading `train_dataloader` to estimate number of stepping batches.\n",
      "Trainer was signaled to stop but the required `min_epochs=20` or `min_steps=None` has not been met. Training will continue...\n",
      "GPU available: True (mps), used: True\n",
      "TPU available: False, using: 0 TPU cores\n",
      "HPU available: False, using: 0 HPUs\n",
      "Loading `train_dataloader` to estimate number of stepping batches.\n",
      "Trainer was signaled to stop but the required `min_epochs=20` or `min_steps=None` has not been met. Training will continue...\n",
      "GPU available: True (mps), used: True\n",
      "TPU available: False, using: 0 TPU cores\n",
      "HPU available: False, using: 0 HPUs\n",
      "Loading `train_dataloader` to estimate number of stepping batches.\n",
      "Trainer was signaled to stop but the required `min_epochs=20` or `min_steps=None` has not been met. Training will continue...\n",
      "GPU available: True (mps), used: True\n",
      "TPU available: False, using: 0 TPU cores\n",
      "HPU available: False, using: 0 HPUs\n",
      "Loading `train_dataloader` to estimate number of stepping batches.\n",
      "Trainer was signaled to stop but the required `min_epochs=20` or `min_steps=None` has not been met. Training will continue...\n",
      "GPU available: True (mps), used: True\n",
      "TPU available: False, using: 0 TPU cores\n",
      "HPU available: False, using: 0 HPUs\n",
      "Loading `train_dataloader` to estimate number of stepping batches.\n",
      "Trainer was signaled to stop but the required `min_epochs=20` or `min_steps=None` has not been met. Training will continue...\n",
      "[I 2024-10-03 05:12:40,445] Trial 62 finished with value: 0.4705950402237142 and parameters: {'batch_size': 320, 'dropout': 0.25, 'input_layer_size': 832, 'n_layers': 2, 'learning_rate': 0.0012243948589619762, 'weight_decay': 0.0007748496489739778, 'initialization': 'kaiming_uniform', 'pct_start': 0.2}. Best is trial 48 with value: 0.46958720522256653.\n",
      "GPU available: True (mps), used: True\n",
      "TPU available: False, using: 0 TPU cores\n",
      "HPU available: False, using: 0 HPUs\n",
      "Loading `train_dataloader` to estimate number of stepping batches.\n",
      "Trainer was signaled to stop but the required `min_epochs=20` or `min_steps=None` has not been met. Training will continue...\n",
      "GPU available: True (mps), used: True\n",
      "TPU available: False, using: 0 TPU cores\n",
      "HPU available: False, using: 0 HPUs\n",
      "Loading `train_dataloader` to estimate number of stepping batches.\n",
      "Trainer was signaled to stop but the required `min_epochs=20` or `min_steps=None` has not been met. Training will continue...\n",
      "GPU available: True (mps), used: True\n",
      "TPU available: False, using: 0 TPU cores\n",
      "HPU available: False, using: 0 HPUs\n",
      "Loading `train_dataloader` to estimate number of stepping batches.\n",
      "Trainer was signaled to stop but the required `min_epochs=20` or `min_steps=None` has not been met. Training will continue...\n",
      "GPU available: True (mps), used: True\n",
      "TPU available: False, using: 0 TPU cores\n",
      "HPU available: False, using: 0 HPUs\n",
      "Loading `train_dataloader` to estimate number of stepping batches.\n",
      "Trainer was signaled to stop but the required `min_epochs=20` or `min_steps=None` has not been met. Training will continue...\n",
      "GPU available: True (mps), used: True\n",
      "TPU available: False, using: 0 TPU cores\n",
      "HPU available: False, using: 0 HPUs\n",
      "Loading `train_dataloader` to estimate number of stepping batches.\n",
      "Trainer was signaled to stop but the required `min_epochs=20` or `min_steps=None` has not been met. Training will continue...\n",
      "[I 2024-10-03 05:32:05,476] Trial 63 finished with value: 0.4765771901924862 and parameters: {'batch_size': 256, 'dropout': 0.25, 'input_layer_size': 832, 'n_layers': 2, 'learning_rate': 0.0011673480032715357, 'weight_decay': 0.0007267517532206444, 'initialization': 'kaiming_uniform', 'pct_start': 0.2}. Best is trial 48 with value: 0.46958720522256653.\n",
      "GPU available: True (mps), used: True\n",
      "TPU available: False, using: 0 TPU cores\n",
      "HPU available: False, using: 0 HPUs\n",
      "Loading `train_dataloader` to estimate number of stepping batches.\n",
      "Trainer was signaled to stop but the required `min_epochs=20` or `min_steps=None` has not been met. Training will continue...\n",
      "GPU available: True (mps), used: True\n",
      "TPU available: False, using: 0 TPU cores\n",
      "HPU available: False, using: 0 HPUs\n",
      "Loading `train_dataloader` to estimate number of stepping batches.\n",
      "Trainer was signaled to stop but the required `min_epochs=20` or `min_steps=None` has not been met. Training will continue...\n",
      "GPU available: True (mps), used: True\n",
      "TPU available: False, using: 0 TPU cores\n",
      "HPU available: False, using: 0 HPUs\n",
      "Loading `train_dataloader` to estimate number of stepping batches.\n",
      "Trainer was signaled to stop but the required `min_epochs=20` or `min_steps=None` has not been met. Training will continue...\n",
      "GPU available: True (mps), used: True\n",
      "TPU available: False, using: 0 TPU cores\n",
      "HPU available: False, using: 0 HPUs\n",
      "Loading `train_dataloader` to estimate number of stepping batches.\n",
      "Trainer was signaled to stop but the required `min_epochs=20` or `min_steps=None` has not been met. Training will continue...\n",
      "GPU available: True (mps), used: True\n",
      "TPU available: False, using: 0 TPU cores\n",
      "HPU available: False, using: 0 HPUs\n",
      "Loading `train_dataloader` to estimate number of stepping batches.\n",
      "Trainer was signaled to stop but the required `min_epochs=20` or `min_steps=None` has not been met. Training will continue...\n",
      "[I 2024-10-03 05:45:45,963] Trial 64 finished with value: 0.4801881973782116 and parameters: {'batch_size': 384, 'dropout': 0.3, 'input_layer_size': 896, 'n_layers': 2, 'learning_rate': 0.0008932110781692991, 'weight_decay': 0.0008356230562664779, 'initialization': 'kaiming_uniform', 'pct_start': 0.25}. Best is trial 48 with value: 0.46958720522256653.\n",
      "GPU available: True (mps), used: True\n",
      "TPU available: False, using: 0 TPU cores\n",
      "HPU available: False, using: 0 HPUs\n",
      "Loading `train_dataloader` to estimate number of stepping batches.\n",
      "Trainer was signaled to stop but the required `min_epochs=20` or `min_steps=None` has not been met. Training will continue...\n",
      "GPU available: True (mps), used: True\n",
      "TPU available: False, using: 0 TPU cores\n",
      "HPU available: False, using: 0 HPUs\n",
      "Loading `train_dataloader` to estimate number of stepping batches.\n",
      "Trainer was signaled to stop but the required `min_epochs=20` or `min_steps=None` has not been met. Training will continue...\n",
      "GPU available: True (mps), used: True\n",
      "TPU available: False, using: 0 TPU cores\n",
      "HPU available: False, using: 0 HPUs\n",
      "Loading `train_dataloader` to estimate number of stepping batches.\n",
      "Trainer was signaled to stop but the required `min_epochs=20` or `min_steps=None` has not been met. Training will continue...\n",
      "GPU available: True (mps), used: True\n",
      "TPU available: False, using: 0 TPU cores\n",
      "HPU available: False, using: 0 HPUs\n",
      "Loading `train_dataloader` to estimate number of stepping batches.\n",
      "Trainer was signaled to stop but the required `min_epochs=20` or `min_steps=None` has not been met. Training will continue...\n",
      "GPU available: True (mps), used: True\n",
      "TPU available: False, using: 0 TPU cores\n",
      "HPU available: False, using: 0 HPUs\n",
      "Loading `train_dataloader` to estimate number of stepping batches.\n",
      "Trainer was signaled to stop but the required `min_epochs=20` or `min_steps=None` has not been met. Training will continue...\n",
      "[I 2024-10-03 06:01:41,346] Trial 65 finished with value: 0.4948352602937306 and parameters: {'batch_size': 320, 'dropout': 0.25, 'input_layer_size': 640, 'n_layers': 2, 'learning_rate': 0.00044641127388975237, 'weight_decay': 0.00042188181309682656, 'initialization': 'kaiming_uniform', 'pct_start': 0.3}. Best is trial 48 with value: 0.46958720522256653.\n",
      "GPU available: True (mps), used: True\n",
      "TPU available: False, using: 0 TPU cores\n",
      "HPU available: False, using: 0 HPUs\n",
      "Loading `train_dataloader` to estimate number of stepping batches.\n",
      "Trainer was signaled to stop but the required `min_epochs=20` or `min_steps=None` has not been met. Training will continue...\n",
      "GPU available: True (mps), used: True\n",
      "TPU available: False, using: 0 TPU cores\n",
      "HPU available: False, using: 0 HPUs\n",
      "Loading `train_dataloader` to estimate number of stepping batches.\n",
      "Trainer was signaled to stop but the required `min_epochs=20` or `min_steps=None` has not been met. Training will continue...\n",
      "GPU available: True (mps), used: True\n",
      "TPU available: False, using: 0 TPU cores\n",
      "HPU available: False, using: 0 HPUs\n",
      "Loading `train_dataloader` to estimate number of stepping batches.\n",
      "Trainer was signaled to stop but the required `min_epochs=20` or `min_steps=None` has not been met. Training will continue...\n",
      "GPU available: True (mps), used: True\n",
      "TPU available: False, using: 0 TPU cores\n",
      "HPU available: False, using: 0 HPUs\n",
      "Loading `train_dataloader` to estimate number of stepping batches.\n",
      "Trainer was signaled to stop but the required `min_epochs=20` or `min_steps=None` has not been met. Training will continue...\n",
      "GPU available: True (mps), used: True\n",
      "TPU available: False, using: 0 TPU cores\n",
      "HPU available: False, using: 0 HPUs\n",
      "Loading `train_dataloader` to estimate number of stepping batches.\n",
      "Trainer was signaled to stop but the required `min_epochs=20` or `min_steps=None` has not been met. Training will continue...\n",
      "[I 2024-10-03 06:33:45,607] Trial 66 finished with value: 0.4828101087460384 and parameters: {'batch_size': 192, 'dropout': 0.2, 'input_layer_size': 832, 'n_layers': 4, 'learning_rate': 0.002752183303503408, 'weight_decay': 0.0006081234556868771, 'initialization': 'kaiming_uniform', 'pct_start': 0.15000000000000002}. Best is trial 48 with value: 0.46958720522256653.\n",
      "GPU available: True (mps), used: True\n",
      "TPU available: False, using: 0 TPU cores\n",
      "HPU available: False, using: 0 HPUs\n",
      "Loading `train_dataloader` to estimate number of stepping batches.\n",
      "Trainer was signaled to stop but the required `min_epochs=20` or `min_steps=None` has not been met. Training will continue...\n",
      "GPU available: True (mps), used: True\n",
      "TPU available: False, using: 0 TPU cores\n",
      "HPU available: False, using: 0 HPUs\n",
      "Loading `train_dataloader` to estimate number of stepping batches.\n",
      "Trainer was signaled to stop but the required `min_epochs=20` or `min_steps=None` has not been met. Training will continue...\n",
      "GPU available: True (mps), used: True\n",
      "TPU available: False, using: 0 TPU cores\n",
      "HPU available: False, using: 0 HPUs\n",
      "Loading `train_dataloader` to estimate number of stepping batches.\n",
      "Trainer was signaled to stop but the required `min_epochs=20` or `min_steps=None` has not been met. Training will continue...\n",
      "GPU available: True (mps), used: True\n",
      "TPU available: False, using: 0 TPU cores\n",
      "HPU available: False, using: 0 HPUs\n",
      "Loading `train_dataloader` to estimate number of stepping batches.\n",
      "Trainer was signaled to stop but the required `min_epochs=20` or `min_steps=None` has not been met. Training will continue...\n",
      "GPU available: True (mps), used: True\n",
      "TPU available: False, using: 0 TPU cores\n",
      "HPU available: False, using: 0 HPUs\n",
      "Loading `train_dataloader` to estimate number of stepping batches.\n",
      "Trainer was signaled to stop but the required `min_epochs=20` or `min_steps=None` has not been met. Training will continue...\n",
      "[I 2024-10-03 07:11:17,815] Trial 67 finished with value: 0.4997126963928893 and parameters: {'batch_size': 128, 'dropout': 0.25, 'input_layer_size': 768, 'n_layers': 2, 'learning_rate': 0.004982785424107155, 'weight_decay': 0.0009511157723558561, 'initialization': 'kaiming_uniform', 'pct_start': 0.05}. Best is trial 48 with value: 0.46958720522256653.\n",
      "GPU available: True (mps), used: True\n",
      "TPU available: False, using: 0 TPU cores\n",
      "HPU available: False, using: 0 HPUs\n",
      "Loading `train_dataloader` to estimate number of stepping batches.\n",
      "Trainer was signaled to stop but the required `min_epochs=20` or `min_steps=None` has not been met. Training will continue...\n",
      "GPU available: True (mps), used: True\n",
      "TPU available: False, using: 0 TPU cores\n",
      "HPU available: False, using: 0 HPUs\n",
      "Loading `train_dataloader` to estimate number of stepping batches.\n",
      "Trainer was signaled to stop but the required `min_epochs=20` or `min_steps=None` has not been met. Training will continue...\n",
      "GPU available: True (mps), used: True\n",
      "TPU available: False, using: 0 TPU cores\n",
      "HPU available: False, using: 0 HPUs\n",
      "Loading `train_dataloader` to estimate number of stepping batches.\n",
      "Trainer was signaled to stop but the required `min_epochs=20` or `min_steps=None` has not been met. Training will continue...\n",
      "GPU available: True (mps), used: True\n",
      "TPU available: False, using: 0 TPU cores\n",
      "HPU available: False, using: 0 HPUs\n",
      "Loading `train_dataloader` to estimate number of stepping batches.\n",
      "Trainer was signaled to stop but the required `min_epochs=20` or `min_steps=None` has not been met. Training will continue...\n",
      "GPU available: True (mps), used: True\n",
      "TPU available: False, using: 0 TPU cores\n",
      "HPU available: False, using: 0 HPUs\n",
      "Loading `train_dataloader` to estimate number of stepping batches.\n",
      "Trainer was signaled to stop but the required `min_epochs=20` or `min_steps=None` has not been met. Training will continue...\n",
      "[I 2024-10-03 07:29:23,264] Trial 68 finished with value: 0.49469393633709463 and parameters: {'batch_size': 320, 'dropout': 0.2, 'input_layer_size': 896, 'n_layers': 3, 'learning_rate': 0.013113673404986634, 'weight_decay': 0.00021802356263517057, 'initialization': 'xavier_uniform', 'pct_start': 0.1}. Best is trial 48 with value: 0.46958720522256653.\n"
     ]
    }
   ],
   "source": [
    "do_optimize = True\n",
    "timeout = 3600 * 14\n",
    "\n",
    "study = optuna.create_study(\n",
    "    study_name=\"mlp\",\n",
    "    direction='minimize',\n",
    "    storage='sqlite:///mlp.db',\n",
    "    load_if_exists=True,\n",
    ")\n",
    "\n",
    "if do_optimize:\n",
    "    study.optimize(\n",
    "        objective, \n",
    "        n_trials=1000, \n",
    "        timeout=timeout,\n",
    "        n_jobs=1, \n",
    "        gc_after_trial=True,\n",
    "    ) "
   ]
  },
  {
   "cell_type": "code",
   "execution_count": 12,
   "metadata": {},
   "outputs": [
    {
     "data": {
      "text/html": [
       "<div>\n",
       "<style scoped>\n",
       "    .dataframe tbody tr th:only-of-type {\n",
       "        vertical-align: middle;\n",
       "    }\n",
       "\n",
       "    .dataframe tbody tr th {\n",
       "        vertical-align: top;\n",
       "    }\n",
       "\n",
       "    .dataframe thead th {\n",
       "        text-align: right;\n",
       "    }\n",
       "</style>\n",
       "<table border=\"1\" class=\"dataframe\">\n",
       "  <thead>\n",
       "    <tr style=\"text-align: right;\">\n",
       "      <th></th>\n",
       "      <th>number</th>\n",
       "      <th>value</th>\n",
       "      <th>datetime_start</th>\n",
       "      <th>datetime_complete</th>\n",
       "      <th>duration</th>\n",
       "      <th>params_batch_size</th>\n",
       "      <th>params_dropout</th>\n",
       "      <th>params_initialization</th>\n",
       "      <th>params_input_layer_size</th>\n",
       "      <th>params_learning_rate</th>\n",
       "      <th>params_n_layers</th>\n",
       "      <th>params_pct_start</th>\n",
       "      <th>params_weight_decay</th>\n",
       "      <th>state</th>\n",
       "    </tr>\n",
       "  </thead>\n",
       "  <tbody>\n",
       "    <tr>\n",
       "      <th>48</th>\n",
       "      <td>48</td>\n",
       "      <td>0.469587</td>\n",
       "      <td>2024-10-02 22:36:24.675548</td>\n",
       "      <td>2024-10-02 23:05:20.436647</td>\n",
       "      <td>0 days 00:28:55.761099</td>\n",
       "      <td>192</td>\n",
       "      <td>0.20</td>\n",
       "      <td>kaiming_uniform</td>\n",
       "      <td>896</td>\n",
       "      <td>0.000809</td>\n",
       "      <td>3</td>\n",
       "      <td>0.05</td>\n",
       "      <td>0.000646</td>\n",
       "      <td>COMPLETE</td>\n",
       "    </tr>\n",
       "    <tr>\n",
       "      <th>62</th>\n",
       "      <td>62</td>\n",
       "      <td>0.470595</td>\n",
       "      <td>2024-10-03 04:56:39.864625</td>\n",
       "      <td>2024-10-03 05:12:40.440326</td>\n",
       "      <td>0 days 00:16:00.575701</td>\n",
       "      <td>320</td>\n",
       "      <td>0.25</td>\n",
       "      <td>kaiming_uniform</td>\n",
       "      <td>832</td>\n",
       "      <td>0.001224</td>\n",
       "      <td>2</td>\n",
       "      <td>0.20</td>\n",
       "      <td>0.000775</td>\n",
       "      <td>COMPLETE</td>\n",
       "    </tr>\n",
       "    <tr>\n",
       "      <th>23</th>\n",
       "      <td>23</td>\n",
       "      <td>0.471270</td>\n",
       "      <td>2024-10-02 02:46:57.271813</td>\n",
       "      <td>2024-10-02 03:05:28.857914</td>\n",
       "      <td>0 days 00:18:31.586101</td>\n",
       "      <td>256</td>\n",
       "      <td>0.00</td>\n",
       "      <td>kaiming_uniform</td>\n",
       "      <td>576</td>\n",
       "      <td>0.000520</td>\n",
       "      <td>3</td>\n",
       "      <td>0.05</td>\n",
       "      <td>0.000452</td>\n",
       "      <td>COMPLETE</td>\n",
       "    </tr>\n",
       "    <tr>\n",
       "      <th>54</th>\n",
       "      <td>54</td>\n",
       "      <td>0.471506</td>\n",
       "      <td>2024-10-03 01:40:03.399119</td>\n",
       "      <td>2024-10-03 02:08:50.560600</td>\n",
       "      <td>0 days 00:28:47.161481</td>\n",
       "      <td>192</td>\n",
       "      <td>0.15</td>\n",
       "      <td>kaiming_uniform</td>\n",
       "      <td>896</td>\n",
       "      <td>0.001385</td>\n",
       "      <td>3</td>\n",
       "      <td>0.05</td>\n",
       "      <td>0.000205</td>\n",
       "      <td>COMPLETE</td>\n",
       "    </tr>\n",
       "    <tr>\n",
       "      <th>32</th>\n",
       "      <td>32</td>\n",
       "      <td>0.471662</td>\n",
       "      <td>2024-10-02 06:37:42.699757</td>\n",
       "      <td>2024-10-02 07:21:06.515479</td>\n",
       "      <td>0 days 00:43:23.815722</td>\n",
       "      <td>128</td>\n",
       "      <td>0.05</td>\n",
       "      <td>kaiming_uniform</td>\n",
       "      <td>768</td>\n",
       "      <td>0.000517</td>\n",
       "      <td>4</td>\n",
       "      <td>0.10</td>\n",
       "      <td>0.000586</td>\n",
       "      <td>COMPLETE</td>\n",
       "    </tr>\n",
       "    <tr>\n",
       "      <th>45</th>\n",
       "      <td>45</td>\n",
       "      <td>0.472091</td>\n",
       "      <td>2024-10-02 21:32:34.385085</td>\n",
       "      <td>2024-10-02 22:01:03.847762</td>\n",
       "      <td>0 days 00:28:29.462677</td>\n",
       "      <td>192</td>\n",
       "      <td>0.15</td>\n",
       "      <td>kaiming_uniform</td>\n",
       "      <td>832</td>\n",
       "      <td>0.000299</td>\n",
       "      <td>3</td>\n",
       "      <td>0.10</td>\n",
       "      <td>0.000722</td>\n",
       "      <td>COMPLETE</td>\n",
       "    </tr>\n",
       "    <tr>\n",
       "      <th>33</th>\n",
       "      <td>33</td>\n",
       "      <td>0.472572</td>\n",
       "      <td>2024-10-02 07:21:06.638682</td>\n",
       "      <td>2024-10-02 07:51:18.660709</td>\n",
       "      <td>0 days 00:30:12.022027</td>\n",
       "      <td>192</td>\n",
       "      <td>0.00</td>\n",
       "      <td>kaiming_uniform</td>\n",
       "      <td>896</td>\n",
       "      <td>0.000679</td>\n",
       "      <td>5</td>\n",
       "      <td>0.10</td>\n",
       "      <td>0.000485</td>\n",
       "      <td>COMPLETE</td>\n",
       "    </tr>\n",
       "    <tr>\n",
       "      <th>14</th>\n",
       "      <td>14</td>\n",
       "      <td>0.472627</td>\n",
       "      <td>2024-10-02 00:30:54.378705</td>\n",
       "      <td>2024-10-02 00:48:29.855843</td>\n",
       "      <td>0 days 00:17:35.477138</td>\n",
       "      <td>256</td>\n",
       "      <td>0.00</td>\n",
       "      <td>kaiming_uniform</td>\n",
       "      <td>320</td>\n",
       "      <td>0.000824</td>\n",
       "      <td>3</td>\n",
       "      <td>0.05</td>\n",
       "      <td>0.000254</td>\n",
       "      <td>COMPLETE</td>\n",
       "    </tr>\n",
       "    <tr>\n",
       "      <th>24</th>\n",
       "      <td>24</td>\n",
       "      <td>0.472947</td>\n",
       "      <td>2024-10-02 03:05:28.971506</td>\n",
       "      <td>2024-10-02 03:31:10.532639</td>\n",
       "      <td>0 days 00:25:41.561133</td>\n",
       "      <td>192</td>\n",
       "      <td>0.05</td>\n",
       "      <td>kaiming_uniform</td>\n",
       "      <td>704</td>\n",
       "      <td>0.000513</td>\n",
       "      <td>3</td>\n",
       "      <td>0.10</td>\n",
       "      <td>0.000927</td>\n",
       "      <td>COMPLETE</td>\n",
       "    </tr>\n",
       "    <tr>\n",
       "      <th>25</th>\n",
       "      <td>25</td>\n",
       "      <td>0.473043</td>\n",
       "      <td>2024-10-02 03:31:10.635842</td>\n",
       "      <td>2024-10-02 04:14:10.877122</td>\n",
       "      <td>0 days 00:43:00.241280</td>\n",
       "      <td>128</td>\n",
       "      <td>0.05</td>\n",
       "      <td>kaiming_uniform</td>\n",
       "      <td>768</td>\n",
       "      <td>0.000452</td>\n",
       "      <td>4</td>\n",
       "      <td>0.10</td>\n",
       "      <td>0.000713</td>\n",
       "      <td>COMPLETE</td>\n",
       "    </tr>\n",
       "    <tr>\n",
       "      <th>22</th>\n",
       "      <td>22</td>\n",
       "      <td>0.473339</td>\n",
       "      <td>2024-10-02 02:28:17.966762</td>\n",
       "      <td>2024-10-02 02:46:57.167743</td>\n",
       "      <td>0 days 00:18:39.200981</td>\n",
       "      <td>256</td>\n",
       "      <td>0.00</td>\n",
       "      <td>kaiming_uniform</td>\n",
       "      <td>512</td>\n",
       "      <td>0.000604</td>\n",
       "      <td>3</td>\n",
       "      <td>0.05</td>\n",
       "      <td>0.000371</td>\n",
       "      <td>COMPLETE</td>\n",
       "    </tr>\n",
       "    <tr>\n",
       "      <th>27</th>\n",
       "      <td>27</td>\n",
       "      <td>0.473609</td>\n",
       "      <td>2024-10-02 04:40:15.671995</td>\n",
       "      <td>2024-10-02 05:09:06.339967</td>\n",
       "      <td>0 days 00:28:50.667972</td>\n",
       "      <td>192</td>\n",
       "      <td>0.05</td>\n",
       "      <td>xavier_uniform</td>\n",
       "      <td>640</td>\n",
       "      <td>0.000224</td>\n",
       "      <td>4</td>\n",
       "      <td>0.10</td>\n",
       "      <td>0.000975</td>\n",
       "      <td>COMPLETE</td>\n",
       "    </tr>\n",
       "    <tr>\n",
       "      <th>55</th>\n",
       "      <td>55</td>\n",
       "      <td>0.473754</td>\n",
       "      <td>2024-10-03 02:08:50.665368</td>\n",
       "      <td>2024-10-03 02:37:35.211647</td>\n",
       "      <td>0 days 00:28:44.546279</td>\n",
       "      <td>192</td>\n",
       "      <td>0.15</td>\n",
       "      <td>kaiming_uniform</td>\n",
       "      <td>896</td>\n",
       "      <td>0.001115</td>\n",
       "      <td>3</td>\n",
       "      <td>0.05</td>\n",
       "      <td>0.000750</td>\n",
       "      <td>COMPLETE</td>\n",
       "    </tr>\n",
       "    <tr>\n",
       "      <th>20</th>\n",
       "      <td>20</td>\n",
       "      <td>0.474123</td>\n",
       "      <td>2024-10-02 02:01:13.247919</td>\n",
       "      <td>2024-10-02 02:16:24.435202</td>\n",
       "      <td>0 days 00:15:11.187283</td>\n",
       "      <td>320</td>\n",
       "      <td>0.00</td>\n",
       "      <td>kaiming_uniform</td>\n",
       "      <td>576</td>\n",
       "      <td>0.001505</td>\n",
       "      <td>3</td>\n",
       "      <td>0.05</td>\n",
       "      <td>0.000382</td>\n",
       "      <td>COMPLETE</td>\n",
       "    </tr>\n",
       "    <tr>\n",
       "      <th>26</th>\n",
       "      <td>26</td>\n",
       "      <td>0.474369</td>\n",
       "      <td>2024-10-02 04:14:10.988857</td>\n",
       "      <td>2024-10-02 04:40:15.568218</td>\n",
       "      <td>0 days 00:26:04.579361</td>\n",
       "      <td>192</td>\n",
       "      <td>0.10</td>\n",
       "      <td>kaiming_uniform</td>\n",
       "      <td>704</td>\n",
       "      <td>0.000309</td>\n",
       "      <td>3</td>\n",
       "      <td>0.15</td>\n",
       "      <td>0.000722</td>\n",
       "      <td>COMPLETE</td>\n",
       "    </tr>\n",
       "    <tr>\n",
       "      <th>52</th>\n",
       "      <td>52</td>\n",
       "      <td>0.475220</td>\n",
       "      <td>2024-10-03 00:59:55.889456</td>\n",
       "      <td>2024-10-03 01:17:59.946145</td>\n",
       "      <td>0 days 00:18:04.056689</td>\n",
       "      <td>320</td>\n",
       "      <td>0.20</td>\n",
       "      <td>kaiming_uniform</td>\n",
       "      <td>768</td>\n",
       "      <td>0.000729</td>\n",
       "      <td>3</td>\n",
       "      <td>0.10</td>\n",
       "      <td>0.000395</td>\n",
       "      <td>COMPLETE</td>\n",
       "    </tr>\n",
       "    <tr>\n",
       "      <th>53</th>\n",
       "      <td>53</td>\n",
       "      <td>0.475386</td>\n",
       "      <td>2024-10-03 01:18:00.053174</td>\n",
       "      <td>2024-10-03 01:40:03.278685</td>\n",
       "      <td>0 days 00:22:03.225511</td>\n",
       "      <td>256</td>\n",
       "      <td>0.25</td>\n",
       "      <td>kaiming_uniform</td>\n",
       "      <td>960</td>\n",
       "      <td>0.000782</td>\n",
       "      <td>3</td>\n",
       "      <td>0.05</td>\n",
       "      <td>0.000297</td>\n",
       "      <td>COMPLETE</td>\n",
       "    </tr>\n",
       "    <tr>\n",
       "      <th>56</th>\n",
       "      <td>56</td>\n",
       "      <td>0.475764</td>\n",
       "      <td>2024-10-03 02:37:35.318313</td>\n",
       "      <td>2024-10-03 02:59:47.180357</td>\n",
       "      <td>0 days 00:22:11.862044</td>\n",
       "      <td>256</td>\n",
       "      <td>0.15</td>\n",
       "      <td>kaiming_uniform</td>\n",
       "      <td>960</td>\n",
       "      <td>0.001368</td>\n",
       "      <td>3</td>\n",
       "      <td>0.05</td>\n",
       "      <td>0.000191</td>\n",
       "      <td>COMPLETE</td>\n",
       "    </tr>\n",
       "    <tr>\n",
       "      <th>29</th>\n",
       "      <td>29</td>\n",
       "      <td>0.476163</td>\n",
       "      <td>2024-10-02 05:22:16.527542</td>\n",
       "      <td>2024-10-02 05:42:05.103611</td>\n",
       "      <td>0 days 00:19:48.576069</td>\n",
       "      <td>256</td>\n",
       "      <td>0.15</td>\n",
       "      <td>kaiming_uniform</td>\n",
       "      <td>320</td>\n",
       "      <td>0.001895</td>\n",
       "      <td>3</td>\n",
       "      <td>0.05</td>\n",
       "      <td>0.000511</td>\n",
       "      <td>COMPLETE</td>\n",
       "    </tr>\n",
       "    <tr>\n",
       "      <th>10</th>\n",
       "      <td>10</td>\n",
       "      <td>0.476209</td>\n",
       "      <td>2024-10-01 21:06:32.189837</td>\n",
       "      <td>2024-10-01 21:20:11.154964</td>\n",
       "      <td>0 days 00:13:38.965127</td>\n",
       "      <td>320</td>\n",
       "      <td>0.00</td>\n",
       "      <td>kaiming_uniform</td>\n",
       "      <td>448</td>\n",
       "      <td>0.001066</td>\n",
       "      <td>2</td>\n",
       "      <td>0.05</td>\n",
       "      <td>0.000337</td>\n",
       "      <td>COMPLETE</td>\n",
       "    </tr>\n",
       "  </tbody>\n",
       "</table>\n",
       "</div>"
      ],
      "text/plain": [
       "    number     value             datetime_start          datetime_complete  \\\n",
       "48      48  0.469587 2024-10-02 22:36:24.675548 2024-10-02 23:05:20.436647   \n",
       "62      62  0.470595 2024-10-03 04:56:39.864625 2024-10-03 05:12:40.440326   \n",
       "23      23  0.471270 2024-10-02 02:46:57.271813 2024-10-02 03:05:28.857914   \n",
       "54      54  0.471506 2024-10-03 01:40:03.399119 2024-10-03 02:08:50.560600   \n",
       "32      32  0.471662 2024-10-02 06:37:42.699757 2024-10-02 07:21:06.515479   \n",
       "45      45  0.472091 2024-10-02 21:32:34.385085 2024-10-02 22:01:03.847762   \n",
       "33      33  0.472572 2024-10-02 07:21:06.638682 2024-10-02 07:51:18.660709   \n",
       "14      14  0.472627 2024-10-02 00:30:54.378705 2024-10-02 00:48:29.855843   \n",
       "24      24  0.472947 2024-10-02 03:05:28.971506 2024-10-02 03:31:10.532639   \n",
       "25      25  0.473043 2024-10-02 03:31:10.635842 2024-10-02 04:14:10.877122   \n",
       "22      22  0.473339 2024-10-02 02:28:17.966762 2024-10-02 02:46:57.167743   \n",
       "27      27  0.473609 2024-10-02 04:40:15.671995 2024-10-02 05:09:06.339967   \n",
       "55      55  0.473754 2024-10-03 02:08:50.665368 2024-10-03 02:37:35.211647   \n",
       "20      20  0.474123 2024-10-02 02:01:13.247919 2024-10-02 02:16:24.435202   \n",
       "26      26  0.474369 2024-10-02 04:14:10.988857 2024-10-02 04:40:15.568218   \n",
       "52      52  0.475220 2024-10-03 00:59:55.889456 2024-10-03 01:17:59.946145   \n",
       "53      53  0.475386 2024-10-03 01:18:00.053174 2024-10-03 01:40:03.278685   \n",
       "56      56  0.475764 2024-10-03 02:37:35.318313 2024-10-03 02:59:47.180357   \n",
       "29      29  0.476163 2024-10-02 05:22:16.527542 2024-10-02 05:42:05.103611   \n",
       "10      10  0.476209 2024-10-01 21:06:32.189837 2024-10-01 21:20:11.154964   \n",
       "\n",
       "                 duration  params_batch_size  params_dropout  \\\n",
       "48 0 days 00:28:55.761099                192            0.20   \n",
       "62 0 days 00:16:00.575701                320            0.25   \n",
       "23 0 days 00:18:31.586101                256            0.00   \n",
       "54 0 days 00:28:47.161481                192            0.15   \n",
       "32 0 days 00:43:23.815722                128            0.05   \n",
       "45 0 days 00:28:29.462677                192            0.15   \n",
       "33 0 days 00:30:12.022027                192            0.00   \n",
       "14 0 days 00:17:35.477138                256            0.00   \n",
       "24 0 days 00:25:41.561133                192            0.05   \n",
       "25 0 days 00:43:00.241280                128            0.05   \n",
       "22 0 days 00:18:39.200981                256            0.00   \n",
       "27 0 days 00:28:50.667972                192            0.05   \n",
       "55 0 days 00:28:44.546279                192            0.15   \n",
       "20 0 days 00:15:11.187283                320            0.00   \n",
       "26 0 days 00:26:04.579361                192            0.10   \n",
       "52 0 days 00:18:04.056689                320            0.20   \n",
       "53 0 days 00:22:03.225511                256            0.25   \n",
       "56 0 days 00:22:11.862044                256            0.15   \n",
       "29 0 days 00:19:48.576069                256            0.15   \n",
       "10 0 days 00:13:38.965127                320            0.00   \n",
       "\n",
       "   params_initialization  params_input_layer_size  params_learning_rate  \\\n",
       "48       kaiming_uniform                      896              0.000809   \n",
       "62       kaiming_uniform                      832              0.001224   \n",
       "23       kaiming_uniform                      576              0.000520   \n",
       "54       kaiming_uniform                      896              0.001385   \n",
       "32       kaiming_uniform                      768              0.000517   \n",
       "45       kaiming_uniform                      832              0.000299   \n",
       "33       kaiming_uniform                      896              0.000679   \n",
       "14       kaiming_uniform                      320              0.000824   \n",
       "24       kaiming_uniform                      704              0.000513   \n",
       "25       kaiming_uniform                      768              0.000452   \n",
       "22       kaiming_uniform                      512              0.000604   \n",
       "27        xavier_uniform                      640              0.000224   \n",
       "55       kaiming_uniform                      896              0.001115   \n",
       "20       kaiming_uniform                      576              0.001505   \n",
       "26       kaiming_uniform                      704              0.000309   \n",
       "52       kaiming_uniform                      768              0.000729   \n",
       "53       kaiming_uniform                      960              0.000782   \n",
       "56       kaiming_uniform                      960              0.001368   \n",
       "29       kaiming_uniform                      320              0.001895   \n",
       "10       kaiming_uniform                      448              0.001066   \n",
       "\n",
       "    params_n_layers  params_pct_start  params_weight_decay     state  \n",
       "48                3              0.05             0.000646  COMPLETE  \n",
       "62                2              0.20             0.000775  COMPLETE  \n",
       "23                3              0.05             0.000452  COMPLETE  \n",
       "54                3              0.05             0.000205  COMPLETE  \n",
       "32                4              0.10             0.000586  COMPLETE  \n",
       "45                3              0.10             0.000722  COMPLETE  \n",
       "33                5              0.10             0.000485  COMPLETE  \n",
       "14                3              0.05             0.000254  COMPLETE  \n",
       "24                3              0.10             0.000927  COMPLETE  \n",
       "25                4              0.10             0.000713  COMPLETE  \n",
       "22                3              0.05             0.000371  COMPLETE  \n",
       "27                4              0.10             0.000975  COMPLETE  \n",
       "55                3              0.05             0.000750  COMPLETE  \n",
       "20                3              0.05             0.000382  COMPLETE  \n",
       "26                3              0.15             0.000722  COMPLETE  \n",
       "52                3              0.10             0.000395  COMPLETE  \n",
       "53                3              0.05             0.000297  COMPLETE  \n",
       "56                3              0.05             0.000191  COMPLETE  \n",
       "29                3              0.05             0.000511  COMPLETE  \n",
       "10                2              0.05             0.000337  COMPLETE  "
      ]
     },
     "execution_count": 12,
     "metadata": {},
     "output_type": "execute_result"
    }
   ],
   "source": [
    "study.trials_dataframe().sort_values(\"value\", ascending=True).head(20)"
   ]
  },
  {
   "cell_type": "code",
   "execution_count": 13,
   "metadata": {},
   "outputs": [
    {
     "data": {
      "application/vnd.plotly.v1+json": {
       "config": {
        "plotlyServerURL": "https://plot.ly"
       },
       "data": [
        {
         "mode": "markers",
         "name": "Objective Value",
         "type": "scatter",
         "x": [
          0,
          1,
          2,
          3,
          4,
          5,
          6,
          7,
          8,
          9,
          10,
          11,
          13,
          14,
          15,
          16,
          17,
          18,
          19,
          20,
          21,
          22,
          23,
          24,
          25,
          26,
          27,
          28,
          29,
          30,
          31,
          32,
          33,
          35,
          36,
          37,
          38,
          39,
          40,
          41,
          42,
          43,
          44,
          45,
          46,
          47,
          48,
          49,
          50,
          51,
          52,
          53,
          54,
          55,
          56,
          57,
          58,
          59,
          60,
          61,
          62,
          63,
          64,
          65,
          66,
          67,
          68
         ],
         "y": [
          0.5025147598595889,
          0.4775920801280374,
          0.4871136747275055,
          0.4850628069818499,
          0.5374427041622423,
          0.4912448682809691,
          0.49449377202463474,
          0.4828814878075324,
          0.5259792646507768,
          0.48332426217814756,
          0.47620877930434763,
          0.47666496452934937,
          0.4844211395022119,
          0.4726267103251171,
          0.49211028676867236,
          0.4777915648966965,
          0.5045584744095137,
          0.5061204593824047,
          0.5666841074420229,
          0.4741230363777974,
          0.47764985865162357,
          0.4733393213761891,
          0.4712697677389329,
          0.47294680009875895,
          0.47304288517026133,
          0.4743693442015783,
          0.473609292901656,
          0.49134196198964697,
          0.4761629075847808,
          0.49796957590260693,
          0.5373239810227822,
          0.47166162667549016,
          0.47257163225797416,
          0.4863981929271433,
          0.47644342560858943,
          0.48381588310268314,
          0.48949003875934294,
          0.5017343804548184,
          0.48596183635557183,
          0.48765609110051267,
          0.4921504011992329,
          0.4766315357642081,
          0.476381544382385,
          0.47209142980820734,
          0.48578031321328596,
          0.5185569118717497,
          0.46958720522256653,
          0.5265951993619511,
          0.4777052642342549,
          0.48676199356671057,
          0.47521955291032025,
          0.4753863768270866,
          0.47150568920402175,
          0.4737538692798731,
          0.4757643820247859,
          0.4792675316545565,
          0.48502958606566293,
          0.48509647026019476,
          0.4864623978055295,
          0.4915980090374895,
          0.4705950402237142,
          0.4765771901924862,
          0.4801881973782116,
          0.4948352602937306,
          0.4828101087460384,
          0.4997126963928893,
          0.49469393633709463
         ]
        },
        {
         "mode": "lines",
         "name": "Best Value",
         "type": "scatter",
         "x": [
          0,
          1,
          2,
          3,
          4,
          5,
          6,
          7,
          8,
          9,
          10,
          11,
          12,
          13,
          14,
          15,
          16,
          17,
          18,
          19,
          20,
          21,
          22,
          23,
          24,
          25,
          26,
          27,
          28,
          29,
          30,
          31,
          32,
          33,
          34,
          35,
          36,
          37,
          38,
          39,
          40,
          41,
          42,
          43,
          44,
          45,
          46,
          47,
          48,
          49,
          50,
          51,
          52,
          53,
          54,
          55,
          56,
          57,
          58,
          59,
          60,
          61,
          62,
          63,
          64,
          65,
          66,
          67,
          68
         ],
         "y": [
          0.5025147598595889,
          0.4775920801280374,
          0.4775920801280374,
          0.4775920801280374,
          0.4775920801280374,
          0.4775920801280374,
          0.4775920801280374,
          0.4775920801280374,
          0.4775920801280374,
          0.4775920801280374,
          0.47620877930434763,
          0.47620877930434763,
          0.47620877930434763,
          0.47620877930434763,
          0.4726267103251171,
          0.4726267103251171,
          0.4726267103251171,
          0.4726267103251171,
          0.4726267103251171,
          0.4726267103251171,
          0.4726267103251171,
          0.4726267103251171,
          0.4726267103251171,
          0.4712697677389329,
          0.4712697677389329,
          0.4712697677389329,
          0.4712697677389329,
          0.4712697677389329,
          0.4712697677389329,
          0.4712697677389329,
          0.4712697677389329,
          0.4712697677389329,
          0.4712697677389329,
          0.4712697677389329,
          0.4712697677389329,
          0.4712697677389329,
          0.4712697677389329,
          0.4712697677389329,
          0.4712697677389329,
          0.4712697677389329,
          0.4712697677389329,
          0.4712697677389329,
          0.4712697677389329,
          0.4712697677389329,
          0.4712697677389329,
          0.4712697677389329,
          0.4712697677389329,
          0.4712697677389329,
          0.46958720522256653,
          0.46958720522256653,
          0.46958720522256653,
          0.46958720522256653,
          0.46958720522256653,
          0.46958720522256653,
          0.46958720522256653,
          0.46958720522256653,
          0.46958720522256653,
          0.46958720522256653,
          0.46958720522256653,
          0.46958720522256653,
          0.46958720522256653,
          0.46958720522256653,
          0.46958720522256653,
          0.46958720522256653,
          0.46958720522256653,
          0.46958720522256653,
          0.46958720522256653,
          0.46958720522256653,
          0.46958720522256653
         ]
        },
        {
         "marker": {
          "color": "#cccccc"
         },
         "mode": "markers",
         "name": "Infeasible Trial",
         "showlegend": false,
         "type": "scatter",
         "x": [],
         "y": []
        }
       ],
       "layout": {
        "template": {
         "data": {
          "bar": [
           {
            "error_x": {
             "color": "#2a3f5f"
            },
            "error_y": {
             "color": "#2a3f5f"
            },
            "marker": {
             "line": {
              "color": "#E5ECF6",
              "width": 0.5
             },
             "pattern": {
              "fillmode": "overlay",
              "size": 10,
              "solidity": 0.2
             }
            },
            "type": "bar"
           }
          ],
          "barpolar": [
           {
            "marker": {
             "line": {
              "color": "#E5ECF6",
              "width": 0.5
             },
             "pattern": {
              "fillmode": "overlay",
              "size": 10,
              "solidity": 0.2
             }
            },
            "type": "barpolar"
           }
          ],
          "carpet": [
           {
            "aaxis": {
             "endlinecolor": "#2a3f5f",
             "gridcolor": "white",
             "linecolor": "white",
             "minorgridcolor": "white",
             "startlinecolor": "#2a3f5f"
            },
            "baxis": {
             "endlinecolor": "#2a3f5f",
             "gridcolor": "white",
             "linecolor": "white",
             "minorgridcolor": "white",
             "startlinecolor": "#2a3f5f"
            },
            "type": "carpet"
           }
          ],
          "choropleth": [
           {
            "colorbar": {
             "outlinewidth": 0,
             "ticks": ""
            },
            "type": "choropleth"
           }
          ],
          "contour": [
           {
            "colorbar": {
             "outlinewidth": 0,
             "ticks": ""
            },
            "colorscale": [
             [
              0,
              "#0d0887"
             ],
             [
              0.1111111111111111,
              "#46039f"
             ],
             [
              0.2222222222222222,
              "#7201a8"
             ],
             [
              0.3333333333333333,
              "#9c179e"
             ],
             [
              0.4444444444444444,
              "#bd3786"
             ],
             [
              0.5555555555555556,
              "#d8576b"
             ],
             [
              0.6666666666666666,
              "#ed7953"
             ],
             [
              0.7777777777777778,
              "#fb9f3a"
             ],
             [
              0.8888888888888888,
              "#fdca26"
             ],
             [
              1,
              "#f0f921"
             ]
            ],
            "type": "contour"
           }
          ],
          "contourcarpet": [
           {
            "colorbar": {
             "outlinewidth": 0,
             "ticks": ""
            },
            "type": "contourcarpet"
           }
          ],
          "heatmap": [
           {
            "colorbar": {
             "outlinewidth": 0,
             "ticks": ""
            },
            "colorscale": [
             [
              0,
              "#0d0887"
             ],
             [
              0.1111111111111111,
              "#46039f"
             ],
             [
              0.2222222222222222,
              "#7201a8"
             ],
             [
              0.3333333333333333,
              "#9c179e"
             ],
             [
              0.4444444444444444,
              "#bd3786"
             ],
             [
              0.5555555555555556,
              "#d8576b"
             ],
             [
              0.6666666666666666,
              "#ed7953"
             ],
             [
              0.7777777777777778,
              "#fb9f3a"
             ],
             [
              0.8888888888888888,
              "#fdca26"
             ],
             [
              1,
              "#f0f921"
             ]
            ],
            "type": "heatmap"
           }
          ],
          "heatmapgl": [
           {
            "colorbar": {
             "outlinewidth": 0,
             "ticks": ""
            },
            "colorscale": [
             [
              0,
              "#0d0887"
             ],
             [
              0.1111111111111111,
              "#46039f"
             ],
             [
              0.2222222222222222,
              "#7201a8"
             ],
             [
              0.3333333333333333,
              "#9c179e"
             ],
             [
              0.4444444444444444,
              "#bd3786"
             ],
             [
              0.5555555555555556,
              "#d8576b"
             ],
             [
              0.6666666666666666,
              "#ed7953"
             ],
             [
              0.7777777777777778,
              "#fb9f3a"
             ],
             [
              0.8888888888888888,
              "#fdca26"
             ],
             [
              1,
              "#f0f921"
             ]
            ],
            "type": "heatmapgl"
           }
          ],
          "histogram": [
           {
            "marker": {
             "pattern": {
              "fillmode": "overlay",
              "size": 10,
              "solidity": 0.2
             }
            },
            "type": "histogram"
           }
          ],
          "histogram2d": [
           {
            "colorbar": {
             "outlinewidth": 0,
             "ticks": ""
            },
            "colorscale": [
             [
              0,
              "#0d0887"
             ],
             [
              0.1111111111111111,
              "#46039f"
             ],
             [
              0.2222222222222222,
              "#7201a8"
             ],
             [
              0.3333333333333333,
              "#9c179e"
             ],
             [
              0.4444444444444444,
              "#bd3786"
             ],
             [
              0.5555555555555556,
              "#d8576b"
             ],
             [
              0.6666666666666666,
              "#ed7953"
             ],
             [
              0.7777777777777778,
              "#fb9f3a"
             ],
             [
              0.8888888888888888,
              "#fdca26"
             ],
             [
              1,
              "#f0f921"
             ]
            ],
            "type": "histogram2d"
           }
          ],
          "histogram2dcontour": [
           {
            "colorbar": {
             "outlinewidth": 0,
             "ticks": ""
            },
            "colorscale": [
             [
              0,
              "#0d0887"
             ],
             [
              0.1111111111111111,
              "#46039f"
             ],
             [
              0.2222222222222222,
              "#7201a8"
             ],
             [
              0.3333333333333333,
              "#9c179e"
             ],
             [
              0.4444444444444444,
              "#bd3786"
             ],
             [
              0.5555555555555556,
              "#d8576b"
             ],
             [
              0.6666666666666666,
              "#ed7953"
             ],
             [
              0.7777777777777778,
              "#fb9f3a"
             ],
             [
              0.8888888888888888,
              "#fdca26"
             ],
             [
              1,
              "#f0f921"
             ]
            ],
            "type": "histogram2dcontour"
           }
          ],
          "mesh3d": [
           {
            "colorbar": {
             "outlinewidth": 0,
             "ticks": ""
            },
            "type": "mesh3d"
           }
          ],
          "parcoords": [
           {
            "line": {
             "colorbar": {
              "outlinewidth": 0,
              "ticks": ""
             }
            },
            "type": "parcoords"
           }
          ],
          "pie": [
           {
            "automargin": true,
            "type": "pie"
           }
          ],
          "scatter": [
           {
            "fillpattern": {
             "fillmode": "overlay",
             "size": 10,
             "solidity": 0.2
            },
            "type": "scatter"
           }
          ],
          "scatter3d": [
           {
            "line": {
             "colorbar": {
              "outlinewidth": 0,
              "ticks": ""
             }
            },
            "marker": {
             "colorbar": {
              "outlinewidth": 0,
              "ticks": ""
             }
            },
            "type": "scatter3d"
           }
          ],
          "scattercarpet": [
           {
            "marker": {
             "colorbar": {
              "outlinewidth": 0,
              "ticks": ""
             }
            },
            "type": "scattercarpet"
           }
          ],
          "scattergeo": [
           {
            "marker": {
             "colorbar": {
              "outlinewidth": 0,
              "ticks": ""
             }
            },
            "type": "scattergeo"
           }
          ],
          "scattergl": [
           {
            "marker": {
             "colorbar": {
              "outlinewidth": 0,
              "ticks": ""
             }
            },
            "type": "scattergl"
           }
          ],
          "scattermapbox": [
           {
            "marker": {
             "colorbar": {
              "outlinewidth": 0,
              "ticks": ""
             }
            },
            "type": "scattermapbox"
           }
          ],
          "scatterpolar": [
           {
            "marker": {
             "colorbar": {
              "outlinewidth": 0,
              "ticks": ""
             }
            },
            "type": "scatterpolar"
           }
          ],
          "scatterpolargl": [
           {
            "marker": {
             "colorbar": {
              "outlinewidth": 0,
              "ticks": ""
             }
            },
            "type": "scatterpolargl"
           }
          ],
          "scatterternary": [
           {
            "marker": {
             "colorbar": {
              "outlinewidth": 0,
              "ticks": ""
             }
            },
            "type": "scatterternary"
           }
          ],
          "surface": [
           {
            "colorbar": {
             "outlinewidth": 0,
             "ticks": ""
            },
            "colorscale": [
             [
              0,
              "#0d0887"
             ],
             [
              0.1111111111111111,
              "#46039f"
             ],
             [
              0.2222222222222222,
              "#7201a8"
             ],
             [
              0.3333333333333333,
              "#9c179e"
             ],
             [
              0.4444444444444444,
              "#bd3786"
             ],
             [
              0.5555555555555556,
              "#d8576b"
             ],
             [
              0.6666666666666666,
              "#ed7953"
             ],
             [
              0.7777777777777778,
              "#fb9f3a"
             ],
             [
              0.8888888888888888,
              "#fdca26"
             ],
             [
              1,
              "#f0f921"
             ]
            ],
            "type": "surface"
           }
          ],
          "table": [
           {
            "cells": {
             "fill": {
              "color": "#EBF0F8"
             },
             "line": {
              "color": "white"
             }
            },
            "header": {
             "fill": {
              "color": "#C8D4E3"
             },
             "line": {
              "color": "white"
             }
            },
            "type": "table"
           }
          ]
         },
         "layout": {
          "annotationdefaults": {
           "arrowcolor": "#2a3f5f",
           "arrowhead": 0,
           "arrowwidth": 1
          },
          "autotypenumbers": "strict",
          "coloraxis": {
           "colorbar": {
            "outlinewidth": 0,
            "ticks": ""
           }
          },
          "colorscale": {
           "diverging": [
            [
             0,
             "#8e0152"
            ],
            [
             0.1,
             "#c51b7d"
            ],
            [
             0.2,
             "#de77ae"
            ],
            [
             0.3,
             "#f1b6da"
            ],
            [
             0.4,
             "#fde0ef"
            ],
            [
             0.5,
             "#f7f7f7"
            ],
            [
             0.6,
             "#e6f5d0"
            ],
            [
             0.7,
             "#b8e186"
            ],
            [
             0.8,
             "#7fbc41"
            ],
            [
             0.9,
             "#4d9221"
            ],
            [
             1,
             "#276419"
            ]
           ],
           "sequential": [
            [
             0,
             "#0d0887"
            ],
            [
             0.1111111111111111,
             "#46039f"
            ],
            [
             0.2222222222222222,
             "#7201a8"
            ],
            [
             0.3333333333333333,
             "#9c179e"
            ],
            [
             0.4444444444444444,
             "#bd3786"
            ],
            [
             0.5555555555555556,
             "#d8576b"
            ],
            [
             0.6666666666666666,
             "#ed7953"
            ],
            [
             0.7777777777777778,
             "#fb9f3a"
            ],
            [
             0.8888888888888888,
             "#fdca26"
            ],
            [
             1,
             "#f0f921"
            ]
           ],
           "sequentialminus": [
            [
             0,
             "#0d0887"
            ],
            [
             0.1111111111111111,
             "#46039f"
            ],
            [
             0.2222222222222222,
             "#7201a8"
            ],
            [
             0.3333333333333333,
             "#9c179e"
            ],
            [
             0.4444444444444444,
             "#bd3786"
            ],
            [
             0.5555555555555556,
             "#d8576b"
            ],
            [
             0.6666666666666666,
             "#ed7953"
            ],
            [
             0.7777777777777778,
             "#fb9f3a"
            ],
            [
             0.8888888888888888,
             "#fdca26"
            ],
            [
             1,
             "#f0f921"
            ]
           ]
          },
          "colorway": [
           "#636efa",
           "#EF553B",
           "#00cc96",
           "#ab63fa",
           "#FFA15A",
           "#19d3f3",
           "#FF6692",
           "#B6E880",
           "#FF97FF",
           "#FECB52"
          ],
          "font": {
           "color": "#2a3f5f"
          },
          "geo": {
           "bgcolor": "white",
           "lakecolor": "white",
           "landcolor": "#E5ECF6",
           "showlakes": true,
           "showland": true,
           "subunitcolor": "white"
          },
          "hoverlabel": {
           "align": "left"
          },
          "hovermode": "closest",
          "mapbox": {
           "style": "light"
          },
          "paper_bgcolor": "white",
          "plot_bgcolor": "#E5ECF6",
          "polar": {
           "angularaxis": {
            "gridcolor": "white",
            "linecolor": "white",
            "ticks": ""
           },
           "bgcolor": "#E5ECF6",
           "radialaxis": {
            "gridcolor": "white",
            "linecolor": "white",
            "ticks": ""
           }
          },
          "scene": {
           "xaxis": {
            "backgroundcolor": "#E5ECF6",
            "gridcolor": "white",
            "gridwidth": 2,
            "linecolor": "white",
            "showbackground": true,
            "ticks": "",
            "zerolinecolor": "white"
           },
           "yaxis": {
            "backgroundcolor": "#E5ECF6",
            "gridcolor": "white",
            "gridwidth": 2,
            "linecolor": "white",
            "showbackground": true,
            "ticks": "",
            "zerolinecolor": "white"
           },
           "zaxis": {
            "backgroundcolor": "#E5ECF6",
            "gridcolor": "white",
            "gridwidth": 2,
            "linecolor": "white",
            "showbackground": true,
            "ticks": "",
            "zerolinecolor": "white"
           }
          },
          "shapedefaults": {
           "line": {
            "color": "#2a3f5f"
           }
          },
          "ternary": {
           "aaxis": {
            "gridcolor": "white",
            "linecolor": "white",
            "ticks": ""
           },
           "baxis": {
            "gridcolor": "white",
            "linecolor": "white",
            "ticks": ""
           },
           "bgcolor": "#E5ECF6",
           "caxis": {
            "gridcolor": "white",
            "linecolor": "white",
            "ticks": ""
           }
          },
          "title": {
           "x": 0.05
          },
          "xaxis": {
           "automargin": true,
           "gridcolor": "white",
           "linecolor": "white",
           "ticks": "",
           "title": {
            "standoff": 15
           },
           "zerolinecolor": "white",
           "zerolinewidth": 2
          },
          "yaxis": {
           "automargin": true,
           "gridcolor": "white",
           "linecolor": "white",
           "ticks": "",
           "title": {
            "standoff": 15
           },
           "zerolinecolor": "white",
           "zerolinewidth": 2
          }
         }
        },
        "title": {
         "text": "Optimization History Plot"
        },
        "xaxis": {
         "title": {
          "text": "Trial"
         }
        },
        "yaxis": {
         "title": {
          "text": "Objective Value"
         }
        }
       }
      }
     },
     "metadata": {},
     "output_type": "display_data"
    }
   ],
   "source": [
    "plot_optimization_history(study)"
   ]
  },
  {
   "cell_type": "code",
   "execution_count": 14,
   "metadata": {},
   "outputs": [
    {
     "data": {
      "application/vnd.plotly.v1+json": {
       "config": {
        "plotlyServerURL": "https://plot.ly"
       },
       "data": [
        {
         "cliponaxis": false,
         "hovertemplate": [
          "initialization (CategoricalDistribution): 0.029757079081829316<extra></extra>",
          "n_layers (IntDistribution): 0.031982375574336815<extra></extra>",
          "dropout (FloatDistribution): 0.054256091260352246<extra></extra>",
          "pct_start (FloatDistribution): 0.09978162589363979<extra></extra>",
          "batch_size (IntDistribution): 0.11166454230383364<extra></extra>",
          "learning_rate (FloatDistribution): 0.13129108424981825<extra></extra>",
          "weight_decay (FloatDistribution): 0.14612350330237175<extra></extra>",
          "input_layer_size (IntDistribution): 0.39514369833381824<extra></extra>"
         ],
         "name": "Objective Value",
         "orientation": "h",
         "text": [
          "0.03",
          "0.03",
          "0.05",
          "0.10",
          "0.11",
          "0.13",
          "0.15",
          "0.40"
         ],
         "textposition": "outside",
         "type": "bar",
         "x": [
          0.029757079081829316,
          0.031982375574336815,
          0.054256091260352246,
          0.09978162589363979,
          0.11166454230383364,
          0.13129108424981825,
          0.14612350330237175,
          0.39514369833381824
         ],
         "y": [
          "initialization",
          "n_layers",
          "dropout",
          "pct_start",
          "batch_size",
          "learning_rate",
          "weight_decay",
          "input_layer_size"
         ]
        }
       ],
       "layout": {
        "template": {
         "data": {
          "bar": [
           {
            "error_x": {
             "color": "#2a3f5f"
            },
            "error_y": {
             "color": "#2a3f5f"
            },
            "marker": {
             "line": {
              "color": "#E5ECF6",
              "width": 0.5
             },
             "pattern": {
              "fillmode": "overlay",
              "size": 10,
              "solidity": 0.2
             }
            },
            "type": "bar"
           }
          ],
          "barpolar": [
           {
            "marker": {
             "line": {
              "color": "#E5ECF6",
              "width": 0.5
             },
             "pattern": {
              "fillmode": "overlay",
              "size": 10,
              "solidity": 0.2
             }
            },
            "type": "barpolar"
           }
          ],
          "carpet": [
           {
            "aaxis": {
             "endlinecolor": "#2a3f5f",
             "gridcolor": "white",
             "linecolor": "white",
             "minorgridcolor": "white",
             "startlinecolor": "#2a3f5f"
            },
            "baxis": {
             "endlinecolor": "#2a3f5f",
             "gridcolor": "white",
             "linecolor": "white",
             "minorgridcolor": "white",
             "startlinecolor": "#2a3f5f"
            },
            "type": "carpet"
           }
          ],
          "choropleth": [
           {
            "colorbar": {
             "outlinewidth": 0,
             "ticks": ""
            },
            "type": "choropleth"
           }
          ],
          "contour": [
           {
            "colorbar": {
             "outlinewidth": 0,
             "ticks": ""
            },
            "colorscale": [
             [
              0,
              "#0d0887"
             ],
             [
              0.1111111111111111,
              "#46039f"
             ],
             [
              0.2222222222222222,
              "#7201a8"
             ],
             [
              0.3333333333333333,
              "#9c179e"
             ],
             [
              0.4444444444444444,
              "#bd3786"
             ],
             [
              0.5555555555555556,
              "#d8576b"
             ],
             [
              0.6666666666666666,
              "#ed7953"
             ],
             [
              0.7777777777777778,
              "#fb9f3a"
             ],
             [
              0.8888888888888888,
              "#fdca26"
             ],
             [
              1,
              "#f0f921"
             ]
            ],
            "type": "contour"
           }
          ],
          "contourcarpet": [
           {
            "colorbar": {
             "outlinewidth": 0,
             "ticks": ""
            },
            "type": "contourcarpet"
           }
          ],
          "heatmap": [
           {
            "colorbar": {
             "outlinewidth": 0,
             "ticks": ""
            },
            "colorscale": [
             [
              0,
              "#0d0887"
             ],
             [
              0.1111111111111111,
              "#46039f"
             ],
             [
              0.2222222222222222,
              "#7201a8"
             ],
             [
              0.3333333333333333,
              "#9c179e"
             ],
             [
              0.4444444444444444,
              "#bd3786"
             ],
             [
              0.5555555555555556,
              "#d8576b"
             ],
             [
              0.6666666666666666,
              "#ed7953"
             ],
             [
              0.7777777777777778,
              "#fb9f3a"
             ],
             [
              0.8888888888888888,
              "#fdca26"
             ],
             [
              1,
              "#f0f921"
             ]
            ],
            "type": "heatmap"
           }
          ],
          "heatmapgl": [
           {
            "colorbar": {
             "outlinewidth": 0,
             "ticks": ""
            },
            "colorscale": [
             [
              0,
              "#0d0887"
             ],
             [
              0.1111111111111111,
              "#46039f"
             ],
             [
              0.2222222222222222,
              "#7201a8"
             ],
             [
              0.3333333333333333,
              "#9c179e"
             ],
             [
              0.4444444444444444,
              "#bd3786"
             ],
             [
              0.5555555555555556,
              "#d8576b"
             ],
             [
              0.6666666666666666,
              "#ed7953"
             ],
             [
              0.7777777777777778,
              "#fb9f3a"
             ],
             [
              0.8888888888888888,
              "#fdca26"
             ],
             [
              1,
              "#f0f921"
             ]
            ],
            "type": "heatmapgl"
           }
          ],
          "histogram": [
           {
            "marker": {
             "pattern": {
              "fillmode": "overlay",
              "size": 10,
              "solidity": 0.2
             }
            },
            "type": "histogram"
           }
          ],
          "histogram2d": [
           {
            "colorbar": {
             "outlinewidth": 0,
             "ticks": ""
            },
            "colorscale": [
             [
              0,
              "#0d0887"
             ],
             [
              0.1111111111111111,
              "#46039f"
             ],
             [
              0.2222222222222222,
              "#7201a8"
             ],
             [
              0.3333333333333333,
              "#9c179e"
             ],
             [
              0.4444444444444444,
              "#bd3786"
             ],
             [
              0.5555555555555556,
              "#d8576b"
             ],
             [
              0.6666666666666666,
              "#ed7953"
             ],
             [
              0.7777777777777778,
              "#fb9f3a"
             ],
             [
              0.8888888888888888,
              "#fdca26"
             ],
             [
              1,
              "#f0f921"
             ]
            ],
            "type": "histogram2d"
           }
          ],
          "histogram2dcontour": [
           {
            "colorbar": {
             "outlinewidth": 0,
             "ticks": ""
            },
            "colorscale": [
             [
              0,
              "#0d0887"
             ],
             [
              0.1111111111111111,
              "#46039f"
             ],
             [
              0.2222222222222222,
              "#7201a8"
             ],
             [
              0.3333333333333333,
              "#9c179e"
             ],
             [
              0.4444444444444444,
              "#bd3786"
             ],
             [
              0.5555555555555556,
              "#d8576b"
             ],
             [
              0.6666666666666666,
              "#ed7953"
             ],
             [
              0.7777777777777778,
              "#fb9f3a"
             ],
             [
              0.8888888888888888,
              "#fdca26"
             ],
             [
              1,
              "#f0f921"
             ]
            ],
            "type": "histogram2dcontour"
           }
          ],
          "mesh3d": [
           {
            "colorbar": {
             "outlinewidth": 0,
             "ticks": ""
            },
            "type": "mesh3d"
           }
          ],
          "parcoords": [
           {
            "line": {
             "colorbar": {
              "outlinewidth": 0,
              "ticks": ""
             }
            },
            "type": "parcoords"
           }
          ],
          "pie": [
           {
            "automargin": true,
            "type": "pie"
           }
          ],
          "scatter": [
           {
            "fillpattern": {
             "fillmode": "overlay",
             "size": 10,
             "solidity": 0.2
            },
            "type": "scatter"
           }
          ],
          "scatter3d": [
           {
            "line": {
             "colorbar": {
              "outlinewidth": 0,
              "ticks": ""
             }
            },
            "marker": {
             "colorbar": {
              "outlinewidth": 0,
              "ticks": ""
             }
            },
            "type": "scatter3d"
           }
          ],
          "scattercarpet": [
           {
            "marker": {
             "colorbar": {
              "outlinewidth": 0,
              "ticks": ""
             }
            },
            "type": "scattercarpet"
           }
          ],
          "scattergeo": [
           {
            "marker": {
             "colorbar": {
              "outlinewidth": 0,
              "ticks": ""
             }
            },
            "type": "scattergeo"
           }
          ],
          "scattergl": [
           {
            "marker": {
             "colorbar": {
              "outlinewidth": 0,
              "ticks": ""
             }
            },
            "type": "scattergl"
           }
          ],
          "scattermapbox": [
           {
            "marker": {
             "colorbar": {
              "outlinewidth": 0,
              "ticks": ""
             }
            },
            "type": "scattermapbox"
           }
          ],
          "scatterpolar": [
           {
            "marker": {
             "colorbar": {
              "outlinewidth": 0,
              "ticks": ""
             }
            },
            "type": "scatterpolar"
           }
          ],
          "scatterpolargl": [
           {
            "marker": {
             "colorbar": {
              "outlinewidth": 0,
              "ticks": ""
             }
            },
            "type": "scatterpolargl"
           }
          ],
          "scatterternary": [
           {
            "marker": {
             "colorbar": {
              "outlinewidth": 0,
              "ticks": ""
             }
            },
            "type": "scatterternary"
           }
          ],
          "surface": [
           {
            "colorbar": {
             "outlinewidth": 0,
             "ticks": ""
            },
            "colorscale": [
             [
              0,
              "#0d0887"
             ],
             [
              0.1111111111111111,
              "#46039f"
             ],
             [
              0.2222222222222222,
              "#7201a8"
             ],
             [
              0.3333333333333333,
              "#9c179e"
             ],
             [
              0.4444444444444444,
              "#bd3786"
             ],
             [
              0.5555555555555556,
              "#d8576b"
             ],
             [
              0.6666666666666666,
              "#ed7953"
             ],
             [
              0.7777777777777778,
              "#fb9f3a"
             ],
             [
              0.8888888888888888,
              "#fdca26"
             ],
             [
              1,
              "#f0f921"
             ]
            ],
            "type": "surface"
           }
          ],
          "table": [
           {
            "cells": {
             "fill": {
              "color": "#EBF0F8"
             },
             "line": {
              "color": "white"
             }
            },
            "header": {
             "fill": {
              "color": "#C8D4E3"
             },
             "line": {
              "color": "white"
             }
            },
            "type": "table"
           }
          ]
         },
         "layout": {
          "annotationdefaults": {
           "arrowcolor": "#2a3f5f",
           "arrowhead": 0,
           "arrowwidth": 1
          },
          "autotypenumbers": "strict",
          "coloraxis": {
           "colorbar": {
            "outlinewidth": 0,
            "ticks": ""
           }
          },
          "colorscale": {
           "diverging": [
            [
             0,
             "#8e0152"
            ],
            [
             0.1,
             "#c51b7d"
            ],
            [
             0.2,
             "#de77ae"
            ],
            [
             0.3,
             "#f1b6da"
            ],
            [
             0.4,
             "#fde0ef"
            ],
            [
             0.5,
             "#f7f7f7"
            ],
            [
             0.6,
             "#e6f5d0"
            ],
            [
             0.7,
             "#b8e186"
            ],
            [
             0.8,
             "#7fbc41"
            ],
            [
             0.9,
             "#4d9221"
            ],
            [
             1,
             "#276419"
            ]
           ],
           "sequential": [
            [
             0,
             "#0d0887"
            ],
            [
             0.1111111111111111,
             "#46039f"
            ],
            [
             0.2222222222222222,
             "#7201a8"
            ],
            [
             0.3333333333333333,
             "#9c179e"
            ],
            [
             0.4444444444444444,
             "#bd3786"
            ],
            [
             0.5555555555555556,
             "#d8576b"
            ],
            [
             0.6666666666666666,
             "#ed7953"
            ],
            [
             0.7777777777777778,
             "#fb9f3a"
            ],
            [
             0.8888888888888888,
             "#fdca26"
            ],
            [
             1,
             "#f0f921"
            ]
           ],
           "sequentialminus": [
            [
             0,
             "#0d0887"
            ],
            [
             0.1111111111111111,
             "#46039f"
            ],
            [
             0.2222222222222222,
             "#7201a8"
            ],
            [
             0.3333333333333333,
             "#9c179e"
            ],
            [
             0.4444444444444444,
             "#bd3786"
            ],
            [
             0.5555555555555556,
             "#d8576b"
            ],
            [
             0.6666666666666666,
             "#ed7953"
            ],
            [
             0.7777777777777778,
             "#fb9f3a"
            ],
            [
             0.8888888888888888,
             "#fdca26"
            ],
            [
             1,
             "#f0f921"
            ]
           ]
          },
          "colorway": [
           "#636efa",
           "#EF553B",
           "#00cc96",
           "#ab63fa",
           "#FFA15A",
           "#19d3f3",
           "#FF6692",
           "#B6E880",
           "#FF97FF",
           "#FECB52"
          ],
          "font": {
           "color": "#2a3f5f"
          },
          "geo": {
           "bgcolor": "white",
           "lakecolor": "white",
           "landcolor": "#E5ECF6",
           "showlakes": true,
           "showland": true,
           "subunitcolor": "white"
          },
          "hoverlabel": {
           "align": "left"
          },
          "hovermode": "closest",
          "mapbox": {
           "style": "light"
          },
          "paper_bgcolor": "white",
          "plot_bgcolor": "#E5ECF6",
          "polar": {
           "angularaxis": {
            "gridcolor": "white",
            "linecolor": "white",
            "ticks": ""
           },
           "bgcolor": "#E5ECF6",
           "radialaxis": {
            "gridcolor": "white",
            "linecolor": "white",
            "ticks": ""
           }
          },
          "scene": {
           "xaxis": {
            "backgroundcolor": "#E5ECF6",
            "gridcolor": "white",
            "gridwidth": 2,
            "linecolor": "white",
            "showbackground": true,
            "ticks": "",
            "zerolinecolor": "white"
           },
           "yaxis": {
            "backgroundcolor": "#E5ECF6",
            "gridcolor": "white",
            "gridwidth": 2,
            "linecolor": "white",
            "showbackground": true,
            "ticks": "",
            "zerolinecolor": "white"
           },
           "zaxis": {
            "backgroundcolor": "#E5ECF6",
            "gridcolor": "white",
            "gridwidth": 2,
            "linecolor": "white",
            "showbackground": true,
            "ticks": "",
            "zerolinecolor": "white"
           }
          },
          "shapedefaults": {
           "line": {
            "color": "#2a3f5f"
           }
          },
          "ternary": {
           "aaxis": {
            "gridcolor": "white",
            "linecolor": "white",
            "ticks": ""
           },
           "baxis": {
            "gridcolor": "white",
            "linecolor": "white",
            "ticks": ""
           },
           "bgcolor": "#E5ECF6",
           "caxis": {
            "gridcolor": "white",
            "linecolor": "white",
            "ticks": ""
           }
          },
          "title": {
           "x": 0.05
          },
          "xaxis": {
           "automargin": true,
           "gridcolor": "white",
           "linecolor": "white",
           "ticks": "",
           "title": {
            "standoff": 15
           },
           "zerolinecolor": "white",
           "zerolinewidth": 2
          },
          "yaxis": {
           "automargin": true,
           "gridcolor": "white",
           "linecolor": "white",
           "ticks": "",
           "title": {
            "standoff": 15
           },
           "zerolinecolor": "white",
           "zerolinewidth": 2
          }
         }
        },
        "title": {
         "text": "Hyperparameter Importances"
        },
        "xaxis": {
         "title": {
          "text": "Hyperparameter Importance"
         }
        },
        "yaxis": {
         "title": {
          "text": "Hyperparameter"
         }
        }
       }
      }
     },
     "metadata": {},
     "output_type": "display_data"
    }
   ],
   "source": [
    "plot_param_importances(study)"
   ]
  },
  {
   "cell_type": "code",
   "execution_count": 15,
   "metadata": {},
   "outputs": [
    {
     "data": {
      "application/vnd.plotly.v1+json": {
       "config": {
        "plotlyServerURL": "https://plot.ly"
       },
       "data": [
        {
         "marker": {
          "color": [
           0,
           1,
           2,
           3,
           4,
           5,
           6,
           7,
           8,
           9,
           10,
           11,
           13,
           14,
           15,
           16,
           17,
           18,
           19,
           20,
           21,
           22,
           23,
           24,
           25,
           26,
           27,
           28,
           29,
           30,
           31,
           32,
           33,
           35,
           36,
           37,
           38,
           39,
           40,
           41,
           42,
           43,
           44,
           45,
           46,
           47,
           48,
           49,
           50,
           51,
           52,
           53,
           54,
           55,
           56,
           57,
           58,
           59,
           60,
           61,
           62,
           63,
           64,
           65,
           66,
           67,
           68
          ],
          "colorbar": {
           "title": {
            "text": "Trial"
           },
           "x": 1,
           "xpad": 40
          },
          "colorscale": [
           [
            0,
            "rgb(247,251,255)"
           ],
           [
            0.125,
            "rgb(222,235,247)"
           ],
           [
            0.25,
            "rgb(198,219,239)"
           ],
           [
            0.375,
            "rgb(158,202,225)"
           ],
           [
            0.5,
            "rgb(107,174,214)"
           ],
           [
            0.625,
            "rgb(66,146,198)"
           ],
           [
            0.75,
            "rgb(33,113,181)"
           ],
           [
            0.875,
            "rgb(8,81,156)"
           ],
           [
            1,
            "rgb(8,48,107)"
           ]
          ],
          "line": {
           "color": "Grey",
           "width": 0.5
          },
          "showscale": true
         },
         "mode": "markers",
         "name": "Feasible Trial",
         "showlegend": false,
         "type": "scatter",
         "x": [
          128,
          256,
          640,
          960,
          576,
          384,
          640,
          192,
          448,
          640,
          320,
          320,
          384,
          256,
          896,
          512,
          128,
          256,
          768,
          320,
          448,
          256,
          256,
          192,
          128,
          192,
          192,
          384,
          256,
          128,
          768,
          128,
          192,
          128,
          320,
          192,
          256,
          448,
          128,
          1024,
          512,
          192,
          256,
          192,
          384,
          320,
          192,
          192,
          128,
          128,
          320,
          256,
          192,
          192,
          256,
          192,
          128,
          768,
          192,
          704,
          320,
          256,
          384,
          320,
          192,
          128,
          320
         ],
         "xaxis": "x",
         "y": [
          0.5025147598595889,
          0.4775920801280374,
          0.4871136747275055,
          0.4850628069818499,
          0.5374427041622423,
          0.4912448682809691,
          0.49449377202463474,
          0.4828814878075324,
          0.5259792646507768,
          0.48332426217814756,
          0.47620877930434763,
          0.47666496452934937,
          0.4844211395022119,
          0.4726267103251171,
          0.49211028676867236,
          0.4777915648966965,
          0.5045584744095137,
          0.5061204593824047,
          0.5666841074420229,
          0.4741230363777974,
          0.47764985865162357,
          0.4733393213761891,
          0.4712697677389329,
          0.47294680009875895,
          0.47304288517026133,
          0.4743693442015783,
          0.473609292901656,
          0.49134196198964697,
          0.4761629075847808,
          0.49796957590260693,
          0.5373239810227822,
          0.47166162667549016,
          0.47257163225797416,
          0.4863981929271433,
          0.47644342560858943,
          0.48381588310268314,
          0.48949003875934294,
          0.5017343804548184,
          0.48596183635557183,
          0.48765609110051267,
          0.4921504011992329,
          0.4766315357642081,
          0.476381544382385,
          0.47209142980820734,
          0.48578031321328596,
          0.5185569118717497,
          0.46958720522256653,
          0.5265951993619511,
          0.4777052642342549,
          0.48676199356671057,
          0.47521955291032025,
          0.4753863768270866,
          0.47150568920402175,
          0.4737538692798731,
          0.4757643820247859,
          0.4792675316545565,
          0.48502958606566293,
          0.48509647026019476,
          0.4864623978055295,
          0.4915980090374895,
          0.4705950402237142,
          0.4765771901924862,
          0.4801881973782116,
          0.4948352602937306,
          0.4828101087460384,
          0.4997126963928893,
          0.49469393633709463
         ],
         "yaxis": "y"
        },
        {
         "marker": {
          "color": [
           0,
           1,
           2,
           3,
           4,
           5,
           6,
           7,
           8,
           9,
           10,
           11,
           13,
           14,
           15,
           16,
           17,
           18,
           19,
           20,
           21,
           22,
           23,
           24,
           25,
           26,
           27,
           28,
           29,
           30,
           31,
           32,
           33,
           35,
           36,
           37,
           38,
           39,
           40,
           41,
           42,
           43,
           44,
           45,
           46,
           47,
           48,
           49,
           50,
           51,
           52,
           53,
           54,
           55,
           56,
           57,
           58,
           59,
           60,
           61,
           62,
           63,
           64,
           65,
           66,
           67,
           68
          ],
          "colorbar": {
           "title": {
            "text": "Trial"
           },
           "x": 1,
           "xpad": 40
          },
          "colorscale": [
           [
            0,
            "rgb(247,251,255)"
           ],
           [
            0.125,
            "rgb(222,235,247)"
           ],
           [
            0.25,
            "rgb(198,219,239)"
           ],
           [
            0.375,
            "rgb(158,202,225)"
           ],
           [
            0.5,
            "rgb(107,174,214)"
           ],
           [
            0.625,
            "rgb(66,146,198)"
           ],
           [
            0.75,
            "rgb(33,113,181)"
           ],
           [
            0.875,
            "rgb(8,81,156)"
           ],
           [
            1,
            "rgb(8,48,107)"
           ]
          ],
          "line": {
           "color": "Grey",
           "width": 0.5
          },
          "showscale": false
         },
         "mode": "markers",
         "name": "Feasible Trial",
         "showlegend": false,
         "type": "scatter",
         "x": [
          0.3,
          0.2,
          0.1,
          0.25,
          0.3,
          0.15000000000000002,
          0.05,
          0.2,
          0.2,
          0.2,
          0,
          0.05,
          0,
          0,
          0,
          0.05,
          0,
          0.1,
          0.1,
          0,
          0.05,
          0,
          0,
          0.05,
          0.05,
          0.1,
          0.05,
          0,
          0.15000000000000002,
          0.05,
          0.1,
          0.05,
          0,
          0,
          0,
          0,
          0.05,
          0.3,
          0.1,
          0.25,
          0,
          0.05,
          0.05,
          0.15000000000000002,
          0.15000000000000002,
          0.15000000000000002,
          0.2,
          0.2,
          0.25,
          0.2,
          0.2,
          0.25,
          0.15000000000000002,
          0.15000000000000002,
          0.15000000000000002,
          0.2,
          0.15000000000000002,
          0.1,
          0.15000000000000002,
          0.1,
          0.25,
          0.25,
          0.3,
          0.25,
          0.2,
          0.25,
          0.2
         ],
         "xaxis": "x2",
         "y": [
          0.5025147598595889,
          0.4775920801280374,
          0.4871136747275055,
          0.4850628069818499,
          0.5374427041622423,
          0.4912448682809691,
          0.49449377202463474,
          0.4828814878075324,
          0.5259792646507768,
          0.48332426217814756,
          0.47620877930434763,
          0.47666496452934937,
          0.4844211395022119,
          0.4726267103251171,
          0.49211028676867236,
          0.4777915648966965,
          0.5045584744095137,
          0.5061204593824047,
          0.5666841074420229,
          0.4741230363777974,
          0.47764985865162357,
          0.4733393213761891,
          0.4712697677389329,
          0.47294680009875895,
          0.47304288517026133,
          0.4743693442015783,
          0.473609292901656,
          0.49134196198964697,
          0.4761629075847808,
          0.49796957590260693,
          0.5373239810227822,
          0.47166162667549016,
          0.47257163225797416,
          0.4863981929271433,
          0.47644342560858943,
          0.48381588310268314,
          0.48949003875934294,
          0.5017343804548184,
          0.48596183635557183,
          0.48765609110051267,
          0.4921504011992329,
          0.4766315357642081,
          0.476381544382385,
          0.47209142980820734,
          0.48578031321328596,
          0.5185569118717497,
          0.46958720522256653,
          0.5265951993619511,
          0.4777052642342549,
          0.48676199356671057,
          0.47521955291032025,
          0.4753863768270866,
          0.47150568920402175,
          0.4737538692798731,
          0.4757643820247859,
          0.4792675316545565,
          0.48502958606566293,
          0.48509647026019476,
          0.4864623978055295,
          0.4915980090374895,
          0.4705950402237142,
          0.4765771901924862,
          0.4801881973782116,
          0.4948352602937306,
          0.4828101087460384,
          0.4997126963928893,
          0.49469393633709463
         ],
         "yaxis": "y2"
        },
        {
         "marker": {
          "color": [
           0,
           1,
           2,
           3,
           4,
           5,
           6,
           7,
           8,
           9,
           10,
           11,
           13,
           14,
           15,
           16,
           17,
           18,
           19,
           20,
           21,
           22,
           23,
           24,
           25,
           26,
           27,
           28,
           29,
           30,
           31,
           32,
           33,
           35,
           36,
           37,
           38,
           39,
           40,
           41,
           42,
           43,
           44,
           45,
           46,
           47,
           48,
           49,
           50,
           51,
           52,
           53,
           54,
           55,
           56,
           57,
           58,
           59,
           60,
           61,
           62,
           63,
           64,
           65,
           66,
           67,
           68
          ],
          "colorbar": {
           "title": {
            "text": "Trial"
           },
           "x": 1,
           "xpad": 40
          },
          "colorscale": [
           [
            0,
            "rgb(247,251,255)"
           ],
           [
            0.125,
            "rgb(222,235,247)"
           ],
           [
            0.25,
            "rgb(198,219,239)"
           ],
           [
            0.375,
            "rgb(158,202,225)"
           ],
           [
            0.5,
            "rgb(107,174,214)"
           ],
           [
            0.625,
            "rgb(66,146,198)"
           ],
           [
            0.75,
            "rgb(33,113,181)"
           ],
           [
            0.875,
            "rgb(8,81,156)"
           ],
           [
            1,
            "rgb(8,48,107)"
           ]
          ],
          "line": {
           "color": "Grey",
           "width": 0.5
          },
          "showscale": false
         },
         "mode": "markers",
         "name": "Feasible Trial",
         "showlegend": false,
         "type": "scatter",
         "x": [
          "xavier_uniform",
          "kaiming_uniform",
          "kaiming_uniform",
          "xavier_uniform",
          "xavier_uniform",
          "kaiming_uniform",
          "xavier_uniform",
          "kaiming_uniform",
          "kaiming_uniform",
          "xavier_uniform",
          "kaiming_uniform",
          "kaiming_uniform",
          "kaiming_uniform",
          "kaiming_uniform",
          "kaiming_uniform",
          "kaiming_uniform",
          "kaiming_uniform",
          "kaiming_uniform",
          "kaiming_uniform",
          "kaiming_uniform",
          "kaiming_uniform",
          "kaiming_uniform",
          "kaiming_uniform",
          "kaiming_uniform",
          "kaiming_uniform",
          "kaiming_uniform",
          "xavier_uniform",
          "kaiming_uniform",
          "kaiming_uniform",
          "xavier_uniform",
          "kaiming_uniform",
          "kaiming_uniform",
          "kaiming_uniform",
          "kaiming_uniform",
          "kaiming_uniform",
          "kaiming_uniform",
          "xavier_uniform",
          "kaiming_uniform",
          "kaiming_uniform",
          "xavier_uniform",
          "kaiming_uniform",
          "kaiming_uniform",
          "kaiming_uniform",
          "kaiming_uniform",
          "kaiming_uniform",
          "kaiming_uniform",
          "kaiming_uniform",
          "xavier_uniform",
          "kaiming_uniform",
          "kaiming_uniform",
          "kaiming_uniform",
          "kaiming_uniform",
          "kaiming_uniform",
          "kaiming_uniform",
          "kaiming_uniform",
          "kaiming_uniform",
          "kaiming_uniform",
          "kaiming_uniform",
          "kaiming_uniform",
          "kaiming_uniform",
          "kaiming_uniform",
          "kaiming_uniform",
          "kaiming_uniform",
          "kaiming_uniform",
          "kaiming_uniform",
          "kaiming_uniform",
          "xavier_uniform"
         ],
         "xaxis": "x3",
         "y": [
          0.5025147598595889,
          0.4775920801280374,
          0.4871136747275055,
          0.4850628069818499,
          0.5374427041622423,
          0.4912448682809691,
          0.49449377202463474,
          0.4828814878075324,
          0.5259792646507768,
          0.48332426217814756,
          0.47620877930434763,
          0.47666496452934937,
          0.4844211395022119,
          0.4726267103251171,
          0.49211028676867236,
          0.4777915648966965,
          0.5045584744095137,
          0.5061204593824047,
          0.5666841074420229,
          0.4741230363777974,
          0.47764985865162357,
          0.4733393213761891,
          0.4712697677389329,
          0.47294680009875895,
          0.47304288517026133,
          0.4743693442015783,
          0.473609292901656,
          0.49134196198964697,
          0.4761629075847808,
          0.49796957590260693,
          0.5373239810227822,
          0.47166162667549016,
          0.47257163225797416,
          0.4863981929271433,
          0.47644342560858943,
          0.48381588310268314,
          0.48949003875934294,
          0.5017343804548184,
          0.48596183635557183,
          0.48765609110051267,
          0.4921504011992329,
          0.4766315357642081,
          0.476381544382385,
          0.47209142980820734,
          0.48578031321328596,
          0.5185569118717497,
          0.46958720522256653,
          0.5265951993619511,
          0.4777052642342549,
          0.48676199356671057,
          0.47521955291032025,
          0.4753863768270866,
          0.47150568920402175,
          0.4737538692798731,
          0.4757643820247859,
          0.4792675316545565,
          0.48502958606566293,
          0.48509647026019476,
          0.4864623978055295,
          0.4915980090374895,
          0.4705950402237142,
          0.4765771901924862,
          0.4801881973782116,
          0.4948352602937306,
          0.4828101087460384,
          0.4997126963928893,
          0.49469393633709463
         ],
         "yaxis": "y3"
        },
        {
         "marker": {
          "color": [
           0,
           1,
           2,
           3,
           4,
           5,
           6,
           7,
           8,
           9,
           10,
           11,
           13,
           14,
           15,
           16,
           17,
           18,
           19,
           20,
           21,
           22,
           23,
           24,
           25,
           26,
           27,
           28,
           29,
           30,
           31,
           32,
           33,
           35,
           36,
           37,
           38,
           39,
           40,
           41,
           42,
           43,
           44,
           45,
           46,
           47,
           48,
           49,
           50,
           51,
           52,
           53,
           54,
           55,
           56,
           57,
           58,
           59,
           60,
           61,
           62,
           63,
           64,
           65,
           66,
           67,
           68
          ],
          "colorbar": {
           "title": {
            "text": "Trial"
           },
           "x": 1,
           "xpad": 40
          },
          "colorscale": [
           [
            0,
            "rgb(247,251,255)"
           ],
           [
            0.125,
            "rgb(222,235,247)"
           ],
           [
            0.25,
            "rgb(198,219,239)"
           ],
           [
            0.375,
            "rgb(158,202,225)"
           ],
           [
            0.5,
            "rgb(107,174,214)"
           ],
           [
            0.625,
            "rgb(66,146,198)"
           ],
           [
            0.75,
            "rgb(33,113,181)"
           ],
           [
            0.875,
            "rgb(8,81,156)"
           ],
           [
            1,
            "rgb(8,48,107)"
           ]
          ],
          "line": {
           "color": "Grey",
           "width": 0.5
          },
          "showscale": false
         },
         "mode": "markers",
         "name": "Feasible Trial",
         "showlegend": false,
         "type": "scatter",
         "x": [
          768,
          896,
          832,
          640,
          704,
          512,
          1024,
          832,
          256,
          960,
          448,
          448,
          448,
          320,
          320,
          384,
          576,
          256,
          384,
          576,
          576,
          512,
          576,
          704,
          768,
          704,
          640,
          704,
          320,
          768,
          640,
          768,
          896,
          896,
          960,
          832,
          896,
          768,
          1024,
          832,
          960,
          704,
          704,
          832,
          896,
          832,
          896,
          896,
          1024,
          832,
          768,
          960,
          896,
          896,
          960,
          896,
          832,
          768,
          512,
          960,
          832,
          832,
          896,
          640,
          832,
          768,
          896
         ],
         "xaxis": "x4",
         "y": [
          0.5025147598595889,
          0.4775920801280374,
          0.4871136747275055,
          0.4850628069818499,
          0.5374427041622423,
          0.4912448682809691,
          0.49449377202463474,
          0.4828814878075324,
          0.5259792646507768,
          0.48332426217814756,
          0.47620877930434763,
          0.47666496452934937,
          0.4844211395022119,
          0.4726267103251171,
          0.49211028676867236,
          0.4777915648966965,
          0.5045584744095137,
          0.5061204593824047,
          0.5666841074420229,
          0.4741230363777974,
          0.47764985865162357,
          0.4733393213761891,
          0.4712697677389329,
          0.47294680009875895,
          0.47304288517026133,
          0.4743693442015783,
          0.473609292901656,
          0.49134196198964697,
          0.4761629075847808,
          0.49796957590260693,
          0.5373239810227822,
          0.47166162667549016,
          0.47257163225797416,
          0.4863981929271433,
          0.47644342560858943,
          0.48381588310268314,
          0.48949003875934294,
          0.5017343804548184,
          0.48596183635557183,
          0.48765609110051267,
          0.4921504011992329,
          0.4766315357642081,
          0.476381544382385,
          0.47209142980820734,
          0.48578031321328596,
          0.5185569118717497,
          0.46958720522256653,
          0.5265951993619511,
          0.4777052642342549,
          0.48676199356671057,
          0.47521955291032025,
          0.4753863768270866,
          0.47150568920402175,
          0.4737538692798731,
          0.4757643820247859,
          0.4792675316545565,
          0.48502958606566293,
          0.48509647026019476,
          0.4864623978055295,
          0.4915980090374895,
          0.4705950402237142,
          0.4765771901924862,
          0.4801881973782116,
          0.4948352602937306,
          0.4828101087460384,
          0.4997126963928893,
          0.49469393633709463
         ],
         "yaxis": "y4"
        },
        {
         "marker": {
          "color": [
           0,
           1,
           2,
           3,
           4,
           5,
           6,
           7,
           8,
           9,
           10,
           11,
           13,
           14,
           15,
           16,
           17,
           18,
           19,
           20,
           21,
           22,
           23,
           24,
           25,
           26,
           27,
           28,
           29,
           30,
           31,
           32,
           33,
           35,
           36,
           37,
           38,
           39,
           40,
           41,
           42,
           43,
           44,
           45,
           46,
           47,
           48,
           49,
           50,
           51,
           52,
           53,
           54,
           55,
           56,
           57,
           58,
           59,
           60,
           61,
           62,
           63,
           64,
           65,
           66,
           67,
           68
          ],
          "colorbar": {
           "title": {
            "text": "Trial"
           },
           "x": 1,
           "xpad": 40
          },
          "colorscale": [
           [
            0,
            "rgb(247,251,255)"
           ],
           [
            0.125,
            "rgb(222,235,247)"
           ],
           [
            0.25,
            "rgb(198,219,239)"
           ],
           [
            0.375,
            "rgb(158,202,225)"
           ],
           [
            0.5,
            "rgb(107,174,214)"
           ],
           [
            0.625,
            "rgb(66,146,198)"
           ],
           [
            0.75,
            "rgb(33,113,181)"
           ],
           [
            0.875,
            "rgb(8,81,156)"
           ],
           [
            1,
            "rgb(8,48,107)"
           ]
          ],
          "line": {
           "color": "Grey",
           "width": 0.5
          },
          "showscale": false
         },
         "mode": "markers",
         "name": "Feasible Trial",
         "showlegend": false,
         "type": "scatter",
         "x": [
          0.052937161443938854,
          0.003271321103084536,
          0.008755283183740576,
          0.010586098308179108,
          0.00023752839554495674,
          0.006285580955556962,
          0.019653151693336725,
          0.004007514649314395,
          0.00030746862346870465,
          0.023420714171973903,
          0.0010659662649140042,
          0.0007595275038627696,
          0.0008844957182296028,
          0.0008241553714797261,
          0.001131205275953424,
          0.001474794155741286,
          0.0001442452115607116,
          0.00040093845921203124,
          0.0001000885380974247,
          0.0015048233834453056,
          0.002470343520016397,
          0.0006040102072295626,
          0.0005196486433006148,
          0.0005133107926776066,
          0.0004520833375928884,
          0.0003087218738473404,
          0.0002238913103291649,
          0.0005593122774341221,
          0.0018946490991167816,
          0.05102648833184422,
          0.00015562119320079355,
          0.0005165268034362369,
          0.0006793389184670114,
          0.0036655761073840477,
          0.0007053955238107929,
          0.0023808508803050033,
          0.00037575849906376396,
          0.00022852741656579438,
          0.005993259823724935,
          0.0014618240537748334,
          0.0009626264856367429,
          0.00046289199161248315,
          0.0005649095947552994,
          0.00029928720275320005,
          0.0002718854130223005,
          0.00014972297477417831,
          0.000809012039564196,
          0.00020787768141832108,
          0.0003151050974042069,
          0.0010345083242358762,
          0.0007293040310271726,
          0.0007816954754997816,
          0.0013845996907212478,
          0.0011145603919456447,
          0.001368006869545558,
          0.0020820622030404516,
          0.00037564561531723317,
          0.0006348395677871001,
          0.0031528801342049027,
          0.001762451899296789,
          0.0012243948589619762,
          0.0011673480032715357,
          0.0008932110781692991,
          0.00044641127388975237,
          0.002752183303503408,
          0.004982785424107155,
          0.013113673404986634
         ],
         "xaxis": "x5",
         "y": [
          0.5025147598595889,
          0.4775920801280374,
          0.4871136747275055,
          0.4850628069818499,
          0.5374427041622423,
          0.4912448682809691,
          0.49449377202463474,
          0.4828814878075324,
          0.5259792646507768,
          0.48332426217814756,
          0.47620877930434763,
          0.47666496452934937,
          0.4844211395022119,
          0.4726267103251171,
          0.49211028676867236,
          0.4777915648966965,
          0.5045584744095137,
          0.5061204593824047,
          0.5666841074420229,
          0.4741230363777974,
          0.47764985865162357,
          0.4733393213761891,
          0.4712697677389329,
          0.47294680009875895,
          0.47304288517026133,
          0.4743693442015783,
          0.473609292901656,
          0.49134196198964697,
          0.4761629075847808,
          0.49796957590260693,
          0.5373239810227822,
          0.47166162667549016,
          0.47257163225797416,
          0.4863981929271433,
          0.47644342560858943,
          0.48381588310268314,
          0.48949003875934294,
          0.5017343804548184,
          0.48596183635557183,
          0.48765609110051267,
          0.4921504011992329,
          0.4766315357642081,
          0.476381544382385,
          0.47209142980820734,
          0.48578031321328596,
          0.5185569118717497,
          0.46958720522256653,
          0.5265951993619511,
          0.4777052642342549,
          0.48676199356671057,
          0.47521955291032025,
          0.4753863768270866,
          0.47150568920402175,
          0.4737538692798731,
          0.4757643820247859,
          0.4792675316545565,
          0.48502958606566293,
          0.48509647026019476,
          0.4864623978055295,
          0.4915980090374895,
          0.4705950402237142,
          0.4765771901924862,
          0.4801881973782116,
          0.4948352602937306,
          0.4828101087460384,
          0.4997126963928893,
          0.49469393633709463
         ],
         "yaxis": "y5"
        },
        {
         "marker": {
          "color": [
           0,
           1,
           2,
           3,
           4,
           5,
           6,
           7,
           8,
           9,
           10,
           11,
           13,
           14,
           15,
           16,
           17,
           18,
           19,
           20,
           21,
           22,
           23,
           24,
           25,
           26,
           27,
           28,
           29,
           30,
           31,
           32,
           33,
           35,
           36,
           37,
           38,
           39,
           40,
           41,
           42,
           43,
           44,
           45,
           46,
           47,
           48,
           49,
           50,
           51,
           52,
           53,
           54,
           55,
           56,
           57,
           58,
           59,
           60,
           61,
           62,
           63,
           64,
           65,
           66,
           67,
           68
          ],
          "colorbar": {
           "title": {
            "text": "Trial"
           },
           "x": 1,
           "xpad": 40
          },
          "colorscale": [
           [
            0,
            "rgb(247,251,255)"
           ],
           [
            0.125,
            "rgb(222,235,247)"
           ],
           [
            0.25,
            "rgb(198,219,239)"
           ],
           [
            0.375,
            "rgb(158,202,225)"
           ],
           [
            0.5,
            "rgb(107,174,214)"
           ],
           [
            0.625,
            "rgb(66,146,198)"
           ],
           [
            0.75,
            "rgb(33,113,181)"
           ],
           [
            0.875,
            "rgb(8,81,156)"
           ],
           [
            1,
            "rgb(8,48,107)"
           ]
          ],
          "line": {
           "color": "Grey",
           "width": 0.5
          },
          "showscale": false
         },
         "mode": "markers",
         "name": "Feasible Trial",
         "showlegend": false,
         "type": "scatter",
         "x": [
          5,
          2,
          3,
          4,
          4,
          4,
          4,
          2,
          3,
          5,
          2,
          2,
          2,
          3,
          3,
          3,
          2,
          3,
          2,
          3,
          3,
          3,
          3,
          3,
          4,
          3,
          4,
          3,
          3,
          5,
          4,
          4,
          5,
          5,
          5,
          5,
          4,
          4,
          5,
          4,
          4,
          3,
          3,
          3,
          3,
          4,
          3,
          5,
          2,
          3,
          3,
          3,
          3,
          3,
          3,
          2,
          3,
          3,
          4,
          3,
          2,
          2,
          2,
          2,
          4,
          2,
          3
         ],
         "xaxis": "x6",
         "y": [
          0.5025147598595889,
          0.4775920801280374,
          0.4871136747275055,
          0.4850628069818499,
          0.5374427041622423,
          0.4912448682809691,
          0.49449377202463474,
          0.4828814878075324,
          0.5259792646507768,
          0.48332426217814756,
          0.47620877930434763,
          0.47666496452934937,
          0.4844211395022119,
          0.4726267103251171,
          0.49211028676867236,
          0.4777915648966965,
          0.5045584744095137,
          0.5061204593824047,
          0.5666841074420229,
          0.4741230363777974,
          0.47764985865162357,
          0.4733393213761891,
          0.4712697677389329,
          0.47294680009875895,
          0.47304288517026133,
          0.4743693442015783,
          0.473609292901656,
          0.49134196198964697,
          0.4761629075847808,
          0.49796957590260693,
          0.5373239810227822,
          0.47166162667549016,
          0.47257163225797416,
          0.4863981929271433,
          0.47644342560858943,
          0.48381588310268314,
          0.48949003875934294,
          0.5017343804548184,
          0.48596183635557183,
          0.48765609110051267,
          0.4921504011992329,
          0.4766315357642081,
          0.476381544382385,
          0.47209142980820734,
          0.48578031321328596,
          0.5185569118717497,
          0.46958720522256653,
          0.5265951993619511,
          0.4777052642342549,
          0.48676199356671057,
          0.47521955291032025,
          0.4753863768270866,
          0.47150568920402175,
          0.4737538692798731,
          0.4757643820247859,
          0.4792675316545565,
          0.48502958606566293,
          0.48509647026019476,
          0.4864623978055295,
          0.4915980090374895,
          0.4705950402237142,
          0.4765771901924862,
          0.4801881973782116,
          0.4948352602937306,
          0.4828101087460384,
          0.4997126963928893,
          0.49469393633709463
         ],
         "yaxis": "y6"
        },
        {
         "marker": {
          "color": [
           0,
           1,
           2,
           3,
           4,
           5,
           6,
           7,
           8,
           9,
           10,
           11,
           13,
           14,
           15,
           16,
           17,
           18,
           19,
           20,
           21,
           22,
           23,
           24,
           25,
           26,
           27,
           28,
           29,
           30,
           31,
           32,
           33,
           35,
           36,
           37,
           38,
           39,
           40,
           41,
           42,
           43,
           44,
           45,
           46,
           47,
           48,
           49,
           50,
           51,
           52,
           53,
           54,
           55,
           56,
           57,
           58,
           59,
           60,
           61,
           62,
           63,
           64,
           65,
           66,
           67,
           68
          ],
          "colorbar": {
           "title": {
            "text": "Trial"
           },
           "x": 1,
           "xpad": 40
          },
          "colorscale": [
           [
            0,
            "rgb(247,251,255)"
           ],
           [
            0.125,
            "rgb(222,235,247)"
           ],
           [
            0.25,
            "rgb(198,219,239)"
           ],
           [
            0.375,
            "rgb(158,202,225)"
           ],
           [
            0.5,
            "rgb(107,174,214)"
           ],
           [
            0.625,
            "rgb(66,146,198)"
           ],
           [
            0.75,
            "rgb(33,113,181)"
           ],
           [
            0.875,
            "rgb(8,81,156)"
           ],
           [
            1,
            "rgb(8,48,107)"
           ]
          ],
          "line": {
           "color": "Grey",
           "width": 0.5
          },
          "showscale": false
         },
         "mode": "markers",
         "name": "Feasible Trial",
         "showlegend": false,
         "type": "scatter",
         "x": [
          0.3,
          0.2,
          0.3,
          0.1,
          0.1,
          0.35000000000000003,
          0.15000000000000002,
          0.4,
          0.2,
          0.35000000000000003,
          0.05,
          0.05,
          0.05,
          0.05,
          0.1,
          0.05,
          0.15000000000000002,
          0.15000000000000002,
          0.25,
          0.05,
          0.1,
          0.05,
          0.05,
          0.1,
          0.1,
          0.15000000000000002,
          0.1,
          0.2,
          0.05,
          0.25,
          0.15000000000000002,
          0.1,
          0.1,
          0.05,
          0.1,
          0.1,
          0.15000000000000002,
          0.05,
          0.2,
          0.1,
          0.3,
          0.1,
          0.15000000000000002,
          0.1,
          0.05,
          0.1,
          0.05,
          0.4,
          0.05,
          0.15000000000000002,
          0.1,
          0.05,
          0.05,
          0.05,
          0.05,
          0.1,
          0.05,
          0.1,
          0.05,
          0.35000000000000003,
          0.2,
          0.2,
          0.25,
          0.3,
          0.15000000000000002,
          0.05,
          0.1
         ],
         "xaxis": "x7",
         "y": [
          0.5025147598595889,
          0.4775920801280374,
          0.4871136747275055,
          0.4850628069818499,
          0.5374427041622423,
          0.4912448682809691,
          0.49449377202463474,
          0.4828814878075324,
          0.5259792646507768,
          0.48332426217814756,
          0.47620877930434763,
          0.47666496452934937,
          0.4844211395022119,
          0.4726267103251171,
          0.49211028676867236,
          0.4777915648966965,
          0.5045584744095137,
          0.5061204593824047,
          0.5666841074420229,
          0.4741230363777974,
          0.47764985865162357,
          0.4733393213761891,
          0.4712697677389329,
          0.47294680009875895,
          0.47304288517026133,
          0.4743693442015783,
          0.473609292901656,
          0.49134196198964697,
          0.4761629075847808,
          0.49796957590260693,
          0.5373239810227822,
          0.47166162667549016,
          0.47257163225797416,
          0.4863981929271433,
          0.47644342560858943,
          0.48381588310268314,
          0.48949003875934294,
          0.5017343804548184,
          0.48596183635557183,
          0.48765609110051267,
          0.4921504011992329,
          0.4766315357642081,
          0.476381544382385,
          0.47209142980820734,
          0.48578031321328596,
          0.5185569118717497,
          0.46958720522256653,
          0.5265951993619511,
          0.4777052642342549,
          0.48676199356671057,
          0.47521955291032025,
          0.4753863768270866,
          0.47150568920402175,
          0.4737538692798731,
          0.4757643820247859,
          0.4792675316545565,
          0.48502958606566293,
          0.48509647026019476,
          0.4864623978055295,
          0.4915980090374895,
          0.4705950402237142,
          0.4765771901924862,
          0.4801881973782116,
          0.4948352602937306,
          0.4828101087460384,
          0.4997126963928893,
          0.49469393633709463
         ],
         "yaxis": "y7"
        },
        {
         "marker": {
          "color": [
           0,
           1,
           2,
           3,
           4,
           5,
           6,
           7,
           8,
           9,
           10,
           11,
           13,
           14,
           15,
           16,
           17,
           18,
           19,
           20,
           21,
           22,
           23,
           24,
           25,
           26,
           27,
           28,
           29,
           30,
           31,
           32,
           33,
           35,
           36,
           37,
           38,
           39,
           40,
           41,
           42,
           43,
           44,
           45,
           46,
           47,
           48,
           49,
           50,
           51,
           52,
           53,
           54,
           55,
           56,
           57,
           58,
           59,
           60,
           61,
           62,
           63,
           64,
           65,
           66,
           67,
           68
          ],
          "colorbar": {
           "title": {
            "text": "Trial"
           },
           "x": 1,
           "xpad": 40
          },
          "colorscale": [
           [
            0,
            "rgb(247,251,255)"
           ],
           [
            0.125,
            "rgb(222,235,247)"
           ],
           [
            0.25,
            "rgb(198,219,239)"
           ],
           [
            0.375,
            "rgb(158,202,225)"
           ],
           [
            0.5,
            "rgb(107,174,214)"
           ],
           [
            0.625,
            "rgb(66,146,198)"
           ],
           [
            0.75,
            "rgb(33,113,181)"
           ],
           [
            0.875,
            "rgb(8,81,156)"
           ],
           [
            1,
            "rgb(8,48,107)"
           ]
          ],
          "line": {
           "color": "Grey",
           "width": 0.5
          },
          "showscale": false
         },
         "mode": "markers",
         "name": "Feasible Trial",
         "showlegend": false,
         "type": "scatter",
         "x": [
          0.000003082179872160046,
          0.0001726796346662302,
          0.0008634134026889849,
          0.00003324268339099172,
          0.000010595270032098308,
          0.00000136521150704781,
          0.0007493878607361296,
          0.000060951262955505514,
          0.00006203713592924357,
          0.000019566639918046414,
          0.0003369500305577144,
          0.0002357207445360379,
          0.00021630954876939067,
          0.0002537743245063422,
          0.00037789916795743475,
          0.0001048819358965351,
          0.0005006056787151941,
          0.00000730945264444659,
          0.00012191206211560778,
          0.000382057332135046,
          0.00006049555074353679,
          0.00037128744451311657,
          0.0004521061374272936,
          0.0009270736736283165,
          0.0007134805475277853,
          0.000722291273744037,
          0.0009749298846428358,
          0.0001244681839868106,
          0.0005112332448758637,
          0.00021922475877516159,
          0.000004241119981271017,
          0.000585646972231973,
          0.00048487866590154365,
          0.00015716086281750797,
          0.0002714508518422319,
          0.0005482059652901758,
          0.000033150260772094036,
          0.00008452210755078469,
          0.0001685959315477826,
          0.0005859136563393484,
          0.0003443009283164747,
          0.0009490814984622676,
          0.000487385524376861,
          0.0007217941294373245,
          0.00027932009130474144,
          0.0000011384656901482111,
          0.0006460125913056128,
          0.000679896160799987,
          0.0005029396600247243,
          0.000015235445651968735,
          0.0003945922633250775,
          0.000297110106626065,
          0.00020456659173781176,
          0.0007503365166754153,
          0.0001912347948610687,
          0.0004385121218466816,
          0.000047650845835618925,
          0.0006319853777329677,
          0.0000017899587589498387,
          0.00031909898243539787,
          0.0007748496489739778,
          0.0007267517532206444,
          0.0008356230562664779,
          0.00042188181309682656,
          0.0006081234556868771,
          0.0009511157723558561,
          0.00021802356263517057
         ],
         "xaxis": "x8",
         "y": [
          0.5025147598595889,
          0.4775920801280374,
          0.4871136747275055,
          0.4850628069818499,
          0.5374427041622423,
          0.4912448682809691,
          0.49449377202463474,
          0.4828814878075324,
          0.5259792646507768,
          0.48332426217814756,
          0.47620877930434763,
          0.47666496452934937,
          0.4844211395022119,
          0.4726267103251171,
          0.49211028676867236,
          0.4777915648966965,
          0.5045584744095137,
          0.5061204593824047,
          0.5666841074420229,
          0.4741230363777974,
          0.47764985865162357,
          0.4733393213761891,
          0.4712697677389329,
          0.47294680009875895,
          0.47304288517026133,
          0.4743693442015783,
          0.473609292901656,
          0.49134196198964697,
          0.4761629075847808,
          0.49796957590260693,
          0.5373239810227822,
          0.47166162667549016,
          0.47257163225797416,
          0.4863981929271433,
          0.47644342560858943,
          0.48381588310268314,
          0.48949003875934294,
          0.5017343804548184,
          0.48596183635557183,
          0.48765609110051267,
          0.4921504011992329,
          0.4766315357642081,
          0.476381544382385,
          0.47209142980820734,
          0.48578031321328596,
          0.5185569118717497,
          0.46958720522256653,
          0.5265951993619511,
          0.4777052642342549,
          0.48676199356671057,
          0.47521955291032025,
          0.4753863768270866,
          0.47150568920402175,
          0.4737538692798731,
          0.4757643820247859,
          0.4792675316545565,
          0.48502958606566293,
          0.48509647026019476,
          0.4864623978055295,
          0.4915980090374895,
          0.4705950402237142,
          0.4765771901924862,
          0.4801881973782116,
          0.4948352602937306,
          0.4828101087460384,
          0.4997126963928893,
          0.49469393633709463
         ],
         "yaxis": "y8"
        }
       ],
       "layout": {
        "template": {
         "data": {
          "bar": [
           {
            "error_x": {
             "color": "#2a3f5f"
            },
            "error_y": {
             "color": "#2a3f5f"
            },
            "marker": {
             "line": {
              "color": "#E5ECF6",
              "width": 0.5
             },
             "pattern": {
              "fillmode": "overlay",
              "size": 10,
              "solidity": 0.2
             }
            },
            "type": "bar"
           }
          ],
          "barpolar": [
           {
            "marker": {
             "line": {
              "color": "#E5ECF6",
              "width": 0.5
             },
             "pattern": {
              "fillmode": "overlay",
              "size": 10,
              "solidity": 0.2
             }
            },
            "type": "barpolar"
           }
          ],
          "carpet": [
           {
            "aaxis": {
             "endlinecolor": "#2a3f5f",
             "gridcolor": "white",
             "linecolor": "white",
             "minorgridcolor": "white",
             "startlinecolor": "#2a3f5f"
            },
            "baxis": {
             "endlinecolor": "#2a3f5f",
             "gridcolor": "white",
             "linecolor": "white",
             "minorgridcolor": "white",
             "startlinecolor": "#2a3f5f"
            },
            "type": "carpet"
           }
          ],
          "choropleth": [
           {
            "colorbar": {
             "outlinewidth": 0,
             "ticks": ""
            },
            "type": "choropleth"
           }
          ],
          "contour": [
           {
            "colorbar": {
             "outlinewidth": 0,
             "ticks": ""
            },
            "colorscale": [
             [
              0,
              "#0d0887"
             ],
             [
              0.1111111111111111,
              "#46039f"
             ],
             [
              0.2222222222222222,
              "#7201a8"
             ],
             [
              0.3333333333333333,
              "#9c179e"
             ],
             [
              0.4444444444444444,
              "#bd3786"
             ],
             [
              0.5555555555555556,
              "#d8576b"
             ],
             [
              0.6666666666666666,
              "#ed7953"
             ],
             [
              0.7777777777777778,
              "#fb9f3a"
             ],
             [
              0.8888888888888888,
              "#fdca26"
             ],
             [
              1,
              "#f0f921"
             ]
            ],
            "type": "contour"
           }
          ],
          "contourcarpet": [
           {
            "colorbar": {
             "outlinewidth": 0,
             "ticks": ""
            },
            "type": "contourcarpet"
           }
          ],
          "heatmap": [
           {
            "colorbar": {
             "outlinewidth": 0,
             "ticks": ""
            },
            "colorscale": [
             [
              0,
              "#0d0887"
             ],
             [
              0.1111111111111111,
              "#46039f"
             ],
             [
              0.2222222222222222,
              "#7201a8"
             ],
             [
              0.3333333333333333,
              "#9c179e"
             ],
             [
              0.4444444444444444,
              "#bd3786"
             ],
             [
              0.5555555555555556,
              "#d8576b"
             ],
             [
              0.6666666666666666,
              "#ed7953"
             ],
             [
              0.7777777777777778,
              "#fb9f3a"
             ],
             [
              0.8888888888888888,
              "#fdca26"
             ],
             [
              1,
              "#f0f921"
             ]
            ],
            "type": "heatmap"
           }
          ],
          "heatmapgl": [
           {
            "colorbar": {
             "outlinewidth": 0,
             "ticks": ""
            },
            "colorscale": [
             [
              0,
              "#0d0887"
             ],
             [
              0.1111111111111111,
              "#46039f"
             ],
             [
              0.2222222222222222,
              "#7201a8"
             ],
             [
              0.3333333333333333,
              "#9c179e"
             ],
             [
              0.4444444444444444,
              "#bd3786"
             ],
             [
              0.5555555555555556,
              "#d8576b"
             ],
             [
              0.6666666666666666,
              "#ed7953"
             ],
             [
              0.7777777777777778,
              "#fb9f3a"
             ],
             [
              0.8888888888888888,
              "#fdca26"
             ],
             [
              1,
              "#f0f921"
             ]
            ],
            "type": "heatmapgl"
           }
          ],
          "histogram": [
           {
            "marker": {
             "pattern": {
              "fillmode": "overlay",
              "size": 10,
              "solidity": 0.2
             }
            },
            "type": "histogram"
           }
          ],
          "histogram2d": [
           {
            "colorbar": {
             "outlinewidth": 0,
             "ticks": ""
            },
            "colorscale": [
             [
              0,
              "#0d0887"
             ],
             [
              0.1111111111111111,
              "#46039f"
             ],
             [
              0.2222222222222222,
              "#7201a8"
             ],
             [
              0.3333333333333333,
              "#9c179e"
             ],
             [
              0.4444444444444444,
              "#bd3786"
             ],
             [
              0.5555555555555556,
              "#d8576b"
             ],
             [
              0.6666666666666666,
              "#ed7953"
             ],
             [
              0.7777777777777778,
              "#fb9f3a"
             ],
             [
              0.8888888888888888,
              "#fdca26"
             ],
             [
              1,
              "#f0f921"
             ]
            ],
            "type": "histogram2d"
           }
          ],
          "histogram2dcontour": [
           {
            "colorbar": {
             "outlinewidth": 0,
             "ticks": ""
            },
            "colorscale": [
             [
              0,
              "#0d0887"
             ],
             [
              0.1111111111111111,
              "#46039f"
             ],
             [
              0.2222222222222222,
              "#7201a8"
             ],
             [
              0.3333333333333333,
              "#9c179e"
             ],
             [
              0.4444444444444444,
              "#bd3786"
             ],
             [
              0.5555555555555556,
              "#d8576b"
             ],
             [
              0.6666666666666666,
              "#ed7953"
             ],
             [
              0.7777777777777778,
              "#fb9f3a"
             ],
             [
              0.8888888888888888,
              "#fdca26"
             ],
             [
              1,
              "#f0f921"
             ]
            ],
            "type": "histogram2dcontour"
           }
          ],
          "mesh3d": [
           {
            "colorbar": {
             "outlinewidth": 0,
             "ticks": ""
            },
            "type": "mesh3d"
           }
          ],
          "parcoords": [
           {
            "line": {
             "colorbar": {
              "outlinewidth": 0,
              "ticks": ""
             }
            },
            "type": "parcoords"
           }
          ],
          "pie": [
           {
            "automargin": true,
            "type": "pie"
           }
          ],
          "scatter": [
           {
            "fillpattern": {
             "fillmode": "overlay",
             "size": 10,
             "solidity": 0.2
            },
            "type": "scatter"
           }
          ],
          "scatter3d": [
           {
            "line": {
             "colorbar": {
              "outlinewidth": 0,
              "ticks": ""
             }
            },
            "marker": {
             "colorbar": {
              "outlinewidth": 0,
              "ticks": ""
             }
            },
            "type": "scatter3d"
           }
          ],
          "scattercarpet": [
           {
            "marker": {
             "colorbar": {
              "outlinewidth": 0,
              "ticks": ""
             }
            },
            "type": "scattercarpet"
           }
          ],
          "scattergeo": [
           {
            "marker": {
             "colorbar": {
              "outlinewidth": 0,
              "ticks": ""
             }
            },
            "type": "scattergeo"
           }
          ],
          "scattergl": [
           {
            "marker": {
             "colorbar": {
              "outlinewidth": 0,
              "ticks": ""
             }
            },
            "type": "scattergl"
           }
          ],
          "scattermapbox": [
           {
            "marker": {
             "colorbar": {
              "outlinewidth": 0,
              "ticks": ""
             }
            },
            "type": "scattermapbox"
           }
          ],
          "scatterpolar": [
           {
            "marker": {
             "colorbar": {
              "outlinewidth": 0,
              "ticks": ""
             }
            },
            "type": "scatterpolar"
           }
          ],
          "scatterpolargl": [
           {
            "marker": {
             "colorbar": {
              "outlinewidth": 0,
              "ticks": ""
             }
            },
            "type": "scatterpolargl"
           }
          ],
          "scatterternary": [
           {
            "marker": {
             "colorbar": {
              "outlinewidth": 0,
              "ticks": ""
             }
            },
            "type": "scatterternary"
           }
          ],
          "surface": [
           {
            "colorbar": {
             "outlinewidth": 0,
             "ticks": ""
            },
            "colorscale": [
             [
              0,
              "#0d0887"
             ],
             [
              0.1111111111111111,
              "#46039f"
             ],
             [
              0.2222222222222222,
              "#7201a8"
             ],
             [
              0.3333333333333333,
              "#9c179e"
             ],
             [
              0.4444444444444444,
              "#bd3786"
             ],
             [
              0.5555555555555556,
              "#d8576b"
             ],
             [
              0.6666666666666666,
              "#ed7953"
             ],
             [
              0.7777777777777778,
              "#fb9f3a"
             ],
             [
              0.8888888888888888,
              "#fdca26"
             ],
             [
              1,
              "#f0f921"
             ]
            ],
            "type": "surface"
           }
          ],
          "table": [
           {
            "cells": {
             "fill": {
              "color": "#EBF0F8"
             },
             "line": {
              "color": "white"
             }
            },
            "header": {
             "fill": {
              "color": "#C8D4E3"
             },
             "line": {
              "color": "white"
             }
            },
            "type": "table"
           }
          ]
         },
         "layout": {
          "annotationdefaults": {
           "arrowcolor": "#2a3f5f",
           "arrowhead": 0,
           "arrowwidth": 1
          },
          "autotypenumbers": "strict",
          "coloraxis": {
           "colorbar": {
            "outlinewidth": 0,
            "ticks": ""
           }
          },
          "colorscale": {
           "diverging": [
            [
             0,
             "#8e0152"
            ],
            [
             0.1,
             "#c51b7d"
            ],
            [
             0.2,
             "#de77ae"
            ],
            [
             0.3,
             "#f1b6da"
            ],
            [
             0.4,
             "#fde0ef"
            ],
            [
             0.5,
             "#f7f7f7"
            ],
            [
             0.6,
             "#e6f5d0"
            ],
            [
             0.7,
             "#b8e186"
            ],
            [
             0.8,
             "#7fbc41"
            ],
            [
             0.9,
             "#4d9221"
            ],
            [
             1,
             "#276419"
            ]
           ],
           "sequential": [
            [
             0,
             "#0d0887"
            ],
            [
             0.1111111111111111,
             "#46039f"
            ],
            [
             0.2222222222222222,
             "#7201a8"
            ],
            [
             0.3333333333333333,
             "#9c179e"
            ],
            [
             0.4444444444444444,
             "#bd3786"
            ],
            [
             0.5555555555555556,
             "#d8576b"
            ],
            [
             0.6666666666666666,
             "#ed7953"
            ],
            [
             0.7777777777777778,
             "#fb9f3a"
            ],
            [
             0.8888888888888888,
             "#fdca26"
            ],
            [
             1,
             "#f0f921"
            ]
           ],
           "sequentialminus": [
            [
             0,
             "#0d0887"
            ],
            [
             0.1111111111111111,
             "#46039f"
            ],
            [
             0.2222222222222222,
             "#7201a8"
            ],
            [
             0.3333333333333333,
             "#9c179e"
            ],
            [
             0.4444444444444444,
             "#bd3786"
            ],
            [
             0.5555555555555556,
             "#d8576b"
            ],
            [
             0.6666666666666666,
             "#ed7953"
            ],
            [
             0.7777777777777778,
             "#fb9f3a"
            ],
            [
             0.8888888888888888,
             "#fdca26"
            ],
            [
             1,
             "#f0f921"
            ]
           ]
          },
          "colorway": [
           "#636efa",
           "#EF553B",
           "#00cc96",
           "#ab63fa",
           "#FFA15A",
           "#19d3f3",
           "#FF6692",
           "#B6E880",
           "#FF97FF",
           "#FECB52"
          ],
          "font": {
           "color": "#2a3f5f"
          },
          "geo": {
           "bgcolor": "white",
           "lakecolor": "white",
           "landcolor": "#E5ECF6",
           "showlakes": true,
           "showland": true,
           "subunitcolor": "white"
          },
          "hoverlabel": {
           "align": "left"
          },
          "hovermode": "closest",
          "mapbox": {
           "style": "light"
          },
          "paper_bgcolor": "white",
          "plot_bgcolor": "#E5ECF6",
          "polar": {
           "angularaxis": {
            "gridcolor": "white",
            "linecolor": "white",
            "ticks": ""
           },
           "bgcolor": "#E5ECF6",
           "radialaxis": {
            "gridcolor": "white",
            "linecolor": "white",
            "ticks": ""
           }
          },
          "scene": {
           "xaxis": {
            "backgroundcolor": "#E5ECF6",
            "gridcolor": "white",
            "gridwidth": 2,
            "linecolor": "white",
            "showbackground": true,
            "ticks": "",
            "zerolinecolor": "white"
           },
           "yaxis": {
            "backgroundcolor": "#E5ECF6",
            "gridcolor": "white",
            "gridwidth": 2,
            "linecolor": "white",
            "showbackground": true,
            "ticks": "",
            "zerolinecolor": "white"
           },
           "zaxis": {
            "backgroundcolor": "#E5ECF6",
            "gridcolor": "white",
            "gridwidth": 2,
            "linecolor": "white",
            "showbackground": true,
            "ticks": "",
            "zerolinecolor": "white"
           }
          },
          "shapedefaults": {
           "line": {
            "color": "#2a3f5f"
           }
          },
          "ternary": {
           "aaxis": {
            "gridcolor": "white",
            "linecolor": "white",
            "ticks": ""
           },
           "baxis": {
            "gridcolor": "white",
            "linecolor": "white",
            "ticks": ""
           },
           "bgcolor": "#E5ECF6",
           "caxis": {
            "gridcolor": "white",
            "linecolor": "white",
            "ticks": ""
           }
          },
          "title": {
           "x": 0.05
          },
          "xaxis": {
           "automargin": true,
           "gridcolor": "white",
           "linecolor": "white",
           "ticks": "",
           "title": {
            "standoff": 15
           },
           "zerolinecolor": "white",
           "zerolinewidth": 2
          },
          "yaxis": {
           "automargin": true,
           "gridcolor": "white",
           "linecolor": "white",
           "ticks": "",
           "title": {
            "standoff": 15
           },
           "zerolinecolor": "white",
           "zerolinewidth": 2
          }
         }
        },
        "title": {
         "text": "Slice Plot"
        },
        "width": 2400,
        "xaxis": {
         "anchor": "y",
         "domain": [
          0,
          0.103125
         ],
         "title": {
          "text": "batch_size"
         }
        },
        "xaxis2": {
         "anchor": "y2",
         "domain": [
          0.128125,
          0.23124999999999998
         ],
         "title": {
          "text": "dropout"
         }
        },
        "xaxis3": {
         "anchor": "y3",
         "categoryarray": [
          "kaiming_uniform",
          "xavier_uniform"
         ],
         "categoryorder": "array",
         "domain": [
          0.25625,
          0.359375
         ],
         "title": {
          "text": "initialization"
         },
         "type": "category"
        },
        "xaxis4": {
         "anchor": "y4",
         "domain": [
          0.38437499999999997,
          0.48749999999999993
         ],
         "title": {
          "text": "input_layer_size"
         }
        },
        "xaxis5": {
         "anchor": "y5",
         "domain": [
          0.5125,
          0.615625
         ],
         "title": {
          "text": "learning_rate"
         },
         "type": "log"
        },
        "xaxis6": {
         "anchor": "y6",
         "domain": [
          0.640625,
          0.74375
         ],
         "title": {
          "text": "n_layers"
         }
        },
        "xaxis7": {
         "anchor": "y7",
         "domain": [
          0.76875,
          0.8718750000000001
         ],
         "title": {
          "text": "pct_start"
         }
        },
        "xaxis8": {
         "anchor": "y8",
         "domain": [
          0.8968750000000001,
          1
         ],
         "title": {
          "text": "weight_decay"
         },
         "type": "log"
        },
        "yaxis": {
         "anchor": "x",
         "domain": [
          0,
          1
         ],
         "title": {
          "text": "Objective Value"
         }
        },
        "yaxis2": {
         "anchor": "x2",
         "domain": [
          0,
          1
         ],
         "matches": "y",
         "showticklabels": false
        },
        "yaxis3": {
         "anchor": "x3",
         "domain": [
          0,
          1
         ],
         "matches": "y",
         "showticklabels": false
        },
        "yaxis4": {
         "anchor": "x4",
         "domain": [
          0,
          1
         ],
         "matches": "y",
         "showticklabels": false
        },
        "yaxis5": {
         "anchor": "x5",
         "domain": [
          0,
          1
         ],
         "matches": "y",
         "showticklabels": false
        },
        "yaxis6": {
         "anchor": "x6",
         "domain": [
          0,
          1
         ],
         "matches": "y",
         "showticklabels": false
        },
        "yaxis7": {
         "anchor": "x7",
         "domain": [
          0,
          1
         ],
         "matches": "y",
         "showticklabels": false
        },
        "yaxis8": {
         "anchor": "x8",
         "domain": [
          0,
          1
         ],
         "matches": "y",
         "showticklabels": false
        }
       }
      }
     },
     "metadata": {},
     "output_type": "display_data"
    }
   ],
   "source": [
    "plot_slice(study)"
   ]
  },
  {
   "cell_type": "code",
   "execution_count": 16,
   "metadata": {},
   "outputs": [
    {
     "data": {
      "application/vnd.plotly.v1+json": {
       "config": {
        "plotlyServerURL": "https://plot.ly"
       },
       "data": [
        {
         "mode": "lines",
         "name": "mlp",
         "type": "scatter",
         "x": [
          0.46958720522256653,
          0.47056798201266203,
          0.47154875880275754,
          0.4725295355928531,
          0.4735103123829486,
          0.4744910891730441,
          0.4754718659631396,
          0.4764526427532352,
          0.4774334195433307,
          0.4784141963334262,
          0.4793949731235217,
          0.48037574991361726,
          0.48135652670371276,
          0.48233730349380827,
          0.4833180802839038,
          0.48429885707399933,
          0.48527963386409484,
          0.48626041065419034,
          0.48724118744428585,
          0.4882219642343814,
          0.4892027410244769,
          0.4901835178145724,
          0.49116429460466793,
          0.4921450713947635,
          0.493125848184859,
          0.4941066249749545,
          0.49508740176505,
          0.49606817855514557,
          0.4970489553452411,
          0.4980297321353366,
          0.4990105089254321,
          0.49999128571552764,
          0.5009720625056231,
          0.5019528392957187,
          0.5029336160858142,
          0.5039143928759097,
          0.5048951696660052,
          0.5058759464561007,
          0.5068567232461962,
          0.5078375000362918,
          0.5088182768263873,
          0.5097990536164828,
          0.5107798304065784,
          0.5117606071966738,
          0.5127413839867694,
          0.5137221607768648,
          0.5147029375669604,
          0.515683714357056,
          0.5166644911471514,
          0.517645267937247,
          0.5186260447273425,
          0.519606821517438,
          0.5205875983075335,
          0.521568375097629,
          0.5225491518877246,
          0.5235299286778201,
          0.5245107054679156,
          0.5254914822580111,
          0.5264722590481066,
          0.5274530358382021,
          0.5284338126282977,
          0.5294145894183931,
          0.5303953662084887,
          0.5313761429985843,
          0.5323569197886797,
          0.5333376965787753,
          0.5343184733688708,
          0.5352992501589663,
          0.5362800269490618,
          0.5372608037391573,
          0.5382415805292529,
          0.5392223573193484,
          0.5402031341094439,
          0.5411839108995394,
          0.5421646876896349,
          0.5431454644797304,
          0.544126241269826,
          0.5451070180599215,
          0.546087794850017,
          0.5470685716401126,
          0.548049348430208,
          0.5490301252203036,
          0.550010902010399,
          0.5509916788004946,
          0.5519724555905902,
          0.5529532323806856,
          0.5539340091707812,
          0.5549147859608767,
          0.5558955627509722,
          0.5568763395410677,
          0.5578571163311632,
          0.5588378931212588,
          0.5598186699113543,
          0.5607994467014498,
          0.5617802234915453,
          0.5627610002816408,
          0.5637417770717363,
          0.5647225538618319,
          0.5657033306519273,
          0.5666841074420229
         ],
         "y": [
          0.014925373134328358,
          0.014925373134328358,
          0.05970149253731343,
          0.08955223880597014,
          0.16417910447761194,
          0.22388059701492538,
          0.2537313432835821,
          0.3283582089552239,
          0.373134328358209,
          0.43283582089552236,
          0.44776119402985076,
          0.4626865671641791,
          0.4626865671641791,
          0.4626865671641791,
          0.4925373134328358,
          0.5223880597014925,
          0.582089552238806,
          0.6119402985074627,
          0.6716417910447762,
          0.6865671641791045,
          0.6865671641791045,
          0.7014925373134329,
          0.7014925373134329,
          0.7611940298507462,
          0.7761194029850746,
          0.7761194029850746,
          0.8208955223880597,
          0.8208955223880597,
          0.8208955223880597,
          0.835820895522388,
          0.835820895522388,
          0.8507462686567164,
          0.8507462686567164,
          0.8656716417910447,
          0.8805970149253731,
          0.8805970149253731,
          0.8955223880597015,
          0.8955223880597015,
          0.9104477611940298,
          0.9104477611940298,
          0.9104477611940298,
          0.9104477611940298,
          0.9104477611940298,
          0.9104477611940298,
          0.9104477611940298,
          0.9104477611940298,
          0.9104477611940298,
          0.9104477611940298,
          0.9104477611940298,
          0.9104477611940298,
          0.9253731343283582,
          0.9253731343283582,
          0.9253731343283582,
          0.9253731343283582,
          0.9253731343283582,
          0.9253731343283582,
          0.9253731343283582,
          0.9253731343283582,
          0.9402985074626866,
          0.9552238805970149,
          0.9552238805970149,
          0.9552238805970149,
          0.9552238805970149,
          0.9552238805970149,
          0.9552238805970149,
          0.9552238805970149,
          0.9552238805970149,
          0.9552238805970149,
          0.9552238805970149,
          0.9552238805970149,
          0.9850746268656716,
          0.9850746268656716,
          0.9850746268656716,
          0.9850746268656716,
          0.9850746268656716,
          0.9850746268656716,
          0.9850746268656716,
          0.9850746268656716,
          0.9850746268656716,
          0.9850746268656716,
          0.9850746268656716,
          0.9850746268656716,
          0.9850746268656716,
          0.9850746268656716,
          0.9850746268656716,
          0.9850746268656716,
          0.9850746268656716,
          0.9850746268656716,
          0.9850746268656716,
          0.9850746268656716,
          0.9850746268656716,
          0.9850746268656716,
          0.9850746268656716,
          0.9850746268656716,
          0.9850746268656716,
          0.9850746268656716,
          0.9850746268656716,
          0.9850746268656716,
          0.9850746268656716,
          1
         ]
        }
       ],
       "layout": {
        "template": {
         "data": {
          "bar": [
           {
            "error_x": {
             "color": "#2a3f5f"
            },
            "error_y": {
             "color": "#2a3f5f"
            },
            "marker": {
             "line": {
              "color": "#E5ECF6",
              "width": 0.5
             },
             "pattern": {
              "fillmode": "overlay",
              "size": 10,
              "solidity": 0.2
             }
            },
            "type": "bar"
           }
          ],
          "barpolar": [
           {
            "marker": {
             "line": {
              "color": "#E5ECF6",
              "width": 0.5
             },
             "pattern": {
              "fillmode": "overlay",
              "size": 10,
              "solidity": 0.2
             }
            },
            "type": "barpolar"
           }
          ],
          "carpet": [
           {
            "aaxis": {
             "endlinecolor": "#2a3f5f",
             "gridcolor": "white",
             "linecolor": "white",
             "minorgridcolor": "white",
             "startlinecolor": "#2a3f5f"
            },
            "baxis": {
             "endlinecolor": "#2a3f5f",
             "gridcolor": "white",
             "linecolor": "white",
             "minorgridcolor": "white",
             "startlinecolor": "#2a3f5f"
            },
            "type": "carpet"
           }
          ],
          "choropleth": [
           {
            "colorbar": {
             "outlinewidth": 0,
             "ticks": ""
            },
            "type": "choropleth"
           }
          ],
          "contour": [
           {
            "colorbar": {
             "outlinewidth": 0,
             "ticks": ""
            },
            "colorscale": [
             [
              0,
              "#0d0887"
             ],
             [
              0.1111111111111111,
              "#46039f"
             ],
             [
              0.2222222222222222,
              "#7201a8"
             ],
             [
              0.3333333333333333,
              "#9c179e"
             ],
             [
              0.4444444444444444,
              "#bd3786"
             ],
             [
              0.5555555555555556,
              "#d8576b"
             ],
             [
              0.6666666666666666,
              "#ed7953"
             ],
             [
              0.7777777777777778,
              "#fb9f3a"
             ],
             [
              0.8888888888888888,
              "#fdca26"
             ],
             [
              1,
              "#f0f921"
             ]
            ],
            "type": "contour"
           }
          ],
          "contourcarpet": [
           {
            "colorbar": {
             "outlinewidth": 0,
             "ticks": ""
            },
            "type": "contourcarpet"
           }
          ],
          "heatmap": [
           {
            "colorbar": {
             "outlinewidth": 0,
             "ticks": ""
            },
            "colorscale": [
             [
              0,
              "#0d0887"
             ],
             [
              0.1111111111111111,
              "#46039f"
             ],
             [
              0.2222222222222222,
              "#7201a8"
             ],
             [
              0.3333333333333333,
              "#9c179e"
             ],
             [
              0.4444444444444444,
              "#bd3786"
             ],
             [
              0.5555555555555556,
              "#d8576b"
             ],
             [
              0.6666666666666666,
              "#ed7953"
             ],
             [
              0.7777777777777778,
              "#fb9f3a"
             ],
             [
              0.8888888888888888,
              "#fdca26"
             ],
             [
              1,
              "#f0f921"
             ]
            ],
            "type": "heatmap"
           }
          ],
          "heatmapgl": [
           {
            "colorbar": {
             "outlinewidth": 0,
             "ticks": ""
            },
            "colorscale": [
             [
              0,
              "#0d0887"
             ],
             [
              0.1111111111111111,
              "#46039f"
             ],
             [
              0.2222222222222222,
              "#7201a8"
             ],
             [
              0.3333333333333333,
              "#9c179e"
             ],
             [
              0.4444444444444444,
              "#bd3786"
             ],
             [
              0.5555555555555556,
              "#d8576b"
             ],
             [
              0.6666666666666666,
              "#ed7953"
             ],
             [
              0.7777777777777778,
              "#fb9f3a"
             ],
             [
              0.8888888888888888,
              "#fdca26"
             ],
             [
              1,
              "#f0f921"
             ]
            ],
            "type": "heatmapgl"
           }
          ],
          "histogram": [
           {
            "marker": {
             "pattern": {
              "fillmode": "overlay",
              "size": 10,
              "solidity": 0.2
             }
            },
            "type": "histogram"
           }
          ],
          "histogram2d": [
           {
            "colorbar": {
             "outlinewidth": 0,
             "ticks": ""
            },
            "colorscale": [
             [
              0,
              "#0d0887"
             ],
             [
              0.1111111111111111,
              "#46039f"
             ],
             [
              0.2222222222222222,
              "#7201a8"
             ],
             [
              0.3333333333333333,
              "#9c179e"
             ],
             [
              0.4444444444444444,
              "#bd3786"
             ],
             [
              0.5555555555555556,
              "#d8576b"
             ],
             [
              0.6666666666666666,
              "#ed7953"
             ],
             [
              0.7777777777777778,
              "#fb9f3a"
             ],
             [
              0.8888888888888888,
              "#fdca26"
             ],
             [
              1,
              "#f0f921"
             ]
            ],
            "type": "histogram2d"
           }
          ],
          "histogram2dcontour": [
           {
            "colorbar": {
             "outlinewidth": 0,
             "ticks": ""
            },
            "colorscale": [
             [
              0,
              "#0d0887"
             ],
             [
              0.1111111111111111,
              "#46039f"
             ],
             [
              0.2222222222222222,
              "#7201a8"
             ],
             [
              0.3333333333333333,
              "#9c179e"
             ],
             [
              0.4444444444444444,
              "#bd3786"
             ],
             [
              0.5555555555555556,
              "#d8576b"
             ],
             [
              0.6666666666666666,
              "#ed7953"
             ],
             [
              0.7777777777777778,
              "#fb9f3a"
             ],
             [
              0.8888888888888888,
              "#fdca26"
             ],
             [
              1,
              "#f0f921"
             ]
            ],
            "type": "histogram2dcontour"
           }
          ],
          "mesh3d": [
           {
            "colorbar": {
             "outlinewidth": 0,
             "ticks": ""
            },
            "type": "mesh3d"
           }
          ],
          "parcoords": [
           {
            "line": {
             "colorbar": {
              "outlinewidth": 0,
              "ticks": ""
             }
            },
            "type": "parcoords"
           }
          ],
          "pie": [
           {
            "automargin": true,
            "type": "pie"
           }
          ],
          "scatter": [
           {
            "fillpattern": {
             "fillmode": "overlay",
             "size": 10,
             "solidity": 0.2
            },
            "type": "scatter"
           }
          ],
          "scatter3d": [
           {
            "line": {
             "colorbar": {
              "outlinewidth": 0,
              "ticks": ""
             }
            },
            "marker": {
             "colorbar": {
              "outlinewidth": 0,
              "ticks": ""
             }
            },
            "type": "scatter3d"
           }
          ],
          "scattercarpet": [
           {
            "marker": {
             "colorbar": {
              "outlinewidth": 0,
              "ticks": ""
             }
            },
            "type": "scattercarpet"
           }
          ],
          "scattergeo": [
           {
            "marker": {
             "colorbar": {
              "outlinewidth": 0,
              "ticks": ""
             }
            },
            "type": "scattergeo"
           }
          ],
          "scattergl": [
           {
            "marker": {
             "colorbar": {
              "outlinewidth": 0,
              "ticks": ""
             }
            },
            "type": "scattergl"
           }
          ],
          "scattermapbox": [
           {
            "marker": {
             "colorbar": {
              "outlinewidth": 0,
              "ticks": ""
             }
            },
            "type": "scattermapbox"
           }
          ],
          "scatterpolar": [
           {
            "marker": {
             "colorbar": {
              "outlinewidth": 0,
              "ticks": ""
             }
            },
            "type": "scatterpolar"
           }
          ],
          "scatterpolargl": [
           {
            "marker": {
             "colorbar": {
              "outlinewidth": 0,
              "ticks": ""
             }
            },
            "type": "scatterpolargl"
           }
          ],
          "scatterternary": [
           {
            "marker": {
             "colorbar": {
              "outlinewidth": 0,
              "ticks": ""
             }
            },
            "type": "scatterternary"
           }
          ],
          "surface": [
           {
            "colorbar": {
             "outlinewidth": 0,
             "ticks": ""
            },
            "colorscale": [
             [
              0,
              "#0d0887"
             ],
             [
              0.1111111111111111,
              "#46039f"
             ],
             [
              0.2222222222222222,
              "#7201a8"
             ],
             [
              0.3333333333333333,
              "#9c179e"
             ],
             [
              0.4444444444444444,
              "#bd3786"
             ],
             [
              0.5555555555555556,
              "#d8576b"
             ],
             [
              0.6666666666666666,
              "#ed7953"
             ],
             [
              0.7777777777777778,
              "#fb9f3a"
             ],
             [
              0.8888888888888888,
              "#fdca26"
             ],
             [
              1,
              "#f0f921"
             ]
            ],
            "type": "surface"
           }
          ],
          "table": [
           {
            "cells": {
             "fill": {
              "color": "#EBF0F8"
             },
             "line": {
              "color": "white"
             }
            },
            "header": {
             "fill": {
              "color": "#C8D4E3"
             },
             "line": {
              "color": "white"
             }
            },
            "type": "table"
           }
          ]
         },
         "layout": {
          "annotationdefaults": {
           "arrowcolor": "#2a3f5f",
           "arrowhead": 0,
           "arrowwidth": 1
          },
          "autotypenumbers": "strict",
          "coloraxis": {
           "colorbar": {
            "outlinewidth": 0,
            "ticks": ""
           }
          },
          "colorscale": {
           "diverging": [
            [
             0,
             "#8e0152"
            ],
            [
             0.1,
             "#c51b7d"
            ],
            [
             0.2,
             "#de77ae"
            ],
            [
             0.3,
             "#f1b6da"
            ],
            [
             0.4,
             "#fde0ef"
            ],
            [
             0.5,
             "#f7f7f7"
            ],
            [
             0.6,
             "#e6f5d0"
            ],
            [
             0.7,
             "#b8e186"
            ],
            [
             0.8,
             "#7fbc41"
            ],
            [
             0.9,
             "#4d9221"
            ],
            [
             1,
             "#276419"
            ]
           ],
           "sequential": [
            [
             0,
             "#0d0887"
            ],
            [
             0.1111111111111111,
             "#46039f"
            ],
            [
             0.2222222222222222,
             "#7201a8"
            ],
            [
             0.3333333333333333,
             "#9c179e"
            ],
            [
             0.4444444444444444,
             "#bd3786"
            ],
            [
             0.5555555555555556,
             "#d8576b"
            ],
            [
             0.6666666666666666,
             "#ed7953"
            ],
            [
             0.7777777777777778,
             "#fb9f3a"
            ],
            [
             0.8888888888888888,
             "#fdca26"
            ],
            [
             1,
             "#f0f921"
            ]
           ],
           "sequentialminus": [
            [
             0,
             "#0d0887"
            ],
            [
             0.1111111111111111,
             "#46039f"
            ],
            [
             0.2222222222222222,
             "#7201a8"
            ],
            [
             0.3333333333333333,
             "#9c179e"
            ],
            [
             0.4444444444444444,
             "#bd3786"
            ],
            [
             0.5555555555555556,
             "#d8576b"
            ],
            [
             0.6666666666666666,
             "#ed7953"
            ],
            [
             0.7777777777777778,
             "#fb9f3a"
            ],
            [
             0.8888888888888888,
             "#fdca26"
            ],
            [
             1,
             "#f0f921"
            ]
           ]
          },
          "colorway": [
           "#636efa",
           "#EF553B",
           "#00cc96",
           "#ab63fa",
           "#FFA15A",
           "#19d3f3",
           "#FF6692",
           "#B6E880",
           "#FF97FF",
           "#FECB52"
          ],
          "font": {
           "color": "#2a3f5f"
          },
          "geo": {
           "bgcolor": "white",
           "lakecolor": "white",
           "landcolor": "#E5ECF6",
           "showlakes": true,
           "showland": true,
           "subunitcolor": "white"
          },
          "hoverlabel": {
           "align": "left"
          },
          "hovermode": "closest",
          "mapbox": {
           "style": "light"
          },
          "paper_bgcolor": "white",
          "plot_bgcolor": "#E5ECF6",
          "polar": {
           "angularaxis": {
            "gridcolor": "white",
            "linecolor": "white",
            "ticks": ""
           },
           "bgcolor": "#E5ECF6",
           "radialaxis": {
            "gridcolor": "white",
            "linecolor": "white",
            "ticks": ""
           }
          },
          "scene": {
           "xaxis": {
            "backgroundcolor": "#E5ECF6",
            "gridcolor": "white",
            "gridwidth": 2,
            "linecolor": "white",
            "showbackground": true,
            "ticks": "",
            "zerolinecolor": "white"
           },
           "yaxis": {
            "backgroundcolor": "#E5ECF6",
            "gridcolor": "white",
            "gridwidth": 2,
            "linecolor": "white",
            "showbackground": true,
            "ticks": "",
            "zerolinecolor": "white"
           },
           "zaxis": {
            "backgroundcolor": "#E5ECF6",
            "gridcolor": "white",
            "gridwidth": 2,
            "linecolor": "white",
            "showbackground": true,
            "ticks": "",
            "zerolinecolor": "white"
           }
          },
          "shapedefaults": {
           "line": {
            "color": "#2a3f5f"
           }
          },
          "ternary": {
           "aaxis": {
            "gridcolor": "white",
            "linecolor": "white",
            "ticks": ""
           },
           "baxis": {
            "gridcolor": "white",
            "linecolor": "white",
            "ticks": ""
           },
           "bgcolor": "#E5ECF6",
           "caxis": {
            "gridcolor": "white",
            "linecolor": "white",
            "ticks": ""
           }
          },
          "title": {
           "x": 0.05
          },
          "xaxis": {
           "automargin": true,
           "gridcolor": "white",
           "linecolor": "white",
           "ticks": "",
           "title": {
            "standoff": 15
           },
           "zerolinecolor": "white",
           "zerolinewidth": 2
          },
          "yaxis": {
           "automargin": true,
           "gridcolor": "white",
           "linecolor": "white",
           "ticks": "",
           "title": {
            "standoff": 15
           },
           "zerolinecolor": "white",
           "zerolinewidth": 2
          }
         }
        },
        "title": {
         "text": "Empirical Distribution Function Plot"
        },
        "xaxis": {
         "title": {
          "text": "Objective Value"
         }
        },
        "yaxis": {
         "range": [
          0,
          1
         ],
         "title": {
          "text": "Cumulative Probability"
         }
        }
       }
      }
     },
     "metadata": {},
     "output_type": "display_data"
    }
   ],
   "source": [
    "plot_edf(study)"
   ]
  },
  {
   "cell_type": "code",
   "execution_count": 17,
   "metadata": {},
   "outputs": [
    {
     "data": {
      "application/vnd.plotly.v1+json": {
       "config": {
        "plotlyServerURL": "https://plot.ly"
       },
       "data": [
        {
         "dimensions": [
          {
           "label": "Objective Value",
           "range": [
            0.46958720522256653,
            0.5666841074420229
           ],
           "values": [
            0.5025147598595889,
            0.4775920801280374,
            0.4871136747275055,
            0.4850628069818499,
            0.5374427041622423,
            0.4912448682809691,
            0.49449377202463474,
            0.4828814878075324,
            0.5259792646507768,
            0.48332426217814756,
            0.47620877930434763,
            0.47666496452934937,
            0.4844211395022119,
            0.4726267103251171,
            0.49211028676867236,
            0.4777915648966965,
            0.5045584744095137,
            0.5061204593824047,
            0.5666841074420229,
            0.4741230363777974,
            0.47764985865162357,
            0.4733393213761891,
            0.4712697677389329,
            0.47294680009875895,
            0.47304288517026133,
            0.4743693442015783,
            0.473609292901656,
            0.49134196198964697,
            0.4761629075847808,
            0.49796957590260693,
            0.5373239810227822,
            0.47166162667549016,
            0.47257163225797416,
            0.4863981929271433,
            0.47644342560858943,
            0.48381588310268314,
            0.48949003875934294,
            0.5017343804548184,
            0.48596183635557183,
            0.48765609110051267,
            0.4921504011992329,
            0.4766315357642081,
            0.476381544382385,
            0.47209142980820734,
            0.48578031321328596,
            0.5185569118717497,
            0.46958720522256653,
            0.5265951993619511,
            0.4777052642342549,
            0.48676199356671057,
            0.47521955291032025,
            0.4753863768270866,
            0.47150568920402175,
            0.4737538692798731,
            0.4757643820247859,
            0.4792675316545565,
            0.48502958606566293,
            0.48509647026019476,
            0.4864623978055295,
            0.4915980090374895,
            0.4705950402237142,
            0.4765771901924862,
            0.4801881973782116,
            0.4948352602937306,
            0.4828101087460384,
            0.4997126963928893,
            0.49469393633709463
           ]
          },
          {
           "label": "batch_size",
           "range": [
            128,
            1024
           ],
           "values": [
            128,
            256,
            640,
            960,
            576,
            384,
            640,
            192,
            448,
            640,
            320,
            320,
            384,
            256,
            896,
            512,
            128,
            256,
            768,
            320,
            448,
            256,
            256,
            192,
            128,
            192,
            192,
            384,
            256,
            128,
            768,
            128,
            192,
            128,
            320,
            192,
            256,
            448,
            128,
            1024,
            512,
            192,
            256,
            192,
            384,
            320,
            192,
            192,
            128,
            128,
            320,
            256,
            192,
            192,
            256,
            192,
            128,
            768,
            192,
            704,
            320,
            256,
            384,
            320,
            192,
            128,
            320
           ]
          },
          {
           "label": "dropout",
           "range": [
            0,
            0.3
           ],
           "values": [
            0.3,
            0.2,
            0.1,
            0.25,
            0.3,
            0.15000000000000002,
            0.05,
            0.2,
            0.2,
            0.2,
            0,
            0.05,
            0,
            0,
            0,
            0.05,
            0,
            0.1,
            0.1,
            0,
            0.05,
            0,
            0,
            0.05,
            0.05,
            0.1,
            0.05,
            0,
            0.15000000000000002,
            0.05,
            0.1,
            0.05,
            0,
            0,
            0,
            0,
            0.05,
            0.3,
            0.1,
            0.25,
            0,
            0.05,
            0.05,
            0.15000000000000002,
            0.15000000000000002,
            0.15000000000000002,
            0.2,
            0.2,
            0.25,
            0.2,
            0.2,
            0.25,
            0.15000000000000002,
            0.15000000000000002,
            0.15000000000000002,
            0.2,
            0.15000000000000002,
            0.1,
            0.15000000000000002,
            0.1,
            0.25,
            0.25,
            0.3,
            0.25,
            0.2,
            0.25,
            0.2
           ]
          },
          {
           "label": "initialization",
           "range": [
            0,
            1
           ],
           "ticktext": [
            "xavier_uniform",
            "kaiming_uniform"
           ],
           "tickvals": [
            0,
            1
           ],
           "values": [
            0,
            1,
            1,
            0,
            0,
            1,
            0,
            1,
            1,
            0,
            1,
            1,
            1,
            1,
            1,
            1,
            1,
            1,
            1,
            1,
            1,
            1,
            1,
            1,
            1,
            1,
            0,
            1,
            1,
            0,
            1,
            1,
            1,
            1,
            1,
            1,
            0,
            1,
            1,
            0,
            1,
            1,
            1,
            1,
            1,
            1,
            1,
            0,
            1,
            1,
            1,
            1,
            1,
            1,
            1,
            1,
            1,
            1,
            1,
            1,
            1,
            1,
            1,
            1,
            1,
            1,
            0
           ]
          },
          {
           "label": "input_layer_size",
           "range": [
            256,
            1024
           ],
           "values": [
            768,
            896,
            832,
            640,
            704,
            512,
            1024,
            832,
            256,
            960,
            448,
            448,
            448,
            320,
            320,
            384,
            576,
            256,
            384,
            576,
            576,
            512,
            576,
            704,
            768,
            704,
            640,
            704,
            320,
            768,
            640,
            768,
            896,
            896,
            960,
            832,
            896,
            768,
            1024,
            832,
            960,
            704,
            704,
            832,
            896,
            832,
            896,
            896,
            1024,
            832,
            768,
            960,
            896,
            896,
            960,
            896,
            832,
            768,
            512,
            960,
            832,
            832,
            896,
            640,
            832,
            768,
            896
           ]
          },
          {
           "label": "learning_rate",
           "range": [
            -3.999615654049702,
            -1.2762393498175313
           ],
           "ticktext": [
            "0.0001",
            "0.001",
            "0.01",
            "0.0529"
           ],
           "tickvals": [
            -3.999615654049702,
            -3,
            -2,
            -1.2762393498175313
           ],
           "values": [
            -1.2762393498175313,
            -2.4852768247367263,
            -2.057729802390708,
            -1.9752640772348447,
            -3.624284464812444,
            -2.2016545757135266,
            -1.7065677937227766,
            -2.3971248814242787,
            -3.512199196472841,
            -1.6303998660433974,
            -2.9722565393934284,
            -3.1194564949288335,
            -3.053304265132729,
            -3.083990906488029,
            -2.946458577988375,
            -2.831268592068321,
            -3.840898594999109,
            -3.3969222829301837,
            -3.999615654049702,
            -2.822514468904805,
            -2.6072426505969566,
            -3.218955722130494,
            -3.284290202232866,
            -3.289619604332548,
            -3.3447814994351104,
            -3.5104325983939995,
            -3.6499627619338244,
            -3.2523456473919925,
            -2.7224712123073056,
            -1.2922043190003205,
            -3.8079312591239476,
            -3.2869071372955245,
            -3.1679135045152518,
            -2.4358577589231967,
            -3.151567300538164,
            -2.6232678048843896,
            -3.4250911875747194,
            -3.6410616899093515,
            -2.222336894076581,
            -2.8351048962379726,
            -3.0165421933467496,
            -3.3345203327807957,
            -3.24802104888928,
            -3.5239118527972617,
            -3.56561409220603,
            -3.8247115526825413,
            -3.0920450152512773,
            -3.682192135763189,
            -3.501544571257568,
            -2.9852660104065,
            -3.137091385987229,
            -3.1069624017580733,
            -2.8586757697331557,
            -2.9528963944980915,
            -2.863911721769237,
            -2.6815062997852883,
            -3.42522167604995,
            -3.1973360127047292,
            -2.5012925398905086,
            -2.753882726906799,
            -2.9120785026038867,
            -2.932799655205377,
            -3.0490458991720724,
            -3.3502648460456497,
            -2.560322644183281,
            -2.3025278146416475,
            -1.8822756366050186
           ]
          },
          {
           "label": "n_layers",
           "range": [
            2,
            5
           ],
           "values": [
            5,
            2,
            3,
            4,
            4,
            4,
            4,
            2,
            3,
            5,
            2,
            2,
            2,
            3,
            3,
            3,
            2,
            3,
            2,
            3,
            3,
            3,
            3,
            3,
            4,
            3,
            4,
            3,
            3,
            5,
            4,
            4,
            5,
            5,
            5,
            5,
            4,
            4,
            5,
            4,
            4,
            3,
            3,
            3,
            3,
            4,
            3,
            5,
            2,
            3,
            3,
            3,
            3,
            3,
            3,
            2,
            3,
            3,
            4,
            3,
            2,
            2,
            2,
            2,
            4,
            2,
            3
           ]
          },
          {
           "label": "pct_start",
           "range": [
            0.05,
            0.4
           ],
           "values": [
            0.3,
            0.2,
            0.3,
            0.1,
            0.1,
            0.35000000000000003,
            0.15000000000000002,
            0.4,
            0.2,
            0.35000000000000003,
            0.05,
            0.05,
            0.05,
            0.05,
            0.1,
            0.05,
            0.15000000000000002,
            0.15000000000000002,
            0.25,
            0.05,
            0.1,
            0.05,
            0.05,
            0.1,
            0.1,
            0.15000000000000002,
            0.1,
            0.2,
            0.05,
            0.25,
            0.15000000000000002,
            0.1,
            0.1,
            0.05,
            0.1,
            0.1,
            0.15000000000000002,
            0.05,
            0.2,
            0.1,
            0.3,
            0.1,
            0.15000000000000002,
            0.1,
            0.05,
            0.1,
            0.05,
            0.4,
            0.05,
            0.15000000000000002,
            0.1,
            0.05,
            0.05,
            0.05,
            0.05,
            0.1,
            0.05,
            0.1,
            0.05,
            0.35000000000000003,
            0.2,
            0.2,
            0.25,
            0.3,
            0.15000000000000002,
            0.05,
            0.1
           ]
          },
          {
           "label": "weight_decay",
           "range": [
            -5.9436800531505805,
            -3.0110266169247137
           ],
           "ticktext": [
            "1.14e-06",
            "1e-05",
            "0.0001",
            "0.000975"
           ],
           "tickvals": [
            -5.9436800531505805,
            -5,
            -4,
            -3.0110266169247137
           ],
           "values": [
            -5.511142019995571,
            -3.762758878840232,
            -3.0637812141130483,
            -4.478303926679031,
            -4.974887970340086,
            -5.864800059811575,
            -3.1252933462809365,
            -4.215017291047662,
            -4.207348260485081,
            -4.708483747174916,
            -3.4724344999064765,
            -3.62760219583337,
            -3.664924308640789,
            -3.595552319551327,
            -3.422624064293339,
            -3.979299305095399,
            -3.3005042281982613,
            -5.1361151432058385,
            -3.9139533226745797,
            -3.417871461272588,
            -4.218276565158864,
            -3.4302897366635956,
            -3.3447595972950253,
            -3.032885751530952,
            -3.1466178630770236,
            -3.1412876319730256,
            -3.0110266169247137,
            -3.904941646839737,
            -3.291380912289633,
            -3.6591103991282674,
            -5.372519441176963,
            -3.2323640976548607,
            -3.3143669239171913,
            -3.803655595564902,
            -3.5663087911429474,
            -3.2610562430057306,
            -4.479513050926296,
            -4.073029682392741,
            -3.7731529097092995,
            -3.232166379439652,
            -3.4630618063334357,
            -3.022696492722621,
            -3.3121273737491803,
            -3.141586654506137,
            -3.5538978246679003,
            -5.9436800531505805,
            -3.18975901717325,
            -3.1675574111690104,
            -3.2984841161174794,
            -4.817144837709101,
            -3.403851434107057,
            -3.5270825747958763,
            -3.689165290509517,
            -3.124743917198084,
            -3.7184330856930425,
            -3.358018396874085,
            -4.321929385928454,
            -3.1992929698874706,
            -5.747156975146836,
            -3.49607458071215,
            -3.1107825593718634,
            -3.1386139118614453,
            -3.0779895856003425,
            -3.374809196215503,
            -3.2160082452653023,
            -3.021766616358994,
            -3.661496568003434
           ]
          }
         ],
         "labelangle": 30,
         "labelside": "bottom",
         "line": {
          "color": [
           0.5025147598595889,
           0.4775920801280374,
           0.4871136747275055,
           0.4850628069818499,
           0.5374427041622423,
           0.4912448682809691,
           0.49449377202463474,
           0.4828814878075324,
           0.5259792646507768,
           0.48332426217814756,
           0.47620877930434763,
           0.47666496452934937,
           0.4844211395022119,
           0.4726267103251171,
           0.49211028676867236,
           0.4777915648966965,
           0.5045584744095137,
           0.5061204593824047,
           0.5666841074420229,
           0.4741230363777974,
           0.47764985865162357,
           0.4733393213761891,
           0.4712697677389329,
           0.47294680009875895,
           0.47304288517026133,
           0.4743693442015783,
           0.473609292901656,
           0.49134196198964697,
           0.4761629075847808,
           0.49796957590260693,
           0.5373239810227822,
           0.47166162667549016,
           0.47257163225797416,
           0.4863981929271433,
           0.47644342560858943,
           0.48381588310268314,
           0.48949003875934294,
           0.5017343804548184,
           0.48596183635557183,
           0.48765609110051267,
           0.4921504011992329,
           0.4766315357642081,
           0.476381544382385,
           0.47209142980820734,
           0.48578031321328596,
           0.5185569118717497,
           0.46958720522256653,
           0.5265951993619511,
           0.4777052642342549,
           0.48676199356671057,
           0.47521955291032025,
           0.4753863768270866,
           0.47150568920402175,
           0.4737538692798731,
           0.4757643820247859,
           0.4792675316545565,
           0.48502958606566293,
           0.48509647026019476,
           0.4864623978055295,
           0.4915980090374895,
           0.4705950402237142,
           0.4765771901924862,
           0.4801881973782116,
           0.4948352602937306,
           0.4828101087460384,
           0.4997126963928893,
           0.49469393633709463
          ],
          "colorbar": {
           "title": {
            "text": "Objective Value"
           }
          },
          "colorscale": [
           [
            0,
            "rgb(247,251,255)"
           ],
           [
            0.125,
            "rgb(222,235,247)"
           ],
           [
            0.25,
            "rgb(198,219,239)"
           ],
           [
            0.375,
            "rgb(158,202,225)"
           ],
           [
            0.5,
            "rgb(107,174,214)"
           ],
           [
            0.625,
            "rgb(66,146,198)"
           ],
           [
            0.75,
            "rgb(33,113,181)"
           ],
           [
            0.875,
            "rgb(8,81,156)"
           ],
           [
            1,
            "rgb(8,48,107)"
           ]
          ],
          "reversescale": true,
          "showscale": true
         },
         "type": "parcoords"
        }
       ],
       "layout": {
        "template": {
         "data": {
          "bar": [
           {
            "error_x": {
             "color": "#2a3f5f"
            },
            "error_y": {
             "color": "#2a3f5f"
            },
            "marker": {
             "line": {
              "color": "#E5ECF6",
              "width": 0.5
             },
             "pattern": {
              "fillmode": "overlay",
              "size": 10,
              "solidity": 0.2
             }
            },
            "type": "bar"
           }
          ],
          "barpolar": [
           {
            "marker": {
             "line": {
              "color": "#E5ECF6",
              "width": 0.5
             },
             "pattern": {
              "fillmode": "overlay",
              "size": 10,
              "solidity": 0.2
             }
            },
            "type": "barpolar"
           }
          ],
          "carpet": [
           {
            "aaxis": {
             "endlinecolor": "#2a3f5f",
             "gridcolor": "white",
             "linecolor": "white",
             "minorgridcolor": "white",
             "startlinecolor": "#2a3f5f"
            },
            "baxis": {
             "endlinecolor": "#2a3f5f",
             "gridcolor": "white",
             "linecolor": "white",
             "minorgridcolor": "white",
             "startlinecolor": "#2a3f5f"
            },
            "type": "carpet"
           }
          ],
          "choropleth": [
           {
            "colorbar": {
             "outlinewidth": 0,
             "ticks": ""
            },
            "type": "choropleth"
           }
          ],
          "contour": [
           {
            "colorbar": {
             "outlinewidth": 0,
             "ticks": ""
            },
            "colorscale": [
             [
              0,
              "#0d0887"
             ],
             [
              0.1111111111111111,
              "#46039f"
             ],
             [
              0.2222222222222222,
              "#7201a8"
             ],
             [
              0.3333333333333333,
              "#9c179e"
             ],
             [
              0.4444444444444444,
              "#bd3786"
             ],
             [
              0.5555555555555556,
              "#d8576b"
             ],
             [
              0.6666666666666666,
              "#ed7953"
             ],
             [
              0.7777777777777778,
              "#fb9f3a"
             ],
             [
              0.8888888888888888,
              "#fdca26"
             ],
             [
              1,
              "#f0f921"
             ]
            ],
            "type": "contour"
           }
          ],
          "contourcarpet": [
           {
            "colorbar": {
             "outlinewidth": 0,
             "ticks": ""
            },
            "type": "contourcarpet"
           }
          ],
          "heatmap": [
           {
            "colorbar": {
             "outlinewidth": 0,
             "ticks": ""
            },
            "colorscale": [
             [
              0,
              "#0d0887"
             ],
             [
              0.1111111111111111,
              "#46039f"
             ],
             [
              0.2222222222222222,
              "#7201a8"
             ],
             [
              0.3333333333333333,
              "#9c179e"
             ],
             [
              0.4444444444444444,
              "#bd3786"
             ],
             [
              0.5555555555555556,
              "#d8576b"
             ],
             [
              0.6666666666666666,
              "#ed7953"
             ],
             [
              0.7777777777777778,
              "#fb9f3a"
             ],
             [
              0.8888888888888888,
              "#fdca26"
             ],
             [
              1,
              "#f0f921"
             ]
            ],
            "type": "heatmap"
           }
          ],
          "heatmapgl": [
           {
            "colorbar": {
             "outlinewidth": 0,
             "ticks": ""
            },
            "colorscale": [
             [
              0,
              "#0d0887"
             ],
             [
              0.1111111111111111,
              "#46039f"
             ],
             [
              0.2222222222222222,
              "#7201a8"
             ],
             [
              0.3333333333333333,
              "#9c179e"
             ],
             [
              0.4444444444444444,
              "#bd3786"
             ],
             [
              0.5555555555555556,
              "#d8576b"
             ],
             [
              0.6666666666666666,
              "#ed7953"
             ],
             [
              0.7777777777777778,
              "#fb9f3a"
             ],
             [
              0.8888888888888888,
              "#fdca26"
             ],
             [
              1,
              "#f0f921"
             ]
            ],
            "type": "heatmapgl"
           }
          ],
          "histogram": [
           {
            "marker": {
             "pattern": {
              "fillmode": "overlay",
              "size": 10,
              "solidity": 0.2
             }
            },
            "type": "histogram"
           }
          ],
          "histogram2d": [
           {
            "colorbar": {
             "outlinewidth": 0,
             "ticks": ""
            },
            "colorscale": [
             [
              0,
              "#0d0887"
             ],
             [
              0.1111111111111111,
              "#46039f"
             ],
             [
              0.2222222222222222,
              "#7201a8"
             ],
             [
              0.3333333333333333,
              "#9c179e"
             ],
             [
              0.4444444444444444,
              "#bd3786"
             ],
             [
              0.5555555555555556,
              "#d8576b"
             ],
             [
              0.6666666666666666,
              "#ed7953"
             ],
             [
              0.7777777777777778,
              "#fb9f3a"
             ],
             [
              0.8888888888888888,
              "#fdca26"
             ],
             [
              1,
              "#f0f921"
             ]
            ],
            "type": "histogram2d"
           }
          ],
          "histogram2dcontour": [
           {
            "colorbar": {
             "outlinewidth": 0,
             "ticks": ""
            },
            "colorscale": [
             [
              0,
              "#0d0887"
             ],
             [
              0.1111111111111111,
              "#46039f"
             ],
             [
              0.2222222222222222,
              "#7201a8"
             ],
             [
              0.3333333333333333,
              "#9c179e"
             ],
             [
              0.4444444444444444,
              "#bd3786"
             ],
             [
              0.5555555555555556,
              "#d8576b"
             ],
             [
              0.6666666666666666,
              "#ed7953"
             ],
             [
              0.7777777777777778,
              "#fb9f3a"
             ],
             [
              0.8888888888888888,
              "#fdca26"
             ],
             [
              1,
              "#f0f921"
             ]
            ],
            "type": "histogram2dcontour"
           }
          ],
          "mesh3d": [
           {
            "colorbar": {
             "outlinewidth": 0,
             "ticks": ""
            },
            "type": "mesh3d"
           }
          ],
          "parcoords": [
           {
            "line": {
             "colorbar": {
              "outlinewidth": 0,
              "ticks": ""
             }
            },
            "type": "parcoords"
           }
          ],
          "pie": [
           {
            "automargin": true,
            "type": "pie"
           }
          ],
          "scatter": [
           {
            "fillpattern": {
             "fillmode": "overlay",
             "size": 10,
             "solidity": 0.2
            },
            "type": "scatter"
           }
          ],
          "scatter3d": [
           {
            "line": {
             "colorbar": {
              "outlinewidth": 0,
              "ticks": ""
             }
            },
            "marker": {
             "colorbar": {
              "outlinewidth": 0,
              "ticks": ""
             }
            },
            "type": "scatter3d"
           }
          ],
          "scattercarpet": [
           {
            "marker": {
             "colorbar": {
              "outlinewidth": 0,
              "ticks": ""
             }
            },
            "type": "scattercarpet"
           }
          ],
          "scattergeo": [
           {
            "marker": {
             "colorbar": {
              "outlinewidth": 0,
              "ticks": ""
             }
            },
            "type": "scattergeo"
           }
          ],
          "scattergl": [
           {
            "marker": {
             "colorbar": {
              "outlinewidth": 0,
              "ticks": ""
             }
            },
            "type": "scattergl"
           }
          ],
          "scattermapbox": [
           {
            "marker": {
             "colorbar": {
              "outlinewidth": 0,
              "ticks": ""
             }
            },
            "type": "scattermapbox"
           }
          ],
          "scatterpolar": [
           {
            "marker": {
             "colorbar": {
              "outlinewidth": 0,
              "ticks": ""
             }
            },
            "type": "scatterpolar"
           }
          ],
          "scatterpolargl": [
           {
            "marker": {
             "colorbar": {
              "outlinewidth": 0,
              "ticks": ""
             }
            },
            "type": "scatterpolargl"
           }
          ],
          "scatterternary": [
           {
            "marker": {
             "colorbar": {
              "outlinewidth": 0,
              "ticks": ""
             }
            },
            "type": "scatterternary"
           }
          ],
          "surface": [
           {
            "colorbar": {
             "outlinewidth": 0,
             "ticks": ""
            },
            "colorscale": [
             [
              0,
              "#0d0887"
             ],
             [
              0.1111111111111111,
              "#46039f"
             ],
             [
              0.2222222222222222,
              "#7201a8"
             ],
             [
              0.3333333333333333,
              "#9c179e"
             ],
             [
              0.4444444444444444,
              "#bd3786"
             ],
             [
              0.5555555555555556,
              "#d8576b"
             ],
             [
              0.6666666666666666,
              "#ed7953"
             ],
             [
              0.7777777777777778,
              "#fb9f3a"
             ],
             [
              0.8888888888888888,
              "#fdca26"
             ],
             [
              1,
              "#f0f921"
             ]
            ],
            "type": "surface"
           }
          ],
          "table": [
           {
            "cells": {
             "fill": {
              "color": "#EBF0F8"
             },
             "line": {
              "color": "white"
             }
            },
            "header": {
             "fill": {
              "color": "#C8D4E3"
             },
             "line": {
              "color": "white"
             }
            },
            "type": "table"
           }
          ]
         },
         "layout": {
          "annotationdefaults": {
           "arrowcolor": "#2a3f5f",
           "arrowhead": 0,
           "arrowwidth": 1
          },
          "autotypenumbers": "strict",
          "coloraxis": {
           "colorbar": {
            "outlinewidth": 0,
            "ticks": ""
           }
          },
          "colorscale": {
           "diverging": [
            [
             0,
             "#8e0152"
            ],
            [
             0.1,
             "#c51b7d"
            ],
            [
             0.2,
             "#de77ae"
            ],
            [
             0.3,
             "#f1b6da"
            ],
            [
             0.4,
             "#fde0ef"
            ],
            [
             0.5,
             "#f7f7f7"
            ],
            [
             0.6,
             "#e6f5d0"
            ],
            [
             0.7,
             "#b8e186"
            ],
            [
             0.8,
             "#7fbc41"
            ],
            [
             0.9,
             "#4d9221"
            ],
            [
             1,
             "#276419"
            ]
           ],
           "sequential": [
            [
             0,
             "#0d0887"
            ],
            [
             0.1111111111111111,
             "#46039f"
            ],
            [
             0.2222222222222222,
             "#7201a8"
            ],
            [
             0.3333333333333333,
             "#9c179e"
            ],
            [
             0.4444444444444444,
             "#bd3786"
            ],
            [
             0.5555555555555556,
             "#d8576b"
            ],
            [
             0.6666666666666666,
             "#ed7953"
            ],
            [
             0.7777777777777778,
             "#fb9f3a"
            ],
            [
             0.8888888888888888,
             "#fdca26"
            ],
            [
             1,
             "#f0f921"
            ]
           ],
           "sequentialminus": [
            [
             0,
             "#0d0887"
            ],
            [
             0.1111111111111111,
             "#46039f"
            ],
            [
             0.2222222222222222,
             "#7201a8"
            ],
            [
             0.3333333333333333,
             "#9c179e"
            ],
            [
             0.4444444444444444,
             "#bd3786"
            ],
            [
             0.5555555555555556,
             "#d8576b"
            ],
            [
             0.6666666666666666,
             "#ed7953"
            ],
            [
             0.7777777777777778,
             "#fb9f3a"
            ],
            [
             0.8888888888888888,
             "#fdca26"
            ],
            [
             1,
             "#f0f921"
            ]
           ]
          },
          "colorway": [
           "#636efa",
           "#EF553B",
           "#00cc96",
           "#ab63fa",
           "#FFA15A",
           "#19d3f3",
           "#FF6692",
           "#B6E880",
           "#FF97FF",
           "#FECB52"
          ],
          "font": {
           "color": "#2a3f5f"
          },
          "geo": {
           "bgcolor": "white",
           "lakecolor": "white",
           "landcolor": "#E5ECF6",
           "showlakes": true,
           "showland": true,
           "subunitcolor": "white"
          },
          "hoverlabel": {
           "align": "left"
          },
          "hovermode": "closest",
          "mapbox": {
           "style": "light"
          },
          "paper_bgcolor": "white",
          "plot_bgcolor": "#E5ECF6",
          "polar": {
           "angularaxis": {
            "gridcolor": "white",
            "linecolor": "white",
            "ticks": ""
           },
           "bgcolor": "#E5ECF6",
           "radialaxis": {
            "gridcolor": "white",
            "linecolor": "white",
            "ticks": ""
           }
          },
          "scene": {
           "xaxis": {
            "backgroundcolor": "#E5ECF6",
            "gridcolor": "white",
            "gridwidth": 2,
            "linecolor": "white",
            "showbackground": true,
            "ticks": "",
            "zerolinecolor": "white"
           },
           "yaxis": {
            "backgroundcolor": "#E5ECF6",
            "gridcolor": "white",
            "gridwidth": 2,
            "linecolor": "white",
            "showbackground": true,
            "ticks": "",
            "zerolinecolor": "white"
           },
           "zaxis": {
            "backgroundcolor": "#E5ECF6",
            "gridcolor": "white",
            "gridwidth": 2,
            "linecolor": "white",
            "showbackground": true,
            "ticks": "",
            "zerolinecolor": "white"
           }
          },
          "shapedefaults": {
           "line": {
            "color": "#2a3f5f"
           }
          },
          "ternary": {
           "aaxis": {
            "gridcolor": "white",
            "linecolor": "white",
            "ticks": ""
           },
           "baxis": {
            "gridcolor": "white",
            "linecolor": "white",
            "ticks": ""
           },
           "bgcolor": "#E5ECF6",
           "caxis": {
            "gridcolor": "white",
            "linecolor": "white",
            "ticks": ""
           }
          },
          "title": {
           "x": 0.05
          },
          "xaxis": {
           "automargin": true,
           "gridcolor": "white",
           "linecolor": "white",
           "ticks": "",
           "title": {
            "standoff": 15
           },
           "zerolinecolor": "white",
           "zerolinewidth": 2
          },
          "yaxis": {
           "automargin": true,
           "gridcolor": "white",
           "linecolor": "white",
           "ticks": "",
           "title": {
            "standoff": 15
           },
           "zerolinecolor": "white",
           "zerolinewidth": 2
          }
         }
        },
        "title": {
         "text": "Parallel Coordinate Plot"
        }
       }
      }
     },
     "metadata": {},
     "output_type": "display_data"
    }
   ],
   "source": [
    "plot_parallel_coordinate(study)"
   ]
  },
  {
   "cell_type": "code",
   "execution_count": 18,
   "metadata": {},
   "outputs": [
    {
     "data": {
      "text/plain": [
       "{'batch_size': 192,\n",
       " 'dropout': 0.2,\n",
       " 'input_layer_size': 896,\n",
       " 'n_layers': 3,\n",
       " 'learning_rate': 0.000809012039564196,\n",
       " 'weight_decay': 0.0006460125913056128,\n",
       " 'initialization': 'kaiming_uniform',\n",
       " 'pct_start': 0.05}"
      ]
     },
     "execution_count": 18,
     "metadata": {},
     "output_type": "execute_result"
    }
   ],
   "source": [
    "best_params = dict(study.best_params)\n",
    "best_params"
   ]
  },
  {
   "cell_type": "markdown",
   "metadata": {},
   "source": [
    "***"
   ]
  }
 ],
 "metadata": {
  "kernelspec": {
   "display_name": "mcts-strength-variants-kSTIVMm8-py3.10",
   "language": "python",
   "name": "python3"
  },
  "language_info": {
   "codemirror_mode": {
    "name": "ipython",
    "version": 3
   },
   "file_extension": ".py",
   "mimetype": "text/x-python",
   "name": "python",
   "nbconvert_exporter": "python",
   "pygments_lexer": "ipython3",
   "version": "3.10.12"
  }
 },
 "nbformat": 4,
 "nbformat_minor": 2
}
