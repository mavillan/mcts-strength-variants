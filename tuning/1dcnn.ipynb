{
 "cells": [
  {
   "cell_type": "code",
   "execution_count": 1,
   "metadata": {},
   "outputs": [
    {
     "name": "stdout",
     "output_type": "stream",
     "text": [
      "PyTorch version: 2.4.1\n",
      "PyTorch Lightning version: 2.4.0\n"
     ]
    }
   ],
   "source": [
    "import numpy as np\n",
    "import pandas as pd\n",
    "from pathlib import Path\n",
    "from typing import Optional, Union, Tuple, List\n",
    "import json\n",
    "import pickle\n",
    "\n",
    "pd.set_option('display.max_columns', None)\n",
    "from sklearn.model_selection import GroupKFold\n",
    "\n",
    "import torch \n",
    "from torch import nn\n",
    "import torch.nn.functional as F\n",
    "from torch.utils.data import DataLoader,TensorDataset\n",
    "from torch.optim.lr_scheduler import OneCycleLR\n",
    "\n",
    "import lightning.pytorch as pl\n",
    "from lightning.pytorch.callbacks import EarlyStopping\n",
    "from lightning.pytorch.callbacks import ModelCheckpoint\n",
    "\n",
    "\n",
    "print(f\"PyTorch version: {torch.__version__}\")\n",
    "print(f\"PyTorch Lightning version: {pl.__version__}\")\n",
    "\n",
    "import optuna\n",
    "from optuna.visualization import (\n",
    "    plot_edf\n",
    "    , plot_optimization_history\n",
    "    , plot_parallel_coordinate\n",
    "    , plot_param_importances\n",
    "    , plot_slice\n",
    ")\n",
    "\n",
    "# local modules\n",
    "import sys\n",
    "sys.path.append(\"../src\")\n",
    "from preproc import process_train_data, process_test_data\n",
    "from transformer import LGBMLeavesEncoder"
   ]
  },
  {
   "cell_type": "code",
   "execution_count": 2,
   "metadata": {},
   "outputs": [
    {
     "name": "stderr",
     "output_type": "stream",
     "text": [
      "Seed set to 2112\n"
     ]
    }
   ],
   "source": [
    "from lightning.pytorch import seed_everything\n",
    "seed_everything(2112, workers=True);"
   ]
  },
  {
   "cell_type": "code",
   "execution_count": 3,
   "metadata": {},
   "outputs": [],
   "source": [
    "# useful callbacks\n",
    "class LearningRateMonitor(pl.Callback):\n",
    "    def on_train_batch_end(self, trainer, pl_module, outputs, batch, batch_idx):\n",
    "        if batch_idx % 100 == 0:  # Log every 100 batches\n",
    "            lr = pl_module.optimizers().param_groups[0]['lr']\n",
    "            pl_module.log('learning_rate', lr, prog_bar=True)   \n",
    "\n",
    "class BestValRMSELogger(pl.Callback):\n",
    "    def __init__(self):\n",
    "        super().__init__()\n",
    "        self.best_val_rmse = float('inf')\n",
    "\n",
    "    def on_validation_epoch_end(self, trainer, pl_module):\n",
    "        current_val_rmse = trainer.callback_metrics.get('val_rmse')\n",
    "        if current_val_rmse is not None:\n",
    "            self.best_val_rmse = min(self.best_val_rmse, current_val_rmse)\n",
    "            pl_module.log('best_val_rmse', self.best_val_rmse, prog_bar=True)"
   ]
  },
  {
   "cell_type": "markdown",
   "metadata": {},
   "source": [
    "***\n",
    "### load and preprocess data"
   ]
  },
  {
   "cell_type": "code",
   "execution_count": 4,
   "metadata": {},
   "outputs": [
    {
     "data": {
      "text/html": [
       "<div>\n",
       "<style scoped>\n",
       "    .dataframe tbody tr th:only-of-type {\n",
       "        vertical-align: middle;\n",
       "    }\n",
       "\n",
       "    .dataframe tbody tr th {\n",
       "        vertical-align: top;\n",
       "    }\n",
       "\n",
       "    .dataframe thead th {\n",
       "        text-align: right;\n",
       "    }\n",
       "</style>\n",
       "<table border=\"1\" class=\"dataframe\">\n",
       "  <thead>\n",
       "    <tr style=\"text-align: right;\">\n",
       "      <th></th>\n",
       "      <th>Id</th>\n",
       "      <th>GameRulesetName</th>\n",
       "      <th>agent1</th>\n",
       "      <th>agent2</th>\n",
       "      <th>Properties</th>\n",
       "      <th>Format</th>\n",
       "      <th>Time</th>\n",
       "      <th>Discrete</th>\n",
       "      <th>Realtime</th>\n",
       "      <th>Turns</th>\n",
       "      <th>...</th>\n",
       "      <th>DoLudeme</th>\n",
       "      <th>Trigger</th>\n",
       "      <th>PlayoutsPerSecond</th>\n",
       "      <th>MovesPerSecond</th>\n",
       "      <th>EnglishRules</th>\n",
       "      <th>LudRules</th>\n",
       "      <th>num_wins_agent1</th>\n",
       "      <th>num_draws_agent1</th>\n",
       "      <th>num_losses_agent1</th>\n",
       "      <th>utility_agent1</th>\n",
       "    </tr>\n",
       "  </thead>\n",
       "  <tbody>\n",
       "    <tr>\n",
       "      <th>0</th>\n",
       "      <td>0</td>\n",
       "      <td>00Y</td>\n",
       "      <td>MCTS-ProgressiveHistory-0.1-MAST-false</td>\n",
       "      <td>MCTS-ProgressiveHistory-0.6-Random200-false</td>\n",
       "      <td>1</td>\n",
       "      <td>1</td>\n",
       "      <td>1</td>\n",
       "      <td>1</td>\n",
       "      <td>0</td>\n",
       "      <td>1</td>\n",
       "      <td>...</td>\n",
       "      <td>0</td>\n",
       "      <td>1</td>\n",
       "      <td>298.07</td>\n",
       "      <td>18877.17</td>\n",
       "      <td>Goal: Connect all three edge colors with a sin...</td>\n",
       "      <td>(game \"00'Y'\" (players 2) (equipment { (board ...</td>\n",
       "      <td>4</td>\n",
       "      <td>0</td>\n",
       "      <td>11</td>\n",
       "      <td>-0.466667</td>\n",
       "    </tr>\n",
       "    <tr>\n",
       "      <th>1</th>\n",
       "      <td>1</td>\n",
       "      <td>00Y</td>\n",
       "      <td>MCTS-ProgressiveHistory-0.1-MAST-false</td>\n",
       "      <td>MCTS-UCB1GRAVE-0.6-NST-true</td>\n",
       "      <td>1</td>\n",
       "      <td>1</td>\n",
       "      <td>1</td>\n",
       "      <td>1</td>\n",
       "      <td>0</td>\n",
       "      <td>1</td>\n",
       "      <td>...</td>\n",
       "      <td>0</td>\n",
       "      <td>1</td>\n",
       "      <td>298.07</td>\n",
       "      <td>18877.17</td>\n",
       "      <td>Goal: Connect all three edge colors with a sin...</td>\n",
       "      <td>(game \"00'Y'\" (players 2) (equipment { (board ...</td>\n",
       "      <td>5</td>\n",
       "      <td>0</td>\n",
       "      <td>10</td>\n",
       "      <td>-0.333333</td>\n",
       "    </tr>\n",
       "    <tr>\n",
       "      <th>2</th>\n",
       "      <td>2</td>\n",
       "      <td>00Y</td>\n",
       "      <td>MCTS-ProgressiveHistory-0.1-MAST-true</td>\n",
       "      <td>MCTS-UCB1-0.1-NST-false</td>\n",
       "      <td>1</td>\n",
       "      <td>1</td>\n",
       "      <td>1</td>\n",
       "      <td>1</td>\n",
       "      <td>0</td>\n",
       "      <td>1</td>\n",
       "      <td>...</td>\n",
       "      <td>0</td>\n",
       "      <td>1</td>\n",
       "      <td>298.07</td>\n",
       "      <td>18877.17</td>\n",
       "      <td>Goal: Connect all three edge colors with a sin...</td>\n",
       "      <td>(game \"00'Y'\" (players 2) (equipment { (board ...</td>\n",
       "      <td>7</td>\n",
       "      <td>0</td>\n",
       "      <td>8</td>\n",
       "      <td>-0.066667</td>\n",
       "    </tr>\n",
       "    <tr>\n",
       "      <th>3</th>\n",
       "      <td>3</td>\n",
       "      <td>00Y</td>\n",
       "      <td>MCTS-ProgressiveHistory-0.1-MAST-true</td>\n",
       "      <td>MCTS-UCB1-0.6-NST-false</td>\n",
       "      <td>1</td>\n",
       "      <td>1</td>\n",
       "      <td>1</td>\n",
       "      <td>1</td>\n",
       "      <td>0</td>\n",
       "      <td>1</td>\n",
       "      <td>...</td>\n",
       "      <td>0</td>\n",
       "      <td>1</td>\n",
       "      <td>298.07</td>\n",
       "      <td>18877.17</td>\n",
       "      <td>Goal: Connect all three edge colors with a sin...</td>\n",
       "      <td>(game \"00'Y'\" (players 2) (equipment { (board ...</td>\n",
       "      <td>5</td>\n",
       "      <td>0</td>\n",
       "      <td>10</td>\n",
       "      <td>-0.333333</td>\n",
       "    </tr>\n",
       "    <tr>\n",
       "      <th>4</th>\n",
       "      <td>4</td>\n",
       "      <td>00Y</td>\n",
       "      <td>MCTS-ProgressiveHistory-0.1-MAST-true</td>\n",
       "      <td>MCTS-UCB1GRAVE-1.41421356237-NST-false</td>\n",
       "      <td>1</td>\n",
       "      <td>1</td>\n",
       "      <td>1</td>\n",
       "      <td>1</td>\n",
       "      <td>0</td>\n",
       "      <td>1</td>\n",
       "      <td>...</td>\n",
       "      <td>0</td>\n",
       "      <td>1</td>\n",
       "      <td>298.07</td>\n",
       "      <td>18877.17</td>\n",
       "      <td>Goal: Connect all three edge colors with a sin...</td>\n",
       "      <td>(game \"00'Y'\" (players 2) (equipment { (board ...</td>\n",
       "      <td>5</td>\n",
       "      <td>0</td>\n",
       "      <td>10</td>\n",
       "      <td>-0.333333</td>\n",
       "    </tr>\n",
       "    <tr>\n",
       "      <th>...</th>\n",
       "      <td>...</td>\n",
       "      <td>...</td>\n",
       "      <td>...</td>\n",
       "      <td>...</td>\n",
       "      <td>...</td>\n",
       "      <td>...</td>\n",
       "      <td>...</td>\n",
       "      <td>...</td>\n",
       "      <td>...</td>\n",
       "      <td>...</td>\n",
       "      <td>...</td>\n",
       "      <td>...</td>\n",
       "      <td>...</td>\n",
       "      <td>...</td>\n",
       "      <td>...</td>\n",
       "      <td>...</td>\n",
       "      <td>...</td>\n",
       "      <td>...</td>\n",
       "      <td>...</td>\n",
       "      <td>...</td>\n",
       "      <td>...</td>\n",
       "    </tr>\n",
       "    <tr>\n",
       "      <th>233229</th>\n",
       "      <td>233229</td>\n",
       "      <td>Zuz_Mel_7x7</td>\n",
       "      <td>MCTS-UCB1Tuned-1.41421356237-NST-false</td>\n",
       "      <td>MCTS-ProgressiveHistory-1.41421356237-Random20...</td>\n",
       "      <td>1</td>\n",
       "      <td>1</td>\n",
       "      <td>1</td>\n",
       "      <td>1</td>\n",
       "      <td>0</td>\n",
       "      <td>1</td>\n",
       "      <td>...</td>\n",
       "      <td>0</td>\n",
       "      <td>0</td>\n",
       "      <td>157.52</td>\n",
       "      <td>157174.58</td>\n",
       "      <td>7x7 board. 24 pieces per player. Pieces begin ...</td>\n",
       "      <td>(game \"Zuz Mel (7x7)\" (players 2) (equipment {...</td>\n",
       "      <td>2</td>\n",
       "      <td>0</td>\n",
       "      <td>13</td>\n",
       "      <td>-0.733333</td>\n",
       "    </tr>\n",
       "    <tr>\n",
       "      <th>233230</th>\n",
       "      <td>233230</td>\n",
       "      <td>Zuz_Mel_7x7</td>\n",
       "      <td>MCTS-UCB1Tuned-1.41421356237-Random200-false</td>\n",
       "      <td>MCTS-UCB1-0.6-MAST-false</td>\n",
       "      <td>1</td>\n",
       "      <td>1</td>\n",
       "      <td>1</td>\n",
       "      <td>1</td>\n",
       "      <td>0</td>\n",
       "      <td>1</td>\n",
       "      <td>...</td>\n",
       "      <td>0</td>\n",
       "      <td>0</td>\n",
       "      <td>157.52</td>\n",
       "      <td>157174.58</td>\n",
       "      <td>7x7 board. 24 pieces per player. Pieces begin ...</td>\n",
       "      <td>(game \"Zuz Mel (7x7)\" (players 2) (equipment {...</td>\n",
       "      <td>9</td>\n",
       "      <td>1</td>\n",
       "      <td>5</td>\n",
       "      <td>0.266667</td>\n",
       "    </tr>\n",
       "    <tr>\n",
       "      <th>233231</th>\n",
       "      <td>233231</td>\n",
       "      <td>Zuz_Mel_7x7</td>\n",
       "      <td>MCTS-UCB1Tuned-1.41421356237-Random200-false</td>\n",
       "      <td>MCTS-UCB1GRAVE-1.41421356237-NST-false</td>\n",
       "      <td>1</td>\n",
       "      <td>1</td>\n",
       "      <td>1</td>\n",
       "      <td>1</td>\n",
       "      <td>0</td>\n",
       "      <td>1</td>\n",
       "      <td>...</td>\n",
       "      <td>0</td>\n",
       "      <td>0</td>\n",
       "      <td>157.52</td>\n",
       "      <td>157174.58</td>\n",
       "      <td>7x7 board. 24 pieces per player. Pieces begin ...</td>\n",
       "      <td>(game \"Zuz Mel (7x7)\" (players 2) (equipment {...</td>\n",
       "      <td>11</td>\n",
       "      <td>3</td>\n",
       "      <td>1</td>\n",
       "      <td>0.666667</td>\n",
       "    </tr>\n",
       "    <tr>\n",
       "      <th>233232</th>\n",
       "      <td>233232</td>\n",
       "      <td>Zuz_Mel_7x7</td>\n",
       "      <td>MCTS-UCB1Tuned-1.41421356237-Random200-false</td>\n",
       "      <td>MCTS-UCB1GRAVE-1.41421356237-NST-true</td>\n",
       "      <td>1</td>\n",
       "      <td>1</td>\n",
       "      <td>1</td>\n",
       "      <td>1</td>\n",
       "      <td>0</td>\n",
       "      <td>1</td>\n",
       "      <td>...</td>\n",
       "      <td>0</td>\n",
       "      <td>0</td>\n",
       "      <td>157.52</td>\n",
       "      <td>157174.58</td>\n",
       "      <td>7x7 board. 24 pieces per player. Pieces begin ...</td>\n",
       "      <td>(game \"Zuz Mel (7x7)\" (players 2) (equipment {...</td>\n",
       "      <td>24</td>\n",
       "      <td>2</td>\n",
       "      <td>4</td>\n",
       "      <td>0.666667</td>\n",
       "    </tr>\n",
       "    <tr>\n",
       "      <th>233233</th>\n",
       "      <td>233233</td>\n",
       "      <td>Zuz_Mel_7x7</td>\n",
       "      <td>MCTS-UCB1Tuned-1.41421356237-Random200-true</td>\n",
       "      <td>MCTS-UCB1Tuned-0.6-MAST-false</td>\n",
       "      <td>1</td>\n",
       "      <td>1</td>\n",
       "      <td>1</td>\n",
       "      <td>1</td>\n",
       "      <td>0</td>\n",
       "      <td>1</td>\n",
       "      <td>...</td>\n",
       "      <td>0</td>\n",
       "      <td>0</td>\n",
       "      <td>157.52</td>\n",
       "      <td>157174.58</td>\n",
       "      <td>7x7 board. 24 pieces per player. Pieces begin ...</td>\n",
       "      <td>(game \"Zuz Mel (7x7)\" (players 2) (equipment {...</td>\n",
       "      <td>9</td>\n",
       "      <td>1</td>\n",
       "      <td>5</td>\n",
       "      <td>0.266667</td>\n",
       "    </tr>\n",
       "  </tbody>\n",
       "</table>\n",
       "<p>233234 rows × 814 columns</p>\n",
       "</div>"
      ],
      "text/plain": [
       "            Id GameRulesetName                                        agent1  \\\n",
       "0            0             00Y        MCTS-ProgressiveHistory-0.1-MAST-false   \n",
       "1            1             00Y        MCTS-ProgressiveHistory-0.1-MAST-false   \n",
       "2            2             00Y         MCTS-ProgressiveHistory-0.1-MAST-true   \n",
       "3            3             00Y         MCTS-ProgressiveHistory-0.1-MAST-true   \n",
       "4            4             00Y         MCTS-ProgressiveHistory-0.1-MAST-true   \n",
       "...        ...             ...                                           ...   \n",
       "233229  233229     Zuz_Mel_7x7        MCTS-UCB1Tuned-1.41421356237-NST-false   \n",
       "233230  233230     Zuz_Mel_7x7  MCTS-UCB1Tuned-1.41421356237-Random200-false   \n",
       "233231  233231     Zuz_Mel_7x7  MCTS-UCB1Tuned-1.41421356237-Random200-false   \n",
       "233232  233232     Zuz_Mel_7x7  MCTS-UCB1Tuned-1.41421356237-Random200-false   \n",
       "233233  233233     Zuz_Mel_7x7   MCTS-UCB1Tuned-1.41421356237-Random200-true   \n",
       "\n",
       "                                                   agent2  Properties  Format  \\\n",
       "0             MCTS-ProgressiveHistory-0.6-Random200-false           1       1   \n",
       "1                             MCTS-UCB1GRAVE-0.6-NST-true           1       1   \n",
       "2                                 MCTS-UCB1-0.1-NST-false           1       1   \n",
       "3                                 MCTS-UCB1-0.6-NST-false           1       1   \n",
       "4                  MCTS-UCB1GRAVE-1.41421356237-NST-false           1       1   \n",
       "...                                                   ...         ...     ...   \n",
       "233229  MCTS-ProgressiveHistory-1.41421356237-Random20...           1       1   \n",
       "233230                           MCTS-UCB1-0.6-MAST-false           1       1   \n",
       "233231             MCTS-UCB1GRAVE-1.41421356237-NST-false           1       1   \n",
       "233232              MCTS-UCB1GRAVE-1.41421356237-NST-true           1       1   \n",
       "233233                      MCTS-UCB1Tuned-0.6-MAST-false           1       1   \n",
       "\n",
       "        Time  Discrete  Realtime  Turns  ...  DoLudeme  Trigger  \\\n",
       "0          1         1         0      1  ...         0        1   \n",
       "1          1         1         0      1  ...         0        1   \n",
       "2          1         1         0      1  ...         0        1   \n",
       "3          1         1         0      1  ...         0        1   \n",
       "4          1         1         0      1  ...         0        1   \n",
       "...      ...       ...       ...    ...  ...       ...      ...   \n",
       "233229     1         1         0      1  ...         0        0   \n",
       "233230     1         1         0      1  ...         0        0   \n",
       "233231     1         1         0      1  ...         0        0   \n",
       "233232     1         1         0      1  ...         0        0   \n",
       "233233     1         1         0      1  ...         0        0   \n",
       "\n",
       "        PlayoutsPerSecond  MovesPerSecond  \\\n",
       "0                  298.07        18877.17   \n",
       "1                  298.07        18877.17   \n",
       "2                  298.07        18877.17   \n",
       "3                  298.07        18877.17   \n",
       "4                  298.07        18877.17   \n",
       "...                   ...             ...   \n",
       "233229             157.52       157174.58   \n",
       "233230             157.52       157174.58   \n",
       "233231             157.52       157174.58   \n",
       "233232             157.52       157174.58   \n",
       "233233             157.52       157174.58   \n",
       "\n",
       "                                             EnglishRules  \\\n",
       "0       Goal: Connect all three edge colors with a sin...   \n",
       "1       Goal: Connect all three edge colors with a sin...   \n",
       "2       Goal: Connect all three edge colors with a sin...   \n",
       "3       Goal: Connect all three edge colors with a sin...   \n",
       "4       Goal: Connect all three edge colors with a sin...   \n",
       "...                                                   ...   \n",
       "233229  7x7 board. 24 pieces per player. Pieces begin ...   \n",
       "233230  7x7 board. 24 pieces per player. Pieces begin ...   \n",
       "233231  7x7 board. 24 pieces per player. Pieces begin ...   \n",
       "233232  7x7 board. 24 pieces per player. Pieces begin ...   \n",
       "233233  7x7 board. 24 pieces per player. Pieces begin ...   \n",
       "\n",
       "                                                 LudRules  num_wins_agent1  \\\n",
       "0       (game \"00'Y'\" (players 2) (equipment { (board ...                4   \n",
       "1       (game \"00'Y'\" (players 2) (equipment { (board ...                5   \n",
       "2       (game \"00'Y'\" (players 2) (equipment { (board ...                7   \n",
       "3       (game \"00'Y'\" (players 2) (equipment { (board ...                5   \n",
       "4       (game \"00'Y'\" (players 2) (equipment { (board ...                5   \n",
       "...                                                   ...              ...   \n",
       "233229  (game \"Zuz Mel (7x7)\" (players 2) (equipment {...                2   \n",
       "233230  (game \"Zuz Mel (7x7)\" (players 2) (equipment {...                9   \n",
       "233231  (game \"Zuz Mel (7x7)\" (players 2) (equipment {...               11   \n",
       "233232  (game \"Zuz Mel (7x7)\" (players 2) (equipment {...               24   \n",
       "233233  (game \"Zuz Mel (7x7)\" (players 2) (equipment {...                9   \n",
       "\n",
       "        num_draws_agent1  num_losses_agent1  utility_agent1  \n",
       "0                      0                 11       -0.466667  \n",
       "1                      0                 10       -0.333333  \n",
       "2                      0                  8       -0.066667  \n",
       "3                      0                 10       -0.333333  \n",
       "4                      0                 10       -0.333333  \n",
       "...                  ...                ...             ...  \n",
       "233229                 0                 13       -0.733333  \n",
       "233230                 1                  5        0.266667  \n",
       "233231                 3                  1        0.666667  \n",
       "233232                 2                  4        0.666667  \n",
       "233233                 1                  5        0.266667  \n",
       "\n",
       "[233234 rows x 814 columns]"
      ]
     },
     "execution_count": 4,
     "metadata": {},
     "output_type": "execute_result"
    }
   ],
   "source": [
    "# define some paths\n",
    "path_raw = Path(\"../data/raw\")\n",
    "path_processed = Path(\"../data/processed\")\n",
    "path_results = Path(\"../data/results\")\n",
    "\n",
    "# load data\n",
    "df_train = pd.read_csv(path_raw / \"train.csv\")\n",
    "df_test = pd.read_csv(path_raw / \"test.csv\")\n",
    "\n",
    "df_train"
   ]
  },
  {
   "cell_type": "code",
   "execution_count": 5,
   "metadata": {},
   "outputs": [],
   "source": [
    "# Load the feature selection results\n",
    "fs_type = 'uni95'"
   ]
  },
  {
   "cell_type": "code",
   "execution_count": 6,
   "metadata": {},
   "outputs": [
    {
     "name": "stdout",
     "output_type": "stream",
     "text": [
      "Numerical features: 396\n",
      "Categorical features: 10\n",
      "Text features: 0\n"
     ]
    }
   ],
   "source": [
    "fs_mapping = {\n",
    "    \"full\": None,\n",
    "    \"fsv2\": '../feat_selection/select_optuna_lgbm_v2.json',\n",
    "    \"fsv3\": '../feat_selection/select_optuna_catb.json',\n",
    "    \"fsv4\": '../feat_selection/select_optuna_lgbm_v3.json',\n",
    "    \"fsv23\": '../feat_selection/select_optuna_combined_v23.json',\n",
    "    \"fsv24\": '../feat_selection/select_optuna_combined_v24.json',\n",
    "    \"fsv34\": '../feat_selection/select_optuna_combined_v34.json',\n",
    "    \"int95\": '../feat_selection/feat_selection_intersection_at_95.json',\n",
    "    \"int96\": '../feat_selection/feat_selection_intersection_at_96.json',\n",
    "    \"int97\": '../feat_selection/feat_selection_intersection_at_97.json',\n",
    "    \"int98\": '../feat_selection/feat_selection_intersection_at_98.json',\n",
    "    \"int99\": '../feat_selection/feat_selection_intersection_at_99.json',\n",
    "    \"uni80\": '../feat_selection/feat_selection_union_at_80.json',\n",
    "    \"uni85\": '../feat_selection/feat_selection_union_at_85.json',\n",
    "    \"uni90\": '../feat_selection/feat_selection_union_at_90.json',\n",
    "    \"uni95\": '../feat_selection/feat_selection_union_at_95.json',\n",
    "}\n",
    "\n",
    "fs_path = fs_mapping[fs_type]\n",
    "\n",
    "if fs_path is None:\n",
    "    feature_selection = dict()\n",
    "else:\n",
    "    with open(fs_path, 'r') as f:\n",
    "        feature_selection = json.load(f)\n",
    "\n",
    "# Extract the selected features\n",
    "numerical_cols = feature_selection.get('numerical', None)\n",
    "categorical_cols = feature_selection.get('categorical', None)\n",
    "\n",
    "# text_cols = [\"LudRules\",]\n",
    "text_cols = list()\n",
    "\n",
    "print(\"Numerical features:\", len(numerical_cols) if numerical_cols else 0)\n",
    "print(\"Categorical features:\", len(categorical_cols) if categorical_cols else 0)\n",
    "print(\"Text features:\", len(text_cols) if text_cols else 0)"
   ]
  },
  {
   "cell_type": "code",
   "execution_count": 7,
   "metadata": {},
   "outputs": [
    {
     "name": "stdout",
     "output_type": "stream",
     "text": [
      "number of all nan cols:  0\n",
      "number of constant cols:  0\n",
      "Numerical Columns: 396\n",
      "Categorical Columns: 10\n"
     ]
    }
   ],
   "source": [
    "df_train, numerical_cols, categorical_cols, encoder, scaler = process_train_data(\n",
    "    df_train,\n",
    "    scale=True,\n",
    "    scale_type=\"minmax\",\n",
    "    numerical_cols=numerical_cols,\n",
    "    categorical_cols=categorical_cols,\n",
    "    include_position_features=False,\n",
    "    include_text_features=False,\n",
    ")\n",
    "\n",
    "# Print the results\n",
    "print(\"Numerical Columns:\", len(numerical_cols))\n",
    "print(\"Categorical Columns:\", len(categorical_cols))"
   ]
  },
  {
   "cell_type": "code",
   "execution_count": 8,
   "metadata": {},
   "outputs": [
    {
     "name": "stdout",
     "output_type": "stream",
     "text": [
      "[2, 3, 3, 3, 3, 72, 4, 4, 2, 72]\n"
     ]
    }
   ],
   "source": [
    "cat_input_dims = df_train[categorical_cols].nunique(axis=0).values.tolist()\n",
    "print(cat_input_dims)"
   ]
  },
  {
   "cell_type": "code",
   "execution_count": 9,
   "metadata": {},
   "outputs": [],
   "source": [
    "# split1 = pickle.load(open('../data/splits/cv1_Game.pkl', 'rb'))\n",
    "# split2 = pickle.load(open('../data/splits/cv2_Game.pkl', 'rb'))\n",
    "# split3 = pickle.load(open('../data/splits/cv3_Game.pkl', 'rb'))\n",
    "split4 = pickle.load(open('../data/splits/cv4_Game.pkl', 'rb'))\n"
   ]
  },
  {
   "cell_type": "markdown",
   "metadata": {},
   "source": [
    "***\n",
    "### train model\n"
   ]
  },
  {
   "cell_type": "code",
   "execution_count": 10,
   "metadata": {},
   "outputs": [],
   "source": [
    "class SoftOrdering1DCNN(pl.LightningModule):\n",
    "\n",
    "    def __init__(self, \n",
    "            num_input_dim: int,\n",
    "            cat_input_dims: list[int],\n",
    "            output_dim: int,\n",
    "            sign_size: int = 32,\n",
    "            cha_input: int = 16, \n",
    "            cha_hidden: int = 32,\n",
    "            K: int = 2,\n",
    "            dropout_input: float = 0.2,\n",
    "            dropout_hidden: float = 0.2, \n",
    "            dropout_output: float = 0.2,\n",
    "            embedding_dropout: float = 0.2,\n",
    "            learning_rate: float = 1e-3,\n",
    "            weight_decay: float = 1e-5,\n",
    "            embedding_dim: Optional[List[int]] = None,\n",
    "            pct_start: float = 0.2,\n",
    "            div_factor: float = 10.0,\n",
    "            final_div_factor: float = 1e4):\n",
    "        super().__init__()\n",
    "        self.save_hyperparameters()\n",
    "\n",
    "        # Initialize embedding dimensions if not provided\n",
    "        if embedding_dim is None:\n",
    "            embedding_dim = [min(50, int(1 + np.ceil(np.sqrt(dim)))) for dim in cat_input_dims]\n",
    "        elif len(embedding_dim) != len(cat_input_dims):\n",
    "            raise ValueError(\"Length of embedding_dim must match number of categorical features.\")\n",
    "        \n",
    "        self.embedding_dim = embedding_dim\n",
    "        self.embedding_dropout = embedding_dropout\n",
    "        \n",
    "        # Create embedding layers\n",
    "        self.embeddings = nn.ModuleList(\n",
    "            [nn.Embedding(dim, emb_dim) for dim, emb_dim in zip(cat_input_dims, embedding_dim)]\n",
    "        )\n",
    "        self.embedding_dropout_layer = nn.Dropout(self.embedding_dropout)\n",
    "\n",
    "        # Calculate total input dimension after embeddings\n",
    "        total_embedding_dim = sum(self.embedding_dim)\n",
    "        total_input_dim = num_input_dim + total_embedding_dim\n",
    "\n",
    "        # CNN architecture parameters\n",
    "        hidden_size = sign_size * cha_input\n",
    "        self.sign_size1 = sign_size\n",
    "        self.sign_size2 = sign_size//2\n",
    "        self.output_size = (sign_size//4) * cha_hidden\n",
    "        self.cha_input = cha_input\n",
    "        self.cha_hidden = cha_hidden\n",
    "        self.K = K\n",
    "\n",
    "        # Input projection\n",
    "        self.batch_norm1 = nn.BatchNorm1d(total_input_dim)\n",
    "        self.dropout1 = nn.Dropout(dropout_input)\n",
    "        dense1 = nn.Linear(total_input_dim, hidden_size, bias=False)\n",
    "        self.dense1 = nn.utils.weight_norm(dense1)\n",
    "\n",
    "        # 1st conv layer\n",
    "        self.batch_norm_c1 = nn.BatchNorm1d(cha_input)\n",
    "        conv1 = nn.Conv1d(\n",
    "            cha_input, \n",
    "            cha_input*K, \n",
    "            kernel_size=5, \n",
    "            stride=1, \n",
    "            padding=2,  \n",
    "            groups=cha_input, \n",
    "            bias=False)\n",
    "        self.conv1 = nn.utils.weight_norm(conv1, dim=None)\n",
    "        self.ave_po_c1 = nn.AdaptiveAvgPool1d(output_size=self.sign_size2)\n",
    "\n",
    "        # 2nd conv layer\n",
    "        self.batch_norm_c2 = nn.BatchNorm1d(cha_input*K)\n",
    "        self.dropout_c2 = nn.Dropout(dropout_hidden)\n",
    "        conv2 = nn.Conv1d(\n",
    "            cha_input*K, \n",
    "            cha_hidden, \n",
    "            kernel_size=3, \n",
    "            stride=1, \n",
    "            padding=1, \n",
    "            bias=False)\n",
    "        self.conv2 = nn.utils.weight_norm(conv2, dim=None)\n",
    "\n",
    "        # 3rd conv layer\n",
    "        self.batch_norm_c3 = nn.BatchNorm1d(cha_hidden)\n",
    "        self.dropout_c3 = nn.Dropout(dropout_hidden)\n",
    "        conv3 = nn.Conv1d(\n",
    "            cha_hidden, \n",
    "            cha_hidden, \n",
    "            kernel_size=3, \n",
    "            stride=1, \n",
    "            padding=1, \n",
    "            bias=False)\n",
    "        self.conv3 = nn.utils.weight_norm(conv3, dim=None)\n",
    "\n",
    "        # 4th conv layer\n",
    "        self.batch_norm_c4 = nn.BatchNorm1d(cha_hidden)\n",
    "        conv4 = nn.Conv1d(\n",
    "            cha_hidden, \n",
    "            cha_hidden, \n",
    "            kernel_size=5, \n",
    "            stride=1, \n",
    "            padding=2, \n",
    "            groups=cha_hidden, \n",
    "            bias=False)\n",
    "        self.conv4 = nn.utils.weight_norm(conv4, dim=None)\n",
    "\n",
    "        self.avg_po_c4 = nn.AvgPool1d(kernel_size=4, stride=2, padding=1)\n",
    "        self.flt = nn.Flatten()\n",
    "\n",
    "        # Output head\n",
    "        self.batch_norm2 = nn.BatchNorm1d(self.output_size)\n",
    "        self.dropout2 = nn.Dropout(dropout_output)\n",
    "        dense2 = nn.Linear(self.output_size, output_dim, bias=False)\n",
    "        self.dense2 = nn.utils.weight_norm(dense2)\n",
    "\n",
    "        # Training parameters\n",
    "        self.learning_rate = learning_rate\n",
    "        self.weight_decay = weight_decay\n",
    "        self.pct_start = pct_start\n",
    "        self.div_factor = div_factor\n",
    "        self.final_div_factor = final_div_factor\n",
    "\n",
    "        # Initialize lists to store validation outputs\n",
    "        self.validation_targets = []\n",
    "        self.validation_predictions = []\n",
    "\n",
    "    def forward(self, x_num, x_cat):\n",
    "        # Process categorical variables\n",
    "        embedded = [emb(x_cat[:, i]) for i, emb in enumerate(self.embeddings)]\n",
    "        embedded = torch.cat(embedded, dim=1)\n",
    "        embedded = self.embedding_dropout_layer(embedded)\n",
    "        \n",
    "        # Concatenate numerical and embedded categorical features\n",
    "        x = torch.cat([x_num, embedded], dim=1)\n",
    "\n",
    "        # Input projection\n",
    "        x = self.batch_norm1(x)\n",
    "        x = self.dropout1(x)\n",
    "        x = nn.functional.celu(self.dense1(x))\n",
    "\n",
    "        # Reshape for CNN\n",
    "        x = x.reshape(x.shape[0], self.cha_input, self.sign_size1)\n",
    "\n",
    "        # CNN backbone\n",
    "        x = self.batch_norm_c1(x)\n",
    "        x = nn.functional.leaky_relu(self.conv1(x))\n",
    "        x = self.ave_po_c1(x)\n",
    "\n",
    "        x = self.batch_norm_c2(x)\n",
    "        x = self.dropout_c2(x)\n",
    "        x = nn.functional.leaky_relu(self.conv2(x))\n",
    "        x_s = x\n",
    "\n",
    "        x = self.batch_norm_c3(x)\n",
    "        x = self.dropout_c3(x)\n",
    "        x = nn.functional.leaky_relu(self.conv3(x))\n",
    "\n",
    "        x = self.batch_norm_c4(x)\n",
    "        x = self.conv4(x)\n",
    "        x = x + x_s\n",
    "        x = nn.functional.leaky_relu(x)\n",
    "\n",
    "        x = self.avg_po_c4(x)\n",
    "        x = self.flt(x)\n",
    "\n",
    "        # Output head\n",
    "        x = self.batch_norm2(x)\n",
    "        x = self.dropout2(x)\n",
    "        x = self.dense2(x)\n",
    "        x = nn.functional.hardtanh(x)\n",
    "\n",
    "        return x.squeeze(-1)\n",
    "\n",
    "    def training_step(self, batch, batch_idx):\n",
    "        x_num, x_cat, y = batch\n",
    "        y_hat = self(x_num, x_cat)\n",
    "        loss = F.mse_loss(y_hat, y)\n",
    "        self.log('train_loss', loss, prog_bar=True)\n",
    "        return loss\n",
    "    \n",
    "    def validation_step(self, batch, batch_idx):\n",
    "        x_num, x_cat, y = batch\n",
    "        y_hat = self(x_num, x_cat)\n",
    "        loss = F.mse_loss(y_hat, y)\n",
    "        self.log('valid_loss', loss, prog_bar=True)\n",
    "        # Store targets and predictions for later use\n",
    "        self.validation_targets.append(y)\n",
    "        self.validation_predictions.append(y_hat)\n",
    "        return loss\n",
    "    \n",
    "    def predict_step(self, batch, batch_idx):\n",
    "        if len(batch) == 2:\n",
    "            x_num, x_cat = batch\n",
    "        elif len(batch) == 3:\n",
    "            x_num, x_cat, _ = batch\n",
    "        y_hat = self(x_num, x_cat)\n",
    "        return y_hat\n",
    "\n",
    "    def on_validation_epoch_end(self):\n",
    "        # Concatenate all targets and predictions\n",
    "        y = torch.cat(self.validation_targets)\n",
    "        y_hat = torch.cat(self.validation_predictions)\n",
    "        rmse = torch.sqrt(F.mse_loss(y_hat, y))\n",
    "        self.log('val_rmse', rmse, prog_bar=True)\n",
    "        # Clear the lists for next epoch\n",
    "        self.validation_targets.clear()\n",
    "        self.validation_predictions.clear()\n",
    "                \n",
    "    def configure_optimizers(self):\n",
    "        optimizer = torch.optim.Adam(\n",
    "            self.parameters(), \n",
    "            lr=self.learning_rate, \n",
    "            weight_decay=self.weight_decay,\n",
    "        )\n",
    "        scheduler = OneCycleLR(\n",
    "            optimizer,\n",
    "            max_lr=self.learning_rate,\n",
    "            total_steps=self.trainer.estimated_stepping_batches,\n",
    "            pct_start=self.pct_start,\n",
    "            div_factor=self.div_factor,\n",
    "            final_div_factor=self.final_div_factor,\n",
    "            anneal_strategy='cos',\n",
    "            cycle_momentum=True,\n",
    "            base_momentum=0.85,\n",
    "            max_momentum=0.95,\n",
    "        )\n",
    "        return {\n",
    "            \"optimizer\": optimizer,\n",
    "            \"lr_scheduler\": {\n",
    "                \"scheduler\": scheduler,\n",
    "                \"interval\": \"step\",\n",
    "            },\n",
    "        }"
   ]
  },
  {
   "cell_type": "code",
   "execution_count": 11,
   "metadata": {},
   "outputs": [],
   "source": [
    "def train_and_score(\n",
    "        # training params\n",
    "        batch_size=512,\n",
    "        embedding_dropout=0.2,\n",
    "        learning_rate=5e-3,\n",
    "        weight_decay=1e-5,\n",
    "        pct_start=0.05,\n",
    "        div_factor=100,\n",
    "        final_div_factor=100,\n",
    "        max_epochs=100,\n",
    "        # model params\n",
    "        sign_size=16,\n",
    "        cha_input=64,\n",
    "        cha_hidden=32,\n",
    "        K=2,\n",
    "        dropout_input=0.2,\n",
    "        dropout_hidden=0.1,\n",
    "        dropout_output=0.1,\n",
    "    ):\n",
    "    \"\"\"Train multiple 1DCNN models using cross-validation and return mean RMSE score.\n",
    "    \n",
    "    Args:\n",
    "        batch_size: Batch size for training\n",
    "        embedding_dropout: Dropout rate for embeddings\n",
    "        learning_rate: Learning rate\n",
    "        weight_decay: Weight decay\n",
    "        pct_start: Percentage of training to increase learning rate\n",
    "        div_factor: Initial learning rate division factor\n",
    "        final_div_factor: Final learning rate division factor\n",
    "        max_epochs: Maximum number of epochs\n",
    "        sign_size: Size of sign embeddings\n",
    "        cha_input: Number of input channels\n",
    "        cha_hidden: Number of hidden channels\n",
    "        K: Number of CNN layers\n",
    "        dropout_input: Input dropout rate\n",
    "        dropout_hidden: Hidden layer dropout rate\n",
    "        dropout_output: Output dropout rate\n",
    "        \n",
    "    Returns:\n",
    "        float: Mean RMSE score across folds\n",
    "    \"\"\"\n",
    "    oof_scores = []\n",
    "\n",
    "    # Perform cross-validation\n",
    "    for fold, (train_index, val_index) in enumerate(split4[:3], 1):\n",
    "        # Split the data\n",
    "        X_train = df_train.iloc[train_index][numerical_cols + categorical_cols]\n",
    "        y_train = df_train.iloc[train_index]['utility_agent1']\n",
    "        X_valid = df_train.iloc[val_index][numerical_cols + categorical_cols]\n",
    "        y_valid = df_train.iloc[val_index]['utility_agent1']\n",
    "\n",
    "        lgbm_encoder = LGBMLeavesEncoder(\n",
    "            num_cols=numerical_cols,\n",
    "            cat_cols=categorical_cols,\n",
    "            task='regression',\n",
    "            n_estimators=100,\n",
    "            num_leaves=63,\n",
    "            random_state=2112,\n",
    "            verbosity=-1,\n",
    "        )\n",
    "        lgbm_encoder.fit(X_train, y_train)\n",
    "        X_train_leaves_lgbm = lgbm_encoder.transform(X_train, verbose=False)\n",
    "        X_valid_leaves_lgbm = lgbm_encoder.transform(X_valid)\n",
    "        \n",
    "        X_train = pd.concat([X_train, X_train_leaves_lgbm], axis=1)\n",
    "        X_valid = pd.concat([X_valid, X_valid_leaves_lgbm], axis=1) \n",
    "\n",
    "        _categorical_cols = (\n",
    "            categorical_cols + lgbm_encoder.new_columns\n",
    "        )\n",
    "        _cat_input_dims = (\n",
    "            df_train[categorical_cols].nunique(axis=0).values.tolist() + [63]*len(lgbm_encoder.new_columns)\n",
    "        )\n",
    "\n",
    "        train_dataset = TensorDataset(\n",
    "            torch.tensor(X_train[numerical_cols].values, dtype=torch.float32),\n",
    "            torch.tensor(X_train[_categorical_cols].values, dtype=torch.int32),\n",
    "            torch.tensor(y_train.values, dtype=torch.float32)\n",
    "        )\n",
    "        train_loader = DataLoader(\n",
    "            train_dataset,\n",
    "            batch_size=batch_size,\n",
    "            shuffle=True,\n",
    "            num_workers=8,\n",
    "            persistent_workers=True\n",
    "        )\n",
    "\n",
    "        valid_dataset = TensorDataset(\n",
    "            torch.tensor(X_valid[numerical_cols].values, dtype=torch.float32),\n",
    "            torch.tensor(X_valid[_categorical_cols].values, dtype=torch.int32),\n",
    "            torch.tensor(y_valid.values, dtype=torch.float32)\n",
    "        )\n",
    "        valid_loader = DataLoader(\n",
    "            valid_dataset,\n",
    "            batch_size=batch_size,\n",
    "            shuffle=False,\n",
    "            num_workers=8,\n",
    "            persistent_workers=True\n",
    "        )\n",
    "\n",
    "        model = SoftOrdering1DCNN(\n",
    "            num_input_dim=len(numerical_cols),\n",
    "            cat_input_dims=_cat_input_dims,\n",
    "            output_dim=1,\n",
    "            # model params\n",
    "            sign_size=sign_size,\n",
    "            cha_input=cha_input,\n",
    "            cha_hidden=cha_hidden,\n",
    "            K=K,\n",
    "            dropout_input=dropout_input,\n",
    "            dropout_hidden=dropout_hidden,\n",
    "            dropout_output=dropout_output,\n",
    "            embedding_dropout=embedding_dropout,\n",
    "            # training params\n",
    "            learning_rate=learning_rate,\n",
    "            weight_decay=weight_decay,\n",
    "            pct_start=pct_start,\n",
    "            div_factor=div_factor,\n",
    "            final_div_factor=final_div_factor,\n",
    "        )\n",
    "        trainer = pl.Trainer(\n",
    "            max_epochs=max_epochs,\n",
    "            accelerator=\"mps\",\n",
    "            callbacks=[\n",
    "                EarlyStopping(\n",
    "                    monitor='val_rmse',\n",
    "                    patience=10,\n",
    "                    mode='min',\n",
    "                    verbose=False\n",
    "                ),\n",
    "                ModelCheckpoint(monitor='val_rmse', mode='min', save_top_k=1),\n",
    "            ],\n",
    "            enable_progress_bar=False,\n",
    "            logger=False,\n",
    "        )\n",
    "        trainer.fit(\n",
    "            model,\n",
    "            train_loader,\n",
    "            valid_loader,\n",
    "        )\n",
    "\n",
    "        # Load the best model\n",
    "        best_model_path = trainer.checkpoint_callback.best_model_path\n",
    "        model = SoftOrdering1DCNN.load_from_checkpoint(best_model_path)\n",
    "\n",
    "        # Predict on validation set\n",
    "        predictions = trainer.predict(model, dataloaders=valid_loader)\n",
    "        y_pred = torch.cat(predictions).squeeze().cpu().numpy()\n",
    "         \n",
    "        # Compute RMSE\n",
    "        rmse = np.sqrt(np.mean((y_pred - y_valid.values) ** 2))\n",
    "        oof_scores.append(rmse)\n",
    "\n",
    "    return np.mean(oof_scores)\n"
   ]
  },
  {
   "cell_type": "code",
   "execution_count": 12,
   "metadata": {},
   "outputs": [],
   "source": [
    "def objective(trial):\n",
    "    # training params\n",
    "    batch_size = trial.suggest_int('batch_size', 128, 512, step=128)\n",
    "    learning_rate = trial.suggest_float('learning_rate', 1e-4, 1e-2, log=True)\n",
    "    weight_decay = trial.suggest_float('weight_decay', 1e-5, 1e-2, log=True)\n",
    "    pct_start = trial.suggest_float('pct_start', 0.01, 0.1, step=0.01)\n",
    "    div_factor = trial.suggest_float('div_factor', 1.0, 100.0, step=1.0)\n",
    "    final_div_factor = trial.suggest_float('final_div_factor', 1.0, 100.0, step=1.0)\n",
    "    max_epochs = trial.suggest_int('max_epochs', 20, 100, step=5)\n",
    "    # model params\n",
    "    sign_size = trial.suggest_int('sign_size', 8, 32, step=8)\n",
    "    cha_input = trial.suggest_int('cha_input', 32, 128, step=16)\n",
    "    cha_hidden = trial.suggest_int('cha_hidden', 32, 128, step=16)\n",
    "    K = trial.suggest_int('K', 1, 4)\n",
    "    # dropout\n",
    "    embedding_dropout = trial.suggest_float('embedding_dropout', 0.0, 0.3, step=0.05)\n",
    "    dropout_input = trial.suggest_float('dropout_input', 0.0, 0.3, step=0.05)\n",
    "    dropout_hidden = trial.suggest_float('dropout_hidden', 0.0, 0.3, step=0.05) \n",
    "    dropout_output = trial.suggest_float('dropout_output', 0.0, 0.3, step=0.05)\n",
    "\n",
    "    # Train and evaluate the model with the suggested hyperparameters\n",
    "    oof_score = train_and_score(\n",
    "        batch_size=batch_size,\n",
    "        embedding_dropout=embedding_dropout,\n",
    "        learning_rate=learning_rate,\n",
    "        weight_decay=weight_decay,\n",
    "        pct_start=pct_start,\n",
    "        div_factor=div_factor,\n",
    "        final_div_factor=final_div_factor,\n",
    "        max_epochs=max_epochs,\n",
    "        sign_size=sign_size,\n",
    "        cha_input=cha_input,\n",
    "        cha_hidden=cha_hidden,\n",
    "        K=K,\n",
    "        dropout_input=dropout_input,\n",
    "        dropout_hidden=dropout_hidden,\n",
    "        dropout_output=dropout_output\n",
    "    )\n",
    "\n",
    "    return oof_score\n"
   ]
  },
  {
   "cell_type": "code",
   "execution_count": 13,
   "metadata": {},
   "outputs": [
    {
     "name": "stderr",
     "output_type": "stream",
     "text": [
      "[I 2024-12-01 22:52:12,202] Using an existing study with name '1dcnn' instead of creating a new one.\n"
     ]
    }
   ],
   "source": [
    "do_optimize = False\n",
    "timeout = 3600 * 72\n",
    "\n",
    "study = optuna.create_study(\n",
    "    study_name=\"1dcnn\",\n",
    "    direction='minimize',\n",
    "    storage='sqlite:///1dcnn.db',\n",
    "    load_if_exists=True,\n",
    ")\n",
    "\n",
    "if do_optimize:\n",
    "    study.optimize(\n",
    "        objective, \n",
    "        n_trials=1000, \n",
    "        timeout=timeout,\n",
    "        n_jobs=1, \n",
    "        gc_after_trial=True,\n",
    "    ) "
   ]
  },
  {
   "cell_type": "code",
   "execution_count": 24,
   "metadata": {},
   "outputs": [
    {
     "data": {
      "text/plain": [
       "48"
      ]
     },
     "execution_count": 24,
     "metadata": {},
     "output_type": "execute_result"
    }
   ],
   "source": [
    "len(study.trials_dataframe())"
   ]
  },
  {
   "cell_type": "code",
   "execution_count": 26,
   "metadata": {},
   "outputs": [
    {
     "data": {
      "text/html": [
       "<div>\n",
       "<style scoped>\n",
       "    .dataframe tbody tr th:only-of-type {\n",
       "        vertical-align: middle;\n",
       "    }\n",
       "\n",
       "    .dataframe tbody tr th {\n",
       "        vertical-align: top;\n",
       "    }\n",
       "\n",
       "    .dataframe thead th {\n",
       "        text-align: right;\n",
       "    }\n",
       "</style>\n",
       "<table border=\"1\" class=\"dataframe\">\n",
       "  <thead>\n",
       "    <tr style=\"text-align: right;\">\n",
       "      <th></th>\n",
       "      <th>number</th>\n",
       "      <th>value</th>\n",
       "      <th>datetime_start</th>\n",
       "      <th>datetime_complete</th>\n",
       "      <th>duration</th>\n",
       "      <th>params_K</th>\n",
       "      <th>params_batch_size</th>\n",
       "      <th>params_cha_hidden</th>\n",
       "      <th>params_cha_input</th>\n",
       "      <th>params_div_factor</th>\n",
       "      <th>params_dropout_hidden</th>\n",
       "      <th>params_dropout_input</th>\n",
       "      <th>params_dropout_output</th>\n",
       "      <th>params_embedding_dropout</th>\n",
       "      <th>params_final_div_factor</th>\n",
       "      <th>params_learning_rate</th>\n",
       "      <th>params_max_epochs</th>\n",
       "      <th>params_pct_start</th>\n",
       "      <th>params_sign_size</th>\n",
       "      <th>params_weight_decay</th>\n",
       "      <th>state</th>\n",
       "    </tr>\n",
       "  </thead>\n",
       "  <tbody>\n",
       "    <tr>\n",
       "      <th>29</th>\n",
       "      <td>29</td>\n",
       "      <td>0.414955</td>\n",
       "      <td>2024-11-30 23:45:19.424336</td>\n",
       "      <td>2024-12-01 00:09:02.424595</td>\n",
       "      <td>0 days 00:23:43.000259</td>\n",
       "      <td>1</td>\n",
       "      <td>384</td>\n",
       "      <td>64</td>\n",
       "      <td>64</td>\n",
       "      <td>18.0</td>\n",
       "      <td>0.10</td>\n",
       "      <td>0.20</td>\n",
       "      <td>0.15</td>\n",
       "      <td>0.10</td>\n",
       "      <td>38.0</td>\n",
       "      <td>0.000668</td>\n",
       "      <td>50</td>\n",
       "      <td>0.10</td>\n",
       "      <td>16</td>\n",
       "      <td>0.000309</td>\n",
       "      <td>COMPLETE</td>\n",
       "    </tr>\n",
       "    <tr>\n",
       "      <th>11</th>\n",
       "      <td>11</td>\n",
       "      <td>0.415261</td>\n",
       "      <td>2024-11-30 12:55:18.295461</td>\n",
       "      <td>2024-11-30 13:55:44.700524</td>\n",
       "      <td>0 days 01:00:26.405063</td>\n",
       "      <td>2</td>\n",
       "      <td>256</td>\n",
       "      <td>80</td>\n",
       "      <td>64</td>\n",
       "      <td>100.0</td>\n",
       "      <td>0.20</td>\n",
       "      <td>0.30</td>\n",
       "      <td>0.10</td>\n",
       "      <td>0.05</td>\n",
       "      <td>75.0</td>\n",
       "      <td>0.000212</td>\n",
       "      <td>100</td>\n",
       "      <td>0.01</td>\n",
       "      <td>16</td>\n",
       "      <td>0.000175</td>\n",
       "      <td>COMPLETE</td>\n",
       "    </tr>\n",
       "    <tr>\n",
       "      <th>25</th>\n",
       "      <td>25</td>\n",
       "      <td>0.415700</td>\n",
       "      <td>2024-11-30 21:21:50.155156</td>\n",
       "      <td>2024-11-30 21:59:20.788113</td>\n",
       "      <td>0 days 00:37:30.632957</td>\n",
       "      <td>2</td>\n",
       "      <td>256</td>\n",
       "      <td>128</td>\n",
       "      <td>64</td>\n",
       "      <td>86.0</td>\n",
       "      <td>0.25</td>\n",
       "      <td>0.25</td>\n",
       "      <td>0.05</td>\n",
       "      <td>0.05</td>\n",
       "      <td>88.0</td>\n",
       "      <td>0.000384</td>\n",
       "      <td>85</td>\n",
       "      <td>0.04</td>\n",
       "      <td>24</td>\n",
       "      <td>0.000332</td>\n",
       "      <td>COMPLETE</td>\n",
       "    </tr>\n",
       "    <tr>\n",
       "      <th>0</th>\n",
       "      <td>0</td>\n",
       "      <td>0.416230</td>\n",
       "      <td>2024-11-30 00:27:22.111372</td>\n",
       "      <td>2024-11-30 04:41:02.112946</td>\n",
       "      <td>0 days 04:13:40.001574</td>\n",
       "      <td>1</td>\n",
       "      <td>512</td>\n",
       "      <td>32</td>\n",
       "      <td>64</td>\n",
       "      <td>97.0</td>\n",
       "      <td>0.25</td>\n",
       "      <td>0.30</td>\n",
       "      <td>0.10</td>\n",
       "      <td>0.00</td>\n",
       "      <td>77.0</td>\n",
       "      <td>0.000552</td>\n",
       "      <td>95</td>\n",
       "      <td>0.03</td>\n",
       "      <td>16</td>\n",
       "      <td>0.000165</td>\n",
       "      <td>COMPLETE</td>\n",
       "    </tr>\n",
       "    <tr>\n",
       "      <th>9</th>\n",
       "      <td>9</td>\n",
       "      <td>0.417056</td>\n",
       "      <td>2024-11-30 11:49:44.997095</td>\n",
       "      <td>2024-11-30 12:15:48.304717</td>\n",
       "      <td>0 days 00:26:03.307622</td>\n",
       "      <td>3</td>\n",
       "      <td>256</td>\n",
       "      <td>112</td>\n",
       "      <td>128</td>\n",
       "      <td>80.0</td>\n",
       "      <td>0.25</td>\n",
       "      <td>0.15</td>\n",
       "      <td>0.10</td>\n",
       "      <td>0.20</td>\n",
       "      <td>73.0</td>\n",
       "      <td>0.000414</td>\n",
       "      <td>90</td>\n",
       "      <td>0.04</td>\n",
       "      <td>24</td>\n",
       "      <td>0.000887</td>\n",
       "      <td>COMPLETE</td>\n",
       "    </tr>\n",
       "    <tr>\n",
       "      <th>33</th>\n",
       "      <td>33</td>\n",
       "      <td>0.417196</td>\n",
       "      <td>2024-12-01 01:32:34.129040</td>\n",
       "      <td>2024-12-01 02:22:51.961289</td>\n",
       "      <td>0 days 00:50:17.832249</td>\n",
       "      <td>2</td>\n",
       "      <td>256</td>\n",
       "      <td>64</td>\n",
       "      <td>48</td>\n",
       "      <td>53.0</td>\n",
       "      <td>0.15</td>\n",
       "      <td>0.30</td>\n",
       "      <td>0.10</td>\n",
       "      <td>0.10</td>\n",
       "      <td>27.0</td>\n",
       "      <td>0.000522</td>\n",
       "      <td>70</td>\n",
       "      <td>0.04</td>\n",
       "      <td>16</td>\n",
       "      <td>0.000054</td>\n",
       "      <td>COMPLETE</td>\n",
       "    </tr>\n",
       "    <tr>\n",
       "      <th>30</th>\n",
       "      <td>30</td>\n",
       "      <td>0.417545</td>\n",
       "      <td>2024-12-01 00:09:02.528247</td>\n",
       "      <td>2024-12-01 00:43:41.019427</td>\n",
       "      <td>0 days 00:34:38.491180</td>\n",
       "      <td>1</td>\n",
       "      <td>384</td>\n",
       "      <td>64</td>\n",
       "      <td>32</td>\n",
       "      <td>20.0</td>\n",
       "      <td>0.10</td>\n",
       "      <td>0.20</td>\n",
       "      <td>0.20</td>\n",
       "      <td>0.10</td>\n",
       "      <td>36.0</td>\n",
       "      <td>0.000342</td>\n",
       "      <td>50</td>\n",
       "      <td>0.10</td>\n",
       "      <td>24</td>\n",
       "      <td>0.000497</td>\n",
       "      <td>COMPLETE</td>\n",
       "    </tr>\n",
       "    <tr>\n",
       "      <th>15</th>\n",
       "      <td>15</td>\n",
       "      <td>0.417796</td>\n",
       "      <td>2024-11-30 15:48:36.262531</td>\n",
       "      <td>2024-11-30 16:14:32.270329</td>\n",
       "      <td>0 days 00:25:56.007798</td>\n",
       "      <td>2</td>\n",
       "      <td>256</td>\n",
       "      <td>64</td>\n",
       "      <td>48</td>\n",
       "      <td>89.0</td>\n",
       "      <td>0.25</td>\n",
       "      <td>0.25</td>\n",
       "      <td>0.05</td>\n",
       "      <td>0.10</td>\n",
       "      <td>82.0</td>\n",
       "      <td>0.001297</td>\n",
       "      <td>85</td>\n",
       "      <td>0.03</td>\n",
       "      <td>16</td>\n",
       "      <td>0.000233</td>\n",
       "      <td>COMPLETE</td>\n",
       "    </tr>\n",
       "    <tr>\n",
       "      <th>7</th>\n",
       "      <td>7</td>\n",
       "      <td>0.418613</td>\n",
       "      <td>2024-11-30 11:02:31.653521</td>\n",
       "      <td>2024-11-30 11:15:53.308081</td>\n",
       "      <td>0 days 00:13:21.654560</td>\n",
       "      <td>2</td>\n",
       "      <td>512</td>\n",
       "      <td>64</td>\n",
       "      <td>96</td>\n",
       "      <td>35.0</td>\n",
       "      <td>0.05</td>\n",
       "      <td>0.20</td>\n",
       "      <td>0.00</td>\n",
       "      <td>0.20</td>\n",
       "      <td>96.0</td>\n",
       "      <td>0.004468</td>\n",
       "      <td>75</td>\n",
       "      <td>0.04</td>\n",
       "      <td>16</td>\n",
       "      <td>0.000104</td>\n",
       "      <td>COMPLETE</td>\n",
       "    </tr>\n",
       "    <tr>\n",
       "      <th>31</th>\n",
       "      <td>31</td>\n",
       "      <td>0.418748</td>\n",
       "      <td>2024-12-01 00:43:41.137059</td>\n",
       "      <td>2024-12-01 01:08:46.992321</td>\n",
       "      <td>0 days 00:25:05.855262</td>\n",
       "      <td>1</td>\n",
       "      <td>512</td>\n",
       "      <td>80</td>\n",
       "      <td>64</td>\n",
       "      <td>26.0</td>\n",
       "      <td>0.05</td>\n",
       "      <td>0.20</td>\n",
       "      <td>0.15</td>\n",
       "      <td>0.05</td>\n",
       "      <td>40.0</td>\n",
       "      <td>0.000684</td>\n",
       "      <td>50</td>\n",
       "      <td>0.10</td>\n",
       "      <td>16</td>\n",
       "      <td>0.000135</td>\n",
       "      <td>COMPLETE</td>\n",
       "    </tr>\n",
       "    <tr>\n",
       "      <th>13</th>\n",
       "      <td>13</td>\n",
       "      <td>0.418908</td>\n",
       "      <td>2024-11-30 14:46:05.605084</td>\n",
       "      <td>2024-11-30 15:15:18.818465</td>\n",
       "      <td>0 days 00:29:13.213381</td>\n",
       "      <td>2</td>\n",
       "      <td>256</td>\n",
       "      <td>32</td>\n",
       "      <td>48</td>\n",
       "      <td>86.0</td>\n",
       "      <td>0.20</td>\n",
       "      <td>0.30</td>\n",
       "      <td>0.05</td>\n",
       "      <td>0.00</td>\n",
       "      <td>63.0</td>\n",
       "      <td>0.000984</td>\n",
       "      <td>85</td>\n",
       "      <td>0.02</td>\n",
       "      <td>8</td>\n",
       "      <td>0.000235</td>\n",
       "      <td>COMPLETE</td>\n",
       "    </tr>\n",
       "    <tr>\n",
       "      <th>14</th>\n",
       "      <td>14</td>\n",
       "      <td>0.419059</td>\n",
       "      <td>2024-11-30 15:15:18.912296</td>\n",
       "      <td>2024-11-30 15:48:36.164133</td>\n",
       "      <td>0 days 00:33:17.251837</td>\n",
       "      <td>1</td>\n",
       "      <td>384</td>\n",
       "      <td>80</td>\n",
       "      <td>80</td>\n",
       "      <td>67.0</td>\n",
       "      <td>0.20</td>\n",
       "      <td>0.25</td>\n",
       "      <td>0.25</td>\n",
       "      <td>0.05</td>\n",
       "      <td>27.0</td>\n",
       "      <td>0.000224</td>\n",
       "      <td>60</td>\n",
       "      <td>0.01</td>\n",
       "      <td>16</td>\n",
       "      <td>0.000043</td>\n",
       "      <td>COMPLETE</td>\n",
       "    </tr>\n",
       "    <tr>\n",
       "      <th>35</th>\n",
       "      <td>35</td>\n",
       "      <td>0.419229</td>\n",
       "      <td>2024-12-01 02:37:29.470661</td>\n",
       "      <td>2024-12-01 03:19:13.420037</td>\n",
       "      <td>0 days 00:41:43.949376</td>\n",
       "      <td>1</td>\n",
       "      <td>384</td>\n",
       "      <td>32</td>\n",
       "      <td>64</td>\n",
       "      <td>34.0</td>\n",
       "      <td>0.20</td>\n",
       "      <td>0.20</td>\n",
       "      <td>0.25</td>\n",
       "      <td>0.10</td>\n",
       "      <td>86.0</td>\n",
       "      <td>0.000310</td>\n",
       "      <td>95</td>\n",
       "      <td>0.06</td>\n",
       "      <td>8</td>\n",
       "      <td>0.000021</td>\n",
       "      <td>COMPLETE</td>\n",
       "    </tr>\n",
       "    <tr>\n",
       "      <th>10</th>\n",
       "      <td>10</td>\n",
       "      <td>0.419296</td>\n",
       "      <td>2024-11-30 12:15:48.404663</td>\n",
       "      <td>2024-11-30 12:55:18.168871</td>\n",
       "      <td>0 days 00:39:29.764208</td>\n",
       "      <td>1</td>\n",
       "      <td>384</td>\n",
       "      <td>32</td>\n",
       "      <td>64</td>\n",
       "      <td>70.0</td>\n",
       "      <td>0.15</td>\n",
       "      <td>0.30</td>\n",
       "      <td>0.30</td>\n",
       "      <td>0.00</td>\n",
       "      <td>8.0</td>\n",
       "      <td>0.000105</td>\n",
       "      <td>50</td>\n",
       "      <td>0.02</td>\n",
       "      <td>32</td>\n",
       "      <td>0.000071</td>\n",
       "      <td>COMPLETE</td>\n",
       "    </tr>\n",
       "    <tr>\n",
       "      <th>5</th>\n",
       "      <td>5</td>\n",
       "      <td>0.419370</td>\n",
       "      <td>2024-11-30 10:05:42.481743</td>\n",
       "      <td>2024-11-30 10:45:15.223906</td>\n",
       "      <td>0 days 00:39:32.742163</td>\n",
       "      <td>4</td>\n",
       "      <td>128</td>\n",
       "      <td>128</td>\n",
       "      <td>64</td>\n",
       "      <td>97.0</td>\n",
       "      <td>0.30</td>\n",
       "      <td>0.15</td>\n",
       "      <td>0.15</td>\n",
       "      <td>0.05</td>\n",
       "      <td>17.0</td>\n",
       "      <td>0.000267</td>\n",
       "      <td>40</td>\n",
       "      <td>0.06</td>\n",
       "      <td>8</td>\n",
       "      <td>0.000889</td>\n",
       "      <td>COMPLETE</td>\n",
       "    </tr>\n",
       "    <tr>\n",
       "      <th>28</th>\n",
       "      <td>28</td>\n",
       "      <td>0.419429</td>\n",
       "      <td>2024-11-30 23:21:38.046279</td>\n",
       "      <td>2024-11-30 23:45:19.304518</td>\n",
       "      <td>0 days 00:23:41.258239</td>\n",
       "      <td>2</td>\n",
       "      <td>256</td>\n",
       "      <td>48</td>\n",
       "      <td>80</td>\n",
       "      <td>61.0</td>\n",
       "      <td>0.30</td>\n",
       "      <td>0.25</td>\n",
       "      <td>0.00</td>\n",
       "      <td>0.05</td>\n",
       "      <td>93.0</td>\n",
       "      <td>0.001303</td>\n",
       "      <td>65</td>\n",
       "      <td>0.02</td>\n",
       "      <td>32</td>\n",
       "      <td>0.000176</td>\n",
       "      <td>COMPLETE</td>\n",
       "    </tr>\n",
       "    <tr>\n",
       "      <th>32</th>\n",
       "      <td>32</td>\n",
       "      <td>0.419849</td>\n",
       "      <td>2024-12-01 01:08:47.110716</td>\n",
       "      <td>2024-12-01 01:32:34.022740</td>\n",
       "      <td>0 days 00:23:46.912024</td>\n",
       "      <td>1</td>\n",
       "      <td>384</td>\n",
       "      <td>48</td>\n",
       "      <td>64</td>\n",
       "      <td>22.0</td>\n",
       "      <td>0.10</td>\n",
       "      <td>0.25</td>\n",
       "      <td>0.15</td>\n",
       "      <td>0.00</td>\n",
       "      <td>56.0</td>\n",
       "      <td>0.000872</td>\n",
       "      <td>55</td>\n",
       "      <td>0.07</td>\n",
       "      <td>16</td>\n",
       "      <td>0.000280</td>\n",
       "      <td>COMPLETE</td>\n",
       "    </tr>\n",
       "    <tr>\n",
       "      <th>44</th>\n",
       "      <td>44</td>\n",
       "      <td>0.420276</td>\n",
       "      <td>2024-12-01 07:18:48.406138</td>\n",
       "      <td>2024-12-01 07:51:33.258988</td>\n",
       "      <td>0 days 00:32:44.852850</td>\n",
       "      <td>3</td>\n",
       "      <td>256</td>\n",
       "      <td>112</td>\n",
       "      <td>64</td>\n",
       "      <td>75.0</td>\n",
       "      <td>0.25</td>\n",
       "      <td>0.20</td>\n",
       "      <td>0.15</td>\n",
       "      <td>0.20</td>\n",
       "      <td>51.0</td>\n",
       "      <td>0.000468</td>\n",
       "      <td>95</td>\n",
       "      <td>0.03</td>\n",
       "      <td>32</td>\n",
       "      <td>0.000359</td>\n",
       "      <td>COMPLETE</td>\n",
       "    </tr>\n",
       "    <tr>\n",
       "      <th>20</th>\n",
       "      <td>20</td>\n",
       "      <td>0.420479</td>\n",
       "      <td>2024-11-30 19:06:50.557347</td>\n",
       "      <td>2024-11-30 19:25:29.024393</td>\n",
       "      <td>0 days 00:18:38.467046</td>\n",
       "      <td>1</td>\n",
       "      <td>512</td>\n",
       "      <td>96</td>\n",
       "      <td>48</td>\n",
       "      <td>94.0</td>\n",
       "      <td>0.15</td>\n",
       "      <td>0.30</td>\n",
       "      <td>0.00</td>\n",
       "      <td>0.05</td>\n",
       "      <td>71.0</td>\n",
       "      <td>0.000821</td>\n",
       "      <td>65</td>\n",
       "      <td>0.03</td>\n",
       "      <td>16</td>\n",
       "      <td>0.000871</td>\n",
       "      <td>COMPLETE</td>\n",
       "    </tr>\n",
       "    <tr>\n",
       "      <th>18</th>\n",
       "      <td>18</td>\n",
       "      <td>0.420582</td>\n",
       "      <td>2024-11-30 17:17:05.067539</td>\n",
       "      <td>2024-11-30 17:42:01.044085</td>\n",
       "      <td>0 days 00:24:55.976546</td>\n",
       "      <td>1</td>\n",
       "      <td>256</td>\n",
       "      <td>64</td>\n",
       "      <td>64</td>\n",
       "      <td>89.0</td>\n",
       "      <td>0.20</td>\n",
       "      <td>0.10</td>\n",
       "      <td>0.15</td>\n",
       "      <td>0.10</td>\n",
       "      <td>32.0</td>\n",
       "      <td>0.001417</td>\n",
       "      <td>100</td>\n",
       "      <td>0.01</td>\n",
       "      <td>24</td>\n",
       "      <td>0.000175</td>\n",
       "      <td>COMPLETE</td>\n",
       "    </tr>\n",
       "  </tbody>\n",
       "</table>\n",
       "</div>"
      ],
      "text/plain": [
       "    number     value             datetime_start          datetime_complete  \\\n",
       "29      29  0.414955 2024-11-30 23:45:19.424336 2024-12-01 00:09:02.424595   \n",
       "11      11  0.415261 2024-11-30 12:55:18.295461 2024-11-30 13:55:44.700524   \n",
       "25      25  0.415700 2024-11-30 21:21:50.155156 2024-11-30 21:59:20.788113   \n",
       "0        0  0.416230 2024-11-30 00:27:22.111372 2024-11-30 04:41:02.112946   \n",
       "9        9  0.417056 2024-11-30 11:49:44.997095 2024-11-30 12:15:48.304717   \n",
       "33      33  0.417196 2024-12-01 01:32:34.129040 2024-12-01 02:22:51.961289   \n",
       "30      30  0.417545 2024-12-01 00:09:02.528247 2024-12-01 00:43:41.019427   \n",
       "15      15  0.417796 2024-11-30 15:48:36.262531 2024-11-30 16:14:32.270329   \n",
       "7        7  0.418613 2024-11-30 11:02:31.653521 2024-11-30 11:15:53.308081   \n",
       "31      31  0.418748 2024-12-01 00:43:41.137059 2024-12-01 01:08:46.992321   \n",
       "13      13  0.418908 2024-11-30 14:46:05.605084 2024-11-30 15:15:18.818465   \n",
       "14      14  0.419059 2024-11-30 15:15:18.912296 2024-11-30 15:48:36.164133   \n",
       "35      35  0.419229 2024-12-01 02:37:29.470661 2024-12-01 03:19:13.420037   \n",
       "10      10  0.419296 2024-11-30 12:15:48.404663 2024-11-30 12:55:18.168871   \n",
       "5        5  0.419370 2024-11-30 10:05:42.481743 2024-11-30 10:45:15.223906   \n",
       "28      28  0.419429 2024-11-30 23:21:38.046279 2024-11-30 23:45:19.304518   \n",
       "32      32  0.419849 2024-12-01 01:08:47.110716 2024-12-01 01:32:34.022740   \n",
       "44      44  0.420276 2024-12-01 07:18:48.406138 2024-12-01 07:51:33.258988   \n",
       "20      20  0.420479 2024-11-30 19:06:50.557347 2024-11-30 19:25:29.024393   \n",
       "18      18  0.420582 2024-11-30 17:17:05.067539 2024-11-30 17:42:01.044085   \n",
       "\n",
       "                 duration  params_K  params_batch_size  params_cha_hidden  \\\n",
       "29 0 days 00:23:43.000259         1                384                 64   \n",
       "11 0 days 01:00:26.405063         2                256                 80   \n",
       "25 0 days 00:37:30.632957         2                256                128   \n",
       "0  0 days 04:13:40.001574         1                512                 32   \n",
       "9  0 days 00:26:03.307622         3                256                112   \n",
       "33 0 days 00:50:17.832249         2                256                 64   \n",
       "30 0 days 00:34:38.491180         1                384                 64   \n",
       "15 0 days 00:25:56.007798         2                256                 64   \n",
       "7  0 days 00:13:21.654560         2                512                 64   \n",
       "31 0 days 00:25:05.855262         1                512                 80   \n",
       "13 0 days 00:29:13.213381         2                256                 32   \n",
       "14 0 days 00:33:17.251837         1                384                 80   \n",
       "35 0 days 00:41:43.949376         1                384                 32   \n",
       "10 0 days 00:39:29.764208         1                384                 32   \n",
       "5  0 days 00:39:32.742163         4                128                128   \n",
       "28 0 days 00:23:41.258239         2                256                 48   \n",
       "32 0 days 00:23:46.912024         1                384                 48   \n",
       "44 0 days 00:32:44.852850         3                256                112   \n",
       "20 0 days 00:18:38.467046         1                512                 96   \n",
       "18 0 days 00:24:55.976546         1                256                 64   \n",
       "\n",
       "    params_cha_input  params_div_factor  params_dropout_hidden  \\\n",
       "29                64               18.0                   0.10   \n",
       "11                64              100.0                   0.20   \n",
       "25                64               86.0                   0.25   \n",
       "0                 64               97.0                   0.25   \n",
       "9                128               80.0                   0.25   \n",
       "33                48               53.0                   0.15   \n",
       "30                32               20.0                   0.10   \n",
       "15                48               89.0                   0.25   \n",
       "7                 96               35.0                   0.05   \n",
       "31                64               26.0                   0.05   \n",
       "13                48               86.0                   0.20   \n",
       "14                80               67.0                   0.20   \n",
       "35                64               34.0                   0.20   \n",
       "10                64               70.0                   0.15   \n",
       "5                 64               97.0                   0.30   \n",
       "28                80               61.0                   0.30   \n",
       "32                64               22.0                   0.10   \n",
       "44                64               75.0                   0.25   \n",
       "20                48               94.0                   0.15   \n",
       "18                64               89.0                   0.20   \n",
       "\n",
       "    params_dropout_input  params_dropout_output  params_embedding_dropout  \\\n",
       "29                  0.20                   0.15                      0.10   \n",
       "11                  0.30                   0.10                      0.05   \n",
       "25                  0.25                   0.05                      0.05   \n",
       "0                   0.30                   0.10                      0.00   \n",
       "9                   0.15                   0.10                      0.20   \n",
       "33                  0.30                   0.10                      0.10   \n",
       "30                  0.20                   0.20                      0.10   \n",
       "15                  0.25                   0.05                      0.10   \n",
       "7                   0.20                   0.00                      0.20   \n",
       "31                  0.20                   0.15                      0.05   \n",
       "13                  0.30                   0.05                      0.00   \n",
       "14                  0.25                   0.25                      0.05   \n",
       "35                  0.20                   0.25                      0.10   \n",
       "10                  0.30                   0.30                      0.00   \n",
       "5                   0.15                   0.15                      0.05   \n",
       "28                  0.25                   0.00                      0.05   \n",
       "32                  0.25                   0.15                      0.00   \n",
       "44                  0.20                   0.15                      0.20   \n",
       "20                  0.30                   0.00                      0.05   \n",
       "18                  0.10                   0.15                      0.10   \n",
       "\n",
       "    params_final_div_factor  params_learning_rate  params_max_epochs  \\\n",
       "29                     38.0              0.000668                 50   \n",
       "11                     75.0              0.000212                100   \n",
       "25                     88.0              0.000384                 85   \n",
       "0                      77.0              0.000552                 95   \n",
       "9                      73.0              0.000414                 90   \n",
       "33                     27.0              0.000522                 70   \n",
       "30                     36.0              0.000342                 50   \n",
       "15                     82.0              0.001297                 85   \n",
       "7                      96.0              0.004468                 75   \n",
       "31                     40.0              0.000684                 50   \n",
       "13                     63.0              0.000984                 85   \n",
       "14                     27.0              0.000224                 60   \n",
       "35                     86.0              0.000310                 95   \n",
       "10                      8.0              0.000105                 50   \n",
       "5                      17.0              0.000267                 40   \n",
       "28                     93.0              0.001303                 65   \n",
       "32                     56.0              0.000872                 55   \n",
       "44                     51.0              0.000468                 95   \n",
       "20                     71.0              0.000821                 65   \n",
       "18                     32.0              0.001417                100   \n",
       "\n",
       "    params_pct_start  params_sign_size  params_weight_decay     state  \n",
       "29              0.10                16             0.000309  COMPLETE  \n",
       "11              0.01                16             0.000175  COMPLETE  \n",
       "25              0.04                24             0.000332  COMPLETE  \n",
       "0               0.03                16             0.000165  COMPLETE  \n",
       "9               0.04                24             0.000887  COMPLETE  \n",
       "33              0.04                16             0.000054  COMPLETE  \n",
       "30              0.10                24             0.000497  COMPLETE  \n",
       "15              0.03                16             0.000233  COMPLETE  \n",
       "7               0.04                16             0.000104  COMPLETE  \n",
       "31              0.10                16             0.000135  COMPLETE  \n",
       "13              0.02                 8             0.000235  COMPLETE  \n",
       "14              0.01                16             0.000043  COMPLETE  \n",
       "35              0.06                 8             0.000021  COMPLETE  \n",
       "10              0.02                32             0.000071  COMPLETE  \n",
       "5               0.06                 8             0.000889  COMPLETE  \n",
       "28              0.02                32             0.000176  COMPLETE  \n",
       "32              0.07                16             0.000280  COMPLETE  \n",
       "44              0.03                32             0.000359  COMPLETE  \n",
       "20              0.03                16             0.000871  COMPLETE  \n",
       "18              0.01                24             0.000175  COMPLETE  "
      ]
     },
     "execution_count": 26,
     "metadata": {},
     "output_type": "execute_result"
    }
   ],
   "source": [
    "study.trials_dataframe().sort_values(\"value\", ascending=True).head(20)"
   ]
  },
  {
   "cell_type": "code",
   "execution_count": 15,
   "metadata": {},
   "outputs": [
    {
     "data": {
      "application/vnd.plotly.v1+json": {
       "config": {
        "plotlyServerURL": "https://plot.ly"
       },
       "data": [
        {
         "mode": "markers",
         "name": "Objective Value",
         "type": "scatter",
         "x": [
          0,
          1,
          2,
          3,
          4,
          5,
          6,
          7,
          8,
          9,
          10,
          11,
          12,
          13,
          14,
          15,
          16,
          17,
          18,
          19,
          20,
          21,
          22,
          23,
          24,
          25,
          26,
          27,
          28,
          29,
          30,
          31,
          32,
          33,
          34,
          35,
          36,
          37,
          38,
          39,
          40,
          41,
          42,
          43,
          44,
          45,
          46
         ],
         "y": [
          0.4162300302182152,
          0.4215029269908969,
          0.436478751533768,
          0.4441301148878929,
          0.4298019003516651,
          0.41937016224918433,
          0.4263666539989322,
          0.41861344590578026,
          0.4229170871200116,
          0.41705581779626527,
          0.41929581753919304,
          0.41526052602508806,
          0.4209020192581316,
          0.4189077928084293,
          0.4190592992727427,
          0.41779557310863763,
          0.4305638730769578,
          0.426228413514647,
          0.42058231562192544,
          0.42424172872296745,
          0.4204794887273844,
          0.4247093579687544,
          0.42177673574945335,
          0.42339236845946077,
          0.42948096816583975,
          0.4157003357532832,
          0.42067947558550495,
          0.4215857808657299,
          0.41942936874200837,
          0.41495468125641305,
          0.41754507480099284,
          0.4187478611376087,
          0.4198493718459824,
          0.4171959440658004,
          0.4216386463763964,
          0.4192290413347366,
          0.42323011873676686,
          0.4242732492572619,
          0.4241131380401577,
          0.4215938989665875,
          0.44337222023168193,
          0.42132534734448807,
          0.42157329826060524,
          0.4207729529646709,
          0.4202764993100125,
          0.42137652491225835,
          0.4236129629905407
         ]
        },
        {
         "mode": "lines",
         "name": "Best Value",
         "type": "scatter",
         "x": [
          0,
          1,
          2,
          3,
          4,
          5,
          6,
          7,
          8,
          9,
          10,
          11,
          12,
          13,
          14,
          15,
          16,
          17,
          18,
          19,
          20,
          21,
          22,
          23,
          24,
          25,
          26,
          27,
          28,
          29,
          30,
          31,
          32,
          33,
          34,
          35,
          36,
          37,
          38,
          39,
          40,
          41,
          42,
          43,
          44,
          45,
          46,
          47
         ],
         "y": [
          0.4162300302182152,
          0.4162300302182152,
          0.4162300302182152,
          0.4162300302182152,
          0.4162300302182152,
          0.4162300302182152,
          0.4162300302182152,
          0.4162300302182152,
          0.4162300302182152,
          0.4162300302182152,
          0.4162300302182152,
          0.41526052602508806,
          0.41526052602508806,
          0.41526052602508806,
          0.41526052602508806,
          0.41526052602508806,
          0.41526052602508806,
          0.41526052602508806,
          0.41526052602508806,
          0.41526052602508806,
          0.41526052602508806,
          0.41526052602508806,
          0.41526052602508806,
          0.41526052602508806,
          0.41526052602508806,
          0.41526052602508806,
          0.41526052602508806,
          0.41526052602508806,
          0.41526052602508806,
          0.41495468125641305,
          0.41495468125641305,
          0.41495468125641305,
          0.41495468125641305,
          0.41495468125641305,
          0.41495468125641305,
          0.41495468125641305,
          0.41495468125641305,
          0.41495468125641305,
          0.41495468125641305,
          0.41495468125641305,
          0.41495468125641305,
          0.41495468125641305,
          0.41495468125641305,
          0.41495468125641305,
          0.41495468125641305,
          0.41495468125641305,
          0.41495468125641305,
          0.41495468125641305
         ]
        },
        {
         "marker": {
          "color": "#cccccc"
         },
         "mode": "markers",
         "name": "Infeasible Trial",
         "showlegend": false,
         "type": "scatter",
         "x": [],
         "y": []
        }
       ],
       "layout": {
        "template": {
         "data": {
          "bar": [
           {
            "error_x": {
             "color": "#2a3f5f"
            },
            "error_y": {
             "color": "#2a3f5f"
            },
            "marker": {
             "line": {
              "color": "#E5ECF6",
              "width": 0.5
             },
             "pattern": {
              "fillmode": "overlay",
              "size": 10,
              "solidity": 0.2
             }
            },
            "type": "bar"
           }
          ],
          "barpolar": [
           {
            "marker": {
             "line": {
              "color": "#E5ECF6",
              "width": 0.5
             },
             "pattern": {
              "fillmode": "overlay",
              "size": 10,
              "solidity": 0.2
             }
            },
            "type": "barpolar"
           }
          ],
          "carpet": [
           {
            "aaxis": {
             "endlinecolor": "#2a3f5f",
             "gridcolor": "white",
             "linecolor": "white",
             "minorgridcolor": "white",
             "startlinecolor": "#2a3f5f"
            },
            "baxis": {
             "endlinecolor": "#2a3f5f",
             "gridcolor": "white",
             "linecolor": "white",
             "minorgridcolor": "white",
             "startlinecolor": "#2a3f5f"
            },
            "type": "carpet"
           }
          ],
          "choropleth": [
           {
            "colorbar": {
             "outlinewidth": 0,
             "ticks": ""
            },
            "type": "choropleth"
           }
          ],
          "contour": [
           {
            "colorbar": {
             "outlinewidth": 0,
             "ticks": ""
            },
            "colorscale": [
             [
              0,
              "#0d0887"
             ],
             [
              0.1111111111111111,
              "#46039f"
             ],
             [
              0.2222222222222222,
              "#7201a8"
             ],
             [
              0.3333333333333333,
              "#9c179e"
             ],
             [
              0.4444444444444444,
              "#bd3786"
             ],
             [
              0.5555555555555556,
              "#d8576b"
             ],
             [
              0.6666666666666666,
              "#ed7953"
             ],
             [
              0.7777777777777778,
              "#fb9f3a"
             ],
             [
              0.8888888888888888,
              "#fdca26"
             ],
             [
              1,
              "#f0f921"
             ]
            ],
            "type": "contour"
           }
          ],
          "contourcarpet": [
           {
            "colorbar": {
             "outlinewidth": 0,
             "ticks": ""
            },
            "type": "contourcarpet"
           }
          ],
          "heatmap": [
           {
            "colorbar": {
             "outlinewidth": 0,
             "ticks": ""
            },
            "colorscale": [
             [
              0,
              "#0d0887"
             ],
             [
              0.1111111111111111,
              "#46039f"
             ],
             [
              0.2222222222222222,
              "#7201a8"
             ],
             [
              0.3333333333333333,
              "#9c179e"
             ],
             [
              0.4444444444444444,
              "#bd3786"
             ],
             [
              0.5555555555555556,
              "#d8576b"
             ],
             [
              0.6666666666666666,
              "#ed7953"
             ],
             [
              0.7777777777777778,
              "#fb9f3a"
             ],
             [
              0.8888888888888888,
              "#fdca26"
             ],
             [
              1,
              "#f0f921"
             ]
            ],
            "type": "heatmap"
           }
          ],
          "heatmapgl": [
           {
            "colorbar": {
             "outlinewidth": 0,
             "ticks": ""
            },
            "colorscale": [
             [
              0,
              "#0d0887"
             ],
             [
              0.1111111111111111,
              "#46039f"
             ],
             [
              0.2222222222222222,
              "#7201a8"
             ],
             [
              0.3333333333333333,
              "#9c179e"
             ],
             [
              0.4444444444444444,
              "#bd3786"
             ],
             [
              0.5555555555555556,
              "#d8576b"
             ],
             [
              0.6666666666666666,
              "#ed7953"
             ],
             [
              0.7777777777777778,
              "#fb9f3a"
             ],
             [
              0.8888888888888888,
              "#fdca26"
             ],
             [
              1,
              "#f0f921"
             ]
            ],
            "type": "heatmapgl"
           }
          ],
          "histogram": [
           {
            "marker": {
             "pattern": {
              "fillmode": "overlay",
              "size": 10,
              "solidity": 0.2
             }
            },
            "type": "histogram"
           }
          ],
          "histogram2d": [
           {
            "colorbar": {
             "outlinewidth": 0,
             "ticks": ""
            },
            "colorscale": [
             [
              0,
              "#0d0887"
             ],
             [
              0.1111111111111111,
              "#46039f"
             ],
             [
              0.2222222222222222,
              "#7201a8"
             ],
             [
              0.3333333333333333,
              "#9c179e"
             ],
             [
              0.4444444444444444,
              "#bd3786"
             ],
             [
              0.5555555555555556,
              "#d8576b"
             ],
             [
              0.6666666666666666,
              "#ed7953"
             ],
             [
              0.7777777777777778,
              "#fb9f3a"
             ],
             [
              0.8888888888888888,
              "#fdca26"
             ],
             [
              1,
              "#f0f921"
             ]
            ],
            "type": "histogram2d"
           }
          ],
          "histogram2dcontour": [
           {
            "colorbar": {
             "outlinewidth": 0,
             "ticks": ""
            },
            "colorscale": [
             [
              0,
              "#0d0887"
             ],
             [
              0.1111111111111111,
              "#46039f"
             ],
             [
              0.2222222222222222,
              "#7201a8"
             ],
             [
              0.3333333333333333,
              "#9c179e"
             ],
             [
              0.4444444444444444,
              "#bd3786"
             ],
             [
              0.5555555555555556,
              "#d8576b"
             ],
             [
              0.6666666666666666,
              "#ed7953"
             ],
             [
              0.7777777777777778,
              "#fb9f3a"
             ],
             [
              0.8888888888888888,
              "#fdca26"
             ],
             [
              1,
              "#f0f921"
             ]
            ],
            "type": "histogram2dcontour"
           }
          ],
          "mesh3d": [
           {
            "colorbar": {
             "outlinewidth": 0,
             "ticks": ""
            },
            "type": "mesh3d"
           }
          ],
          "parcoords": [
           {
            "line": {
             "colorbar": {
              "outlinewidth": 0,
              "ticks": ""
             }
            },
            "type": "parcoords"
           }
          ],
          "pie": [
           {
            "automargin": true,
            "type": "pie"
           }
          ],
          "scatter": [
           {
            "fillpattern": {
             "fillmode": "overlay",
             "size": 10,
             "solidity": 0.2
            },
            "type": "scatter"
           }
          ],
          "scatter3d": [
           {
            "line": {
             "colorbar": {
              "outlinewidth": 0,
              "ticks": ""
             }
            },
            "marker": {
             "colorbar": {
              "outlinewidth": 0,
              "ticks": ""
             }
            },
            "type": "scatter3d"
           }
          ],
          "scattercarpet": [
           {
            "marker": {
             "colorbar": {
              "outlinewidth": 0,
              "ticks": ""
             }
            },
            "type": "scattercarpet"
           }
          ],
          "scattergeo": [
           {
            "marker": {
             "colorbar": {
              "outlinewidth": 0,
              "ticks": ""
             }
            },
            "type": "scattergeo"
           }
          ],
          "scattergl": [
           {
            "marker": {
             "colorbar": {
              "outlinewidth": 0,
              "ticks": ""
             }
            },
            "type": "scattergl"
           }
          ],
          "scattermapbox": [
           {
            "marker": {
             "colorbar": {
              "outlinewidth": 0,
              "ticks": ""
             }
            },
            "type": "scattermapbox"
           }
          ],
          "scatterpolar": [
           {
            "marker": {
             "colorbar": {
              "outlinewidth": 0,
              "ticks": ""
             }
            },
            "type": "scatterpolar"
           }
          ],
          "scatterpolargl": [
           {
            "marker": {
             "colorbar": {
              "outlinewidth": 0,
              "ticks": ""
             }
            },
            "type": "scatterpolargl"
           }
          ],
          "scatterternary": [
           {
            "marker": {
             "colorbar": {
              "outlinewidth": 0,
              "ticks": ""
             }
            },
            "type": "scatterternary"
           }
          ],
          "surface": [
           {
            "colorbar": {
             "outlinewidth": 0,
             "ticks": ""
            },
            "colorscale": [
             [
              0,
              "#0d0887"
             ],
             [
              0.1111111111111111,
              "#46039f"
             ],
             [
              0.2222222222222222,
              "#7201a8"
             ],
             [
              0.3333333333333333,
              "#9c179e"
             ],
             [
              0.4444444444444444,
              "#bd3786"
             ],
             [
              0.5555555555555556,
              "#d8576b"
             ],
             [
              0.6666666666666666,
              "#ed7953"
             ],
             [
              0.7777777777777778,
              "#fb9f3a"
             ],
             [
              0.8888888888888888,
              "#fdca26"
             ],
             [
              1,
              "#f0f921"
             ]
            ],
            "type": "surface"
           }
          ],
          "table": [
           {
            "cells": {
             "fill": {
              "color": "#EBF0F8"
             },
             "line": {
              "color": "white"
             }
            },
            "header": {
             "fill": {
              "color": "#C8D4E3"
             },
             "line": {
              "color": "white"
             }
            },
            "type": "table"
           }
          ]
         },
         "layout": {
          "annotationdefaults": {
           "arrowcolor": "#2a3f5f",
           "arrowhead": 0,
           "arrowwidth": 1
          },
          "autotypenumbers": "strict",
          "coloraxis": {
           "colorbar": {
            "outlinewidth": 0,
            "ticks": ""
           }
          },
          "colorscale": {
           "diverging": [
            [
             0,
             "#8e0152"
            ],
            [
             0.1,
             "#c51b7d"
            ],
            [
             0.2,
             "#de77ae"
            ],
            [
             0.3,
             "#f1b6da"
            ],
            [
             0.4,
             "#fde0ef"
            ],
            [
             0.5,
             "#f7f7f7"
            ],
            [
             0.6,
             "#e6f5d0"
            ],
            [
             0.7,
             "#b8e186"
            ],
            [
             0.8,
             "#7fbc41"
            ],
            [
             0.9,
             "#4d9221"
            ],
            [
             1,
             "#276419"
            ]
           ],
           "sequential": [
            [
             0,
             "#0d0887"
            ],
            [
             0.1111111111111111,
             "#46039f"
            ],
            [
             0.2222222222222222,
             "#7201a8"
            ],
            [
             0.3333333333333333,
             "#9c179e"
            ],
            [
             0.4444444444444444,
             "#bd3786"
            ],
            [
             0.5555555555555556,
             "#d8576b"
            ],
            [
             0.6666666666666666,
             "#ed7953"
            ],
            [
             0.7777777777777778,
             "#fb9f3a"
            ],
            [
             0.8888888888888888,
             "#fdca26"
            ],
            [
             1,
             "#f0f921"
            ]
           ],
           "sequentialminus": [
            [
             0,
             "#0d0887"
            ],
            [
             0.1111111111111111,
             "#46039f"
            ],
            [
             0.2222222222222222,
             "#7201a8"
            ],
            [
             0.3333333333333333,
             "#9c179e"
            ],
            [
             0.4444444444444444,
             "#bd3786"
            ],
            [
             0.5555555555555556,
             "#d8576b"
            ],
            [
             0.6666666666666666,
             "#ed7953"
            ],
            [
             0.7777777777777778,
             "#fb9f3a"
            ],
            [
             0.8888888888888888,
             "#fdca26"
            ],
            [
             1,
             "#f0f921"
            ]
           ]
          },
          "colorway": [
           "#636efa",
           "#EF553B",
           "#00cc96",
           "#ab63fa",
           "#FFA15A",
           "#19d3f3",
           "#FF6692",
           "#B6E880",
           "#FF97FF",
           "#FECB52"
          ],
          "font": {
           "color": "#2a3f5f"
          },
          "geo": {
           "bgcolor": "white",
           "lakecolor": "white",
           "landcolor": "#E5ECF6",
           "showlakes": true,
           "showland": true,
           "subunitcolor": "white"
          },
          "hoverlabel": {
           "align": "left"
          },
          "hovermode": "closest",
          "mapbox": {
           "style": "light"
          },
          "paper_bgcolor": "white",
          "plot_bgcolor": "#E5ECF6",
          "polar": {
           "angularaxis": {
            "gridcolor": "white",
            "linecolor": "white",
            "ticks": ""
           },
           "bgcolor": "#E5ECF6",
           "radialaxis": {
            "gridcolor": "white",
            "linecolor": "white",
            "ticks": ""
           }
          },
          "scene": {
           "xaxis": {
            "backgroundcolor": "#E5ECF6",
            "gridcolor": "white",
            "gridwidth": 2,
            "linecolor": "white",
            "showbackground": true,
            "ticks": "",
            "zerolinecolor": "white"
           },
           "yaxis": {
            "backgroundcolor": "#E5ECF6",
            "gridcolor": "white",
            "gridwidth": 2,
            "linecolor": "white",
            "showbackground": true,
            "ticks": "",
            "zerolinecolor": "white"
           },
           "zaxis": {
            "backgroundcolor": "#E5ECF6",
            "gridcolor": "white",
            "gridwidth": 2,
            "linecolor": "white",
            "showbackground": true,
            "ticks": "",
            "zerolinecolor": "white"
           }
          },
          "shapedefaults": {
           "line": {
            "color": "#2a3f5f"
           }
          },
          "ternary": {
           "aaxis": {
            "gridcolor": "white",
            "linecolor": "white",
            "ticks": ""
           },
           "baxis": {
            "gridcolor": "white",
            "linecolor": "white",
            "ticks": ""
           },
           "bgcolor": "#E5ECF6",
           "caxis": {
            "gridcolor": "white",
            "linecolor": "white",
            "ticks": ""
           }
          },
          "title": {
           "x": 0.05
          },
          "xaxis": {
           "automargin": true,
           "gridcolor": "white",
           "linecolor": "white",
           "ticks": "",
           "title": {
            "standoff": 15
           },
           "zerolinecolor": "white",
           "zerolinewidth": 2
          },
          "yaxis": {
           "automargin": true,
           "gridcolor": "white",
           "linecolor": "white",
           "ticks": "",
           "title": {
            "standoff": 15
           },
           "zerolinecolor": "white",
           "zerolinewidth": 2
          }
         }
        },
        "title": {
         "text": "Optimization History Plot"
        },
        "xaxis": {
         "title": {
          "text": "Trial"
         }
        },
        "yaxis": {
         "title": {
          "text": "Objective Value"
         }
        }
       }
      }
     },
     "metadata": {},
     "output_type": "display_data"
    }
   ],
   "source": [
    "plot_optimization_history(study)"
   ]
  },
  {
   "cell_type": "code",
   "execution_count": 16,
   "metadata": {},
   "outputs": [
    {
     "data": {
      "application/vnd.plotly.v1+json": {
       "config": {
        "plotlyServerURL": "https://plot.ly"
       },
       "data": [
        {
         "cliponaxis": false,
         "hovertemplate": [
          "pct_start (FloatDistribution): 0.0007089822779555439<extra></extra>",
          "sign_size (IntDistribution): 0.003566616187260132<extra></extra>",
          "K (IntDistribution): 0.007170346810064571<extra></extra>",
          "dropout_output (FloatDistribution): 0.011442952662757987<extra></extra>",
          "batch_size (IntDistribution): 0.01395054257537481<extra></extra>",
          "dropout_hidden (FloatDistribution): 0.01412292397894679<extra></extra>",
          "cha_hidden (IntDistribution): 0.015688598362182858<extra></extra>",
          "embedding_dropout (FloatDistribution): 0.01639679884212582<extra></extra>",
          "cha_input (IntDistribution): 0.016874957364690874<extra></extra>",
          "div_factor (FloatDistribution): 0.018999366214975125<extra></extra>",
          "max_epochs (IntDistribution): 0.023586237514042742<extra></extra>",
          "dropout_input (FloatDistribution): 0.0504608077725985<extra></extra>",
          "final_div_factor (FloatDistribution): 0.06033456665479948<extra></extra>",
          "learning_rate (FloatDistribution): 0.36646324045707784<extra></extra>",
          "weight_decay (FloatDistribution): 0.380233062325147<extra></extra>"
         ],
         "name": "Objective Value",
         "orientation": "h",
         "text": [
          "<0.01",
          "<0.01",
          "<0.01",
          "0.01",
          "0.01",
          "0.01",
          "0.02",
          "0.02",
          "0.02",
          "0.02",
          "0.02",
          "0.05",
          "0.06",
          "0.37",
          "0.38"
         ],
         "textposition": "outside",
         "type": "bar",
         "x": [
          0.0007089822779555439,
          0.003566616187260132,
          0.007170346810064571,
          0.011442952662757987,
          0.01395054257537481,
          0.01412292397894679,
          0.015688598362182858,
          0.01639679884212582,
          0.016874957364690874,
          0.018999366214975125,
          0.023586237514042742,
          0.0504608077725985,
          0.06033456665479948,
          0.36646324045707784,
          0.380233062325147
         ],
         "y": [
          "pct_start",
          "sign_size",
          "K",
          "dropout_output",
          "batch_size",
          "dropout_hidden",
          "cha_hidden",
          "embedding_dropout",
          "cha_input",
          "div_factor",
          "max_epochs",
          "dropout_input",
          "final_div_factor",
          "learning_rate",
          "weight_decay"
         ]
        }
       ],
       "layout": {
        "template": {
         "data": {
          "bar": [
           {
            "error_x": {
             "color": "#2a3f5f"
            },
            "error_y": {
             "color": "#2a3f5f"
            },
            "marker": {
             "line": {
              "color": "#E5ECF6",
              "width": 0.5
             },
             "pattern": {
              "fillmode": "overlay",
              "size": 10,
              "solidity": 0.2
             }
            },
            "type": "bar"
           }
          ],
          "barpolar": [
           {
            "marker": {
             "line": {
              "color": "#E5ECF6",
              "width": 0.5
             },
             "pattern": {
              "fillmode": "overlay",
              "size": 10,
              "solidity": 0.2
             }
            },
            "type": "barpolar"
           }
          ],
          "carpet": [
           {
            "aaxis": {
             "endlinecolor": "#2a3f5f",
             "gridcolor": "white",
             "linecolor": "white",
             "minorgridcolor": "white",
             "startlinecolor": "#2a3f5f"
            },
            "baxis": {
             "endlinecolor": "#2a3f5f",
             "gridcolor": "white",
             "linecolor": "white",
             "minorgridcolor": "white",
             "startlinecolor": "#2a3f5f"
            },
            "type": "carpet"
           }
          ],
          "choropleth": [
           {
            "colorbar": {
             "outlinewidth": 0,
             "ticks": ""
            },
            "type": "choropleth"
           }
          ],
          "contour": [
           {
            "colorbar": {
             "outlinewidth": 0,
             "ticks": ""
            },
            "colorscale": [
             [
              0,
              "#0d0887"
             ],
             [
              0.1111111111111111,
              "#46039f"
             ],
             [
              0.2222222222222222,
              "#7201a8"
             ],
             [
              0.3333333333333333,
              "#9c179e"
             ],
             [
              0.4444444444444444,
              "#bd3786"
             ],
             [
              0.5555555555555556,
              "#d8576b"
             ],
             [
              0.6666666666666666,
              "#ed7953"
             ],
             [
              0.7777777777777778,
              "#fb9f3a"
             ],
             [
              0.8888888888888888,
              "#fdca26"
             ],
             [
              1,
              "#f0f921"
             ]
            ],
            "type": "contour"
           }
          ],
          "contourcarpet": [
           {
            "colorbar": {
             "outlinewidth": 0,
             "ticks": ""
            },
            "type": "contourcarpet"
           }
          ],
          "heatmap": [
           {
            "colorbar": {
             "outlinewidth": 0,
             "ticks": ""
            },
            "colorscale": [
             [
              0,
              "#0d0887"
             ],
             [
              0.1111111111111111,
              "#46039f"
             ],
             [
              0.2222222222222222,
              "#7201a8"
             ],
             [
              0.3333333333333333,
              "#9c179e"
             ],
             [
              0.4444444444444444,
              "#bd3786"
             ],
             [
              0.5555555555555556,
              "#d8576b"
             ],
             [
              0.6666666666666666,
              "#ed7953"
             ],
             [
              0.7777777777777778,
              "#fb9f3a"
             ],
             [
              0.8888888888888888,
              "#fdca26"
             ],
             [
              1,
              "#f0f921"
             ]
            ],
            "type": "heatmap"
           }
          ],
          "heatmapgl": [
           {
            "colorbar": {
             "outlinewidth": 0,
             "ticks": ""
            },
            "colorscale": [
             [
              0,
              "#0d0887"
             ],
             [
              0.1111111111111111,
              "#46039f"
             ],
             [
              0.2222222222222222,
              "#7201a8"
             ],
             [
              0.3333333333333333,
              "#9c179e"
             ],
             [
              0.4444444444444444,
              "#bd3786"
             ],
             [
              0.5555555555555556,
              "#d8576b"
             ],
             [
              0.6666666666666666,
              "#ed7953"
             ],
             [
              0.7777777777777778,
              "#fb9f3a"
             ],
             [
              0.8888888888888888,
              "#fdca26"
             ],
             [
              1,
              "#f0f921"
             ]
            ],
            "type": "heatmapgl"
           }
          ],
          "histogram": [
           {
            "marker": {
             "pattern": {
              "fillmode": "overlay",
              "size": 10,
              "solidity": 0.2
             }
            },
            "type": "histogram"
           }
          ],
          "histogram2d": [
           {
            "colorbar": {
             "outlinewidth": 0,
             "ticks": ""
            },
            "colorscale": [
             [
              0,
              "#0d0887"
             ],
             [
              0.1111111111111111,
              "#46039f"
             ],
             [
              0.2222222222222222,
              "#7201a8"
             ],
             [
              0.3333333333333333,
              "#9c179e"
             ],
             [
              0.4444444444444444,
              "#bd3786"
             ],
             [
              0.5555555555555556,
              "#d8576b"
             ],
             [
              0.6666666666666666,
              "#ed7953"
             ],
             [
              0.7777777777777778,
              "#fb9f3a"
             ],
             [
              0.8888888888888888,
              "#fdca26"
             ],
             [
              1,
              "#f0f921"
             ]
            ],
            "type": "histogram2d"
           }
          ],
          "histogram2dcontour": [
           {
            "colorbar": {
             "outlinewidth": 0,
             "ticks": ""
            },
            "colorscale": [
             [
              0,
              "#0d0887"
             ],
             [
              0.1111111111111111,
              "#46039f"
             ],
             [
              0.2222222222222222,
              "#7201a8"
             ],
             [
              0.3333333333333333,
              "#9c179e"
             ],
             [
              0.4444444444444444,
              "#bd3786"
             ],
             [
              0.5555555555555556,
              "#d8576b"
             ],
             [
              0.6666666666666666,
              "#ed7953"
             ],
             [
              0.7777777777777778,
              "#fb9f3a"
             ],
             [
              0.8888888888888888,
              "#fdca26"
             ],
             [
              1,
              "#f0f921"
             ]
            ],
            "type": "histogram2dcontour"
           }
          ],
          "mesh3d": [
           {
            "colorbar": {
             "outlinewidth": 0,
             "ticks": ""
            },
            "type": "mesh3d"
           }
          ],
          "parcoords": [
           {
            "line": {
             "colorbar": {
              "outlinewidth": 0,
              "ticks": ""
             }
            },
            "type": "parcoords"
           }
          ],
          "pie": [
           {
            "automargin": true,
            "type": "pie"
           }
          ],
          "scatter": [
           {
            "fillpattern": {
             "fillmode": "overlay",
             "size": 10,
             "solidity": 0.2
            },
            "type": "scatter"
           }
          ],
          "scatter3d": [
           {
            "line": {
             "colorbar": {
              "outlinewidth": 0,
              "ticks": ""
             }
            },
            "marker": {
             "colorbar": {
              "outlinewidth": 0,
              "ticks": ""
             }
            },
            "type": "scatter3d"
           }
          ],
          "scattercarpet": [
           {
            "marker": {
             "colorbar": {
              "outlinewidth": 0,
              "ticks": ""
             }
            },
            "type": "scattercarpet"
           }
          ],
          "scattergeo": [
           {
            "marker": {
             "colorbar": {
              "outlinewidth": 0,
              "ticks": ""
             }
            },
            "type": "scattergeo"
           }
          ],
          "scattergl": [
           {
            "marker": {
             "colorbar": {
              "outlinewidth": 0,
              "ticks": ""
             }
            },
            "type": "scattergl"
           }
          ],
          "scattermapbox": [
           {
            "marker": {
             "colorbar": {
              "outlinewidth": 0,
              "ticks": ""
             }
            },
            "type": "scattermapbox"
           }
          ],
          "scatterpolar": [
           {
            "marker": {
             "colorbar": {
              "outlinewidth": 0,
              "ticks": ""
             }
            },
            "type": "scatterpolar"
           }
          ],
          "scatterpolargl": [
           {
            "marker": {
             "colorbar": {
              "outlinewidth": 0,
              "ticks": ""
             }
            },
            "type": "scatterpolargl"
           }
          ],
          "scatterternary": [
           {
            "marker": {
             "colorbar": {
              "outlinewidth": 0,
              "ticks": ""
             }
            },
            "type": "scatterternary"
           }
          ],
          "surface": [
           {
            "colorbar": {
             "outlinewidth": 0,
             "ticks": ""
            },
            "colorscale": [
             [
              0,
              "#0d0887"
             ],
             [
              0.1111111111111111,
              "#46039f"
             ],
             [
              0.2222222222222222,
              "#7201a8"
             ],
             [
              0.3333333333333333,
              "#9c179e"
             ],
             [
              0.4444444444444444,
              "#bd3786"
             ],
             [
              0.5555555555555556,
              "#d8576b"
             ],
             [
              0.6666666666666666,
              "#ed7953"
             ],
             [
              0.7777777777777778,
              "#fb9f3a"
             ],
             [
              0.8888888888888888,
              "#fdca26"
             ],
             [
              1,
              "#f0f921"
             ]
            ],
            "type": "surface"
           }
          ],
          "table": [
           {
            "cells": {
             "fill": {
              "color": "#EBF0F8"
             },
             "line": {
              "color": "white"
             }
            },
            "header": {
             "fill": {
              "color": "#C8D4E3"
             },
             "line": {
              "color": "white"
             }
            },
            "type": "table"
           }
          ]
         },
         "layout": {
          "annotationdefaults": {
           "arrowcolor": "#2a3f5f",
           "arrowhead": 0,
           "arrowwidth": 1
          },
          "autotypenumbers": "strict",
          "coloraxis": {
           "colorbar": {
            "outlinewidth": 0,
            "ticks": ""
           }
          },
          "colorscale": {
           "diverging": [
            [
             0,
             "#8e0152"
            ],
            [
             0.1,
             "#c51b7d"
            ],
            [
             0.2,
             "#de77ae"
            ],
            [
             0.3,
             "#f1b6da"
            ],
            [
             0.4,
             "#fde0ef"
            ],
            [
             0.5,
             "#f7f7f7"
            ],
            [
             0.6,
             "#e6f5d0"
            ],
            [
             0.7,
             "#b8e186"
            ],
            [
             0.8,
             "#7fbc41"
            ],
            [
             0.9,
             "#4d9221"
            ],
            [
             1,
             "#276419"
            ]
           ],
           "sequential": [
            [
             0,
             "#0d0887"
            ],
            [
             0.1111111111111111,
             "#46039f"
            ],
            [
             0.2222222222222222,
             "#7201a8"
            ],
            [
             0.3333333333333333,
             "#9c179e"
            ],
            [
             0.4444444444444444,
             "#bd3786"
            ],
            [
             0.5555555555555556,
             "#d8576b"
            ],
            [
             0.6666666666666666,
             "#ed7953"
            ],
            [
             0.7777777777777778,
             "#fb9f3a"
            ],
            [
             0.8888888888888888,
             "#fdca26"
            ],
            [
             1,
             "#f0f921"
            ]
           ],
           "sequentialminus": [
            [
             0,
             "#0d0887"
            ],
            [
             0.1111111111111111,
             "#46039f"
            ],
            [
             0.2222222222222222,
             "#7201a8"
            ],
            [
             0.3333333333333333,
             "#9c179e"
            ],
            [
             0.4444444444444444,
             "#bd3786"
            ],
            [
             0.5555555555555556,
             "#d8576b"
            ],
            [
             0.6666666666666666,
             "#ed7953"
            ],
            [
             0.7777777777777778,
             "#fb9f3a"
            ],
            [
             0.8888888888888888,
             "#fdca26"
            ],
            [
             1,
             "#f0f921"
            ]
           ]
          },
          "colorway": [
           "#636efa",
           "#EF553B",
           "#00cc96",
           "#ab63fa",
           "#FFA15A",
           "#19d3f3",
           "#FF6692",
           "#B6E880",
           "#FF97FF",
           "#FECB52"
          ],
          "font": {
           "color": "#2a3f5f"
          },
          "geo": {
           "bgcolor": "white",
           "lakecolor": "white",
           "landcolor": "#E5ECF6",
           "showlakes": true,
           "showland": true,
           "subunitcolor": "white"
          },
          "hoverlabel": {
           "align": "left"
          },
          "hovermode": "closest",
          "mapbox": {
           "style": "light"
          },
          "paper_bgcolor": "white",
          "plot_bgcolor": "#E5ECF6",
          "polar": {
           "angularaxis": {
            "gridcolor": "white",
            "linecolor": "white",
            "ticks": ""
           },
           "bgcolor": "#E5ECF6",
           "radialaxis": {
            "gridcolor": "white",
            "linecolor": "white",
            "ticks": ""
           }
          },
          "scene": {
           "xaxis": {
            "backgroundcolor": "#E5ECF6",
            "gridcolor": "white",
            "gridwidth": 2,
            "linecolor": "white",
            "showbackground": true,
            "ticks": "",
            "zerolinecolor": "white"
           },
           "yaxis": {
            "backgroundcolor": "#E5ECF6",
            "gridcolor": "white",
            "gridwidth": 2,
            "linecolor": "white",
            "showbackground": true,
            "ticks": "",
            "zerolinecolor": "white"
           },
           "zaxis": {
            "backgroundcolor": "#E5ECF6",
            "gridcolor": "white",
            "gridwidth": 2,
            "linecolor": "white",
            "showbackground": true,
            "ticks": "",
            "zerolinecolor": "white"
           }
          },
          "shapedefaults": {
           "line": {
            "color": "#2a3f5f"
           }
          },
          "ternary": {
           "aaxis": {
            "gridcolor": "white",
            "linecolor": "white",
            "ticks": ""
           },
           "baxis": {
            "gridcolor": "white",
            "linecolor": "white",
            "ticks": ""
           },
           "bgcolor": "#E5ECF6",
           "caxis": {
            "gridcolor": "white",
            "linecolor": "white",
            "ticks": ""
           }
          },
          "title": {
           "x": 0.05
          },
          "xaxis": {
           "automargin": true,
           "gridcolor": "white",
           "linecolor": "white",
           "ticks": "",
           "title": {
            "standoff": 15
           },
           "zerolinecolor": "white",
           "zerolinewidth": 2
          },
          "yaxis": {
           "automargin": true,
           "gridcolor": "white",
           "linecolor": "white",
           "ticks": "",
           "title": {
            "standoff": 15
           },
           "zerolinecolor": "white",
           "zerolinewidth": 2
          }
         }
        },
        "title": {
         "text": "Hyperparameter Importances"
        },
        "xaxis": {
         "title": {
          "text": "Hyperparameter Importance"
         }
        },
        "yaxis": {
         "title": {
          "text": "Hyperparameter"
         }
        }
       }
      }
     },
     "metadata": {},
     "output_type": "display_data"
    }
   ],
   "source": [
    "plot_param_importances(study)"
   ]
  },
  {
   "cell_type": "code",
   "execution_count": 17,
   "metadata": {},
   "outputs": [
    {
     "data": {
      "application/vnd.plotly.v1+json": {
       "config": {
        "plotlyServerURL": "https://plot.ly"
       },
       "data": [
        {
         "marker": {
          "color": [
           0,
           1,
           2,
           3,
           4,
           5,
           6,
           7,
           8,
           9,
           10,
           11,
           12,
           13,
           14,
           15,
           16,
           17,
           18,
           19,
           20,
           21,
           22,
           23,
           24,
           25,
           26,
           27,
           28,
           29,
           30,
           31,
           32,
           33,
           34,
           35,
           36,
           37,
           38,
           39,
           40,
           41,
           42,
           43,
           44,
           45,
           46
          ],
          "colorbar": {
           "title": {
            "text": "Trial"
           },
           "x": 1,
           "xpad": 40
          },
          "colorscale": [
           [
            0,
            "rgb(247,251,255)"
           ],
           [
            0.125,
            "rgb(222,235,247)"
           ],
           [
            0.25,
            "rgb(198,219,239)"
           ],
           [
            0.375,
            "rgb(158,202,225)"
           ],
           [
            0.5,
            "rgb(107,174,214)"
           ],
           [
            0.625,
            "rgb(66,146,198)"
           ],
           [
            0.75,
            "rgb(33,113,181)"
           ],
           [
            0.875,
            "rgb(8,81,156)"
           ],
           [
            1,
            "rgb(8,48,107)"
           ]
          ],
          "line": {
           "color": "Grey",
           "width": 0.5
          },
          "showscale": true
         },
         "mode": "markers",
         "name": "Feasible Trial",
         "showlegend": false,
         "type": "scatter",
         "x": [
          1,
          3,
          3,
          2,
          4,
          4,
          3,
          2,
          1,
          3,
          1,
          2,
          1,
          2,
          1,
          2,
          1,
          2,
          1,
          2,
          1,
          3,
          3,
          4,
          3,
          2,
          2,
          2,
          2,
          1,
          1,
          1,
          1,
          2,
          2,
          1,
          2,
          1,
          4,
          2,
          1,
          3,
          3,
          3,
          3,
          3,
          4
         ],
         "xaxis": "x",
         "y": [
          0.4162300302182152,
          0.4215029269908969,
          0.436478751533768,
          0.4441301148878929,
          0.4298019003516651,
          0.41937016224918433,
          0.4263666539989322,
          0.41861344590578026,
          0.4229170871200116,
          0.41705581779626527,
          0.41929581753919304,
          0.41526052602508806,
          0.4209020192581316,
          0.4189077928084293,
          0.4190592992727427,
          0.41779557310863763,
          0.4305638730769578,
          0.426228413514647,
          0.42058231562192544,
          0.42424172872296745,
          0.4204794887273844,
          0.4247093579687544,
          0.42177673574945335,
          0.42339236845946077,
          0.42948096816583975,
          0.4157003357532832,
          0.42067947558550495,
          0.4215857808657299,
          0.41942936874200837,
          0.41495468125641305,
          0.41754507480099284,
          0.4187478611376087,
          0.4198493718459824,
          0.4171959440658004,
          0.4216386463763964,
          0.4192290413347366,
          0.42323011873676686,
          0.4242732492572619,
          0.4241131380401577,
          0.4215938989665875,
          0.44337222023168193,
          0.42132534734448807,
          0.42157329826060524,
          0.4207729529646709,
          0.4202764993100125,
          0.42137652491225835,
          0.4236129629905407
         ],
         "yaxis": "y"
        },
        {
         "marker": {
          "color": [
           0,
           1,
           2,
           3,
           4,
           5,
           6,
           7,
           8,
           9,
           10,
           11,
           12,
           13,
           14,
           15,
           16,
           17,
           18,
           19,
           20,
           21,
           22,
           23,
           24,
           25,
           26,
           27,
           28,
           29,
           30,
           31,
           32,
           33,
           34,
           35,
           36,
           37,
           38,
           39,
           40,
           41,
           42,
           43,
           44,
           45,
           46
          ],
          "colorbar": {
           "title": {
            "text": "Trial"
           },
           "x": 1,
           "xpad": 40
          },
          "colorscale": [
           [
            0,
            "rgb(247,251,255)"
           ],
           [
            0.125,
            "rgb(222,235,247)"
           ],
           [
            0.25,
            "rgb(198,219,239)"
           ],
           [
            0.375,
            "rgb(158,202,225)"
           ],
           [
            0.5,
            "rgb(107,174,214)"
           ],
           [
            0.625,
            "rgb(66,146,198)"
           ],
           [
            0.75,
            "rgb(33,113,181)"
           ],
           [
            0.875,
            "rgb(8,81,156)"
           ],
           [
            1,
            "rgb(8,48,107)"
           ]
          ],
          "line": {
           "color": "Grey",
           "width": 0.5
          },
          "showscale": false
         },
         "mode": "markers",
         "name": "Feasible Trial",
         "showlegend": false,
         "type": "scatter",
         "x": [
          512,
          384,
          128,
          512,
          512,
          128,
          128,
          512,
          384,
          256,
          384,
          256,
          256,
          256,
          384,
          256,
          512,
          384,
          256,
          128,
          512,
          256,
          256,
          256,
          384,
          256,
          128,
          384,
          256,
          384,
          384,
          512,
          384,
          256,
          512,
          384,
          128,
          512,
          256,
          128,
          512,
          256,
          256,
          256,
          256,
          384,
          256
         ],
         "xaxis": "x2",
         "y": [
          0.4162300302182152,
          0.4215029269908969,
          0.436478751533768,
          0.4441301148878929,
          0.4298019003516651,
          0.41937016224918433,
          0.4263666539989322,
          0.41861344590578026,
          0.4229170871200116,
          0.41705581779626527,
          0.41929581753919304,
          0.41526052602508806,
          0.4209020192581316,
          0.4189077928084293,
          0.4190592992727427,
          0.41779557310863763,
          0.4305638730769578,
          0.426228413514647,
          0.42058231562192544,
          0.42424172872296745,
          0.4204794887273844,
          0.4247093579687544,
          0.42177673574945335,
          0.42339236845946077,
          0.42948096816583975,
          0.4157003357532832,
          0.42067947558550495,
          0.4215857808657299,
          0.41942936874200837,
          0.41495468125641305,
          0.41754507480099284,
          0.4187478611376087,
          0.4198493718459824,
          0.4171959440658004,
          0.4216386463763964,
          0.4192290413347366,
          0.42323011873676686,
          0.4242732492572619,
          0.4241131380401577,
          0.4215938989665875,
          0.44337222023168193,
          0.42132534734448807,
          0.42157329826060524,
          0.4207729529646709,
          0.4202764993100125,
          0.42137652491225835,
          0.4236129629905407
         ],
         "yaxis": "y2"
        },
        {
         "marker": {
          "color": [
           0,
           1,
           2,
           3,
           4,
           5,
           6,
           7,
           8,
           9,
           10,
           11,
           12,
           13,
           14,
           15,
           16,
           17,
           18,
           19,
           20,
           21,
           22,
           23,
           24,
           25,
           26,
           27,
           28,
           29,
           30,
           31,
           32,
           33,
           34,
           35,
           36,
           37,
           38,
           39,
           40,
           41,
           42,
           43,
           44,
           45,
           46
          ],
          "colorbar": {
           "title": {
            "text": "Trial"
           },
           "x": 1,
           "xpad": 40
          },
          "colorscale": [
           [
            0,
            "rgb(247,251,255)"
           ],
           [
            0.125,
            "rgb(222,235,247)"
           ],
           [
            0.25,
            "rgb(198,219,239)"
           ],
           [
            0.375,
            "rgb(158,202,225)"
           ],
           [
            0.5,
            "rgb(107,174,214)"
           ],
           [
            0.625,
            "rgb(66,146,198)"
           ],
           [
            0.75,
            "rgb(33,113,181)"
           ],
           [
            0.875,
            "rgb(8,81,156)"
           ],
           [
            1,
            "rgb(8,48,107)"
           ]
          ],
          "line": {
           "color": "Grey",
           "width": 0.5
          },
          "showscale": false
         },
         "mode": "markers",
         "name": "Feasible Trial",
         "showlegend": false,
         "type": "scatter",
         "x": [
          32,
          112,
          48,
          112,
          112,
          128,
          112,
          64,
          128,
          112,
          32,
          80,
          80,
          32,
          80,
          64,
          48,
          96,
          64,
          48,
          96,
          96,
          80,
          32,
          96,
          128,
          128,
          80,
          48,
          64,
          64,
          80,
          48,
          64,
          96,
          32,
          80,
          64,
          112,
          128,
          48,
          112,
          128,
          128,
          112,
          112,
          128
         ],
         "xaxis": "x3",
         "y": [
          0.4162300302182152,
          0.4215029269908969,
          0.436478751533768,
          0.4441301148878929,
          0.4298019003516651,
          0.41937016224918433,
          0.4263666539989322,
          0.41861344590578026,
          0.4229170871200116,
          0.41705581779626527,
          0.41929581753919304,
          0.41526052602508806,
          0.4209020192581316,
          0.4189077928084293,
          0.4190592992727427,
          0.41779557310863763,
          0.4305638730769578,
          0.426228413514647,
          0.42058231562192544,
          0.42424172872296745,
          0.4204794887273844,
          0.4247093579687544,
          0.42177673574945335,
          0.42339236845946077,
          0.42948096816583975,
          0.4157003357532832,
          0.42067947558550495,
          0.4215857808657299,
          0.41942936874200837,
          0.41495468125641305,
          0.41754507480099284,
          0.4187478611376087,
          0.4198493718459824,
          0.4171959440658004,
          0.4216386463763964,
          0.4192290413347366,
          0.42323011873676686,
          0.4242732492572619,
          0.4241131380401577,
          0.4215938989665875,
          0.44337222023168193,
          0.42132534734448807,
          0.42157329826060524,
          0.4207729529646709,
          0.4202764993100125,
          0.42137652491225835,
          0.4236129629905407
         ],
         "yaxis": "y3"
        },
        {
         "marker": {
          "color": [
           0,
           1,
           2,
           3,
           4,
           5,
           6,
           7,
           8,
           9,
           10,
           11,
           12,
           13,
           14,
           15,
           16,
           17,
           18,
           19,
           20,
           21,
           22,
           23,
           24,
           25,
           26,
           27,
           28,
           29,
           30,
           31,
           32,
           33,
           34,
           35,
           36,
           37,
           38,
           39,
           40,
           41,
           42,
           43,
           44,
           45,
           46
          ],
          "colorbar": {
           "title": {
            "text": "Trial"
           },
           "x": 1,
           "xpad": 40
          },
          "colorscale": [
           [
            0,
            "rgb(247,251,255)"
           ],
           [
            0.125,
            "rgb(222,235,247)"
           ],
           [
            0.25,
            "rgb(198,219,239)"
           ],
           [
            0.375,
            "rgb(158,202,225)"
           ],
           [
            0.5,
            "rgb(107,174,214)"
           ],
           [
            0.625,
            "rgb(66,146,198)"
           ],
           [
            0.75,
            "rgb(33,113,181)"
           ],
           [
            0.875,
            "rgb(8,81,156)"
           ],
           [
            1,
            "rgb(8,48,107)"
           ]
          ],
          "line": {
           "color": "Grey",
           "width": 0.5
          },
          "showscale": false
         },
         "mode": "markers",
         "name": "Feasible Trial",
         "showlegend": false,
         "type": "scatter",
         "x": [
          64,
          128,
          96,
          32,
          32,
          64,
          112,
          96,
          96,
          128,
          64,
          64,
          64,
          48,
          80,
          48,
          80,
          48,
          64,
          80,
          48,
          128,
          112,
          80,
          112,
          64,
          64,
          48,
          80,
          64,
          32,
          64,
          64,
          48,
          80,
          64,
          32,
          64,
          96,
          80,
          48,
          128,
          64,
          96,
          64,
          80,
          48
         ],
         "xaxis": "x4",
         "y": [
          0.4162300302182152,
          0.4215029269908969,
          0.436478751533768,
          0.4441301148878929,
          0.4298019003516651,
          0.41937016224918433,
          0.4263666539989322,
          0.41861344590578026,
          0.4229170871200116,
          0.41705581779626527,
          0.41929581753919304,
          0.41526052602508806,
          0.4209020192581316,
          0.4189077928084293,
          0.4190592992727427,
          0.41779557310863763,
          0.4305638730769578,
          0.426228413514647,
          0.42058231562192544,
          0.42424172872296745,
          0.4204794887273844,
          0.4247093579687544,
          0.42177673574945335,
          0.42339236845946077,
          0.42948096816583975,
          0.4157003357532832,
          0.42067947558550495,
          0.4215857808657299,
          0.41942936874200837,
          0.41495468125641305,
          0.41754507480099284,
          0.4187478611376087,
          0.4198493718459824,
          0.4171959440658004,
          0.4216386463763964,
          0.4192290413347366,
          0.42323011873676686,
          0.4242732492572619,
          0.4241131380401577,
          0.4215938989665875,
          0.44337222023168193,
          0.42132534734448807,
          0.42157329826060524,
          0.4207729529646709,
          0.4202764993100125,
          0.42137652491225835,
          0.4236129629905407
         ],
         "yaxis": "y4"
        },
        {
         "marker": {
          "color": [
           0,
           1,
           2,
           3,
           4,
           5,
           6,
           7,
           8,
           9,
           10,
           11,
           12,
           13,
           14,
           15,
           16,
           17,
           18,
           19,
           20,
           21,
           22,
           23,
           24,
           25,
           26,
           27,
           28,
           29,
           30,
           31,
           32,
           33,
           34,
           35,
           36,
           37,
           38,
           39,
           40,
           41,
           42,
           43,
           44,
           45,
           46
          ],
          "colorbar": {
           "title": {
            "text": "Trial"
           },
           "x": 1,
           "xpad": 40
          },
          "colorscale": [
           [
            0,
            "rgb(247,251,255)"
           ],
           [
            0.125,
            "rgb(222,235,247)"
           ],
           [
            0.25,
            "rgb(198,219,239)"
           ],
           [
            0.375,
            "rgb(158,202,225)"
           ],
           [
            0.5,
            "rgb(107,174,214)"
           ],
           [
            0.625,
            "rgb(66,146,198)"
           ],
           [
            0.75,
            "rgb(33,113,181)"
           ],
           [
            0.875,
            "rgb(8,81,156)"
           ],
           [
            1,
            "rgb(8,48,107)"
           ]
          ],
          "line": {
           "color": "Grey",
           "width": 0.5
          },
          "showscale": false
         },
         "mode": "markers",
         "name": "Feasible Trial",
         "showlegend": false,
         "type": "scatter",
         "x": [
          97,
          10,
          44,
          44,
          36,
          97,
          44,
          35,
          74,
          80,
          70,
          100,
          100,
          86,
          67,
          89,
          60,
          3,
          89,
          59,
          94,
          80,
          80,
          100,
          80,
          86,
          90,
          93,
          61,
          18,
          20,
          26,
          22,
          53,
          14,
          34,
          84,
          1,
          95,
          74,
          49,
          97,
          84,
          100,
          75,
          66,
          91
         ],
         "xaxis": "x5",
         "y": [
          0.4162300302182152,
          0.4215029269908969,
          0.436478751533768,
          0.4441301148878929,
          0.4298019003516651,
          0.41937016224918433,
          0.4263666539989322,
          0.41861344590578026,
          0.4229170871200116,
          0.41705581779626527,
          0.41929581753919304,
          0.41526052602508806,
          0.4209020192581316,
          0.4189077928084293,
          0.4190592992727427,
          0.41779557310863763,
          0.4305638730769578,
          0.426228413514647,
          0.42058231562192544,
          0.42424172872296745,
          0.4204794887273844,
          0.4247093579687544,
          0.42177673574945335,
          0.42339236845946077,
          0.42948096816583975,
          0.4157003357532832,
          0.42067947558550495,
          0.4215857808657299,
          0.41942936874200837,
          0.41495468125641305,
          0.41754507480099284,
          0.4187478611376087,
          0.4198493718459824,
          0.4171959440658004,
          0.4216386463763964,
          0.4192290413347366,
          0.42323011873676686,
          0.4242732492572619,
          0.4241131380401577,
          0.4215938989665875,
          0.44337222023168193,
          0.42132534734448807,
          0.42157329826060524,
          0.4207729529646709,
          0.4202764993100125,
          0.42137652491225835,
          0.4236129629905407
         ],
         "yaxis": "y5"
        },
        {
         "marker": {
          "color": [
           0,
           1,
           2,
           3,
           4,
           5,
           6,
           7,
           8,
           9,
           10,
           11,
           12,
           13,
           14,
           15,
           16,
           17,
           18,
           19,
           20,
           21,
           22,
           23,
           24,
           25,
           26,
           27,
           28,
           29,
           30,
           31,
           32,
           33,
           34,
           35,
           36,
           37,
           38,
           39,
           40,
           41,
           42,
           43,
           44,
           45,
           46
          ],
          "colorbar": {
           "title": {
            "text": "Trial"
           },
           "x": 1,
           "xpad": 40
          },
          "colorscale": [
           [
            0,
            "rgb(247,251,255)"
           ],
           [
            0.125,
            "rgb(222,235,247)"
           ],
           [
            0.25,
            "rgb(198,219,239)"
           ],
           [
            0.375,
            "rgb(158,202,225)"
           ],
           [
            0.5,
            "rgb(107,174,214)"
           ],
           [
            0.625,
            "rgb(66,146,198)"
           ],
           [
            0.75,
            "rgb(33,113,181)"
           ],
           [
            0.875,
            "rgb(8,81,156)"
           ],
           [
            1,
            "rgb(8,48,107)"
           ]
          ],
          "line": {
           "color": "Grey",
           "width": 0.5
          },
          "showscale": false
         },
         "mode": "markers",
         "name": "Feasible Trial",
         "showlegend": false,
         "type": "scatter",
         "x": [
          0.25,
          0.1,
          0.05,
          0.25,
          0.3,
          0.3,
          0.15000000000000002,
          0.05,
          0.1,
          0.25,
          0.15000000000000002,
          0.2,
          0.2,
          0.2,
          0.2,
          0.25,
          0,
          0.25,
          0.2,
          0.3,
          0.15000000000000002,
          0.25,
          0.25,
          0.2,
          0.3,
          0.25,
          0.2,
          0.25,
          0.3,
          0.1,
          0.1,
          0.05,
          0.1,
          0.15000000000000002,
          0,
          0.2,
          0.15000000000000002,
          0.05,
          0.25,
          0.1,
          0.3,
          0.25,
          0.25,
          0.2,
          0.25,
          0.3,
          0.2
         ],
         "xaxis": "x6",
         "y": [
          0.4162300302182152,
          0.4215029269908969,
          0.436478751533768,
          0.4441301148878929,
          0.4298019003516651,
          0.41937016224918433,
          0.4263666539989322,
          0.41861344590578026,
          0.4229170871200116,
          0.41705581779626527,
          0.41929581753919304,
          0.41526052602508806,
          0.4209020192581316,
          0.4189077928084293,
          0.4190592992727427,
          0.41779557310863763,
          0.4305638730769578,
          0.426228413514647,
          0.42058231562192544,
          0.42424172872296745,
          0.4204794887273844,
          0.4247093579687544,
          0.42177673574945335,
          0.42339236845946077,
          0.42948096816583975,
          0.4157003357532832,
          0.42067947558550495,
          0.4215857808657299,
          0.41942936874200837,
          0.41495468125641305,
          0.41754507480099284,
          0.4187478611376087,
          0.4198493718459824,
          0.4171959440658004,
          0.4216386463763964,
          0.4192290413347366,
          0.42323011873676686,
          0.4242732492572619,
          0.4241131380401577,
          0.4215938989665875,
          0.44337222023168193,
          0.42132534734448807,
          0.42157329826060524,
          0.4207729529646709,
          0.4202764993100125,
          0.42137652491225835,
          0.4236129629905407
         ],
         "yaxis": "y6"
        },
        {
         "marker": {
          "color": [
           0,
           1,
           2,
           3,
           4,
           5,
           6,
           7,
           8,
           9,
           10,
           11,
           12,
           13,
           14,
           15,
           16,
           17,
           18,
           19,
           20,
           21,
           22,
           23,
           24,
           25,
           26,
           27,
           28,
           29,
           30,
           31,
           32,
           33,
           34,
           35,
           36,
           37,
           38,
           39,
           40,
           41,
           42,
           43,
           44,
           45,
           46
          ],
          "colorbar": {
           "title": {
            "text": "Trial"
           },
           "x": 1,
           "xpad": 40
          },
          "colorscale": [
           [
            0,
            "rgb(247,251,255)"
           ],
           [
            0.125,
            "rgb(222,235,247)"
           ],
           [
            0.25,
            "rgb(198,219,239)"
           ],
           [
            0.375,
            "rgb(158,202,225)"
           ],
           [
            0.5,
            "rgb(107,174,214)"
           ],
           [
            0.625,
            "rgb(66,146,198)"
           ],
           [
            0.75,
            "rgb(33,113,181)"
           ],
           [
            0.875,
            "rgb(8,81,156)"
           ],
           [
            1,
            "rgb(8,48,107)"
           ]
          ],
          "line": {
           "color": "Grey",
           "width": 0.5
          },
          "showscale": false
         },
         "mode": "markers",
         "name": "Feasible Trial",
         "showlegend": false,
         "type": "scatter",
         "x": [
          0.3,
          0.2,
          0.05,
          0.2,
          0,
          0.15000000000000002,
          0.1,
          0.2,
          0.25,
          0.15000000000000002,
          0.3,
          0.3,
          0.3,
          0.3,
          0.25,
          0.25,
          0.3,
          0.25,
          0.1,
          0.2,
          0.3,
          0.15000000000000002,
          0.1,
          0,
          0.05,
          0.25,
          0.25,
          0.3,
          0.25,
          0.2,
          0.2,
          0.2,
          0.25,
          0.3,
          0.25,
          0.2,
          0.3,
          0.25,
          0.2,
          0.15000000000000002,
          0.3,
          0.15000000000000002,
          0.15000000000000002,
          0.1,
          0.2,
          0.25,
          0.2
         ],
         "xaxis": "x7",
         "y": [
          0.4162300302182152,
          0.4215029269908969,
          0.436478751533768,
          0.4441301148878929,
          0.4298019003516651,
          0.41937016224918433,
          0.4263666539989322,
          0.41861344590578026,
          0.4229170871200116,
          0.41705581779626527,
          0.41929581753919304,
          0.41526052602508806,
          0.4209020192581316,
          0.4189077928084293,
          0.4190592992727427,
          0.41779557310863763,
          0.4305638730769578,
          0.426228413514647,
          0.42058231562192544,
          0.42424172872296745,
          0.4204794887273844,
          0.4247093579687544,
          0.42177673574945335,
          0.42339236845946077,
          0.42948096816583975,
          0.4157003357532832,
          0.42067947558550495,
          0.4215857808657299,
          0.41942936874200837,
          0.41495468125641305,
          0.41754507480099284,
          0.4187478611376087,
          0.4198493718459824,
          0.4171959440658004,
          0.4216386463763964,
          0.4192290413347366,
          0.42323011873676686,
          0.4242732492572619,
          0.4241131380401577,
          0.4215938989665875,
          0.44337222023168193,
          0.42132534734448807,
          0.42157329826060524,
          0.4207729529646709,
          0.4202764993100125,
          0.42137652491225835,
          0.4236129629905407
         ],
         "yaxis": "y7"
        },
        {
         "marker": {
          "color": [
           0,
           1,
           2,
           3,
           4,
           5,
           6,
           7,
           8,
           9,
           10,
           11,
           12,
           13,
           14,
           15,
           16,
           17,
           18,
           19,
           20,
           21,
           22,
           23,
           24,
           25,
           26,
           27,
           28,
           29,
           30,
           31,
           32,
           33,
           34,
           35,
           36,
           37,
           38,
           39,
           40,
           41,
           42,
           43,
           44,
           45,
           46
          ],
          "colorbar": {
           "title": {
            "text": "Trial"
           },
           "x": 1,
           "xpad": 40
          },
          "colorscale": [
           [
            0,
            "rgb(247,251,255)"
           ],
           [
            0.125,
            "rgb(222,235,247)"
           ],
           [
            0.25,
            "rgb(198,219,239)"
           ],
           [
            0.375,
            "rgb(158,202,225)"
           ],
           [
            0.5,
            "rgb(107,174,214)"
           ],
           [
            0.625,
            "rgb(66,146,198)"
           ],
           [
            0.75,
            "rgb(33,113,181)"
           ],
           [
            0.875,
            "rgb(8,81,156)"
           ],
           [
            1,
            "rgb(8,48,107)"
           ]
          ],
          "line": {
           "color": "Grey",
           "width": 0.5
          },
          "showscale": false
         },
         "mode": "markers",
         "name": "Feasible Trial",
         "showlegend": false,
         "type": "scatter",
         "x": [
          0.1,
          0.15000000000000002,
          0,
          0.1,
          0.2,
          0.15000000000000002,
          0.05,
          0,
          0.2,
          0.1,
          0.3,
          0.1,
          0.1,
          0.05,
          0.25,
          0.05,
          0.2,
          0.1,
          0.15000000000000002,
          0.05,
          0,
          0.1,
          0.1,
          0.15000000000000002,
          0.1,
          0.05,
          0.05,
          0.05,
          0,
          0.15000000000000002,
          0.2,
          0.15000000000000002,
          0.15000000000000002,
          0.1,
          0.05,
          0.25,
          0.15000000000000002,
          0.1,
          0,
          0.2,
          0.1,
          0.1,
          0.05,
          0.1,
          0.15000000000000002,
          0.05,
          0.15000000000000002
         ],
         "xaxis": "x8",
         "y": [
          0.4162300302182152,
          0.4215029269908969,
          0.436478751533768,
          0.4441301148878929,
          0.4298019003516651,
          0.41937016224918433,
          0.4263666539989322,
          0.41861344590578026,
          0.4229170871200116,
          0.41705581779626527,
          0.41929581753919304,
          0.41526052602508806,
          0.4209020192581316,
          0.4189077928084293,
          0.4190592992727427,
          0.41779557310863763,
          0.4305638730769578,
          0.426228413514647,
          0.42058231562192544,
          0.42424172872296745,
          0.4204794887273844,
          0.4247093579687544,
          0.42177673574945335,
          0.42339236845946077,
          0.42948096816583975,
          0.4157003357532832,
          0.42067947558550495,
          0.4215857808657299,
          0.41942936874200837,
          0.41495468125641305,
          0.41754507480099284,
          0.4187478611376087,
          0.4198493718459824,
          0.4171959440658004,
          0.4216386463763964,
          0.4192290413347366,
          0.42323011873676686,
          0.4242732492572619,
          0.4241131380401577,
          0.4215938989665875,
          0.44337222023168193,
          0.42132534734448807,
          0.42157329826060524,
          0.4207729529646709,
          0.4202764993100125,
          0.42137652491225835,
          0.4236129629905407
         ],
         "yaxis": "y8"
        },
        {
         "marker": {
          "color": [
           0,
           1,
           2,
           3,
           4,
           5,
           6,
           7,
           8,
           9,
           10,
           11,
           12,
           13,
           14,
           15,
           16,
           17,
           18,
           19,
           20,
           21,
           22,
           23,
           24,
           25,
           26,
           27,
           28,
           29,
           30,
           31,
           32,
           33,
           34,
           35,
           36,
           37,
           38,
           39,
           40,
           41,
           42,
           43,
           44,
           45,
           46
          ],
          "colorbar": {
           "title": {
            "text": "Trial"
           },
           "x": 1,
           "xpad": 40
          },
          "colorscale": [
           [
            0,
            "rgb(247,251,255)"
           ],
           [
            0.125,
            "rgb(222,235,247)"
           ],
           [
            0.25,
            "rgb(198,219,239)"
           ],
           [
            0.375,
            "rgb(158,202,225)"
           ],
           [
            0.5,
            "rgb(107,174,214)"
           ],
           [
            0.625,
            "rgb(66,146,198)"
           ],
           [
            0.75,
            "rgb(33,113,181)"
           ],
           [
            0.875,
            "rgb(8,81,156)"
           ],
           [
            1,
            "rgb(8,48,107)"
           ]
          ],
          "line": {
           "color": "Grey",
           "width": 0.5
          },
          "showscale": false
         },
         "mode": "markers",
         "name": "Feasible Trial",
         "showlegend": false,
         "type": "scatter",
         "x": [
          0,
          0.25,
          0.25,
          0.15000000000000002,
          0.2,
          0.05,
          0.2,
          0.2,
          0.15000000000000002,
          0.2,
          0,
          0.05,
          0.05,
          0,
          0.05,
          0.1,
          0,
          0.1,
          0.1,
          0.3,
          0.05,
          0,
          0.1,
          0.25,
          0.15000000000000002,
          0.05,
          0.05,
          0,
          0.05,
          0.1,
          0.1,
          0.05,
          0,
          0.1,
          0.05,
          0.1,
          0.05,
          0.15000000000000002,
          0,
          0.05,
          0.15000000000000002,
          0.2,
          0.25,
          0.2,
          0.2,
          0,
          0.05
         ],
         "xaxis": "x9",
         "y": [
          0.4162300302182152,
          0.4215029269908969,
          0.436478751533768,
          0.4441301148878929,
          0.4298019003516651,
          0.41937016224918433,
          0.4263666539989322,
          0.41861344590578026,
          0.4229170871200116,
          0.41705581779626527,
          0.41929581753919304,
          0.41526052602508806,
          0.4209020192581316,
          0.4189077928084293,
          0.4190592992727427,
          0.41779557310863763,
          0.4305638730769578,
          0.426228413514647,
          0.42058231562192544,
          0.42424172872296745,
          0.4204794887273844,
          0.4247093579687544,
          0.42177673574945335,
          0.42339236845946077,
          0.42948096816583975,
          0.4157003357532832,
          0.42067947558550495,
          0.4215857808657299,
          0.41942936874200837,
          0.41495468125641305,
          0.41754507480099284,
          0.4187478611376087,
          0.4198493718459824,
          0.4171959440658004,
          0.4216386463763964,
          0.4192290413347366,
          0.42323011873676686,
          0.4242732492572619,
          0.4241131380401577,
          0.4215938989665875,
          0.44337222023168193,
          0.42132534734448807,
          0.42157329826060524,
          0.4207729529646709,
          0.4202764993100125,
          0.42137652491225835,
          0.4236129629905407
         ],
         "yaxis": "y9"
        },
        {
         "marker": {
          "color": [
           0,
           1,
           2,
           3,
           4,
           5,
           6,
           7,
           8,
           9,
           10,
           11,
           12,
           13,
           14,
           15,
           16,
           17,
           18,
           19,
           20,
           21,
           22,
           23,
           24,
           25,
           26,
           27,
           28,
           29,
           30,
           31,
           32,
           33,
           34,
           35,
           36,
           37,
           38,
           39,
           40,
           41,
           42,
           43,
           44,
           45,
           46
          ],
          "colorbar": {
           "title": {
            "text": "Trial"
           },
           "x": 1,
           "xpad": 40
          },
          "colorscale": [
           [
            0,
            "rgb(247,251,255)"
           ],
           [
            0.125,
            "rgb(222,235,247)"
           ],
           [
            0.25,
            "rgb(198,219,239)"
           ],
           [
            0.375,
            "rgb(158,202,225)"
           ],
           [
            0.5,
            "rgb(107,174,214)"
           ],
           [
            0.625,
            "rgb(66,146,198)"
           ],
           [
            0.75,
            "rgb(33,113,181)"
           ],
           [
            0.875,
            "rgb(8,81,156)"
           ],
           [
            1,
            "rgb(8,48,107)"
           ]
          ],
          "line": {
           "color": "Grey",
           "width": 0.5
          },
          "showscale": false
         },
         "mode": "markers",
         "name": "Feasible Trial",
         "showlegend": false,
         "type": "scatter",
         "x": [
          77,
          43,
          90,
          73,
          47,
          17,
          58,
          96,
          48,
          73,
          8,
          75,
          81,
          63,
          27,
          82,
          65,
          99,
          32,
          82,
          71,
          74,
          56,
          89,
          68,
          88,
          88,
          78,
          93,
          38,
          36,
          40,
          56,
          27,
          100,
          86,
          51,
          43,
          62,
          18,
          77,
          73,
          94,
          83,
          51,
          66,
          77
         ],
         "xaxis": "x10",
         "y": [
          0.4162300302182152,
          0.4215029269908969,
          0.436478751533768,
          0.4441301148878929,
          0.4298019003516651,
          0.41937016224918433,
          0.4263666539989322,
          0.41861344590578026,
          0.4229170871200116,
          0.41705581779626527,
          0.41929581753919304,
          0.41526052602508806,
          0.4209020192581316,
          0.4189077928084293,
          0.4190592992727427,
          0.41779557310863763,
          0.4305638730769578,
          0.426228413514647,
          0.42058231562192544,
          0.42424172872296745,
          0.4204794887273844,
          0.4247093579687544,
          0.42177673574945335,
          0.42339236845946077,
          0.42948096816583975,
          0.4157003357532832,
          0.42067947558550495,
          0.4215857808657299,
          0.41942936874200837,
          0.41495468125641305,
          0.41754507480099284,
          0.4187478611376087,
          0.4198493718459824,
          0.4171959440658004,
          0.4216386463763964,
          0.4192290413347366,
          0.42323011873676686,
          0.4242732492572619,
          0.4241131380401577,
          0.4215938989665875,
          0.44337222023168193,
          0.42132534734448807,
          0.42157329826060524,
          0.4207729529646709,
          0.4202764993100125,
          0.42137652491225835,
          0.4236129629905407
         ],
         "yaxis": "y10"
        },
        {
         "marker": {
          "color": [
           0,
           1,
           2,
           3,
           4,
           5,
           6,
           7,
           8,
           9,
           10,
           11,
           12,
           13,
           14,
           15,
           16,
           17,
           18,
           19,
           20,
           21,
           22,
           23,
           24,
           25,
           26,
           27,
           28,
           29,
           30,
           31,
           32,
           33,
           34,
           35,
           36,
           37,
           38,
           39,
           40,
           41,
           42,
           43,
           44,
           45,
           46
          ],
          "colorbar": {
           "title": {
            "text": "Trial"
           },
           "x": 1,
           "xpad": 40
          },
          "colorscale": [
           [
            0,
            "rgb(247,251,255)"
           ],
           [
            0.125,
            "rgb(222,235,247)"
           ],
           [
            0.25,
            "rgb(198,219,239)"
           ],
           [
            0.375,
            "rgb(158,202,225)"
           ],
           [
            0.5,
            "rgb(107,174,214)"
           ],
           [
            0.625,
            "rgb(66,146,198)"
           ],
           [
            0.75,
            "rgb(33,113,181)"
           ],
           [
            0.875,
            "rgb(8,81,156)"
           ],
           [
            1,
            "rgb(8,48,107)"
           ]
          ],
          "line": {
           "color": "Grey",
           "width": 0.5
          },
          "showscale": false
         },
         "mode": "markers",
         "name": "Feasible Trial",
         "showlegend": false,
         "type": "scatter",
         "x": [
          0.000552098745859081,
          0.000694887044701997,
          0.0022646798904665576,
          0.00767337729458139,
          0.0004918020987898688,
          0.0002666666988566382,
          0.0028037609400824778,
          0.004467851664179751,
          0.000528671379653732,
          0.00041414693696113585,
          0.00010480965586183853,
          0.00021243665762299258,
          0.00015848588623467743,
          0.000983523839210694,
          0.00022434494260058238,
          0.0012973729777040854,
          0.00027536115783613756,
          0.00010391766378136924,
          0.0014166694878996106,
          0.00017401710836925253,
          0.0008210480770830078,
          0.00039767223176539806,
          0.0003303425804910548,
          0.0005496008574554774,
          0.00017252624926577284,
          0.0003844409330734303,
          0.0006886895000417124,
          0.00021744623997926272,
          0.0013030367164037335,
          0.0006678162130913228,
          0.00034215430890720364,
          0.0006840003394326666,
          0.0008718059902300257,
          0.0005224508703607104,
          0.0023514882689121283,
          0.0003096042756181206,
          0.00013801246430474157,
          0.0017105381182400806,
          0.0004389230413576474,
          0.00022969728559446684,
          0.009985807214614726,
          0.0003857151395688965,
          0.0007004815964229153,
          0.0006091085953432501,
          0.00046849986816600603,
          0.000262685514602523,
          0.00013719945777557408
         ],
         "xaxis": "x11",
         "y": [
          0.4162300302182152,
          0.4215029269908969,
          0.436478751533768,
          0.4441301148878929,
          0.4298019003516651,
          0.41937016224918433,
          0.4263666539989322,
          0.41861344590578026,
          0.4229170871200116,
          0.41705581779626527,
          0.41929581753919304,
          0.41526052602508806,
          0.4209020192581316,
          0.4189077928084293,
          0.4190592992727427,
          0.41779557310863763,
          0.4305638730769578,
          0.426228413514647,
          0.42058231562192544,
          0.42424172872296745,
          0.4204794887273844,
          0.4247093579687544,
          0.42177673574945335,
          0.42339236845946077,
          0.42948096816583975,
          0.4157003357532832,
          0.42067947558550495,
          0.4215857808657299,
          0.41942936874200837,
          0.41495468125641305,
          0.41754507480099284,
          0.4187478611376087,
          0.4198493718459824,
          0.4171959440658004,
          0.4216386463763964,
          0.4192290413347366,
          0.42323011873676686,
          0.4242732492572619,
          0.4241131380401577,
          0.4215938989665875,
          0.44337222023168193,
          0.42132534734448807,
          0.42157329826060524,
          0.4207729529646709,
          0.4202764993100125,
          0.42137652491225835,
          0.4236129629905407
         ],
         "yaxis": "y11"
        },
        {
         "marker": {
          "color": [
           0,
           1,
           2,
           3,
           4,
           5,
           6,
           7,
           8,
           9,
           10,
           11,
           12,
           13,
           14,
           15,
           16,
           17,
           18,
           19,
           20,
           21,
           22,
           23,
           24,
           25,
           26,
           27,
           28,
           29,
           30,
           31,
           32,
           33,
           34,
           35,
           36,
           37,
           38,
           39,
           40,
           41,
           42,
           43,
           44,
           45,
           46
          ],
          "colorbar": {
           "title": {
            "text": "Trial"
           },
           "x": 1,
           "xpad": 40
          },
          "colorscale": [
           [
            0,
            "rgb(247,251,255)"
           ],
           [
            0.125,
            "rgb(222,235,247)"
           ],
           [
            0.25,
            "rgb(198,219,239)"
           ],
           [
            0.375,
            "rgb(158,202,225)"
           ],
           [
            0.5,
            "rgb(107,174,214)"
           ],
           [
            0.625,
            "rgb(66,146,198)"
           ],
           [
            0.75,
            "rgb(33,113,181)"
           ],
           [
            0.875,
            "rgb(8,81,156)"
           ],
           [
            1,
            "rgb(8,48,107)"
           ]
          ],
          "line": {
           "color": "Grey",
           "width": 0.5
          },
          "showscale": false
         },
         "mode": "markers",
         "name": "Feasible Trial",
         "showlegend": false,
         "type": "scatter",
         "x": [
          95,
          75,
          75,
          95,
          95,
          40,
          30,
          75,
          35,
          90,
          50,
          100,
          100,
          85,
          60,
          85,
          20,
          65,
          100,
          80,
          65,
          90,
          90,
          95,
          100,
          85,
          80,
          85,
          65,
          50,
          50,
          50,
          55,
          70,
          40,
          95,
          75,
          100,
          95,
          45,
          30,
          90,
          90,
          80,
          95,
          85,
          55
         ],
         "xaxis": "x12",
         "y": [
          0.4162300302182152,
          0.4215029269908969,
          0.436478751533768,
          0.4441301148878929,
          0.4298019003516651,
          0.41937016224918433,
          0.4263666539989322,
          0.41861344590578026,
          0.4229170871200116,
          0.41705581779626527,
          0.41929581753919304,
          0.41526052602508806,
          0.4209020192581316,
          0.4189077928084293,
          0.4190592992727427,
          0.41779557310863763,
          0.4305638730769578,
          0.426228413514647,
          0.42058231562192544,
          0.42424172872296745,
          0.4204794887273844,
          0.4247093579687544,
          0.42177673574945335,
          0.42339236845946077,
          0.42948096816583975,
          0.4157003357532832,
          0.42067947558550495,
          0.4215857808657299,
          0.41942936874200837,
          0.41495468125641305,
          0.41754507480099284,
          0.4187478611376087,
          0.4198493718459824,
          0.4171959440658004,
          0.4216386463763964,
          0.4192290413347366,
          0.42323011873676686,
          0.4242732492572619,
          0.4241131380401577,
          0.4215938989665875,
          0.44337222023168193,
          0.42132534734448807,
          0.42157329826060524,
          0.4207729529646709,
          0.4202764993100125,
          0.42137652491225835,
          0.4236129629905407
         ],
         "yaxis": "y12"
        },
        {
         "marker": {
          "color": [
           0,
           1,
           2,
           3,
           4,
           5,
           6,
           7,
           8,
           9,
           10,
           11,
           12,
           13,
           14,
           15,
           16,
           17,
           18,
           19,
           20,
           21,
           22,
           23,
           24,
           25,
           26,
           27,
           28,
           29,
           30,
           31,
           32,
           33,
           34,
           35,
           36,
           37,
           38,
           39,
           40,
           41,
           42,
           43,
           44,
           45,
           46
          ],
          "colorbar": {
           "title": {
            "text": "Trial"
           },
           "x": 1,
           "xpad": 40
          },
          "colorscale": [
           [
            0,
            "rgb(247,251,255)"
           ],
           [
            0.125,
            "rgb(222,235,247)"
           ],
           [
            0.25,
            "rgb(198,219,239)"
           ],
           [
            0.375,
            "rgb(158,202,225)"
           ],
           [
            0.5,
            "rgb(107,174,214)"
           ],
           [
            0.625,
            "rgb(66,146,198)"
           ],
           [
            0.75,
            "rgb(33,113,181)"
           ],
           [
            0.875,
            "rgb(8,81,156)"
           ],
           [
            1,
            "rgb(8,48,107)"
           ]
          ],
          "line": {
           "color": "Grey",
           "width": 0.5
          },
          "showscale": false
         },
         "mode": "markers",
         "name": "Feasible Trial",
         "showlegend": false,
         "type": "scatter",
         "x": [
          0.03,
          0.09,
          0.04,
          0.04,
          0.09,
          0.060000000000000005,
          0.06999999999999999,
          0.04,
          0.08,
          0.04,
          0.02,
          0.01,
          0.01,
          0.02,
          0.01,
          0.03,
          0.02,
          0.05,
          0.01,
          0.03,
          0.03,
          0.05,
          0.060000000000000005,
          0.03,
          0.02,
          0.04,
          0.01,
          0.05,
          0.02,
          0.09999999999999999,
          0.09999999999999999,
          0.09999999999999999,
          0.06999999999999999,
          0.04,
          0.09,
          0.060000000000000005,
          0.08,
          0.03,
          0.04,
          0.06999999999999999,
          0.08,
          0.04,
          0.04,
          0.05,
          0.03,
          0.04,
          0.02
         ],
         "xaxis": "x13",
         "y": [
          0.4162300302182152,
          0.4215029269908969,
          0.436478751533768,
          0.4441301148878929,
          0.4298019003516651,
          0.41937016224918433,
          0.4263666539989322,
          0.41861344590578026,
          0.4229170871200116,
          0.41705581779626527,
          0.41929581753919304,
          0.41526052602508806,
          0.4209020192581316,
          0.4189077928084293,
          0.4190592992727427,
          0.41779557310863763,
          0.4305638730769578,
          0.426228413514647,
          0.42058231562192544,
          0.42424172872296745,
          0.4204794887273844,
          0.4247093579687544,
          0.42177673574945335,
          0.42339236845946077,
          0.42948096816583975,
          0.4157003357532832,
          0.42067947558550495,
          0.4215857808657299,
          0.41942936874200837,
          0.41495468125641305,
          0.41754507480099284,
          0.4187478611376087,
          0.4198493718459824,
          0.4171959440658004,
          0.4216386463763964,
          0.4192290413347366,
          0.42323011873676686,
          0.4242732492572619,
          0.4241131380401577,
          0.4215938989665875,
          0.44337222023168193,
          0.42132534734448807,
          0.42157329826060524,
          0.4207729529646709,
          0.4202764993100125,
          0.42137652491225835,
          0.4236129629905407
         ],
         "yaxis": "y13"
        },
        {
         "marker": {
          "color": [
           0,
           1,
           2,
           3,
           4,
           5,
           6,
           7,
           8,
           9,
           10,
           11,
           12,
           13,
           14,
           15,
           16,
           17,
           18,
           19,
           20,
           21,
           22,
           23,
           24,
           25,
           26,
           27,
           28,
           29,
           30,
           31,
           32,
           33,
           34,
           35,
           36,
           37,
           38,
           39,
           40,
           41,
           42,
           43,
           44,
           45,
           46
          ],
          "colorbar": {
           "title": {
            "text": "Trial"
           },
           "x": 1,
           "xpad": 40
          },
          "colorscale": [
           [
            0,
            "rgb(247,251,255)"
           ],
           [
            0.125,
            "rgb(222,235,247)"
           ],
           [
            0.25,
            "rgb(198,219,239)"
           ],
           [
            0.375,
            "rgb(158,202,225)"
           ],
           [
            0.5,
            "rgb(107,174,214)"
           ],
           [
            0.625,
            "rgb(66,146,198)"
           ],
           [
            0.75,
            "rgb(33,113,181)"
           ],
           [
            0.875,
            "rgb(8,81,156)"
           ],
           [
            1,
            "rgb(8,48,107)"
           ]
          ],
          "line": {
           "color": "Grey",
           "width": 0.5
          },
          "showscale": false
         },
         "mode": "markers",
         "name": "Feasible Trial",
         "showlegend": false,
         "type": "scatter",
         "x": [
          16,
          24,
          16,
          32,
          24,
          8,
          24,
          16,
          8,
          24,
          32,
          16,
          16,
          8,
          16,
          16,
          8,
          16,
          24,
          8,
          16,
          24,
          32,
          24,
          16,
          24,
          16,
          24,
          32,
          16,
          24,
          16,
          16,
          16,
          16,
          8,
          24,
          16,
          16,
          24,
          8,
          24,
          24,
          24,
          32,
          16,
          24
         ],
         "xaxis": "x14",
         "y": [
          0.4162300302182152,
          0.4215029269908969,
          0.436478751533768,
          0.4441301148878929,
          0.4298019003516651,
          0.41937016224918433,
          0.4263666539989322,
          0.41861344590578026,
          0.4229170871200116,
          0.41705581779626527,
          0.41929581753919304,
          0.41526052602508806,
          0.4209020192581316,
          0.4189077928084293,
          0.4190592992727427,
          0.41779557310863763,
          0.4305638730769578,
          0.426228413514647,
          0.42058231562192544,
          0.42424172872296745,
          0.4204794887273844,
          0.4247093579687544,
          0.42177673574945335,
          0.42339236845946077,
          0.42948096816583975,
          0.4157003357532832,
          0.42067947558550495,
          0.4215857808657299,
          0.41942936874200837,
          0.41495468125641305,
          0.41754507480099284,
          0.4187478611376087,
          0.4198493718459824,
          0.4171959440658004,
          0.4216386463763964,
          0.4192290413347366,
          0.42323011873676686,
          0.4242732492572619,
          0.4241131380401577,
          0.4215938989665875,
          0.44337222023168193,
          0.42132534734448807,
          0.42157329826060524,
          0.4207729529646709,
          0.4202764993100125,
          0.42137652491225835,
          0.4236129629905407
         ],
         "yaxis": "y14"
        },
        {
         "marker": {
          "color": [
           0,
           1,
           2,
           3,
           4,
           5,
           6,
           7,
           8,
           9,
           10,
           11,
           12,
           13,
           14,
           15,
           16,
           17,
           18,
           19,
           20,
           21,
           22,
           23,
           24,
           25,
           26,
           27,
           28,
           29,
           30,
           31,
           32,
           33,
           34,
           35,
           36,
           37,
           38,
           39,
           40,
           41,
           42,
           43,
           44,
           45,
           46
          ],
          "colorbar": {
           "title": {
            "text": "Trial"
           },
           "x": 1,
           "xpad": 40
          },
          "colorscale": [
           [
            0,
            "rgb(247,251,255)"
           ],
           [
            0.125,
            "rgb(222,235,247)"
           ],
           [
            0.25,
            "rgb(198,219,239)"
           ],
           [
            0.375,
            "rgb(158,202,225)"
           ],
           [
            0.5,
            "rgb(107,174,214)"
           ],
           [
            0.625,
            "rgb(66,146,198)"
           ],
           [
            0.75,
            "rgb(33,113,181)"
           ],
           [
            0.875,
            "rgb(8,81,156)"
           ],
           [
            1,
            "rgb(8,48,107)"
           ]
          ],
          "line": {
           "color": "Grey",
           "width": 0.5
          },
          "showscale": false
         },
         "mode": "markers",
         "name": "Feasible Trial",
         "showlegend": false,
         "type": "scatter",
         "x": [
          0.0001648583616827241,
          0.000012733363516746386,
          0.0021418531727887477,
          0.004127971826830307,
          0.008666790010374115,
          0.0008891423315635094,
          0.0003975182553937789,
          0.00010354790339761517,
          0.000016911547349511836,
          0.0008873176321348023,
          0.00007054367710387334,
          0.00017465954550084683,
          0.0000996419408768236,
          0.00023527682801050885,
          0.000043033947039262684,
          0.0002327482564966021,
          0.00004259726857077928,
          0.0005205937116413687,
          0.00017501984770490242,
          0.0000325881344463769,
          0.0008712893952803776,
          0.001389957310311342,
          0.0005730429210229507,
          0.00015051067680365744,
          0.0020764880553828134,
          0.000331881914155818,
          0.0003320516841609113,
          0.00008013489126426164,
          0.00017611499412893063,
          0.00030931452710892437,
          0.000496991580447653,
          0.00013534696435475106,
          0.0002803512498842826,
          0.00005369566139766135,
          0.0003189502286408835,
          0.00002051270522110447,
          0.0033315694688792648,
          0.0007327593009758673,
          0.0014825868121952804,
          0.00011661677404375038,
          0.006992850078532212,
          0.001075556064551732,
          0.0004868771203998476,
          0.00020797088081430154,
          0.00035920678418113343,
          0.0007071992523489892,
          0.00026090416529539305
         ],
         "xaxis": "x15",
         "y": [
          0.4162300302182152,
          0.4215029269908969,
          0.436478751533768,
          0.4441301148878929,
          0.4298019003516651,
          0.41937016224918433,
          0.4263666539989322,
          0.41861344590578026,
          0.4229170871200116,
          0.41705581779626527,
          0.41929581753919304,
          0.41526052602508806,
          0.4209020192581316,
          0.4189077928084293,
          0.4190592992727427,
          0.41779557310863763,
          0.4305638730769578,
          0.426228413514647,
          0.42058231562192544,
          0.42424172872296745,
          0.4204794887273844,
          0.4247093579687544,
          0.42177673574945335,
          0.42339236845946077,
          0.42948096816583975,
          0.4157003357532832,
          0.42067947558550495,
          0.4215857808657299,
          0.41942936874200837,
          0.41495468125641305,
          0.41754507480099284,
          0.4187478611376087,
          0.4198493718459824,
          0.4171959440658004,
          0.4216386463763964,
          0.4192290413347366,
          0.42323011873676686,
          0.4242732492572619,
          0.4241131380401577,
          0.4215938989665875,
          0.44337222023168193,
          0.42132534734448807,
          0.42157329826060524,
          0.4207729529646709,
          0.4202764993100125,
          0.42137652491225835,
          0.4236129629905407
         ],
         "yaxis": "y15"
        }
       ],
       "layout": {
        "template": {
         "data": {
          "bar": [
           {
            "error_x": {
             "color": "#2a3f5f"
            },
            "error_y": {
             "color": "#2a3f5f"
            },
            "marker": {
             "line": {
              "color": "#E5ECF6",
              "width": 0.5
             },
             "pattern": {
              "fillmode": "overlay",
              "size": 10,
              "solidity": 0.2
             }
            },
            "type": "bar"
           }
          ],
          "barpolar": [
           {
            "marker": {
             "line": {
              "color": "#E5ECF6",
              "width": 0.5
             },
             "pattern": {
              "fillmode": "overlay",
              "size": 10,
              "solidity": 0.2
             }
            },
            "type": "barpolar"
           }
          ],
          "carpet": [
           {
            "aaxis": {
             "endlinecolor": "#2a3f5f",
             "gridcolor": "white",
             "linecolor": "white",
             "minorgridcolor": "white",
             "startlinecolor": "#2a3f5f"
            },
            "baxis": {
             "endlinecolor": "#2a3f5f",
             "gridcolor": "white",
             "linecolor": "white",
             "minorgridcolor": "white",
             "startlinecolor": "#2a3f5f"
            },
            "type": "carpet"
           }
          ],
          "choropleth": [
           {
            "colorbar": {
             "outlinewidth": 0,
             "ticks": ""
            },
            "type": "choropleth"
           }
          ],
          "contour": [
           {
            "colorbar": {
             "outlinewidth": 0,
             "ticks": ""
            },
            "colorscale": [
             [
              0,
              "#0d0887"
             ],
             [
              0.1111111111111111,
              "#46039f"
             ],
             [
              0.2222222222222222,
              "#7201a8"
             ],
             [
              0.3333333333333333,
              "#9c179e"
             ],
             [
              0.4444444444444444,
              "#bd3786"
             ],
             [
              0.5555555555555556,
              "#d8576b"
             ],
             [
              0.6666666666666666,
              "#ed7953"
             ],
             [
              0.7777777777777778,
              "#fb9f3a"
             ],
             [
              0.8888888888888888,
              "#fdca26"
             ],
             [
              1,
              "#f0f921"
             ]
            ],
            "type": "contour"
           }
          ],
          "contourcarpet": [
           {
            "colorbar": {
             "outlinewidth": 0,
             "ticks": ""
            },
            "type": "contourcarpet"
           }
          ],
          "heatmap": [
           {
            "colorbar": {
             "outlinewidth": 0,
             "ticks": ""
            },
            "colorscale": [
             [
              0,
              "#0d0887"
             ],
             [
              0.1111111111111111,
              "#46039f"
             ],
             [
              0.2222222222222222,
              "#7201a8"
             ],
             [
              0.3333333333333333,
              "#9c179e"
             ],
             [
              0.4444444444444444,
              "#bd3786"
             ],
             [
              0.5555555555555556,
              "#d8576b"
             ],
             [
              0.6666666666666666,
              "#ed7953"
             ],
             [
              0.7777777777777778,
              "#fb9f3a"
             ],
             [
              0.8888888888888888,
              "#fdca26"
             ],
             [
              1,
              "#f0f921"
             ]
            ],
            "type": "heatmap"
           }
          ],
          "heatmapgl": [
           {
            "colorbar": {
             "outlinewidth": 0,
             "ticks": ""
            },
            "colorscale": [
             [
              0,
              "#0d0887"
             ],
             [
              0.1111111111111111,
              "#46039f"
             ],
             [
              0.2222222222222222,
              "#7201a8"
             ],
             [
              0.3333333333333333,
              "#9c179e"
             ],
             [
              0.4444444444444444,
              "#bd3786"
             ],
             [
              0.5555555555555556,
              "#d8576b"
             ],
             [
              0.6666666666666666,
              "#ed7953"
             ],
             [
              0.7777777777777778,
              "#fb9f3a"
             ],
             [
              0.8888888888888888,
              "#fdca26"
             ],
             [
              1,
              "#f0f921"
             ]
            ],
            "type": "heatmapgl"
           }
          ],
          "histogram": [
           {
            "marker": {
             "pattern": {
              "fillmode": "overlay",
              "size": 10,
              "solidity": 0.2
             }
            },
            "type": "histogram"
           }
          ],
          "histogram2d": [
           {
            "colorbar": {
             "outlinewidth": 0,
             "ticks": ""
            },
            "colorscale": [
             [
              0,
              "#0d0887"
             ],
             [
              0.1111111111111111,
              "#46039f"
             ],
             [
              0.2222222222222222,
              "#7201a8"
             ],
             [
              0.3333333333333333,
              "#9c179e"
             ],
             [
              0.4444444444444444,
              "#bd3786"
             ],
             [
              0.5555555555555556,
              "#d8576b"
             ],
             [
              0.6666666666666666,
              "#ed7953"
             ],
             [
              0.7777777777777778,
              "#fb9f3a"
             ],
             [
              0.8888888888888888,
              "#fdca26"
             ],
             [
              1,
              "#f0f921"
             ]
            ],
            "type": "histogram2d"
           }
          ],
          "histogram2dcontour": [
           {
            "colorbar": {
             "outlinewidth": 0,
             "ticks": ""
            },
            "colorscale": [
             [
              0,
              "#0d0887"
             ],
             [
              0.1111111111111111,
              "#46039f"
             ],
             [
              0.2222222222222222,
              "#7201a8"
             ],
             [
              0.3333333333333333,
              "#9c179e"
             ],
             [
              0.4444444444444444,
              "#bd3786"
             ],
             [
              0.5555555555555556,
              "#d8576b"
             ],
             [
              0.6666666666666666,
              "#ed7953"
             ],
             [
              0.7777777777777778,
              "#fb9f3a"
             ],
             [
              0.8888888888888888,
              "#fdca26"
             ],
             [
              1,
              "#f0f921"
             ]
            ],
            "type": "histogram2dcontour"
           }
          ],
          "mesh3d": [
           {
            "colorbar": {
             "outlinewidth": 0,
             "ticks": ""
            },
            "type": "mesh3d"
           }
          ],
          "parcoords": [
           {
            "line": {
             "colorbar": {
              "outlinewidth": 0,
              "ticks": ""
             }
            },
            "type": "parcoords"
           }
          ],
          "pie": [
           {
            "automargin": true,
            "type": "pie"
           }
          ],
          "scatter": [
           {
            "fillpattern": {
             "fillmode": "overlay",
             "size": 10,
             "solidity": 0.2
            },
            "type": "scatter"
           }
          ],
          "scatter3d": [
           {
            "line": {
             "colorbar": {
              "outlinewidth": 0,
              "ticks": ""
             }
            },
            "marker": {
             "colorbar": {
              "outlinewidth": 0,
              "ticks": ""
             }
            },
            "type": "scatter3d"
           }
          ],
          "scattercarpet": [
           {
            "marker": {
             "colorbar": {
              "outlinewidth": 0,
              "ticks": ""
             }
            },
            "type": "scattercarpet"
           }
          ],
          "scattergeo": [
           {
            "marker": {
             "colorbar": {
              "outlinewidth": 0,
              "ticks": ""
             }
            },
            "type": "scattergeo"
           }
          ],
          "scattergl": [
           {
            "marker": {
             "colorbar": {
              "outlinewidth": 0,
              "ticks": ""
             }
            },
            "type": "scattergl"
           }
          ],
          "scattermapbox": [
           {
            "marker": {
             "colorbar": {
              "outlinewidth": 0,
              "ticks": ""
             }
            },
            "type": "scattermapbox"
           }
          ],
          "scatterpolar": [
           {
            "marker": {
             "colorbar": {
              "outlinewidth": 0,
              "ticks": ""
             }
            },
            "type": "scatterpolar"
           }
          ],
          "scatterpolargl": [
           {
            "marker": {
             "colorbar": {
              "outlinewidth": 0,
              "ticks": ""
             }
            },
            "type": "scatterpolargl"
           }
          ],
          "scatterternary": [
           {
            "marker": {
             "colorbar": {
              "outlinewidth": 0,
              "ticks": ""
             }
            },
            "type": "scatterternary"
           }
          ],
          "surface": [
           {
            "colorbar": {
             "outlinewidth": 0,
             "ticks": ""
            },
            "colorscale": [
             [
              0,
              "#0d0887"
             ],
             [
              0.1111111111111111,
              "#46039f"
             ],
             [
              0.2222222222222222,
              "#7201a8"
             ],
             [
              0.3333333333333333,
              "#9c179e"
             ],
             [
              0.4444444444444444,
              "#bd3786"
             ],
             [
              0.5555555555555556,
              "#d8576b"
             ],
             [
              0.6666666666666666,
              "#ed7953"
             ],
             [
              0.7777777777777778,
              "#fb9f3a"
             ],
             [
              0.8888888888888888,
              "#fdca26"
             ],
             [
              1,
              "#f0f921"
             ]
            ],
            "type": "surface"
           }
          ],
          "table": [
           {
            "cells": {
             "fill": {
              "color": "#EBF0F8"
             },
             "line": {
              "color": "white"
             }
            },
            "header": {
             "fill": {
              "color": "#C8D4E3"
             },
             "line": {
              "color": "white"
             }
            },
            "type": "table"
           }
          ]
         },
         "layout": {
          "annotationdefaults": {
           "arrowcolor": "#2a3f5f",
           "arrowhead": 0,
           "arrowwidth": 1
          },
          "autotypenumbers": "strict",
          "coloraxis": {
           "colorbar": {
            "outlinewidth": 0,
            "ticks": ""
           }
          },
          "colorscale": {
           "diverging": [
            [
             0,
             "#8e0152"
            ],
            [
             0.1,
             "#c51b7d"
            ],
            [
             0.2,
             "#de77ae"
            ],
            [
             0.3,
             "#f1b6da"
            ],
            [
             0.4,
             "#fde0ef"
            ],
            [
             0.5,
             "#f7f7f7"
            ],
            [
             0.6,
             "#e6f5d0"
            ],
            [
             0.7,
             "#b8e186"
            ],
            [
             0.8,
             "#7fbc41"
            ],
            [
             0.9,
             "#4d9221"
            ],
            [
             1,
             "#276419"
            ]
           ],
           "sequential": [
            [
             0,
             "#0d0887"
            ],
            [
             0.1111111111111111,
             "#46039f"
            ],
            [
             0.2222222222222222,
             "#7201a8"
            ],
            [
             0.3333333333333333,
             "#9c179e"
            ],
            [
             0.4444444444444444,
             "#bd3786"
            ],
            [
             0.5555555555555556,
             "#d8576b"
            ],
            [
             0.6666666666666666,
             "#ed7953"
            ],
            [
             0.7777777777777778,
             "#fb9f3a"
            ],
            [
             0.8888888888888888,
             "#fdca26"
            ],
            [
             1,
             "#f0f921"
            ]
           ],
           "sequentialminus": [
            [
             0,
             "#0d0887"
            ],
            [
             0.1111111111111111,
             "#46039f"
            ],
            [
             0.2222222222222222,
             "#7201a8"
            ],
            [
             0.3333333333333333,
             "#9c179e"
            ],
            [
             0.4444444444444444,
             "#bd3786"
            ],
            [
             0.5555555555555556,
             "#d8576b"
            ],
            [
             0.6666666666666666,
             "#ed7953"
            ],
            [
             0.7777777777777778,
             "#fb9f3a"
            ],
            [
             0.8888888888888888,
             "#fdca26"
            ],
            [
             1,
             "#f0f921"
            ]
           ]
          },
          "colorway": [
           "#636efa",
           "#EF553B",
           "#00cc96",
           "#ab63fa",
           "#FFA15A",
           "#19d3f3",
           "#FF6692",
           "#B6E880",
           "#FF97FF",
           "#FECB52"
          ],
          "font": {
           "color": "#2a3f5f"
          },
          "geo": {
           "bgcolor": "white",
           "lakecolor": "white",
           "landcolor": "#E5ECF6",
           "showlakes": true,
           "showland": true,
           "subunitcolor": "white"
          },
          "hoverlabel": {
           "align": "left"
          },
          "hovermode": "closest",
          "mapbox": {
           "style": "light"
          },
          "paper_bgcolor": "white",
          "plot_bgcolor": "#E5ECF6",
          "polar": {
           "angularaxis": {
            "gridcolor": "white",
            "linecolor": "white",
            "ticks": ""
           },
           "bgcolor": "#E5ECF6",
           "radialaxis": {
            "gridcolor": "white",
            "linecolor": "white",
            "ticks": ""
           }
          },
          "scene": {
           "xaxis": {
            "backgroundcolor": "#E5ECF6",
            "gridcolor": "white",
            "gridwidth": 2,
            "linecolor": "white",
            "showbackground": true,
            "ticks": "",
            "zerolinecolor": "white"
           },
           "yaxis": {
            "backgroundcolor": "#E5ECF6",
            "gridcolor": "white",
            "gridwidth": 2,
            "linecolor": "white",
            "showbackground": true,
            "ticks": "",
            "zerolinecolor": "white"
           },
           "zaxis": {
            "backgroundcolor": "#E5ECF6",
            "gridcolor": "white",
            "gridwidth": 2,
            "linecolor": "white",
            "showbackground": true,
            "ticks": "",
            "zerolinecolor": "white"
           }
          },
          "shapedefaults": {
           "line": {
            "color": "#2a3f5f"
           }
          },
          "ternary": {
           "aaxis": {
            "gridcolor": "white",
            "linecolor": "white",
            "ticks": ""
           },
           "baxis": {
            "gridcolor": "white",
            "linecolor": "white",
            "ticks": ""
           },
           "bgcolor": "#E5ECF6",
           "caxis": {
            "gridcolor": "white",
            "linecolor": "white",
            "ticks": ""
           }
          },
          "title": {
           "x": 0.05
          },
          "xaxis": {
           "automargin": true,
           "gridcolor": "white",
           "linecolor": "white",
           "ticks": "",
           "title": {
            "standoff": 15
           },
           "zerolinecolor": "white",
           "zerolinewidth": 2
          },
          "yaxis": {
           "automargin": true,
           "gridcolor": "white",
           "linecolor": "white",
           "ticks": "",
           "title": {
            "standoff": 15
           },
           "zerolinecolor": "white",
           "zerolinewidth": 2
          }
         }
        },
        "title": {
         "text": "Slice Plot"
        },
        "width": 4500,
        "xaxis": {
         "anchor": "y",
         "domain": [
          0,
          0.05422222222222222
         ],
         "title": {
          "text": "K"
         }
        },
        "xaxis10": {
         "anchor": "y10",
         "domain": [
          0.608,
          0.6622222222222222
         ],
         "title": {
          "text": "final_div_factor"
         }
        },
        "xaxis11": {
         "anchor": "y11",
         "domain": [
          0.6755555555555555,
          0.7297777777777776
         ],
         "title": {
          "text": "learning_rate"
         },
         "type": "log"
        },
        "xaxis12": {
         "anchor": "y12",
         "domain": [
          0.7431111111111111,
          0.7973333333333332
         ],
         "title": {
          "text": "max_epochs"
         }
        },
        "xaxis13": {
         "anchor": "y13",
         "domain": [
          0.8106666666666665,
          0.8648888888888887
         ],
         "title": {
          "text": "pct_start"
         }
        },
        "xaxis14": {
         "anchor": "y14",
         "domain": [
          0.878222222222222,
          0.9324444444444442
         ],
         "title": {
          "text": "sign_size"
         }
        },
        "xaxis15": {
         "anchor": "y15",
         "domain": [
          0.9457777777777775,
          0.9999999999999997
         ],
         "title": {
          "text": "weight_decay"
         },
         "type": "log"
        },
        "xaxis2": {
         "anchor": "y2",
         "domain": [
          0.06755555555555555,
          0.12177777777777776
         ],
         "title": {
          "text": "batch_size"
         }
        },
        "xaxis3": {
         "anchor": "y3",
         "domain": [
          0.1351111111111111,
          0.18933333333333333
         ],
         "title": {
          "text": "cha_hidden"
         }
        },
        "xaxis4": {
         "anchor": "y4",
         "domain": [
          0.20266666666666666,
          0.2568888888888889
         ],
         "title": {
          "text": "cha_input"
         }
        },
        "xaxis5": {
         "anchor": "y5",
         "domain": [
          0.2702222222222222,
          0.3244444444444444
         ],
         "title": {
          "text": "div_factor"
         }
        },
        "xaxis6": {
         "anchor": "y6",
         "domain": [
          0.33777777777777773,
          0.39199999999999996
         ],
         "title": {
          "text": "dropout_hidden"
         }
        },
        "xaxis7": {
         "anchor": "y7",
         "domain": [
          0.4053333333333333,
          0.45955555555555555
         ],
         "title": {
          "text": "dropout_input"
         }
        },
        "xaxis8": {
         "anchor": "y8",
         "domain": [
          0.47288888888888886,
          0.5271111111111111
         ],
         "title": {
          "text": "dropout_output"
         }
        },
        "xaxis9": {
         "anchor": "y9",
         "domain": [
          0.5404444444444444,
          0.5946666666666666
         ],
         "title": {
          "text": "embedding_dropout"
         }
        },
        "yaxis": {
         "anchor": "x",
         "domain": [
          0,
          1
         ],
         "title": {
          "text": "Objective Value"
         }
        },
        "yaxis10": {
         "anchor": "x10",
         "domain": [
          0,
          1
         ],
         "matches": "y",
         "showticklabels": false
        },
        "yaxis11": {
         "anchor": "x11",
         "domain": [
          0,
          1
         ],
         "matches": "y",
         "showticklabels": false
        },
        "yaxis12": {
         "anchor": "x12",
         "domain": [
          0,
          1
         ],
         "matches": "y",
         "showticklabels": false
        },
        "yaxis13": {
         "anchor": "x13",
         "domain": [
          0,
          1
         ],
         "matches": "y",
         "showticklabels": false
        },
        "yaxis14": {
         "anchor": "x14",
         "domain": [
          0,
          1
         ],
         "matches": "y",
         "showticklabels": false
        },
        "yaxis15": {
         "anchor": "x15",
         "domain": [
          0,
          1
         ],
         "matches": "y",
         "showticklabels": false
        },
        "yaxis2": {
         "anchor": "x2",
         "domain": [
          0,
          1
         ],
         "matches": "y",
         "showticklabels": false
        },
        "yaxis3": {
         "anchor": "x3",
         "domain": [
          0,
          1
         ],
         "matches": "y",
         "showticklabels": false
        },
        "yaxis4": {
         "anchor": "x4",
         "domain": [
          0,
          1
         ],
         "matches": "y",
         "showticklabels": false
        },
        "yaxis5": {
         "anchor": "x5",
         "domain": [
          0,
          1
         ],
         "matches": "y",
         "showticklabels": false
        },
        "yaxis6": {
         "anchor": "x6",
         "domain": [
          0,
          1
         ],
         "matches": "y",
         "showticklabels": false
        },
        "yaxis7": {
         "anchor": "x7",
         "domain": [
          0,
          1
         ],
         "matches": "y",
         "showticklabels": false
        },
        "yaxis8": {
         "anchor": "x8",
         "domain": [
          0,
          1
         ],
         "matches": "y",
         "showticklabels": false
        },
        "yaxis9": {
         "anchor": "x9",
         "domain": [
          0,
          1
         ],
         "matches": "y",
         "showticklabels": false
        }
       }
      }
     },
     "metadata": {},
     "output_type": "display_data"
    }
   ],
   "source": [
    "plot_slice(study)"
   ]
  },
  {
   "cell_type": "code",
   "execution_count": 18,
   "metadata": {},
   "outputs": [
    {
     "data": {
      "application/vnd.plotly.v1+json": {
       "config": {
        "plotlyServerURL": "https://plot.ly"
       },
       "data": [
        {
         "mode": "lines",
         "name": "1dcnn",
         "type": "scatter",
         "x": [
          0.41495468125641305,
          0.41524938260622596,
          0.4155440839560389,
          0.41583878530585183,
          0.41613348665566474,
          0.4164281880054777,
          0.4167228893552906,
          0.4170175907051035,
          0.4173122920549165,
          0.4176069934047294,
          0.4179016947545423,
          0.4181963961043553,
          0.4184910974541682,
          0.4187857988039811,
          0.41908050015379406,
          0.41937520150360696,
          0.4196699028534199,
          0.41996460420323284,
          0.42025930555304575,
          0.42055400690285866,
          0.4208487082526716,
          0.42114340960248453,
          0.42143811095229744,
          0.4217328123021104,
          0.4220275136519233,
          0.4223222150017362,
          0.4226169163515492,
          0.4229116177013621,
          0.423206319051175,
          0.42350102040098797,
          0.4237957217508009,
          0.4240904231006138,
          0.42438512445042675,
          0.42467982580023966,
          0.4249745271500526,
          0.42526922849986554,
          0.42556392984967845,
          0.42585863119949136,
          0.4261533325493043,
          0.42644803389911723,
          0.42674273524893014,
          0.4270374365987431,
          0.427332137948556,
          0.4276268392983689,
          0.4279215406481819,
          0.4282162419979948,
          0.4285109433478077,
          0.42880564469762067,
          0.4291003460474336,
          0.4293950473972465,
          0.42968974874705945,
          0.42998445009687236,
          0.43027915144668527,
          0.43057385279649824,
          0.43086855414631114,
          0.43116325549612405,
          0.431457956845937,
          0.4317526581957499,
          0.43204735954556284,
          0.4323420608953758,
          0.4326367622451887,
          0.4329314635950016,
          0.4332261649448146,
          0.4335208662946275,
          0.4338155676444404,
          0.43411026899425337,
          0.4344049703440663,
          0.4346996716938792,
          0.43499437304369215,
          0.43528907439350506,
          0.43558377574331797,
          0.43587847709313093,
          0.43617317844294384,
          0.43646787979275675,
          0.4367625811425697,
          0.4370572824923826,
          0.43735198384219554,
          0.4376466851920085,
          0.4379413865418214,
          0.4382360878916343,
          0.4385307892414473,
          0.4388254905912602,
          0.4391201919410731,
          0.43941489329088607,
          0.439709594640699,
          0.4400042959905119,
          0.44029899734032485,
          0.44059369869013776,
          0.44088840003995067,
          0.44118310138976363,
          0.44147780273957654,
          0.44177250408938945,
          0.4420672054392024,
          0.4423619067890153,
          0.44265660813882823,
          0.4429513094886412,
          0.4432460108384541,
          0.443540712188267,
          0.44383541353808,
          0.4441301148878929
         ],
         "y": [
          0.02127659574468085,
          0.02127659574468085,
          0.0425531914893617,
          0.06382978723404255,
          0.06382978723404255,
          0.0851063829787234,
          0.0851063829787234,
          0.0851063829787234,
          0.1276595744680851,
          0.14893617021276595,
          0.1702127659574468,
          0.1702127659574468,
          0.1702127659574468,
          0.2127659574468085,
          0.2553191489361702,
          0.3191489361702128,
          0.3404255319148936,
          0.3617021276595745,
          0.3617021276595745,
          0.40425531914893614,
          0.46808510638297873,
          0.48936170212765956,
          0.5319148936170213,
          0.6382978723404256,
          0.6595744680851063,
          0.6595744680851063,
          0.6595744680851063,
          0.6595744680851063,
          0.6808510638297872,
          0.723404255319149,
          0.7446808510638298,
          0.7446808510638298,
          0.8085106382978723,
          0.8085106382978723,
          0.8297872340425532,
          0.8297872340425532,
          0.8297872340425532,
          0.8297872340425532,
          0.8297872340425532,
          0.8723404255319149,
          0.8723404255319149,
          0.8723404255319149,
          0.8723404255319149,
          0.8723404255319149,
          0.8723404255319149,
          0.8723404255319149,
          0.8723404255319149,
          0.8723404255319149,
          0.8723404255319149,
          0.8723404255319149,
          0.8936170212765957,
          0.9148936170212766,
          0.9148936170212766,
          0.9361702127659575,
          0.9361702127659575,
          0.9361702127659575,
          0.9361702127659575,
          0.9361702127659575,
          0.9361702127659575,
          0.9361702127659575,
          0.9361702127659575,
          0.9361702127659575,
          0.9361702127659575,
          0.9361702127659575,
          0.9361702127659575,
          0.9361702127659575,
          0.9361702127659575,
          0.9361702127659575,
          0.9361702127659575,
          0.9361702127659575,
          0.9361702127659575,
          0.9361702127659575,
          0.9361702127659575,
          0.9361702127659575,
          0.9574468085106383,
          0.9574468085106383,
          0.9574468085106383,
          0.9574468085106383,
          0.9574468085106383,
          0.9574468085106383,
          0.9574468085106383,
          0.9574468085106383,
          0.9574468085106383,
          0.9574468085106383,
          0.9574468085106383,
          0.9574468085106383,
          0.9574468085106383,
          0.9574468085106383,
          0.9574468085106383,
          0.9574468085106383,
          0.9574468085106383,
          0.9574468085106383,
          0.9574468085106383,
          0.9574468085106383,
          0.9574468085106383,
          0.9574468085106383,
          0.9574468085106383,
          0.9787234042553191,
          0.9787234042553191,
          1
         ]
        }
       ],
       "layout": {
        "template": {
         "data": {
          "bar": [
           {
            "error_x": {
             "color": "#2a3f5f"
            },
            "error_y": {
             "color": "#2a3f5f"
            },
            "marker": {
             "line": {
              "color": "#E5ECF6",
              "width": 0.5
             },
             "pattern": {
              "fillmode": "overlay",
              "size": 10,
              "solidity": 0.2
             }
            },
            "type": "bar"
           }
          ],
          "barpolar": [
           {
            "marker": {
             "line": {
              "color": "#E5ECF6",
              "width": 0.5
             },
             "pattern": {
              "fillmode": "overlay",
              "size": 10,
              "solidity": 0.2
             }
            },
            "type": "barpolar"
           }
          ],
          "carpet": [
           {
            "aaxis": {
             "endlinecolor": "#2a3f5f",
             "gridcolor": "white",
             "linecolor": "white",
             "minorgridcolor": "white",
             "startlinecolor": "#2a3f5f"
            },
            "baxis": {
             "endlinecolor": "#2a3f5f",
             "gridcolor": "white",
             "linecolor": "white",
             "minorgridcolor": "white",
             "startlinecolor": "#2a3f5f"
            },
            "type": "carpet"
           }
          ],
          "choropleth": [
           {
            "colorbar": {
             "outlinewidth": 0,
             "ticks": ""
            },
            "type": "choropleth"
           }
          ],
          "contour": [
           {
            "colorbar": {
             "outlinewidth": 0,
             "ticks": ""
            },
            "colorscale": [
             [
              0,
              "#0d0887"
             ],
             [
              0.1111111111111111,
              "#46039f"
             ],
             [
              0.2222222222222222,
              "#7201a8"
             ],
             [
              0.3333333333333333,
              "#9c179e"
             ],
             [
              0.4444444444444444,
              "#bd3786"
             ],
             [
              0.5555555555555556,
              "#d8576b"
             ],
             [
              0.6666666666666666,
              "#ed7953"
             ],
             [
              0.7777777777777778,
              "#fb9f3a"
             ],
             [
              0.8888888888888888,
              "#fdca26"
             ],
             [
              1,
              "#f0f921"
             ]
            ],
            "type": "contour"
           }
          ],
          "contourcarpet": [
           {
            "colorbar": {
             "outlinewidth": 0,
             "ticks": ""
            },
            "type": "contourcarpet"
           }
          ],
          "heatmap": [
           {
            "colorbar": {
             "outlinewidth": 0,
             "ticks": ""
            },
            "colorscale": [
             [
              0,
              "#0d0887"
             ],
             [
              0.1111111111111111,
              "#46039f"
             ],
             [
              0.2222222222222222,
              "#7201a8"
             ],
             [
              0.3333333333333333,
              "#9c179e"
             ],
             [
              0.4444444444444444,
              "#bd3786"
             ],
             [
              0.5555555555555556,
              "#d8576b"
             ],
             [
              0.6666666666666666,
              "#ed7953"
             ],
             [
              0.7777777777777778,
              "#fb9f3a"
             ],
             [
              0.8888888888888888,
              "#fdca26"
             ],
             [
              1,
              "#f0f921"
             ]
            ],
            "type": "heatmap"
           }
          ],
          "heatmapgl": [
           {
            "colorbar": {
             "outlinewidth": 0,
             "ticks": ""
            },
            "colorscale": [
             [
              0,
              "#0d0887"
             ],
             [
              0.1111111111111111,
              "#46039f"
             ],
             [
              0.2222222222222222,
              "#7201a8"
             ],
             [
              0.3333333333333333,
              "#9c179e"
             ],
             [
              0.4444444444444444,
              "#bd3786"
             ],
             [
              0.5555555555555556,
              "#d8576b"
             ],
             [
              0.6666666666666666,
              "#ed7953"
             ],
             [
              0.7777777777777778,
              "#fb9f3a"
             ],
             [
              0.8888888888888888,
              "#fdca26"
             ],
             [
              1,
              "#f0f921"
             ]
            ],
            "type": "heatmapgl"
           }
          ],
          "histogram": [
           {
            "marker": {
             "pattern": {
              "fillmode": "overlay",
              "size": 10,
              "solidity": 0.2
             }
            },
            "type": "histogram"
           }
          ],
          "histogram2d": [
           {
            "colorbar": {
             "outlinewidth": 0,
             "ticks": ""
            },
            "colorscale": [
             [
              0,
              "#0d0887"
             ],
             [
              0.1111111111111111,
              "#46039f"
             ],
             [
              0.2222222222222222,
              "#7201a8"
             ],
             [
              0.3333333333333333,
              "#9c179e"
             ],
             [
              0.4444444444444444,
              "#bd3786"
             ],
             [
              0.5555555555555556,
              "#d8576b"
             ],
             [
              0.6666666666666666,
              "#ed7953"
             ],
             [
              0.7777777777777778,
              "#fb9f3a"
             ],
             [
              0.8888888888888888,
              "#fdca26"
             ],
             [
              1,
              "#f0f921"
             ]
            ],
            "type": "histogram2d"
           }
          ],
          "histogram2dcontour": [
           {
            "colorbar": {
             "outlinewidth": 0,
             "ticks": ""
            },
            "colorscale": [
             [
              0,
              "#0d0887"
             ],
             [
              0.1111111111111111,
              "#46039f"
             ],
             [
              0.2222222222222222,
              "#7201a8"
             ],
             [
              0.3333333333333333,
              "#9c179e"
             ],
             [
              0.4444444444444444,
              "#bd3786"
             ],
             [
              0.5555555555555556,
              "#d8576b"
             ],
             [
              0.6666666666666666,
              "#ed7953"
             ],
             [
              0.7777777777777778,
              "#fb9f3a"
             ],
             [
              0.8888888888888888,
              "#fdca26"
             ],
             [
              1,
              "#f0f921"
             ]
            ],
            "type": "histogram2dcontour"
           }
          ],
          "mesh3d": [
           {
            "colorbar": {
             "outlinewidth": 0,
             "ticks": ""
            },
            "type": "mesh3d"
           }
          ],
          "parcoords": [
           {
            "line": {
             "colorbar": {
              "outlinewidth": 0,
              "ticks": ""
             }
            },
            "type": "parcoords"
           }
          ],
          "pie": [
           {
            "automargin": true,
            "type": "pie"
           }
          ],
          "scatter": [
           {
            "fillpattern": {
             "fillmode": "overlay",
             "size": 10,
             "solidity": 0.2
            },
            "type": "scatter"
           }
          ],
          "scatter3d": [
           {
            "line": {
             "colorbar": {
              "outlinewidth": 0,
              "ticks": ""
             }
            },
            "marker": {
             "colorbar": {
              "outlinewidth": 0,
              "ticks": ""
             }
            },
            "type": "scatter3d"
           }
          ],
          "scattercarpet": [
           {
            "marker": {
             "colorbar": {
              "outlinewidth": 0,
              "ticks": ""
             }
            },
            "type": "scattercarpet"
           }
          ],
          "scattergeo": [
           {
            "marker": {
             "colorbar": {
              "outlinewidth": 0,
              "ticks": ""
             }
            },
            "type": "scattergeo"
           }
          ],
          "scattergl": [
           {
            "marker": {
             "colorbar": {
              "outlinewidth": 0,
              "ticks": ""
             }
            },
            "type": "scattergl"
           }
          ],
          "scattermapbox": [
           {
            "marker": {
             "colorbar": {
              "outlinewidth": 0,
              "ticks": ""
             }
            },
            "type": "scattermapbox"
           }
          ],
          "scatterpolar": [
           {
            "marker": {
             "colorbar": {
              "outlinewidth": 0,
              "ticks": ""
             }
            },
            "type": "scatterpolar"
           }
          ],
          "scatterpolargl": [
           {
            "marker": {
             "colorbar": {
              "outlinewidth": 0,
              "ticks": ""
             }
            },
            "type": "scatterpolargl"
           }
          ],
          "scatterternary": [
           {
            "marker": {
             "colorbar": {
              "outlinewidth": 0,
              "ticks": ""
             }
            },
            "type": "scatterternary"
           }
          ],
          "surface": [
           {
            "colorbar": {
             "outlinewidth": 0,
             "ticks": ""
            },
            "colorscale": [
             [
              0,
              "#0d0887"
             ],
             [
              0.1111111111111111,
              "#46039f"
             ],
             [
              0.2222222222222222,
              "#7201a8"
             ],
             [
              0.3333333333333333,
              "#9c179e"
             ],
             [
              0.4444444444444444,
              "#bd3786"
             ],
             [
              0.5555555555555556,
              "#d8576b"
             ],
             [
              0.6666666666666666,
              "#ed7953"
             ],
             [
              0.7777777777777778,
              "#fb9f3a"
             ],
             [
              0.8888888888888888,
              "#fdca26"
             ],
             [
              1,
              "#f0f921"
             ]
            ],
            "type": "surface"
           }
          ],
          "table": [
           {
            "cells": {
             "fill": {
              "color": "#EBF0F8"
             },
             "line": {
              "color": "white"
             }
            },
            "header": {
             "fill": {
              "color": "#C8D4E3"
             },
             "line": {
              "color": "white"
             }
            },
            "type": "table"
           }
          ]
         },
         "layout": {
          "annotationdefaults": {
           "arrowcolor": "#2a3f5f",
           "arrowhead": 0,
           "arrowwidth": 1
          },
          "autotypenumbers": "strict",
          "coloraxis": {
           "colorbar": {
            "outlinewidth": 0,
            "ticks": ""
           }
          },
          "colorscale": {
           "diverging": [
            [
             0,
             "#8e0152"
            ],
            [
             0.1,
             "#c51b7d"
            ],
            [
             0.2,
             "#de77ae"
            ],
            [
             0.3,
             "#f1b6da"
            ],
            [
             0.4,
             "#fde0ef"
            ],
            [
             0.5,
             "#f7f7f7"
            ],
            [
             0.6,
             "#e6f5d0"
            ],
            [
             0.7,
             "#b8e186"
            ],
            [
             0.8,
             "#7fbc41"
            ],
            [
             0.9,
             "#4d9221"
            ],
            [
             1,
             "#276419"
            ]
           ],
           "sequential": [
            [
             0,
             "#0d0887"
            ],
            [
             0.1111111111111111,
             "#46039f"
            ],
            [
             0.2222222222222222,
             "#7201a8"
            ],
            [
             0.3333333333333333,
             "#9c179e"
            ],
            [
             0.4444444444444444,
             "#bd3786"
            ],
            [
             0.5555555555555556,
             "#d8576b"
            ],
            [
             0.6666666666666666,
             "#ed7953"
            ],
            [
             0.7777777777777778,
             "#fb9f3a"
            ],
            [
             0.8888888888888888,
             "#fdca26"
            ],
            [
             1,
             "#f0f921"
            ]
           ],
           "sequentialminus": [
            [
             0,
             "#0d0887"
            ],
            [
             0.1111111111111111,
             "#46039f"
            ],
            [
             0.2222222222222222,
             "#7201a8"
            ],
            [
             0.3333333333333333,
             "#9c179e"
            ],
            [
             0.4444444444444444,
             "#bd3786"
            ],
            [
             0.5555555555555556,
             "#d8576b"
            ],
            [
             0.6666666666666666,
             "#ed7953"
            ],
            [
             0.7777777777777778,
             "#fb9f3a"
            ],
            [
             0.8888888888888888,
             "#fdca26"
            ],
            [
             1,
             "#f0f921"
            ]
           ]
          },
          "colorway": [
           "#636efa",
           "#EF553B",
           "#00cc96",
           "#ab63fa",
           "#FFA15A",
           "#19d3f3",
           "#FF6692",
           "#B6E880",
           "#FF97FF",
           "#FECB52"
          ],
          "font": {
           "color": "#2a3f5f"
          },
          "geo": {
           "bgcolor": "white",
           "lakecolor": "white",
           "landcolor": "#E5ECF6",
           "showlakes": true,
           "showland": true,
           "subunitcolor": "white"
          },
          "hoverlabel": {
           "align": "left"
          },
          "hovermode": "closest",
          "mapbox": {
           "style": "light"
          },
          "paper_bgcolor": "white",
          "plot_bgcolor": "#E5ECF6",
          "polar": {
           "angularaxis": {
            "gridcolor": "white",
            "linecolor": "white",
            "ticks": ""
           },
           "bgcolor": "#E5ECF6",
           "radialaxis": {
            "gridcolor": "white",
            "linecolor": "white",
            "ticks": ""
           }
          },
          "scene": {
           "xaxis": {
            "backgroundcolor": "#E5ECF6",
            "gridcolor": "white",
            "gridwidth": 2,
            "linecolor": "white",
            "showbackground": true,
            "ticks": "",
            "zerolinecolor": "white"
           },
           "yaxis": {
            "backgroundcolor": "#E5ECF6",
            "gridcolor": "white",
            "gridwidth": 2,
            "linecolor": "white",
            "showbackground": true,
            "ticks": "",
            "zerolinecolor": "white"
           },
           "zaxis": {
            "backgroundcolor": "#E5ECF6",
            "gridcolor": "white",
            "gridwidth": 2,
            "linecolor": "white",
            "showbackground": true,
            "ticks": "",
            "zerolinecolor": "white"
           }
          },
          "shapedefaults": {
           "line": {
            "color": "#2a3f5f"
           }
          },
          "ternary": {
           "aaxis": {
            "gridcolor": "white",
            "linecolor": "white",
            "ticks": ""
           },
           "baxis": {
            "gridcolor": "white",
            "linecolor": "white",
            "ticks": ""
           },
           "bgcolor": "#E5ECF6",
           "caxis": {
            "gridcolor": "white",
            "linecolor": "white",
            "ticks": ""
           }
          },
          "title": {
           "x": 0.05
          },
          "xaxis": {
           "automargin": true,
           "gridcolor": "white",
           "linecolor": "white",
           "ticks": "",
           "title": {
            "standoff": 15
           },
           "zerolinecolor": "white",
           "zerolinewidth": 2
          },
          "yaxis": {
           "automargin": true,
           "gridcolor": "white",
           "linecolor": "white",
           "ticks": "",
           "title": {
            "standoff": 15
           },
           "zerolinecolor": "white",
           "zerolinewidth": 2
          }
         }
        },
        "title": {
         "text": "Empirical Distribution Function Plot"
        },
        "xaxis": {
         "title": {
          "text": "Objective Value"
         }
        },
        "yaxis": {
         "range": [
          0,
          1
         ],
         "title": {
          "text": "Cumulative Probability"
         }
        }
       }
      }
     },
     "metadata": {},
     "output_type": "display_data"
    }
   ],
   "source": [
    "plot_edf(study)"
   ]
  },
  {
   "cell_type": "code",
   "execution_count": 19,
   "metadata": {},
   "outputs": [
    {
     "data": {
      "application/vnd.plotly.v1+json": {
       "config": {
        "plotlyServerURL": "https://plot.ly"
       },
       "data": [
        {
         "dimensions": [
          {
           "label": "Objective Value",
           "range": [
            0.41495468125641305,
            0.4441301148878929
           ],
           "values": [
            0.4162300302182152,
            0.4215029269908969,
            0.436478751533768,
            0.4441301148878929,
            0.4298019003516651,
            0.41937016224918433,
            0.4263666539989322,
            0.41861344590578026,
            0.4229170871200116,
            0.41705581779626527,
            0.41929581753919304,
            0.41526052602508806,
            0.4209020192581316,
            0.4189077928084293,
            0.4190592992727427,
            0.41779557310863763,
            0.4305638730769578,
            0.426228413514647,
            0.42058231562192544,
            0.42424172872296745,
            0.4204794887273844,
            0.4247093579687544,
            0.42177673574945335,
            0.42339236845946077,
            0.42948096816583975,
            0.4157003357532832,
            0.42067947558550495,
            0.4215857808657299,
            0.41942936874200837,
            0.41495468125641305,
            0.41754507480099284,
            0.4187478611376087,
            0.4198493718459824,
            0.4171959440658004,
            0.4216386463763964,
            0.4192290413347366,
            0.42323011873676686,
            0.4242732492572619,
            0.4241131380401577,
            0.4215938989665875,
            0.44337222023168193,
            0.42132534734448807,
            0.42157329826060524,
            0.4207729529646709,
            0.4202764993100125,
            0.42137652491225835,
            0.4236129629905407
           ]
          },
          {
           "label": "K",
           "range": [
            1,
            4
           ],
           "values": [
            1,
            3,
            3,
            2,
            4,
            4,
            3,
            2,
            1,
            3,
            1,
            2,
            1,
            2,
            1,
            2,
            1,
            2,
            1,
            2,
            1,
            3,
            3,
            4,
            3,
            2,
            2,
            2,
            2,
            1,
            1,
            1,
            1,
            2,
            2,
            1,
            2,
            1,
            4,
            2,
            1,
            3,
            3,
            3,
            3,
            3,
            4
           ]
          },
          {
           "label": "batch_size",
           "range": [
            128,
            512
           ],
           "values": [
            512,
            384,
            128,
            512,
            512,
            128,
            128,
            512,
            384,
            256,
            384,
            256,
            256,
            256,
            384,
            256,
            512,
            384,
            256,
            128,
            512,
            256,
            256,
            256,
            384,
            256,
            128,
            384,
            256,
            384,
            384,
            512,
            384,
            256,
            512,
            384,
            128,
            512,
            256,
            128,
            512,
            256,
            256,
            256,
            256,
            384,
            256
           ]
          },
          {
           "label": "cha_hidden",
           "range": [
            32,
            128
           ],
           "values": [
            32,
            112,
            48,
            112,
            112,
            128,
            112,
            64,
            128,
            112,
            32,
            80,
            80,
            32,
            80,
            64,
            48,
            96,
            64,
            48,
            96,
            96,
            80,
            32,
            96,
            128,
            128,
            80,
            48,
            64,
            64,
            80,
            48,
            64,
            96,
            32,
            80,
            64,
            112,
            128,
            48,
            112,
            128,
            128,
            112,
            112,
            128
           ]
          },
          {
           "label": "cha_input",
           "range": [
            32,
            128
           ],
           "values": [
            64,
            128,
            96,
            32,
            32,
            64,
            112,
            96,
            96,
            128,
            64,
            64,
            64,
            48,
            80,
            48,
            80,
            48,
            64,
            80,
            48,
            128,
            112,
            80,
            112,
            64,
            64,
            48,
            80,
            64,
            32,
            64,
            64,
            48,
            80,
            64,
            32,
            64,
            96,
            80,
            48,
            128,
            64,
            96,
            64,
            80,
            48
           ]
          },
          {
           "label": "div_factor",
           "range": [
            1,
            100
           ],
           "values": [
            97,
            10,
            44,
            44,
            36,
            97,
            44,
            35,
            74,
            80,
            70,
            100,
            100,
            86,
            67,
            89,
            60,
            3,
            89,
            59,
            94,
            80,
            80,
            100,
            80,
            86,
            90,
            93,
            61,
            18,
            20,
            26,
            22,
            53,
            14,
            34,
            84,
            1,
            95,
            74,
            49,
            97,
            84,
            100,
            75,
            66,
            91
           ]
          },
          {
           "label": "dropout_hidden",
           "range": [
            0,
            0.3
           ],
           "values": [
            0.25,
            0.1,
            0.05,
            0.25,
            0.3,
            0.3,
            0.15000000000000002,
            0.05,
            0.1,
            0.25,
            0.15000000000000002,
            0.2,
            0.2,
            0.2,
            0.2,
            0.25,
            0,
            0.25,
            0.2,
            0.3,
            0.15000000000000002,
            0.25,
            0.25,
            0.2,
            0.3,
            0.25,
            0.2,
            0.25,
            0.3,
            0.1,
            0.1,
            0.05,
            0.1,
            0.15000000000000002,
            0,
            0.2,
            0.15000000000000002,
            0.05,
            0.25,
            0.1,
            0.3,
            0.25,
            0.25,
            0.2,
            0.25,
            0.3,
            0.2
           ]
          },
          {
           "label": "dropout_input",
           "range": [
            0,
            0.3
           ],
           "values": [
            0.3,
            0.2,
            0.05,
            0.2,
            0,
            0.15000000000000002,
            0.1,
            0.2,
            0.25,
            0.15000000000000002,
            0.3,
            0.3,
            0.3,
            0.3,
            0.25,
            0.25,
            0.3,
            0.25,
            0.1,
            0.2,
            0.3,
            0.15000000000000002,
            0.1,
            0,
            0.05,
            0.25,
            0.25,
            0.3,
            0.25,
            0.2,
            0.2,
            0.2,
            0.25,
            0.3,
            0.25,
            0.2,
            0.3,
            0.25,
            0.2,
            0.15000000000000002,
            0.3,
            0.15000000000000002,
            0.15000000000000002,
            0.1,
            0.2,
            0.25,
            0.2
           ]
          },
          {
           "label": "dropout_output",
           "range": [
            0,
            0.3
           ],
           "values": [
            0.1,
            0.15000000000000002,
            0,
            0.1,
            0.2,
            0.15000000000000002,
            0.05,
            0,
            0.2,
            0.1,
            0.3,
            0.1,
            0.1,
            0.05,
            0.25,
            0.05,
            0.2,
            0.1,
            0.15000000000000002,
            0.05,
            0,
            0.1,
            0.1,
            0.15000000000000002,
            0.1,
            0.05,
            0.05,
            0.05,
            0,
            0.15000000000000002,
            0.2,
            0.15000000000000002,
            0.15000000000000002,
            0.1,
            0.05,
            0.25,
            0.15000000000000002,
            0.1,
            0,
            0.2,
            0.1,
            0.1,
            0.05,
            0.1,
            0.15000000000000002,
            0.05,
            0.15000000000000002
           ]
          },
          {
           "label": "embedding_dropout",
           "range": [
            0,
            0.3
           ],
           "values": [
            0,
            0.25,
            0.25,
            0.15000000000000002,
            0.2,
            0.05,
            0.2,
            0.2,
            0.15000000000000002,
            0.2,
            0,
            0.05,
            0.05,
            0,
            0.05,
            0.1,
            0,
            0.1,
            0.1,
            0.3,
            0.05,
            0,
            0.1,
            0.25,
            0.15000000000000002,
            0.05,
            0.05,
            0,
            0.05,
            0.1,
            0.1,
            0.05,
            0,
            0.1,
            0.05,
            0.1,
            0.05,
            0.15000000000000002,
            0,
            0.05,
            0.15000000000000002,
            0.2,
            0.25,
            0.2,
            0.2,
            0,
            0.05
           ]
          },
          {
           "label": "final_div_factor",
           "range": [
            8,
            100
           ],
           "values": [
            77,
            43,
            90,
            73,
            47,
            17,
            58,
            96,
            48,
            73,
            8,
            75,
            81,
            63,
            27,
            82,
            65,
            99,
            32,
            82,
            71,
            74,
            56,
            89,
            68,
            88,
            88,
            78,
            93,
            38,
            36,
            40,
            56,
            27,
            100,
            86,
            51,
            43,
            62,
            18,
            77,
            73,
            94,
            83,
            51,
            66,
            77
           ]
          },
          {
           "label": "learning_rate",
           "range": [
            -3.9833106253902315,
            -2.000616822662765
           ],
           "ticktext": [
            "0.000104",
            "0.001",
            "0.00999"
           ],
           "tickvals": [
            -3.9833106253902315,
            -3,
            -2.000616822662765
           ],
           "values": [
            -3.257983239396901,
            -3.1580857851213584,
            -2.644993176268717,
            -2.1150134473191007,
            -3.3082096222200876,
            -3.5740312153029956,
            -2.5522590188184515,
            -2.349901254199582,
            -3.2768142000826823,
            -3.382845546343679,
            -3.979598705001714,
            -3.672770540181303,
            -3.800009407284206,
            -3.0072151089401884,
            -3.6490837163043697,
            -2.886935152001769,
            -3.5600973208951165,
            -3.9833106253902315,
            -2.8487314597907534,
            -3.759408052262758,
            -3.085631411698423,
            -3.400474733409524,
            -3.4810354430193655,
            -3.25995259838684,
            -3.7631448191761745,
            -3.4151703773471773,
            -3.1619765383428438,
            -3.6626480976347744,
            -2.8850433467533563,
            -3.175343041450228,
            -3.465777986362283,
            -3.1649436827627824,
            -3.0595801512452585,
            -3.2819545429861514,
            -2.628657183517705,
            -3.509193050364679,
            -3.8600816894370045,
            -2.7668672433983152,
            -3.3576116201761605,
            -3.6388441369700155,
            -2.000616822662765,
            -3.4137333144598814,
            -3.154603270338189,
            -3.2153052719748465,
            -3.3292905269849205,
            -3.5805638750694344,
            -3.8626476049961873
           ]
          },
          {
           "label": "max_epochs",
           "range": [
            20,
            100
           ],
           "values": [
            95,
            75,
            75,
            95,
            95,
            40,
            30,
            75,
            35,
            90,
            50,
            100,
            100,
            85,
            60,
            85,
            20,
            65,
            100,
            80,
            65,
            90,
            90,
            95,
            100,
            85,
            80,
            85,
            65,
            50,
            50,
            50,
            55,
            70,
            40,
            95,
            75,
            100,
            95,
            45,
            30,
            90,
            90,
            80,
            95,
            85,
            55
           ]
          },
          {
           "label": "pct_start",
           "range": [
            0.01,
            0.09999999999999999
           ],
           "values": [
            0.03,
            0.09,
            0.04,
            0.04,
            0.09,
            0.060000000000000005,
            0.06999999999999999,
            0.04,
            0.08,
            0.04,
            0.02,
            0.01,
            0.01,
            0.02,
            0.01,
            0.03,
            0.02,
            0.05,
            0.01,
            0.03,
            0.03,
            0.05,
            0.060000000000000005,
            0.03,
            0.02,
            0.04,
            0.01,
            0.05,
            0.02,
            0.09999999999999999,
            0.09999999999999999,
            0.09999999999999999,
            0.06999999999999999,
            0.04,
            0.09,
            0.060000000000000005,
            0.08,
            0.03,
            0.04,
            0.06999999999999999,
            0.08,
            0.04,
            0.04,
            0.05,
            0.03,
            0.04,
            0.02
           ]
          },
          {
           "label": "sign_size",
           "range": [
            8,
            32
           ],
           "values": [
            16,
            24,
            16,
            32,
            24,
            8,
            24,
            16,
            8,
            24,
            32,
            16,
            16,
            8,
            16,
            16,
            8,
            16,
            24,
            8,
            16,
            24,
            32,
            24,
            16,
            24,
            16,
            24,
            32,
            16,
            24,
            16,
            16,
            16,
            16,
            8,
            24,
            16,
            16,
            24,
            8,
            24,
            24,
            24,
            32,
            16,
            24
           ]
          },
          {
           "label": "weight_decay",
           "range": [
            -4.895056862346629,
            -2.0621417259284205
           ],
           "ticktext": [
            "1.27e-05",
            "0.0001",
            "0.001",
            "0.00867"
           ],
           "tickvals": [
            -4.895056862346629,
            -4,
            -3,
            -2.0621417259284205
           ],
           "values": [
            -3.782889020370564,
            -4.895056862346629,
            -2.6692103040145394,
            -2.3842632754055275,
            -2.0621417259284205,
            -3.05102871274759,
            -3.400642922266039,
            -3.984858690127019,
            -4.771816654104771,
            -3.0519208884091937,
            -4.1515419063881165,
            -3.7578076742973847,
            -4.001557821642504,
            -3.628420843596273,
            -4.366188818947476,
            -3.6331135636086644,
            -4.3706182479083076,
            -3.2835010821275668,
            -3.756912698399716,
            -4.48694050062213,
            -3.059837571859695,
            -2.856998538005562,
            -3.241812848075674,
            -3.8224326913495705,
            -2.6826705627463747,
            -3.479016413744882,
            -3.47879431268478,
            -4.096178348033367,
            -3.754203667370355,
            -3.50959968266385,
            -3.3036509686028794,
            -3.8685514804089167,
            -3.552297503354904,
            -4.270060803819543,
            -3.496277082187487,
            -4.687977060981025,
            -2.477351126524202,
            -3.1350386603179,
            -2.828979867303641,
            -3.9332389765865226,
            -2.155345782608342,
            -2.968366946605352,
            -3.3125806335821832,
            -3.6819974688207258,
            -3.4446554695976976,
            -3.150458207130843,
            -3.583518987398956
           ]
          }
         ],
         "labelangle": 30,
         "labelside": "bottom",
         "line": {
          "color": [
           0.4162300302182152,
           0.4215029269908969,
           0.436478751533768,
           0.4441301148878929,
           0.4298019003516651,
           0.41937016224918433,
           0.4263666539989322,
           0.41861344590578026,
           0.4229170871200116,
           0.41705581779626527,
           0.41929581753919304,
           0.41526052602508806,
           0.4209020192581316,
           0.4189077928084293,
           0.4190592992727427,
           0.41779557310863763,
           0.4305638730769578,
           0.426228413514647,
           0.42058231562192544,
           0.42424172872296745,
           0.4204794887273844,
           0.4247093579687544,
           0.42177673574945335,
           0.42339236845946077,
           0.42948096816583975,
           0.4157003357532832,
           0.42067947558550495,
           0.4215857808657299,
           0.41942936874200837,
           0.41495468125641305,
           0.41754507480099284,
           0.4187478611376087,
           0.4198493718459824,
           0.4171959440658004,
           0.4216386463763964,
           0.4192290413347366,
           0.42323011873676686,
           0.4242732492572619,
           0.4241131380401577,
           0.4215938989665875,
           0.44337222023168193,
           0.42132534734448807,
           0.42157329826060524,
           0.4207729529646709,
           0.4202764993100125,
           0.42137652491225835,
           0.4236129629905407
          ],
          "colorbar": {
           "title": {
            "text": "Objective Value"
           }
          },
          "colorscale": [
           [
            0,
            "rgb(247,251,255)"
           ],
           [
            0.125,
            "rgb(222,235,247)"
           ],
           [
            0.25,
            "rgb(198,219,239)"
           ],
           [
            0.375,
            "rgb(158,202,225)"
           ],
           [
            0.5,
            "rgb(107,174,214)"
           ],
           [
            0.625,
            "rgb(66,146,198)"
           ],
           [
            0.75,
            "rgb(33,113,181)"
           ],
           [
            0.875,
            "rgb(8,81,156)"
           ],
           [
            1,
            "rgb(8,48,107)"
           ]
          ],
          "reversescale": true,
          "showscale": true
         },
         "type": "parcoords"
        }
       ],
       "layout": {
        "template": {
         "data": {
          "bar": [
           {
            "error_x": {
             "color": "#2a3f5f"
            },
            "error_y": {
             "color": "#2a3f5f"
            },
            "marker": {
             "line": {
              "color": "#E5ECF6",
              "width": 0.5
             },
             "pattern": {
              "fillmode": "overlay",
              "size": 10,
              "solidity": 0.2
             }
            },
            "type": "bar"
           }
          ],
          "barpolar": [
           {
            "marker": {
             "line": {
              "color": "#E5ECF6",
              "width": 0.5
             },
             "pattern": {
              "fillmode": "overlay",
              "size": 10,
              "solidity": 0.2
             }
            },
            "type": "barpolar"
           }
          ],
          "carpet": [
           {
            "aaxis": {
             "endlinecolor": "#2a3f5f",
             "gridcolor": "white",
             "linecolor": "white",
             "minorgridcolor": "white",
             "startlinecolor": "#2a3f5f"
            },
            "baxis": {
             "endlinecolor": "#2a3f5f",
             "gridcolor": "white",
             "linecolor": "white",
             "minorgridcolor": "white",
             "startlinecolor": "#2a3f5f"
            },
            "type": "carpet"
           }
          ],
          "choropleth": [
           {
            "colorbar": {
             "outlinewidth": 0,
             "ticks": ""
            },
            "type": "choropleth"
           }
          ],
          "contour": [
           {
            "colorbar": {
             "outlinewidth": 0,
             "ticks": ""
            },
            "colorscale": [
             [
              0,
              "#0d0887"
             ],
             [
              0.1111111111111111,
              "#46039f"
             ],
             [
              0.2222222222222222,
              "#7201a8"
             ],
             [
              0.3333333333333333,
              "#9c179e"
             ],
             [
              0.4444444444444444,
              "#bd3786"
             ],
             [
              0.5555555555555556,
              "#d8576b"
             ],
             [
              0.6666666666666666,
              "#ed7953"
             ],
             [
              0.7777777777777778,
              "#fb9f3a"
             ],
             [
              0.8888888888888888,
              "#fdca26"
             ],
             [
              1,
              "#f0f921"
             ]
            ],
            "type": "contour"
           }
          ],
          "contourcarpet": [
           {
            "colorbar": {
             "outlinewidth": 0,
             "ticks": ""
            },
            "type": "contourcarpet"
           }
          ],
          "heatmap": [
           {
            "colorbar": {
             "outlinewidth": 0,
             "ticks": ""
            },
            "colorscale": [
             [
              0,
              "#0d0887"
             ],
             [
              0.1111111111111111,
              "#46039f"
             ],
             [
              0.2222222222222222,
              "#7201a8"
             ],
             [
              0.3333333333333333,
              "#9c179e"
             ],
             [
              0.4444444444444444,
              "#bd3786"
             ],
             [
              0.5555555555555556,
              "#d8576b"
             ],
             [
              0.6666666666666666,
              "#ed7953"
             ],
             [
              0.7777777777777778,
              "#fb9f3a"
             ],
             [
              0.8888888888888888,
              "#fdca26"
             ],
             [
              1,
              "#f0f921"
             ]
            ],
            "type": "heatmap"
           }
          ],
          "heatmapgl": [
           {
            "colorbar": {
             "outlinewidth": 0,
             "ticks": ""
            },
            "colorscale": [
             [
              0,
              "#0d0887"
             ],
             [
              0.1111111111111111,
              "#46039f"
             ],
             [
              0.2222222222222222,
              "#7201a8"
             ],
             [
              0.3333333333333333,
              "#9c179e"
             ],
             [
              0.4444444444444444,
              "#bd3786"
             ],
             [
              0.5555555555555556,
              "#d8576b"
             ],
             [
              0.6666666666666666,
              "#ed7953"
             ],
             [
              0.7777777777777778,
              "#fb9f3a"
             ],
             [
              0.8888888888888888,
              "#fdca26"
             ],
             [
              1,
              "#f0f921"
             ]
            ],
            "type": "heatmapgl"
           }
          ],
          "histogram": [
           {
            "marker": {
             "pattern": {
              "fillmode": "overlay",
              "size": 10,
              "solidity": 0.2
             }
            },
            "type": "histogram"
           }
          ],
          "histogram2d": [
           {
            "colorbar": {
             "outlinewidth": 0,
             "ticks": ""
            },
            "colorscale": [
             [
              0,
              "#0d0887"
             ],
             [
              0.1111111111111111,
              "#46039f"
             ],
             [
              0.2222222222222222,
              "#7201a8"
             ],
             [
              0.3333333333333333,
              "#9c179e"
             ],
             [
              0.4444444444444444,
              "#bd3786"
             ],
             [
              0.5555555555555556,
              "#d8576b"
             ],
             [
              0.6666666666666666,
              "#ed7953"
             ],
             [
              0.7777777777777778,
              "#fb9f3a"
             ],
             [
              0.8888888888888888,
              "#fdca26"
             ],
             [
              1,
              "#f0f921"
             ]
            ],
            "type": "histogram2d"
           }
          ],
          "histogram2dcontour": [
           {
            "colorbar": {
             "outlinewidth": 0,
             "ticks": ""
            },
            "colorscale": [
             [
              0,
              "#0d0887"
             ],
             [
              0.1111111111111111,
              "#46039f"
             ],
             [
              0.2222222222222222,
              "#7201a8"
             ],
             [
              0.3333333333333333,
              "#9c179e"
             ],
             [
              0.4444444444444444,
              "#bd3786"
             ],
             [
              0.5555555555555556,
              "#d8576b"
             ],
             [
              0.6666666666666666,
              "#ed7953"
             ],
             [
              0.7777777777777778,
              "#fb9f3a"
             ],
             [
              0.8888888888888888,
              "#fdca26"
             ],
             [
              1,
              "#f0f921"
             ]
            ],
            "type": "histogram2dcontour"
           }
          ],
          "mesh3d": [
           {
            "colorbar": {
             "outlinewidth": 0,
             "ticks": ""
            },
            "type": "mesh3d"
           }
          ],
          "parcoords": [
           {
            "line": {
             "colorbar": {
              "outlinewidth": 0,
              "ticks": ""
             }
            },
            "type": "parcoords"
           }
          ],
          "pie": [
           {
            "automargin": true,
            "type": "pie"
           }
          ],
          "scatter": [
           {
            "fillpattern": {
             "fillmode": "overlay",
             "size": 10,
             "solidity": 0.2
            },
            "type": "scatter"
           }
          ],
          "scatter3d": [
           {
            "line": {
             "colorbar": {
              "outlinewidth": 0,
              "ticks": ""
             }
            },
            "marker": {
             "colorbar": {
              "outlinewidth": 0,
              "ticks": ""
             }
            },
            "type": "scatter3d"
           }
          ],
          "scattercarpet": [
           {
            "marker": {
             "colorbar": {
              "outlinewidth": 0,
              "ticks": ""
             }
            },
            "type": "scattercarpet"
           }
          ],
          "scattergeo": [
           {
            "marker": {
             "colorbar": {
              "outlinewidth": 0,
              "ticks": ""
             }
            },
            "type": "scattergeo"
           }
          ],
          "scattergl": [
           {
            "marker": {
             "colorbar": {
              "outlinewidth": 0,
              "ticks": ""
             }
            },
            "type": "scattergl"
           }
          ],
          "scattermapbox": [
           {
            "marker": {
             "colorbar": {
              "outlinewidth": 0,
              "ticks": ""
             }
            },
            "type": "scattermapbox"
           }
          ],
          "scatterpolar": [
           {
            "marker": {
             "colorbar": {
              "outlinewidth": 0,
              "ticks": ""
             }
            },
            "type": "scatterpolar"
           }
          ],
          "scatterpolargl": [
           {
            "marker": {
             "colorbar": {
              "outlinewidth": 0,
              "ticks": ""
             }
            },
            "type": "scatterpolargl"
           }
          ],
          "scatterternary": [
           {
            "marker": {
             "colorbar": {
              "outlinewidth": 0,
              "ticks": ""
             }
            },
            "type": "scatterternary"
           }
          ],
          "surface": [
           {
            "colorbar": {
             "outlinewidth": 0,
             "ticks": ""
            },
            "colorscale": [
             [
              0,
              "#0d0887"
             ],
             [
              0.1111111111111111,
              "#46039f"
             ],
             [
              0.2222222222222222,
              "#7201a8"
             ],
             [
              0.3333333333333333,
              "#9c179e"
             ],
             [
              0.4444444444444444,
              "#bd3786"
             ],
             [
              0.5555555555555556,
              "#d8576b"
             ],
             [
              0.6666666666666666,
              "#ed7953"
             ],
             [
              0.7777777777777778,
              "#fb9f3a"
             ],
             [
              0.8888888888888888,
              "#fdca26"
             ],
             [
              1,
              "#f0f921"
             ]
            ],
            "type": "surface"
           }
          ],
          "table": [
           {
            "cells": {
             "fill": {
              "color": "#EBF0F8"
             },
             "line": {
              "color": "white"
             }
            },
            "header": {
             "fill": {
              "color": "#C8D4E3"
             },
             "line": {
              "color": "white"
             }
            },
            "type": "table"
           }
          ]
         },
         "layout": {
          "annotationdefaults": {
           "arrowcolor": "#2a3f5f",
           "arrowhead": 0,
           "arrowwidth": 1
          },
          "autotypenumbers": "strict",
          "coloraxis": {
           "colorbar": {
            "outlinewidth": 0,
            "ticks": ""
           }
          },
          "colorscale": {
           "diverging": [
            [
             0,
             "#8e0152"
            ],
            [
             0.1,
             "#c51b7d"
            ],
            [
             0.2,
             "#de77ae"
            ],
            [
             0.3,
             "#f1b6da"
            ],
            [
             0.4,
             "#fde0ef"
            ],
            [
             0.5,
             "#f7f7f7"
            ],
            [
             0.6,
             "#e6f5d0"
            ],
            [
             0.7,
             "#b8e186"
            ],
            [
             0.8,
             "#7fbc41"
            ],
            [
             0.9,
             "#4d9221"
            ],
            [
             1,
             "#276419"
            ]
           ],
           "sequential": [
            [
             0,
             "#0d0887"
            ],
            [
             0.1111111111111111,
             "#46039f"
            ],
            [
             0.2222222222222222,
             "#7201a8"
            ],
            [
             0.3333333333333333,
             "#9c179e"
            ],
            [
             0.4444444444444444,
             "#bd3786"
            ],
            [
             0.5555555555555556,
             "#d8576b"
            ],
            [
             0.6666666666666666,
             "#ed7953"
            ],
            [
             0.7777777777777778,
             "#fb9f3a"
            ],
            [
             0.8888888888888888,
             "#fdca26"
            ],
            [
             1,
             "#f0f921"
            ]
           ],
           "sequentialminus": [
            [
             0,
             "#0d0887"
            ],
            [
             0.1111111111111111,
             "#46039f"
            ],
            [
             0.2222222222222222,
             "#7201a8"
            ],
            [
             0.3333333333333333,
             "#9c179e"
            ],
            [
             0.4444444444444444,
             "#bd3786"
            ],
            [
             0.5555555555555556,
             "#d8576b"
            ],
            [
             0.6666666666666666,
             "#ed7953"
            ],
            [
             0.7777777777777778,
             "#fb9f3a"
            ],
            [
             0.8888888888888888,
             "#fdca26"
            ],
            [
             1,
             "#f0f921"
            ]
           ]
          },
          "colorway": [
           "#636efa",
           "#EF553B",
           "#00cc96",
           "#ab63fa",
           "#FFA15A",
           "#19d3f3",
           "#FF6692",
           "#B6E880",
           "#FF97FF",
           "#FECB52"
          ],
          "font": {
           "color": "#2a3f5f"
          },
          "geo": {
           "bgcolor": "white",
           "lakecolor": "white",
           "landcolor": "#E5ECF6",
           "showlakes": true,
           "showland": true,
           "subunitcolor": "white"
          },
          "hoverlabel": {
           "align": "left"
          },
          "hovermode": "closest",
          "mapbox": {
           "style": "light"
          },
          "paper_bgcolor": "white",
          "plot_bgcolor": "#E5ECF6",
          "polar": {
           "angularaxis": {
            "gridcolor": "white",
            "linecolor": "white",
            "ticks": ""
           },
           "bgcolor": "#E5ECF6",
           "radialaxis": {
            "gridcolor": "white",
            "linecolor": "white",
            "ticks": ""
           }
          },
          "scene": {
           "xaxis": {
            "backgroundcolor": "#E5ECF6",
            "gridcolor": "white",
            "gridwidth": 2,
            "linecolor": "white",
            "showbackground": true,
            "ticks": "",
            "zerolinecolor": "white"
           },
           "yaxis": {
            "backgroundcolor": "#E5ECF6",
            "gridcolor": "white",
            "gridwidth": 2,
            "linecolor": "white",
            "showbackground": true,
            "ticks": "",
            "zerolinecolor": "white"
           },
           "zaxis": {
            "backgroundcolor": "#E5ECF6",
            "gridcolor": "white",
            "gridwidth": 2,
            "linecolor": "white",
            "showbackground": true,
            "ticks": "",
            "zerolinecolor": "white"
           }
          },
          "shapedefaults": {
           "line": {
            "color": "#2a3f5f"
           }
          },
          "ternary": {
           "aaxis": {
            "gridcolor": "white",
            "linecolor": "white",
            "ticks": ""
           },
           "baxis": {
            "gridcolor": "white",
            "linecolor": "white",
            "ticks": ""
           },
           "bgcolor": "#E5ECF6",
           "caxis": {
            "gridcolor": "white",
            "linecolor": "white",
            "ticks": ""
           }
          },
          "title": {
           "x": 0.05
          },
          "xaxis": {
           "automargin": true,
           "gridcolor": "white",
           "linecolor": "white",
           "ticks": "",
           "title": {
            "standoff": 15
           },
           "zerolinecolor": "white",
           "zerolinewidth": 2
          },
          "yaxis": {
           "automargin": true,
           "gridcolor": "white",
           "linecolor": "white",
           "ticks": "",
           "title": {
            "standoff": 15
           },
           "zerolinecolor": "white",
           "zerolinewidth": 2
          }
         }
        },
        "title": {
         "text": "Parallel Coordinate Plot"
        }
       }
      }
     },
     "metadata": {},
     "output_type": "display_data"
    }
   ],
   "source": [
    "plot_parallel_coordinate(study)"
   ]
  },
  {
   "cell_type": "code",
   "execution_count": 20,
   "metadata": {},
   "outputs": [
    {
     "data": {
      "text/plain": [
       "{'batch_size': 384,\n",
       " 'learning_rate': 0.0006678162130913228,\n",
       " 'weight_decay': 0.00030931452710892437,\n",
       " 'pct_start': 0.09999999999999999,\n",
       " 'div_factor': 18.0,\n",
       " 'final_div_factor': 38.0,\n",
       " 'max_epochs': 50,\n",
       " 'sign_size': 16,\n",
       " 'cha_input': 64,\n",
       " 'cha_hidden': 64,\n",
       " 'K': 1,\n",
       " 'embedding_dropout': 0.1,\n",
       " 'dropout_input': 0.2,\n",
       " 'dropout_hidden': 0.1,\n",
       " 'dropout_output': 0.15000000000000002}"
      ]
     },
     "execution_count": 20,
     "metadata": {},
     "output_type": "execute_result"
    }
   ],
   "source": [
    "best_params = dict(study.best_params)\n",
    "best_params"
   ]
  },
  {
   "cell_type": "markdown",
   "metadata": {},
   "source": [
    "***"
   ]
  }
 ],
 "metadata": {
  "kernelspec": {
   "display_name": "mcts-strength-variants-kSTIVMm8-py3.10",
   "language": "python",
   "name": "python3"
  },
  "language_info": {
   "codemirror_mode": {
    "name": "ipython",
    "version": 3
   },
   "file_extension": ".py",
   "mimetype": "text/x-python",
   "name": "python",
   "nbconvert_exporter": "python",
   "pygments_lexer": "ipython3",
   "version": "3.10.14"
  }
 },
 "nbformat": 4,
 "nbformat_minor": 2
}
